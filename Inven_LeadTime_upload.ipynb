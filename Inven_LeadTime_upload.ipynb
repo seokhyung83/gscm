{
 "cells": [
  {
   "cell_type": "code",
   "execution_count": 1,
   "id": "b3aae5d6",
   "metadata": {},
   "outputs": [],
   "source": [
    "import os, random, time, pymysql\n",
    "import numpy as np\n",
    "import pandas as pd\n",
    "import matplotlib.pyplot as plt\n",
    "import datetime\n",
    "import openpyxl\n",
    "from scipy.stats import mode\n",
    "import shutil"
   ]
  },
  {
   "cell_type": "code",
   "execution_count": 2,
   "id": "a95c5779",
   "metadata": {},
   "outputs": [],
   "source": [
    "def _call_db_info(db_name):\n",
    "    return pymysql.connect(\n",
    "        host = '10.94.77.9',\n",
    "        port= 13306,\n",
    "        user = 'dxbot1',\n",
    "        password='ensol2020!',\n",
    "        db = db_name,\n",
    "        charset = 'utf8')"
   ]
  },
  {
   "cell_type": "code",
   "execution_count": 11,
   "id": "0bf753ac",
   "metadata": {},
   "outputs": [],
   "source": [
    "dir_ = 'CBEV'"
   ]
  },
  {
   "cell_type": "code",
   "execution_count": 12,
   "id": "3747e48d",
   "metadata": {},
   "outputs": [],
   "source": [
    "conn = _call_db_info('gscm_'+dir_.lower())\n",
    "curs = conn.cursor()\n",
    "curs.execute(\"select * from dt_table;\") \n",
    "dt_table = pd.DataFrame(curs.fetchall())\n",
    "conn.commit()\n",
    "conn.close()\n",
    "dt_table.columns = ['WW']    \n",
    "\n",
    "if os.path.isdir('./'+dir_+'/data1/.ipynb_checkpoints'):\n",
    "    shutil.rmtree('./'+dir_+'/data1/.ipynb_checkpoints')\n",
    "f_list = os.listdir('./'+dir_+'/data1/')\n",
    "f_list.sort()\n",
    "period_file = [i for i, v in enumerate(f_list) if 'PERIODIC' in v.split('_')]"
   ]
  },
  {
   "cell_type": "code",
   "execution_count": 13,
   "id": "353b4835",
   "metadata": {},
   "outputs": [],
   "source": [
    "for i in range(0, len(period_file)):\n",
    "    tmp_ = pd.read_csv('./'+dir_+'/data1/'+f_list[period_file[i]])\n",
    "    if i == 0 :\n",
    "        tmp=pd.merge(dt_table, tmp_, how='left', left_on='WW', right_on='YYYYWW')\n",
    "    else :\n",
    "        tmp=pd.merge(tmp, tmp_, how='left', left_on='WW', right_on='YYYYWW')\n",
    "    tmp = tmp.drop(['YYYYWW'], axis=1)\n",
    "    \n",
    "if tmp.shape[1] >2:\n",
    "    tmp1 = tmp.fillna(0)\n",
    "    tmp1[tmp1 == -999] = 0\n",
    "    tmp2 = pd.DataFrame({'WW' : tmp1['WW'],\n",
    "                         'PERIODIC_INVEN_WW': tmp1.iloc[:, 1:].sum(axis=1)})\n",
    "else:\n",
    "    tmp1 = tmp.fillna(0)\n",
    "    tmp1[tmp1 == -999] = 0    \n",
    "    tmp2 = tmp1.copy()\n",
    "tmp2 = tmp2[tmp2['PERIODIC_INVEN_WW'].notna()]    "
   ]
  },
  {
   "cell_type": "code",
   "execution_count": 14,
   "id": "c468cec7",
   "metadata": {},
   "outputs": [],
   "source": [
    "insert_lt_sql = \"insert into lt_day values (%s, %s)\"#.format(*c)\n",
    "conn = _call_db_info('gscm_'+dir_.lower())\n",
    "curs = conn.cursor()\n",
    "for i in range(0, tmp.shape[0]):\n",
    "    insert_list = tmp2.loc[i].values.tolist()\n",
    "    curs.execute(insert_lt_sql, insert_list) \n",
    "conn.commit()\n",
    "conn.close()    "
   ]
  },
  {
   "cell_type": "code",
   "execution_count": 7,
   "id": "0f718481",
   "metadata": {},
   "outputs": [
    {
     "data": {
      "text/html": [
       "<div>\n",
       "<style scoped>\n",
       "    .dataframe tbody tr th:only-of-type {\n",
       "        vertical-align: middle;\n",
       "    }\n",
       "\n",
       "    .dataframe tbody tr th {\n",
       "        vertical-align: top;\n",
       "    }\n",
       "\n",
       "    .dataframe thead th {\n",
       "        text-align: right;\n",
       "    }\n",
       "</style>\n",
       "<table border=\"1\" class=\"dataframe\">\n",
       "  <thead>\n",
       "    <tr style=\"text-align: right;\">\n",
       "      <th></th>\n",
       "      <th>WW</th>\n",
       "      <th>PERIODIC_INVEN_WW</th>\n",
       "    </tr>\n",
       "  </thead>\n",
       "  <tbody>\n",
       "    <tr>\n",
       "      <th>0</th>\n",
       "      <td>201901</td>\n",
       "      <td>0.9</td>\n",
       "    </tr>\n",
       "    <tr>\n",
       "      <th>1</th>\n",
       "      <td>201902</td>\n",
       "      <td>0.8</td>\n",
       "    </tr>\n",
       "    <tr>\n",
       "      <th>2</th>\n",
       "      <td>201903</td>\n",
       "      <td>0.0</td>\n",
       "    </tr>\n",
       "    <tr>\n",
       "      <th>3</th>\n",
       "      <td>201904</td>\n",
       "      <td>0.0</td>\n",
       "    </tr>\n",
       "    <tr>\n",
       "      <th>4</th>\n",
       "      <td>201905</td>\n",
       "      <td>1.2</td>\n",
       "    </tr>\n",
       "    <tr>\n",
       "      <th>...</th>\n",
       "      <td>...</td>\n",
       "      <td>...</td>\n",
       "    </tr>\n",
       "    <tr>\n",
       "      <th>204</th>\n",
       "      <td>202248</td>\n",
       "      <td>0.0</td>\n",
       "    </tr>\n",
       "    <tr>\n",
       "      <th>205</th>\n",
       "      <td>202249</td>\n",
       "      <td>0.0</td>\n",
       "    </tr>\n",
       "    <tr>\n",
       "      <th>206</th>\n",
       "      <td>202250</td>\n",
       "      <td>0.0</td>\n",
       "    </tr>\n",
       "    <tr>\n",
       "      <th>207</th>\n",
       "      <td>202251</td>\n",
       "      <td>0.0</td>\n",
       "    </tr>\n",
       "    <tr>\n",
       "      <th>208</th>\n",
       "      <td>202252</td>\n",
       "      <td>0.0</td>\n",
       "    </tr>\n",
       "  </tbody>\n",
       "</table>\n",
       "<p>209 rows × 2 columns</p>\n",
       "</div>"
      ],
      "text/plain": [
       "         WW  PERIODIC_INVEN_WW\n",
       "0    201901                0.9\n",
       "1    201902                0.8\n",
       "2    201903                0.0\n",
       "3    201904                0.0\n",
       "4    201905                1.2\n",
       "..      ...                ...\n",
       "204  202248                0.0\n",
       "205  202249                0.0\n",
       "206  202250                0.0\n",
       "207  202251                0.0\n",
       "208  202252                0.0\n",
       "\n",
       "[209 rows x 2 columns]"
      ]
     },
     "execution_count": 7,
     "metadata": {},
     "output_type": "execute_result"
    }
   ],
   "source": [
    "tmp2"
   ]
  },
  {
   "cell_type": "code",
   "execution_count": null,
   "id": "5415b238",
   "metadata": {},
   "outputs": [],
   "source": []
  }
 ],
 "metadata": {
  "kernelspec": {
   "display_name": "Python 3",
   "language": "python",
   "name": "python3"
  },
  "language_info": {
   "codemirror_mode": {
    "name": "ipython",
    "version": 3
   },
   "file_extension": ".py",
   "mimetype": "text/x-python",
   "name": "python",
   "nbconvert_exporter": "python",
   "pygments_lexer": "ipython3",
   "version": "3.7.10"
  }
 },
 "nbformat": 4,
 "nbformat_minor": 5
}
