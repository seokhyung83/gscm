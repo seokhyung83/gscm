{
 "cells": [
  {
   "cell_type": "code",
   "execution_count": 1,
   "id": "89d9941b",
   "metadata": {},
   "outputs": [],
   "source": [
    "import os, random, time, pymysql\n",
    "import numpy as np\n",
    "import pandas as pd\n",
    "import matplotlib.pyplot as plt\n",
    "import datetime\n",
    "import openpyxl\n",
    "from scipy.stats import mode\n",
    "import shutil"
   ]
  },
  {
   "cell_type": "code",
   "execution_count": 2,
   "id": "9ef9168b",
   "metadata": {},
   "outputs": [],
   "source": [
    "def _call_db_info(db_name):\n",
    "    return pymysql.connect(\n",
    "        host = '10.94.77.9',\n",
    "        port= 13306,\n",
    "        user = 'dxbot1',\n",
    "        password='ensol2020!',\n",
    "        db = db_name,\n",
    "        charset = 'utf8')"
   ]
  },
  {
   "cell_type": "code",
   "execution_count": 23,
   "id": "d591d946",
   "metadata": {},
   "outputs": [],
   "source": [
    "dir_ = 'CBEV'"
   ]
  },
  {
   "cell_type": "code",
   "execution_count": 24,
   "id": "71605d43",
   "metadata": {},
   "outputs": [],
   "source": [
    "conn = _call_db_info('gscm_'+dir_.lower())\n",
    "curs = conn.cursor()\n",
    "curs.execute(\"select * from dt_table;\") \n",
    "dt_table = pd.DataFrame(curs.fetchall())\n",
    "conn.commit()\n",
    "conn.close()\n",
    "dt_table.columns = ['WW']    \n",
    "\n",
    "if os.path.isdir('./'+dir_+'/data1/.ipynb_checkpoints'):\n",
    "    shutil.rmtree('./'+dir_+'/data1/.ipynb_checkpoints')\n",
    "f_list = os.listdir('./'+dir_+'/data1/')\n",
    "f_list.sort()\n",
    "period_file = [i for i, v in enumerate(f_list) if 'PERIODIC' in v.split('_')]"
   ]
  },
  {
   "cell_type": "code",
   "execution_count": 25,
   "id": "5f9cebdc",
   "metadata": {},
   "outputs": [],
   "source": [
    "for i in range(0, len(period_file)):\n",
    "    tmp_ = pd.read_csv('./'+dir_+'/data1/'+f_list[period_file[i]])\n",
    "    if i == 0 :\n",
    "        tmp=pd.merge(dt_table, tmp_, how='left', left_on='WW', right_on='YYYYWW')\n",
    "    else :\n",
    "        tmp=pd.merge(tmp, tmp_, how='left', left_on='WW', right_on='YYYYWW')\n",
    "    tmp = tmp.drop(['YYYYWW'], axis=1)\n",
    "    \n",
    "if tmp.shape[1] >2:\n",
    "    tmp1 = tmp.fillna(0)\n",
    "    tmp1[tmp1 == -999] = 0\n",
    "    tmp2 = pd.DataFrame({'WW' : tmp1['WW'],\n",
    "                         'PERIODIC_INVEN_WW': tmp1.iloc[:, 1:].sum(axis=1)})\n",
    "else:\n",
    "    tmp1 = tmp.fillna(0)\n",
    "    tmp1[tmp1 == -999] = 0    \n",
    "    tmp2 = tmp1.copy()\n",
    "tmp2 = tmp2[tmp2['PERIODIC_INVEN_WW'].notna()]    "
   ]
  },
  {
   "cell_type": "code",
   "execution_count": 27,
   "id": "14a2bc6c",
   "metadata": {},
   "outputs": [],
   "source": [
    "insert_lt_sql = \"insert into lt_day values (%s, %s)\"#.format(*c)\n",
    "conn = _call_db_info('gscm_'+dir_.lower())\n",
    "curs = conn.cursor()\n",
    "for i in range(0, tmp.shape[0]):\n",
    "    insert_list = tmp2.loc[i].values.tolist()\n",
    "    curs.execute(insert_lt_sql, insert_list) \n",
    "conn.commit()\n",
    "conn.close()    "
   ]
  },
  {
   "cell_type": "code",
   "execution_count": null,
   "id": "f731029d",
   "metadata": {},
   "outputs": [],
   "source": []
  }
 ],
 "metadata": {
  "kernelspec": {
   "display_name": "Python 3",
   "language": "python",
   "name": "python3"
  },
  "language_info": {
   "codemirror_mode": {
    "name": "ipython",
    "version": 3
   },
   "file_extension": ".py",
   "mimetype": "text/x-python",
   "name": "python",
   "nbconvert_exporter": "python",
   "pygments_lexer": "ipython3",
   "version": "3.7.10"
  }
 },
 "nbformat": 4,
 "nbformat_minor": 5
}
