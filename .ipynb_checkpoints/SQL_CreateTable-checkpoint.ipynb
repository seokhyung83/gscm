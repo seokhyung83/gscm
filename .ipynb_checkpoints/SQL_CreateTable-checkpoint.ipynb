{
 "cells": [
  {
   "cell_type": "code",
   "execution_count": 5,
   "id": "9f0db1a1",
   "metadata": {},
   "outputs": [],
   "source": [
    "import pymysql, os, copy, json, time\n",
    "import pandas as pd\n",
    "import numpy as np\n",
    "import datetime"
   ]
  },
  {
   "cell_type": "code",
   "execution_count": 6,
   "id": "f9b97ac5",
   "metadata": {},
   "outputs": [],
   "source": [
    "def _call_db_info(db_name):\n",
    "    return pymysql.connect(\n",
    "        host = '10.94.77.9',\n",
    "        port= 13306,\n",
    "        user = 'dxbot1',\n",
    "        password='ensol2020!',\n",
    "        db = db_name,\n",
    "        charset = 'utf8')"
   ]
  },
  {
   "cell_type": "code",
   "execution_count": 7,
   "id": "22603d79",
   "metadata": {},
   "outputs": [],
   "source": [
    "create_inven_rslt_sql = \"create table inven_rslt(\\\n",
    "ww int(6) NOT NULL,\\\n",
    "date varchar(20) NOT NULL,\\\n",
    "inven int,\\\n",
    "prev_inven_1 int,\tprev_inven_2 int,\tprev_inven_3 int,\tprev_inven_4 int,\\\n",
    "prev_inven_5 int,\tprev_inven_6 int,   prev_inven_7 int,\tprev_inven_8 int,\\\n",
    "primary key(ww)\\\n",
    ") ENGINE=InnoDB DEFAULT CHARSET=utf8\"\n",
    "\n",
    "create_prod_rslt_sql = \"create table prod_rslt(\\\n",
    "ww int(6) NOT NULL,\\\n",
    "date varchar(20) NOT NULL,\\\n",
    "product int,\\\n",
    "prev_product_1 int,\tprev_product_2 int,\tprev_product_3 int,\tprev_product_4 int,\tprev_product_5 int,\tprev_product_6 int,\\\n",
    "prev_product_7 int,\tprev_product_8 int,\tprev_product_9 int,\tprev_product_10 int,\tprev_product_11 int,\tprev_product_12 int,\\\n",
    "primary key(ww)\\\n",
    ") ENGINE=InnoDB DEFAULT CHARSET=utf8\"\n",
    "\n",
    "create_sale_rslt_sql = \"create table sale_rslt(\\\n",
    "ww int(6) NOT NULL,\\\n",
    "date varchar(20) NOT NULL,\\\n",
    "sale int,\\\n",
    "prev_sale_1 int,\tprev_sale_2 int,\tprev_sale_3 int,\tprev_sale_4 int,\tprev_sale_5 int,\tprev_sale_6 int,\\\n",
    "prev_sale_7 int,\tprev_sale_8 int,\tprev_sale_9 int,\tprev_sale_10 int,\tprev_sale_11 int,\tprev_sale_12 int,\\\n",
    "primary key(ww)\\\n",
    ") ENGINE=InnoDB DEFAULT CHARSET=utf8\"\n",
    "\n",
    "create_prod_plan_sql = \"create table prod_plan(\\\n",
    "ww int(6) NOT NULL,\\\n",
    "date varchar(20) NOT NULL,\\\n",
    "target_ww int(6) NOT NULL,\\\n",
    "product int,  primary key(ww, target_ww)\\\n",
    ") ENGINE=InnoDB DEFAULT CHARSET=utf8\"\n",
    "\n",
    "create_prod_plan_sql1 = \"create table prod_plan(\\\n",
    "ww int(6) NOT NULL,\\\n",
    "date varchar(20) NOT NULL,\\\n",
    "target_ww varchar(1500) NOT NULL,\\\n",
    "primary key(ww)\\\n",
    ") ENGINE=InnoDB DEFAULT CHARSET=utf8\"\n",
    "\n",
    "create_prod_prev_sql = \"create table prod_prev(\\\n",
    "ww int(6) NOT NULL,\\\n",
    "date varchar(20) NOT NULL,\\\n",
    "target_ww varchar(1500) NOT NULL,\\\n",
    "primary key(ww)\\\n",
    ") ENGINE=InnoDB DEFAULT CHARSET=utf8\"\n",
    "\n",
    "create_sale_plan_sql = \"create table sale_plan(\\\n",
    "ww int(6) NOT NULL,\\\n",
    "date varchar(20) NOT NULL,\\\n",
    "target_ww int(6) NOT NULL,\\\n",
    "sale int,  primary key(ww)\\\n",
    ") ENGINE=InnoDB DEFAULT CHARSET=utf8\"\n",
    "\n",
    "create_sale_plan_sql1 = \"create table sale_plan(\\\n",
    "ww int(6) NOT NULL,\\\n",
    "date varchar(20) NOT NULL,\\\n",
    "target_ww varchar(1500) NOT NULL,\\\n",
    "primary key(ww)\\\n",
    ") ENGINE=InnoDB DEFAULT CHARSET=utf8\"\n",
    "\n",
    "create_sale_prev_sql = \"create table sale_prev(\\\n",
    "ww int(6) NOT NULL,\\\n",
    "date varchar(20) NOT NULL,\\\n",
    "target_ww varchar(1500) NOT NULL,\\\n",
    "primary key(ww)\\\n",
    ") ENGINE=InnoDB DEFAULT CHARSET=utf8\"\n",
    "\n",
    "create_inven_day_sql = \"create table inven_day(\\\n",
    "ww int(6) NOT NULL,\\\n",
    "result varchar(7000) NOT NULL,\\\n",
    "primary key(ww)\\\n",
    ") ENGINE=InnoDB DEFAULT CHARSET=utf8\"\n",
    "\n",
    "create_leadtime_day_sql = \"create table lt_day(\\\n",
    "ww int(6) NOT NULL,\\\n",
    "lt_day float(12) NOT NULL,\\\n",
    "primary key(ww)\\\n",
    ") ENGINE=InnoDB DEFAULT CHARSET=utf8\"\n"
   ]
  },
  {
   "cell_type": "code",
   "execution_count": 10,
   "id": "56c11fc6",
   "metadata": {},
   "outputs": [],
   "source": [
    "conn = _call_db_info('gscm_e61d')\n",
    "curs = conn.cursor()\n",
    "\n",
    "curs.execute(create_leadtime_day_sql)        \n",
    "\n",
    "conn.commit()\n",
    "conn.close()"
   ]
  },
  {
   "cell_type": "code",
   "execution_count": 6,
   "id": "e3493327",
   "metadata": {},
   "outputs": [],
   "source": [
    "conn = _call_db_info('gscm_cbev')\n",
    "curs = conn.cursor()\n",
    "\n",
    "inven_rslt_sql = create_inven_rslt_sql\n",
    "curs.execute(inven_rslt_sql)        \n",
    "inven_day_sql = create_inven_day_sql\n",
    "curs.execute(inven_day_sql)        \n",
    "\n",
    "prod_rslt_sql = create_prod_rslt_sql\n",
    "curs.execute(prod_rslt_sql)       \n",
    "sale_rslt_sql = create_sale_rslt_sql\n",
    "curs.execute(sale_rslt_sql)       \n",
    "prod_plan_sql = create_prod_plan_sql1\n",
    "curs.execute(prod_plan_sql)        \n",
    "sale_plan_sql = create_sale_plan_sql1\n",
    "curs.execute(sale_plan_sql)        \n",
    "\n",
    "prod_prev_sql = create_prod_prev_sql\n",
    "curs.execute(prod_prev_sql)        \n",
    "sale_prev_sql = create_sale_prev_sql\n",
    "curs.execute(sale_prev_sql)        \n",
    "\n",
    "curs.execute(create_leadtime_day_sql)   \n",
    "\n",
    "conn.commit()\n",
    "conn.close()"
   ]
  },
  {
   "cell_type": "markdown",
   "id": "6b044600",
   "metadata": {},
   "source": [
    "## Date Table "
   ]
  },
  {
   "cell_type": "code",
   "execution_count": 7,
   "id": "29a503e7",
   "metadata": {},
   "outputs": [],
   "source": [
    "ww = []\n",
    "for y in (2019, 2020, 2021, 2022):\n",
    "    tmp_s_ww = datetime.datetime(y, 1, 1).isocalendar()[1]\n",
    "    if tmp_s_ww > 1:\n",
    "        tmp_s_ww = datetime.datetime(y, 1, 7).isocalendar()[1]\n",
    "    tmp_e_ww = datetime.datetime(y, 12, 31).isocalendar()[1]\n",
    "    if tmp_e_ww == 1:\n",
    "        tmp_e_ww = datetime.datetime(y, 12, 24).isocalendar()[1]    \n",
    "    ww.extend(list(map(lambda x : ''.join([str(y)] + [str(x) if len(str(x))==2 else '0'+str(x)]), np.arange(tmp_s_ww, (tmp_e_ww+1)))))"
   ]
  },
  {
   "cell_type": "code",
   "execution_count": 6,
   "id": "15365d55",
   "metadata": {},
   "outputs": [],
   "source": [
    "conn = _call_db_info('gscm_cbev')\n",
    "curs = conn.cursor()\n",
    "dt_table =  \"create table dt_table(ww int(6) NOT NULL, \\\n",
    "primary key(ww) ) ENGINE=InnoDB DEFAULT CHARSET=utf8\"\n",
    "curs.execute(dt_table)        \n",
    "conn.commit()"
   ]
  },
  {
   "cell_type": "code",
   "execution_count": null,
   "id": "983ea3c7",
   "metadata": {},
   "outputs": [],
   "source": []
  },
  {
   "cell_type": "code",
   "execution_count": null,
   "id": "f1560e0c",
   "metadata": {},
   "outputs": [],
   "source": []
  },
  {
   "cell_type": "code",
   "execution_count": 9,
   "id": "2c0f1c10",
   "metadata": {},
   "outputs": [],
   "source": [
    "insert_dt_sql = \"insert into dt_table values (%s)\"#.format(*c)\n",
    "conn = _call_db_info('gscm_cbev')\n",
    "curs = conn.cursor()\n",
    "for i in range(0, len(ww)):    \n",
    "    curs.execute(insert_dt_sql, ww[i]) \n",
    "conn.commit()\n",
    "conn.close()"
   ]
  },
  {
   "cell_type": "code",
   "execution_count": null,
   "id": "c69435cb",
   "metadata": {},
   "outputs": [],
   "source": []
  }
 ],
 "metadata": {
  "kernelspec": {
   "display_name": "Python 3",
   "language": "python",
   "name": "python3"
  },
  "language_info": {
   "codemirror_mode": {
    "name": "ipython",
    "version": 3
   },
   "file_extension": ".py",
   "mimetype": "text/x-python",
   "name": "python",
   "nbconvert_exporter": "python",
   "pygments_lexer": "ipython3",
   "version": "3.7.10"
  }
 },
 "nbformat": 4,
 "nbformat_minor": 5
}
