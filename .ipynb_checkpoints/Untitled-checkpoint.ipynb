{
 "cells": [
  {
   "cell_type": "code",
   "execution_count": 1,
   "id": "b964f83b",
   "metadata": {},
   "outputs": [],
   "source": [
    "import os, random, time, pymysql, math\n",
    "import numpy as np\n",
    "import pandas as pd\n",
    "import matplotlib.pyplot as plt\n",
    "import datetime\n",
    "import openpyxl\n",
    "from scipy.stats import mode\n",
    "import shutil"
   ]
  },
  {
   "cell_type": "code",
   "execution_count": 2,
   "id": "bbc394aa",
   "metadata": {},
   "outputs": [],
   "source": [
    "def dta_merge(t_tmp, t_title):\n",
    "    #t_tmp = tmp1 ; t_title = tmp1.columns\n",
    "    ver_col = np.where(t_tmp.columns == 'Version')[0][0]\n",
    "    t_tmp1 = pd.DataFrame(t_tmp.iloc[:,ver_col].copy())\n",
    "    t_tmp1 = pd.concat([t_tmp1,t_tmp.iloc[:, 14:]], axis=1)\n",
    "    return t_tmp1\n",
    "def year_week_cal(tmp_set_, col_name_, format_):\n",
    "    tmp_cal_year = list(pd.to_datetime(tmp_set_[col_name_], format=format_).dt.isocalendar().year.values)\n",
    "    tmp_cal_ww   = pd.to_datetime(tmp_set_[col_name_], format=format_).dt.isocalendar().week.values\n",
    "    tmp_cal_ww1 = list(map(lambda x : str(tmp_cal_ww[x]) if divmod(tmp_cal_ww[x], 10)[0] > 0 else str(0)+str(tmp_cal_ww[x]), range(0, len(tmp_cal_year))))\n",
    "    tmp_cal_date = list(map(lambda x : str(tmp_cal_year[x]) + tmp_cal_ww1[x], range(0, len(tmp_cal_year))))\n",
    "    return tmp_cal_date\n",
    "def prep_inven(info):\n",
    "    tmp_day = pd.to_datetime(tmp_file['연월일'], format='%Y년%m월%d일').dt.isocalendar().day\n",
    "    filter_len = len(info['filter'])\n",
    "    tmp_file1 = tmp_file[(tmp_file['자재'].str.slice(0,filter_len) == info[\"filter\"]) & (tmp_day == 7)].copy()\n",
    "    inven_filter_ = info[\"store\"]\n",
    "    for k in range(0, len(inven_filter_)):\n",
    "        tmp_store1, tmp_store2 = inven_filter_[k][0], inven_filter_[k][1]\n",
    "        tmp_file1_sub1 = tmp_file1[(tmp_file1['저장위치'].str.slice(0,1) == tmp_store1)&(tmp_file1['저장위치'].str.slice(3,4) == tmp_store2)].copy()\n",
    "        tmp_week_ = year_week_cal(tmp_file1_sub1, '연월일', '%Y년%m월%d일')\n",
    "        tmp_file1_sub1['Inven Week'] = tmp_week_\n",
    "        tmp_file1_sub1['Date'] = np.datetime_as_string(pd.to_datetime(tmp_file1_sub1['연월일'], format='%Y년%m월%d일'), unit='D')\n",
    "        tmp_file1_sub1 = tmp_file1_sub1[['Inven Week','Date','재고수량']]\n",
    "        tmp_group = tmp_file1_sub1.groupby(['Inven Week','Date'])\n",
    "        tmp_sum = pd.DataFrame(tmp_group.sum())\n",
    "        tmp_sum.reset_index(inplace=True)    \n",
    "        tmp_sum.to_csv('./%s_Inven_%sxx%s.csv'%(info[\"DB\"], tmp_store1, tmp_store2), index=False)\n",
    "        print('Save Complete : %s_Inven_%sxx%s.csv'%(info[\"DB\"], tmp_store1, tmp_store2))\n",
    "def _call_db_info(db_name):\n",
    "    return pymysql.connect(\n",
    "        host = '10.94.77.9',\n",
    "        port= 13306,\n",
    "        user = 'dxbot1',\n",
    "        password='ensol2020!',\n",
    "        db = db_name,\n",
    "        charset = 'utf8')        "
   ]
  },
  {
   "cell_type": "code",
   "execution_count": 3,
   "id": "11974ac4",
   "metadata": {},
   "outputs": [],
   "source": [
    "tmp_file_raw = openpyxl.load_workbook('./재고실적_21년4_6월_0701.xlsx')\n",
    "sheet_name = 'Total' #tmp_file_raw.sheetnames\n",
    "tmp_file_pd = pd.DataFrame(tmp_file_raw[sheet_name].values).copy()\n",
    "tmp_col_name1 = list(tmp_file_pd.iloc[1,0:])\n",
    "tmp_file = tmp_file_pd.iloc[2:,:].copy().reset_index(drop=True)\n",
    "tmp_file.columns = tmp_col_name1"
   ]
  },
  {
   "cell_type": "code",
   "execution_count": 7,
   "id": "ea92c0cb",
   "metadata": {},
   "outputs": [],
   "source": [
    "cbev_info = {\"DB\" : \"CBEV\", \"filter\" : \"AMVAGBEVN\", \"store\" : [['3', 'P'], ['3','H'],['5','0'],['5','P']]}\n",
    "e61d_info = {\"DB\" : \"E61D\", \"filter\" : \"ACEN1060I-B1\", \"store\" : [['3', 'C']]}\n",
    "p34_info  = {\"DB\" : \"P34\" , \"filter\" : \"APVCCCMA0\", \"store\" : [['5','E']]}"
   ]
  },
  {
   "cell_type": "code",
   "execution_count": 8,
   "id": "8949bc08",
   "metadata": {},
   "outputs": [
    {
     "data": {
      "text/plain": [
       "12"
      ]
     },
     "execution_count": 8,
     "metadata": {},
     "output_type": "execute_result"
    }
   ],
   "source": []
  },
  {
   "cell_type": "code",
   "execution_count": 5,
   "id": "1ae36500",
   "metadata": {},
   "outputs": [
    {
     "name": "stdout",
     "output_type": "stream",
     "text": [
      "Save Complete : CBEV_Inven_3xxP.csv\n",
      "Save Complete : CBEV_Inven_3xxH.csv\n",
      "Save Complete : CBEV_Inven_5xx0.csv\n",
      "Save Complete : CBEV_Inven_5xxP.csv\n",
      "Save Complete : P34_Inven_5xxE.csv\n",
      "Save Complete : E61D_Inven_3xxC.csv\n"
     ]
    }
   ],
   "source": [
    "prep_inven(cbev_info)\n",
    "prep_inven(p34_info)\n",
    "prep_inven(e61d_info)"
   ]
  },
  {
   "cell_type": "markdown",
   "id": "5e34298b",
   "metadata": {},
   "source": [
    "## P34"
   ]
  },
  {
   "cell_type": "code",
   "execution_count": 20,
   "id": "f9c77325",
   "metadata": {},
   "outputs": [
    {
     "name": "stdout",
     "output_type": "stream",
     "text": [
      "[202115, '2021-04-18', 270450.0, 225810.0, 222750.0, 265230.0, 258390.0, 251370.0, 245610.0, 259830.0, 241110.0]\n",
      "[202116, '2021-04-25', 257040.0, 270450.0, 225810.0, 222750.0, 265230.0, 258390.0, 251370.0, 245610.0, 259830.0]\n",
      "[202117, '2021-05-02', 252900.0, 257040.0, 270450.0, 225810.0, 222750.0, 265230.0, 258390.0, 251370.0, 245610.0]\n",
      "[202118, '2021-05-09', 223920.0, 252900.0, 257040.0, 270450.0, 225810.0, 222750.0, 265230.0, 258390.0, 251370.0]\n",
      "[202119, '2021-05-16', 282870.0, 223920.0, 252900.0, 257040.0, 270450.0, 225810.0, 222750.0, 265230.0, 258390.0]\n",
      "[202120, '2021-05-23', 315090.0, 282870.0, 223920.0, 252900.0, 257040.0, 270450.0, 225810.0, 222750.0, 265230.0]\n",
      "[202121, '2021-05-30', 404460.0, 315090.0, 282870.0, 223920.0, 252900.0, 257040.0, 270450.0, 225810.0, 222750.0]\n",
      "[202122, '2021-06-06', 465300.0, 404460.0, 315090.0, 282870.0, 223920.0, 252900.0, 257040.0, 270450.0, 225810.0]\n",
      "[202123, '2021-06-13', 435150.0, 465300.0, 404460.0, 315090.0, 282870.0, 223920.0, 252900.0, 257040.0, 270450.0]\n",
      "[202124, '2021-06-20', 434070.0, 435150.0, 465300.0, 404460.0, 315090.0, 282870.0, 223920.0, 252900.0, 257040.0]\n",
      "[202125, '2021-06-27', 425160.0, 434070.0, 435150.0, 465300.0, 404460.0, 315090.0, 282870.0, 223920.0, 252900.0]\n"
     ]
    }
   ],
   "source": [
    "conn = _call_db_info('gscm_p34')\n",
    "curs = conn.cursor()\n",
    "curs.execute(\"select ww, date, inven from inven_rslt order by ww desc limit 8;\") \n",
    "inven_prev = pd.DataFrame(curs.fetchall())\n",
    "conn.commit()\n",
    "conn.close()\n",
    "\n",
    "tmp = pd.read_csv('./P34_Inven_5xxE.csv')\n",
    "tmp = tmp.sort_values(['Inven Week'])\n",
    "ids = tmp.index[tmp['Inven Week'] == inven_prev.iloc[0,0]].tolist()[0] + 1\n",
    "inven_prev.columns = ['ww', 'date', 'inven']\n",
    "tmp_ww = pd.DataFrame({'ww' : list(set(list(inven_prev['ww'].values.tolist() + tmp['Inven Week'].values.tolist())))}).sort_values('ww').reset_index(drop=True)\n",
    "tmp_inven = pd.merge(pd.merge(tmp_ww, inven_prev, how='left', on ='ww'), tmp, how='left', left_on ='ww', right_on='Inven Week')\n",
    "tmp_inven_rslt = []\n",
    "tmp_inven_date = []\n",
    "for i in range(0, tmp_inven.shape[0]):\n",
    "    if math.isnan(tmp_inven['재고수량'].loc[i]):\n",
    "        tmp_inven_rslt.append(tmp_inven['inven'].loc[i])\n",
    "        tmp_inven_date.append(tmp_inven['date'].loc[i])\n",
    "    else:\n",
    "        tmp_inven_rslt.append(tmp_inven['재고수량'].loc[i])\n",
    "        tmp_inven_date.append(tmp_inven['Date'].loc[i])\n",
    "tmp_ww['date'] = tmp_inven_date\n",
    "tmp_ww['inven'] = tmp_inven_rslt\n",
    "del tmp_inven_rslt, tmp_inven_date\n",
    "\n",
    "insert_inven_sql = \"insert into inven_rslt values (%s, %s, %s, %s, %s, %s, %s, %s, %s, %s, %s)\"\n",
    "conn = _call_db_info('gscm_p34')\n",
    "curs = conn.cursor()\n",
    "for i in range(ids, tmp.shape[0]):\n",
    "    tmp_s = tmp_ww.index[tmp_ww['ww'] == tmp['Inven Week'].loc[i]].tolist()[0]    \n",
    "    tmp_e = tmp_s - 8        \n",
    "    ww_candidate = tmp_ww.loc[tmp_e:tmp_s].sort_values('ww', ascending=False)        \n",
    "    inven_list = ww_candidate.iloc[0,:2].values.tolist()#tmp_ww.loc[tmp_s].values.tolist()\n",
    "    inven_list.extend(ww_candidate['inven'].values.tolist())    \n",
    "    #print(inven_list)\n",
    "    #if tmp_join.shape[0] > 8:        \n",
    "    curs.execute(insert_inven_sql, inven_list) \n",
    "conn.commit()\n",
    "conn.close()   "
   ]
  },
  {
   "cell_type": "markdown",
   "id": "1e1b2ac5",
   "metadata": {},
   "source": [
    "## E61D"
   ]
  },
  {
   "cell_type": "code",
   "execution_count": 21,
   "id": "117d7cd9",
   "metadata": {},
   "outputs": [],
   "source": [
    "conn = _call_db_info('gscm_e61d')\n",
    "curs = conn.cursor()\n",
    "curs.execute(\"select ww, date, inven from inven_rslt order by ww desc limit 8;\") \n",
    "inven_prev = pd.DataFrame(curs.fetchall())\n",
    "conn.commit()\n",
    "conn.close()\n",
    "\n",
    "tmp = pd.read_csv('./E61D_Inven_3xxC.csv')\n",
    "tmp = tmp.sort_values(['Inven Week'])\n",
    "ids = tmp.index[tmp['Inven Week'] == inven_prev.iloc[0,0]].tolist()[0] + 1\n",
    "inven_prev.columns = ['ww', 'date', 'inven']\n",
    "tmp_ww = pd.DataFrame({'ww' : list(set(list(inven_prev['ww'].values.tolist() + tmp['Inven Week'].values.tolist())))}).sort_values('ww').reset_index(drop=True)\n",
    "tmp_inven = pd.merge(pd.merge(tmp_ww, inven_prev, how='left', on ='ww'), tmp, how='left', left_on ='ww', right_on='Inven Week')\n",
    "tmp_inven_rslt = []\n",
    "tmp_inven_date = []\n",
    "for i in range(0, tmp_inven.shape[0]):\n",
    "    if math.isnan(tmp_inven['재고수량'].loc[i]):\n",
    "        tmp_inven_rslt.append(tmp_inven['inven'].loc[i])\n",
    "        tmp_inven_date.append(tmp_inven['date'].loc[i])\n",
    "    else:\n",
    "        tmp_inven_rslt.append(tmp_inven['재고수량'].loc[i])\n",
    "        tmp_inven_date.append(tmp_inven['Date'].loc[i])\n",
    "tmp_ww['date'] = tmp_inven_date\n",
    "tmp_ww['inven'] = tmp_inven_rslt\n",
    "del tmp_inven_rslt, tmp_inven_date\n",
    "\n",
    "insert_inven_sql = \"insert into inven_rslt values (%s, %s, %s, %s, %s, %s, %s, %s, %s, %s, %s)\"\n",
    "#conn = _call_db_info('gscm_e61d')\n",
    "#curs = conn.cursor()\n",
    "for i in range(ids, tmp.shape[0]):\n",
    "    tmp_s = tmp_ww.index[tmp_ww['ww'] == tmp['Inven Week'].loc[i]].tolist()[0]    \n",
    "    tmp_e = tmp_s - 8        \n",
    "    ww_candidate = tmp_ww.loc[tmp_e:tmp_s].sort_values('ww', ascending=False)        \n",
    "    inven_list = ww_candidate.iloc[0,:2].values.tolist()#tmp_ww.loc[tmp_s].values.tolist()\n",
    "    inven_list.extend(ww_candidate['inven'].values.tolist())    \n",
    "    #print(inven_list)\n",
    "    #if tmp_join.shape[0] > 8:        \n",
    "#    curs.execute(insert_inven_sql, inven_list) \n",
    "#conn.commit()\n",
    "#conn.close()   "
   ]
  },
  {
   "cell_type": "markdown",
   "id": "0c0e87da",
   "metadata": {},
   "source": [
    "## CBEV"
   ]
  },
  {
   "cell_type": "code",
   "execution_count": 158,
   "id": "db93abbc",
   "metadata": {},
   "outputs": [],
   "source": [
    "conn = _call_db_info('gscm_cbev')\n",
    "curs = conn.cursor()\n",
    "curs.execute(\"select * from dt_table;\") \n",
    "dt_table = pd.DataFrame(curs.fetchall())\n",
    "curs.execute(\"select ww, date, inven from inven_rslt order by ww desc limit 8;\") \n",
    "inven_prev = pd.DataFrame(curs.fetchall())\n",
    "conn.commit()\n",
    "conn.close()\n",
    "dt_table.columns = ['WW']    \n",
    "tmp_ww = pd.DataFrame({'ww' : dt_table['WW'].loc[dt_table[dt_table['WW']==inven_prev.iloc[0, 0]].index[0]:]}).reset_index(drop=True)"
   ]
  },
  {
   "cell_type": "code",
   "execution_count": 170,
   "id": "29032d05",
   "metadata": {},
   "outputs": [
    {
     "name": "stdout",
     "output_type": "stream",
     "text": [
      "Index(['ww', 'Date', '3xxP'], dtype='object')\n",
      "Index(['ww', 'Date_x', '3xxP', 'Inven Week', 'Date_y', '5xx0'], dtype='object')\n",
      "Index(['ww', 'Date_x', '3xxP', '5xx0', 'Inven Week', 'Date', '5xxP'], dtype='object')\n"
     ]
    },
    {
     "ename": "KeyError",
     "evalue": "\"['Date_y'] not found in axis\"",
     "output_type": "error",
     "traceback": [
      "\u001b[0;31m---------------------------------------------------------------------------\u001b[0m",
      "\u001b[0;31mKeyError\u001b[0m                                  Traceback (most recent call last)",
      "\u001b[0;32m<ipython-input-170-aa2b145f7ff3>\u001b[0m in \u001b[0;36m<module>\u001b[0;34m\u001b[0m\n\u001b[1;32m     14\u001b[0m             \u001b[0mtmp_\u001b[0m \u001b[0;34m=\u001b[0m \u001b[0mpd\u001b[0m\u001b[0;34m.\u001b[0m\u001b[0mmerge\u001b[0m\u001b[0;34m(\u001b[0m\u001b[0mtmp_\u001b[0m\u001b[0;34m,\u001b[0m \u001b[0mtmp_read_file\u001b[0m\u001b[0;34m,\u001b[0m \u001b[0mhow\u001b[0m\u001b[0;34m=\u001b[0m\u001b[0;34m'left'\u001b[0m\u001b[0;34m,\u001b[0m \u001b[0mleft_on\u001b[0m\u001b[0;34m=\u001b[0m\u001b[0;34m'ww'\u001b[0m\u001b[0;34m,\u001b[0m \u001b[0mright_on\u001b[0m\u001b[0;34m=\u001b[0m\u001b[0;34m'Inven Week'\u001b[0m\u001b[0;34m)\u001b[0m\u001b[0;34m\u001b[0m\u001b[0;34m\u001b[0m\u001b[0m\n\u001b[1;32m     15\u001b[0m             \u001b[0mprint\u001b[0m\u001b[0;34m(\u001b[0m\u001b[0mtmp_\u001b[0m\u001b[0;34m.\u001b[0m\u001b[0mcolumns\u001b[0m\u001b[0;34m)\u001b[0m\u001b[0;34m\u001b[0m\u001b[0;34m\u001b[0m\u001b[0m\n\u001b[0;32m---> 16\u001b[0;31m             \u001b[0mtmp_\u001b[0m \u001b[0;34m=\u001b[0m \u001b[0mtmp_\u001b[0m\u001b[0;34m.\u001b[0m\u001b[0mdrop\u001b[0m\u001b[0;34m(\u001b[0m\u001b[0;34m[\u001b[0m\u001b[0;34m'Inven Week'\u001b[0m\u001b[0;34m,\u001b[0m \u001b[0;34m'Date_y'\u001b[0m\u001b[0;34m]\u001b[0m\u001b[0;34m,\u001b[0m \u001b[0maxis\u001b[0m\u001b[0;34m=\u001b[0m\u001b[0;36m1\u001b[0m\u001b[0;34m)\u001b[0m\u001b[0;34m\u001b[0m\u001b[0;34m\u001b[0m\u001b[0m\n\u001b[0m\u001b[1;32m     17\u001b[0m \u001b[0;34m\u001b[0m\u001b[0m\n\u001b[1;32m     18\u001b[0m \u001b[0mtmp_\u001b[0m\u001b[0;34m\u001b[0m\u001b[0;34m\u001b[0m\u001b[0m\n",
      "\u001b[0;32m/opt/conda/envs/rapids/lib/python3.7/site-packages/pandas/core/frame.py\u001b[0m in \u001b[0;36mdrop\u001b[0;34m(self, labels, axis, index, columns, level, inplace, errors)\u001b[0m\n\u001b[1;32m   4313\u001b[0m             \u001b[0mlevel\u001b[0m\u001b[0;34m=\u001b[0m\u001b[0mlevel\u001b[0m\u001b[0;34m,\u001b[0m\u001b[0;34m\u001b[0m\u001b[0;34m\u001b[0m\u001b[0m\n\u001b[1;32m   4314\u001b[0m             \u001b[0minplace\u001b[0m\u001b[0;34m=\u001b[0m\u001b[0minplace\u001b[0m\u001b[0;34m,\u001b[0m\u001b[0;34m\u001b[0m\u001b[0;34m\u001b[0m\u001b[0m\n\u001b[0;32m-> 4315\u001b[0;31m             \u001b[0merrors\u001b[0m\u001b[0;34m=\u001b[0m\u001b[0merrors\u001b[0m\u001b[0;34m,\u001b[0m\u001b[0;34m\u001b[0m\u001b[0;34m\u001b[0m\u001b[0m\n\u001b[0m\u001b[1;32m   4316\u001b[0m         )\n\u001b[1;32m   4317\u001b[0m \u001b[0;34m\u001b[0m\u001b[0m\n",
      "\u001b[0;32m/opt/conda/envs/rapids/lib/python3.7/site-packages/pandas/core/generic.py\u001b[0m in \u001b[0;36mdrop\u001b[0;34m(self, labels, axis, index, columns, level, inplace, errors)\u001b[0m\n\u001b[1;32m   4151\u001b[0m         \u001b[0;32mfor\u001b[0m \u001b[0maxis\u001b[0m\u001b[0;34m,\u001b[0m \u001b[0mlabels\u001b[0m \u001b[0;32min\u001b[0m \u001b[0maxes\u001b[0m\u001b[0;34m.\u001b[0m\u001b[0mitems\u001b[0m\u001b[0;34m(\u001b[0m\u001b[0;34m)\u001b[0m\u001b[0;34m:\u001b[0m\u001b[0;34m\u001b[0m\u001b[0;34m\u001b[0m\u001b[0m\n\u001b[1;32m   4152\u001b[0m             \u001b[0;32mif\u001b[0m \u001b[0mlabels\u001b[0m \u001b[0;32mis\u001b[0m \u001b[0;32mnot\u001b[0m \u001b[0;32mNone\u001b[0m\u001b[0;34m:\u001b[0m\u001b[0;34m\u001b[0m\u001b[0;34m\u001b[0m\u001b[0m\n\u001b[0;32m-> 4153\u001b[0;31m                 \u001b[0mobj\u001b[0m \u001b[0;34m=\u001b[0m \u001b[0mobj\u001b[0m\u001b[0;34m.\u001b[0m\u001b[0m_drop_axis\u001b[0m\u001b[0;34m(\u001b[0m\u001b[0mlabels\u001b[0m\u001b[0;34m,\u001b[0m \u001b[0maxis\u001b[0m\u001b[0;34m,\u001b[0m \u001b[0mlevel\u001b[0m\u001b[0;34m=\u001b[0m\u001b[0mlevel\u001b[0m\u001b[0;34m,\u001b[0m \u001b[0merrors\u001b[0m\u001b[0;34m=\u001b[0m\u001b[0merrors\u001b[0m\u001b[0;34m)\u001b[0m\u001b[0;34m\u001b[0m\u001b[0;34m\u001b[0m\u001b[0m\n\u001b[0m\u001b[1;32m   4154\u001b[0m \u001b[0;34m\u001b[0m\u001b[0m\n\u001b[1;32m   4155\u001b[0m         \u001b[0;32mif\u001b[0m \u001b[0minplace\u001b[0m\u001b[0;34m:\u001b[0m\u001b[0;34m\u001b[0m\u001b[0;34m\u001b[0m\u001b[0m\n",
      "\u001b[0;32m/opt/conda/envs/rapids/lib/python3.7/site-packages/pandas/core/generic.py\u001b[0m in \u001b[0;36m_drop_axis\u001b[0;34m(self, labels, axis, level, errors)\u001b[0m\n\u001b[1;32m   4186\u001b[0m                 \u001b[0mnew_axis\u001b[0m \u001b[0;34m=\u001b[0m \u001b[0maxis\u001b[0m\u001b[0;34m.\u001b[0m\u001b[0mdrop\u001b[0m\u001b[0;34m(\u001b[0m\u001b[0mlabels\u001b[0m\u001b[0;34m,\u001b[0m \u001b[0mlevel\u001b[0m\u001b[0;34m=\u001b[0m\u001b[0mlevel\u001b[0m\u001b[0;34m,\u001b[0m \u001b[0merrors\u001b[0m\u001b[0;34m=\u001b[0m\u001b[0merrors\u001b[0m\u001b[0;34m)\u001b[0m\u001b[0;34m\u001b[0m\u001b[0;34m\u001b[0m\u001b[0m\n\u001b[1;32m   4187\u001b[0m             \u001b[0;32melse\u001b[0m\u001b[0;34m:\u001b[0m\u001b[0;34m\u001b[0m\u001b[0;34m\u001b[0m\u001b[0m\n\u001b[0;32m-> 4188\u001b[0;31m                 \u001b[0mnew_axis\u001b[0m \u001b[0;34m=\u001b[0m \u001b[0maxis\u001b[0m\u001b[0;34m.\u001b[0m\u001b[0mdrop\u001b[0m\u001b[0;34m(\u001b[0m\u001b[0mlabels\u001b[0m\u001b[0;34m,\u001b[0m \u001b[0merrors\u001b[0m\u001b[0;34m=\u001b[0m\u001b[0merrors\u001b[0m\u001b[0;34m)\u001b[0m\u001b[0;34m\u001b[0m\u001b[0;34m\u001b[0m\u001b[0m\n\u001b[0m\u001b[1;32m   4189\u001b[0m             \u001b[0mresult\u001b[0m \u001b[0;34m=\u001b[0m \u001b[0mself\u001b[0m\u001b[0;34m.\u001b[0m\u001b[0mreindex\u001b[0m\u001b[0;34m(\u001b[0m\u001b[0;34m**\u001b[0m\u001b[0;34m{\u001b[0m\u001b[0maxis_name\u001b[0m\u001b[0;34m:\u001b[0m \u001b[0mnew_axis\u001b[0m\u001b[0;34m}\u001b[0m\u001b[0;34m)\u001b[0m\u001b[0;34m\u001b[0m\u001b[0;34m\u001b[0m\u001b[0m\n\u001b[1;32m   4190\u001b[0m \u001b[0;34m\u001b[0m\u001b[0m\n",
      "\u001b[0;32m/opt/conda/envs/rapids/lib/python3.7/site-packages/pandas/core/indexes/base.py\u001b[0m in \u001b[0;36mdrop\u001b[0;34m(self, labels, errors)\u001b[0m\n\u001b[1;32m   5589\u001b[0m         \u001b[0;32mif\u001b[0m \u001b[0mmask\u001b[0m\u001b[0;34m.\u001b[0m\u001b[0many\u001b[0m\u001b[0;34m(\u001b[0m\u001b[0;34m)\u001b[0m\u001b[0;34m:\u001b[0m\u001b[0;34m\u001b[0m\u001b[0;34m\u001b[0m\u001b[0m\n\u001b[1;32m   5590\u001b[0m             \u001b[0;32mif\u001b[0m \u001b[0merrors\u001b[0m \u001b[0;34m!=\u001b[0m \u001b[0;34m\"ignore\"\u001b[0m\u001b[0;34m:\u001b[0m\u001b[0;34m\u001b[0m\u001b[0;34m\u001b[0m\u001b[0m\n\u001b[0;32m-> 5591\u001b[0;31m                 \u001b[0;32mraise\u001b[0m \u001b[0mKeyError\u001b[0m\u001b[0;34m(\u001b[0m\u001b[0;34mf\"{labels[mask]} not found in axis\"\u001b[0m\u001b[0;34m)\u001b[0m\u001b[0;34m\u001b[0m\u001b[0;34m\u001b[0m\u001b[0m\n\u001b[0m\u001b[1;32m   5592\u001b[0m             \u001b[0mindexer\u001b[0m \u001b[0;34m=\u001b[0m \u001b[0mindexer\u001b[0m\u001b[0;34m[\u001b[0m\u001b[0;34m~\u001b[0m\u001b[0mmask\u001b[0m\u001b[0;34m]\u001b[0m\u001b[0;34m\u001b[0m\u001b[0;34m\u001b[0m\u001b[0m\n\u001b[1;32m   5593\u001b[0m         \u001b[0;32mreturn\u001b[0m \u001b[0mself\u001b[0m\u001b[0;34m.\u001b[0m\u001b[0mdelete\u001b[0m\u001b[0;34m(\u001b[0m\u001b[0mindexer\u001b[0m\u001b[0;34m)\u001b[0m\u001b[0;34m\u001b[0m\u001b[0;34m\u001b[0m\u001b[0m\n",
      "\u001b[0;31mKeyError\u001b[0m: \"['Date_y'] not found in axis\""
     ]
    }
   ],
   "source": [
    "\n",
    "for i in range(0, len(cbev_info['store'])):\n",
    "    store = cbev_info['store'][i]\n",
    "    dbname = cbev_info[\"DB\"]\n",
    "    tmp_file_name = dbname+'_Inven_'+store[0]+'xx'+store[1]+'.csv'\n",
    "    tmp_read_file = pd.read_csv('./'+tmp_file_name)\n",
    "    if tmp_read_file.shape[0] > 0:\n",
    "        tmp_read_file.columns = list(['Inven Week', 'Date']) + [store[0]+'xx'+store[1]]\n",
    "        \n",
    "        if i == 0:\n",
    "            tmp_ = pd.merge(tmp_ww, tmp_read_file, how='left', left_on='ww', right_on='Inven Week')\n",
    "            tmp_ = tmp_.drop(['Inven Week'], axis=1)\n",
    "            print(tmp_.columns)\n",
    "        else :\n",
    "            tmp_ = pd.merge(tmp_, tmp_read_file, how='left', left_on='ww', right_on='Inven Week')\n",
    "            print(tmp_.columns)\n",
    "            tmp_ = tmp_.drop(['Inven Week', 'Date_y'], axis=1)\n",
    "        \n",
    "tmp_"
   ]
  },
  {
   "cell_type": "code",
   "execution_count": 122,
   "id": "976ee57c",
   "metadata": {},
   "outputs": [
    {
     "ename": "ValueError",
     "evalue": "Length mismatch: Expected axis has 1 elements, new values have 3 elements",
     "output_type": "error",
     "traceback": [
      "\u001b[0;31m---------------------------------------------------------------------------\u001b[0m",
      "\u001b[0;31mValueError\u001b[0m                                Traceback (most recent call last)",
      "\u001b[0;32m<ipython-input-122-b7c89bf0710c>\u001b[0m in \u001b[0;36m<module>\u001b[0;34m\u001b[0m\n\u001b[1;32m      1\u001b[0m \u001b[0mtmp_3xxH\u001b[0m \u001b[0;34m=\u001b[0m \u001b[0mpd\u001b[0m\u001b[0;34m.\u001b[0m\u001b[0mread_csv\u001b[0m\u001b[0;34m(\u001b[0m\u001b[0;34m'./CBEV_Inven_3xxH.csv'\u001b[0m\u001b[0;34m)\u001b[0m\u001b[0;34m\u001b[0m\u001b[0;34m\u001b[0m\u001b[0m\n\u001b[0;32m----> 2\u001b[0;31m \u001b[0mtmp_3xxH\u001b[0m\u001b[0;34m.\u001b[0m\u001b[0mcolumns\u001b[0m \u001b[0;34m=\u001b[0m \u001b[0mlist\u001b[0m\u001b[0;34m(\u001b[0m\u001b[0;34m[\u001b[0m\u001b[0;34m'Inven Week'\u001b[0m\u001b[0;34m,\u001b[0m \u001b[0;34m'Date'\u001b[0m\u001b[0;34m,\u001b[0m \u001b[0;34m'3xxH'\u001b[0m\u001b[0;34m]\u001b[0m\u001b[0;34m)\u001b[0m\u001b[0;34m\u001b[0m\u001b[0;34m\u001b[0m\u001b[0m\n\u001b[0m\u001b[1;32m      3\u001b[0m \u001b[0mtmp_3xxH\u001b[0m \u001b[0;34m=\u001b[0m \u001b[0mtmp_3xxH\u001b[0m\u001b[0;34m.\u001b[0m\u001b[0mdrop\u001b[0m\u001b[0;34m(\u001b[0m\u001b[0;34m'Date'\u001b[0m\u001b[0;34m,\u001b[0m \u001b[0maxis\u001b[0m\u001b[0;34m=\u001b[0m\u001b[0;36m1\u001b[0m\u001b[0;34m)\u001b[0m\u001b[0;34m\u001b[0m\u001b[0;34m\u001b[0m\u001b[0m\n\u001b[1;32m      4\u001b[0m \u001b[0mtmp_3xxP\u001b[0m \u001b[0;34m=\u001b[0m \u001b[0mpd\u001b[0m\u001b[0;34m.\u001b[0m\u001b[0mread_csv\u001b[0m\u001b[0;34m(\u001b[0m\u001b[0;34m'./CBEV_Inven_3xxP.csv'\u001b[0m\u001b[0;34m)\u001b[0m\u001b[0;34m\u001b[0m\u001b[0;34m\u001b[0m\u001b[0m\n\u001b[1;32m      5\u001b[0m \u001b[0mtmp_3xxP\u001b[0m\u001b[0;34m.\u001b[0m\u001b[0mcolumns\u001b[0m \u001b[0;34m=\u001b[0m \u001b[0mlist\u001b[0m\u001b[0;34m(\u001b[0m\u001b[0;34m[\u001b[0m\u001b[0;34m'Inven Week'\u001b[0m\u001b[0;34m,\u001b[0m \u001b[0;34m'Date'\u001b[0m\u001b[0;34m,\u001b[0m \u001b[0;34m'3xxP'\u001b[0m\u001b[0;34m]\u001b[0m\u001b[0;34m)\u001b[0m\u001b[0;34m\u001b[0m\u001b[0;34m\u001b[0m\u001b[0m\n",
      "\u001b[0;32m/opt/conda/envs/rapids/lib/python3.7/site-packages/pandas/core/generic.py\u001b[0m in \u001b[0;36m__setattr__\u001b[0;34m(self, name, value)\u001b[0m\n\u001b[1;32m   5476\u001b[0m         \u001b[0;32mtry\u001b[0m\u001b[0;34m:\u001b[0m\u001b[0;34m\u001b[0m\u001b[0;34m\u001b[0m\u001b[0m\n\u001b[1;32m   5477\u001b[0m             \u001b[0mobject\u001b[0m\u001b[0;34m.\u001b[0m\u001b[0m__getattribute__\u001b[0m\u001b[0;34m(\u001b[0m\u001b[0mself\u001b[0m\u001b[0;34m,\u001b[0m \u001b[0mname\u001b[0m\u001b[0;34m)\u001b[0m\u001b[0;34m\u001b[0m\u001b[0;34m\u001b[0m\u001b[0m\n\u001b[0;32m-> 5478\u001b[0;31m             \u001b[0;32mreturn\u001b[0m \u001b[0mobject\u001b[0m\u001b[0;34m.\u001b[0m\u001b[0m__setattr__\u001b[0m\u001b[0;34m(\u001b[0m\u001b[0mself\u001b[0m\u001b[0;34m,\u001b[0m \u001b[0mname\u001b[0m\u001b[0;34m,\u001b[0m \u001b[0mvalue\u001b[0m\u001b[0;34m)\u001b[0m\u001b[0;34m\u001b[0m\u001b[0;34m\u001b[0m\u001b[0m\n\u001b[0m\u001b[1;32m   5479\u001b[0m         \u001b[0;32mexcept\u001b[0m \u001b[0mAttributeError\u001b[0m\u001b[0;34m:\u001b[0m\u001b[0;34m\u001b[0m\u001b[0;34m\u001b[0m\u001b[0m\n\u001b[1;32m   5480\u001b[0m             \u001b[0;32mpass\u001b[0m\u001b[0;34m\u001b[0m\u001b[0;34m\u001b[0m\u001b[0m\n",
      "\u001b[0;32mpandas/_libs/properties.pyx\u001b[0m in \u001b[0;36mpandas._libs.properties.AxisProperty.__set__\u001b[0;34m()\u001b[0m\n",
      "\u001b[0;32m/opt/conda/envs/rapids/lib/python3.7/site-packages/pandas/core/generic.py\u001b[0m in \u001b[0;36m_set_axis\u001b[0;34m(self, axis, labels)\u001b[0m\n\u001b[1;32m    668\u001b[0m     \u001b[0;32mdef\u001b[0m \u001b[0m_set_axis\u001b[0m\u001b[0;34m(\u001b[0m\u001b[0mself\u001b[0m\u001b[0;34m,\u001b[0m \u001b[0maxis\u001b[0m\u001b[0;34m:\u001b[0m \u001b[0mint\u001b[0m\u001b[0;34m,\u001b[0m \u001b[0mlabels\u001b[0m\u001b[0;34m:\u001b[0m \u001b[0mIndex\u001b[0m\u001b[0;34m)\u001b[0m \u001b[0;34m->\u001b[0m \u001b[0;32mNone\u001b[0m\u001b[0;34m:\u001b[0m\u001b[0;34m\u001b[0m\u001b[0;34m\u001b[0m\u001b[0m\n\u001b[1;32m    669\u001b[0m         \u001b[0mlabels\u001b[0m \u001b[0;34m=\u001b[0m \u001b[0mensure_index\u001b[0m\u001b[0;34m(\u001b[0m\u001b[0mlabels\u001b[0m\u001b[0;34m)\u001b[0m\u001b[0;34m\u001b[0m\u001b[0;34m\u001b[0m\u001b[0m\n\u001b[0;32m--> 670\u001b[0;31m         \u001b[0mself\u001b[0m\u001b[0;34m.\u001b[0m\u001b[0m_mgr\u001b[0m\u001b[0;34m.\u001b[0m\u001b[0mset_axis\u001b[0m\u001b[0;34m(\u001b[0m\u001b[0maxis\u001b[0m\u001b[0;34m,\u001b[0m \u001b[0mlabels\u001b[0m\u001b[0;34m)\u001b[0m\u001b[0;34m\u001b[0m\u001b[0;34m\u001b[0m\u001b[0m\n\u001b[0m\u001b[1;32m    671\u001b[0m         \u001b[0mself\u001b[0m\u001b[0;34m.\u001b[0m\u001b[0m_clear_item_cache\u001b[0m\u001b[0;34m(\u001b[0m\u001b[0;34m)\u001b[0m\u001b[0;34m\u001b[0m\u001b[0;34m\u001b[0m\u001b[0m\n\u001b[1;32m    672\u001b[0m \u001b[0;34m\u001b[0m\u001b[0m\n",
      "\u001b[0;32m/opt/conda/envs/rapids/lib/python3.7/site-packages/pandas/core/internals/managers.py\u001b[0m in \u001b[0;36mset_axis\u001b[0;34m(self, axis, new_labels)\u001b[0m\n\u001b[1;32m    219\u001b[0m         \u001b[0;32mif\u001b[0m \u001b[0mnew_len\u001b[0m \u001b[0;34m!=\u001b[0m \u001b[0mold_len\u001b[0m\u001b[0;34m:\u001b[0m\u001b[0;34m\u001b[0m\u001b[0;34m\u001b[0m\u001b[0m\n\u001b[1;32m    220\u001b[0m             raise ValueError(\n\u001b[0;32m--> 221\u001b[0;31m                 \u001b[0;34mf\"Length mismatch: Expected axis has {old_len} elements, new \"\u001b[0m\u001b[0;34m\u001b[0m\u001b[0;34m\u001b[0m\u001b[0m\n\u001b[0m\u001b[1;32m    222\u001b[0m                 \u001b[0;34mf\"values have {new_len} elements\"\u001b[0m\u001b[0;34m\u001b[0m\u001b[0;34m\u001b[0m\u001b[0m\n\u001b[1;32m    223\u001b[0m             )\n",
      "\u001b[0;31mValueError\u001b[0m: Length mismatch: Expected axis has 1 elements, new values have 3 elements"
     ]
    }
   ],
   "source": [
    "tmp_3xxH = pd.read_csv('./CBEV_Inven_3xxH.csv')\n",
    "\n",
    "tmp_3xxH.columns = list(['Inven Week', 'Date', '3xxH'])\n",
    "tmp_3xxH = tmp_3xxH.drop('Date', axis=1)\n",
    "tmp_3xxP = pd.read_csv('./CBEV_Inven_3xxP.csv')\n",
    "tmp_3xxP.columns = list(['Inven Week', 'Date', '3xxP'])       \n",
    "tmp_3xxP = tmp_3xxP.drop('Date', axis=1)\n",
    "tmp_5xxP = pd.read_csv('./CBEV_Inven_5xxP.csv')\n",
    "tmp_5xxP.columns = list(['Inven Week', 'Date', '5xxP'])                                                          \n",
    "tmp_5xxP = tmp_5xxP.drop('Date', axis=1)\n",
    "tmp_5xxx = pd.read_csv('./CBEV_Inven_5xx0.csv')\n",
    "tmp_5xxx.columns = list(['Inven Week', 'Date', '5xxx'])\n",
    "worknum = pd.DataFrame({'Week' : list(set(tmp_3xxH['Inven Week']) | set(tmp_3xxP['Inven Week']) | set(tmp_5xxP['Inven Week']) | set(tmp_5xxx['Inven Week']))})\n",
    "\n",
    "s_ind = dt_table['WW'][dt_table['WW'] == start].index[0]\n",
    "e_ind = dt_table['WW'][dt_table['WW'] == np.max(worknum.values)].index[0]\n",
    "\n",
    "tmp_ = pd.merge(pd.merge(pd.merge(pd.merge(dt_table[(s_ind-8):(e_ind+1)], \n",
    "                                             tmp_3xxH, how='left', left_on='WW', right_on='Inven Week'),\\\n",
    "                                            tmp_3xxP, how='left', left_on='WW', right_on='Inven Week'),\\\n",
    "                                            tmp_5xxP, how='left', left_on='WW', right_on='Inven Week'),\\\n",
    "                                            tmp_5xxx, how='left', left_on='WW', right_on='Inven Week')\n",
    "tmp_"
   ]
  },
  {
   "cell_type": "code",
   "execution_count": null,
   "id": "f49c4e30",
   "metadata": {},
   "outputs": [],
   "source": [
    "conn = _call_db_info('gscm_e61d')\n",
    "curs = conn.cursor()\n",
    "curs.execute(\"select ww, date, inven from inven_rslt order by ww desc limit 8;\") \n",
    "inven_prev = pd.DataFrame(curs.fetchall())\n",
    "conn.commit()\n",
    "conn.close()\n",
    "\n",
    "tmp = pd.read_csv('./E61D_Inven_3xxC.csv')\n",
    "tmp = tmp.sort_values(['Inven Week'])\n",
    "ids = tmp.index[tmp['Inven Week'] == inven_prev.iloc[0,0]].tolist()[0] + 1\n",
    "inven_prev.columns = ['ww', 'date', 'inven']\n",
    "tmp_ww = pd.DataFrame({'ww' : list(set(list(inven_prev['ww'].values.tolist() + tmp['Inven Week'].values.tolist())))}).sort_values('ww').reset_index(drop=True)\n",
    "tmp_inven = pd.merge(pd.merge(tmp_ww, inven_prev, how='left', on ='ww'), tmp, how='left', left_on ='ww', right_on='Inven Week')\n",
    "tmp_inven_rslt = []\n",
    "tmp_inven_date = []\n",
    "for i in range(0, tmp_inven.shape[0]):\n",
    "    if math.isnan(tmp_inven['재고수량'].loc[i]):\n",
    "        tmp_inven_rslt.append(tmp_inven['inven'].loc[i])\n",
    "        tmp_inven_date.append(tmp_inven['date'].loc[i])\n",
    "    else:\n",
    "        tmp_inven_rslt.append(tmp_inven['재고수량'].loc[i])\n",
    "        tmp_inven_date.append(tmp_inven['Date'].loc[i])\n",
    "tmp_ww['date'] = tmp_inven_date\n",
    "tmp_ww['inven'] = tmp_inven_rslt\n",
    "del tmp_inven_rslt, tmp_inven_date\n",
    "\n",
    "insert_inven_sql = \"insert into inven_rslt values (%s, %s, %s, %s, %s, %s, %s, %s, %s, %s, %s)\"\n",
    "#conn = _call_db_info('gscm_p34')\n",
    "#curs = conn.cursor()\n",
    "for i in range(ids, tmp.shape[0]):\n",
    "    tmp_s = tmp_ww.index[tmp_ww['ww'] == tmp['Inven Week'].loc[i]].tolist()[0]    \n",
    "    tmp_e = tmp_s - 8        \n",
    "    inven_list = tmp_ww.loc[tmp_s].values.tolist()\n",
    "    inven_list.extend(tmp_ww['inven'].loc[tmp_e:tmp_s].values.tolist())    \n",
    "    print(inven_list)\n",
    "#    if tmp_join.shape[0] > 8:        \n",
    "#        curs.execute(insert_inven_sql, inven_list) \n",
    "#conn.commit()\n",
    "#conn.close()   "
   ]
  },
  {
   "cell_type": "code",
   "execution_count": null,
   "id": "47ec08a7",
   "metadata": {},
   "outputs": [],
   "source": []
  }
 ],
 "metadata": {
  "kernelspec": {
   "display_name": "Python 3",
   "language": "python",
   "name": "python3"
  },
  "language_info": {
   "codemirror_mode": {
    "name": "ipython",
    "version": 3
   },
   "file_extension": ".py",
   "mimetype": "text/x-python",
   "name": "python",
   "nbconvert_exporter": "python",
   "pygments_lexer": "ipython3",
   "version": "3.7.10"
  }
 },
 "nbformat": 4,
 "nbformat_minor": 5
}
