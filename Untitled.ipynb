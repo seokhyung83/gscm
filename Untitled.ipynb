{
 "cells": [
  {
   "cell_type": "code",
   "execution_count": 1,
   "id": "0ea95c95",
   "metadata": {},
   "outputs": [],
   "source": [
    "import os, random, time, pymysql, math\n",
    "import numpy as np\n",
    "import pandas as pd\n",
    "import matplotlib.pyplot as plt\n",
    "import datetime\n",
    "import openpyxl\n",
    "from scipy.stats import mode\n",
    "import shutil"
   ]
  },
  {
   "cell_type": "code",
   "execution_count": 9,
   "id": "6e1bbae7",
   "metadata": {},
   "outputs": [],
   "source": [
    "def dta_merge(t_tmp, t_title):\n",
    "    #t_tmp = tmp1 ; t_title = tmp1.columns\n",
    "    ver_col = np.where(t_tmp.columns == 'Version')[0][0]\n",
    "    t_tmp1 = pd.DataFrame(t_tmp.iloc[:,ver_col].copy())\n",
    "    t_tmp1 = pd.concat([t_tmp1,t_tmp.iloc[:, 14:]], axis=1)\n",
    "    return t_tmp1\n",
    "def year_week_cal(tmp_set_, col_name_, format_):\n",
    "    tmp_cal_year = list(pd.to_datetime(tmp_set_[col_name_], format=format_).dt.isocalendar().year.values)\n",
    "    tmp_cal_ww   = pd.to_datetime(tmp_set_[col_name_], format=format_).dt.isocalendar().week.values\n",
    "    tmp_cal_ww1 = list(map(lambda x : str(tmp_cal_ww[x]) if divmod(tmp_cal_ww[x], 10)[0] > 0 else str(0)+str(tmp_cal_ww[x]), range(0, len(tmp_cal_year))))\n",
    "    tmp_cal_date = list(map(lambda x : str(tmp_cal_year[x]) + tmp_cal_ww1[x], range(0, len(tmp_cal_year))))\n",
    "    return tmp_cal_date\n",
    "def prep_inven(info):\n",
    "    tmp_day = pd.to_datetime(tmp_file['연월일'], format='%Y년%m월%d일').dt.isocalendar().day\n",
    "    filter_len = len(info['filter'])\n",
    "    tmp_file1 = tmp_file[(tmp_file['자재'].str.slice(0,filter_len) == info[\"filter\"]) & (tmp_day == 7)].copy()\n",
    "    inven_filter_ = info[\"store\"]\n",
    "    for k in range(0, len(inven_filter_)):\n",
    "        tmp_store1, tmp_store2 = inven_filter_[k][0], inven_filter_[k][1]\n",
    "        tmp_file1_sub1 = tmp_file1[(tmp_file1['저장위치'].str.slice(0,1) == tmp_store1)&(tmp_file1['저장위치'].str.slice(3,4) == tmp_store2)].copy()\n",
    "        tmp_week_ = year_week_cal(tmp_file1_sub1, '연월일', '%Y년%m월%d일')\n",
    "        tmp_file1_sub1['Inven Week'] = tmp_week_\n",
    "        tmp_file1_sub1['Date'] = np.datetime_as_string(pd.to_datetime(tmp_file1_sub1['연월일'], format='%Y년%m월%d일'), unit='D')\n",
    "        tmp_file1_sub1 = tmp_file1_sub1[['Inven Week','Date','재고수량']]\n",
    "        tmp_group = tmp_file1_sub1.groupby(['Inven Week','Date'])\n",
    "        tmp_sum = pd.DataFrame(tmp_group.sum())\n",
    "        tmp_sum.reset_index(inplace=True)    \n",
    "        tmp_sum.to_csv('./%s_Inven_%sxx%s.csv'%(info[\"DB\"], tmp_store1, tmp_store2), index=False)\n",
    "        print('Save Complete : %s_Inven_%sxx%s.csv'%(info[\"DB\"], tmp_store1, tmp_store2))\n",
    "def _call_db_info(db_name):\n",
    "    return pymysql.connect(\n",
    "        host = '10.94.77.9',\n",
    "        port= 13306,\n",
    "        user = 'dxbot1',\n",
    "        password='ensol2020!',\n",
    "        db = db_name,\n",
    "        charset = 'utf8')        "
   ]
  },
  {
   "cell_type": "code",
   "execution_count": 3,
   "id": "dd005d71",
   "metadata": {},
   "outputs": [],
   "source": [
    "tmp_file_raw = openpyxl.load_workbook('./재고실적_21년4_6월_0701.xlsx')\n",
    "sheet_name = 'Total' #tmp_file_raw.sheetnames\n",
    "tmp_file_pd = pd.DataFrame(tmp_file_raw[sheet_name].values).copy()\n",
    "tmp_col_name1 = list(tmp_file_pd.iloc[1,0:])\n",
    "tmp_file = tmp_file_pd.iloc[2:,:].copy().reset_index(drop=True)\n",
    "tmp_file.columns = tmp_col_name1"
   ]
  },
  {
   "cell_type": "code",
   "execution_count": 10,
   "id": "18d3fad8",
   "metadata": {},
   "outputs": [],
   "source": [
    "cbev_info = {\"DB\" : \"CBEV\", \"filter\" : \"AMVAGBEVN\", \"store\" : [['3', 'P'], ['3','H'],['5','0'],['5','P']]}\n",
    "e61d_info = {\"DB\" : \"E61D\", \"filter\" : \"ACEN1060I-B1\", \"store\" : [['3', 'C']]}\n",
    "p34_info  = {\"DB\" : \"P34\" , \"filter\" : \"APVCCCMA0\", \"store\" : [['5','E']]}"
   ]
  },
  {
   "cell_type": "code",
   "execution_count": 11,
   "id": "0f372ce3",
   "metadata": {},
   "outputs": [
    {
     "name": "stdout",
     "output_type": "stream",
     "text": [
      "Save Complete : CBEV_Inven_3xxP.csv\n",
      "Save Complete : CBEV_Inven_3xxH.csv\n",
      "Save Complete : CBEV_Inven_5xx0.csv\n",
      "Save Complete : CBEV_Inven_5xxP.csv\n",
      "Save Complete : P34_Inven_5xxE.csv\n",
      "Save Complete : E61D_Inven_3xxC.csv\n"
     ]
    }
   ],
   "source": [
    "prep_inven(cbev_info)\n",
    "prep_inven(p34_info)\n",
    "prep_inven(e61d_info)"
   ]
  },
  {
   "cell_type": "markdown",
   "id": "71933e5a",
   "metadata": {},
   "source": [
    "## P34"
   ]
  },
  {
   "cell_type": "code",
   "execution_count": 20,
   "id": "034a85c6",
   "metadata": {},
   "outputs": [
    {
     "name": "stdout",
     "output_type": "stream",
     "text": [
      "[202115, '2021-04-18', 270450.0, 225810.0, 222750.0, 265230.0, 258390.0, 251370.0, 245610.0, 259830.0, 241110.0]\n",
      "[202116, '2021-04-25', 257040.0, 270450.0, 225810.0, 222750.0, 265230.0, 258390.0, 251370.0, 245610.0, 259830.0]\n",
      "[202117, '2021-05-02', 252900.0, 257040.0, 270450.0, 225810.0, 222750.0, 265230.0, 258390.0, 251370.0, 245610.0]\n",
      "[202118, '2021-05-09', 223920.0, 252900.0, 257040.0, 270450.0, 225810.0, 222750.0, 265230.0, 258390.0, 251370.0]\n",
      "[202119, '2021-05-16', 282870.0, 223920.0, 252900.0, 257040.0, 270450.0, 225810.0, 222750.0, 265230.0, 258390.0]\n",
      "[202120, '2021-05-23', 315090.0, 282870.0, 223920.0, 252900.0, 257040.0, 270450.0, 225810.0, 222750.0, 265230.0]\n",
      "[202121, '2021-05-30', 404460.0, 315090.0, 282870.0, 223920.0, 252900.0, 257040.0, 270450.0, 225810.0, 222750.0]\n",
      "[202122, '2021-06-06', 465300.0, 404460.0, 315090.0, 282870.0, 223920.0, 252900.0, 257040.0, 270450.0, 225810.0]\n",
      "[202123, '2021-06-13', 435150.0, 465300.0, 404460.0, 315090.0, 282870.0, 223920.0, 252900.0, 257040.0, 270450.0]\n",
      "[202124, '2021-06-20', 434070.0, 435150.0, 465300.0, 404460.0, 315090.0, 282870.0, 223920.0, 252900.0, 257040.0]\n",
      "[202125, '2021-06-27', 425160.0, 434070.0, 435150.0, 465300.0, 404460.0, 315090.0, 282870.0, 223920.0, 252900.0]\n"
     ]
    }
   ],
   "source": [
    "conn = _call_db_info('gscm_p34')\n",
    "curs = conn.cursor()\n",
    "curs.execute(\"select ww, date, inven from inven_rslt order by ww desc limit 8;\") \n",
    "inven_prev = pd.DataFrame(curs.fetchall())\n",
    "conn.commit()\n",
    "conn.close()\n",
    "\n",
    "tmp = pd.read_csv('./P34_Inven_5xxE.csv')\n",
    "tmp = tmp.sort_values(['Inven Week'])\n",
    "ids = tmp.index[tmp['Inven Week'] == inven_prev.iloc[0,0]].tolist()[0] + 1\n",
    "inven_prev.columns = ['ww', 'date', 'inven']\n",
    "tmp_ww = pd.DataFrame({'ww' : list(set(list(inven_prev['ww'].values.tolist() + tmp['Inven Week'].values.tolist())))}).sort_values('ww').reset_index(drop=True)\n",
    "tmp_inven = pd.merge(pd.merge(tmp_ww, inven_prev, how='left', on ='ww'), tmp, how='left', left_on ='ww', right_on='Inven Week')\n",
    "tmp_inven_rslt = []\n",
    "tmp_inven_date = []\n",
    "for i in range(0, tmp_inven.shape[0]):\n",
    "    if math.isnan(tmp_inven['재고수량'].loc[i]):\n",
    "        tmp_inven_rslt.append(tmp_inven['inven'].loc[i])\n",
    "        tmp_inven_date.append(tmp_inven['date'].loc[i])\n",
    "    else:\n",
    "        tmp_inven_rslt.append(tmp_inven['재고수량'].loc[i])\n",
    "        tmp_inven_date.append(tmp_inven['Date'].loc[i])\n",
    "tmp_ww['date'] = tmp_inven_date\n",
    "tmp_ww['inven'] = tmp_inven_rslt\n",
    "del tmp_inven_rslt, tmp_inven_date\n",
    "\n",
    "insert_inven_sql = \"insert into inven_rslt values (%s, %s, %s, %s, %s, %s, %s, %s, %s, %s, %s)\"\n",
    "conn = _call_db_info('gscm_p34')\n",
    "curs = conn.cursor()\n",
    "for i in range(ids, tmp.shape[0]):\n",
    "    tmp_s = tmp_ww.index[tmp_ww['ww'] == tmp['Inven Week'].loc[i]].tolist()[0]    \n",
    "    tmp_e = tmp_s - 8        \n",
    "    ww_candidate = tmp_ww.loc[tmp_e:tmp_s].sort_values('ww', ascending=False)        \n",
    "    inven_list = ww_candidate.iloc[0,:2].values.tolist()#tmp_ww.loc[tmp_s].values.tolist()\n",
    "    inven_list.extend(ww_candidate['inven'].values.tolist())    \n",
    "    #print(inven_list)\n",
    "    #if tmp_join.shape[0] > 8:        \n",
    "    curs.execute(insert_inven_sql, inven_list) \n",
    "conn.commit()\n",
    "conn.close()   "
   ]
  },
  {
   "cell_type": "markdown",
   "id": "560b800a",
   "metadata": {},
   "source": [
    "## E61D"
   ]
  },
  {
   "cell_type": "code",
   "execution_count": 12,
   "id": "f49961fc",
   "metadata": {},
   "outputs": [],
   "source": [
    "conn = _call_db_info('gscm_e61d')\n",
    "curs = conn.cursor()\n",
    "curs.execute(\"select ww, date, inven from inven_rslt order by ww desc limit 8;\") \n",
    "inven_prev = pd.DataFrame(curs.fetchall())\n",
    "conn.commit()\n",
    "conn.close()\n",
    "\n",
    "tmp = pd.read_csv('./E61D_Inven_3xxC.csv')\n",
    "tmp = tmp.sort_values(['Inven Week'])\n",
    "ids = tmp.index[tmp['Inven Week'] == inven_prev.iloc[0,0]].tolist()[0] + 1\n",
    "inven_prev.columns = ['ww', 'date', 'inven']\n",
    "tmp_ww = pd.DataFrame({'ww' : list(set(list(inven_prev['ww'].values.tolist() + tmp['Inven Week'].values.tolist())))}).sort_values('ww').reset_index(drop=True)\n",
    "tmp_inven = pd.merge(pd.merge(tmp_ww, inven_prev, how='left', on ='ww'), tmp, how='left', left_on ='ww', right_on='Inven Week')\n",
    "tmp_inven_rslt = []\n",
    "tmp_inven_date = []\n",
    "for i in range(0, tmp_inven.shape[0]):\n",
    "    if math.isnan(tmp_inven['재고수량'].loc[i]):\n",
    "        tmp_inven_rslt.append(tmp_inven['inven'].loc[i])\n",
    "        tmp_inven_date.append(tmp_inven['date'].loc[i])\n",
    "    else:\n",
    "        tmp_inven_rslt.append(tmp_inven['재고수량'].loc[i])\n",
    "        tmp_inven_date.append(tmp_inven['Date'].loc[i])\n",
    "tmp_ww['date'] = tmp_inven_date\n",
    "tmp_ww['inven'] = tmp_inven_rslt\n",
    "del tmp_inven_rslt, tmp_inven_date\n",
    "\n",
    "insert_inven_sql = \"insert into inven_rslt values (%s, %s, %s, %s, %s, %s, %s, %s, %s, %s, %s)\"\n",
    "conn = _call_db_info('gscm_e61d')\n",
    "curs = conn.cursor()\n",
    "for i in range(ids, tmp.shape[0]):\n",
    "    tmp_s = tmp_ww.index[tmp_ww['ww'] == tmp['Inven Week'].loc[i]].tolist()[0]    \n",
    "    tmp_e = tmp_s - 8        \n",
    "    ww_candidate = tmp_ww.loc[tmp_e:tmp_s].sort_values('ww', ascending=False)        \n",
    "    inven_list = ww_candidate.iloc[0,:2].values.tolist()#tmp_ww.loc[tmp_s].values.tolist()\n",
    "    inven_list.extend(ww_candidate['inven'].values.tolist())    \n",
    "    #print(inven_list)\n",
    "    #if tmp_join.shape[0] > 8:        \n",
    "    curs.execute(insert_inven_sql, inven_list) \n",
    "conn.commit()\n",
    "conn.close()   "
   ]
  },
  {
   "cell_type": "markdown",
   "id": "2d138805",
   "metadata": {},
   "source": [
    "## CBEV"
   ]
  },
  {
   "cell_type": "code",
   "execution_count": 44,
   "id": "40a41a53",
   "metadata": {},
   "outputs": [],
   "source": [
    "conn = _call_db_info('gscm_cbev')\n",
    "curs = conn.cursor()\n",
    "curs.execute(\"select * from dt_table;\") \n",
    "dt_table = pd.DataFrame(curs.fetchall())\n",
    "curs.execute(\"select ww, date, inven from inven_rslt order by ww desc limit 8;\") \n",
    "inven_prev = pd.DataFrame(curs.fetchall())\n",
    "conn.commit()\n",
    "conn.close()\n",
    "dt_table.columns = ['WW']    \n",
    "tmp_ww = pd.DataFrame({'ww' : dt_table['WW'].loc[dt_table[dt_table['WW']==inven_prev.iloc[0, 0]].index[0]:]}).reset_index(drop=True)"
   ]
  },
  {
   "cell_type": "code",
   "execution_count": 45,
   "id": "ec34e7a7",
   "metadata": {},
   "outputs": [],
   "source": [
    "tmp_ = pd.DataFrame()\n",
    "for i in range(0, len(cbev_info['store'])):\n",
    "    store = cbev_info['store'][i]\n",
    "    dbname = cbev_info[\"DB\"]\n",
    "    tmp_file_name = dbname+'_Inven_'+store[0]+'xx'+store[1]+'.csv'\n",
    "    tmp_read_file = pd.read_csv('./'+tmp_file_name)\n",
    "    if tmp_read_file.shape[0] > 0:\n",
    "        tmp_ = pd.concat((tmp_, pd.DataFrame(tmp_read_file)))\n",
    "tmp_g = tmp_.groupby(['Inven Week', 'Date'])\n",
    "tmp = tmp_g.sum().reset_index(drop=False).copy()\n",
    "tmp['재고수량'] = tmp['재고수량'] /12"
   ]
  },
  {
   "cell_type": "code",
   "execution_count": 46,
   "id": "e2110dd9",
   "metadata": {},
   "outputs": [],
   "source": [
    "tmp = tmp.sort_values(['Inven Week'])\n",
    "ids = tmp.index[tmp['Inven Week'] == inven_prev.iloc[0,0]].tolist()[0] + 1\n",
    "inven_prev.columns = ['ww', 'date', 'inven']\n",
    "tmp_ww = pd.DataFrame({'ww' : list(set(list(inven_prev['ww'].values.tolist() + tmp['Inven Week'].values.tolist())))}).sort_values('ww').reset_index(drop=True)\n",
    "tmp_inven = pd.merge(pd.merge(tmp_ww, inven_prev, how='left', on ='ww'), tmp, how='left', left_on ='ww', right_on='Inven Week')\n",
    "tmp_inven_rslt = []\n",
    "tmp_inven_date = []\n",
    "for i in range(0, tmp_inven.shape[0]):\n",
    "    if math.isnan(tmp_inven['재고수량'].loc[i]):\n",
    "        tmp_inven_rslt.append(tmp_inven['inven'].loc[i])\n",
    "        tmp_inven_date.append(tmp_inven['date'].loc[i])\n",
    "    else:\n",
    "        tmp_inven_rslt.append(tmp_inven['재고수량'].loc[i])\n",
    "        tmp_inven_date.append(tmp_inven['Date'].loc[i])\n",
    "tmp_ww['date'] = tmp_inven_date\n",
    "tmp_ww['inven'] = tmp_inven_rslt\n",
    "del tmp_inven_rslt, tmp_inven_date\n",
    "\n",
    "insert_inven_sql = \"insert into inven_rslt values (%s, %s, %s, %s, %s, %s, %s, %s, %s, %s, %s)\"\n",
    "conn = _call_db_info('gscm_cbev')\n",
    "curs = conn.cursor()\n",
    "for i in range(ids, tmp.shape[0]):\n",
    "    tmp_s = tmp_ww.index[tmp_ww['ww'] == tmp['Inven Week'].loc[i]].tolist()[0]    \n",
    "    tmp_e = tmp_s - 8        \n",
    "    ww_candidate = tmp_ww.loc[tmp_e:tmp_s].sort_values('ww', ascending=False)        \n",
    "    inven_list = ww_candidate.iloc[0,:2].values.tolist()#tmp_ww.loc[tmp_s].values.tolist()\n",
    "    inven_list.extend(ww_candidate['inven'].values.tolist())    \n",
    "    #print(inven_list)\n",
    "    #if tmp_join.shape[0] > 8:        \n",
    "    curs.execute(insert_inven_sql, inven_list) \n",
    "conn.commit()\n",
    "conn.close()   \n"
   ]
  },
  {
   "cell_type": "code",
   "execution_count": null,
   "id": "5f6b5c9b",
   "metadata": {},
   "outputs": [],
   "source": []
  }
 ],
 "metadata": {
  "kernelspec": {
   "display_name": "Python 3",
   "language": "python",
   "name": "python3"
  },
  "language_info": {
   "codemirror_mode": {
    "name": "ipython",
    "version": 3
   },
   "file_extension": ".py",
   "mimetype": "text/x-python",
   "name": "python",
   "nbconvert_exporter": "python",
   "pygments_lexer": "ipython3",
   "version": "3.7.10"
  }
 },
 "nbformat": 4,
 "nbformat_minor": 5
}
