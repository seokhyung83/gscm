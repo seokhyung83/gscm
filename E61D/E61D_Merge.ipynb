{
 "cells": [
  {
   "cell_type": "code",
   "execution_count": 7,
   "id": "2be9b4a9-b695-4a3c-8d98-b7f14bcc9324",
   "metadata": {},
   "outputs": [],
   "source": [
    "import os, random, time\n",
    "import numpy as np\n",
    "import pandas as pd\n",
    "import matplotlib.pyplot as plt\n",
    "import datetime\n",
    "import shutil\n",
    "from scipy.stats import mode"
   ]
  },
  {
   "cell_type": "code",
   "execution_count": 2,
   "id": "cb0c67bc-f587-4fbb-b53c-791c95410738",
   "metadata": {},
   "outputs": [],
   "source": [
    "def remove_row(d_set):\n",
    "    tmp_d_set = d_set.drop_duplicates()\n",
    "    if tmp_d_set[tmp_d_set.duplicated('WW')].shape[0] > 0:\n",
    "        tmp_d_set = tmp_d_set.drop_duplicates('WW')#, keep='last')\n",
    "    tmp_d_set = tmp_d_set.sort_values(by='WW')\n",
    "    tmp_d_set = tmp_d_set.reset_index(drop=True)\n",
    "    return tmp_d_set"
   ]
  },
  {
   "cell_type": "code",
   "execution_count": 9,
   "id": "ebb0f9e8-9644-4175-badf-5c60045f8669",
   "metadata": {},
   "outputs": [
    {
     "name": "stdout",
     "output_type": "stream",
     "text": [
      "['02.Detail_생산계획 준수율.csv', 'Daimler_MktFcstWaterfall(Mkt Fcst Waterfall)_201901_202003.csv', 'Daimler_MktFcstWaterfall(Mkt Fcst Waterfall)_201909_202112.csv', 'Daimler_MktFcstWaterfall(Mkt Fcst Waterfall)_202004_202103.csv', 'Damiler_MktFcstWaterfall(Mkt Fcst Waterfall)_202009-202107.csv', 'Damiler_MktFcstWaterfall(Mkt Fcst Waterfall)_202103-202111.csv', 'Damiler_MktFcstWaterfall(Mkt Fcst Waterfall)_202103-202203.csv', 'Damiler_MktFcstWaterfall(Mkt Fcst Waterfall)_202107-202207.csv', 'DynamicResult.csv', 'Inven_3xxC.csv', 'Inven_3xxT.csv', 'Inven_5xx0.csv']\n",
      "[9, 10, 11]\n",
      "[0, 8]\n",
      "[1, 2, 3, 4, 5, 6, 7]\n"
     ]
    }
   ],
   "source": [
    "if os.path.isdir('./data1/.ipynb_checkpoints'):\n",
    "    shutil.rmtree('./data1/.ipynb_checkpoints')\n",
    "f_list = os.listdir('./data1/')\n",
    "f_list.sort()\n",
    "\n",
    "product_file = [0, 8]\n",
    "sale_file = [1,2,3,4,5,6,7]\n",
    "inven_file = [9, 10, 11]\n",
    "\n",
    "print(f_list)\n",
    "print(inven_file)\n",
    "print(product_file)\n",
    "print(sale_file)\n"
   ]
  },
  {
   "cell_type": "markdown",
   "id": "aabcf870-6f1e-4cb1-8328-58eac263b98d",
   "metadata": {},
   "source": [
    "## Inven"
   ]
  },
  {
   "cell_type": "code",
   "execution_count": 12,
   "id": "88977390-92a8-418e-bda0-c41342155164",
   "metadata": {},
   "outputs": [],
   "source": [
    "for i in inven_file:\n",
    "    if '3xxC' in f_list[i]:\n",
    "        tmp_3xxC = pd.read_csv('./data1/'+f_list[i])\n",
    "        tmp_3xxC.columns = list(['Week', 'Date', 'Inven'])\n",
    "\n",
    "tmp_inven = tmp_3xxC[['Week', 'Inven']]\n",
    "tmp_ww = np.array(tmp_inven['Week'])\n",
    "worknum = tmp_inven['Week']\n",
    "tmp_inven_prev = []\n",
    "for i in range(0, len(tmp_ww)):\n",
    "    tmp_prev_inven = []\n",
    "    for j in range(1,9):\n",
    "        if i-j < 0 :\n",
    "            tmp_prev_inven.append(-999)\n",
    "        else:\n",
    "            tmp_prev_inven.append(tmp_inven.iloc[(i-j),1]) #(tmp_inven.iloc[(i-j),4])\n",
    "    tmp_inven_prev.append(tmp_prev_inven)\n",
    "tmp_inven_prev = pd.DataFrame(tmp_inven_prev)\n",
    "inven_prev_name = list(map(lambda x : 'Prev_Inven_'+str(x), np.arange(1, 9, 1)))\n",
    "tmp_inven_prev.columns = inven_prev_name\n",
    "tmp_inven = pd.concat([tmp_inven, tmp_inven_prev], axis=1)\n",
    "tmp_inven.to_csv('E61D_Inven.csv', index=False)"
   ]
  },
  {
   "cell_type": "markdown",
   "id": "fe33ca2b-82f8-4c47-91ab-0a149c39d3d5",
   "metadata": {},
   "source": [
    "## Product"
   ]
  },
  {
   "cell_type": "code",
   "execution_count": 13,
   "id": "896fbaf4-1278-4311-9bbc-d423c761064e",
   "metadata": {},
   "outputs": [
    {
     "ename": "KeyError",
     "evalue": "'Plan Week'",
     "output_type": "error",
     "traceback": [
      "\u001b[0;31m---------------------------------------------------------------------------\u001b[0m",
      "\u001b[0;31mKeyError\u001b[0m                                  Traceback (most recent call last)",
      "\u001b[0;32m/tmp/ipykernel_924/944928878.py\u001b[0m in \u001b[0;36m<module>\u001b[0;34m\u001b[0m\n\u001b[1;32m     52\u001b[0m         \u001b[0mproduct_var\u001b[0m\u001b[0;34m[\u001b[0m\u001b[0;34m'WW'\u001b[0m\u001b[0;34m]\u001b[0m \u001b[0;34m=\u001b[0m \u001b[0mtarget_ww_unique\u001b[0m\u001b[0;34m\u001b[0m\u001b[0;34m\u001b[0m\u001b[0m\n\u001b[1;32m     53\u001b[0m     \u001b[0;32melse\u001b[0m\u001b[0;34m:\u001b[0m\u001b[0;34m\u001b[0m\u001b[0;34m\u001b[0m\u001b[0m\n\u001b[0;32m---> 54\u001b[0;31m         \u001b[0mtmp_product\u001b[0m \u001b[0;34m=\u001b[0m \u001b[0mtmp_product\u001b[0m\u001b[0;34m.\u001b[0m\u001b[0msort_values\u001b[0m\u001b[0;34m(\u001b[0m\u001b[0mby\u001b[0m\u001b[0;34m=\u001b[0m\u001b[0;34m[\u001b[0m\u001b[0;34m'Plan Week'\u001b[0m\u001b[0;34m]\u001b[0m\u001b[0;34m,\u001b[0m \u001b[0maxis\u001b[0m\u001b[0;34m=\u001b[0m\u001b[0;36m0\u001b[0m\u001b[0;34m)\u001b[0m\u001b[0;34m\u001b[0m\u001b[0;34m\u001b[0m\u001b[0m\n\u001b[0m\u001b[1;32m     55\u001b[0m         \u001b[0mproduct_set\u001b[0m \u001b[0;34m=\u001b[0m \u001b[0mtmp_product\u001b[0m\u001b[0;34m[\u001b[0m\u001b[0;34m[\u001b[0m\u001b[0;34m'Plan Week'\u001b[0m\u001b[0;34m,\u001b[0m \u001b[0;34m'Result Qty_x'\u001b[0m\u001b[0;34m]\u001b[0m\u001b[0;34m]\u001b[0m\u001b[0;34m.\u001b[0m\u001b[0mcopy\u001b[0m\u001b[0;34m(\u001b[0m\u001b[0;34m)\u001b[0m\u001b[0;34m\u001b[0m\u001b[0;34m\u001b[0m\u001b[0m\n\u001b[1;32m     56\u001b[0m         \u001b[0mproduct_set\u001b[0m\u001b[0;34m.\u001b[0m\u001b[0mcolumns\u001b[0m \u001b[0;34m=\u001b[0m \u001b[0mlist\u001b[0m\u001b[0;34m(\u001b[0m\u001b[0;34m[\u001b[0m\u001b[0;34m'Week'\u001b[0m\u001b[0;34m,\u001b[0m \u001b[0;34m'Product'\u001b[0m\u001b[0;34m]\u001b[0m\u001b[0;34m)\u001b[0m\u001b[0;34m\u001b[0m\u001b[0;34m\u001b[0m\u001b[0m\n",
      "\u001b[0;32m/opt/conda/lib/python3.9/site-packages/pandas/util/_decorators.py\u001b[0m in \u001b[0;36mwrapper\u001b[0;34m(*args, **kwargs)\u001b[0m\n\u001b[1;32m    309\u001b[0m                     \u001b[0mstacklevel\u001b[0m\u001b[0;34m=\u001b[0m\u001b[0mstacklevel\u001b[0m\u001b[0;34m,\u001b[0m\u001b[0;34m\u001b[0m\u001b[0;34m\u001b[0m\u001b[0m\n\u001b[1;32m    310\u001b[0m                 )\n\u001b[0;32m--> 311\u001b[0;31m             \u001b[0;32mreturn\u001b[0m \u001b[0mfunc\u001b[0m\u001b[0;34m(\u001b[0m\u001b[0;34m*\u001b[0m\u001b[0margs\u001b[0m\u001b[0;34m,\u001b[0m \u001b[0;34m**\u001b[0m\u001b[0mkwargs\u001b[0m\u001b[0;34m)\u001b[0m\u001b[0;34m\u001b[0m\u001b[0;34m\u001b[0m\u001b[0m\n\u001b[0m\u001b[1;32m    312\u001b[0m \u001b[0;34m\u001b[0m\u001b[0m\n\u001b[1;32m    313\u001b[0m         \u001b[0;32mreturn\u001b[0m \u001b[0mwrapper\u001b[0m\u001b[0;34m\u001b[0m\u001b[0;34m\u001b[0m\u001b[0m\n",
      "\u001b[0;32m/opt/conda/lib/python3.9/site-packages/pandas/core/frame.py\u001b[0m in \u001b[0;36msort_values\u001b[0;34m(self, by, axis, ascending, inplace, kind, na_position, ignore_index, key)\u001b[0m\n\u001b[1;32m   6252\u001b[0m \u001b[0;34m\u001b[0m\u001b[0m\n\u001b[1;32m   6253\u001b[0m             \u001b[0mby\u001b[0m \u001b[0;34m=\u001b[0m \u001b[0mby\u001b[0m\u001b[0;34m[\u001b[0m\u001b[0;36m0\u001b[0m\u001b[0;34m]\u001b[0m\u001b[0;34m\u001b[0m\u001b[0;34m\u001b[0m\u001b[0m\n\u001b[0;32m-> 6254\u001b[0;31m             \u001b[0mk\u001b[0m \u001b[0;34m=\u001b[0m \u001b[0mself\u001b[0m\u001b[0;34m.\u001b[0m\u001b[0m_get_label_or_level_values\u001b[0m\u001b[0;34m(\u001b[0m\u001b[0mby\u001b[0m\u001b[0;34m,\u001b[0m \u001b[0maxis\u001b[0m\u001b[0;34m=\u001b[0m\u001b[0maxis\u001b[0m\u001b[0;34m)\u001b[0m\u001b[0;34m\u001b[0m\u001b[0;34m\u001b[0m\u001b[0m\n\u001b[0m\u001b[1;32m   6255\u001b[0m \u001b[0;34m\u001b[0m\u001b[0m\n\u001b[1;32m   6256\u001b[0m             \u001b[0;31m# need to rewrap column in Series to apply key function\u001b[0m\u001b[0;34m\u001b[0m\u001b[0;34m\u001b[0m\u001b[0;34m\u001b[0m\u001b[0m\n",
      "\u001b[0;32m/opt/conda/lib/python3.9/site-packages/pandas/core/generic.py\u001b[0m in \u001b[0;36m_get_label_or_level_values\u001b[0;34m(self, key, axis)\u001b[0m\n\u001b[1;32m   1774\u001b[0m             \u001b[0mvalues\u001b[0m \u001b[0;34m=\u001b[0m \u001b[0mself\u001b[0m\u001b[0;34m.\u001b[0m\u001b[0maxes\u001b[0m\u001b[0;34m[\u001b[0m\u001b[0maxis\u001b[0m\u001b[0;34m]\u001b[0m\u001b[0;34m.\u001b[0m\u001b[0mget_level_values\u001b[0m\u001b[0;34m(\u001b[0m\u001b[0mkey\u001b[0m\u001b[0;34m)\u001b[0m\u001b[0;34m.\u001b[0m\u001b[0m_values\u001b[0m\u001b[0;34m\u001b[0m\u001b[0;34m\u001b[0m\u001b[0m\n\u001b[1;32m   1775\u001b[0m         \u001b[0;32melse\u001b[0m\u001b[0;34m:\u001b[0m\u001b[0;34m\u001b[0m\u001b[0;34m\u001b[0m\u001b[0m\n\u001b[0;32m-> 1776\u001b[0;31m             \u001b[0;32mraise\u001b[0m \u001b[0mKeyError\u001b[0m\u001b[0;34m(\u001b[0m\u001b[0mkey\u001b[0m\u001b[0;34m)\u001b[0m\u001b[0;34m\u001b[0m\u001b[0;34m\u001b[0m\u001b[0m\n\u001b[0m\u001b[1;32m   1777\u001b[0m \u001b[0;34m\u001b[0m\u001b[0m\n\u001b[1;32m   1778\u001b[0m         \u001b[0;31m# Check for duplicates\u001b[0m\u001b[0;34m\u001b[0m\u001b[0;34m\u001b[0m\u001b[0;34m\u001b[0m\u001b[0m\n",
      "\u001b[0;31mKeyError\u001b[0m: 'Plan Week'"
     ]
    }
   ],
   "source": [
    "for m in product_file:\n",
    "    tmp_product = pd.read_csv('./data1/'+f_list[m])       \n",
    "    if 'Dynamic' in f_list[m]:      \n",
    "        plan_ww_unique = tmp_product['Plan Date'].unique()\n",
    "        plan_ww_unique.sort()\n",
    "        target_ww_unique = tmp_product['Date'].unique()\n",
    "        target_ww_unique.sort()\n",
    "\n",
    "        for i in range(0, len(plan_ww_unique)):\n",
    "            tmp_post = []\n",
    "            for j in range(1, 13):\n",
    "                if i+j < len(plan_ww_unique) :\n",
    "                    if tmp_product[(tmp_product['Plan Date']==plan_ww_unique[i]) & (tmp_product['Date']==(plan_ww_unique[i+j]))].shape[0] > 0:\n",
    "                        tmp_post_val = tmp_product[(tmp_product['Plan Date']==plan_ww_unique[i]) &(tmp_product['Date']==(plan_ww_unique[i+j]))].iloc[0,2]\n",
    "                        tmp_post.append(tmp_post_val)\n",
    "                    else:\n",
    "                        tmp_post.append(-999)\n",
    "                else:\n",
    "                    tmp_post.append(-999)                    \n",
    "            if i == 0:\n",
    "                tmp_product_post = tmp_post\n",
    "            else:\n",
    "                tmp_product_post = np.vstack((tmp_product_post, tmp_post))\n",
    "        product_post = pd.DataFrame(tmp_product_post)\n",
    "        product_post_name = list(map(lambda x : 'Post_Product_'+str(x), np.arange(1, 13, 1)))\n",
    "        product_post.columns = product_post_name        \n",
    "        product_post['WW'] = plan_ww_unique\n",
    "\n",
    "        plan_ww_unique = tmp_product['Plan Date'].unique()\n",
    "        plan_ww_unique.sort()\n",
    "        target_ww_unique = tmp_product['Date'].unique()\n",
    "        target_ww_unique.sort()\n",
    "\n",
    "        for i in range(0, len(target_ww_unique)):\n",
    "            tmp_var = []\n",
    "            for j in range(1, 13):\n",
    "                index_col = i-j if i-j > 0 else 0\n",
    "\n",
    "                if tmp_product[(tmp_product['Date']==target_ww_unique[i]) & (tmp_product['Plan Date']==(target_ww_unique[index_col]))].shape[0] > 0:\n",
    "                    tmp_var_val = tmp_product[(tmp_product['Date']==target_ww_unique[i]) &(tmp_product['Plan Date']==(target_ww_unique[index_col]))].iloc[0,2]\n",
    "                    tmp_var.append(tmp_var_val)\n",
    "                else:\n",
    "                    tmp_var.append(-999)\n",
    "            if i == 0:\n",
    "                tmp_product_var = tmp_var\n",
    "            else:\n",
    "                tmp_product_var = np.vstack((tmp_product_var, tmp_var))\n",
    "\n",
    "        product_var = pd.DataFrame(tmp_product_var)\n",
    "        product_var_name  = list(map(lambda x : 'Var_Product_'+str(x),  np.arange(1, 13, 1)))\n",
    "        product_var.columns = product_var_name\n",
    "        product_var['WW'] = target_ww_unique    \n",
    "    else:          \n",
    "        tmp_product = tmp_product.sort_values(by=['Plan Week'], axis=0)\n",
    "        product_set = tmp_product[['Plan Week', 'Result Qty_x']].copy()        \n",
    "        product_set.columns = list(['Week', 'Product'])\n",
    "\n",
    "tmp_product_ww = tmp_inven['Week'] # product_set['Week']\n",
    "for i in range(0, len(tmp_product_ww)):\n",
    "    tmp_prev = []\n",
    "    for j in range(1,13):\n",
    "        if product_set[product_set['Week'] == (tmp_product_ww[i]-j)].shape[0]>0:\n",
    "            tmp_prev_val = product_set[product_set['Week'] == (tmp_product_ww[i]-j)].iloc[0,1]\n",
    "            tmp_prev.append(tmp_prev_val)\n",
    "        else:\n",
    "            tmp_prev.append(-999)\n",
    "    if i == 0:\n",
    "        product_prev = tmp_prev\n",
    "    else:\n",
    "        product_prev = np.vstack((product_prev, tmp_prev))\n",
    "product_prev = pd.DataFrame(product_prev)\n",
    "product_prev_name  = list(map(lambda x : 'Prev_Product_'+str(x),  np.arange(1, 13, 1)))\n",
    "product_prev.columns = product_prev_name        \n",
    "product_prev['WW'] = tmp_product_ww\n",
    "\n",
    "product = pd.merge(pd.merge(pd.merge(pd.merge(worknum, product_set, how='left', on='Week'), \n",
    "                                    product_var, how='left', left_on='Week', right_on='WW'), \n",
    "                    product_post, how='left', left_on='Week', right_on='WW'), \n",
    "        product_prev, how='left', left_on='Week', right_on='WW')\n",
    "ww_col = [z for i,z in enumerate(product.columns) if 'WW' in z]\n",
    "product = product.drop(columns = ww_col)\n",
    "product.to_csv('E61D_Product.csv', index=False)"
   ]
  },
  {
   "cell_type": "code",
   "execution_count": null,
   "id": "66bf38b8-8a93-4832-8ab4-9265b766db48",
   "metadata": {},
   "outputs": [],
   "source": []
  }
 ],
 "metadata": {
  "kernelspec": {
   "display_name": "Python 3 (ipykernel)",
   "language": "python",
   "name": "python3"
  },
  "language_info": {
   "codemirror_mode": {
    "name": "ipython",
    "version": 3
   },
   "file_extension": ".py",
   "mimetype": "text/x-python",
   "name": "python",
   "nbconvert_exporter": "python",
   "pygments_lexer": "ipython3",
   "version": "3.9.5"
  }
 },
 "nbformat": 4,
 "nbformat_minor": 5
}
