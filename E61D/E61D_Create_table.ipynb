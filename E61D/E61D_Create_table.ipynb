{
 "cells": [
  {
   "cell_type": "code",
   "execution_count": 1,
   "id": "418065f2-d5a4-4315-b175-fd6126628026",
   "metadata": {},
   "outputs": [],
   "source": [
    "import pymysql, os, copy, json, time\n",
    "import pandas as pd\n",
    "import numpy as np\n",
    "from scipy.stats import mode"
   ]
  },
  {
   "cell_type": "code",
   "execution_count": 2,
   "id": "0e69705f-2231-4bc5-9a12-07badd2d8ab5",
   "metadata": {},
   "outputs": [],
   "source": [
    "def _call_db_info(db_name):\n",
    "    return pymysql.connect(\n",
    "        host = 'trend.cb7jqghocrtb.ap-northeast-2.rds.amazonaws.com',\n",
    "        port= 3306,\n",
    "        user = 'root',\n",
    "        password='ensol2020!',\n",
    "        db = db_name,\n",
    "        charset = 'utf8')"
   ]
  },
  {
   "cell_type": "code",
   "execution_count": 3,
   "id": "1a3f7122-6ab5-48b2-b9df-1a0f3869a879",
   "metadata": {},
   "outputs": [],
   "source": [
    "create_inven_rslt_sql = \"create table inven_rslt ( \\\n",
    "                                ww int not null, \\\n",
    "                                date varchar(10) not null, \\\n",
    "                                inven int not null, \\\n",
    "                                inven_prev1 int not null, \\\n",
    "                                inven_prev2 int not null, \\\n",
    "                                inven_prev3 int not null, \\\n",
    "                                inven_prev4 int not null, \\\n",
    "                                inven_prev5 int not null, \\\n",
    "                                inven_prev6 int not null, \\\n",
    "                                inven_prev7 int not null, \\\n",
    "                                inven_prev8 int not null) engine=InnoDB DEFAULT CHARSET =utf8;\"\n",
    "conn = _call_db_info('gscm_e61d')\n",
    "curs = conn.cursor()\n",
    "curs.execute(create_inven_rslt_sql) \n",
    "conn.commit()\n",
    "conn.close()   "
   ]
  },
  {
   "cell_type": "code",
   "execution_count": 5,
   "id": "40e127df-e7f7-4337-a765-a3f8a4b9557e",
   "metadata": {},
   "outputs": [],
   "source": [
    "create_prod_rslt_sql = \"create table prod_rslt ( \\\n",
    "                                ww int not null, \\\n",
    "                                date varchar(10) not null, \\\n",
    "                                prod int not null, \\\n",
    "                                prod_prev1 int not null, \\\n",
    "                                prod_prev2 int not null, \\\n",
    "                                prod_prev3 int not null, \\\n",
    "                                prod_prev4 int not null, \\\n",
    "                                prod_prev5 int not null, \\\n",
    "                                prod_prev6 int not null, \\\n",
    "                                prod_prev7 int not null, \\\n",
    "                                prod_prev8 int not null, \\\n",
    "                                prod_prev9 int not null, \\\n",
    "                                prod_prev10 int not null, \\\n",
    "                                prod_prev11 int not null, \\\n",
    "                                prod_prev12 int not null) engine=InnoDB DEFAULT CHARSET =utf8;\"\n",
    "conn = _call_db_info('gscm_e61d')\n",
    "curs = conn.cursor()\n",
    "curs.execute(create_prod_rslt_sql) \n",
    "conn.commit()\n",
    "conn.close()   "
   ]
  },
  {
   "cell_type": "code",
   "execution_count": 6,
   "id": "7a4dd75f-10fa-4376-a081-317e5057e82a",
   "metadata": {},
   "outputs": [],
   "source": [
    "create_prod_plan_sql = \"create table prod_plan ( \\\n",
    "                                ww int not null, \\\n",
    "                                date varchar(10) not null, \\\n",
    "                                prod_plan varchar(5000) not null) engine=InnoDB DEFAULT CHARSET =utf8;\"\n",
    "conn = _call_db_info('gscm_e61d')\n",
    "curs = conn.cursor()\n",
    "curs.execute(create_prod_plan_sql) \n",
    "conn.commit()\n",
    "conn.close()   "
   ]
  },
  {
   "cell_type": "code",
   "execution_count": 8,
   "id": "ff893f39-6cd4-42bf-9c02-6201f4c740ab",
   "metadata": {},
   "outputs": [],
   "source": [
    "create_prod_prev_sql = \"create table prod_prev ( \\\n",
    "                                ww int not null, \\\n",
    "                                date varchar(10) not null, \\\n",
    "                                prod_prev varchar(5000) not null) engine=InnoDB DEFAULT CHARSET =utf8;\"\n",
    "conn = _call_db_info('gscm_e61d')\n",
    "curs = conn.cursor()\n",
    "curs.execute(create_prod_prev_sql) \n",
    "conn.commit()\n",
    "conn.close()   "
   ]
  },
  {
   "cell_type": "code",
   "execution_count": 9,
   "id": "40d84eed-d346-4979-9e1a-68222eb17170",
   "metadata": {},
   "outputs": [],
   "source": [
    "create_sale_plan_sql = \"create table sale_plan ( \\\n",
    "                                ww int not null, \\\n",
    "                                date varchar(10) not null, \\\n",
    "                                sale_plan varchar(5000) not null) engine=InnoDB DEFAULT CHARSET =utf8;\"\n",
    "conn = _call_db_info('gscm_e61d')\n",
    "curs = conn.cursor()\n",
    "curs.execute(create_sale_plan_sql) \n",
    "conn.commit()\n",
    "conn.close() "
   ]
  },
  {
   "cell_type": "code",
   "execution_count": 10,
   "id": "e8975bd0-65fc-4a9b-a1a8-91d8c0ea896b",
   "metadata": {},
   "outputs": [],
   "source": [
    "create_sale_rslt_sql = \"create table sale_rslt ( \\\n",
    "                                ww int not null, \\\n",
    "                                date varchar(10) not null, \\\n",
    "                                sale int not null, \\\n",
    "                                sale_prev1 int not null, \\\n",
    "                                sale_prev2 int not null, \\\n",
    "                                sale_prev3 int not null, \\\n",
    "                                sale_prev4 int not null, \\\n",
    "                                sale_prev5 int not null, \\\n",
    "                                sale_prev6 int not null, \\\n",
    "                                sale_prev7 int not null, \\\n",
    "                                sale_prev8 int not null, \\\n",
    "                                sale_prev9 int not null, \\\n",
    "                                sale_prev10 int not null, \\\n",
    "                                sale_prev11 int not null, \\\n",
    "                                sale_prev12 int not null) engine=InnoDB DEFAULT CHARSET =utf8;\"\n",
    "conn = _call_db_info('gscm_e61d')\n",
    "curs = conn.cursor()\n",
    "curs.execute(create_sale_rslt_sql) \n",
    "conn.commit()\n",
    "conn.close()   "
   ]
  },
  {
   "cell_type": "code",
   "execution_count": 11,
   "id": "708b58cb-9d09-47d7-97dd-b40d68ae41dd",
   "metadata": {},
   "outputs": [],
   "source": [
    "create_sale_prev_sql = \"create table sale_prev ( \\\n",
    "                                ww int not null, \\\n",
    "                                date varchar(10) not null, \\\n",
    "                                sale_prev varchar(5000) not null) engine=InnoDB DEFAULT CHARSET =utf8;\"\n",
    "conn = _call_db_info('gscm_e61d')\n",
    "curs = conn.cursor()\n",
    "curs.execute(create_sale_prev_sql) \n",
    "conn.commit()\n",
    "conn.close()   "
   ]
  },
  {
   "cell_type": "code",
   "execution_count": null,
   "id": "8c1767f0-6e4e-4262-b62d-828c689a6cc5",
   "metadata": {},
   "outputs": [],
   "source": []
  }
 ],
 "metadata": {
  "kernelspec": {
   "display_name": "Python 3 (ipykernel)",
   "language": "python",
   "name": "python3"
  },
  "language_info": {
   "codemirror_mode": {
    "name": "ipython",
    "version": 3
   },
   "file_extension": ".py",
   "mimetype": "text/x-python",
   "name": "python",
   "nbconvert_exporter": "python",
   "pygments_lexer": "ipython3",
   "version": "3.9.5"
  }
 },
 "nbformat": 4,
 "nbformat_minor": 5
}
