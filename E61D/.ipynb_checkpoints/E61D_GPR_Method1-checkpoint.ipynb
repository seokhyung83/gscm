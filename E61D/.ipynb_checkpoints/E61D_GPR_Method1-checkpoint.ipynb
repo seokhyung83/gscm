{
 "cells": [
  {
   "cell_type": "code",
   "execution_count": 1,
   "id": "2903846a",
   "metadata": {},
   "outputs": [],
   "source": [
    "import os, random, time, pymysql\n",
    "import xgboost\n",
    "import datetime\n",
    "\n",
    "import numpy as np\n",
    "import pandas as pd\n",
    "import matplotlib.pyplot as plt\n",
    "import plotly.graph_objects as go\n",
    "\n",
    "#from fbprophet import Prophet\n",
    "from sklearn.linear_model import LinearRegression as LR\n",
    "from sklearn.kernel_ridge import KernelRidge as KR\n",
    "from sklearn.linear_model import Ridge, ElasticNet, BayesianRidge, Lars, Lasso\n",
    "from sklearn.ensemble import RandomForestRegressor as RF\n",
    "\n",
    "from sklearn.metrics import r2_score\n",
    "from sklearn.gaussian_process import GaussianProcessRegressor as gpr\n",
    "from sklearn.gaussian_process.kernels import RBF, DotProduct, WhiteKernel\n",
    "\n",
    "import warnings\n",
    "\n",
    "from bayes_opt import BayesianOptimization\n",
    "\n",
    "from sklearn.gaussian_process import GaussianProcessRegressor\n",
    "from sklearn.gaussian_process.kernels import RBF, ConstantKernel as C"
   ]
  },
  {
   "cell_type": "code",
   "execution_count": 2,
   "id": "abb67551",
   "metadata": {
    "jupyter": {
     "source_hidden": true
    },
    "tags": []
   },
   "outputs": [],
   "source": [
    "def _call_db_info(db_name):\n",
    "    return pymysql.connect(\n",
    "        host = 'trend.cb7jqghocrtb.ap-northeast-2.rds.amazonaws.com',\n",
    "        port= 3306,\n",
    "        user = 'root',\n",
    "        password='ensol2020!',\n",
    "        db = db_name,\n",
    "        charset = 'utf8')\n",
    "\n",
    "def h_opt(theta1, g_alpha, k_dot, w_noise, rbf_l, tmp_prev_inven_col, tmp_var_sale_col, tmp_var_product_col):\n",
    "    prev_inven_col = round(tmp_prev_inven_col)\n",
    "    var_sale_col, var_product_col = round(tmp_var_sale_col), round(tmp_var_product_col)     \n",
    "    \n",
    "    train_set = opt_set[:-4].reset_index(drop=True)\n",
    "    valid_set = opt_set[-4:].reset_index(drop=True)\n",
    "    prev_inven_name   = [s for s in train_set.columns.values if 'prev_inven_' in s]    \n",
    "    var_sale_name     = [s for s in train_set.columns.values if 'sales_prev_' in s]\n",
    "    var_product_name  = [s for s in train_set.columns.values if 'product_prev_' in s]    \n",
    "    train_x_name = prev_inven_name[:prev_inven_col]+var_sale_name[:var_sale_col]+var_product_name[:var_product_col]\n",
    "    kernel =  theta1 * RBF(rbf_l) + WhiteKernel(w_noise)  + DotProduct(k_dot) ## RBF(2) + WhiteKernel(1)  + \n",
    "    gp = GaussianProcessRegressor(kernel=kernel, alpha=g_alpha, n_restarts_optimizer=3)\n",
    "    gp.fit(train_set[train_x_name], train_set['inven'])\n",
    "    \n",
    "    train_pred, train_sigma = gp.predict(train_set[train_x_name], return_std=True)\n",
    "    valid_pred, valid_sigma = gp.predict(valid_set[train_x_name], return_std=True)\n",
    "    x_pred_ = np.concatenate((train_pred, valid_pred)) \n",
    "    y_ = np.concatenate((train_set['inven'], valid_set['inven'])) \n",
    "\n",
    "    real_ = np.mean(np.ones_like(train_set['inven']) - np.clip(np.abs(train_set['inven'] - train_pred) / train_set['inven'] , 0, 1)) * 100     \n",
    "    fcst_ = np.mean(np.ones_like(valid_set['inven']) - np.clip(np.abs(valid_set['inven'] - valid_pred) / valid_set['inven'] , 0, 1)) * 100    \n",
    "    return fcst_    "
   ]
  },
  {
   "cell_type": "code",
   "execution_count": 127,
   "id": "b85bba8c",
   "metadata": {
    "jupyter": {
     "source_hidden": true
    },
    "tags": []
   },
   "outputs": [],
   "source": [
    "dt_sql        = \"select * from dt_table\"\n",
    "inven_sql     = \"select * from inven_rslt\"\n",
    "prod_plan_sql = \"select * from prod_plan\"\n",
    "prod_rslt_sql = \"select * from prod_rslt\"\n",
    "prod_prev_sql = \"select * from prod_prev\"\n",
    "\n",
    "sale_plan_sql = \"select * from sale_plan\"\n",
    "sale_rslt_sql = \"select * from sale_rslt\"\n",
    "sale_prev_sql = \"select * from sale_prev\"\n",
    "\n",
    "conn = _call_db_info('gscm_e61d')\n",
    "curs = conn.cursor()\n",
    "curs.execute(dt_sql) \n",
    "dt_table = pd.DataFrame(curs.fetchall())\n",
    "dt_table.columns =['No', 'ww']    \n",
    "curs.execute(\"show columns from inven_rslt\")\n",
    "tmp_col = pd.DataFrame(curs.fetchall())\n",
    "curs.execute(inven_sql) \n",
    "y_inven = pd.DataFrame(curs.fetchall())\n",
    "y_inven.columns = tmp_col.iloc[:,0].tolist()\n",
    "y_inven = y_inven.astype({'ww' : 'str'})\n",
    "\n",
    "curs.execute(\"show columns from prod_plan\")\n",
    "tmp_col = pd.DataFrame(curs.fetchall())\n",
    "curs.execute(prod_plan_sql)\n",
    "prod_plan = pd.DataFrame(curs.fetchall())\n",
    "prod_plan.columns = tmp_col.iloc[:,0].tolist()\n",
    "\n",
    "curs.execute(\"show columns from prod_rslt\")\n",
    "tmp_col = pd.DataFrame(curs.fetchall())\n",
    "curs.execute(prod_rslt_sql)\n",
    "prod_rslt = pd.DataFrame(curs.fetchall())\n",
    "prod_rslt.columns = tmp_col.iloc[:,0].tolist()\n",
    "\n",
    "curs.execute(\"show columns from prod_prev\")\n",
    "tmp_col = pd.DataFrame(curs.fetchall())\n",
    "curs.execute(prod_prev_sql)\n",
    "prod_prev = pd.DataFrame(curs.fetchall())\n",
    "prod_prev.columns = tmp_col.iloc[:,0].tolist()\n",
    "\n",
    "\n",
    "curs.execute(\"show columns from sale_plan\")\n",
    "tmp_col = pd.DataFrame(curs.fetchall())\n",
    "curs.execute(sale_plan_sql)\n",
    "sale_plan = pd.DataFrame(curs.fetchall())\n",
    "sale_plan.columns = tmp_col.iloc[:,0].tolist()\n",
    "\n",
    "curs.execute(\"show columns from sale_rslt\")\n",
    "tmp_col = pd.DataFrame(curs.fetchall())\n",
    "curs.execute(sale_rslt_sql)\n",
    "sale_rslt = pd.DataFrame(curs.fetchall())\n",
    "sale_rslt.columns = tmp_col.iloc[:,0].tolist()\n",
    "\n",
    "curs.execute(\"show columns from sale_prev\")\n",
    "tmp_col = pd.DataFrame(curs.fetchall())\n",
    "curs.execute(sale_prev_sql)\n",
    "sale_prev = pd.DataFrame(curs.fetchall())\n",
    "sale_prev.columns = tmp_col.iloc[:,0].tolist()\n",
    "\n",
    "\n",
    "conn.commit()\n",
    "conn.close()"
   ]
  },
  {
   "cell_type": "code",
   "execution_count": 23,
   "id": "a5e6add9-df97-4546-9336-9f9b32806a54",
   "metadata": {},
   "outputs": [],
   "source": [
    "sale_rslt = sale_rslt.astype({'ww' : 'str'})\n",
    "prod_rslt = prod_rslt.astype({'ww' : 'str'})"
   ]
  },
  {
   "cell_type": "code",
   "execution_count": 21,
   "id": "8b542f0c-bd18-4096-a802-d539af68f809",
   "metadata": {},
   "outputs": [
    {
     "data": {
      "application/vnd.plotly.v1+json": {
       "config": {
        "plotlyServerURL": "https://plot.ly"
       },
       "data": [
        {
         "mode": "lines+markers",
         "type": "scatter",
         "x": [
          "202001",
          "202002",
          "202003",
          "202004",
          "202005",
          "202006",
          "202007",
          "202008",
          "202009",
          "202010",
          "202011",
          "202012",
          "202013",
          "202014",
          "202015",
          "202016",
          "202017",
          "202018",
          "202019",
          "202020",
          "202021",
          "202022",
          "202023",
          "202024",
          "202025",
          "202026",
          "202027",
          "202028",
          "202029",
          "202030",
          "202031",
          "202032",
          "202033",
          "202034",
          "202035",
          "202036",
          "202037",
          "202038",
          "202039",
          "202040",
          "202041",
          "202042",
          "202043",
          "202044",
          "202045",
          "202046",
          "202047",
          "202048",
          "202049",
          "202050",
          "202051",
          "202052",
          "202053",
          "202101",
          "202102",
          "202103",
          "202104",
          "202105",
          "202106",
          "202107",
          "202108",
          "202109",
          "202110",
          "202111",
          "202112",
          "202113",
          "202114",
          "202115",
          "202116",
          "202117",
          "202118",
          "202119",
          "202120",
          "202121",
          "202122",
          "202123",
          "202124",
          "202125",
          "202126",
          "202127",
          "202128",
          "202129"
         ],
         "y": [
          29862,
          128520,
          120960,
          120960,
          105840,
          74844,
          75600,
          150594,
          120960,
          119826,
          77112,
          107730,
          115975,
          70686,
          45360,
          90720,
          117180,
          57456,
          146219,
          75351,
          105324,
          332262,
          30240,
          90339,
          211674,
          136080,
          181440,
          0,
          257040,
          241481,
          90720,
          241920,
          226800,
          161406,
          166320,
          136080,
          241920,
          211680,
          226796,
          211676,
          287280,
          272160,
          166314,
          289170,
          332640,
          241920,
          362880,
          332368,
          483840,
          316008,
          279158,
          0,
          0,
          0,
          15120,
          271782,
          166320,
          196556,
          193535,
          317452,
          408191,
          287280,
          302400,
          302393,
          317520,
          226800,
          90720,
          392668,
          241920,
          256749,
          0,
          0,
          120960,
          302400,
          90711,
          257040,
          0,
          378,
          211656,
          181239,
          30240,
          0
         ]
        }
       ],
       "layout": {
        "autosize": true,
        "margin": {
         "b": 10,
         "l": 10,
         "r": 15,
         "t": 15
        },
        "template": {
         "data": {
          "bar": [
           {
            "error_x": {
             "color": "#2a3f5f"
            },
            "error_y": {
             "color": "#2a3f5f"
            },
            "marker": {
             "line": {
              "color": "#E5ECF6",
              "width": 0.5
             },
             "pattern": {
              "fillmode": "overlay",
              "size": 10,
              "solidity": 0.2
             }
            },
            "type": "bar"
           }
          ],
          "barpolar": [
           {
            "marker": {
             "line": {
              "color": "#E5ECF6",
              "width": 0.5
             },
             "pattern": {
              "fillmode": "overlay",
              "size": 10,
              "solidity": 0.2
             }
            },
            "type": "barpolar"
           }
          ],
          "carpet": [
           {
            "aaxis": {
             "endlinecolor": "#2a3f5f",
             "gridcolor": "white",
             "linecolor": "white",
             "minorgridcolor": "white",
             "startlinecolor": "#2a3f5f"
            },
            "baxis": {
             "endlinecolor": "#2a3f5f",
             "gridcolor": "white",
             "linecolor": "white",
             "minorgridcolor": "white",
             "startlinecolor": "#2a3f5f"
            },
            "type": "carpet"
           }
          ],
          "choropleth": [
           {
            "colorbar": {
             "outlinewidth": 0,
             "ticks": ""
            },
            "type": "choropleth"
           }
          ],
          "contour": [
           {
            "colorbar": {
             "outlinewidth": 0,
             "ticks": ""
            },
            "colorscale": [
             [
              0,
              "#0d0887"
             ],
             [
              0.1111111111111111,
              "#46039f"
             ],
             [
              0.2222222222222222,
              "#7201a8"
             ],
             [
              0.3333333333333333,
              "#9c179e"
             ],
             [
              0.4444444444444444,
              "#bd3786"
             ],
             [
              0.5555555555555556,
              "#d8576b"
             ],
             [
              0.6666666666666666,
              "#ed7953"
             ],
             [
              0.7777777777777778,
              "#fb9f3a"
             ],
             [
              0.8888888888888888,
              "#fdca26"
             ],
             [
              1,
              "#f0f921"
             ]
            ],
            "type": "contour"
           }
          ],
          "contourcarpet": [
           {
            "colorbar": {
             "outlinewidth": 0,
             "ticks": ""
            },
            "type": "contourcarpet"
           }
          ],
          "heatmap": [
           {
            "colorbar": {
             "outlinewidth": 0,
             "ticks": ""
            },
            "colorscale": [
             [
              0,
              "#0d0887"
             ],
             [
              0.1111111111111111,
              "#46039f"
             ],
             [
              0.2222222222222222,
              "#7201a8"
             ],
             [
              0.3333333333333333,
              "#9c179e"
             ],
             [
              0.4444444444444444,
              "#bd3786"
             ],
             [
              0.5555555555555556,
              "#d8576b"
             ],
             [
              0.6666666666666666,
              "#ed7953"
             ],
             [
              0.7777777777777778,
              "#fb9f3a"
             ],
             [
              0.8888888888888888,
              "#fdca26"
             ],
             [
              1,
              "#f0f921"
             ]
            ],
            "type": "heatmap"
           }
          ],
          "heatmapgl": [
           {
            "colorbar": {
             "outlinewidth": 0,
             "ticks": ""
            },
            "colorscale": [
             [
              0,
              "#0d0887"
             ],
             [
              0.1111111111111111,
              "#46039f"
             ],
             [
              0.2222222222222222,
              "#7201a8"
             ],
             [
              0.3333333333333333,
              "#9c179e"
             ],
             [
              0.4444444444444444,
              "#bd3786"
             ],
             [
              0.5555555555555556,
              "#d8576b"
             ],
             [
              0.6666666666666666,
              "#ed7953"
             ],
             [
              0.7777777777777778,
              "#fb9f3a"
             ],
             [
              0.8888888888888888,
              "#fdca26"
             ],
             [
              1,
              "#f0f921"
             ]
            ],
            "type": "heatmapgl"
           }
          ],
          "histogram": [
           {
            "marker": {
             "pattern": {
              "fillmode": "overlay",
              "size": 10,
              "solidity": 0.2
             }
            },
            "type": "histogram"
           }
          ],
          "histogram2d": [
           {
            "colorbar": {
             "outlinewidth": 0,
             "ticks": ""
            },
            "colorscale": [
             [
              0,
              "#0d0887"
             ],
             [
              0.1111111111111111,
              "#46039f"
             ],
             [
              0.2222222222222222,
              "#7201a8"
             ],
             [
              0.3333333333333333,
              "#9c179e"
             ],
             [
              0.4444444444444444,
              "#bd3786"
             ],
             [
              0.5555555555555556,
              "#d8576b"
             ],
             [
              0.6666666666666666,
              "#ed7953"
             ],
             [
              0.7777777777777778,
              "#fb9f3a"
             ],
             [
              0.8888888888888888,
              "#fdca26"
             ],
             [
              1,
              "#f0f921"
             ]
            ],
            "type": "histogram2d"
           }
          ],
          "histogram2dcontour": [
           {
            "colorbar": {
             "outlinewidth": 0,
             "ticks": ""
            },
            "colorscale": [
             [
              0,
              "#0d0887"
             ],
             [
              0.1111111111111111,
              "#46039f"
             ],
             [
              0.2222222222222222,
              "#7201a8"
             ],
             [
              0.3333333333333333,
              "#9c179e"
             ],
             [
              0.4444444444444444,
              "#bd3786"
             ],
             [
              0.5555555555555556,
              "#d8576b"
             ],
             [
              0.6666666666666666,
              "#ed7953"
             ],
             [
              0.7777777777777778,
              "#fb9f3a"
             ],
             [
              0.8888888888888888,
              "#fdca26"
             ],
             [
              1,
              "#f0f921"
             ]
            ],
            "type": "histogram2dcontour"
           }
          ],
          "mesh3d": [
           {
            "colorbar": {
             "outlinewidth": 0,
             "ticks": ""
            },
            "type": "mesh3d"
           }
          ],
          "parcoords": [
           {
            "line": {
             "colorbar": {
              "outlinewidth": 0,
              "ticks": ""
             }
            },
            "type": "parcoords"
           }
          ],
          "pie": [
           {
            "automargin": true,
            "type": "pie"
           }
          ],
          "scatter": [
           {
            "marker": {
             "colorbar": {
              "outlinewidth": 0,
              "ticks": ""
             }
            },
            "type": "scatter"
           }
          ],
          "scatter3d": [
           {
            "line": {
             "colorbar": {
              "outlinewidth": 0,
              "ticks": ""
             }
            },
            "marker": {
             "colorbar": {
              "outlinewidth": 0,
              "ticks": ""
             }
            },
            "type": "scatter3d"
           }
          ],
          "scattercarpet": [
           {
            "marker": {
             "colorbar": {
              "outlinewidth": 0,
              "ticks": ""
             }
            },
            "type": "scattercarpet"
           }
          ],
          "scattergeo": [
           {
            "marker": {
             "colorbar": {
              "outlinewidth": 0,
              "ticks": ""
             }
            },
            "type": "scattergeo"
           }
          ],
          "scattergl": [
           {
            "marker": {
             "colorbar": {
              "outlinewidth": 0,
              "ticks": ""
             }
            },
            "type": "scattergl"
           }
          ],
          "scattermapbox": [
           {
            "marker": {
             "colorbar": {
              "outlinewidth": 0,
              "ticks": ""
             }
            },
            "type": "scattermapbox"
           }
          ],
          "scatterpolar": [
           {
            "marker": {
             "colorbar": {
              "outlinewidth": 0,
              "ticks": ""
             }
            },
            "type": "scatterpolar"
           }
          ],
          "scatterpolargl": [
           {
            "marker": {
             "colorbar": {
              "outlinewidth": 0,
              "ticks": ""
             }
            },
            "type": "scatterpolargl"
           }
          ],
          "scatterternary": [
           {
            "marker": {
             "colorbar": {
              "outlinewidth": 0,
              "ticks": ""
             }
            },
            "type": "scatterternary"
           }
          ],
          "surface": [
           {
            "colorbar": {
             "outlinewidth": 0,
             "ticks": ""
            },
            "colorscale": [
             [
              0,
              "#0d0887"
             ],
             [
              0.1111111111111111,
              "#46039f"
             ],
             [
              0.2222222222222222,
              "#7201a8"
             ],
             [
              0.3333333333333333,
              "#9c179e"
             ],
             [
              0.4444444444444444,
              "#bd3786"
             ],
             [
              0.5555555555555556,
              "#d8576b"
             ],
             [
              0.6666666666666666,
              "#ed7953"
             ],
             [
              0.7777777777777778,
              "#fb9f3a"
             ],
             [
              0.8888888888888888,
              "#fdca26"
             ],
             [
              1,
              "#f0f921"
             ]
            ],
            "type": "surface"
           }
          ],
          "table": [
           {
            "cells": {
             "fill": {
              "color": "#EBF0F8"
             },
             "line": {
              "color": "white"
             }
            },
            "header": {
             "fill": {
              "color": "#C8D4E3"
             },
             "line": {
              "color": "white"
             }
            },
            "type": "table"
           }
          ]
         },
         "layout": {
          "annotationdefaults": {
           "arrowcolor": "#2a3f5f",
           "arrowhead": 0,
           "arrowwidth": 1
          },
          "autotypenumbers": "strict",
          "coloraxis": {
           "colorbar": {
            "outlinewidth": 0,
            "ticks": ""
           }
          },
          "colorscale": {
           "diverging": [
            [
             0,
             "#8e0152"
            ],
            [
             0.1,
             "#c51b7d"
            ],
            [
             0.2,
             "#de77ae"
            ],
            [
             0.3,
             "#f1b6da"
            ],
            [
             0.4,
             "#fde0ef"
            ],
            [
             0.5,
             "#f7f7f7"
            ],
            [
             0.6,
             "#e6f5d0"
            ],
            [
             0.7,
             "#b8e186"
            ],
            [
             0.8,
             "#7fbc41"
            ],
            [
             0.9,
             "#4d9221"
            ],
            [
             1,
             "#276419"
            ]
           ],
           "sequential": [
            [
             0,
             "#0d0887"
            ],
            [
             0.1111111111111111,
             "#46039f"
            ],
            [
             0.2222222222222222,
             "#7201a8"
            ],
            [
             0.3333333333333333,
             "#9c179e"
            ],
            [
             0.4444444444444444,
             "#bd3786"
            ],
            [
             0.5555555555555556,
             "#d8576b"
            ],
            [
             0.6666666666666666,
             "#ed7953"
            ],
            [
             0.7777777777777778,
             "#fb9f3a"
            ],
            [
             0.8888888888888888,
             "#fdca26"
            ],
            [
             1,
             "#f0f921"
            ]
           ],
           "sequentialminus": [
            [
             0,
             "#0d0887"
            ],
            [
             0.1111111111111111,
             "#46039f"
            ],
            [
             0.2222222222222222,
             "#7201a8"
            ],
            [
             0.3333333333333333,
             "#9c179e"
            ],
            [
             0.4444444444444444,
             "#bd3786"
            ],
            [
             0.5555555555555556,
             "#d8576b"
            ],
            [
             0.6666666666666666,
             "#ed7953"
            ],
            [
             0.7777777777777778,
             "#fb9f3a"
            ],
            [
             0.8888888888888888,
             "#fdca26"
            ],
            [
             1,
             "#f0f921"
            ]
           ]
          },
          "colorway": [
           "#636efa",
           "#EF553B",
           "#00cc96",
           "#ab63fa",
           "#FFA15A",
           "#19d3f3",
           "#FF6692",
           "#B6E880",
           "#FF97FF",
           "#FECB52"
          ],
          "font": {
           "color": "#2a3f5f"
          },
          "geo": {
           "bgcolor": "white",
           "lakecolor": "white",
           "landcolor": "#E5ECF6",
           "showlakes": true,
           "showland": true,
           "subunitcolor": "white"
          },
          "hoverlabel": {
           "align": "left"
          },
          "hovermode": "closest",
          "mapbox": {
           "style": "light"
          },
          "paper_bgcolor": "white",
          "plot_bgcolor": "#E5ECF6",
          "polar": {
           "angularaxis": {
            "gridcolor": "white",
            "linecolor": "white",
            "ticks": ""
           },
           "bgcolor": "#E5ECF6",
           "radialaxis": {
            "gridcolor": "white",
            "linecolor": "white",
            "ticks": ""
           }
          },
          "scene": {
           "xaxis": {
            "backgroundcolor": "#E5ECF6",
            "gridcolor": "white",
            "gridwidth": 2,
            "linecolor": "white",
            "showbackground": true,
            "ticks": "",
            "zerolinecolor": "white"
           },
           "yaxis": {
            "backgroundcolor": "#E5ECF6",
            "gridcolor": "white",
            "gridwidth": 2,
            "linecolor": "white",
            "showbackground": true,
            "ticks": "",
            "zerolinecolor": "white"
           },
           "zaxis": {
            "backgroundcolor": "#E5ECF6",
            "gridcolor": "white",
            "gridwidth": 2,
            "linecolor": "white",
            "showbackground": true,
            "ticks": "",
            "zerolinecolor": "white"
           }
          },
          "shapedefaults": {
           "line": {
            "color": "#2a3f5f"
           }
          },
          "ternary": {
           "aaxis": {
            "gridcolor": "white",
            "linecolor": "white",
            "ticks": ""
           },
           "baxis": {
            "gridcolor": "white",
            "linecolor": "white",
            "ticks": ""
           },
           "bgcolor": "#E5ECF6",
           "caxis": {
            "gridcolor": "white",
            "linecolor": "white",
            "ticks": ""
           }
          },
          "title": {
           "x": 0.05
          },
          "xaxis": {
           "automargin": true,
           "gridcolor": "white",
           "linecolor": "white",
           "ticks": "",
           "title": {
            "standoff": 15
           },
           "zerolinecolor": "white",
           "zerolinewidth": 2
          },
          "yaxis": {
           "automargin": true,
           "gridcolor": "white",
           "linecolor": "white",
           "ticks": "",
           "title": {
            "standoff": 15
           },
           "zerolinecolor": "white",
           "zerolinewidth": 2
          }
         }
        },
        "xaxis": {
         "autorange": true,
         "range": [
          -4.775195694716242,
          85.77519569471625
         ],
         "type": "category"
        },
        "yaxis": {
         "autorange": true,
         "range": [
          -35065.14007308162,
          518905.1400730816
         ],
         "type": "linear"
        }
       }
      },
      "image/png": "[encoded data removed]",
      "text/html": [
       "<div>                            <div id=\"e02b52d5-d823-43b1-aff3-7540cd96abb3\" class=\"plotly-graph-div\" style=\"height:525px; width:100%;\"></div>            <script type=\"text/javascript\">                require([\"plotly\"], function(Plotly) {                    window.PLOTLYENV=window.PLOTLYENV || {};                                    if (document.getElementById(\"e02b52d5-d823-43b1-aff3-7540cd96abb3\")) {                    Plotly.newPlot(                        \"e02b52d5-d823-43b1-aff3-7540cd96abb3\",                        [{\"mode\":\"lines+markers\",\"type\":\"scatter\",\"x\":[\"202001\",\"202002\",\"202003\",\"202004\",\"202005\",\"202006\",\"202007\",\"202008\",\"202009\",\"202010\",\"202011\",\"202012\",\"202013\",\"202014\",\"202015\",\"202016\",\"202017\",\"202018\",\"202019\",\"202020\",\"202021\",\"202022\",\"202023\",\"202024\",\"202025\",\"202026\",\"202027\",\"202028\",\"202029\",\"202030\",\"202031\",\"202032\",\"202033\",\"202034\",\"202035\",\"202036\",\"202037\",\"202038\",\"202039\",\"202040\",\"202041\",\"202042\",\"202043\",\"202044\",\"202045\",\"202046\",\"202047\",\"202048\",\"202049\",\"202050\",\"202051\",\"202052\",\"202053\",\"202101\",\"202102\",\"202103\",\"202104\",\"202105\",\"202106\",\"202107\",\"202108\",\"202109\",\"202110\",\"202111\",\"202112\",\"202113\",\"202114\",\"202115\",\"202116\",\"202117\",\"202118\",\"202119\",\"202120\",\"202121\",\"202122\",\"202123\",\"202124\",\"202125\",\"202126\",\"202127\",\"202128\",\"202129\"],\"y\":[29862,128520,120960,120960,105840,74844,75600,150594,120960,119826,77112,107730,115975,70686,45360,90720,117180,57456,146219,75351,105324,332262,30240,90339,211674,136080,181440,0,257040,241481,90720,241920,226800,161406,166320,136080,241920,211680,226796,211676,287280,272160,166314,289170,332640,241920,362880,332368,483840,316008,279158,0,0,0,15120,271782,166320,196556,193535,317452,408191,287280,302400,302393,317520,226800,90720,392668,241920,256749,0,0,120960,302400,90711,257040,0,378,211656,181239,30240,0]}],                        {\"margin\":{\"b\":10,\"l\":10,\"r\":15,\"t\":15},\"template\":{\"data\":{\"bar\":[{\"error_x\":{\"color\":\"#2a3f5f\"},\"error_y\":{\"color\":\"#2a3f5f\"},\"marker\":{\"line\":{\"color\":\"#E5ECF6\",\"width\":0.5},\"pattern\":{\"fillmode\":\"overlay\",\"size\":10,\"solidity\":0.2}},\"type\":\"bar\"}],\"barpolar\":[{\"marker\":{\"line\":{\"color\":\"#E5ECF6\",\"width\":0.5},\"pattern\":{\"fillmode\":\"overlay\",\"size\":10,\"solidity\":0.2}},\"type\":\"barpolar\"}],\"carpet\":[{\"aaxis\":{\"endlinecolor\":\"#2a3f5f\",\"gridcolor\":\"white\",\"linecolor\":\"white\",\"minorgridcolor\":\"white\",\"startlinecolor\":\"#2a3f5f\"},\"baxis\":{\"endlinecolor\":\"#2a3f5f\",\"gridcolor\":\"white\",\"linecolor\":\"white\",\"minorgridcolor\":\"white\",\"startlinecolor\":\"#2a3f5f\"},\"type\":\"carpet\"}],\"choropleth\":[{\"colorbar\":{\"outlinewidth\":0,\"ticks\":\"\"},\"type\":\"choropleth\"}],\"contour\":[{\"colorbar\":{\"outlinewidth\":0,\"ticks\":\"\"},\"colorscale\":[[0.0,\"#0d0887\"],[0.1111111111111111,\"#46039f\"],[0.2222222222222222,\"#7201a8\"],[0.3333333333333333,\"#9c179e\"],[0.4444444444444444,\"#bd3786\"],[0.5555555555555556,\"#d8576b\"],[0.6666666666666666,\"#ed7953\"],[0.7777777777777778,\"#fb9f3a\"],[0.8888888888888888,\"#fdca26\"],[1.0,\"#f0f921\"]],\"type\":\"contour\"}],\"contourcarpet\":[{\"colorbar\":{\"outlinewidth\":0,\"ticks\":\"\"},\"type\":\"contourcarpet\"}],\"heatmap\":[{\"colorbar\":{\"outlinewidth\":0,\"ticks\":\"\"},\"colorscale\":[[0.0,\"#0d0887\"],[0.1111111111111111,\"#46039f\"],[0.2222222222222222,\"#7201a8\"],[0.3333333333333333,\"#9c179e\"],[0.4444444444444444,\"#bd3786\"],[0.5555555555555556,\"#d8576b\"],[0.6666666666666666,\"#ed7953\"],[0.7777777777777778,\"#fb9f3a\"],[0.8888888888888888,\"#fdca26\"],[1.0,\"#f0f921\"]],\"type\":\"heatmap\"}],\"heatmapgl\":[{\"colorbar\":{\"outlinewidth\":0,\"ticks\":\"\"},\"colorscale\":[[0.0,\"#0d0887\"],[0.1111111111111111,\"#46039f\"],[0.2222222222222222,\"#7201a8\"],[0.3333333333333333,\"#9c179e\"],[0.4444444444444444,\"#bd3786\"],[0.5555555555555556,\"#d8576b\"],[0.6666666666666666,\"#ed7953\"],[0.7777777777777778,\"#fb9f3a\"],[0.8888888888888888,\"#fdca26\"],[1.0,\"#f0f921\"]],\"type\":\"heatmapgl\"}],\"histogram\":[{\"marker\":{\"pattern\":{\"fillmode\":\"overlay\",\"size\":10,\"solidity\":0.2}},\"type\":\"histogram\"}],\"histogram2d\":[{\"colorbar\":{\"outlinewidth\":0,\"ticks\":\"\"},\"colorscale\":[[0.0,\"#0d0887\"],[0.1111111111111111,\"#46039f\"],[0.2222222222222222,\"#7201a8\"],[0.3333333333333333,\"#9c179e\"],[0.4444444444444444,\"#bd3786\"],[0.5555555555555556,\"#d8576b\"],[0.6666666666666666,\"#ed7953\"],[0.7777777777777778,\"#fb9f3a\"],[0.8888888888888888,\"#fdca26\"],[1.0,\"#f0f921\"]],\"type\":\"histogram2d\"}],\"histogram2dcontour\":[{\"colorbar\":{\"outlinewidth\":0,\"ticks\":\"\"},\"colorscale\":[[0.0,\"#0d0887\"],[0.1111111111111111,\"#46039f\"],[0.2222222222222222,\"#7201a8\"],[0.3333333333333333,\"#9c179e\"],[0.4444444444444444,\"#bd3786\"],[0.5555555555555556,\"#d8576b\"],[0.6666666666666666,\"#ed7953\"],[0.7777777777777778,\"#fb9f3a\"],[0.8888888888888888,\"#fdca26\"],[1.0,\"#f0f921\"]],\"type\":\"histogram2dcontour\"}],\"mesh3d\":[{\"colorbar\":{\"outlinewidth\":0,\"ticks\":\"\"},\"type\":\"mesh3d\"}],\"parcoords\":[{\"line\":{\"colorbar\":{\"outlinewidth\":0,\"ticks\":\"\"}},\"type\":\"parcoords\"}],\"pie\":[{\"automargin\":true,\"type\":\"pie\"}],\"scatter\":[{\"marker\":{\"colorbar\":{\"outlinewidth\":0,\"ticks\":\"\"}},\"type\":\"scatter\"}],\"scatter3d\":[{\"line\":{\"colorbar\":{\"outlinewidth\":0,\"ticks\":\"\"}},\"marker\":{\"colorbar\":{\"outlinewidth\":0,\"ticks\":\"\"}},\"type\":\"scatter3d\"}],\"scattercarpet\":[{\"marker\":{\"colorbar\":{\"outlinewidth\":0,\"ticks\":\"\"}},\"type\":\"scattercarpet\"}],\"scattergeo\":[{\"marker\":{\"colorbar\":{\"outlinewidth\":0,\"ticks\":\"\"}},\"type\":\"scattergeo\"}],\"scattergl\":[{\"marker\":{\"colorbar\":{\"outlinewidth\":0,\"ticks\":\"\"}},\"type\":\"scattergl\"}],\"scattermapbox\":[{\"marker\":{\"colorbar\":{\"outlinewidth\":0,\"ticks\":\"\"}},\"type\":\"scattermapbox\"}],\"scatterpolar\":[{\"marker\":{\"colorbar\":{\"outlinewidth\":0,\"ticks\":\"\"}},\"type\":\"scatterpolar\"}],\"scatterpolargl\":[{\"marker\":{\"colorbar\":{\"outlinewidth\":0,\"ticks\":\"\"}},\"type\":\"scatterpolargl\"}],\"scatterternary\":[{\"marker\":{\"colorbar\":{\"outlinewidth\":0,\"ticks\":\"\"}},\"type\":\"scatterternary\"}],\"surface\":[{\"colorbar\":{\"outlinewidth\":0,\"ticks\":\"\"},\"colorscale\":[[0.0,\"#0d0887\"],[0.1111111111111111,\"#46039f\"],[0.2222222222222222,\"#7201a8\"],[0.3333333333333333,\"#9c179e\"],[0.4444444444444444,\"#bd3786\"],[0.5555555555555556,\"#d8576b\"],[0.6666666666666666,\"#ed7953\"],[0.7777777777777778,\"#fb9f3a\"],[0.8888888888888888,\"#fdca26\"],[1.0,\"#f0f921\"]],\"type\":\"surface\"}],\"table\":[{\"cells\":{\"fill\":{\"color\":\"#EBF0F8\"},\"line\":{\"color\":\"white\"}},\"header\":{\"fill\":{\"color\":\"#C8D4E3\"},\"line\":{\"color\":\"white\"}},\"type\":\"table\"}]},\"layout\":{\"annotationdefaults\":{\"arrowcolor\":\"#2a3f5f\",\"arrowhead\":0,\"arrowwidth\":1},\"autotypenumbers\":\"strict\",\"coloraxis\":{\"colorbar\":{\"outlinewidth\":0,\"ticks\":\"\"}},\"colorscale\":{\"diverging\":[[0,\"#8e0152\"],[0.1,\"#c51b7d\"],[0.2,\"#de77ae\"],[0.3,\"#f1b6da\"],[0.4,\"#fde0ef\"],[0.5,\"#f7f7f7\"],[0.6,\"#e6f5d0\"],[0.7,\"#b8e186\"],[0.8,\"#7fbc41\"],[0.9,\"#4d9221\"],[1,\"#276419\"]],\"sequential\":[[0.0,\"#0d0887\"],[0.1111111111111111,\"#46039f\"],[0.2222222222222222,\"#7201a8\"],[0.3333333333333333,\"#9c179e\"],[0.4444444444444444,\"#bd3786\"],[0.5555555555555556,\"#d8576b\"],[0.6666666666666666,\"#ed7953\"],[0.7777777777777778,\"#fb9f3a\"],[0.8888888888888888,\"#fdca26\"],[1.0,\"#f0f921\"]],\"sequentialminus\":[[0.0,\"#0d0887\"],[0.1111111111111111,\"#46039f\"],[0.2222222222222222,\"#7201a8\"],[0.3333333333333333,\"#9c179e\"],[0.4444444444444444,\"#bd3786\"],[0.5555555555555556,\"#d8576b\"],[0.6666666666666666,\"#ed7953\"],[0.7777777777777778,\"#fb9f3a\"],[0.8888888888888888,\"#fdca26\"],[1.0,\"#f0f921\"]]},\"colorway\":[\"#636efa\",\"#EF553B\",\"#00cc96\",\"#ab63fa\",\"#FFA15A\",\"#19d3f3\",\"#FF6692\",\"#B6E880\",\"#FF97FF\",\"#FECB52\"],\"font\":{\"color\":\"#2a3f5f\"},\"geo\":{\"bgcolor\":\"white\",\"lakecolor\":\"white\",\"landcolor\":\"#E5ECF6\",\"showlakes\":true,\"showland\":true,\"subunitcolor\":\"white\"},\"hoverlabel\":{\"align\":\"left\"},\"hovermode\":\"closest\",\"mapbox\":{\"style\":\"light\"},\"paper_bgcolor\":\"white\",\"plot_bgcolor\":\"#E5ECF6\",\"polar\":{\"angularaxis\":{\"gridcolor\":\"white\",\"linecolor\":\"white\",\"ticks\":\"\"},\"bgcolor\":\"#E5ECF6\",\"radialaxis\":{\"gridcolor\":\"white\",\"linecolor\":\"white\",\"ticks\":\"\"}},\"scene\":{\"xaxis\":{\"backgroundcolor\":\"#E5ECF6\",\"gridcolor\":\"white\",\"gridwidth\":2,\"linecolor\":\"white\",\"showbackground\":true,\"ticks\":\"\",\"zerolinecolor\":\"white\"},\"yaxis\":{\"backgroundcolor\":\"#E5ECF6\",\"gridcolor\":\"white\",\"gridwidth\":2,\"linecolor\":\"white\",\"showbackground\":true,\"ticks\":\"\",\"zerolinecolor\":\"white\"},\"zaxis\":{\"backgroundcolor\":\"#E5ECF6\",\"gridcolor\":\"white\",\"gridwidth\":2,\"linecolor\":\"white\",\"showbackground\":true,\"ticks\":\"\",\"zerolinecolor\":\"white\"}},\"shapedefaults\":{\"line\":{\"color\":\"#2a3f5f\"}},\"ternary\":{\"aaxis\":{\"gridcolor\":\"white\",\"linecolor\":\"white\",\"ticks\":\"\"},\"baxis\":{\"gridcolor\":\"white\",\"linecolor\":\"white\",\"ticks\":\"\"},\"bgcolor\":\"#E5ECF6\",\"caxis\":{\"gridcolor\":\"white\",\"linecolor\":\"white\",\"ticks\":\"\"}},\"title\":{\"x\":0.05},\"xaxis\":{\"automargin\":true,\"gridcolor\":\"white\",\"linecolor\":\"white\",\"ticks\":\"\",\"title\":{\"standoff\":15},\"zerolinecolor\":\"white\",\"zerolinewidth\":2},\"yaxis\":{\"automargin\":true,\"gridcolor\":\"white\",\"linecolor\":\"white\",\"ticks\":\"\",\"title\":{\"standoff\":15},\"zerolinecolor\":\"white\",\"zerolinewidth\":2}}}},                        {\"responsive\": true}                    ).then(function(){\n",
       "                            \n",
       "var gd = document.getElementById('e02b52d5-d823-43b1-aff3-7540cd96abb3');\n",
       "var x = new MutationObserver(function (mutations, observer) {{\n",
       "        var display = window.getComputedStyle(gd).display;\n",
       "        if (!display || display === 'none') {{\n",
       "            console.log([gd, 'removed!']);\n",
       "            Plotly.purge(gd);\n",
       "            observer.disconnect();\n",
       "        }}\n",
       "}});\n",
       "\n",
       "// Listen for the removal of the full notebook cells\n",
       "var notebookContainer = gd.closest('#notebook-container');\n",
       "if (notebookContainer) {{\n",
       "    x.observe(notebookContainer, {childList: true});\n",
       "}}\n",
       "\n",
       "// Listen for the clearing of the current output cell\n",
       "var outputEl = gd.closest('.output');\n",
       "if (outputEl) {{\n",
       "    x.observe(outputEl, {childList: true});\n",
       "}}\n",
       "\n",
       "                        })                };                });            </script>        </div>"
      ]
     },
     "metadata": {},
     "output_type": "display_data"
    }
   ],
   "source": [
    "#print(sale_rslt.head())\n",
    "fig = go.Figure()\n",
    "fig.add_trace(go.Scatter(x=sale_rslt['ww'], y=sale_rslt['sale'],\n",
    "                        mode='lines+markers'))\n",
    "fig.update_layout(margin=dict(l=10, r=15, t=15, b=10))\n",
    "fig.show()"
   ]
  },
  {
   "cell_type": "code",
   "execution_count": 25,
   "id": "b485aca8-858b-486d-8d3e-c20b52e503fd",
   "metadata": {},
   "outputs": [
    {
     "data": {
      "application/vnd.plotly.v1+json": {
       "config": {
        "plotlyServerURL": "https://plot.ly"
       },
       "data": [
        {
         "mode": "lines+markers",
         "type": "scatter",
         "x": [
          "202001",
          "202002",
          "202003",
          "202004",
          "202005",
          "202006",
          "202008",
          "202010",
          "202011",
          "202012",
          "202013",
          "202014",
          "202015",
          "202016",
          "202017",
          "202018",
          "202019",
          "202021",
          "202022",
          "202023",
          "202024",
          "202025",
          "202026",
          "202027",
          "202028",
          "202029",
          "202030",
          "202031",
          "202032",
          "202033",
          "202034",
          "202035",
          "202036",
          "202037",
          "202038",
          "202039",
          "202040",
          "202041",
          "202042",
          "202043",
          "202044",
          "202045",
          "202046",
          "202047",
          "202048",
          "202049",
          "202050",
          "202051",
          "202053",
          "202101",
          "202102",
          "202103",
          "202104",
          "202105",
          "202106",
          "202107",
          "202108",
          "202109",
          "202110",
          "202111",
          "202112",
          "202113",
          "202114",
          "202115",
          "202116",
          "202117",
          "202119",
          "202120",
          "202121",
          "202122",
          "202123",
          "202124",
          "202125",
          "202126",
          "202127",
          "202129",
          "202130"
         ],
         "y": [
          88080,
          143332,
          126497,
          46482,
          192274,
          101129,
          0,
          193220,
          185859,
          225203,
          206581,
          203704,
          101653,
          124422,
          106349,
          91138,
          17658,
          0,
          117587,
          209914,
          216149,
          242020,
          284555,
          276887,
          367347,
          291009,
          286525,
          148328,
          95149,
          150111,
          162776,
          181416,
          164771,
          153757,
          183422,
          174340,
          75216,
          165344,
          304244,
          274991,
          250402,
          269441,
          286515,
          457297,
          253223,
          202715,
          222969,
          68394,
          46673,
          92711,
          167389,
          392503,
          368901,
          366318,
          364128,
          403833,
          343367,
          396048,
          387801,
          411046,
          245126,
          280688,
          237047,
          46469,
          139415,
          42210,
          56617,
          148880,
          94389,
          164024,
          195552,
          174465,
          94914,
          179984,
          15759,
          129015,
          110320
         ]
        }
       ],
       "layout": {
        "autosize": true,
        "margin": {
         "b": 10,
         "l": 10,
         "r": 15,
         "t": 15
        },
        "template": {
         "data": {
          "bar": [
           {
            "error_x": {
             "color": "#2a3f5f"
            },
            "error_y": {
             "color": "#2a3f5f"
            },
            "marker": {
             "line": {
              "color": "#E5ECF6",
              "width": 0.5
             },
             "pattern": {
              "fillmode": "overlay",
              "size": 10,
              "solidity": 0.2
             }
            },
            "type": "bar"
           }
          ],
          "barpolar": [
           {
            "marker": {
             "line": {
              "color": "#E5ECF6",
              "width": 0.5
             },
             "pattern": {
              "fillmode": "overlay",
              "size": 10,
              "solidity": 0.2
             }
            },
            "type": "barpolar"
           }
          ],
          "carpet": [
           {
            "aaxis": {
             "endlinecolor": "#2a3f5f",
             "gridcolor": "white",
             "linecolor": "white",
             "minorgridcolor": "white",
             "startlinecolor": "#2a3f5f"
            },
            "baxis": {
             "endlinecolor": "#2a3f5f",
             "gridcolor": "white",
             "linecolor": "white",
             "minorgridcolor": "white",
             "startlinecolor": "#2a3f5f"
            },
            "type": "carpet"
           }
          ],
          "choropleth": [
           {
            "colorbar": {
             "outlinewidth": 0,
             "ticks": ""
            },
            "type": "choropleth"
           }
          ],
          "contour": [
           {
            "colorbar": {
             "outlinewidth": 0,
             "ticks": ""
            },
            "colorscale": [
             [
              0,
              "#0d0887"
             ],
             [
              0.1111111111111111,
              "#46039f"
             ],
             [
              0.2222222222222222,
              "#7201a8"
             ],
             [
              0.3333333333333333,
              "#9c179e"
             ],
             [
              0.4444444444444444,
              "#bd3786"
             ],
             [
              0.5555555555555556,
              "#d8576b"
             ],
             [
              0.6666666666666666,
              "#ed7953"
             ],
             [
              0.7777777777777778,
              "#fb9f3a"
             ],
             [
              0.8888888888888888,
              "#fdca26"
             ],
             [
              1,
              "#f0f921"
             ]
            ],
            "type": "contour"
           }
          ],
          "contourcarpet": [
           {
            "colorbar": {
             "outlinewidth": 0,
             "ticks": ""
            },
            "type": "contourcarpet"
           }
          ],
          "heatmap": [
           {
            "colorbar": {
             "outlinewidth": 0,
             "ticks": ""
            },
            "colorscale": [
             [
              0,
              "#0d0887"
             ],
             [
              0.1111111111111111,
              "#46039f"
             ],
             [
              0.2222222222222222,
              "#7201a8"
             ],
             [
              0.3333333333333333,
              "#9c179e"
             ],
             [
              0.4444444444444444,
              "#bd3786"
             ],
             [
              0.5555555555555556,
              "#d8576b"
             ],
             [
              0.6666666666666666,
              "#ed7953"
             ],
             [
              0.7777777777777778,
              "#fb9f3a"
             ],
             [
              0.8888888888888888,
              "#fdca26"
             ],
             [
              1,
              "#f0f921"
             ]
            ],
            "type": "heatmap"
           }
          ],
          "heatmapgl": [
           {
            "colorbar": {
             "outlinewidth": 0,
             "ticks": ""
            },
            "colorscale": [
             [
              0,
              "#0d0887"
             ],
             [
              0.1111111111111111,
              "#46039f"
             ],
             [
              0.2222222222222222,
              "#7201a8"
             ],
             [
              0.3333333333333333,
              "#9c179e"
             ],
             [
              0.4444444444444444,
              "#bd3786"
             ],
             [
              0.5555555555555556,
              "#d8576b"
             ],
             [
              0.6666666666666666,
              "#ed7953"
             ],
             [
              0.7777777777777778,
              "#fb9f3a"
             ],
             [
              0.8888888888888888,
              "#fdca26"
             ],
             [
              1,
              "#f0f921"
             ]
            ],
            "type": "heatmapgl"
           }
          ],
          "histogram": [
           {
            "marker": {
             "pattern": {
              "fillmode": "overlay",
              "size": 10,
              "solidity": 0.2
             }
            },
            "type": "histogram"
           }
          ],
          "histogram2d": [
           {
            "colorbar": {
             "outlinewidth": 0,
             "ticks": ""
            },
            "colorscale": [
             [
              0,
              "#0d0887"
             ],
             [
              0.1111111111111111,
              "#46039f"
             ],
             [
              0.2222222222222222,
              "#7201a8"
             ],
             [
              0.3333333333333333,
              "#9c179e"
             ],
             [
              0.4444444444444444,
              "#bd3786"
             ],
             [
              0.5555555555555556,
              "#d8576b"
             ],
             [
              0.6666666666666666,
              "#ed7953"
             ],
             [
              0.7777777777777778,
              "#fb9f3a"
             ],
             [
              0.8888888888888888,
              "#fdca26"
             ],
             [
              1,
              "#f0f921"
             ]
            ],
            "type": "histogram2d"
           }
          ],
          "histogram2dcontour": [
           {
            "colorbar": {
             "outlinewidth": 0,
             "ticks": ""
            },
            "colorscale": [
             [
              0,
              "#0d0887"
             ],
             [
              0.1111111111111111,
              "#46039f"
             ],
             [
              0.2222222222222222,
              "#7201a8"
             ],
             [
              0.3333333333333333,
              "#9c179e"
             ],
             [
              0.4444444444444444,
              "#bd3786"
             ],
             [
              0.5555555555555556,
              "#d8576b"
             ],
             [
              0.6666666666666666,
              "#ed7953"
             ],
             [
              0.7777777777777778,
              "#fb9f3a"
             ],
             [
              0.8888888888888888,
              "#fdca26"
             ],
             [
              1,
              "#f0f921"
             ]
            ],
            "type": "histogram2dcontour"
           }
          ],
          "mesh3d": [
           {
            "colorbar": {
             "outlinewidth": 0,
             "ticks": ""
            },
            "type": "mesh3d"
           }
          ],
          "parcoords": [
           {
            "line": {
             "colorbar": {
              "outlinewidth": 0,
              "ticks": ""
             }
            },
            "type": "parcoords"
           }
          ],
          "pie": [
           {
            "automargin": true,
            "type": "pie"
           }
          ],
          "scatter": [
           {
            "marker": {
             "colorbar": {
              "outlinewidth": 0,
              "ticks": ""
             }
            },
            "type": "scatter"
           }
          ],
          "scatter3d": [
           {
            "line": {
             "colorbar": {
              "outlinewidth": 0,
              "ticks": ""
             }
            },
            "marker": {
             "colorbar": {
              "outlinewidth": 0,
              "ticks": ""
             }
            },
            "type": "scatter3d"
           }
          ],
          "scattercarpet": [
           {
            "marker": {
             "colorbar": {
              "outlinewidth": 0,
              "ticks": ""
             }
            },
            "type": "scattercarpet"
           }
          ],
          "scattergeo": [
           {
            "marker": {
             "colorbar": {
              "outlinewidth": 0,
              "ticks": ""
             }
            },
            "type": "scattergeo"
           }
          ],
          "scattergl": [
           {
            "marker": {
             "colorbar": {
              "outlinewidth": 0,
              "ticks": ""
             }
            },
            "type": "scattergl"
           }
          ],
          "scattermapbox": [
           {
            "marker": {
             "colorbar": {
              "outlinewidth": 0,
              "ticks": ""
             }
            },
            "type": "scattermapbox"
           }
          ],
          "scatterpolar": [
           {
            "marker": {
             "colorbar": {
              "outlinewidth": 0,
              "ticks": ""
             }
            },
            "type": "scatterpolar"
           }
          ],
          "scatterpolargl": [
           {
            "marker": {
             "colorbar": {
              "outlinewidth": 0,
              "ticks": ""
             }
            },
            "type": "scatterpolargl"
           }
          ],
          "scatterternary": [
           {
            "marker": {
             "colorbar": {
              "outlinewidth": 0,
              "ticks": ""
             }
            },
            "type": "scatterternary"
           }
          ],
          "surface": [
           {
            "colorbar": {
             "outlinewidth": 0,
             "ticks": ""
            },
            "colorscale": [
             [
              0,
              "#0d0887"
             ],
             [
              0.1111111111111111,
              "#46039f"
             ],
             [
              0.2222222222222222,
              "#7201a8"
             ],
             [
              0.3333333333333333,
              "#9c179e"
             ],
             [
              0.4444444444444444,
              "#bd3786"
             ],
             [
              0.5555555555555556,
              "#d8576b"
             ],
             [
              0.6666666666666666,
              "#ed7953"
             ],
             [
              0.7777777777777778,
              "#fb9f3a"
             ],
             [
              0.8888888888888888,
              "#fdca26"
             ],
             [
              1,
              "#f0f921"
             ]
            ],
            "type": "surface"
           }
          ],
          "table": [
           {
            "cells": {
             "fill": {
              "color": "#EBF0F8"
             },
             "line": {
              "color": "white"
             }
            },
            "header": {
             "fill": {
              "color": "#C8D4E3"
             },
             "line": {
              "color": "white"
             }
            },
            "type": "table"
           }
          ]
         },
         "layout": {
          "annotationdefaults": {
           "arrowcolor": "#2a3f5f",
           "arrowhead": 0,
           "arrowwidth": 1
          },
          "autotypenumbers": "strict",
          "coloraxis": {
           "colorbar": {
            "outlinewidth": 0,
            "ticks": ""
           }
          },
          "colorscale": {
           "diverging": [
            [
             0,
             "#8e0152"
            ],
            [
             0.1,
             "#c51b7d"
            ],
            [
             0.2,
             "#de77ae"
            ],
            [
             0.3,
             "#f1b6da"
            ],
            [
             0.4,
             "#fde0ef"
            ],
            [
             0.5,
             "#f7f7f7"
            ],
            [
             0.6,
             "#e6f5d0"
            ],
            [
             0.7,
             "#b8e186"
            ],
            [
             0.8,
             "#7fbc41"
            ],
            [
             0.9,
             "#4d9221"
            ],
            [
             1,
             "#276419"
            ]
           ],
           "sequential": [
            [
             0,
             "#0d0887"
            ],
            [
             0.1111111111111111,
             "#46039f"
            ],
            [
             0.2222222222222222,
             "#7201a8"
            ],
            [
             0.3333333333333333,
             "#9c179e"
            ],
            [
             0.4444444444444444,
             "#bd3786"
            ],
            [
             0.5555555555555556,
             "#d8576b"
            ],
            [
             0.6666666666666666,
             "#ed7953"
            ],
            [
             0.7777777777777778,
             "#fb9f3a"
            ],
            [
             0.8888888888888888,
             "#fdca26"
            ],
            [
             1,
             "#f0f921"
            ]
           ],
           "sequentialminus": [
            [
             0,
             "#0d0887"
            ],
            [
             0.1111111111111111,
             "#46039f"
            ],
            [
             0.2222222222222222,
             "#7201a8"
            ],
            [
             0.3333333333333333,
             "#9c179e"
            ],
            [
             0.4444444444444444,
             "#bd3786"
            ],
            [
             0.5555555555555556,
             "#d8576b"
            ],
            [
             0.6666666666666666,
             "#ed7953"
            ],
            [
             0.7777777777777778,
             "#fb9f3a"
            ],
            [
             0.8888888888888888,
             "#fdca26"
            ],
            [
             1,
             "#f0f921"
            ]
           ]
          },
          "colorway": [
           "#636efa",
           "#EF553B",
           "#00cc96",
           "#ab63fa",
           "#FFA15A",
           "#19d3f3",
           "#FF6692",
           "#B6E880",
           "#FF97FF",
           "#FECB52"
          ],
          "font": {
           "color": "#2a3f5f"
          },
          "geo": {
           "bgcolor": "white",
           "lakecolor": "white",
           "landcolor": "#E5ECF6",
           "showlakes": true,
           "showland": true,
           "subunitcolor": "white"
          },
          "hoverlabel": {
           "align": "left"
          },
          "hovermode": "closest",
          "mapbox": {
           "style": "light"
          },
          "paper_bgcolor": "white",
          "plot_bgcolor": "#E5ECF6",
          "polar": {
           "angularaxis": {
            "gridcolor": "white",
            "linecolor": "white",
            "ticks": ""
           },
           "bgcolor": "#E5ECF6",
           "radialaxis": {
            "gridcolor": "white",
            "linecolor": "white",
            "ticks": ""
           }
          },
          "scene": {
           "xaxis": {
            "backgroundcolor": "#E5ECF6",
            "gridcolor": "white",
            "gridwidth": 2,
            "linecolor": "white",
            "showbackground": true,
            "ticks": "",
            "zerolinecolor": "white"
           },
           "yaxis": {
            "backgroundcolor": "#E5ECF6",
            "gridcolor": "white",
            "gridwidth": 2,
            "linecolor": "white",
            "showbackground": true,
            "ticks": "",
            "zerolinecolor": "white"
           },
           "zaxis": {
            "backgroundcolor": "#E5ECF6",
            "gridcolor": "white",
            "gridwidth": 2,
            "linecolor": "white",
            "showbackground": true,
            "ticks": "",
            "zerolinecolor": "white"
           }
          },
          "shapedefaults": {
           "line": {
            "color": "#2a3f5f"
           }
          },
          "ternary": {
           "aaxis": {
            "gridcolor": "white",
            "linecolor": "white",
            "ticks": ""
           },
           "baxis": {
            "gridcolor": "white",
            "linecolor": "white",
            "ticks": ""
           },
           "bgcolor": "#E5ECF6",
           "caxis": {
            "gridcolor": "white",
            "linecolor": "white",
            "ticks": ""
           }
          },
          "title": {
           "x": 0.05
          },
          "xaxis": {
           "automargin": true,
           "gridcolor": "white",
           "linecolor": "white",
           "ticks": "",
           "title": {
            "standoff": 15
           },
           "zerolinecolor": "white",
           "zerolinewidth": 2
          },
          "yaxis": {
           "automargin": true,
           "gridcolor": "white",
           "linecolor": "white",
           "ticks": "",
           "title": {
            "standoff": 15
           },
           "zerolinecolor": "white",
           "zerolinewidth": 2
          }
         }
        },
        "xaxis": {
         "autorange": true,
         "range": [
          -4.4804305283757335,
          80.48043052837573
         ],
         "type": "category"
        },
        "yaxis": {
         "autorange": true,
         "range": [
          -33141.50000000001,
          490438.5
         ],
         "type": "linear"
        }
       }
      },
      "image/png": "[encoded data removed]",
      "text/html": [
       "<div>                            <div id=\"d3c8c84b-0c5f-4200-bdd9-2c16ca3dbed4\" class=\"plotly-graph-div\" style=\"height:525px; width:100%;\"></div>            <script type=\"text/javascript\">                require([\"plotly\"], function(Plotly) {                    window.PLOTLYENV=window.PLOTLYENV || {};                                    if (document.getElementById(\"d3c8c84b-0c5f-4200-bdd9-2c16ca3dbed4\")) {                    Plotly.newPlot(                        \"d3c8c84b-0c5f-4200-bdd9-2c16ca3dbed4\",                        [{\"mode\":\"lines+markers\",\"type\":\"scatter\",\"x\":[\"202001\",\"202002\",\"202003\",\"202004\",\"202005\",\"202006\",\"202008\",\"202010\",\"202011\",\"202012\",\"202013\",\"202014\",\"202015\",\"202016\",\"202017\",\"202018\",\"202019\",\"202021\",\"202022\",\"202023\",\"202024\",\"202025\",\"202026\",\"202027\",\"202028\",\"202029\",\"202030\",\"202031\",\"202032\",\"202033\",\"202034\",\"202035\",\"202036\",\"202037\",\"202038\",\"202039\",\"202040\",\"202041\",\"202042\",\"202043\",\"202044\",\"202045\",\"202046\",\"202047\",\"202048\",\"202049\",\"202050\",\"202051\",\"202053\",\"202101\",\"202102\",\"202103\",\"202104\",\"202105\",\"202106\",\"202107\",\"202108\",\"202109\",\"202110\",\"202111\",\"202112\",\"202113\",\"202114\",\"202115\",\"202116\",\"202117\",\"202119\",\"202120\",\"202121\",\"202122\",\"202123\",\"202124\",\"202125\",\"202126\",\"202127\",\"202129\",\"202130\"],\"y\":[88080,143332,126497,46482,192274,101129,0,193220,185859,225203,206581,203704,101653,124422,106349,91138,17658,0,117587,209914,216149,242020,284555,276887,367347,291009,286525,148328,95149,150111,162776,181416,164771,153757,183422,174340,75216,165344,304244,274991,250402,269441,286515,457297,253223,202715,222969,68394,46673,92711,167389,392503,368901,366318,364128,403833,343367,396048,387801,411046,245126,280688,237047,46469,139415,42210,56617,148880,94389,164024,195552,174465,94914,179984,15759,129015,110320]}],                        {\"margin\":{\"b\":10,\"l\":10,\"r\":15,\"t\":15},\"template\":{\"data\":{\"bar\":[{\"error_x\":{\"color\":\"#2a3f5f\"},\"error_y\":{\"color\":\"#2a3f5f\"},\"marker\":{\"line\":{\"color\":\"#E5ECF6\",\"width\":0.5},\"pattern\":{\"fillmode\":\"overlay\",\"size\":10,\"solidity\":0.2}},\"type\":\"bar\"}],\"barpolar\":[{\"marker\":{\"line\":{\"color\":\"#E5ECF6\",\"width\":0.5},\"pattern\":{\"fillmode\":\"overlay\",\"size\":10,\"solidity\":0.2}},\"type\":\"barpolar\"}],\"carpet\":[{\"aaxis\":{\"endlinecolor\":\"#2a3f5f\",\"gridcolor\":\"white\",\"linecolor\":\"white\",\"minorgridcolor\":\"white\",\"startlinecolor\":\"#2a3f5f\"},\"baxis\":{\"endlinecolor\":\"#2a3f5f\",\"gridcolor\":\"white\",\"linecolor\":\"white\",\"minorgridcolor\":\"white\",\"startlinecolor\":\"#2a3f5f\"},\"type\":\"carpet\"}],\"choropleth\":[{\"colorbar\":{\"outlinewidth\":0,\"ticks\":\"\"},\"type\":\"choropleth\"}],\"contour\":[{\"colorbar\":{\"outlinewidth\":0,\"ticks\":\"\"},\"colorscale\":[[0.0,\"#0d0887\"],[0.1111111111111111,\"#46039f\"],[0.2222222222222222,\"#7201a8\"],[0.3333333333333333,\"#9c179e\"],[0.4444444444444444,\"#bd3786\"],[0.5555555555555556,\"#d8576b\"],[0.6666666666666666,\"#ed7953\"],[0.7777777777777778,\"#fb9f3a\"],[0.8888888888888888,\"#fdca26\"],[1.0,\"#f0f921\"]],\"type\":\"contour\"}],\"contourcarpet\":[{\"colorbar\":{\"outlinewidth\":0,\"ticks\":\"\"},\"type\":\"contourcarpet\"}],\"heatmap\":[{\"colorbar\":{\"outlinewidth\":0,\"ticks\":\"\"},\"colorscale\":[[0.0,\"#0d0887\"],[0.1111111111111111,\"#46039f\"],[0.2222222222222222,\"#7201a8\"],[0.3333333333333333,\"#9c179e\"],[0.4444444444444444,\"#bd3786\"],[0.5555555555555556,\"#d8576b\"],[0.6666666666666666,\"#ed7953\"],[0.7777777777777778,\"#fb9f3a\"],[0.8888888888888888,\"#fdca26\"],[1.0,\"#f0f921\"]],\"type\":\"heatmap\"}],\"heatmapgl\":[{\"colorbar\":{\"outlinewidth\":0,\"ticks\":\"\"},\"colorscale\":[[0.0,\"#0d0887\"],[0.1111111111111111,\"#46039f\"],[0.2222222222222222,\"#7201a8\"],[0.3333333333333333,\"#9c179e\"],[0.4444444444444444,\"#bd3786\"],[0.5555555555555556,\"#d8576b\"],[0.6666666666666666,\"#ed7953\"],[0.7777777777777778,\"#fb9f3a\"],[0.8888888888888888,\"#fdca26\"],[1.0,\"#f0f921\"]],\"type\":\"heatmapgl\"}],\"histogram\":[{\"marker\":{\"pattern\":{\"fillmode\":\"overlay\",\"size\":10,\"solidity\":0.2}},\"type\":\"histogram\"}],\"histogram2d\":[{\"colorbar\":{\"outlinewidth\":0,\"ticks\":\"\"},\"colorscale\":[[0.0,\"#0d0887\"],[0.1111111111111111,\"#46039f\"],[0.2222222222222222,\"#7201a8\"],[0.3333333333333333,\"#9c179e\"],[0.4444444444444444,\"#bd3786\"],[0.5555555555555556,\"#d8576b\"],[0.6666666666666666,\"#ed7953\"],[0.7777777777777778,\"#fb9f3a\"],[0.8888888888888888,\"#fdca26\"],[1.0,\"#f0f921\"]],\"type\":\"histogram2d\"}],\"histogram2dcontour\":[{\"colorbar\":{\"outlinewidth\":0,\"ticks\":\"\"},\"colorscale\":[[0.0,\"#0d0887\"],[0.1111111111111111,\"#46039f\"],[0.2222222222222222,\"#7201a8\"],[0.3333333333333333,\"#9c179e\"],[0.4444444444444444,\"#bd3786\"],[0.5555555555555556,\"#d8576b\"],[0.6666666666666666,\"#ed7953\"],[0.7777777777777778,\"#fb9f3a\"],[0.8888888888888888,\"#fdca26\"],[1.0,\"#f0f921\"]],\"type\":\"histogram2dcontour\"}],\"mesh3d\":[{\"colorbar\":{\"outlinewidth\":0,\"ticks\":\"\"},\"type\":\"mesh3d\"}],\"parcoords\":[{\"line\":{\"colorbar\":{\"outlinewidth\":0,\"ticks\":\"\"}},\"type\":\"parcoords\"}],\"pie\":[{\"automargin\":true,\"type\":\"pie\"}],\"scatter\":[{\"marker\":{\"colorbar\":{\"outlinewidth\":0,\"ticks\":\"\"}},\"type\":\"scatter\"}],\"scatter3d\":[{\"line\":{\"colorbar\":{\"outlinewidth\":0,\"ticks\":\"\"}},\"marker\":{\"colorbar\":{\"outlinewidth\":0,\"ticks\":\"\"}},\"type\":\"scatter3d\"}],\"scattercarpet\":[{\"marker\":{\"colorbar\":{\"outlinewidth\":0,\"ticks\":\"\"}},\"type\":\"scattercarpet\"}],\"scattergeo\":[{\"marker\":{\"colorbar\":{\"outlinewidth\":0,\"ticks\":\"\"}},\"type\":\"scattergeo\"}],\"scattergl\":[{\"marker\":{\"colorbar\":{\"outlinewidth\":0,\"ticks\":\"\"}},\"type\":\"scattergl\"}],\"scattermapbox\":[{\"marker\":{\"colorbar\":{\"outlinewidth\":0,\"ticks\":\"\"}},\"type\":\"scattermapbox\"}],\"scatterpolar\":[{\"marker\":{\"colorbar\":{\"outlinewidth\":0,\"ticks\":\"\"}},\"type\":\"scatterpolar\"}],\"scatterpolargl\":[{\"marker\":{\"colorbar\":{\"outlinewidth\":0,\"ticks\":\"\"}},\"type\":\"scatterpolargl\"}],\"scatterternary\":[{\"marker\":{\"colorbar\":{\"outlinewidth\":0,\"ticks\":\"\"}},\"type\":\"scatterternary\"}],\"surface\":[{\"colorbar\":{\"outlinewidth\":0,\"ticks\":\"\"},\"colorscale\":[[0.0,\"#0d0887\"],[0.1111111111111111,\"#46039f\"],[0.2222222222222222,\"#7201a8\"],[0.3333333333333333,\"#9c179e\"],[0.4444444444444444,\"#bd3786\"],[0.5555555555555556,\"#d8576b\"],[0.6666666666666666,\"#ed7953\"],[0.7777777777777778,\"#fb9f3a\"],[0.8888888888888888,\"#fdca26\"],[1.0,\"#f0f921\"]],\"type\":\"surface\"}],\"table\":[{\"cells\":{\"fill\":{\"color\":\"#EBF0F8\"},\"line\":{\"color\":\"white\"}},\"header\":{\"fill\":{\"color\":\"#C8D4E3\"},\"line\":{\"color\":\"white\"}},\"type\":\"table\"}]},\"layout\":{\"annotationdefaults\":{\"arrowcolor\":\"#2a3f5f\",\"arrowhead\":0,\"arrowwidth\":1},\"autotypenumbers\":\"strict\",\"coloraxis\":{\"colorbar\":{\"outlinewidth\":0,\"ticks\":\"\"}},\"colorscale\":{\"diverging\":[[0,\"#8e0152\"],[0.1,\"#c51b7d\"],[0.2,\"#de77ae\"],[0.3,\"#f1b6da\"],[0.4,\"#fde0ef\"],[0.5,\"#f7f7f7\"],[0.6,\"#e6f5d0\"],[0.7,\"#b8e186\"],[0.8,\"#7fbc41\"],[0.9,\"#4d9221\"],[1,\"#276419\"]],\"sequential\":[[0.0,\"#0d0887\"],[0.1111111111111111,\"#46039f\"],[0.2222222222222222,\"#7201a8\"],[0.3333333333333333,\"#9c179e\"],[0.4444444444444444,\"#bd3786\"],[0.5555555555555556,\"#d8576b\"],[0.6666666666666666,\"#ed7953\"],[0.7777777777777778,\"#fb9f3a\"],[0.8888888888888888,\"#fdca26\"],[1.0,\"#f0f921\"]],\"sequentialminus\":[[0.0,\"#0d0887\"],[0.1111111111111111,\"#46039f\"],[0.2222222222222222,\"#7201a8\"],[0.3333333333333333,\"#9c179e\"],[0.4444444444444444,\"#bd3786\"],[0.5555555555555556,\"#d8576b\"],[0.6666666666666666,\"#ed7953\"],[0.7777777777777778,\"#fb9f3a\"],[0.8888888888888888,\"#fdca26\"],[1.0,\"#f0f921\"]]},\"colorway\":[\"#636efa\",\"#EF553B\",\"#00cc96\",\"#ab63fa\",\"#FFA15A\",\"#19d3f3\",\"#FF6692\",\"#B6E880\",\"#FF97FF\",\"#FECB52\"],\"font\":{\"color\":\"#2a3f5f\"},\"geo\":{\"bgcolor\":\"white\",\"lakecolor\":\"white\",\"landcolor\":\"#E5ECF6\",\"showlakes\":true,\"showland\":true,\"subunitcolor\":\"white\"},\"hoverlabel\":{\"align\":\"left\"},\"hovermode\":\"closest\",\"mapbox\":{\"style\":\"light\"},\"paper_bgcolor\":\"white\",\"plot_bgcolor\":\"#E5ECF6\",\"polar\":{\"angularaxis\":{\"gridcolor\":\"white\",\"linecolor\":\"white\",\"ticks\":\"\"},\"bgcolor\":\"#E5ECF6\",\"radialaxis\":{\"gridcolor\":\"white\",\"linecolor\":\"white\",\"ticks\":\"\"}},\"scene\":{\"xaxis\":{\"backgroundcolor\":\"#E5ECF6\",\"gridcolor\":\"white\",\"gridwidth\":2,\"linecolor\":\"white\",\"showbackground\":true,\"ticks\":\"\",\"zerolinecolor\":\"white\"},\"yaxis\":{\"backgroundcolor\":\"#E5ECF6\",\"gridcolor\":\"white\",\"gridwidth\":2,\"linecolor\":\"white\",\"showbackground\":true,\"ticks\":\"\",\"zerolinecolor\":\"white\"},\"zaxis\":{\"backgroundcolor\":\"#E5ECF6\",\"gridcolor\":\"white\",\"gridwidth\":2,\"linecolor\":\"white\",\"showbackground\":true,\"ticks\":\"\",\"zerolinecolor\":\"white\"}},\"shapedefaults\":{\"line\":{\"color\":\"#2a3f5f\"}},\"ternary\":{\"aaxis\":{\"gridcolor\":\"white\",\"linecolor\":\"white\",\"ticks\":\"\"},\"baxis\":{\"gridcolor\":\"white\",\"linecolor\":\"white\",\"ticks\":\"\"},\"bgcolor\":\"#E5ECF6\",\"caxis\":{\"gridcolor\":\"white\",\"linecolor\":\"white\",\"ticks\":\"\"}},\"title\":{\"x\":0.05},\"xaxis\":{\"automargin\":true,\"gridcolor\":\"white\",\"linecolor\":\"white\",\"ticks\":\"\",\"title\":{\"standoff\":15},\"zerolinecolor\":\"white\",\"zerolinewidth\":2},\"yaxis\":{\"automargin\":true,\"gridcolor\":\"white\",\"linecolor\":\"white\",\"ticks\":\"\",\"title\":{\"standoff\":15},\"zerolinecolor\":\"white\",\"zerolinewidth\":2}}}},                        {\"responsive\": true}                    ).then(function(){\n",
       "                            \n",
       "var gd = document.getElementById('d3c8c84b-0c5f-4200-bdd9-2c16ca3dbed4');\n",
       "var x = new MutationObserver(function (mutations, observer) {{\n",
       "        var display = window.getComputedStyle(gd).display;\n",
       "        if (!display || display === 'none') {{\n",
       "            console.log([gd, 'removed!']);\n",
       "            Plotly.purge(gd);\n",
       "            observer.disconnect();\n",
       "        }}\n",
       "}});\n",
       "\n",
       "// Listen for the removal of the full notebook cells\n",
       "var notebookContainer = gd.closest('#notebook-container');\n",
       "if (notebookContainer) {{\n",
       "    x.observe(notebookContainer, {childList: true});\n",
       "}}\n",
       "\n",
       "// Listen for the clearing of the current output cell\n",
       "var outputEl = gd.closest('.output');\n",
       "if (outputEl) {{\n",
       "    x.observe(outputEl, {childList: true});\n",
       "}}\n",
       "\n",
       "                        })                };                });            </script>        </div>"
      ]
     },
     "metadata": {},
     "output_type": "display_data"
    }
   ],
   "source": [
    "fig = go.Figure()\n",
    "fig.add_trace(go.Scatter(x=prod_rslt['ww'], y=prod_rslt['prod'],\n",
    "                        mode='lines+markers'))\n",
    "fig.update_layout(margin=dict(l=10, r=15, t=15, b=10))\n",
    "fig.show()"
   ]
  },
  {
   "cell_type": "code",
   "execution_count": 138,
   "id": "97bc0e2d-6556-4c6a-909d-dd8e7cb6aa82",
   "metadata": {
    "tags": []
   },
   "outputs": [],
   "source": [
    "def h_opt_sale(theta1, g_alpha, k_dot, w_noise, rbf_l, tmp_col, tmp_var_col):\n",
    "    prev_col = round(tmp_col)\n",
    "    var_col  = round(tmp_var_col)     \n",
    "    \n",
    "    prev_name = sale_train.columns[3:15].tolist()\n",
    "    var_name  = sale_train.columns[15:].tolist()\n",
    "    train_x_name = prev_name[:prev_col]+var_name[:var_col]\n",
    "    kernel =  theta1 * RBF(rbf_l) + WhiteKernel(w_noise)  + DotProduct(k_dot) ## RBF(2) + WhiteKernel(1)  + \n",
    "    gp = GaussianProcessRegressor(kernel=kernel, alpha=g_alpha, n_restarts_optimizer=3)\n",
    "    gp.fit(sale_train[train_x_name], sale_train['sale'])\n",
    "    \n",
    "    train_pred, train_sigma = gp.predict(sale_train[train_x_name], return_std=True)\n",
    "    valid_pred, valid_sigma = gp.predict(sale_valid[train_x_name], return_std=True)\n",
    "    x_pred_ = np.concatenate((train_pred, valid_pred)) \n",
    "    y_ = np.concatenate((sale_train['sale'], sale_valid['sale'])) \n",
    "\n",
    "    real_ = np.mean(np.ones_like(sale_train['sale']) - np.clip(np.abs(sale_train['sale'] - train_pred) / sale_train['sale'] , 0, 1)) * 100     \n",
    "    fcst_ = np.mean(np.ones_like(sale_valid['sale']) - np.clip(np.abs(sale_valid['sale'] - valid_pred) / sale_valid['sale'] , 0, 1)) * 100    \n",
    "    return real_\n",
    "\n",
    "def h_opt_prod(theta1, g_alpha, k_dot, w_noise, rbf_l, tmp_col, tmp_var_col):\n",
    "    prev_col = round(tmp_col)\n",
    "    var_col  = round(tmp_var_col)     \n",
    "    \n",
    "    prev_name = prod_train.columns[3:15].tolist()\n",
    "    var_name  = prod_train.columns[15:].tolist()\n",
    "    train_x_name = prev_name[:prev_col]+var_name[:var_col]\n",
    "    kernel =  theta1 * RBF(rbf_l) + WhiteKernel(w_noise)  + DotProduct(k_dot) ## RBF(2) + WhiteKernel(1)  + \n",
    "    gp = GaussianProcessRegressor(kernel=kernel, alpha=g_alpha, n_restarts_optimizer=3)\n",
    "    gp.fit(prod_train[train_x_name], prod_train['prod'])\n",
    "    \n",
    "    train_pred, train_sigma = gp.predict(prod_train[train_x_name], return_std=True)\n",
    "    valid_pred, valid_sigma = gp.predict(prod_valid[train_x_name], return_std=True)\n",
    "    x_pred_ = np.concatenate((train_pred, valid_pred)) \n",
    "    y_ = np.concatenate((prod_train['prod'], prod_valid['prod'])) \n",
    "\n",
    "    real_ = np.mean(np.ones_like(prod_train['prod']) - np.clip(np.abs(prod_train['prod'] - train_pred) / prod_train['prod'] , 0, 1)) * 100     \n",
    "    fcst_ = np.mean(np.ones_like(prod_valid['prod']) - np.clip(np.abs(prod_valid['prod'] - valid_pred) / prod_valid['prod'] , 0, 1)) * 100    \n",
    "    return real_\n",
    "\n",
    "\n",
    "def h_opt_inven(theta1, g_alpha, k_dot, w_noise, rbf_l, tmp_col):\n",
    "    prev_col = round(tmp_col)\n",
    "    \n",
    "    prev_name = inven_train.columns[3:11].tolist()   \n",
    "    train_x_name = prev_name[:prev_col]+['sale_hat','prod_hat']\n",
    "    kernel =  theta1 * RBF(rbf_l) + WhiteKernel(w_noise)  + DotProduct(k_dot) ## RBF(2) + WhiteKernel(1)  + \n",
    "    gp = GaussianProcessRegressor(kernel=kernel, alpha=g_alpha, n_restarts_optimizer=3)\n",
    "    gp.fit(inven_train[train_x_name], inven_train['inven'])\n",
    "    \n",
    "    train_pred, train_sigma = gp.predict(inven_train[train_x_name], return_std=True)\n",
    "    valid_pred, valid_sigma = gp.predict(inven_valid[train_x_name], return_std=True)\n",
    "    x_pred_ = np.concatenate((train_pred, valid_pred)) \n",
    "    y_ = np.concatenate((inven_train['inven'], inven_valid['inven'])) \n",
    "\n",
    "    real_ = np.mean(np.ones_like(inven_train['inven']) - np.clip(np.abs(inven_train['inven'] - train_pred) / inven_train['inven'] , 0, 1)) * 100     \n",
    "    fcst_ = np.mean(np.ones_like(inven_valid['inven']) - np.clip(np.abs(inven_valid['inven'] - valid_pred) / inven_valid['inven'] , 0, 1)) * 100    \n",
    "    return real_"
   ]
  },
  {
   "cell_type": "code",
   "execution_count": 131,
   "id": "d448dc0b-9602-422e-955a-11cd8dc5e825",
   "metadata": {},
   "outputs": [
    {
     "data": {
      "text/plain": [
       "Index(['inven_prev1', 'inven_prev2', 'inven_prev3', 'inven_prev4',\n",
       "       'inven_prev5', 'inven_prev6', 'inven_prev7', 'inven_prev8'],\n",
       "      dtype='object')"
      ]
     },
     "execution_count": 131,
     "metadata": {},
     "output_type": "execute_result"
    }
   ],
   "source": [
    "inven_df.columns[3:11]"
   ]
  },
  {
   "cell_type": "code",
   "execution_count": 33,
   "id": "91413b07-45f0-4cc2-9ebd-dcd9ec4336c3",
   "metadata": {
    "tags": []
   },
   "outputs": [],
   "source": [
    "sales_prev = []\n",
    "tmp_sale_prev_ = [x.split('/') for x in sale_prev['sale_prev']]\n",
    "for i in range(0, sale_prev.shape[0]):   \n",
    "    tmp_ww = sale_prev['ww'].loc[i]    \n",
    "    tmp_s =  dt_table.index[dt_table['ww']==tmp_ww].tolist()[0]#-12\n",
    "    tmp_split = pd.DataFrame([x.split(':') for x in tmp_sale_prev_[i]])\n",
    "    if tmp_split.shape[1] > 1:\n",
    "        tmp_split.columns = ['ww','qty']\n",
    "        tmp_prev_qty = []\n",
    "        for k in range(1, 13):\n",
    "            if any(str(dt_table['ww'].loc[tmp_s-k]) == tmp_split['ww']):        \n",
    "                tmp_ind = [i for i, x in enumerate(str(dt_table['ww'].loc[tmp_s-k]) == tmp_split['ww']) if x]    \n",
    "                tmp_prev_qty.append(float(tmp_split['qty'].loc[tmp_ind].values[0]))\n",
    "            else:\n",
    "                tmp_prev_qty.append(0.0)\n",
    "        tmp_sale_prev = sale_prev[['ww','date']].loc[i].values.tolist() + tmp_prev_qty\n",
    "        sales_prev.append(tmp_sale_prev)\n",
    "sales_prev = pd.DataFrame(sales_prev)\n",
    "sales_prev.columns = ['ww', 'date'] + ['sales_prev_'+ str(x) for x in range(1,13)]\n",
    "sales_prev = sales_prev.drop('date', axis=1)\n",
    "sales_prev = sales_prev.astype({'ww' : 'str'})"
   ]
  },
  {
   "cell_type": "code",
   "execution_count": 34,
   "id": "ea06cd9e-343d-467d-8dba-886f85cca4d1",
   "metadata": {
    "tags": []
   },
   "outputs": [],
   "source": [
    "prods_prev = []\n",
    "tmp_prod_prev_ = [x.split('/') for x in prod_prev['prod_prev']]\n",
    "for i in range(0, prod_prev.shape[0]):    \n",
    "    tmp_ww = prod_prev['ww'].loc[i]    \n",
    "    tmp_s =  dt_table.index[dt_table['ww']==tmp_ww].tolist()[0]#-12\n",
    "    tmp_split = pd.DataFrame([x.split(':') for x in tmp_prod_prev_[i]])\n",
    "    if tmp_split.shape[1] > 1:\n",
    "        tmp_split.columns = ['ww','qty']\n",
    "        tmp_prev_qty = []\n",
    "        for k in range(1, 13):\n",
    "            if any(str(dt_table['ww'].loc[tmp_s-k]) == tmp_split['ww']):        \n",
    "                tmp_ind = [i for i, x in enumerate(str(dt_table['ww'].loc[tmp_s-k]) == tmp_split['ww']) if x]    \n",
    "                tmp_prev_qty.append(float(tmp_split['qty'].loc[tmp_ind].values[0]))\n",
    "            else:\n",
    "                tmp_prev_qty.append(0.0)\n",
    "        tmp_prod_prev = prod_prev[['ww','date']].loc[i].values.tolist() + tmp_prev_qty\n",
    "        prods_prev.append(tmp_prod_prev)\n",
    "prods_prev = pd.DataFrame(prods_prev)\n",
    "prods_prev.columns = ['ww', 'date'] + ['prods_prev_'+ str(x) for x in range(1,13)]\n",
    "prods_prev = prods_prev.drop('date', axis=1)\n",
    "prods_prev = prods_prev.astype({'ww' : 'str'})"
   ]
  },
  {
   "cell_type": "code",
   "execution_count": 36,
   "id": "24436887-49cc-4029-b00d-4b673bf82aee",
   "metadata": {},
   "outputs": [],
   "source": [
    "current = 202114 # '21.04\n",
    "sales = pd.merge(sale_rslt, sales_prev, how='inner', on=['ww'])\n",
    "prods = pd.merge(prod_rslt, prods_prev, how='inner', on=['ww'])"
   ]
  },
  {
   "cell_type": "code",
   "execution_count": 38,
   "id": "4dba1f72-5b25-4857-b568-63de6f7174ae",
   "metadata": {},
   "outputs": [],
   "source": [
    "sale_train_no = sales['ww'][sales['ww'] == str(current)].index[0]\n",
    "prod_train_no = prods['ww'][prods['ww'] == str(current)].index[0]\n",
    "sale_train = sales.iloc[:sale_train_no, :]\n",
    "prod_train = prods.iloc[:prod_train_no, :]\n",
    "sale_valid = sales.iloc[sale_train_no:sale_train_no+10, :]\n",
    "prod_valid = prods.iloc[prod_train_no:prod_train_no+10, :]"
   ]
  },
  {
   "cell_type": "code",
   "execution_count": 39,
   "id": "2e494d47-56d6-46f5-afed-b544350e7a82",
   "metadata": {
    "scrolled": true,
    "tags": []
   },
   "outputs": [
    {
     "name": "stdout",
     "output_type": "stream",
     "text": [
      "|   iter    |  target   |  g_alpha  |   k_dot   |   rbf_l   |  theta1   |  tmp_col  | tmp_va... |  w_noise  |\n",
      "-------------------------------------------------------------------------------------------------------------\n",
      "| \u001b[0m 1       \u001b[0m | \u001b[0m 80.52   \u001b[0m | \u001b[0m 0.4129  \u001b[0m | \u001b[0m 72.03   \u001b[0m | \u001b[0m 0.001144\u001b[0m | \u001b[0m 3.023   \u001b[0m | \u001b[0m 2.027   \u001b[0m | \u001b[0m 2.016   \u001b[0m | \u001b[0m 18.63   \u001b[0m |\n",
      "| \u001b[95m 2       \u001b[0m | \u001b[95m 81.08   \u001b[0m | \u001b[95m 0.3421  \u001b[0m | \u001b[95m 39.68   \u001b[0m | \u001b[95m 5.388   \u001b[0m | \u001b[95m 4.192   \u001b[0m | \u001b[95m 5.797   \u001b[0m | \u001b[95m 3.249   \u001b[0m | \u001b[95m 87.81   \u001b[0m |\n",
      "| \u001b[0m 3       \u001b[0m | \u001b[0m 80.35   \u001b[0m | \u001b[0m 0.02711 \u001b[0m | \u001b[0m 67.05   \u001b[0m | \u001b[0m 4.173   \u001b[0m | \u001b[0m 5.587   \u001b[0m | \u001b[0m 1.983   \u001b[0m | \u001b[0m 3.179   \u001b[0m | \u001b[0m 80.07   \u001b[0m |\n",
      "| \u001b[95m 4       \u001b[0m | \u001b[95m 81.37   \u001b[0m | \u001b[95m 0.9586  \u001b[0m | \u001b[95m 31.34   \u001b[0m | \u001b[95m 6.923   \u001b[0m | \u001b[95m 8.764   \u001b[0m | \u001b[95m 7.262   \u001b[0m | \u001b[95m 1.935   \u001b[0m | \u001b[95m 3.905   \u001b[0m |\n",
      "| \u001b[0m 5       \u001b[0m | \u001b[0m 80.67   \u001b[0m | \u001b[0m 0.1681  \u001b[0m | \u001b[0m 87.81   \u001b[0m | \u001b[0m 0.9835  \u001b[0m | \u001b[0m 4.211   \u001b[0m | \u001b[0m 7.705   \u001b[0m | \u001b[0m 6.865   \u001b[0m | \u001b[0m 69.19   \u001b[0m |\n",
      "| \u001b[0m 6       \u001b[0m | \u001b[0m 80.74   \u001b[0m | \u001b[0m 0.3124  \u001b[0m | \u001b[0m 68.65   \u001b[0m | \u001b[0m 8.346   \u001b[0m | \u001b[0m 0.1829  \u001b[0m | \u001b[0m 6.251   \u001b[0m | \u001b[0m 11.88   \u001b[0m | \u001b[0m 74.82   \u001b[0m |\n",
      "| \u001b[95m 7       \u001b[0m | \u001b[95m 81.94   \u001b[0m | \u001b[95m 0.2776  \u001b[0m | \u001b[95m 78.93   \u001b[0m | \u001b[95m 1.032   \u001b[0m | \u001b[95m 4.479   \u001b[0m | \u001b[95m 7.36    \u001b[0m | \u001b[95m 4.23    \u001b[0m | \u001b[95m 28.78   \u001b[0m |\n",
      "| \u001b[0m 8       \u001b[0m | \u001b[0m 80.76   \u001b[0m | \u001b[0m 0.1287  \u001b[0m | \u001b[0m 1.937   \u001b[0m | \u001b[0m 6.788   \u001b[0m | \u001b[0m 2.116   \u001b[0m | \u001b[0m 2.859   \u001b[0m | \u001b[0m 6.407   \u001b[0m | \u001b[0m 5.336   \u001b[0m |\n",
      "| \u001b[0m 9       \u001b[0m | \u001b[0m 80.68   \u001b[0m | \u001b[0m 0.5684  \u001b[0m | \u001b[0m 14.67   \u001b[0m | \u001b[0m 5.893   \u001b[0m | \u001b[0m 6.998   \u001b[0m | \u001b[0m 1.716   \u001b[0m | \u001b[0m 5.555   \u001b[0m | \u001b[0m 69.44   \u001b[0m |\n",
      "| \u001b[0m 10      \u001b[0m | \u001b[0m 79.77   \u001b[0m | \u001b[0m 0.41    \u001b[0m | \u001b[0m 4.995   \u001b[0m | \u001b[0m 5.359   \u001b[0m | \u001b[0m 6.638   \u001b[0m | \u001b[0m 4.604   \u001b[0m | \u001b[0m 11.39   \u001b[0m | \u001b[0m 58.66   \u001b[0m |\n",
      "| \u001b[0m 11      \u001b[0m | \u001b[0m 80.39   \u001b[0m | \u001b[0m 0.8944  \u001b[0m | \u001b[0m 13.75   \u001b[0m | \u001b[0m 1.393   \u001b[0m | \u001b[0m 8.074   \u001b[0m | \u001b[0m 3.784   \u001b[0m | \u001b[0m 2.819   \u001b[0m | \u001b[0m 92.75   \u001b[0m |\n",
      "| \u001b[0m 12      \u001b[0m | \u001b[0m 80.53   \u001b[0m | \u001b[0m 0.3443  \u001b[0m | \u001b[0m 75.08   \u001b[0m | \u001b[0m 7.26    \u001b[0m | \u001b[0m 8.833   \u001b[0m | \u001b[0m 5.366   \u001b[0m | \u001b[0m 9.26    \u001b[0m | \u001b[0m 34.89   \u001b[0m |\n",
      "| \u001b[0m 13      \u001b[0m | \u001b[0m 81.07   \u001b[0m | \u001b[0m 0.2672  \u001b[0m | \u001b[0m 89.59   \u001b[0m | \u001b[0m 4.281   \u001b[0m | \u001b[0m 9.648   \u001b[0m | \u001b[0m 5.644   \u001b[0m | \u001b[0m 7.839   \u001b[0m | \u001b[0m 11.47   \u001b[0m |\n",
      "| \u001b[0m 14      \u001b[0m | \u001b[0m 79.57   \u001b[0m | \u001b[0m 0.94    \u001b[0m | \u001b[0m 44.99   \u001b[0m | \u001b[0m 5.784   \u001b[0m | \u001b[0m 4.081   \u001b[0m | \u001b[0m 2.659   \u001b[0m | \u001b[0m 10.94   \u001b[0m | \u001b[0m 57.37   \u001b[0m |\n",
      "| \u001b[0m 15      \u001b[0m | \u001b[0m 81.44   \u001b[0m | \u001b[0m 0.002842\u001b[0m | \u001b[0m 61.71   \u001b[0m | \u001b[0m 3.266   \u001b[0m | \u001b[0m 5.271   \u001b[0m | \u001b[0m 7.202   \u001b[0m | \u001b[0m 4.93    \u001b[0m | \u001b[0m 90.85   \u001b[0m |\n",
      "| \u001b[0m 16      \u001b[0m | \u001b[0m 81.17   \u001b[0m | \u001b[0m 0.6171  \u001b[0m | \u001b[0m 1.582   \u001b[0m | \u001b[0m 9.294   \u001b[0m | \u001b[0m 6.909   \u001b[0m | \u001b[0m 7.981   \u001b[0m | \u001b[0m 2.896   \u001b[0m | \u001b[0m 13.71   \u001b[0m |\n",
      "| \u001b[0m 17      \u001b[0m | \u001b[0m 80.67   \u001b[0m | \u001b[0m 0.9233  \u001b[0m | \u001b[0m 69.68   \u001b[0m | \u001b[0m 0.66    \u001b[0m | \u001b[0m 7.555   \u001b[0m | \u001b[0m 6.277   \u001b[0m | \u001b[0m 11.15   \u001b[0m | \u001b[0m 71.15   \u001b[0m |\n",
      "| \u001b[0m 18      \u001b[0m | \u001b[0m 79.87   \u001b[0m | \u001b[0m 0.123   \u001b[0m | \u001b[0m 1.988   \u001b[0m | \u001b[0m 0.2621  \u001b[0m | \u001b[0m 0.2831  \u001b[0m | \u001b[0m 2.723   \u001b[0m | \u001b[0m 10.46   \u001b[0m | \u001b[0m 53.88   \u001b[0m |\n",
      "| \u001b[0m 19      \u001b[0m | \u001b[0m 79.77   \u001b[0m | \u001b[0m 0.5473  \u001b[0m | \u001b[0m 84.2    \u001b[0m | \u001b[0m 1.242   \u001b[0m | \u001b[0m 2.792   \u001b[0m | \u001b[0m 5.1     \u001b[0m | \u001b[0m 11.67   \u001b[0m | \u001b[0m 56.1    \u001b[0m |\n",
      "| \u001b[0m 20      \u001b[0m | \u001b[0m 80.27   \u001b[0m | \u001b[0m 0.01846 \u001b[0m | \u001b[0m 80.06   \u001b[0m | \u001b[0m 2.33    \u001b[0m | \u001b[0m 8.071   \u001b[0m | \u001b[0m 3.715   \u001b[0m | \u001b[0m 10.5    \u001b[0m | \u001b[0m 74.71   \u001b[0m |\n",
      "| \u001b[0m 21      \u001b[0m | \u001b[0m 79.81   \u001b[0m | \u001b[0m 0.5507  \u001b[0m | \u001b[0m 13.65   \u001b[0m | \u001b[0m 0.5992  \u001b[0m | \u001b[0m 1.213   \u001b[0m | \u001b[0m 1.312   \u001b[0m | \u001b[0m 2.182   \u001b[0m | \u001b[0m 22.57   \u001b[0m |\n",
      "| \u001b[0m 22      \u001b[0m | \u001b[0m 80.67   \u001b[0m | \u001b[0m 0.7059  \u001b[0m | \u001b[0m 55.97   \u001b[0m | \u001b[0m 0.1256  \u001b[0m | \u001b[0m 0.7197  \u001b[0m | \u001b[0m 7.771   \u001b[0m | \u001b[0m 7.249   \u001b[0m | \u001b[0m 20.33   \u001b[0m |\n",
      "| \u001b[0m 23      \u001b[0m | \u001b[0m 80.66   \u001b[0m | \u001b[0m 0.2498  \u001b[0m | \u001b[0m 74.38   \u001b[0m | \u001b[0m 1.954   \u001b[0m | \u001b[0m 5.814   \u001b[0m | \u001b[0m 7.79    \u001b[0m | \u001b[0m 10.32   \u001b[0m | \u001b[0m 23.98   \u001b[0m |\n",
      "| \u001b[0m 24      \u001b[0m | \u001b[0m 79.81   \u001b[0m | \u001b[0m 0.4888  \u001b[0m | \u001b[0m 62.0    \u001b[0m | \u001b[0m 8.29    \u001b[0m | \u001b[0m 1.568   \u001b[0m | \u001b[0m 1.13    \u001b[0m | \u001b[0m 1.77    \u001b[0m | \u001b[0m 48.63   \u001b[0m |\n",
      "| \u001b[0m 25      \u001b[0m | \u001b[0m 81.17   \u001b[0m | \u001b[0m 0.6003  \u001b[0m | \u001b[0m 56.89   \u001b[0m | \u001b[0m 3.174   \u001b[0m | \u001b[0m 9.886   \u001b[0m | \u001b[0m 5.058   \u001b[0m | \u001b[0m 5.182   \u001b[0m | \u001b[0m 55.09   \u001b[0m |\n",
      "| \u001b[0m 26      \u001b[0m | \u001b[0m 80.41   \u001b[0m | \u001b[0m 0.7379  \u001b[0m | \u001b[0m 66.92   \u001b[0m | \u001b[0m 2.649   \u001b[0m | \u001b[0m 0.6633  \u001b[0m | \u001b[0m 3.591   \u001b[0m | \u001b[0m 7.927   \u001b[0m | \u001b[0m 21.02   \u001b[0m |\n",
      "| \u001b[0m 27      \u001b[0m | \u001b[0m 80.1    \u001b[0m | \u001b[0m 0.7452  \u001b[0m | \u001b[0m 6.654   \u001b[0m | \u001b[0m 2.603   \u001b[0m | \u001b[0m 8.048   \u001b[0m | \u001b[0m 2.354   \u001b[0m | \u001b[0m 8.034   \u001b[0m | \u001b[0m 52.47   \u001b[0m |\n",
      "| \u001b[0m 28      \u001b[0m | \u001b[0m 80.83   \u001b[0m | \u001b[0m 0.9156  \u001b[0m | \u001b[0m 26.33   \u001b[0m | \u001b[0m 0.6596  \u001b[0m | \u001b[0m 7.351   \u001b[0m | \u001b[0m 6.405   \u001b[0m | \u001b[0m 10.99   \u001b[0m | \u001b[0m 93.2    \u001b[0m |\n",
      "| \u001b[0m 29      \u001b[0m | \u001b[0m 80.67   \u001b[0m | \u001b[0m 0.01381 \u001b[0m | \u001b[0m 23.44   \u001b[0m | \u001b[0m 6.168   \u001b[0m | \u001b[0m 9.49    \u001b[0m | \u001b[0m 7.651   \u001b[0m | \u001b[0m 7.123   \u001b[0m | \u001b[0m 91.56   \u001b[0m |\n",
      "| \u001b[0m 30      \u001b[0m | \u001b[0m 79.77   \u001b[0m | \u001b[0m 0.6352  \u001b[0m | \u001b[0m 39.0    \u001b[0m | \u001b[0m 4.86    \u001b[0m | \u001b[0m 6.043   \u001b[0m | \u001b[0m 4.847   \u001b[0m | \u001b[0m 11.19   \u001b[0m | \u001b[0m 91.87   \u001b[0m |\n",
      "| \u001b[0m 31      \u001b[0m | \u001b[0m 81.17   \u001b[0m | \u001b[0m 0.6317  \u001b[0m | \u001b[0m 77.83   \u001b[0m | \u001b[0m 3.021   \u001b[0m | \u001b[0m 3.262   \u001b[0m | \u001b[0m 7.756   \u001b[0m | \u001b[0m 3.211   \u001b[0m | \u001b[0m 27.94   \u001b[0m |\n",
      "| \u001b[0m 32      \u001b[0m | \u001b[0m 81.44   \u001b[0m | \u001b[0m 0.005876\u001b[0m | \u001b[0m 81.04   \u001b[0m | \u001b[0m 1.919   \u001b[0m | \u001b[0m 7.585   \u001b[0m | \u001b[0m 7.282   \u001b[0m | \u001b[0m 5.203   \u001b[0m | \u001b[0m 29.91   \u001b[0m |\n",
      "| \u001b[0m 33      \u001b[0m | \u001b[0m 81.14   \u001b[0m | \u001b[0m 0.6636  \u001b[0m | \u001b[0m 76.44   \u001b[0m | \u001b[0m 1.988   \u001b[0m | \u001b[0m 4.151   \u001b[0m | \u001b[0m 6.518   \u001b[0m | \u001b[0m 6.725   \u001b[0m | \u001b[0m 29.05   \u001b[0m |\n"
     ]
    },
    {
     "name": "stderr",
     "output_type": "stream",
     "text": [
      "/opt/conda/lib/python3.9/site-packages/sklearn/gaussian_process/kernels.py:271: RuntimeWarning:\n",
      "\n",
      "divide by zero encountered in log\n",
      "\n"
     ]
    },
    {
     "name": "stdout",
     "output_type": "stream",
     "text": [
      "| \u001b[0m 34      \u001b[0m | \u001b[0m 81.44   \u001b[0m | \u001b[0m 0.0     \u001b[0m | \u001b[0m 81.38   \u001b[0m | \u001b[0m 0.0     \u001b[0m | \u001b[0m 3.388   \u001b[0m | \u001b[0m 6.597   \u001b[0m | \u001b[0m 4.552   \u001b[0m | \u001b[0m 29.71   \u001b[0m |\n",
      "| \u001b[0m 35      \u001b[0m | \u001b[0m 81.22   \u001b[0m | \u001b[0m 0.5953  \u001b[0m | \u001b[0m 77.23   \u001b[0m | \u001b[0m 0.8957  \u001b[0m | \u001b[0m 6.32    \u001b[0m | \u001b[0m 6.717   \u001b[0m | \u001b[0m 3.219   \u001b[0m | \u001b[0m 32.98   \u001b[0m |\n"
     ]
    },
    {
     "name": "stderr",
     "output_type": "stream",
     "text": [
      "/opt/conda/lib/python3.9/site-packages/sklearn/gaussian_process/kernels.py:271: RuntimeWarning:\n",
      "\n",
      "divide by zero encountered in log\n",
      "\n"
     ]
    },
    {
     "name": "stdout",
     "output_type": "stream",
     "text": [
      "| \u001b[0m 36      \u001b[0m | \u001b[0m 81.08   \u001b[0m | \u001b[0m 0.0     \u001b[0m | \u001b[0m 78.92   \u001b[0m | \u001b[0m 0.0     \u001b[0m | \u001b[0m 6.637   \u001b[0m | \u001b[0m 6.337   \u001b[0m | \u001b[0m 3.014   \u001b[0m | \u001b[0m 27.49   \u001b[0m |\n"
     ]
    },
    {
     "name": "stderr",
     "output_type": "stream",
     "text": [
      "/opt/conda/lib/python3.9/site-packages/sklearn/gaussian_process/kernels.py:271: RuntimeWarning:\n",
      "\n",
      "divide by zero encountered in log\n",
      "\n"
     ]
    },
    {
     "name": "stdout",
     "output_type": "stream",
     "text": [
      "| \u001b[0m 37      \u001b[0m | \u001b[0m 81.27   \u001b[0m | \u001b[0m 0.99    \u001b[0m | \u001b[0m 79.13   \u001b[0m | \u001b[0m 0.0     \u001b[0m | \u001b[0m 5.04    \u001b[0m | \u001b[0m 8.0     \u001b[0m | \u001b[0m 5.582   \u001b[0m | \u001b[0m 30.39   \u001b[0m |\n",
      "| \u001b[0m 38      \u001b[0m | \u001b[0m 81.22   \u001b[0m | \u001b[0m 0.02494 \u001b[0m | \u001b[0m 83.04   \u001b[0m | \u001b[0m 4.068   \u001b[0m | \u001b[0m 5.145   \u001b[0m | \u001b[0m 7.374   \u001b[0m | \u001b[0m 3.324   \u001b[0m | \u001b[0m 30.68   \u001b[0m |\n",
      "| \u001b[0m 39      \u001b[0m | \u001b[0m 81.93   \u001b[0m | \u001b[0m 0.0     \u001b[0m | \u001b[0m 79.48   \u001b[0m | \u001b[0m 2.413   \u001b[0m | \u001b[0m 4.697   \u001b[0m | \u001b[0m 5.508   \u001b[0m | \u001b[0m 4.205   \u001b[0m | \u001b[0m 29.97   \u001b[0m |\n",
      "| \u001b[0m 40      \u001b[0m | \u001b[0m 81.09   \u001b[0m | \u001b[0m 0.0     \u001b[0m | \u001b[0m 80.55   \u001b[0m | \u001b[0m 2.648   \u001b[0m | \u001b[0m 4.479   \u001b[0m | \u001b[0m 6.392   \u001b[0m | \u001b[0m 5.739   \u001b[0m | \u001b[0m 27.74   \u001b[0m |\n",
      "| \u001b[0m 41      \u001b[0m | \u001b[0m 81.37   \u001b[0m | \u001b[0m 0.0     \u001b[0m | \u001b[0m 79.6    \u001b[0m | \u001b[0m 1.491   \u001b[0m | \u001b[0m 4.347   \u001b[0m | \u001b[0m 7.134   \u001b[0m | \u001b[0m 2.238   \u001b[0m | \u001b[0m 30.6    \u001b[0m |\n",
      "| \u001b[0m 42      \u001b[0m | \u001b[0m 81.04   \u001b[0m | \u001b[0m 0.1712  \u001b[0m | \u001b[0m 79.96   \u001b[0m | \u001b[0m 2.513   \u001b[0m | \u001b[0m 7.326   \u001b[0m | \u001b[0m 3.969   \u001b[0m | \u001b[0m 3.989   \u001b[0m | \u001b[0m 34.34   \u001b[0m |\n",
      "| \u001b[0m 43      \u001b[0m | \u001b[0m 81.21   \u001b[0m | \u001b[0m 0.0     \u001b[0m | \u001b[0m 78.13   \u001b[0m | \u001b[0m 0.4083  \u001b[0m | \u001b[0m 3.44    \u001b[0m | \u001b[0m 4.97    \u001b[0m | \u001b[0m 4.095   \u001b[0m | \u001b[0m 29.59   \u001b[0m |\n",
      "| \u001b[0m 44      \u001b[0m | \u001b[0m 81.27   \u001b[0m | \u001b[0m 0.09073 \u001b[0m | \u001b[0m 60.38   \u001b[0m | \u001b[0m 3.141   \u001b[0m | \u001b[0m 4.934   \u001b[0m | \u001b[0m 8.0     \u001b[0m | \u001b[0m 5.625   \u001b[0m | \u001b[0m 94.28   \u001b[0m |\n",
      "| \u001b[0m 45      \u001b[0m | \u001b[0m 81.94   \u001b[0m | \u001b[0m 0.0     \u001b[0m | \u001b[0m 78.32   \u001b[0m | \u001b[0m 3.232   \u001b[0m | \u001b[0m 6.161   \u001b[0m | \u001b[0m 7.131   \u001b[0m | \u001b[0m 4.315   \u001b[0m | \u001b[0m 30.11   \u001b[0m |\n",
      "| \u001b[0m 46      \u001b[0m | \u001b[0m 81.04   \u001b[0m | \u001b[0m 0.6458  \u001b[0m | \u001b[0m 76.99   \u001b[0m | \u001b[0m 4.517   \u001b[0m | \u001b[0m 3.928   \u001b[0m | \u001b[0m 4.479   \u001b[0m | \u001b[0m 3.955   \u001b[0m | \u001b[0m 31.24   \u001b[0m |\n",
      "| \u001b[0m 47      \u001b[0m | \u001b[0m 80.28   \u001b[0m | \u001b[0m 0.4709  \u001b[0m | \u001b[0m 60.15   \u001b[0m | \u001b[0m 1.946   \u001b[0m | \u001b[0m 4.788   \u001b[0m | \u001b[0m 5.479   \u001b[0m | \u001b[0m 2.208   \u001b[0m | \u001b[0m 92.85   \u001b[0m |\n",
      "| \u001b[0m 48      \u001b[0m | \u001b[0m 81.27   \u001b[0m | \u001b[0m 0.4304  \u001b[0m | \u001b[0m 61.98   \u001b[0m | \u001b[0m 6.05    \u001b[0m | \u001b[0m 6.706   \u001b[0m | \u001b[0m 7.632   \u001b[0m | \u001b[0m 6.449   \u001b[0m | \u001b[0m 93.68   \u001b[0m |\n",
      "| \u001b[0m 49      \u001b[0m | \u001b[0m 81.44   \u001b[0m | \u001b[0m 0.0     \u001b[0m | \u001b[0m 79.48   \u001b[0m | \u001b[0m 3.149   \u001b[0m | \u001b[0m 4.487   \u001b[0m | \u001b[0m 7.438   \u001b[0m | \u001b[0m 5.198   \u001b[0m | \u001b[0m 31.22   \u001b[0m |\n",
      "| \u001b[0m 50      \u001b[0m | \u001b[0m 80.54   \u001b[0m | \u001b[0m 0.0     \u001b[0m | \u001b[0m 62.0    \u001b[0m | \u001b[0m 3.379   \u001b[0m | \u001b[0m 4.709   \u001b[0m | \u001b[0m 8.0     \u001b[0m | \u001b[0m 8.794   \u001b[0m | \u001b[0m 90.95   \u001b[0m |\n",
      "| \u001b[0m 51      \u001b[0m | \u001b[0m 80.26   \u001b[0m | \u001b[0m 0.0     \u001b[0m | \u001b[0m 79.46   \u001b[0m | \u001b[0m 3.779   \u001b[0m | \u001b[0m 7.232   \u001b[0m | \u001b[0m 5.159   \u001b[0m | \u001b[0m 3.279   \u001b[0m | \u001b[0m 29.88   \u001b[0m |\n",
      "| \u001b[0m 52      \u001b[0m | \u001b[0m 81.88   \u001b[0m | \u001b[0m 0.0     \u001b[0m | \u001b[0m 62.84   \u001b[0m | \u001b[0m 5.118   \u001b[0m | \u001b[0m 5.061   \u001b[0m | \u001b[0m 8.0     \u001b[0m | \u001b[0m 4.229   \u001b[0m | \u001b[0m 92.45   \u001b[0m |\n",
      "| \u001b[0m 53      \u001b[0m | \u001b[0m 81.27   \u001b[0m | \u001b[0m 0.8275  \u001b[0m | \u001b[0m 65.87   \u001b[0m | \u001b[0m 3.347   \u001b[0m | \u001b[0m 5.421   \u001b[0m | \u001b[0m 7.824   \u001b[0m | \u001b[0m 5.82    \u001b[0m | \u001b[0m 92.76   \u001b[0m |\n",
      "| \u001b[0m 54      \u001b[0m | \u001b[0m 81.88   \u001b[0m | \u001b[0m 0.0     \u001b[0m | \u001b[0m 63.53   \u001b[0m | \u001b[0m 4.641   \u001b[0m | \u001b[0m 7.067   \u001b[0m | \u001b[0m 8.0     \u001b[0m | \u001b[0m 3.965   \u001b[0m | \u001b[0m 91.77   \u001b[0m |\n",
      "| \u001b[0m 55      \u001b[0m | \u001b[0m 81.88   \u001b[0m | \u001b[0m 0.5328  \u001b[0m | \u001b[0m 63.93   \u001b[0m | \u001b[0m 4.092   \u001b[0m | \u001b[0m 8.228   \u001b[0m | \u001b[0m 7.689   \u001b[0m | \u001b[0m 3.677   \u001b[0m | \u001b[0m 93.9    \u001b[0m |\n",
      "| \u001b[0m 56      \u001b[0m | \u001b[0m 81.88   \u001b[0m | \u001b[0m 0.0     \u001b[0m | \u001b[0m 77.39   \u001b[0m | \u001b[0m 1.719   \u001b[0m | \u001b[0m 6.06    \u001b[0m | \u001b[0m 8.0     \u001b[0m | \u001b[0m 4.343   \u001b[0m | \u001b[0m 29.48   \u001b[0m |\n",
      "| \u001b[0m 57      \u001b[0m | \u001b[0m 81.17   \u001b[0m | \u001b[0m 0.0     \u001b[0m | \u001b[0m 64.53   \u001b[0m | \u001b[0m 5.912   \u001b[0m | \u001b[0m 6.399   \u001b[0m | \u001b[0m 8.0     \u001b[0m | \u001b[0m 2.702   \u001b[0m | \u001b[0m 93.84   \u001b[0m |\n",
      "| \u001b[0m 58      \u001b[0m | \u001b[0m 81.88   \u001b[0m | \u001b[0m 0.0     \u001b[0m | \u001b[0m 63.05   \u001b[0m | \u001b[0m 2.811   \u001b[0m | \u001b[0m 6.888   \u001b[0m | \u001b[0m 8.0     \u001b[0m | \u001b[0m 4.499   \u001b[0m | \u001b[0m 93.35   \u001b[0m |\n",
      "| \u001b[0m 59      \u001b[0m | \u001b[0m 81.88   \u001b[0m | \u001b[0m 0.0     \u001b[0m | \u001b[0m 62.38   \u001b[0m | \u001b[0m 3.362   \u001b[0m | \u001b[0m 9.728   \u001b[0m | \u001b[0m 8.0     \u001b[0m | \u001b[0m 4.409   \u001b[0m | \u001b[0m 92.52   \u001b[0m |\n",
      "| \u001b[0m 60      \u001b[0m | \u001b[0m 81.88   \u001b[0m | \u001b[0m 0.0     \u001b[0m | \u001b[0m 64.85   \u001b[0m | \u001b[0m 2.011   \u001b[0m | \u001b[0m 9.242   \u001b[0m | \u001b[0m 8.0     \u001b[0m | \u001b[0m 3.579   \u001b[0m | \u001b[0m 92.16   \u001b[0m |\n",
      "| \u001b[0m 61      \u001b[0m | \u001b[0m 80.28   \u001b[0m | \u001b[0m 0.8797  \u001b[0m | \u001b[0m 61.84   \u001b[0m | \u001b[0m 1.946   \u001b[0m | \u001b[0m 9.835   \u001b[0m | \u001b[0m 5.441   \u001b[0m | \u001b[0m 2.446   \u001b[0m | \u001b[0m 96.88   \u001b[0m |\n",
      "| \u001b[0m 62      \u001b[0m | \u001b[0m 81.27   \u001b[0m | \u001b[0m 0.0     \u001b[0m | \u001b[0m 64.91   \u001b[0m | \u001b[0m 3.692   \u001b[0m | \u001b[0m 9.715   \u001b[0m | \u001b[0m 8.0     \u001b[0m | \u001b[0m 5.852   \u001b[0m | \u001b[0m 92.86   \u001b[0m |\n",
      "| \u001b[0m 63      \u001b[0m | \u001b[0m 81.34   \u001b[0m | \u001b[0m 0.99    \u001b[0m | \u001b[0m 62.99   \u001b[0m | \u001b[0m 3.004   \u001b[0m | \u001b[0m 8.624   \u001b[0m | \u001b[0m 8.0     \u001b[0m | \u001b[0m 2.259   \u001b[0m | \u001b[0m 91.53   \u001b[0m |\n",
      "| \u001b[0m 64      \u001b[0m | \u001b[0m 81.88   \u001b[0m | \u001b[0m 0.0     \u001b[0m | \u001b[0m 61.08   \u001b[0m | \u001b[0m 5.067   \u001b[0m | \u001b[0m 7.626   \u001b[0m | \u001b[0m 8.0     \u001b[0m | \u001b[0m 3.775   \u001b[0m | \u001b[0m 92.77   \u001b[0m |\n",
      "| \u001b[0m 65      \u001b[0m | \u001b[0m 81.03   \u001b[0m | \u001b[0m 0.1874  \u001b[0m | \u001b[0m 66.21   \u001b[0m | \u001b[0m 2.863   \u001b[0m | \u001b[0m 8.416   \u001b[0m | \u001b[0m 4.281   \u001b[0m | \u001b[0m 4.917   \u001b[0m | \u001b[0m 89.69   \u001b[0m |\n",
      "| \u001b[0m 66      \u001b[0m | \u001b[0m 81.17   \u001b[0m | \u001b[0m 0.0     \u001b[0m | \u001b[0m 66.29   \u001b[0m | \u001b[0m 0.9028  \u001b[0m | \u001b[0m 7.76    \u001b[0m | \u001b[0m 8.0     \u001b[0m | \u001b[0m 3.062   \u001b[0m | \u001b[0m 94.06   \u001b[0m |\n",
      "| \u001b[0m 67      \u001b[0m | \u001b[0m 80.67   \u001b[0m | \u001b[0m 0.7271  \u001b[0m | \u001b[0m 76.09   \u001b[0m | \u001b[0m 2.761   \u001b[0m | \u001b[0m 8.093   \u001b[0m | \u001b[0m 7.718   \u001b[0m | \u001b[0m 6.759   \u001b[0m | \u001b[0m 29.63   \u001b[0m |\n",
      "| \u001b[0m 68      \u001b[0m | \u001b[0m 81.22   \u001b[0m | \u001b[0m 0.1415  \u001b[0m | \u001b[0m 58.02   \u001b[0m | \u001b[0m 8.803   \u001b[0m | \u001b[0m 7.978   \u001b[0m | \u001b[0m 6.856   \u001b[0m | \u001b[0m 2.812   \u001b[0m | \u001b[0m 90.92   \u001b[0m |\n",
      "| \u001b[0m 69      \u001b[0m | \u001b[0m 81.44   \u001b[0m | \u001b[0m 0.9534  \u001b[0m | \u001b[0m 60.59   \u001b[0m | \u001b[0m 7.683   \u001b[0m | \u001b[0m 8.216   \u001b[0m | \u001b[0m 6.921   \u001b[0m | \u001b[0m 4.775   \u001b[0m | \u001b[0m 90.78   \u001b[0m |\n",
      "| \u001b[0m 70      \u001b[0m | \u001b[0m 81.44   \u001b[0m | \u001b[0m 0.4006  \u001b[0m | \u001b[0m 60.91   \u001b[0m | \u001b[0m 7.087   \u001b[0m | \u001b[0m 4.427   \u001b[0m | \u001b[0m 6.713   \u001b[0m | \u001b[0m 4.942   \u001b[0m | \u001b[0m 89.31   \u001b[0m |\n",
      "| \u001b[0m 71      \u001b[0m | \u001b[0m 81.29   \u001b[0m | \u001b[0m 0.0     \u001b[0m | \u001b[0m 60.14   \u001b[0m | \u001b[0m 4.312   \u001b[0m | \u001b[0m 9.123   \u001b[0m | \u001b[0m 8.0     \u001b[0m | \u001b[0m 5.009   \u001b[0m | \u001b[0m 90.16   \u001b[0m |\n",
      "| \u001b[0m 72      \u001b[0m | \u001b[0m 81.21   \u001b[0m | \u001b[0m 0.688   \u001b[0m | \u001b[0m 64.81   \u001b[0m | \u001b[0m 9.521   \u001b[0m | \u001b[0m 4.843   \u001b[0m | \u001b[0m 4.562   \u001b[0m | \u001b[0m 3.639   \u001b[0m | \u001b[0m 90.74   \u001b[0m |\n",
      "| \u001b[0m 73      \u001b[0m | \u001b[0m 81.37   \u001b[0m | \u001b[0m 0.3498  \u001b[0m | \u001b[0m 65.33   \u001b[0m | \u001b[0m 6.674   \u001b[0m | \u001b[0m 3.251   \u001b[0m | \u001b[0m 7.155   \u001b[0m | \u001b[0m 1.768   \u001b[0m | \u001b[0m 88.54   \u001b[0m |\n",
      "| \u001b[0m 74      \u001b[0m | \u001b[0m 81.34   \u001b[0m | \u001b[0m 0.0     \u001b[0m | \u001b[0m 61.65   \u001b[0m | \u001b[0m 6.84    \u001b[0m | \u001b[0m 5.532   \u001b[0m | \u001b[0m 8.0     \u001b[0m | \u001b[0m 2.469   \u001b[0m | \u001b[0m 90.76   \u001b[0m |\n",
      "| \u001b[0m 75      \u001b[0m | \u001b[0m 81.88   \u001b[0m | \u001b[0m 0.0     \u001b[0m | \u001b[0m 63.64   \u001b[0m | \u001b[0m 6.206   \u001b[0m | \u001b[0m 1.668   \u001b[0m | \u001b[0m 8.0     \u001b[0m | \u001b[0m 4.398   \u001b[0m | \u001b[0m 91.17   \u001b[0m |\n",
      "| \u001b[0m 76      \u001b[0m | \u001b[0m 81.29   \u001b[0m | \u001b[0m 0.0     \u001b[0m | \u001b[0m 63.39   \u001b[0m | \u001b[0m 9.053   \u001b[0m | \u001b[0m 0.751   \u001b[0m | \u001b[0m 8.0     \u001b[0m | \u001b[0m 4.634   \u001b[0m | \u001b[0m 89.79   \u001b[0m |\n",
      "| \u001b[0m 77      \u001b[0m | \u001b[0m 81.88   \u001b[0m | \u001b[0m 0.99    \u001b[0m | \u001b[0m 61.85   \u001b[0m | \u001b[0m 6.57    \u001b[0m | \u001b[0m 1.471   \u001b[0m | \u001b[0m 8.0     \u001b[0m | \u001b[0m 4.283   \u001b[0m | \u001b[0m 93.39   \u001b[0m |\n",
      "| \u001b[0m 78      \u001b[0m | \u001b[0m 80.98   \u001b[0m | \u001b[0m 0.4482  \u001b[0m | \u001b[0m 58.19   \u001b[0m | \u001b[0m 8.438   \u001b[0m | \u001b[0m 0.1671  \u001b[0m | \u001b[0m 7.953   \u001b[0m | \u001b[0m 1.133   \u001b[0m | \u001b[0m 91.54   \u001b[0m |\n",
      "| \u001b[0m 79      \u001b[0m | \u001b[0m 81.88   \u001b[0m | \u001b[0m 0.99    \u001b[0m | \u001b[0m 64.45   \u001b[0m | \u001b[0m 5.137   \u001b[0m | \u001b[0m 0.08992 \u001b[0m | \u001b[0m 8.0     \u001b[0m | \u001b[0m 3.879   \u001b[0m | \u001b[0m 93.54   \u001b[0m |\n",
      "| \u001b[0m 80      \u001b[0m | \u001b[0m 80.26   \u001b[0m | \u001b[0m 0.95    \u001b[0m | \u001b[0m 64.4    \u001b[0m | \u001b[0m 5.03    \u001b[0m | \u001b[0m 0.2672  \u001b[0m | \u001b[0m 4.512   \u001b[0m | \u001b[0m 3.002   \u001b[0m | \u001b[0m 92.83   \u001b[0m |\n",
      "=============================================================================================================\n",
      "81.94291313621946\n",
      "Prev col : 7, Var Sale : 4\n"
     ]
    },
    {
     "data": {
      "text/plain": [
       "GaussianProcessRegressor(alpha=0.2776395521437611,\n",
       "                         kernel=2.12**2 * RBF(length_scale=1.03) + WhiteKernel(noise_level=28.8) + DotProduct(sigma_0=78.9),\n",
       "                         n_restarts_optimizer=3)"
      ]
     },
     "execution_count": 39,
     "metadata": {},
     "output_type": "execute_result"
    }
   ],
   "source": [
    "warnings.filterwarnings(action='ignore', category=UserWarning)\n",
    "param_bound = {'theta1' : (0, 10), 'g_alpha' : (0.0,0.99) , 'k_dot' : (0, 100), 'w_noise' : (0.0, 100), 'rbf_l' : (0, 10), \n",
    "               'tmp_col' : (1,8), 'tmp_var_col' : (1, 12)}\n",
    "\n",
    "sale_optimizer = BayesianOptimization(f=h_opt_sale, pbounds=param_bound, verbose=2, random_state=1)\n",
    "sale_optimizer.maximize(init_points=30, n_iter=50)\n",
    "print(sale_optimizer.max['target'])\n",
    "\n",
    "g_alpha = sale_optimizer.max['params']['g_alpha']\n",
    "k_dot   = sale_optimizer.max['params']['k_dot']\n",
    "rbf_l   = sale_optimizer.max['params']['rbf_l']\n",
    "theta1  = sale_optimizer.max['params']['theta1']\n",
    "sale_prev_col = round(sale_optimizer.max['params']['tmp_col'])\n",
    "sale_var_col  = round(sale_optimizer.max['params']['tmp_var_col'])\n",
    "w_noise = sale_optimizer.max['params']['w_noise']\n",
    "print(\"Prev col : %d, Var Sale : %d\"%(sale_prev_col, sale_var_col))\n",
    "\n",
    "prev_name = sale_train.columns[3:15].tolist()\n",
    "var_name  = sale_train.columns[15:].tolist()\n",
    "\n",
    "sale_train_x_name = prev_name[:sale_prev_col]+var_name[:sale_var_col]\n",
    "sale_kernel =  theta1 * RBF(rbf_l) + WhiteKernel(w_noise)  + DotProduct(k_dot) ## RBF(2) + WhiteKernel(1)  + \n",
    "sale_gp = GaussianProcessRegressor(kernel=sale_kernel, alpha=g_alpha, n_restarts_optimizer=3)\n",
    "sale_gp.fit(sale_train[sale_train_x_name], sale_train['sale'])"
   ]
  },
  {
   "cell_type": "code",
   "execution_count": 40,
   "id": "d09d9c2c-6e48-4a4a-8f21-837b7aaf52fd",
   "metadata": {
    "scrolled": true,
    "tags": []
   },
   "outputs": [
    {
     "name": "stdout",
     "output_type": "stream",
     "text": [
      "|   iter    |  target   |  g_alpha  |   k_dot   |   rbf_l   |  theta1   |  tmp_col  | tmp_va... |  w_noise  |\n",
      "-------------------------------------------------------------------------------------------------------------\n",
      "| \u001b[0m 1       \u001b[0m | \u001b[0m 81.99   \u001b[0m | \u001b[0m 0.4129  \u001b[0m | \u001b[0m 72.03   \u001b[0m | \u001b[0m 0.001144\u001b[0m | \u001b[0m 3.023   \u001b[0m | \u001b[0m 2.027   \u001b[0m | \u001b[0m 2.016   \u001b[0m | \u001b[0m 18.63   \u001b[0m |\n",
      "| \u001b[95m 2       \u001b[0m | \u001b[95m 82.97   \u001b[0m | \u001b[95m 0.3421  \u001b[0m | \u001b[95m 39.68   \u001b[0m | \u001b[95m 5.388   \u001b[0m | \u001b[95m 4.192   \u001b[0m | \u001b[95m 5.797   \u001b[0m | \u001b[95m 3.249   \u001b[0m | \u001b[95m 87.81   \u001b[0m |\n",
      "| \u001b[0m 3       \u001b[0m | \u001b[0m 81.89   \u001b[0m | \u001b[0m 0.02711 \u001b[0m | \u001b[0m 67.05   \u001b[0m | \u001b[0m 4.173   \u001b[0m | \u001b[0m 5.587   \u001b[0m | \u001b[0m 1.983   \u001b[0m | \u001b[0m 3.179   \u001b[0m | \u001b[0m 80.07   \u001b[0m |\n",
      "| \u001b[95m 4       \u001b[0m | \u001b[95m 83.24   \u001b[0m | \u001b[95m 0.9586  \u001b[0m | \u001b[95m 31.34   \u001b[0m | \u001b[95m 6.923   \u001b[0m | \u001b[95m 8.764   \u001b[0m | \u001b[95m 7.262   \u001b[0m | \u001b[95m 1.935   \u001b[0m | \u001b[95m 3.905   \u001b[0m |\n",
      "| \u001b[95m 5       \u001b[0m | \u001b[95m 83.61   \u001b[0m | \u001b[95m 0.1681  \u001b[0m | \u001b[95m 87.81   \u001b[0m | \u001b[95m 0.9835  \u001b[0m | \u001b[95m 4.211   \u001b[0m | \u001b[95m 7.705   \u001b[0m | \u001b[95m 6.865   \u001b[0m | \u001b[95m 69.19   \u001b[0m |\n",
      "| \u001b[95m 6       \u001b[0m | \u001b[95m 83.99   \u001b[0m | \u001b[95m 0.3124  \u001b[0m | \u001b[95m 68.65   \u001b[0m | \u001b[95m 8.346   \u001b[0m | \u001b[95m 0.1829  \u001b[0m | \u001b[95m 6.251   \u001b[0m | \u001b[95m 11.88   \u001b[0m | \u001b[95m 74.82   \u001b[0m |\n",
      "| \u001b[0m 7       \u001b[0m | \u001b[0m 83.26   \u001b[0m | \u001b[0m 0.2776  \u001b[0m | \u001b[0m 78.93   \u001b[0m | \u001b[0m 1.032   \u001b[0m | \u001b[0m 4.479   \u001b[0m | \u001b[0m 7.36    \u001b[0m | \u001b[0m 4.23    \u001b[0m | \u001b[0m 28.78   \u001b[0m |\n",
      "| \u001b[0m 8       \u001b[0m | \u001b[0m 82.75   \u001b[0m | \u001b[0m 0.1287  \u001b[0m | \u001b[0m 1.937   \u001b[0m | \u001b[0m 6.788   \u001b[0m | \u001b[0m 2.116   \u001b[0m | \u001b[0m 2.859   \u001b[0m | \u001b[0m 6.407   \u001b[0m | \u001b[0m 5.336   \u001b[0m |\n",
      "| \u001b[0m 9       \u001b[0m | \u001b[0m 82.66   \u001b[0m | \u001b[0m 0.5684  \u001b[0m | \u001b[0m 14.67   \u001b[0m | \u001b[0m 5.893   \u001b[0m | \u001b[0m 6.998   \u001b[0m | \u001b[0m 1.716   \u001b[0m | \u001b[0m 5.555   \u001b[0m | \u001b[0m 69.44   \u001b[0m |\n",
      "| \u001b[0m 10      \u001b[0m | \u001b[0m 83.83   \u001b[0m | \u001b[0m 0.41    \u001b[0m | \u001b[0m 4.995   \u001b[0m | \u001b[0m 5.359   \u001b[0m | \u001b[0m 6.638   \u001b[0m | \u001b[0m 4.604   \u001b[0m | \u001b[0m 11.39   \u001b[0m | \u001b[0m 58.66   \u001b[0m |\n",
      "| \u001b[0m 11      \u001b[0m | \u001b[0m 82.77   \u001b[0m | \u001b[0m 0.8944  \u001b[0m | \u001b[0m 13.75   \u001b[0m | \u001b[0m 1.393   \u001b[0m | \u001b[0m 8.074   \u001b[0m | \u001b[0m 3.784   \u001b[0m | \u001b[0m 2.819   \u001b[0m | \u001b[0m 92.75   \u001b[0m |\n",
      "| \u001b[0m 12      \u001b[0m | \u001b[0m 83.07   \u001b[0m | \u001b[0m 0.3443  \u001b[0m | \u001b[0m 75.08   \u001b[0m | \u001b[0m 7.26    \u001b[0m | \u001b[0m 8.833   \u001b[0m | \u001b[0m 5.366   \u001b[0m | \u001b[0m 9.26    \u001b[0m | \u001b[0m 34.89   \u001b[0m |\n",
      "| \u001b[0m 13      \u001b[0m | \u001b[0m 83.54   \u001b[0m | \u001b[0m 0.2672  \u001b[0m | \u001b[0m 89.59   \u001b[0m | \u001b[0m 4.281   \u001b[0m | \u001b[0m 9.648   \u001b[0m | \u001b[0m 5.644   \u001b[0m | \u001b[0m 7.839   \u001b[0m | \u001b[0m 11.47   \u001b[0m |\n",
      "| \u001b[0m 14      \u001b[0m | \u001b[0m 83.24   \u001b[0m | \u001b[0m 0.94    \u001b[0m | \u001b[0m 44.99   \u001b[0m | \u001b[0m 5.784   \u001b[0m | \u001b[0m 4.081   \u001b[0m | \u001b[0m 2.659   \u001b[0m | \u001b[0m 10.94   \u001b[0m | \u001b[0m 57.37   \u001b[0m |\n",
      "| \u001b[0m 15      \u001b[0m | \u001b[0m 83.28   \u001b[0m | \u001b[0m 0.002842\u001b[0m | \u001b[0m 61.71   \u001b[0m | \u001b[0m 3.266   \u001b[0m | \u001b[0m 5.271   \u001b[0m | \u001b[0m 7.202   \u001b[0m | \u001b[0m 4.93    \u001b[0m | \u001b[0m 90.85   \u001b[0m |\n",
      "| \u001b[0m 16      \u001b[0m | \u001b[0m 82.86   \u001b[0m | \u001b[0m 0.6171  \u001b[0m | \u001b[0m 1.582   \u001b[0m | \u001b[0m 9.294   \u001b[0m | \u001b[0m 6.909   \u001b[0m | \u001b[0m 7.981   \u001b[0m | \u001b[0m 2.896   \u001b[0m | \u001b[0m 13.71   \u001b[0m |\n",
      "| \u001b[95m 17      \u001b[0m | \u001b[95m 84.04   \u001b[0m | \u001b[95m 0.9233  \u001b[0m | \u001b[95m 69.68   \u001b[0m | \u001b[95m 0.66    \u001b[0m | \u001b[95m 7.555   \u001b[0m | \u001b[95m 6.277   \u001b[0m | \u001b[95m 11.15   \u001b[0m | \u001b[95m 71.15   \u001b[0m |\n",
      "| \u001b[0m 18      \u001b[0m | \u001b[0m 82.79   \u001b[0m | \u001b[0m 0.123   \u001b[0m | \u001b[0m 1.988   \u001b[0m | \u001b[0m 0.2621  \u001b[0m | \u001b[0m 0.2831  \u001b[0m | \u001b[0m 2.723   \u001b[0m | \u001b[0m 10.46   \u001b[0m | \u001b[0m 53.88   \u001b[0m |\n",
      "| \u001b[0m 19      \u001b[0m | \u001b[0m 83.78   \u001b[0m | \u001b[0m 0.5473  \u001b[0m | \u001b[0m 84.2    \u001b[0m | \u001b[0m 1.242   \u001b[0m | \u001b[0m 2.792   \u001b[0m | \u001b[0m 5.1     \u001b[0m | \u001b[0m 11.67   \u001b[0m | \u001b[0m 56.1    \u001b[0m |\n",
      "| \u001b[0m 20      \u001b[0m | \u001b[0m 83.64   \u001b[0m | \u001b[0m 0.01846 \u001b[0m | \u001b[0m 80.06   \u001b[0m | \u001b[0m 2.33    \u001b[0m | \u001b[0m 8.071   \u001b[0m | \u001b[0m 3.715   \u001b[0m | \u001b[0m 10.5    \u001b[0m | \u001b[0m 74.71   \u001b[0m |\n",
      "| \u001b[0m 21      \u001b[0m | \u001b[0m 82.19   \u001b[0m | \u001b[0m 0.5507  \u001b[0m | \u001b[0m 13.65   \u001b[0m | \u001b[0m 0.5992  \u001b[0m | \u001b[0m 1.213   \u001b[0m | \u001b[0m 1.312   \u001b[0m | \u001b[0m 2.182   \u001b[0m | \u001b[0m 22.57   \u001b[0m |\n",
      "| \u001b[0m 22      \u001b[0m | \u001b[0m 83.61   \u001b[0m | \u001b[0m 0.7059  \u001b[0m | \u001b[0m 55.97   \u001b[0m | \u001b[0m 0.1256  \u001b[0m | \u001b[0m 0.7197  \u001b[0m | \u001b[0m 7.771   \u001b[0m | \u001b[0m 7.249   \u001b[0m | \u001b[0m 20.33   \u001b[0m |\n",
      "| \u001b[95m 23      \u001b[0m | \u001b[95m 84.13   \u001b[0m | \u001b[95m 0.2498  \u001b[0m | \u001b[95m 74.38   \u001b[0m | \u001b[95m 1.954   \u001b[0m | \u001b[95m 5.814   \u001b[0m | \u001b[95m 7.79    \u001b[0m | \u001b[95m 10.32   \u001b[0m | \u001b[95m 23.98   \u001b[0m |\n",
      "| \u001b[0m 24      \u001b[0m | \u001b[0m 82.19   \u001b[0m | \u001b[0m 0.4888  \u001b[0m | \u001b[0m 62.0    \u001b[0m | \u001b[0m 8.29    \u001b[0m | \u001b[0m 1.568   \u001b[0m | \u001b[0m 1.13    \u001b[0m | \u001b[0m 1.77    \u001b[0m | \u001b[0m 48.63   \u001b[0m |\n",
      "| \u001b[0m 25      \u001b[0m | \u001b[0m 82.75   \u001b[0m | \u001b[0m 0.6003  \u001b[0m | \u001b[0m 56.89   \u001b[0m | \u001b[0m 3.174   \u001b[0m | \u001b[0m 9.886   \u001b[0m | \u001b[0m 5.058   \u001b[0m | \u001b[0m 5.182   \u001b[0m | \u001b[0m 55.09   \u001b[0m |\n",
      "| \u001b[0m 26      \u001b[0m | \u001b[0m 83.15   \u001b[0m | \u001b[0m 0.7379  \u001b[0m | \u001b[0m 66.92   \u001b[0m | \u001b[0m 2.649   \u001b[0m | \u001b[0m 0.6633  \u001b[0m | \u001b[0m 3.591   \u001b[0m | \u001b[0m 7.927   \u001b[0m | \u001b[0m 21.02   \u001b[0m |\n",
      "| \u001b[0m 27      \u001b[0m | \u001b[0m 82.45   \u001b[0m | \u001b[0m 0.7452  \u001b[0m | \u001b[0m 6.654   \u001b[0m | \u001b[0m 2.603   \u001b[0m | \u001b[0m 8.048   \u001b[0m | \u001b[0m 2.354   \u001b[0m | \u001b[0m 8.034   \u001b[0m | \u001b[0m 52.47   \u001b[0m |\n",
      "| \u001b[0m 28      \u001b[0m | \u001b[0m 84.04   \u001b[0m | \u001b[0m 0.9156  \u001b[0m | \u001b[0m 26.33   \u001b[0m | \u001b[0m 0.6596  \u001b[0m | \u001b[0m 7.351   \u001b[0m | \u001b[0m 6.405   \u001b[0m | \u001b[0m 10.99   \u001b[0m | \u001b[0m 93.2    \u001b[0m |\n",
      "| \u001b[0m 29      \u001b[0m | \u001b[0m 83.61   \u001b[0m | \u001b[0m 0.01381 \u001b[0m | \u001b[0m 23.44   \u001b[0m | \u001b[0m 6.168   \u001b[0m | \u001b[0m 9.49    \u001b[0m | \u001b[0m 7.651   \u001b[0m | \u001b[0m 7.123   \u001b[0m | \u001b[0m 91.56   \u001b[0m |\n",
      "| \u001b[0m 30      \u001b[0m | \u001b[0m 83.83   \u001b[0m | \u001b[0m 0.6352  \u001b[0m | \u001b[0m 39.0    \u001b[0m | \u001b[0m 4.86    \u001b[0m | \u001b[0m 6.043   \u001b[0m | \u001b[0m 4.847   \u001b[0m | \u001b[0m 11.19   \u001b[0m | \u001b[0m 91.87   \u001b[0m |\n",
      "| \u001b[0m 31      \u001b[0m | \u001b[0m 84.13   \u001b[0m | \u001b[0m 0.1691  \u001b[0m | \u001b[0m 73.48   \u001b[0m | \u001b[0m 2.287   \u001b[0m | \u001b[0m 6.032   \u001b[0m | \u001b[0m 7.947   \u001b[0m | \u001b[0m 10.3    \u001b[0m | \u001b[0m 22.33   \u001b[0m |\n",
      "| \u001b[0m 32      \u001b[0m | \u001b[0m 84.04   \u001b[0m | \u001b[0m 0.6628  \u001b[0m | \u001b[0m 31.46   \u001b[0m | \u001b[0m 3.413   \u001b[0m | \u001b[0m 7.291   \u001b[0m | \u001b[0m 5.864   \u001b[0m | \u001b[0m 11.14   \u001b[0m | \u001b[0m 92.68   \u001b[0m |\n",
      "| \u001b[95m 33      \u001b[0m | \u001b[95m 84.19   \u001b[0m | \u001b[95m 0.6785  \u001b[0m | \u001b[95m 72.88   \u001b[0m | \u001b[95m 4.782   \u001b[0m | \u001b[95m 2.922   \u001b[0m | \u001b[95m 7.595   \u001b[0m | \u001b[95m 12.0    \u001b[0m | \u001b[95m 70.18   \u001b[0m |\n",
      "| \u001b[95m 34      \u001b[0m | \u001b[95m 84.2    \u001b[0m | \u001b[95m 0.9082  \u001b[0m | \u001b[95m 76.8    \u001b[0m | \u001b[95m 1.177   \u001b[0m | \u001b[95m 6.084   \u001b[0m | \u001b[95m 7.442   \u001b[0m | \u001b[95m 10.61   \u001b[0m | \u001b[95m 63.8    \u001b[0m |\n"
     ]
    },
    {
     "name": "stderr",
     "output_type": "stream",
     "text": [
      "/opt/conda/lib/python3.9/site-packages/sklearn/gaussian_process/kernels.py:271: RuntimeWarning:\n",
      "\n",
      "divide by zero encountered in log\n",
      "\n"
     ]
    },
    {
     "name": "stdout",
     "output_type": "stream",
     "text": [
      "| \u001b[0m 35      \u001b[0m | \u001b[0m 82.81   \u001b[0m | \u001b[0m 0.99    \u001b[0m | \u001b[0m 74.25   \u001b[0m | \u001b[0m 0.0     \u001b[0m | \u001b[0m 0.5811  \u001b[0m | \u001b[0m 2.045   \u001b[0m | \u001b[0m 12.0    \u001b[0m | \u001b[0m 66.04   \u001b[0m |\n",
      "| \u001b[0m 36      \u001b[0m | \u001b[0m 84.19   \u001b[0m | \u001b[0m 0.6887  \u001b[0m | \u001b[0m 74.48   \u001b[0m | \u001b[0m 5.34    \u001b[0m | \u001b[0m 9.644   \u001b[0m | \u001b[0m 8.0     \u001b[0m | \u001b[0m 12.0    \u001b[0m | \u001b[0m 67.7    \u001b[0m |\n",
      "| \u001b[0m 37      \u001b[0m | \u001b[0m 84.19   \u001b[0m | \u001b[0m 0.99    \u001b[0m | \u001b[0m 67.74   \u001b[0m | \u001b[0m 8.723   \u001b[0m | \u001b[0m 5.822   \u001b[0m | \u001b[0m 8.0     \u001b[0m | \u001b[0m 12.0    \u001b[0m | \u001b[0m 68.18   \u001b[0m |\n",
      "| \u001b[0m 38      \u001b[0m | \u001b[0m 83.64   \u001b[0m | \u001b[0m 0.99    \u001b[0m | \u001b[0m 78.26   \u001b[0m | \u001b[0m 9.645   \u001b[0m | \u001b[0m 5.038   \u001b[0m | \u001b[0m 8.0     \u001b[0m | \u001b[0m 8.746   \u001b[0m | \u001b[0m 63.83   \u001b[0m |\n"
     ]
    },
    {
     "name": "stderr",
     "output_type": "stream",
     "text": [
      "/opt/conda/lib/python3.9/site-packages/sklearn/gaussian_process/kernels.py:271: RuntimeWarning:\n",
      "\n",
      "divide by zero encountered in log\n",
      "\n"
     ]
    },
    {
     "name": "stdout",
     "output_type": "stream",
     "text": [
      "| \u001b[0m 39      \u001b[0m | \u001b[0m 84.19   \u001b[0m | \u001b[0m 0.0     \u001b[0m | \u001b[0m 82.69   \u001b[0m | \u001b[0m 0.0     \u001b[0m | \u001b[0m 10.0    \u001b[0m | \u001b[0m 8.0     \u001b[0m | \u001b[0m 12.0    \u001b[0m | \u001b[0m 62.71   \u001b[0m |\n",
      "| \u001b[0m 40      \u001b[0m | \u001b[0m 84.19   \u001b[0m | \u001b[0m 0.0     \u001b[0m | \u001b[0m 79.13   \u001b[0m | \u001b[0m 7.044   \u001b[0m | \u001b[0m 10.0    \u001b[0m | \u001b[0m 8.0     \u001b[0m | \u001b[0m 12.0    \u001b[0m | \u001b[0m 20.81   \u001b[0m |\n"
     ]
    },
    {
     "name": "stderr",
     "output_type": "stream",
     "text": [
      "/opt/conda/lib/python3.9/site-packages/sklearn/gaussian_process/kernels.py:271: RuntimeWarning:\n",
      "\n",
      "divide by zero encountered in log\n",
      "\n"
     ]
    },
    {
     "name": "stdout",
     "output_type": "stream",
     "text": [
      "| \u001b[0m 41      \u001b[0m | \u001b[0m 84.19   \u001b[0m | \u001b[0m 0.0     \u001b[0m | \u001b[0m 0.0     \u001b[0m | \u001b[0m 10.0    \u001b[0m | \u001b[0m 8.725   \u001b[0m | \u001b[0m 8.0     \u001b[0m | \u001b[0m 12.0    \u001b[0m | \u001b[0m 64.55   \u001b[0m |\n"
     ]
    },
    {
     "name": "stderr",
     "output_type": "stream",
     "text": [
      "/opt/conda/lib/python3.9/site-packages/sklearn/gaussian_process/kernels.py:271: RuntimeWarning:\n",
      "\n",
      "divide by zero encountered in log\n",
      "\n"
     ]
    },
    {
     "name": "stdout",
     "output_type": "stream",
     "text": [
      "| \u001b[0m 42      \u001b[0m | \u001b[0m 84.19   \u001b[0m | \u001b[0m 0.99    \u001b[0m | \u001b[0m 32.3    \u001b[0m | \u001b[0m 0.0     \u001b[0m | \u001b[0m 0.0     \u001b[0m | \u001b[0m 8.0     \u001b[0m | \u001b[0m 12.0    \u001b[0m | \u001b[0m 100.0   \u001b[0m |\n",
      "| \u001b[0m 43      \u001b[0m | \u001b[0m 82.82   \u001b[0m | \u001b[0m 0.99    \u001b[0m | \u001b[0m 29.83   \u001b[0m | \u001b[0m 8.415   \u001b[0m | \u001b[0m 1.124   \u001b[0m | \u001b[0m 1.0     \u001b[0m | \u001b[0m 12.0    \u001b[0m | \u001b[0m 100.0   \u001b[0m |\n"
     ]
    },
    {
     "name": "stderr",
     "output_type": "stream",
     "text": [
      "/opt/conda/lib/python3.9/site-packages/sklearn/gaussian_process/kernels.py:271: RuntimeWarning:\n",
      "\n",
      "divide by zero encountered in log\n",
      "\n"
     ]
    },
    {
     "name": "stdout",
     "output_type": "stream",
     "text": [
      "| \u001b[0m 44      \u001b[0m | \u001b[0m 84.19   \u001b[0m | \u001b[0m 0.99    \u001b[0m | \u001b[0m 1.017   \u001b[0m | \u001b[0m 10.0    \u001b[0m | \u001b[0m 0.0     \u001b[0m | \u001b[0m 8.0     \u001b[0m | \u001b[0m 12.0    \u001b[0m | \u001b[0m 64.61   \u001b[0m |\n",
      "| \u001b[0m 45      \u001b[0m | \u001b[0m 83.63   \u001b[0m | \u001b[0m 0.7461  \u001b[0m | \u001b[0m 37.2    \u001b[0m | \u001b[0m 0.7813  \u001b[0m | \u001b[0m 9.861   \u001b[0m | \u001b[0m 6.852   \u001b[0m | \u001b[0m 8.783   \u001b[0m | \u001b[0m 99.14   \u001b[0m |\n"
     ]
    },
    {
     "name": "stderr",
     "output_type": "stream",
     "text": [
      "/opt/conda/lib/python3.9/site-packages/sklearn/gaussian_process/kernels.py:271: RuntimeWarning:\n",
      "\n",
      "divide by zero encountered in log\n",
      "\n"
     ]
    },
    {
     "name": "stdout",
     "output_type": "stream",
     "text": [
      "| \u001b[0m 46      \u001b[0m | \u001b[0m 84.19   \u001b[0m | \u001b[0m 0.99    \u001b[0m | \u001b[0m 31.26   \u001b[0m | \u001b[0m 0.0     \u001b[0m | \u001b[0m 0.0     \u001b[0m | \u001b[0m 8.0     \u001b[0m | \u001b[0m 12.0    \u001b[0m | \u001b[0m 89.49   \u001b[0m |\n"
     ]
    },
    {
     "name": "stderr",
     "output_type": "stream",
     "text": [
      "/opt/conda/lib/python3.9/site-packages/sklearn/gaussian_process/kernels.py:271: RuntimeWarning:\n",
      "\n",
      "divide by zero encountered in log\n",
      "\n"
     ]
    },
    {
     "name": "stdout",
     "output_type": "stream",
     "text": [
      "| \u001b[0m 47      \u001b[0m | \u001b[0m 84.19   \u001b[0m | \u001b[0m 0.99    \u001b[0m | \u001b[0m 0.0     \u001b[0m | \u001b[0m 1.133   \u001b[0m | \u001b[0m 4.841   \u001b[0m | \u001b[0m 8.0     \u001b[0m | \u001b[0m 12.0    \u001b[0m | \u001b[0m 69.06   \u001b[0m |\n"
     ]
    },
    {
     "name": "stderr",
     "output_type": "stream",
     "text": [
      "/opt/conda/lib/python3.9/site-packages/sklearn/gaussian_process/kernels.py:271: RuntimeWarning:\n",
      "\n",
      "divide by zero encountered in log\n",
      "\n"
     ]
    },
    {
     "name": "stdout",
     "output_type": "stream",
     "text": [
      "| \u001b[0m 48      \u001b[0m | \u001b[0m 84.19   \u001b[0m | \u001b[0m 0.0     \u001b[0m | \u001b[0m 0.0     \u001b[0m | \u001b[0m 10.0    \u001b[0m | \u001b[0m 0.264   \u001b[0m | \u001b[0m 8.0     \u001b[0m | \u001b[0m 12.0    \u001b[0m | \u001b[0m 76.64   \u001b[0m |\n"
     ]
    },
    {
     "name": "stderr",
     "output_type": "stream",
     "text": [
      "/opt/conda/lib/python3.9/site-packages/sklearn/gaussian_process/kernels.py:271: RuntimeWarning:\n",
      "\n",
      "divide by zero encountered in log\n",
      "\n"
     ]
    },
    {
     "name": "stdout",
     "output_type": "stream",
     "text": [
      "| \u001b[0m 49      \u001b[0m | \u001b[0m 84.19   \u001b[0m | \u001b[0m 0.0     \u001b[0m | \u001b[0m 0.0     \u001b[0m | \u001b[0m 0.0     \u001b[0m | \u001b[0m 0.0     \u001b[0m | \u001b[0m 8.0     \u001b[0m | \u001b[0m 12.0    \u001b[0m | \u001b[0m 81.24   \u001b[0m |\n"
     ]
    },
    {
     "name": "stderr",
     "output_type": "stream",
     "text": [
      "/opt/conda/lib/python3.9/site-packages/sklearn/gaussian_process/kernels.py:271: RuntimeWarning:\n",
      "\n",
      "divide by zero encountered in log\n",
      "\n"
     ]
    },
    {
     "name": "stdout",
     "output_type": "stream",
     "text": [
      "| \u001b[0m 50      \u001b[0m | \u001b[0m 84.17   \u001b[0m | \u001b[0m 0.99    \u001b[0m | \u001b[0m 0.0     \u001b[0m | \u001b[0m 5.335   \u001b[0m | \u001b[0m 10.0    \u001b[0m | \u001b[0m 8.0     \u001b[0m | \u001b[0m 12.0    \u001b[0m | \u001b[0m 79.59   \u001b[0m |\n"
     ]
    },
    {
     "name": "stderr",
     "output_type": "stream",
     "text": [
      "/opt/conda/lib/python3.9/site-packages/sklearn/gaussian_process/kernels.py:271: RuntimeWarning:\n",
      "\n",
      "divide by zero encountered in log\n",
      "\n"
     ]
    },
    {
     "name": "stdout",
     "output_type": "stream",
     "text": [
      "| \u001b[0m 51      \u001b[0m | \u001b[0m 84.19   \u001b[0m | \u001b[0m 0.99    \u001b[0m | \u001b[0m 100.0   \u001b[0m | \u001b[0m 0.0     \u001b[0m | \u001b[0m 10.0    \u001b[0m | \u001b[0m 8.0     \u001b[0m | \u001b[0m 12.0    \u001b[0m | \u001b[0m 52.51   \u001b[0m |\n"
     ]
    },
    {
     "name": "stderr",
     "output_type": "stream",
     "text": [
      "/opt/conda/lib/python3.9/site-packages/sklearn/gaussian_process/kernels.py:271: RuntimeWarning:\n",
      "\n",
      "divide by zero encountered in log\n",
      "\n"
     ]
    },
    {
     "name": "stdout",
     "output_type": "stream",
     "text": [
      "| \u001b[0m 52      \u001b[0m | \u001b[0m 84.19   \u001b[0m | \u001b[0m 0.0     \u001b[0m | \u001b[0m 100.0   \u001b[0m | \u001b[0m 0.0     \u001b[0m | \u001b[0m 0.0     \u001b[0m | \u001b[0m 8.0     \u001b[0m | \u001b[0m 12.0    \u001b[0m | \u001b[0m 43.19   \u001b[0m |\n",
      "| \u001b[0m 53      \u001b[0m | \u001b[0m 84.19   \u001b[0m | \u001b[0m 0.0     \u001b[0m | \u001b[0m 100.0   \u001b[0m | \u001b[0m 9.809   \u001b[0m | \u001b[0m 10.0    \u001b[0m | \u001b[0m 8.0     \u001b[0m | \u001b[0m 12.0    \u001b[0m | \u001b[0m 42.05   \u001b[0m |\n"
     ]
    },
    {
     "name": "stderr",
     "output_type": "stream",
     "text": [
      "/opt/conda/lib/python3.9/site-packages/sklearn/gaussian_process/kernels.py:271: RuntimeWarning:\n",
      "\n",
      "divide by zero encountered in log\n",
      "\n"
     ]
    },
    {
     "name": "stdout",
     "output_type": "stream",
     "text": [
      "| \u001b[0m 54      \u001b[0m | \u001b[0m 81.63   \u001b[0m | \u001b[0m 0.0     \u001b[0m | \u001b[0m 100.0   \u001b[0m | \u001b[0m 0.0     \u001b[0m | \u001b[0m 10.0    \u001b[0m | \u001b[0m 8.0     \u001b[0m | \u001b[0m 1.014   \u001b[0m | \u001b[0m 43.63   \u001b[0m |\n",
      "| \u001b[0m 55      \u001b[0m | \u001b[0m 83.96   \u001b[0m | \u001b[0m 0.2584  \u001b[0m | \u001b[0m 99.61   \u001b[0m | \u001b[0m 7.3     \u001b[0m | \u001b[0m 0.6359  \u001b[0m | \u001b[0m 6.082   \u001b[0m | \u001b[0m 10.47   \u001b[0m | \u001b[0m 52.47   \u001b[0m |\n",
      "| \u001b[0m 56      \u001b[0m | \u001b[0m 82.82   \u001b[0m | \u001b[0m 0.5009  \u001b[0m | \u001b[0m 99.29   \u001b[0m | \u001b[0m 7.058   \u001b[0m | \u001b[0m 0.3418  \u001b[0m | \u001b[0m 1.41    \u001b[0m | \u001b[0m 11.7    \u001b[0m | \u001b[0m 32.33   \u001b[0m |\n",
      "| \u001b[0m 57      \u001b[0m | \u001b[0m 84.19   \u001b[0m | \u001b[0m 0.99    \u001b[0m | \u001b[0m 100.0   \u001b[0m | \u001b[0m 10.0    \u001b[0m | \u001b[0m 10.0    \u001b[0m | \u001b[0m 8.0     \u001b[0m | \u001b[0m 12.0    \u001b[0m | \u001b[0m 59.01   \u001b[0m |\n",
      "| \u001b[0m 58      \u001b[0m | \u001b[0m 84.19   \u001b[0m | \u001b[0m 0.99    \u001b[0m | \u001b[0m 92.14   \u001b[0m | \u001b[0m 10.0    \u001b[0m | \u001b[0m 10.0    \u001b[0m | \u001b[0m 8.0     \u001b[0m | \u001b[0m 12.0    \u001b[0m | \u001b[0m 50.73   \u001b[0m |\n"
     ]
    },
    {
     "name": "stderr",
     "output_type": "stream",
     "text": [
      "/opt/conda/lib/python3.9/site-packages/sklearn/gaussian_process/kernels.py:271: RuntimeWarning:\n",
      "\n",
      "divide by zero encountered in log\n",
      "\n"
     ]
    },
    {
     "name": "stdout",
     "output_type": "stream",
     "text": [
      "| \u001b[0m 59      \u001b[0m | \u001b[0m 84.19   \u001b[0m | \u001b[0m 0.0     \u001b[0m | \u001b[0m 0.0     \u001b[0m | \u001b[0m 10.0    \u001b[0m | \u001b[0m 0.0     \u001b[0m | \u001b[0m 8.0     \u001b[0m | \u001b[0m 12.0    \u001b[0m | \u001b[0m 90.76   \u001b[0m |\n"
     ]
    },
    {
     "name": "stderr",
     "output_type": "stream",
     "text": [
      "/opt/conda/lib/python3.9/site-packages/sklearn/gaussian_process/kernels.py:271: RuntimeWarning:\n",
      "\n",
      "divide by zero encountered in log\n",
      "\n"
     ]
    },
    {
     "name": "stdout",
     "output_type": "stream",
     "text": [
      "| \u001b[0m 60      \u001b[0m | \u001b[0m 84.19   \u001b[0m | \u001b[0m 0.99    \u001b[0m | \u001b[0m 100.0   \u001b[0m | \u001b[0m 0.0     \u001b[0m | \u001b[0m 10.0    \u001b[0m | \u001b[0m 8.0     \u001b[0m | \u001b[0m 12.0    \u001b[0m | \u001b[0m 100.0   \u001b[0m |\n",
      "| \u001b[0m 61      \u001b[0m | \u001b[0m 84.2    \u001b[0m | \u001b[0m 0.06388 \u001b[0m | \u001b[0m 97.2    \u001b[0m | \u001b[0m 9.017   \u001b[0m | \u001b[0m 1.924   \u001b[0m | \u001b[0m 7.583   \u001b[0m | \u001b[0m 10.63   \u001b[0m | \u001b[0m 95.39   \u001b[0m |\n",
      "| \u001b[0m 62      \u001b[0m | \u001b[0m 82.81   \u001b[0m | \u001b[0m 0.5743  \u001b[0m | \u001b[0m 96.89   \u001b[0m | \u001b[0m 2.135   \u001b[0m | \u001b[0m 8.042   \u001b[0m | \u001b[0m 2.338   \u001b[0m | \u001b[0m 11.8    \u001b[0m | \u001b[0m 87.66   \u001b[0m |\n",
      "| \u001b[0m 63      \u001b[0m | \u001b[0m 83.45   \u001b[0m | \u001b[0m 0.5289  \u001b[0m | \u001b[0m 88.44   \u001b[0m | \u001b[0m 8.417   \u001b[0m | \u001b[0m 2.829   \u001b[0m | \u001b[0m 6.276   \u001b[0m | \u001b[0m 6.452   \u001b[0m | \u001b[0m 99.93   \u001b[0m |\n"
     ]
    },
    {
     "name": "stderr",
     "output_type": "stream",
     "text": [
      "/opt/conda/lib/python3.9/site-packages/sklearn/gaussian_process/kernels.py:271: RuntimeWarning:\n",
      "\n",
      "divide by zero encountered in log\n",
      "\n"
     ]
    },
    {
     "name": "stdout",
     "output_type": "stream",
     "text": [
      "| \u001b[0m 64      \u001b[0m | \u001b[0m 81.63   \u001b[0m | \u001b[0m 0.99    \u001b[0m | \u001b[0m 0.0     \u001b[0m | \u001b[0m 10.0    \u001b[0m | \u001b[0m 0.0     \u001b[0m | \u001b[0m 8.0     \u001b[0m | \u001b[0m 1.0     \u001b[0m | \u001b[0m 83.02   \u001b[0m |\n",
      "| \u001b[0m 65      \u001b[0m | \u001b[0m 82.82   \u001b[0m | \u001b[0m 0.1284  \u001b[0m | \u001b[0m 94.35   \u001b[0m | \u001b[0m 0.9432  \u001b[0m | \u001b[0m 6.612   \u001b[0m | \u001b[0m 1.293   \u001b[0m | \u001b[0m 11.69   \u001b[0m | \u001b[0m 59.04   \u001b[0m |\n"
     ]
    },
    {
     "name": "stderr",
     "output_type": "stream",
     "text": [
      "/opt/conda/lib/python3.9/site-packages/sklearn/gaussian_process/kernels.py:271: RuntimeWarning:\n",
      "\n",
      "divide by zero encountered in log\n",
      "\n"
     ]
    },
    {
     "name": "stdout",
     "output_type": "stream",
     "text": [
      "| \u001b[0m 66      \u001b[0m | \u001b[0m 82.82   \u001b[0m | \u001b[0m 0.0     \u001b[0m | \u001b[0m 0.0     \u001b[0m | \u001b[0m 7.92    \u001b[0m | \u001b[0m 4.84    \u001b[0m | \u001b[0m 1.0     \u001b[0m | \u001b[0m 12.0    \u001b[0m | \u001b[0m 70.97   \u001b[0m |\n"
     ]
    },
    {
     "name": "stderr",
     "output_type": "stream",
     "text": [
      "/opt/conda/lib/python3.9/site-packages/sklearn/gaussian_process/kernels.py:271: RuntimeWarning:\n",
      "\n",
      "divide by zero encountered in log\n",
      "\n"
     ]
    },
    {
     "name": "stdout",
     "output_type": "stream",
     "text": [
      "| \u001b[0m 67      \u001b[0m | \u001b[0m 84.19   \u001b[0m | \u001b[0m 0.0     \u001b[0m | \u001b[0m 0.0     \u001b[0m | \u001b[0m 1.756   \u001b[0m | \u001b[0m 6.714   \u001b[0m | \u001b[0m 8.0     \u001b[0m | \u001b[0m 12.0    \u001b[0m | \u001b[0m 89.48   \u001b[0m |\n",
      "| \u001b[0m 68      \u001b[0m | \u001b[0m 84.19   \u001b[0m | \u001b[0m 0.0     \u001b[0m | \u001b[0m 100.0   \u001b[0m | \u001b[0m 10.0    \u001b[0m | \u001b[0m 9.807   \u001b[0m | \u001b[0m 8.0     \u001b[0m | \u001b[0m 12.0    \u001b[0m | \u001b[0m 100.0   \u001b[0m |\n",
      "| \u001b[0m 69      \u001b[0m | \u001b[0m 84.19   \u001b[0m | \u001b[0m 0.99    \u001b[0m | \u001b[0m 93.11   \u001b[0m | \u001b[0m 10.0    \u001b[0m | \u001b[0m 0.8581  \u001b[0m | \u001b[0m 8.0     \u001b[0m | \u001b[0m 12.0    \u001b[0m | \u001b[0m 45.25   \u001b[0m |\n",
      "| \u001b[0m 70      \u001b[0m | \u001b[0m 84.19   \u001b[0m | \u001b[0m 0.0     \u001b[0m | \u001b[0m 100.0   \u001b[0m | \u001b[0m 10.0    \u001b[0m | \u001b[0m 10.0    \u001b[0m | \u001b[0m 8.0     \u001b[0m | \u001b[0m 12.0    \u001b[0m | \u001b[0m 50.41   \u001b[0m |\n"
     ]
    },
    {
     "name": "stderr",
     "output_type": "stream",
     "text": [
      "/opt/conda/lib/python3.9/site-packages/sklearn/gaussian_process/kernels.py:271: RuntimeWarning:\n",
      "\n",
      "divide by zero encountered in log\n",
      "\n"
     ]
    },
    {
     "name": "stdout",
     "output_type": "stream",
     "text": [
      "| \u001b[0m 71      \u001b[0m | \u001b[0m 84.19   \u001b[0m | \u001b[0m 0.0     \u001b[0m | \u001b[0m 0.0     \u001b[0m | \u001b[0m 3.168   \u001b[0m | \u001b[0m 0.0     \u001b[0m | \u001b[0m 8.0     \u001b[0m | \u001b[0m 12.0    \u001b[0m | \u001b[0m 100.0   \u001b[0m |\n"
     ]
    },
    {
     "name": "stderr",
     "output_type": "stream",
     "text": [
      "/opt/conda/lib/python3.9/site-packages/sklearn/gaussian_process/kernels.py:271: RuntimeWarning:\n",
      "\n",
      "divide by zero encountered in log\n",
      "\n"
     ]
    },
    {
     "name": "stdout",
     "output_type": "stream",
     "text": [
      "| \u001b[0m 72      \u001b[0m | \u001b[0m 84.19   \u001b[0m | \u001b[0m 0.0     \u001b[0m | \u001b[0m 0.0     \u001b[0m | \u001b[0m 10.0    \u001b[0m | \u001b[0m 9.439   \u001b[0m | \u001b[0m 8.0     \u001b[0m | \u001b[0m 12.0    \u001b[0m | \u001b[0m 99.37   \u001b[0m |\n"
     ]
    },
    {
     "name": "stderr",
     "output_type": "stream",
     "text": [
      "/opt/conda/lib/python3.9/site-packages/sklearn/gaussian_process/kernels.py:271: RuntimeWarning:\n",
      "\n",
      "divide by zero encountered in log\n",
      "\n"
     ]
    },
    {
     "name": "stdout",
     "output_type": "stream",
     "text": [
      "| \u001b[0m 73      \u001b[0m | \u001b[0m 83.63   \u001b[0m | \u001b[0m 0.0     \u001b[0m | \u001b[0m 100.0   \u001b[0m | \u001b[0m 1.304   \u001b[0m | \u001b[0m 0.0     \u001b[0m | \u001b[0m 8.0     \u001b[0m | \u001b[0m 5.972   \u001b[0m | \u001b[0m 100.0   \u001b[0m |\n"
     ]
    },
    {
     "name": "stderr",
     "output_type": "stream",
     "text": [
      "/opt/conda/lib/python3.9/site-packages/sklearn/gaussian_process/kernels.py:271: RuntimeWarning:\n",
      "\n",
      "divide by zero encountered in log\n",
      "\n"
     ]
    },
    {
     "name": "stdout",
     "output_type": "stream",
     "text": [
      "| \u001b[0m 74      \u001b[0m | \u001b[0m 84.19   \u001b[0m | \u001b[0m 0.99    \u001b[0m | \u001b[0m 76.3    \u001b[0m | \u001b[0m 0.0     \u001b[0m | \u001b[0m 10.0    \u001b[0m | \u001b[0m 8.0     \u001b[0m | \u001b[0m 12.0    \u001b[0m | \u001b[0m 54.81   \u001b[0m |\n"
     ]
    },
    {
     "name": "stderr",
     "output_type": "stream",
     "text": [
      "/opt/conda/lib/python3.9/site-packages/sklearn/gaussian_process/kernels.py:271: RuntimeWarning:\n",
      "\n",
      "divide by zero encountered in log\n",
      "\n"
     ]
    },
    {
     "name": "stdout",
     "output_type": "stream",
     "text": [
      "| \u001b[0m 75      \u001b[0m | \u001b[0m 84.19   \u001b[0m | \u001b[0m 0.99    \u001b[0m | \u001b[0m 30.8    \u001b[0m | \u001b[0m 0.0     \u001b[0m | \u001b[0m 10.0    \u001b[0m | \u001b[0m 8.0     \u001b[0m | \u001b[0m 12.0    \u001b[0m | \u001b[0m 82.08   \u001b[0m |\n"
     ]
    },
    {
     "name": "stderr",
     "output_type": "stream",
     "text": [
      "/opt/conda/lib/python3.9/site-packages/sklearn/gaussian_process/kernels.py:271: RuntimeWarning:\n",
      "\n",
      "divide by zero encountered in log\n",
      "\n"
     ]
    },
    {
     "name": "stdout",
     "output_type": "stream",
     "text": [
      "| \u001b[0m 76      \u001b[0m | \u001b[0m 83.01   \u001b[0m | \u001b[0m 0.99    \u001b[0m | \u001b[0m 78.5    \u001b[0m | \u001b[0m 0.0     \u001b[0m | \u001b[0m 10.0    \u001b[0m | \u001b[0m 8.0     \u001b[0m | \u001b[0m 1.905   \u001b[0m | \u001b[0m 60.42   \u001b[0m |\n"
     ]
    },
    {
     "name": "stderr",
     "output_type": "stream",
     "text": [
      "/opt/conda/lib/python3.9/site-packages/sklearn/gaussian_process/kernels.py:271: RuntimeWarning:\n",
      "\n",
      "divide by zero encountered in log\n",
      "\n"
     ]
    },
    {
     "name": "stdout",
     "output_type": "stream",
     "text": [
      "| \u001b[0m 77      \u001b[0m | \u001b[0m 84.19   \u001b[0m | \u001b[0m 0.99    \u001b[0m | \u001b[0m 7.593   \u001b[0m | \u001b[0m 10.0    \u001b[0m | \u001b[0m 0.0     \u001b[0m | \u001b[0m 8.0     \u001b[0m | \u001b[0m 12.0    \u001b[0m | \u001b[0m 100.0   \u001b[0m |\n"
     ]
    },
    {
     "name": "stderr",
     "output_type": "stream",
     "text": [
      "/opt/conda/lib/python3.9/site-packages/sklearn/gaussian_process/kernels.py:271: RuntimeWarning:\n",
      "\n",
      "divide by zero encountered in log\n",
      "\n"
     ]
    },
    {
     "name": "stdout",
     "output_type": "stream",
     "text": [
      "| \u001b[0m 78      \u001b[0m | \u001b[0m 84.19   \u001b[0m | \u001b[0m 0.99    \u001b[0m | \u001b[0m 88.75   \u001b[0m | \u001b[0m 0.0     \u001b[0m | \u001b[0m 0.0     \u001b[0m | \u001b[0m 8.0     \u001b[0m | \u001b[0m 12.0    \u001b[0m | \u001b[0m 45.27   \u001b[0m |\n"
     ]
    },
    {
     "name": "stderr",
     "output_type": "stream",
     "text": [
      "/opt/conda/lib/python3.9/site-packages/sklearn/gaussian_process/kernels.py:271: RuntimeWarning:\n",
      "\n",
      "divide by zero encountered in log\n",
      "\n"
     ]
    },
    {
     "name": "stdout",
     "output_type": "stream",
     "text": [
      "| \u001b[0m 79      \u001b[0m | \u001b[0m 84.19   \u001b[0m | \u001b[0m 0.99    \u001b[0m | \u001b[0m 48.57   \u001b[0m | \u001b[0m 0.0     \u001b[0m | \u001b[0m 0.0     \u001b[0m | \u001b[0m 8.0     \u001b[0m | \u001b[0m 12.0    \u001b[0m | \u001b[0m 100.0   \u001b[0m |\n"
     ]
    },
    {
     "name": "stderr",
     "output_type": "stream",
     "text": [
      "/opt/conda/lib/python3.9/site-packages/sklearn/gaussian_process/kernels.py:271: RuntimeWarning:\n",
      "\n",
      "divide by zero encountered in log\n",
      "\n"
     ]
    },
    {
     "name": "stdout",
     "output_type": "stream",
     "text": [
      "| \u001b[0m 80      \u001b[0m | \u001b[0m 84.19   \u001b[0m | \u001b[0m 0.0     \u001b[0m | \u001b[0m 51.65   \u001b[0m | \u001b[0m 0.0     \u001b[0m | \u001b[0m 0.0     \u001b[0m | \u001b[0m 8.0     \u001b[0m | \u001b[0m 12.0    \u001b[0m | \u001b[0m 0.0     \u001b[0m |\n",
      "=============================================================================================================\n",
      "84.19687087761832\n",
      "Prev col : 7, Var Sale : 11\n"
     ]
    },
    {
     "data": {
      "text/plain": [
       "GaussianProcessRegressor(alpha=0.9082462781375296,\n",
       "                         kernel=2.47**2 * RBF(length_scale=1.18) + WhiteKernel(noise_level=63.8) + DotProduct(sigma_0=76.8),\n",
       "                         n_restarts_optimizer=3)"
      ]
     },
     "execution_count": 40,
     "metadata": {},
     "output_type": "execute_result"
    }
   ],
   "source": [
    "warnings.filterwarnings(action='ignore', category=UserWarning)\n",
    "param_bound = {'theta1' : (0, 10), 'g_alpha' : (0.0,0.99) , 'k_dot' : (0, 100), 'w_noise' : (0.0, 100), 'rbf_l' : (0, 10), \n",
    "               'tmp_col' : (1,8), 'tmp_var_col' : (1, 12)}\n",
    "\n",
    "product_optimizer = BayesianOptimization(f=h_opt_prod, pbounds=param_bound, verbose=2, random_state=1)\n",
    "product_optimizer.maximize(init_points=30, n_iter=50)\n",
    "print(product_optimizer.max['target'])\n",
    "\n",
    "g_alpha = product_optimizer.max['params']['g_alpha']\n",
    "k_dot   = product_optimizer.max['params']['k_dot']\n",
    "rbf_l   = product_optimizer.max['params']['rbf_l']\n",
    "theta1  = product_optimizer.max['params']['theta1']\n",
    "prod_prev_col = round(product_optimizer.max['params']['tmp_col'])\n",
    "prod_var_col  = round(product_optimizer.max['params']['tmp_var_col'])\n",
    "w_noise = product_optimizer.max['params']['w_noise']\n",
    "print(\"Prev col : %d, Var Sale : %d\"%(prod_prev_col, prod_var_col))\n",
    "\n",
    "prev_name = prod_train.columns[3:15].tolist()\n",
    "var_name  = prod_train.columns[15:].tolist()\n",
    "\n",
    "prods_train_x_name = prev_name[:prod_prev_col]+var_name[:prod_var_col]\n",
    "prods_kernel =  theta1 * RBF(rbf_l) + WhiteKernel(w_noise)  + DotProduct(k_dot) ## RBF(2) + WhiteKernel(1)  + \n",
    "prod_gp = GaussianProcessRegressor(kernel=prods_kernel, alpha=g_alpha, n_restarts_optimizer=3)\n",
    "prod_gp.fit(prod_train[prods_train_x_name], prod_train['prod'])"
   ]
  },
  {
   "cell_type": "code",
   "execution_count": 41,
   "id": "d6d65196-b691-4699-8da9-4e5652cb0c70",
   "metadata": {},
   "outputs": [],
   "source": [
    "tmp_s = dt_table['ww'][dt_table['ww']==current].index[0]\n",
    "tmp_e = tmp_s + 17"
   ]
  },
  {
   "cell_type": "code",
   "execution_count": 52,
   "id": "d1562865-5cf6-45b7-be64-0b45ef805180",
   "metadata": {
    "tags": []
   },
   "outputs": [],
   "source": [
    "sale_pred_ww = dt_table['ww'].iloc[tmp_s:tmp_e].reset_index(drop=True)#.tolist()\n",
    "sale_pred_ww.columns = ['ww']\n",
    "plan_ww = dt_table['ww'].iloc[dt_table['ww'][dt_table['ww']==current].index[0]-sale_var_col:dt_table['ww'][dt_table['ww']==current].index[0]].tolist()\n",
    "plan_ww.sort(reverse=True)\n",
    "\n",
    "for i in range(0, len(plan_ww)):\n",
    "    tmp_plan_no = sale_plan['sale_plan'][sale_plan['ww'] == plan_ww[i]].index[0]\n",
    "    tmp_plan_df = pd.DataFrame([x.split(':') for x in sale_plan.iloc[tmp_plan_no, 2].split('/')])\n",
    "    tmp_plan_df = tmp_plan_df.sort_values(0, ascending=False).reset_index(drop=True)\n",
    "    tmp_plan_df.columns = ['ww', sale_plan['ww'].iloc[tmp_plan_no]]\n",
    "    tmp_plan_df = tmp_plan_df.astype({'ww' : 'int'})\n",
    "    if i == 0 :\n",
    "        sale_val_df = pd.merge(sale_pred_ww, tmp_plan_df, on='ww', how='left')\n",
    "    else :\n",
    "        sale_val_df = pd.merge(sale_val_df, tmp_plan_df, on='ww', how='left')\n",
    "sale_val_df = sale_val_df.astype('int')\n",
    "sale_val_df = sale_val_df.astype({'ww' : 'str'})\n",
    "\n",
    "sale_prev_df = sale_train['sale'].iloc[-sale_prev_col:].tolist()\n",
    "sale_prev_df.reverse()\n",
    "y_hat = []\n",
    "for i in range(0,sale_val_df.shape[0]):\n",
    "    tmp_pred_x = np.array(sale_prev_df + sale_val_df.iloc[i, 1:].tolist()).reshape(1, -1)\n",
    "    tmp_y = sale_gp.predict(tmp_pred_x)\n",
    "    sale_prev_df.insert(0, tmp_y[0])\n",
    "    sale_prev_df = sale_prev_df[:sale_prev_col]    \n",
    "    y_hat.append(tmp_y[0])\n",
    "    \n",
    "sale_val_df['sale_hat'] = y_hat"
   ]
  },
  {
   "cell_type": "code",
   "execution_count": 83,
   "id": "4fc5293d-e65c-4704-8cd9-b8860c3008b9",
   "metadata": {},
   "outputs": [
    {
     "data": {
      "application/vnd.plotly.v1+json": {
       "config": {
        "plotlyServerURL": "https://plot.ly"
       },
       "data": [
        {
         "mode": "lines+markers",
         "name": "Real",
         "type": "scatter",
         "x": [
          "202001",
          "202002",
          "202003",
          "202004",
          "202005",
          "202006",
          "202007",
          "202008",
          "202009",
          "202010",
          "202011",
          "202012",
          "202013",
          "202014",
          "202016",
          "202017",
          "202018",
          "202019",
          "202020",
          "202021",
          "202022",
          "202023",
          "202024",
          "202025",
          "202026",
          "202027",
          "202028",
          "202029",
          "202030",
          "202031",
          "202032",
          "202033",
          "202034",
          "202035",
          "202036",
          "202037",
          "202038",
          "202039",
          "202040",
          "202041",
          "202042",
          "202043",
          "202044",
          "202045",
          "202046",
          "202047",
          "202048",
          "202049",
          "202050",
          "202051",
          "202052",
          "202053",
          "202101",
          "202102",
          "202103",
          "202104",
          "202105",
          "202106",
          "202107",
          "202108",
          "202109",
          "202110",
          "202111",
          "202112",
          "202113",
          "202114",
          "202115",
          "202116",
          "202117",
          "202118",
          "202119",
          "202120",
          "202121",
          "202122",
          "202123",
          "202124",
          "202125",
          "202126",
          "202127",
          "202128",
          "202129"
         ],
         "y": [
          29862,
          128520,
          120960,
          120960,
          105840,
          74844,
          75600,
          150594,
          120960,
          119826,
          77112,
          107730,
          115975,
          70686,
          90720,
          117180,
          57456,
          146219,
          75351,
          105324,
          332262,
          30240,
          90339,
          211674,
          136080,
          181440,
          0,
          257040,
          241481,
          90720,
          241920,
          226800,
          161406,
          166320,
          136080,
          241920,
          211680,
          226796,
          211676,
          287280,
          272160,
          166314,
          289170,
          332640,
          241920,
          362880,
          332368,
          483840,
          316008,
          279158,
          0,
          0,
          0,
          15120,
          271782,
          166320,
          196556,
          193535,
          317452,
          408191,
          287280,
          302400,
          302393,
          317520,
          226800,
          90720,
          392668,
          241920,
          256749,
          0,
          0,
          120960,
          302400,
          90711,
          257040,
          0,
          378,
          211656,
          181239,
          30240,
          0
         ]
        },
        {
         "name": "Prediction",
         "type": "scatter",
         "x": [
          "202114",
          "202115",
          "202116",
          "202117",
          "202118",
          "202119",
          "202120",
          "202121",
          "202122",
          "202123",
          "202124",
          "202125",
          "202126",
          "202127",
          "202128",
          "202129",
          "202130"
         ],
         "y": [
          184337.04015731812,
          302932.8921966553,
          311178.5869064331,
          270029.6105155945,
          249496.20176315308,
          235174.49897384644,
          258320.18017578125,
          281074.27351760864,
          217871.36853027344,
          235980.667263031,
          266888.0964050293,
          286238.0395088196,
          312125.2823295593,
          161323.69721221924,
          299634.2100601196,
          325020.65406799316,
          301244.83139801025
         ]
        },
        {
         "name": "Plan",
         "type": "scatter",
         "x": [
          "202114",
          "202115",
          "202116",
          "202117",
          "202118",
          "202119",
          "202120",
          "202121",
          "202122",
          "202123",
          "202124",
          "202125",
          "202126",
          "202127",
          "202128",
          "202129",
          "202130"
         ],
         "y": [
          241920,
          347760,
          393120,
          302400,
          302400,
          257040,
          287280,
          347760,
          257040,
          272160,
          317520,
          347760,
          378000,
          181440,
          378000,
          393120,
          378000
         ]
        }
       ],
       "layout": {
        "autosize": true,
        "margin": {
         "b": 10,
         "l": 10,
         "r": 15,
         "t": 15
        },
        "template": {
         "data": {
          "bar": [
           {
            "error_x": {
             "color": "#2a3f5f"
            },
            "error_y": {
             "color": "#2a3f5f"
            },
            "marker": {
             "line": {
              "color": "#E5ECF6",
              "width": 0.5
             },
             "pattern": {
              "fillmode": "overlay",
              "size": 10,
              "solidity": 0.2
             }
            },
            "type": "bar"
           }
          ],
          "barpolar": [
           {
            "marker": {
             "line": {
              "color": "#E5ECF6",
              "width": 0.5
             },
             "pattern": {
              "fillmode": "overlay",
              "size": 10,
              "solidity": 0.2
             }
            },
            "type": "barpolar"
           }
          ],
          "carpet": [
           {
            "aaxis": {
             "endlinecolor": "#2a3f5f",
             "gridcolor": "white",
             "linecolor": "white",
             "minorgridcolor": "white",
             "startlinecolor": "#2a3f5f"
            },
            "baxis": {
             "endlinecolor": "#2a3f5f",
             "gridcolor": "white",
             "linecolor": "white",
             "minorgridcolor": "white",
             "startlinecolor": "#2a3f5f"
            },
            "type": "carpet"
           }
          ],
          "choropleth": [
           {
            "colorbar": {
             "outlinewidth": 0,
             "ticks": ""
            },
            "type": "choropleth"
           }
          ],
          "contour": [
           {
            "colorbar": {
             "outlinewidth": 0,
             "ticks": ""
            },
            "colorscale": [
             [
              0,
              "#0d0887"
             ],
             [
              0.1111111111111111,
              "#46039f"
             ],
             [
              0.2222222222222222,
              "#7201a8"
             ],
             [
              0.3333333333333333,
              "#9c179e"
             ],
             [
              0.4444444444444444,
              "#bd3786"
             ],
             [
              0.5555555555555556,
              "#d8576b"
             ],
             [
              0.6666666666666666,
              "#ed7953"
             ],
             [
              0.7777777777777778,
              "#fb9f3a"
             ],
             [
              0.8888888888888888,
              "#fdca26"
             ],
             [
              1,
              "#f0f921"
             ]
            ],
            "type": "contour"
           }
          ],
          "contourcarpet": [
           {
            "colorbar": {
             "outlinewidth": 0,
             "ticks": ""
            },
            "type": "contourcarpet"
           }
          ],
          "heatmap": [
           {
            "colorbar": {
             "outlinewidth": 0,
             "ticks": ""
            },
            "colorscale": [
             [
              0,
              "#0d0887"
             ],
             [
              0.1111111111111111,
              "#46039f"
             ],
             [
              0.2222222222222222,
              "#7201a8"
             ],
             [
              0.3333333333333333,
              "#9c179e"
             ],
             [
              0.4444444444444444,
              "#bd3786"
             ],
             [
              0.5555555555555556,
              "#d8576b"
             ],
             [
              0.6666666666666666,
              "#ed7953"
             ],
             [
              0.7777777777777778,
              "#fb9f3a"
             ],
             [
              0.8888888888888888,
              "#fdca26"
             ],
             [
              1,
              "#f0f921"
             ]
            ],
            "type": "heatmap"
           }
          ],
          "heatmapgl": [
           {
            "colorbar": {
             "outlinewidth": 0,
             "ticks": ""
            },
            "colorscale": [
             [
              0,
              "#0d0887"
             ],
             [
              0.1111111111111111,
              "#46039f"
             ],
             [
              0.2222222222222222,
              "#7201a8"
             ],
             [
              0.3333333333333333,
              "#9c179e"
             ],
             [
              0.4444444444444444,
              "#bd3786"
             ],
             [
              0.5555555555555556,
              "#d8576b"
             ],
             [
              0.6666666666666666,
              "#ed7953"
             ],
             [
              0.7777777777777778,
              "#fb9f3a"
             ],
             [
              0.8888888888888888,
              "#fdca26"
             ],
             [
              1,
              "#f0f921"
             ]
            ],
            "type": "heatmapgl"
           }
          ],
          "histogram": [
           {
            "marker": {
             "pattern": {
              "fillmode": "overlay",
              "size": 10,
              "solidity": 0.2
             }
            },
            "type": "histogram"
           }
          ],
          "histogram2d": [
           {
            "colorbar": {
             "outlinewidth": 0,
             "ticks": ""
            },
            "colorscale": [
             [
              0,
              "#0d0887"
             ],
             [
              0.1111111111111111,
              "#46039f"
             ],
             [
              0.2222222222222222,
              "#7201a8"
             ],
             [
              0.3333333333333333,
              "#9c179e"
             ],
             [
              0.4444444444444444,
              "#bd3786"
             ],
             [
              0.5555555555555556,
              "#d8576b"
             ],
             [
              0.6666666666666666,
              "#ed7953"
             ],
             [
              0.7777777777777778,
              "#fb9f3a"
             ],
             [
              0.8888888888888888,
              "#fdca26"
             ],
             [
              1,
              "#f0f921"
             ]
            ],
            "type": "histogram2d"
           }
          ],
          "histogram2dcontour": [
           {
            "colorbar": {
             "outlinewidth": 0,
             "ticks": ""
            },
            "colorscale": [
             [
              0,
              "#0d0887"
             ],
             [
              0.1111111111111111,
              "#46039f"
             ],
             [
              0.2222222222222222,
              "#7201a8"
             ],
             [
              0.3333333333333333,
              "#9c179e"
             ],
             [
              0.4444444444444444,
              "#bd3786"
             ],
             [
              0.5555555555555556,
              "#d8576b"
             ],
             [
              0.6666666666666666,
              "#ed7953"
             ],
             [
              0.7777777777777778,
              "#fb9f3a"
             ],
             [
              0.8888888888888888,
              "#fdca26"
             ],
             [
              1,
              "#f0f921"
             ]
            ],
            "type": "histogram2dcontour"
           }
          ],
          "mesh3d": [
           {
            "colorbar": {
             "outlinewidth": 0,
             "ticks": ""
            },
            "type": "mesh3d"
           }
          ],
          "parcoords": [
           {
            "line": {
             "colorbar": {
              "outlinewidth": 0,
              "ticks": ""
             }
            },
            "type": "parcoords"
           }
          ],
          "pie": [
           {
            "automargin": true,
            "type": "pie"
           }
          ],
          "scatter": [
           {
            "marker": {
             "colorbar": {
              "outlinewidth": 0,
              "ticks": ""
             }
            },
            "type": "scatter"
           }
          ],
          "scatter3d": [
           {
            "line": {
             "colorbar": {
              "outlinewidth": 0,
              "ticks": ""
             }
            },
            "marker": {
             "colorbar": {
              "outlinewidth": 0,
              "ticks": ""
             }
            },
            "type": "scatter3d"
           }
          ],
          "scattercarpet": [
           {
            "marker": {
             "colorbar": {
              "outlinewidth": 0,
              "ticks": ""
             }
            },
            "type": "scattercarpet"
           }
          ],
          "scattergeo": [
           {
            "marker": {
             "colorbar": {
              "outlinewidth": 0,
              "ticks": ""
             }
            },
            "type": "scattergeo"
           }
          ],
          "scattergl": [
           {
            "marker": {
             "colorbar": {
              "outlinewidth": 0,
              "ticks": ""
             }
            },
            "type": "scattergl"
           }
          ],
          "scattermapbox": [
           {
            "marker": {
             "colorbar": {
              "outlinewidth": 0,
              "ticks": ""
             }
            },
            "type": "scattermapbox"
           }
          ],
          "scatterpolar": [
           {
            "marker": {
             "colorbar": {
              "outlinewidth": 0,
              "ticks": ""
             }
            },
            "type": "scatterpolar"
           }
          ],
          "scatterpolargl": [
           {
            "marker": {
             "colorbar": {
              "outlinewidth": 0,
              "ticks": ""
             }
            },
            "type": "scatterpolargl"
           }
          ],
          "scatterternary": [
           {
            "marker": {
             "colorbar": {
              "outlinewidth": 0,
              "ticks": ""
             }
            },
            "type": "scatterternary"
           }
          ],
          "surface": [
           {
            "colorbar": {
             "outlinewidth": 0,
             "ticks": ""
            },
            "colorscale": [
             [
              0,
              "#0d0887"
             ],
             [
              0.1111111111111111,
              "#46039f"
             ],
             [
              0.2222222222222222,
              "#7201a8"
             ],
             [
              0.3333333333333333,
              "#9c179e"
             ],
             [
              0.4444444444444444,
              "#bd3786"
             ],
             [
              0.5555555555555556,
              "#d8576b"
             ],
             [
              0.6666666666666666,
              "#ed7953"
             ],
             [
              0.7777777777777778,
              "#fb9f3a"
             ],
             [
              0.8888888888888888,
              "#fdca26"
             ],
             [
              1,
              "#f0f921"
             ]
            ],
            "type": "surface"
           }
          ],
          "table": [
           {
            "cells": {
             "fill": {
              "color": "#EBF0F8"
             },
             "line": {
              "color": "white"
             }
            },
            "header": {
             "fill": {
              "color": "#C8D4E3"
             },
             "line": {
              "color": "white"
             }
            },
            "type": "table"
           }
          ]
         },
         "layout": {
          "annotationdefaults": {
           "arrowcolor": "#2a3f5f",
           "arrowhead": 0,
           "arrowwidth": 1
          },
          "autotypenumbers": "strict",
          "coloraxis": {
           "colorbar": {
            "outlinewidth": 0,
            "ticks": ""
           }
          },
          "colorscale": {
           "diverging": [
            [
             0,
             "#8e0152"
            ],
            [
             0.1,
             "#c51b7d"
            ],
            [
             0.2,
             "#de77ae"
            ],
            [
             0.3,
             "#f1b6da"
            ],
            [
             0.4,
             "#fde0ef"
            ],
            [
             0.5,
             "#f7f7f7"
            ],
            [
             0.6,
             "#e6f5d0"
            ],
            [
             0.7,
             "#b8e186"
            ],
            [
             0.8,
             "#7fbc41"
            ],
            [
             0.9,
             "#4d9221"
            ],
            [
             1,
             "#276419"
            ]
           ],
           "sequential": [
            [
             0,
             "#0d0887"
            ],
            [
             0.1111111111111111,
             "#46039f"
            ],
            [
             0.2222222222222222,
             "#7201a8"
            ],
            [
             0.3333333333333333,
             "#9c179e"
            ],
            [
             0.4444444444444444,
             "#bd3786"
            ],
            [
             0.5555555555555556,
             "#d8576b"
            ],
            [
             0.6666666666666666,
             "#ed7953"
            ],
            [
             0.7777777777777778,
             "#fb9f3a"
            ],
            [
             0.8888888888888888,
             "#fdca26"
            ],
            [
             1,
             "#f0f921"
            ]
           ],
           "sequentialminus": [
            [
             0,
             "#0d0887"
            ],
            [
             0.1111111111111111,
             "#46039f"
            ],
            [
             0.2222222222222222,
             "#7201a8"
            ],
            [
             0.3333333333333333,
             "#9c179e"
            ],
            [
             0.4444444444444444,
             "#bd3786"
            ],
            [
             0.5555555555555556,
             "#d8576b"
            ],
            [
             0.6666666666666666,
             "#ed7953"
            ],
            [
             0.7777777777777778,
             "#fb9f3a"
            ],
            [
             0.8888888888888888,
             "#fdca26"
            ],
            [
             1,
             "#f0f921"
            ]
           ]
          },
          "colorway": [
           "#636efa",
           "#EF553B",
           "#00cc96",
           "#ab63fa",
           "#FFA15A",
           "#19d3f3",
           "#FF6692",
           "#B6E880",
           "#FF97FF",
           "#FECB52"
          ],
          "font": {
           "color": "#2a3f5f"
          },
          "geo": {
           "bgcolor": "white",
           "lakecolor": "white",
           "landcolor": "#E5ECF6",
           "showlakes": true,
           "showland": true,
           "subunitcolor": "white"
          },
          "hoverlabel": {
           "align": "left"
          },
          "hovermode": "closest",
          "mapbox": {
           "style": "light"
          },
          "paper_bgcolor": "white",
          "plot_bgcolor": "#E5ECF6",
          "polar": {
           "angularaxis": {
            "gridcolor": "white",
            "linecolor": "white",
            "ticks": ""
           },
           "bgcolor": "#E5ECF6",
           "radialaxis": {
            "gridcolor": "white",
            "linecolor": "white",
            "ticks": ""
           }
          },
          "scene": {
           "xaxis": {
            "backgroundcolor": "#E5ECF6",
            "gridcolor": "white",
            "gridwidth": 2,
            "linecolor": "white",
            "showbackground": true,
            "ticks": "",
            "zerolinecolor": "white"
           },
           "yaxis": {
            "backgroundcolor": "#E5ECF6",
            "gridcolor": "white",
            "gridwidth": 2,
            "linecolor": "white",
            "showbackground": true,
            "ticks": "",
            "zerolinecolor": "white"
           },
           "zaxis": {
            "backgroundcolor": "#E5ECF6",
            "gridcolor": "white",
            "gridwidth": 2,
            "linecolor": "white",
            "showbackground": true,
            "ticks": "",
            "zerolinecolor": "white"
           }
          },
          "shapedefaults": {
           "line": {
            "color": "#2a3f5f"
           }
          },
          "ternary": {
           "aaxis": {
            "gridcolor": "white",
            "linecolor": "white",
            "ticks": ""
           },
           "baxis": {
            "gridcolor": "white",
            "linecolor": "white",
            "ticks": ""
           },
           "bgcolor": "#E5ECF6",
           "caxis": {
            "gridcolor": "white",
            "linecolor": "white",
            "ticks": ""
           }
          },
          "title": {
           "x": 0.05
          },
          "xaxis": {
           "automargin": true,
           "gridcolor": "white",
           "linecolor": "white",
           "ticks": "",
           "title": {
            "standoff": 15
           },
           "zerolinecolor": "white",
           "zerolinewidth": 2
          },
          "yaxis": {
           "automargin": true,
           "gridcolor": "white",
           "linecolor": "white",
           "ticks": "",
           "title": {
            "standoff": 15
           },
           "zerolinecolor": "white",
           "zerolinewidth": 2
          }
         }
        },
        "xaxis": {
         "autorange": true,
         "categoryorder": "category ascending",
         "range": [
          -4.802989496364126,
          85.80298949636412
         ],
         "type": "category"
        },
        "yaxis": {
         "autorange": true,
         "range": [
          -35065.14007308162,
          518905.1400730816
         ],
         "type": "linear"
        }
       }
      },
      "image/png": "[encoded data removed]",
      "text/html": [
       "<div>                            <div id=\"c8d11490-44e5-4132-bbf8-749cea77296d\" class=\"plotly-graph-div\" style=\"height:525px; width:100%;\"></div>            <script type=\"text/javascript\">                require([\"plotly\"], function(Plotly) {                    window.PLOTLYENV=window.PLOTLYENV || {};                                    if (document.getElementById(\"c8d11490-44e5-4132-bbf8-749cea77296d\")) {                    Plotly.newPlot(                        \"c8d11490-44e5-4132-bbf8-749cea77296d\",                        [{\"mode\":\"lines+markers\",\"name\":\"Real\",\"type\":\"scatter\",\"x\":[\"202001\",\"202002\",\"202003\",\"202004\",\"202005\",\"202006\",\"202007\",\"202008\",\"202009\",\"202010\",\"202011\",\"202012\",\"202013\",\"202014\",\"202016\",\"202017\",\"202018\",\"202019\",\"202020\",\"202021\",\"202022\",\"202023\",\"202024\",\"202025\",\"202026\",\"202027\",\"202028\",\"202029\",\"202030\",\"202031\",\"202032\",\"202033\",\"202034\",\"202035\",\"202036\",\"202037\",\"202038\",\"202039\",\"202040\",\"202041\",\"202042\",\"202043\",\"202044\",\"202045\",\"202046\",\"202047\",\"202048\",\"202049\",\"202050\",\"202051\",\"202052\",\"202053\",\"202101\",\"202102\",\"202103\",\"202104\",\"202105\",\"202106\",\"202107\",\"202108\",\"202109\",\"202110\",\"202111\",\"202112\",\"202113\",\"202114\",\"202115\",\"202116\",\"202117\",\"202118\",\"202119\",\"202120\",\"202121\",\"202122\",\"202123\",\"202124\",\"202125\",\"202126\",\"202127\",\"202128\",\"202129\"],\"y\":[29862,128520,120960,120960,105840,74844,75600,150594,120960,119826,77112,107730,115975,70686,90720,117180,57456,146219,75351,105324,332262,30240,90339,211674,136080,181440,0,257040,241481,90720,241920,226800,161406,166320,136080,241920,211680,226796,211676,287280,272160,166314,289170,332640,241920,362880,332368,483840,316008,279158,0,0,0,15120,271782,166320,196556,193535,317452,408191,287280,302400,302393,317520,226800,90720,392668,241920,256749,0,0,120960,302400,90711,257040,0,378,211656,181239,30240,0]},{\"name\":\"Prediction\",\"type\":\"scatter\",\"x\":[\"202114\",\"202115\",\"202116\",\"202117\",\"202118\",\"202119\",\"202120\",\"202121\",\"202122\",\"202123\",\"202124\",\"202125\",\"202126\",\"202127\",\"202128\",\"202129\",\"202130\"],\"y\":[184337.04015731812,302932.8921966553,311178.5869064331,270029.6105155945,249496.20176315308,235174.49897384644,258320.18017578125,281074.27351760864,217871.36853027344,235980.667263031,266888.0964050293,286238.0395088196,312125.2823295593,161323.69721221924,299634.2100601196,325020.65406799316,301244.83139801025]},{\"name\":\"Plan\",\"type\":\"scatter\",\"x\":[\"202114\",\"202115\",\"202116\",\"202117\",\"202118\",\"202119\",\"202120\",\"202121\",\"202122\",\"202123\",\"202124\",\"202125\",\"202126\",\"202127\",\"202128\",\"202129\",\"202130\"],\"y\":[241920,347760,393120,302400,302400,257040,287280,347760,257040,272160,317520,347760,378000,181440,378000,393120,378000]}],                        {\"margin\":{\"b\":10,\"l\":10,\"r\":15,\"t\":15},\"template\":{\"data\":{\"bar\":[{\"error_x\":{\"color\":\"#2a3f5f\"},\"error_y\":{\"color\":\"#2a3f5f\"},\"marker\":{\"line\":{\"color\":\"#E5ECF6\",\"width\":0.5},\"pattern\":{\"fillmode\":\"overlay\",\"size\":10,\"solidity\":0.2}},\"type\":\"bar\"}],\"barpolar\":[{\"marker\":{\"line\":{\"color\":\"#E5ECF6\",\"width\":0.5},\"pattern\":{\"fillmode\":\"overlay\",\"size\":10,\"solidity\":0.2}},\"type\":\"barpolar\"}],\"carpet\":[{\"aaxis\":{\"endlinecolor\":\"#2a3f5f\",\"gridcolor\":\"white\",\"linecolor\":\"white\",\"minorgridcolor\":\"white\",\"startlinecolor\":\"#2a3f5f\"},\"baxis\":{\"endlinecolor\":\"#2a3f5f\",\"gridcolor\":\"white\",\"linecolor\":\"white\",\"minorgridcolor\":\"white\",\"startlinecolor\":\"#2a3f5f\"},\"type\":\"carpet\"}],\"choropleth\":[{\"colorbar\":{\"outlinewidth\":0,\"ticks\":\"\"},\"type\":\"choropleth\"}],\"contour\":[{\"colorbar\":{\"outlinewidth\":0,\"ticks\":\"\"},\"colorscale\":[[0.0,\"#0d0887\"],[0.1111111111111111,\"#46039f\"],[0.2222222222222222,\"#7201a8\"],[0.3333333333333333,\"#9c179e\"],[0.4444444444444444,\"#bd3786\"],[0.5555555555555556,\"#d8576b\"],[0.6666666666666666,\"#ed7953\"],[0.7777777777777778,\"#fb9f3a\"],[0.8888888888888888,\"#fdca26\"],[1.0,\"#f0f921\"]],\"type\":\"contour\"}],\"contourcarpet\":[{\"colorbar\":{\"outlinewidth\":0,\"ticks\":\"\"},\"type\":\"contourcarpet\"}],\"heatmap\":[{\"colorbar\":{\"outlinewidth\":0,\"ticks\":\"\"},\"colorscale\":[[0.0,\"#0d0887\"],[0.1111111111111111,\"#46039f\"],[0.2222222222222222,\"#7201a8\"],[0.3333333333333333,\"#9c179e\"],[0.4444444444444444,\"#bd3786\"],[0.5555555555555556,\"#d8576b\"],[0.6666666666666666,\"#ed7953\"],[0.7777777777777778,\"#fb9f3a\"],[0.8888888888888888,\"#fdca26\"],[1.0,\"#f0f921\"]],\"type\":\"heatmap\"}],\"heatmapgl\":[{\"colorbar\":{\"outlinewidth\":0,\"ticks\":\"\"},\"colorscale\":[[0.0,\"#0d0887\"],[0.1111111111111111,\"#46039f\"],[0.2222222222222222,\"#7201a8\"],[0.3333333333333333,\"#9c179e\"],[0.4444444444444444,\"#bd3786\"],[0.5555555555555556,\"#d8576b\"],[0.6666666666666666,\"#ed7953\"],[0.7777777777777778,\"#fb9f3a\"],[0.8888888888888888,\"#fdca26\"],[1.0,\"#f0f921\"]],\"type\":\"heatmapgl\"}],\"histogram\":[{\"marker\":{\"pattern\":{\"fillmode\":\"overlay\",\"size\":10,\"solidity\":0.2}},\"type\":\"histogram\"}],\"histogram2d\":[{\"colorbar\":{\"outlinewidth\":0,\"ticks\":\"\"},\"colorscale\":[[0.0,\"#0d0887\"],[0.1111111111111111,\"#46039f\"],[0.2222222222222222,\"#7201a8\"],[0.3333333333333333,\"#9c179e\"],[0.4444444444444444,\"#bd3786\"],[0.5555555555555556,\"#d8576b\"],[0.6666666666666666,\"#ed7953\"],[0.7777777777777778,\"#fb9f3a\"],[0.8888888888888888,\"#fdca26\"],[1.0,\"#f0f921\"]],\"type\":\"histogram2d\"}],\"histogram2dcontour\":[{\"colorbar\":{\"outlinewidth\":0,\"ticks\":\"\"},\"colorscale\":[[0.0,\"#0d0887\"],[0.1111111111111111,\"#46039f\"],[0.2222222222222222,\"#7201a8\"],[0.3333333333333333,\"#9c179e\"],[0.4444444444444444,\"#bd3786\"],[0.5555555555555556,\"#d8576b\"],[0.6666666666666666,\"#ed7953\"],[0.7777777777777778,\"#fb9f3a\"],[0.8888888888888888,\"#fdca26\"],[1.0,\"#f0f921\"]],\"type\":\"histogram2dcontour\"}],\"mesh3d\":[{\"colorbar\":{\"outlinewidth\":0,\"ticks\":\"\"},\"type\":\"mesh3d\"}],\"parcoords\":[{\"line\":{\"colorbar\":{\"outlinewidth\":0,\"ticks\":\"\"}},\"type\":\"parcoords\"}],\"pie\":[{\"automargin\":true,\"type\":\"pie\"}],\"scatter\":[{\"marker\":{\"colorbar\":{\"outlinewidth\":0,\"ticks\":\"\"}},\"type\":\"scatter\"}],\"scatter3d\":[{\"line\":{\"colorbar\":{\"outlinewidth\":0,\"ticks\":\"\"}},\"marker\":{\"colorbar\":{\"outlinewidth\":0,\"ticks\":\"\"}},\"type\":\"scatter3d\"}],\"scattercarpet\":[{\"marker\":{\"colorbar\":{\"outlinewidth\":0,\"ticks\":\"\"}},\"type\":\"scattercarpet\"}],\"scattergeo\":[{\"marker\":{\"colorbar\":{\"outlinewidth\":0,\"ticks\":\"\"}},\"type\":\"scattergeo\"}],\"scattergl\":[{\"marker\":{\"colorbar\":{\"outlinewidth\":0,\"ticks\":\"\"}},\"type\":\"scattergl\"}],\"scattermapbox\":[{\"marker\":{\"colorbar\":{\"outlinewidth\":0,\"ticks\":\"\"}},\"type\":\"scattermapbox\"}],\"scatterpolar\":[{\"marker\":{\"colorbar\":{\"outlinewidth\":0,\"ticks\":\"\"}},\"type\":\"scatterpolar\"}],\"scatterpolargl\":[{\"marker\":{\"colorbar\":{\"outlinewidth\":0,\"ticks\":\"\"}},\"type\":\"scatterpolargl\"}],\"scatterternary\":[{\"marker\":{\"colorbar\":{\"outlinewidth\":0,\"ticks\":\"\"}},\"type\":\"scatterternary\"}],\"surface\":[{\"colorbar\":{\"outlinewidth\":0,\"ticks\":\"\"},\"colorscale\":[[0.0,\"#0d0887\"],[0.1111111111111111,\"#46039f\"],[0.2222222222222222,\"#7201a8\"],[0.3333333333333333,\"#9c179e\"],[0.4444444444444444,\"#bd3786\"],[0.5555555555555556,\"#d8576b\"],[0.6666666666666666,\"#ed7953\"],[0.7777777777777778,\"#fb9f3a\"],[0.8888888888888888,\"#fdca26\"],[1.0,\"#f0f921\"]],\"type\":\"surface\"}],\"table\":[{\"cells\":{\"fill\":{\"color\":\"#EBF0F8\"},\"line\":{\"color\":\"white\"}},\"header\":{\"fill\":{\"color\":\"#C8D4E3\"},\"line\":{\"color\":\"white\"}},\"type\":\"table\"}]},\"layout\":{\"annotationdefaults\":{\"arrowcolor\":\"#2a3f5f\",\"arrowhead\":0,\"arrowwidth\":1},\"autotypenumbers\":\"strict\",\"coloraxis\":{\"colorbar\":{\"outlinewidth\":0,\"ticks\":\"\"}},\"colorscale\":{\"diverging\":[[0,\"#8e0152\"],[0.1,\"#c51b7d\"],[0.2,\"#de77ae\"],[0.3,\"#f1b6da\"],[0.4,\"#fde0ef\"],[0.5,\"#f7f7f7\"],[0.6,\"#e6f5d0\"],[0.7,\"#b8e186\"],[0.8,\"#7fbc41\"],[0.9,\"#4d9221\"],[1,\"#276419\"]],\"sequential\":[[0.0,\"#0d0887\"],[0.1111111111111111,\"#46039f\"],[0.2222222222222222,\"#7201a8\"],[0.3333333333333333,\"#9c179e\"],[0.4444444444444444,\"#bd3786\"],[0.5555555555555556,\"#d8576b\"],[0.6666666666666666,\"#ed7953\"],[0.7777777777777778,\"#fb9f3a\"],[0.8888888888888888,\"#fdca26\"],[1.0,\"#f0f921\"]],\"sequentialminus\":[[0.0,\"#0d0887\"],[0.1111111111111111,\"#46039f\"],[0.2222222222222222,\"#7201a8\"],[0.3333333333333333,\"#9c179e\"],[0.4444444444444444,\"#bd3786\"],[0.5555555555555556,\"#d8576b\"],[0.6666666666666666,\"#ed7953\"],[0.7777777777777778,\"#fb9f3a\"],[0.8888888888888888,\"#fdca26\"],[1.0,\"#f0f921\"]]},\"colorway\":[\"#636efa\",\"#EF553B\",\"#00cc96\",\"#ab63fa\",\"#FFA15A\",\"#19d3f3\",\"#FF6692\",\"#B6E880\",\"#FF97FF\",\"#FECB52\"],\"font\":{\"color\":\"#2a3f5f\"},\"geo\":{\"bgcolor\":\"white\",\"lakecolor\":\"white\",\"landcolor\":\"#E5ECF6\",\"showlakes\":true,\"showland\":true,\"subunitcolor\":\"white\"},\"hoverlabel\":{\"align\":\"left\"},\"hovermode\":\"closest\",\"mapbox\":{\"style\":\"light\"},\"paper_bgcolor\":\"white\",\"plot_bgcolor\":\"#E5ECF6\",\"polar\":{\"angularaxis\":{\"gridcolor\":\"white\",\"linecolor\":\"white\",\"ticks\":\"\"},\"bgcolor\":\"#E5ECF6\",\"radialaxis\":{\"gridcolor\":\"white\",\"linecolor\":\"white\",\"ticks\":\"\"}},\"scene\":{\"xaxis\":{\"backgroundcolor\":\"#E5ECF6\",\"gridcolor\":\"white\",\"gridwidth\":2,\"linecolor\":\"white\",\"showbackground\":true,\"ticks\":\"\",\"zerolinecolor\":\"white\"},\"yaxis\":{\"backgroundcolor\":\"#E5ECF6\",\"gridcolor\":\"white\",\"gridwidth\":2,\"linecolor\":\"white\",\"showbackground\":true,\"ticks\":\"\",\"zerolinecolor\":\"white\"},\"zaxis\":{\"backgroundcolor\":\"#E5ECF6\",\"gridcolor\":\"white\",\"gridwidth\":2,\"linecolor\":\"white\",\"showbackground\":true,\"ticks\":\"\",\"zerolinecolor\":\"white\"}},\"shapedefaults\":{\"line\":{\"color\":\"#2a3f5f\"}},\"ternary\":{\"aaxis\":{\"gridcolor\":\"white\",\"linecolor\":\"white\",\"ticks\":\"\"},\"baxis\":{\"gridcolor\":\"white\",\"linecolor\":\"white\",\"ticks\":\"\"},\"bgcolor\":\"#E5ECF6\",\"caxis\":{\"gridcolor\":\"white\",\"linecolor\":\"white\",\"ticks\":\"\"}},\"title\":{\"x\":0.05},\"xaxis\":{\"automargin\":true,\"gridcolor\":\"white\",\"linecolor\":\"white\",\"ticks\":\"\",\"title\":{\"standoff\":15},\"zerolinecolor\":\"white\",\"zerolinewidth\":2},\"yaxis\":{\"automargin\":true,\"gridcolor\":\"white\",\"linecolor\":\"white\",\"ticks\":\"\",\"title\":{\"standoff\":15},\"zerolinecolor\":\"white\",\"zerolinewidth\":2}}},\"xaxis\":{\"categoryorder\":\"category ascending\"}},                        {\"responsive\": true}                    ).then(function(){\n",
       "                            \n",
       "var gd = document.getElementById('c8d11490-44e5-4132-bbf8-749cea77296d');\n",
       "var x = new MutationObserver(function (mutations, observer) {{\n",
       "        var display = window.getComputedStyle(gd).display;\n",
       "        if (!display || display === 'none') {{\n",
       "            console.log([gd, 'removed!']);\n",
       "            Plotly.purge(gd);\n",
       "            observer.disconnect();\n",
       "        }}\n",
       "}});\n",
       "\n",
       "// Listen for the removal of the full notebook cells\n",
       "var notebookContainer = gd.closest('#notebook-container');\n",
       "if (notebookContainer) {{\n",
       "    x.observe(notebookContainer, {childList: true});\n",
       "}}\n",
       "\n",
       "// Listen for the clearing of the current output cell\n",
       "var outputEl = gd.closest('.output');\n",
       "if (outputEl) {{\n",
       "    x.observe(outputEl, {childList: true});\n",
       "}}\n",
       "\n",
       "                        })                };                });            </script>        </div>"
      ]
     },
     "metadata": {},
     "output_type": "display_data"
    }
   ],
   "source": [
    "fig = go.Figure()\n",
    "fig.add_trace(go.Scatter(x=sales['ww'], y=sales['sale'],\n",
    "                        mode='lines+markers', name='Real'))\n",
    "fig.add_trace(go.Scatter(x=sale_val_df['ww'], y=sale_val_df['sale_hat'],\n",
    "                        name='Prediction'))\n",
    "fig.add_trace(go.Scatter(x=sale_val_df['ww'], y=sale_val_df[current-1],\n",
    "                        name='Plan'))\n",
    "fig.update_layout(margin=dict(l=10, r=15, t=15, b=10))\n",
    "fig.update_xaxes(categoryorder='category ascending')\n",
    "fig.show()"
   ]
  },
  {
   "cell_type": "code",
   "execution_count": 73,
   "id": "127795f5-b358-470a-9425-3ad231639383",
   "metadata": {
    "tags": []
   },
   "outputs": [],
   "source": [
    "prod_pred_ww = dt_table['ww'].iloc[tmp_s:tmp_e].reset_index(drop=True)#.tolist()\n",
    "prod_pred_ww.columns = ['ww']\n",
    "plan_ww = dt_table['ww'].iloc[dt_table['ww'][dt_table['ww']==current].index[0]-prod_var_col:dt_table['ww'][dt_table['ww']==current].index[0]].tolist()\n",
    "plan_ww.sort(reverse=True)\n",
    "\n",
    "for i in range(0, len(plan_ww)):\n",
    "    tmp_plan_no = prod_plan['prod_plan'][prod_plan['ww'] == plan_ww[i]].index[0]\n",
    "    tmp_plan_df = pd.DataFrame([x.split(':') for x in prod_plan.iloc[tmp_plan_no, 2].split('/')])\n",
    "    tmp_plan_df = tmp_plan_df.sort_values(0, ascending=False).reset_index(drop=True)\n",
    "    tmp_plan_df.columns = ['ww', prod_plan['ww'].iloc[tmp_plan_no]]\n",
    "    tmp_plan_df = tmp_plan_df.astype({'ww' : 'int'})\n",
    "    if i == 0 :\n",
    "        prod_val_df = pd.merge(prod_pred_ww, tmp_plan_df, on='ww', how='left')\n",
    "    else :\n",
    "        prod_val_df = pd.merge(prod_val_df, tmp_plan_df, on='ww', how='left')\n",
    "prod_val_df = prod_val_df.fillna(0)\n",
    "prod_val_df = prod_val_df.astype('int')\n",
    "prod_val_df = prod_val_df.astype({'ww' : 'str'})\n",
    "\n",
    "prod_prev_df = prod_train['prod'].iloc[-prod_prev_col:].tolist()\n",
    "prod_prev_df.reverse()\n",
    "y_hat = []\n",
    "for i in range(0,prod_val_df.shape[0]):\n",
    "    tmp_pred_x = np.array(prod_prev_df + prod_val_df.iloc[i, 1:].tolist()).reshape(1, -1)\n",
    "    tmp_y = prod_gp.predict(tmp_pred_x)\n",
    "    prod_prev_df.insert(0, tmp_y[0])\n",
    "    prod_prev_df = prod_prev_df[:prod_prev_col]    \n",
    "    y_hat.append(tmp_y[0])\n",
    "\n",
    "prod_val_df['prod_hat'] = y_hat"
   ]
  },
  {
   "cell_type": "code",
   "execution_count": 82,
   "id": "79b6d3a1-75b5-43bb-9934-e8cbe76933f7",
   "metadata": {},
   "outputs": [
    {
     "data": {
      "application/vnd.plotly.v1+json": {
       "config": {
        "plotlyServerURL": "https://plot.ly"
       },
       "data": [
        {
         "mode": "lines+markers",
         "name": "Real",
         "selectedpoints": [
          0
         ],
         "type": "scatter",
         "x": [
          "202001",
          "202002",
          "202003",
          "202004",
          "202005",
          "202006",
          "202008",
          "202010",
          "202011",
          "202012",
          "202013",
          "202014",
          "202015",
          "202016",
          "202017",
          "202018",
          "202019",
          "202021",
          "202022",
          "202023",
          "202024",
          "202025",
          "202026",
          "202027",
          "202028",
          "202029",
          "202030",
          "202031",
          "202032",
          "202033",
          "202034",
          "202035",
          "202036",
          "202037",
          "202038",
          "202039",
          "202040",
          "202041",
          "202042",
          "202043",
          "202044",
          "202045",
          "202046",
          "202047",
          "202048",
          "202049",
          "202050",
          "202051",
          "202053",
          "202101",
          "202102",
          "202103",
          "202104",
          "202105",
          "202106",
          "202107",
          "202108",
          "202109",
          "202110",
          "202111",
          "202112",
          "202113",
          "202114",
          "202115",
          "202116",
          "202117",
          "202119",
          "202120",
          "202121",
          "202122",
          "202123",
          "202124",
          "202125",
          "202126",
          "202127",
          "202129"
         ],
         "y": [
          88080,
          143332,
          126497,
          46482,
          192274,
          101129,
          0,
          193220,
          185859,
          225203,
          206581,
          203704,
          101653,
          124422,
          106349,
          91138,
          17658,
          0,
          117587,
          209914,
          216149,
          242020,
          284555,
          276887,
          367347,
          291009,
          286525,
          148328,
          95149,
          150111,
          162776,
          181416,
          164771,
          153757,
          183422,
          174340,
          75216,
          165344,
          304244,
          274991,
          250402,
          269441,
          286515,
          457297,
          253223,
          202715,
          222969,
          68394,
          46673,
          92711,
          167389,
          392503,
          368901,
          366318,
          364128,
          403833,
          343367,
          396048,
          387801,
          411046,
          245126,
          280688,
          237047,
          46469,
          139415,
          42210,
          56617,
          148880,
          94389,
          164024,
          195552,
          174465,
          94914,
          179984,
          15759,
          129015
         ]
        },
        {
         "name": "Prediction",
         "selectedpoints": [],
         "type": "scatter",
         "x": [
          "202114",
          "202115",
          "202116",
          "202117",
          "202118",
          "202119",
          "202120",
          "202121",
          "202122",
          "202123",
          "202124",
          "202125",
          "202126",
          "202127",
          "202128",
          "202129",
          "202130"
         ],
         "y": [
          311774.5587158203,
          177053.01342773438,
          218491.662109375,
          220863.66967773438,
          148593.4970703125,
          177013.81591796875,
          182070.81005859375,
          171167.19805908203,
          213498.63244628906,
          309161.3159790039,
          369862.01416015625,
          398477.7979736328,
          431597.58337402344,
          405776.03552246094,
          371277.87365722656,
          373657.2607421875,
          401245.8319091797
         ]
        },
        {
         "name": "Plan",
         "selectedpoints": [],
         "type": "scatter",
         "visible": true,
         "x": [
          "202114",
          "202115",
          "202116",
          "202117",
          "202118",
          "202119",
          "202120",
          "202121",
          "202122",
          "202123",
          "202124",
          "202125",
          "202126",
          "202127",
          "202128",
          "202129",
          "202130"
         ],
         "y": [
          416000,
          208000,
          208000,
          208000,
          208000,
          208000,
          208000,
          208000,
          340000,
          390000,
          422500,
          422500,
          422500,
          402000,
          435500,
          435500,
          435500
         ]
        }
       ],
       "layout": {
        "autosize": true,
        "dragmode": "select",
        "margin": {
         "b": 10,
         "l": 10,
         "r": 15,
         "t": 15
        },
        "template": {
         "data": {
          "bar": [
           {
            "error_x": {
             "color": "#2a3f5f"
            },
            "error_y": {
             "color": "#2a3f5f"
            },
            "marker": {
             "line": {
              "color": "#E5ECF6",
              "width": 0.5
             },
             "pattern": {
              "fillmode": "overlay",
              "size": 10,
              "solidity": 0.2
             }
            },
            "type": "bar"
           }
          ],
          "barpolar": [
           {
            "marker": {
             "line": {
              "color": "#E5ECF6",
              "width": 0.5
             },
             "pattern": {
              "fillmode": "overlay",
              "size": 10,
              "solidity": 0.2
             }
            },
            "type": "barpolar"
           }
          ],
          "carpet": [
           {
            "aaxis": {
             "endlinecolor": "#2a3f5f",
             "gridcolor": "white",
             "linecolor": "white",
             "minorgridcolor": "white",
             "startlinecolor": "#2a3f5f"
            },
            "baxis": {
             "endlinecolor": "#2a3f5f",
             "gridcolor": "white",
             "linecolor": "white",
             "minorgridcolor": "white",
             "startlinecolor": "#2a3f5f"
            },
            "type": "carpet"
           }
          ],
          "choropleth": [
           {
            "colorbar": {
             "outlinewidth": 0,
             "ticks": ""
            },
            "type": "choropleth"
           }
          ],
          "contour": [
           {
            "colorbar": {
             "outlinewidth": 0,
             "ticks": ""
            },
            "colorscale": [
             [
              0,
              "#0d0887"
             ],
             [
              0.1111111111111111,
              "#46039f"
             ],
             [
              0.2222222222222222,
              "#7201a8"
             ],
             [
              0.3333333333333333,
              "#9c179e"
             ],
             [
              0.4444444444444444,
              "#bd3786"
             ],
             [
              0.5555555555555556,
              "#d8576b"
             ],
             [
              0.6666666666666666,
              "#ed7953"
             ],
             [
              0.7777777777777778,
              "#fb9f3a"
             ],
             [
              0.8888888888888888,
              "#fdca26"
             ],
             [
              1,
              "#f0f921"
             ]
            ],
            "type": "contour"
           }
          ],
          "contourcarpet": [
           {
            "colorbar": {
             "outlinewidth": 0,
             "ticks": ""
            },
            "type": "contourcarpet"
           }
          ],
          "heatmap": [
           {
            "colorbar": {
             "outlinewidth": 0,
             "ticks": ""
            },
            "colorscale": [
             [
              0,
              "#0d0887"
             ],
             [
              0.1111111111111111,
              "#46039f"
             ],
             [
              0.2222222222222222,
              "#7201a8"
             ],
             [
              0.3333333333333333,
              "#9c179e"
             ],
             [
              0.4444444444444444,
              "#bd3786"
             ],
             [
              0.5555555555555556,
              "#d8576b"
             ],
             [
              0.6666666666666666,
              "#ed7953"
             ],
             [
              0.7777777777777778,
              "#fb9f3a"
             ],
             [
              0.8888888888888888,
              "#fdca26"
             ],
             [
              1,
              "#f0f921"
             ]
            ],
            "type": "heatmap"
           }
          ],
          "heatmapgl": [
           {
            "colorbar": {
             "outlinewidth": 0,
             "ticks": ""
            },
            "colorscale": [
             [
              0,
              "#0d0887"
             ],
             [
              0.1111111111111111,
              "#46039f"
             ],
             [
              0.2222222222222222,
              "#7201a8"
             ],
             [
              0.3333333333333333,
              "#9c179e"
             ],
             [
              0.4444444444444444,
              "#bd3786"
             ],
             [
              0.5555555555555556,
              "#d8576b"
             ],
             [
              0.6666666666666666,
              "#ed7953"
             ],
             [
              0.7777777777777778,
              "#fb9f3a"
             ],
             [
              0.8888888888888888,
              "#fdca26"
             ],
             [
              1,
              "#f0f921"
             ]
            ],
            "type": "heatmapgl"
           }
          ],
          "histogram": [
           {
            "marker": {
             "pattern": {
              "fillmode": "overlay",
              "size": 10,
              "solidity": 0.2
             }
            },
            "type": "histogram"
           }
          ],
          "histogram2d": [
           {
            "colorbar": {
             "outlinewidth": 0,
             "ticks": ""
            },
            "colorscale": [
             [
              0,
              "#0d0887"
             ],
             [
              0.1111111111111111,
              "#46039f"
             ],
             [
              0.2222222222222222,
              "#7201a8"
             ],
             [
              0.3333333333333333,
              "#9c179e"
             ],
             [
              0.4444444444444444,
              "#bd3786"
             ],
             [
              0.5555555555555556,
              "#d8576b"
             ],
             [
              0.6666666666666666,
              "#ed7953"
             ],
             [
              0.7777777777777778,
              "#fb9f3a"
             ],
             [
              0.8888888888888888,
              "#fdca26"
             ],
             [
              1,
              "#f0f921"
             ]
            ],
            "type": "histogram2d"
           }
          ],
          "histogram2dcontour": [
           {
            "colorbar": {
             "outlinewidth": 0,
             "ticks": ""
            },
            "colorscale": [
             [
              0,
              "#0d0887"
             ],
             [
              0.1111111111111111,
              "#46039f"
             ],
             [
              0.2222222222222222,
              "#7201a8"
             ],
             [
              0.3333333333333333,
              "#9c179e"
             ],
             [
              0.4444444444444444,
              "#bd3786"
             ],
             [
              0.5555555555555556,
              "#d8576b"
             ],
             [
              0.6666666666666666,
              "#ed7953"
             ],
             [
              0.7777777777777778,
              "#fb9f3a"
             ],
             [
              0.8888888888888888,
              "#fdca26"
             ],
             [
              1,
              "#f0f921"
             ]
            ],
            "type": "histogram2dcontour"
           }
          ],
          "mesh3d": [
           {
            "colorbar": {
             "outlinewidth": 0,
             "ticks": ""
            },
            "type": "mesh3d"
           }
          ],
          "parcoords": [
           {
            "line": {
             "colorbar": {
              "outlinewidth": 0,
              "ticks": ""
             }
            },
            "type": "parcoords"
           }
          ],
          "pie": [
           {
            "automargin": true,
            "type": "pie"
           }
          ],
          "scatter": [
           {
            "marker": {
             "colorbar": {
              "outlinewidth": 0,
              "ticks": ""
             }
            },
            "type": "scatter"
           }
          ],
          "scatter3d": [
           {
            "line": {
             "colorbar": {
              "outlinewidth": 0,
              "ticks": ""
             }
            },
            "marker": {
             "colorbar": {
              "outlinewidth": 0,
              "ticks": ""
             }
            },
            "type": "scatter3d"
           }
          ],
          "scattercarpet": [
           {
            "marker": {
             "colorbar": {
              "outlinewidth": 0,
              "ticks": ""
             }
            },
            "type": "scattercarpet"
           }
          ],
          "scattergeo": [
           {
            "marker": {
             "colorbar": {
              "outlinewidth": 0,
              "ticks": ""
             }
            },
            "type": "scattergeo"
           }
          ],
          "scattergl": [
           {
            "marker": {
             "colorbar": {
              "outlinewidth": 0,
              "ticks": ""
             }
            },
            "type": "scattergl"
           }
          ],
          "scattermapbox": [
           {
            "marker": {
             "colorbar": {
              "outlinewidth": 0,
              "ticks": ""
             }
            },
            "type": "scattermapbox"
           }
          ],
          "scatterpolar": [
           {
            "marker": {
             "colorbar": {
              "outlinewidth": 0,
              "ticks": ""
             }
            },
            "type": "scatterpolar"
           }
          ],
          "scatterpolargl": [
           {
            "marker": {
             "colorbar": {
              "outlinewidth": 0,
              "ticks": ""
             }
            },
            "type": "scatterpolargl"
           }
          ],
          "scatterternary": [
           {
            "marker": {
             "colorbar": {
              "outlinewidth": 0,
              "ticks": ""
             }
            },
            "type": "scatterternary"
           }
          ],
          "surface": [
           {
            "colorbar": {
             "outlinewidth": 0,
             "ticks": ""
            },
            "colorscale": [
             [
              0,
              "#0d0887"
             ],
             [
              0.1111111111111111,
              "#46039f"
             ],
             [
              0.2222222222222222,
              "#7201a8"
             ],
             [
              0.3333333333333333,
              "#9c179e"
             ],
             [
              0.4444444444444444,
              "#bd3786"
             ],
             [
              0.5555555555555556,
              "#d8576b"
             ],
             [
              0.6666666666666666,
              "#ed7953"
             ],
             [
              0.7777777777777778,
              "#fb9f3a"
             ],
             [
              0.8888888888888888,
              "#fdca26"
             ],
             [
              1,
              "#f0f921"
             ]
            ],
            "type": "surface"
           }
          ],
          "table": [
           {
            "cells": {
             "fill": {
              "color": "#EBF0F8"
             },
             "line": {
              "color": "white"
             }
            },
            "header": {
             "fill": {
              "color": "#C8D4E3"
             },
             "line": {
              "color": "white"
             }
            },
            "type": "table"
           }
          ]
         },
         "layout": {
          "annotationdefaults": {
           "arrowcolor": "#2a3f5f",
           "arrowhead": 0,
           "arrowwidth": 1
          },
          "autotypenumbers": "strict",
          "coloraxis": {
           "colorbar": {
            "outlinewidth": 0,
            "ticks": ""
           }
          },
          "colorscale": {
           "diverging": [
            [
             0,
             "#8e0152"
            ],
            [
             0.1,
             "#c51b7d"
            ],
            [
             0.2,
             "#de77ae"
            ],
            [
             0.3,
             "#f1b6da"
            ],
            [
             0.4,
             "#fde0ef"
            ],
            [
             0.5,
             "#f7f7f7"
            ],
            [
             0.6,
             "#e6f5d0"
            ],
            [
             0.7,
             "#b8e186"
            ],
            [
             0.8,
             "#7fbc41"
            ],
            [
             0.9,
             "#4d9221"
            ],
            [
             1,
             "#276419"
            ]
           ],
           "sequential": [
            [
             0,
             "#0d0887"
            ],
            [
             0.1111111111111111,
             "#46039f"
            ],
            [
             0.2222222222222222,
             "#7201a8"
            ],
            [
             0.3333333333333333,
             "#9c179e"
            ],
            [
             0.4444444444444444,
             "#bd3786"
            ],
            [
             0.5555555555555556,
             "#d8576b"
            ],
            [
             0.6666666666666666,
             "#ed7953"
            ],
            [
             0.7777777777777778,
             "#fb9f3a"
            ],
            [
             0.8888888888888888,
             "#fdca26"
            ],
            [
             1,
             "#f0f921"
            ]
           ],
           "sequentialminus": [
            [
             0,
             "#0d0887"
            ],
            [
             0.1111111111111111,
             "#46039f"
            ],
            [
             0.2222222222222222,
             "#7201a8"
            ],
            [
             0.3333333333333333,
             "#9c179e"
            ],
            [
             0.4444444444444444,
             "#bd3786"
            ],
            [
             0.5555555555555556,
             "#d8576b"
            ],
            [
             0.6666666666666666,
             "#ed7953"
            ],
            [
             0.7777777777777778,
             "#fb9f3a"
            ],
            [
             0.8888888888888888,
             "#fdca26"
            ],
            [
             1,
             "#f0f921"
            ]
           ]
          },
          "colorway": [
           "#636efa",
           "#EF553B",
           "#00cc96",
           "#ab63fa",
           "#FFA15A",
           "#19d3f3",
           "#FF6692",
           "#B6E880",
           "#FF97FF",
           "#FECB52"
          ],
          "font": {
           "color": "#2a3f5f"
          },
          "geo": {
           "bgcolor": "white",
           "lakecolor": "white",
           "landcolor": "#E5ECF6",
           "showlakes": true,
           "showland": true,
           "subunitcolor": "white"
          },
          "hoverlabel": {
           "align": "left"
          },
          "hovermode": "closest",
          "mapbox": {
           "style": "light"
          },
          "paper_bgcolor": "white",
          "plot_bgcolor": "#E5ECF6",
          "polar": {
           "angularaxis": {
            "gridcolor": "white",
            "linecolor": "white",
            "ticks": ""
           },
           "bgcolor": "#E5ECF6",
           "radialaxis": {
            "gridcolor": "white",
            "linecolor": "white",
            "ticks": ""
           }
          },
          "scene": {
           "xaxis": {
            "backgroundcolor": "#E5ECF6",
            "gridcolor": "white",
            "gridwidth": 2,
            "linecolor": "white",
            "showbackground": true,
            "ticks": "",
            "zerolinecolor": "white"
           },
           "yaxis": {
            "backgroundcolor": "#E5ECF6",
            "gridcolor": "white",
            "gridwidth": 2,
            "linecolor": "white",
            "showbackground": true,
            "ticks": "",
            "zerolinecolor": "white"
           },
           "zaxis": {
            "backgroundcolor": "#E5ECF6",
            "gridcolor": "white",
            "gridwidth": 2,
            "linecolor": "white",
            "showbackground": true,
            "ticks": "",
            "zerolinecolor": "white"
           }
          },
          "shapedefaults": {
           "line": {
            "color": "#2a3f5f"
           }
          },
          "ternary": {
           "aaxis": {
            "gridcolor": "white",
            "linecolor": "white",
            "ticks": ""
           },
           "baxis": {
            "gridcolor": "white",
            "linecolor": "white",
            "ticks": ""
           },
           "bgcolor": "#E5ECF6",
           "caxis": {
            "gridcolor": "white",
            "linecolor": "white",
            "ticks": ""
           }
          },
          "title": {
           "x": 0.05
          },
          "xaxis": {
           "automargin": true,
           "gridcolor": "white",
           "linecolor": "white",
           "ticks": "",
           "title": {
            "standoff": 15
           },
           "zerolinecolor": "white",
           "zerolinewidth": 2
          },
          "yaxis": {
           "automargin": true,
           "gridcolor": "white",
           "linecolor": "white",
           "ticks": "",
           "title": {
            "standoff": 15
           },
           "zerolinecolor": "white",
           "zerolinewidth": 2
          }
         }
        },
        "xaxis": {
         "autorange": true,
         "categoryorder": "category ascending",
         "range": [
          -4.625100996498788,
          82.62510099649879
         ],
         "type": "category"
        },
        "yaxis": {
         "autorange": true,
         "range": [
          -33141.50000000001,
          490438.5
         ],
         "type": "linear"
        }
       }
      },
      "image/png": "[encoded data removed]",
      "text/html": [
       "<div>                            <div id=\"eb8dd814-8fe5-48b6-a857-b806851989dc\" class=\"plotly-graph-div\" style=\"height:525px; width:100%;\"></div>            <script type=\"text/javascript\">                require([\"plotly\"], function(Plotly) {                    window.PLOTLYENV=window.PLOTLYENV || {};                                    if (document.getElementById(\"eb8dd814-8fe5-48b6-a857-b806851989dc\")) {                    Plotly.newPlot(                        \"eb8dd814-8fe5-48b6-a857-b806851989dc\",                        [{\"mode\":\"lines+markers\",\"name\":\"Real\",\"type\":\"scatter\",\"x\":[\"202001\",\"202002\",\"202003\",\"202004\",\"202005\",\"202006\",\"202008\",\"202010\",\"202011\",\"202012\",\"202013\",\"202014\",\"202015\",\"202016\",\"202017\",\"202018\",\"202019\",\"202021\",\"202022\",\"202023\",\"202024\",\"202025\",\"202026\",\"202027\",\"202028\",\"202029\",\"202030\",\"202031\",\"202032\",\"202033\",\"202034\",\"202035\",\"202036\",\"202037\",\"202038\",\"202039\",\"202040\",\"202041\",\"202042\",\"202043\",\"202044\",\"202045\",\"202046\",\"202047\",\"202048\",\"202049\",\"202050\",\"202051\",\"202053\",\"202101\",\"202102\",\"202103\",\"202104\",\"202105\",\"202106\",\"202107\",\"202108\",\"202109\",\"202110\",\"202111\",\"202112\",\"202113\",\"202114\",\"202115\",\"202116\",\"202117\",\"202119\",\"202120\",\"202121\",\"202122\",\"202123\",\"202124\",\"202125\",\"202126\",\"202127\",\"202129\"],\"y\":[88080,143332,126497,46482,192274,101129,0,193220,185859,225203,206581,203704,101653,124422,106349,91138,17658,0,117587,209914,216149,242020,284555,276887,367347,291009,286525,148328,95149,150111,162776,181416,164771,153757,183422,174340,75216,165344,304244,274991,250402,269441,286515,457297,253223,202715,222969,68394,46673,92711,167389,392503,368901,366318,364128,403833,343367,396048,387801,411046,245126,280688,237047,46469,139415,42210,56617,148880,94389,164024,195552,174465,94914,179984,15759,129015]},{\"name\":\"Prediction\",\"type\":\"scatter\",\"x\":[\"202114\",\"202115\",\"202116\",\"202117\",\"202118\",\"202119\",\"202120\",\"202121\",\"202122\",\"202123\",\"202124\",\"202125\",\"202126\",\"202127\",\"202128\",\"202129\",\"202130\"],\"y\":[311774.5587158203,177053.01342773438,218491.662109375,220863.66967773438,148593.4970703125,177013.81591796875,182070.81005859375,171167.19805908203,213498.63244628906,309161.3159790039,369862.01416015625,398477.7979736328,431597.58337402344,405776.03552246094,371277.87365722656,373657.2607421875,401245.8319091797]},{\"name\":\"Plan\",\"type\":\"scatter\",\"x\":[\"202114\",\"202115\",\"202116\",\"202117\",\"202118\",\"202119\",\"202120\",\"202121\",\"202122\",\"202123\",\"202124\",\"202125\",\"202126\",\"202127\",\"202128\",\"202129\",\"202130\"],\"y\":[416000,208000,208000,208000,208000,208000,208000,208000,340000,390000,422500,422500,422500,402000,435500,435500,435500]}],                        {\"margin\":{\"b\":10,\"l\":10,\"r\":15,\"t\":15},\"template\":{\"data\":{\"bar\":[{\"error_x\":{\"color\":\"#2a3f5f\"},\"error_y\":{\"color\":\"#2a3f5f\"},\"marker\":{\"line\":{\"color\":\"#E5ECF6\",\"width\":0.5},\"pattern\":{\"fillmode\":\"overlay\",\"size\":10,\"solidity\":0.2}},\"type\":\"bar\"}],\"barpolar\":[{\"marker\":{\"line\":{\"color\":\"#E5ECF6\",\"width\":0.5},\"pattern\":{\"fillmode\":\"overlay\",\"size\":10,\"solidity\":0.2}},\"type\":\"barpolar\"}],\"carpet\":[{\"aaxis\":{\"endlinecolor\":\"#2a3f5f\",\"gridcolor\":\"white\",\"linecolor\":\"white\",\"minorgridcolor\":\"white\",\"startlinecolor\":\"#2a3f5f\"},\"baxis\":{\"endlinecolor\":\"#2a3f5f\",\"gridcolor\":\"white\",\"linecolor\":\"white\",\"minorgridcolor\":\"white\",\"startlinecolor\":\"#2a3f5f\"},\"type\":\"carpet\"}],\"choropleth\":[{\"colorbar\":{\"outlinewidth\":0,\"ticks\":\"\"},\"type\":\"choropleth\"}],\"contour\":[{\"colorbar\":{\"outlinewidth\":0,\"ticks\":\"\"},\"colorscale\":[[0.0,\"#0d0887\"],[0.1111111111111111,\"#46039f\"],[0.2222222222222222,\"#7201a8\"],[0.3333333333333333,\"#9c179e\"],[0.4444444444444444,\"#bd3786\"],[0.5555555555555556,\"#d8576b\"],[0.6666666666666666,\"#ed7953\"],[0.7777777777777778,\"#fb9f3a\"],[0.8888888888888888,\"#fdca26\"],[1.0,\"#f0f921\"]],\"type\":\"contour\"}],\"contourcarpet\":[{\"colorbar\":{\"outlinewidth\":0,\"ticks\":\"\"},\"type\":\"contourcarpet\"}],\"heatmap\":[{\"colorbar\":{\"outlinewidth\":0,\"ticks\":\"\"},\"colorscale\":[[0.0,\"#0d0887\"],[0.1111111111111111,\"#46039f\"],[0.2222222222222222,\"#7201a8\"],[0.3333333333333333,\"#9c179e\"],[0.4444444444444444,\"#bd3786\"],[0.5555555555555556,\"#d8576b\"],[0.6666666666666666,\"#ed7953\"],[0.7777777777777778,\"#fb9f3a\"],[0.8888888888888888,\"#fdca26\"],[1.0,\"#f0f921\"]],\"type\":\"heatmap\"}],\"heatmapgl\":[{\"colorbar\":{\"outlinewidth\":0,\"ticks\":\"\"},\"colorscale\":[[0.0,\"#0d0887\"],[0.1111111111111111,\"#46039f\"],[0.2222222222222222,\"#7201a8\"],[0.3333333333333333,\"#9c179e\"],[0.4444444444444444,\"#bd3786\"],[0.5555555555555556,\"#d8576b\"],[0.6666666666666666,\"#ed7953\"],[0.7777777777777778,\"#fb9f3a\"],[0.8888888888888888,\"#fdca26\"],[1.0,\"#f0f921\"]],\"type\":\"heatmapgl\"}],\"histogram\":[{\"marker\":{\"pattern\":{\"fillmode\":\"overlay\",\"size\":10,\"solidity\":0.2}},\"type\":\"histogram\"}],\"histogram2d\":[{\"colorbar\":{\"outlinewidth\":0,\"ticks\":\"\"},\"colorscale\":[[0.0,\"#0d0887\"],[0.1111111111111111,\"#46039f\"],[0.2222222222222222,\"#7201a8\"],[0.3333333333333333,\"#9c179e\"],[0.4444444444444444,\"#bd3786\"],[0.5555555555555556,\"#d8576b\"],[0.6666666666666666,\"#ed7953\"],[0.7777777777777778,\"#fb9f3a\"],[0.8888888888888888,\"#fdca26\"],[1.0,\"#f0f921\"]],\"type\":\"histogram2d\"}],\"histogram2dcontour\":[{\"colorbar\":{\"outlinewidth\":0,\"ticks\":\"\"},\"colorscale\":[[0.0,\"#0d0887\"],[0.1111111111111111,\"#46039f\"],[0.2222222222222222,\"#7201a8\"],[0.3333333333333333,\"#9c179e\"],[0.4444444444444444,\"#bd3786\"],[0.5555555555555556,\"#d8576b\"],[0.6666666666666666,\"#ed7953\"],[0.7777777777777778,\"#fb9f3a\"],[0.8888888888888888,\"#fdca26\"],[1.0,\"#f0f921\"]],\"type\":\"histogram2dcontour\"}],\"mesh3d\":[{\"colorbar\":{\"outlinewidth\":0,\"ticks\":\"\"},\"type\":\"mesh3d\"}],\"parcoords\":[{\"line\":{\"colorbar\":{\"outlinewidth\":0,\"ticks\":\"\"}},\"type\":\"parcoords\"}],\"pie\":[{\"automargin\":true,\"type\":\"pie\"}],\"scatter\":[{\"marker\":{\"colorbar\":{\"outlinewidth\":0,\"ticks\":\"\"}},\"type\":\"scatter\"}],\"scatter3d\":[{\"line\":{\"colorbar\":{\"outlinewidth\":0,\"ticks\":\"\"}},\"marker\":{\"colorbar\":{\"outlinewidth\":0,\"ticks\":\"\"}},\"type\":\"scatter3d\"}],\"scattercarpet\":[{\"marker\":{\"colorbar\":{\"outlinewidth\":0,\"ticks\":\"\"}},\"type\":\"scattercarpet\"}],\"scattergeo\":[{\"marker\":{\"colorbar\":{\"outlinewidth\":0,\"ticks\":\"\"}},\"type\":\"scattergeo\"}],\"scattergl\":[{\"marker\":{\"colorbar\":{\"outlinewidth\":0,\"ticks\":\"\"}},\"type\":\"scattergl\"}],\"scattermapbox\":[{\"marker\":{\"colorbar\":{\"outlinewidth\":0,\"ticks\":\"\"}},\"type\":\"scattermapbox\"}],\"scatterpolar\":[{\"marker\":{\"colorbar\":{\"outlinewidth\":0,\"ticks\":\"\"}},\"type\":\"scatterpolar\"}],\"scatterpolargl\":[{\"marker\":{\"colorbar\":{\"outlinewidth\":0,\"ticks\":\"\"}},\"type\":\"scatterpolargl\"}],\"scatterternary\":[{\"marker\":{\"colorbar\":{\"outlinewidth\":0,\"ticks\":\"\"}},\"type\":\"scatterternary\"}],\"surface\":[{\"colorbar\":{\"outlinewidth\":0,\"ticks\":\"\"},\"colorscale\":[[0.0,\"#0d0887\"],[0.1111111111111111,\"#46039f\"],[0.2222222222222222,\"#7201a8\"],[0.3333333333333333,\"#9c179e\"],[0.4444444444444444,\"#bd3786\"],[0.5555555555555556,\"#d8576b\"],[0.6666666666666666,\"#ed7953\"],[0.7777777777777778,\"#fb9f3a\"],[0.8888888888888888,\"#fdca26\"],[1.0,\"#f0f921\"]],\"type\":\"surface\"}],\"table\":[{\"cells\":{\"fill\":{\"color\":\"#EBF0F8\"},\"line\":{\"color\":\"white\"}},\"header\":{\"fill\":{\"color\":\"#C8D4E3\"},\"line\":{\"color\":\"white\"}},\"type\":\"table\"}]},\"layout\":{\"annotationdefaults\":{\"arrowcolor\":\"#2a3f5f\",\"arrowhead\":0,\"arrowwidth\":1},\"autotypenumbers\":\"strict\",\"coloraxis\":{\"colorbar\":{\"outlinewidth\":0,\"ticks\":\"\"}},\"colorscale\":{\"diverging\":[[0,\"#8e0152\"],[0.1,\"#c51b7d\"],[0.2,\"#de77ae\"],[0.3,\"#f1b6da\"],[0.4,\"#fde0ef\"],[0.5,\"#f7f7f7\"],[0.6,\"#e6f5d0\"],[0.7,\"#b8e186\"],[0.8,\"#7fbc41\"],[0.9,\"#4d9221\"],[1,\"#276419\"]],\"sequential\":[[0.0,\"#0d0887\"],[0.1111111111111111,\"#46039f\"],[0.2222222222222222,\"#7201a8\"],[0.3333333333333333,\"#9c179e\"],[0.4444444444444444,\"#bd3786\"],[0.5555555555555556,\"#d8576b\"],[0.6666666666666666,\"#ed7953\"],[0.7777777777777778,\"#fb9f3a\"],[0.8888888888888888,\"#fdca26\"],[1.0,\"#f0f921\"]],\"sequentialminus\":[[0.0,\"#0d0887\"],[0.1111111111111111,\"#46039f\"],[0.2222222222222222,\"#7201a8\"],[0.3333333333333333,\"#9c179e\"],[0.4444444444444444,\"#bd3786\"],[0.5555555555555556,\"#d8576b\"],[0.6666666666666666,\"#ed7953\"],[0.7777777777777778,\"#fb9f3a\"],[0.8888888888888888,\"#fdca26\"],[1.0,\"#f0f921\"]]},\"colorway\":[\"#636efa\",\"#EF553B\",\"#00cc96\",\"#ab63fa\",\"#FFA15A\",\"#19d3f3\",\"#FF6692\",\"#B6E880\",\"#FF97FF\",\"#FECB52\"],\"font\":{\"color\":\"#2a3f5f\"},\"geo\":{\"bgcolor\":\"white\",\"lakecolor\":\"white\",\"landcolor\":\"#E5ECF6\",\"showlakes\":true,\"showland\":true,\"subunitcolor\":\"white\"},\"hoverlabel\":{\"align\":\"left\"},\"hovermode\":\"closest\",\"mapbox\":{\"style\":\"light\"},\"paper_bgcolor\":\"white\",\"plot_bgcolor\":\"#E5ECF6\",\"polar\":{\"angularaxis\":{\"gridcolor\":\"white\",\"linecolor\":\"white\",\"ticks\":\"\"},\"bgcolor\":\"#E5ECF6\",\"radialaxis\":{\"gridcolor\":\"white\",\"linecolor\":\"white\",\"ticks\":\"\"}},\"scene\":{\"xaxis\":{\"backgroundcolor\":\"#E5ECF6\",\"gridcolor\":\"white\",\"gridwidth\":2,\"linecolor\":\"white\",\"showbackground\":true,\"ticks\":\"\",\"zerolinecolor\":\"white\"},\"yaxis\":{\"backgroundcolor\":\"#E5ECF6\",\"gridcolor\":\"white\",\"gridwidth\":2,\"linecolor\":\"white\",\"showbackground\":true,\"ticks\":\"\",\"zerolinecolor\":\"white\"},\"zaxis\":{\"backgroundcolor\":\"#E5ECF6\",\"gridcolor\":\"white\",\"gridwidth\":2,\"linecolor\":\"white\",\"showbackground\":true,\"ticks\":\"\",\"zerolinecolor\":\"white\"}},\"shapedefaults\":{\"line\":{\"color\":\"#2a3f5f\"}},\"ternary\":{\"aaxis\":{\"gridcolor\":\"white\",\"linecolor\":\"white\",\"ticks\":\"\"},\"baxis\":{\"gridcolor\":\"white\",\"linecolor\":\"white\",\"ticks\":\"\"},\"bgcolor\":\"#E5ECF6\",\"caxis\":{\"gridcolor\":\"white\",\"linecolor\":\"white\",\"ticks\":\"\"}},\"title\":{\"x\":0.05},\"xaxis\":{\"automargin\":true,\"gridcolor\":\"white\",\"linecolor\":\"white\",\"ticks\":\"\",\"title\":{\"standoff\":15},\"zerolinecolor\":\"white\",\"zerolinewidth\":2},\"yaxis\":{\"automargin\":true,\"gridcolor\":\"white\",\"linecolor\":\"white\",\"ticks\":\"\",\"title\":{\"standoff\":15},\"zerolinecolor\":\"white\",\"zerolinewidth\":2}}},\"xaxis\":{\"categoryorder\":\"category ascending\"}},                        {\"responsive\": true}                    ).then(function(){\n",
       "                            \n",
       "var gd = document.getElementById('eb8dd814-8fe5-48b6-a857-b806851989dc');\n",
       "var x = new MutationObserver(function (mutations, observer) {{\n",
       "        var display = window.getComputedStyle(gd).display;\n",
       "        if (!display || display === 'none') {{\n",
       "            console.log([gd, 'removed!']);\n",
       "            Plotly.purge(gd);\n",
       "            observer.disconnect();\n",
       "        }}\n",
       "}});\n",
       "\n",
       "// Listen for the removal of the full notebook cells\n",
       "var notebookContainer = gd.closest('#notebook-container');\n",
       "if (notebookContainer) {{\n",
       "    x.observe(notebookContainer, {childList: true});\n",
       "}}\n",
       "\n",
       "// Listen for the clearing of the current output cell\n",
       "var outputEl = gd.closest('.output');\n",
       "if (outputEl) {{\n",
       "    x.observe(outputEl, {childList: true});\n",
       "}}\n",
       "\n",
       "                        })                };                });            </script>        </div>"
      ]
     },
     "metadata": {},
     "output_type": "display_data"
    }
   ],
   "source": [
    "fig = go.Figure()\n",
    "fig.add_trace(go.Scatter(x=prods['ww'], y=prods['prod'],\n",
    "                        mode='lines+markers', name='Real'))\n",
    "fig.add_trace(go.Scatter(x=prod_val_df['ww'], y=prod_val_df['prod_hat'],\n",
    "                        name='Prediction'))\n",
    "fig.add_trace(go.Scatter(x=prod_val_df['ww'], y=prod_val_df[current-1],\n",
    "                        name='Plan'))\n",
    "fig.update_layout(margin=dict(l=10, r=15, t=15, b=10))\n",
    "fig.update_xaxes(categoryorder='category ascending')\n",
    "fig.show()"
   ]
  },
  {
   "cell_type": "code",
   "execution_count": 107,
   "id": "c49d7940-71ea-40a8-978e-5b40976f2ac2",
   "metadata": {},
   "outputs": [],
   "source": [
    "#\n",
    "#sale_train[['ww', 'sale']+sale_train_x_name]\n",
    "prod_hat = prod_gp.predict(prods[prods_train_x_name])\n",
    "sale_hat = sale_gp.predict(sales[sale_train_x_name])"
   ]
  },
  {
   "cell_type": "code",
   "execution_count": 137,
   "id": "896bcda7-4580-4a9b-91dd-11659482bbb6",
   "metadata": {},
   "outputs": [],
   "source": [
    "prod_df = prods[['ww', 'prod']+prods_train_x_name].copy()\n",
    "prod_df['prod_hat'] = prod_hat\n",
    "prod_df = prod_df[['ww', 'prod', 'prod_hat']]#+prods_train_x_name]\n",
    "\n",
    "sale_df = sales[['ww', 'sale']+sale_train_x_name].copy()\n",
    "sale_df['sale_hat'] = sale_hat\n",
    "sale_df = sale_df[['ww', 'sale', 'sale_hat']]#+sale_train_x_name]\n",
    "prod_df1 = pd.concat([prod_df.iloc[2:,0].reset_index(drop=True), prod_df.iloc[:-2,1:].reset_index(drop=True)], axis=1)\n",
    "inven_df = pd.merge(pd.merge(y_inven, prod_df1, how='inner', on='ww'), sale_df, how='inner', on='ww')\n",
    "inven_train = inven_df.iloc[:inven_df['ww'][inven_df['ww'] == str(current)].index[0],:]\n",
    "inven_valid = inven_df.iloc[inven_df['ww'][inven_df['ww'] == str(current)].index[0]:,:]"
   ]
  },
  {
   "cell_type": "code",
   "execution_count": 146,
   "id": "3710addf-0ee5-4160-8d55-b1ee23de93fc",
   "metadata": {},
   "outputs": [],
   "source": [
    "def h_opt_inven(theta1, g_alpha, k_dot, w_noise, rbf_l, tmp_col):\n",
    "    prev_col = round(tmp_col)\n",
    "    \n",
    "    prev_name = inven_train.columns[3:11].tolist()   \n",
    "    train_x_name = prev_name[:prev_col]+['sale_hat','prod_hat']\n",
    "    kernel =  theta1 * RBF(rbf_l) + WhiteKernel(w_noise)  + DotProduct(k_dot) ## RBF(2) + WhiteKernel(1)  + \n",
    "    gp = GaussianProcessRegressor(kernel=kernel, alpha=g_alpha, n_restarts_optimizer=3)\n",
    "    gp.fit(inven_train[train_x_name], inven_train['inven'])\n",
    "    \n",
    "    train_pred, train_sigma = gp.predict(inven_train[train_x_name], return_std=True)\n",
    "    valid_pred, valid_sigma = gp.predict(inven_valid[train_x_name], return_std=True)\n",
    "    x_pred_ = np.concatenate((train_pred, valid_pred)) \n",
    "    y_ = np.concatenate((inven_train['inven'], inven_valid['inven'])) \n",
    "\n",
    "    real_ = np.mean(np.ones_like(inven_train['inven']) - np.clip(np.abs(inven_train['inven'] - train_pred) / inven_train['inven'] , 0, 1)) * 100     \n",
    "    fcst_ = np.mean(np.ones_like(inven_valid['inven']) - np.clip(np.abs(inven_valid['inven'] - valid_pred) / inven_valid['inven'] , 0, 1)) * 100    \n",
    "    return real_"
   ]
  },
  {
   "cell_type": "code",
   "execution_count": 147,
   "id": "8ca76854-27d7-4b24-b528-38d1d325160f",
   "metadata": {
    "scrolled": true,
    "tags": []
   },
   "outputs": [
    {
     "name": "stdout",
     "output_type": "stream",
     "text": [
      "|   iter    |  target   |  g_alpha  |   k_dot   |   rbf_l   |  theta1   |  tmp_col  |  w_noise  |\n",
      "-------------------------------------------------------------------------------------------------\n",
      "| \u001b[0m 1       \u001b[0m | \u001b[0m 94.28   \u001b[0m | \u001b[0m 0.4129  \u001b[0m | \u001b[0m 72.03   \u001b[0m | \u001b[0m 0.001144\u001b[0m | \u001b[0m 3.023   \u001b[0m | \u001b[0m 2.027   \u001b[0m | \u001b[0m 9.234   \u001b[0m |\n",
      "| \u001b[95m 2       \u001b[0m | \u001b[95m 94.37   \u001b[0m | \u001b[95m 0.1844  \u001b[0m | \u001b[95m 34.56   \u001b[0m | \u001b[95m 3.968   \u001b[0m | \u001b[95m 5.388   \u001b[0m | \u001b[95m 3.934   \u001b[0m | \u001b[95m 68.52   \u001b[0m |\n",
      "| \u001b[0m 3       \u001b[0m | \u001b[0m 94.37   \u001b[0m | \u001b[0m 0.2024  \u001b[0m | \u001b[0m 87.81   \u001b[0m | \u001b[0m 0.2739  \u001b[0m | \u001b[0m 6.705   \u001b[0m | \u001b[0m 3.921   \u001b[0m | \u001b[0m 55.87   \u001b[0m |\n",
      "| \u001b[0m 4       \u001b[0m | \u001b[0m 94.33   \u001b[0m | \u001b[0m 0.139   \u001b[0m | \u001b[0m 19.81   \u001b[0m | \u001b[0m 8.007   \u001b[0m | \u001b[0m 9.683   \u001b[0m | \u001b[0m 3.194   \u001b[0m | \u001b[0m 69.23   \u001b[0m |\n",
      "| \u001b[0m 5       \u001b[0m | \u001b[0m 94.28   \u001b[0m | \u001b[0m 0.8676  \u001b[0m | \u001b[0m 89.46   \u001b[0m | \u001b[0m 0.8504  \u001b[0m | \u001b[0m 0.3905  \u001b[0m | \u001b[0m 2.189   \u001b[0m | \u001b[0m 87.81   \u001b[0m |\n",
      "| \u001b[95m 6       \u001b[0m | \u001b[95m 94.48   \u001b[0m | \u001b[95m 0.09736 \u001b[0m | \u001b[95m 42.11   \u001b[0m | \u001b[95m 9.579   \u001b[0m | \u001b[95m 5.332   \u001b[0m | \u001b[95m 5.843   \u001b[0m | \u001b[95m 31.55   \u001b[0m |\n",
      "| \u001b[95m 7       \u001b[0m | \u001b[95m 94.59   \u001b[0m | \u001b[95m 0.6796  \u001b[0m | \u001b[95m 83.46   \u001b[0m | \u001b[95m 0.1829  \u001b[0m | \u001b[95m 7.501   \u001b[0m | \u001b[95m 7.922   \u001b[0m | \u001b[95m 74.82   \u001b[0m |\n",
      "| \u001b[0m 8       \u001b[0m | \u001b[0m 94.47   \u001b[0m | \u001b[0m 0.2776  \u001b[0m | \u001b[0m 78.93   \u001b[0m | \u001b[0m 1.032   \u001b[0m | \u001b[0m 4.479   \u001b[0m | \u001b[0m 7.36    \u001b[0m | \u001b[0m 29.36   \u001b[0m |\n",
      "| \u001b[0m 9       \u001b[0m | \u001b[0m 94.28   \u001b[0m | \u001b[0m 0.2849  \u001b[0m | \u001b[0m 13.0    \u001b[0m | \u001b[0m 0.1937  \u001b[0m | \u001b[0m 6.788   \u001b[0m | \u001b[0m 2.481   \u001b[0m | \u001b[0m 26.55   \u001b[0m |\n",
      "| \u001b[0m 10      \u001b[0m | \u001b[0m 94.51   \u001b[0m | \u001b[0m 0.4867  \u001b[0m | \u001b[0m 5.336   \u001b[0m | \u001b[0m 5.741   \u001b[0m | \u001b[0m 1.467   \u001b[0m | \u001b[0m 5.125   \u001b[0m | \u001b[0m 69.98   \u001b[0m |\n",
      "| \u001b[0m 11      \u001b[0m | \u001b[0m 93.75   \u001b[0m | \u001b[0m 0.1013  \u001b[0m | \u001b[0m 41.41   \u001b[0m | \u001b[0m 6.944   \u001b[0m | \u001b[0m 4.142   \u001b[0m | \u001b[0m 1.35    \u001b[0m | \u001b[0m 53.59   \u001b[0m |\n",
      "| \u001b[0m 12      \u001b[0m | \u001b[0m 94.47   \u001b[0m | \u001b[0m 0.6572  \u001b[0m | \u001b[0m 51.49   \u001b[0m | \u001b[0m 9.446   \u001b[0m | \u001b[0m 5.866   \u001b[0m | \u001b[0m 7.324   \u001b[0m | \u001b[0m 13.75   \u001b[0m |\n",
      "| \u001b[0m 13      \u001b[0m | \u001b[0m 94.55   \u001b[0m | \u001b[0m 0.1379  \u001b[0m | \u001b[0m 80.74   \u001b[0m | \u001b[0m 3.977   \u001b[0m | \u001b[0m 1.654   \u001b[0m | \u001b[0m 7.493   \u001b[0m | \u001b[0m 34.78   \u001b[0m |\n",
      "| \u001b[0m 14      \u001b[0m | \u001b[0m 94.48   \u001b[0m | \u001b[0m 0.7433  \u001b[0m | \u001b[0m 72.6    \u001b[0m | \u001b[0m 8.833   \u001b[0m | \u001b[0m 6.237   \u001b[0m | \u001b[0m 6.257   \u001b[0m | \u001b[0m 34.89   \u001b[0m |\n",
      "| \u001b[0m 15      \u001b[0m | \u001b[0m 94.48   \u001b[0m | \u001b[0m 0.2672  \u001b[0m | \u001b[0m 89.59   \u001b[0m | \u001b[0m 4.281   \u001b[0m | \u001b[0m 9.648   \u001b[0m | \u001b[0m 5.644   \u001b[0m | \u001b[0m 62.17   \u001b[0m |\n",
      "| \u001b[0m 16      \u001b[0m | \u001b[0m 94.37   \u001b[0m | \u001b[0m 0.1136  \u001b[0m | \u001b[0m 94.95   \u001b[0m | \u001b[0m 4.499   \u001b[0m | \u001b[0m 5.784   \u001b[0m | \u001b[0m 3.857   \u001b[0m | \u001b[0m 23.7    \u001b[0m |\n",
      "| \u001b[0m 17      \u001b[0m | \u001b[0m 94.33   \u001b[0m | \u001b[0m 0.8943  \u001b[0m | \u001b[0m 57.37   \u001b[0m | \u001b[0m 0.0287  \u001b[0m | \u001b[0m 6.171   \u001b[0m | \u001b[0m 3.287   \u001b[0m | \u001b[0m 52.71   \u001b[0m |\n",
      "| \u001b[0m 18      \u001b[0m | \u001b[0m 93.75   \u001b[0m | \u001b[0m 0.8771  \u001b[0m | \u001b[0m 35.73   \u001b[0m | \u001b[0m 9.085   \u001b[0m | \u001b[0m 6.234   \u001b[0m | \u001b[0m 1.111   \u001b[0m | \u001b[0m 92.94   \u001b[0m |\n",
      "| \u001b[0m 19      \u001b[0m | \u001b[0m 94.59   \u001b[0m | \u001b[0m 0.684   \u001b[0m | \u001b[0m 99.73   \u001b[0m | \u001b[0m 1.723   \u001b[0m | \u001b[0m 1.371   \u001b[0m | \u001b[0m 7.528   \u001b[0m | \u001b[0m 69.68   \u001b[0m |\n",
      "| \u001b[0m 20      \u001b[0m | \u001b[0m 94.48   \u001b[0m | \u001b[0m 0.06534 \u001b[0m | \u001b[0m 75.55   \u001b[0m | \u001b[0m 7.539   \u001b[0m | \u001b[0m 9.23    \u001b[0m | \u001b[0m 5.981   \u001b[0m | \u001b[0m 12.43   \u001b[0m |\n",
      "| \u001b[0m 21      \u001b[0m | \u001b[0m 94.47   \u001b[0m | \u001b[0m 0.01968 \u001b[0m | \u001b[0m 2.621   \u001b[0m | \u001b[0m 0.2831  \u001b[0m | \u001b[0m 2.462   \u001b[0m | \u001b[0m 7.02    \u001b[0m | \u001b[0m 53.88   \u001b[0m |\n",
      "| \u001b[0m 22      \u001b[0m | \u001b[0m 94.51   \u001b[0m | \u001b[0m 0.5473  \u001b[0m | \u001b[0m 84.2    \u001b[0m | \u001b[0m 1.242   \u001b[0m | \u001b[0m 2.792   \u001b[0m | \u001b[0m 5.1     \u001b[0m | \u001b[0m 96.96   \u001b[0m |\n",
      "| \u001b[0m 23      \u001b[0m | \u001b[0m 94.55   \u001b[0m | \u001b[0m 0.5554  \u001b[0m | \u001b[0m 1.865   \u001b[0m | \u001b[0m 8.006   \u001b[0m | \u001b[0m 2.33    \u001b[0m | \u001b[0m 6.65    \u001b[0m | \u001b[0m 38.79   \u001b[0m |\n",
      "| \u001b[0m 24      \u001b[0m | \u001b[0m 93.75   \u001b[0m | \u001b[0m 0.8549  \u001b[0m | \u001b[0m 74.71   \u001b[0m | \u001b[0m 5.562   \u001b[0m | \u001b[0m 1.365   \u001b[0m | \u001b[0m 1.419   \u001b[0m | \u001b[0m 12.13   \u001b[0m |\n",
      "| \u001b[0m 25      \u001b[0m | \u001b[0m 94.51   \u001b[0m | \u001b[0m 0.04411 \u001b[0m | \u001b[0m 10.75   \u001b[0m | \u001b[0m 2.257   \u001b[0m | \u001b[0m 7.13    \u001b[0m | \u001b[0m 4.918   \u001b[0m | \u001b[0m 1.256   \u001b[0m |\n",
      "| \u001b[0m 26      \u001b[0m | \u001b[0m 94.33   \u001b[0m | \u001b[0m 0.07125 \u001b[0m | \u001b[0m 96.73   \u001b[0m | \u001b[0m 5.681   \u001b[0m | \u001b[0m 2.033   \u001b[0m | \u001b[0m 2.766   \u001b[0m | \u001b[0m 74.38   \u001b[0m |\n",
      "| \u001b[0m 27      \u001b[0m | \u001b[0m 94.33   \u001b[0m | \u001b[0m 0.1935  \u001b[0m | \u001b[0m 58.14   \u001b[0m | \u001b[0m 9.7     \u001b[0m | \u001b[0m 8.468   \u001b[0m | \u001b[0m 2.679   \u001b[0m | \u001b[0m 49.38   \u001b[0m |\n",
      "| \u001b[0m 28      \u001b[0m | \u001b[0m 93.75   \u001b[0m | \u001b[0m 0.6138  \u001b[0m | \u001b[0m 82.9    \u001b[0m | \u001b[0m 1.568   \u001b[0m | \u001b[0m 0.1858  \u001b[0m | \u001b[0m 1.49    \u001b[0m | \u001b[0m 48.63   \u001b[0m |\n",
      "| \u001b[0m 29      \u001b[0m | \u001b[0m 94.51   \u001b[0m | \u001b[0m 0.6003  \u001b[0m | \u001b[0m 56.89   \u001b[0m | \u001b[0m 3.174   \u001b[0m | \u001b[0m 9.886   \u001b[0m | \u001b[0m 5.058   \u001b[0m | \u001b[0m 38.01   \u001b[0m |\n",
      "| \u001b[0m 30      \u001b[0m | \u001b[0m 93.75   \u001b[0m | \u001b[0m 0.5454  \u001b[0m | \u001b[0m 74.53   \u001b[0m | \u001b[0m 6.692   \u001b[0m | \u001b[0m 2.649   \u001b[0m | \u001b[0m 1.464   \u001b[0m | \u001b[0m 37.01   \u001b[0m |\n",
      "| \u001b[0m 31      \u001b[0m | \u001b[0m 94.47   \u001b[0m | \u001b[0m 0.3925  \u001b[0m | \u001b[0m 72.71   \u001b[0m | \u001b[0m 9.729   \u001b[0m | \u001b[0m 6.374   \u001b[0m | \u001b[0m 6.573   \u001b[0m | \u001b[0m 35.52   \u001b[0m |\n",
      "| \u001b[0m 32      \u001b[0m | \u001b[0m 94.47   \u001b[0m | \u001b[0m 0.5733  \u001b[0m | \u001b[0m 85.42   \u001b[0m | \u001b[0m 1.323   \u001b[0m | \u001b[0m 7.985   \u001b[0m | \u001b[0m 7.295   \u001b[0m | \u001b[0m 71.22   \u001b[0m |\n",
      "| \u001b[0m 33      \u001b[0m | \u001b[0m 94.47   \u001b[0m | \u001b[0m 0.3503  \u001b[0m | \u001b[0m 97.14   \u001b[0m | \u001b[0m 0.8848  \u001b[0m | \u001b[0m 3.026   \u001b[0m | \u001b[0m 6.842   \u001b[0m | \u001b[0m 65.9    \u001b[0m |\n",
      "| \u001b[0m 34      \u001b[0m | \u001b[0m 94.47   \u001b[0m | \u001b[0m 0.1124  \u001b[0m | \u001b[0m 79.26   \u001b[0m | \u001b[0m 2.57    \u001b[0m | \u001b[0m 8.506   \u001b[0m | \u001b[0m 7.054   \u001b[0m | \u001b[0m 73.6    \u001b[0m |\n"
     ]
    },
    {
     "name": "stderr",
     "output_type": "stream",
     "text": [
      "/opt/conda/lib/python3.9/site-packages/sklearn/gaussian_process/kernels.py:271: RuntimeWarning:\n",
      "\n",
      "divide by zero encountered in log\n",
      "\n"
     ]
    },
    {
     "name": "stdout",
     "output_type": "stream",
     "text": [
      "| \u001b[0m 35      \u001b[0m | \u001b[0m 94.59   \u001b[0m | \u001b[0m 0.9455  \u001b[0m | \u001b[0m 82.0    \u001b[0m | \u001b[0m 0.0     \u001b[0m | \u001b[0m 2.366   \u001b[0m | \u001b[0m 8.0     \u001b[0m | \u001b[0m 74.01   \u001b[0m |\n"
     ]
    },
    {
     "name": "stderr",
     "output_type": "stream",
     "text": [
      "/opt/conda/lib/python3.9/site-packages/sklearn/gaussian_process/kernels.py:271: RuntimeWarning:\n",
      "\n",
      "divide by zero encountered in log\n",
      "\n"
     ]
    },
    {
     "name": "stdout",
     "output_type": "stream",
     "text": [
      "| \u001b[0m 36      \u001b[0m | \u001b[0m 94.33   \u001b[0m | \u001b[0m 0.99    \u001b[0m | \u001b[0m 83.02   \u001b[0m | \u001b[0m 0.0     \u001b[0m | \u001b[0m 4.479   \u001b[0m | \u001b[0m 2.927   \u001b[0m | \u001b[0m 76.3    \u001b[0m |\n",
      "| \u001b[0m 37      \u001b[0m | \u001b[0m 94.59   \u001b[0m | \u001b[0m 0.99    \u001b[0m | \u001b[0m 80.18   \u001b[0m | \u001b[0m 0.7876  \u001b[0m | \u001b[0m 2.919   \u001b[0m | \u001b[0m 8.0     \u001b[0m | \u001b[0m 67.96   \u001b[0m |\n",
      "| \u001b[95m 38      \u001b[0m | \u001b[95m 94.59   \u001b[0m | \u001b[95m 0.0     \u001b[0m | \u001b[95m 82.46   \u001b[0m | \u001b[95m 5.613   \u001b[0m | \u001b[95m 1.292   \u001b[0m | \u001b[95m 8.0     \u001b[0m | \u001b[95m 70.86   \u001b[0m |\n"
     ]
    },
    {
     "name": "stderr",
     "output_type": "stream",
     "text": [
      "/opt/conda/lib/python3.9/site-packages/sklearn/gaussian_process/kernels.py:271: RuntimeWarning:\n",
      "\n",
      "divide by zero encountered in log\n",
      "\n"
     ]
    },
    {
     "name": "stdout",
     "output_type": "stream",
     "text": [
      "| \u001b[0m 39      \u001b[0m | \u001b[0m 94.59   \u001b[0m | \u001b[0m 0.99    \u001b[0m | \u001b[0m 76.14   \u001b[0m | \u001b[0m 3.448   \u001b[0m | \u001b[0m 0.0     \u001b[0m | \u001b[0m 8.0     \u001b[0m | \u001b[0m 71.84   \u001b[0m |\n",
      "| \u001b[0m 40      \u001b[0m | \u001b[0m 94.59   \u001b[0m | \u001b[0m 0.99    \u001b[0m | \u001b[0m 71.53   \u001b[0m | \u001b[0m 9.028   \u001b[0m | \u001b[0m 10.0    \u001b[0m | \u001b[0m 8.0     \u001b[0m | \u001b[0m 29.24   \u001b[0m |\n",
      "| \u001b[0m 41      \u001b[0m | \u001b[0m 94.59   \u001b[0m | \u001b[0m 0.99    \u001b[0m | \u001b[0m 65.16   \u001b[0m | \u001b[0m 7.196   \u001b[0m | \u001b[0m 10.0    \u001b[0m | \u001b[0m 8.0     \u001b[0m | \u001b[0m 33.56   \u001b[0m |\n",
      "| \u001b[95m 42      \u001b[0m | \u001b[95m 94.62   \u001b[0m | \u001b[95m 0.99    \u001b[0m | \u001b[95m 65.31   \u001b[0m | \u001b[95m 10.0    \u001b[0m | \u001b[95m 4.258   \u001b[0m | \u001b[95m 8.0     \u001b[0m | \u001b[95m 28.68   \u001b[0m |\n",
      "| \u001b[0m 43      \u001b[0m | \u001b[0m 94.59   \u001b[0m | \u001b[0m 0.7178  \u001b[0m | \u001b[0m 57.15   \u001b[0m | \u001b[0m 8.356   \u001b[0m | \u001b[0m 7.91    \u001b[0m | \u001b[0m 8.0     \u001b[0m | \u001b[0m 28.06   \u001b[0m |\n",
      "| \u001b[0m 44      \u001b[0m | \u001b[0m 94.59   \u001b[0m | \u001b[0m 0.0     \u001b[0m | \u001b[0m 63.94   \u001b[0m | \u001b[0m 2.324   \u001b[0m | \u001b[0m 8.21    \u001b[0m | \u001b[0m 8.0     \u001b[0m | \u001b[0m 25.91   \u001b[0m |\n",
      "| \u001b[0m 45      \u001b[0m | \u001b[0m 94.59   \u001b[0m | \u001b[0m 0.0     \u001b[0m | \u001b[0m 63.6    \u001b[0m | \u001b[0m 10.0    \u001b[0m | \u001b[0m 10.0    \u001b[0m | \u001b[0m 8.0     \u001b[0m | \u001b[0m 21.13   \u001b[0m |\n",
      "| \u001b[0m 46      \u001b[0m | \u001b[0m 93.75   \u001b[0m | \u001b[0m 0.0     \u001b[0m | \u001b[0m 62.14   \u001b[0m | \u001b[0m 10.0    \u001b[0m | \u001b[0m 10.0    \u001b[0m | \u001b[0m 1.0     \u001b[0m | \u001b[0m 27.4    \u001b[0m |\n",
      "| \u001b[0m 47      \u001b[0m | \u001b[0m 94.59   \u001b[0m | \u001b[0m 0.99    \u001b[0m | \u001b[0m 60.68   \u001b[0m | \u001b[0m 3.965   \u001b[0m | \u001b[0m 3.352   \u001b[0m | \u001b[0m 8.0     \u001b[0m | \u001b[0m 31.64   \u001b[0m |\n",
      "| \u001b[0m 48      \u001b[0m | \u001b[0m 94.59   \u001b[0m | \u001b[0m 0.99    \u001b[0m | \u001b[0m 59.75   \u001b[0m | \u001b[0m 6.199   \u001b[0m | \u001b[0m 2.399   \u001b[0m | \u001b[0m 8.0     \u001b[0m | \u001b[0m 22.62   \u001b[0m |\n",
      "| \u001b[0m 49      \u001b[0m | \u001b[0m 94.59   \u001b[0m | \u001b[0m 0.99    \u001b[0m | \u001b[0m 53.23   \u001b[0m | \u001b[0m 1.063   \u001b[0m | \u001b[0m 6.123   \u001b[0m | \u001b[0m 8.0     \u001b[0m | \u001b[0m 26.86   \u001b[0m |\n",
      "| \u001b[0m 50      \u001b[0m | \u001b[0m 94.59   \u001b[0m | \u001b[0m 0.99    \u001b[0m | \u001b[0m 52.31   \u001b[0m | \u001b[0m 8.251   \u001b[0m | \u001b[0m 0.2058  \u001b[0m | \u001b[0m 8.0     \u001b[0m | \u001b[0m 28.9    \u001b[0m |\n",
      "| \u001b[0m 51      \u001b[0m | \u001b[0m 94.59   \u001b[0m | \u001b[0m 0.99    \u001b[0m | \u001b[0m 61.47   \u001b[0m | \u001b[0m 2.417   \u001b[0m | \u001b[0m 10.0    \u001b[0m | \u001b[0m 8.0     \u001b[0m | \u001b[0m 15.71   \u001b[0m |\n",
      "| \u001b[0m 52      \u001b[0m | \u001b[0m 94.59   \u001b[0m | \u001b[0m 0.0     \u001b[0m | \u001b[0m 64.46   \u001b[0m | \u001b[0m 10.0    \u001b[0m | \u001b[0m 10.0    \u001b[0m | \u001b[0m 8.0     \u001b[0m | \u001b[0m 11.08   \u001b[0m |\n"
     ]
    },
    {
     "name": "stderr",
     "output_type": "stream",
     "text": [
      "/opt/conda/lib/python3.9/site-packages/sklearn/gaussian_process/kernels.py:271: RuntimeWarning:\n",
      "\n",
      "divide by zero encountered in log\n",
      "\n"
     ]
    },
    {
     "name": "stdout",
     "output_type": "stream",
     "text": [
      "| \u001b[0m 53      \u001b[0m | \u001b[0m 94.59   \u001b[0m | \u001b[0m 0.0     \u001b[0m | \u001b[0m 64.8    \u001b[0m | \u001b[0m 0.0     \u001b[0m | \u001b[0m 10.0    \u001b[0m | \u001b[0m 8.0     \u001b[0m | \u001b[0m 4.993   \u001b[0m |\n",
      "| \u001b[0m 54      \u001b[0m | \u001b[0m 94.48   \u001b[0m | \u001b[0m 0.7948  \u001b[0m | \u001b[0m 58.55   \u001b[0m | \u001b[0m 8.137   \u001b[0m | \u001b[0m 8.052   \u001b[0m | \u001b[0m 6.399   \u001b[0m | \u001b[0m 0.7362  \u001b[0m |\n"
     ]
    },
    {
     "name": "stderr",
     "output_type": "stream",
     "text": [
      "/opt/conda/lib/python3.9/site-packages/sklearn/gaussian_process/kernels.py:271: RuntimeWarning:\n",
      "\n",
      "divide by zero encountered in log\n",
      "\n"
     ]
    },
    {
     "name": "stdout",
     "output_type": "stream",
     "text": [
      "| \u001b[95m 55      \u001b[0m | \u001b[95m 94.62   \u001b[0m | \u001b[95m 0.0     \u001b[0m | \u001b[95m 57.88   \u001b[0m | \u001b[95m 0.0     \u001b[0m | \u001b[95m 2.193   \u001b[0m | \u001b[95m 8.0     \u001b[0m | \u001b[95m 8.694   \u001b[0m |\n"
     ]
    },
    {
     "name": "stderr",
     "output_type": "stream",
     "text": [
      "/opt/conda/lib/python3.9/site-packages/sklearn/gaussian_process/kernels.py:271: RuntimeWarning:\n",
      "\n",
      "divide by zero encountered in log\n",
      "\n"
     ]
    },
    {
     "name": "stdout",
     "output_type": "stream",
     "text": [
      "| \u001b[0m 56      \u001b[0m | \u001b[0m 94.28   \u001b[0m | \u001b[0m 0.0     \u001b[0m | \u001b[0m 55.94   \u001b[0m | \u001b[0m 0.0     \u001b[0m | \u001b[0m 10.0    \u001b[0m | \u001b[0m 1.626   \u001b[0m | \u001b[0m 7.505   \u001b[0m |\n"
     ]
    },
    {
     "name": "stderr",
     "output_type": "stream",
     "text": [
      "/opt/conda/lib/python3.9/site-packages/sklearn/gaussian_process/kernels.py:271: RuntimeWarning:\n",
      "\n",
      "divide by zero encountered in log\n",
      "\n"
     ]
    },
    {
     "name": "stdout",
     "output_type": "stream",
     "text": [
      "| \u001b[0m 57      \u001b[0m | \u001b[0m 94.59   \u001b[0m | \u001b[0m 0.0     \u001b[0m | \u001b[0m 52.98   \u001b[0m | \u001b[0m 0.0     \u001b[0m | \u001b[0m 0.0     \u001b[0m | \u001b[0m 8.0     \u001b[0m | \u001b[0m 17.47   \u001b[0m |\n"
     ]
    },
    {
     "name": "stderr",
     "output_type": "stream",
     "text": [
      "/opt/conda/lib/python3.9/site-packages/sklearn/gaussian_process/kernels.py:271: RuntimeWarning:\n",
      "\n",
      "divide by zero encountered in log\n",
      "\n"
     ]
    },
    {
     "name": "stdout",
     "output_type": "stream",
     "text": [
      "| \u001b[0m 58      \u001b[0m | \u001b[0m 94.62   \u001b[0m | \u001b[0m 0.99    \u001b[0m | \u001b[0m 43.08   \u001b[0m | \u001b[0m 1.169   \u001b[0m | \u001b[0m 0.0     \u001b[0m | \u001b[0m 8.0     \u001b[0m | \u001b[0m 23.34   \u001b[0m |\n"
     ]
    },
    {
     "name": "stderr",
     "output_type": "stream",
     "text": [
      "/opt/conda/lib/python3.9/site-packages/sklearn/gaussian_process/kernels.py:271: RuntimeWarning:\n",
      "\n",
      "divide by zero encountered in log\n",
      "\n"
     ]
    },
    {
     "name": "stdout",
     "output_type": "stream",
     "text": [
      "| \u001b[0m 59      \u001b[0m | \u001b[0m 94.59   \u001b[0m | \u001b[0m 0.3364  \u001b[0m | \u001b[0m 41.44   \u001b[0m | \u001b[0m 0.0     \u001b[0m | \u001b[0m 0.0     \u001b[0m | \u001b[0m 8.0     \u001b[0m | \u001b[0m 12.85   \u001b[0m |\n"
     ]
    },
    {
     "name": "stderr",
     "output_type": "stream",
     "text": [
      "/opt/conda/lib/python3.9/site-packages/sklearn/gaussian_process/kernels.py:271: RuntimeWarning:\n",
      "\n",
      "divide by zero encountered in log\n",
      "\n"
     ]
    },
    {
     "name": "stdout",
     "output_type": "stream",
     "text": [
      "| \u001b[0m 60      \u001b[0m | \u001b[0m 94.59   \u001b[0m | \u001b[0m 0.99    \u001b[0m | \u001b[0m 38.76   \u001b[0m | \u001b[0m 9.724   \u001b[0m | \u001b[0m 0.0     \u001b[0m | \u001b[0m 8.0     \u001b[0m | \u001b[0m 18.79   \u001b[0m |\n",
      "| \u001b[0m 61      \u001b[0m | \u001b[0m 94.51   \u001b[0m | \u001b[0m 0.3832  \u001b[0m | \u001b[0m 37.57   \u001b[0m | \u001b[0m 1.318   \u001b[0m | \u001b[0m 8.295   \u001b[0m | \u001b[0m 5.422   \u001b[0m | \u001b[0m 20.41   \u001b[0m |\n",
      "| \u001b[0m 62      \u001b[0m | \u001b[0m 94.28   \u001b[0m | \u001b[0m 0.8865  \u001b[0m | \u001b[0m 35.11   \u001b[0m | \u001b[0m 7.878   \u001b[0m | \u001b[0m 0.7138  \u001b[0m | \u001b[0m 1.724   \u001b[0m | \u001b[0m 9.201   \u001b[0m |\n"
     ]
    },
    {
     "name": "stderr",
     "output_type": "stream",
     "text": [
      "/opt/conda/lib/python3.9/site-packages/sklearn/gaussian_process/kernels.py:271: RuntimeWarning:\n",
      "\n",
      "divide by zero encountered in log\n",
      "\n"
     ]
    },
    {
     "name": "stdout",
     "output_type": "stream",
     "text": [
      "| \u001b[0m 63      \u001b[0m | \u001b[0m 93.75   \u001b[0m | \u001b[0m 0.0     \u001b[0m | \u001b[0m 45.4    \u001b[0m | \u001b[0m 5.549   \u001b[0m | \u001b[0m 0.0     \u001b[0m | \u001b[0m 1.0     \u001b[0m | \u001b[0m 21.2    \u001b[0m |\n"
     ]
    },
    {
     "name": "stderr",
     "output_type": "stream",
     "text": [
      "/opt/conda/lib/python3.9/site-packages/sklearn/gaussian_process/kernels.py:271: RuntimeWarning:\n",
      "\n",
      "divide by zero encountered in log\n",
      "\n"
     ]
    },
    {
     "name": "stdout",
     "output_type": "stream",
     "text": [
      "| \u001b[0m 64      \u001b[0m | \u001b[0m 94.59   \u001b[0m | \u001b[0m 0.99    \u001b[0m | \u001b[0m 45.63   \u001b[0m | \u001b[0m 0.0     \u001b[0m | \u001b[0m 1.742   \u001b[0m | \u001b[0m 8.0     \u001b[0m | \u001b[0m 31.54   \u001b[0m |\n"
     ]
    },
    {
     "name": "stderr",
     "output_type": "stream",
     "text": [
      "/opt/conda/lib/python3.9/site-packages/sklearn/gaussian_process/kernels.py:271: RuntimeWarning:\n",
      "\n",
      "divide by zero encountered in log\n",
      "\n"
     ]
    },
    {
     "name": "stdout",
     "output_type": "stream",
     "text": [
      "| \u001b[0m 65      \u001b[0m | \u001b[0m 94.59   \u001b[0m | \u001b[0m 0.99    \u001b[0m | \u001b[0m 34.92   \u001b[0m | \u001b[0m 0.0     \u001b[0m | \u001b[0m 0.0     \u001b[0m | \u001b[0m 8.0     \u001b[0m | \u001b[0m 22.94   \u001b[0m |\n"
     ]
    },
    {
     "name": "stderr",
     "output_type": "stream",
     "text": [
      "/opt/conda/lib/python3.9/site-packages/sklearn/gaussian_process/kernels.py:271: RuntimeWarning:\n",
      "\n",
      "divide by zero encountered in log\n",
      "\n"
     ]
    },
    {
     "name": "stdout",
     "output_type": "stream",
     "text": [
      "| \u001b[0m 66      \u001b[0m | \u001b[0m 94.59   \u001b[0m | \u001b[0m 0.99    \u001b[0m | \u001b[0m 37.65   \u001b[0m | \u001b[0m 0.0     \u001b[0m | \u001b[0m 6.245   \u001b[0m | \u001b[0m 8.0     \u001b[0m | \u001b[0m 29.68   \u001b[0m |\n",
      "| \u001b[0m 67      \u001b[0m | \u001b[0m 94.62   \u001b[0m | \u001b[0m 0.99    \u001b[0m | \u001b[0m 31.86   \u001b[0m | \u001b[0m 9.715   \u001b[0m | \u001b[0m 3.487   \u001b[0m | \u001b[0m 8.0     \u001b[0m | \u001b[0m 24.89   \u001b[0m |\n"
     ]
    },
    {
     "name": "stderr",
     "output_type": "stream",
     "text": [
      "/opt/conda/lib/python3.9/site-packages/sklearn/gaussian_process/kernels.py:271: RuntimeWarning:\n",
      "\n",
      "divide by zero encountered in log\n",
      "\n"
     ]
    },
    {
     "name": "stdout",
     "output_type": "stream",
     "text": [
      "| \u001b[0m 68      \u001b[0m | \u001b[0m 94.59   \u001b[0m | \u001b[0m 0.99    \u001b[0m | \u001b[0m 32.19   \u001b[0m | \u001b[0m 5.522   \u001b[0m | \u001b[0m 0.0     \u001b[0m | \u001b[0m 8.0     \u001b[0m | \u001b[0m 32.84   \u001b[0m |\n"
     ]
    },
    {
     "name": "stderr",
     "output_type": "stream",
     "text": [
      "/opt/conda/lib/python3.9/site-packages/sklearn/gaussian_process/kernels.py:271: RuntimeWarning:\n",
      "\n",
      "divide by zero encountered in log\n",
      "\n"
     ]
    },
    {
     "name": "stdout",
     "output_type": "stream",
     "text": [
      "| \u001b[0m 69      \u001b[0m | \u001b[0m 94.59   \u001b[0m | \u001b[0m 0.99    \u001b[0m | \u001b[0m 48.96   \u001b[0m | \u001b[0m 0.0     \u001b[0m | \u001b[0m 0.0     \u001b[0m | \u001b[0m 8.0     \u001b[0m | \u001b[0m 3.991   \u001b[0m |\n",
      "| \u001b[0m 70      \u001b[0m | \u001b[0m 94.51   \u001b[0m | \u001b[0m 0.8892  \u001b[0m | \u001b[0m 28.87   \u001b[0m | \u001b[0m 8.488   \u001b[0m | \u001b[0m 9.139   \u001b[0m | \u001b[0m 4.55    \u001b[0m | \u001b[0m 33.98   \u001b[0m |\n"
     ]
    },
    {
     "name": "stderr",
     "output_type": "stream",
     "text": [
      "/opt/conda/lib/python3.9/site-packages/sklearn/gaussian_process/kernels.py:271: RuntimeWarning:\n",
      "\n",
      "divide by zero encountered in log\n",
      "\n"
     ]
    },
    {
     "name": "stdout",
     "output_type": "stream",
     "text": [
      "| \u001b[0m 71      \u001b[0m | \u001b[0m 94.59   \u001b[0m | \u001b[0m 0.0     \u001b[0m | \u001b[0m 74.51   \u001b[0m | \u001b[0m 0.0     \u001b[0m | \u001b[0m 10.0    \u001b[0m | \u001b[0m 8.0     \u001b[0m | \u001b[0m 0.0     \u001b[0m |\n"
     ]
    },
    {
     "name": "stderr",
     "output_type": "stream",
     "text": [
      "/opt/conda/lib/python3.9/site-packages/sklearn/gaussian_process/kernels.py:271: RuntimeWarning:\n",
      "\n",
      "divide by zero encountered in log\n",
      "\n"
     ]
    },
    {
     "name": "stdout",
     "output_type": "stream",
     "text": [
      "| \u001b[0m 72      \u001b[0m | \u001b[0m 94.59   \u001b[0m | \u001b[0m 0.0     \u001b[0m | \u001b[0m 71.11   \u001b[0m | \u001b[0m 10.0    \u001b[0m | \u001b[0m 10.0    \u001b[0m | \u001b[0m 8.0     \u001b[0m | \u001b[0m 0.0     \u001b[0m |\n"
     ]
    },
    {
     "name": "stderr",
     "output_type": "stream",
     "text": [
      "/opt/conda/lib/python3.9/site-packages/sklearn/gaussian_process/kernels.py:271: RuntimeWarning:\n",
      "\n",
      "divide by zero encountered in log\n",
      "\n"
     ]
    },
    {
     "name": "stdout",
     "output_type": "stream",
     "text": [
      "| \u001b[0m 73      \u001b[0m | \u001b[0m 94.59   \u001b[0m | \u001b[0m 0.0     \u001b[0m | \u001b[0m 63.92   \u001b[0m | \u001b[0m 0.0     \u001b[0m | \u001b[0m 0.0     \u001b[0m | \u001b[0m 8.0     \u001b[0m | \u001b[0m 0.0     \u001b[0m |\n"
     ]
    },
    {
     "name": "stderr",
     "output_type": "stream",
     "text": [
      "/opt/conda/lib/python3.9/site-packages/sklearn/gaussian_process/kernels.py:271: RuntimeWarning:\n",
      "\n",
      "divide by zero encountered in log\n",
      "\n"
     ]
    },
    {
     "name": "stdout",
     "output_type": "stream",
     "text": [
      "| \u001b[0m 74      \u001b[0m | \u001b[0m 94.59   \u001b[0m | \u001b[0m 0.0     \u001b[0m | \u001b[0m 83.68   \u001b[0m | \u001b[0m 10.0    \u001b[0m | \u001b[0m 10.0    \u001b[0m | \u001b[0m 8.0     \u001b[0m | \u001b[0m 0.0     \u001b[0m |\n"
     ]
    },
    {
     "name": "stderr",
     "output_type": "stream",
     "text": [
      "/opt/conda/lib/python3.9/site-packages/sklearn/gaussian_process/kernels.py:271: RuntimeWarning:\n",
      "\n",
      "divide by zero encountered in log\n",
      "\n"
     ]
    },
    {
     "name": "stdout",
     "output_type": "stream",
     "text": [
      "| \u001b[0m 75      \u001b[0m | \u001b[0m 94.59   \u001b[0m | \u001b[0m 0.0     \u001b[0m | \u001b[0m 89.45   \u001b[0m | \u001b[0m 0.0     \u001b[0m | \u001b[0m 10.0    \u001b[0m | \u001b[0m 8.0     \u001b[0m | \u001b[0m 0.0     \u001b[0m |\n",
      "| \u001b[0m 76      \u001b[0m | \u001b[0m 94.28   \u001b[0m | \u001b[0m 0.9022  \u001b[0m | \u001b[0m 97.4    \u001b[0m | \u001b[0m 7.605   \u001b[0m | \u001b[0m 6.794   \u001b[0m | \u001b[0m 1.697   \u001b[0m | \u001b[0m 0.2648  \u001b[0m |\n"
     ]
    },
    {
     "name": "stderr",
     "output_type": "stream",
     "text": [
      "/opt/conda/lib/python3.9/site-packages/sklearn/gaussian_process/kernels.py:271: RuntimeWarning:\n",
      "\n",
      "divide by zero encountered in log\n",
      "\n"
     ]
    },
    {
     "name": "stdout",
     "output_type": "stream",
     "text": [
      "| \u001b[0m 77      \u001b[0m | \u001b[0m 94.59   \u001b[0m | \u001b[0m 0.99    \u001b[0m | \u001b[0m 13.4    \u001b[0m | \u001b[0m 10.0    \u001b[0m | \u001b[0m 0.0     \u001b[0m | \u001b[0m 8.0     \u001b[0m | \u001b[0m 44.2    \u001b[0m |\n",
      "| \u001b[0m 78      \u001b[0m | \u001b[0m 94.48   \u001b[0m | \u001b[0m 0.303   \u001b[0m | \u001b[0m 7.349   \u001b[0m | \u001b[0m 9.37    \u001b[0m | \u001b[0m 9.256   \u001b[0m | \u001b[0m 5.502   \u001b[0m | \u001b[0m 48.25   \u001b[0m |\n"
     ]
    },
    {
     "name": "stderr",
     "output_type": "stream",
     "text": [
      "/opt/conda/lib/python3.9/site-packages/sklearn/gaussian_process/kernels.py:271: RuntimeWarning:\n",
      "\n",
      "divide by zero encountered in log\n",
      "\n"
     ]
    },
    {
     "name": "stdout",
     "output_type": "stream",
     "text": [
      "| \u001b[0m 79      \u001b[0m | \u001b[0m 94.62   \u001b[0m | \u001b[0m 0.99    \u001b[0m | \u001b[0m 20.91   \u001b[0m | \u001b[0m 1.36    \u001b[0m | \u001b[0m 0.0     \u001b[0m | \u001b[0m 8.0     \u001b[0m | \u001b[0m 41.11   \u001b[0m |\n",
      "| \u001b[0m 80      \u001b[0m | \u001b[0m 93.75   \u001b[0m | \u001b[0m 0.99    \u001b[0m | \u001b[0m 13.73   \u001b[0m | \u001b[0m 0.5065  \u001b[0m | \u001b[0m 0.0     \u001b[0m | \u001b[0m 1.0     \u001b[0m | \u001b[0m 45.16   \u001b[0m |\n",
      "=================================================================================================\n",
      "94.62149263856462\n",
      "Prev col : 8\n"
     ]
    },
    {
     "name": "stderr",
     "output_type": "stream",
     "text": [
      "/opt/conda/lib/python3.9/site-packages/sklearn/gaussian_process/kernels.py:271: RuntimeWarning:\n",
      "\n",
      "divide by zero encountered in log\n",
      "\n",
      "/opt/conda/lib/python3.9/site-packages/sklearn/gaussian_process/kernels.py:271: RuntimeWarning:\n",
      "\n",
      "divide by zero encountered in log\n",
      "\n"
     ]
    },
    {
     "data": {
      "text/plain": [
       "GaussianProcessRegressor(alpha=0.0,\n",
       "                         kernel=1.48**2 * RBF(length_scale=0) + WhiteKernel(noise_level=8.69) + DotProduct(sigma_0=57.9),\n",
       "                         n_restarts_optimizer=3)"
      ]
     },
     "execution_count": 147,
     "metadata": {},
     "output_type": "execute_result"
    }
   ],
   "source": [
    "warnings.filterwarnings(action='ignore', category=UserWarning)\n",
    "param_bound = {'theta1' : (0, 10), 'g_alpha' : (0.0,0.99) , 'k_dot' : (0, 100), 'w_noise' : (0.0, 100), 'rbf_l' : (0, 10), \n",
    "               'tmp_col' : (1,8)}#, 'tmp_var_col' : (1, 12)}\n",
    "\n",
    "product_optimizer = BayesianOptimization(f=h_opt_inven, pbounds=param_bound, verbose=2, random_state=1)\n",
    "product_optimizer.maximize(init_points=30, n_iter=50)\n",
    "print(product_optimizer.max['target'])\n",
    "\n",
    "g_alpha = product_optimizer.max['params']['g_alpha']\n",
    "k_dot   = product_optimizer.max['params']['k_dot']\n",
    "rbf_l   = product_optimizer.max['params']['rbf_l']\n",
    "theta1  = product_optimizer.max['params']['theta1']\n",
    "inven_prev_col = round(product_optimizer.max['params']['tmp_col'])\n",
    "w_noise = product_optimizer.max['params']['w_noise']\n",
    "print(\"Prev col : %d\"%(inven_prev_col))\n",
    "\n",
    "prev_name = inven_train.columns[3:11].tolist()\n",
    "\n",
    "inven_train_x_name = prev_name[:inven_prev_col]+['sale_hat','prod_hat']\n",
    "inven_kernel =  theta1 * RBF(rbf_l) + WhiteKernel(w_noise)  + DotProduct(k_dot) ## RBF(2) + WhiteKernel(1)  + \n",
    "inven_gp = GaussianProcessRegressor(kernel=inven_kernel, alpha=g_alpha, n_restarts_optimizer=3)\n",
    "inven_gp.fit(inven_train[inven_train_x_name], inven_train['inven'])"
   ]
  },
  {
   "cell_type": "code",
   "execution_count": 140,
   "id": "bce59eed-6149-494d-bc9a-bb8cec461aa5",
   "metadata": {},
   "outputs": [
    {
     "data": {
      "text/html": [
       "<div>\n",
       "<style scoped>\n",
       "    .dataframe tbody tr th:only-of-type {\n",
       "        vertical-align: middle;\n",
       "    }\n",
       "\n",
       "    .dataframe tbody tr th {\n",
       "        vertical-align: top;\n",
       "    }\n",
       "\n",
       "    .dataframe thead th {\n",
       "        text-align: right;\n",
       "    }\n",
       "</style>\n",
       "<table border=\"1\" class=\"dataframe\">\n",
       "  <thead>\n",
       "    <tr style=\"text-align: right;\">\n",
       "      <th></th>\n",
       "      <th>ww</th>\n",
       "      <th>date</th>\n",
       "      <th>inven</th>\n",
       "      <th>inven_prev1</th>\n",
       "      <th>inven_prev2</th>\n",
       "      <th>inven_prev3</th>\n",
       "      <th>inven_prev4</th>\n",
       "      <th>inven_prev5</th>\n",
       "      <th>inven_prev6</th>\n",
       "      <th>inven_prev7</th>\n",
       "      <th>inven_prev8</th>\n",
       "      <th>prod</th>\n",
       "      <th>prod_hat</th>\n",
       "      <th>sale</th>\n",
       "      <th>sale_hat</th>\n",
       "    </tr>\n",
       "  </thead>\n",
       "  <tbody>\n",
       "    <tr>\n",
       "      <th>0</th>\n",
       "      <td>202003</td>\n",
       "      <td>2020-01-19</td>\n",
       "      <td>595718</td>\n",
       "      <td>649121</td>\n",
       "      <td>629709</td>\n",
       "      <td>704804</td>\n",
       "      <td>660010</td>\n",
       "      <td>548225</td>\n",
       "      <td>453382</td>\n",
       "      <td>402367</td>\n",
       "      <td>514039</td>\n",
       "      <td>88080</td>\n",
       "      <td>121934.672974</td>\n",
       "      <td>120960</td>\n",
       "      <td>105453.096470</td>\n",
       "    </tr>\n",
       "    <tr>\n",
       "      <th>1</th>\n",
       "      <td>202004</td>\n",
       "      <td>2020-01-26</td>\n",
       "      <td>561899</td>\n",
       "      <td>595718</td>\n",
       "      <td>649121</td>\n",
       "      <td>629709</td>\n",
       "      <td>704804</td>\n",
       "      <td>660010</td>\n",
       "      <td>548225</td>\n",
       "      <td>453382</td>\n",
       "      <td>402367</td>\n",
       "      <td>143332</td>\n",
       "      <td>138017.829590</td>\n",
       "      <td>120960</td>\n",
       "      <td>100781.495768</td>\n",
       "    </tr>\n",
       "    <tr>\n",
       "      <th>2</th>\n",
       "      <td>202005</td>\n",
       "      <td>2020-02-02</td>\n",
       "      <td>592359</td>\n",
       "      <td>561899</td>\n",
       "      <td>595718</td>\n",
       "      <td>649121</td>\n",
       "      <td>629709</td>\n",
       "      <td>704804</td>\n",
       "      <td>660010</td>\n",
       "      <td>548225</td>\n",
       "      <td>453382</td>\n",
       "      <td>126497</td>\n",
       "      <td>135016.323730</td>\n",
       "      <td>105840</td>\n",
       "      <td>104158.882381</td>\n",
       "    </tr>\n",
       "    <tr>\n",
       "      <th>3</th>\n",
       "      <td>202006</td>\n",
       "      <td>2020-02-09</td>\n",
       "      <td>626276</td>\n",
       "      <td>592359</td>\n",
       "      <td>561899</td>\n",
       "      <td>595718</td>\n",
       "      <td>649121</td>\n",
       "      <td>629709</td>\n",
       "      <td>704804</td>\n",
       "      <td>660010</td>\n",
       "      <td>548225</td>\n",
       "      <td>46482</td>\n",
       "      <td>89726.730591</td>\n",
       "      <td>74844</td>\n",
       "      <td>96647.803537</td>\n",
       "    </tr>\n",
       "    <tr>\n",
       "      <th>4</th>\n",
       "      <td>202008</td>\n",
       "      <td>2020-02-23</td>\n",
       "      <td>433067</td>\n",
       "      <td>537030</td>\n",
       "      <td>626276</td>\n",
       "      <td>592359</td>\n",
       "      <td>561899</td>\n",
       "      <td>595718</td>\n",
       "      <td>649121</td>\n",
       "      <td>629709</td>\n",
       "      <td>704804</td>\n",
       "      <td>192274</td>\n",
       "      <td>180725.455200</td>\n",
       "      <td>150594</td>\n",
       "      <td>119317.008476</td>\n",
       "    </tr>\n",
       "    <tr>\n",
       "      <th>5</th>\n",
       "      <td>202010</td>\n",
       "      <td>2020-03-08</td>\n",
       "      <td>390616</td>\n",
       "      <td>232891</td>\n",
       "      <td>433067</td>\n",
       "      <td>537030</td>\n",
       "      <td>626276</td>\n",
       "      <td>592359</td>\n",
       "      <td>561899</td>\n",
       "      <td>595718</td>\n",
       "      <td>649121</td>\n",
       "      <td>101129</td>\n",
       "      <td>104889.742737</td>\n",
       "      <td>119826</td>\n",
       "      <td>114612.941345</td>\n",
       "    </tr>\n",
       "    <tr>\n",
       "      <th>6</th>\n",
       "      <td>202011</td>\n",
       "      <td>2020-03-15</td>\n",
       "      <td>521018</td>\n",
       "      <td>390616</td>\n",
       "      <td>232891</td>\n",
       "      <td>433067</td>\n",
       "      <td>537030</td>\n",
       "      <td>626276</td>\n",
       "      <td>592359</td>\n",
       "      <td>561899</td>\n",
       "      <td>595718</td>\n",
       "      <td>0</td>\n",
       "      <td>4523.363205</td>\n",
       "      <td>77112</td>\n",
       "      <td>96311.491280</td>\n",
       "    </tr>\n",
       "    <tr>\n",
       "      <th>7</th>\n",
       "      <td>202012</td>\n",
       "      <td>2020-03-22</td>\n",
       "      <td>593509</td>\n",
       "      <td>521018</td>\n",
       "      <td>390616</td>\n",
       "      <td>232891</td>\n",
       "      <td>433067</td>\n",
       "      <td>537030</td>\n",
       "      <td>626276</td>\n",
       "      <td>592359</td>\n",
       "      <td>561899</td>\n",
       "      <td>193220</td>\n",
       "      <td>154517.741211</td>\n",
       "      <td>107730</td>\n",
       "      <td>110702.108746</td>\n",
       "    </tr>\n",
       "    <tr>\n",
       "      <th>8</th>\n",
       "      <td>202013</td>\n",
       "      <td>2020-03-29</td>\n",
       "      <td>693780</td>\n",
       "      <td>593509</td>\n",
       "      <td>521018</td>\n",
       "      <td>390616</td>\n",
       "      <td>232891</td>\n",
       "      <td>433067</td>\n",
       "      <td>537030</td>\n",
       "      <td>626276</td>\n",
       "      <td>592359</td>\n",
       "      <td>185859</td>\n",
       "      <td>211552.950928</td>\n",
       "      <td>115975</td>\n",
       "      <td>131925.259319</td>\n",
       "    </tr>\n",
       "    <tr>\n",
       "      <th>9</th>\n",
       "      <td>202014</td>\n",
       "      <td>2020-04-05</td>\n",
       "      <td>875869</td>\n",
       "      <td>693780</td>\n",
       "      <td>593509</td>\n",
       "      <td>521018</td>\n",
       "      <td>390616</td>\n",
       "      <td>232891</td>\n",
       "      <td>433067</td>\n",
       "      <td>537030</td>\n",
       "      <td>626276</td>\n",
       "      <td>225203</td>\n",
       "      <td>225977.226440</td>\n",
       "      <td>70686</td>\n",
       "      <td>65779.693649</td>\n",
       "    </tr>\n",
       "    <tr>\n",
       "      <th>10</th>\n",
       "      <td>202016</td>\n",
       "      <td>2020-04-19</td>\n",
       "      <td>841502</td>\n",
       "      <td>828364</td>\n",
       "      <td>875869</td>\n",
       "      <td>693780</td>\n",
       "      <td>593509</td>\n",
       "      <td>521018</td>\n",
       "      <td>390616</td>\n",
       "      <td>232891</td>\n",
       "      <td>433067</td>\n",
       "      <td>203704</td>\n",
       "      <td>219858.189819</td>\n",
       "      <td>90720</td>\n",
       "      <td>86014.210930</td>\n",
       "    </tr>\n",
       "    <tr>\n",
       "      <th>11</th>\n",
       "      <td>202017</td>\n",
       "      <td>2020-04-26</td>\n",
       "      <td>850568</td>\n",
       "      <td>841502</td>\n",
       "      <td>828364</td>\n",
       "      <td>875869</td>\n",
       "      <td>693780</td>\n",
       "      <td>593509</td>\n",
       "      <td>521018</td>\n",
       "      <td>390616</td>\n",
       "      <td>232891</td>\n",
       "      <td>101653</td>\n",
       "      <td>110370.157104</td>\n",
       "      <td>117180</td>\n",
       "      <td>102717.859936</td>\n",
       "    </tr>\n",
       "    <tr>\n",
       "      <th>12</th>\n",
       "      <td>202018</td>\n",
       "      <td>2020-05-03</td>\n",
       "      <td>679967</td>\n",
       "      <td>850568</td>\n",
       "      <td>841502</td>\n",
       "      <td>828364</td>\n",
       "      <td>875869</td>\n",
       "      <td>693780</td>\n",
       "      <td>593509</td>\n",
       "      <td>521018</td>\n",
       "      <td>390616</td>\n",
       "      <td>124422</td>\n",
       "      <td>101122.873169</td>\n",
       "      <td>57456</td>\n",
       "      <td>64562.623220</td>\n",
       "    </tr>\n",
       "    <tr>\n",
       "      <th>13</th>\n",
       "      <td>202019</td>\n",
       "      <td>2020-05-10</td>\n",
       "      <td>531332</td>\n",
       "      <td>679967</td>\n",
       "      <td>850568</td>\n",
       "      <td>841502</td>\n",
       "      <td>828364</td>\n",
       "      <td>875869</td>\n",
       "      <td>693780</td>\n",
       "      <td>593509</td>\n",
       "      <td>521018</td>\n",
       "      <td>106349</td>\n",
       "      <td>96701.054565</td>\n",
       "      <td>146219</td>\n",
       "      <td>87391.661301</td>\n",
       "    </tr>\n",
       "    <tr>\n",
       "      <th>14</th>\n",
       "      <td>202021</td>\n",
       "      <td>2020-05-24</td>\n",
       "      <td>436128</td>\n",
       "      <td>461138</td>\n",
       "      <td>531332</td>\n",
       "      <td>679967</td>\n",
       "      <td>850568</td>\n",
       "      <td>841502</td>\n",
       "      <td>828364</td>\n",
       "      <td>875869</td>\n",
       "      <td>693780</td>\n",
       "      <td>91138</td>\n",
       "      <td>83523.609497</td>\n",
       "      <td>105324</td>\n",
       "      <td>112954.238380</td>\n",
       "    </tr>\n",
       "    <tr>\n",
       "      <th>15</th>\n",
       "      <td>202022</td>\n",
       "      <td>2020-05-31</td>\n",
       "      <td>355171</td>\n",
       "      <td>436128</td>\n",
       "      <td>461138</td>\n",
       "      <td>531332</td>\n",
       "      <td>679967</td>\n",
       "      <td>850568</td>\n",
       "      <td>841502</td>\n",
       "      <td>828364</td>\n",
       "      <td>875869</td>\n",
       "      <td>17658</td>\n",
       "      <td>48094.914429</td>\n",
       "      <td>332262</td>\n",
       "      <td>282279.513704</td>\n",
       "    </tr>\n",
       "    <tr>\n",
       "      <th>16</th>\n",
       "      <td>202023</td>\n",
       "      <td>2020-06-07</td>\n",
       "      <td>569349</td>\n",
       "      <td>355171</td>\n",
       "      <td>436128</td>\n",
       "      <td>461138</td>\n",
       "      <td>531332</td>\n",
       "      <td>679967</td>\n",
       "      <td>850568</td>\n",
       "      <td>841502</td>\n",
       "      <td>828364</td>\n",
       "      <td>0</td>\n",
       "      <td>-13698.423889</td>\n",
       "      <td>30240</td>\n",
       "      <td>35587.735920</td>\n",
       "    </tr>\n",
       "    <tr>\n",
       "      <th>17</th>\n",
       "      <td>202024</td>\n",
       "      <td>2020-06-14</td>\n",
       "      <td>600039</td>\n",
       "      <td>569349</td>\n",
       "      <td>355171</td>\n",
       "      <td>436128</td>\n",
       "      <td>461138</td>\n",
       "      <td>531332</td>\n",
       "      <td>679967</td>\n",
       "      <td>850568</td>\n",
       "      <td>841502</td>\n",
       "      <td>117587</td>\n",
       "      <td>119909.255249</td>\n",
       "      <td>90339</td>\n",
       "      <td>105029.807858</td>\n",
       "    </tr>\n",
       "    <tr>\n",
       "      <th>18</th>\n",
       "      <td>202025</td>\n",
       "      <td>2020-06-21</td>\n",
       "      <td>670966</td>\n",
       "      <td>600039</td>\n",
       "      <td>569349</td>\n",
       "      <td>355171</td>\n",
       "      <td>436128</td>\n",
       "      <td>461138</td>\n",
       "      <td>531332</td>\n",
       "      <td>679967</td>\n",
       "      <td>850568</td>\n",
       "      <td>209914</td>\n",
       "      <td>195392.945618</td>\n",
       "      <td>211674</td>\n",
       "      <td>187905.064987</td>\n",
       "    </tr>\n",
       "    <tr>\n",
       "      <th>19</th>\n",
       "      <td>202026</td>\n",
       "      <td>2020-06-28</td>\n",
       "      <td>769202</td>\n",
       "      <td>670966</td>\n",
       "      <td>600039</td>\n",
       "      <td>569349</td>\n",
       "      <td>355171</td>\n",
       "      <td>436128</td>\n",
       "      <td>461138</td>\n",
       "      <td>531332</td>\n",
       "      <td>679967</td>\n",
       "      <td>216149</td>\n",
       "      <td>202517.323425</td>\n",
       "      <td>136080</td>\n",
       "      <td>149071.454620</td>\n",
       "    </tr>\n",
       "    <tr>\n",
       "      <th>20</th>\n",
       "      <td>202027</td>\n",
       "      <td>2020-07-05</td>\n",
       "      <td>846436</td>\n",
       "      <td>769202</td>\n",
       "      <td>670966</td>\n",
       "      <td>600039</td>\n",
       "      <td>569349</td>\n",
       "      <td>355171</td>\n",
       "      <td>436128</td>\n",
       "      <td>461138</td>\n",
       "      <td>531332</td>\n",
       "      <td>242020</td>\n",
       "      <td>252840.235535</td>\n",
       "      <td>181440</td>\n",
       "      <td>199412.799473</td>\n",
       "    </tr>\n",
       "    <tr>\n",
       "      <th>21</th>\n",
       "      <td>202028</td>\n",
       "      <td>2020-07-12</td>\n",
       "      <td>945581</td>\n",
       "      <td>846436</td>\n",
       "      <td>769202</td>\n",
       "      <td>670966</td>\n",
       "      <td>600039</td>\n",
       "      <td>569349</td>\n",
       "      <td>355171</td>\n",
       "      <td>436128</td>\n",
       "      <td>461138</td>\n",
       "      <td>284555</td>\n",
       "      <td>257333.367615</td>\n",
       "      <td>0</td>\n",
       "      <td>87367.381107</td>\n",
       "    </tr>\n",
       "    <tr>\n",
       "      <th>22</th>\n",
       "      <td>202029</td>\n",
       "      <td>2020-07-19</td>\n",
       "      <td>1088992</td>\n",
       "      <td>945581</td>\n",
       "      <td>846436</td>\n",
       "      <td>769202</td>\n",
       "      <td>670966</td>\n",
       "      <td>600039</td>\n",
       "      <td>569349</td>\n",
       "      <td>355171</td>\n",
       "      <td>436128</td>\n",
       "      <td>276887</td>\n",
       "      <td>279614.499451</td>\n",
       "      <td>257040</td>\n",
       "      <td>268543.199581</td>\n",
       "    </tr>\n",
       "    <tr>\n",
       "      <th>23</th>\n",
       "      <td>202030</td>\n",
       "      <td>2020-07-26</td>\n",
       "      <td>1008402</td>\n",
       "      <td>1088992</td>\n",
       "      <td>945581</td>\n",
       "      <td>846436</td>\n",
       "      <td>769202</td>\n",
       "      <td>670966</td>\n",
       "      <td>600039</td>\n",
       "      <td>569349</td>\n",
       "      <td>355171</td>\n",
       "      <td>367347</td>\n",
       "      <td>356162.372925</td>\n",
       "      <td>241481</td>\n",
       "      <td>268152.319973</td>\n",
       "    </tr>\n",
       "    <tr>\n",
       "      <th>24</th>\n",
       "      <td>202031</td>\n",
       "      <td>2020-08-02</td>\n",
       "      <td>840283</td>\n",
       "      <td>1008402</td>\n",
       "      <td>1088992</td>\n",
       "      <td>945581</td>\n",
       "      <td>846436</td>\n",
       "      <td>769202</td>\n",
       "      <td>670966</td>\n",
       "      <td>600039</td>\n",
       "      <td>569349</td>\n",
       "      <td>291009</td>\n",
       "      <td>335769.576172</td>\n",
       "      <td>90720</td>\n",
       "      <td>174754.737434</td>\n",
       "    </tr>\n",
       "    <tr>\n",
       "      <th>25</th>\n",
       "      <td>202032</td>\n",
       "      <td>2020-08-09</td>\n",
       "      <td>702949</td>\n",
       "      <td>840283</td>\n",
       "      <td>1008402</td>\n",
       "      <td>1088992</td>\n",
       "      <td>945581</td>\n",
       "      <td>846436</td>\n",
       "      <td>769202</td>\n",
       "      <td>670966</td>\n",
       "      <td>600039</td>\n",
       "      <td>286525</td>\n",
       "      <td>284596.789917</td>\n",
       "      <td>241920</td>\n",
       "      <td>265514.864571</td>\n",
       "    </tr>\n",
       "    <tr>\n",
       "      <th>26</th>\n",
       "      <td>202033</td>\n",
       "      <td>2020-08-16</td>\n",
       "      <td>776196</td>\n",
       "      <td>702949</td>\n",
       "      <td>840283</td>\n",
       "      <td>1008402</td>\n",
       "      <td>1088992</td>\n",
       "      <td>945581</td>\n",
       "      <td>846436</td>\n",
       "      <td>769202</td>\n",
       "      <td>670966</td>\n",
       "      <td>148328</td>\n",
       "      <td>176216.927368</td>\n",
       "      <td>226800</td>\n",
       "      <td>234684.435158</td>\n",
       "    </tr>\n",
       "    <tr>\n",
       "      <th>27</th>\n",
       "      <td>202034</td>\n",
       "      <td>2020-08-23</td>\n",
       "      <td>843641</td>\n",
       "      <td>776196</td>\n",
       "      <td>702949</td>\n",
       "      <td>840283</td>\n",
       "      <td>1008402</td>\n",
       "      <td>1088992</td>\n",
       "      <td>945581</td>\n",
       "      <td>846436</td>\n",
       "      <td>769202</td>\n",
       "      <td>95149</td>\n",
       "      <td>130318.381958</td>\n",
       "      <td>161406</td>\n",
       "      <td>199616.157646</td>\n",
       "    </tr>\n",
       "    <tr>\n",
       "      <th>28</th>\n",
       "      <td>202035</td>\n",
       "      <td>2020-08-30</td>\n",
       "      <td>969377</td>\n",
       "      <td>843641</td>\n",
       "      <td>776196</td>\n",
       "      <td>702949</td>\n",
       "      <td>840283</td>\n",
       "      <td>1008402</td>\n",
       "      <td>1088992</td>\n",
       "      <td>945581</td>\n",
       "      <td>846436</td>\n",
       "      <td>150111</td>\n",
       "      <td>159284.252075</td>\n",
       "      <td>166320</td>\n",
       "      <td>157645.905704</td>\n",
       "    </tr>\n",
       "    <tr>\n",
       "      <th>29</th>\n",
       "      <td>202036</td>\n",
       "      <td>2020-09-06</td>\n",
       "      <td>921796</td>\n",
       "      <td>969377</td>\n",
       "      <td>843641</td>\n",
       "      <td>776196</td>\n",
       "      <td>702949</td>\n",
       "      <td>840283</td>\n",
       "      <td>1008402</td>\n",
       "      <td>1088992</td>\n",
       "      <td>945581</td>\n",
       "      <td>162776</td>\n",
       "      <td>144959.376587</td>\n",
       "      <td>136080</td>\n",
       "      <td>171195.931557</td>\n",
       "    </tr>\n",
       "    <tr>\n",
       "      <th>30</th>\n",
       "      <td>202037</td>\n",
       "      <td>2020-09-13</td>\n",
       "      <td>815885</td>\n",
       "      <td>921796</td>\n",
       "      <td>969377</td>\n",
       "      <td>843641</td>\n",
       "      <td>776196</td>\n",
       "      <td>702949</td>\n",
       "      <td>840283</td>\n",
       "      <td>1008402</td>\n",
       "      <td>1088992</td>\n",
       "      <td>181416</td>\n",
       "      <td>187373.032471</td>\n",
       "      <td>241920</td>\n",
       "      <td>239886.552303</td>\n",
       "    </tr>\n",
       "    <tr>\n",
       "      <th>31</th>\n",
       "      <td>202038</td>\n",
       "      <td>2020-09-20</td>\n",
       "      <td>799789</td>\n",
       "      <td>815885</td>\n",
       "      <td>921796</td>\n",
       "      <td>969377</td>\n",
       "      <td>843641</td>\n",
       "      <td>776196</td>\n",
       "      <td>702949</td>\n",
       "      <td>840283</td>\n",
       "      <td>1008402</td>\n",
       "      <td>164771</td>\n",
       "      <td>178842.872559</td>\n",
       "      <td>211680</td>\n",
       "      <td>209430.163853</td>\n",
       "    </tr>\n",
       "    <tr>\n",
       "      <th>32</th>\n",
       "      <td>202039</td>\n",
       "      <td>2020-09-27</td>\n",
       "      <td>783857</td>\n",
       "      <td>799789</td>\n",
       "      <td>815885</td>\n",
       "      <td>921796</td>\n",
       "      <td>969377</td>\n",
       "      <td>843641</td>\n",
       "      <td>776196</td>\n",
       "      <td>702949</td>\n",
       "      <td>840283</td>\n",
       "      <td>153757</td>\n",
       "      <td>161004.645020</td>\n",
       "      <td>226796</td>\n",
       "      <td>226710.225277</td>\n",
       "    </tr>\n",
       "    <tr>\n",
       "      <th>33</th>\n",
       "      <td>202040</td>\n",
       "      <td>2020-10-04</td>\n",
       "      <td>599409</td>\n",
       "      <td>783857</td>\n",
       "      <td>799789</td>\n",
       "      <td>815885</td>\n",
       "      <td>921796</td>\n",
       "      <td>969377</td>\n",
       "      <td>843641</td>\n",
       "      <td>776196</td>\n",
       "      <td>702949</td>\n",
       "      <td>183422</td>\n",
       "      <td>181063.476807</td>\n",
       "      <td>211676</td>\n",
       "      <td>232841.453156</td>\n",
       "    </tr>\n",
       "    <tr>\n",
       "      <th>34</th>\n",
       "      <td>202041</td>\n",
       "      <td>2020-10-11</td>\n",
       "      <td>475433</td>\n",
       "      <td>599409</td>\n",
       "      <td>783857</td>\n",
       "      <td>799789</td>\n",
       "      <td>815885</td>\n",
       "      <td>921796</td>\n",
       "      <td>969377</td>\n",
       "      <td>843641</td>\n",
       "      <td>776196</td>\n",
       "      <td>174340</td>\n",
       "      <td>179004.097290</td>\n",
       "      <td>287280</td>\n",
       "      <td>250115.414745</td>\n",
       "    </tr>\n",
       "    <tr>\n",
       "      <th>35</th>\n",
       "      <td>202042</td>\n",
       "      <td>2020-10-18</td>\n",
       "      <td>646295</td>\n",
       "      <td>475433</td>\n",
       "      <td>599409</td>\n",
       "      <td>783857</td>\n",
       "      <td>799789</td>\n",
       "      <td>815885</td>\n",
       "      <td>921796</td>\n",
       "      <td>969377</td>\n",
       "      <td>843641</td>\n",
       "      <td>75216</td>\n",
       "      <td>100963.905151</td>\n",
       "      <td>272160</td>\n",
       "      <td>279402.963573</td>\n",
       "    </tr>\n",
       "    <tr>\n",
       "      <th>36</th>\n",
       "      <td>202043</td>\n",
       "      <td>2020-10-25</td>\n",
       "      <td>779657</td>\n",
       "      <td>646295</td>\n",
       "      <td>475433</td>\n",
       "      <td>599409</td>\n",
       "      <td>783857</td>\n",
       "      <td>799789</td>\n",
       "      <td>815885</td>\n",
       "      <td>921796</td>\n",
       "      <td>969377</td>\n",
       "      <td>165344</td>\n",
       "      <td>156049.516479</td>\n",
       "      <td>166314</td>\n",
       "      <td>197506.521564</td>\n",
       "    </tr>\n",
       "    <tr>\n",
       "      <th>37</th>\n",
       "      <td>202044</td>\n",
       "      <td>2020-11-01</td>\n",
       "      <td>688083</td>\n",
       "      <td>779657</td>\n",
       "      <td>646295</td>\n",
       "      <td>475433</td>\n",
       "      <td>599409</td>\n",
       "      <td>783857</td>\n",
       "      <td>799789</td>\n",
       "      <td>815885</td>\n",
       "      <td>921796</td>\n",
       "      <td>304244</td>\n",
       "      <td>292543.743164</td>\n",
       "      <td>289170</td>\n",
       "      <td>279877.690495</td>\n",
       "    </tr>\n",
       "    <tr>\n",
       "      <th>38</th>\n",
       "      <td>202045</td>\n",
       "      <td>2020-11-08</td>\n",
       "      <td>646901</td>\n",
       "      <td>688083</td>\n",
       "      <td>779657</td>\n",
       "      <td>646295</td>\n",
       "      <td>475433</td>\n",
       "      <td>599409</td>\n",
       "      <td>783857</td>\n",
       "      <td>799789</td>\n",
       "      <td>815885</td>\n",
       "      <td>274991</td>\n",
       "      <td>270670.287109</td>\n",
       "      <td>332640</td>\n",
       "      <td>298464.200565</td>\n",
       "    </tr>\n",
       "    <tr>\n",
       "      <th>39</th>\n",
       "      <td>202046</td>\n",
       "      <td>2020-11-15</td>\n",
       "      <td>678227</td>\n",
       "      <td>646901</td>\n",
       "      <td>688083</td>\n",
       "      <td>779657</td>\n",
       "      <td>646295</td>\n",
       "      <td>475433</td>\n",
       "      <td>599409</td>\n",
       "      <td>783857</td>\n",
       "      <td>799789</td>\n",
       "      <td>250402</td>\n",
       "      <td>264787.717529</td>\n",
       "      <td>241920</td>\n",
       "      <td>244300.297695</td>\n",
       "    </tr>\n",
       "    <tr>\n",
       "      <th>40</th>\n",
       "      <td>202047</td>\n",
       "      <td>2020-11-22</td>\n",
       "      <td>827122</td>\n",
       "      <td>678227</td>\n",
       "      <td>646901</td>\n",
       "      <td>688083</td>\n",
       "      <td>779657</td>\n",
       "      <td>646295</td>\n",
       "      <td>475433</td>\n",
       "      <td>599409</td>\n",
       "      <td>783857</td>\n",
       "      <td>269441</td>\n",
       "      <td>260793.838867</td>\n",
       "      <td>362880</td>\n",
       "      <td>301653.435696</td>\n",
       "    </tr>\n",
       "    <tr>\n",
       "      <th>41</th>\n",
       "      <td>202048</td>\n",
       "      <td>2020-11-29</td>\n",
       "      <td>789573</td>\n",
       "      <td>827122</td>\n",
       "      <td>678227</td>\n",
       "      <td>646901</td>\n",
       "      <td>688083</td>\n",
       "      <td>779657</td>\n",
       "      <td>646295</td>\n",
       "      <td>475433</td>\n",
       "      <td>599409</td>\n",
       "      <td>286515</td>\n",
       "      <td>250265.995605</td>\n",
       "      <td>332368</td>\n",
       "      <td>301827.138855</td>\n",
       "    </tr>\n",
       "    <tr>\n",
       "      <th>42</th>\n",
       "      <td>202049</td>\n",
       "      <td>2020-12-06</td>\n",
       "      <td>642683</td>\n",
       "      <td>789573</td>\n",
       "      <td>827122</td>\n",
       "      <td>678227</td>\n",
       "      <td>646901</td>\n",
       "      <td>688083</td>\n",
       "      <td>779657</td>\n",
       "      <td>646295</td>\n",
       "      <td>475433</td>\n",
       "      <td>457297</td>\n",
       "      <td>435594.661865</td>\n",
       "      <td>483840</td>\n",
       "      <td>453877.591537</td>\n",
       "    </tr>\n",
       "    <tr>\n",
       "      <th>43</th>\n",
       "      <td>202050</td>\n",
       "      <td>2020-12-13</td>\n",
       "      <td>553609</td>\n",
       "      <td>642683</td>\n",
       "      <td>789573</td>\n",
       "      <td>827122</td>\n",
       "      <td>678227</td>\n",
       "      <td>646901</td>\n",
       "      <td>688083</td>\n",
       "      <td>779657</td>\n",
       "      <td>646295</td>\n",
       "      <td>253223</td>\n",
       "      <td>237702.775513</td>\n",
       "      <td>316008</td>\n",
       "      <td>325272.353020</td>\n",
       "    </tr>\n",
       "    <tr>\n",
       "      <th>44</th>\n",
       "      <td>202051</td>\n",
       "      <td>2020-12-20</td>\n",
       "      <td>429176</td>\n",
       "      <td>553609</td>\n",
       "      <td>642683</td>\n",
       "      <td>789573</td>\n",
       "      <td>827122</td>\n",
       "      <td>678227</td>\n",
       "      <td>646901</td>\n",
       "      <td>688083</td>\n",
       "      <td>779657</td>\n",
       "      <td>202715</td>\n",
       "      <td>186636.291382</td>\n",
       "      <td>279158</td>\n",
       "      <td>231594.200058</td>\n",
       "    </tr>\n",
       "    <tr>\n",
       "      <th>45</th>\n",
       "      <td>202053</td>\n",
       "      <td>2021-01-03</td>\n",
       "      <td>422602</td>\n",
       "      <td>430909</td>\n",
       "      <td>429176</td>\n",
       "      <td>553609</td>\n",
       "      <td>642683</td>\n",
       "      <td>789573</td>\n",
       "      <td>827122</td>\n",
       "      <td>678227</td>\n",
       "      <td>646901</td>\n",
       "      <td>222969</td>\n",
       "      <td>208695.331665</td>\n",
       "      <td>0</td>\n",
       "      <td>-4113.780697</td>\n",
       "    </tr>\n",
       "    <tr>\n",
       "      <th>46</th>\n",
       "      <td>202101</td>\n",
       "      <td>2021-01-10</td>\n",
       "      <td>515639</td>\n",
       "      <td>422602</td>\n",
       "      <td>430909</td>\n",
       "      <td>429176</td>\n",
       "      <td>553609</td>\n",
       "      <td>642683</td>\n",
       "      <td>789573</td>\n",
       "      <td>827122</td>\n",
       "      <td>678227</td>\n",
       "      <td>68394</td>\n",
       "      <td>102916.122803</td>\n",
       "      <td>0</td>\n",
       "      <td>28211.134460</td>\n",
       "    </tr>\n",
       "    <tr>\n",
       "      <th>47</th>\n",
       "      <td>202102</td>\n",
       "      <td>2021-01-17</td>\n",
       "      <td>543389</td>\n",
       "      <td>515639</td>\n",
       "      <td>422602</td>\n",
       "      <td>430909</td>\n",
       "      <td>429176</td>\n",
       "      <td>553609</td>\n",
       "      <td>642683</td>\n",
       "      <td>789573</td>\n",
       "      <td>827122</td>\n",
       "      <td>46673</td>\n",
       "      <td>36671.861816</td>\n",
       "      <td>15120</td>\n",
       "      <td>16311.237957</td>\n",
       "    </tr>\n",
       "    <tr>\n",
       "      <th>48</th>\n",
       "      <td>202103</td>\n",
       "      <td>2021-01-24</td>\n",
       "      <td>736056</td>\n",
       "      <td>543389</td>\n",
       "      <td>515639</td>\n",
       "      <td>422602</td>\n",
       "      <td>430909</td>\n",
       "      <td>429176</td>\n",
       "      <td>553609</td>\n",
       "      <td>642683</td>\n",
       "      <td>789573</td>\n",
       "      <td>92711</td>\n",
       "      <td>125245.930908</td>\n",
       "      <td>271782</td>\n",
       "      <td>225059.791977</td>\n",
       "    </tr>\n",
       "    <tr>\n",
       "      <th>49</th>\n",
       "      <td>202104</td>\n",
       "      <td>2021-01-31</td>\n",
       "      <td>819596</td>\n",
       "      <td>736056</td>\n",
       "      <td>543389</td>\n",
       "      <td>515639</td>\n",
       "      <td>422602</td>\n",
       "      <td>430909</td>\n",
       "      <td>429176</td>\n",
       "      <td>553609</td>\n",
       "      <td>642683</td>\n",
       "      <td>167389</td>\n",
       "      <td>169360.028442</td>\n",
       "      <td>166320</td>\n",
       "      <td>157279.081528</td>\n",
       "    </tr>\n",
       "    <tr>\n",
       "      <th>50</th>\n",
       "      <td>202105</td>\n",
       "      <td>2021-02-07</td>\n",
       "      <td>948104</td>\n",
       "      <td>819596</td>\n",
       "      <td>736056</td>\n",
       "      <td>543389</td>\n",
       "      <td>515639</td>\n",
       "      <td>422602</td>\n",
       "      <td>430909</td>\n",
       "      <td>429176</td>\n",
       "      <td>553609</td>\n",
       "      <td>392503</td>\n",
       "      <td>322673.876587</td>\n",
       "      <td>196556</td>\n",
       "      <td>209148.023939</td>\n",
       "    </tr>\n",
       "    <tr>\n",
       "      <th>51</th>\n",
       "      <td>202106</td>\n",
       "      <td>2021-02-14</td>\n",
       "      <td>1040573</td>\n",
       "      <td>948104</td>\n",
       "      <td>819596</td>\n",
       "      <td>736056</td>\n",
       "      <td>543389</td>\n",
       "      <td>515639</td>\n",
       "      <td>422602</td>\n",
       "      <td>430909</td>\n",
       "      <td>429176</td>\n",
       "      <td>368901</td>\n",
       "      <td>358824.087524</td>\n",
       "      <td>193535</td>\n",
       "      <td>216257.819870</td>\n",
       "    </tr>\n",
       "    <tr>\n",
       "      <th>52</th>\n",
       "      <td>202107</td>\n",
       "      <td>2021-02-21</td>\n",
       "      <td>1174008</td>\n",
       "      <td>1040573</td>\n",
       "      <td>948104</td>\n",
       "      <td>819596</td>\n",
       "      <td>736056</td>\n",
       "      <td>543389</td>\n",
       "      <td>515639</td>\n",
       "      <td>422602</td>\n",
       "      <td>430909</td>\n",
       "      <td>366318</td>\n",
       "      <td>370079.713379</td>\n",
       "      <td>317452</td>\n",
       "      <td>262030.041500</td>\n",
       "    </tr>\n",
       "    <tr>\n",
       "      <th>53</th>\n",
       "      <td>202108</td>\n",
       "      <td>2021-02-28</td>\n",
       "      <td>1137451</td>\n",
       "      <td>1174008</td>\n",
       "      <td>1040573</td>\n",
       "      <td>948104</td>\n",
       "      <td>819596</td>\n",
       "      <td>736056</td>\n",
       "      <td>543389</td>\n",
       "      <td>515639</td>\n",
       "      <td>422602</td>\n",
       "      <td>364128</td>\n",
       "      <td>362064.792847</td>\n",
       "      <td>408191</td>\n",
       "      <td>367828.326576</td>\n",
       "    </tr>\n",
       "    <tr>\n",
       "      <th>54</th>\n",
       "      <td>202109</td>\n",
       "      <td>2021-03-07</td>\n",
       "      <td>1154057</td>\n",
       "      <td>1137451</td>\n",
       "      <td>1174008</td>\n",
       "      <td>1040573</td>\n",
       "      <td>948104</td>\n",
       "      <td>819596</td>\n",
       "      <td>736056</td>\n",
       "      <td>543389</td>\n",
       "      <td>515639</td>\n",
       "      <td>403833</td>\n",
       "      <td>414383.331299</td>\n",
       "      <td>287280</td>\n",
       "      <td>271145.487617</td>\n",
       "    </tr>\n",
       "    <tr>\n",
       "      <th>55</th>\n",
       "      <td>202110</td>\n",
       "      <td>2021-03-14</td>\n",
       "      <td>1230948</td>\n",
       "      <td>1154057</td>\n",
       "      <td>1137451</td>\n",
       "      <td>1174008</td>\n",
       "      <td>1040573</td>\n",
       "      <td>948104</td>\n",
       "      <td>819596</td>\n",
       "      <td>736056</td>\n",
       "      <td>543389</td>\n",
       "      <td>343367</td>\n",
       "      <td>313560.019409</td>\n",
       "      <td>302400</td>\n",
       "      <td>299487.828613</td>\n",
       "    </tr>\n",
       "    <tr>\n",
       "      <th>56</th>\n",
       "      <td>202111</td>\n",
       "      <td>2021-03-21</td>\n",
       "      <td>1246419</td>\n",
       "      <td>1230948</td>\n",
       "      <td>1154057</td>\n",
       "      <td>1137451</td>\n",
       "      <td>1174008</td>\n",
       "      <td>1040573</td>\n",
       "      <td>948104</td>\n",
       "      <td>819596</td>\n",
       "      <td>736056</td>\n",
       "      <td>396048</td>\n",
       "      <td>388593.302368</td>\n",
       "      <td>302393</td>\n",
       "      <td>312294.367615</td>\n",
       "    </tr>\n",
       "    <tr>\n",
       "      <th>57</th>\n",
       "      <td>202112</td>\n",
       "      <td>2021-03-28</td>\n",
       "      <td>1111362</td>\n",
       "      <td>1246419</td>\n",
       "      <td>1230948</td>\n",
       "      <td>1154057</td>\n",
       "      <td>1137451</td>\n",
       "      <td>1174008</td>\n",
       "      <td>1040573</td>\n",
       "      <td>948104</td>\n",
       "      <td>819596</td>\n",
       "      <td>387801</td>\n",
       "      <td>352831.823364</td>\n",
       "      <td>317520</td>\n",
       "      <td>316594.679047</td>\n",
       "    </tr>\n",
       "    <tr>\n",
       "      <th>58</th>\n",
       "      <td>202113</td>\n",
       "      <td>2021-04-04</td>\n",
       "      <td>1160150</td>\n",
       "      <td>1111362</td>\n",
       "      <td>1246419</td>\n",
       "      <td>1230948</td>\n",
       "      <td>1154057</td>\n",
       "      <td>1137451</td>\n",
       "      <td>1174008</td>\n",
       "      <td>1040573</td>\n",
       "      <td>948104</td>\n",
       "      <td>411046</td>\n",
       "      <td>401473.569336</td>\n",
       "      <td>226800</td>\n",
       "      <td>230315.103645</td>\n",
       "    </tr>\n",
       "  </tbody>\n",
       "</table>\n",
       "</div>"
      ],
      "text/plain": [
       "        ww        date    inven  inven_prev1  inven_prev2  inven_prev3  \\\n",
       "0   202003  2020-01-19   595718       649121       629709       704804   \n",
       "1   202004  2020-01-26   561899       595718       649121       629709   \n",
       "2   202005  2020-02-02   592359       561899       595718       649121   \n",
       "3   202006  2020-02-09   626276       592359       561899       595718   \n",
       "4   202008  2020-02-23   433067       537030       626276       592359   \n",
       "5   202010  2020-03-08   390616       232891       433067       537030   \n",
       "6   202011  2020-03-15   521018       390616       232891       433067   \n",
       "7   202012  2020-03-22   593509       521018       390616       232891   \n",
       "8   202013  2020-03-29   693780       593509       521018       390616   \n",
       "9   202014  2020-04-05   875869       693780       593509       521018   \n",
       "10  202016  2020-04-19   841502       828364       875869       693780   \n",
       "11  202017  2020-04-26   850568       841502       828364       875869   \n",
       "12  202018  2020-05-03   679967       850568       841502       828364   \n",
       "13  202019  2020-05-10   531332       679967       850568       841502   \n",
       "14  202021  2020-05-24   436128       461138       531332       679967   \n",
       "15  202022  2020-05-31   355171       436128       461138       531332   \n",
       "16  202023  2020-06-07   569349       355171       436128       461138   \n",
       "17  202024  2020-06-14   600039       569349       355171       436128   \n",
       "18  202025  2020-06-21   670966       600039       569349       355171   \n",
       "19  202026  2020-06-28   769202       670966       600039       569349   \n",
       "20  202027  2020-07-05   846436       769202       670966       600039   \n",
       "21  202028  2020-07-12   945581       846436       769202       670966   \n",
       "22  202029  2020-07-19  1088992       945581       846436       769202   \n",
       "23  202030  2020-07-26  1008402      1088992       945581       846436   \n",
       "24  202031  2020-08-02   840283      1008402      1088992       945581   \n",
       "25  202032  2020-08-09   702949       840283      1008402      1088992   \n",
       "26  202033  2020-08-16   776196       702949       840283      1008402   \n",
       "27  202034  2020-08-23   843641       776196       702949       840283   \n",
       "28  202035  2020-08-30   969377       843641       776196       702949   \n",
       "29  202036  2020-09-06   921796       969377       843641       776196   \n",
       "30  202037  2020-09-13   815885       921796       969377       843641   \n",
       "31  202038  2020-09-20   799789       815885       921796       969377   \n",
       "32  202039  2020-09-27   783857       799789       815885       921796   \n",
       "33  202040  2020-10-04   599409       783857       799789       815885   \n",
       "34  202041  2020-10-11   475433       599409       783857       799789   \n",
       "35  202042  2020-10-18   646295       475433       599409       783857   \n",
       "36  202043  2020-10-25   779657       646295       475433       599409   \n",
       "37  202044  2020-11-01   688083       779657       646295       475433   \n",
       "38  202045  2020-11-08   646901       688083       779657       646295   \n",
       "39  202046  2020-11-15   678227       646901       688083       779657   \n",
       "40  202047  2020-11-22   827122       678227       646901       688083   \n",
       "41  202048  2020-11-29   789573       827122       678227       646901   \n",
       "42  202049  2020-12-06   642683       789573       827122       678227   \n",
       "43  202050  2020-12-13   553609       642683       789573       827122   \n",
       "44  202051  2020-12-20   429176       553609       642683       789573   \n",
       "45  202053  2021-01-03   422602       430909       429176       553609   \n",
       "46  202101  2021-01-10   515639       422602       430909       429176   \n",
       "47  202102  2021-01-17   543389       515639       422602       430909   \n",
       "48  202103  2021-01-24   736056       543389       515639       422602   \n",
       "49  202104  2021-01-31   819596       736056       543389       515639   \n",
       "50  202105  2021-02-07   948104       819596       736056       543389   \n",
       "51  202106  2021-02-14  1040573       948104       819596       736056   \n",
       "52  202107  2021-02-21  1174008      1040573       948104       819596   \n",
       "53  202108  2021-02-28  1137451      1174008      1040573       948104   \n",
       "54  202109  2021-03-07  1154057      1137451      1174008      1040573   \n",
       "55  202110  2021-03-14  1230948      1154057      1137451      1174008   \n",
       "56  202111  2021-03-21  1246419      1230948      1154057      1137451   \n",
       "57  202112  2021-03-28  1111362      1246419      1230948      1154057   \n",
       "58  202113  2021-04-04  1160150      1111362      1246419      1230948   \n",
       "\n",
       "    inven_prev4  inven_prev5  inven_prev6  inven_prev7  inven_prev8    prod  \\\n",
       "0        660010       548225       453382       402367       514039   88080   \n",
       "1        704804       660010       548225       453382       402367  143332   \n",
       "2        629709       704804       660010       548225       453382  126497   \n",
       "3        649121       629709       704804       660010       548225   46482   \n",
       "4        561899       595718       649121       629709       704804  192274   \n",
       "5        626276       592359       561899       595718       649121  101129   \n",
       "6        537030       626276       592359       561899       595718       0   \n",
       "7        433067       537030       626276       592359       561899  193220   \n",
       "8        232891       433067       537030       626276       592359  185859   \n",
       "9        390616       232891       433067       537030       626276  225203   \n",
       "10       593509       521018       390616       232891       433067  203704   \n",
       "11       693780       593509       521018       390616       232891  101653   \n",
       "12       875869       693780       593509       521018       390616  124422   \n",
       "13       828364       875869       693780       593509       521018  106349   \n",
       "14       850568       841502       828364       875869       693780   91138   \n",
       "15       679967       850568       841502       828364       875869   17658   \n",
       "16       531332       679967       850568       841502       828364       0   \n",
       "17       461138       531332       679967       850568       841502  117587   \n",
       "18       436128       461138       531332       679967       850568  209914   \n",
       "19       355171       436128       461138       531332       679967  216149   \n",
       "20       569349       355171       436128       461138       531332  242020   \n",
       "21       600039       569349       355171       436128       461138  284555   \n",
       "22       670966       600039       569349       355171       436128  276887   \n",
       "23       769202       670966       600039       569349       355171  367347   \n",
       "24       846436       769202       670966       600039       569349  291009   \n",
       "25       945581       846436       769202       670966       600039  286525   \n",
       "26      1088992       945581       846436       769202       670966  148328   \n",
       "27      1008402      1088992       945581       846436       769202   95149   \n",
       "28       840283      1008402      1088992       945581       846436  150111   \n",
       "29       702949       840283      1008402      1088992       945581  162776   \n",
       "30       776196       702949       840283      1008402      1088992  181416   \n",
       "31       843641       776196       702949       840283      1008402  164771   \n",
       "32       969377       843641       776196       702949       840283  153757   \n",
       "33       921796       969377       843641       776196       702949  183422   \n",
       "34       815885       921796       969377       843641       776196  174340   \n",
       "35       799789       815885       921796       969377       843641   75216   \n",
       "36       783857       799789       815885       921796       969377  165344   \n",
       "37       599409       783857       799789       815885       921796  304244   \n",
       "38       475433       599409       783857       799789       815885  274991   \n",
       "39       646295       475433       599409       783857       799789  250402   \n",
       "40       779657       646295       475433       599409       783857  269441   \n",
       "41       688083       779657       646295       475433       599409  286515   \n",
       "42       646901       688083       779657       646295       475433  457297   \n",
       "43       678227       646901       688083       779657       646295  253223   \n",
       "44       827122       678227       646901       688083       779657  202715   \n",
       "45       642683       789573       827122       678227       646901  222969   \n",
       "46       553609       642683       789573       827122       678227   68394   \n",
       "47       429176       553609       642683       789573       827122   46673   \n",
       "48       430909       429176       553609       642683       789573   92711   \n",
       "49       422602       430909       429176       553609       642683  167389   \n",
       "50       515639       422602       430909       429176       553609  392503   \n",
       "51       543389       515639       422602       430909       429176  368901   \n",
       "52       736056       543389       515639       422602       430909  366318   \n",
       "53       819596       736056       543389       515639       422602  364128   \n",
       "54       948104       819596       736056       543389       515639  403833   \n",
       "55      1040573       948104       819596       736056       543389  343367   \n",
       "56      1174008      1040573       948104       819596       736056  396048   \n",
       "57      1137451      1174008      1040573       948104       819596  387801   \n",
       "58      1154057      1137451      1174008      1040573       948104  411046   \n",
       "\n",
       "         prod_hat    sale       sale_hat  \n",
       "0   121934.672974  120960  105453.096470  \n",
       "1   138017.829590  120960  100781.495768  \n",
       "2   135016.323730  105840  104158.882381  \n",
       "3    89726.730591   74844   96647.803537  \n",
       "4   180725.455200  150594  119317.008476  \n",
       "5   104889.742737  119826  114612.941345  \n",
       "6     4523.363205   77112   96311.491280  \n",
       "7   154517.741211  107730  110702.108746  \n",
       "8   211552.950928  115975  131925.259319  \n",
       "9   225977.226440   70686   65779.693649  \n",
       "10  219858.189819   90720   86014.210930  \n",
       "11  110370.157104  117180  102717.859936  \n",
       "12  101122.873169   57456   64562.623220  \n",
       "13   96701.054565  146219   87391.661301  \n",
       "14   83523.609497  105324  112954.238380  \n",
       "15   48094.914429  332262  282279.513704  \n",
       "16  -13698.423889   30240   35587.735920  \n",
       "17  119909.255249   90339  105029.807858  \n",
       "18  195392.945618  211674  187905.064987  \n",
       "19  202517.323425  136080  149071.454620  \n",
       "20  252840.235535  181440  199412.799473  \n",
       "21  257333.367615       0   87367.381107  \n",
       "22  279614.499451  257040  268543.199581  \n",
       "23  356162.372925  241481  268152.319973  \n",
       "24  335769.576172   90720  174754.737434  \n",
       "25  284596.789917  241920  265514.864571  \n",
       "26  176216.927368  226800  234684.435158  \n",
       "27  130318.381958  161406  199616.157646  \n",
       "28  159284.252075  166320  157645.905704  \n",
       "29  144959.376587  136080  171195.931557  \n",
       "30  187373.032471  241920  239886.552303  \n",
       "31  178842.872559  211680  209430.163853  \n",
       "32  161004.645020  226796  226710.225277  \n",
       "33  181063.476807  211676  232841.453156  \n",
       "34  179004.097290  287280  250115.414745  \n",
       "35  100963.905151  272160  279402.963573  \n",
       "36  156049.516479  166314  197506.521564  \n",
       "37  292543.743164  289170  279877.690495  \n",
       "38  270670.287109  332640  298464.200565  \n",
       "39  264787.717529  241920  244300.297695  \n",
       "40  260793.838867  362880  301653.435696  \n",
       "41  250265.995605  332368  301827.138855  \n",
       "42  435594.661865  483840  453877.591537  \n",
       "43  237702.775513  316008  325272.353020  \n",
       "44  186636.291382  279158  231594.200058  \n",
       "45  208695.331665       0   -4113.780697  \n",
       "46  102916.122803       0   28211.134460  \n",
       "47   36671.861816   15120   16311.237957  \n",
       "48  125245.930908  271782  225059.791977  \n",
       "49  169360.028442  166320  157279.081528  \n",
       "50  322673.876587  196556  209148.023939  \n",
       "51  358824.087524  193535  216257.819870  \n",
       "52  370079.713379  317452  262030.041500  \n",
       "53  362064.792847  408191  367828.326576  \n",
       "54  414383.331299  287280  271145.487617  \n",
       "55  313560.019409  302400  299487.828613  \n",
       "56  388593.302368  302393  312294.367615  \n",
       "57  352831.823364  317520  316594.679047  \n",
       "58  401473.569336  226800  230315.103645  "
      ]
     },
     "execution_count": 140,
     "metadata": {},
     "output_type": "execute_result"
    }
   ],
   "source": [
    "inven_train"
   ]
  },
  {
   "cell_type": "code",
   "execution_count": null,
   "id": "d07725c4-bdbc-4ed8-b689-c340bbc9bae6",
   "metadata": {},
   "outputs": [],
   "source": []
  },
  {
   "cell_type": "code",
   "execution_count": 6,
   "id": "f96c42f6",
   "metadata": {
    "scrolled": true
   },
   "outputs": [
    {
     "name": "stdout",
     "output_type": "stream",
     "text": [
      "|   iter    |  target   |  g_alpha  |   k_dot   |   rbf_l   |  theta1   | tmp_pr... | tmp_va... | tmp_va... |  w_noise  |\n",
      "-------------------------------------------------------------------------------------------------------------------------\n",
      "| \u001b[0m 1       \u001b[0m | \u001b[0m 83.09   \u001b[0m | \u001b[0m 0.4129  \u001b[0m | \u001b[0m 72.03   \u001b[0m | \u001b[0m 0.001144\u001b[0m | \u001b[0m 3.023   \u001b[0m | \u001b[0m 2.027   \u001b[0m | \u001b[0m 2.016   \u001b[0m | \u001b[0m 3.049   \u001b[0m | \u001b[0m 34.56   \u001b[0m |\n",
      "| \u001b[0m 2       \u001b[0m | \u001b[0m 80.38   \u001b[0m | \u001b[0m 0.3928  \u001b[0m | \u001b[0m 53.88   \u001b[0m | \u001b[0m 4.192   \u001b[0m | \u001b[0m 6.852   \u001b[0m | \u001b[0m 2.431   \u001b[0m | \u001b[0m 10.66   \u001b[0m | \u001b[0m 1.301   \u001b[0m | \u001b[0m 67.05   \u001b[0m |\n",
      "| \u001b[0m 3       \u001b[0m | \u001b[0m 76.5    \u001b[0m | \u001b[0m 0.4131  \u001b[0m | \u001b[0m 55.87   \u001b[0m | \u001b[0m 1.404   \u001b[0m | \u001b[0m 1.981   \u001b[0m | \u001b[0m 6.605   \u001b[0m | \u001b[0m 11.65   \u001b[0m | \u001b[0m 4.448   \u001b[0m | \u001b[0m 69.23   \u001b[0m |\n",
      "| \u001b[0m 4       \u001b[0m | \u001b[0m 77.5    \u001b[0m | \u001b[0m 0.8676  \u001b[0m | \u001b[0m 89.46   \u001b[0m | \u001b[0m 0.8504  \u001b[0m | \u001b[0m 0.3905  \u001b[0m | \u001b[0m 2.189   \u001b[0m | \u001b[0m 10.66   \u001b[0m | \u001b[0m 2.082   \u001b[0m | \u001b[0m 42.11   \u001b[0m |\n",
      "| \u001b[0m 5       \u001b[0m | \u001b[0m 74.83   \u001b[0m | \u001b[0m 0.9483  \u001b[0m | \u001b[0m 53.32   \u001b[0m | \u001b[0m 6.919   \u001b[0m | \u001b[0m 3.155   \u001b[0m | \u001b[0m 5.806   \u001b[0m | \u001b[0m 10.18   \u001b[0m | \u001b[0m 1.201   \u001b[0m | \u001b[0m 75.01   \u001b[0m |\n",
      "| \u001b[0m 6       \u001b[0m | \u001b[0m 79.74   \u001b[0m | \u001b[0m 0.979   \u001b[0m | \u001b[0m 74.82   \u001b[0m | \u001b[0m 2.804   \u001b[0m | \u001b[0m 7.893   \u001b[0m | \u001b[0m 1.723   \u001b[0m | \u001b[0m 5.927   \u001b[0m | \u001b[0m 10.99   \u001b[0m | \u001b[0m 29.36   \u001b[0m |\n",
      "| \u001b[95m 7       \u001b[0m | \u001b[95m 85.55   \u001b[0m | \u001b[95m 0.2849  \u001b[0m | \u001b[95m 13.0    \u001b[0m | \u001b[95m 0.1937  \u001b[0m | \u001b[95m 6.788   \u001b[0m | \u001b[95m 2.481   \u001b[0m | \u001b[95m 3.921   \u001b[0m | \u001b[95m 6.407   \u001b[0m | \u001b[95m 5.336   \u001b[0m |\n",
      "| \u001b[0m 8       \u001b[0m | \u001b[0m 80.48   \u001b[0m | \u001b[0m 0.5684  \u001b[0m | \u001b[0m 14.67   \u001b[0m | \u001b[0m 5.893   \u001b[0m | \u001b[0m 6.998   \u001b[0m | \u001b[0m 1.716   \u001b[0m | \u001b[0m 5.555   \u001b[0m | \u001b[0m 8.638   \u001b[0m | \u001b[0m 41.42   \u001b[0m |\n",
      "| \u001b[0m 9       \u001b[0m | \u001b[0m 77.01   \u001b[0m | \u001b[0m 0.04945 \u001b[0m | \u001b[0m 53.59   \u001b[0m | \u001b[0m 6.638   \u001b[0m | \u001b[0m 5.149   \u001b[0m | \u001b[0m 7.612   \u001b[0m | \u001b[0m 7.452   \u001b[0m | \u001b[0m 10.94   \u001b[0m | \u001b[0m 13.75   \u001b[0m |\n",
      "| \u001b[0m 10      \u001b[0m | \u001b[0m 79.97   \u001b[0m | \u001b[0m 0.1379  \u001b[0m | \u001b[0m 80.74   \u001b[0m | \u001b[0m 3.977   \u001b[0m | \u001b[0m 1.654   \u001b[0m | \u001b[0m 7.493   \u001b[0m | \u001b[0m 4.825   \u001b[0m | \u001b[0m 9.259   \u001b[0m | \u001b[0m 72.6    \u001b[0m |\n",
      "| \u001b[0m 11      \u001b[0m | \u001b[0m 76.02   \u001b[0m | \u001b[0m 0.8996  \u001b[0m | \u001b[0m 95.18   \u001b[0m | \u001b[0m 9.181   \u001b[0m | \u001b[0m 3.227   \u001b[0m | \u001b[0m 6.661   \u001b[0m | \u001b[0m 11.08   \u001b[0m | \u001b[0m 5.039   \u001b[0m | \u001b[0m 69.01   \u001b[0m |\n",
      "| \u001b[0m 12      \u001b[0m | \u001b[0m 83.53   \u001b[0m | \u001b[0m 0.1856  \u001b[0m | \u001b[0m 9.666   \u001b[0m | \u001b[0m 1.281   \u001b[0m | \u001b[0m 5.6     \u001b[0m | \u001b[0m 3.058   \u001b[0m | \u001b[0m 3.675   \u001b[0m | \u001b[0m 4.966   \u001b[0m | \u001b[0m 5.943   \u001b[0m |\n",
      "| \u001b[0m 13      \u001b[0m | \u001b[0m 84.96   \u001b[0m | \u001b[0m 0.4632  \u001b[0m | \u001b[0m 15.23   \u001b[0m | \u001b[0m 0.04597 \u001b[0m | \u001b[0m 8.333   \u001b[0m | \u001b[0m 1.667   \u001b[0m | \u001b[0m 4.218   \u001b[0m | \u001b[0m 8.267   \u001b[0m | \u001b[0m 10.37   \u001b[0m |\n",
      "| \u001b[0m 14      \u001b[0m | \u001b[0m 76.0    \u001b[0m | \u001b[0m 0.3374  \u001b[0m | \u001b[0m 19.9    \u001b[0m | \u001b[0m 4.141   \u001b[0m | \u001b[0m 7.701   \u001b[0m | \u001b[0m 1.071   \u001b[0m | \u001b[0m 8.654   \u001b[0m | \u001b[0m 5.266   \u001b[0m | \u001b[0m 3.65    \u001b[0m |\n"
     ]
    },
    {
     "name": "stderr",
     "output_type": "stream",
     "text": [
      "/opt/conda/envs/rapids/lib/python3.7/site-packages/sklearn/gaussian_process/kernels.py:271: RuntimeWarning: divide by zero encountered in log\n",
      "  return np.log(np.hstack(theta))\n"
     ]
    },
    {
     "name": "stdout",
     "output_type": "stream",
     "text": [
      "| \u001b[0m 15      \u001b[0m | \u001b[0m 84.77   \u001b[0m | \u001b[0m 0.4293  \u001b[0m | \u001b[0m 12.05   \u001b[0m | \u001b[0m 0.0     \u001b[0m | \u001b[0m 8.1     \u001b[0m | \u001b[0m 2.745   \u001b[0m | \u001b[0m 1.0     \u001b[0m | \u001b[0m 10.13   \u001b[0m | \u001b[0m 7.273   \u001b[0m |\n"
     ]
    },
    {
     "name": "stderr",
     "output_type": "stream",
     "text": [
      "/opt/conda/envs/rapids/lib/python3.7/site-packages/sklearn/gaussian_process/kernels.py:271: RuntimeWarning: divide by zero encountered in log\n",
      "  return np.log(np.hstack(theta))\n"
     ]
    },
    {
     "name": "stdout",
     "output_type": "stream",
     "text": [
      "| \u001b[0m 16      \u001b[0m | \u001b[0m 82.86   \u001b[0m | \u001b[0m 0.2697  \u001b[0m | \u001b[0m 14.23   \u001b[0m | \u001b[0m 0.0     \u001b[0m | \u001b[0m 9.677   \u001b[0m | \u001b[0m 5.843   \u001b[0m | \u001b[0m 1.0     \u001b[0m | \u001b[0m 4.718   \u001b[0m | \u001b[0m 8.436   \u001b[0m |\n"
     ]
    },
    {
     "name": "stderr",
     "output_type": "stream",
     "text": [
      "/opt/conda/envs/rapids/lib/python3.7/site-packages/sklearn/gaussian_process/kernels.py:271: RuntimeWarning: divide by zero encountered in log\n",
      "  return np.log(np.hstack(theta))\n"
     ]
    },
    {
     "name": "stdout",
     "output_type": "stream",
     "text": [
      "| \u001b[0m 17      \u001b[0m | \u001b[0m 80.56   \u001b[0m | \u001b[0m 0.4601  \u001b[0m | \u001b[0m 14.64   \u001b[0m | \u001b[0m 0.0     \u001b[0m | \u001b[0m 2.283   \u001b[0m | \u001b[0m 1.0     \u001b[0m | \u001b[0m 1.08    \u001b[0m | \u001b[0m 8.087   \u001b[0m | \u001b[0m 8.39    \u001b[0m |\n",
      "| \u001b[0m 18      \u001b[0m | \u001b[0m 84.53   \u001b[0m | \u001b[0m 0.4049  \u001b[0m | \u001b[0m 10.53   \u001b[0m | \u001b[0m 2.602   \u001b[0m | \u001b[0m 9.961   \u001b[0m | \u001b[0m 2.047   \u001b[0m | \u001b[0m 3.184   \u001b[0m | \u001b[0m 9.47    \u001b[0m | \u001b[0m 10.35   \u001b[0m |\n",
      "| \u001b[0m 19      \u001b[0m | \u001b[0m 79.16   \u001b[0m | \u001b[0m 0.9661  \u001b[0m | \u001b[0m 12.14   \u001b[0m | \u001b[0m 1.309   \u001b[0m | \u001b[0m 6.958   \u001b[0m | \u001b[0m 7.018   \u001b[0m | \u001b[0m 5.049   \u001b[0m | \u001b[0m 11.01   \u001b[0m | \u001b[0m 8.231   \u001b[0m |\n",
      "| \u001b[0m 20      \u001b[0m | \u001b[0m 83.49   \u001b[0m | \u001b[0m 0.5683  \u001b[0m | \u001b[0m 11.69   \u001b[0m | \u001b[0m 2.224   \u001b[0m | \u001b[0m 9.387   \u001b[0m | \u001b[0m 1.348   \u001b[0m | \u001b[0m 4.254   \u001b[0m | \u001b[0m 10.82   \u001b[0m | \u001b[0m 3.23    \u001b[0m |\n"
     ]
    },
    {
     "name": "stderr",
     "output_type": "stream",
     "text": [
      "/opt/conda/envs/rapids/lib/python3.7/site-packages/sklearn/gaussian_process/kernels.py:271: RuntimeWarning: divide by zero encountered in log\n",
      "  return np.log(np.hstack(theta))\n"
     ]
    },
    {
     "name": "stdout",
     "output_type": "stream",
     "text": [
      "| \u001b[0m 21      \u001b[0m | \u001b[0m 80.0    \u001b[0m | \u001b[0m 0.0     \u001b[0m | \u001b[0m 11.35   \u001b[0m | \u001b[0m 0.0     \u001b[0m | \u001b[0m 10.0    \u001b[0m | \u001b[0m 1.0     \u001b[0m | \u001b[0m 2.807   \u001b[0m | \u001b[0m 5.885   \u001b[0m | \u001b[0m 7.09    \u001b[0m |\n",
      "| \u001b[0m 22      \u001b[0m | \u001b[0m 83.56   \u001b[0m | \u001b[0m 0.5746  \u001b[0m | \u001b[0m 14.2    \u001b[0m | \u001b[0m 1.26    \u001b[0m | \u001b[0m 7.827   \u001b[0m | \u001b[0m 4.548   \u001b[0m | \u001b[0m 3.4     \u001b[0m | \u001b[0m 8.646   \u001b[0m | \u001b[0m 4.909   \u001b[0m |\n"
     ]
    },
    {
     "name": "stderr",
     "output_type": "stream",
     "text": [
      "/opt/conda/envs/rapids/lib/python3.7/site-packages/sklearn/gaussian_process/kernels.py:271: RuntimeWarning: divide by zero encountered in log\n",
      "  return np.log(np.hstack(theta))\n"
     ]
    },
    {
     "name": "stdout",
     "output_type": "stream",
     "text": [
      "| \u001b[0m 23      \u001b[0m | \u001b[0m 84.53   \u001b[0m | \u001b[0m 0.0     \u001b[0m | \u001b[0m 11.46   \u001b[0m | \u001b[0m 0.0     \u001b[0m | \u001b[0m 5.175   \u001b[0m | \u001b[0m 1.899   \u001b[0m | \u001b[0m 2.797   \u001b[0m | \u001b[0m 8.69    \u001b[0m | \u001b[0m 3.05    \u001b[0m |\n",
      "| \u001b[0m 24      \u001b[0m | \u001b[0m 80.29   \u001b[0m | \u001b[0m 0.8162  \u001b[0m | \u001b[0m 12.2    \u001b[0m | \u001b[0m 3.619   \u001b[0m | \u001b[0m 7.247   \u001b[0m | \u001b[0m 1.281   \u001b[0m | \u001b[0m 5.034   \u001b[0m | \u001b[0m 9.685   \u001b[0m | \u001b[0m 6.933   \u001b[0m |\n",
      "| \u001b[0m 25      \u001b[0m | \u001b[0m 84.83   \u001b[0m | \u001b[0m 0.221   \u001b[0m | \u001b[0m 13.78   \u001b[0m | \u001b[0m 0.4679  \u001b[0m | \u001b[0m 10.0    \u001b[0m | \u001b[0m 2.274   \u001b[0m | \u001b[0m 1.12    \u001b[0m | \u001b[0m 10.39   \u001b[0m | \u001b[0m 11.86   \u001b[0m |\n"
     ]
    },
    {
     "name": "stderr",
     "output_type": "stream",
     "text": [
      "/opt/conda/envs/rapids/lib/python3.7/site-packages/sklearn/gaussian_process/kernels.py:271: RuntimeWarning: divide by zero encountered in log\n",
      "  return np.log(np.hstack(theta))\n"
     ]
    },
    {
     "name": "stdout",
     "output_type": "stream",
     "text": [
      "| \u001b[95m 26      \u001b[0m | \u001b[95m 85.71   \u001b[0m | \u001b[95m 0.8598  \u001b[0m | \u001b[95m 12.06   \u001b[0m | \u001b[95m 0.0     \u001b[0m | \u001b[95m 9.001   \u001b[0m | \u001b[95m 1.584   \u001b[0m | \u001b[95m 4.233   \u001b[0m | \u001b[95m 8.813   \u001b[0m | \u001b[95m 14.52   \u001b[0m |\n",
      "| \u001b[0m 27      \u001b[0m | \u001b[0m 83.97   \u001b[0m | \u001b[0m 0.0     \u001b[0m | \u001b[0m 14.1    \u001b[0m | \u001b[0m 3.469   \u001b[0m | \u001b[0m 10.0    \u001b[0m | \u001b[0m 2.506   \u001b[0m | \u001b[0m 3.218   \u001b[0m | \u001b[0m 7.388   \u001b[0m | \u001b[0m 15.01   \u001b[0m |\n",
      "| \u001b[0m 28      \u001b[0m | \u001b[0m 79.61   \u001b[0m | \u001b[0m 0.6491  \u001b[0m | \u001b[0m 10.31   \u001b[0m | \u001b[0m 1.122   \u001b[0m | \u001b[0m 9.929   \u001b[0m | \u001b[0m 5.173   \u001b[0m | \u001b[0m 1.605   \u001b[0m | \u001b[0m 9.774   \u001b[0m | \u001b[0m 17.38   \u001b[0m |\n"
     ]
    },
    {
     "name": "stderr",
     "output_type": "stream",
     "text": [
      "/opt/conda/envs/rapids/lib/python3.7/site-packages/sklearn/gaussian_process/kernels.py:271: RuntimeWarning: divide by zero encountered in log\n",
      "  return np.log(np.hstack(theta))\n"
     ]
    },
    {
     "name": "stdout",
     "output_type": "stream",
     "text": [
      "| \u001b[0m 29      \u001b[0m | \u001b[0m 78.72   \u001b[0m | \u001b[0m 0.0     \u001b[0m | \u001b[0m 14.74   \u001b[0m | \u001b[0m 0.0     \u001b[0m | \u001b[0m 10.0    \u001b[0m | \u001b[0m 1.0     \u001b[0m | \u001b[0m 5.944   \u001b[0m | \u001b[0m 11.23   \u001b[0m | \u001b[0m 13.7    \u001b[0m |\n",
      "| \u001b[0m 30      \u001b[0m | \u001b[0m 82.34   \u001b[0m | \u001b[0m 0.99    \u001b[0m | \u001b[0m 12.47   \u001b[0m | \u001b[0m 0.5703  \u001b[0m | \u001b[0m 7.718   \u001b[0m | \u001b[0m 2.154   \u001b[0m | \u001b[0m 2.138   \u001b[0m | \u001b[0m 7.309   \u001b[0m | \u001b[0m 12.46   \u001b[0m |\n",
      "| \u001b[0m 31      \u001b[0m | \u001b[0m 84.49   \u001b[0m | \u001b[0m 0.7742  \u001b[0m | \u001b[0m 11.81   \u001b[0m | \u001b[0m 2.702   \u001b[0m | \u001b[0m 8.727   \u001b[0m | \u001b[0m 3.279   \u001b[0m | \u001b[0m 3.629   \u001b[0m | \u001b[0m 8.553   \u001b[0m | \u001b[0m 0.696   \u001b[0m |\n"
     ]
    },
    {
     "name": "stderr",
     "output_type": "stream",
     "text": [
      "/opt/conda/envs/rapids/lib/python3.7/site-packages/sklearn/gaussian_process/kernels.py:271: RuntimeWarning: divide by zero encountered in log\n",
      "  return np.log(np.hstack(theta))\n"
     ]
    },
    {
     "name": "stdout",
     "output_type": "stream",
     "text": [
      "| \u001b[0m 32      \u001b[0m | \u001b[0m 83.21   \u001b[0m | \u001b[0m 0.99    \u001b[0m | \u001b[0m 12.23   \u001b[0m | \u001b[0m 0.0     \u001b[0m | \u001b[0m 6.798   \u001b[0m | \u001b[0m 3.882   \u001b[0m | \u001b[0m 2.756   \u001b[0m | \u001b[0m 5.88    \u001b[0m | \u001b[0m 2.45    \u001b[0m |\n",
      "| \u001b[0m 33      \u001b[0m | \u001b[0m 83.23   \u001b[0m | \u001b[0m 0.3734  \u001b[0m | \u001b[0m 8.575   \u001b[0m | \u001b[0m 0.6109  \u001b[0m | \u001b[0m 9.752   \u001b[0m | \u001b[0m 1.034   \u001b[0m | \u001b[0m 4.102   \u001b[0m | \u001b[0m 8.759   \u001b[0m | \u001b[0m 12.11   \u001b[0m |\n",
      "| \u001b[0m 34      \u001b[0m | \u001b[0m 80.06   \u001b[0m | \u001b[0m 0.4149  \u001b[0m | \u001b[0m 10.01   \u001b[0m | \u001b[0m 1.078   \u001b[0m | \u001b[0m 6.389   \u001b[0m | \u001b[0m 2.457   \u001b[0m | \u001b[0m 6.23    \u001b[0m | \u001b[0m 5.522   \u001b[0m | \u001b[0m 14.85   \u001b[0m |\n",
      "| \u001b[0m 35      \u001b[0m | \u001b[0m 83.57   \u001b[0m | \u001b[0m 0.6611  \u001b[0m | \u001b[0m 9.943   \u001b[0m | \u001b[0m 0.6121  \u001b[0m | \u001b[0m 5.237   \u001b[0m | \u001b[0m 4.046   \u001b[0m | \u001b[0m 3.761   \u001b[0m | \u001b[0m 9.554   \u001b[0m | \u001b[0m 0.4978  \u001b[0m |\n",
      "| \u001b[0m 36      \u001b[0m | \u001b[0m 79.58   \u001b[0m | \u001b[0m 0.4853  \u001b[0m | \u001b[0m 16.07   \u001b[0m | \u001b[0m 2.889   \u001b[0m | \u001b[0m 8.815   \u001b[0m | \u001b[0m 3.181   \u001b[0m | \u001b[0m 5.544   \u001b[0m | \u001b[0m 5.427   \u001b[0m | \u001b[0m 11.12   \u001b[0m |\n",
      "| \u001b[0m 37      \u001b[0m | \u001b[0m 84.42   \u001b[0m | \u001b[0m 0.3046  \u001b[0m | \u001b[0m 12.56   \u001b[0m | \u001b[0m 3.343   \u001b[0m | \u001b[0m 3.994   \u001b[0m | \u001b[0m 1.635   \u001b[0m | \u001b[0m 2.815   \u001b[0m | \u001b[0m 7.343   \u001b[0m | \u001b[0m 2.587   \u001b[0m |\n",
      "| \u001b[0m 38      \u001b[0m | \u001b[0m 80.21   \u001b[0m | \u001b[0m 0.05367 \u001b[0m | \u001b[0m 11.27   \u001b[0m | \u001b[0m 0.4909  \u001b[0m | \u001b[0m 8.468   \u001b[0m | \u001b[0m 2.071   \u001b[0m | \u001b[0m 7.418   \u001b[0m | \u001b[0m 7.353   \u001b[0m | \u001b[0m 0.4322  \u001b[0m |\n",
      "| \u001b[0m 39      \u001b[0m | \u001b[0m 81.01   \u001b[0m | \u001b[0m 0.8861  \u001b[0m | \u001b[0m 14.91   \u001b[0m | \u001b[0m 0.7461  \u001b[0m | \u001b[0m 6.93    \u001b[0m | \u001b[0m 2.841   \u001b[0m | \u001b[0m 1.826   \u001b[0m | \u001b[0m 5.882   \u001b[0m | \u001b[0m 6.577   \u001b[0m |\n",
      "| \u001b[0m 40      \u001b[0m | \u001b[0m 81.01   \u001b[0m | \u001b[0m 0.2049  \u001b[0m | \u001b[0m 13.52   \u001b[0m | \u001b[0m 0.9658  \u001b[0m | \u001b[0m 8.337   \u001b[0m | \u001b[0m 1.51    \u001b[0m | \u001b[0m 1.857   \u001b[0m | \u001b[0m 10.76   \u001b[0m | \u001b[0m 8.372   \u001b[0m |\n",
      "=========================================================================================================================\n",
      "85.71246917074336\n",
      "Prev Inven : 2, Var Sale : 9, Var Product : 4\n"
     ]
    },
    {
     "name": "stderr",
     "output_type": "stream",
     "text": [
      "/opt/conda/envs/rapids/lib/python3.7/site-packages/sklearn/gaussian_process/kernels.py:271: RuntimeWarning: divide by zero encountered in log\n",
      "  return np.log(np.hstack(theta))\n"
     ]
    },
    {
     "name": "stdout",
     "output_type": "stream",
     "text": [
      "|   iter    |  target   |  g_alpha  |   k_dot   |   rbf_l   |  theta1   | tmp_pr... | tmp_va... | tmp_va... |  w_noise  |\n",
      "-------------------------------------------------------------------------------------------------------------------------\n",
      "| \u001b[0m 1       \u001b[0m | \u001b[0m 81.6    \u001b[0m | \u001b[0m 0.4129  \u001b[0m | \u001b[0m 72.03   \u001b[0m | \u001b[0m 0.001144\u001b[0m | \u001b[0m 3.023   \u001b[0m | \u001b[0m 2.027   \u001b[0m | \u001b[0m 2.016   \u001b[0m | \u001b[0m 3.049   \u001b[0m | \u001b[0m 34.56   \u001b[0m |\n",
      "| \u001b[0m 2       \u001b[0m | \u001b[0m 77.72   \u001b[0m | \u001b[0m 0.3928  \u001b[0m | \u001b[0m 53.88   \u001b[0m | \u001b[0m 4.192   \u001b[0m | \u001b[0m 6.852   \u001b[0m | \u001b[0m 2.431   \u001b[0m | \u001b[0m 10.66   \u001b[0m | \u001b[0m 1.301   \u001b[0m | \u001b[0m 67.05   \u001b[0m |\n",
      "| \u001b[0m 3       \u001b[0m | \u001b[0m 78.84   \u001b[0m | \u001b[0m 0.4131  \u001b[0m | \u001b[0m 55.87   \u001b[0m | \u001b[0m 1.404   \u001b[0m | \u001b[0m 1.981   \u001b[0m | \u001b[0m 6.605   \u001b[0m | \u001b[0m 11.65   \u001b[0m | \u001b[0m 4.448   \u001b[0m | \u001b[0m 69.23   \u001b[0m |\n",
      "| \u001b[0m 4       \u001b[0m | \u001b[0m 74.71   \u001b[0m | \u001b[0m 0.8676  \u001b[0m | \u001b[0m 89.46   \u001b[0m | \u001b[0m 0.8504  \u001b[0m | \u001b[0m 0.3905  \u001b[0m | \u001b[0m 2.189   \u001b[0m | \u001b[0m 10.66   \u001b[0m | \u001b[0m 2.082   \u001b[0m | \u001b[0m 42.11   \u001b[0m |\n",
      "| \u001b[0m 5       \u001b[0m | \u001b[0m 74.6    \u001b[0m | \u001b[0m 0.9483  \u001b[0m | \u001b[0m 53.32   \u001b[0m | \u001b[0m 6.919   \u001b[0m | \u001b[0m 3.155   \u001b[0m | \u001b[0m 5.806   \u001b[0m | \u001b[0m 10.18   \u001b[0m | \u001b[0m 1.201   \u001b[0m | \u001b[0m 75.01   \u001b[0m |\n",
      "| \u001b[0m 6       \u001b[0m | \u001b[0m 73.39   \u001b[0m | \u001b[0m 0.979   \u001b[0m | \u001b[0m 74.82   \u001b[0m | \u001b[0m 2.804   \u001b[0m | \u001b[0m 7.893   \u001b[0m | \u001b[0m 1.723   \u001b[0m | \u001b[0m 5.927   \u001b[0m | \u001b[0m 10.99   \u001b[0m | \u001b[0m 29.36   \u001b[0m |\n",
      "| \u001b[95m 7       \u001b[0m | \u001b[95m 82.93   \u001b[0m | \u001b[95m 0.2849  \u001b[0m | \u001b[95m 13.0    \u001b[0m | \u001b[95m 0.1937  \u001b[0m | \u001b[95m 6.788   \u001b[0m | \u001b[95m 2.481   \u001b[0m | \u001b[95m 3.921   \u001b[0m | \u001b[95m 6.407   \u001b[0m | \u001b[95m 5.336   \u001b[0m |\n",
      "| \u001b[0m 8       \u001b[0m | \u001b[0m 74.61   \u001b[0m | \u001b[0m 0.5684  \u001b[0m | \u001b[0m 14.67   \u001b[0m | \u001b[0m 5.893   \u001b[0m | \u001b[0m 6.998   \u001b[0m | \u001b[0m 1.716   \u001b[0m | \u001b[0m 5.555   \u001b[0m | \u001b[0m 8.638   \u001b[0m | \u001b[0m 41.42   \u001b[0m |\n",
      "| \u001b[0m 9       \u001b[0m | \u001b[0m 72.32   \u001b[0m | \u001b[0m 0.04945 \u001b[0m | \u001b[0m 53.59   \u001b[0m | \u001b[0m 6.638   \u001b[0m | \u001b[0m 5.149   \u001b[0m | \u001b[0m 7.612   \u001b[0m | \u001b[0m 7.452   \u001b[0m | \u001b[0m 10.94   \u001b[0m | \u001b[0m 13.75   \u001b[0m |\n",
      "| \u001b[0m 10      \u001b[0m | \u001b[0m 76.68   \u001b[0m | \u001b[0m 0.1379  \u001b[0m | \u001b[0m 80.74   \u001b[0m | \u001b[0m 3.977   \u001b[0m | \u001b[0m 1.654   \u001b[0m | \u001b[0m 7.493   \u001b[0m | \u001b[0m 4.825   \u001b[0m | \u001b[0m 9.259   \u001b[0m | \u001b[0m 72.6    \u001b[0m |\n",
      "| \u001b[0m 11      \u001b[0m | \u001b[0m 73.95   \u001b[0m | \u001b[0m 0.9448  \u001b[0m | \u001b[0m 57.68   \u001b[0m | \u001b[0m 0.8736  \u001b[0m | \u001b[0m 1.072   \u001b[0m | \u001b[0m 7.676   \u001b[0m | \u001b[0m 9.859   \u001b[0m | \u001b[0m 5.711   \u001b[0m | \u001b[0m 67.25   \u001b[0m |\n",
      "| \u001b[0m 12      \u001b[0m | \u001b[0m 73.87   \u001b[0m | \u001b[0m 0.7974  \u001b[0m | \u001b[0m 15.18   \u001b[0m | \u001b[0m 3.237   \u001b[0m | \u001b[0m 4.322   \u001b[0m | \u001b[0m 7.715   \u001b[0m | \u001b[0m 8.121   \u001b[0m | \u001b[0m 6.984   \u001b[0m | \u001b[0m 94.76   \u001b[0m |\n",
      "| \u001b[0m 13      \u001b[0m | \u001b[0m 78.42   \u001b[0m | \u001b[0m 0.28    \u001b[0m | \u001b[0m 83.68   \u001b[0m | \u001b[0m 0.1909  \u001b[0m | \u001b[0m 2.006   \u001b[0m | \u001b[0m 3.429   \u001b[0m | \u001b[0m 1.603   \u001b[0m | \u001b[0m 6.838   \u001b[0m | \u001b[0m 40.95   \u001b[0m |\n",
      "| \u001b[0m 14      \u001b[0m | \u001b[0m 81.36   \u001b[0m | \u001b[0m 0.3623  \u001b[0m | \u001b[0m 46.92   \u001b[0m | \u001b[0m 5.373   \u001b[0m | \u001b[0m 2.653   \u001b[0m | \u001b[0m 7.964   \u001b[0m | \u001b[0m 3.462   \u001b[0m | \u001b[0m 3.77    \u001b[0m | \u001b[0m 89.39   \u001b[0m |\n",
      "| \u001b[0m 15      \u001b[0m | \u001b[0m 75.22   \u001b[0m | \u001b[0m 0.1273  \u001b[0m | \u001b[0m 2.083   \u001b[0m | \u001b[0m 8.872   \u001b[0m | \u001b[0m 7.994   \u001b[0m | \u001b[0m 6.618   \u001b[0m | \u001b[0m 6.185   \u001b[0m | \u001b[0m 10.09   \u001b[0m | \u001b[0m 60.05   \u001b[0m |\n",
      "| \u001b[0m 16      \u001b[0m | \u001b[0m 73.59   \u001b[0m | \u001b[0m 0.9449  \u001b[0m | \u001b[0m 50.8    \u001b[0m | \u001b[0m 3.294   \u001b[0m | \u001b[0m 5.376   \u001b[0m | \u001b[0m 5.139   \u001b[0m | \u001b[0m 7.079   \u001b[0m | \u001b[0m 7.993   \u001b[0m | \u001b[0m 88.04   \u001b[0m |\n",
      "| \u001b[0m 17      \u001b[0m | \u001b[0m 71.49   \u001b[0m | \u001b[0m 0.09027 \u001b[0m | \u001b[0m 46.61   \u001b[0m | \u001b[0m 1.003   \u001b[0m | \u001b[0m 7.06    \u001b[0m | \u001b[0m 4.6     \u001b[0m | \u001b[0m 6.36    \u001b[0m | \u001b[0m 11.8    \u001b[0m | \u001b[0m 19.81   \u001b[0m |\n",
      "| \u001b[0m 18      \u001b[0m | \u001b[0m 77.09   \u001b[0m | \u001b[0m 0.08163 \u001b[0m | \u001b[0m 24.96   \u001b[0m | \u001b[0m 2.219   \u001b[0m | \u001b[0m 8.699   \u001b[0m | \u001b[0m 2.599   \u001b[0m | \u001b[0m 5.573   \u001b[0m | \u001b[0m 5.179   \u001b[0m | \u001b[0m 94.97   \u001b[0m |\n",
      "| \u001b[0m 19      \u001b[0m | \u001b[0m 77.88   \u001b[0m | \u001b[0m 0.2393  \u001b[0m | \u001b[0m 84.02   \u001b[0m | \u001b[0m 8.518   \u001b[0m | \u001b[0m 5.874   \u001b[0m | \u001b[0m 2.388   \u001b[0m | \u001b[0m 2.221   \u001b[0m | \u001b[0m 8.923   \u001b[0m | \u001b[0m 62.17   \u001b[0m |\n",
      "| \u001b[0m 20      \u001b[0m | \u001b[0m 79.97   \u001b[0m | \u001b[0m 0.3013  \u001b[0m | \u001b[0m 50.42   \u001b[0m | \u001b[0m 0.02496 \u001b[0m | \u001b[0m 8.423   \u001b[0m | \u001b[0m 6.058   \u001b[0m | \u001b[0m 3.547   \u001b[0m | \u001b[0m 1.452   \u001b[0m | \u001b[0m 76.37   \u001b[0m |\n",
      "| \u001b[0m 21      \u001b[0m | \u001b[0m 80.64   \u001b[0m | \u001b[0m 0.1497  \u001b[0m | \u001b[0m 38.96   \u001b[0m | \u001b[0m 7.288   \u001b[0m | \u001b[0m 6.121   \u001b[0m | \u001b[0m 7.866   \u001b[0m | \u001b[0m 3.209   \u001b[0m | \u001b[0m 6.991   \u001b[0m | \u001b[0m 11.58   \u001b[0m |\n",
      "| \u001b[0m 22      \u001b[0m | \u001b[0m 72.67   \u001b[0m | \u001b[0m 0.6398  \u001b[0m | \u001b[0m 85.62   \u001b[0m | \u001b[0m 3.537   \u001b[0m | \u001b[0m 2.252   \u001b[0m | \u001b[0m 4.368   \u001b[0m | \u001b[0m 6.032   \u001b[0m | \u001b[0m 11.05   \u001b[0m | \u001b[0m 41.2    \u001b[0m |\n",
      "| \u001b[0m 23      \u001b[0m | \u001b[0m 78.07   \u001b[0m | \u001b[0m 0.319   \u001b[0m | \u001b[0m 15.19   \u001b[0m | \u001b[0m 4.066   \u001b[0m | \u001b[0m 7.223   \u001b[0m | \u001b[0m 1.308   \u001b[0m | \u001b[0m 4.426   \u001b[0m | \u001b[0m 2.622   \u001b[0m | \u001b[0m 2.782   \u001b[0m |\n",
      "| \u001b[0m 24      \u001b[0m | \u001b[0m 73.75   \u001b[0m | \u001b[0m 0.1577  \u001b[0m | \u001b[0m 60.27   \u001b[0m | \u001b[0m 1.481   \u001b[0m | \u001b[0m 5.014   \u001b[0m | \u001b[0m 6.581   \u001b[0m | \u001b[0m 9.311   \u001b[0m | \u001b[0m 7.057   \u001b[0m | \u001b[0m 25.51   \u001b[0m |\n",
      "| \u001b[0m 25      \u001b[0m | \u001b[0m 75.28   \u001b[0m | \u001b[0m 0.4122  \u001b[0m | \u001b[0m 9.708   \u001b[0m | \u001b[0m 0.8714  \u001b[0m | \u001b[0m 4.179   \u001b[0m | \u001b[0m 3.133   \u001b[0m | \u001b[0m 8.801   \u001b[0m | \u001b[0m 1.653   \u001b[0m | \u001b[0m 14.78   \u001b[0m |\n",
      "| \u001b[0m 26      \u001b[0m | \u001b[0m 78.68   \u001b[0m | \u001b[0m 0.3023  \u001b[0m | \u001b[0m 44.7    \u001b[0m | \u001b[0m 1.256   \u001b[0m | \u001b[0m 2.499   \u001b[0m | \u001b[0m 7.281   \u001b[0m | \u001b[0m 2.0     \u001b[0m | \u001b[0m 9.061   \u001b[0m | \u001b[0m 67.03   \u001b[0m |\n",
      "| \u001b[0m 27      \u001b[0m | \u001b[0m 79.47   \u001b[0m | \u001b[0m 0.6716  \u001b[0m | \u001b[0m 74.13   \u001b[0m | \u001b[0m 8.726   \u001b[0m | \u001b[0m 6.291   \u001b[0m | \u001b[0m 1.662   \u001b[0m | \u001b[0m 4.992   \u001b[0m | \u001b[0m 8.013   \u001b[0m | \u001b[0m 5.108   \u001b[0m |\n",
      "| \u001b[0m 28      \u001b[0m | \u001b[0m 74.84   \u001b[0m | \u001b[0m 0.9363  \u001b[0m | \u001b[0m 98.73   \u001b[0m | \u001b[0m 6.256   \u001b[0m | \u001b[0m 2.373   \u001b[0m | \u001b[0m 7.05    \u001b[0m | \u001b[0m 7.771   \u001b[0m | \u001b[0m 8.389   \u001b[0m | \u001b[0m 6.098   \u001b[0m |\n",
      "| \u001b[0m 29      \u001b[0m | \u001b[0m 81.32   \u001b[0m | \u001b[0m 0.5591  \u001b[0m | \u001b[0m 80.87   \u001b[0m | \u001b[0m 9.738   \u001b[0m | \u001b[0m 0.8996  \u001b[0m | \u001b[0m 4.301   \u001b[0m | \u001b[0m 4.378   \u001b[0m | \u001b[0m 2.223   \u001b[0m | \u001b[0m 74.8    \u001b[0m |\n",
      "| \u001b[0m 30      \u001b[0m | \u001b[0m 72.47   \u001b[0m | \u001b[0m 0.8057  \u001b[0m | \u001b[0m 91.21   \u001b[0m | \u001b[0m 6.691   \u001b[0m | \u001b[0m 6.231   \u001b[0m | \u001b[0m 4.306   \u001b[0m | \u001b[0m 9.923   \u001b[0m | \u001b[0m 6.994   \u001b[0m | \u001b[0m 90.43   \u001b[0m |\n",
      "| \u001b[0m 31      \u001b[0m | \u001b[0m 73.33   \u001b[0m | \u001b[0m 0.8264  \u001b[0m | \u001b[0m 84.42   \u001b[0m | \u001b[0m 6.595   \u001b[0m | \u001b[0m 7.349   \u001b[0m | \u001b[0m 3.684   \u001b[0m | \u001b[0m 8.35    \u001b[0m | \u001b[0m 4.722   \u001b[0m | \u001b[0m 6.942   \u001b[0m |\n",
      "| \u001b[0m 32      \u001b[0m | \u001b[0m 80.1    \u001b[0m | \u001b[0m 0.7607  \u001b[0m | \u001b[0m 19.78   \u001b[0m | \u001b[0m 7.618   \u001b[0m | \u001b[0m 9.706   \u001b[0m | \u001b[0m 4.689   \u001b[0m | \u001b[0m 5.293   \u001b[0m | \u001b[0m 3.332   \u001b[0m | \u001b[0m 67.8    \u001b[0m |\n",
      "| \u001b[95m 33      \u001b[0m | \u001b[95m 84.71   \u001b[0m | \u001b[95m 0.9068  \u001b[0m | \u001b[95m 29.71   \u001b[0m | \u001b[95m 7.926   \u001b[0m | \u001b[95m 6.722   \u001b[0m | \u001b[95m 3.05    \u001b[0m | \u001b[95m 1.459   \u001b[0m | \u001b[95m 8.025   \u001b[0m | \u001b[95m 23.94   \u001b[0m |\n",
      "| \u001b[0m 34      \u001b[0m | \u001b[0m 75.48   \u001b[0m | \u001b[0m 0.3073  \u001b[0m | \u001b[0m 92.22   \u001b[0m | \u001b[0m 7.517   \u001b[0m | \u001b[0m 4.567   \u001b[0m | \u001b[0m 6.652   \u001b[0m | \u001b[0m 7.151   \u001b[0m | \u001b[0m 5.449   \u001b[0m | \u001b[0m 70.46   \u001b[0m |\n",
      "| \u001b[0m 35      \u001b[0m | \u001b[0m 75.53   \u001b[0m | \u001b[0m 0.6535  \u001b[0m | \u001b[0m 3.984   \u001b[0m | \u001b[0m 2.272   \u001b[0m | \u001b[0m 3.149   \u001b[0m | \u001b[0m 5.818   \u001b[0m | \u001b[0m 6.206   \u001b[0m | \u001b[0m 1.15    \u001b[0m | \u001b[0m 24.93   \u001b[0m |\n",
      "| \u001b[0m 36      \u001b[0m | \u001b[0m 73.59   \u001b[0m | \u001b[0m 0.8819  \u001b[0m | \u001b[0m 81.15   \u001b[0m | \u001b[0m 7.692   \u001b[0m | \u001b[0m 8.749   \u001b[0m | \u001b[0m 6.7     \u001b[0m | \u001b[0m 8.714   \u001b[0m | \u001b[0m 5.556   \u001b[0m | \u001b[0m 23.23   \u001b[0m |\n",
      "| \u001b[0m 37      \u001b[0m | \u001b[0m 79.54   \u001b[0m | \u001b[0m 0.1374  \u001b[0m | \u001b[0m 31.76   \u001b[0m | \u001b[0m 7.932   \u001b[0m | \u001b[0m 9.068   \u001b[0m | \u001b[0m 7.637   \u001b[0m | \u001b[0m 3.824   \u001b[0m | \u001b[0m 7.676   \u001b[0m | \u001b[0m 88.88   \u001b[0m |\n",
      "| \u001b[0m 38      \u001b[0m | \u001b[0m 74.52   \u001b[0m | \u001b[0m 0.46    \u001b[0m | \u001b[0m 97.2    \u001b[0m | \u001b[0m 2.676   \u001b[0m | \u001b[0m 8.335   \u001b[0m | \u001b[0m 5.116   \u001b[0m | \u001b[0m 6.339   \u001b[0m | \u001b[0m 3.019   \u001b[0m | \u001b[0m 39.86   \u001b[0m |\n",
      "| \u001b[0m 39      \u001b[0m | \u001b[0m 72.62   \u001b[0m | \u001b[0m 0.819   \u001b[0m | \u001b[0m 12.34   \u001b[0m | \u001b[0m 4.054   \u001b[0m | \u001b[0m 3.544   \u001b[0m | \u001b[0m 4.625   \u001b[0m | \u001b[0m 11.92   \u001b[0m | \u001b[0m 3.022   \u001b[0m | \u001b[0m 46.14   \u001b[0m |\n",
      "| \u001b[0m 40      \u001b[0m | \u001b[0m 76.16   \u001b[0m | \u001b[0m 0.5316  \u001b[0m | \u001b[0m 96.91   \u001b[0m | \u001b[0m 7.768   \u001b[0m | \u001b[0m 4.985   \u001b[0m | \u001b[0m 1.595   \u001b[0m | \u001b[0m 11.85   \u001b[0m | \u001b[0m 2.446   \u001b[0m | \u001b[0m 28.92   \u001b[0m |\n",
      "=========================================================================================================================\n",
      "84.71216193301785\n",
      "Prev Inven : 3, Var Sale : 8, Var Product : 1\n",
      "|   iter    |  target   |  g_alpha  |   k_dot   |   rbf_l   |  theta1   | tmp_pr... | tmp_va... | tmp_va... |  w_noise  |\n",
      "-------------------------------------------------------------------------------------------------------------------------\n",
      "| \u001b[0m 1       \u001b[0m | \u001b[0m 80.96   \u001b[0m | \u001b[0m 0.4129  \u001b[0m | \u001b[0m 72.03   \u001b[0m | \u001b[0m 0.001144\u001b[0m | \u001b[0m 3.023   \u001b[0m | \u001b[0m 2.027   \u001b[0m | \u001b[0m 2.016   \u001b[0m | \u001b[0m 3.049   \u001b[0m | \u001b[0m 34.56   \u001b[0m |\n",
      "| \u001b[0m 2       \u001b[0m | \u001b[0m 74.71   \u001b[0m | \u001b[0m 0.3928  \u001b[0m | \u001b[0m 53.88   \u001b[0m | \u001b[0m 4.192   \u001b[0m | \u001b[0m 6.852   \u001b[0m | \u001b[0m 2.431   \u001b[0m | \u001b[0m 10.66   \u001b[0m | \u001b[0m 1.301   \u001b[0m | \u001b[0m 67.05   \u001b[0m |\n",
      "| \u001b[0m 3       \u001b[0m | \u001b[0m 70.9    \u001b[0m | \u001b[0m 0.4131  \u001b[0m | \u001b[0m 55.87   \u001b[0m | \u001b[0m 1.404   \u001b[0m | \u001b[0m 1.981   \u001b[0m | \u001b[0m 6.605   \u001b[0m | \u001b[0m 11.65   \u001b[0m | \u001b[0m 4.448   \u001b[0m | \u001b[0m 69.23   \u001b[0m |\n",
      "| \u001b[0m 4       \u001b[0m | \u001b[0m 68.16   \u001b[0m | \u001b[0m 0.8676  \u001b[0m | \u001b[0m 89.46   \u001b[0m | \u001b[0m 0.8504  \u001b[0m | \u001b[0m 0.3905  \u001b[0m | \u001b[0m 2.189   \u001b[0m | \u001b[0m 10.66   \u001b[0m | \u001b[0m 2.082   \u001b[0m | \u001b[0m 42.11   \u001b[0m |\n",
      "| \u001b[0m 5       \u001b[0m | \u001b[0m 69.89   \u001b[0m | \u001b[0m 0.9483  \u001b[0m | \u001b[0m 53.32   \u001b[0m | \u001b[0m 6.919   \u001b[0m | \u001b[0m 3.155   \u001b[0m | \u001b[0m 5.806   \u001b[0m | \u001b[0m 10.18   \u001b[0m | \u001b[0m 1.201   \u001b[0m | \u001b[0m 75.01   \u001b[0m |\n",
      "| \u001b[0m 6       \u001b[0m | \u001b[0m 62.28   \u001b[0m | \u001b[0m 0.979   \u001b[0m | \u001b[0m 74.82   \u001b[0m | \u001b[0m 2.804   \u001b[0m | \u001b[0m 7.893   \u001b[0m | \u001b[0m 1.723   \u001b[0m | \u001b[0m 5.927   \u001b[0m | \u001b[0m 10.99   \u001b[0m | \u001b[0m 29.36   \u001b[0m |\n",
      "| \u001b[0m 7       \u001b[0m | \u001b[0m 80.61   \u001b[0m | \u001b[0m 0.2849  \u001b[0m | \u001b[0m 13.0    \u001b[0m | \u001b[0m 0.1937  \u001b[0m | \u001b[0m 6.788   \u001b[0m | \u001b[0m 2.481   \u001b[0m | \u001b[0m 3.921   \u001b[0m | \u001b[0m 6.407   \u001b[0m | \u001b[0m 5.336   \u001b[0m |\n",
      "| \u001b[0m 8       \u001b[0m | \u001b[0m 62.92   \u001b[0m | \u001b[0m 0.5684  \u001b[0m | \u001b[0m 14.67   \u001b[0m | \u001b[0m 5.893   \u001b[0m | \u001b[0m 6.998   \u001b[0m | \u001b[0m 1.716   \u001b[0m | \u001b[0m 5.555   \u001b[0m | \u001b[0m 8.638   \u001b[0m | \u001b[0m 41.42   \u001b[0m |\n",
      "| \u001b[0m 9       \u001b[0m | \u001b[0m 61.9    \u001b[0m | \u001b[0m 0.04945 \u001b[0m | \u001b[0m 53.59   \u001b[0m | \u001b[0m 6.638   \u001b[0m | \u001b[0m 5.149   \u001b[0m | \u001b[0m 7.612   \u001b[0m | \u001b[0m 7.452   \u001b[0m | \u001b[0m 10.94   \u001b[0m | \u001b[0m 13.75   \u001b[0m |\n",
      "| \u001b[0m 10      \u001b[0m | \u001b[0m 66.0    \u001b[0m | \u001b[0m 0.1379  \u001b[0m | \u001b[0m 80.74   \u001b[0m | \u001b[0m 3.977   \u001b[0m | \u001b[0m 1.654   \u001b[0m | \u001b[0m 7.493   \u001b[0m | \u001b[0m 4.825   \u001b[0m | \u001b[0m 9.259   \u001b[0m | \u001b[0m 72.6    \u001b[0m |\n",
      "| \u001b[0m 11      \u001b[0m | \u001b[0m 62.63   \u001b[0m | \u001b[0m 0.3701  \u001b[0m | \u001b[0m 13.42   \u001b[0m | \u001b[0m 1.473   \u001b[0m | \u001b[0m 7.341   \u001b[0m | \u001b[0m 3.742   \u001b[0m | \u001b[0m 7.454   \u001b[0m | \u001b[0m 8.444   \u001b[0m | \u001b[0m 5.744   \u001b[0m |\n",
      "| \u001b[0m 12      \u001b[0m | \u001b[0m 61.77   \u001b[0m | \u001b[0m 0.7974  \u001b[0m | \u001b[0m 15.18   \u001b[0m | \u001b[0m 3.237   \u001b[0m | \u001b[0m 4.322   \u001b[0m | \u001b[0m 7.715   \u001b[0m | \u001b[0m 8.121   \u001b[0m | \u001b[0m 6.984   \u001b[0m | \u001b[0m 94.76   \u001b[0m |\n",
      "| \u001b[0m 13      \u001b[0m | \u001b[0m 74.82   \u001b[0m | \u001b[0m 0.28    \u001b[0m | \u001b[0m 83.68   \u001b[0m | \u001b[0m 0.1909  \u001b[0m | \u001b[0m 2.006   \u001b[0m | \u001b[0m 3.429   \u001b[0m | \u001b[0m 1.603   \u001b[0m | \u001b[0m 6.838   \u001b[0m | \u001b[0m 40.95   \u001b[0m |\n",
      "| \u001b[0m 14      \u001b[0m | \u001b[0m 77.75   \u001b[0m | \u001b[0m 0.3623  \u001b[0m | \u001b[0m 46.92   \u001b[0m | \u001b[0m 5.373   \u001b[0m | \u001b[0m 2.653   \u001b[0m | \u001b[0m 7.964   \u001b[0m | \u001b[0m 3.462   \u001b[0m | \u001b[0m 3.77    \u001b[0m | \u001b[0m 89.39   \u001b[0m |\n",
      "| \u001b[0m 15      \u001b[0m | \u001b[0m 64.27   \u001b[0m | \u001b[0m 0.1273  \u001b[0m | \u001b[0m 2.083   \u001b[0m | \u001b[0m 8.872   \u001b[0m | \u001b[0m 7.994   \u001b[0m | \u001b[0m 6.618   \u001b[0m | \u001b[0m 6.185   \u001b[0m | \u001b[0m 10.09   \u001b[0m | \u001b[0m 60.05   \u001b[0m |\n",
      "| \u001b[0m 16      \u001b[0m | \u001b[0m 62.8    \u001b[0m | \u001b[0m 0.9449  \u001b[0m | \u001b[0m 50.8    \u001b[0m | \u001b[0m 3.294   \u001b[0m | \u001b[0m 5.376   \u001b[0m | \u001b[0m 5.139   \u001b[0m | \u001b[0m 7.079   \u001b[0m | \u001b[0m 7.993   \u001b[0m | \u001b[0m 88.04   \u001b[0m |\n",
      "| \u001b[0m 17      \u001b[0m | \u001b[0m 59.79   \u001b[0m | \u001b[0m 0.09027 \u001b[0m | \u001b[0m 46.61   \u001b[0m | \u001b[0m 1.003   \u001b[0m | \u001b[0m 7.06    \u001b[0m | \u001b[0m 4.6     \u001b[0m | \u001b[0m 6.36    \u001b[0m | \u001b[0m 11.8    \u001b[0m | \u001b[0m 19.81   \u001b[0m |\n",
      "| \u001b[0m 18      \u001b[0m | \u001b[0m 72.06   \u001b[0m | \u001b[0m 0.08163 \u001b[0m | \u001b[0m 24.96   \u001b[0m | \u001b[0m 2.219   \u001b[0m | \u001b[0m 8.699   \u001b[0m | \u001b[0m 2.599   \u001b[0m | \u001b[0m 5.573   \u001b[0m | \u001b[0m 5.179   \u001b[0m | \u001b[0m 94.97   \u001b[0m |\n",
      "| \u001b[0m 19      \u001b[0m | \u001b[0m 75.97   \u001b[0m | \u001b[0m 0.2393  \u001b[0m | \u001b[0m 84.02   \u001b[0m | \u001b[0m 8.518   \u001b[0m | \u001b[0m 5.874   \u001b[0m | \u001b[0m 2.388   \u001b[0m | \u001b[0m 2.221   \u001b[0m | \u001b[0m 8.923   \u001b[0m | \u001b[0m 62.17   \u001b[0m |\n",
      "| \u001b[0m 20      \u001b[0m | \u001b[0m 76.32   \u001b[0m | \u001b[0m 0.3013  \u001b[0m | \u001b[0m 50.42   \u001b[0m | \u001b[0m 0.02496 \u001b[0m | \u001b[0m 8.423   \u001b[0m | \u001b[0m 6.058   \u001b[0m | \u001b[0m 3.547   \u001b[0m | \u001b[0m 1.452   \u001b[0m | \u001b[0m 76.37   \u001b[0m |\n",
      "| \u001b[0m 21      \u001b[0m | \u001b[0m 76.82   \u001b[0m | \u001b[0m 0.1497  \u001b[0m | \u001b[0m 38.96   \u001b[0m | \u001b[0m 7.288   \u001b[0m | \u001b[0m 6.121   \u001b[0m | \u001b[0m 7.866   \u001b[0m | \u001b[0m 3.209   \u001b[0m | \u001b[0m 6.991   \u001b[0m | \u001b[0m 11.58   \u001b[0m |\n",
      "| \u001b[0m 22      \u001b[0m | \u001b[0m 60.89   \u001b[0m | \u001b[0m 0.6398  \u001b[0m | \u001b[0m 85.62   \u001b[0m | \u001b[0m 3.537   \u001b[0m | \u001b[0m 2.252   \u001b[0m | \u001b[0m 4.368   \u001b[0m | \u001b[0m 6.032   \u001b[0m | \u001b[0m 11.05   \u001b[0m | \u001b[0m 41.2    \u001b[0m |\n",
      "| \u001b[0m 23      \u001b[0m | \u001b[0m 77.18   \u001b[0m | \u001b[0m 0.319   \u001b[0m | \u001b[0m 15.19   \u001b[0m | \u001b[0m 4.066   \u001b[0m | \u001b[0m 7.223   \u001b[0m | \u001b[0m 1.308   \u001b[0m | \u001b[0m 4.426   \u001b[0m | \u001b[0m 2.622   \u001b[0m | \u001b[0m 2.782   \u001b[0m |\n",
      "| \u001b[0m 24      \u001b[0m | \u001b[0m 62.2    \u001b[0m | \u001b[0m 0.1577  \u001b[0m | \u001b[0m 60.27   \u001b[0m | \u001b[0m 1.481   \u001b[0m | \u001b[0m 5.014   \u001b[0m | \u001b[0m 6.581   \u001b[0m | \u001b[0m 9.311   \u001b[0m | \u001b[0m 7.057   \u001b[0m | \u001b[0m 25.51   \u001b[0m |\n",
      "| \u001b[0m 25      \u001b[0m | \u001b[0m 69.39   \u001b[0m | \u001b[0m 0.4122  \u001b[0m | \u001b[0m 9.708   \u001b[0m | \u001b[0m 0.8714  \u001b[0m | \u001b[0m 4.179   \u001b[0m | \u001b[0m 3.133   \u001b[0m | \u001b[0m 8.801   \u001b[0m | \u001b[0m 1.653   \u001b[0m | \u001b[0m 14.78   \u001b[0m |\n",
      "| \u001b[0m 26      \u001b[0m | \u001b[0m 76.06   \u001b[0m | \u001b[0m 0.3023  \u001b[0m | \u001b[0m 44.7    \u001b[0m | \u001b[0m 1.256   \u001b[0m | \u001b[0m 2.499   \u001b[0m | \u001b[0m 7.281   \u001b[0m | \u001b[0m 2.0     \u001b[0m | \u001b[0m 9.061   \u001b[0m | \u001b[0m 67.03   \u001b[0m |\n",
      "| \u001b[0m 27      \u001b[0m | \u001b[0m 71.75   \u001b[0m | \u001b[0m 0.6716  \u001b[0m | \u001b[0m 74.13   \u001b[0m | \u001b[0m 8.726   \u001b[0m | \u001b[0m 6.291   \u001b[0m | \u001b[0m 1.662   \u001b[0m | \u001b[0m 4.992   \u001b[0m | \u001b[0m 8.013   \u001b[0m | \u001b[0m 5.108   \u001b[0m |\n",
      "| \u001b[0m 28      \u001b[0m | \u001b[0m 64.98   \u001b[0m | \u001b[0m 0.9363  \u001b[0m | \u001b[0m 98.73   \u001b[0m | \u001b[0m 6.256   \u001b[0m | \u001b[0m 2.373   \u001b[0m | \u001b[0m 7.05    \u001b[0m | \u001b[0m 7.771   \u001b[0m | \u001b[0m 8.389   \u001b[0m | \u001b[0m 6.098   \u001b[0m |\n",
      "| \u001b[0m 29      \u001b[0m | \u001b[0m 78.23   \u001b[0m | \u001b[0m 0.5591  \u001b[0m | \u001b[0m 80.87   \u001b[0m | \u001b[0m 9.738   \u001b[0m | \u001b[0m 0.8996  \u001b[0m | \u001b[0m 4.301   \u001b[0m | \u001b[0m 4.378   \u001b[0m | \u001b[0m 2.223   \u001b[0m | \u001b[0m 74.8    \u001b[0m |\n",
      "| \u001b[0m 30      \u001b[0m | \u001b[0m 59.97   \u001b[0m | \u001b[0m 0.8057  \u001b[0m | \u001b[0m 91.21   \u001b[0m | \u001b[0m 6.691   \u001b[0m | \u001b[0m 6.231   \u001b[0m | \u001b[0m 4.306   \u001b[0m | \u001b[0m 9.923   \u001b[0m | \u001b[0m 6.994   \u001b[0m | \u001b[0m 90.43   \u001b[0m |\n",
      "| \u001b[0m 31      \u001b[0m | \u001b[0m 65.03   \u001b[0m | \u001b[0m 0.8264  \u001b[0m | \u001b[0m 84.42   \u001b[0m | \u001b[0m 6.595   \u001b[0m | \u001b[0m 7.349   \u001b[0m | \u001b[0m 3.684   \u001b[0m | \u001b[0m 8.35    \u001b[0m | \u001b[0m 4.722   \u001b[0m | \u001b[0m 6.942   \u001b[0m |\n",
      "| \u001b[0m 32      \u001b[0m | \u001b[0m 74.45   \u001b[0m | \u001b[0m 0.7607  \u001b[0m | \u001b[0m 19.78   \u001b[0m | \u001b[0m 7.618   \u001b[0m | \u001b[0m 9.706   \u001b[0m | \u001b[0m 4.689   \u001b[0m | \u001b[0m 5.293   \u001b[0m | \u001b[0m 3.332   \u001b[0m | \u001b[0m 67.8    \u001b[0m |\n",
      "| \u001b[95m 33      \u001b[0m | \u001b[95m 84.93   \u001b[0m | \u001b[95m 0.9068  \u001b[0m | \u001b[95m 29.71   \u001b[0m | \u001b[95m 7.926   \u001b[0m | \u001b[95m 6.722   \u001b[0m | \u001b[95m 3.05    \u001b[0m | \u001b[95m 1.459   \u001b[0m | \u001b[95m 8.025   \u001b[0m | \u001b[95m 23.94   \u001b[0m |\n",
      "| \u001b[0m 34      \u001b[0m | \u001b[0m 67.53   \u001b[0m | \u001b[0m 0.3073  \u001b[0m | \u001b[0m 92.22   \u001b[0m | \u001b[0m 7.517   \u001b[0m | \u001b[0m 4.567   \u001b[0m | \u001b[0m 6.652   \u001b[0m | \u001b[0m 7.151   \u001b[0m | \u001b[0m 5.449   \u001b[0m | \u001b[0m 70.46   \u001b[0m |\n",
      "| \u001b[0m 35      \u001b[0m | \u001b[0m 70.06   \u001b[0m | \u001b[0m 0.6535  \u001b[0m | \u001b[0m 3.984   \u001b[0m | \u001b[0m 2.272   \u001b[0m | \u001b[0m 3.149   \u001b[0m | \u001b[0m 5.818   \u001b[0m | \u001b[0m 6.206   \u001b[0m | \u001b[0m 1.15    \u001b[0m | \u001b[0m 24.93   \u001b[0m |\n",
      "| \u001b[0m 36      \u001b[0m | \u001b[0m 61.64   \u001b[0m | \u001b[0m 0.8819  \u001b[0m | \u001b[0m 81.15   \u001b[0m | \u001b[0m 7.692   \u001b[0m | \u001b[0m 8.749   \u001b[0m | \u001b[0m 6.7     \u001b[0m | \u001b[0m 8.714   \u001b[0m | \u001b[0m 5.556   \u001b[0m | \u001b[0m 23.23   \u001b[0m |\n",
      "| \u001b[0m 37      \u001b[0m | \u001b[0m 75.27   \u001b[0m | \u001b[0m 0.1374  \u001b[0m | \u001b[0m 31.76   \u001b[0m | \u001b[0m 7.932   \u001b[0m | \u001b[0m 9.068   \u001b[0m | \u001b[0m 7.637   \u001b[0m | \u001b[0m 3.824   \u001b[0m | \u001b[0m 7.676   \u001b[0m | \u001b[0m 88.88   \u001b[0m |\n",
      "| \u001b[0m 38      \u001b[0m | \u001b[0m 67.83   \u001b[0m | \u001b[0m 0.46    \u001b[0m | \u001b[0m 97.2    \u001b[0m | \u001b[0m 2.676   \u001b[0m | \u001b[0m 8.335   \u001b[0m | \u001b[0m 5.116   \u001b[0m | \u001b[0m 6.339   \u001b[0m | \u001b[0m 3.019   \u001b[0m | \u001b[0m 39.86   \u001b[0m |\n",
      "| \u001b[0m 39      \u001b[0m | \u001b[0m 65.13   \u001b[0m | \u001b[0m 0.819   \u001b[0m | \u001b[0m 12.34   \u001b[0m | \u001b[0m 4.054   \u001b[0m | \u001b[0m 3.544   \u001b[0m | \u001b[0m 4.625   \u001b[0m | \u001b[0m 11.92   \u001b[0m | \u001b[0m 3.022   \u001b[0m | \u001b[0m 46.14   \u001b[0m |\n",
      "| \u001b[0m 40      \u001b[0m | \u001b[0m 69.2    \u001b[0m | \u001b[0m 0.5316  \u001b[0m | \u001b[0m 96.91   \u001b[0m | \u001b[0m 7.768   \u001b[0m | \u001b[0m 4.985   \u001b[0m | \u001b[0m 1.595   \u001b[0m | \u001b[0m 11.85   \u001b[0m | \u001b[0m 2.446   \u001b[0m | \u001b[0m 28.92   \u001b[0m |\n",
      "=========================================================================================================================\n",
      "84.9253477650376\n",
      "Prev Inven : 3, Var Sale : 8, Var Product : 1\n",
      "|   iter    |  target   |  g_alpha  |   k_dot   |   rbf_l   |  theta1   | tmp_pr... | tmp_va... | tmp_va... |  w_noise  |\n",
      "-------------------------------------------------------------------------------------------------------------------------\n",
      "| \u001b[0m 1       \u001b[0m | \u001b[0m 89.88   \u001b[0m | \u001b[0m 0.4129  \u001b[0m | \u001b[0m 72.03   \u001b[0m | \u001b[0m 0.001144\u001b[0m | \u001b[0m 3.023   \u001b[0m | \u001b[0m 2.027   \u001b[0m | \u001b[0m 2.016   \u001b[0m | \u001b[0m 3.049   \u001b[0m | \u001b[0m 34.56   \u001b[0m |\n",
      "| \u001b[95m 2       \u001b[0m | \u001b[95m 90.66   \u001b[0m | \u001b[95m 0.3928  \u001b[0m | \u001b[95m 53.88   \u001b[0m | \u001b[95m 4.192   \u001b[0m | \u001b[95m 6.852   \u001b[0m | \u001b[95m 2.431   \u001b[0m | \u001b[95m 10.66   \u001b[0m | \u001b[95m 1.301   \u001b[0m | \u001b[95m 67.05   \u001b[0m |\n",
      "| \u001b[0m 3       \u001b[0m | \u001b[0m 87.19   \u001b[0m | \u001b[0m 0.4131  \u001b[0m | \u001b[0m 55.87   \u001b[0m | \u001b[0m 1.404   \u001b[0m | \u001b[0m 1.981   \u001b[0m | \u001b[0m 6.605   \u001b[0m | \u001b[0m 11.65   \u001b[0m | \u001b[0m 4.448   \u001b[0m | \u001b[0m 69.23   \u001b[0m |\n",
      "| \u001b[0m 4       \u001b[0m | \u001b[0m 89.55   \u001b[0m | \u001b[0m 0.8676  \u001b[0m | \u001b[0m 89.46   \u001b[0m | \u001b[0m 0.8504  \u001b[0m | \u001b[0m 0.3905  \u001b[0m | \u001b[0m 2.189   \u001b[0m | \u001b[0m 10.66   \u001b[0m | \u001b[0m 2.082   \u001b[0m | \u001b[0m 42.11   \u001b[0m |\n",
      "| \u001b[0m 5       \u001b[0m | \u001b[0m 89.54   \u001b[0m | \u001b[0m 0.9483  \u001b[0m | \u001b[0m 53.32   \u001b[0m | \u001b[0m 6.919   \u001b[0m | \u001b[0m 3.155   \u001b[0m | \u001b[0m 5.806   \u001b[0m | \u001b[0m 10.18   \u001b[0m | \u001b[0m 1.201   \u001b[0m | \u001b[0m 75.01   \u001b[0m |\n",
      "| \u001b[0m 6       \u001b[0m | \u001b[0m 80.35   \u001b[0m | \u001b[0m 0.979   \u001b[0m | \u001b[0m 74.82   \u001b[0m | \u001b[0m 2.804   \u001b[0m | \u001b[0m 7.893   \u001b[0m | \u001b[0m 1.723   \u001b[0m | \u001b[0m 5.927   \u001b[0m | \u001b[0m 10.99   \u001b[0m | \u001b[0m 29.36   \u001b[0m |\n",
      "| \u001b[0m 7       \u001b[0m | \u001b[0m 82.74   \u001b[0m | \u001b[0m 0.2849  \u001b[0m | \u001b[0m 13.0    \u001b[0m | \u001b[0m 0.1937  \u001b[0m | \u001b[0m 6.788   \u001b[0m | \u001b[0m 2.481   \u001b[0m | \u001b[0m 3.921   \u001b[0m | \u001b[0m 6.407   \u001b[0m | \u001b[0m 5.336   \u001b[0m |\n",
      "| \u001b[0m 8       \u001b[0m | \u001b[0m 81.72   \u001b[0m | \u001b[0m 0.5684  \u001b[0m | \u001b[0m 14.67   \u001b[0m | \u001b[0m 5.893   \u001b[0m | \u001b[0m 6.998   \u001b[0m | \u001b[0m 1.716   \u001b[0m | \u001b[0m 5.555   \u001b[0m | \u001b[0m 8.638   \u001b[0m | \u001b[0m 41.42   \u001b[0m |\n",
      "| \u001b[0m 9       \u001b[0m | \u001b[0m 78.91   \u001b[0m | \u001b[0m 0.04945 \u001b[0m | \u001b[0m 53.59   \u001b[0m | \u001b[0m 6.638   \u001b[0m | \u001b[0m 5.149   \u001b[0m | \u001b[0m 7.612   \u001b[0m | \u001b[0m 7.452   \u001b[0m | \u001b[0m 10.94   \u001b[0m | \u001b[0m 13.75   \u001b[0m |\n",
      "| \u001b[0m 10      \u001b[0m | \u001b[0m 75.75   \u001b[0m | \u001b[0m 0.1379  \u001b[0m | \u001b[0m 80.74   \u001b[0m | \u001b[0m 3.977   \u001b[0m | \u001b[0m 1.654   \u001b[0m | \u001b[0m 7.493   \u001b[0m | \u001b[0m 4.825   \u001b[0m | \u001b[0m 9.259   \u001b[0m | \u001b[0m 72.6    \u001b[0m |\n",
      "| \u001b[0m 11      \u001b[0m | \u001b[0m 77.22   \u001b[0m | \u001b[0m 0.9448  \u001b[0m | \u001b[0m 57.68   \u001b[0m | \u001b[0m 0.8736  \u001b[0m | \u001b[0m 1.072   \u001b[0m | \u001b[0m 7.676   \u001b[0m | \u001b[0m 9.859   \u001b[0m | \u001b[0m 5.711   \u001b[0m | \u001b[0m 67.25   \u001b[0m |\n",
      "| \u001b[0m 12      \u001b[0m | \u001b[0m 80.6    \u001b[0m | \u001b[0m 0.7974  \u001b[0m | \u001b[0m 15.18   \u001b[0m | \u001b[0m 3.237   \u001b[0m | \u001b[0m 4.322   \u001b[0m | \u001b[0m 7.715   \u001b[0m | \u001b[0m 8.121   \u001b[0m | \u001b[0m 6.984   \u001b[0m | \u001b[0m 94.76   \u001b[0m |\n",
      "| \u001b[0m 13      \u001b[0m | \u001b[0m 86.78   \u001b[0m | \u001b[0m 0.28    \u001b[0m | \u001b[0m 83.68   \u001b[0m | \u001b[0m 0.1909  \u001b[0m | \u001b[0m 2.006   \u001b[0m | \u001b[0m 3.429   \u001b[0m | \u001b[0m 1.603   \u001b[0m | \u001b[0m 6.838   \u001b[0m | \u001b[0m 40.95   \u001b[0m |\n",
      "| \u001b[0m 14      \u001b[0m | \u001b[0m 84.59   \u001b[0m | \u001b[0m 0.3623  \u001b[0m | \u001b[0m 46.92   \u001b[0m | \u001b[0m 5.373   \u001b[0m | \u001b[0m 2.653   \u001b[0m | \u001b[0m 7.964   \u001b[0m | \u001b[0m 3.462   \u001b[0m | \u001b[0m 3.77    \u001b[0m | \u001b[0m 89.39   \u001b[0m |\n",
      "| \u001b[0m 15      \u001b[0m | \u001b[0m 77.89   \u001b[0m | \u001b[0m 0.1273  \u001b[0m | \u001b[0m 2.083   \u001b[0m | \u001b[0m 8.872   \u001b[0m | \u001b[0m 7.994   \u001b[0m | \u001b[0m 6.618   \u001b[0m | \u001b[0m 6.185   \u001b[0m | \u001b[0m 10.09   \u001b[0m | \u001b[0m 60.05   \u001b[0m |\n",
      "| \u001b[0m 16      \u001b[0m | \u001b[0m 83.61   \u001b[0m | \u001b[0m 0.9449  \u001b[0m | \u001b[0m 50.8    \u001b[0m | \u001b[0m 3.294   \u001b[0m | \u001b[0m 5.376   \u001b[0m | \u001b[0m 5.139   \u001b[0m | \u001b[0m 7.079   \u001b[0m | \u001b[0m 7.993   \u001b[0m | \u001b[0m 88.04   \u001b[0m |\n",
      "| \u001b[0m 17      \u001b[0m | \u001b[0m 81.49   \u001b[0m | \u001b[0m 0.09027 \u001b[0m | \u001b[0m 46.61   \u001b[0m | \u001b[0m 1.003   \u001b[0m | \u001b[0m 7.06    \u001b[0m | \u001b[0m 4.6     \u001b[0m | \u001b[0m 6.36    \u001b[0m | \u001b[0m 11.8    \u001b[0m | \u001b[0m 19.81   \u001b[0m |\n",
      "| \u001b[0m 18      \u001b[0m | \u001b[0m 87.56   \u001b[0m | \u001b[0m 0.08163 \u001b[0m | \u001b[0m 24.96   \u001b[0m | \u001b[0m 2.219   \u001b[0m | \u001b[0m 8.699   \u001b[0m | \u001b[0m 2.599   \u001b[0m | \u001b[0m 5.573   \u001b[0m | \u001b[0m 5.179   \u001b[0m | \u001b[0m 94.97   \u001b[0m |\n",
      "| \u001b[0m 19      \u001b[0m | \u001b[0m 89.65   \u001b[0m | \u001b[0m 0.2393  \u001b[0m | \u001b[0m 84.02   \u001b[0m | \u001b[0m 8.518   \u001b[0m | \u001b[0m 5.874   \u001b[0m | \u001b[0m 2.388   \u001b[0m | \u001b[0m 2.221   \u001b[0m | \u001b[0m 8.923   \u001b[0m | \u001b[0m 62.17   \u001b[0m |\n",
      "| \u001b[0m 20      \u001b[0m | \u001b[0m 84.5    \u001b[0m | \u001b[0m 0.3013  \u001b[0m | \u001b[0m 50.42   \u001b[0m | \u001b[0m 0.02496 \u001b[0m | \u001b[0m 8.423   \u001b[0m | \u001b[0m 6.058   \u001b[0m | \u001b[0m 3.547   \u001b[0m | \u001b[0m 1.452   \u001b[0m | \u001b[0m 76.37   \u001b[0m |\n",
      "| \u001b[0m 21      \u001b[0m | \u001b[0m 82.41   \u001b[0m | \u001b[0m 0.1497  \u001b[0m | \u001b[0m 38.96   \u001b[0m | \u001b[0m 7.288   \u001b[0m | \u001b[0m 6.121   \u001b[0m | \u001b[0m 7.866   \u001b[0m | \u001b[0m 3.209   \u001b[0m | \u001b[0m 6.991   \u001b[0m | \u001b[0m 11.58   \u001b[0m |\n",
      "| \u001b[0m 22      \u001b[0m | \u001b[0m 80.4    \u001b[0m | \u001b[0m 0.6398  \u001b[0m | \u001b[0m 85.62   \u001b[0m | \u001b[0m 3.537   \u001b[0m | \u001b[0m 2.252   \u001b[0m | \u001b[0m 4.368   \u001b[0m | \u001b[0m 6.032   \u001b[0m | \u001b[0m 11.05   \u001b[0m | \u001b[0m 41.2    \u001b[0m |\n",
      "| \u001b[0m 23      \u001b[0m | \u001b[0m 89.49   \u001b[0m | \u001b[0m 0.319   \u001b[0m | \u001b[0m 15.19   \u001b[0m | \u001b[0m 4.066   \u001b[0m | \u001b[0m 7.223   \u001b[0m | \u001b[0m 1.308   \u001b[0m | \u001b[0m 4.426   \u001b[0m | \u001b[0m 2.622   \u001b[0m | \u001b[0m 2.782   \u001b[0m |\n",
      "| \u001b[0m 24      \u001b[0m | \u001b[0m 82.1    \u001b[0m | \u001b[0m 0.1577  \u001b[0m | \u001b[0m 60.27   \u001b[0m | \u001b[0m 1.481   \u001b[0m | \u001b[0m 5.014   \u001b[0m | \u001b[0m 6.581   \u001b[0m | \u001b[0m 9.311   \u001b[0m | \u001b[0m 7.057   \u001b[0m | \u001b[0m 25.51   \u001b[0m |\n",
      "| \u001b[0m 25      \u001b[0m | \u001b[0m 88.95   \u001b[0m | \u001b[0m 0.4122  \u001b[0m | \u001b[0m 9.708   \u001b[0m | \u001b[0m 0.8714  \u001b[0m | \u001b[0m 4.179   \u001b[0m | \u001b[0m 3.133   \u001b[0m | \u001b[0m 8.801   \u001b[0m | \u001b[0m 1.653   \u001b[0m | \u001b[0m 14.78   \u001b[0m |\n",
      "| \u001b[95m 26      \u001b[0m | \u001b[95m 90.93   \u001b[0m | \u001b[95m 0.3023  \u001b[0m | \u001b[95m 44.7    \u001b[0m | \u001b[95m 1.256   \u001b[0m | \u001b[95m 2.499   \u001b[0m | \u001b[95m 7.281   \u001b[0m | \u001b[95m 2.0     \u001b[0m | \u001b[95m 9.061   \u001b[0m | \u001b[95m 67.03   \u001b[0m |\n",
      "| \u001b[0m 27      \u001b[0m | \u001b[0m 81.72   \u001b[0m | \u001b[0m 0.6716  \u001b[0m | \u001b[0m 74.13   \u001b[0m | \u001b[0m 8.726   \u001b[0m | \u001b[0m 6.291   \u001b[0m | \u001b[0m 1.662   \u001b[0m | \u001b[0m 4.992   \u001b[0m | \u001b[0m 8.013   \u001b[0m | \u001b[0m 5.108   \u001b[0m |\n",
      "| \u001b[0m 28      \u001b[0m | \u001b[0m 84.28   \u001b[0m | \u001b[0m 0.9363  \u001b[0m | \u001b[0m 98.73   \u001b[0m | \u001b[0m 6.256   \u001b[0m | \u001b[0m 2.373   \u001b[0m | \u001b[0m 7.05    \u001b[0m | \u001b[0m 7.771   \u001b[0m | \u001b[0m 8.389   \u001b[0m | \u001b[0m 6.098   \u001b[0m |\n",
      "| \u001b[0m 29      \u001b[0m | \u001b[0m 87.24   \u001b[0m | \u001b[0m 0.5591  \u001b[0m | \u001b[0m 80.87   \u001b[0m | \u001b[0m 9.738   \u001b[0m | \u001b[0m 0.8996  \u001b[0m | \u001b[0m 4.301   \u001b[0m | \u001b[0m 4.378   \u001b[0m | \u001b[0m 2.223   \u001b[0m | \u001b[0m 74.8    \u001b[0m |\n",
      "| \u001b[0m 30      \u001b[0m | \u001b[0m 82.3    \u001b[0m | \u001b[0m 0.8057  \u001b[0m | \u001b[0m 91.21   \u001b[0m | \u001b[0m 6.691   \u001b[0m | \u001b[0m 6.231   \u001b[0m | \u001b[0m 4.306   \u001b[0m | \u001b[0m 9.923   \u001b[0m | \u001b[0m 6.994   \u001b[0m | \u001b[0m 90.43   \u001b[0m |\n",
      "| \u001b[0m 31      \u001b[0m | \u001b[0m 87.4    \u001b[0m | \u001b[0m 0.8264  \u001b[0m | \u001b[0m 84.42   \u001b[0m | \u001b[0m 6.595   \u001b[0m | \u001b[0m 7.349   \u001b[0m | \u001b[0m 3.684   \u001b[0m | \u001b[0m 8.35    \u001b[0m | \u001b[0m 4.722   \u001b[0m | \u001b[0m 6.942   \u001b[0m |\n",
      "| \u001b[0m 32      \u001b[0m | \u001b[0m 85.78   \u001b[0m | \u001b[0m 0.7607  \u001b[0m | \u001b[0m 19.78   \u001b[0m | \u001b[0m 7.618   \u001b[0m | \u001b[0m 9.706   \u001b[0m | \u001b[0m 4.689   \u001b[0m | \u001b[0m 5.293   \u001b[0m | \u001b[0m 3.332   \u001b[0m | \u001b[0m 67.8    \u001b[0m |\n",
      "| \u001b[0m 33      \u001b[0m | \u001b[0m 89.47   \u001b[0m | \u001b[0m 0.9068  \u001b[0m | \u001b[0m 29.71   \u001b[0m | \u001b[0m 7.926   \u001b[0m | \u001b[0m 6.722   \u001b[0m | \u001b[0m 3.05    \u001b[0m | \u001b[0m 1.459   \u001b[0m | \u001b[0m 8.025   \u001b[0m | \u001b[0m 23.94   \u001b[0m |\n",
      "| \u001b[0m 34      \u001b[0m | \u001b[0m 85.38   \u001b[0m | \u001b[0m 0.3073  \u001b[0m | \u001b[0m 92.22   \u001b[0m | \u001b[0m 7.517   \u001b[0m | \u001b[0m 4.567   \u001b[0m | \u001b[0m 6.652   \u001b[0m | \u001b[0m 7.151   \u001b[0m | \u001b[0m 5.449   \u001b[0m | \u001b[0m 70.46   \u001b[0m |\n",
      "| \u001b[0m 35      \u001b[0m | \u001b[0m 87.62   \u001b[0m | \u001b[0m 0.6535  \u001b[0m | \u001b[0m 3.984   \u001b[0m | \u001b[0m 2.272   \u001b[0m | \u001b[0m 3.149   \u001b[0m | \u001b[0m 5.818   \u001b[0m | \u001b[0m 6.206   \u001b[0m | \u001b[0m 1.15    \u001b[0m | \u001b[0m 24.93   \u001b[0m |\n",
      "| \u001b[0m 36      \u001b[0m | \u001b[0m 81.34   \u001b[0m | \u001b[0m 0.8819  \u001b[0m | \u001b[0m 81.15   \u001b[0m | \u001b[0m 7.692   \u001b[0m | \u001b[0m 8.749   \u001b[0m | \u001b[0m 6.7     \u001b[0m | \u001b[0m 8.714   \u001b[0m | \u001b[0m 5.556   \u001b[0m | \u001b[0m 23.23   \u001b[0m |\n",
      "| \u001b[0m 37      \u001b[0m | \u001b[0m 79.09   \u001b[0m | \u001b[0m 0.1374  \u001b[0m | \u001b[0m 31.76   \u001b[0m | \u001b[0m 7.932   \u001b[0m | \u001b[0m 9.068   \u001b[0m | \u001b[0m 7.637   \u001b[0m | \u001b[0m 3.824   \u001b[0m | \u001b[0m 7.676   \u001b[0m | \u001b[0m 88.88   \u001b[0m |\n",
      "| \u001b[0m 38      \u001b[0m | \u001b[0m 89.01   \u001b[0m | \u001b[0m 0.46    \u001b[0m | \u001b[0m 97.2    \u001b[0m | \u001b[0m 2.676   \u001b[0m | \u001b[0m 8.335   \u001b[0m | \u001b[0m 5.116   \u001b[0m | \u001b[0m 6.339   \u001b[0m | \u001b[0m 3.019   \u001b[0m | \u001b[0m 39.86   \u001b[0m |\n",
      "| \u001b[0m 39      \u001b[0m | \u001b[0m 89.94   \u001b[0m | \u001b[0m 0.819   \u001b[0m | \u001b[0m 12.34   \u001b[0m | \u001b[0m 4.054   \u001b[0m | \u001b[0m 3.544   \u001b[0m | \u001b[0m 4.625   \u001b[0m | \u001b[0m 11.92   \u001b[0m | \u001b[0m 3.022   \u001b[0m | \u001b[0m 46.14   \u001b[0m |\n",
      "| \u001b[0m 40      \u001b[0m | \u001b[0m 90.25   \u001b[0m | \u001b[0m 0.5316  \u001b[0m | \u001b[0m 96.91   \u001b[0m | \u001b[0m 7.768   \u001b[0m | \u001b[0m 4.985   \u001b[0m | \u001b[0m 1.595   \u001b[0m | \u001b[0m 11.85   \u001b[0m | \u001b[0m 2.446   \u001b[0m | \u001b[0m 28.92   \u001b[0m |\n",
      "=========================================================================================================================\n",
      "90.93375038317807\n",
      "Prev Inven : 7, Var Sale : 9, Var Product : 2\n",
      "|   iter    |  target   |  g_alpha  |   k_dot   |   rbf_l   |  theta1   | tmp_pr... | tmp_va... | tmp_va... |  w_noise  |\n",
      "-------------------------------------------------------------------------------------------------------------------------\n",
      "| \u001b[0m 1       \u001b[0m | \u001b[0m 90.22   \u001b[0m | \u001b[0m 0.4129  \u001b[0m | \u001b[0m 72.03   \u001b[0m | \u001b[0m 0.001144\u001b[0m | \u001b[0m 3.023   \u001b[0m | \u001b[0m 2.027   \u001b[0m | \u001b[0m 2.016   \u001b[0m | \u001b[0m 3.049   \u001b[0m | \u001b[0m 34.56   \u001b[0m |\n",
      "| \u001b[95m 2       \u001b[0m | \u001b[95m 90.39   \u001b[0m | \u001b[95m 0.3928  \u001b[0m | \u001b[95m 53.88   \u001b[0m | \u001b[95m 4.192   \u001b[0m | \u001b[95m 6.852   \u001b[0m | \u001b[95m 2.431   \u001b[0m | \u001b[95m 10.66   \u001b[0m | \u001b[95m 1.301   \u001b[0m | \u001b[95m 67.05   \u001b[0m |\n",
      "| \u001b[0m 3       \u001b[0m | \u001b[0m 89.9    \u001b[0m | \u001b[0m 0.4131  \u001b[0m | \u001b[0m 55.87   \u001b[0m | \u001b[0m 1.404   \u001b[0m | \u001b[0m 1.981   \u001b[0m | \u001b[0m 6.605   \u001b[0m | \u001b[0m 11.65   \u001b[0m | \u001b[0m 4.448   \u001b[0m | \u001b[0m 69.23   \u001b[0m |\n",
      "| \u001b[0m 4       \u001b[0m | \u001b[0m 89.39   \u001b[0m | \u001b[0m 0.8676  \u001b[0m | \u001b[0m 89.46   \u001b[0m | \u001b[0m 0.8504  \u001b[0m | \u001b[0m 0.3905  \u001b[0m | \u001b[0m 2.189   \u001b[0m | \u001b[0m 10.66   \u001b[0m | \u001b[0m 2.082   \u001b[0m | \u001b[0m 42.11   \u001b[0m |\n",
      "| \u001b[0m 5       \u001b[0m | \u001b[0m 89.44   \u001b[0m | \u001b[0m 0.9483  \u001b[0m | \u001b[0m 53.32   \u001b[0m | \u001b[0m 6.919   \u001b[0m | \u001b[0m 3.155   \u001b[0m | \u001b[0m 5.806   \u001b[0m | \u001b[0m 10.18   \u001b[0m | \u001b[0m 1.201   \u001b[0m | \u001b[0m 75.01   \u001b[0m |\n",
      "| \u001b[0m 6       \u001b[0m | \u001b[0m 81.36   \u001b[0m | \u001b[0m 0.979   \u001b[0m | \u001b[0m 74.82   \u001b[0m | \u001b[0m 2.804   \u001b[0m | \u001b[0m 7.893   \u001b[0m | \u001b[0m 1.723   \u001b[0m | \u001b[0m 5.927   \u001b[0m | \u001b[0m 10.99   \u001b[0m | \u001b[0m 29.36   \u001b[0m |\n",
      "| \u001b[0m 7       \u001b[0m | \u001b[0m 84.93   \u001b[0m | \u001b[0m 0.2849  \u001b[0m | \u001b[0m 13.0    \u001b[0m | \u001b[0m 0.1937  \u001b[0m | \u001b[0m 6.788   \u001b[0m | \u001b[0m 2.481   \u001b[0m | \u001b[0m 3.921   \u001b[0m | \u001b[0m 6.407   \u001b[0m | \u001b[0m 5.336   \u001b[0m |\n",
      "| \u001b[0m 8       \u001b[0m | \u001b[0m 82.2    \u001b[0m | \u001b[0m 0.5684  \u001b[0m | \u001b[0m 14.67   \u001b[0m | \u001b[0m 5.893   \u001b[0m | \u001b[0m 6.998   \u001b[0m | \u001b[0m 1.716   \u001b[0m | \u001b[0m 5.555   \u001b[0m | \u001b[0m 8.638   \u001b[0m | \u001b[0m 41.42   \u001b[0m |\n",
      "| \u001b[0m 9       \u001b[0m | \u001b[0m 81.41   \u001b[0m | \u001b[0m 0.04945 \u001b[0m | \u001b[0m 53.59   \u001b[0m | \u001b[0m 6.638   \u001b[0m | \u001b[0m 5.149   \u001b[0m | \u001b[0m 7.612   \u001b[0m | \u001b[0m 7.452   \u001b[0m | \u001b[0m 10.94   \u001b[0m | \u001b[0m 13.75   \u001b[0m |\n",
      "| \u001b[0m 10      \u001b[0m | \u001b[0m 81.53   \u001b[0m | \u001b[0m 0.1379  \u001b[0m | \u001b[0m 80.74   \u001b[0m | \u001b[0m 3.977   \u001b[0m | \u001b[0m 1.654   \u001b[0m | \u001b[0m 7.493   \u001b[0m | \u001b[0m 4.825   \u001b[0m | \u001b[0m 9.259   \u001b[0m | \u001b[0m 72.6    \u001b[0m |\n",
      "| \u001b[0m 11      \u001b[0m | \u001b[0m 75.45   \u001b[0m | \u001b[0m 0.9448  \u001b[0m | \u001b[0m 57.68   \u001b[0m | \u001b[0m 0.8736  \u001b[0m | \u001b[0m 1.072   \u001b[0m | \u001b[0m 7.676   \u001b[0m | \u001b[0m 9.859   \u001b[0m | \u001b[0m 5.711   \u001b[0m | \u001b[0m 67.25   \u001b[0m |\n",
      "| \u001b[0m 12      \u001b[0m | \u001b[0m 79.82   \u001b[0m | \u001b[0m 0.7974  \u001b[0m | \u001b[0m 15.18   \u001b[0m | \u001b[0m 3.237   \u001b[0m | \u001b[0m 4.322   \u001b[0m | \u001b[0m 7.715   \u001b[0m | \u001b[0m 8.121   \u001b[0m | \u001b[0m 6.984   \u001b[0m | \u001b[0m 94.76   \u001b[0m |\n",
      "| \u001b[0m 13      \u001b[0m | \u001b[0m 86.06   \u001b[0m | \u001b[0m 0.28    \u001b[0m | \u001b[0m 83.68   \u001b[0m | \u001b[0m 0.1909  \u001b[0m | \u001b[0m 2.006   \u001b[0m | \u001b[0m 3.429   \u001b[0m | \u001b[0m 1.603   \u001b[0m | \u001b[0m 6.838   \u001b[0m | \u001b[0m 40.95   \u001b[0m |\n",
      "| \u001b[0m 14      \u001b[0m | \u001b[0m 88.89   \u001b[0m | \u001b[0m 0.3623  \u001b[0m | \u001b[0m 46.92   \u001b[0m | \u001b[0m 5.373   \u001b[0m | \u001b[0m 2.653   \u001b[0m | \u001b[0m 7.964   \u001b[0m | \u001b[0m 3.462   \u001b[0m | \u001b[0m 3.77    \u001b[0m | \u001b[0m 89.39   \u001b[0m |\n",
      "| \u001b[0m 15      \u001b[0m | \u001b[0m 81.54   \u001b[0m | \u001b[0m 0.1273  \u001b[0m | \u001b[0m 2.083   \u001b[0m | \u001b[0m 8.872   \u001b[0m | \u001b[0m 7.994   \u001b[0m | \u001b[0m 6.618   \u001b[0m | \u001b[0m 6.185   \u001b[0m | \u001b[0m 10.09   \u001b[0m | \u001b[0m 60.05   \u001b[0m |\n",
      "| \u001b[0m 16      \u001b[0m | \u001b[0m 82.62   \u001b[0m | \u001b[0m 0.9449  \u001b[0m | \u001b[0m 50.8    \u001b[0m | \u001b[0m 3.294   \u001b[0m | \u001b[0m 5.376   \u001b[0m | \u001b[0m 5.139   \u001b[0m | \u001b[0m 7.079   \u001b[0m | \u001b[0m 7.993   \u001b[0m | \u001b[0m 88.04   \u001b[0m |\n",
      "| \u001b[0m 17      \u001b[0m | \u001b[0m 81.01   \u001b[0m | \u001b[0m 0.09027 \u001b[0m | \u001b[0m 46.61   \u001b[0m | \u001b[0m 1.003   \u001b[0m | \u001b[0m 7.06    \u001b[0m | \u001b[0m 4.6     \u001b[0m | \u001b[0m 6.36    \u001b[0m | \u001b[0m 11.8    \u001b[0m | \u001b[0m 19.81   \u001b[0m |\n",
      "| \u001b[0m 18      \u001b[0m | \u001b[0m 89.21   \u001b[0m | \u001b[0m 0.08163 \u001b[0m | \u001b[0m 24.96   \u001b[0m | \u001b[0m 2.219   \u001b[0m | \u001b[0m 8.699   \u001b[0m | \u001b[0m 2.599   \u001b[0m | \u001b[0m 5.573   \u001b[0m | \u001b[0m 5.179   \u001b[0m | \u001b[0m 94.97   \u001b[0m |\n",
      "| \u001b[0m 19      \u001b[0m | \u001b[0m 89.57   \u001b[0m | \u001b[0m 0.2393  \u001b[0m | \u001b[0m 84.02   \u001b[0m | \u001b[0m 8.518   \u001b[0m | \u001b[0m 5.874   \u001b[0m | \u001b[0m 2.388   \u001b[0m | \u001b[0m 2.221   \u001b[0m | \u001b[0m 8.923   \u001b[0m | \u001b[0m 62.17   \u001b[0m |\n",
      "| \u001b[0m 20      \u001b[0m | \u001b[0m 87.69   \u001b[0m | \u001b[0m 0.3013  \u001b[0m | \u001b[0m 50.42   \u001b[0m | \u001b[0m 0.02496 \u001b[0m | \u001b[0m 8.423   \u001b[0m | \u001b[0m 6.058   \u001b[0m | \u001b[0m 3.547   \u001b[0m | \u001b[0m 1.452   \u001b[0m | \u001b[0m 76.37   \u001b[0m |\n",
      "| \u001b[0m 21      \u001b[0m | \u001b[0m 84.62   \u001b[0m | \u001b[0m 0.1497  \u001b[0m | \u001b[0m 38.96   \u001b[0m | \u001b[0m 7.288   \u001b[0m | \u001b[0m 6.121   \u001b[0m | \u001b[0m 7.866   \u001b[0m | \u001b[0m 3.209   \u001b[0m | \u001b[0m 6.991   \u001b[0m | \u001b[0m 11.58   \u001b[0m |\n",
      "| \u001b[0m 22      \u001b[0m | \u001b[0m 80.56   \u001b[0m | \u001b[0m 0.6398  \u001b[0m | \u001b[0m 85.62   \u001b[0m | \u001b[0m 3.537   \u001b[0m | \u001b[0m 2.252   \u001b[0m | \u001b[0m 4.368   \u001b[0m | \u001b[0m 6.032   \u001b[0m | \u001b[0m 11.05   \u001b[0m | \u001b[0m 41.2    \u001b[0m |\n",
      "| \u001b[0m 23      \u001b[0m | \u001b[0m 88.45   \u001b[0m | \u001b[0m 0.319   \u001b[0m | \u001b[0m 15.19   \u001b[0m | \u001b[0m 4.066   \u001b[0m | \u001b[0m 7.223   \u001b[0m | \u001b[0m 1.308   \u001b[0m | \u001b[0m 4.426   \u001b[0m | \u001b[0m 2.622   \u001b[0m | \u001b[0m 2.782   \u001b[0m |\n",
      "| \u001b[0m 24      \u001b[0m | \u001b[0m 81.13   \u001b[0m | \u001b[0m 0.1577  \u001b[0m | \u001b[0m 60.27   \u001b[0m | \u001b[0m 1.481   \u001b[0m | \u001b[0m 5.014   \u001b[0m | \u001b[0m 6.581   \u001b[0m | \u001b[0m 9.311   \u001b[0m | \u001b[0m 7.057   \u001b[0m | \u001b[0m 25.51   \u001b[0m |\n",
      "| \u001b[0m 25      \u001b[0m | \u001b[0m 88.95   \u001b[0m | \u001b[0m 0.4122  \u001b[0m | \u001b[0m 9.708   \u001b[0m | \u001b[0m 0.8714  \u001b[0m | \u001b[0m 4.179   \u001b[0m | \u001b[0m 3.133   \u001b[0m | \u001b[0m 8.801   \u001b[0m | \u001b[0m 1.653   \u001b[0m | \u001b[0m 14.78   \u001b[0m |\n",
      "| \u001b[0m 26      \u001b[0m | \u001b[0m 88.93   \u001b[0m | \u001b[0m 0.3023  \u001b[0m | \u001b[0m 44.7    \u001b[0m | \u001b[0m 1.256   \u001b[0m | \u001b[0m 2.499   \u001b[0m | \u001b[0m 7.281   \u001b[0m | \u001b[0m 2.0     \u001b[0m | \u001b[0m 9.061   \u001b[0m | \u001b[0m 67.03   \u001b[0m |\n",
      "| \u001b[0m 27      \u001b[0m | \u001b[0m 82.41   \u001b[0m | \u001b[0m 0.6716  \u001b[0m | \u001b[0m 74.13   \u001b[0m | \u001b[0m 8.726   \u001b[0m | \u001b[0m 6.291   \u001b[0m | \u001b[0m 1.662   \u001b[0m | \u001b[0m 4.992   \u001b[0m | \u001b[0m 8.013   \u001b[0m | \u001b[0m 5.108   \u001b[0m |\n",
      "| \u001b[0m 28      \u001b[0m | \u001b[0m 84.07   \u001b[0m | \u001b[0m 0.9363  \u001b[0m | \u001b[0m 98.73   \u001b[0m | \u001b[0m 6.256   \u001b[0m | \u001b[0m 2.373   \u001b[0m | \u001b[0m 7.05    \u001b[0m | \u001b[0m 7.771   \u001b[0m | \u001b[0m 8.389   \u001b[0m | \u001b[0m 6.098   \u001b[0m |\n",
      "| \u001b[0m 29      \u001b[0m | \u001b[0m 88.68   \u001b[0m | \u001b[0m 0.5591  \u001b[0m | \u001b[0m 80.87   \u001b[0m | \u001b[0m 9.738   \u001b[0m | \u001b[0m 0.8996  \u001b[0m | \u001b[0m 4.301   \u001b[0m | \u001b[0m 4.378   \u001b[0m | \u001b[0m 2.223   \u001b[0m | \u001b[0m 74.8    \u001b[0m |\n",
      "| \u001b[0m 30      \u001b[0m | \u001b[0m 77.43   \u001b[0m | \u001b[0m 0.8057  \u001b[0m | \u001b[0m 91.21   \u001b[0m | \u001b[0m 6.691   \u001b[0m | \u001b[0m 6.231   \u001b[0m | \u001b[0m 4.306   \u001b[0m | \u001b[0m 9.923   \u001b[0m | \u001b[0m 6.994   \u001b[0m | \u001b[0m 90.43   \u001b[0m |\n",
      "| \u001b[0m 31      \u001b[0m | \u001b[0m 88.14   \u001b[0m | \u001b[0m 0.8264  \u001b[0m | \u001b[0m 84.42   \u001b[0m | \u001b[0m 6.595   \u001b[0m | \u001b[0m 7.349   \u001b[0m | \u001b[0m 3.684   \u001b[0m | \u001b[0m 8.35    \u001b[0m | \u001b[0m 4.722   \u001b[0m | \u001b[0m 6.942   \u001b[0m |\n",
      "| \u001b[0m 32      \u001b[0m | \u001b[0m 87.88   \u001b[0m | \u001b[0m 0.7607  \u001b[0m | \u001b[0m 19.78   \u001b[0m | \u001b[0m 7.618   \u001b[0m | \u001b[0m 9.706   \u001b[0m | \u001b[0m 4.689   \u001b[0m | \u001b[0m 5.293   \u001b[0m | \u001b[0m 3.332   \u001b[0m | \u001b[0m 67.8    \u001b[0m |\n",
      "| \u001b[0m 33      \u001b[0m | \u001b[0m 90.35   \u001b[0m | \u001b[0m 0.9068  \u001b[0m | \u001b[0m 29.71   \u001b[0m | \u001b[0m 7.926   \u001b[0m | \u001b[0m 6.722   \u001b[0m | \u001b[0m 3.05    \u001b[0m | \u001b[0m 1.459   \u001b[0m | \u001b[0m 8.025   \u001b[0m | \u001b[0m 23.94   \u001b[0m |\n",
      "| \u001b[0m 34      \u001b[0m | \u001b[0m 88.55   \u001b[0m | \u001b[0m 0.3073  \u001b[0m | \u001b[0m 92.22   \u001b[0m | \u001b[0m 7.517   \u001b[0m | \u001b[0m 4.567   \u001b[0m | \u001b[0m 6.652   \u001b[0m | \u001b[0m 7.151   \u001b[0m | \u001b[0m 5.449   \u001b[0m | \u001b[0m 70.46   \u001b[0m |\n",
      "| \u001b[0m 35      \u001b[0m | \u001b[0m 89.11   \u001b[0m | \u001b[0m 0.6535  \u001b[0m | \u001b[0m 3.984   \u001b[0m | \u001b[0m 2.272   \u001b[0m | \u001b[0m 3.149   \u001b[0m | \u001b[0m 5.818   \u001b[0m | \u001b[0m 6.206   \u001b[0m | \u001b[0m 1.15    \u001b[0m | \u001b[0m 24.93   \u001b[0m |\n",
      "| \u001b[0m 36      \u001b[0m | \u001b[0m 80.91   \u001b[0m | \u001b[0m 0.8819  \u001b[0m | \u001b[0m 81.15   \u001b[0m | \u001b[0m 7.692   \u001b[0m | \u001b[0m 8.749   \u001b[0m | \u001b[0m 6.7     \u001b[0m | \u001b[0m 8.714   \u001b[0m | \u001b[0m 5.556   \u001b[0m | \u001b[0m 23.23   \u001b[0m |\n",
      "| \u001b[0m 37      \u001b[0m | \u001b[0m 81.88   \u001b[0m | \u001b[0m 0.1374  \u001b[0m | \u001b[0m 31.76   \u001b[0m | \u001b[0m 7.932   \u001b[0m | \u001b[0m 9.068   \u001b[0m | \u001b[0m 7.637   \u001b[0m | \u001b[0m 3.824   \u001b[0m | \u001b[0m 7.676   \u001b[0m | \u001b[0m 88.88   \u001b[0m |\n",
      "| \u001b[0m 38      \u001b[0m | \u001b[0m 89.44   \u001b[0m | \u001b[0m 0.46    \u001b[0m | \u001b[0m 97.2    \u001b[0m | \u001b[0m 2.676   \u001b[0m | \u001b[0m 8.335   \u001b[0m | \u001b[0m 5.116   \u001b[0m | \u001b[0m 6.339   \u001b[0m | \u001b[0m 3.019   \u001b[0m | \u001b[0m 39.86   \u001b[0m |\n",
      "| \u001b[0m 39      \u001b[0m | \u001b[0m 89.53   \u001b[0m | \u001b[0m 0.819   \u001b[0m | \u001b[0m 12.34   \u001b[0m | \u001b[0m 4.054   \u001b[0m | \u001b[0m 3.544   \u001b[0m | \u001b[0m 4.625   \u001b[0m | \u001b[0m 11.92   \u001b[0m | \u001b[0m 3.022   \u001b[0m | \u001b[0m 46.14   \u001b[0m |\n",
      "| \u001b[0m 40      \u001b[0m | \u001b[0m 89.79   \u001b[0m | \u001b[0m 0.5316  \u001b[0m | \u001b[0m 96.91   \u001b[0m | \u001b[0m 7.768   \u001b[0m | \u001b[0m 4.985   \u001b[0m | \u001b[0m 1.595   \u001b[0m | \u001b[0m 11.85   \u001b[0m | \u001b[0m 2.446   \u001b[0m | \u001b[0m 28.92   \u001b[0m |\n",
      "=========================================================================================================================\n",
      "90.39133839576186\n",
      "Prev Inven : 2, Var Sale : 1, Var Product : 11\n",
      "|   iter    |  target   |  g_alpha  |   k_dot   |   rbf_l   |  theta1   | tmp_pr... | tmp_va... | tmp_va... |  w_noise  |\n",
      "-------------------------------------------------------------------------------------------------------------------------\n",
      "| \u001b[0m 1       \u001b[0m | \u001b[0m 93.1    \u001b[0m | \u001b[0m 0.4129  \u001b[0m | \u001b[0m 72.03   \u001b[0m | \u001b[0m 0.001144\u001b[0m | \u001b[0m 3.023   \u001b[0m | \u001b[0m 2.027   \u001b[0m | \u001b[0m 2.016   \u001b[0m | \u001b[0m 3.049   \u001b[0m | \u001b[0m 34.56   \u001b[0m |\n",
      "| \u001b[95m 2       \u001b[0m | \u001b[95m 94.73   \u001b[0m | \u001b[95m 0.3928  \u001b[0m | \u001b[95m 53.88   \u001b[0m | \u001b[95m 4.192   \u001b[0m | \u001b[95m 6.852   \u001b[0m | \u001b[95m 2.431   \u001b[0m | \u001b[95m 10.66   \u001b[0m | \u001b[95m 1.301   \u001b[0m | \u001b[95m 67.05   \u001b[0m |\n",
      "| \u001b[0m 3       \u001b[0m | \u001b[0m 90.63   \u001b[0m | \u001b[0m 0.4131  \u001b[0m | \u001b[0m 55.87   \u001b[0m | \u001b[0m 1.404   \u001b[0m | \u001b[0m 1.981   \u001b[0m | \u001b[0m 6.605   \u001b[0m | \u001b[0m 11.65   \u001b[0m | \u001b[0m 4.448   \u001b[0m | \u001b[0m 69.23   \u001b[0m |\n",
      "| \u001b[95m 4       \u001b[0m | \u001b[95m 94.88   \u001b[0m | \u001b[95m 0.8676  \u001b[0m | \u001b[95m 89.46   \u001b[0m | \u001b[95m 0.8504  \u001b[0m | \u001b[95m 0.3905  \u001b[0m | \u001b[95m 2.189   \u001b[0m | \u001b[95m 10.66   \u001b[0m | \u001b[95m 2.082   \u001b[0m | \u001b[95m 42.11   \u001b[0m |\n",
      "| \u001b[0m 5       \u001b[0m | \u001b[0m 93.69   \u001b[0m | \u001b[0m 0.9483  \u001b[0m | \u001b[0m 53.32   \u001b[0m | \u001b[0m 6.919   \u001b[0m | \u001b[0m 3.155   \u001b[0m | \u001b[0m 5.806   \u001b[0m | \u001b[0m 10.18   \u001b[0m | \u001b[0m 1.201   \u001b[0m | \u001b[0m 75.01   \u001b[0m |\n",
      "| \u001b[0m 6       \u001b[0m | \u001b[0m 90.98   \u001b[0m | \u001b[0m 0.979   \u001b[0m | \u001b[0m 74.82   \u001b[0m | \u001b[0m 2.804   \u001b[0m | \u001b[0m 7.893   \u001b[0m | \u001b[0m 1.723   \u001b[0m | \u001b[0m 5.927   \u001b[0m | \u001b[0m 10.99   \u001b[0m | \u001b[0m 29.36   \u001b[0m |\n",
      "| \u001b[0m 7       \u001b[0m | \u001b[0m 90.88   \u001b[0m | \u001b[0m 0.2849  \u001b[0m | \u001b[0m 13.0    \u001b[0m | \u001b[0m 0.1937  \u001b[0m | \u001b[0m 6.788   \u001b[0m | \u001b[0m 2.481   \u001b[0m | \u001b[0m 3.921   \u001b[0m | \u001b[0m 6.407   \u001b[0m | \u001b[0m 5.336   \u001b[0m |\n",
      "| \u001b[0m 8       \u001b[0m | \u001b[0m 91.18   \u001b[0m | \u001b[0m 0.5684  \u001b[0m | \u001b[0m 14.67   \u001b[0m | \u001b[0m 5.893   \u001b[0m | \u001b[0m 6.998   \u001b[0m | \u001b[0m 1.716   \u001b[0m | \u001b[0m 5.555   \u001b[0m | \u001b[0m 8.638   \u001b[0m | \u001b[0m 41.42   \u001b[0m |\n",
      "| \u001b[0m 9       \u001b[0m | \u001b[0m 89.81   \u001b[0m | \u001b[0m 0.04945 \u001b[0m | \u001b[0m 53.59   \u001b[0m | \u001b[0m 6.638   \u001b[0m | \u001b[0m 5.149   \u001b[0m | \u001b[0m 7.612   \u001b[0m | \u001b[0m 7.452   \u001b[0m | \u001b[0m 10.94   \u001b[0m | \u001b[0m 13.75   \u001b[0m |\n",
      "| \u001b[0m 10      \u001b[0m | \u001b[0m 88.22   \u001b[0m | \u001b[0m 0.1379  \u001b[0m | \u001b[0m 80.74   \u001b[0m | \u001b[0m 3.977   \u001b[0m | \u001b[0m 1.654   \u001b[0m | \u001b[0m 7.493   \u001b[0m | \u001b[0m 4.825   \u001b[0m | \u001b[0m 9.259   \u001b[0m | \u001b[0m 72.6    \u001b[0m |\n",
      "| \u001b[0m 11      \u001b[0m | \u001b[0m 91.41   \u001b[0m | \u001b[0m 0.8996  \u001b[0m | \u001b[0m 95.18   \u001b[0m | \u001b[0m 9.181   \u001b[0m | \u001b[0m 3.227   \u001b[0m | \u001b[0m 6.661   \u001b[0m | \u001b[0m 11.08   \u001b[0m | \u001b[0m 5.039   \u001b[0m | \u001b[0m 69.01   \u001b[0m |\n",
      "| \u001b[0m 12      \u001b[0m | \u001b[0m 84.97   \u001b[0m | \u001b[0m 0.7974  \u001b[0m | \u001b[0m 15.18   \u001b[0m | \u001b[0m 3.237   \u001b[0m | \u001b[0m 4.322   \u001b[0m | \u001b[0m 7.715   \u001b[0m | \u001b[0m 8.121   \u001b[0m | \u001b[0m 6.984   \u001b[0m | \u001b[0m 94.76   \u001b[0m |\n",
      "| \u001b[0m 13      \u001b[0m | \u001b[0m 88.67   \u001b[0m | \u001b[0m 0.28    \u001b[0m | \u001b[0m 83.68   \u001b[0m | \u001b[0m 0.1909  \u001b[0m | \u001b[0m 2.006   \u001b[0m | \u001b[0m 3.429   \u001b[0m | \u001b[0m 1.603   \u001b[0m | \u001b[0m 6.838   \u001b[0m | \u001b[0m 40.95   \u001b[0m |\n",
      "| \u001b[0m 14      \u001b[0m | \u001b[0m 91.3    \u001b[0m | \u001b[0m 0.3623  \u001b[0m | \u001b[0m 46.92   \u001b[0m | \u001b[0m 5.373   \u001b[0m | \u001b[0m 2.653   \u001b[0m | \u001b[0m 7.964   \u001b[0m | \u001b[0m 3.462   \u001b[0m | \u001b[0m 3.77    \u001b[0m | \u001b[0m 89.39   \u001b[0m |\n",
      "| \u001b[0m 15      \u001b[0m | \u001b[0m 93.84   \u001b[0m | \u001b[0m 0.6089  \u001b[0m | \u001b[0m 53.51   \u001b[0m | \u001b[0m 5.472   \u001b[0m | \u001b[0m 5.774   \u001b[0m | \u001b[0m 3.436   \u001b[0m | \u001b[0m 10.4    \u001b[0m | \u001b[0m 1.023   \u001b[0m | \u001b[0m 70.0    \u001b[0m |\n",
      "| \u001b[0m 16      \u001b[0m | \u001b[0m 94.68   \u001b[0m | \u001b[0m 0.452   \u001b[0m | \u001b[0m 51.61   \u001b[0m | \u001b[0m 7.585   \u001b[0m | \u001b[0m 10.0    \u001b[0m | \u001b[0m 1.0     \u001b[0m | \u001b[0m 9.527   \u001b[0m | \u001b[0m 1.0     \u001b[0m | \u001b[0m 65.85   \u001b[0m |\n"
     ]
    },
    {
     "name": "stderr",
     "output_type": "stream",
     "text": [
      "/opt/conda/envs/rapids/lib/python3.7/site-packages/sklearn/gaussian_process/kernels.py:271: RuntimeWarning: divide by zero encountered in log\n",
      "  return np.log(np.hstack(theta))\n"
     ]
    },
    {
     "name": "stdout",
     "output_type": "stream",
     "text": [
      "| \u001b[0m 17      \u001b[0m | \u001b[0m 93.66   \u001b[0m | \u001b[0m 0.99    \u001b[0m | \u001b[0m 96.47   \u001b[0m | \u001b[0m 1.666   \u001b[0m | \u001b[0m 0.0     \u001b[0m | \u001b[0m 1.0     \u001b[0m | \u001b[0m 12.0    \u001b[0m | \u001b[0m 1.0     \u001b[0m | \u001b[0m 43.27   \u001b[0m |\n",
      "| \u001b[0m 18      \u001b[0m | \u001b[0m 93.68   \u001b[0m | \u001b[0m 0.99    \u001b[0m | \u001b[0m 47.4    \u001b[0m | \u001b[0m 0.4655  \u001b[0m | \u001b[0m 10.0    \u001b[0m | \u001b[0m 1.0     \u001b[0m | \u001b[0m 12.0    \u001b[0m | \u001b[0m 1.0     \u001b[0m | \u001b[0m 64.95   \u001b[0m |\n",
      "| \u001b[0m 19      \u001b[0m | \u001b[0m 92.87   \u001b[0m | \u001b[0m 0.0     \u001b[0m | \u001b[0m 54.98   \u001b[0m | \u001b[0m 2.197   \u001b[0m | \u001b[0m 10.0    \u001b[0m | \u001b[0m 1.0     \u001b[0m | \u001b[0m 3.555   \u001b[0m | \u001b[0m 1.0     \u001b[0m | \u001b[0m 62.67   \u001b[0m |\n",
      "| \u001b[0m 20      \u001b[0m | \u001b[0m 93.66   \u001b[0m | \u001b[0m 0.99    \u001b[0m | \u001b[0m 51.66   \u001b[0m | \u001b[0m 8.123   \u001b[0m | \u001b[0m 4.171   \u001b[0m | \u001b[0m 1.0     \u001b[0m | \u001b[0m 12.0    \u001b[0m | \u001b[0m 1.0     \u001b[0m | \u001b[0m 59.55   \u001b[0m |\n"
     ]
    },
    {
     "name": "stderr",
     "output_type": "stream",
     "text": [
      "/opt/conda/envs/rapids/lib/python3.7/site-packages/sklearn/gaussian_process/kernels.py:271: RuntimeWarning: divide by zero encountered in log\n",
      "  return np.log(np.hstack(theta))\n"
     ]
    },
    {
     "name": "stdout",
     "output_type": "stream",
     "text": [
      "| \u001b[0m 21      \u001b[0m | \u001b[0m 93.66   \u001b[0m | \u001b[0m 0.99    \u001b[0m | \u001b[0m 89.14   \u001b[0m | \u001b[0m 9.233   \u001b[0m | \u001b[0m 0.0     \u001b[0m | \u001b[0m 1.0     \u001b[0m | \u001b[0m 12.0    \u001b[0m | \u001b[0m 1.0     \u001b[0m | \u001b[0m 39.59   \u001b[0m |\n",
      "| \u001b[0m 22      \u001b[0m | \u001b[0m 93.68   \u001b[0m | \u001b[0m 0.0     \u001b[0m | \u001b[0m 60.59   \u001b[0m | \u001b[0m 9.886   \u001b[0m | \u001b[0m 10.0    \u001b[0m | \u001b[0m 1.0     \u001b[0m | \u001b[0m 12.0    \u001b[0m | \u001b[0m 1.0     \u001b[0m | \u001b[0m 64.9    \u001b[0m |\n"
     ]
    },
    {
     "name": "stderr",
     "output_type": "stream",
     "text": [
      "/opt/conda/envs/rapids/lib/python3.7/site-packages/sklearn/gaussian_process/kernels.py:271: RuntimeWarning: divide by zero encountered in log\n",
      "  return np.log(np.hstack(theta))\n"
     ]
    },
    {
     "name": "stdout",
     "output_type": "stream",
     "text": [
      "| \u001b[0m 23      \u001b[0m | \u001b[0m 93.91   \u001b[0m | \u001b[0m 0.99    \u001b[0m | \u001b[0m 92.17   \u001b[0m | \u001b[0m 0.0     \u001b[0m | \u001b[0m 0.0     \u001b[0m | \u001b[0m 7.216   \u001b[0m | \u001b[0m 12.0    \u001b[0m | \u001b[0m 1.0     \u001b[0m | \u001b[0m 34.56   \u001b[0m |\n"
     ]
    },
    {
     "name": "stderr",
     "output_type": "stream",
     "text": [
      "/opt/conda/envs/rapids/lib/python3.7/site-packages/sklearn/gaussian_process/kernels.py:271: RuntimeWarning: divide by zero encountered in log\n",
      "  return np.log(np.hstack(theta))\n"
     ]
    },
    {
     "name": "stdout",
     "output_type": "stream",
     "text": [
      "| \u001b[0m 24      \u001b[0m | \u001b[0m 93.66   \u001b[0m | \u001b[0m 0.99    \u001b[0m | \u001b[0m 91.28   \u001b[0m | \u001b[0m 0.0     \u001b[0m | \u001b[0m 9.736   \u001b[0m | \u001b[0m 1.0     \u001b[0m | \u001b[0m 12.0    \u001b[0m | \u001b[0m 1.0     \u001b[0m | \u001b[0m 39.43   \u001b[0m |\n",
      "| \u001b[0m 25      \u001b[0m | \u001b[0m 83.21   \u001b[0m | \u001b[0m 0.0     \u001b[0m | \u001b[0m 50.68   \u001b[0m | \u001b[0m 10.0    \u001b[0m | \u001b[0m 10.0    \u001b[0m | \u001b[0m 1.0     \u001b[0m | \u001b[0m 12.0    \u001b[0m | \u001b[0m 11.75   \u001b[0m | \u001b[0m 66.44   \u001b[0m |\n",
      "| \u001b[0m 26      \u001b[0m | \u001b[0m 93.15   \u001b[0m | \u001b[0m 0.99    \u001b[0m | \u001b[0m 90.96   \u001b[0m | \u001b[0m 4.53    \u001b[0m | \u001b[0m 4.619   \u001b[0m | \u001b[0m 8.0     \u001b[0m | \u001b[0m 12.0    \u001b[0m | \u001b[0m 1.0     \u001b[0m | \u001b[0m 45.62   \u001b[0m |\n"
     ]
    },
    {
     "name": "stderr",
     "output_type": "stream",
     "text": [
      "/opt/conda/envs/rapids/lib/python3.7/site-packages/sklearn/gaussian_process/kernels.py:271: RuntimeWarning: divide by zero encountered in log\n",
      "  return np.log(np.hstack(theta))\n"
     ]
    },
    {
     "name": "stdout",
     "output_type": "stream",
     "text": [
      "| \u001b[0m 27      \u001b[0m | \u001b[0m 93.66   \u001b[0m | \u001b[0m 0.99    \u001b[0m | \u001b[0m 83.6    \u001b[0m | \u001b[0m 0.0     \u001b[0m | \u001b[0m 0.0     \u001b[0m | \u001b[0m 1.0     \u001b[0m | \u001b[0m 12.0    \u001b[0m | \u001b[0m 1.0     \u001b[0m | \u001b[0m 33.29   \u001b[0m |\n",
      "| \u001b[0m 28      \u001b[0m | \u001b[0m 93.66   \u001b[0m | \u001b[0m 0.0     \u001b[0m | \u001b[0m 96.28   \u001b[0m | \u001b[0m 6.208   \u001b[0m | \u001b[0m 5.221   \u001b[0m | \u001b[0m 1.0     \u001b[0m | \u001b[0m 12.0    \u001b[0m | \u001b[0m 1.0     \u001b[0m | \u001b[0m 28.27   \u001b[0m |\n"
     ]
    },
    {
     "name": "stderr",
     "output_type": "stream",
     "text": [
      "/opt/conda/envs/rapids/lib/python3.7/site-packages/sklearn/gaussian_process/kernels.py:271: RuntimeWarning: divide by zero encountered in log\n",
      "  return np.log(np.hstack(theta))\n"
     ]
    },
    {
     "name": "stdout",
     "output_type": "stream",
     "text": [
      "| \u001b[0m 29      \u001b[0m | \u001b[0m 93.66   \u001b[0m | \u001b[0m 0.99    \u001b[0m | \u001b[0m 90.6    \u001b[0m | \u001b[0m 0.0     \u001b[0m | \u001b[0m 0.0     \u001b[0m | \u001b[0m 1.0     \u001b[0m | \u001b[0m 12.0    \u001b[0m | \u001b[0m 1.0     \u001b[0m | \u001b[0m 19.49   \u001b[0m |\n"
     ]
    },
    {
     "name": "stderr",
     "output_type": "stream",
     "text": [
      "/opt/conda/envs/rapids/lib/python3.7/site-packages/sklearn/gaussian_process/kernels.py:271: RuntimeWarning: divide by zero encountered in log\n",
      "  return np.log(np.hstack(theta))\n"
     ]
    },
    {
     "name": "stdout",
     "output_type": "stream",
     "text": [
      "| \u001b[0m 30      \u001b[0m | \u001b[0m 84.38   \u001b[0m | \u001b[0m 0.99    \u001b[0m | \u001b[0m 95.95   \u001b[0m | \u001b[0m 0.0     \u001b[0m | \u001b[0m 0.0     \u001b[0m | \u001b[0m 1.0     \u001b[0m | \u001b[0m 12.0    \u001b[0m | \u001b[0m 10.38   \u001b[0m | \u001b[0m 32.36   \u001b[0m |\n",
      "| \u001b[0m 31      \u001b[0m | \u001b[0m 93.91   \u001b[0m | \u001b[0m 0.0     \u001b[0m | \u001b[0m 87.33   \u001b[0m | \u001b[0m 6.695   \u001b[0m | \u001b[0m 6.79    \u001b[0m | \u001b[0m 7.392   \u001b[0m | \u001b[0m 12.0    \u001b[0m | \u001b[0m 1.0     \u001b[0m | \u001b[0m 30.93   \u001b[0m |\n",
      "| \u001b[0m 32      \u001b[0m | \u001b[0m 94.18   \u001b[0m | \u001b[0m 0.0     \u001b[0m | \u001b[0m 88.96   \u001b[0m | \u001b[0m 10.0    \u001b[0m | \u001b[0m 6.657   \u001b[0m | \u001b[0m 2.146   \u001b[0m | \u001b[0m 12.0    \u001b[0m | \u001b[0m 1.0     \u001b[0m | \u001b[0m 19.93   \u001b[0m |\n"
     ]
    },
    {
     "name": "stderr",
     "output_type": "stream",
     "text": [
      "/opt/conda/envs/rapids/lib/python3.7/site-packages/sklearn/gaussian_process/kernels.py:271: RuntimeWarning: divide by zero encountered in log\n",
      "  return np.log(np.hstack(theta))\n"
     ]
    },
    {
     "name": "stdout",
     "output_type": "stream",
     "text": [
      "| \u001b[0m 33      \u001b[0m | \u001b[0m 93.15   \u001b[0m | \u001b[0m 0.99    \u001b[0m | \u001b[0m 82.56   \u001b[0m | \u001b[0m 6.078   \u001b[0m | \u001b[0m 0.0     \u001b[0m | \u001b[0m 8.0     \u001b[0m | \u001b[0m 12.0    \u001b[0m | \u001b[0m 1.0     \u001b[0m | \u001b[0m 21.34   \u001b[0m |\n",
      "| \u001b[0m 34      \u001b[0m | \u001b[0m 93.15   \u001b[0m | \u001b[0m 0.0     \u001b[0m | \u001b[0m 93.09   \u001b[0m | \u001b[0m 2.084   \u001b[0m | \u001b[0m 10.0    \u001b[0m | \u001b[0m 8.0     \u001b[0m | \u001b[0m 12.0    \u001b[0m | \u001b[0m 1.0     \u001b[0m | \u001b[0m 19.85   \u001b[0m |\n",
      "| \u001b[0m 35      \u001b[0m | \u001b[0m 92.92   \u001b[0m | \u001b[0m 0.0     \u001b[0m | \u001b[0m 93.84   \u001b[0m | \u001b[0m 10.0    \u001b[0m | \u001b[0m 1.89    \u001b[0m | \u001b[0m 7.021   \u001b[0m | \u001b[0m 4.158   \u001b[0m | \u001b[0m 1.0     \u001b[0m | \u001b[0m 21.29   \u001b[0m |\n",
      "| \u001b[0m 36      \u001b[0m | \u001b[0m 93.66   \u001b[0m | \u001b[0m 0.0     \u001b[0m | \u001b[0m 91.86   \u001b[0m | \u001b[0m 7.295   \u001b[0m | \u001b[0m 2.33    \u001b[0m | \u001b[0m 1.0     \u001b[0m | \u001b[0m 12.0    \u001b[0m | \u001b[0m 1.0     \u001b[0m | \u001b[0m 8.777   \u001b[0m |\n",
      "| \u001b[0m 37      \u001b[0m | \u001b[0m 93.52   \u001b[0m | \u001b[0m 0.99    \u001b[0m | \u001b[0m 84.66   \u001b[0m | \u001b[0m 2.574   \u001b[0m | \u001b[0m 7.64    \u001b[0m | \u001b[0m 1.0     \u001b[0m | \u001b[0m 4.816   \u001b[0m | \u001b[0m 1.0     \u001b[0m | \u001b[0m 13.37   \u001b[0m |\n",
      "| \u001b[0m 38      \u001b[0m | \u001b[0m 93.66   \u001b[0m | \u001b[0m 0.99    \u001b[0m | \u001b[0m 100.0   \u001b[0m | \u001b[0m 10.0    \u001b[0m | \u001b[0m 10.0    \u001b[0m | \u001b[0m 1.0     \u001b[0m | \u001b[0m 12.0    \u001b[0m | \u001b[0m 1.0     \u001b[0m | \u001b[0m 15.76   \u001b[0m |\n",
      "| \u001b[0m 39      \u001b[0m | \u001b[0m 84.06   \u001b[0m | \u001b[0m 0.7788  \u001b[0m | \u001b[0m 89.98   \u001b[0m | \u001b[0m 9.886   \u001b[0m | \u001b[0m 7.209   \u001b[0m | \u001b[0m 5.89    \u001b[0m | \u001b[0m 10.95   \u001b[0m | \u001b[0m 11.46   \u001b[0m | \u001b[0m 10.31   \u001b[0m |\n"
     ]
    },
    {
     "name": "stderr",
     "output_type": "stream",
     "text": [
      "/opt/conda/envs/rapids/lib/python3.7/site-packages/sklearn/gaussian_process/kernels.py:271: RuntimeWarning: divide by zero encountered in log\n",
      "  return np.log(np.hstack(theta))\n"
     ]
    },
    {
     "name": "stdout",
     "output_type": "stream",
     "text": [
      "| \u001b[0m 40      \u001b[0m | \u001b[0m 93.52   \u001b[0m | \u001b[0m 0.0     \u001b[0m | \u001b[0m 100.0   \u001b[0m | \u001b[0m 0.0     \u001b[0m | \u001b[0m 1.88    \u001b[0m | \u001b[0m 1.0     \u001b[0m | \u001b[0m 5.453   \u001b[0m | \u001b[0m 1.0     \u001b[0m | \u001b[0m 11.09   \u001b[0m |\n",
      "=========================================================================================================================\n",
      "94.88331112726279\n",
      "Prev Inven : 2, Var Sale : 2, Var Product : 11\n",
      "|   iter    |  target   |  g_alpha  |   k_dot   |   rbf_l   |  theta1   | tmp_pr... | tmp_va... | tmp_va... |  w_noise  |\n",
      "-------------------------------------------------------------------------------------------------------------------------\n",
      "| \u001b[0m 1       \u001b[0m | \u001b[0m 93.83   \u001b[0m | \u001b[0m 0.4129  \u001b[0m | \u001b[0m 72.03   \u001b[0m | \u001b[0m 0.001144\u001b[0m | \u001b[0m 3.023   \u001b[0m | \u001b[0m 2.027   \u001b[0m | \u001b[0m 2.016   \u001b[0m | \u001b[0m 3.049   \u001b[0m | \u001b[0m 34.56   \u001b[0m |\n",
      "| \u001b[95m 2       \u001b[0m | \u001b[95m 95.1    \u001b[0m | \u001b[95m 0.3928  \u001b[0m | \u001b[95m 53.88   \u001b[0m | \u001b[95m 4.192   \u001b[0m | \u001b[95m 6.852   \u001b[0m | \u001b[95m 2.431   \u001b[0m | \u001b[95m 10.66   \u001b[0m | \u001b[95m 1.301   \u001b[0m | \u001b[95m 67.05   \u001b[0m |\n",
      "| \u001b[0m 3       \u001b[0m | \u001b[0m 92.05   \u001b[0m | \u001b[0m 0.4131  \u001b[0m | \u001b[0m 55.87   \u001b[0m | \u001b[0m 1.404   \u001b[0m | \u001b[0m 1.981   \u001b[0m | \u001b[0m 6.605   \u001b[0m | \u001b[0m 11.65   \u001b[0m | \u001b[0m 4.448   \u001b[0m | \u001b[0m 69.23   \u001b[0m |\n",
      "| \u001b[95m 4       \u001b[0m | \u001b[95m 95.81   \u001b[0m | \u001b[95m 0.8676  \u001b[0m | \u001b[95m 89.46   \u001b[0m | \u001b[95m 0.8504  \u001b[0m | \u001b[95m 0.3905  \u001b[0m | \u001b[95m 2.189   \u001b[0m | \u001b[95m 10.66   \u001b[0m | \u001b[95m 2.082   \u001b[0m | \u001b[95m 42.11   \u001b[0m |\n",
      "| \u001b[0m 5       \u001b[0m | \u001b[0m 95.64   \u001b[0m | \u001b[0m 0.9483  \u001b[0m | \u001b[0m 53.32   \u001b[0m | \u001b[0m 6.919   \u001b[0m | \u001b[0m 3.155   \u001b[0m | \u001b[0m 5.806   \u001b[0m | \u001b[0m 10.18   \u001b[0m | \u001b[0m 1.201   \u001b[0m | \u001b[0m 75.01   \u001b[0m |\n",
      "| \u001b[0m 6       \u001b[0m | \u001b[0m 91.94   \u001b[0m | \u001b[0m 0.979   \u001b[0m | \u001b[0m 74.82   \u001b[0m | \u001b[0m 2.804   \u001b[0m | \u001b[0m 7.893   \u001b[0m | \u001b[0m 1.723   \u001b[0m | \u001b[0m 5.927   \u001b[0m | \u001b[0m 10.99   \u001b[0m | \u001b[0m 29.36   \u001b[0m |\n",
      "| \u001b[0m 7       \u001b[0m | \u001b[0m 92.75   \u001b[0m | \u001b[0m 0.2849  \u001b[0m | \u001b[0m 13.0    \u001b[0m | \u001b[0m 0.1937  \u001b[0m | \u001b[0m 6.788   \u001b[0m | \u001b[0m 2.481   \u001b[0m | \u001b[0m 3.921   \u001b[0m | \u001b[0m 6.407   \u001b[0m | \u001b[0m 5.336   \u001b[0m |\n",
      "| \u001b[0m 8       \u001b[0m | \u001b[0m 92.61   \u001b[0m | \u001b[0m 0.5684  \u001b[0m | \u001b[0m 14.67   \u001b[0m | \u001b[0m 5.893   \u001b[0m | \u001b[0m 6.998   \u001b[0m | \u001b[0m 1.716   \u001b[0m | \u001b[0m 5.555   \u001b[0m | \u001b[0m 8.638   \u001b[0m | \u001b[0m 41.42   \u001b[0m |\n",
      "| \u001b[0m 9       \u001b[0m | \u001b[0m 89.72   \u001b[0m | \u001b[0m 0.04945 \u001b[0m | \u001b[0m 53.59   \u001b[0m | \u001b[0m 6.638   \u001b[0m | \u001b[0m 5.149   \u001b[0m | \u001b[0m 7.612   \u001b[0m | \u001b[0m 7.452   \u001b[0m | \u001b[0m 10.94   \u001b[0m | \u001b[0m 13.75   \u001b[0m |\n",
      "| \u001b[0m 10      \u001b[0m | \u001b[0m 90.84   \u001b[0m | \u001b[0m 0.1379  \u001b[0m | \u001b[0m 80.74   \u001b[0m | \u001b[0m 3.977   \u001b[0m | \u001b[0m 1.654   \u001b[0m | \u001b[0m 7.493   \u001b[0m | \u001b[0m 4.825   \u001b[0m | \u001b[0m 9.259   \u001b[0m | \u001b[0m 72.6    \u001b[0m |\n",
      "| \u001b[0m 11      \u001b[0m | \u001b[0m 89.98   \u001b[0m | \u001b[0m 0.8996  \u001b[0m | \u001b[0m 95.18   \u001b[0m | \u001b[0m 9.181   \u001b[0m | \u001b[0m 3.227   \u001b[0m | \u001b[0m 6.661   \u001b[0m | \u001b[0m 11.08   \u001b[0m | \u001b[0m 5.039   \u001b[0m | \u001b[0m 69.01   \u001b[0m |\n",
      "| \u001b[0m 12      \u001b[0m | \u001b[0m 89.84   \u001b[0m | \u001b[0m 0.7974  \u001b[0m | \u001b[0m 15.18   \u001b[0m | \u001b[0m 3.237   \u001b[0m | \u001b[0m 4.322   \u001b[0m | \u001b[0m 7.715   \u001b[0m | \u001b[0m 8.121   \u001b[0m | \u001b[0m 6.984   \u001b[0m | \u001b[0m 94.76   \u001b[0m |\n",
      "| \u001b[0m 13      \u001b[0m | \u001b[0m 90.99   \u001b[0m | \u001b[0m 0.28    \u001b[0m | \u001b[0m 83.68   \u001b[0m | \u001b[0m 0.1909  \u001b[0m | \u001b[0m 2.006   \u001b[0m | \u001b[0m 3.429   \u001b[0m | \u001b[0m 1.603   \u001b[0m | \u001b[0m 6.838   \u001b[0m | \u001b[0m 40.95   \u001b[0m |\n",
      "| \u001b[0m 14      \u001b[0m | \u001b[0m 94.24   \u001b[0m | \u001b[0m 0.3623  \u001b[0m | \u001b[0m 46.92   \u001b[0m | \u001b[0m 5.373   \u001b[0m | \u001b[0m 2.653   \u001b[0m | \u001b[0m 7.964   \u001b[0m | \u001b[0m 3.462   \u001b[0m | \u001b[0m 3.77    \u001b[0m | \u001b[0m 89.39   \u001b[0m |\n",
      "| \u001b[0m 15      \u001b[0m | \u001b[0m 94.96   \u001b[0m | \u001b[0m 0.7414  \u001b[0m | \u001b[0m 53.36   \u001b[0m | \u001b[0m 6.15    \u001b[0m | \u001b[0m 4.936   \u001b[0m | \u001b[0m 4.203   \u001b[0m | \u001b[0m 10.27   \u001b[0m | \u001b[0m 1.0     \u001b[0m | \u001b[0m 71.89   \u001b[0m |\n",
      "| \u001b[95m 16      \u001b[0m | \u001b[95m 96.58   \u001b[0m | \u001b[95m 0.6565  \u001b[0m | \u001b[95m 50.14   \u001b[0m | \u001b[95m 7.011   \u001b[0m | \u001b[95m 4.994   \u001b[0m | \u001b[95m 4.894   \u001b[0m | \u001b[95m 7.227   \u001b[0m | \u001b[95m 1.116   \u001b[0m | \u001b[95m 79.19   \u001b[0m |\n",
      "| \u001b[0m 17      \u001b[0m | \u001b[0m 93.55   \u001b[0m | \u001b[0m 0.99    \u001b[0m | \u001b[0m 52.82   \u001b[0m | \u001b[0m 10.0    \u001b[0m | \u001b[0m 4.512   \u001b[0m | \u001b[0m 1.0     \u001b[0m | \u001b[0m 12.0    \u001b[0m | \u001b[0m 1.0     \u001b[0m | \u001b[0m 82.62   \u001b[0m |\n",
      "| \u001b[0m 18      \u001b[0m | \u001b[0m 95.19   \u001b[0m | \u001b[0m 0.99    \u001b[0m | \u001b[0m 48.3    \u001b[0m | \u001b[0m 10.0    \u001b[0m | \u001b[0m 2.764   \u001b[0m | \u001b[0m 8.0     \u001b[0m | \u001b[0m 3.921   \u001b[0m | \u001b[0m 1.0     \u001b[0m | \u001b[0m 75.66   \u001b[0m |\n",
      "| \u001b[0m 19      \u001b[0m | \u001b[0m 95.18   \u001b[0m | \u001b[0m 0.99    \u001b[0m | \u001b[0m 53.57   \u001b[0m | \u001b[0m 5.624   \u001b[0m | \u001b[0m 10.0    \u001b[0m | \u001b[0m 8.0     \u001b[0m | \u001b[0m 4.551   \u001b[0m | \u001b[0m 1.0     \u001b[0m | \u001b[0m 78.44   \u001b[0m |\n",
      "| \u001b[0m 20      \u001b[0m | \u001b[0m 94.66   \u001b[0m | \u001b[0m 0.99    \u001b[0m | \u001b[0m 44.98   \u001b[0m | \u001b[0m 4.424   \u001b[0m | \u001b[0m 7.178   \u001b[0m | \u001b[0m 8.0     \u001b[0m | \u001b[0m 10.79   \u001b[0m | \u001b[0m 1.0     \u001b[0m | \u001b[0m 77.67   \u001b[0m |\n",
      "| \u001b[0m 21      \u001b[0m | \u001b[0m 93.73   \u001b[0m | \u001b[0m 0.99    \u001b[0m | \u001b[0m 49.93   \u001b[0m | \u001b[0m 2.363   \u001b[0m | \u001b[0m 3.117   \u001b[0m | \u001b[0m 1.0     \u001b[0m | \u001b[0m 2.299   \u001b[0m | \u001b[0m 1.0     \u001b[0m | \u001b[0m 77.65   \u001b[0m |\n",
      "| \u001b[0m 22      \u001b[0m | \u001b[0m 90.38   \u001b[0m | \u001b[0m 0.0     \u001b[0m | \u001b[0m 50.52   \u001b[0m | \u001b[0m 9.822   \u001b[0m | \u001b[0m 6.371   \u001b[0m | \u001b[0m 7.217   \u001b[0m | \u001b[0m 7.537   \u001b[0m | \u001b[0m 7.498   \u001b[0m | \u001b[0m 78.69   \u001b[0m |\n",
      "| \u001b[95m 23      \u001b[0m | \u001b[95m 96.84   \u001b[0m | \u001b[95m 0.99    \u001b[0m | \u001b[95m 50.85   \u001b[0m | \u001b[95m 3.742   \u001b[0m | \u001b[95m 3.105   \u001b[0m | \u001b[95m 8.0     \u001b[0m | \u001b[95m 6.738   \u001b[0m | \u001b[95m 1.0     \u001b[0m | \u001b[95m 78.68   \u001b[0m |\n",
      "| \u001b[0m 24      \u001b[0m | \u001b[0m 95.64   \u001b[0m | \u001b[0m 0.99    \u001b[0m | \u001b[0m 52.47   \u001b[0m | \u001b[0m 1.643   \u001b[0m | \u001b[0m 5.866   \u001b[0m | \u001b[0m 5.554   \u001b[0m | \u001b[0m 9.584   \u001b[0m | \u001b[0m 1.0     \u001b[0m | \u001b[0m 81.2    \u001b[0m |\n"
     ]
    },
    {
     "name": "stderr",
     "output_type": "stream",
     "text": [
      "/opt/conda/envs/rapids/lib/python3.7/site-packages/sklearn/gaussian_process/kernels.py:271: RuntimeWarning: divide by zero encountered in log\n",
      "  return np.log(np.hstack(theta))\n"
     ]
    },
    {
     "name": "stdout",
     "output_type": "stream",
     "text": [
      "| \u001b[0m 25      \u001b[0m | \u001b[0m 95.88   \u001b[0m | \u001b[0m 0.99    \u001b[0m | \u001b[0m 47.76   \u001b[0m | \u001b[0m 5.105   \u001b[0m | \u001b[0m 0.0     \u001b[0m | \u001b[0m 5.771   \u001b[0m | \u001b[0m 9.365   \u001b[0m | \u001b[0m 1.0     \u001b[0m | \u001b[0m 80.33   \u001b[0m |\n"
     ]
    },
    {
     "name": "stderr",
     "output_type": "stream",
     "text": [
      "/opt/conda/envs/rapids/lib/python3.7/site-packages/sklearn/gaussian_process/kernels.py:271: RuntimeWarning: divide by zero encountered in log\n",
      "  return np.log(np.hstack(theta))\n"
     ]
    },
    {
     "name": "stdout",
     "output_type": "stream",
     "text": [
      "| \u001b[0m 26      \u001b[0m | \u001b[0m 93.55   \u001b[0m | \u001b[0m 0.99    \u001b[0m | \u001b[0m 97.69   \u001b[0m | \u001b[0m 1.045   \u001b[0m | \u001b[0m 0.0     \u001b[0m | \u001b[0m 1.0     \u001b[0m | \u001b[0m 12.0    \u001b[0m | \u001b[0m 1.0     \u001b[0m | \u001b[0m 41.73   \u001b[0m |\n"
     ]
    },
    {
     "name": "stderr",
     "output_type": "stream",
     "text": [
      "/opt/conda/envs/rapids/lib/python3.7/site-packages/sklearn/gaussian_process/kernels.py:271: RuntimeWarning: divide by zero encountered in log\n",
      "  return np.log(np.hstack(theta))\n"
     ]
    },
    {
     "name": "stdout",
     "output_type": "stream",
     "text": [
      "| \u001b[0m 27      \u001b[0m | \u001b[0m 93.55   \u001b[0m | \u001b[0m 0.99    \u001b[0m | \u001b[0m 87.06   \u001b[0m | \u001b[0m 7.497   \u001b[0m | \u001b[0m 0.0     \u001b[0m | \u001b[0m 1.0     \u001b[0m | \u001b[0m 12.0    \u001b[0m | \u001b[0m 1.0     \u001b[0m | \u001b[0m 45.42   \u001b[0m |\n",
      "| \u001b[0m 28      \u001b[0m | \u001b[0m 95.19   \u001b[0m | \u001b[0m 0.99    \u001b[0m | \u001b[0m 47.09   \u001b[0m | \u001b[0m 2.726   \u001b[0m | \u001b[0m 5.83    \u001b[0m | \u001b[0m 8.0     \u001b[0m | \u001b[0m 3.922   \u001b[0m | \u001b[0m 1.0     \u001b[0m | \u001b[0m 81.87   \u001b[0m |\n"
     ]
    },
    {
     "name": "stderr",
     "output_type": "stream",
     "text": [
      "/opt/conda/envs/rapids/lib/python3.7/site-packages/sklearn/gaussian_process/kernels.py:271: RuntimeWarning: divide by zero encountered in log\n",
      "  return np.log(np.hstack(theta))\n"
     ]
    },
    {
     "name": "stdout",
     "output_type": "stream",
     "text": [
      "| \u001b[0m 29      \u001b[0m | \u001b[0m 95.18   \u001b[0m | \u001b[0m 0.99    \u001b[0m | \u001b[0m 54.78   \u001b[0m | \u001b[0m 6.342   \u001b[0m | \u001b[0m 0.0     \u001b[0m | \u001b[0m 7.908   \u001b[0m | \u001b[0m 5.062   \u001b[0m | \u001b[0m 1.0     \u001b[0m | \u001b[0m 81.87   \u001b[0m |\n"
     ]
    },
    {
     "name": "stderr",
     "output_type": "stream",
     "text": [
      "/opt/conda/envs/rapids/lib/python3.7/site-packages/sklearn/gaussian_process/kernels.py:271: RuntimeWarning: divide by zero encountered in log\n",
      "  return np.log(np.hstack(theta))\n"
     ]
    },
    {
     "name": "stdout",
     "output_type": "stream",
     "text": [
      "| \u001b[0m 30      \u001b[0m | \u001b[0m 94.63   \u001b[0m | \u001b[0m 0.99    \u001b[0m | \u001b[0m 89.1    \u001b[0m | \u001b[0m 0.0     \u001b[0m | \u001b[0m 0.0     \u001b[0m | \u001b[0m 8.0     \u001b[0m | \u001b[0m 12.0    \u001b[0m | \u001b[0m 1.0     \u001b[0m | \u001b[0m 36.49   \u001b[0m |\n",
      "| \u001b[0m 31      \u001b[0m | \u001b[0m 95.0    \u001b[0m | \u001b[0m 0.99    \u001b[0m | \u001b[0m 48.63   \u001b[0m | \u001b[0m 8.482   \u001b[0m | \u001b[0m 10.0    \u001b[0m | \u001b[0m 1.0     \u001b[0m | \u001b[0m 7.724   \u001b[0m | \u001b[0m 1.0     \u001b[0m | \u001b[0m 61.37   \u001b[0m |\n",
      "| \u001b[0m 32      \u001b[0m | \u001b[0m 93.32   \u001b[0m | \u001b[0m 0.99    \u001b[0m | \u001b[0m 58.54   \u001b[0m | \u001b[0m 10.0    \u001b[0m | \u001b[0m 10.0    \u001b[0m | \u001b[0m 1.0     \u001b[0m | \u001b[0m 12.0    \u001b[0m | \u001b[0m 1.0     \u001b[0m | \u001b[0m 60.17   \u001b[0m |\n",
      "| \u001b[0m 33      \u001b[0m | \u001b[0m 94.12   \u001b[0m | \u001b[0m 0.99    \u001b[0m | \u001b[0m 45.3    \u001b[0m | \u001b[0m 0.6648  \u001b[0m | \u001b[0m 10.0    \u001b[0m | \u001b[0m 1.0     \u001b[0m | \u001b[0m 11.17   \u001b[0m | \u001b[0m 1.0     \u001b[0m | \u001b[0m 66.1    \u001b[0m |\n",
      "| \u001b[0m 34      \u001b[0m | \u001b[0m 93.53   \u001b[0m | \u001b[0m 0.99    \u001b[0m | \u001b[0m 51.62   \u001b[0m | \u001b[0m 4.81    \u001b[0m | \u001b[0m 10.0    \u001b[0m | \u001b[0m 6.195   \u001b[0m | \u001b[0m 1.494   \u001b[0m | \u001b[0m 1.0     \u001b[0m | \u001b[0m 65.96   \u001b[0m |\n",
      "| \u001b[0m 35      \u001b[0m | \u001b[0m 94.11   \u001b[0m | \u001b[0m 0.99    \u001b[0m | \u001b[0m 45.76   \u001b[0m | \u001b[0m 10.0    \u001b[0m | \u001b[0m 1.171   \u001b[0m | \u001b[0m 1.0     \u001b[0m | \u001b[0m 10.03   \u001b[0m | \u001b[0m 1.0     \u001b[0m | \u001b[0m 66.58   \u001b[0m |\n"
     ]
    },
    {
     "name": "stderr",
     "output_type": "stream",
     "text": [
      "/opt/conda/envs/rapids/lib/python3.7/site-packages/sklearn/gaussian_process/kernels.py:271: RuntimeWarning: divide by zero encountered in log\n",
      "  return np.log(np.hstack(theta))\n"
     ]
    },
    {
     "name": "stdout",
     "output_type": "stream",
     "text": [
      "| \u001b[0m 36      \u001b[0m | \u001b[0m 93.55   \u001b[0m | \u001b[0m 0.99    \u001b[0m | \u001b[0m 89.13   \u001b[0m | \u001b[0m 0.0     \u001b[0m | \u001b[0m 7.898   \u001b[0m | \u001b[0m 1.0     \u001b[0m | \u001b[0m 12.0    \u001b[0m | \u001b[0m 1.0     \u001b[0m | \u001b[0m 40.3    \u001b[0m |\n"
     ]
    },
    {
     "name": "stderr",
     "output_type": "stream",
     "text": [
      "/opt/conda/envs/rapids/lib/python3.7/site-packages/sklearn/gaussian_process/kernels.py:271: RuntimeWarning: divide by zero encountered in log\n",
      "  return np.log(np.hstack(theta))\n"
     ]
    },
    {
     "name": "stdout",
     "output_type": "stream",
     "text": [
      "| \u001b[95m 37      \u001b[0m | \u001b[95m 96.84   \u001b[0m | \u001b[95m 0.99    \u001b[0m | \u001b[95m 46.68   \u001b[0m | \u001b[95m 3.328   \u001b[0m | \u001b[95m 0.0     \u001b[0m | \u001b[95m 8.0     \u001b[0m | \u001b[95m 6.748   \u001b[0m | \u001b[95m 1.0     \u001b[0m | \u001b[95m 74.33   \u001b[0m |\n"
     ]
    },
    {
     "name": "stderr",
     "output_type": "stream",
     "text": [
      "/opt/conda/envs/rapids/lib/python3.7/site-packages/sklearn/gaussian_process/kernels.py:271: RuntimeWarning: divide by zero encountered in log\n",
      "  return np.log(np.hstack(theta))\n"
     ]
    },
    {
     "name": "stdout",
     "output_type": "stream",
     "text": [
      "| \u001b[0m 38      \u001b[0m | \u001b[0m 95.18   \u001b[0m | \u001b[0m 0.99    \u001b[0m | \u001b[0m 39.73   \u001b[0m | \u001b[0m 2.533   \u001b[0m | \u001b[0m 0.0     \u001b[0m | \u001b[0m 8.0     \u001b[0m | \u001b[0m 4.521   \u001b[0m | \u001b[0m 1.0     \u001b[0m | \u001b[0m 74.25   \u001b[0m |\n"
     ]
    },
    {
     "name": "stderr",
     "output_type": "stream",
     "text": [
      "/opt/conda/envs/rapids/lib/python3.7/site-packages/sklearn/gaussian_process/kernels.py:271: RuntimeWarning: divide by zero encountered in log\n",
      "  return np.log(np.hstack(theta))\n"
     ]
    },
    {
     "name": "stdout",
     "output_type": "stream",
     "text": [
      "| \u001b[0m 39      \u001b[0m | \u001b[0m 95.18   \u001b[0m | \u001b[0m 0.99    \u001b[0m | \u001b[0m 44.93   \u001b[0m | \u001b[0m 0.0     \u001b[0m | \u001b[0m 0.0     \u001b[0m | \u001b[0m 8.0     \u001b[0m | \u001b[0m 4.969   \u001b[0m | \u001b[0m 1.0     \u001b[0m | \u001b[0m 67.52   \u001b[0m |\n",
      "| \u001b[0m 40      \u001b[0m | \u001b[0m 94.93   \u001b[0m | \u001b[0m 0.0     \u001b[0m | \u001b[0m 43.34   \u001b[0m | \u001b[0m 5.438   \u001b[0m | \u001b[0m 6.276   \u001b[0m | \u001b[0m 1.0     \u001b[0m | \u001b[0m 6.685   \u001b[0m | \u001b[0m 1.0     \u001b[0m | \u001b[0m 51.27   \u001b[0m |\n",
      "=========================================================================================================================\n",
      "96.8352198782139\n",
      "Prev Inven : 8, Var Sale : 1, Var Product : 7\n"
     ]
    },
    {
     "name": "stderr",
     "output_type": "stream",
     "text": [
      "/opt/conda/envs/rapids/lib/python3.7/site-packages/sklearn/gaussian_process/kernels.py:271: RuntimeWarning: divide by zero encountered in log\n",
      "  return np.log(np.hstack(theta))\n"
     ]
    },
    {
     "name": "stdout",
     "output_type": "stream",
     "text": [
      "|   iter    |  target   |  g_alpha  |   k_dot   |   rbf_l   |  theta1   | tmp_pr... | tmp_va... | tmp_va... |  w_noise  |\n",
      "-------------------------------------------------------------------------------------------------------------------------\n",
      "| \u001b[0m 1       \u001b[0m | \u001b[0m 95.78   \u001b[0m | \u001b[0m 0.4129  \u001b[0m | \u001b[0m 72.03   \u001b[0m | \u001b[0m 0.001144\u001b[0m | \u001b[0m 3.023   \u001b[0m | \u001b[0m 2.027   \u001b[0m | \u001b[0m 2.016   \u001b[0m | \u001b[0m 3.049   \u001b[0m | \u001b[0m 34.56   \u001b[0m |\n",
      "| \u001b[95m 2       \u001b[0m | \u001b[95m 95.9    \u001b[0m | \u001b[95m 0.3928  \u001b[0m | \u001b[95m 53.88   \u001b[0m | \u001b[95m 4.192   \u001b[0m | \u001b[95m 6.852   \u001b[0m | \u001b[95m 2.431   \u001b[0m | \u001b[95m 10.66   \u001b[0m | \u001b[95m 1.301   \u001b[0m | \u001b[95m 67.05   \u001b[0m |\n",
      "| \u001b[0m 3       \u001b[0m | \u001b[0m 92.25   \u001b[0m | \u001b[0m 0.4131  \u001b[0m | \u001b[0m 55.87   \u001b[0m | \u001b[0m 1.404   \u001b[0m | \u001b[0m 1.981   \u001b[0m | \u001b[0m 6.605   \u001b[0m | \u001b[0m 11.65   \u001b[0m | \u001b[0m 4.448   \u001b[0m | \u001b[0m 69.23   \u001b[0m |\n",
      "| \u001b[95m 4       \u001b[0m | \u001b[95m 96.13   \u001b[0m | \u001b[95m 0.8676  \u001b[0m | \u001b[95m 89.46   \u001b[0m | \u001b[95m 0.8504  \u001b[0m | \u001b[95m 0.3905  \u001b[0m | \u001b[95m 2.189   \u001b[0m | \u001b[95m 10.66   \u001b[0m | \u001b[95m 2.082   \u001b[0m | \u001b[95m 42.11   \u001b[0m |\n",
      "| \u001b[95m 5       \u001b[0m | \u001b[95m 96.44   \u001b[0m | \u001b[95m 0.9483  \u001b[0m | \u001b[95m 53.32   \u001b[0m | \u001b[95m 6.919   \u001b[0m | \u001b[95m 3.155   \u001b[0m | \u001b[95m 5.806   \u001b[0m | \u001b[95m 10.18   \u001b[0m | \u001b[95m 1.201   \u001b[0m | \u001b[95m 75.01   \u001b[0m |\n",
      "| \u001b[0m 6       \u001b[0m | \u001b[0m 95.16   \u001b[0m | \u001b[0m 0.979   \u001b[0m | \u001b[0m 74.82   \u001b[0m | \u001b[0m 2.804   \u001b[0m | \u001b[0m 7.893   \u001b[0m | \u001b[0m 1.723   \u001b[0m | \u001b[0m 5.927   \u001b[0m | \u001b[0m 10.99   \u001b[0m | \u001b[0m 29.36   \u001b[0m |\n",
      "| \u001b[95m 7       \u001b[0m | \u001b[95m 96.87   \u001b[0m | \u001b[95m 0.2849  \u001b[0m | \u001b[95m 13.0    \u001b[0m | \u001b[95m 0.1937  \u001b[0m | \u001b[95m 6.788   \u001b[0m | \u001b[95m 2.481   \u001b[0m | \u001b[95m 3.921   \u001b[0m | \u001b[95m 6.407   \u001b[0m | \u001b[95m 5.336   \u001b[0m |\n",
      "| \u001b[0m 8       \u001b[0m | \u001b[0m 95.11   \u001b[0m | \u001b[0m 0.5684  \u001b[0m | \u001b[0m 14.67   \u001b[0m | \u001b[0m 5.893   \u001b[0m | \u001b[0m 6.998   \u001b[0m | \u001b[0m 1.716   \u001b[0m | \u001b[0m 5.555   \u001b[0m | \u001b[0m 8.638   \u001b[0m | \u001b[0m 41.42   \u001b[0m |\n",
      "| \u001b[0m 9       \u001b[0m | \u001b[0m 93.51   \u001b[0m | \u001b[0m 0.04945 \u001b[0m | \u001b[0m 53.59   \u001b[0m | \u001b[0m 6.638   \u001b[0m | \u001b[0m 5.149   \u001b[0m | \u001b[0m 7.612   \u001b[0m | \u001b[0m 7.452   \u001b[0m | \u001b[0m 10.94   \u001b[0m | \u001b[0m 13.75   \u001b[0m |\n",
      "| \u001b[0m 10      \u001b[0m | \u001b[0m 96.77   \u001b[0m | \u001b[0m 0.1379  \u001b[0m | \u001b[0m 80.74   \u001b[0m | \u001b[0m 3.977   \u001b[0m | \u001b[0m 1.654   \u001b[0m | \u001b[0m 7.493   \u001b[0m | \u001b[0m 4.825   \u001b[0m | \u001b[0m 9.259   \u001b[0m | \u001b[0m 72.6    \u001b[0m |\n",
      "| \u001b[0m 11      \u001b[0m | \u001b[0m 92.08   \u001b[0m | \u001b[0m 0.8996  \u001b[0m | \u001b[0m 95.18   \u001b[0m | \u001b[0m 9.181   \u001b[0m | \u001b[0m 3.227   \u001b[0m | \u001b[0m 6.661   \u001b[0m | \u001b[0m 11.08   \u001b[0m | \u001b[0m 5.039   \u001b[0m | \u001b[0m 69.01   \u001b[0m |\n",
      "| \u001b[0m 12      \u001b[0m | \u001b[0m 93.46   \u001b[0m | \u001b[0m 0.7974  \u001b[0m | \u001b[0m 15.18   \u001b[0m | \u001b[0m 3.237   \u001b[0m | \u001b[0m 4.322   \u001b[0m | \u001b[0m 7.715   \u001b[0m | \u001b[0m 8.121   \u001b[0m | \u001b[0m 6.984   \u001b[0m | \u001b[0m 94.76   \u001b[0m |\n",
      "| \u001b[0m 13      \u001b[0m | \u001b[0m 94.87   \u001b[0m | \u001b[0m 0.28    \u001b[0m | \u001b[0m 83.68   \u001b[0m | \u001b[0m 0.1909  \u001b[0m | \u001b[0m 2.006   \u001b[0m | \u001b[0m 3.429   \u001b[0m | \u001b[0m 1.603   \u001b[0m | \u001b[0m 6.838   \u001b[0m | \u001b[0m 40.95   \u001b[0m |\n",
      "| \u001b[0m 14      \u001b[0m | \u001b[0m 96.8    \u001b[0m | \u001b[0m 0.3623  \u001b[0m | \u001b[0m 46.92   \u001b[0m | \u001b[0m 5.373   \u001b[0m | \u001b[0m 2.653   \u001b[0m | \u001b[0m 7.964   \u001b[0m | \u001b[0m 3.462   \u001b[0m | \u001b[0m 3.77    \u001b[0m | \u001b[0m 89.39   \u001b[0m |\n",
      "| \u001b[0m 15      \u001b[0m | \u001b[0m 94.59   \u001b[0m | \u001b[0m 0.1273  \u001b[0m | \u001b[0m 2.083   \u001b[0m | \u001b[0m 8.872   \u001b[0m | \u001b[0m 7.994   \u001b[0m | \u001b[0m 6.618   \u001b[0m | \u001b[0m 6.185   \u001b[0m | \u001b[0m 10.09   \u001b[0m | \u001b[0m 60.05   \u001b[0m |\n",
      "| \u001b[0m 16      \u001b[0m | \u001b[0m 93.85   \u001b[0m | \u001b[0m 0.9449  \u001b[0m | \u001b[0m 50.8    \u001b[0m | \u001b[0m 3.294   \u001b[0m | \u001b[0m 5.376   \u001b[0m | \u001b[0m 5.139   \u001b[0m | \u001b[0m 7.079   \u001b[0m | \u001b[0m 7.993   \u001b[0m | \u001b[0m 88.04   \u001b[0m |\n",
      "| \u001b[0m 17      \u001b[0m | \u001b[0m 94.17   \u001b[0m | \u001b[0m 0.09027 \u001b[0m | \u001b[0m 46.61   \u001b[0m | \u001b[0m 1.003   \u001b[0m | \u001b[0m 7.06    \u001b[0m | \u001b[0m 4.6     \u001b[0m | \u001b[0m 6.36    \u001b[0m | \u001b[0m 11.8    \u001b[0m | \u001b[0m 19.81   \u001b[0m |\n",
      "| \u001b[0m 18      \u001b[0m | \u001b[0m 96.36   \u001b[0m | \u001b[0m 0.08163 \u001b[0m | \u001b[0m 24.96   \u001b[0m | \u001b[0m 2.219   \u001b[0m | \u001b[0m 8.699   \u001b[0m | \u001b[0m 2.599   \u001b[0m | \u001b[0m 5.573   \u001b[0m | \u001b[0m 5.179   \u001b[0m | \u001b[0m 94.97   \u001b[0m |\n",
      "| \u001b[0m 19      \u001b[0m | \u001b[0m 94.86   \u001b[0m | \u001b[0m 0.2393  \u001b[0m | \u001b[0m 84.02   \u001b[0m | \u001b[0m 8.518   \u001b[0m | \u001b[0m 5.874   \u001b[0m | \u001b[0m 2.388   \u001b[0m | \u001b[0m 2.221   \u001b[0m | \u001b[0m 8.923   \u001b[0m | \u001b[0m 62.17   \u001b[0m |\n",
      "| \u001b[0m 20      \u001b[0m | \u001b[0m 96.77   \u001b[0m | \u001b[0m 0.3013  \u001b[0m | \u001b[0m 50.42   \u001b[0m | \u001b[0m 0.02496 \u001b[0m | \u001b[0m 8.423   \u001b[0m | \u001b[0m 6.058   \u001b[0m | \u001b[0m 3.547   \u001b[0m | \u001b[0m 1.452   \u001b[0m | \u001b[0m 76.37   \u001b[0m |\n",
      "| \u001b[0m 21      \u001b[0m | \u001b[0m 95.63   \u001b[0m | \u001b[0m 0.1497  \u001b[0m | \u001b[0m 38.96   \u001b[0m | \u001b[0m 7.288   \u001b[0m | \u001b[0m 6.121   \u001b[0m | \u001b[0m 7.866   \u001b[0m | \u001b[0m 3.209   \u001b[0m | \u001b[0m 6.991   \u001b[0m | \u001b[0m 11.58   \u001b[0m |\n",
      "| \u001b[0m 22      \u001b[0m | \u001b[0m 93.12   \u001b[0m | \u001b[0m 0.6398  \u001b[0m | \u001b[0m 85.62   \u001b[0m | \u001b[0m 3.537   \u001b[0m | \u001b[0m 2.252   \u001b[0m | \u001b[0m 4.368   \u001b[0m | \u001b[0m 6.032   \u001b[0m | \u001b[0m 11.05   \u001b[0m | \u001b[0m 41.2    \u001b[0m |\n",
      "| \u001b[0m 23      \u001b[0m | \u001b[0m 95.81   \u001b[0m | \u001b[0m 0.8783  \u001b[0m | \u001b[0m 26.54   \u001b[0m | \u001b[0m 2.468   \u001b[0m | \u001b[0m 9.49    \u001b[0m | \u001b[0m 2.063   \u001b[0m | \u001b[0m 5.067   \u001b[0m | \u001b[0m 5.446   \u001b[0m | \u001b[0m 96.33   \u001b[0m |\n",
      "| \u001b[0m 24      \u001b[0m | \u001b[0m 95.6    \u001b[0m | \u001b[0m 0.7359  \u001b[0m | \u001b[0m 78.29   \u001b[0m | \u001b[0m 2.958   \u001b[0m | \u001b[0m 0.9352  \u001b[0m | \u001b[0m 7.759   \u001b[0m | \u001b[0m 2.562   \u001b[0m | \u001b[0m 10.15   \u001b[0m | \u001b[0m 73.72   \u001b[0m |\n",
      "| \u001b[0m 25      \u001b[0m | \u001b[0m 95.65   \u001b[0m | \u001b[0m 0.2466  \u001b[0m | \u001b[0m 13.93   \u001b[0m | \u001b[0m 0.001916\u001b[0m | \u001b[0m 7.517   \u001b[0m | \u001b[0m 2.295   \u001b[0m | \u001b[0m 2.549   \u001b[0m | \u001b[0m 7.739   \u001b[0m | \u001b[0m 2.682   \u001b[0m |\n",
      "| \u001b[95m 26      \u001b[0m | \u001b[95m 97.57   \u001b[0m | \u001b[95m 0.5528  \u001b[0m | \u001b[95m 51.28   \u001b[0m | \u001b[95m 2.836   \u001b[0m | \u001b[95m 6.716   \u001b[0m | \u001b[95m 5.817   \u001b[0m | \u001b[95m 5.832   \u001b[0m | \u001b[95m 1.088   \u001b[0m | \u001b[95m 76.01   \u001b[0m |\n",
      "| \u001b[0m 27      \u001b[0m | \u001b[0m 96.48   \u001b[0m | \u001b[0m 0.5957  \u001b[0m | \u001b[0m 50.93   \u001b[0m | \u001b[0m 5.004   \u001b[0m | \u001b[0m 8.287   \u001b[0m | \u001b[0m 3.667   \u001b[0m | \u001b[0m 6.526   \u001b[0m | \u001b[0m 1.0     \u001b[0m | \u001b[0m 73.98   \u001b[0m |\n",
      "| \u001b[0m 28      \u001b[0m | \u001b[0m 94.94   \u001b[0m | \u001b[0m 0.9773  \u001b[0m | \u001b[0m 51.56   \u001b[0m | \u001b[0m 5.941   \u001b[0m | \u001b[0m 6.0     \u001b[0m | \u001b[0m 6.409   \u001b[0m | \u001b[0m 7.643   \u001b[0m | \u001b[0m 3.418   \u001b[0m | \u001b[0m 77.51   \u001b[0m |\n",
      "| \u001b[0m 29      \u001b[0m | \u001b[0m 96.19   \u001b[0m | \u001b[0m 0.9245  \u001b[0m | \u001b[0m 52.43   \u001b[0m | \u001b[0m 1.466   \u001b[0m | \u001b[0m 6.882   \u001b[0m | \u001b[0m 3.315   \u001b[0m | \u001b[0m 2.562   \u001b[0m | \u001b[0m 2.729   \u001b[0m | \u001b[0m 74.19   \u001b[0m |\n",
      "| \u001b[0m 30      \u001b[0m | \u001b[0m 97.31   \u001b[0m | \u001b[0m 0.5131  \u001b[0m | \u001b[0m 46.76   \u001b[0m | \u001b[0m 0.8261  \u001b[0m | \u001b[0m 6.952   \u001b[0m | \u001b[0m 3.723   \u001b[0m | \u001b[0m 3.421   \u001b[0m | \u001b[0m 1.989   \u001b[0m | \u001b[0m 76.18   \u001b[0m |\n",
      "| \u001b[0m 31      \u001b[0m | \u001b[0m 96.79   \u001b[0m | \u001b[0m 0.9053  \u001b[0m | \u001b[0m 48.47   \u001b[0m | \u001b[0m 1.453   \u001b[0m | \u001b[0m 9.614   \u001b[0m | \u001b[0m 5.664   \u001b[0m | \u001b[0m 6.031   \u001b[0m | \u001b[0m 4.442   \u001b[0m | \u001b[0m 77.33   \u001b[0m |\n",
      "| \u001b[0m 32      \u001b[0m | \u001b[0m 97.1    \u001b[0m | \u001b[0m 0.5534  \u001b[0m | \u001b[0m 48.46   \u001b[0m | \u001b[0m 0.5963  \u001b[0m | \u001b[0m 6.062   \u001b[0m | \u001b[0m 4.633   \u001b[0m | \u001b[0m 7.226   \u001b[0m | \u001b[0m 1.0     \u001b[0m | \u001b[0m 75.29   \u001b[0m |\n",
      "| \u001b[0m 33      \u001b[0m | \u001b[0m 97.16   \u001b[0m | \u001b[0m 0.00282 \u001b[0m | \u001b[0m 47.72   \u001b[0m | \u001b[0m 3.18    \u001b[0m | \u001b[0m 6.035   \u001b[0m | \u001b[0m 7.208   \u001b[0m | \u001b[0m 4.015   \u001b[0m | \u001b[0m 1.0     \u001b[0m | \u001b[0m 74.51   \u001b[0m |\n",
      "| \u001b[0m 34      \u001b[0m | \u001b[0m 96.97   \u001b[0m | \u001b[0m 0.0     \u001b[0m | \u001b[0m 49.03   \u001b[0m | \u001b[0m 1.9     \u001b[0m | \u001b[0m 3.463   \u001b[0m | \u001b[0m 4.892   \u001b[0m | \u001b[0m 3.708   \u001b[0m | \u001b[0m 1.0     \u001b[0m | \u001b[0m 78.27   \u001b[0m |\n",
      "| \u001b[0m 35      \u001b[0m | \u001b[0m 97.09   \u001b[0m | \u001b[0m 0.0     \u001b[0m | \u001b[0m 44.42   \u001b[0m | \u001b[0m 1.782   \u001b[0m | \u001b[0m 7.533   \u001b[0m | \u001b[0m 6.736   \u001b[0m | \u001b[0m 4.905   \u001b[0m | \u001b[0m 1.0     \u001b[0m | \u001b[0m 79.44   \u001b[0m |\n",
      "| \u001b[0m 36      \u001b[0m | \u001b[0m 96.08   \u001b[0m | \u001b[0m 0.1813  \u001b[0m | \u001b[0m 43.82   \u001b[0m | \u001b[0m 3.907   \u001b[0m | \u001b[0m 3.426   \u001b[0m | \u001b[0m 7.813   \u001b[0m | \u001b[0m 1.0     \u001b[0m | \u001b[0m 1.0     \u001b[0m | \u001b[0m 84.31   \u001b[0m |\n",
      "| \u001b[0m 37      \u001b[0m | \u001b[0m 97.06   \u001b[0m | \u001b[0m 0.99    \u001b[0m | \u001b[0m 42.6    \u001b[0m | \u001b[0m 1.984   \u001b[0m | \u001b[0m 10.0    \u001b[0m | \u001b[0m 4.783   \u001b[0m | \u001b[0m 5.512   \u001b[0m | \u001b[0m 1.0     \u001b[0m | \u001b[0m 74.44   \u001b[0m |\n",
      "| \u001b[0m 38      \u001b[0m | \u001b[0m 96.21   \u001b[0m | \u001b[0m 0.0     \u001b[0m | \u001b[0m 44.83   \u001b[0m | \u001b[0m 2.125   \u001b[0m | \u001b[0m 10.0    \u001b[0m | \u001b[0m 1.0     \u001b[0m | \u001b[0m 5.708   \u001b[0m | \u001b[0m 1.0     \u001b[0m | \u001b[0m 79.14   \u001b[0m |\n"
     ]
    },
    {
     "name": "stderr",
     "output_type": "stream",
     "text": [
      "/opt/conda/envs/rapids/lib/python3.7/site-packages/sklearn/gaussian_process/kernels.py:271: RuntimeWarning: divide by zero encountered in log\n",
      "  return np.log(np.hstack(theta))\n"
     ]
    },
    {
     "name": "stdout",
     "output_type": "stream",
     "text": [
      "| \u001b[0m 39      \u001b[0m | \u001b[0m 96.35   \u001b[0m | \u001b[0m 0.99    \u001b[0m | \u001b[0m 41.83   \u001b[0m | \u001b[0m 0.0     \u001b[0m | \u001b[0m 6.078   \u001b[0m | \u001b[0m 6.705   \u001b[0m | \u001b[0m 3.577   \u001b[0m | \u001b[0m 4.907   \u001b[0m | \u001b[0m 75.5    \u001b[0m |\n",
      "| \u001b[0m 40      \u001b[0m | \u001b[0m 96.36   \u001b[0m | \u001b[0m 0.3577  \u001b[0m | \u001b[0m 11.25   \u001b[0m | \u001b[0m 0.5567  \u001b[0m | \u001b[0m 5.406   \u001b[0m | \u001b[0m 2.836   \u001b[0m | \u001b[0m 6.523   \u001b[0m | \u001b[0m 3.88    \u001b[0m | \u001b[0m 10.36   \u001b[0m |\n",
      "=========================================================================================================================\n",
      "97.56744445433533\n",
      "Prev Inven : 6, Var Sale : 1, Var Product : 6\n",
      "|   iter    |  target   |  g_alpha  |   k_dot   |   rbf_l   |  theta1   | tmp_pr... | tmp_va... | tmp_va... |  w_noise  |\n",
      "-------------------------------------------------------------------------------------------------------------------------\n",
      "| \u001b[0m 1       \u001b[0m | \u001b[0m 93.49   \u001b[0m | \u001b[0m 0.4129  \u001b[0m | \u001b[0m 72.03   \u001b[0m | \u001b[0m 0.001144\u001b[0m | \u001b[0m 3.023   \u001b[0m | \u001b[0m 2.027   \u001b[0m | \u001b[0m 2.016   \u001b[0m | \u001b[0m 3.049   \u001b[0m | \u001b[0m 34.56   \u001b[0m |\n",
      "| \u001b[95m 2       \u001b[0m | \u001b[95m 93.74   \u001b[0m | \u001b[95m 0.3928  \u001b[0m | \u001b[95m 53.88   \u001b[0m | \u001b[95m 4.192   \u001b[0m | \u001b[95m 6.852   \u001b[0m | \u001b[95m 2.431   \u001b[0m | \u001b[95m 10.66   \u001b[0m | \u001b[95m 1.301   \u001b[0m | \u001b[95m 67.05   \u001b[0m |\n",
      "| \u001b[0m 3       \u001b[0m | \u001b[0m 90.62   \u001b[0m | \u001b[0m 0.4131  \u001b[0m | \u001b[0m 55.87   \u001b[0m | \u001b[0m 1.404   \u001b[0m | \u001b[0m 1.981   \u001b[0m | \u001b[0m 6.605   \u001b[0m | \u001b[0m 11.65   \u001b[0m | \u001b[0m 4.448   \u001b[0m | \u001b[0m 69.23   \u001b[0m |\n",
      "| \u001b[95m 4       \u001b[0m | \u001b[95m 93.9    \u001b[0m | \u001b[95m 0.8676  \u001b[0m | \u001b[95m 89.46   \u001b[0m | \u001b[95m 0.8504  \u001b[0m | \u001b[95m 0.3905  \u001b[0m | \u001b[95m 2.189   \u001b[0m | \u001b[95m 10.66   \u001b[0m | \u001b[95m 2.082   \u001b[0m | \u001b[95m 42.11   \u001b[0m |\n",
      "| \u001b[95m 5       \u001b[0m | \u001b[95m 94.75   \u001b[0m | \u001b[95m 0.9483  \u001b[0m | \u001b[95m 53.32   \u001b[0m | \u001b[95m 6.919   \u001b[0m | \u001b[95m 3.155   \u001b[0m | \u001b[95m 5.806   \u001b[0m | \u001b[95m 10.18   \u001b[0m | \u001b[95m 1.201   \u001b[0m | \u001b[95m 75.01   \u001b[0m |\n",
      "| \u001b[95m 6       \u001b[0m | \u001b[95m 95.65   \u001b[0m | \u001b[95m 0.979   \u001b[0m | \u001b[95m 74.82   \u001b[0m | \u001b[95m 2.804   \u001b[0m | \u001b[95m 7.893   \u001b[0m | \u001b[95m 1.723   \u001b[0m | \u001b[95m 5.927   \u001b[0m | \u001b[95m 10.99   \u001b[0m | \u001b[95m 29.36   \u001b[0m |\n",
      "| \u001b[0m 7       \u001b[0m | \u001b[0m 94.69   \u001b[0m | \u001b[0m 0.2849  \u001b[0m | \u001b[0m 13.0    \u001b[0m | \u001b[0m 0.1937  \u001b[0m | \u001b[0m 6.788   \u001b[0m | \u001b[0m 2.481   \u001b[0m | \u001b[0m 3.921   \u001b[0m | \u001b[0m 6.407   \u001b[0m | \u001b[0m 5.336   \u001b[0m |\n",
      "| \u001b[0m 8       \u001b[0m | \u001b[0m 95.4    \u001b[0m | \u001b[0m 0.5684  \u001b[0m | \u001b[0m 14.67   \u001b[0m | \u001b[0m 5.893   \u001b[0m | \u001b[0m 6.998   \u001b[0m | \u001b[0m 1.716   \u001b[0m | \u001b[0m 5.555   \u001b[0m | \u001b[0m 8.638   \u001b[0m | \u001b[0m 41.42   \u001b[0m |\n",
      "| \u001b[0m 9       \u001b[0m | \u001b[0m 94.78   \u001b[0m | \u001b[0m 0.04945 \u001b[0m | \u001b[0m 53.59   \u001b[0m | \u001b[0m 6.638   \u001b[0m | \u001b[0m 5.149   \u001b[0m | \u001b[0m 7.612   \u001b[0m | \u001b[0m 7.452   \u001b[0m | \u001b[0m 10.94   \u001b[0m | \u001b[0m 13.75   \u001b[0m |\n",
      "| \u001b[0m 10      \u001b[0m | \u001b[0m 94.56   \u001b[0m | \u001b[0m 0.1379  \u001b[0m | \u001b[0m 80.74   \u001b[0m | \u001b[0m 3.977   \u001b[0m | \u001b[0m 1.654   \u001b[0m | \u001b[0m 7.493   \u001b[0m | \u001b[0m 4.825   \u001b[0m | \u001b[0m 9.259   \u001b[0m | \u001b[0m 72.6    \u001b[0m |\n",
      "| \u001b[0m 11      \u001b[0m | \u001b[0m 94.09   \u001b[0m | \u001b[0m 0.4628  \u001b[0m | \u001b[0m 76.12   \u001b[0m | \u001b[0m 4.188   \u001b[0m | \u001b[0m 6.656   \u001b[0m | \u001b[0m 2.055   \u001b[0m | \u001b[0m 4.776   \u001b[0m | \u001b[0m 10.66   \u001b[0m | \u001b[0m 27.06   \u001b[0m |\n",
      "| \u001b[0m 12      \u001b[0m | \u001b[0m 93.93   \u001b[0m | \u001b[0m 0.7974  \u001b[0m | \u001b[0m 15.18   \u001b[0m | \u001b[0m 3.237   \u001b[0m | \u001b[0m 4.322   \u001b[0m | \u001b[0m 7.715   \u001b[0m | \u001b[0m 8.121   \u001b[0m | \u001b[0m 6.984   \u001b[0m | \u001b[0m 94.76   \u001b[0m |\n",
      "| \u001b[0m 13      \u001b[0m | \u001b[0m 93.02   \u001b[0m | \u001b[0m 0.28    \u001b[0m | \u001b[0m 83.68   \u001b[0m | \u001b[0m 0.1909  \u001b[0m | \u001b[0m 2.006   \u001b[0m | \u001b[0m 3.429   \u001b[0m | \u001b[0m 1.603   \u001b[0m | \u001b[0m 6.838   \u001b[0m | \u001b[0m 40.95   \u001b[0m |\n",
      "| \u001b[0m 14      \u001b[0m | \u001b[0m 95.03   \u001b[0m | \u001b[0m 0.4565  \u001b[0m | \u001b[0m 73.18   \u001b[0m | \u001b[0m 4.126   \u001b[0m | \u001b[0m 7.55    \u001b[0m | \u001b[0m 1.146   \u001b[0m | \u001b[0m 5.842   \u001b[0m | \u001b[0m 8.995   \u001b[0m | \u001b[0m 28.25   \u001b[0m |\n",
      "| \u001b[0m 15      \u001b[0m | \u001b[0m 95.08   \u001b[0m | \u001b[0m 0.99    \u001b[0m | \u001b[0m 72.81   \u001b[0m | \u001b[0m 2.027   \u001b[0m | \u001b[0m 9.387   \u001b[0m | \u001b[0m 1.082   \u001b[0m | \u001b[0m 7.38    \u001b[0m | \u001b[0m 10.94   \u001b[0m | \u001b[0m 31.09   \u001b[0m |\n",
      "| \u001b[0m 16      \u001b[0m | \u001b[0m 93.95   \u001b[0m | \u001b[0m 0.642   \u001b[0m | \u001b[0m 15.61   \u001b[0m | \u001b[0m 4.449   \u001b[0m | \u001b[0m 6.784   \u001b[0m | \u001b[0m 1.755   \u001b[0m | \u001b[0m 4.628   \u001b[0m | \u001b[0m 7.321   \u001b[0m | \u001b[0m 37.36   \u001b[0m |\n",
      "| \u001b[0m 17      \u001b[0m | \u001b[0m 93.64   \u001b[0m | \u001b[0m 0.6988  \u001b[0m | \u001b[0m 14.88   \u001b[0m | \u001b[0m 7.345   \u001b[0m | \u001b[0m 6.672   \u001b[0m | \u001b[0m 2.665   \u001b[0m | \u001b[0m 7.952   \u001b[0m | \u001b[0m 11.2    \u001b[0m | \u001b[0m 43.23   \u001b[0m |\n",
      "| \u001b[0m 18      \u001b[0m | \u001b[0m 93.22   \u001b[0m | \u001b[0m 0.7354  \u001b[0m | \u001b[0m 72.63   \u001b[0m | \u001b[0m 4.281   \u001b[0m | \u001b[0m 7.527   \u001b[0m | \u001b[0m 3.994   \u001b[0m | \u001b[0m 4.261   \u001b[0m | \u001b[0m 11.54   \u001b[0m | \u001b[0m 29.93   \u001b[0m |\n",
      "| \u001b[0m 19      \u001b[0m | \u001b[0m 95.2    \u001b[0m | \u001b[0m 0.9493  \u001b[0m | \u001b[0m 74.49   \u001b[0m | \u001b[0m 2.293   \u001b[0m | \u001b[0m 8.412   \u001b[0m | \u001b[0m 1.0     \u001b[0m | \u001b[0m 7.274   \u001b[0m | \u001b[0m 9.642   \u001b[0m | \u001b[0m 29.24   \u001b[0m |\n",
      "| \u001b[0m 20      \u001b[0m | \u001b[0m 94.9    \u001b[0m | \u001b[0m 0.9751  \u001b[0m | \u001b[0m 15.04   \u001b[0m | \u001b[0m 5.367   \u001b[0m | \u001b[0m 7.175   \u001b[0m | \u001b[0m 3.599   \u001b[0m | \u001b[0m 6.842   \u001b[0m | \u001b[0m 7.619   \u001b[0m | \u001b[0m 43.43   \u001b[0m |\n",
      "| \u001b[0m 21      \u001b[0m | \u001b[0m 95.0    \u001b[0m | \u001b[0m 0.8775  \u001b[0m | \u001b[0m 12.84   \u001b[0m | \u001b[0m 4.98    \u001b[0m | \u001b[0m 7.497   \u001b[0m | \u001b[0m 4.689   \u001b[0m | \u001b[0m 6.915   \u001b[0m | \u001b[0m 8.083   \u001b[0m | \u001b[0m 39.75   \u001b[0m |\n",
      "| \u001b[0m 22      \u001b[0m | \u001b[0m 94.35   \u001b[0m | \u001b[0m 0.99    \u001b[0m | \u001b[0m 76.29   \u001b[0m | \u001b[0m 1.206   \u001b[0m | \u001b[0m 8.434   \u001b[0m | \u001b[0m 1.0     \u001b[0m | \u001b[0m 6.152   \u001b[0m | \u001b[0m 12.0    \u001b[0m | \u001b[0m 30.92   \u001b[0m |\n",
      "| \u001b[0m 23      \u001b[0m | \u001b[0m 95.4    \u001b[0m | \u001b[0m 0.2508  \u001b[0m | \u001b[0m 16.97   \u001b[0m | \u001b[0m 6.952   \u001b[0m | \u001b[0m 7.82    \u001b[0m | \u001b[0m 2.332   \u001b[0m | \u001b[0m 6.078   \u001b[0m | \u001b[0m 7.757   \u001b[0m | \u001b[0m 40.5    \u001b[0m |\n",
      "| \u001b[95m 24      \u001b[0m | \u001b[95m 95.66   \u001b[0m | \u001b[95m 0.09034 \u001b[0m | \u001b[95m 15.92   \u001b[0m | \u001b[95m 3.674   \u001b[0m | \u001b[95m 7.801   \u001b[0m | \u001b[95m 1.306   \u001b[0m | \u001b[95m 5.789   \u001b[0m | \u001b[95m 5.538   \u001b[0m | \u001b[95m 42.24   \u001b[0m |\n",
      "| \u001b[0m 25      \u001b[0m | \u001b[0m 94.64   \u001b[0m | \u001b[0m 0.0     \u001b[0m | \u001b[0m 14.72   \u001b[0m | \u001b[0m 6.298   \u001b[0m | \u001b[0m 9.349   \u001b[0m | \u001b[0m 1.493   \u001b[0m | \u001b[0m 5.349   \u001b[0m | \u001b[0m 5.909   \u001b[0m | \u001b[0m 41.86   \u001b[0m |\n",
      "| \u001b[0m 26      \u001b[0m | \u001b[0m 93.91   \u001b[0m | \u001b[0m 0.0     \u001b[0m | \u001b[0m 17.6    \u001b[0m | \u001b[0m 4.814   \u001b[0m | \u001b[0m 6.339   \u001b[0m | \u001b[0m 1.042   \u001b[0m | \u001b[0m 5.304   \u001b[0m | \u001b[0m 7.237   \u001b[0m | \u001b[0m 42.46   \u001b[0m |\n",
      "| \u001b[0m 27      \u001b[0m | \u001b[0m 95.48   \u001b[0m | \u001b[0m 0.7963  \u001b[0m | \u001b[0m 16.01   \u001b[0m | \u001b[0m 7.049   \u001b[0m | \u001b[0m 7.015   \u001b[0m | \u001b[0m 2.042   \u001b[0m | \u001b[0m 6.306   \u001b[0m | \u001b[0m 10.03   \u001b[0m | \u001b[0m 40.05   \u001b[0m |\n",
      "| \u001b[0m 28      \u001b[0m | \u001b[0m 94.38   \u001b[0m | \u001b[0m 0.99    \u001b[0m | \u001b[0m 73.59   \u001b[0m | \u001b[0m 2.97    \u001b[0m | \u001b[0m 8.67    \u001b[0m | \u001b[0m 1.0     \u001b[0m | \u001b[0m 7.078   \u001b[0m | \u001b[0m 12.0    \u001b[0m | \u001b[0m 28.08   \u001b[0m |\n",
      "| \u001b[0m 29      \u001b[0m | \u001b[0m 93.68   \u001b[0m | \u001b[0m 0.5712  \u001b[0m | \u001b[0m 14.92   \u001b[0m | \u001b[0m 6.917   \u001b[0m | \u001b[0m 6.213   \u001b[0m | \u001b[0m 2.799   \u001b[0m | \u001b[0m 5.195   \u001b[0m | \u001b[0m 7.213   \u001b[0m | \u001b[0m 39.9    \u001b[0m |\n",
      "| \u001b[0m 30      \u001b[0m | \u001b[0m 95.42   \u001b[0m | \u001b[0m 0.4663  \u001b[0m | \u001b[0m 15.44   \u001b[0m | \u001b[0m 4.445   \u001b[0m | \u001b[0m 8.274   \u001b[0m | \u001b[0m 1.942   \u001b[0m | \u001b[0m 6.642   \u001b[0m | \u001b[0m 7.427   \u001b[0m | \u001b[0m 41.38   \u001b[0m |\n",
      "| \u001b[0m 31      \u001b[0m | \u001b[0m 95.04   \u001b[0m | \u001b[0m 0.2346  \u001b[0m | \u001b[0m 17.13   \u001b[0m | \u001b[0m 7.052   \u001b[0m | \u001b[0m 8.482   \u001b[0m | \u001b[0m 1.201   \u001b[0m | \u001b[0m 6.089   \u001b[0m | \u001b[0m 11.28   \u001b[0m | \u001b[0m 40.54   \u001b[0m |\n",
      "| \u001b[0m 32      \u001b[0m | \u001b[0m 95.4    \u001b[0m | \u001b[0m 0.5386  \u001b[0m | \u001b[0m 16.81   \u001b[0m | \u001b[0m 5.748   \u001b[0m | \u001b[0m 8.935   \u001b[0m | \u001b[0m 2.183   \u001b[0m | \u001b[0m 6.054   \u001b[0m | \u001b[0m 9.22    \u001b[0m | \u001b[0m 37.96   \u001b[0m |\n",
      "| \u001b[0m 33      \u001b[0m | \u001b[0m 93.56   \u001b[0m | \u001b[0m 0.5858  \u001b[0m | \u001b[0m 74.51   \u001b[0m | \u001b[0m 3.968   \u001b[0m | \u001b[0m 9.89    \u001b[0m | \u001b[0m 2.848   \u001b[0m | \u001b[0m 8.493   \u001b[0m | \u001b[0m 9.705   \u001b[0m | \u001b[0m 29.92   \u001b[0m |\n",
      "| \u001b[0m 34      \u001b[0m | \u001b[0m 94.58   \u001b[0m | \u001b[0m 0.7313  \u001b[0m | \u001b[0m 16.32   \u001b[0m | \u001b[0m 2.872   \u001b[0m | \u001b[0m 7.899   \u001b[0m | \u001b[0m 1.7     \u001b[0m | \u001b[0m 6.018   \u001b[0m | \u001b[0m 3.497   \u001b[0m | \u001b[0m 41.37   \u001b[0m |\n",
      "| \u001b[0m 35      \u001b[0m | \u001b[0m 93.96   \u001b[0m | \u001b[0m 0.679   \u001b[0m | \u001b[0m 14.47   \u001b[0m | \u001b[0m 3.195   \u001b[0m | \u001b[0m 6.397   \u001b[0m | \u001b[0m 2.848   \u001b[0m | \u001b[0m 4.888   \u001b[0m | \u001b[0m 10.4    \u001b[0m | \u001b[0m 42.81   \u001b[0m |\n",
      "| \u001b[0m 36      \u001b[0m | \u001b[0m 95.4    \u001b[0m | \u001b[0m 0.06959 \u001b[0m | \u001b[0m 16.13   \u001b[0m | \u001b[0m 9.496   \u001b[0m | \u001b[0m 9.986   \u001b[0m | \u001b[0m 2.476   \u001b[0m | \u001b[0m 5.624   \u001b[0m | \u001b[0m 8.475   \u001b[0m | \u001b[0m 39.16   \u001b[0m |\n",
      "| \u001b[0m 37      \u001b[0m | \u001b[0m 92.79   \u001b[0m | \u001b[0m 0.708   \u001b[0m | \u001b[0m 14.57   \u001b[0m | \u001b[0m 7.205   \u001b[0m | \u001b[0m 6.758   \u001b[0m | \u001b[0m 3.181   \u001b[0m | \u001b[0m 9.901   \u001b[0m | \u001b[0m 9.184   \u001b[0m | \u001b[0m 39.98   \u001b[0m |\n",
      "| \u001b[0m 38      \u001b[0m | \u001b[0m 93.73   \u001b[0m | \u001b[0m 0.7853  \u001b[0m | \u001b[0m 18.6    \u001b[0m | \u001b[0m 8.954   \u001b[0m | \u001b[0m 8.374   \u001b[0m | \u001b[0m 2.257   \u001b[0m | \u001b[0m 3.423   \u001b[0m | \u001b[0m 8.465   \u001b[0m | \u001b[0m 39.74   \u001b[0m |\n",
      "| \u001b[0m 39      \u001b[0m | \u001b[0m 93.4    \u001b[0m | \u001b[0m 0.1065  \u001b[0m | \u001b[0m 15.22   \u001b[0m | \u001b[0m 5.467   \u001b[0m | \u001b[0m 9.884   \u001b[0m | \u001b[0m 1.411   \u001b[0m | \u001b[0m 3.405   \u001b[0m | \u001b[0m 9.127   \u001b[0m | \u001b[0m 39.71   \u001b[0m |\n",
      "| \u001b[0m 40      \u001b[0m | \u001b[0m 95.42   \u001b[0m | \u001b[0m 0.5054  \u001b[0m | \u001b[0m 16.31   \u001b[0m | \u001b[0m 7.277   \u001b[0m | \u001b[0m 9.087   \u001b[0m | \u001b[0m 2.011   \u001b[0m | \u001b[0m 6.63    \u001b[0m | \u001b[0m 9.08    \u001b[0m | \u001b[0m 39.67   \u001b[0m |\n",
      "=========================================================================================================================\n",
      "95.66181205514506\n",
      "Prev Inven : 1, Var Sale : 6, Var Product : 6\n",
      "|   iter    |  target   |  g_alpha  |   k_dot   |   rbf_l   |  theta1   | tmp_pr... | tmp_va... | tmp_va... |  w_noise  |\n",
      "-------------------------------------------------------------------------------------------------------------------------\n",
      "| \u001b[0m 1       \u001b[0m | \u001b[0m 93.9    \u001b[0m | \u001b[0m 0.4129  \u001b[0m | \u001b[0m 72.03   \u001b[0m | \u001b[0m 0.001144\u001b[0m | \u001b[0m 3.023   \u001b[0m | \u001b[0m 2.027   \u001b[0m | \u001b[0m 2.016   \u001b[0m | \u001b[0m 3.049   \u001b[0m | \u001b[0m 34.56   \u001b[0m |\n",
      "| \u001b[95m 2       \u001b[0m | \u001b[95m 95.21   \u001b[0m | \u001b[95m 0.3928  \u001b[0m | \u001b[95m 53.88   \u001b[0m | \u001b[95m 4.192   \u001b[0m | \u001b[95m 6.852   \u001b[0m | \u001b[95m 2.431   \u001b[0m | \u001b[95m 10.66   \u001b[0m | \u001b[95m 1.301   \u001b[0m | \u001b[95m 67.05   \u001b[0m |\n",
      "| \u001b[0m 3       \u001b[0m | \u001b[0m 91.4    \u001b[0m | \u001b[0m 0.4131  \u001b[0m | \u001b[0m 55.87   \u001b[0m | \u001b[0m 1.404   \u001b[0m | \u001b[0m 1.981   \u001b[0m | \u001b[0m 6.605   \u001b[0m | \u001b[0m 11.65   \u001b[0m | \u001b[0m 4.448   \u001b[0m | \u001b[0m 69.23   \u001b[0m |\n",
      "| \u001b[0m 4       \u001b[0m | \u001b[0m 94.38   \u001b[0m | \u001b[0m 0.8676  \u001b[0m | \u001b[0m 89.46   \u001b[0m | \u001b[0m 0.8504  \u001b[0m | \u001b[0m 0.3905  \u001b[0m | \u001b[0m 2.189   \u001b[0m | \u001b[0m 10.66   \u001b[0m | \u001b[0m 2.082   \u001b[0m | \u001b[0m 42.11   \u001b[0m |\n",
      "| \u001b[95m 5       \u001b[0m | \u001b[95m 95.64   \u001b[0m | \u001b[95m 0.9483  \u001b[0m | \u001b[95m 53.32   \u001b[0m | \u001b[95m 6.919   \u001b[0m | \u001b[95m 3.155   \u001b[0m | \u001b[95m 5.806   \u001b[0m | \u001b[95m 10.18   \u001b[0m | \u001b[95m 1.201   \u001b[0m | \u001b[95m 75.01   \u001b[0m |\n",
      "| \u001b[0m 6       \u001b[0m | \u001b[0m 95.51   \u001b[0m | \u001b[0m 0.979   \u001b[0m | \u001b[0m 74.82   \u001b[0m | \u001b[0m 2.804   \u001b[0m | \u001b[0m 7.893   \u001b[0m | \u001b[0m 1.723   \u001b[0m | \u001b[0m 5.927   \u001b[0m | \u001b[0m 10.99   \u001b[0m | \u001b[0m 29.36   \u001b[0m |\n",
      "| \u001b[0m 7       \u001b[0m | \u001b[0m 94.81   \u001b[0m | \u001b[0m 0.2849  \u001b[0m | \u001b[0m 13.0    \u001b[0m | \u001b[0m 0.1937  \u001b[0m | \u001b[0m 6.788   \u001b[0m | \u001b[0m 2.481   \u001b[0m | \u001b[0m 3.921   \u001b[0m | \u001b[0m 6.407   \u001b[0m | \u001b[0m 5.336   \u001b[0m |\n",
      "| \u001b[0m 8       \u001b[0m | \u001b[0m 95.62   \u001b[0m | \u001b[0m 0.5684  \u001b[0m | \u001b[0m 14.67   \u001b[0m | \u001b[0m 5.893   \u001b[0m | \u001b[0m 6.998   \u001b[0m | \u001b[0m 1.716   \u001b[0m | \u001b[0m 5.555   \u001b[0m | \u001b[0m 8.638   \u001b[0m | \u001b[0m 41.42   \u001b[0m |\n",
      "| \u001b[0m 9       \u001b[0m | \u001b[0m 95.09   \u001b[0m | \u001b[0m 0.04945 \u001b[0m | \u001b[0m 53.59   \u001b[0m | \u001b[0m 6.638   \u001b[0m | \u001b[0m 5.149   \u001b[0m | \u001b[0m 7.612   \u001b[0m | \u001b[0m 7.452   \u001b[0m | \u001b[0m 10.94   \u001b[0m | \u001b[0m 13.75   \u001b[0m |\n",
      "| \u001b[0m 10      \u001b[0m | \u001b[0m 95.4    \u001b[0m | \u001b[0m 0.1379  \u001b[0m | \u001b[0m 80.74   \u001b[0m | \u001b[0m 3.977   \u001b[0m | \u001b[0m 1.654   \u001b[0m | \u001b[0m 7.493   \u001b[0m | \u001b[0m 4.825   \u001b[0m | \u001b[0m 9.259   \u001b[0m | \u001b[0m 72.6    \u001b[0m |\n",
      "| \u001b[0m 11      \u001b[0m | \u001b[0m 91.07   \u001b[0m | \u001b[0m 0.8996  \u001b[0m | \u001b[0m 95.18   \u001b[0m | \u001b[0m 9.181   \u001b[0m | \u001b[0m 3.227   \u001b[0m | \u001b[0m 6.661   \u001b[0m | \u001b[0m 11.08   \u001b[0m | \u001b[0m 5.039   \u001b[0m | \u001b[0m 69.01   \u001b[0m |\n",
      "| \u001b[0m 12      \u001b[0m | \u001b[0m 95.64   \u001b[0m | \u001b[0m 0.7974  \u001b[0m | \u001b[0m 15.18   \u001b[0m | \u001b[0m 3.237   \u001b[0m | \u001b[0m 4.322   \u001b[0m | \u001b[0m 7.715   \u001b[0m | \u001b[0m 8.121   \u001b[0m | \u001b[0m 6.984   \u001b[0m | \u001b[0m 94.76   \u001b[0m |\n",
      "| \u001b[0m 13      \u001b[0m | \u001b[0m 93.84   \u001b[0m | \u001b[0m 0.28    \u001b[0m | \u001b[0m 83.68   \u001b[0m | \u001b[0m 0.1909  \u001b[0m | \u001b[0m 2.006   \u001b[0m | \u001b[0m 3.429   \u001b[0m | \u001b[0m 1.603   \u001b[0m | \u001b[0m 6.838   \u001b[0m | \u001b[0m 40.95   \u001b[0m |\n",
      "| \u001b[0m 14      \u001b[0m | \u001b[0m 94.14   \u001b[0m | \u001b[0m 0.3623  \u001b[0m | \u001b[0m 46.92   \u001b[0m | \u001b[0m 5.373   \u001b[0m | \u001b[0m 2.653   \u001b[0m | \u001b[0m 7.964   \u001b[0m | \u001b[0m 3.462   \u001b[0m | \u001b[0m 3.77    \u001b[0m | \u001b[0m 89.39   \u001b[0m |\n",
      "| \u001b[0m 15      \u001b[0m | \u001b[0m 95.07   \u001b[0m | \u001b[0m 0.1273  \u001b[0m | \u001b[0m 2.083   \u001b[0m | \u001b[0m 8.872   \u001b[0m | \u001b[0m 7.994   \u001b[0m | \u001b[0m 6.618   \u001b[0m | \u001b[0m 6.185   \u001b[0m | \u001b[0m 10.09   \u001b[0m | \u001b[0m 60.05   \u001b[0m |\n",
      "| \u001b[0m 16      \u001b[0m | \u001b[0m 94.74   \u001b[0m | \u001b[0m 0.9449  \u001b[0m | \u001b[0m 50.8    \u001b[0m | \u001b[0m 3.294   \u001b[0m | \u001b[0m 5.376   \u001b[0m | \u001b[0m 5.139   \u001b[0m | \u001b[0m 7.079   \u001b[0m | \u001b[0m 7.993   \u001b[0m | \u001b[0m 88.04   \u001b[0m |\n",
      "| \u001b[0m 17      \u001b[0m | \u001b[0m 95.35   \u001b[0m | \u001b[0m 0.09027 \u001b[0m | \u001b[0m 46.61   \u001b[0m | \u001b[0m 1.003   \u001b[0m | \u001b[0m 7.06    \u001b[0m | \u001b[0m 4.6     \u001b[0m | \u001b[0m 6.36    \u001b[0m | \u001b[0m 11.8    \u001b[0m | \u001b[0m 19.81   \u001b[0m |\n",
      "| \u001b[0m 18      \u001b[0m | \u001b[0m 95.19   \u001b[0m | \u001b[0m 0.08163 \u001b[0m | \u001b[0m 24.96   \u001b[0m | \u001b[0m 2.219   \u001b[0m | \u001b[0m 8.699   \u001b[0m | \u001b[0m 2.599   \u001b[0m | \u001b[0m 5.573   \u001b[0m | \u001b[0m 5.179   \u001b[0m | \u001b[0m 94.97   \u001b[0m |\n",
      "| \u001b[0m 19      \u001b[0m | \u001b[0m 93.94   \u001b[0m | \u001b[0m 0.2393  \u001b[0m | \u001b[0m 84.02   \u001b[0m | \u001b[0m 8.518   \u001b[0m | \u001b[0m 5.874   \u001b[0m | \u001b[0m 2.388   \u001b[0m | \u001b[0m 2.221   \u001b[0m | \u001b[0m 8.923   \u001b[0m | \u001b[0m 62.17   \u001b[0m |\n",
      "| \u001b[95m 20      \u001b[0m | \u001b[95m 95.69   \u001b[0m | \u001b[95m 0.3013  \u001b[0m | \u001b[95m 50.42   \u001b[0m | \u001b[95m 0.02496 \u001b[0m | \u001b[95m 8.423   \u001b[0m | \u001b[95m 6.058   \u001b[0m | \u001b[95m 3.547   \u001b[0m | \u001b[95m 1.452   \u001b[0m | \u001b[95m 76.37   \u001b[0m |\n",
      "| \u001b[0m 21      \u001b[0m | \u001b[0m 94.71   \u001b[0m | \u001b[0m 0.1497  \u001b[0m | \u001b[0m 38.96   \u001b[0m | \u001b[0m 7.288   \u001b[0m | \u001b[0m 6.121   \u001b[0m | \u001b[0m 7.866   \u001b[0m | \u001b[0m 3.209   \u001b[0m | \u001b[0m 6.991   \u001b[0m | \u001b[0m 11.58   \u001b[0m |\n",
      "| \u001b[0m 22      \u001b[0m | \u001b[0m 95.22   \u001b[0m | \u001b[0m 0.6398  \u001b[0m | \u001b[0m 85.62   \u001b[0m | \u001b[0m 3.537   \u001b[0m | \u001b[0m 2.252   \u001b[0m | \u001b[0m 4.368   \u001b[0m | \u001b[0m 6.032   \u001b[0m | \u001b[0m 11.05   \u001b[0m | \u001b[0m 41.2    \u001b[0m |\n",
      "| \u001b[0m 23      \u001b[0m | \u001b[0m 93.9    \u001b[0m | \u001b[0m 0.319   \u001b[0m | \u001b[0m 15.19   \u001b[0m | \u001b[0m 4.066   \u001b[0m | \u001b[0m 7.223   \u001b[0m | \u001b[0m 1.308   \u001b[0m | \u001b[0m 4.426   \u001b[0m | \u001b[0m 2.622   \u001b[0m | \u001b[0m 2.782   \u001b[0m |\n",
      "| \u001b[0m 24      \u001b[0m | \u001b[0m 95.33   \u001b[0m | \u001b[0m 0.1577  \u001b[0m | \u001b[0m 60.27   \u001b[0m | \u001b[0m 1.481   \u001b[0m | \u001b[0m 5.014   \u001b[0m | \u001b[0m 6.581   \u001b[0m | \u001b[0m 9.311   \u001b[0m | \u001b[0m 7.057   \u001b[0m | \u001b[0m 25.51   \u001b[0m |\n",
      "| \u001b[95m 25      \u001b[0m | \u001b[95m 95.71   \u001b[0m | \u001b[95m 0.4122  \u001b[0m | \u001b[95m 9.708   \u001b[0m | \u001b[95m 0.8714  \u001b[0m | \u001b[95m 4.179   \u001b[0m | \u001b[95m 3.133   \u001b[0m | \u001b[95m 8.801   \u001b[0m | \u001b[95m 1.653   \u001b[0m | \u001b[95m 14.78   \u001b[0m |\n",
      "| \u001b[0m 26      \u001b[0m | \u001b[0m 94.2    \u001b[0m | \u001b[0m 0.3023  \u001b[0m | \u001b[0m 44.7    \u001b[0m | \u001b[0m 1.256   \u001b[0m | \u001b[0m 2.499   \u001b[0m | \u001b[0m 7.281   \u001b[0m | \u001b[0m 2.0     \u001b[0m | \u001b[0m 9.061   \u001b[0m | \u001b[0m 67.03   \u001b[0m |\n",
      "| \u001b[0m 27      \u001b[0m | \u001b[0m 94.86   \u001b[0m | \u001b[0m 0.6716  \u001b[0m | \u001b[0m 74.13   \u001b[0m | \u001b[0m 8.726   \u001b[0m | \u001b[0m 6.291   \u001b[0m | \u001b[0m 1.662   \u001b[0m | \u001b[0m 4.992   \u001b[0m | \u001b[0m 8.013   \u001b[0m | \u001b[0m 5.108   \u001b[0m |\n",
      "| \u001b[0m 28      \u001b[0m | \u001b[0m 94.7    \u001b[0m | \u001b[0m 0.9363  \u001b[0m | \u001b[0m 98.73   \u001b[0m | \u001b[0m 6.256   \u001b[0m | \u001b[0m 2.373   \u001b[0m | \u001b[0m 7.05    \u001b[0m | \u001b[0m 7.771   \u001b[0m | \u001b[0m 8.389   \u001b[0m | \u001b[0m 6.098   \u001b[0m |\n",
      "| \u001b[0m 29      \u001b[0m | \u001b[0m 95.64   \u001b[0m | \u001b[0m 0.5591  \u001b[0m | \u001b[0m 80.87   \u001b[0m | \u001b[0m 9.738   \u001b[0m | \u001b[0m 0.8996  \u001b[0m | \u001b[0m 4.301   \u001b[0m | \u001b[0m 4.378   \u001b[0m | \u001b[0m 2.223   \u001b[0m | \u001b[0m 74.8    \u001b[0m |\n",
      "| \u001b[0m 30      \u001b[0m | \u001b[0m 94.7    \u001b[0m | \u001b[0m 0.8057  \u001b[0m | \u001b[0m 91.21   \u001b[0m | \u001b[0m 6.691   \u001b[0m | \u001b[0m 6.231   \u001b[0m | \u001b[0m 4.306   \u001b[0m | \u001b[0m 9.923   \u001b[0m | \u001b[0m 6.994   \u001b[0m | \u001b[0m 90.43   \u001b[0m |\n",
      "| \u001b[0m 31      \u001b[0m | \u001b[0m 95.15   \u001b[0m | \u001b[0m 0.8264  \u001b[0m | \u001b[0m 84.42   \u001b[0m | \u001b[0m 6.595   \u001b[0m | \u001b[0m 7.349   \u001b[0m | \u001b[0m 3.684   \u001b[0m | \u001b[0m 8.35    \u001b[0m | \u001b[0m 4.722   \u001b[0m | \u001b[0m 6.942   \u001b[0m |\n",
      "| \u001b[0m 32      \u001b[0m | \u001b[0m 94.78   \u001b[0m | \u001b[0m 0.7607  \u001b[0m | \u001b[0m 19.78   \u001b[0m | \u001b[0m 7.618   \u001b[0m | \u001b[0m 9.706   \u001b[0m | \u001b[0m 4.689   \u001b[0m | \u001b[0m 5.293   \u001b[0m | \u001b[0m 3.332   \u001b[0m | \u001b[0m 67.8    \u001b[0m |\n",
      "| \u001b[0m 33      \u001b[0m | \u001b[0m 93.45   \u001b[0m | \u001b[0m 0.9068  \u001b[0m | \u001b[0m 29.71   \u001b[0m | \u001b[0m 7.926   \u001b[0m | \u001b[0m 6.722   \u001b[0m | \u001b[0m 3.05    \u001b[0m | \u001b[0m 1.459   \u001b[0m | \u001b[0m 8.025   \u001b[0m | \u001b[0m 23.94   \u001b[0m |\n",
      "| \u001b[0m 34      \u001b[0m | \u001b[0m 95.55   \u001b[0m | \u001b[0m 0.3073  \u001b[0m | \u001b[0m 92.22   \u001b[0m | \u001b[0m 7.517   \u001b[0m | \u001b[0m 4.567   \u001b[0m | \u001b[0m 6.652   \u001b[0m | \u001b[0m 7.151   \u001b[0m | \u001b[0m 5.449   \u001b[0m | \u001b[0m 70.46   \u001b[0m |\n",
      "| \u001b[95m 35      \u001b[0m | \u001b[95m 96.2    \u001b[0m | \u001b[95m 0.6535  \u001b[0m | \u001b[95m 3.984   \u001b[0m | \u001b[95m 2.272   \u001b[0m | \u001b[95m 3.149   \u001b[0m | \u001b[95m 5.818   \u001b[0m | \u001b[95m 6.206   \u001b[0m | \u001b[95m 1.15    \u001b[0m | \u001b[95m 24.93   \u001b[0m |\n",
      "| \u001b[0m 36      \u001b[0m | \u001b[0m 94.86   \u001b[0m | \u001b[0m 0.8949  \u001b[0m | \u001b[0m 23.4    \u001b[0m | \u001b[0m 4.27    \u001b[0m | \u001b[0m 7.78    \u001b[0m | \u001b[0m 2.325   \u001b[0m | \u001b[0m 4.393   \u001b[0m | \u001b[0m 7.069   \u001b[0m | \u001b[0m 94.67   \u001b[0m |\n",
      "| \u001b[0m 37      \u001b[0m | \u001b[0m 95.71   \u001b[0m | \u001b[0m 0.6455  \u001b[0m | \u001b[0m 92.23   \u001b[0m | \u001b[0m 8.332   \u001b[0m | \u001b[0m 4.665   \u001b[0m | \u001b[0m 4.456   \u001b[0m | \u001b[0m 8.045   \u001b[0m | \u001b[0m 5.826   \u001b[0m | \u001b[0m 68.35   \u001b[0m |\n",
      "| \u001b[0m 38      \u001b[0m | \u001b[0m 96.2    \u001b[0m | \u001b[0m 0.8304  \u001b[0m | \u001b[0m 8.852   \u001b[0m | \u001b[0m 1.842   \u001b[0m | \u001b[0m 3.463   \u001b[0m | \u001b[0m 3.723   \u001b[0m | \u001b[0m 10.15   \u001b[0m | \u001b[0m 1.097   \u001b[0m | \u001b[0m 17.75   \u001b[0m |\n",
      "| \u001b[95m 39      \u001b[0m | \u001b[95m 96.23   \u001b[0m | \u001b[95m 0.1165  \u001b[0m | \u001b[95m 5.234   \u001b[0m | \u001b[95m 1.015   \u001b[0m | \u001b[95m 1.64    \u001b[0m | \u001b[95m 6.378   \u001b[0m | \u001b[95m 7.209   \u001b[0m | \u001b[95m 2.24    \u001b[0m | \u001b[95m 28.03   \u001b[0m |\n",
      "| \u001b[0m 40      \u001b[0m | \u001b[0m 95.74   \u001b[0m | \u001b[0m 0.3363  \u001b[0m | \u001b[0m 5.684   \u001b[0m | \u001b[0m 1.375   \u001b[0m | \u001b[0m 2.237   \u001b[0m | \u001b[0m 5.792   \u001b[0m | \u001b[0m 7.563   \u001b[0m | \u001b[0m 1.852   \u001b[0m | \u001b[0m 25.6    \u001b[0m |\n",
      "=========================================================================================================================\n",
      "96.22901659380598\n",
      "Prev Inven : 6, Var Sale : 2, Var Product : 7\n",
      "|   iter    |  target   |  g_alpha  |   k_dot   |   rbf_l   |  theta1   | tmp_pr... | tmp_va... | tmp_va... |  w_noise  |\n",
      "-------------------------------------------------------------------------------------------------------------------------\n",
      "| \u001b[0m 1       \u001b[0m | \u001b[0m 92.25   \u001b[0m | \u001b[0m 0.4129  \u001b[0m | \u001b[0m 72.03   \u001b[0m | \u001b[0m 0.001144\u001b[0m | \u001b[0m 3.023   \u001b[0m | \u001b[0m 2.027   \u001b[0m | \u001b[0m 2.016   \u001b[0m | \u001b[0m 3.049   \u001b[0m | \u001b[0m 34.56   \u001b[0m |\n",
      "| \u001b[95m 2       \u001b[0m | \u001b[95m 92.55   \u001b[0m | \u001b[95m 0.3928  \u001b[0m | \u001b[95m 53.88   \u001b[0m | \u001b[95m 4.192   \u001b[0m | \u001b[95m 6.852   \u001b[0m | \u001b[95m 2.431   \u001b[0m | \u001b[95m 10.66   \u001b[0m | \u001b[95m 1.301   \u001b[0m | \u001b[95m 67.05   \u001b[0m |\n",
      "| \u001b[0m 3       \u001b[0m | \u001b[0m 90.73   \u001b[0m | \u001b[0m 0.4131  \u001b[0m | \u001b[0m 55.87   \u001b[0m | \u001b[0m 1.404   \u001b[0m | \u001b[0m 1.981   \u001b[0m | \u001b[0m 6.605   \u001b[0m | \u001b[0m 11.65   \u001b[0m | \u001b[0m 4.448   \u001b[0m | \u001b[0m 69.23   \u001b[0m |\n",
      "| \u001b[0m 4       \u001b[0m | \u001b[0m 92.07   \u001b[0m | \u001b[0m 0.8676  \u001b[0m | \u001b[0m 89.46   \u001b[0m | \u001b[0m 0.8504  \u001b[0m | \u001b[0m 0.3905  \u001b[0m | \u001b[0m 2.189   \u001b[0m | \u001b[0m 10.66   \u001b[0m | \u001b[0m 2.082   \u001b[0m | \u001b[0m 42.11   \u001b[0m |\n",
      "| \u001b[95m 5       \u001b[0m | \u001b[95m 92.87   \u001b[0m | \u001b[95m 0.9483  \u001b[0m | \u001b[95m 53.32   \u001b[0m | \u001b[95m 6.919   \u001b[0m | \u001b[95m 3.155   \u001b[0m | \u001b[95m 5.806   \u001b[0m | \u001b[95m 10.18   \u001b[0m | \u001b[95m 1.201   \u001b[0m | \u001b[95m 75.01   \u001b[0m |\n",
      "| \u001b[0m 6       \u001b[0m | \u001b[0m 91.03   \u001b[0m | \u001b[0m 0.979   \u001b[0m | \u001b[0m 74.82   \u001b[0m | \u001b[0m 2.804   \u001b[0m | \u001b[0m 7.893   \u001b[0m | \u001b[0m 1.723   \u001b[0m | \u001b[0m 5.927   \u001b[0m | \u001b[0m 10.99   \u001b[0m | \u001b[0m 29.36   \u001b[0m |\n",
      "| \u001b[0m 7       \u001b[0m | \u001b[0m 92.61   \u001b[0m | \u001b[0m 0.2849  \u001b[0m | \u001b[0m 13.0    \u001b[0m | \u001b[0m 0.1937  \u001b[0m | \u001b[0m 6.788   \u001b[0m | \u001b[0m 2.481   \u001b[0m | \u001b[0m 3.921   \u001b[0m | \u001b[0m 6.407   \u001b[0m | \u001b[0m 5.336   \u001b[0m |\n",
      "| \u001b[0m 8       \u001b[0m | \u001b[0m 91.36   \u001b[0m | \u001b[0m 0.5684  \u001b[0m | \u001b[0m 14.67   \u001b[0m | \u001b[0m 5.893   \u001b[0m | \u001b[0m 6.998   \u001b[0m | \u001b[0m 1.716   \u001b[0m | \u001b[0m 5.555   \u001b[0m | \u001b[0m 8.638   \u001b[0m | \u001b[0m 41.42   \u001b[0m |\n",
      "| \u001b[0m 9       \u001b[0m | \u001b[0m 89.98   \u001b[0m | \u001b[0m 0.04945 \u001b[0m | \u001b[0m 53.59   \u001b[0m | \u001b[0m 6.638   \u001b[0m | \u001b[0m 5.149   \u001b[0m | \u001b[0m 7.612   \u001b[0m | \u001b[0m 7.452   \u001b[0m | \u001b[0m 10.94   \u001b[0m | \u001b[0m 13.75   \u001b[0m |\n",
      "| \u001b[0m 10      \u001b[0m | \u001b[0m 91.71   \u001b[0m | \u001b[0m 0.1379  \u001b[0m | \u001b[0m 80.74   \u001b[0m | \u001b[0m 3.977   \u001b[0m | \u001b[0m 1.654   \u001b[0m | \u001b[0m 7.493   \u001b[0m | \u001b[0m 4.825   \u001b[0m | \u001b[0m 9.259   \u001b[0m | \u001b[0m 72.6    \u001b[0m |\n",
      "| \u001b[0m 11      \u001b[0m | \u001b[0m 90.45   \u001b[0m | \u001b[0m 0.8996  \u001b[0m | \u001b[0m 95.18   \u001b[0m | \u001b[0m 9.181   \u001b[0m | \u001b[0m 3.227   \u001b[0m | \u001b[0m 6.661   \u001b[0m | \u001b[0m 11.08   \u001b[0m | \u001b[0m 5.039   \u001b[0m | \u001b[0m 69.01   \u001b[0m |\n",
      "| \u001b[0m 12      \u001b[0m | \u001b[0m 91.39   \u001b[0m | \u001b[0m 0.7974  \u001b[0m | \u001b[0m 15.18   \u001b[0m | \u001b[0m 3.237   \u001b[0m | \u001b[0m 4.322   \u001b[0m | \u001b[0m 7.715   \u001b[0m | \u001b[0m 8.121   \u001b[0m | \u001b[0m 6.984   \u001b[0m | \u001b[0m 94.76   \u001b[0m |\n",
      "| \u001b[0m 13      \u001b[0m | \u001b[0m 92.26   \u001b[0m | \u001b[0m 0.28    \u001b[0m | \u001b[0m 83.68   \u001b[0m | \u001b[0m 0.1909  \u001b[0m | \u001b[0m 2.006   \u001b[0m | \u001b[0m 3.429   \u001b[0m | \u001b[0m 1.603   \u001b[0m | \u001b[0m 6.838   \u001b[0m | \u001b[0m 40.95   \u001b[0m |\n",
      "| \u001b[0m 14      \u001b[0m | \u001b[0m 91.81   \u001b[0m | \u001b[0m 0.3623  \u001b[0m | \u001b[0m 46.92   \u001b[0m | \u001b[0m 5.373   \u001b[0m | \u001b[0m 2.653   \u001b[0m | \u001b[0m 7.964   \u001b[0m | \u001b[0m 3.462   \u001b[0m | \u001b[0m 3.77    \u001b[0m | \u001b[0m 89.39   \u001b[0m |\n",
      "| \u001b[0m 15      \u001b[0m | \u001b[0m 89.82   \u001b[0m | \u001b[0m 0.1273  \u001b[0m | \u001b[0m 2.083   \u001b[0m | \u001b[0m 8.872   \u001b[0m | \u001b[0m 7.994   \u001b[0m | \u001b[0m 6.618   \u001b[0m | \u001b[0m 6.185   \u001b[0m | \u001b[0m 10.09   \u001b[0m | \u001b[0m 60.05   \u001b[0m |\n",
      "| \u001b[0m 16      \u001b[0m | \u001b[0m 89.7    \u001b[0m | \u001b[0m 0.9449  \u001b[0m | \u001b[0m 50.8    \u001b[0m | \u001b[0m 3.294   \u001b[0m | \u001b[0m 5.376   \u001b[0m | \u001b[0m 5.139   \u001b[0m | \u001b[0m 7.079   \u001b[0m | \u001b[0m 7.993   \u001b[0m | \u001b[0m 88.04   \u001b[0m |\n",
      "| \u001b[0m 17      \u001b[0m | \u001b[0m 90.22   \u001b[0m | \u001b[0m 0.09027 \u001b[0m | \u001b[0m 46.61   \u001b[0m | \u001b[0m 1.003   \u001b[0m | \u001b[0m 7.06    \u001b[0m | \u001b[0m 4.6     \u001b[0m | \u001b[0m 6.36    \u001b[0m | \u001b[0m 11.8    \u001b[0m | \u001b[0m 19.81   \u001b[0m |\n",
      "| \u001b[0m 18      \u001b[0m | \u001b[0m 92.28   \u001b[0m | \u001b[0m 0.08163 \u001b[0m | \u001b[0m 24.96   \u001b[0m | \u001b[0m 2.219   \u001b[0m | \u001b[0m 8.699   \u001b[0m | \u001b[0m 2.599   \u001b[0m | \u001b[0m 5.573   \u001b[0m | \u001b[0m 5.179   \u001b[0m | \u001b[0m 94.97   \u001b[0m |\n",
      "| \u001b[0m 19      \u001b[0m | \u001b[0m 91.73   \u001b[0m | \u001b[0m 0.2393  \u001b[0m | \u001b[0m 84.02   \u001b[0m | \u001b[0m 8.518   \u001b[0m | \u001b[0m 5.874   \u001b[0m | \u001b[0m 2.388   \u001b[0m | \u001b[0m 2.221   \u001b[0m | \u001b[0m 8.923   \u001b[0m | \u001b[0m 62.17   \u001b[0m |\n",
      "| \u001b[95m 20      \u001b[0m | \u001b[95m 93.23   \u001b[0m | \u001b[95m 0.3013  \u001b[0m | \u001b[95m 50.42   \u001b[0m | \u001b[95m 0.02496 \u001b[0m | \u001b[95m 8.423   \u001b[0m | \u001b[95m 6.058   \u001b[0m | \u001b[95m 3.547   \u001b[0m | \u001b[95m 1.452   \u001b[0m | \u001b[95m 76.37   \u001b[0m |\n",
      "| \u001b[0m 21      \u001b[0m | \u001b[0m 92.29   \u001b[0m | \u001b[0m 0.1497  \u001b[0m | \u001b[0m 38.96   \u001b[0m | \u001b[0m 7.288   \u001b[0m | \u001b[0m 6.121   \u001b[0m | \u001b[0m 7.866   \u001b[0m | \u001b[0m 3.209   \u001b[0m | \u001b[0m 6.991   \u001b[0m | \u001b[0m 11.58   \u001b[0m |\n",
      "| \u001b[0m 22      \u001b[0m | \u001b[0m 90.91   \u001b[0m | \u001b[0m 0.6398  \u001b[0m | \u001b[0m 85.62   \u001b[0m | \u001b[0m 3.537   \u001b[0m | \u001b[0m 2.252   \u001b[0m | \u001b[0m 4.368   \u001b[0m | \u001b[0m 6.032   \u001b[0m | \u001b[0m 11.05   \u001b[0m | \u001b[0m 41.2    \u001b[0m |\n",
      "| \u001b[95m 23      \u001b[0m | \u001b[95m 93.35   \u001b[0m | \u001b[95m 0.319   \u001b[0m | \u001b[95m 15.19   \u001b[0m | \u001b[95m 4.066   \u001b[0m | \u001b[95m 7.223   \u001b[0m | \u001b[95m 1.308   \u001b[0m | \u001b[95m 4.426   \u001b[0m | \u001b[95m 2.622   \u001b[0m | \u001b[95m 2.782   \u001b[0m |\n",
      "| \u001b[0m 24      \u001b[0m | \u001b[0m 92.92   \u001b[0m | \u001b[0m 0.5646  \u001b[0m | \u001b[0m 17.8    \u001b[0m | \u001b[0m 3.214   \u001b[0m | \u001b[0m 7.156   \u001b[0m | \u001b[0m 2.722   \u001b[0m | \u001b[0m 3.965   \u001b[0m | \u001b[0m 4.56    \u001b[0m | \u001b[0m 4.635   \u001b[0m |\n",
      "| \u001b[0m 25      \u001b[0m | \u001b[0m 92.55   \u001b[0m | \u001b[0m 0.569   \u001b[0m | \u001b[0m 50.92   \u001b[0m | \u001b[0m 4.67    \u001b[0m | \u001b[0m 7.939   \u001b[0m | \u001b[0m 4.364   \u001b[0m | \u001b[0m 6.125   \u001b[0m | \u001b[0m 1.0     \u001b[0m | \u001b[0m 73.71   \u001b[0m |\n",
      "| \u001b[0m 26      \u001b[0m | \u001b[0m 92.28   \u001b[0m | \u001b[0m 0.1002  \u001b[0m | \u001b[0m 14.27   \u001b[0m | \u001b[0m 4.942   \u001b[0m | \u001b[0m 2.413   \u001b[0m | \u001b[0m 2.572   \u001b[0m | \u001b[0m 5.717   \u001b[0m | \u001b[0m 2.513   \u001b[0m | \u001b[0m 3.895   \u001b[0m |\n",
      "| \u001b[0m 27      \u001b[0m | \u001b[0m 92.0    \u001b[0m | \u001b[0m 0.8678  \u001b[0m | \u001b[0m 15.53   \u001b[0m | \u001b[0m 0.8217  \u001b[0m | \u001b[0m 9.249   \u001b[0m | \u001b[0m 1.425   \u001b[0m | \u001b[0m 1.199   \u001b[0m | \u001b[0m 1.083   \u001b[0m | \u001b[0m 1.578   \u001b[0m |\n",
      "| \u001b[0m 28      \u001b[0m | \u001b[0m 93.17   \u001b[0m | \u001b[0m 0.0     \u001b[0m | \u001b[0m 14.38   \u001b[0m | \u001b[0m 5.711   \u001b[0m | \u001b[0m 9.685   \u001b[0m | \u001b[0m 1.0     \u001b[0m | \u001b[0m 6.774   \u001b[0m | \u001b[0m 5.507   \u001b[0m | \u001b[0m 3.573   \u001b[0m |\n",
      "| \u001b[0m 29      \u001b[0m | \u001b[0m 92.36   \u001b[0m | \u001b[0m 0.0     \u001b[0m | \u001b[0m 14.08   \u001b[0m | \u001b[0m 8.048   \u001b[0m | \u001b[0m 8.643   \u001b[0m | \u001b[0m 1.0     \u001b[0m | \u001b[0m 1.997   \u001b[0m | \u001b[0m 3.707   \u001b[0m | \u001b[0m 5.302   \u001b[0m |\n",
      "| \u001b[0m 30      \u001b[0m | \u001b[0m 92.75   \u001b[0m | \u001b[0m 0.0     \u001b[0m | \u001b[0m 16.27   \u001b[0m | \u001b[0m 2.872   \u001b[0m | \u001b[0m 9.027   \u001b[0m | \u001b[0m 1.0     \u001b[0m | \u001b[0m 9.277   \u001b[0m | \u001b[0m 1.35    \u001b[0m | \u001b[0m 4.086   \u001b[0m |\n"
     ]
    },
    {
     "name": "stderr",
     "output_type": "stream",
     "text": [
      "/opt/conda/envs/rapids/lib/python3.7/site-packages/sklearn/gaussian_process/kernels.py:271: RuntimeWarning: divide by zero encountered in log\n",
      "  return np.log(np.hstack(theta))\n"
     ]
    },
    {
     "name": "stdout",
     "output_type": "stream",
     "text": [
      "| \u001b[0m 31      \u001b[0m | \u001b[0m 91.53   \u001b[0m | \u001b[0m 0.99    \u001b[0m | \u001b[0m 15.19   \u001b[0m | \u001b[0m 4.924   \u001b[0m | \u001b[0m 8.554   \u001b[0m | \u001b[0m 5.134   \u001b[0m | \u001b[0m 6.759   \u001b[0m | \u001b[0m 4.481   \u001b[0m | \u001b[0m 0.0     \u001b[0m |\n",
      "| \u001b[0m 32      \u001b[0m | \u001b[0m 92.56   \u001b[0m | \u001b[0m 0.0     \u001b[0m | \u001b[0m 13.85   \u001b[0m | \u001b[0m 3.531   \u001b[0m | \u001b[0m 8.608   \u001b[0m | \u001b[0m 1.0     \u001b[0m | \u001b[0m 5.873   \u001b[0m | \u001b[0m 2.789   \u001b[0m | \u001b[0m 7.483   \u001b[0m |\n"
     ]
    },
    {
     "name": "stderr",
     "output_type": "stream",
     "text": [
      "/opt/conda/envs/rapids/lib/python3.7/site-packages/sklearn/gaussian_process/kernels.py:271: RuntimeWarning: divide by zero encountered in log\n",
      "  return np.log(np.hstack(theta))\n"
     ]
    },
    {
     "name": "stdout",
     "output_type": "stream",
     "text": [
      "| \u001b[0m 33      \u001b[0m | \u001b[0m 90.52   \u001b[0m | \u001b[0m 0.0     \u001b[0m | \u001b[0m 53.44   \u001b[0m | \u001b[0m 0.0     \u001b[0m | \u001b[0m 10.0    \u001b[0m | \u001b[0m 8.0     \u001b[0m | \u001b[0m 1.0     \u001b[0m | \u001b[0m 1.0     \u001b[0m | \u001b[0m 73.73   \u001b[0m |\n",
      "| \u001b[0m 34      \u001b[0m | \u001b[0m 92.32   \u001b[0m | \u001b[0m 0.561   \u001b[0m | \u001b[0m 48.63   \u001b[0m | \u001b[0m 0.482   \u001b[0m | \u001b[0m 6.409   \u001b[0m | \u001b[0m 4.982   \u001b[0m | \u001b[0m 6.103   \u001b[0m | \u001b[0m 1.0     \u001b[0m | \u001b[0m 77.35   \u001b[0m |\n",
      "| \u001b[0m 35      \u001b[0m | \u001b[0m 92.82   \u001b[0m | \u001b[0m 0.3126  \u001b[0m | \u001b[0m 48.79   \u001b[0m | \u001b[0m 0.9457  \u001b[0m | \u001b[0m 10.0    \u001b[0m | \u001b[0m 3.7     \u001b[0m | \u001b[0m 2.987   \u001b[0m | \u001b[0m 3.098   \u001b[0m | \u001b[0m 77.14   \u001b[0m |\n",
      "| \u001b[95m 36      \u001b[0m | \u001b[95m 93.36   \u001b[0m | \u001b[95m 0.03848 \u001b[0m | \u001b[95m 16.61   \u001b[0m | \u001b[95m 5.467   \u001b[0m | \u001b[95m 6.161   \u001b[0m | \u001b[95m 1.057   \u001b[0m | \u001b[95m 5.587   \u001b[0m | \u001b[95m 8.71    \u001b[0m | \u001b[95m 1.971   \u001b[0m |\n",
      "| \u001b[0m 37      \u001b[0m | \u001b[0m 91.82   \u001b[0m | \u001b[0m 0.2223  \u001b[0m | \u001b[0m 15.68   \u001b[0m | \u001b[0m 4.63    \u001b[0m | \u001b[0m 8.282   \u001b[0m | \u001b[0m 2.535   \u001b[0m | \u001b[0m 2.187   \u001b[0m | \u001b[0m 7.957   \u001b[0m | \u001b[0m 4.738   \u001b[0m |\n",
      "| \u001b[0m 38      \u001b[0m | \u001b[0m 91.84   \u001b[0m | \u001b[0m 0.1953  \u001b[0m | \u001b[0m 15.15   \u001b[0m | \u001b[0m 2.408   \u001b[0m | \u001b[0m 3.931   \u001b[0m | \u001b[0m 1.807   \u001b[0m | \u001b[0m 8.036   \u001b[0m | \u001b[0m 6.966   \u001b[0m | \u001b[0m 6.779   \u001b[0m |\n",
      "| \u001b[0m 39      \u001b[0m | \u001b[0m 92.49   \u001b[0m | \u001b[0m 0.0     \u001b[0m | \u001b[0m 17.72   \u001b[0m | \u001b[0m 6.3     \u001b[0m | \u001b[0m 6.751   \u001b[0m | \u001b[0m 1.0     \u001b[0m | \u001b[0m 6.467   \u001b[0m | \u001b[0m 4.697   \u001b[0m | \u001b[0m 2.982   \u001b[0m |\n",
      "| \u001b[0m 40      \u001b[0m | \u001b[0m 93.34   \u001b[0m | \u001b[0m 0.8571  \u001b[0m | \u001b[0m 52.73   \u001b[0m | \u001b[0m 7.944   \u001b[0m | \u001b[0m 5.971   \u001b[0m | \u001b[0m 2.88    \u001b[0m | \u001b[0m 10.39   \u001b[0m | \u001b[0m 1.0     \u001b[0m | \u001b[0m 72.3    \u001b[0m |\n",
      "=========================================================================================================================\n",
      "93.3564922278467\n",
      "Prev Inven : 1, Var Sale : 9, Var Product : 6\n",
      "|   iter    |  target   |  g_alpha  |   k_dot   |   rbf_l   |  theta1   | tmp_pr... | tmp_va... | tmp_va... |  w_noise  |\n",
      "-------------------------------------------------------------------------------------------------------------------------\n",
      "| \u001b[0m 1       \u001b[0m | \u001b[0m 93.85   \u001b[0m | \u001b[0m 0.4129  \u001b[0m | \u001b[0m 72.03   \u001b[0m | \u001b[0m 0.001144\u001b[0m | \u001b[0m 3.023   \u001b[0m | \u001b[0m 2.027   \u001b[0m | \u001b[0m 2.016   \u001b[0m | \u001b[0m 3.049   \u001b[0m | \u001b[0m 34.56   \u001b[0m |\n",
      "| \u001b[0m 2       \u001b[0m | \u001b[0m 92.51   \u001b[0m | \u001b[0m 0.3928  \u001b[0m | \u001b[0m 53.88   \u001b[0m | \u001b[0m 4.192   \u001b[0m | \u001b[0m 6.852   \u001b[0m | \u001b[0m 2.431   \u001b[0m | \u001b[0m 10.66   \u001b[0m | \u001b[0m 1.301   \u001b[0m | \u001b[0m 67.05   \u001b[0m |\n",
      "| \u001b[0m 3       \u001b[0m | \u001b[0m 92.33   \u001b[0m | \u001b[0m 0.4131  \u001b[0m | \u001b[0m 55.87   \u001b[0m | \u001b[0m 1.404   \u001b[0m | \u001b[0m 1.981   \u001b[0m | \u001b[0m 6.605   \u001b[0m | \u001b[0m 11.65   \u001b[0m | \u001b[0m 4.448   \u001b[0m | \u001b[0m 69.23   \u001b[0m |\n",
      "| \u001b[0m 4       \u001b[0m | \u001b[0m 92.26   \u001b[0m | \u001b[0m 0.8676  \u001b[0m | \u001b[0m 89.46   \u001b[0m | \u001b[0m 0.8504  \u001b[0m | \u001b[0m 0.3905  \u001b[0m | \u001b[0m 2.189   \u001b[0m | \u001b[0m 10.66   \u001b[0m | \u001b[0m 2.082   \u001b[0m | \u001b[0m 42.11   \u001b[0m |\n",
      "| \u001b[0m 5       \u001b[0m | \u001b[0m 92.56   \u001b[0m | \u001b[0m 0.9483  \u001b[0m | \u001b[0m 53.32   \u001b[0m | \u001b[0m 6.919   \u001b[0m | \u001b[0m 3.155   \u001b[0m | \u001b[0m 5.806   \u001b[0m | \u001b[0m 10.18   \u001b[0m | \u001b[0m 1.201   \u001b[0m | \u001b[0m 75.01   \u001b[0m |\n",
      "| \u001b[0m 6       \u001b[0m | \u001b[0m 93.51   \u001b[0m | \u001b[0m 0.979   \u001b[0m | \u001b[0m 74.82   \u001b[0m | \u001b[0m 2.804   \u001b[0m | \u001b[0m 7.893   \u001b[0m | \u001b[0m 1.723   \u001b[0m | \u001b[0m 5.927   \u001b[0m | \u001b[0m 10.99   \u001b[0m | \u001b[0m 29.36   \u001b[0m |\n",
      "| \u001b[95m 7       \u001b[0m | \u001b[95m 94.59   \u001b[0m | \u001b[95m 0.2849  \u001b[0m | \u001b[95m 13.0    \u001b[0m | \u001b[95m 0.1937  \u001b[0m | \u001b[95m 6.788   \u001b[0m | \u001b[95m 2.481   \u001b[0m | \u001b[95m 3.921   \u001b[0m | \u001b[95m 6.407   \u001b[0m | \u001b[95m 5.336   \u001b[0m |\n",
      "| \u001b[0m 8       \u001b[0m | \u001b[0m 93.73   \u001b[0m | \u001b[0m 0.5684  \u001b[0m | \u001b[0m 14.67   \u001b[0m | \u001b[0m 5.893   \u001b[0m | \u001b[0m 6.998   \u001b[0m | \u001b[0m 1.716   \u001b[0m | \u001b[0m 5.555   \u001b[0m | \u001b[0m 8.638   \u001b[0m | \u001b[0m 41.42   \u001b[0m |\n",
      "| \u001b[0m 9       \u001b[0m | \u001b[0m 91.13   \u001b[0m | \u001b[0m 0.04945 \u001b[0m | \u001b[0m 53.59   \u001b[0m | \u001b[0m 6.638   \u001b[0m | \u001b[0m 5.149   \u001b[0m | \u001b[0m 7.612   \u001b[0m | \u001b[0m 7.452   \u001b[0m | \u001b[0m 10.94   \u001b[0m | \u001b[0m 13.75   \u001b[0m |\n",
      "| \u001b[0m 10      \u001b[0m | \u001b[0m 92.13   \u001b[0m | \u001b[0m 0.1379  \u001b[0m | \u001b[0m 80.74   \u001b[0m | \u001b[0m 3.977   \u001b[0m | \u001b[0m 1.654   \u001b[0m | \u001b[0m 7.493   \u001b[0m | \u001b[0m 4.825   \u001b[0m | \u001b[0m 9.259   \u001b[0m | \u001b[0m 72.6    \u001b[0m |\n",
      "| \u001b[0m 11      \u001b[0m | \u001b[0m 93.62   \u001b[0m | \u001b[0m 0.4628  \u001b[0m | \u001b[0m 76.12   \u001b[0m | \u001b[0m 4.188   \u001b[0m | \u001b[0m 6.656   \u001b[0m | \u001b[0m 2.055   \u001b[0m | \u001b[0m 4.776   \u001b[0m | \u001b[0m 10.66   \u001b[0m | \u001b[0m 27.06   \u001b[0m |\n",
      "| \u001b[95m 12      \u001b[0m | \u001b[95m 95.6    \u001b[0m | \u001b[95m 0.4564  \u001b[0m | \u001b[95m 3.663   \u001b[0m | \u001b[95m 0.7537  \u001b[0m | \u001b[95m 7.256   \u001b[0m | \u001b[95m 1.0     \u001b[0m | \u001b[95m 3.538   \u001b[0m | \u001b[95m 6.037   \u001b[0m | \u001b[95m 17.6    \u001b[0m |\n"
     ]
    },
    {
     "name": "stderr",
     "output_type": "stream",
     "text": [
      "/opt/conda/envs/rapids/lib/python3.7/site-packages/sklearn/gaussian_process/kernels.py:271: RuntimeWarning: divide by zero encountered in log\n",
      "  return np.log(np.hstack(theta))\n"
     ]
    },
    {
     "name": "stdout",
     "output_type": "stream",
     "text": [
      "| \u001b[0m 13      \u001b[0m | \u001b[0m 93.78   \u001b[0m | \u001b[0m 0.99    \u001b[0m | \u001b[0m 0.0     \u001b[0m | \u001b[0m 10.0    \u001b[0m | \u001b[0m 0.0     \u001b[0m | \u001b[0m 1.0     \u001b[0m | \u001b[0m 12.0    \u001b[0m | \u001b[0m 1.0     \u001b[0m | \u001b[0m 15.37   \u001b[0m |\n"
     ]
    },
    {
     "name": "stderr",
     "output_type": "stream",
     "text": [
      "/opt/conda/envs/rapids/lib/python3.7/site-packages/sklearn/gaussian_process/kernels.py:271: RuntimeWarning: divide by zero encountered in log\n",
      "  return np.log(np.hstack(theta))\n"
     ]
    },
    {
     "name": "stdout",
     "output_type": "stream",
     "text": [
      "| \u001b[0m 14      \u001b[0m | \u001b[0m 91.82   \u001b[0m | \u001b[0m 0.0     \u001b[0m | \u001b[0m 0.0     \u001b[0m | \u001b[0m 0.0     \u001b[0m | \u001b[0m 10.0    \u001b[0m | \u001b[0m 8.0     \u001b[0m | \u001b[0m 1.0     \u001b[0m | \u001b[0m 1.0     \u001b[0m | \u001b[0m 23.96   \u001b[0m |\n",
      "| \u001b[0m 15      \u001b[0m | \u001b[0m 95.03   \u001b[0m | \u001b[0m 0.8381  \u001b[0m | \u001b[0m 6.384   \u001b[0m | \u001b[0m 1.537   \u001b[0m | \u001b[0m 5.021   \u001b[0m | \u001b[0m 1.0     \u001b[0m | \u001b[0m 5.652   \u001b[0m | \u001b[0m 10.1    \u001b[0m | \u001b[0m 13.48   \u001b[0m |\n"
     ]
    },
    {
     "name": "stderr",
     "output_type": "stream",
     "text": [
      "/opt/conda/envs/rapids/lib/python3.7/site-packages/sklearn/gaussian_process/kernels.py:271: RuntimeWarning: divide by zero encountered in log\n",
      "  return np.log(np.hstack(theta))\n"
     ]
    },
    {
     "name": "stdout",
     "output_type": "stream",
     "text": [
      "| \u001b[0m 16      \u001b[0m | \u001b[0m 94.14   \u001b[0m | \u001b[0m 0.1995  \u001b[0m | \u001b[0m 2.787   \u001b[0m | \u001b[0m 0.0     \u001b[0m | \u001b[0m 8.286   \u001b[0m | \u001b[0m 1.0     \u001b[0m | \u001b[0m 2.056   \u001b[0m | \u001b[0m 4.151   \u001b[0m | \u001b[0m 10.08   \u001b[0m |\n",
      "| \u001b[0m 17      \u001b[0m | \u001b[0m 94.77   \u001b[0m | \u001b[0m 0.3386  \u001b[0m | \u001b[0m 11.18   \u001b[0m | \u001b[0m 1.036   \u001b[0m | \u001b[0m 6.858   \u001b[0m | \u001b[0m 1.0     \u001b[0m | \u001b[0m 4.561   \u001b[0m | \u001b[0m 5.191   \u001b[0m | \u001b[0m 18.1    \u001b[0m |\n"
     ]
    },
    {
     "name": "stderr",
     "output_type": "stream",
     "text": [
      "/opt/conda/envs/rapids/lib/python3.7/site-packages/sklearn/gaussian_process/kernels.py:271: RuntimeWarning: divide by zero encountered in log\n",
      "  return np.log(np.hstack(theta))\n"
     ]
    },
    {
     "name": "stdout",
     "output_type": "stream",
     "text": [
      "| \u001b[0m 18      \u001b[0m | \u001b[0m 92.63   \u001b[0m | \u001b[0m 0.0     \u001b[0m | \u001b[0m 4.214   \u001b[0m | \u001b[0m 0.0     \u001b[0m | \u001b[0m 1.576   \u001b[0m | \u001b[0m 1.0     \u001b[0m | \u001b[0m 1.0     \u001b[0m | \u001b[0m 10.13   \u001b[0m | \u001b[0m 19.73   \u001b[0m |\n",
      "| \u001b[0m 19      \u001b[0m | \u001b[0m 94.67   \u001b[0m | \u001b[0m 0.99    \u001b[0m | \u001b[0m 5.25    \u001b[0m | \u001b[0m 2.33    \u001b[0m | \u001b[0m 9.796   \u001b[0m | \u001b[0m 1.0     \u001b[0m | \u001b[0m 7.804   \u001b[0m | \u001b[0m 6.28    \u001b[0m | \u001b[0m 15.91   \u001b[0m |\n",
      "| \u001b[0m 20      \u001b[0m | \u001b[0m 94.58   \u001b[0m | \u001b[0m 0.7094  \u001b[0m | \u001b[0m 8.163   \u001b[0m | \u001b[0m 3.389   \u001b[0m | \u001b[0m 6.551   \u001b[0m | \u001b[0m 5.473   \u001b[0m | \u001b[0m 3.712   \u001b[0m | \u001b[0m 5.799   \u001b[0m | \u001b[0m 12.1    \u001b[0m |\n"
     ]
    },
    {
     "name": "stderr",
     "output_type": "stream",
     "text": [
      "/opt/conda/envs/rapids/lib/python3.7/site-packages/sklearn/gaussian_process/kernels.py:271: RuntimeWarning: divide by zero encountered in log\n",
      "  return np.log(np.hstack(theta))\n"
     ]
    },
    {
     "name": "stdout",
     "output_type": "stream",
     "text": [
      "| \u001b[0m 21      \u001b[0m | \u001b[0m 93.67   \u001b[0m | \u001b[0m 0.99    \u001b[0m | \u001b[0m 7.0     \u001b[0m | \u001b[0m 0.0     \u001b[0m | \u001b[0m 10.0    \u001b[0m | \u001b[0m 1.0     \u001b[0m | \u001b[0m 1.726   \u001b[0m | \u001b[0m 8.597   \u001b[0m | \u001b[0m 15.52   \u001b[0m |\n",
      "| \u001b[0m 22      \u001b[0m | \u001b[0m 94.43   \u001b[0m | \u001b[0m 0.2721  \u001b[0m | \u001b[0m 5.125   \u001b[0m | \u001b[0m 0.92    \u001b[0m | \u001b[0m 4.254   \u001b[0m | \u001b[0m 1.0     \u001b[0m | \u001b[0m 6.224   \u001b[0m | \u001b[0m 3.701   \u001b[0m | \u001b[0m 15.56   \u001b[0m |\n",
      "| \u001b[95m 23      \u001b[0m | \u001b[95m 95.79   \u001b[0m | \u001b[95m 0.0     \u001b[0m | \u001b[95m 2.898   \u001b[0m | \u001b[95m 5.199   \u001b[0m | \u001b[95m 6.885   \u001b[0m | \u001b[95m 1.0     \u001b[0m | \u001b[95m 3.952   \u001b[0m | \u001b[95m 6.811   \u001b[0m | \u001b[95m 16.18   \u001b[0m |\n"
     ]
    },
    {
     "name": "stderr",
     "output_type": "stream",
     "text": [
      "/opt/conda/envs/rapids/lib/python3.7/site-packages/sklearn/gaussian_process/kernels.py:271: RuntimeWarning: divide by zero encountered in log\n",
      "  return np.log(np.hstack(theta))\n"
     ]
    },
    {
     "name": "stdout",
     "output_type": "stream",
     "text": [
      "| \u001b[0m 24      \u001b[0m | \u001b[0m 95.23   \u001b[0m | \u001b[0m 0.0     \u001b[0m | \u001b[0m 0.0     \u001b[0m | \u001b[0m 2.433   \u001b[0m | \u001b[0m 7.201   \u001b[0m | \u001b[0m 1.0     \u001b[0m | \u001b[0m 5.919   \u001b[0m | \u001b[0m 8.703   \u001b[0m | \u001b[0m 15.89   \u001b[0m |\n",
      "| \u001b[0m 25      \u001b[0m | \u001b[0m 95.03   \u001b[0m | \u001b[0m 0.0     \u001b[0m | \u001b[0m 4.078   \u001b[0m | \u001b[0m 8.776   \u001b[0m | \u001b[0m 5.751   \u001b[0m | \u001b[0m 1.0     \u001b[0m | \u001b[0m 6.06    \u001b[0m | \u001b[0m 10.15   \u001b[0m | \u001b[0m 12.09   \u001b[0m |\n",
      "| \u001b[0m 26      \u001b[0m | \u001b[0m 95.33   \u001b[0m | \u001b[0m 0.0     \u001b[0m | \u001b[0m 5.504   \u001b[0m | \u001b[0m 7.849   \u001b[0m | \u001b[0m 6.966   \u001b[0m | \u001b[0m 1.0     \u001b[0m | \u001b[0m 6.534   \u001b[0m | \u001b[0m 8.415   \u001b[0m | \u001b[0m 20.35   \u001b[0m |\n",
      "| \u001b[0m 27      \u001b[0m | \u001b[0m 94.41   \u001b[0m | \u001b[0m 0.0     \u001b[0m | \u001b[0m 7.929   \u001b[0m | \u001b[0m 10.0    \u001b[0m | \u001b[0m 7.254   \u001b[0m | \u001b[0m 1.0     \u001b[0m | \u001b[0m 2.269   \u001b[0m | \u001b[0m 3.698   \u001b[0m | \u001b[0m 17.46   \u001b[0m |\n",
      "| \u001b[0m 28      \u001b[0m | \u001b[0m 93.79   \u001b[0m | \u001b[0m 0.0     \u001b[0m | \u001b[0m 12.37   \u001b[0m | \u001b[0m 7.263   \u001b[0m | \u001b[0m 4.488   \u001b[0m | \u001b[0m 1.017   \u001b[0m | \u001b[0m 9.393   \u001b[0m | \u001b[0m 10.93   \u001b[0m | \u001b[0m 15.13   \u001b[0m |\n",
      "| \u001b[0m 29      \u001b[0m | \u001b[0m 89.98   \u001b[0m | \u001b[0m 0.7013  \u001b[0m | \u001b[0m 1.573   \u001b[0m | \u001b[0m 8.188   \u001b[0m | \u001b[0m 5.926   \u001b[0m | \u001b[0m 7.632   \u001b[0m | \u001b[0m 10.85   \u001b[0m | \u001b[0m 10.45   \u001b[0m | \u001b[0m 15.24   \u001b[0m |\n",
      "| \u001b[95m 30      \u001b[0m | \u001b[95m 95.79   \u001b[0m | \u001b[95m 0.0     \u001b[0m | \u001b[95m 1.853   \u001b[0m | \u001b[95m 5.243   \u001b[0m | \u001b[95m 10.0    \u001b[0m | \u001b[95m 1.0     \u001b[0m | \u001b[95m 3.652   \u001b[0m | \u001b[95m 7.075   \u001b[0m | \u001b[95m 20.81   \u001b[0m |\n",
      "| \u001b[0m 31      \u001b[0m | \u001b[0m 93.54   \u001b[0m | \u001b[0m 0.0     \u001b[0m | \u001b[0m 7.055   \u001b[0m | \u001b[0m 7.035   \u001b[0m | \u001b[0m 3.502   \u001b[0m | \u001b[0m 1.0     \u001b[0m | \u001b[0m 1.531   \u001b[0m | \u001b[0m 9.75    \u001b[0m | \u001b[0m 6.708   \u001b[0m |\n",
      "| \u001b[0m 32      \u001b[0m | \u001b[0m 95.02   \u001b[0m | \u001b[0m 0.0     \u001b[0m | \u001b[0m 17.95   \u001b[0m | \u001b[0m 0.408   \u001b[0m | \u001b[0m 5.659   \u001b[0m | \u001b[0m 3.925   \u001b[0m | \u001b[0m 5.027   \u001b[0m | \u001b[0m 1.318   \u001b[0m | \u001b[0m 11.73   \u001b[0m |\n"
     ]
    },
    {
     "name": "stderr",
     "output_type": "stream",
     "text": [
      "/opt/conda/envs/rapids/lib/python3.7/site-packages/sklearn/gaussian_process/kernels.py:271: RuntimeWarning: divide by zero encountered in log\n",
      "  return np.log(np.hstack(theta))\n"
     ]
    },
    {
     "name": "stdout",
     "output_type": "stream",
     "text": [
      "| \u001b[0m 33      \u001b[0m | \u001b[0m 92.59   \u001b[0m | \u001b[0m 0.99    \u001b[0m | \u001b[0m 17.29   \u001b[0m | \u001b[0m 0.0     \u001b[0m | \u001b[0m 10.0    \u001b[0m | \u001b[0m 1.0     \u001b[0m | \u001b[0m 10.14   \u001b[0m | \u001b[0m 1.022   \u001b[0m | \u001b[0m 7.805   \u001b[0m |\n"
     ]
    },
    {
     "name": "stderr",
     "output_type": "stream",
     "text": [
      "/opt/conda/envs/rapids/lib/python3.7/site-packages/sklearn/gaussian_process/kernels.py:271: RuntimeWarning: divide by zero encountered in log\n",
      "  return np.log(np.hstack(theta))\n"
     ]
    },
    {
     "name": "stdout",
     "output_type": "stream",
     "text": [
      "| \u001b[0m 34      \u001b[0m | \u001b[0m 92.73   \u001b[0m | \u001b[0m 0.0     \u001b[0m | \u001b[0m 16.79   \u001b[0m | \u001b[0m 0.0     \u001b[0m | \u001b[0m 2.007   \u001b[0m | \u001b[0m 6.363   \u001b[0m | \u001b[0m 1.0     \u001b[0m | \u001b[0m 5.121   \u001b[0m | \u001b[0m 11.2    \u001b[0m |\n",
      "| \u001b[0m 35      \u001b[0m | \u001b[0m 95.0    \u001b[0m | \u001b[0m 0.99    \u001b[0m | \u001b[0m 3.773   \u001b[0m | \u001b[0m 4.682   \u001b[0m | \u001b[0m 7.138   \u001b[0m | \u001b[0m 1.0     \u001b[0m | \u001b[0m 5.22    \u001b[0m | \u001b[0m 4.143   \u001b[0m | \u001b[0m 21.07   \u001b[0m |\n",
      "| \u001b[0m 36      \u001b[0m | \u001b[0m 93.48   \u001b[0m | \u001b[0m 0.0     \u001b[0m | \u001b[0m 2.865   \u001b[0m | \u001b[0m 8.486   \u001b[0m | \u001b[0m 9.821   \u001b[0m | \u001b[0m 1.0     \u001b[0m | \u001b[0m 2.05    \u001b[0m | \u001b[0m 10.54   \u001b[0m | \u001b[0m 17.64   \u001b[0m |\n",
      "| \u001b[0m 37      \u001b[0m | \u001b[0m 92.86   \u001b[0m | \u001b[0m 0.6397  \u001b[0m | \u001b[0m 4.478   \u001b[0m | \u001b[0m 2.947   \u001b[0m | \u001b[0m 8.879   \u001b[0m | \u001b[0m 1.563   \u001b[0m | \u001b[0m 6.776   \u001b[0m | \u001b[0m 10.1    \u001b[0m | \u001b[0m 19.65   \u001b[0m |\n",
      "| \u001b[0m 38      \u001b[0m | \u001b[0m 94.59   \u001b[0m | \u001b[0m 0.1262  \u001b[0m | \u001b[0m 1.385   \u001b[0m | \u001b[0m 9.29    \u001b[0m | \u001b[0m 7.158   \u001b[0m | \u001b[0m 1.648   \u001b[0m | \u001b[0m 4.375   \u001b[0m | \u001b[0m 5.583   \u001b[0m | \u001b[0m 21.18   \u001b[0m |\n",
      "| \u001b[0m 39      \u001b[0m | \u001b[0m 94.82   \u001b[0m | \u001b[0m 0.0     \u001b[0m | \u001b[0m 0.632   \u001b[0m | \u001b[0m 3.484   \u001b[0m | \u001b[0m 9.432   \u001b[0m | \u001b[0m 1.0     \u001b[0m | \u001b[0m 3.615   \u001b[0m | \u001b[0m 4.644   \u001b[0m | \u001b[0m 17.45   \u001b[0m |\n",
      "| \u001b[0m 40      \u001b[0m | \u001b[0m 94.04   \u001b[0m | \u001b[0m 0.0     \u001b[0m | \u001b[0m 5.318   \u001b[0m | \u001b[0m 4.968   \u001b[0m | \u001b[0m 8.289   \u001b[0m | \u001b[0m 1.0     \u001b[0m | \u001b[0m 2.214   \u001b[0m | \u001b[0m 5.672   \u001b[0m | \u001b[0m 19.06   \u001b[0m |\n",
      "=========================================================================================================================\n",
      "95.79219573217338\n",
      "Prev Inven : 1, Var Sale : 7, Var Product : 4\n",
      "|   iter    |  target   |  g_alpha  |   k_dot   |   rbf_l   |  theta1   | tmp_pr... | tmp_va... | tmp_va... |  w_noise  |\n",
      "-------------------------------------------------------------------------------------------------------------------------\n",
      "| \u001b[0m 1       \u001b[0m | \u001b[0m 93.93   \u001b[0m | \u001b[0m 0.4129  \u001b[0m | \u001b[0m 72.03   \u001b[0m | \u001b[0m 0.001144\u001b[0m | \u001b[0m 3.023   \u001b[0m | \u001b[0m 2.027   \u001b[0m | \u001b[0m 2.016   \u001b[0m | \u001b[0m 3.049   \u001b[0m | \u001b[0m 34.56   \u001b[0m |\n",
      "| \u001b[0m 2       \u001b[0m | \u001b[0m 91.35   \u001b[0m | \u001b[0m 0.3928  \u001b[0m | \u001b[0m 53.88   \u001b[0m | \u001b[0m 4.192   \u001b[0m | \u001b[0m 6.852   \u001b[0m | \u001b[0m 2.431   \u001b[0m | \u001b[0m 10.66   \u001b[0m | \u001b[0m 1.301   \u001b[0m | \u001b[0m 67.05   \u001b[0m |\n",
      "| \u001b[0m 3       \u001b[0m | \u001b[0m 92.7    \u001b[0m | \u001b[0m 0.4131  \u001b[0m | \u001b[0m 55.87   \u001b[0m | \u001b[0m 1.404   \u001b[0m | \u001b[0m 1.981   \u001b[0m | \u001b[0m 6.605   \u001b[0m | \u001b[0m 11.65   \u001b[0m | \u001b[0m 4.448   \u001b[0m | \u001b[0m 69.23   \u001b[0m |\n",
      "| \u001b[0m 4       \u001b[0m | \u001b[0m 91.34   \u001b[0m | \u001b[0m 0.8676  \u001b[0m | \u001b[0m 89.46   \u001b[0m | \u001b[0m 0.8504  \u001b[0m | \u001b[0m 0.3905  \u001b[0m | \u001b[0m 2.189   \u001b[0m | \u001b[0m 10.66   \u001b[0m | \u001b[0m 2.082   \u001b[0m | \u001b[0m 42.11   \u001b[0m |\n",
      "| \u001b[0m 5       \u001b[0m | \u001b[0m 91.5    \u001b[0m | \u001b[0m 0.9483  \u001b[0m | \u001b[0m 53.32   \u001b[0m | \u001b[0m 6.919   \u001b[0m | \u001b[0m 3.155   \u001b[0m | \u001b[0m 5.806   \u001b[0m | \u001b[0m 10.18   \u001b[0m | \u001b[0m 1.201   \u001b[0m | \u001b[0m 75.01   \u001b[0m |\n",
      "| \u001b[0m 6       \u001b[0m | \u001b[0m 93.1    \u001b[0m | \u001b[0m 0.979   \u001b[0m | \u001b[0m 74.82   \u001b[0m | \u001b[0m 2.804   \u001b[0m | \u001b[0m 7.893   \u001b[0m | \u001b[0m 1.723   \u001b[0m | \u001b[0m 5.927   \u001b[0m | \u001b[0m 10.99   \u001b[0m | \u001b[0m 29.36   \u001b[0m |\n",
      "| \u001b[95m 7       \u001b[0m | \u001b[95m 94.8    \u001b[0m | \u001b[95m 0.2849  \u001b[0m | \u001b[95m 13.0    \u001b[0m | \u001b[95m 0.1937  \u001b[0m | \u001b[95m 6.788   \u001b[0m | \u001b[95m 2.481   \u001b[0m | \u001b[95m 3.921   \u001b[0m | \u001b[95m 6.407   \u001b[0m | \u001b[95m 5.336   \u001b[0m |\n",
      "| \u001b[0m 8       \u001b[0m | \u001b[0m 93.25   \u001b[0m | \u001b[0m 0.5684  \u001b[0m | \u001b[0m 14.67   \u001b[0m | \u001b[0m 5.893   \u001b[0m | \u001b[0m 6.998   \u001b[0m | \u001b[0m 1.716   \u001b[0m | \u001b[0m 5.555   \u001b[0m | \u001b[0m 8.638   \u001b[0m | \u001b[0m 41.42   \u001b[0m |\n",
      "| \u001b[0m 9       \u001b[0m | \u001b[0m 93.21   \u001b[0m | \u001b[0m 0.04945 \u001b[0m | \u001b[0m 53.59   \u001b[0m | \u001b[0m 6.638   \u001b[0m | \u001b[0m 5.149   \u001b[0m | \u001b[0m 7.612   \u001b[0m | \u001b[0m 7.452   \u001b[0m | \u001b[0m 10.94   \u001b[0m | \u001b[0m 13.75   \u001b[0m |\n",
      "| \u001b[95m 10      \u001b[0m | \u001b[95m 94.88   \u001b[0m | \u001b[95m 0.1379  \u001b[0m | \u001b[95m 80.74   \u001b[0m | \u001b[95m 3.977   \u001b[0m | \u001b[95m 1.654   \u001b[0m | \u001b[95m 7.493   \u001b[0m | \u001b[95m 4.825   \u001b[0m | \u001b[95m 9.259   \u001b[0m | \u001b[95m 72.6    \u001b[0m |\n",
      "| \u001b[0m 11      \u001b[0m | \u001b[0m 94.74   \u001b[0m | \u001b[0m 0.629   \u001b[0m | \u001b[0m 78.7    \u001b[0m | \u001b[0m 4.043   \u001b[0m | \u001b[0m 1.915   \u001b[0m | \u001b[0m 7.193   \u001b[0m | \u001b[0m 3.555   \u001b[0m | \u001b[0m 7.532   \u001b[0m | \u001b[0m 70.14   \u001b[0m |\n",
      "| \u001b[0m 12      \u001b[0m | \u001b[0m 93.96   \u001b[0m | \u001b[0m 0.1212  \u001b[0m | \u001b[0m 85.38   \u001b[0m | \u001b[0m 4.325   \u001b[0m | \u001b[0m 6.743   \u001b[0m | \u001b[0m 7.222   \u001b[0m | \u001b[0m 1.465   \u001b[0m | \u001b[0m 2.04    \u001b[0m | \u001b[0m 80.63   \u001b[0m |\n"
     ]
    },
    {
     "name": "stderr",
     "output_type": "stream",
     "text": [
      "/opt/conda/envs/rapids/lib/python3.7/site-packages/sklearn/gaussian_process/kernels.py:271: RuntimeWarning: divide by zero encountered in log\n",
      "  return np.log(np.hstack(theta))\n"
     ]
    },
    {
     "name": "stdout",
     "output_type": "stream",
     "text": [
      "| \u001b[0m 13      \u001b[0m | \u001b[0m 93.29   \u001b[0m | \u001b[0m 0.482   \u001b[0m | \u001b[0m 0.7161  \u001b[0m | \u001b[0m 0.0     \u001b[0m | \u001b[0m 5.777   \u001b[0m | \u001b[0m 2.364   \u001b[0m | \u001b[0m 5.86    \u001b[0m | \u001b[0m 1.894   \u001b[0m | \u001b[0m 0.0     \u001b[0m |\n",
      "| \u001b[95m 14      \u001b[0m | \u001b[95m 94.89   \u001b[0m | \u001b[95m 0.09883 \u001b[0m | \u001b[95m 21.66   \u001b[0m | \u001b[95m 3.649   \u001b[0m | \u001b[95m 8.701   \u001b[0m | \u001b[95m 4.254   \u001b[0m | \u001b[95m 3.099   \u001b[0m | \u001b[95m 8.951   \u001b[0m | \u001b[95m 13.28   \u001b[0m |\n"
     ]
    },
    {
     "name": "stderr",
     "output_type": "stream",
     "text": [
      "/opt/conda/envs/rapids/lib/python3.7/site-packages/sklearn/gaussian_process/kernels.py:271: RuntimeWarning: divide by zero encountered in log\n",
      "  return np.log(np.hstack(theta))\n"
     ]
    },
    {
     "name": "stdout",
     "output_type": "stream",
     "text": [
      "| \u001b[0m 15      \u001b[0m | \u001b[0m 93.42   \u001b[0m | \u001b[0m 0.99    \u001b[0m | \u001b[0m 25.7    \u001b[0m | \u001b[0m 0.0     \u001b[0m | \u001b[0m 10.0    \u001b[0m | \u001b[0m 1.0     \u001b[0m | \u001b[0m 1.0     \u001b[0m | \u001b[0m 12.0    \u001b[0m | \u001b[0m 0.0     \u001b[0m |\n"
     ]
    },
    {
     "name": "stderr",
     "output_type": "stream",
     "text": [
      "/opt/conda/envs/rapids/lib/python3.7/site-packages/sklearn/gaussian_process/kernels.py:271: RuntimeWarning: divide by zero encountered in log\n",
      "  return np.log(np.hstack(theta))\n"
     ]
    },
    {
     "name": "stdout",
     "output_type": "stream",
     "text": [
      "| \u001b[0m 16      \u001b[0m | \u001b[0m 93.85   \u001b[0m | \u001b[0m 0.0     \u001b[0m | \u001b[0m 16.72   \u001b[0m | \u001b[0m 0.0     \u001b[0m | \u001b[0m 0.0     \u001b[0m | \u001b[0m 8.0     \u001b[0m | \u001b[0m 2.971   \u001b[0m | \u001b[0m 1.777   \u001b[0m | \u001b[0m 14.89   \u001b[0m |\n",
      "| \u001b[0m 17      \u001b[0m | \u001b[0m 89.96   \u001b[0m | \u001b[0m 0.0     \u001b[0m | \u001b[0m 12.76   \u001b[0m | \u001b[0m 7.131   \u001b[0m | \u001b[0m 10.0    \u001b[0m | \u001b[0m 1.0     \u001b[0m | \u001b[0m 10.08   \u001b[0m | \u001b[0m 12.0    \u001b[0m | \u001b[0m 12.86   \u001b[0m |\n"
     ]
    },
    {
     "name": "stderr",
     "output_type": "stream",
     "text": [
      "/opt/conda/envs/rapids/lib/python3.7/site-packages/sklearn/gaussian_process/kernels.py:271: RuntimeWarning: divide by zero encountered in log\n",
      "  return np.log(np.hstack(theta))\n"
     ]
    },
    {
     "name": "stdout",
     "output_type": "stream",
     "text": [
      "| \u001b[0m 18      \u001b[0m | \u001b[0m 94.04   \u001b[0m | \u001b[0m 0.2018  \u001b[0m | \u001b[0m 19.9    \u001b[0m | \u001b[0m 0.0     \u001b[0m | \u001b[0m 7.143   \u001b[0m | \u001b[0m 4.843   \u001b[0m | \u001b[0m 1.0     \u001b[0m | \u001b[0m 5.143   \u001b[0m | \u001b[0m 8.348   \u001b[0m |\n",
      "| \u001b[0m 19      \u001b[0m | \u001b[0m 93.98   \u001b[0m | \u001b[0m 0.1441  \u001b[0m | \u001b[0m 26.49   \u001b[0m | \u001b[0m 2.532   \u001b[0m | \u001b[0m 6.26    \u001b[0m | \u001b[0m 6.426   \u001b[0m | \u001b[0m 1.0     \u001b[0m | \u001b[0m 8.29    \u001b[0m | \u001b[0m 16.49   \u001b[0m |\n"
     ]
    },
    {
     "name": "stderr",
     "output_type": "stream",
     "text": [
      "/opt/conda/envs/rapids/lib/python3.7/site-packages/sklearn/gaussian_process/kernels.py:271: RuntimeWarning: divide by zero encountered in log\n",
      "  return np.log(np.hstack(theta))\n"
     ]
    },
    {
     "name": "stdout",
     "output_type": "stream",
     "text": [
      "| \u001b[0m 20      \u001b[0m | \u001b[0m 93.76   \u001b[0m | \u001b[0m 0.9678  \u001b[0m | \u001b[0m 83.41   \u001b[0m | \u001b[0m 0.0     \u001b[0m | \u001b[0m 5.906   \u001b[0m | \u001b[0m 8.0     \u001b[0m | \u001b[0m 1.0     \u001b[0m | \u001b[0m 8.217   \u001b[0m | \u001b[0m 72.03   \u001b[0m |\n"
     ]
    },
    {
     "name": "stderr",
     "output_type": "stream",
     "text": [
      "/opt/conda/envs/rapids/lib/python3.7/site-packages/sklearn/gaussian_process/kernels.py:271: RuntimeWarning: divide by zero encountered in log\n",
      "  return np.log(np.hstack(theta))\n"
     ]
    },
    {
     "name": "stdout",
     "output_type": "stream",
     "text": [
      "| \u001b[0m 21      \u001b[0m | \u001b[0m 94.73   \u001b[0m | \u001b[0m 0.0     \u001b[0m | \u001b[0m 81.04   \u001b[0m | \u001b[0m 9.288   \u001b[0m | \u001b[0m 0.0     \u001b[0m | \u001b[0m 6.853   \u001b[0m | \u001b[0m 4.422   \u001b[0m | \u001b[0m 4.557   \u001b[0m | \u001b[0m 74.47   \u001b[0m |\n"
     ]
    },
    {
     "name": "stderr",
     "output_type": "stream",
     "text": [
      "/opt/conda/envs/rapids/lib/python3.7/site-packages/sklearn/gaussian_process/kernels.py:271: RuntimeWarning: divide by zero encountered in log\n",
      "  return np.log(np.hstack(theta))\n"
     ]
    },
    {
     "name": "stdout",
     "output_type": "stream",
     "text": [
      "| \u001b[0m 22      \u001b[0m | \u001b[0m 91.95   \u001b[0m | \u001b[0m 0.0     \u001b[0m | \u001b[0m 79.0    \u001b[0m | \u001b[0m 2.849   \u001b[0m | \u001b[0m 0.0     \u001b[0m | \u001b[0m 8.0     \u001b[0m | \u001b[0m 9.972   \u001b[0m | \u001b[0m 3.594   \u001b[0m | \u001b[0m 74.3    \u001b[0m |\n",
      "| \u001b[0m 23      \u001b[0m | \u001b[0m 93.85   \u001b[0m | \u001b[0m 0.1679  \u001b[0m | \u001b[0m 81.24   \u001b[0m | \u001b[0m 9.039   \u001b[0m | \u001b[0m 1.852   \u001b[0m | \u001b[0m 6.366   \u001b[0m | \u001b[0m 1.0     \u001b[0m | \u001b[0m 9.94    \u001b[0m | \u001b[0m 72.36   \u001b[0m |\n"
     ]
    },
    {
     "name": "stderr",
     "output_type": "stream",
     "text": [
      "/opt/conda/envs/rapids/lib/python3.7/site-packages/sklearn/gaussian_process/kernels.py:271: RuntimeWarning: divide by zero encountered in log\n",
      "  return np.log(np.hstack(theta))\n"
     ]
    },
    {
     "name": "stdout",
     "output_type": "stream",
     "text": [
      "| \u001b[0m 24      \u001b[0m | \u001b[0m 94.51   \u001b[0m | \u001b[0m 0.0     \u001b[0m | \u001b[0m 84.81   \u001b[0m | \u001b[0m 5.807   \u001b[0m | \u001b[0m 0.0     \u001b[0m | \u001b[0m 8.0     \u001b[0m | \u001b[0m 3.077   \u001b[0m | \u001b[0m 5.518   \u001b[0m | \u001b[0m 70.22   \u001b[0m |\n"
     ]
    },
    {
     "name": "stderr",
     "output_type": "stream",
     "text": [
      "/opt/conda/envs/rapids/lib/python3.7/site-packages/sklearn/gaussian_process/kernels.py:271: RuntimeWarning: divide by zero encountered in log\n",
      "  return np.log(np.hstack(theta))\n"
     ]
    },
    {
     "name": "stdout",
     "output_type": "stream",
     "text": [
      "| \u001b[0m 25      \u001b[0m | \u001b[0m 93.93   \u001b[0m | \u001b[0m 0.506   \u001b[0m | \u001b[0m 13.02   \u001b[0m | \u001b[0m 0.0     \u001b[0m | \u001b[0m 0.7821  \u001b[0m | \u001b[0m 3.085   \u001b[0m | \u001b[0m 1.0     \u001b[0m | \u001b[0m 5.836   \u001b[0m | \u001b[0m 4.493   \u001b[0m |\n",
      "| \u001b[0m 26      \u001b[0m | \u001b[0m 93.79   \u001b[0m | \u001b[0m 0.0     \u001b[0m | \u001b[0m 25.02   \u001b[0m | \u001b[0m 6.666   \u001b[0m | \u001b[0m 10.0    \u001b[0m | \u001b[0m 1.822   \u001b[0m | \u001b[0m 1.0     \u001b[0m | \u001b[0m 6.244   \u001b[0m | \u001b[0m 11.37   \u001b[0m |\n"
     ]
    },
    {
     "name": "stderr",
     "output_type": "stream",
     "text": [
      "/opt/conda/envs/rapids/lib/python3.7/site-packages/sklearn/gaussian_process/kernels.py:271: RuntimeWarning: divide by zero encountered in log\n",
      "  return np.log(np.hstack(theta))\n"
     ]
    },
    {
     "name": "stdout",
     "output_type": "stream",
     "text": [
      "| \u001b[0m 27      \u001b[0m | \u001b[0m 93.93   \u001b[0m | \u001b[0m 0.0     \u001b[0m | \u001b[0m 81.64   \u001b[0m | \u001b[0m 4.109   \u001b[0m | \u001b[0m 0.0     \u001b[0m | \u001b[0m 2.708   \u001b[0m | \u001b[0m 1.279   \u001b[0m | \u001b[0m 5.683   \u001b[0m | \u001b[0m 74.21   \u001b[0m |\n"
     ]
    },
    {
     "name": "stderr",
     "output_type": "stream",
     "text": [
      "/opt/conda/envs/rapids/lib/python3.7/site-packages/sklearn/gaussian_process/kernels.py:271: RuntimeWarning: divide by zero encountered in log\n",
      "  return np.log(np.hstack(theta))\n"
     ]
    },
    {
     "name": "stdout",
     "output_type": "stream",
     "text": [
      "| \u001b[0m 28      \u001b[0m | \u001b[0m 93.72   \u001b[0m | \u001b[0m 0.0     \u001b[0m | \u001b[0m 81.89   \u001b[0m | \u001b[0m 3.721   \u001b[0m | \u001b[0m 0.0     \u001b[0m | \u001b[0m 8.0     \u001b[0m | \u001b[0m 5.453   \u001b[0m | \u001b[0m 12.0    \u001b[0m | \u001b[0m 66.83   \u001b[0m |\n"
     ]
    },
    {
     "name": "stderr",
     "output_type": "stream",
     "text": [
      "/opt/conda/envs/rapids/lib/python3.7/site-packages/sklearn/gaussian_process/kernels.py:271: RuntimeWarning: divide by zero encountered in log\n",
      "  return np.log(np.hstack(theta))\n"
     ]
    },
    {
     "name": "stdout",
     "output_type": "stream",
     "text": [
      "| \u001b[0m 29      \u001b[0m | \u001b[0m 93.18   \u001b[0m | \u001b[0m 0.99    \u001b[0m | \u001b[0m 20.87   \u001b[0m | \u001b[0m 0.0     \u001b[0m | \u001b[0m 10.0    \u001b[0m | \u001b[0m 7.686   \u001b[0m | \u001b[0m 1.0     \u001b[0m | \u001b[0m 12.0    \u001b[0m | \u001b[0m 12.67   \u001b[0m |\n",
      "| \u001b[0m 30      \u001b[0m | \u001b[0m 94.21   \u001b[0m | \u001b[0m 0.99    \u001b[0m | \u001b[0m 82.21   \u001b[0m | \u001b[0m 7.951   \u001b[0m | \u001b[0m 5.81    \u001b[0m | \u001b[0m 8.0     \u001b[0m | \u001b[0m 4.845   \u001b[0m | \u001b[0m 5.474   \u001b[0m | \u001b[0m 72.01   \u001b[0m |\n",
      "| \u001b[0m 31      \u001b[0m | \u001b[0m 94.82   \u001b[0m | \u001b[0m 0.0     \u001b[0m | \u001b[0m 21.97   \u001b[0m | \u001b[0m 1.368   \u001b[0m | \u001b[0m 4.709   \u001b[0m | \u001b[0m 1.166   \u001b[0m | \u001b[0m 4.491   \u001b[0m | \u001b[0m 6.527   \u001b[0m | \u001b[0m 14.13   \u001b[0m |\n",
      "| \u001b[0m 32      \u001b[0m | \u001b[0m 93.88   \u001b[0m | \u001b[0m 0.0     \u001b[0m | \u001b[0m 22.91   \u001b[0m | \u001b[0m 2.439   \u001b[0m | \u001b[0m 8.023   \u001b[0m | \u001b[0m 5.534   \u001b[0m | \u001b[0m 7.116   \u001b[0m | \u001b[0m 4.018   \u001b[0m | \u001b[0m 14.24   \u001b[0m |\n",
      "| \u001b[0m 33      \u001b[0m | \u001b[0m 93.8    \u001b[0m | \u001b[0m 0.0     \u001b[0m | \u001b[0m 20.54   \u001b[0m | \u001b[0m 5.277   \u001b[0m | \u001b[0m 2.655   \u001b[0m | \u001b[0m 3.103   \u001b[0m | \u001b[0m 1.0     \u001b[0m | \u001b[0m 8.678   \u001b[0m | \u001b[0m 13.07   \u001b[0m |\n",
      "| \u001b[0m 34      \u001b[0m | \u001b[0m 93.74   \u001b[0m | \u001b[0m 0.0     \u001b[0m | \u001b[0m 20.63   \u001b[0m | \u001b[0m 0.7715  \u001b[0m | \u001b[0m 9.172   \u001b[0m | \u001b[0m 1.0     \u001b[0m | \u001b[0m 1.117   \u001b[0m | \u001b[0m 6.286   \u001b[0m | \u001b[0m 16.81   \u001b[0m |\n"
     ]
    },
    {
     "name": "stderr",
     "output_type": "stream",
     "text": [
      "/opt/conda/envs/rapids/lib/python3.7/site-packages/sklearn/gaussian_process/kernels.py:271: RuntimeWarning: divide by zero encountered in log\n",
      "  return np.log(np.hstack(theta))\n"
     ]
    },
    {
     "name": "stdout",
     "output_type": "stream",
     "text": [
      "| \u001b[0m 35      \u001b[0m | \u001b[0m 94.19   \u001b[0m | \u001b[0m 0.99    \u001b[0m | \u001b[0m 87.27   \u001b[0m | \u001b[0m 10.0    \u001b[0m | \u001b[0m 0.0     \u001b[0m | \u001b[0m 8.0     \u001b[0m | \u001b[0m 3.793   \u001b[0m | \u001b[0m 5.344   \u001b[0m | \u001b[0m 77.02   \u001b[0m |\n",
      "| \u001b[0m 36      \u001b[0m | \u001b[0m 93.7    \u001b[0m | \u001b[0m 0.0     \u001b[0m | \u001b[0m 25.37   \u001b[0m | \u001b[0m 1.31    \u001b[0m | \u001b[0m 6.432   \u001b[0m | \u001b[0m 1.345   \u001b[0m | \u001b[0m 5.835   \u001b[0m | \u001b[0m 10.57   \u001b[0m | \u001b[0m 11.65   \u001b[0m |\n",
      "| \u001b[0m 37      \u001b[0m | \u001b[0m 93.77   \u001b[0m | \u001b[0m 0.633   \u001b[0m | \u001b[0m 14.43   \u001b[0m | \u001b[0m 1.751   \u001b[0m | \u001b[0m 8.377   \u001b[0m | \u001b[0m 1.451   \u001b[0m | \u001b[0m 1.422   \u001b[0m | \u001b[0m 2.937   \u001b[0m | \u001b[0m 1.012   \u001b[0m |\n",
      "| \u001b[0m 38      \u001b[0m | \u001b[0m 92.55   \u001b[0m | \u001b[0m 0.99    \u001b[0m | \u001b[0m 75.81   \u001b[0m | \u001b[0m 2.868   \u001b[0m | \u001b[0m 1.589   \u001b[0m | \u001b[0m 8.0     \u001b[0m | \u001b[0m 2.198   \u001b[0m | \u001b[0m 11.86   \u001b[0m | \u001b[0m 74.33   \u001b[0m |\n",
      "| \u001b[0m 39      \u001b[0m | \u001b[0m 93.55   \u001b[0m | \u001b[0m 0.0     \u001b[0m | \u001b[0m 82.19   \u001b[0m | \u001b[0m 7.337   \u001b[0m | \u001b[0m 1.255   \u001b[0m | \u001b[0m 3.948   \u001b[0m | \u001b[0m 6.411   \u001b[0m | \u001b[0m 7.749   \u001b[0m | \u001b[0m 70.6    \u001b[0m |\n"
     ]
    },
    {
     "name": "stderr",
     "output_type": "stream",
     "text": [
      "/opt/conda/envs/rapids/lib/python3.7/site-packages/sklearn/gaussian_process/kernels.py:271: RuntimeWarning: divide by zero encountered in log\n",
      "  return np.log(np.hstack(theta))\n"
     ]
    },
    {
     "name": "stdout",
     "output_type": "stream",
     "text": [
      "| \u001b[0m 40      \u001b[0m | \u001b[0m 93.27   \u001b[0m | \u001b[0m 0.0     \u001b[0m | \u001b[0m 17.07   \u001b[0m | \u001b[0m 0.0     \u001b[0m | \u001b[0m 4.329   \u001b[0m | \u001b[0m 1.0     \u001b[0m | \u001b[0m 5.519   \u001b[0m | \u001b[0m 4.834   \u001b[0m | \u001b[0m 9.507   \u001b[0m |\n",
      "=========================================================================================================================\n",
      "94.89341033066847\n",
      "Prev Inven : 4, Var Sale : 9, Var Product : 3\n",
      "|   iter    |  target   |  g_alpha  |   k_dot   |   rbf_l   |  theta1   | tmp_pr... | tmp_va... | tmp_va... |  w_noise  |\n",
      "-------------------------------------------------------------------------------------------------------------------------\n",
      "| \u001b[0m 1       \u001b[0m | \u001b[0m 90.24   \u001b[0m | \u001b[0m 0.4129  \u001b[0m | \u001b[0m 72.03   \u001b[0m | \u001b[0m 0.001144\u001b[0m | \u001b[0m 3.023   \u001b[0m | \u001b[0m 2.027   \u001b[0m | \u001b[0m 2.016   \u001b[0m | \u001b[0m 3.049   \u001b[0m | \u001b[0m 34.56   \u001b[0m |\n",
      "| \u001b[0m 2       \u001b[0m | \u001b[0m 87.83   \u001b[0m | \u001b[0m 0.3928  \u001b[0m | \u001b[0m 53.88   \u001b[0m | \u001b[0m 4.192   \u001b[0m | \u001b[0m 6.852   \u001b[0m | \u001b[0m 2.431   \u001b[0m | \u001b[0m 10.66   \u001b[0m | \u001b[0m 1.301   \u001b[0m | \u001b[0m 67.05   \u001b[0m |\n",
      "| \u001b[0m 3       \u001b[0m | \u001b[0m 88.25   \u001b[0m | \u001b[0m 0.4131  \u001b[0m | \u001b[0m 55.87   \u001b[0m | \u001b[0m 1.404   \u001b[0m | \u001b[0m 1.981   \u001b[0m | \u001b[0m 6.605   \u001b[0m | \u001b[0m 11.65   \u001b[0m | \u001b[0m 4.448   \u001b[0m | \u001b[0m 69.23   \u001b[0m |\n",
      "| \u001b[0m 4       \u001b[0m | \u001b[0m 87.92   \u001b[0m | \u001b[0m 0.8676  \u001b[0m | \u001b[0m 89.46   \u001b[0m | \u001b[0m 0.8504  \u001b[0m | \u001b[0m 0.3905  \u001b[0m | \u001b[0m 2.189   \u001b[0m | \u001b[0m 10.66   \u001b[0m | \u001b[0m 2.082   \u001b[0m | \u001b[0m 42.11   \u001b[0m |\n",
      "| \u001b[0m 5       \u001b[0m | \u001b[0m 87.44   \u001b[0m | \u001b[0m 0.9483  \u001b[0m | \u001b[0m 53.32   \u001b[0m | \u001b[0m 6.919   \u001b[0m | \u001b[0m 3.155   \u001b[0m | \u001b[0m 5.806   \u001b[0m | \u001b[0m 10.18   \u001b[0m | \u001b[0m 1.201   \u001b[0m | \u001b[0m 75.01   \u001b[0m |\n",
      "| \u001b[0m 6       \u001b[0m | \u001b[0m 88.3    \u001b[0m | \u001b[0m 0.979   \u001b[0m | \u001b[0m 74.82   \u001b[0m | \u001b[0m 2.804   \u001b[0m | \u001b[0m 7.893   \u001b[0m | \u001b[0m 1.723   \u001b[0m | \u001b[0m 5.927   \u001b[0m | \u001b[0m 10.99   \u001b[0m | \u001b[0m 29.36   \u001b[0m |\n",
      "| \u001b[95m 7       \u001b[0m | \u001b[95m 90.45   \u001b[0m | \u001b[95m 0.2849  \u001b[0m | \u001b[95m 13.0    \u001b[0m | \u001b[95m 0.1937  \u001b[0m | \u001b[95m 6.788   \u001b[0m | \u001b[95m 2.481   \u001b[0m | \u001b[95m 3.921   \u001b[0m | \u001b[95m 6.407   \u001b[0m | \u001b[95m 5.336   \u001b[0m |\n",
      "| \u001b[0m 8       \u001b[0m | \u001b[0m 88.77   \u001b[0m | \u001b[0m 0.5684  \u001b[0m | \u001b[0m 14.67   \u001b[0m | \u001b[0m 5.893   \u001b[0m | \u001b[0m 6.998   \u001b[0m | \u001b[0m 1.716   \u001b[0m | \u001b[0m 5.555   \u001b[0m | \u001b[0m 8.638   \u001b[0m | \u001b[0m 41.42   \u001b[0m |\n",
      "| \u001b[0m 9       \u001b[0m | \u001b[0m 86.97   \u001b[0m | \u001b[0m 0.04945 \u001b[0m | \u001b[0m 53.59   \u001b[0m | \u001b[0m 6.638   \u001b[0m | \u001b[0m 5.149   \u001b[0m | \u001b[0m 7.612   \u001b[0m | \u001b[0m 7.452   \u001b[0m | \u001b[0m 10.94   \u001b[0m | \u001b[0m 13.75   \u001b[0m |\n",
      "| \u001b[0m 10      \u001b[0m | \u001b[0m 89.64   \u001b[0m | \u001b[0m 0.1379  \u001b[0m | \u001b[0m 80.74   \u001b[0m | \u001b[0m 3.977   \u001b[0m | \u001b[0m 1.654   \u001b[0m | \u001b[0m 7.493   \u001b[0m | \u001b[0m 4.825   \u001b[0m | \u001b[0m 9.259   \u001b[0m | \u001b[0m 72.6    \u001b[0m |\n",
      "| \u001b[0m 11      \u001b[0m | \u001b[0m 90.18   \u001b[0m | \u001b[0m 0.629   \u001b[0m | \u001b[0m 78.7    \u001b[0m | \u001b[0m 4.043   \u001b[0m | \u001b[0m 1.915   \u001b[0m | \u001b[0m 7.193   \u001b[0m | \u001b[0m 3.555   \u001b[0m | \u001b[0m 7.532   \u001b[0m | \u001b[0m 70.14   \u001b[0m |\n"
     ]
    },
    {
     "name": "stderr",
     "output_type": "stream",
     "text": [
      "/opt/conda/envs/rapids/lib/python3.7/site-packages/sklearn/gaussian_process/kernels.py:271: RuntimeWarning: divide by zero encountered in log\n",
      "  return np.log(np.hstack(theta))\n"
     ]
    },
    {
     "name": "stdout",
     "output_type": "stream",
     "text": [
      "| \u001b[95m 12      \u001b[0m | \u001b[95m 91.76   \u001b[0m | \u001b[95m 0.674   \u001b[0m | \u001b[95m 3.954   \u001b[0m | \u001b[95m 0.0     \u001b[0m | \u001b[95m 6.413   \u001b[0m | \u001b[95m 1.211   \u001b[0m | \u001b[95m 2.683   \u001b[0m | \u001b[95m 5.397   \u001b[0m | \u001b[95m 5.351   \u001b[0m |\n"
     ]
    },
    {
     "name": "stderr",
     "output_type": "stream",
     "text": [
      "/opt/conda/envs/rapids/lib/python3.7/site-packages/sklearn/gaussian_process/kernels.py:271: RuntimeWarning: divide by zero encountered in log\n",
      "  return np.log(np.hstack(theta))\n"
     ]
    },
    {
     "name": "stdout",
     "output_type": "stream",
     "text": [
      "| \u001b[0m 13      \u001b[0m | \u001b[0m 90.25   \u001b[0m | \u001b[0m 0.07707 \u001b[0m | \u001b[0m 0.00604 \u001b[0m | \u001b[0m 0.411   \u001b[0m | \u001b[0m 1.211   \u001b[0m | \u001b[0m 2.178   \u001b[0m | \u001b[0m 4.989   \u001b[0m | \u001b[0m 1.0     \u001b[0m | \u001b[0m 0.0     \u001b[0m |\n",
      "| \u001b[0m 14      \u001b[0m | \u001b[0m 90.24   \u001b[0m | \u001b[0m 0.02808 \u001b[0m | \u001b[0m 0.3437  \u001b[0m | \u001b[0m 0.397   \u001b[0m | \u001b[0m 8.743   \u001b[0m | \u001b[0m 3.973   \u001b[0m | \u001b[0m 2.889   \u001b[0m | \u001b[0m 9.942   \u001b[0m | \u001b[0m 12.26   \u001b[0m |\n",
      "| \u001b[95m 15      \u001b[0m | \u001b[95m 91.89   \u001b[0m | \u001b[95m 0.99    \u001b[0m | \u001b[95m 3.902   \u001b[0m | \u001b[95m 6.457   \u001b[0m | \u001b[95m 10.0    \u001b[0m | \u001b[95m 1.0     \u001b[0m | \u001b[95m 1.0     \u001b[0m | \u001b[95m 1.0     \u001b[0m | \u001b[95m 5.383   \u001b[0m |\n"
     ]
    },
    {
     "name": "stderr",
     "output_type": "stream",
     "text": [
      "/opt/conda/envs/rapids/lib/python3.7/site-packages/sklearn/gaussian_process/kernels.py:271: RuntimeWarning: divide by zero encountered in log\n",
      "  return np.log(np.hstack(theta))\n"
     ]
    },
    {
     "name": "stdout",
     "output_type": "stream",
     "text": [
      "| \u001b[95m 16      \u001b[0m | \u001b[95m 91.98   \u001b[0m | \u001b[95m 0.99    \u001b[0m | \u001b[95m 2.585   \u001b[0m | \u001b[95m 7.558   \u001b[0m | \u001b[95m 10.0    \u001b[0m | \u001b[95m 1.0     \u001b[0m | \u001b[95m 1.0     \u001b[0m | \u001b[95m 10.01   \u001b[0m | \u001b[95m 0.0     \u001b[0m |\n",
      "| \u001b[0m 17      \u001b[0m | \u001b[0m 86.24   \u001b[0m | \u001b[0m 0.8788  \u001b[0m | \u001b[0m 0.2804  \u001b[0m | \u001b[0m 5.676   \u001b[0m | \u001b[0m 9.794   \u001b[0m | \u001b[0m 6.084   \u001b[0m | \u001b[0m 11.79   \u001b[0m | \u001b[0m 9.076   \u001b[0m | \u001b[0m 2.974   \u001b[0m |\n",
      "| \u001b[95m 18      \u001b[0m | \u001b[95m 92.07   \u001b[0m | \u001b[95m 0.99    \u001b[0m | \u001b[95m 5.992   \u001b[0m | \u001b[95m 8.601   \u001b[0m | \u001b[95m 2.931   \u001b[0m | \u001b[95m 1.0     \u001b[0m | \u001b[95m 1.0     \u001b[0m | \u001b[95m 6.553   \u001b[0m | \u001b[95m 3.878   \u001b[0m |\n",
      "| \u001b[0m 19      \u001b[0m | \u001b[0m 90.12   \u001b[0m | \u001b[0m 0.6175  \u001b[0m | \u001b[0m 11.4    \u001b[0m | \u001b[0m 0.6603  \u001b[0m | \u001b[0m 0.4214  \u001b[0m | \u001b[0m 2.339   \u001b[0m | \u001b[0m 1.054   \u001b[0m | \u001b[0m 1.162   \u001b[0m | \u001b[0m 10.74   \u001b[0m |\n",
      "| \u001b[0m 20      \u001b[0m | \u001b[0m 90.14   \u001b[0m | \u001b[0m 0.5641  \u001b[0m | \u001b[0m 1.155   \u001b[0m | \u001b[0m 9.466   \u001b[0m | \u001b[0m 3.371   \u001b[0m | \u001b[0m 1.761   \u001b[0m | \u001b[0m 2.218   \u001b[0m | \u001b[0m 1.432   \u001b[0m | \u001b[0m 9.752   \u001b[0m |\n"
     ]
    },
    {
     "name": "stderr",
     "output_type": "stream",
     "text": [
      "/opt/conda/envs/rapids/lib/python3.7/site-packages/sklearn/gaussian_process/kernels.py:271: RuntimeWarning: divide by zero encountered in log\n",
      "  return np.log(np.hstack(theta))\n"
     ]
    },
    {
     "name": "stdout",
     "output_type": "stream",
     "text": [
      "| \u001b[0m 21      \u001b[0m | \u001b[0m 91.97   \u001b[0m | \u001b[0m 0.99    \u001b[0m | \u001b[0m 11.17   \u001b[0m | \u001b[0m 10.0    \u001b[0m | \u001b[0m 10.0    \u001b[0m | \u001b[0m 1.0     \u001b[0m | \u001b[0m 1.0     \u001b[0m | \u001b[0m 4.51    \u001b[0m | \u001b[0m 0.0     \u001b[0m |\n"
     ]
    },
    {
     "name": "stderr",
     "output_type": "stream",
     "text": [
      "/opt/conda/envs/rapids/lib/python3.7/site-packages/sklearn/gaussian_process/kernels.py:271: RuntimeWarning: divide by zero encountered in log\n",
      "  return np.log(np.hstack(theta))\n"
     ]
    },
    {
     "name": "stdout",
     "output_type": "stream",
     "text": [
      "| \u001b[0m 22      \u001b[0m | \u001b[0m 89.69   \u001b[0m | \u001b[0m 0.0     \u001b[0m | \u001b[0m 0.0     \u001b[0m | \u001b[0m 0.0     \u001b[0m | \u001b[0m 10.0    \u001b[0m | \u001b[0m 8.0     \u001b[0m | \u001b[0m 1.0     \u001b[0m | \u001b[0m 12.0    \u001b[0m | \u001b[0m 100.0   \u001b[0m |\n"
     ]
    },
    {
     "name": "stderr",
     "output_type": "stream",
     "text": [
      "/opt/conda/envs/rapids/lib/python3.7/site-packages/sklearn/gaussian_process/kernels.py:271: RuntimeWarning: divide by zero encountered in log\n",
      "  return np.log(np.hstack(theta))\n"
     ]
    },
    {
     "name": "stdout",
     "output_type": "stream",
     "text": [
      "| \u001b[0m 23      \u001b[0m | \u001b[0m 91.89   \u001b[0m | \u001b[0m 0.0     \u001b[0m | \u001b[0m 14.27   \u001b[0m | \u001b[0m 10.0    \u001b[0m | \u001b[0m 0.0     \u001b[0m | \u001b[0m 1.0     \u001b[0m | \u001b[0m 1.0     \u001b[0m | \u001b[0m 1.0     \u001b[0m | \u001b[0m 0.0     \u001b[0m |\n"
     ]
    },
    {
     "name": "stderr",
     "output_type": "stream",
     "text": [
      "/opt/conda/envs/rapids/lib/python3.7/site-packages/sklearn/gaussian_process/kernels.py:271: RuntimeWarning: divide by zero encountered in log\n",
      "  return np.log(np.hstack(theta))\n"
     ]
    },
    {
     "name": "stdout",
     "output_type": "stream",
     "text": [
      "| \u001b[0m 24      \u001b[0m | \u001b[0m 91.89   \u001b[0m | \u001b[0m 0.99    \u001b[0m | \u001b[0m 28.76   \u001b[0m | \u001b[0m 10.0    \u001b[0m | \u001b[0m 0.0     \u001b[0m | \u001b[0m 1.0     \u001b[0m | \u001b[0m 1.0     \u001b[0m | \u001b[0m 1.0     \u001b[0m | \u001b[0m 0.0     \u001b[0m |\n",
      "| \u001b[0m 25      \u001b[0m | \u001b[0m 88.76   \u001b[0m | \u001b[0m 0.4122  \u001b[0m | \u001b[0m 9.708   \u001b[0m | \u001b[0m 0.8714  \u001b[0m | \u001b[0m 4.179   \u001b[0m | \u001b[0m 3.133   \u001b[0m | \u001b[0m 8.801   \u001b[0m | \u001b[0m 1.653   \u001b[0m | \u001b[0m 14.78   \u001b[0m |\n"
     ]
    },
    {
     "name": "stderr",
     "output_type": "stream",
     "text": [
      "/opt/conda/envs/rapids/lib/python3.7/site-packages/sklearn/gaussian_process/kernels.py:271: RuntimeWarning: divide by zero encountered in log\n",
      "  return np.log(np.hstack(theta))\n"
     ]
    },
    {
     "name": "stdout",
     "output_type": "stream",
     "text": [
      "| \u001b[0m 26      \u001b[0m | \u001b[0m 91.89   \u001b[0m | \u001b[0m 0.99    \u001b[0m | \u001b[0m 26.25   \u001b[0m | \u001b[0m 10.0    \u001b[0m | \u001b[0m 10.0    \u001b[0m | \u001b[0m 1.0     \u001b[0m | \u001b[0m 1.0     \u001b[0m | \u001b[0m 1.0     \u001b[0m | \u001b[0m 0.0     \u001b[0m |\n",
      "| \u001b[0m 27      \u001b[0m | \u001b[0m 90.4    \u001b[0m | \u001b[0m 0.6716  \u001b[0m | \u001b[0m 74.13   \u001b[0m | \u001b[0m 8.726   \u001b[0m | \u001b[0m 6.291   \u001b[0m | \u001b[0m 1.662   \u001b[0m | \u001b[0m 4.992   \u001b[0m | \u001b[0m 8.013   \u001b[0m | \u001b[0m 5.108   \u001b[0m |\n"
     ]
    },
    {
     "name": "stderr",
     "output_type": "stream",
     "text": [
      "/opt/conda/envs/rapids/lib/python3.7/site-packages/sklearn/gaussian_process/kernels.py:271: RuntimeWarning: divide by zero encountered in log\n",
      "  return np.log(np.hstack(theta))\n"
     ]
    },
    {
     "name": "stdout",
     "output_type": "stream",
     "text": [
      "| \u001b[0m 28      \u001b[0m | \u001b[0m 91.89   \u001b[0m | \u001b[0m 0.0     \u001b[0m | \u001b[0m 93.4    \u001b[0m | \u001b[0m 10.0    \u001b[0m | \u001b[0m 0.0     \u001b[0m | \u001b[0m 1.0     \u001b[0m | \u001b[0m 1.0     \u001b[0m | \u001b[0m 1.0     \u001b[0m | \u001b[0m 0.0     \u001b[0m |\n",
      "| \u001b[0m 29      \u001b[0m | \u001b[0m 90.55   \u001b[0m | \u001b[0m 0.5591  \u001b[0m | \u001b[0m 80.87   \u001b[0m | \u001b[0m 9.738   \u001b[0m | \u001b[0m 0.8996  \u001b[0m | \u001b[0m 4.301   \u001b[0m | \u001b[0m 4.378   \u001b[0m | \u001b[0m 2.223   \u001b[0m | \u001b[0m 74.8    \u001b[0m |\n"
     ]
    },
    {
     "name": "stderr",
     "output_type": "stream",
     "text": [
      "/opt/conda/envs/rapids/lib/python3.7/site-packages/sklearn/gaussian_process/kernels.py:271: RuntimeWarning: divide by zero encountered in log\n",
      "  return np.log(np.hstack(theta))\n"
     ]
    },
    {
     "name": "stdout",
     "output_type": "stream",
     "text": [
      "| \u001b[0m 30      \u001b[0m | \u001b[0m 91.75   \u001b[0m | \u001b[0m 0.99    \u001b[0m | \u001b[0m 99.08   \u001b[0m | \u001b[0m 10.0    \u001b[0m | \u001b[0m 10.0    \u001b[0m | \u001b[0m 1.0     \u001b[0m | \u001b[0m 1.0     \u001b[0m | \u001b[0m 12.0    \u001b[0m | \u001b[0m 0.0     \u001b[0m |\n"
     ]
    },
    {
     "name": "stderr",
     "output_type": "stream",
     "text": [
      "/opt/conda/envs/rapids/lib/python3.7/site-packages/sklearn/gaussian_process/kernels.py:271: RuntimeWarning: divide by zero encountered in log\n",
      "  return np.log(np.hstack(theta))\n"
     ]
    },
    {
     "name": "stdout",
     "output_type": "stream",
     "text": [
      "| \u001b[0m 31      \u001b[0m | \u001b[0m 87.72   \u001b[0m | \u001b[0m 0.0     \u001b[0m | \u001b[0m 97.12   \u001b[0m | \u001b[0m 10.0    \u001b[0m | \u001b[0m 10.0    \u001b[0m | \u001b[0m 8.0     \u001b[0m | \u001b[0m 12.0    \u001b[0m | \u001b[0m 1.0     \u001b[0m | \u001b[0m 0.0     \u001b[0m |\n"
     ]
    },
    {
     "name": "stderr",
     "output_type": "stream",
     "text": [
      "/opt/conda/envs/rapids/lib/python3.7/site-packages/sklearn/gaussian_process/kernels.py:271: RuntimeWarning: divide by zero encountered in log\n",
      "  return np.log(np.hstack(theta))\n"
     ]
    },
    {
     "name": "stdout",
     "output_type": "stream",
     "text": [
      "| \u001b[0m 32      \u001b[0m | \u001b[0m 91.75   \u001b[0m | \u001b[0m 0.99    \u001b[0m | \u001b[0m 21.22   \u001b[0m | \u001b[0m 10.0    \u001b[0m | \u001b[0m 0.05483 \u001b[0m | \u001b[0m 1.0     \u001b[0m | \u001b[0m 1.0     \u001b[0m | \u001b[0m 12.0    \u001b[0m | \u001b[0m 0.0     \u001b[0m |\n",
      "| \u001b[0m 33      \u001b[0m | \u001b[0m 90.32   \u001b[0m | \u001b[0m 0.06757 \u001b[0m | \u001b[0m 95.56   \u001b[0m | \u001b[0m 0.1577  \u001b[0m | \u001b[0m 1.544   \u001b[0m | \u001b[0m 3.394   \u001b[0m | \u001b[0m 3.389   \u001b[0m | \u001b[0m 8.891   \u001b[0m | \u001b[0m 3.205   \u001b[0m |\n",
      "| \u001b[0m 34      \u001b[0m | \u001b[0m 91.89   \u001b[0m | \u001b[0m 0.99    \u001b[0m | \u001b[0m 100.0   \u001b[0m | \u001b[0m 10.0    \u001b[0m | \u001b[0m 10.0    \u001b[0m | \u001b[0m 1.0     \u001b[0m | \u001b[0m 1.0     \u001b[0m | \u001b[0m 1.0     \u001b[0m | \u001b[0m 100.0   \u001b[0m |\n",
      "| \u001b[0m 35      \u001b[0m | \u001b[0m 88.84   \u001b[0m | \u001b[0m 0.6535  \u001b[0m | \u001b[0m 3.984   \u001b[0m | \u001b[0m 2.272   \u001b[0m | \u001b[0m 3.149   \u001b[0m | \u001b[0m 5.818   \u001b[0m | \u001b[0m 6.206   \u001b[0m | \u001b[0m 1.15    \u001b[0m | \u001b[0m 24.93   \u001b[0m |\n",
      "| \u001b[0m 36      \u001b[0m | \u001b[0m 91.89   \u001b[0m | \u001b[0m 0.99    \u001b[0m | \u001b[0m 84.21   \u001b[0m | \u001b[0m 10.0    \u001b[0m | \u001b[0m 10.0    \u001b[0m | \u001b[0m 1.0     \u001b[0m | \u001b[0m 1.0     \u001b[0m | \u001b[0m 1.0     \u001b[0m | \u001b[0m 100.0   \u001b[0m |\n",
      "| \u001b[0m 37      \u001b[0m | \u001b[0m 89.83   \u001b[0m | \u001b[0m 0.1374  \u001b[0m | \u001b[0m 31.76   \u001b[0m | \u001b[0m 7.932   \u001b[0m | \u001b[0m 9.068   \u001b[0m | \u001b[0m 7.637   \u001b[0m | \u001b[0m 3.824   \u001b[0m | \u001b[0m 7.676   \u001b[0m | \u001b[0m 88.88   \u001b[0m |\n",
      "| \u001b[0m 38      \u001b[0m | \u001b[0m 88.71   \u001b[0m | \u001b[0m 0.46    \u001b[0m | \u001b[0m 97.2    \u001b[0m | \u001b[0m 2.676   \u001b[0m | \u001b[0m 8.335   \u001b[0m | \u001b[0m 5.116   \u001b[0m | \u001b[0m 6.339   \u001b[0m | \u001b[0m 3.019   \u001b[0m | \u001b[0m 39.86   \u001b[0m |\n",
      "| \u001b[0m 39      \u001b[0m | \u001b[0m 87.72   \u001b[0m | \u001b[0m 0.99    \u001b[0m | \u001b[0m 92.49   \u001b[0m | \u001b[0m 10.0    \u001b[0m | \u001b[0m 10.0    \u001b[0m | \u001b[0m 8.0     \u001b[0m | \u001b[0m 12.0    \u001b[0m | \u001b[0m 1.0     \u001b[0m | \u001b[0m 100.0   \u001b[0m |\n"
     ]
    },
    {
     "name": "stderr",
     "output_type": "stream",
     "text": [
      "/opt/conda/envs/rapids/lib/python3.7/site-packages/sklearn/gaussian_process/kernels.py:271: RuntimeWarning: divide by zero encountered in log\n",
      "  return np.log(np.hstack(theta))\n"
     ]
    },
    {
     "name": "stdout",
     "output_type": "stream",
     "text": [
      "| \u001b[0m 40      \u001b[0m | \u001b[0m 91.75   \u001b[0m | \u001b[0m 0.99    \u001b[0m | \u001b[0m 87.52   \u001b[0m | \u001b[0m 10.0    \u001b[0m | \u001b[0m 0.0     \u001b[0m | \u001b[0m 1.0     \u001b[0m | \u001b[0m 1.0     \u001b[0m | \u001b[0m 12.0    \u001b[0m | \u001b[0m 0.0     \u001b[0m |\n",
      "=========================================================================================================================\n",
      "92.06630813117943\n",
      "Prev Inven : 1, Var Sale : 7, Var Product : 1\n",
      "|   iter    |  target   |  g_alpha  |   k_dot   |   rbf_l   |  theta1   | tmp_pr... | tmp_va... | tmp_va... |  w_noise  |\n",
      "-------------------------------------------------------------------------------------------------------------------------\n",
      "| \u001b[0m 1       \u001b[0m | \u001b[0m 92.36   \u001b[0m | \u001b[0m 0.4129  \u001b[0m | \u001b[0m 72.03   \u001b[0m | \u001b[0m 0.001144\u001b[0m | \u001b[0m 3.023   \u001b[0m | \u001b[0m 2.027   \u001b[0m | \u001b[0m 2.016   \u001b[0m | \u001b[0m 3.049   \u001b[0m | \u001b[0m 34.56   \u001b[0m |\n",
      "| \u001b[0m 2       \u001b[0m | \u001b[0m 90.88   \u001b[0m | \u001b[0m 0.3928  \u001b[0m | \u001b[0m 53.88   \u001b[0m | \u001b[0m 4.192   \u001b[0m | \u001b[0m 6.852   \u001b[0m | \u001b[0m 2.431   \u001b[0m | \u001b[0m 10.66   \u001b[0m | \u001b[0m 1.301   \u001b[0m | \u001b[0m 67.05   \u001b[0m |\n",
      "| \u001b[0m 3       \u001b[0m | \u001b[0m 91.39   \u001b[0m | \u001b[0m 0.4131  \u001b[0m | \u001b[0m 55.87   \u001b[0m | \u001b[0m 1.404   \u001b[0m | \u001b[0m 1.981   \u001b[0m | \u001b[0m 6.605   \u001b[0m | \u001b[0m 11.65   \u001b[0m | \u001b[0m 4.448   \u001b[0m | \u001b[0m 69.23   \u001b[0m |\n",
      "| \u001b[0m 4       \u001b[0m | \u001b[0m 90.97   \u001b[0m | \u001b[0m 0.8676  \u001b[0m | \u001b[0m 89.46   \u001b[0m | \u001b[0m 0.8504  \u001b[0m | \u001b[0m 0.3905  \u001b[0m | \u001b[0m 2.189   \u001b[0m | \u001b[0m 10.66   \u001b[0m | \u001b[0m 2.082   \u001b[0m | \u001b[0m 42.11   \u001b[0m |\n",
      "| \u001b[0m 5       \u001b[0m | \u001b[0m 90.74   \u001b[0m | \u001b[0m 0.9483  \u001b[0m | \u001b[0m 53.32   \u001b[0m | \u001b[0m 6.919   \u001b[0m | \u001b[0m 3.155   \u001b[0m | \u001b[0m 5.806   \u001b[0m | \u001b[0m 10.18   \u001b[0m | \u001b[0m 1.201   \u001b[0m | \u001b[0m 75.01   \u001b[0m |\n",
      "| \u001b[95m 6       \u001b[0m | \u001b[95m 92.46   \u001b[0m | \u001b[95m 0.979   \u001b[0m | \u001b[95m 74.82   \u001b[0m | \u001b[95m 2.804   \u001b[0m | \u001b[95m 7.893   \u001b[0m | \u001b[95m 1.723   \u001b[0m | \u001b[95m 5.927   \u001b[0m | \u001b[95m 10.99   \u001b[0m | \u001b[95m 29.36   \u001b[0m |\n",
      "| \u001b[95m 7       \u001b[0m | \u001b[95m 92.84   \u001b[0m | \u001b[95m 0.2849  \u001b[0m | \u001b[95m 13.0    \u001b[0m | \u001b[95m 0.1937  \u001b[0m | \u001b[95m 6.788   \u001b[0m | \u001b[95m 2.481   \u001b[0m | \u001b[95m 3.921   \u001b[0m | \u001b[95m 6.407   \u001b[0m | \u001b[95m 5.336   \u001b[0m |\n",
      "| \u001b[0m 8       \u001b[0m | \u001b[0m 92.62   \u001b[0m | \u001b[0m 0.5684  \u001b[0m | \u001b[0m 14.67   \u001b[0m | \u001b[0m 5.893   \u001b[0m | \u001b[0m 6.998   \u001b[0m | \u001b[0m 1.716   \u001b[0m | \u001b[0m 5.555   \u001b[0m | \u001b[0m 8.638   \u001b[0m | \u001b[0m 41.42   \u001b[0m |\n",
      "| \u001b[0m 9       \u001b[0m | \u001b[0m 90.88   \u001b[0m | \u001b[0m 0.04945 \u001b[0m | \u001b[0m 53.59   \u001b[0m | \u001b[0m 6.638   \u001b[0m | \u001b[0m 5.149   \u001b[0m | \u001b[0m 7.612   \u001b[0m | \u001b[0m 7.452   \u001b[0m | \u001b[0m 10.94   \u001b[0m | \u001b[0m 13.75   \u001b[0m |\n",
      "| \u001b[0m 10      \u001b[0m | \u001b[0m 92.04   \u001b[0m | \u001b[0m 0.1379  \u001b[0m | \u001b[0m 80.74   \u001b[0m | \u001b[0m 3.977   \u001b[0m | \u001b[0m 1.654   \u001b[0m | \u001b[0m 7.493   \u001b[0m | \u001b[0m 4.825   \u001b[0m | \u001b[0m 9.259   \u001b[0m | \u001b[0m 72.6    \u001b[0m |\n",
      "| \u001b[0m 11      \u001b[0m | \u001b[0m 92.63   \u001b[0m | \u001b[0m 0.4628  \u001b[0m | \u001b[0m 76.12   \u001b[0m | \u001b[0m 4.188   \u001b[0m | \u001b[0m 6.656   \u001b[0m | \u001b[0m 2.055   \u001b[0m | \u001b[0m 4.776   \u001b[0m | \u001b[0m 10.66   \u001b[0m | \u001b[0m 27.06   \u001b[0m |\n",
      "| \u001b[95m 12      \u001b[0m | \u001b[95m 92.9    \u001b[0m | \u001b[95m 0.4319  \u001b[0m | \u001b[95m 11.09   \u001b[0m | \u001b[95m 2.434   \u001b[0m | \u001b[95m 6.983   \u001b[0m | \u001b[95m 1.77    \u001b[0m | \u001b[95m 4.427   \u001b[0m | \u001b[95m 7.166   \u001b[0m | \u001b[95m 21.71   \u001b[0m |\n"
     ]
    },
    {
     "name": "stderr",
     "output_type": "stream",
     "text": [
      "/opt/conda/envs/rapids/lib/python3.7/site-packages/sklearn/gaussian_process/kernels.py:271: RuntimeWarning: divide by zero encountered in log\n",
      "  return np.log(np.hstack(theta))\n"
     ]
    },
    {
     "name": "stdout",
     "output_type": "stream",
     "text": [
      "| \u001b[0m 13      \u001b[0m | \u001b[0m 91.24   \u001b[0m | \u001b[0m 0.99    \u001b[0m | \u001b[0m 0.105   \u001b[0m | \u001b[0m 0.0     \u001b[0m | \u001b[0m 0.0     \u001b[0m | \u001b[0m 1.015   \u001b[0m | \u001b[0m 12.0    \u001b[0m | \u001b[0m 1.0     \u001b[0m | \u001b[0m 13.38   \u001b[0m |\n"
     ]
    },
    {
     "name": "stderr",
     "output_type": "stream",
     "text": [
      "/opt/conda/envs/rapids/lib/python3.7/site-packages/sklearn/gaussian_process/kernels.py:271: RuntimeWarning: divide by zero encountered in log\n",
      "  return np.log(np.hstack(theta))\n"
     ]
    },
    {
     "name": "stdout",
     "output_type": "stream",
     "text": [
      "| \u001b[0m 14      \u001b[0m | \u001b[0m 92.72   \u001b[0m | \u001b[0m 0.0     \u001b[0m | \u001b[0m 20.74   \u001b[0m | \u001b[0m 0.0     \u001b[0m | \u001b[0m 10.0    \u001b[0m | \u001b[0m 1.0     \u001b[0m | \u001b[0m 1.0     \u001b[0m | \u001b[0m 12.0    \u001b[0m | \u001b[0m 15.87   \u001b[0m |\n",
      "| \u001b[95m 15      \u001b[0m | \u001b[95m 93.53   \u001b[0m | \u001b[95m 0.0     \u001b[0m | \u001b[95m 17.09   \u001b[0m | \u001b[95m 10.0    \u001b[0m | \u001b[95m 10.0    \u001b[0m | \u001b[95m 8.0     \u001b[0m | \u001b[95m 1.0     \u001b[0m | \u001b[95m 1.789   \u001b[0m | \u001b[95m 15.61   \u001b[0m |\n"
     ]
    },
    {
     "name": "stderr",
     "output_type": "stream",
     "text": [
      "/opt/conda/envs/rapids/lib/python3.7/site-packages/sklearn/gaussian_process/kernels.py:271: RuntimeWarning: divide by zero encountered in log\n",
      "  return np.log(np.hstack(theta))\n"
     ]
    },
    {
     "name": "stdout",
     "output_type": "stream",
     "text": [
      "| \u001b[0m 16      \u001b[0m | \u001b[0m 93.39   \u001b[0m | \u001b[0m 0.99    \u001b[0m | \u001b[0m 21.12   \u001b[0m | \u001b[0m 10.0    \u001b[0m | \u001b[0m 0.0     \u001b[0m | \u001b[0m 8.0     \u001b[0m | \u001b[0m 1.0     \u001b[0m | \u001b[0m 1.0     \u001b[0m | \u001b[0m 24.17   \u001b[0m |\n"
     ]
    },
    {
     "name": "stderr",
     "output_type": "stream",
     "text": [
      "/opt/conda/envs/rapids/lib/python3.7/site-packages/sklearn/gaussian_process/kernels.py:271: RuntimeWarning: divide by zero encountered in log\n",
      "  return np.log(np.hstack(theta))\n"
     ]
    },
    {
     "name": "stdout",
     "output_type": "stream",
     "text": [
      "| \u001b[0m 17      \u001b[0m | \u001b[0m 93.39   \u001b[0m | \u001b[0m 0.99    \u001b[0m | \u001b[0m 22.71   \u001b[0m | \u001b[0m 10.0    \u001b[0m | \u001b[0m 0.0     \u001b[0m | \u001b[0m 8.0     \u001b[0m | \u001b[0m 1.0     \u001b[0m | \u001b[0m 1.0     \u001b[0m | \u001b[0m 5.962   \u001b[0m |\n"
     ]
    },
    {
     "name": "stderr",
     "output_type": "stream",
     "text": [
      "/opt/conda/envs/rapids/lib/python3.7/site-packages/sklearn/gaussian_process/kernels.py:271: RuntimeWarning: divide by zero encountered in log\n",
      "  return np.log(np.hstack(theta))\n"
     ]
    },
    {
     "name": "stdout",
     "output_type": "stream",
     "text": [
      "| \u001b[0m 18      \u001b[0m | \u001b[0m 93.27   \u001b[0m | \u001b[0m 0.99    \u001b[0m | \u001b[0m 14.87   \u001b[0m | \u001b[0m 10.0    \u001b[0m | \u001b[0m 0.0     \u001b[0m | \u001b[0m 8.0     \u001b[0m | \u001b[0m 1.0     \u001b[0m | \u001b[0m 12.0    \u001b[0m | \u001b[0m 13.95   \u001b[0m |\n",
      "| \u001b[0m 19      \u001b[0m | \u001b[0m 92.72   \u001b[0m | \u001b[0m 0.0     \u001b[0m | \u001b[0m 98.69   \u001b[0m | \u001b[0m 10.0    \u001b[0m | \u001b[0m 10.0    \u001b[0m | \u001b[0m 1.0     \u001b[0m | \u001b[0m 1.0     \u001b[0m | \u001b[0m 12.0    \u001b[0m | \u001b[0m 1.921   \u001b[0m |\n"
     ]
    },
    {
     "name": "stderr",
     "output_type": "stream",
     "text": [
      "/opt/conda/envs/rapids/lib/python3.7/site-packages/sklearn/gaussian_process/kernels.py:271: RuntimeWarning: divide by zero encountered in log\n",
      "  return np.log(np.hstack(theta))\n"
     ]
    },
    {
     "name": "stdout",
     "output_type": "stream",
     "text": [
      "| \u001b[0m 20      \u001b[0m | \u001b[0m 91.89   \u001b[0m | \u001b[0m 0.0     \u001b[0m | \u001b[0m 0.0     \u001b[0m | \u001b[0m 0.0     \u001b[0m | \u001b[0m 0.0     \u001b[0m | \u001b[0m 8.0     \u001b[0m | \u001b[0m 1.0     \u001b[0m | \u001b[0m 12.0    \u001b[0m | \u001b[0m 100.0   \u001b[0m |\n"
     ]
    },
    {
     "name": "stderr",
     "output_type": "stream",
     "text": [
      "/opt/conda/envs/rapids/lib/python3.7/site-packages/sklearn/gaussian_process/kernels.py:271: RuntimeWarning: divide by zero encountered in log\n",
      "  return np.log(np.hstack(theta))\n"
     ]
    },
    {
     "name": "stdout",
     "output_type": "stream",
     "text": [
      "| \u001b[0m 21      \u001b[0m | \u001b[0m 93.27   \u001b[0m | \u001b[0m 0.0     \u001b[0m | \u001b[0m 100.0   \u001b[0m | \u001b[0m 0.0     \u001b[0m | \u001b[0m 10.0    \u001b[0m | \u001b[0m 8.0     \u001b[0m | \u001b[0m 1.0     \u001b[0m | \u001b[0m 12.0    \u001b[0m | \u001b[0m 100.0   \u001b[0m |\n"
     ]
    },
    {
     "name": "stderr",
     "output_type": "stream",
     "text": [
      "/opt/conda/envs/rapids/lib/python3.7/site-packages/sklearn/gaussian_process/kernels.py:271: RuntimeWarning: divide by zero encountered in log\n",
      "  return np.log(np.hstack(theta))\n"
     ]
    },
    {
     "name": "stdout",
     "output_type": "stream",
     "text": [
      "| \u001b[0m 22      \u001b[0m | \u001b[0m 91.24   \u001b[0m | \u001b[0m 0.99    \u001b[0m | \u001b[0m 100.0   \u001b[0m | \u001b[0m 10.0    \u001b[0m | \u001b[0m 0.0     \u001b[0m | \u001b[0m 1.0     \u001b[0m | \u001b[0m 12.0    \u001b[0m | \u001b[0m 1.0     \u001b[0m | \u001b[0m 100.0   \u001b[0m |\n",
      "| \u001b[0m 23      \u001b[0m | \u001b[0m 90.98   \u001b[0m | \u001b[0m 0.99    \u001b[0m | \u001b[0m 22.75   \u001b[0m | \u001b[0m 10.0    \u001b[0m | \u001b[0m 6.355   \u001b[0m | \u001b[0m 8.0     \u001b[0m | \u001b[0m 12.0    \u001b[0m | \u001b[0m 1.0     \u001b[0m | \u001b[0m 15.57   \u001b[0m |\n"
     ]
    },
    {
     "name": "stderr",
     "output_type": "stream",
     "text": [
      "/opt/conda/envs/rapids/lib/python3.7/site-packages/sklearn/gaussian_process/kernels.py:271: RuntimeWarning: divide by zero encountered in log\n",
      "  return np.log(np.hstack(theta))\n"
     ]
    },
    {
     "name": "stdout",
     "output_type": "stream",
     "text": [
      "| \u001b[0m 24      \u001b[0m | \u001b[0m 93.41   \u001b[0m | \u001b[0m 0.0     \u001b[0m | \u001b[0m 12.18   \u001b[0m | \u001b[0m 10.0    \u001b[0m | \u001b[0m 0.0     \u001b[0m | \u001b[0m 8.0     \u001b[0m | \u001b[0m 1.0     \u001b[0m | \u001b[0m 1.0     \u001b[0m | \u001b[0m 14.56   \u001b[0m |\n",
      "| \u001b[0m 25      \u001b[0m | \u001b[0m 93.39   \u001b[0m | \u001b[0m 0.0     \u001b[0m | \u001b[0m 9.693   \u001b[0m | \u001b[0m 10.0    \u001b[0m | \u001b[0m 10.0    \u001b[0m | \u001b[0m 8.0     \u001b[0m | \u001b[0m 1.0     \u001b[0m | \u001b[0m 1.0     \u001b[0m | \u001b[0m 28.14   \u001b[0m |\n"
     ]
    },
    {
     "name": "stderr",
     "output_type": "stream",
     "text": [
      "/opt/conda/envs/rapids/lib/python3.7/site-packages/sklearn/gaussian_process/kernels.py:271: RuntimeWarning: divide by zero encountered in log\n",
      "  return np.log(np.hstack(theta))\n"
     ]
    },
    {
     "name": "stdout",
     "output_type": "stream",
     "text": [
      "| \u001b[0m 26      \u001b[0m | \u001b[0m 93.39   \u001b[0m | \u001b[0m 0.0     \u001b[0m | \u001b[0m 11.65   \u001b[0m | \u001b[0m 10.0    \u001b[0m | \u001b[0m 10.0    \u001b[0m | \u001b[0m 8.0     \u001b[0m | \u001b[0m 1.0     \u001b[0m | \u001b[0m 1.0     \u001b[0m | \u001b[0m 0.0     \u001b[0m |\n"
     ]
    },
    {
     "name": "stderr",
     "output_type": "stream",
     "text": [
      "/opt/conda/envs/rapids/lib/python3.7/site-packages/sklearn/gaussian_process/kernels.py:271: RuntimeWarning: divide by zero encountered in log\n",
      "  return np.log(np.hstack(theta))\n"
     ]
    },
    {
     "name": "stdout",
     "output_type": "stream",
     "text": [
      "| \u001b[0m 27      \u001b[0m | \u001b[0m 93.27   \u001b[0m | \u001b[0m 0.0     \u001b[0m | \u001b[0m 0.0     \u001b[0m | \u001b[0m 10.0    \u001b[0m | \u001b[0m 0.0     \u001b[0m | \u001b[0m 8.0     \u001b[0m | \u001b[0m 1.0     \u001b[0m | \u001b[0m 12.0    \u001b[0m | \u001b[0m 33.73   \u001b[0m |\n"
     ]
    },
    {
     "name": "stderr",
     "output_type": "stream",
     "text": [
      "/opt/conda/envs/rapids/lib/python3.7/site-packages/sklearn/gaussian_process/kernels.py:271: RuntimeWarning: divide by zero encountered in log\n",
      "  return np.log(np.hstack(theta))\n"
     ]
    },
    {
     "name": "stdout",
     "output_type": "stream",
     "text": [
      "| \u001b[0m 28      \u001b[0m | \u001b[0m 93.39   \u001b[0m | \u001b[0m 0.0     \u001b[0m | \u001b[0m 0.0     \u001b[0m | \u001b[0m 10.0    \u001b[0m | \u001b[0m 0.0     \u001b[0m | \u001b[0m 8.0     \u001b[0m | \u001b[0m 1.0     \u001b[0m | \u001b[0m 1.0     \u001b[0m | \u001b[0m 52.65   \u001b[0m |\n",
      "| \u001b[0m 29      \u001b[0m | \u001b[0m 90.36   \u001b[0m | \u001b[0m 0.5168  \u001b[0m | \u001b[0m 0.2589  \u001b[0m | \u001b[0m 1.481   \u001b[0m | \u001b[0m 0.09276 \u001b[0m | \u001b[0m 3.424   \u001b[0m | \u001b[0m 10.26   \u001b[0m | \u001b[0m 11.84   \u001b[0m | \u001b[0m 60.55   \u001b[0m |\n"
     ]
    },
    {
     "name": "stderr",
     "output_type": "stream",
     "text": [
      "/opt/conda/envs/rapids/lib/python3.7/site-packages/sklearn/gaussian_process/kernels.py:271: RuntimeWarning: divide by zero encountered in log\n",
      "  return np.log(np.hstack(theta))\n"
     ]
    },
    {
     "name": "stdout",
     "output_type": "stream",
     "text": [
      "| \u001b[0m 30      \u001b[0m | \u001b[0m 93.39   \u001b[0m | \u001b[0m 0.0     \u001b[0m | \u001b[0m 8.076   \u001b[0m | \u001b[0m 10.0    \u001b[0m | \u001b[0m 0.0     \u001b[0m | \u001b[0m 8.0     \u001b[0m | \u001b[0m 1.0     \u001b[0m | \u001b[0m 1.0     \u001b[0m | \u001b[0m 39.71   \u001b[0m |\n"
     ]
    },
    {
     "name": "stderr",
     "output_type": "stream",
     "text": [
      "/opt/conda/envs/rapids/lib/python3.7/site-packages/sklearn/gaussian_process/kernels.py:271: RuntimeWarning: divide by zero encountered in log\n",
      "  return np.log(np.hstack(theta))\n"
     ]
    },
    {
     "name": "stdout",
     "output_type": "stream",
     "text": [
      "| \u001b[0m 31      \u001b[0m | \u001b[0m 93.27   \u001b[0m | \u001b[0m 0.0     \u001b[0m | \u001b[0m 80.1    \u001b[0m | \u001b[0m 0.0     \u001b[0m | \u001b[0m 10.0    \u001b[0m | \u001b[0m 8.0     \u001b[0m | \u001b[0m 1.0     \u001b[0m | \u001b[0m 12.0    \u001b[0m | \u001b[0m 100.0   \u001b[0m |\n"
     ]
    },
    {
     "name": "stderr",
     "output_type": "stream",
     "text": [
      "/opt/conda/envs/rapids/lib/python3.7/site-packages/sklearn/gaussian_process/kernels.py:271: RuntimeWarning: divide by zero encountered in log\n",
      "  return np.log(np.hstack(theta))\n"
     ]
    },
    {
     "name": "stdout",
     "output_type": "stream",
     "text": [
      "| \u001b[0m 32      \u001b[0m | \u001b[0m 93.39   \u001b[0m | \u001b[0m 0.0     \u001b[0m | \u001b[0m 0.0     \u001b[0m | \u001b[0m 10.0    \u001b[0m | \u001b[0m 10.0    \u001b[0m | \u001b[0m 8.0     \u001b[0m | \u001b[0m 1.0     \u001b[0m | \u001b[0m 1.0     \u001b[0m | \u001b[0m 43.32   \u001b[0m |\n",
      "| \u001b[0m 33      \u001b[0m | \u001b[0m 92.84   \u001b[0m | \u001b[0m 0.4112  \u001b[0m | \u001b[0m 82.39   \u001b[0m | \u001b[0m 5.625   \u001b[0m | \u001b[0m 1.265   \u001b[0m | \u001b[0m 5.555   \u001b[0m | \u001b[0m 1.829   \u001b[0m | \u001b[0m 1.325   \u001b[0m | \u001b[0m 0.836   \u001b[0m |\n"
     ]
    },
    {
     "name": "stderr",
     "output_type": "stream",
     "text": [
      "/opt/conda/envs/rapids/lib/python3.7/site-packages/sklearn/gaussian_process/kernels.py:271: RuntimeWarning: divide by zero encountered in log\n",
      "  return np.log(np.hstack(theta))\n"
     ]
    },
    {
     "name": "stdout",
     "output_type": "stream",
     "text": [
      "| \u001b[0m 34      \u001b[0m | \u001b[0m 93.27   \u001b[0m | \u001b[0m 0.0     \u001b[0m | \u001b[0m 100.0   \u001b[0m | \u001b[0m 0.0     \u001b[0m | \u001b[0m 10.0    \u001b[0m | \u001b[0m 8.0     \u001b[0m | \u001b[0m 1.0     \u001b[0m | \u001b[0m 12.0    \u001b[0m | \u001b[0m 81.85   \u001b[0m |\n",
      "| \u001b[0m 35      \u001b[0m | \u001b[0m 93.39   \u001b[0m | \u001b[0m 0.99    \u001b[0m | \u001b[0m 100.0   \u001b[0m | \u001b[0m 10.0    \u001b[0m | \u001b[0m 10.0    \u001b[0m | \u001b[0m 8.0     \u001b[0m | \u001b[0m 1.0     \u001b[0m | \u001b[0m 1.0     \u001b[0m | \u001b[0m 17.89   \u001b[0m |\n",
      "| \u001b[0m 36      \u001b[0m | \u001b[0m 90.98   \u001b[0m | \u001b[0m 0.99    \u001b[0m | \u001b[0m 91.57   \u001b[0m | \u001b[0m 10.0    \u001b[0m | \u001b[0m 10.0    \u001b[0m | \u001b[0m 8.0     \u001b[0m | \u001b[0m 12.0    \u001b[0m | \u001b[0m 1.0     \u001b[0m | \u001b[0m 10.52   \u001b[0m |\n",
      "| \u001b[0m 37      \u001b[0m | \u001b[0m 93.27   \u001b[0m | \u001b[0m 0.0     \u001b[0m | \u001b[0m 100.0   \u001b[0m | \u001b[0m 10.0    \u001b[0m | \u001b[0m 10.0    \u001b[0m | \u001b[0m 8.0     \u001b[0m | \u001b[0m 1.0     \u001b[0m | \u001b[0m 12.0    \u001b[0m | \u001b[0m 26.98   \u001b[0m |\n"
     ]
    },
    {
     "name": "stderr",
     "output_type": "stream",
     "text": [
      "/opt/conda/envs/rapids/lib/python3.7/site-packages/sklearn/gaussian_process/kernels.py:271: RuntimeWarning: divide by zero encountered in log\n",
      "  return np.log(np.hstack(theta))\n"
     ]
    },
    {
     "name": "stdout",
     "output_type": "stream",
     "text": [
      "| \u001b[0m 38      \u001b[0m | \u001b[0m 93.39   \u001b[0m | \u001b[0m 0.0     \u001b[0m | \u001b[0m 100.0   \u001b[0m | \u001b[0m 0.0     \u001b[0m | \u001b[0m 10.0    \u001b[0m | \u001b[0m 8.0     \u001b[0m | \u001b[0m 1.0     \u001b[0m | \u001b[0m 1.0     \u001b[0m | \u001b[0m 24.65   \u001b[0m |\n"
     ]
    },
    {
     "name": "stderr",
     "output_type": "stream",
     "text": [
      "/opt/conda/envs/rapids/lib/python3.7/site-packages/sklearn/gaussian_process/kernels.py:271: RuntimeWarning: divide by zero encountered in log\n",
      "  return np.log(np.hstack(theta))\n"
     ]
    },
    {
     "name": "stdout",
     "output_type": "stream",
     "text": [
      "| \u001b[0m 39      \u001b[0m | \u001b[0m 93.27   \u001b[0m | \u001b[0m 0.99    \u001b[0m | \u001b[0m 100.0   \u001b[0m | \u001b[0m 0.0     \u001b[0m | \u001b[0m 0.0     \u001b[0m | \u001b[0m 8.0     \u001b[0m | \u001b[0m 1.0     \u001b[0m | \u001b[0m 12.0    \u001b[0m | \u001b[0m 15.73   \u001b[0m |\n"
     ]
    },
    {
     "name": "stderr",
     "output_type": "stream",
     "text": [
      "/opt/conda/envs/rapids/lib/python3.7/site-packages/sklearn/gaussian_process/kernels.py:271: RuntimeWarning: divide by zero encountered in log\n",
      "  return np.log(np.hstack(theta))\n"
     ]
    },
    {
     "name": "stdout",
     "output_type": "stream",
     "text": [
      "| \u001b[0m 40      \u001b[0m | \u001b[0m 93.01   \u001b[0m | \u001b[0m 0.0     \u001b[0m | \u001b[0m 100.0   \u001b[0m | \u001b[0m 10.0    \u001b[0m | \u001b[0m 0.0     \u001b[0m | \u001b[0m 1.0     \u001b[0m | \u001b[0m 1.0     \u001b[0m | \u001b[0m 1.0     \u001b[0m | \u001b[0m 22.23   \u001b[0m |\n",
      "=========================================================================================================================\n",
      "93.53476344511155\n",
      "Prev Inven : 8, Var Sale : 2, Var Product : 1\n",
      "|   iter    |  target   |  g_alpha  |   k_dot   |   rbf_l   |  theta1   | tmp_pr... | tmp_va... | tmp_va... |  w_noise  |\n",
      "-------------------------------------------------------------------------------------------------------------------------\n",
      "| \u001b[0m 1       \u001b[0m | \u001b[0m 90.91   \u001b[0m | \u001b[0m 0.4129  \u001b[0m | \u001b[0m 72.03   \u001b[0m | \u001b[0m 0.001144\u001b[0m | \u001b[0m 3.023   \u001b[0m | \u001b[0m 2.027   \u001b[0m | \u001b[0m 2.016   \u001b[0m | \u001b[0m 3.049   \u001b[0m | \u001b[0m 34.56   \u001b[0m |\n",
      "| \u001b[0m 2       \u001b[0m | \u001b[0m 89.05   \u001b[0m | \u001b[0m 0.3928  \u001b[0m | \u001b[0m 53.88   \u001b[0m | \u001b[0m 4.192   \u001b[0m | \u001b[0m 6.852   \u001b[0m | \u001b[0m 2.431   \u001b[0m | \u001b[0m 10.66   \u001b[0m | \u001b[0m 1.301   \u001b[0m | \u001b[0m 67.05   \u001b[0m |\n",
      "| \u001b[95m 3       \u001b[0m | \u001b[95m 91.1    \u001b[0m | \u001b[95m 0.4131  \u001b[0m | \u001b[95m 55.87   \u001b[0m | \u001b[95m 1.404   \u001b[0m | \u001b[95m 1.981   \u001b[0m | \u001b[95m 6.605   \u001b[0m | \u001b[95m 11.65   \u001b[0m | \u001b[95m 4.448   \u001b[0m | \u001b[95m 69.23   \u001b[0m |\n",
      "| \u001b[0m 4       \u001b[0m | \u001b[0m 89.03   \u001b[0m | \u001b[0m 0.8676  \u001b[0m | \u001b[0m 89.46   \u001b[0m | \u001b[0m 0.8504  \u001b[0m | \u001b[0m 0.3905  \u001b[0m | \u001b[0m 2.189   \u001b[0m | \u001b[0m 10.66   \u001b[0m | \u001b[0m 2.082   \u001b[0m | \u001b[0m 42.11   \u001b[0m |\n",
      "| \u001b[0m 5       \u001b[0m | \u001b[0m 89.71   \u001b[0m | \u001b[0m 0.9483  \u001b[0m | \u001b[0m 53.32   \u001b[0m | \u001b[0m 6.919   \u001b[0m | \u001b[0m 3.155   \u001b[0m | \u001b[0m 5.806   \u001b[0m | \u001b[0m 10.18   \u001b[0m | \u001b[0m 1.201   \u001b[0m | \u001b[0m 75.01   \u001b[0m |\n",
      "| \u001b[0m 6       \u001b[0m | \u001b[0m 89.31   \u001b[0m | \u001b[0m 0.979   \u001b[0m | \u001b[0m 74.82   \u001b[0m | \u001b[0m 2.804   \u001b[0m | \u001b[0m 7.893   \u001b[0m | \u001b[0m 1.723   \u001b[0m | \u001b[0m 5.927   \u001b[0m | \u001b[0m 10.99   \u001b[0m | \u001b[0m 29.36   \u001b[0m |\n",
      "| \u001b[0m 7       \u001b[0m | \u001b[0m 90.58   \u001b[0m | \u001b[0m 0.2849  \u001b[0m | \u001b[0m 13.0    \u001b[0m | \u001b[0m 0.1937  \u001b[0m | \u001b[0m 6.788   \u001b[0m | \u001b[0m 2.481   \u001b[0m | \u001b[0m 3.921   \u001b[0m | \u001b[0m 6.407   \u001b[0m | \u001b[0m 5.336   \u001b[0m |\n",
      "| \u001b[0m 8       \u001b[0m | \u001b[0m 89.58   \u001b[0m | \u001b[0m 0.5684  \u001b[0m | \u001b[0m 14.67   \u001b[0m | \u001b[0m 5.893   \u001b[0m | \u001b[0m 6.998   \u001b[0m | \u001b[0m 1.716   \u001b[0m | \u001b[0m 5.555   \u001b[0m | \u001b[0m 8.638   \u001b[0m | \u001b[0m 41.42   \u001b[0m |\n",
      "| \u001b[0m 9       \u001b[0m | \u001b[0m 89.39   \u001b[0m | \u001b[0m 0.04945 \u001b[0m | \u001b[0m 53.59   \u001b[0m | \u001b[0m 6.638   \u001b[0m | \u001b[0m 5.149   \u001b[0m | \u001b[0m 7.612   \u001b[0m | \u001b[0m 7.452   \u001b[0m | \u001b[0m 10.94   \u001b[0m | \u001b[0m 13.75   \u001b[0m |\n",
      "| \u001b[95m 10      \u001b[0m | \u001b[95m 91.69   \u001b[0m | \u001b[95m 0.1379  \u001b[0m | \u001b[95m 80.74   \u001b[0m | \u001b[95m 3.977   \u001b[0m | \u001b[95m 1.654   \u001b[0m | \u001b[95m 7.493   \u001b[0m | \u001b[95m 4.825   \u001b[0m | \u001b[95m 9.259   \u001b[0m | \u001b[95m 72.6    \u001b[0m |\n",
      "| \u001b[0m 11      \u001b[0m | \u001b[0m 91.15   \u001b[0m | \u001b[0m 0.8996  \u001b[0m | \u001b[0m 95.18   \u001b[0m | \u001b[0m 9.181   \u001b[0m | \u001b[0m 3.227   \u001b[0m | \u001b[0m 6.661   \u001b[0m | \u001b[0m 11.08   \u001b[0m | \u001b[0m 5.039   \u001b[0m | \u001b[0m 69.01   \u001b[0m |\n",
      "| \u001b[0m 12      \u001b[0m | \u001b[0m 90.13   \u001b[0m | \u001b[0m 0.7974  \u001b[0m | \u001b[0m 15.18   \u001b[0m | \u001b[0m 3.237   \u001b[0m | \u001b[0m 4.322   \u001b[0m | \u001b[0m 7.715   \u001b[0m | \u001b[0m 8.121   \u001b[0m | \u001b[0m 6.984   \u001b[0m | \u001b[0m 94.76   \u001b[0m |\n",
      "| \u001b[0m 13      \u001b[0m | \u001b[0m 90.87   \u001b[0m | \u001b[0m 0.28    \u001b[0m | \u001b[0m 83.68   \u001b[0m | \u001b[0m 0.1909  \u001b[0m | \u001b[0m 2.006   \u001b[0m | \u001b[0m 3.429   \u001b[0m | \u001b[0m 1.603   \u001b[0m | \u001b[0m 6.838   \u001b[0m | \u001b[0m 40.95   \u001b[0m |\n",
      "| \u001b[95m 14      \u001b[0m | \u001b[95m 91.82   \u001b[0m | \u001b[95m 0.3623  \u001b[0m | \u001b[95m 46.92   \u001b[0m | \u001b[95m 5.373   \u001b[0m | \u001b[95m 2.653   \u001b[0m | \u001b[95m 7.964   \u001b[0m | \u001b[95m 3.462   \u001b[0m | \u001b[95m 3.77    \u001b[0m | \u001b[95m 89.39   \u001b[0m |\n",
      "| \u001b[0m 15      \u001b[0m | \u001b[0m 89.64   \u001b[0m | \u001b[0m 0.1273  \u001b[0m | \u001b[0m 2.083   \u001b[0m | \u001b[0m 8.872   \u001b[0m | \u001b[0m 7.994   \u001b[0m | \u001b[0m 6.618   \u001b[0m | \u001b[0m 6.185   \u001b[0m | \u001b[0m 10.09   \u001b[0m | \u001b[0m 60.05   \u001b[0m |\n",
      "| \u001b[0m 16      \u001b[0m | \u001b[0m 89.16   \u001b[0m | \u001b[0m 0.9449  \u001b[0m | \u001b[0m 50.8    \u001b[0m | \u001b[0m 3.294   \u001b[0m | \u001b[0m 5.376   \u001b[0m | \u001b[0m 5.139   \u001b[0m | \u001b[0m 7.079   \u001b[0m | \u001b[0m 7.993   \u001b[0m | \u001b[0m 88.04   \u001b[0m |\n",
      "| \u001b[0m 17      \u001b[0m | \u001b[0m 88.82   \u001b[0m | \u001b[0m 0.09027 \u001b[0m | \u001b[0m 46.61   \u001b[0m | \u001b[0m 1.003   \u001b[0m | \u001b[0m 7.06    \u001b[0m | \u001b[0m 4.6     \u001b[0m | \u001b[0m 6.36    \u001b[0m | \u001b[0m 11.8    \u001b[0m | \u001b[0m 19.81   \u001b[0m |\n",
      "| \u001b[0m 18      \u001b[0m | \u001b[0m 88.98   \u001b[0m | \u001b[0m 0.08163 \u001b[0m | \u001b[0m 24.96   \u001b[0m | \u001b[0m 2.219   \u001b[0m | \u001b[0m 8.699   \u001b[0m | \u001b[0m 2.599   \u001b[0m | \u001b[0m 5.573   \u001b[0m | \u001b[0m 5.179   \u001b[0m | \u001b[0m 94.97   \u001b[0m |\n",
      "| \u001b[0m 19      \u001b[0m | \u001b[0m 90.76   \u001b[0m | \u001b[0m 0.2393  \u001b[0m | \u001b[0m 84.02   \u001b[0m | \u001b[0m 8.518   \u001b[0m | \u001b[0m 5.874   \u001b[0m | \u001b[0m 2.388   \u001b[0m | \u001b[0m 2.221   \u001b[0m | \u001b[0m 8.923   \u001b[0m | \u001b[0m 62.17   \u001b[0m |\n",
      "| \u001b[0m 20      \u001b[0m | \u001b[0m 90.17   \u001b[0m | \u001b[0m 0.3013  \u001b[0m | \u001b[0m 50.42   \u001b[0m | \u001b[0m 0.02496 \u001b[0m | \u001b[0m 8.423   \u001b[0m | \u001b[0m 6.058   \u001b[0m | \u001b[0m 3.547   \u001b[0m | \u001b[0m 1.452   \u001b[0m | \u001b[0m 76.37   \u001b[0m |\n",
      "| \u001b[0m 21      \u001b[0m | \u001b[0m 91.42   \u001b[0m | \u001b[0m 0.1497  \u001b[0m | \u001b[0m 38.96   \u001b[0m | \u001b[0m 7.288   \u001b[0m | \u001b[0m 6.121   \u001b[0m | \u001b[0m 7.866   \u001b[0m | \u001b[0m 3.209   \u001b[0m | \u001b[0m 6.991   \u001b[0m | \u001b[0m 11.58   \u001b[0m |\n",
      "| \u001b[0m 22      \u001b[0m | \u001b[0m 88.26   \u001b[0m | \u001b[0m 0.6398  \u001b[0m | \u001b[0m 85.62   \u001b[0m | \u001b[0m 3.537   \u001b[0m | \u001b[0m 2.252   \u001b[0m | \u001b[0m 4.368   \u001b[0m | \u001b[0m 6.032   \u001b[0m | \u001b[0m 11.05   \u001b[0m | \u001b[0m 41.2    \u001b[0m |\n",
      "| \u001b[0m 23      \u001b[0m | \u001b[0m 91.14   \u001b[0m | \u001b[0m 0.319   \u001b[0m | \u001b[0m 15.19   \u001b[0m | \u001b[0m 4.066   \u001b[0m | \u001b[0m 7.223   \u001b[0m | \u001b[0m 1.308   \u001b[0m | \u001b[0m 4.426   \u001b[0m | \u001b[0m 2.622   \u001b[0m | \u001b[0m 2.782   \u001b[0m |\n",
      "| \u001b[0m 24      \u001b[0m | \u001b[0m 91.15   \u001b[0m | \u001b[0m 0.02997 \u001b[0m | \u001b[0m 93.65   \u001b[0m | \u001b[0m 6.818   \u001b[0m | \u001b[0m 2.908   \u001b[0m | \u001b[0m 6.505   \u001b[0m | \u001b[0m 10.61   \u001b[0m | \u001b[0m 5.121   \u001b[0m | \u001b[0m 69.36   \u001b[0m |\n",
      "| \u001b[0m 25      \u001b[0m | \u001b[0m 90.77   \u001b[0m | \u001b[0m 0.9725  \u001b[0m | \u001b[0m 46.78   \u001b[0m | \u001b[0m 5.462   \u001b[0m | \u001b[0m 1.722   \u001b[0m | \u001b[0m 6.572   \u001b[0m | \u001b[0m 5.938   \u001b[0m | \u001b[0m 3.593   \u001b[0m | \u001b[0m 90.39   \u001b[0m |\n",
      "| \u001b[0m 26      \u001b[0m | \u001b[0m 90.88   \u001b[0m | \u001b[0m 0.2316  \u001b[0m | \u001b[0m 45.32   \u001b[0m | \u001b[0m 6.981   \u001b[0m | \u001b[0m 3.57    \u001b[0m | \u001b[0m 5.528   \u001b[0m | \u001b[0m 2.295   \u001b[0m | \u001b[0m 2.09    \u001b[0m | \u001b[0m 87.55   \u001b[0m |\n",
      "| \u001b[0m 27      \u001b[0m | \u001b[0m 90.73   \u001b[0m | \u001b[0m 0.1666  \u001b[0m | \u001b[0m 82.2    \u001b[0m | \u001b[0m 5.198   \u001b[0m | \u001b[0m 2.69    \u001b[0m | \u001b[0m 6.275   \u001b[0m | \u001b[0m 4.549   \u001b[0m | \u001b[0m 8.957   \u001b[0m | \u001b[0m 70.04   \u001b[0m |\n",
      "| \u001b[0m 28      \u001b[0m | \u001b[0m 89.91   \u001b[0m | \u001b[0m 0.1202  \u001b[0m | \u001b[0m 82.04   \u001b[0m | \u001b[0m 3.255   \u001b[0m | \u001b[0m 0.6847  \u001b[0m | \u001b[0m 8.0     \u001b[0m | \u001b[0m 6.548   \u001b[0m | \u001b[0m 8.65    \u001b[0m | \u001b[0m 74.98   \u001b[0m |\n",
      "| \u001b[0m 29      \u001b[0m | \u001b[0m 91.78   \u001b[0m | \u001b[0m 0.02196 \u001b[0m | \u001b[0m 45.96   \u001b[0m | \u001b[0m 5.679   \u001b[0m | \u001b[0m 1.657   \u001b[0m | \u001b[0m 8.0     \u001b[0m | \u001b[0m 1.794   \u001b[0m | \u001b[0m 2.72    \u001b[0m | \u001b[0m 90.12   \u001b[0m |\n",
      "| \u001b[0m 30      \u001b[0m | \u001b[0m 91.08   \u001b[0m | \u001b[0m 0.9505  \u001b[0m | \u001b[0m 46.61   \u001b[0m | \u001b[0m 2.442   \u001b[0m | \u001b[0m 1.143   \u001b[0m | \u001b[0m 4.876   \u001b[0m | \u001b[0m 1.145   \u001b[0m | \u001b[0m 3.971   \u001b[0m | \u001b[0m 88.4    \u001b[0m |\n",
      "| \u001b[0m 31      \u001b[0m | \u001b[0m 91.38   \u001b[0m | \u001b[0m 0.001777\u001b[0m | \u001b[0m 48.84   \u001b[0m | \u001b[0m 5.324   \u001b[0m | \u001b[0m 1.41    \u001b[0m | \u001b[0m 8.0     \u001b[0m | \u001b[0m 1.231   \u001b[0m | \u001b[0m 3.178   \u001b[0m | \u001b[0m 88.61   \u001b[0m |\n",
      "| \u001b[0m 32      \u001b[0m | \u001b[0m 91.57   \u001b[0m | \u001b[0m 0.1355  \u001b[0m | \u001b[0m 78.02   \u001b[0m | \u001b[0m 3.827   \u001b[0m | \u001b[0m 1.944   \u001b[0m | \u001b[0m 7.887   \u001b[0m | \u001b[0m 3.034   \u001b[0m | \u001b[0m 10.22   \u001b[0m | \u001b[0m 71.91   \u001b[0m |\n",
      "| \u001b[0m 33      \u001b[0m | \u001b[0m 91.31   \u001b[0m | \u001b[0m 0.1173  \u001b[0m | \u001b[0m 80.01   \u001b[0m | \u001b[0m 1.83    \u001b[0m | \u001b[0m 4.248   \u001b[0m | \u001b[0m 7.387   \u001b[0m | \u001b[0m 4.298   \u001b[0m | \u001b[0m 11.47   \u001b[0m | \u001b[0m 72.26   \u001b[0m |\n",
      "| \u001b[0m 34      \u001b[0m | \u001b[0m 90.87   \u001b[0m | \u001b[0m 0.9151  \u001b[0m | \u001b[0m 81.01   \u001b[0m | \u001b[0m 5.289   \u001b[0m | \u001b[0m 2.049   \u001b[0m | \u001b[0m 8.0     \u001b[0m | \u001b[0m 1.645   \u001b[0m | \u001b[0m 11.51   \u001b[0m | \u001b[0m 73.64   \u001b[0m |\n",
      "| \u001b[0m 35      \u001b[0m | \u001b[0m 90.53   \u001b[0m | \u001b[0m 0.2121  \u001b[0m | \u001b[0m 77.85   \u001b[0m | \u001b[0m 3.009   \u001b[0m | \u001b[0m 1.953   \u001b[0m | \u001b[0m 4.389   \u001b[0m | \u001b[0m 4.783   \u001b[0m | \u001b[0m 8.729   \u001b[0m | \u001b[0m 72.42   \u001b[0m |\n",
      "| \u001b[0m 36      \u001b[0m | \u001b[0m 91.69   \u001b[0m | \u001b[0m 0.0     \u001b[0m | \u001b[0m 46.41   \u001b[0m | \u001b[0m 4.084   \u001b[0m | \u001b[0m 4.54    \u001b[0m | \u001b[0m 8.0     \u001b[0m | \u001b[0m 1.0     \u001b[0m | \u001b[0m 4.166   \u001b[0m | \u001b[0m 91.33   \u001b[0m |\n",
      "| \u001b[0m 37      \u001b[0m | \u001b[0m 91.35   \u001b[0m | \u001b[0m 0.0     \u001b[0m | \u001b[0m 45.24   \u001b[0m | \u001b[0m 6.042   \u001b[0m | \u001b[0m 2.012   \u001b[0m | \u001b[0m 8.0     \u001b[0m | \u001b[0m 1.073   \u001b[0m | \u001b[0m 6.802   \u001b[0m | \u001b[0m 89.83   \u001b[0m |\n",
      "| \u001b[0m 38      \u001b[0m | \u001b[0m 91.13   \u001b[0m | \u001b[0m 0.0     \u001b[0m | \u001b[0m 43.38   \u001b[0m | \u001b[0m 2.39    \u001b[0m | \u001b[0m 3.284   \u001b[0m | \u001b[0m 8.0     \u001b[0m | \u001b[0m 2.639   \u001b[0m | \u001b[0m 3.26    \u001b[0m | \u001b[0m 89.22   \u001b[0m |\n",
      "| \u001b[95m 39      \u001b[0m | \u001b[95m 92.23   \u001b[0m | \u001b[95m 0.0     \u001b[0m | \u001b[95m 47.81   \u001b[0m | \u001b[95m 8.443   \u001b[0m | \u001b[95m 4.024   \u001b[0m | \u001b[95m 8.0     \u001b[0m | \u001b[95m 1.685   \u001b[0m | \u001b[95m 3.556   \u001b[0m | \u001b[95m 92.46   \u001b[0m |\n",
      "| \u001b[0m 40      \u001b[0m | \u001b[0m 91.69   \u001b[0m | \u001b[0m 0.0     \u001b[0m | \u001b[0m 48.22   \u001b[0m | \u001b[0m 6.722   \u001b[0m | \u001b[0m 1.98    \u001b[0m | \u001b[0m 8.0     \u001b[0m | \u001b[0m 1.0     \u001b[0m | \u001b[0m 3.547   \u001b[0m | \u001b[0m 95.52   \u001b[0m |\n",
      "=========================================================================================================================\n",
      "92.23425196865387\n",
      "Prev Inven : 8, Var Sale : 4, Var Product : 2\n"
     ]
    }
   ],
   "source": [
    "for current in np.arange(202101, 202117):#np.max(y_inven['ww'].values)\n",
    "    dt_current = (dt_table.index[dt_table['ww'] == current].tolist()[0])-1\n",
    "    pred_ww = dt_table['ww'].loc[dt_current+1:].values.tolist()\n",
    "    opt_set = d_set.iloc[:d_set.index[d_set['ww'] == dt_table.loc[dt_current].values.tolist()[0]][0]+1,:]\n",
    "\n",
    "    warnings.filterwarnings(action='ignore', category=UserWarning)\n",
    "    param_bound = {'theta1' : (0, 10), 'g_alpha' : (0.0,0.99) , 'k_dot' : (0, 100), 'w_noise' : (0.0, 100), 'rbf_l' : (0, 10), \n",
    "                   'tmp_prev_inven_col' : (1,8), 'tmp_var_sale_col' : (1, 12), 'tmp_var_product_col' : (1, 12)}\n",
    "\n",
    "    product_optimizer = BayesianOptimization(f=h_opt, pbounds=param_bound, verbose=2, random_state=1)\n",
    "    product_optimizer.maximize(init_points=10, n_iter=30)\n",
    "    print(product_optimizer.max['target'])\n",
    "\n",
    "    g_alpha = product_optimizer.max['params']['g_alpha']\n",
    "    k_dot = product_optimizer.max['params']['k_dot']\n",
    "    rbf_l = product_optimizer.max['params']['rbf_l']\n",
    "    theta1 =product_optimizer.max['params']['theta1']\n",
    "    prev_inven_col = round(product_optimizer.max['params']['tmp_prev_inven_col'])\n",
    "    var_product_col = round(product_optimizer.max['params']['tmp_var_product_col'])\n",
    "    var_sale_col = round(product_optimizer.max['params']['tmp_var_sale_col'])\n",
    "    w_noise = product_optimizer.max['params']['w_noise']\n",
    "    print(\"Prev Inven : %d, Var Sale : %d, Var Product : %d\"%(prev_inven_col, var_sale_col, var_product_col))\n",
    "\n",
    "    train_set = opt_set\n",
    "\n",
    "    prev_inven_name   = [s for s in train_set.columns.values if 'prev_inven_' in s]    \n",
    "    var_sale_name     = [s for s in train_set.columns.values if 'sales_prev_' in s]\n",
    "    var_product_name  = [s for s in train_set.columns.values if 'product_prev_' in s]\n",
    "    train_x_name = prev_inven_name[:prev_inven_col]+var_sale_name[:var_sale_col]+var_product_name[:var_product_col]\n",
    "    kernel =  theta1 * RBF(rbf_l) + WhiteKernel(w_noise)  + DotProduct(k_dot) ## RBF(2) + WhiteKernel(1)  + \n",
    "    gp = GaussianProcessRegressor(kernel=kernel, alpha=g_alpha, n_restarts_optimizer=3)\n",
    "    gp.fit(train_set[train_x_name], train_set['inven'])\n",
    "\n",
    "    train_pred, train_sigma = gp.predict(train_set[train_x_name], return_std=True)\n",
    "\n",
    "    current_ind = prod_plan.index[prod_plan['ww'] == current].tolist()[0]\n",
    "    for i in range(0,var_product_col):\n",
    "        #print(prod_plan.loc[current_ind-i])\n",
    "        tmp_split = [x.split(\":\") for x in prod_plan['target_ww'].loc[current_ind-i].split(\"/\")]\n",
    "        tmp_split_df = pd.DataFrame(tmp_split)\n",
    "        tmp_split_df.columns = ['ww', 'product_prev'+str(i+1)]\n",
    "        tmp_ww_ind = [tmp_split_df['ww'].values.tolist().index(str(x)) for i, x in enumerate(pred_ww) if str(x) in tmp_split_df['ww'].values]\n",
    "        tmp_prod_plan_test = tmp_split_df.iloc[tmp_ww_ind,:].reset_index(drop=True)    \n",
    "        if i == 0 :\n",
    "            prod_plan_test = tmp_prod_plan_test\n",
    "        else:\n",
    "            prod_plan_test = pd.merge(prod_plan_test, tmp_prod_plan_test, how='inner', on='ww')\n",
    "\n",
    "    current_ind = sale_plan.index[sale_plan['ww'] == dt_table['ww'].loc[dt_current-2]].tolist()[0]\n",
    "    #current_ind = sale_plan.index[sale_plan['ww'] == current].tolist()[0]\n",
    "    for i in range(0,var_sale_col):\n",
    "        #print(prod_plan.loc[current_ind-i])\n",
    "        tmp_split = [x.split(\":\") for x in sale_plan['target_ww'].loc[current_ind-i].split(\"/\")]\n",
    "        tmp_split_df = pd.DataFrame(tmp_split)\n",
    "        tmp_split_df.columns = ['ww', 'sales_prev'+str(i+1)]    \n",
    "        tmp_split_df['ww'] = [str(dt_table['ww'].loc[dt_table.index[dt_table['ww']==int(tmp_split_df['ww'][x])].tolist()[0]+2]) for x in range(0, tmp_split_df.shape[0])]    \n",
    "        tmp_ww_ind = [tmp_split_df['ww'].values.tolist().index(str(x)) for i, x in enumerate(pred_ww) if str(x) in tmp_split_df['ww'].values]    \n",
    "        tmp_sale_plan_test = tmp_split_df.iloc[tmp_ww_ind,:].reset_index(drop=True)      \n",
    "        if i == 0 :\n",
    "            sale_plan_test = tmp_sale_plan_test\n",
    "        else:\n",
    "            sale_plan_test = pd.merge(sale_plan_test, tmp_sale_plan_test, how='left', on='ww')\n",
    "    test_x = pd.merge(sale_plan_test, prod_plan_test, how='inner', on='ww')\n",
    "    test_x = test_x.astype('float')\n",
    "    test_x = test_x.astype({'ww': 'int'})       \n",
    "\n",
    "    test_inven_init = np.array(train_set[['inven']+['prev_inven_'+str(x) for x in range(1,prev_inven_col)]][train_set['ww']==dt_table['ww'].loc[dt_current]]).reshape(-1)\n",
    "    rslt_set, test_pred, test_sigma = [], [], []\n",
    "    for i in range(0, test_x.shape[0]):    \n",
    "        tmp_pred_inven_mean, tmp_pred_inven_std = gp.predict(np.concatenate([test_inven_init, test_x.iloc[i,1:]]).reshape(1,-1), return_std=True)\n",
    "        test_pred.append(tmp_pred_inven_mean[0])\n",
    "        test_sigma.append(tmp_pred_inven_std[0])\n",
    "        tmp_rslt = np.concatenate([tmp_pred_inven_mean, test_inven_init, test_x.iloc[i,1:]])\n",
    "        test_inven_init = np.insert(test_inven_init, 0, tmp_pred_inven_mean)[:prev_inven_col]\n",
    "        rslt_set.append(tmp_rslt)\n",
    "    rslt_set = pd.DataFrame(rslt_set)\n",
    "    rslt_set['ww'] = test_x['ww']\n",
    "    ww_col = rslt_set.columns[-1:].to_list()\n",
    "    x_col = rslt_set.columns[:-1].to_list()\n",
    "    set_col = ww_col + x_col\n",
    "    rslt_set = rslt_set[set_col]\n",
    "    rslt_set.columns = list(['ww','pred_inven'])+train_x_name #total_set.columns\n",
    "\n",
    "    tmp_train_set = train_set[['ww','inven']].copy()\n",
    "    tmp_train_set['inven_pred'] = train_pred\n",
    "    tmp_train_set.head()\n",
    "    tmp_test_set = pd.DataFrame({'ww' :  pred_ww[:len(test_pred)], \n",
    "                                 'inven' : np.repeat(-999, len(test_pred)),\n",
    "                                 'inven_pred' : test_pred})\n",
    "    tmp_day_set = pd.concat([tmp_train_set, tmp_test_set])\n",
    "    tmp_day_set = tmp_day_set.reset_index(drop=True)\n",
    "\n",
    "    tmp_train_sale = pd.merge(train_set['ww'], sale_rslt[['ww','sale']], how='inner', on='ww')\n",
    "    tmp_test_sale = pd.DataFrame([x.split(':') for x in sale_plan['target_ww'][sale_plan['ww']==current].values.tolist()[0].split('/')])\n",
    "    tmp_test_sale.columns = ['ww', 'sale']\n",
    "    tmp_sale = pd.concat([tmp_train_sale, tmp_test_sale])\n",
    "    tmp_sale = tmp_sale.astype({'ww': 'int'})  \n",
    "    day_set = pd.merge(tmp_day_set, tmp_sale, how='inner', on='ww')\n",
    "    day_set = day_set.astype({'sale' : 'float'})\n",
    "    day_set_nonzero = day_set.copy()\n",
    "    sale_col = np.where(day_set_nonzero.columns.values =='sale')[0][0]\n",
    "    for i in range(0, day_set_nonzero.shape[0]):\n",
    "        tmp_ids = i-1 if i-1 > 0 else 0    \n",
    "        if day_set_nonzero['sale'].loc[i] == 0:        \n",
    "            day_set_nonzero.iloc[i, sale_col] = day_set_nonzero.iloc[tmp_ids, sale_col]\n",
    "            \n",
    "    inven_d = []\n",
    "    for i in range(0, day_set_nonzero.shape[0]):\n",
    "        if i > 0 and i < day_set_nonzero.shape[0]-3:\n",
    "            tmp_sale_avg = np.mean(day_set_nonzero['sale'][i:(i+4)].values)\n",
    "            if i < day_set_nonzero[day_set_nonzero['ww'] == current].index[0] :\n",
    "                tmp_inven = day_set_nonzero['inven'][i-1]    \n",
    "            else:\n",
    "                tmp_inven = day_set_nonzero['inven_pred'][i-1]    \n",
    "            inven_d.append(round(tmp_inven / tmp_sale_avg * 6.76,1))\n",
    "        else:\n",
    "            inven_d.append(0)\n",
    "    day_set_nonzero['inven_d'] = inven_d  \n",
    "\n",
    "    insert_day_sql = \"insert into inven_day values (%s, %s)\"\n",
    "    conn = _call_db_info('gscm_e61d')\n",
    "    curs = conn.cursor()\n",
    "    inven_day_rslt = [current, str('/'.join(list(map(lambda x : ':'.join([str(x) for x in day_set_nonzero.loc[x]]), range(0, day_set_nonzero.shape[0])))))]\n",
    "    curs.execute(insert_day_sql, inven_day_rslt) \n",
    "    conn.commit()\n",
    "    conn.close()"
   ]
  },
  {
   "cell_type": "code",
   "execution_count": 5,
   "id": "02fbce69",
   "metadata": {},
   "outputs": [],
   "source": [
    "current = 202101#np.max(y_inven['ww'].values)"
   ]
  },
  {
   "cell_type": "code",
   "execution_count": 6,
   "id": "944459a4",
   "metadata": {
    "scrolled": true
   },
   "outputs": [
    {
     "name": "stdout",
     "output_type": "stream",
     "text": [
      "|   iter    |  target   |  g_alpha  |   k_dot   |   rbf_l   |  theta1   | tmp_pr... | tmp_va... | tmp_va... |  w_noise  |\n",
      "-------------------------------------------------------------------------------------------------------------------------\n",
      "| \u001b[0m 1       \u001b[0m | \u001b[0m 83.09   \u001b[0m | \u001b[0m 0.4129  \u001b[0m | \u001b[0m 72.03   \u001b[0m | \u001b[0m 0.001144\u001b[0m | \u001b[0m 3.023   \u001b[0m | \u001b[0m 2.027   \u001b[0m | \u001b[0m 2.016   \u001b[0m | \u001b[0m 3.049   \u001b[0m | \u001b[0m 34.56   \u001b[0m |\n",
      "| \u001b[0m 2       \u001b[0m | \u001b[0m 80.38   \u001b[0m | \u001b[0m 0.3928  \u001b[0m | \u001b[0m 53.88   \u001b[0m | \u001b[0m 4.192   \u001b[0m | \u001b[0m 6.852   \u001b[0m | \u001b[0m 2.431   \u001b[0m | \u001b[0m 10.66   \u001b[0m | \u001b[0m 1.301   \u001b[0m | \u001b[0m 67.05   \u001b[0m |\n",
      "| \u001b[0m 3       \u001b[0m | \u001b[0m 76.5    \u001b[0m | \u001b[0m 0.4131  \u001b[0m | \u001b[0m 55.87   \u001b[0m | \u001b[0m 1.404   \u001b[0m | \u001b[0m 1.981   \u001b[0m | \u001b[0m 6.605   \u001b[0m | \u001b[0m 11.65   \u001b[0m | \u001b[0m 4.448   \u001b[0m | \u001b[0m 69.23   \u001b[0m |\n",
      "| \u001b[0m 4       \u001b[0m | \u001b[0m 77.5    \u001b[0m | \u001b[0m 0.8676  \u001b[0m | \u001b[0m 89.46   \u001b[0m | \u001b[0m 0.8504  \u001b[0m | \u001b[0m 0.3905  \u001b[0m | \u001b[0m 2.189   \u001b[0m | \u001b[0m 10.66   \u001b[0m | \u001b[0m 2.082   \u001b[0m | \u001b[0m 42.11   \u001b[0m |\n",
      "| \u001b[0m 5       \u001b[0m | \u001b[0m 74.83   \u001b[0m | \u001b[0m 0.9483  \u001b[0m | \u001b[0m 53.32   \u001b[0m | \u001b[0m 6.919   \u001b[0m | \u001b[0m 3.155   \u001b[0m | \u001b[0m 5.806   \u001b[0m | \u001b[0m 10.18   \u001b[0m | \u001b[0m 1.201   \u001b[0m | \u001b[0m 75.01   \u001b[0m |\n",
      "| \u001b[0m 6       \u001b[0m | \u001b[0m 79.74   \u001b[0m | \u001b[0m 0.979   \u001b[0m | \u001b[0m 74.82   \u001b[0m | \u001b[0m 2.804   \u001b[0m | \u001b[0m 7.893   \u001b[0m | \u001b[0m 1.723   \u001b[0m | \u001b[0m 5.927   \u001b[0m | \u001b[0m 10.99   \u001b[0m | \u001b[0m 29.36   \u001b[0m |\n",
      "| \u001b[95m 7       \u001b[0m | \u001b[95m 85.55   \u001b[0m | \u001b[95m 0.2849  \u001b[0m | \u001b[95m 13.0    \u001b[0m | \u001b[95m 0.1937  \u001b[0m | \u001b[95m 6.788   \u001b[0m | \u001b[95m 2.481   \u001b[0m | \u001b[95m 3.921   \u001b[0m | \u001b[95m 6.407   \u001b[0m | \u001b[95m 5.336   \u001b[0m |\n",
      "| \u001b[0m 8       \u001b[0m | \u001b[0m 80.48   \u001b[0m | \u001b[0m 0.5684  \u001b[0m | \u001b[0m 14.67   \u001b[0m | \u001b[0m 5.893   \u001b[0m | \u001b[0m 6.998   \u001b[0m | \u001b[0m 1.716   \u001b[0m | \u001b[0m 5.555   \u001b[0m | \u001b[0m 8.638   \u001b[0m | \u001b[0m 41.42   \u001b[0m |\n",
      "| \u001b[0m 9       \u001b[0m | \u001b[0m 77.01   \u001b[0m | \u001b[0m 0.04945 \u001b[0m | \u001b[0m 53.59   \u001b[0m | \u001b[0m 6.638   \u001b[0m | \u001b[0m 5.149   \u001b[0m | \u001b[0m 7.612   \u001b[0m | \u001b[0m 7.452   \u001b[0m | \u001b[0m 10.94   \u001b[0m | \u001b[0m 13.75   \u001b[0m |\n",
      "| \u001b[0m 10      \u001b[0m | \u001b[0m 79.97   \u001b[0m | \u001b[0m 0.1379  \u001b[0m | \u001b[0m 80.74   \u001b[0m | \u001b[0m 3.977   \u001b[0m | \u001b[0m 1.654   \u001b[0m | \u001b[0m 7.493   \u001b[0m | \u001b[0m 4.825   \u001b[0m | \u001b[0m 9.259   \u001b[0m | \u001b[0m 72.6    \u001b[0m |\n",
      "| \u001b[0m 11      \u001b[0m | \u001b[0m 76.02   \u001b[0m | \u001b[0m 0.8996  \u001b[0m | \u001b[0m 95.18   \u001b[0m | \u001b[0m 9.181   \u001b[0m | \u001b[0m 3.227   \u001b[0m | \u001b[0m 6.661   \u001b[0m | \u001b[0m 11.08   \u001b[0m | \u001b[0m 5.039   \u001b[0m | \u001b[0m 69.01   \u001b[0m |\n",
      "| \u001b[0m 12      \u001b[0m | \u001b[0m 83.53   \u001b[0m | \u001b[0m 0.1856  \u001b[0m | \u001b[0m 9.666   \u001b[0m | \u001b[0m 1.281   \u001b[0m | \u001b[0m 5.6     \u001b[0m | \u001b[0m 3.058   \u001b[0m | \u001b[0m 3.675   \u001b[0m | \u001b[0m 4.966   \u001b[0m | \u001b[0m 5.943   \u001b[0m |\n"
     ]
    },
    {
     "name": "stderr",
     "output_type": "stream",
     "text": [
      "/opt/conda/envs/rapids/lib/python3.7/site-packages/sklearn/gaussian_process/kernels.py:271: RuntimeWarning: divide by zero encountered in log\n",
      "  return np.log(np.hstack(theta))\n"
     ]
    },
    {
     "name": "stdout",
     "output_type": "stream",
     "text": [
      "| \u001b[0m 13      \u001b[0m | \u001b[0m 84.96   \u001b[0m | \u001b[0m 0.4359  \u001b[0m | \u001b[0m 15.32   \u001b[0m | \u001b[0m 0.0     \u001b[0m | \u001b[0m 8.14    \u001b[0m | \u001b[0m 1.539   \u001b[0m | \u001b[0m 4.38    \u001b[0m | \u001b[0m 8.134   \u001b[0m | \u001b[0m 10.4    \u001b[0m |\n",
      "| \u001b[0m 14      \u001b[0m | \u001b[0m 83.74   \u001b[0m | \u001b[0m 0.3586  \u001b[0m | \u001b[0m 20.69   \u001b[0m | \u001b[0m 0.3982  \u001b[0m | \u001b[0m 3.364   \u001b[0m | \u001b[0m 1.76    \u001b[0m | \u001b[0m 3.648   \u001b[0m | \u001b[0m 4.174   \u001b[0m | \u001b[0m 4.388   \u001b[0m |\n"
     ]
    },
    {
     "name": "stderr",
     "output_type": "stream",
     "text": [
      "/opt/conda/envs/rapids/lib/python3.7/site-packages/sklearn/gaussian_process/kernels.py:271: RuntimeWarning: divide by zero encountered in log\n",
      "  return np.log(np.hstack(theta))\n"
     ]
    },
    {
     "name": "stdout",
     "output_type": "stream",
     "text": [
      "| \u001b[0m 15      \u001b[0m | \u001b[0m 75.2    \u001b[0m | \u001b[0m 0.99    \u001b[0m | \u001b[0m 16.17   \u001b[0m | \u001b[0m 0.0     \u001b[0m | \u001b[0m 10.0    \u001b[0m | \u001b[0m 1.0     \u001b[0m | \u001b[0m 9.178   \u001b[0m | \u001b[0m 12.0    \u001b[0m | \u001b[0m 1.39    \u001b[0m |\n"
     ]
    },
    {
     "name": "stderr",
     "output_type": "stream",
     "text": [
      "/opt/conda/envs/rapids/lib/python3.7/site-packages/sklearn/gaussian_process/kernels.py:271: RuntimeWarning: divide by zero encountered in log\n",
      "  return np.log(np.hstack(theta))\n"
     ]
    },
    {
     "name": "stdout",
     "output_type": "stream",
     "text": [
      "| \u001b[0m 16      \u001b[0m | \u001b[0m 84.58   \u001b[0m | \u001b[0m 0.0     \u001b[0m | \u001b[0m 15.94   \u001b[0m | \u001b[0m 0.0     \u001b[0m | \u001b[0m 6.991   \u001b[0m | \u001b[0m 3.247   \u001b[0m | \u001b[0m 1.0     \u001b[0m | \u001b[0m 3.381   \u001b[0m | \u001b[0m 8.385   \u001b[0m |\n"
     ]
    },
    {
     "name": "stderr",
     "output_type": "stream",
     "text": [
      "/opt/conda/envs/rapids/lib/python3.7/site-packages/sklearn/gaussian_process/kernels.py:271: RuntimeWarning: divide by zero encountered in log\n",
      "  return np.log(np.hstack(theta))\n"
     ]
    },
    {
     "name": "stdout",
     "output_type": "stream",
     "text": [
      "| \u001b[0m 17      \u001b[0m | \u001b[0m 80.62   \u001b[0m | \u001b[0m 0.0     \u001b[0m | \u001b[0m 14.81   \u001b[0m | \u001b[0m 0.0     \u001b[0m | \u001b[0m 2.184   \u001b[0m | \u001b[0m 1.0     \u001b[0m | \u001b[0m 1.0     \u001b[0m | \u001b[0m 8.559   \u001b[0m | \u001b[0m 8.029   \u001b[0m |\n"
     ]
    },
    {
     "name": "stderr",
     "output_type": "stream",
     "text": [
      "/opt/conda/envs/rapids/lib/python3.7/site-packages/sklearn/gaussian_process/kernels.py:271: RuntimeWarning: divide by zero encountered in log\n",
      "  return np.log(np.hstack(theta))\n"
     ]
    },
    {
     "name": "stdout",
     "output_type": "stream",
     "text": [
      "| \u001b[0m 18      \u001b[0m | \u001b[0m 79.08   \u001b[0m | \u001b[0m 0.6462  \u001b[0m | \u001b[0m 15.19   \u001b[0m | \u001b[0m 0.0     \u001b[0m | \u001b[0m 7.281   \u001b[0m | \u001b[0m 1.939   \u001b[0m | \u001b[0m 7.06    \u001b[0m | \u001b[0m 2.534   \u001b[0m | \u001b[0m 8.093   \u001b[0m |\n",
      "| \u001b[0m 19      \u001b[0m | \u001b[0m 79.94   \u001b[0m | \u001b[0m 0.8747  \u001b[0m | \u001b[0m 13.76   \u001b[0m | \u001b[0m 0.991   \u001b[0m | \u001b[0m 6.522   \u001b[0m | \u001b[0m 6.063   \u001b[0m | \u001b[0m 1.867   \u001b[0m | \u001b[0m 5.516   \u001b[0m | \u001b[0m 5.129   \u001b[0m |\n"
     ]
    },
    {
     "name": "stderr",
     "output_type": "stream",
     "text": [
      "/opt/conda/envs/rapids/lib/python3.7/site-packages/sklearn/gaussian_process/kernels.py:271: RuntimeWarning: divide by zero encountered in log\n",
      "  return np.log(np.hstack(theta))\n"
     ]
    },
    {
     "name": "stdout",
     "output_type": "stream",
     "text": [
      "| \u001b[0m 20      \u001b[0m | \u001b[0m 78.49   \u001b[0m | \u001b[0m 0.0     \u001b[0m | \u001b[0m 13.2    \u001b[0m | \u001b[0m 0.0     \u001b[0m | \u001b[0m 8.067   \u001b[0m | \u001b[0m 1.0     \u001b[0m | \u001b[0m 2.094   \u001b[0m | \u001b[0m 6.327   \u001b[0m | \u001b[0m 8.053   \u001b[0m |\n",
      "| \u001b[0m 21      \u001b[0m | \u001b[0m 80.06   \u001b[0m | \u001b[0m 0.7548  \u001b[0m | \u001b[0m 14.58   \u001b[0m | \u001b[0m 0.5118  \u001b[0m | \u001b[0m 6.233   \u001b[0m | \u001b[0m 2.492   \u001b[0m | \u001b[0m 5.906   \u001b[0m | \u001b[0m 6.313   \u001b[0m | \u001b[0m 5.435   \u001b[0m |\n",
      "| \u001b[0m 22      \u001b[0m | \u001b[0m 77.05   \u001b[0m | \u001b[0m 0.6398  \u001b[0m | \u001b[0m 85.62   \u001b[0m | \u001b[0m 3.537   \u001b[0m | \u001b[0m 2.252   \u001b[0m | \u001b[0m 4.368   \u001b[0m | \u001b[0m 6.032   \u001b[0m | \u001b[0m 11.05   \u001b[0m | \u001b[0m 41.2    \u001b[0m |\n",
      "| \u001b[0m 23      \u001b[0m | \u001b[0m 85.15   \u001b[0m | \u001b[0m 0.2604  \u001b[0m | \u001b[0m 12.15   \u001b[0m | \u001b[0m 0.4689  \u001b[0m | \u001b[0m 6.471   \u001b[0m | \u001b[0m 2.653   \u001b[0m | \u001b[0m 3.871   \u001b[0m | \u001b[0m 6.044   \u001b[0m | \u001b[0m 5.446   \u001b[0m |\n",
      "| \u001b[95m 24      \u001b[0m | \u001b[95m 85.85   \u001b[0m | \u001b[95m 0.2558  \u001b[0m | \u001b[95m 8.653   \u001b[0m | \u001b[95m 3.005   \u001b[0m | \u001b[95m 6.436   \u001b[0m | \u001b[95m 2.146   \u001b[0m | \u001b[95m 3.642   \u001b[0m | \u001b[95m 7.068   \u001b[0m | \u001b[95m 4.306   \u001b[0m |\n",
      "| \u001b[95m 25      \u001b[0m | \u001b[95m 85.85   \u001b[0m | \u001b[95m 0.1918  \u001b[0m | \u001b[95m 10.76   \u001b[0m | \u001b[95m 1.636   \u001b[0m | \u001b[95m 6.863   \u001b[0m | \u001b[95m 2.118   \u001b[0m | \u001b[95m 3.714   \u001b[0m | \u001b[95m 7.397   \u001b[0m | \u001b[95m 4.114   \u001b[0m |\n",
      "| \u001b[0m 26      \u001b[0m | \u001b[0m 85.55   \u001b[0m | \u001b[0m 0.2742  \u001b[0m | \u001b[0m 5.411   \u001b[0m | \u001b[0m 1.059   \u001b[0m | \u001b[0m 7.375   \u001b[0m | \u001b[0m 1.907   \u001b[0m | \u001b[0m 3.894   \u001b[0m | \u001b[0m 5.99    \u001b[0m | \u001b[0m 5.031   \u001b[0m |\n",
      "| \u001b[0m 27      \u001b[0m | \u001b[0m 80.63   \u001b[0m | \u001b[0m 0.2464  \u001b[0m | \u001b[0m 7.716   \u001b[0m | \u001b[0m 2.313   \u001b[0m | \u001b[0m 7.373   \u001b[0m | \u001b[0m 3.199   \u001b[0m | \u001b[0m 2.014   \u001b[0m | \u001b[0m 8.942   \u001b[0m | \u001b[0m 2.251   \u001b[0m |\n",
      "| \u001b[0m 28      \u001b[0m | \u001b[0m 85.15   \u001b[0m | \u001b[0m 0.9398  \u001b[0m | \u001b[0m 4.871   \u001b[0m | \u001b[0m 4.449   \u001b[0m | \u001b[0m 8.034   \u001b[0m | \u001b[0m 2.946   \u001b[0m | \u001b[0m 3.628   \u001b[0m | \u001b[0m 6.116   \u001b[0m | \u001b[0m 4.531   \u001b[0m |\n",
      "| \u001b[0m 29      \u001b[0m | \u001b[0m 76.53   \u001b[0m | \u001b[0m 0.2985  \u001b[0m | \u001b[0m 7.845   \u001b[0m | \u001b[0m 4.496   \u001b[0m | \u001b[0m 8.052   \u001b[0m | \u001b[0m 4.581   \u001b[0m | \u001b[0m 6.602   \u001b[0m | \u001b[0m 5.782   \u001b[0m | \u001b[0m 4.865   \u001b[0m |\n",
      "| \u001b[0m 30      \u001b[0m | \u001b[0m 82.6    \u001b[0m | \u001b[0m 0.8896  \u001b[0m | \u001b[0m 8.28    \u001b[0m | \u001b[0m 1.087   \u001b[0m | \u001b[0m 7.155   \u001b[0m | \u001b[0m 1.0     \u001b[0m | \u001b[0m 3.536   \u001b[0m | \u001b[0m 6.315   \u001b[0m | \u001b[0m 4.585   \u001b[0m |\n",
      "| \u001b[0m 31      \u001b[0m | \u001b[0m 85.15   \u001b[0m | \u001b[0m 0.4359  \u001b[0m | \u001b[0m 3.582   \u001b[0m | \u001b[0m 3.248   \u001b[0m | \u001b[0m 8.271   \u001b[0m | \u001b[0m 4.779   \u001b[0m | \u001b[0m 4.429   \u001b[0m | \u001b[0m 7.384   \u001b[0m | \u001b[0m 3.053   \u001b[0m |\n",
      "| \u001b[0m 32      \u001b[0m | \u001b[0m 85.82   \u001b[0m | \u001b[0m 0.06985 \u001b[0m | \u001b[0m 4.181   \u001b[0m | \u001b[0m 2.616   \u001b[0m | \u001b[0m 6.412   \u001b[0m | \u001b[0m 2.959   \u001b[0m | \u001b[0m 3.566   \u001b[0m | \u001b[0m 6.932   \u001b[0m | \u001b[0m 4.237   \u001b[0m |\n",
      "| \u001b[0m 33      \u001b[0m | \u001b[0m 82.81   \u001b[0m | \u001b[0m 0.3396  \u001b[0m | \u001b[0m 9.511   \u001b[0m | \u001b[0m 4.102   \u001b[0m | \u001b[0m 4.867   \u001b[0m | \u001b[0m 2.666   \u001b[0m | \u001b[0m 2.572   \u001b[0m | \u001b[0m 7.848   \u001b[0m | \u001b[0m 6.901   \u001b[0m |\n",
      "| \u001b[0m 34      \u001b[0m | \u001b[0m 80.4    \u001b[0m | \u001b[0m 0.9797  \u001b[0m | \u001b[0m 5.16    \u001b[0m | \u001b[0m 0.2536  \u001b[0m | \u001b[0m 7.974   \u001b[0m | \u001b[0m 1.622   \u001b[0m | \u001b[0m 6.37    \u001b[0m | \u001b[0m 7.386   \u001b[0m | \u001b[0m 4.482   \u001b[0m |\n",
      "| \u001b[0m 35      \u001b[0m | \u001b[0m 83.7    \u001b[0m | \u001b[0m 0.2619  \u001b[0m | \u001b[0m 3.356   \u001b[0m | \u001b[0m 4.028   \u001b[0m | \u001b[0m 7.109   \u001b[0m | \u001b[0m 3.855   \u001b[0m | \u001b[0m 1.199   \u001b[0m | \u001b[0m 7.006   \u001b[0m | \u001b[0m 3.233   \u001b[0m |\n",
      "| \u001b[0m 36      \u001b[0m | \u001b[0m 80.25   \u001b[0m | \u001b[0m 0.934   \u001b[0m | \u001b[0m 15.05   \u001b[0m | \u001b[0m 1.758   \u001b[0m | \u001b[0m 6.915   \u001b[0m | \u001b[0m 1.07    \u001b[0m | \u001b[0m 4.64    \u001b[0m | \u001b[0m 8.79    \u001b[0m | \u001b[0m 12.25   \u001b[0m |\n",
      "| \u001b[0m 37      \u001b[0m | \u001b[0m 84.42   \u001b[0m | \u001b[0m 0.3046  \u001b[0m | \u001b[0m 12.56   \u001b[0m | \u001b[0m 3.343   \u001b[0m | \u001b[0m 3.994   \u001b[0m | \u001b[0m 1.635   \u001b[0m | \u001b[0m 2.815   \u001b[0m | \u001b[0m 7.343   \u001b[0m | \u001b[0m 2.587   \u001b[0m |\n",
      "| \u001b[0m 38      \u001b[0m | \u001b[0m 81.11   \u001b[0m | \u001b[0m 0.7369  \u001b[0m | \u001b[0m 5.917   \u001b[0m | \u001b[0m 2.674   \u001b[0m | \u001b[0m 4.084   \u001b[0m | \u001b[0m 3.262   \u001b[0m | \u001b[0m 2.445   \u001b[0m | \u001b[0m 5.887   \u001b[0m | \u001b[0m 6.362   \u001b[0m |\n",
      "| \u001b[0m 39      \u001b[0m | \u001b[0m 82.51   \u001b[0m | \u001b[0m 0.4815  \u001b[0m | \u001b[0m 4.095   \u001b[0m | \u001b[0m 1.169   \u001b[0m | \u001b[0m 6.073   \u001b[0m | \u001b[0m 5.369   \u001b[0m | \u001b[0m 3.273   \u001b[0m | \u001b[0m 4.983   \u001b[0m | \u001b[0m 2.707   \u001b[0m |\n",
      "| \u001b[0m 40      \u001b[0m | \u001b[0m 81.7    \u001b[0m | \u001b[0m 0.8067  \u001b[0m | \u001b[0m 5.775   \u001b[0m | \u001b[0m 2.642   \u001b[0m | \u001b[0m 8.722   \u001b[0m | \u001b[0m 3.297   \u001b[0m | \u001b[0m 2.366   \u001b[0m | \u001b[0m 6.888   \u001b[0m | \u001b[0m 4.716   \u001b[0m |\n",
      "=========================================================================================================================\n",
      "85.84636649408388\n",
      "Prev Inven : 2, Var Sale : 7, Var Product : 4\n"
     ]
    }
   ],
   "source": [
    "dt_current = (dt_table.index[dt_table['ww'] == current].tolist()[0])-1\n",
    "pred_ww = dt_table['ww'].loc[dt_current+1:].values.tolist()\n",
    "opt_set = d_set.iloc[:d_set.index[d_set['ww'] == dt_table.loc[dt_current].values.tolist()[0]][0]+1,:]\n",
    "\n",
    "warnings.filterwarnings(action='ignore', category=UserWarning)\n",
    "param_bound = {'theta1' : (0, 10), 'g_alpha' : (0.0,0.99) , 'k_dot' : (0, 100), 'w_noise' : (0.0, 100), 'rbf_l' : (0, 10), \n",
    "               'tmp_prev_inven_col' : (1,8), 'tmp_var_sale_col' : (1, 12), 'tmp_var_product_col' : (1, 12)}\n",
    "\n",
    "product_optimizer = BayesianOptimization(f=h_opt, pbounds=param_bound, verbose=2, random_state=1)\n",
    "product_optimizer.maximize(init_points=10, n_iter=30)\n",
    "print(product_optimizer.max['target'])\n",
    "\n",
    "g_alpha = product_optimizer.max['params']['g_alpha']\n",
    "k_dot = product_optimizer.max['params']['k_dot']\n",
    "rbf_l = product_optimizer.max['params']['rbf_l']\n",
    "theta1 =product_optimizer.max['params']['theta1']\n",
    "prev_inven_col = round(product_optimizer.max['params']['tmp_prev_inven_col'])\n",
    "var_product_col = round(product_optimizer.max['params']['tmp_var_product_col'])\n",
    "var_sale_col = round(product_optimizer.max['params']['tmp_var_sale_col'])\n",
    "w_noise = product_optimizer.max['params']['w_noise']\n",
    "print(\"Prev Inven : %d, Var Sale : %d, Var Product : %d\"%(prev_inven_col, var_sale_col, var_product_col))\n",
    "\n",
    "train_set = opt_set\n",
    "\n",
    "prev_inven_name   = [s for s in train_set.columns.values if 'prev_inven_' in s]    \n",
    "var_sale_name     = [s for s in train_set.columns.values if 'sales_prev_' in s]\n",
    "var_product_name  = [s for s in train_set.columns.values if 'product_prev_' in s]\n",
    "train_x_name = prev_inven_name[:prev_inven_col]+var_sale_name[:var_sale_col]+var_product_name[:var_product_col]\n",
    "kernel =  theta1 * RBF(rbf_l) + WhiteKernel(w_noise)  + DotProduct(k_dot) ## RBF(2) + WhiteKernel(1)  + \n",
    "gp = GaussianProcessRegressor(kernel=kernel, alpha=g_alpha, n_restarts_optimizer=3)\n",
    "gp.fit(train_set[train_x_name], train_set['inven'])\n",
    "\n",
    "train_pred, train_sigma = gp.predict(train_set[train_x_name], return_std=True)\n",
    " "
   ]
  },
  {
   "cell_type": "code",
   "execution_count": 10,
   "id": "a743f2f6",
   "metadata": {},
   "outputs": [],
   "source": [
    "current_ind = prod_plan.index[prod_plan['ww'] == current].tolist()[0]\n",
    "for i in range(0,var_product_col):\n",
    "    #print(prod_plan.loc[current_ind-i])\n",
    "    tmp_split = [x.split(\":\") for x in prod_plan['target_ww'].loc[current_ind-i].split(\"/\")]\n",
    "    tmp_split_df = pd.DataFrame(tmp_split)\n",
    "    tmp_split_df.columns = ['ww', 'product_prev'+str(i+1)]\n",
    "    tmp_ww_ind = [tmp_split_df['ww'].values.tolist().index(str(x)) for i, x in enumerate(pred_ww) if str(x) in tmp_split_df['ww'].values]\n",
    "    tmp_prod_plan_test = tmp_split_df.iloc[tmp_ww_ind,:].reset_index(drop=True)    \n",
    "    if i == 0 :\n",
    "        prod_plan_test = tmp_prod_plan_test\n",
    "    else:\n",
    "        prod_plan_test = pd.merge(prod_plan_test, tmp_prod_plan_test, how='inner', on='ww')\n",
    "        \n",
    "current_ind = sale_plan.index[sale_plan['ww'] == dt_table['ww'].loc[dt_current-2]].tolist()[0]\n",
    "#current_ind = sale_plan.index[sale_plan['ww'] == current].tolist()[0]\n",
    "for i in range(0,var_sale_col):\n",
    "    #print(prod_plan.loc[current_ind-i])\n",
    "    tmp_split = [x.split(\":\") for x in sale_plan['target_ww'].loc[current_ind-i].split(\"/\")]\n",
    "    tmp_split_df = pd.DataFrame(tmp_split)\n",
    "    tmp_split_df.columns = ['ww', 'sales_prev'+str(i+1)]    \n",
    "    tmp_split_df['ww'] = [str(dt_table['ww'].loc[dt_table.index[dt_table['ww']==int(tmp_split_df['ww'][x])].tolist()[0]+2]) for x in range(0, tmp_split_df.shape[0])]    \n",
    "    tmp_ww_ind = [tmp_split_df['ww'].values.tolist().index(str(x)) for i, x in enumerate(pred_ww) if str(x) in tmp_split_df['ww'].values]    \n",
    "    tmp_sale_plan_test = tmp_split_df.iloc[tmp_ww_ind,:].reset_index(drop=True)      \n",
    "    if i == 0 :\n",
    "        sale_plan_test = tmp_sale_plan_test\n",
    "    else:\n",
    "        sale_plan_test = pd.merge(sale_plan_test, tmp_sale_plan_test, how='left', on='ww')\n",
    "test_x = pd.merge(sale_plan_test, prod_plan_test, how='inner', on='ww')\n",
    "test_x = test_x.astype('float')\n",
    "test_x = test_x.astype({'ww': 'int'})       \n",
    "\n",
    "test_inven_init = np.array(train_set[['inven']+['prev_inven_'+str(x) for x in range(1,prev_inven_col)]][train_set['ww']==dt_table['ww'].loc[dt_current]]).reshape(-1)\n",
    "rslt_set, test_pred, test_sigma = [], [], []\n",
    "for i in range(0, test_x.shape[0]):    \n",
    "    tmp_pred_inven_mean, tmp_pred_inven_std = gp.predict(np.concatenate([test_inven_init, test_x.iloc[i,1:]]).reshape(1,-1), return_std=True)\n",
    "    test_pred.append(tmp_pred_inven_mean[0])\n",
    "    test_sigma.append(tmp_pred_inven_std[0])\n",
    "    tmp_rslt = np.concatenate([tmp_pred_inven_mean, test_inven_init, test_x.iloc[i,1:]])\n",
    "    test_inven_init = np.insert(test_inven_init, 0, tmp_pred_inven_mean)[:prev_inven_col]\n",
    "    rslt_set.append(tmp_rslt)\n",
    "rslt_set = pd.DataFrame(rslt_set)\n",
    "rslt_set['ww'] = test_x['ww']\n",
    "ww_col = rslt_set.columns[-1:].to_list()\n",
    "x_col = rslt_set.columns[:-1].to_list()\n",
    "set_col = ww_col + x_col\n",
    "rslt_set = rslt_set[set_col]\n",
    "rslt_set.columns = list(['ww','pred_inven'])+train_x_name #total_set.columns\n",
    "\n",
    "tmp_train_set = train_set[['ww','inven']].copy()\n",
    "tmp_train_set['inven_pred'] = train_pred\n",
    "tmp_train_set.head()\n",
    "tmp_test_set = pd.DataFrame({'ww' :  pred_ww[:len(test_pred)], \n",
    "                             'inven' : np.repeat(-999, len(test_pred)),\n",
    "                             'inven_pred' : test_pred})\n",
    "tmp_day_set = pd.concat([tmp_train_set, tmp_test_set])\n",
    "tmp_day_set = tmp_day_set.reset_index(drop=True)\n",
    "\n",
    "tmp_train_sale = pd.merge(train_set['ww'], sale_rslt[['ww','sale']], how='inner', on='ww')\n",
    "tmp_test_sale = pd.DataFrame([x.split(':') for x in sale_plan['target_ww'][sale_plan['ww']==current].values.tolist()[0].split('/')])\n",
    "tmp_test_sale.columns = ['ww', 'sale']\n",
    "tmp_sale = pd.concat([tmp_train_sale, tmp_test_sale])\n",
    "tmp_sale = tmp_sale.astype({'ww': 'int'})  \n",
    "day_set = pd.merge(tmp_day_set, tmp_sale, how='inner', on='ww')\n",
    "day_set = day_set.astype({'sale' : 'float'})\n",
    "inven_d = []\n",
    "for i in range(0, day_set.shape[0]):\n",
    "    if i > 0 and i < day_set.shape[0]-3:\n",
    "        tmp_sale_avg = np.mean(day_set['sale'][i:(i+4)].values)\n",
    "        if i < day_set[day_set['ww'] == current].index[0] :\n",
    "            tmp_inven = day_set['inven'][i-1]    \n",
    "        else:\n",
    "            tmp_inven = day_set['inven_pred'][i-1]    \n",
    "        inven_d.append(round(tmp_inven / tmp_sale_avg * 6.76,1))\n",
    "    else:\n",
    "        inven_d.append(0)\n",
    "day_set['inven_d'] = inven_d\n"
   ]
  },
  {
   "cell_type": "raw",
   "id": "992b8578",
   "metadata": {},
   "source": [
    "insert_day_sql = \"insert into inven_day values (%s, %s)\"\n",
    "conn = _call_db_info('gscm_e61d')\n",
    "curs = conn.cursor()\n",
    "inven_day_rslt = [current, str('/'.join(list(map(lambda x : ':'.join([str(x) for x in day_set.loc[x]]), range(0, day_set.shape[0])))))]\n",
    "curs.execute(insert_day_sql, inven_day_rslt) \n",
    "conn.commit()\n",
    "conn.close()"
   ]
  },
  {
   "cell_type": "code",
   "execution_count": 13,
   "id": "46da5c93",
   "metadata": {},
   "outputs": [
    {
     "data": {
      "text/plain": [
       "Index(['ww', 'inven', 'inven_pred', 'sale', 'inven_d'], dtype='object')"
      ]
     },
     "execution_count": 13,
     "metadata": {},
     "output_type": "execute_result"
    }
   ],
   "source": [
    "day_set.columns"
   ]
  },
  {
   "cell_type": "code",
   "execution_count": 14,
   "id": "edad81af",
   "metadata": {},
   "outputs": [],
   "source": [
    "inven_history = day_set['inven'].replace(-999, np.nan)\n",
    "inven_predict = day_set['inven_pred']"
   ]
  },
  {
   "cell_type": "code",
   "execution_count": 15,
   "id": "e4dffb4a",
   "metadata": {},
   "outputs": [
    {
     "data": {
      "text/plain": [
       "<matplotlib.lines.Line2D at 0x7fab695a3510>"
      ]
     },
     "execution_count": 15,
     "metadata": {},
     "output_type": "execute_result"
    },
    {
     "data": {
      "image/png": "[encoded data removed]",
      "text/plain": [
       "<Figure size 2160x720 with 1 Axes>"
      ]
     },
     "metadata": {
      "needs_background": "light"
     },
     "output_type": "display_data"
    }
   ],
   "source": [
    "plt.figure(figsize=(30,10))\n",
    "plt.plot(inven_history, color='blue', marker='o')\n",
    "plt.plot(inven_predict, color='red', linestyle='dashed', marker='o')\n",
    "plt.axvline(len(train_set['inven'])-1, c='k')\n",
    "plt.axvline(len(d_set['inven'])-1, c='k')"
   ]
  },
  {
   "cell_type": "code",
   "execution_count": 24,
   "id": "d8460b20",
   "metadata": {},
   "outputs": [
    {
     "name": "stdout",
     "output_type": "stream",
     "text": [
      "101\n",
      "101\n",
      "97     865309.993043\n",
      "98     804837.225842\n",
      "99     900140.143889\n",
      "100    103954.393295\n",
      "Name: inven_pred, dtype: float64\n"
     ]
    },
    {
     "data": {
      "text/plain": [
       "ww            202150.000000\n",
       "inven           -999.000000\n",
       "inven_pred    103954.393295\n",
       "sale          192620.000000\n",
       "inven_d            0.000000\n",
       "Name: 100, dtype: float64"
      ]
     },
     "execution_count": 24,
     "metadata": {},
     "output_type": "execute_result"
    }
   ],
   "source": [
    "print(len(inven_predict))\n",
    "print(len(inven_history))\n",
    "print(inven_predict[97:101]) \n",
    "day_set.loc[100]"
   ]
  },
  {
   "cell_type": "code",
   "execution_count": null,
   "id": "0b17a7a3",
   "metadata": {},
   "outputs": [],
   "source": []
  }
 ],
 "metadata": {
  "kernelspec": {
   "display_name": "Python 3 (ipykernel)",
   "language": "python",
   "name": "python3"
  },
  "language_info": {
   "codemirror_mode": {
    "name": "ipython",
    "version": 3
   },
   "file_extension": ".py",
   "mimetype": "text/x-python",
   "name": "python",
   "nbconvert_exporter": "python",
   "pygments_lexer": "ipython3",
   "version": "3.9.5"
  }
 },
 "nbformat": 4,
 "nbformat_minor": 5
}
