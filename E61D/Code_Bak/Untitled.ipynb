{
 "cells": [
  {
   "cell_type": "code",
   "execution_count": 1,
   "id": "f80fdffb",
   "metadata": {},
   "outputs": [],
   "source": [
    "import streamlit as st\n",
    "import pandas as pd\n",
    "import numpy as np\n",
    "import pymysql\n",
    "import matplotlib.pyplot as plt\n",
    "import plotly.figure_factory as ff\n",
    "import plotly.graph_objects as go\n",
    "import plotly.express as px\n",
    "\n",
    "def _call_db_info(db_table):\n",
    "    return pymysql.connect(\n",
    "        host = '10.94.77.9',\n",
    "        port= 13306,\n",
    "        user = 'dxbot1',\n",
    "        password='ensol2020!',\n",
    "        db = db_table,\n",
    "        charset = 'utf8')"
   ]
  },
  {
   "cell_type": "code",
   "execution_count": 2,
   "id": "bb544748",
   "metadata": {},
   "outputs": [],
   "source": [
    "conn = _call_db_info(\"gscm_e61d\")\n",
    "read = conn.cursor()\n",
    "tmp_rslt_sql = \"select * from inven_day where ww=202101\"\n",
    "tmp_ref_sql = \"select  ww, inven from inven_rslt where ww >= 202101\"\n",
    "tmp_lt_sql = \"select * from lt_day\"\n",
    "read.execute(tmp_rslt_sql)    \n",
    "inven_d = pd.DataFrame(read.fetchall())\n",
    "read.execute(tmp_ref_sql)\n",
    "inven = pd.DataFrame(read.fetchall())\n",
    "read.execute(tmp_lt_sql)\n",
    "lt_d = pd.DataFrame(read.fetchall())   \n",
    "read.close()\n",
    "\n",
    "inven.columns = ['ww', 'inven_true']\n",
    "inven = inven.astype({'ww' : 'str'})\n",
    "lt_d.columns = ['ww', 'lt_d']\n",
    "lt_d = lt_d.astype({'ww' : 'str'})\n",
    "\n",
    "tmp_inven_day_rslt = [x.split(\":\") for x in inven_d[1].values.tolist()[0].split('/')]\n",
    "tmp_inven_day_rslt = pd.DataFrame(tmp_inven_day_rslt)\n",
    "tmp_inven_day_rslt.columns = ['ww', 'inven', 'inven_pred', 'sale', 'day']\n",
    "inven_day_rslt = tmp_inven_day_rslt[['inven', 'inven_pred', 'sale', 'day']]\n",
    "inven_day_rslt = inven_day_rslt.astype('float')\n",
    "inven_day_rslt['ww'] = [x[:6] for x in tmp_inven_day_rslt['ww']]\n",
    "inven_day_rslt['inven'] = inven_day_rslt['inven'].replace(-999, np.nan)\n",
    "tmp_s = inven_day_rslt.index[inven_day_rslt['ww'] == '202101'][0]\n",
    "tmp_e = inven_day_rslt.shape[0]"
   ]
  },
  {
   "cell_type": "code",
   "execution_count": 5,
   "id": "6bce77dd",
   "metadata": {},
   "outputs": [],
   "source": [
    "inven_merge = pd.merge(inven_day_rslt, inven, how='left', on='ww')#[inven['ww'] >= 202101]\n",
    "col1 = np.where(inven_merge.columns.values == 'inven')[0][0]\n",
    "col2 = np.where(inven_merge.columns.values == 'inven_true')[0][0]\n",
    "inven_merge.iloc[tmp_s-1, col2] =inven_merge.iloc[tmp_s-1, col1]\n",
    "inven_merge1 = pd.merge(inven_merge, lt_d, how='left', on='ww')"
   ]
  },
  {
   "cell_type": "code",
   "execution_count": 10,
   "id": "5a57626a",
   "metadata": {
    "scrolled": true
   },
   "outputs": [],
   "source": [
    "inven_merge1['drive_day'] = [2] * inven_merge1.shape[0]"
   ]
  },
  {
   "cell_type": "code",
   "execution_count": 11,
   "id": "ae13047c",
   "metadata": {},
   "outputs": [
    {
     "data": {
      "text/html": [
       "<div>\n",
       "<style scoped>\n",
       "    .dataframe tbody tr th:only-of-type {\n",
       "        vertical-align: middle;\n",
       "    }\n",
       "\n",
       "    .dataframe tbody tr th {\n",
       "        vertical-align: top;\n",
       "    }\n",
       "\n",
       "    .dataframe thead th {\n",
       "        text-align: right;\n",
       "    }\n",
       "</style>\n",
       "<table border=\"1\" class=\"dataframe\">\n",
       "  <thead>\n",
       "    <tr style=\"text-align: right;\">\n",
       "      <th></th>\n",
       "      <th>inven</th>\n",
       "      <th>inven_pred</th>\n",
       "      <th>sale</th>\n",
       "      <th>day</th>\n",
       "      <th>ww</th>\n",
       "      <th>inven_true</th>\n",
       "      <th>lt_d</th>\n",
       "      <th>drive_day</th>\n",
       "    </tr>\n",
       "  </thead>\n",
       "  <tbody>\n",
       "    <tr>\n",
       "      <th>0</th>\n",
       "      <td>595718.0</td>\n",
       "      <td>626556.809799</td>\n",
       "      <td>120960.0</td>\n",
       "      <td>0.0</td>\n",
       "      <td>202003</td>\n",
       "      <td>NaN</td>\n",
       "      <td>0.4</td>\n",
       "      <td>2</td>\n",
       "    </tr>\n",
       "    <tr>\n",
       "      <th>1</th>\n",
       "      <td>561899.0</td>\n",
       "      <td>601158.820831</td>\n",
       "      <td>120960.0</td>\n",
       "      <td>42.7</td>\n",
       "      <td>202004</td>\n",
       "      <td>NaN</td>\n",
       "      <td>0.8</td>\n",
       "      <td>2</td>\n",
       "    </tr>\n",
       "    <tr>\n",
       "      <th>2</th>\n",
       "      <td>592359.0</td>\n",
       "      <td>595071.541687</td>\n",
       "      <td>105840.0</td>\n",
       "      <td>37.3</td>\n",
       "      <td>202005</td>\n",
       "      <td>NaN</td>\n",
       "      <td>0.3</td>\n",
       "      <td>2</td>\n",
       "    </tr>\n",
       "    <tr>\n",
       "      <th>3</th>\n",
       "      <td>626276.0</td>\n",
       "      <td>607479.543640</td>\n",
       "      <td>74844.0</td>\n",
       "      <td>38.0</td>\n",
       "      <td>202006</td>\n",
       "      <td>NaN</td>\n",
       "      <td>0.0</td>\n",
       "      <td>2</td>\n",
       "    </tr>\n",
       "    <tr>\n",
       "      <th>4</th>\n",
       "      <td>537030.0</td>\n",
       "      <td>544863.231537</td>\n",
       "      <td>75600.0</td>\n",
       "      <td>36.3</td>\n",
       "      <td>202007</td>\n",
       "      <td>NaN</td>\n",
       "      <td>0.0</td>\n",
       "      <td>2</td>\n",
       "    </tr>\n",
       "    <tr>\n",
       "      <th>...</th>\n",
       "      <td>...</td>\n",
       "      <td>...</td>\n",
       "      <td>...</td>\n",
       "      <td>...</td>\n",
       "      <td>...</td>\n",
       "      <td>...</td>\n",
       "      <td>...</td>\n",
       "      <td>...</td>\n",
       "    </tr>\n",
       "    <tr>\n",
       "      <th>96</th>\n",
       "      <td>NaN</td>\n",
       "      <td>869141.410469</td>\n",
       "      <td>325080.0</td>\n",
       "      <td>23.6</td>\n",
       "      <td>202146</td>\n",
       "      <td>NaN</td>\n",
       "      <td>0.0</td>\n",
       "      <td>2</td>\n",
       "    </tr>\n",
       "    <tr>\n",
       "      <th>97</th>\n",
       "      <td>NaN</td>\n",
       "      <td>820963.256335</td>\n",
       "      <td>325080.0</td>\n",
       "      <td>26.0</td>\n",
       "      <td>202147</td>\n",
       "      <td>NaN</td>\n",
       "      <td>0.0</td>\n",
       "      <td>2</td>\n",
       "    </tr>\n",
       "    <tr>\n",
       "      <th>98</th>\n",
       "      <td>NaN</td>\n",
       "      <td>778585.075223</td>\n",
       "      <td>192628.0</td>\n",
       "      <td>0.0</td>\n",
       "      <td>202148</td>\n",
       "      <td>NaN</td>\n",
       "      <td>0.0</td>\n",
       "      <td>2</td>\n",
       "    </tr>\n",
       "    <tr>\n",
       "      <th>99</th>\n",
       "      <td>NaN</td>\n",
       "      <td>890981.081762</td>\n",
       "      <td>192620.0</td>\n",
       "      <td>0.0</td>\n",
       "      <td>202149</td>\n",
       "      <td>NaN</td>\n",
       "      <td>0.0</td>\n",
       "      <td>2</td>\n",
       "    </tr>\n",
       "    <tr>\n",
       "      <th>100</th>\n",
       "      <td>NaN</td>\n",
       "      <td>267962.062417</td>\n",
       "      <td>192620.0</td>\n",
       "      <td>0.0</td>\n",
       "      <td>202150</td>\n",
       "      <td>NaN</td>\n",
       "      <td>0.0</td>\n",
       "      <td>2</td>\n",
       "    </tr>\n",
       "  </tbody>\n",
       "</table>\n",
       "<p>101 rows × 8 columns</p>\n",
       "</div>"
      ],
      "text/plain": [
       "        inven     inven_pred      sale   day      ww  inven_true  lt_d  \\\n",
       "0    595718.0  626556.809799  120960.0   0.0  202003         NaN   0.4   \n",
       "1    561899.0  601158.820831  120960.0  42.7  202004         NaN   0.8   \n",
       "2    592359.0  595071.541687  105840.0  37.3  202005         NaN   0.3   \n",
       "3    626276.0  607479.543640   74844.0  38.0  202006         NaN   0.0   \n",
       "4    537030.0  544863.231537   75600.0  36.3  202007         NaN   0.0   \n",
       "..        ...            ...       ...   ...     ...         ...   ...   \n",
       "96        NaN  869141.410469  325080.0  23.6  202146         NaN   0.0   \n",
       "97        NaN  820963.256335  325080.0  26.0  202147         NaN   0.0   \n",
       "98        NaN  778585.075223  192628.0   0.0  202148         NaN   0.0   \n",
       "99        NaN  890981.081762  192620.0   0.0  202149         NaN   0.0   \n",
       "100       NaN  267962.062417  192620.0   0.0  202150         NaN   0.0   \n",
       "\n",
       "     drive_day  \n",
       "0            2  \n",
       "1            2  \n",
       "2            2  \n",
       "3            2  \n",
       "4            2  \n",
       "..         ...  \n",
       "96           2  \n",
       "97           2  \n",
       "98           2  \n",
       "99           2  \n",
       "100          2  \n",
       "\n",
       "[101 rows x 8 columns]"
      ]
     },
     "execution_count": 11,
     "metadata": {},
     "output_type": "execute_result"
    }
   ],
   "source": [
    "inven_merge1"
   ]
  },
  {
   "cell_type": "code",
   "execution_count": 14,
   "id": "782e783b",
   "metadata": {},
   "outputs": [
    {
     "data": {
      "text/plain": [
       "inven         float64\n",
       "inven_pred    float64\n",
       "sale          float64\n",
       "day           float64\n",
       "ww             object\n",
       "inven_true    float64\n",
       "dtype: object"
      ]
     },
     "execution_count": 14,
     "metadata": {},
     "output_type": "execute_result"
    }
   ],
   "source": [
    "inven_merge.dtypes\n",
    "#lt_d.dtypes"
   ]
  },
  {
   "cell_type": "code",
   "execution_count": 85,
   "id": "7cceb528",
   "metadata": {},
   "outputs": [
    {
     "data": {
      "text/plain": [
       "False"
      ]
     },
     "execution_count": 85,
     "metadata": {},
     "output_type": "execute_result"
    }
   ],
   "source": [
    "inven_day_rslt['ww'].loc[52] == inven['ww'].loc[1]"
   ]
  },
  {
   "cell_type": "code",
   "execution_count": 86,
   "id": "d590af7c",
   "metadata": {},
   "outputs": [
    {
     "data": {
      "text/plain": [
       "202102"
      ]
     },
     "execution_count": 86,
     "metadata": {},
     "output_type": "execute_result"
    }
   ],
   "source": [
    "inven['ww'].loc[1]"
   ]
  },
  {
   "cell_type": "code",
   "execution_count": 88,
   "id": "e786a026",
   "metadata": {},
   "outputs": [
    {
     "data": {
      "text/plain": [
       "inven         float64\n",
       "inven_pred    float64\n",
       "sale          float64\n",
       "day           float64\n",
       "ww             object\n",
       "dtype: object"
      ]
     },
     "execution_count": 88,
     "metadata": {},
     "output_type": "execute_result"
    }
   ],
   "source": [
    "inven_day_rslt.dtypes"
   ]
  },
  {
   "cell_type": "code",
   "execution_count": null,
   "id": "e113cf7b",
   "metadata": {},
   "outputs": [],
   "source": []
  }
 ],
 "metadata": {
  "kernelspec": {
   "display_name": "Python 3",
   "language": "python",
   "name": "python3"
  },
  "language_info": {
   "codemirror_mode": {
    "name": "ipython",
    "version": 3
   },
   "file_extension": ".py",
   "mimetype": "text/x-python",
   "name": "python",
   "nbconvert_exporter": "python",
   "pygments_lexer": "ipython3",
   "version": "3.7.10"
  }
 },
 "nbformat": 4,
 "nbformat_minor": 5
}
