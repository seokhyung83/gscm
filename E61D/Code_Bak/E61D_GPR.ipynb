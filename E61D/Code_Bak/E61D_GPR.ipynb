{
 "cells": [
  {
   "cell_type": "code",
   "execution_count": 1,
   "id": "2903846a",
   "metadata": {},
   "outputs": [],
   "source": [
    "import os, random, time, pymysql\n",
    "import xgboost\n",
    "import datetime\n",
    "\n",
    "import numpy as np\n",
    "import pandas as pd\n",
    "import matplotlib.pyplot as plt\n",
    "\n",
    "#from fbprophet import Prophet\n",
    "from sklearn.linear_model import LinearRegression as LR\n",
    "from sklearn.kernel_ridge import KernelRidge as KR\n",
    "from sklearn.linear_model import Ridge, ElasticNet, BayesianRidge, Lars, Lasso\n",
    "from sklearn.ensemble import RandomForestRegressor as RF\n",
    "\n",
    "from sklearn.metrics import r2_score\n",
    "from sklearn.gaussian_process import GaussianProcessRegressor as gpr\n",
    "from sklearn.gaussian_process.kernels import RBF, DotProduct, WhiteKernel\n",
    "\n",
    "import warnings\n",
    "\n",
    "from bayes_opt import BayesianOptimization\n",
    "\n",
    "from sklearn.gaussian_process import GaussianProcessRegressor\n",
    "from sklearn.gaussian_process.kernels import RBF, ConstantKernel as C"
   ]
  },
  {
   "cell_type": "code",
   "execution_count": 2,
   "id": "abb67551",
   "metadata": {
    "tags": []
   },
   "outputs": [],
   "source": [
    "def _call_db_info(db_name):\n",
    "    return pymysql.connect(\n",
    "        host = '10.94.77.9',\n",
    "        port= 13306,\n",
    "        user = 'dxbot1',\n",
    "        password='ensol2020!',\n",
    "        db = db_name,\n",
    "        charset = 'utf8')\n",
    "\n",
    "def h_opt(theta1, g_alpha, k_dot, w_noise, rbf_l, tmp_prev_inven_col, tmp_var_sale_col, tmp_var_product_col):\n",
    "    prev_inven_col = round(tmp_prev_inven_col)\n",
    "    var_sale_col, var_product_col = round(tmp_var_sale_col), round(tmp_var_product_col)     \n",
    "    \n",
    "    train_set = opt_set[:-4].reset_index(drop=True)\n",
    "    valid_set = opt_set[-4:].reset_index(drop=True)\n",
    "    prev_inven_name   = [s for s in train_set.columns.values if 'prev_inven_' in s]    \n",
    "    var_sale_name     = [s for s in train_set.columns.values if 'sales_prev_' in s]\n",
    "    var_product_name  = [s for s in train_set.columns.values if 'product_prev_' in s]    \n",
    "    train_x_name = prev_inven_name[:prev_inven_col]+var_sale_name[:var_sale_col]+var_product_name[:var_product_col]\n",
    "    kernel =  theta1 * RBF(rbf_l) + WhiteKernel(w_noise)  + DotProduct(k_dot) ## RBF(2) + WhiteKernel(1)  + \n",
    "    gp = GaussianProcessRegressor(kernel=kernel, alpha=g_alpha, n_restarts_optimizer=3)\n",
    "    gp.fit(train_set[train_x_name], train_set['inven'])\n",
    "    \n",
    "    train_pred, train_sigma = gp.predict(train_set[train_x_name], return_std=True)\n",
    "    valid_pred, valid_sigma = gp.predict(valid_set[train_x_name], return_std=True)\n",
    "    x_pred_ = np.concatenate((train_pred, valid_pred)) \n",
    "    y_ = np.concatenate((train_set['inven'], valid_set['inven'])) \n",
    "\n",
    "    real_ = np.mean(np.ones_like(train_set['inven']) - np.clip(np.abs(train_set['inven'] - train_pred) / train_set['inven'] , 0, 1)) * 100     \n",
    "    fcst_ = np.mean(np.ones_like(valid_set['inven']) - np.clip(np.abs(valid_set['inven'] - valid_pred) / valid_set['inven'] , 0, 1)) * 100    \n",
    "    return fcst_    "
   ]
  },
  {
   "cell_type": "code",
   "execution_count": 3,
   "id": "b85bba8c",
   "metadata": {
    "tags": []
   },
   "outputs": [],
   "source": [
    "dt_sql        = \"select * from dt_table\"\n",
    "inven_sql     = \"select * from inven_rslt\"\n",
    "prod_plan_sql = \"select * from prod_plan\"\n",
    "prod_rslt_sql = \"select * from prod_rslt\"\n",
    "prod_prev_sql = \"select * from prod_prev\"\n",
    "\n",
    "sale_plan_sql = \"select * from sale_plan\"\n",
    "sale_rslt_sql = \"select * from sale_rslt\"\n",
    "sale_prev_sql = \"select * from sale_prev\"\n",
    "\n",
    "conn = _call_db_info('gscm_e61d')\n",
    "curs = conn.cursor()\n",
    "curs.execute(dt_sql) \n",
    "dt_table = pd.DataFrame(curs.fetchall())\n",
    "dt_table.columns = ['ww']\n",
    "curs.execute(\"select column_name from information_schema.columns where table_name='inven_rslt' and table_schema='gscm_e61d'\")\n",
    "tmp_col = pd.DataFrame(curs.fetchall())\n",
    "curs.execute(inven_sql) \n",
    "y_inven = pd.DataFrame(curs.fetchall())\n",
    "y_inven.columns = tmp_col[0].values.tolist()\n",
    "\n",
    "curs.execute(\"select column_name from information_schema.columns where table_name='prod_plan' and table_schema='gscm_e61d'\")\n",
    "tmp_col = pd.DataFrame(curs.fetchall())\n",
    "curs.execute(prod_plan_sql)\n",
    "prod_plan = pd.DataFrame(curs.fetchall())\n",
    "prod_plan.columns = tmp_col[0].values.tolist()\n",
    "\n",
    "curs.execute(\"select column_name from information_schema.columns where table_name='prod_rslt' and table_schema='gscm_e61d'\")\n",
    "tmp_col = pd.DataFrame(curs.fetchall())\n",
    "curs.execute(prod_rslt_sql)\n",
    "prod_rslt = pd.DataFrame(curs.fetchall())\n",
    "prod_rslt.columns = tmp_col[0].values.tolist()\n",
    "\n",
    "curs.execute(\"select column_name from information_schema.columns where table_name='prod_prev' and table_schema='gscm_e61d'\")\n",
    "tmp_col = pd.DataFrame(curs.fetchall())\n",
    "curs.execute(prod_prev_sql)\n",
    "prod_prev = pd.DataFrame(curs.fetchall())\n",
    "prod_prev.columns = tmp_col[0].values.tolist()\n",
    "\n",
    "\n",
    "curs.execute(\"select column_name from information_schema.columns where table_name='sale_plan' and table_schema='gscm_e61d'\")\n",
    "tmp_col = pd.DataFrame(curs.fetchall())\n",
    "curs.execute(sale_plan_sql)\n",
    "sale_plan = pd.DataFrame(curs.fetchall())\n",
    "sale_plan.columns = tmp_col[0].values.tolist()\n",
    "\n",
    "curs.execute(\"select column_name from information_schema.columns where table_name='sale_rslt' and table_schema='gscm_e61d'\")\n",
    "tmp_col = pd.DataFrame(curs.fetchall())\n",
    "curs.execute(sale_rslt_sql)\n",
    "sale_rslt = pd.DataFrame(curs.fetchall())\n",
    "sale_rslt.columns = tmp_col[0].values.tolist()\n",
    "\n",
    "curs.execute(\"select column_name from information_schema.columns where table_name='sale_prev' and table_schema='gscm_e61d'\")\n",
    "tmp_col = pd.DataFrame(curs.fetchall())\n",
    "curs.execute(sale_prev_sql)\n",
    "sale_prev = pd.DataFrame(curs.fetchall())\n",
    "sale_prev.columns = tmp_col[0].values.tolist()\n",
    "\n",
    "\n",
    "conn.commit()\n",
    "conn.close()"
   ]
  },
  {
   "cell_type": "code",
   "execution_count": 4,
   "id": "81c33055",
   "metadata": {},
   "outputs": [],
   "source": [
    "product_prev = []\n",
    "tmp_prod_prev_ = [x.split('/') for x in prod_prev['target_ww']]\n",
    "for i in range(0, prod_prev.shape[0]):\n",
    "    tmp_ww = prod_prev['ww'].loc[i]\n",
    "    tmp_s =  dt_table.index[dt_table['ww']==tmp_ww].tolist()[0]#-12\n",
    "    tmp_split = pd.DataFrame([x.split(':') for x in tmp_prod_prev_[i]])\n",
    "    if tmp_split.shape[1] > 1:\n",
    "        tmp_split.columns = ['ww','qty']\n",
    "\n",
    "        tmp_prev_qty = []\n",
    "        for k in range(1, 13):\n",
    "            if any(str(dt_table['ww'].loc[tmp_s-k]) == tmp_split['ww']):\n",
    "                tmp_ind = [i for i, x in enumerate(str(dt_table['ww'].loc[tmp_s-k]) == tmp_split['ww']) if x]    \n",
    "                tmp_prev_qty.append(float(tmp_split['qty'].loc[tmp_ind].values[0]))\n",
    "            else:\n",
    "                tmp_prev_qty.append(0.0)\n",
    "        tmp_product_prev = prod_prev[['ww','date']].loc[i].values.tolist() + tmp_prev_qty\n",
    "        product_prev.append(tmp_product_prev)\n",
    "product_prev = pd.DataFrame(product_prev)\n",
    "product_prev.columns = ['ww', 'date'] + ['product_prev_'+ str(x) for x in range(1,13)]\n",
    "product_prev = product_prev.drop(['date'], axis=1)\n",
    "\n",
    "sales_prev = []\n",
    "tmp_sale_prev_ = [x.split('/') for x in sale_prev['target_ww']]\n",
    "for i in range(0, sale_prev.shape[0]):    \n",
    "    tmp_ww = sale_prev['ww'].loc[i]    \n",
    "    tmp_s =  dt_table.index[dt_table['ww']==tmp_ww].tolist()[0]#-12\n",
    "    if len(tmp_sale_prev_[i][0])>0:\n",
    "        tmp_split = pd.DataFrame([x.split(':') for x in tmp_sale_prev_[i]])    \n",
    "        tmp_split.columns = ['ww','qty']\n",
    "        tmp_prev_qty = []\n",
    "        for k in range(1, 13):\n",
    "            if any(str(dt_table['ww'].loc[tmp_s-k]) == tmp_split['ww']):\n",
    "                tmp_ind = [i for i, x in enumerate(str(dt_table['ww'].loc[tmp_s-k]) == tmp_split['ww']) if x]    \n",
    "                tmp_prev_qty.append(float(tmp_split['qty'].loc[tmp_ind].values[0]))\n",
    "            else:\n",
    "                tmp_prev_qty.append(0.0)\n",
    "        tmp_sales_prev = sale_prev[['ww','date']].loc[i].values.tolist() + tmp_prev_qty\n",
    "        sales_prev.append(tmp_sales_prev)\n",
    "    else:\n",
    "        tmp_sales_prev = sale_prev[['ww','date']].loc[i].values.tolist()\n",
    "        sales_prev.append(tmp_sales_prev)        \n",
    "sales_prev = pd.DataFrame(sales_prev)\n",
    "sales_prev = sales_prev.fillna(0)\n",
    "sales_prev.columns = ['ww', 'date'] + ['sales_prev_'+ str(x) for x in range(1,13)]\n",
    "sales_prev = sales_prev.drop(['date'], axis=1)\n",
    "\n",
    "sales_prev['ww_new'] = [dt_table['ww'].loc[dt_table.index[dt_table['ww']==sales_prev['ww'][x]].tolist()[0]+2] for x in range(0, sales_prev.shape[0])]\n",
    "sales_prev = sales_prev.drop('ww', axis=1)\n",
    "tmp_d_set = pd.merge(y_inven, product_prev, how='left', left_on='ww', right_on='ww')\n",
    "d_set = pd.merge(tmp_d_set, sales_prev, how='inner', left_on='ww', right_on='ww_new')\n",
    "d_set = d_set.drop('ww_new', axis=1)\n"
   ]
  },
  {
   "cell_type": "code",
   "execution_count": 6,
   "id": "f96c42f6",
   "metadata": {
    "scrolled": true
   },
   "outputs": [
    {
     "name": "stdout",
     "output_type": "stream",
     "text": [
      "|   iter    |  target   |  g_alpha  |   k_dot   |   rbf_l   |  theta1   | tmp_pr... | tmp_va... | tmp_va... |  w_noise  |\n",
      "-------------------------------------------------------------------------------------------------------------------------\n",
      "| \u001b[0m 1       \u001b[0m | \u001b[0m 83.09   \u001b[0m | \u001b[0m 0.4129  \u001b[0m | \u001b[0m 72.03   \u001b[0m | \u001b[0m 0.001144\u001b[0m | \u001b[0m 3.023   \u001b[0m | \u001b[0m 2.027   \u001b[0m | \u001b[0m 2.016   \u001b[0m | \u001b[0m 3.049   \u001b[0m | \u001b[0m 34.56   \u001b[0m |\n",
      "| \u001b[0m 2       \u001b[0m | \u001b[0m 80.38   \u001b[0m | \u001b[0m 0.3928  \u001b[0m | \u001b[0m 53.88   \u001b[0m | \u001b[0m 4.192   \u001b[0m | \u001b[0m 6.852   \u001b[0m | \u001b[0m 2.431   \u001b[0m | \u001b[0m 10.66   \u001b[0m | \u001b[0m 1.301   \u001b[0m | \u001b[0m 67.05   \u001b[0m |\n",
      "| \u001b[0m 3       \u001b[0m | \u001b[0m 76.5    \u001b[0m | \u001b[0m 0.4131  \u001b[0m | \u001b[0m 55.87   \u001b[0m | \u001b[0m 1.404   \u001b[0m | \u001b[0m 1.981   \u001b[0m | \u001b[0m 6.605   \u001b[0m | \u001b[0m 11.65   \u001b[0m | \u001b[0m 4.448   \u001b[0m | \u001b[0m 69.23   \u001b[0m |\n",
      "| \u001b[0m 4       \u001b[0m | \u001b[0m 77.5    \u001b[0m | \u001b[0m 0.8676  \u001b[0m | \u001b[0m 89.46   \u001b[0m | \u001b[0m 0.8504  \u001b[0m | \u001b[0m 0.3905  \u001b[0m | \u001b[0m 2.189   \u001b[0m | \u001b[0m 10.66   \u001b[0m | \u001b[0m 2.082   \u001b[0m | \u001b[0m 42.11   \u001b[0m |\n",
      "| \u001b[0m 5       \u001b[0m | \u001b[0m 74.83   \u001b[0m | \u001b[0m 0.9483  \u001b[0m | \u001b[0m 53.32   \u001b[0m | \u001b[0m 6.919   \u001b[0m | \u001b[0m 3.155   \u001b[0m | \u001b[0m 5.806   \u001b[0m | \u001b[0m 10.18   \u001b[0m | \u001b[0m 1.201   \u001b[0m | \u001b[0m 75.01   \u001b[0m |\n",
      "| \u001b[0m 6       \u001b[0m | \u001b[0m 79.74   \u001b[0m | \u001b[0m 0.979   \u001b[0m | \u001b[0m 74.82   \u001b[0m | \u001b[0m 2.804   \u001b[0m | \u001b[0m 7.893   \u001b[0m | \u001b[0m 1.723   \u001b[0m | \u001b[0m 5.927   \u001b[0m | \u001b[0m 10.99   \u001b[0m | \u001b[0m 29.36   \u001b[0m |\n",
      "| \u001b[95m 7       \u001b[0m | \u001b[95m 85.55   \u001b[0m | \u001b[95m 0.2849  \u001b[0m | \u001b[95m 13.0    \u001b[0m | \u001b[95m 0.1937  \u001b[0m | \u001b[95m 6.788   \u001b[0m | \u001b[95m 2.481   \u001b[0m | \u001b[95m 3.921   \u001b[0m | \u001b[95m 6.407   \u001b[0m | \u001b[95m 5.336   \u001b[0m |\n",
      "| \u001b[0m 8       \u001b[0m | \u001b[0m 80.48   \u001b[0m | \u001b[0m 0.5684  \u001b[0m | \u001b[0m 14.67   \u001b[0m | \u001b[0m 5.893   \u001b[0m | \u001b[0m 6.998   \u001b[0m | \u001b[0m 1.716   \u001b[0m | \u001b[0m 5.555   \u001b[0m | \u001b[0m 8.638   \u001b[0m | \u001b[0m 41.42   \u001b[0m |\n",
      "| \u001b[0m 9       \u001b[0m | \u001b[0m 77.01   \u001b[0m | \u001b[0m 0.04945 \u001b[0m | \u001b[0m 53.59   \u001b[0m | \u001b[0m 6.638   \u001b[0m | \u001b[0m 5.149   \u001b[0m | \u001b[0m 7.612   \u001b[0m | \u001b[0m 7.452   \u001b[0m | \u001b[0m 10.94   \u001b[0m | \u001b[0m 13.75   \u001b[0m |\n",
      "| \u001b[0m 10      \u001b[0m | \u001b[0m 79.97   \u001b[0m | \u001b[0m 0.1379  \u001b[0m | \u001b[0m 80.74   \u001b[0m | \u001b[0m 3.977   \u001b[0m | \u001b[0m 1.654   \u001b[0m | \u001b[0m 7.493   \u001b[0m | \u001b[0m 4.825   \u001b[0m | \u001b[0m 9.259   \u001b[0m | \u001b[0m 72.6    \u001b[0m |\n",
      "| \u001b[0m 11      \u001b[0m | \u001b[0m 76.02   \u001b[0m | \u001b[0m 0.8996  \u001b[0m | \u001b[0m 95.18   \u001b[0m | \u001b[0m 9.181   \u001b[0m | \u001b[0m 3.227   \u001b[0m | \u001b[0m 6.661   \u001b[0m | \u001b[0m 11.08   \u001b[0m | \u001b[0m 5.039   \u001b[0m | \u001b[0m 69.01   \u001b[0m |\n",
      "| \u001b[0m 12      \u001b[0m | \u001b[0m 83.53   \u001b[0m | \u001b[0m 0.1856  \u001b[0m | \u001b[0m 9.666   \u001b[0m | \u001b[0m 1.281   \u001b[0m | \u001b[0m 5.6     \u001b[0m | \u001b[0m 3.058   \u001b[0m | \u001b[0m 3.675   \u001b[0m | \u001b[0m 4.966   \u001b[0m | \u001b[0m 5.943   \u001b[0m |\n",
      "| \u001b[0m 13      \u001b[0m | \u001b[0m 84.96   \u001b[0m | \u001b[0m 0.4632  \u001b[0m | \u001b[0m 15.23   \u001b[0m | \u001b[0m 0.04597 \u001b[0m | \u001b[0m 8.333   \u001b[0m | \u001b[0m 1.667   \u001b[0m | \u001b[0m 4.218   \u001b[0m | \u001b[0m 8.267   \u001b[0m | \u001b[0m 10.37   \u001b[0m |\n",
      "| \u001b[0m 14      \u001b[0m | \u001b[0m 76.0    \u001b[0m | \u001b[0m 0.3374  \u001b[0m | \u001b[0m 19.9    \u001b[0m | \u001b[0m 4.141   \u001b[0m | \u001b[0m 7.701   \u001b[0m | \u001b[0m 1.071   \u001b[0m | \u001b[0m 8.654   \u001b[0m | \u001b[0m 5.266   \u001b[0m | \u001b[0m 3.65    \u001b[0m |\n"
     ]
    },
    {
     "name": "stderr",
     "output_type": "stream",
     "text": [
      "/opt/conda/envs/rapids/lib/python3.7/site-packages/sklearn/gaussian_process/kernels.py:271: RuntimeWarning: divide by zero encountered in log\n",
      "  return np.log(np.hstack(theta))\n"
     ]
    },
    {
     "name": "stdout",
     "output_type": "stream",
     "text": [
      "| \u001b[0m 15      \u001b[0m | \u001b[0m 84.77   \u001b[0m | \u001b[0m 0.4293  \u001b[0m | \u001b[0m 12.05   \u001b[0m | \u001b[0m 0.0     \u001b[0m | \u001b[0m 8.1     \u001b[0m | \u001b[0m 2.745   \u001b[0m | \u001b[0m 1.0     \u001b[0m | \u001b[0m 10.13   \u001b[0m | \u001b[0m 7.273   \u001b[0m |\n"
     ]
    },
    {
     "name": "stderr",
     "output_type": "stream",
     "text": [
      "/opt/conda/envs/rapids/lib/python3.7/site-packages/sklearn/gaussian_process/kernels.py:271: RuntimeWarning: divide by zero encountered in log\n",
      "  return np.log(np.hstack(theta))\n"
     ]
    },
    {
     "name": "stdout",
     "output_type": "stream",
     "text": [
      "| \u001b[0m 16      \u001b[0m | \u001b[0m 82.86   \u001b[0m | \u001b[0m 0.2697  \u001b[0m | \u001b[0m 14.23   \u001b[0m | \u001b[0m 0.0     \u001b[0m | \u001b[0m 9.677   \u001b[0m | \u001b[0m 5.843   \u001b[0m | \u001b[0m 1.0     \u001b[0m | \u001b[0m 4.718   \u001b[0m | \u001b[0m 8.436   \u001b[0m |\n"
     ]
    },
    {
     "name": "stderr",
     "output_type": "stream",
     "text": [
      "/opt/conda/envs/rapids/lib/python3.7/site-packages/sklearn/gaussian_process/kernels.py:271: RuntimeWarning: divide by zero encountered in log\n",
      "  return np.log(np.hstack(theta))\n"
     ]
    },
    {
     "name": "stdout",
     "output_type": "stream",
     "text": [
      "| \u001b[0m 17      \u001b[0m | \u001b[0m 80.56   \u001b[0m | \u001b[0m 0.4601  \u001b[0m | \u001b[0m 14.64   \u001b[0m | \u001b[0m 0.0     \u001b[0m | \u001b[0m 2.283   \u001b[0m | \u001b[0m 1.0     \u001b[0m | \u001b[0m 1.08    \u001b[0m | \u001b[0m 8.087   \u001b[0m | \u001b[0m 8.39    \u001b[0m |\n",
      "| \u001b[0m 18      \u001b[0m | \u001b[0m 84.53   \u001b[0m | \u001b[0m 0.4049  \u001b[0m | \u001b[0m 10.53   \u001b[0m | \u001b[0m 2.602   \u001b[0m | \u001b[0m 9.961   \u001b[0m | \u001b[0m 2.047   \u001b[0m | \u001b[0m 3.184   \u001b[0m | \u001b[0m 9.47    \u001b[0m | \u001b[0m 10.35   \u001b[0m |\n",
      "| \u001b[0m 19      \u001b[0m | \u001b[0m 79.16   \u001b[0m | \u001b[0m 0.9661  \u001b[0m | \u001b[0m 12.14   \u001b[0m | \u001b[0m 1.309   \u001b[0m | \u001b[0m 6.958   \u001b[0m | \u001b[0m 7.018   \u001b[0m | \u001b[0m 5.049   \u001b[0m | \u001b[0m 11.01   \u001b[0m | \u001b[0m 8.231   \u001b[0m |\n",
      "| \u001b[0m 20      \u001b[0m | \u001b[0m 83.49   \u001b[0m | \u001b[0m 0.5683  \u001b[0m | \u001b[0m 11.69   \u001b[0m | \u001b[0m 2.224   \u001b[0m | \u001b[0m 9.387   \u001b[0m | \u001b[0m 1.348   \u001b[0m | \u001b[0m 4.254   \u001b[0m | \u001b[0m 10.82   \u001b[0m | \u001b[0m 3.23    \u001b[0m |\n"
     ]
    },
    {
     "name": "stderr",
     "output_type": "stream",
     "text": [
      "/opt/conda/envs/rapids/lib/python3.7/site-packages/sklearn/gaussian_process/kernels.py:271: RuntimeWarning: divide by zero encountered in log\n",
      "  return np.log(np.hstack(theta))\n"
     ]
    },
    {
     "name": "stdout",
     "output_type": "stream",
     "text": [
      "| \u001b[0m 21      \u001b[0m | \u001b[0m 80.0    \u001b[0m | \u001b[0m 0.0     \u001b[0m | \u001b[0m 11.35   \u001b[0m | \u001b[0m 0.0     \u001b[0m | \u001b[0m 10.0    \u001b[0m | \u001b[0m 1.0     \u001b[0m | \u001b[0m 2.807   \u001b[0m | \u001b[0m 5.885   \u001b[0m | \u001b[0m 7.09    \u001b[0m |\n",
      "| \u001b[0m 22      \u001b[0m | \u001b[0m 83.56   \u001b[0m | \u001b[0m 0.5746  \u001b[0m | \u001b[0m 14.2    \u001b[0m | \u001b[0m 1.26    \u001b[0m | \u001b[0m 7.827   \u001b[0m | \u001b[0m 4.548   \u001b[0m | \u001b[0m 3.4     \u001b[0m | \u001b[0m 8.646   \u001b[0m | \u001b[0m 4.909   \u001b[0m |\n"
     ]
    },
    {
     "name": "stderr",
     "output_type": "stream",
     "text": [
      "/opt/conda/envs/rapids/lib/python3.7/site-packages/sklearn/gaussian_process/kernels.py:271: RuntimeWarning: divide by zero encountered in log\n",
      "  return np.log(np.hstack(theta))\n"
     ]
    },
    {
     "name": "stdout",
     "output_type": "stream",
     "text": [
      "| \u001b[0m 23      \u001b[0m | \u001b[0m 84.53   \u001b[0m | \u001b[0m 0.0     \u001b[0m | \u001b[0m 11.46   \u001b[0m | \u001b[0m 0.0     \u001b[0m | \u001b[0m 5.175   \u001b[0m | \u001b[0m 1.899   \u001b[0m | \u001b[0m 2.797   \u001b[0m | \u001b[0m 8.69    \u001b[0m | \u001b[0m 3.05    \u001b[0m |\n",
      "| \u001b[0m 24      \u001b[0m | \u001b[0m 80.29   \u001b[0m | \u001b[0m 0.8162  \u001b[0m | \u001b[0m 12.2    \u001b[0m | \u001b[0m 3.619   \u001b[0m | \u001b[0m 7.247   \u001b[0m | \u001b[0m 1.281   \u001b[0m | \u001b[0m 5.034   \u001b[0m | \u001b[0m 9.685   \u001b[0m | \u001b[0m 6.933   \u001b[0m |\n",
      "| \u001b[0m 25      \u001b[0m | \u001b[0m 84.83   \u001b[0m | \u001b[0m 0.221   \u001b[0m | \u001b[0m 13.78   \u001b[0m | \u001b[0m 0.4679  \u001b[0m | \u001b[0m 10.0    \u001b[0m | \u001b[0m 2.274   \u001b[0m | \u001b[0m 1.12    \u001b[0m | \u001b[0m 10.39   \u001b[0m | \u001b[0m 11.86   \u001b[0m |\n"
     ]
    },
    {
     "name": "stderr",
     "output_type": "stream",
     "text": [
      "/opt/conda/envs/rapids/lib/python3.7/site-packages/sklearn/gaussian_process/kernels.py:271: RuntimeWarning: divide by zero encountered in log\n",
      "  return np.log(np.hstack(theta))\n"
     ]
    },
    {
     "name": "stdout",
     "output_type": "stream",
     "text": [
      "| \u001b[95m 26      \u001b[0m | \u001b[95m 85.71   \u001b[0m | \u001b[95m 0.8598  \u001b[0m | \u001b[95m 12.06   \u001b[0m | \u001b[95m 0.0     \u001b[0m | \u001b[95m 9.001   \u001b[0m | \u001b[95m 1.584   \u001b[0m | \u001b[95m 4.233   \u001b[0m | \u001b[95m 8.813   \u001b[0m | \u001b[95m 14.52   \u001b[0m |\n",
      "| \u001b[0m 27      \u001b[0m | \u001b[0m 83.97   \u001b[0m | \u001b[0m 0.0     \u001b[0m | \u001b[0m 14.1    \u001b[0m | \u001b[0m 3.469   \u001b[0m | \u001b[0m 10.0    \u001b[0m | \u001b[0m 2.506   \u001b[0m | \u001b[0m 3.218   \u001b[0m | \u001b[0m 7.388   \u001b[0m | \u001b[0m 15.01   \u001b[0m |\n",
      "| \u001b[0m 28      \u001b[0m | \u001b[0m 79.61   \u001b[0m | \u001b[0m 0.6491  \u001b[0m | \u001b[0m 10.31   \u001b[0m | \u001b[0m 1.122   \u001b[0m | \u001b[0m 9.929   \u001b[0m | \u001b[0m 5.173   \u001b[0m | \u001b[0m 1.605   \u001b[0m | \u001b[0m 9.774   \u001b[0m | \u001b[0m 17.38   \u001b[0m |\n"
     ]
    },
    {
     "name": "stderr",
     "output_type": "stream",
     "text": [
      "/opt/conda/envs/rapids/lib/python3.7/site-packages/sklearn/gaussian_process/kernels.py:271: RuntimeWarning: divide by zero encountered in log\n",
      "  return np.log(np.hstack(theta))\n"
     ]
    },
    {
     "name": "stdout",
     "output_type": "stream",
     "text": [
      "| \u001b[0m 29      \u001b[0m | \u001b[0m 78.72   \u001b[0m | \u001b[0m 0.0     \u001b[0m | \u001b[0m 14.74   \u001b[0m | \u001b[0m 0.0     \u001b[0m | \u001b[0m 10.0    \u001b[0m | \u001b[0m 1.0     \u001b[0m | \u001b[0m 5.944   \u001b[0m | \u001b[0m 11.23   \u001b[0m | \u001b[0m 13.7    \u001b[0m |\n",
      "| \u001b[0m 30      \u001b[0m | \u001b[0m 82.34   \u001b[0m | \u001b[0m 0.99    \u001b[0m | \u001b[0m 12.47   \u001b[0m | \u001b[0m 0.5703  \u001b[0m | \u001b[0m 7.718   \u001b[0m | \u001b[0m 2.154   \u001b[0m | \u001b[0m 2.138   \u001b[0m | \u001b[0m 7.309   \u001b[0m | \u001b[0m 12.46   \u001b[0m |\n",
      "| \u001b[0m 31      \u001b[0m | \u001b[0m 84.49   \u001b[0m | \u001b[0m 0.7742  \u001b[0m | \u001b[0m 11.81   \u001b[0m | \u001b[0m 2.702   \u001b[0m | \u001b[0m 8.727   \u001b[0m | \u001b[0m 3.279   \u001b[0m | \u001b[0m 3.629   \u001b[0m | \u001b[0m 8.553   \u001b[0m | \u001b[0m 0.696   \u001b[0m |\n"
     ]
    },
    {
     "name": "stderr",
     "output_type": "stream",
     "text": [
      "/opt/conda/envs/rapids/lib/python3.7/site-packages/sklearn/gaussian_process/kernels.py:271: RuntimeWarning: divide by zero encountered in log\n",
      "  return np.log(np.hstack(theta))\n"
     ]
    },
    {
     "name": "stdout",
     "output_type": "stream",
     "text": [
      "| \u001b[0m 32      \u001b[0m | \u001b[0m 83.21   \u001b[0m | \u001b[0m 0.99    \u001b[0m | \u001b[0m 12.23   \u001b[0m | \u001b[0m 0.0     \u001b[0m | \u001b[0m 6.798   \u001b[0m | \u001b[0m 3.882   \u001b[0m | \u001b[0m 2.756   \u001b[0m | \u001b[0m 5.88    \u001b[0m | \u001b[0m 2.45    \u001b[0m |\n",
      "| \u001b[0m 33      \u001b[0m | \u001b[0m 83.23   \u001b[0m | \u001b[0m 0.3734  \u001b[0m | \u001b[0m 8.575   \u001b[0m | \u001b[0m 0.6109  \u001b[0m | \u001b[0m 9.752   \u001b[0m | \u001b[0m 1.034   \u001b[0m | \u001b[0m 4.102   \u001b[0m | \u001b[0m 8.759   \u001b[0m | \u001b[0m 12.11   \u001b[0m |\n",
      "| \u001b[0m 34      \u001b[0m | \u001b[0m 80.06   \u001b[0m | \u001b[0m 0.4149  \u001b[0m | \u001b[0m 10.01   \u001b[0m | \u001b[0m 1.078   \u001b[0m | \u001b[0m 6.389   \u001b[0m | \u001b[0m 2.457   \u001b[0m | \u001b[0m 6.23    \u001b[0m | \u001b[0m 5.522   \u001b[0m | \u001b[0m 14.85   \u001b[0m |\n",
      "| \u001b[0m 35      \u001b[0m | \u001b[0m 83.57   \u001b[0m | \u001b[0m 0.6611  \u001b[0m | \u001b[0m 9.943   \u001b[0m | \u001b[0m 0.6121  \u001b[0m | \u001b[0m 5.237   \u001b[0m | \u001b[0m 4.046   \u001b[0m | \u001b[0m 3.761   \u001b[0m | \u001b[0m 9.554   \u001b[0m | \u001b[0m 0.4978  \u001b[0m |\n",
      "| \u001b[0m 36      \u001b[0m | \u001b[0m 79.58   \u001b[0m | \u001b[0m 0.4853  \u001b[0m | \u001b[0m 16.07   \u001b[0m | \u001b[0m 2.889   \u001b[0m | \u001b[0m 8.815   \u001b[0m | \u001b[0m 3.181   \u001b[0m | \u001b[0m 5.544   \u001b[0m | \u001b[0m 5.427   \u001b[0m | \u001b[0m 11.12   \u001b[0m |\n",
      "| \u001b[0m 37      \u001b[0m | \u001b[0m 84.42   \u001b[0m | \u001b[0m 0.3046  \u001b[0m | \u001b[0m 12.56   \u001b[0m | \u001b[0m 3.343   \u001b[0m | \u001b[0m 3.994   \u001b[0m | \u001b[0m 1.635   \u001b[0m | \u001b[0m 2.815   \u001b[0m | \u001b[0m 7.343   \u001b[0m | \u001b[0m 2.587   \u001b[0m |\n",
      "| \u001b[0m 38      \u001b[0m | \u001b[0m 80.21   \u001b[0m | \u001b[0m 0.05367 \u001b[0m | \u001b[0m 11.27   \u001b[0m | \u001b[0m 0.4909  \u001b[0m | \u001b[0m 8.468   \u001b[0m | \u001b[0m 2.071   \u001b[0m | \u001b[0m 7.418   \u001b[0m | \u001b[0m 7.353   \u001b[0m | \u001b[0m 0.4322  \u001b[0m |\n",
      "| \u001b[0m 39      \u001b[0m | \u001b[0m 81.01   \u001b[0m | \u001b[0m 0.8861  \u001b[0m | \u001b[0m 14.91   \u001b[0m | \u001b[0m 0.7461  \u001b[0m | \u001b[0m 6.93    \u001b[0m | \u001b[0m 2.841   \u001b[0m | \u001b[0m 1.826   \u001b[0m | \u001b[0m 5.882   \u001b[0m | \u001b[0m 6.577   \u001b[0m |\n",
      "| \u001b[0m 40      \u001b[0m | \u001b[0m 81.01   \u001b[0m | \u001b[0m 0.2049  \u001b[0m | \u001b[0m 13.52   \u001b[0m | \u001b[0m 0.9658  \u001b[0m | \u001b[0m 8.337   \u001b[0m | \u001b[0m 1.51    \u001b[0m | \u001b[0m 1.857   \u001b[0m | \u001b[0m 10.76   \u001b[0m | \u001b[0m 8.372   \u001b[0m |\n",
      "=========================================================================================================================\n",
      "85.71246917074336\n",
      "Prev Inven : 2, Var Sale : 9, Var Product : 4\n"
     ]
    },
    {
     "name": "stderr",
     "output_type": "stream",
     "text": [
      "/opt/conda/envs/rapids/lib/python3.7/site-packages/sklearn/gaussian_process/kernels.py:271: RuntimeWarning: divide by zero encountered in log\n",
      "  return np.log(np.hstack(theta))\n"
     ]
    },
    {
     "name": "stdout",
     "output_type": "stream",
     "text": [
      "|   iter    |  target   |  g_alpha  |   k_dot   |   rbf_l   |  theta1   | tmp_pr... | tmp_va... | tmp_va... |  w_noise  |\n",
      "-------------------------------------------------------------------------------------------------------------------------\n",
      "| \u001b[0m 1       \u001b[0m | \u001b[0m 81.6    \u001b[0m | \u001b[0m 0.4129  \u001b[0m | \u001b[0m 72.03   \u001b[0m | \u001b[0m 0.001144\u001b[0m | \u001b[0m 3.023   \u001b[0m | \u001b[0m 2.027   \u001b[0m | \u001b[0m 2.016   \u001b[0m | \u001b[0m 3.049   \u001b[0m | \u001b[0m 34.56   \u001b[0m |\n",
      "| \u001b[0m 2       \u001b[0m | \u001b[0m 77.72   \u001b[0m | \u001b[0m 0.3928  \u001b[0m | \u001b[0m 53.88   \u001b[0m | \u001b[0m 4.192   \u001b[0m | \u001b[0m 6.852   \u001b[0m | \u001b[0m 2.431   \u001b[0m | \u001b[0m 10.66   \u001b[0m | \u001b[0m 1.301   \u001b[0m | \u001b[0m 67.05   \u001b[0m |\n",
      "| \u001b[0m 3       \u001b[0m | \u001b[0m 78.84   \u001b[0m | \u001b[0m 0.4131  \u001b[0m | \u001b[0m 55.87   \u001b[0m | \u001b[0m 1.404   \u001b[0m | \u001b[0m 1.981   \u001b[0m | \u001b[0m 6.605   \u001b[0m | \u001b[0m 11.65   \u001b[0m | \u001b[0m 4.448   \u001b[0m | \u001b[0m 69.23   \u001b[0m |\n",
      "| \u001b[0m 4       \u001b[0m | \u001b[0m 74.71   \u001b[0m | \u001b[0m 0.8676  \u001b[0m | \u001b[0m 89.46   \u001b[0m | \u001b[0m 0.8504  \u001b[0m | \u001b[0m 0.3905  \u001b[0m | \u001b[0m 2.189   \u001b[0m | \u001b[0m 10.66   \u001b[0m | \u001b[0m 2.082   \u001b[0m | \u001b[0m 42.11   \u001b[0m |\n",
      "| \u001b[0m 5       \u001b[0m | \u001b[0m 74.6    \u001b[0m | \u001b[0m 0.9483  \u001b[0m | \u001b[0m 53.32   \u001b[0m | \u001b[0m 6.919   \u001b[0m | \u001b[0m 3.155   \u001b[0m | \u001b[0m 5.806   \u001b[0m | \u001b[0m 10.18   \u001b[0m | \u001b[0m 1.201   \u001b[0m | \u001b[0m 75.01   \u001b[0m |\n",
      "| \u001b[0m 6       \u001b[0m | \u001b[0m 73.39   \u001b[0m | \u001b[0m 0.979   \u001b[0m | \u001b[0m 74.82   \u001b[0m | \u001b[0m 2.804   \u001b[0m | \u001b[0m 7.893   \u001b[0m | \u001b[0m 1.723   \u001b[0m | \u001b[0m 5.927   \u001b[0m | \u001b[0m 10.99   \u001b[0m | \u001b[0m 29.36   \u001b[0m |\n",
      "| \u001b[95m 7       \u001b[0m | \u001b[95m 82.93   \u001b[0m | \u001b[95m 0.2849  \u001b[0m | \u001b[95m 13.0    \u001b[0m | \u001b[95m 0.1937  \u001b[0m | \u001b[95m 6.788   \u001b[0m | \u001b[95m 2.481   \u001b[0m | \u001b[95m 3.921   \u001b[0m | \u001b[95m 6.407   \u001b[0m | \u001b[95m 5.336   \u001b[0m |\n",
      "| \u001b[0m 8       \u001b[0m | \u001b[0m 74.61   \u001b[0m | \u001b[0m 0.5684  \u001b[0m | \u001b[0m 14.67   \u001b[0m | \u001b[0m 5.893   \u001b[0m | \u001b[0m 6.998   \u001b[0m | \u001b[0m 1.716   \u001b[0m | \u001b[0m 5.555   \u001b[0m | \u001b[0m 8.638   \u001b[0m | \u001b[0m 41.42   \u001b[0m |\n",
      "| \u001b[0m 9       \u001b[0m | \u001b[0m 72.32   \u001b[0m | \u001b[0m 0.04945 \u001b[0m | \u001b[0m 53.59   \u001b[0m | \u001b[0m 6.638   \u001b[0m | \u001b[0m 5.149   \u001b[0m | \u001b[0m 7.612   \u001b[0m | \u001b[0m 7.452   \u001b[0m | \u001b[0m 10.94   \u001b[0m | \u001b[0m 13.75   \u001b[0m |\n",
      "| \u001b[0m 10      \u001b[0m | \u001b[0m 76.68   \u001b[0m | \u001b[0m 0.1379  \u001b[0m | \u001b[0m 80.74   \u001b[0m | \u001b[0m 3.977   \u001b[0m | \u001b[0m 1.654   \u001b[0m | \u001b[0m 7.493   \u001b[0m | \u001b[0m 4.825   \u001b[0m | \u001b[0m 9.259   \u001b[0m | \u001b[0m 72.6    \u001b[0m |\n",
      "| \u001b[0m 11      \u001b[0m | \u001b[0m 73.95   \u001b[0m | \u001b[0m 0.9448  \u001b[0m | \u001b[0m 57.68   \u001b[0m | \u001b[0m 0.8736  \u001b[0m | \u001b[0m 1.072   \u001b[0m | \u001b[0m 7.676   \u001b[0m | \u001b[0m 9.859   \u001b[0m | \u001b[0m 5.711   \u001b[0m | \u001b[0m 67.25   \u001b[0m |\n",
      "| \u001b[0m 12      \u001b[0m | \u001b[0m 73.87   \u001b[0m | \u001b[0m 0.7974  \u001b[0m | \u001b[0m 15.18   \u001b[0m | \u001b[0m 3.237   \u001b[0m | \u001b[0m 4.322   \u001b[0m | \u001b[0m 7.715   \u001b[0m | \u001b[0m 8.121   \u001b[0m | \u001b[0m 6.984   \u001b[0m | \u001b[0m 94.76   \u001b[0m |\n",
      "| \u001b[0m 13      \u001b[0m | \u001b[0m 78.42   \u001b[0m | \u001b[0m 0.28    \u001b[0m | \u001b[0m 83.68   \u001b[0m | \u001b[0m 0.1909  \u001b[0m | \u001b[0m 2.006   \u001b[0m | \u001b[0m 3.429   \u001b[0m | \u001b[0m 1.603   \u001b[0m | \u001b[0m 6.838   \u001b[0m | \u001b[0m 40.95   \u001b[0m |\n",
      "| \u001b[0m 14      \u001b[0m | \u001b[0m 81.36   \u001b[0m | \u001b[0m 0.3623  \u001b[0m | \u001b[0m 46.92   \u001b[0m | \u001b[0m 5.373   \u001b[0m | \u001b[0m 2.653   \u001b[0m | \u001b[0m 7.964   \u001b[0m | \u001b[0m 3.462   \u001b[0m | \u001b[0m 3.77    \u001b[0m | \u001b[0m 89.39   \u001b[0m |\n",
      "| \u001b[0m 15      \u001b[0m | \u001b[0m 75.22   \u001b[0m | \u001b[0m 0.1273  \u001b[0m | \u001b[0m 2.083   \u001b[0m | \u001b[0m 8.872   \u001b[0m | \u001b[0m 7.994   \u001b[0m | \u001b[0m 6.618   \u001b[0m | \u001b[0m 6.185   \u001b[0m | \u001b[0m 10.09   \u001b[0m | \u001b[0m 60.05   \u001b[0m |\n",
      "| \u001b[0m 16      \u001b[0m | \u001b[0m 73.59   \u001b[0m | \u001b[0m 0.9449  \u001b[0m | \u001b[0m 50.8    \u001b[0m | \u001b[0m 3.294   \u001b[0m | \u001b[0m 5.376   \u001b[0m | \u001b[0m 5.139   \u001b[0m | \u001b[0m 7.079   \u001b[0m | \u001b[0m 7.993   \u001b[0m | \u001b[0m 88.04   \u001b[0m |\n",
      "| \u001b[0m 17      \u001b[0m | \u001b[0m 71.49   \u001b[0m | \u001b[0m 0.09027 \u001b[0m | \u001b[0m 46.61   \u001b[0m | \u001b[0m 1.003   \u001b[0m | \u001b[0m 7.06    \u001b[0m | \u001b[0m 4.6     \u001b[0m | \u001b[0m 6.36    \u001b[0m | \u001b[0m 11.8    \u001b[0m | \u001b[0m 19.81   \u001b[0m |\n",
      "| \u001b[0m 18      \u001b[0m | \u001b[0m 77.09   \u001b[0m | \u001b[0m 0.08163 \u001b[0m | \u001b[0m 24.96   \u001b[0m | \u001b[0m 2.219   \u001b[0m | \u001b[0m 8.699   \u001b[0m | \u001b[0m 2.599   \u001b[0m | \u001b[0m 5.573   \u001b[0m | \u001b[0m 5.179   \u001b[0m | \u001b[0m 94.97   \u001b[0m |\n",
      "| \u001b[0m 19      \u001b[0m | \u001b[0m 77.88   \u001b[0m | \u001b[0m 0.2393  \u001b[0m | \u001b[0m 84.02   \u001b[0m | \u001b[0m 8.518   \u001b[0m | \u001b[0m 5.874   \u001b[0m | \u001b[0m 2.388   \u001b[0m | \u001b[0m 2.221   \u001b[0m | \u001b[0m 8.923   \u001b[0m | \u001b[0m 62.17   \u001b[0m |\n",
      "| \u001b[0m 20      \u001b[0m | \u001b[0m 79.97   \u001b[0m | \u001b[0m 0.3013  \u001b[0m | \u001b[0m 50.42   \u001b[0m | \u001b[0m 0.02496 \u001b[0m | \u001b[0m 8.423   \u001b[0m | \u001b[0m 6.058   \u001b[0m | \u001b[0m 3.547   \u001b[0m | \u001b[0m 1.452   \u001b[0m | \u001b[0m 76.37   \u001b[0m |\n",
      "| \u001b[0m 21      \u001b[0m | \u001b[0m 80.64   \u001b[0m | \u001b[0m 0.1497  \u001b[0m | \u001b[0m 38.96   \u001b[0m | \u001b[0m 7.288   \u001b[0m | \u001b[0m 6.121   \u001b[0m | \u001b[0m 7.866   \u001b[0m | \u001b[0m 3.209   \u001b[0m | \u001b[0m 6.991   \u001b[0m | \u001b[0m 11.58   \u001b[0m |\n",
      "| \u001b[0m 22      \u001b[0m | \u001b[0m 72.67   \u001b[0m | \u001b[0m 0.6398  \u001b[0m | \u001b[0m 85.62   \u001b[0m | \u001b[0m 3.537   \u001b[0m | \u001b[0m 2.252   \u001b[0m | \u001b[0m 4.368   \u001b[0m | \u001b[0m 6.032   \u001b[0m | \u001b[0m 11.05   \u001b[0m | \u001b[0m 41.2    \u001b[0m |\n",
      "| \u001b[0m 23      \u001b[0m | \u001b[0m 78.07   \u001b[0m | \u001b[0m 0.319   \u001b[0m | \u001b[0m 15.19   \u001b[0m | \u001b[0m 4.066   \u001b[0m | \u001b[0m 7.223   \u001b[0m | \u001b[0m 1.308   \u001b[0m | \u001b[0m 4.426   \u001b[0m | \u001b[0m 2.622   \u001b[0m | \u001b[0m 2.782   \u001b[0m |\n",
      "| \u001b[0m 24      \u001b[0m | \u001b[0m 73.75   \u001b[0m | \u001b[0m 0.1577  \u001b[0m | \u001b[0m 60.27   \u001b[0m | \u001b[0m 1.481   \u001b[0m | \u001b[0m 5.014   \u001b[0m | \u001b[0m 6.581   \u001b[0m | \u001b[0m 9.311   \u001b[0m | \u001b[0m 7.057   \u001b[0m | \u001b[0m 25.51   \u001b[0m |\n",
      "| \u001b[0m 25      \u001b[0m | \u001b[0m 75.28   \u001b[0m | \u001b[0m 0.4122  \u001b[0m | \u001b[0m 9.708   \u001b[0m | \u001b[0m 0.8714  \u001b[0m | \u001b[0m 4.179   \u001b[0m | \u001b[0m 3.133   \u001b[0m | \u001b[0m 8.801   \u001b[0m | \u001b[0m 1.653   \u001b[0m | \u001b[0m 14.78   \u001b[0m |\n",
      "| \u001b[0m 26      \u001b[0m | \u001b[0m 78.68   \u001b[0m | \u001b[0m 0.3023  \u001b[0m | \u001b[0m 44.7    \u001b[0m | \u001b[0m 1.256   \u001b[0m | \u001b[0m 2.499   \u001b[0m | \u001b[0m 7.281   \u001b[0m | \u001b[0m 2.0     \u001b[0m | \u001b[0m 9.061   \u001b[0m | \u001b[0m 67.03   \u001b[0m |\n",
      "| \u001b[0m 27      \u001b[0m | \u001b[0m 79.47   \u001b[0m | \u001b[0m 0.6716  \u001b[0m | \u001b[0m 74.13   \u001b[0m | \u001b[0m 8.726   \u001b[0m | \u001b[0m 6.291   \u001b[0m | \u001b[0m 1.662   \u001b[0m | \u001b[0m 4.992   \u001b[0m | \u001b[0m 8.013   \u001b[0m | \u001b[0m 5.108   \u001b[0m |\n",
      "| \u001b[0m 28      \u001b[0m | \u001b[0m 74.84   \u001b[0m | \u001b[0m 0.9363  \u001b[0m | \u001b[0m 98.73   \u001b[0m | \u001b[0m 6.256   \u001b[0m | \u001b[0m 2.373   \u001b[0m | \u001b[0m 7.05    \u001b[0m | \u001b[0m 7.771   \u001b[0m | \u001b[0m 8.389   \u001b[0m | \u001b[0m 6.098   \u001b[0m |\n",
      "| \u001b[0m 29      \u001b[0m | \u001b[0m 81.32   \u001b[0m | \u001b[0m 0.5591  \u001b[0m | \u001b[0m 80.87   \u001b[0m | \u001b[0m 9.738   \u001b[0m | \u001b[0m 0.8996  \u001b[0m | \u001b[0m 4.301   \u001b[0m | \u001b[0m 4.378   \u001b[0m | \u001b[0m 2.223   \u001b[0m | \u001b[0m 74.8    \u001b[0m |\n",
      "| \u001b[0m 30      \u001b[0m | \u001b[0m 72.47   \u001b[0m | \u001b[0m 0.8057  \u001b[0m | \u001b[0m 91.21   \u001b[0m | \u001b[0m 6.691   \u001b[0m | \u001b[0m 6.231   \u001b[0m | \u001b[0m 4.306   \u001b[0m | \u001b[0m 9.923   \u001b[0m | \u001b[0m 6.994   \u001b[0m | \u001b[0m 90.43   \u001b[0m |\n",
      "| \u001b[0m 31      \u001b[0m | \u001b[0m 73.33   \u001b[0m | \u001b[0m 0.8264  \u001b[0m | \u001b[0m 84.42   \u001b[0m | \u001b[0m 6.595   \u001b[0m | \u001b[0m 7.349   \u001b[0m | \u001b[0m 3.684   \u001b[0m | \u001b[0m 8.35    \u001b[0m | \u001b[0m 4.722   \u001b[0m | \u001b[0m 6.942   \u001b[0m |\n",
      "| \u001b[0m 32      \u001b[0m | \u001b[0m 80.1    \u001b[0m | \u001b[0m 0.7607  \u001b[0m | \u001b[0m 19.78   \u001b[0m | \u001b[0m 7.618   \u001b[0m | \u001b[0m 9.706   \u001b[0m | \u001b[0m 4.689   \u001b[0m | \u001b[0m 5.293   \u001b[0m | \u001b[0m 3.332   \u001b[0m | \u001b[0m 67.8    \u001b[0m |\n",
      "| \u001b[95m 33      \u001b[0m | \u001b[95m 84.71   \u001b[0m | \u001b[95m 0.9068  \u001b[0m | \u001b[95m 29.71   \u001b[0m | \u001b[95m 7.926   \u001b[0m | \u001b[95m 6.722   \u001b[0m | \u001b[95m 3.05    \u001b[0m | \u001b[95m 1.459   \u001b[0m | \u001b[95m 8.025   \u001b[0m | \u001b[95m 23.94   \u001b[0m |\n",
      "| \u001b[0m 34      \u001b[0m | \u001b[0m 75.48   \u001b[0m | \u001b[0m 0.3073  \u001b[0m | \u001b[0m 92.22   \u001b[0m | \u001b[0m 7.517   \u001b[0m | \u001b[0m 4.567   \u001b[0m | \u001b[0m 6.652   \u001b[0m | \u001b[0m 7.151   \u001b[0m | \u001b[0m 5.449   \u001b[0m | \u001b[0m 70.46   \u001b[0m |\n",
      "| \u001b[0m 35      \u001b[0m | \u001b[0m 75.53   \u001b[0m | \u001b[0m 0.6535  \u001b[0m | \u001b[0m 3.984   \u001b[0m | \u001b[0m 2.272   \u001b[0m | \u001b[0m 3.149   \u001b[0m | \u001b[0m 5.818   \u001b[0m | \u001b[0m 6.206   \u001b[0m | \u001b[0m 1.15    \u001b[0m | \u001b[0m 24.93   \u001b[0m |\n",
      "| \u001b[0m 36      \u001b[0m | \u001b[0m 73.59   \u001b[0m | \u001b[0m 0.8819  \u001b[0m | \u001b[0m 81.15   \u001b[0m | \u001b[0m 7.692   \u001b[0m | \u001b[0m 8.749   \u001b[0m | \u001b[0m 6.7     \u001b[0m | \u001b[0m 8.714   \u001b[0m | \u001b[0m 5.556   \u001b[0m | \u001b[0m 23.23   \u001b[0m |\n",
      "| \u001b[0m 37      \u001b[0m | \u001b[0m 79.54   \u001b[0m | \u001b[0m 0.1374  \u001b[0m | \u001b[0m 31.76   \u001b[0m | \u001b[0m 7.932   \u001b[0m | \u001b[0m 9.068   \u001b[0m | \u001b[0m 7.637   \u001b[0m | \u001b[0m 3.824   \u001b[0m | \u001b[0m 7.676   \u001b[0m | \u001b[0m 88.88   \u001b[0m |\n",
      "| \u001b[0m 38      \u001b[0m | \u001b[0m 74.52   \u001b[0m | \u001b[0m 0.46    \u001b[0m | \u001b[0m 97.2    \u001b[0m | \u001b[0m 2.676   \u001b[0m | \u001b[0m 8.335   \u001b[0m | \u001b[0m 5.116   \u001b[0m | \u001b[0m 6.339   \u001b[0m | \u001b[0m 3.019   \u001b[0m | \u001b[0m 39.86   \u001b[0m |\n",
      "| \u001b[0m 39      \u001b[0m | \u001b[0m 72.62   \u001b[0m | \u001b[0m 0.819   \u001b[0m | \u001b[0m 12.34   \u001b[0m | \u001b[0m 4.054   \u001b[0m | \u001b[0m 3.544   \u001b[0m | \u001b[0m 4.625   \u001b[0m | \u001b[0m 11.92   \u001b[0m | \u001b[0m 3.022   \u001b[0m | \u001b[0m 46.14   \u001b[0m |\n",
      "| \u001b[0m 40      \u001b[0m | \u001b[0m 76.16   \u001b[0m | \u001b[0m 0.5316  \u001b[0m | \u001b[0m 96.91   \u001b[0m | \u001b[0m 7.768   \u001b[0m | \u001b[0m 4.985   \u001b[0m | \u001b[0m 1.595   \u001b[0m | \u001b[0m 11.85   \u001b[0m | \u001b[0m 2.446   \u001b[0m | \u001b[0m 28.92   \u001b[0m |\n",
      "=========================================================================================================================\n",
      "84.71216193301785\n",
      "Prev Inven : 3, Var Sale : 8, Var Product : 1\n",
      "|   iter    |  target   |  g_alpha  |   k_dot   |   rbf_l   |  theta1   | tmp_pr... | tmp_va... | tmp_va... |  w_noise  |\n",
      "-------------------------------------------------------------------------------------------------------------------------\n",
      "| \u001b[0m 1       \u001b[0m | \u001b[0m 80.96   \u001b[0m | \u001b[0m 0.4129  \u001b[0m | \u001b[0m 72.03   \u001b[0m | \u001b[0m 0.001144\u001b[0m | \u001b[0m 3.023   \u001b[0m | \u001b[0m 2.027   \u001b[0m | \u001b[0m 2.016   \u001b[0m | \u001b[0m 3.049   \u001b[0m | \u001b[0m 34.56   \u001b[0m |\n",
      "| \u001b[0m 2       \u001b[0m | \u001b[0m 74.71   \u001b[0m | \u001b[0m 0.3928  \u001b[0m | \u001b[0m 53.88   \u001b[0m | \u001b[0m 4.192   \u001b[0m | \u001b[0m 6.852   \u001b[0m | \u001b[0m 2.431   \u001b[0m | \u001b[0m 10.66   \u001b[0m | \u001b[0m 1.301   \u001b[0m | \u001b[0m 67.05   \u001b[0m |\n",
      "| \u001b[0m 3       \u001b[0m | \u001b[0m 70.9    \u001b[0m | \u001b[0m 0.4131  \u001b[0m | \u001b[0m 55.87   \u001b[0m | \u001b[0m 1.404   \u001b[0m | \u001b[0m 1.981   \u001b[0m | \u001b[0m 6.605   \u001b[0m | \u001b[0m 11.65   \u001b[0m | \u001b[0m 4.448   \u001b[0m | \u001b[0m 69.23   \u001b[0m |\n",
      "| \u001b[0m 4       \u001b[0m | \u001b[0m 68.16   \u001b[0m | \u001b[0m 0.8676  \u001b[0m | \u001b[0m 89.46   \u001b[0m | \u001b[0m 0.8504  \u001b[0m | \u001b[0m 0.3905  \u001b[0m | \u001b[0m 2.189   \u001b[0m | \u001b[0m 10.66   \u001b[0m | \u001b[0m 2.082   \u001b[0m | \u001b[0m 42.11   \u001b[0m |\n",
      "| \u001b[0m 5       \u001b[0m | \u001b[0m 69.89   \u001b[0m | \u001b[0m 0.9483  \u001b[0m | \u001b[0m 53.32   \u001b[0m | \u001b[0m 6.919   \u001b[0m | \u001b[0m 3.155   \u001b[0m | \u001b[0m 5.806   \u001b[0m | \u001b[0m 10.18   \u001b[0m | \u001b[0m 1.201   \u001b[0m | \u001b[0m 75.01   \u001b[0m |\n",
      "| \u001b[0m 6       \u001b[0m | \u001b[0m 62.28   \u001b[0m | \u001b[0m 0.979   \u001b[0m | \u001b[0m 74.82   \u001b[0m | \u001b[0m 2.804   \u001b[0m | \u001b[0m 7.893   \u001b[0m | \u001b[0m 1.723   \u001b[0m | \u001b[0m 5.927   \u001b[0m | \u001b[0m 10.99   \u001b[0m | \u001b[0m 29.36   \u001b[0m |\n",
      "| \u001b[0m 7       \u001b[0m | \u001b[0m 80.61   \u001b[0m | \u001b[0m 0.2849  \u001b[0m | \u001b[0m 13.0    \u001b[0m | \u001b[0m 0.1937  \u001b[0m | \u001b[0m 6.788   \u001b[0m | \u001b[0m 2.481   \u001b[0m | \u001b[0m 3.921   \u001b[0m | \u001b[0m 6.407   \u001b[0m | \u001b[0m 5.336   \u001b[0m |\n",
      "| \u001b[0m 8       \u001b[0m | \u001b[0m 62.92   \u001b[0m | \u001b[0m 0.5684  \u001b[0m | \u001b[0m 14.67   \u001b[0m | \u001b[0m 5.893   \u001b[0m | \u001b[0m 6.998   \u001b[0m | \u001b[0m 1.716   \u001b[0m | \u001b[0m 5.555   \u001b[0m | \u001b[0m 8.638   \u001b[0m | \u001b[0m 41.42   \u001b[0m |\n",
      "| \u001b[0m 9       \u001b[0m | \u001b[0m 61.9    \u001b[0m | \u001b[0m 0.04945 \u001b[0m | \u001b[0m 53.59   \u001b[0m | \u001b[0m 6.638   \u001b[0m | \u001b[0m 5.149   \u001b[0m | \u001b[0m 7.612   \u001b[0m | \u001b[0m 7.452   \u001b[0m | \u001b[0m 10.94   \u001b[0m | \u001b[0m 13.75   \u001b[0m |\n",
      "| \u001b[0m 10      \u001b[0m | \u001b[0m 66.0    \u001b[0m | \u001b[0m 0.1379  \u001b[0m | \u001b[0m 80.74   \u001b[0m | \u001b[0m 3.977   \u001b[0m | \u001b[0m 1.654   \u001b[0m | \u001b[0m 7.493   \u001b[0m | \u001b[0m 4.825   \u001b[0m | \u001b[0m 9.259   \u001b[0m | \u001b[0m 72.6    \u001b[0m |\n",
      "| \u001b[0m 11      \u001b[0m | \u001b[0m 62.63   \u001b[0m | \u001b[0m 0.3701  \u001b[0m | \u001b[0m 13.42   \u001b[0m | \u001b[0m 1.473   \u001b[0m | \u001b[0m 7.341   \u001b[0m | \u001b[0m 3.742   \u001b[0m | \u001b[0m 7.454   \u001b[0m | \u001b[0m 8.444   \u001b[0m | \u001b[0m 5.744   \u001b[0m |\n",
      "| \u001b[0m 12      \u001b[0m | \u001b[0m 61.77   \u001b[0m | \u001b[0m 0.7974  \u001b[0m | \u001b[0m 15.18   \u001b[0m | \u001b[0m 3.237   \u001b[0m | \u001b[0m 4.322   \u001b[0m | \u001b[0m 7.715   \u001b[0m | \u001b[0m 8.121   \u001b[0m | \u001b[0m 6.984   \u001b[0m | \u001b[0m 94.76   \u001b[0m |\n",
      "| \u001b[0m 13      \u001b[0m | \u001b[0m 74.82   \u001b[0m | \u001b[0m 0.28    \u001b[0m | \u001b[0m 83.68   \u001b[0m | \u001b[0m 0.1909  \u001b[0m | \u001b[0m 2.006   \u001b[0m | \u001b[0m 3.429   \u001b[0m | \u001b[0m 1.603   \u001b[0m | \u001b[0m 6.838   \u001b[0m | \u001b[0m 40.95   \u001b[0m |\n",
      "| \u001b[0m 14      \u001b[0m | \u001b[0m 77.75   \u001b[0m | \u001b[0m 0.3623  \u001b[0m | \u001b[0m 46.92   \u001b[0m | \u001b[0m 5.373   \u001b[0m | \u001b[0m 2.653   \u001b[0m | \u001b[0m 7.964   \u001b[0m | \u001b[0m 3.462   \u001b[0m | \u001b[0m 3.77    \u001b[0m | \u001b[0m 89.39   \u001b[0m |\n",
      "| \u001b[0m 15      \u001b[0m | \u001b[0m 64.27   \u001b[0m | \u001b[0m 0.1273  \u001b[0m | \u001b[0m 2.083   \u001b[0m | \u001b[0m 8.872   \u001b[0m | \u001b[0m 7.994   \u001b[0m | \u001b[0m 6.618   \u001b[0m | \u001b[0m 6.185   \u001b[0m | \u001b[0m 10.09   \u001b[0m | \u001b[0m 60.05   \u001b[0m |\n",
      "| \u001b[0m 16      \u001b[0m | \u001b[0m 62.8    \u001b[0m | \u001b[0m 0.9449  \u001b[0m | \u001b[0m 50.8    \u001b[0m | \u001b[0m 3.294   \u001b[0m | \u001b[0m 5.376   \u001b[0m | \u001b[0m 5.139   \u001b[0m | \u001b[0m 7.079   \u001b[0m | \u001b[0m 7.993   \u001b[0m | \u001b[0m 88.04   \u001b[0m |\n",
      "| \u001b[0m 17      \u001b[0m | \u001b[0m 59.79   \u001b[0m | \u001b[0m 0.09027 \u001b[0m | \u001b[0m 46.61   \u001b[0m | \u001b[0m 1.003   \u001b[0m | \u001b[0m 7.06    \u001b[0m | \u001b[0m 4.6     \u001b[0m | \u001b[0m 6.36    \u001b[0m | \u001b[0m 11.8    \u001b[0m | \u001b[0m 19.81   \u001b[0m |\n",
      "| \u001b[0m 18      \u001b[0m | \u001b[0m 72.06   \u001b[0m | \u001b[0m 0.08163 \u001b[0m | \u001b[0m 24.96   \u001b[0m | \u001b[0m 2.219   \u001b[0m | \u001b[0m 8.699   \u001b[0m | \u001b[0m 2.599   \u001b[0m | \u001b[0m 5.573   \u001b[0m | \u001b[0m 5.179   \u001b[0m | \u001b[0m 94.97   \u001b[0m |\n",
      "| \u001b[0m 19      \u001b[0m | \u001b[0m 75.97   \u001b[0m | \u001b[0m 0.2393  \u001b[0m | \u001b[0m 84.02   \u001b[0m | \u001b[0m 8.518   \u001b[0m | \u001b[0m 5.874   \u001b[0m | \u001b[0m 2.388   \u001b[0m | \u001b[0m 2.221   \u001b[0m | \u001b[0m 8.923   \u001b[0m | \u001b[0m 62.17   \u001b[0m |\n",
      "| \u001b[0m 20      \u001b[0m | \u001b[0m 76.32   \u001b[0m | \u001b[0m 0.3013  \u001b[0m | \u001b[0m 50.42   \u001b[0m | \u001b[0m 0.02496 \u001b[0m | \u001b[0m 8.423   \u001b[0m | \u001b[0m 6.058   \u001b[0m | \u001b[0m 3.547   \u001b[0m | \u001b[0m 1.452   \u001b[0m | \u001b[0m 76.37   \u001b[0m |\n",
      "| \u001b[0m 21      \u001b[0m | \u001b[0m 76.82   \u001b[0m | \u001b[0m 0.1497  \u001b[0m | \u001b[0m 38.96   \u001b[0m | \u001b[0m 7.288   \u001b[0m | \u001b[0m 6.121   \u001b[0m | \u001b[0m 7.866   \u001b[0m | \u001b[0m 3.209   \u001b[0m | \u001b[0m 6.991   \u001b[0m | \u001b[0m 11.58   \u001b[0m |\n",
      "| \u001b[0m 22      \u001b[0m | \u001b[0m 60.89   \u001b[0m | \u001b[0m 0.6398  \u001b[0m | \u001b[0m 85.62   \u001b[0m | \u001b[0m 3.537   \u001b[0m | \u001b[0m 2.252   \u001b[0m | \u001b[0m 4.368   \u001b[0m | \u001b[0m 6.032   \u001b[0m | \u001b[0m 11.05   \u001b[0m | \u001b[0m 41.2    \u001b[0m |\n",
      "| \u001b[0m 23      \u001b[0m | \u001b[0m 77.18   \u001b[0m | \u001b[0m 0.319   \u001b[0m | \u001b[0m 15.19   \u001b[0m | \u001b[0m 4.066   \u001b[0m | \u001b[0m 7.223   \u001b[0m | \u001b[0m 1.308   \u001b[0m | \u001b[0m 4.426   \u001b[0m | \u001b[0m 2.622   \u001b[0m | \u001b[0m 2.782   \u001b[0m |\n",
      "| \u001b[0m 24      \u001b[0m | \u001b[0m 62.2    \u001b[0m | \u001b[0m 0.1577  \u001b[0m | \u001b[0m 60.27   \u001b[0m | \u001b[0m 1.481   \u001b[0m | \u001b[0m 5.014   \u001b[0m | \u001b[0m 6.581   \u001b[0m | \u001b[0m 9.311   \u001b[0m | \u001b[0m 7.057   \u001b[0m | \u001b[0m 25.51   \u001b[0m |\n",
      "| \u001b[0m 25      \u001b[0m | \u001b[0m 69.39   \u001b[0m | \u001b[0m 0.4122  \u001b[0m | \u001b[0m 9.708   \u001b[0m | \u001b[0m 0.8714  \u001b[0m | \u001b[0m 4.179   \u001b[0m | \u001b[0m 3.133   \u001b[0m | \u001b[0m 8.801   \u001b[0m | \u001b[0m 1.653   \u001b[0m | \u001b[0m 14.78   \u001b[0m |\n",
      "| \u001b[0m 26      \u001b[0m | \u001b[0m 76.06   \u001b[0m | \u001b[0m 0.3023  \u001b[0m | \u001b[0m 44.7    \u001b[0m | \u001b[0m 1.256   \u001b[0m | \u001b[0m 2.499   \u001b[0m | \u001b[0m 7.281   \u001b[0m | \u001b[0m 2.0     \u001b[0m | \u001b[0m 9.061   \u001b[0m | \u001b[0m 67.03   \u001b[0m |\n",
      "| \u001b[0m 27      \u001b[0m | \u001b[0m 71.75   \u001b[0m | \u001b[0m 0.6716  \u001b[0m | \u001b[0m 74.13   \u001b[0m | \u001b[0m 8.726   \u001b[0m | \u001b[0m 6.291   \u001b[0m | \u001b[0m 1.662   \u001b[0m | \u001b[0m 4.992   \u001b[0m | \u001b[0m 8.013   \u001b[0m | \u001b[0m 5.108   \u001b[0m |\n",
      "| \u001b[0m 28      \u001b[0m | \u001b[0m 64.98   \u001b[0m | \u001b[0m 0.9363  \u001b[0m | \u001b[0m 98.73   \u001b[0m | \u001b[0m 6.256   \u001b[0m | \u001b[0m 2.373   \u001b[0m | \u001b[0m 7.05    \u001b[0m | \u001b[0m 7.771   \u001b[0m | \u001b[0m 8.389   \u001b[0m | \u001b[0m 6.098   \u001b[0m |\n",
      "| \u001b[0m 29      \u001b[0m | \u001b[0m 78.23   \u001b[0m | \u001b[0m 0.5591  \u001b[0m | \u001b[0m 80.87   \u001b[0m | \u001b[0m 9.738   \u001b[0m | \u001b[0m 0.8996  \u001b[0m | \u001b[0m 4.301   \u001b[0m | \u001b[0m 4.378   \u001b[0m | \u001b[0m 2.223   \u001b[0m | \u001b[0m 74.8    \u001b[0m |\n",
      "| \u001b[0m 30      \u001b[0m | \u001b[0m 59.97   \u001b[0m | \u001b[0m 0.8057  \u001b[0m | \u001b[0m 91.21   \u001b[0m | \u001b[0m 6.691   \u001b[0m | \u001b[0m 6.231   \u001b[0m | \u001b[0m 4.306   \u001b[0m | \u001b[0m 9.923   \u001b[0m | \u001b[0m 6.994   \u001b[0m | \u001b[0m 90.43   \u001b[0m |\n",
      "| \u001b[0m 31      \u001b[0m | \u001b[0m 65.03   \u001b[0m | \u001b[0m 0.8264  \u001b[0m | \u001b[0m 84.42   \u001b[0m | \u001b[0m 6.595   \u001b[0m | \u001b[0m 7.349   \u001b[0m | \u001b[0m 3.684   \u001b[0m | \u001b[0m 8.35    \u001b[0m | \u001b[0m 4.722   \u001b[0m | \u001b[0m 6.942   \u001b[0m |\n",
      "| \u001b[0m 32      \u001b[0m | \u001b[0m 74.45   \u001b[0m | \u001b[0m 0.7607  \u001b[0m | \u001b[0m 19.78   \u001b[0m | \u001b[0m 7.618   \u001b[0m | \u001b[0m 9.706   \u001b[0m | \u001b[0m 4.689   \u001b[0m | \u001b[0m 5.293   \u001b[0m | \u001b[0m 3.332   \u001b[0m | \u001b[0m 67.8    \u001b[0m |\n",
      "| \u001b[95m 33      \u001b[0m | \u001b[95m 84.93   \u001b[0m | \u001b[95m 0.9068  \u001b[0m | \u001b[95m 29.71   \u001b[0m | \u001b[95m 7.926   \u001b[0m | \u001b[95m 6.722   \u001b[0m | \u001b[95m 3.05    \u001b[0m | \u001b[95m 1.459   \u001b[0m | \u001b[95m 8.025   \u001b[0m | \u001b[95m 23.94   \u001b[0m |\n",
      "| \u001b[0m 34      \u001b[0m | \u001b[0m 67.53   \u001b[0m | \u001b[0m 0.3073  \u001b[0m | \u001b[0m 92.22   \u001b[0m | \u001b[0m 7.517   \u001b[0m | \u001b[0m 4.567   \u001b[0m | \u001b[0m 6.652   \u001b[0m | \u001b[0m 7.151   \u001b[0m | \u001b[0m 5.449   \u001b[0m | \u001b[0m 70.46   \u001b[0m |\n",
      "| \u001b[0m 35      \u001b[0m | \u001b[0m 70.06   \u001b[0m | \u001b[0m 0.6535  \u001b[0m | \u001b[0m 3.984   \u001b[0m | \u001b[0m 2.272   \u001b[0m | \u001b[0m 3.149   \u001b[0m | \u001b[0m 5.818   \u001b[0m | \u001b[0m 6.206   \u001b[0m | \u001b[0m 1.15    \u001b[0m | \u001b[0m 24.93   \u001b[0m |\n",
      "| \u001b[0m 36      \u001b[0m | \u001b[0m 61.64   \u001b[0m | \u001b[0m 0.8819  \u001b[0m | \u001b[0m 81.15   \u001b[0m | \u001b[0m 7.692   \u001b[0m | \u001b[0m 8.749   \u001b[0m | \u001b[0m 6.7     \u001b[0m | \u001b[0m 8.714   \u001b[0m | \u001b[0m 5.556   \u001b[0m | \u001b[0m 23.23   \u001b[0m |\n",
      "| \u001b[0m 37      \u001b[0m | \u001b[0m 75.27   \u001b[0m | \u001b[0m 0.1374  \u001b[0m | \u001b[0m 31.76   \u001b[0m | \u001b[0m 7.932   \u001b[0m | \u001b[0m 9.068   \u001b[0m | \u001b[0m 7.637   \u001b[0m | \u001b[0m 3.824   \u001b[0m | \u001b[0m 7.676   \u001b[0m | \u001b[0m 88.88   \u001b[0m |\n",
      "| \u001b[0m 38      \u001b[0m | \u001b[0m 67.83   \u001b[0m | \u001b[0m 0.46    \u001b[0m | \u001b[0m 97.2    \u001b[0m | \u001b[0m 2.676   \u001b[0m | \u001b[0m 8.335   \u001b[0m | \u001b[0m 5.116   \u001b[0m | \u001b[0m 6.339   \u001b[0m | \u001b[0m 3.019   \u001b[0m | \u001b[0m 39.86   \u001b[0m |\n",
      "| \u001b[0m 39      \u001b[0m | \u001b[0m 65.13   \u001b[0m | \u001b[0m 0.819   \u001b[0m | \u001b[0m 12.34   \u001b[0m | \u001b[0m 4.054   \u001b[0m | \u001b[0m 3.544   \u001b[0m | \u001b[0m 4.625   \u001b[0m | \u001b[0m 11.92   \u001b[0m | \u001b[0m 3.022   \u001b[0m | \u001b[0m 46.14   \u001b[0m |\n",
      "| \u001b[0m 40      \u001b[0m | \u001b[0m 69.2    \u001b[0m | \u001b[0m 0.5316  \u001b[0m | \u001b[0m 96.91   \u001b[0m | \u001b[0m 7.768   \u001b[0m | \u001b[0m 4.985   \u001b[0m | \u001b[0m 1.595   \u001b[0m | \u001b[0m 11.85   \u001b[0m | \u001b[0m 2.446   \u001b[0m | \u001b[0m 28.92   \u001b[0m |\n",
      "=========================================================================================================================\n",
      "84.9253477650376\n",
      "Prev Inven : 3, Var Sale : 8, Var Product : 1\n",
      "|   iter    |  target   |  g_alpha  |   k_dot   |   rbf_l   |  theta1   | tmp_pr... | tmp_va... | tmp_va... |  w_noise  |\n",
      "-------------------------------------------------------------------------------------------------------------------------\n",
      "| \u001b[0m 1       \u001b[0m | \u001b[0m 89.88   \u001b[0m | \u001b[0m 0.4129  \u001b[0m | \u001b[0m 72.03   \u001b[0m | \u001b[0m 0.001144\u001b[0m | \u001b[0m 3.023   \u001b[0m | \u001b[0m 2.027   \u001b[0m | \u001b[0m 2.016   \u001b[0m | \u001b[0m 3.049   \u001b[0m | \u001b[0m 34.56   \u001b[0m |\n",
      "| \u001b[95m 2       \u001b[0m | \u001b[95m 90.66   \u001b[0m | \u001b[95m 0.3928  \u001b[0m | \u001b[95m 53.88   \u001b[0m | \u001b[95m 4.192   \u001b[0m | \u001b[95m 6.852   \u001b[0m | \u001b[95m 2.431   \u001b[0m | \u001b[95m 10.66   \u001b[0m | \u001b[95m 1.301   \u001b[0m | \u001b[95m 67.05   \u001b[0m |\n",
      "| \u001b[0m 3       \u001b[0m | \u001b[0m 87.19   \u001b[0m | \u001b[0m 0.4131  \u001b[0m | \u001b[0m 55.87   \u001b[0m | \u001b[0m 1.404   \u001b[0m | \u001b[0m 1.981   \u001b[0m | \u001b[0m 6.605   \u001b[0m | \u001b[0m 11.65   \u001b[0m | \u001b[0m 4.448   \u001b[0m | \u001b[0m 69.23   \u001b[0m |\n",
      "| \u001b[0m 4       \u001b[0m | \u001b[0m 89.55   \u001b[0m | \u001b[0m 0.8676  \u001b[0m | \u001b[0m 89.46   \u001b[0m | \u001b[0m 0.8504  \u001b[0m | \u001b[0m 0.3905  \u001b[0m | \u001b[0m 2.189   \u001b[0m | \u001b[0m 10.66   \u001b[0m | \u001b[0m 2.082   \u001b[0m | \u001b[0m 42.11   \u001b[0m |\n",
      "| \u001b[0m 5       \u001b[0m | \u001b[0m 89.54   \u001b[0m | \u001b[0m 0.9483  \u001b[0m | \u001b[0m 53.32   \u001b[0m | \u001b[0m 6.919   \u001b[0m | \u001b[0m 3.155   \u001b[0m | \u001b[0m 5.806   \u001b[0m | \u001b[0m 10.18   \u001b[0m | \u001b[0m 1.201   \u001b[0m | \u001b[0m 75.01   \u001b[0m |\n",
      "| \u001b[0m 6       \u001b[0m | \u001b[0m 80.35   \u001b[0m | \u001b[0m 0.979   \u001b[0m | \u001b[0m 74.82   \u001b[0m | \u001b[0m 2.804   \u001b[0m | \u001b[0m 7.893   \u001b[0m | \u001b[0m 1.723   \u001b[0m | \u001b[0m 5.927   \u001b[0m | \u001b[0m 10.99   \u001b[0m | \u001b[0m 29.36   \u001b[0m |\n",
      "| \u001b[0m 7       \u001b[0m | \u001b[0m 82.74   \u001b[0m | \u001b[0m 0.2849  \u001b[0m | \u001b[0m 13.0    \u001b[0m | \u001b[0m 0.1937  \u001b[0m | \u001b[0m 6.788   \u001b[0m | \u001b[0m 2.481   \u001b[0m | \u001b[0m 3.921   \u001b[0m | \u001b[0m 6.407   \u001b[0m | \u001b[0m 5.336   \u001b[0m |\n",
      "| \u001b[0m 8       \u001b[0m | \u001b[0m 81.72   \u001b[0m | \u001b[0m 0.5684  \u001b[0m | \u001b[0m 14.67   \u001b[0m | \u001b[0m 5.893   \u001b[0m | \u001b[0m 6.998   \u001b[0m | \u001b[0m 1.716   \u001b[0m | \u001b[0m 5.555   \u001b[0m | \u001b[0m 8.638   \u001b[0m | \u001b[0m 41.42   \u001b[0m |\n",
      "| \u001b[0m 9       \u001b[0m | \u001b[0m 78.91   \u001b[0m | \u001b[0m 0.04945 \u001b[0m | \u001b[0m 53.59   \u001b[0m | \u001b[0m 6.638   \u001b[0m | \u001b[0m 5.149   \u001b[0m | \u001b[0m 7.612   \u001b[0m | \u001b[0m 7.452   \u001b[0m | \u001b[0m 10.94   \u001b[0m | \u001b[0m 13.75   \u001b[0m |\n",
      "| \u001b[0m 10      \u001b[0m | \u001b[0m 75.75   \u001b[0m | \u001b[0m 0.1379  \u001b[0m | \u001b[0m 80.74   \u001b[0m | \u001b[0m 3.977   \u001b[0m | \u001b[0m 1.654   \u001b[0m | \u001b[0m 7.493   \u001b[0m | \u001b[0m 4.825   \u001b[0m | \u001b[0m 9.259   \u001b[0m | \u001b[0m 72.6    \u001b[0m |\n",
      "| \u001b[0m 11      \u001b[0m | \u001b[0m 77.22   \u001b[0m | \u001b[0m 0.9448  \u001b[0m | \u001b[0m 57.68   \u001b[0m | \u001b[0m 0.8736  \u001b[0m | \u001b[0m 1.072   \u001b[0m | \u001b[0m 7.676   \u001b[0m | \u001b[0m 9.859   \u001b[0m | \u001b[0m 5.711   \u001b[0m | \u001b[0m 67.25   \u001b[0m |\n",
      "| \u001b[0m 12      \u001b[0m | \u001b[0m 80.6    \u001b[0m | \u001b[0m 0.7974  \u001b[0m | \u001b[0m 15.18   \u001b[0m | \u001b[0m 3.237   \u001b[0m | \u001b[0m 4.322   \u001b[0m | \u001b[0m 7.715   \u001b[0m | \u001b[0m 8.121   \u001b[0m | \u001b[0m 6.984   \u001b[0m | \u001b[0m 94.76   \u001b[0m |\n",
      "| \u001b[0m 13      \u001b[0m | \u001b[0m 86.78   \u001b[0m | \u001b[0m 0.28    \u001b[0m | \u001b[0m 83.68   \u001b[0m | \u001b[0m 0.1909  \u001b[0m | \u001b[0m 2.006   \u001b[0m | \u001b[0m 3.429   \u001b[0m | \u001b[0m 1.603   \u001b[0m | \u001b[0m 6.838   \u001b[0m | \u001b[0m 40.95   \u001b[0m |\n",
      "| \u001b[0m 14      \u001b[0m | \u001b[0m 84.59   \u001b[0m | \u001b[0m 0.3623  \u001b[0m | \u001b[0m 46.92   \u001b[0m | \u001b[0m 5.373   \u001b[0m | \u001b[0m 2.653   \u001b[0m | \u001b[0m 7.964   \u001b[0m | \u001b[0m 3.462   \u001b[0m | \u001b[0m 3.77    \u001b[0m | \u001b[0m 89.39   \u001b[0m |\n",
      "| \u001b[0m 15      \u001b[0m | \u001b[0m 77.89   \u001b[0m | \u001b[0m 0.1273  \u001b[0m | \u001b[0m 2.083   \u001b[0m | \u001b[0m 8.872   \u001b[0m | \u001b[0m 7.994   \u001b[0m | \u001b[0m 6.618   \u001b[0m | \u001b[0m 6.185   \u001b[0m | \u001b[0m 10.09   \u001b[0m | \u001b[0m 60.05   \u001b[0m |\n",
      "| \u001b[0m 16      \u001b[0m | \u001b[0m 83.61   \u001b[0m | \u001b[0m 0.9449  \u001b[0m | \u001b[0m 50.8    \u001b[0m | \u001b[0m 3.294   \u001b[0m | \u001b[0m 5.376   \u001b[0m | \u001b[0m 5.139   \u001b[0m | \u001b[0m 7.079   \u001b[0m | \u001b[0m 7.993   \u001b[0m | \u001b[0m 88.04   \u001b[0m |\n",
      "| \u001b[0m 17      \u001b[0m | \u001b[0m 81.49   \u001b[0m | \u001b[0m 0.09027 \u001b[0m | \u001b[0m 46.61   \u001b[0m | \u001b[0m 1.003   \u001b[0m | \u001b[0m 7.06    \u001b[0m | \u001b[0m 4.6     \u001b[0m | \u001b[0m 6.36    \u001b[0m | \u001b[0m 11.8    \u001b[0m | \u001b[0m 19.81   \u001b[0m |\n",
      "| \u001b[0m 18      \u001b[0m | \u001b[0m 87.56   \u001b[0m | \u001b[0m 0.08163 \u001b[0m | \u001b[0m 24.96   \u001b[0m | \u001b[0m 2.219   \u001b[0m | \u001b[0m 8.699   \u001b[0m | \u001b[0m 2.599   \u001b[0m | \u001b[0m 5.573   \u001b[0m | \u001b[0m 5.179   \u001b[0m | \u001b[0m 94.97   \u001b[0m |\n",
      "| \u001b[0m 19      \u001b[0m | \u001b[0m 89.65   \u001b[0m | \u001b[0m 0.2393  \u001b[0m | \u001b[0m 84.02   \u001b[0m | \u001b[0m 8.518   \u001b[0m | \u001b[0m 5.874   \u001b[0m | \u001b[0m 2.388   \u001b[0m | \u001b[0m 2.221   \u001b[0m | \u001b[0m 8.923   \u001b[0m | \u001b[0m 62.17   \u001b[0m |\n",
      "| \u001b[0m 20      \u001b[0m | \u001b[0m 84.5    \u001b[0m | \u001b[0m 0.3013  \u001b[0m | \u001b[0m 50.42   \u001b[0m | \u001b[0m 0.02496 \u001b[0m | \u001b[0m 8.423   \u001b[0m | \u001b[0m 6.058   \u001b[0m | \u001b[0m 3.547   \u001b[0m | \u001b[0m 1.452   \u001b[0m | \u001b[0m 76.37   \u001b[0m |\n",
      "| \u001b[0m 21      \u001b[0m | \u001b[0m 82.41   \u001b[0m | \u001b[0m 0.1497  \u001b[0m | \u001b[0m 38.96   \u001b[0m | \u001b[0m 7.288   \u001b[0m | \u001b[0m 6.121   \u001b[0m | \u001b[0m 7.866   \u001b[0m | \u001b[0m 3.209   \u001b[0m | \u001b[0m 6.991   \u001b[0m | \u001b[0m 11.58   \u001b[0m |\n",
      "| \u001b[0m 22      \u001b[0m | \u001b[0m 80.4    \u001b[0m | \u001b[0m 0.6398  \u001b[0m | \u001b[0m 85.62   \u001b[0m | \u001b[0m 3.537   \u001b[0m | \u001b[0m 2.252   \u001b[0m | \u001b[0m 4.368   \u001b[0m | \u001b[0m 6.032   \u001b[0m | \u001b[0m 11.05   \u001b[0m | \u001b[0m 41.2    \u001b[0m |\n",
      "| \u001b[0m 23      \u001b[0m | \u001b[0m 89.49   \u001b[0m | \u001b[0m 0.319   \u001b[0m | \u001b[0m 15.19   \u001b[0m | \u001b[0m 4.066   \u001b[0m | \u001b[0m 7.223   \u001b[0m | \u001b[0m 1.308   \u001b[0m | \u001b[0m 4.426   \u001b[0m | \u001b[0m 2.622   \u001b[0m | \u001b[0m 2.782   \u001b[0m |\n",
      "| \u001b[0m 24      \u001b[0m | \u001b[0m 82.1    \u001b[0m | \u001b[0m 0.1577  \u001b[0m | \u001b[0m 60.27   \u001b[0m | \u001b[0m 1.481   \u001b[0m | \u001b[0m 5.014   \u001b[0m | \u001b[0m 6.581   \u001b[0m | \u001b[0m 9.311   \u001b[0m | \u001b[0m 7.057   \u001b[0m | \u001b[0m 25.51   \u001b[0m |\n",
      "| \u001b[0m 25      \u001b[0m | \u001b[0m 88.95   \u001b[0m | \u001b[0m 0.4122  \u001b[0m | \u001b[0m 9.708   \u001b[0m | \u001b[0m 0.8714  \u001b[0m | \u001b[0m 4.179   \u001b[0m | \u001b[0m 3.133   \u001b[0m | \u001b[0m 8.801   \u001b[0m | \u001b[0m 1.653   \u001b[0m | \u001b[0m 14.78   \u001b[0m |\n",
      "| \u001b[95m 26      \u001b[0m | \u001b[95m 90.93   \u001b[0m | \u001b[95m 0.3023  \u001b[0m | \u001b[95m 44.7    \u001b[0m | \u001b[95m 1.256   \u001b[0m | \u001b[95m 2.499   \u001b[0m | \u001b[95m 7.281   \u001b[0m | \u001b[95m 2.0     \u001b[0m | \u001b[95m 9.061   \u001b[0m | \u001b[95m 67.03   \u001b[0m |\n",
      "| \u001b[0m 27      \u001b[0m | \u001b[0m 81.72   \u001b[0m | \u001b[0m 0.6716  \u001b[0m | \u001b[0m 74.13   \u001b[0m | \u001b[0m 8.726   \u001b[0m | \u001b[0m 6.291   \u001b[0m | \u001b[0m 1.662   \u001b[0m | \u001b[0m 4.992   \u001b[0m | \u001b[0m 8.013   \u001b[0m | \u001b[0m 5.108   \u001b[0m |\n",
      "| \u001b[0m 28      \u001b[0m | \u001b[0m 84.28   \u001b[0m | \u001b[0m 0.9363  \u001b[0m | \u001b[0m 98.73   \u001b[0m | \u001b[0m 6.256   \u001b[0m | \u001b[0m 2.373   \u001b[0m | \u001b[0m 7.05    \u001b[0m | \u001b[0m 7.771   \u001b[0m | \u001b[0m 8.389   \u001b[0m | \u001b[0m 6.098   \u001b[0m |\n",
      "| \u001b[0m 29      \u001b[0m | \u001b[0m 87.24   \u001b[0m | \u001b[0m 0.5591  \u001b[0m | \u001b[0m 80.87   \u001b[0m | \u001b[0m 9.738   \u001b[0m | \u001b[0m 0.8996  \u001b[0m | \u001b[0m 4.301   \u001b[0m | \u001b[0m 4.378   \u001b[0m | \u001b[0m 2.223   \u001b[0m | \u001b[0m 74.8    \u001b[0m |\n",
      "| \u001b[0m 30      \u001b[0m | \u001b[0m 82.3    \u001b[0m | \u001b[0m 0.8057  \u001b[0m | \u001b[0m 91.21   \u001b[0m | \u001b[0m 6.691   \u001b[0m | \u001b[0m 6.231   \u001b[0m | \u001b[0m 4.306   \u001b[0m | \u001b[0m 9.923   \u001b[0m | \u001b[0m 6.994   \u001b[0m | \u001b[0m 90.43   \u001b[0m |\n",
      "| \u001b[0m 31      \u001b[0m | \u001b[0m 87.4    \u001b[0m | \u001b[0m 0.8264  \u001b[0m | \u001b[0m 84.42   \u001b[0m | \u001b[0m 6.595   \u001b[0m | \u001b[0m 7.349   \u001b[0m | \u001b[0m 3.684   \u001b[0m | \u001b[0m 8.35    \u001b[0m | \u001b[0m 4.722   \u001b[0m | \u001b[0m 6.942   \u001b[0m |\n",
      "| \u001b[0m 32      \u001b[0m | \u001b[0m 85.78   \u001b[0m | \u001b[0m 0.7607  \u001b[0m | \u001b[0m 19.78   \u001b[0m | \u001b[0m 7.618   \u001b[0m | \u001b[0m 9.706   \u001b[0m | \u001b[0m 4.689   \u001b[0m | \u001b[0m 5.293   \u001b[0m | \u001b[0m 3.332   \u001b[0m | \u001b[0m 67.8    \u001b[0m |\n",
      "| \u001b[0m 33      \u001b[0m | \u001b[0m 89.47   \u001b[0m | \u001b[0m 0.9068  \u001b[0m | \u001b[0m 29.71   \u001b[0m | \u001b[0m 7.926   \u001b[0m | \u001b[0m 6.722   \u001b[0m | \u001b[0m 3.05    \u001b[0m | \u001b[0m 1.459   \u001b[0m | \u001b[0m 8.025   \u001b[0m | \u001b[0m 23.94   \u001b[0m |\n",
      "| \u001b[0m 34      \u001b[0m | \u001b[0m 85.38   \u001b[0m | \u001b[0m 0.3073  \u001b[0m | \u001b[0m 92.22   \u001b[0m | \u001b[0m 7.517   \u001b[0m | \u001b[0m 4.567   \u001b[0m | \u001b[0m 6.652   \u001b[0m | \u001b[0m 7.151   \u001b[0m | \u001b[0m 5.449   \u001b[0m | \u001b[0m 70.46   \u001b[0m |\n",
      "| \u001b[0m 35      \u001b[0m | \u001b[0m 87.62   \u001b[0m | \u001b[0m 0.6535  \u001b[0m | \u001b[0m 3.984   \u001b[0m | \u001b[0m 2.272   \u001b[0m | \u001b[0m 3.149   \u001b[0m | \u001b[0m 5.818   \u001b[0m | \u001b[0m 6.206   \u001b[0m | \u001b[0m 1.15    \u001b[0m | \u001b[0m 24.93   \u001b[0m |\n",
      "| \u001b[0m 36      \u001b[0m | \u001b[0m 81.34   \u001b[0m | \u001b[0m 0.8819  \u001b[0m | \u001b[0m 81.15   \u001b[0m | \u001b[0m 7.692   \u001b[0m | \u001b[0m 8.749   \u001b[0m | \u001b[0m 6.7     \u001b[0m | \u001b[0m 8.714   \u001b[0m | \u001b[0m 5.556   \u001b[0m | \u001b[0m 23.23   \u001b[0m |\n",
      "| \u001b[0m 37      \u001b[0m | \u001b[0m 79.09   \u001b[0m | \u001b[0m 0.1374  \u001b[0m | \u001b[0m 31.76   \u001b[0m | \u001b[0m 7.932   \u001b[0m | \u001b[0m 9.068   \u001b[0m | \u001b[0m 7.637   \u001b[0m | \u001b[0m 3.824   \u001b[0m | \u001b[0m 7.676   \u001b[0m | \u001b[0m 88.88   \u001b[0m |\n",
      "| \u001b[0m 38      \u001b[0m | \u001b[0m 89.01   \u001b[0m | \u001b[0m 0.46    \u001b[0m | \u001b[0m 97.2    \u001b[0m | \u001b[0m 2.676   \u001b[0m | \u001b[0m 8.335   \u001b[0m | \u001b[0m 5.116   \u001b[0m | \u001b[0m 6.339   \u001b[0m | \u001b[0m 3.019   \u001b[0m | \u001b[0m 39.86   \u001b[0m |\n",
      "| \u001b[0m 39      \u001b[0m | \u001b[0m 89.94   \u001b[0m | \u001b[0m 0.819   \u001b[0m | \u001b[0m 12.34   \u001b[0m | \u001b[0m 4.054   \u001b[0m | \u001b[0m 3.544   \u001b[0m | \u001b[0m 4.625   \u001b[0m | \u001b[0m 11.92   \u001b[0m | \u001b[0m 3.022   \u001b[0m | \u001b[0m 46.14   \u001b[0m |\n",
      "| \u001b[0m 40      \u001b[0m | \u001b[0m 90.25   \u001b[0m | \u001b[0m 0.5316  \u001b[0m | \u001b[0m 96.91   \u001b[0m | \u001b[0m 7.768   \u001b[0m | \u001b[0m 4.985   \u001b[0m | \u001b[0m 1.595   \u001b[0m | \u001b[0m 11.85   \u001b[0m | \u001b[0m 2.446   \u001b[0m | \u001b[0m 28.92   \u001b[0m |\n",
      "=========================================================================================================================\n",
      "90.93375038317807\n",
      "Prev Inven : 7, Var Sale : 9, Var Product : 2\n",
      "|   iter    |  target   |  g_alpha  |   k_dot   |   rbf_l   |  theta1   | tmp_pr... | tmp_va... | tmp_va... |  w_noise  |\n",
      "-------------------------------------------------------------------------------------------------------------------------\n",
      "| \u001b[0m 1       \u001b[0m | \u001b[0m 90.22   \u001b[0m | \u001b[0m 0.4129  \u001b[0m | \u001b[0m 72.03   \u001b[0m | \u001b[0m 0.001144\u001b[0m | \u001b[0m 3.023   \u001b[0m | \u001b[0m 2.027   \u001b[0m | \u001b[0m 2.016   \u001b[0m | \u001b[0m 3.049   \u001b[0m | \u001b[0m 34.56   \u001b[0m |\n",
      "| \u001b[95m 2       \u001b[0m | \u001b[95m 90.39   \u001b[0m | \u001b[95m 0.3928  \u001b[0m | \u001b[95m 53.88   \u001b[0m | \u001b[95m 4.192   \u001b[0m | \u001b[95m 6.852   \u001b[0m | \u001b[95m 2.431   \u001b[0m | \u001b[95m 10.66   \u001b[0m | \u001b[95m 1.301   \u001b[0m | \u001b[95m 67.05   \u001b[0m |\n",
      "| \u001b[0m 3       \u001b[0m | \u001b[0m 89.9    \u001b[0m | \u001b[0m 0.4131  \u001b[0m | \u001b[0m 55.87   \u001b[0m | \u001b[0m 1.404   \u001b[0m | \u001b[0m 1.981   \u001b[0m | \u001b[0m 6.605   \u001b[0m | \u001b[0m 11.65   \u001b[0m | \u001b[0m 4.448   \u001b[0m | \u001b[0m 69.23   \u001b[0m |\n",
      "| \u001b[0m 4       \u001b[0m | \u001b[0m 89.39   \u001b[0m | \u001b[0m 0.8676  \u001b[0m | \u001b[0m 89.46   \u001b[0m | \u001b[0m 0.8504  \u001b[0m | \u001b[0m 0.3905  \u001b[0m | \u001b[0m 2.189   \u001b[0m | \u001b[0m 10.66   \u001b[0m | \u001b[0m 2.082   \u001b[0m | \u001b[0m 42.11   \u001b[0m |\n",
      "| \u001b[0m 5       \u001b[0m | \u001b[0m 89.44   \u001b[0m | \u001b[0m 0.9483  \u001b[0m | \u001b[0m 53.32   \u001b[0m | \u001b[0m 6.919   \u001b[0m | \u001b[0m 3.155   \u001b[0m | \u001b[0m 5.806   \u001b[0m | \u001b[0m 10.18   \u001b[0m | \u001b[0m 1.201   \u001b[0m | \u001b[0m 75.01   \u001b[0m |\n",
      "| \u001b[0m 6       \u001b[0m | \u001b[0m 81.36   \u001b[0m | \u001b[0m 0.979   \u001b[0m | \u001b[0m 74.82   \u001b[0m | \u001b[0m 2.804   \u001b[0m | \u001b[0m 7.893   \u001b[0m | \u001b[0m 1.723   \u001b[0m | \u001b[0m 5.927   \u001b[0m | \u001b[0m 10.99   \u001b[0m | \u001b[0m 29.36   \u001b[0m |\n",
      "| \u001b[0m 7       \u001b[0m | \u001b[0m 84.93   \u001b[0m | \u001b[0m 0.2849  \u001b[0m | \u001b[0m 13.0    \u001b[0m | \u001b[0m 0.1937  \u001b[0m | \u001b[0m 6.788   \u001b[0m | \u001b[0m 2.481   \u001b[0m | \u001b[0m 3.921   \u001b[0m | \u001b[0m 6.407   \u001b[0m | \u001b[0m 5.336   \u001b[0m |\n",
      "| \u001b[0m 8       \u001b[0m | \u001b[0m 82.2    \u001b[0m | \u001b[0m 0.5684  \u001b[0m | \u001b[0m 14.67   \u001b[0m | \u001b[0m 5.893   \u001b[0m | \u001b[0m 6.998   \u001b[0m | \u001b[0m 1.716   \u001b[0m | \u001b[0m 5.555   \u001b[0m | \u001b[0m 8.638   \u001b[0m | \u001b[0m 41.42   \u001b[0m |\n",
      "| \u001b[0m 9       \u001b[0m | \u001b[0m 81.41   \u001b[0m | \u001b[0m 0.04945 \u001b[0m | \u001b[0m 53.59   \u001b[0m | \u001b[0m 6.638   \u001b[0m | \u001b[0m 5.149   \u001b[0m | \u001b[0m 7.612   \u001b[0m | \u001b[0m 7.452   \u001b[0m | \u001b[0m 10.94   \u001b[0m | \u001b[0m 13.75   \u001b[0m |\n",
      "| \u001b[0m 10      \u001b[0m | \u001b[0m 81.53   \u001b[0m | \u001b[0m 0.1379  \u001b[0m | \u001b[0m 80.74   \u001b[0m | \u001b[0m 3.977   \u001b[0m | \u001b[0m 1.654   \u001b[0m | \u001b[0m 7.493   \u001b[0m | \u001b[0m 4.825   \u001b[0m | \u001b[0m 9.259   \u001b[0m | \u001b[0m 72.6    \u001b[0m |\n",
      "| \u001b[0m 11      \u001b[0m | \u001b[0m 75.45   \u001b[0m | \u001b[0m 0.9448  \u001b[0m | \u001b[0m 57.68   \u001b[0m | \u001b[0m 0.8736  \u001b[0m | \u001b[0m 1.072   \u001b[0m | \u001b[0m 7.676   \u001b[0m | \u001b[0m 9.859   \u001b[0m | \u001b[0m 5.711   \u001b[0m | \u001b[0m 67.25   \u001b[0m |\n",
      "| \u001b[0m 12      \u001b[0m | \u001b[0m 79.82   \u001b[0m | \u001b[0m 0.7974  \u001b[0m | \u001b[0m 15.18   \u001b[0m | \u001b[0m 3.237   \u001b[0m | \u001b[0m 4.322   \u001b[0m | \u001b[0m 7.715   \u001b[0m | \u001b[0m 8.121   \u001b[0m | \u001b[0m 6.984   \u001b[0m | \u001b[0m 94.76   \u001b[0m |\n",
      "| \u001b[0m 13      \u001b[0m | \u001b[0m 86.06   \u001b[0m | \u001b[0m 0.28    \u001b[0m | \u001b[0m 83.68   \u001b[0m | \u001b[0m 0.1909  \u001b[0m | \u001b[0m 2.006   \u001b[0m | \u001b[0m 3.429   \u001b[0m | \u001b[0m 1.603   \u001b[0m | \u001b[0m 6.838   \u001b[0m | \u001b[0m 40.95   \u001b[0m |\n",
      "| \u001b[0m 14      \u001b[0m | \u001b[0m 88.89   \u001b[0m | \u001b[0m 0.3623  \u001b[0m | \u001b[0m 46.92   \u001b[0m | \u001b[0m 5.373   \u001b[0m | \u001b[0m 2.653   \u001b[0m | \u001b[0m 7.964   \u001b[0m | \u001b[0m 3.462   \u001b[0m | \u001b[0m 3.77    \u001b[0m | \u001b[0m 89.39   \u001b[0m |\n",
      "| \u001b[0m 15      \u001b[0m | \u001b[0m 81.54   \u001b[0m | \u001b[0m 0.1273  \u001b[0m | \u001b[0m 2.083   \u001b[0m | \u001b[0m 8.872   \u001b[0m | \u001b[0m 7.994   \u001b[0m | \u001b[0m 6.618   \u001b[0m | \u001b[0m 6.185   \u001b[0m | \u001b[0m 10.09   \u001b[0m | \u001b[0m 60.05   \u001b[0m |\n",
      "| \u001b[0m 16      \u001b[0m | \u001b[0m 82.62   \u001b[0m | \u001b[0m 0.9449  \u001b[0m | \u001b[0m 50.8    \u001b[0m | \u001b[0m 3.294   \u001b[0m | \u001b[0m 5.376   \u001b[0m | \u001b[0m 5.139   \u001b[0m | \u001b[0m 7.079   \u001b[0m | \u001b[0m 7.993   \u001b[0m | \u001b[0m 88.04   \u001b[0m |\n",
      "| \u001b[0m 17      \u001b[0m | \u001b[0m 81.01   \u001b[0m | \u001b[0m 0.09027 \u001b[0m | \u001b[0m 46.61   \u001b[0m | \u001b[0m 1.003   \u001b[0m | \u001b[0m 7.06    \u001b[0m | \u001b[0m 4.6     \u001b[0m | \u001b[0m 6.36    \u001b[0m | \u001b[0m 11.8    \u001b[0m | \u001b[0m 19.81   \u001b[0m |\n",
      "| \u001b[0m 18      \u001b[0m | \u001b[0m 89.21   \u001b[0m | \u001b[0m 0.08163 \u001b[0m | \u001b[0m 24.96   \u001b[0m | \u001b[0m 2.219   \u001b[0m | \u001b[0m 8.699   \u001b[0m | \u001b[0m 2.599   \u001b[0m | \u001b[0m 5.573   \u001b[0m | \u001b[0m 5.179   \u001b[0m | \u001b[0m 94.97   \u001b[0m |\n",
      "| \u001b[0m 19      \u001b[0m | \u001b[0m 89.57   \u001b[0m | \u001b[0m 0.2393  \u001b[0m | \u001b[0m 84.02   \u001b[0m | \u001b[0m 8.518   \u001b[0m | \u001b[0m 5.874   \u001b[0m | \u001b[0m 2.388   \u001b[0m | \u001b[0m 2.221   \u001b[0m | \u001b[0m 8.923   \u001b[0m | \u001b[0m 62.17   \u001b[0m |\n",
      "| \u001b[0m 20      \u001b[0m | \u001b[0m 87.69   \u001b[0m | \u001b[0m 0.3013  \u001b[0m | \u001b[0m 50.42   \u001b[0m | \u001b[0m 0.02496 \u001b[0m | \u001b[0m 8.423   \u001b[0m | \u001b[0m 6.058   \u001b[0m | \u001b[0m 3.547   \u001b[0m | \u001b[0m 1.452   \u001b[0m | \u001b[0m 76.37   \u001b[0m |\n",
      "| \u001b[0m 21      \u001b[0m | \u001b[0m 84.62   \u001b[0m | \u001b[0m 0.1497  \u001b[0m | \u001b[0m 38.96   \u001b[0m | \u001b[0m 7.288   \u001b[0m | \u001b[0m 6.121   \u001b[0m | \u001b[0m 7.866   \u001b[0m | \u001b[0m 3.209   \u001b[0m | \u001b[0m 6.991   \u001b[0m | \u001b[0m 11.58   \u001b[0m |\n",
      "| \u001b[0m 22      \u001b[0m | \u001b[0m 80.56   \u001b[0m | \u001b[0m 0.6398  \u001b[0m | \u001b[0m 85.62   \u001b[0m | \u001b[0m 3.537   \u001b[0m | \u001b[0m 2.252   \u001b[0m | \u001b[0m 4.368   \u001b[0m | \u001b[0m 6.032   \u001b[0m | \u001b[0m 11.05   \u001b[0m | \u001b[0m 41.2    \u001b[0m |\n",
      "| \u001b[0m 23      \u001b[0m | \u001b[0m 88.45   \u001b[0m | \u001b[0m 0.319   \u001b[0m | \u001b[0m 15.19   \u001b[0m | \u001b[0m 4.066   \u001b[0m | \u001b[0m 7.223   \u001b[0m | \u001b[0m 1.308   \u001b[0m | \u001b[0m 4.426   \u001b[0m | \u001b[0m 2.622   \u001b[0m | \u001b[0m 2.782   \u001b[0m |\n",
      "| \u001b[0m 24      \u001b[0m | \u001b[0m 81.13   \u001b[0m | \u001b[0m 0.1577  \u001b[0m | \u001b[0m 60.27   \u001b[0m | \u001b[0m 1.481   \u001b[0m | \u001b[0m 5.014   \u001b[0m | \u001b[0m 6.581   \u001b[0m | \u001b[0m 9.311   \u001b[0m | \u001b[0m 7.057   \u001b[0m | \u001b[0m 25.51   \u001b[0m |\n",
      "| \u001b[0m 25      \u001b[0m | \u001b[0m 88.95   \u001b[0m | \u001b[0m 0.4122  \u001b[0m | \u001b[0m 9.708   \u001b[0m | \u001b[0m 0.8714  \u001b[0m | \u001b[0m 4.179   \u001b[0m | \u001b[0m 3.133   \u001b[0m | \u001b[0m 8.801   \u001b[0m | \u001b[0m 1.653   \u001b[0m | \u001b[0m 14.78   \u001b[0m |\n",
      "| \u001b[0m 26      \u001b[0m | \u001b[0m 88.93   \u001b[0m | \u001b[0m 0.3023  \u001b[0m | \u001b[0m 44.7    \u001b[0m | \u001b[0m 1.256   \u001b[0m | \u001b[0m 2.499   \u001b[0m | \u001b[0m 7.281   \u001b[0m | \u001b[0m 2.0     \u001b[0m | \u001b[0m 9.061   \u001b[0m | \u001b[0m 67.03   \u001b[0m |\n",
      "| \u001b[0m 27      \u001b[0m | \u001b[0m 82.41   \u001b[0m | \u001b[0m 0.6716  \u001b[0m | \u001b[0m 74.13   \u001b[0m | \u001b[0m 8.726   \u001b[0m | \u001b[0m 6.291   \u001b[0m | \u001b[0m 1.662   \u001b[0m | \u001b[0m 4.992   \u001b[0m | \u001b[0m 8.013   \u001b[0m | \u001b[0m 5.108   \u001b[0m |\n",
      "| \u001b[0m 28      \u001b[0m | \u001b[0m 84.07   \u001b[0m | \u001b[0m 0.9363  \u001b[0m | \u001b[0m 98.73   \u001b[0m | \u001b[0m 6.256   \u001b[0m | \u001b[0m 2.373   \u001b[0m | \u001b[0m 7.05    \u001b[0m | \u001b[0m 7.771   \u001b[0m | \u001b[0m 8.389   \u001b[0m | \u001b[0m 6.098   \u001b[0m |\n",
      "| \u001b[0m 29      \u001b[0m | \u001b[0m 88.68   \u001b[0m | \u001b[0m 0.5591  \u001b[0m | \u001b[0m 80.87   \u001b[0m | \u001b[0m 9.738   \u001b[0m | \u001b[0m 0.8996  \u001b[0m | \u001b[0m 4.301   \u001b[0m | \u001b[0m 4.378   \u001b[0m | \u001b[0m 2.223   \u001b[0m | \u001b[0m 74.8    \u001b[0m |\n",
      "| \u001b[0m 30      \u001b[0m | \u001b[0m 77.43   \u001b[0m | \u001b[0m 0.8057  \u001b[0m | \u001b[0m 91.21   \u001b[0m | \u001b[0m 6.691   \u001b[0m | \u001b[0m 6.231   \u001b[0m | \u001b[0m 4.306   \u001b[0m | \u001b[0m 9.923   \u001b[0m | \u001b[0m 6.994   \u001b[0m | \u001b[0m 90.43   \u001b[0m |\n",
      "| \u001b[0m 31      \u001b[0m | \u001b[0m 88.14   \u001b[0m | \u001b[0m 0.8264  \u001b[0m | \u001b[0m 84.42   \u001b[0m | \u001b[0m 6.595   \u001b[0m | \u001b[0m 7.349   \u001b[0m | \u001b[0m 3.684   \u001b[0m | \u001b[0m 8.35    \u001b[0m | \u001b[0m 4.722   \u001b[0m | \u001b[0m 6.942   \u001b[0m |\n",
      "| \u001b[0m 32      \u001b[0m | \u001b[0m 87.88   \u001b[0m | \u001b[0m 0.7607  \u001b[0m | \u001b[0m 19.78   \u001b[0m | \u001b[0m 7.618   \u001b[0m | \u001b[0m 9.706   \u001b[0m | \u001b[0m 4.689   \u001b[0m | \u001b[0m 5.293   \u001b[0m | \u001b[0m 3.332   \u001b[0m | \u001b[0m 67.8    \u001b[0m |\n",
      "| \u001b[0m 33      \u001b[0m | \u001b[0m 90.35   \u001b[0m | \u001b[0m 0.9068  \u001b[0m | \u001b[0m 29.71   \u001b[0m | \u001b[0m 7.926   \u001b[0m | \u001b[0m 6.722   \u001b[0m | \u001b[0m 3.05    \u001b[0m | \u001b[0m 1.459   \u001b[0m | \u001b[0m 8.025   \u001b[0m | \u001b[0m 23.94   \u001b[0m |\n",
      "| \u001b[0m 34      \u001b[0m | \u001b[0m 88.55   \u001b[0m | \u001b[0m 0.3073  \u001b[0m | \u001b[0m 92.22   \u001b[0m | \u001b[0m 7.517   \u001b[0m | \u001b[0m 4.567   \u001b[0m | \u001b[0m 6.652   \u001b[0m | \u001b[0m 7.151   \u001b[0m | \u001b[0m 5.449   \u001b[0m | \u001b[0m 70.46   \u001b[0m |\n",
      "| \u001b[0m 35      \u001b[0m | \u001b[0m 89.11   \u001b[0m | \u001b[0m 0.6535  \u001b[0m | \u001b[0m 3.984   \u001b[0m | \u001b[0m 2.272   \u001b[0m | \u001b[0m 3.149   \u001b[0m | \u001b[0m 5.818   \u001b[0m | \u001b[0m 6.206   \u001b[0m | \u001b[0m 1.15    \u001b[0m | \u001b[0m 24.93   \u001b[0m |\n",
      "| \u001b[0m 36      \u001b[0m | \u001b[0m 80.91   \u001b[0m | \u001b[0m 0.8819  \u001b[0m | \u001b[0m 81.15   \u001b[0m | \u001b[0m 7.692   \u001b[0m | \u001b[0m 8.749   \u001b[0m | \u001b[0m 6.7     \u001b[0m | \u001b[0m 8.714   \u001b[0m | \u001b[0m 5.556   \u001b[0m | \u001b[0m 23.23   \u001b[0m |\n",
      "| \u001b[0m 37      \u001b[0m | \u001b[0m 81.88   \u001b[0m | \u001b[0m 0.1374  \u001b[0m | \u001b[0m 31.76   \u001b[0m | \u001b[0m 7.932   \u001b[0m | \u001b[0m 9.068   \u001b[0m | \u001b[0m 7.637   \u001b[0m | \u001b[0m 3.824   \u001b[0m | \u001b[0m 7.676   \u001b[0m | \u001b[0m 88.88   \u001b[0m |\n",
      "| \u001b[0m 38      \u001b[0m | \u001b[0m 89.44   \u001b[0m | \u001b[0m 0.46    \u001b[0m | \u001b[0m 97.2    \u001b[0m | \u001b[0m 2.676   \u001b[0m | \u001b[0m 8.335   \u001b[0m | \u001b[0m 5.116   \u001b[0m | \u001b[0m 6.339   \u001b[0m | \u001b[0m 3.019   \u001b[0m | \u001b[0m 39.86   \u001b[0m |\n",
      "| \u001b[0m 39      \u001b[0m | \u001b[0m 89.53   \u001b[0m | \u001b[0m 0.819   \u001b[0m | \u001b[0m 12.34   \u001b[0m | \u001b[0m 4.054   \u001b[0m | \u001b[0m 3.544   \u001b[0m | \u001b[0m 4.625   \u001b[0m | \u001b[0m 11.92   \u001b[0m | \u001b[0m 3.022   \u001b[0m | \u001b[0m 46.14   \u001b[0m |\n",
      "| \u001b[0m 40      \u001b[0m | \u001b[0m 89.79   \u001b[0m | \u001b[0m 0.5316  \u001b[0m | \u001b[0m 96.91   \u001b[0m | \u001b[0m 7.768   \u001b[0m | \u001b[0m 4.985   \u001b[0m | \u001b[0m 1.595   \u001b[0m | \u001b[0m 11.85   \u001b[0m | \u001b[0m 2.446   \u001b[0m | \u001b[0m 28.92   \u001b[0m |\n",
      "=========================================================================================================================\n",
      "90.39133839576186\n",
      "Prev Inven : 2, Var Sale : 1, Var Product : 11\n",
      "|   iter    |  target   |  g_alpha  |   k_dot   |   rbf_l   |  theta1   | tmp_pr... | tmp_va... | tmp_va... |  w_noise  |\n",
      "-------------------------------------------------------------------------------------------------------------------------\n",
      "| \u001b[0m 1       \u001b[0m | \u001b[0m 93.1    \u001b[0m | \u001b[0m 0.4129  \u001b[0m | \u001b[0m 72.03   \u001b[0m | \u001b[0m 0.001144\u001b[0m | \u001b[0m 3.023   \u001b[0m | \u001b[0m 2.027   \u001b[0m | \u001b[0m 2.016   \u001b[0m | \u001b[0m 3.049   \u001b[0m | \u001b[0m 34.56   \u001b[0m |\n",
      "| \u001b[95m 2       \u001b[0m | \u001b[95m 94.73   \u001b[0m | \u001b[95m 0.3928  \u001b[0m | \u001b[95m 53.88   \u001b[0m | \u001b[95m 4.192   \u001b[0m | \u001b[95m 6.852   \u001b[0m | \u001b[95m 2.431   \u001b[0m | \u001b[95m 10.66   \u001b[0m | \u001b[95m 1.301   \u001b[0m | \u001b[95m 67.05   \u001b[0m |\n",
      "| \u001b[0m 3       \u001b[0m | \u001b[0m 90.63   \u001b[0m | \u001b[0m 0.4131  \u001b[0m | \u001b[0m 55.87   \u001b[0m | \u001b[0m 1.404   \u001b[0m | \u001b[0m 1.981   \u001b[0m | \u001b[0m 6.605   \u001b[0m | \u001b[0m 11.65   \u001b[0m | \u001b[0m 4.448   \u001b[0m | \u001b[0m 69.23   \u001b[0m |\n",
      "| \u001b[95m 4       \u001b[0m | \u001b[95m 94.88   \u001b[0m | \u001b[95m 0.8676  \u001b[0m | \u001b[95m 89.46   \u001b[0m | \u001b[95m 0.8504  \u001b[0m | \u001b[95m 0.3905  \u001b[0m | \u001b[95m 2.189   \u001b[0m | \u001b[95m 10.66   \u001b[0m | \u001b[95m 2.082   \u001b[0m | \u001b[95m 42.11   \u001b[0m |\n",
      "| \u001b[0m 5       \u001b[0m | \u001b[0m 93.69   \u001b[0m | \u001b[0m 0.9483  \u001b[0m | \u001b[0m 53.32   \u001b[0m | \u001b[0m 6.919   \u001b[0m | \u001b[0m 3.155   \u001b[0m | \u001b[0m 5.806   \u001b[0m | \u001b[0m 10.18   \u001b[0m | \u001b[0m 1.201   \u001b[0m | \u001b[0m 75.01   \u001b[0m |\n",
      "| \u001b[0m 6       \u001b[0m | \u001b[0m 90.98   \u001b[0m | \u001b[0m 0.979   \u001b[0m | \u001b[0m 74.82   \u001b[0m | \u001b[0m 2.804   \u001b[0m | \u001b[0m 7.893   \u001b[0m | \u001b[0m 1.723   \u001b[0m | \u001b[0m 5.927   \u001b[0m | \u001b[0m 10.99   \u001b[0m | \u001b[0m 29.36   \u001b[0m |\n",
      "| \u001b[0m 7       \u001b[0m | \u001b[0m 90.88   \u001b[0m | \u001b[0m 0.2849  \u001b[0m | \u001b[0m 13.0    \u001b[0m | \u001b[0m 0.1937  \u001b[0m | \u001b[0m 6.788   \u001b[0m | \u001b[0m 2.481   \u001b[0m | \u001b[0m 3.921   \u001b[0m | \u001b[0m 6.407   \u001b[0m | \u001b[0m 5.336   \u001b[0m |\n",
      "| \u001b[0m 8       \u001b[0m | \u001b[0m 91.18   \u001b[0m | \u001b[0m 0.5684  \u001b[0m | \u001b[0m 14.67   \u001b[0m | \u001b[0m 5.893   \u001b[0m | \u001b[0m 6.998   \u001b[0m | \u001b[0m 1.716   \u001b[0m | \u001b[0m 5.555   \u001b[0m | \u001b[0m 8.638   \u001b[0m | \u001b[0m 41.42   \u001b[0m |\n",
      "| \u001b[0m 9       \u001b[0m | \u001b[0m 89.81   \u001b[0m | \u001b[0m 0.04945 \u001b[0m | \u001b[0m 53.59   \u001b[0m | \u001b[0m 6.638   \u001b[0m | \u001b[0m 5.149   \u001b[0m | \u001b[0m 7.612   \u001b[0m | \u001b[0m 7.452   \u001b[0m | \u001b[0m 10.94   \u001b[0m | \u001b[0m 13.75   \u001b[0m |\n",
      "| \u001b[0m 10      \u001b[0m | \u001b[0m 88.22   \u001b[0m | \u001b[0m 0.1379  \u001b[0m | \u001b[0m 80.74   \u001b[0m | \u001b[0m 3.977   \u001b[0m | \u001b[0m 1.654   \u001b[0m | \u001b[0m 7.493   \u001b[0m | \u001b[0m 4.825   \u001b[0m | \u001b[0m 9.259   \u001b[0m | \u001b[0m 72.6    \u001b[0m |\n",
      "| \u001b[0m 11      \u001b[0m | \u001b[0m 91.41   \u001b[0m | \u001b[0m 0.8996  \u001b[0m | \u001b[0m 95.18   \u001b[0m | \u001b[0m 9.181   \u001b[0m | \u001b[0m 3.227   \u001b[0m | \u001b[0m 6.661   \u001b[0m | \u001b[0m 11.08   \u001b[0m | \u001b[0m 5.039   \u001b[0m | \u001b[0m 69.01   \u001b[0m |\n",
      "| \u001b[0m 12      \u001b[0m | \u001b[0m 84.97   \u001b[0m | \u001b[0m 0.7974  \u001b[0m | \u001b[0m 15.18   \u001b[0m | \u001b[0m 3.237   \u001b[0m | \u001b[0m 4.322   \u001b[0m | \u001b[0m 7.715   \u001b[0m | \u001b[0m 8.121   \u001b[0m | \u001b[0m 6.984   \u001b[0m | \u001b[0m 94.76   \u001b[0m |\n",
      "| \u001b[0m 13      \u001b[0m | \u001b[0m 88.67   \u001b[0m | \u001b[0m 0.28    \u001b[0m | \u001b[0m 83.68   \u001b[0m | \u001b[0m 0.1909  \u001b[0m | \u001b[0m 2.006   \u001b[0m | \u001b[0m 3.429   \u001b[0m | \u001b[0m 1.603   \u001b[0m | \u001b[0m 6.838   \u001b[0m | \u001b[0m 40.95   \u001b[0m |\n",
      "| \u001b[0m 14      \u001b[0m | \u001b[0m 91.3    \u001b[0m | \u001b[0m 0.3623  \u001b[0m | \u001b[0m 46.92   \u001b[0m | \u001b[0m 5.373   \u001b[0m | \u001b[0m 2.653   \u001b[0m | \u001b[0m 7.964   \u001b[0m | \u001b[0m 3.462   \u001b[0m | \u001b[0m 3.77    \u001b[0m | \u001b[0m 89.39   \u001b[0m |\n",
      "| \u001b[0m 15      \u001b[0m | \u001b[0m 93.84   \u001b[0m | \u001b[0m 0.6089  \u001b[0m | \u001b[0m 53.51   \u001b[0m | \u001b[0m 5.472   \u001b[0m | \u001b[0m 5.774   \u001b[0m | \u001b[0m 3.436   \u001b[0m | \u001b[0m 10.4    \u001b[0m | \u001b[0m 1.023   \u001b[0m | \u001b[0m 70.0    \u001b[0m |\n",
      "| \u001b[0m 16      \u001b[0m | \u001b[0m 94.68   \u001b[0m | \u001b[0m 0.452   \u001b[0m | \u001b[0m 51.61   \u001b[0m | \u001b[0m 7.585   \u001b[0m | \u001b[0m 10.0    \u001b[0m | \u001b[0m 1.0     \u001b[0m | \u001b[0m 9.527   \u001b[0m | \u001b[0m 1.0     \u001b[0m | \u001b[0m 65.85   \u001b[0m |\n"
     ]
    },
    {
     "name": "stderr",
     "output_type": "stream",
     "text": [
      "/opt/conda/envs/rapids/lib/python3.7/site-packages/sklearn/gaussian_process/kernels.py:271: RuntimeWarning: divide by zero encountered in log\n",
      "  return np.log(np.hstack(theta))\n"
     ]
    },
    {
     "name": "stdout",
     "output_type": "stream",
     "text": [
      "| \u001b[0m 17      \u001b[0m | \u001b[0m 93.66   \u001b[0m | \u001b[0m 0.99    \u001b[0m | \u001b[0m 96.47   \u001b[0m | \u001b[0m 1.666   \u001b[0m | \u001b[0m 0.0     \u001b[0m | \u001b[0m 1.0     \u001b[0m | \u001b[0m 12.0    \u001b[0m | \u001b[0m 1.0     \u001b[0m | \u001b[0m 43.27   \u001b[0m |\n",
      "| \u001b[0m 18      \u001b[0m | \u001b[0m 93.68   \u001b[0m | \u001b[0m 0.99    \u001b[0m | \u001b[0m 47.4    \u001b[0m | \u001b[0m 0.4655  \u001b[0m | \u001b[0m 10.0    \u001b[0m | \u001b[0m 1.0     \u001b[0m | \u001b[0m 12.0    \u001b[0m | \u001b[0m 1.0     \u001b[0m | \u001b[0m 64.95   \u001b[0m |\n",
      "| \u001b[0m 19      \u001b[0m | \u001b[0m 92.87   \u001b[0m | \u001b[0m 0.0     \u001b[0m | \u001b[0m 54.98   \u001b[0m | \u001b[0m 2.197   \u001b[0m | \u001b[0m 10.0    \u001b[0m | \u001b[0m 1.0     \u001b[0m | \u001b[0m 3.555   \u001b[0m | \u001b[0m 1.0     \u001b[0m | \u001b[0m 62.67   \u001b[0m |\n",
      "| \u001b[0m 20      \u001b[0m | \u001b[0m 93.66   \u001b[0m | \u001b[0m 0.99    \u001b[0m | \u001b[0m 51.66   \u001b[0m | \u001b[0m 8.123   \u001b[0m | \u001b[0m 4.171   \u001b[0m | \u001b[0m 1.0     \u001b[0m | \u001b[0m 12.0    \u001b[0m | \u001b[0m 1.0     \u001b[0m | \u001b[0m 59.55   \u001b[0m |\n"
     ]
    },
    {
     "name": "stderr",
     "output_type": "stream",
     "text": [
      "/opt/conda/envs/rapids/lib/python3.7/site-packages/sklearn/gaussian_process/kernels.py:271: RuntimeWarning: divide by zero encountered in log\n",
      "  return np.log(np.hstack(theta))\n"
     ]
    },
    {
     "name": "stdout",
     "output_type": "stream",
     "text": [
      "| \u001b[0m 21      \u001b[0m | \u001b[0m 93.66   \u001b[0m | \u001b[0m 0.99    \u001b[0m | \u001b[0m 89.14   \u001b[0m | \u001b[0m 9.233   \u001b[0m | \u001b[0m 0.0     \u001b[0m | \u001b[0m 1.0     \u001b[0m | \u001b[0m 12.0    \u001b[0m | \u001b[0m 1.0     \u001b[0m | \u001b[0m 39.59   \u001b[0m |\n",
      "| \u001b[0m 22      \u001b[0m | \u001b[0m 93.68   \u001b[0m | \u001b[0m 0.0     \u001b[0m | \u001b[0m 60.59   \u001b[0m | \u001b[0m 9.886   \u001b[0m | \u001b[0m 10.0    \u001b[0m | \u001b[0m 1.0     \u001b[0m | \u001b[0m 12.0    \u001b[0m | \u001b[0m 1.0     \u001b[0m | \u001b[0m 64.9    \u001b[0m |\n"
     ]
    },
    {
     "name": "stderr",
     "output_type": "stream",
     "text": [
      "/opt/conda/envs/rapids/lib/python3.7/site-packages/sklearn/gaussian_process/kernels.py:271: RuntimeWarning: divide by zero encountered in log\n",
      "  return np.log(np.hstack(theta))\n"
     ]
    },
    {
     "name": "stdout",
     "output_type": "stream",
     "text": [
      "| \u001b[0m 23      \u001b[0m | \u001b[0m 93.91   \u001b[0m | \u001b[0m 0.99    \u001b[0m | \u001b[0m 92.17   \u001b[0m | \u001b[0m 0.0     \u001b[0m | \u001b[0m 0.0     \u001b[0m | \u001b[0m 7.216   \u001b[0m | \u001b[0m 12.0    \u001b[0m | \u001b[0m 1.0     \u001b[0m | \u001b[0m 34.56   \u001b[0m |\n"
     ]
    },
    {
     "name": "stderr",
     "output_type": "stream",
     "text": [
      "/opt/conda/envs/rapids/lib/python3.7/site-packages/sklearn/gaussian_process/kernels.py:271: RuntimeWarning: divide by zero encountered in log\n",
      "  return np.log(np.hstack(theta))\n"
     ]
    },
    {
     "name": "stdout",
     "output_type": "stream",
     "text": [
      "| \u001b[0m 24      \u001b[0m | \u001b[0m 93.66   \u001b[0m | \u001b[0m 0.99    \u001b[0m | \u001b[0m 91.28   \u001b[0m | \u001b[0m 0.0     \u001b[0m | \u001b[0m 9.736   \u001b[0m | \u001b[0m 1.0     \u001b[0m | \u001b[0m 12.0    \u001b[0m | \u001b[0m 1.0     \u001b[0m | \u001b[0m 39.43   \u001b[0m |\n",
      "| \u001b[0m 25      \u001b[0m | \u001b[0m 83.21   \u001b[0m | \u001b[0m 0.0     \u001b[0m | \u001b[0m 50.68   \u001b[0m | \u001b[0m 10.0    \u001b[0m | \u001b[0m 10.0    \u001b[0m | \u001b[0m 1.0     \u001b[0m | \u001b[0m 12.0    \u001b[0m | \u001b[0m 11.75   \u001b[0m | \u001b[0m 66.44   \u001b[0m |\n",
      "| \u001b[0m 26      \u001b[0m | \u001b[0m 93.15   \u001b[0m | \u001b[0m 0.99    \u001b[0m | \u001b[0m 90.96   \u001b[0m | \u001b[0m 4.53    \u001b[0m | \u001b[0m 4.619   \u001b[0m | \u001b[0m 8.0     \u001b[0m | \u001b[0m 12.0    \u001b[0m | \u001b[0m 1.0     \u001b[0m | \u001b[0m 45.62   \u001b[0m |\n"
     ]
    },
    {
     "name": "stderr",
     "output_type": "stream",
     "text": [
      "/opt/conda/envs/rapids/lib/python3.7/site-packages/sklearn/gaussian_process/kernels.py:271: RuntimeWarning: divide by zero encountered in log\n",
      "  return np.log(np.hstack(theta))\n"
     ]
    },
    {
     "name": "stdout",
     "output_type": "stream",
     "text": [
      "| \u001b[0m 27      \u001b[0m | \u001b[0m 93.66   \u001b[0m | \u001b[0m 0.99    \u001b[0m | \u001b[0m 83.6    \u001b[0m | \u001b[0m 0.0     \u001b[0m | \u001b[0m 0.0     \u001b[0m | \u001b[0m 1.0     \u001b[0m | \u001b[0m 12.0    \u001b[0m | \u001b[0m 1.0     \u001b[0m | \u001b[0m 33.29   \u001b[0m |\n",
      "| \u001b[0m 28      \u001b[0m | \u001b[0m 93.66   \u001b[0m | \u001b[0m 0.0     \u001b[0m | \u001b[0m 96.28   \u001b[0m | \u001b[0m 6.208   \u001b[0m | \u001b[0m 5.221   \u001b[0m | \u001b[0m 1.0     \u001b[0m | \u001b[0m 12.0    \u001b[0m | \u001b[0m 1.0     \u001b[0m | \u001b[0m 28.27   \u001b[0m |\n"
     ]
    },
    {
     "name": "stderr",
     "output_type": "stream",
     "text": [
      "/opt/conda/envs/rapids/lib/python3.7/site-packages/sklearn/gaussian_process/kernels.py:271: RuntimeWarning: divide by zero encountered in log\n",
      "  return np.log(np.hstack(theta))\n"
     ]
    },
    {
     "name": "stdout",
     "output_type": "stream",
     "text": [
      "| \u001b[0m 29      \u001b[0m | \u001b[0m 93.66   \u001b[0m | \u001b[0m 0.99    \u001b[0m | \u001b[0m 90.6    \u001b[0m | \u001b[0m 0.0     \u001b[0m | \u001b[0m 0.0     \u001b[0m | \u001b[0m 1.0     \u001b[0m | \u001b[0m 12.0    \u001b[0m | \u001b[0m 1.0     \u001b[0m | \u001b[0m 19.49   \u001b[0m |\n"
     ]
    },
    {
     "name": "stderr",
     "output_type": "stream",
     "text": [
      "/opt/conda/envs/rapids/lib/python3.7/site-packages/sklearn/gaussian_process/kernels.py:271: RuntimeWarning: divide by zero encountered in log\n",
      "  return np.log(np.hstack(theta))\n"
     ]
    },
    {
     "name": "stdout",
     "output_type": "stream",
     "text": [
      "| \u001b[0m 30      \u001b[0m | \u001b[0m 84.38   \u001b[0m | \u001b[0m 0.99    \u001b[0m | \u001b[0m 95.95   \u001b[0m | \u001b[0m 0.0     \u001b[0m | \u001b[0m 0.0     \u001b[0m | \u001b[0m 1.0     \u001b[0m | \u001b[0m 12.0    \u001b[0m | \u001b[0m 10.38   \u001b[0m | \u001b[0m 32.36   \u001b[0m |\n",
      "| \u001b[0m 31      \u001b[0m | \u001b[0m 93.91   \u001b[0m | \u001b[0m 0.0     \u001b[0m | \u001b[0m 87.33   \u001b[0m | \u001b[0m 6.695   \u001b[0m | \u001b[0m 6.79    \u001b[0m | \u001b[0m 7.392   \u001b[0m | \u001b[0m 12.0    \u001b[0m | \u001b[0m 1.0     \u001b[0m | \u001b[0m 30.93   \u001b[0m |\n",
      "| \u001b[0m 32      \u001b[0m | \u001b[0m 94.18   \u001b[0m | \u001b[0m 0.0     \u001b[0m | \u001b[0m 88.96   \u001b[0m | \u001b[0m 10.0    \u001b[0m | \u001b[0m 6.657   \u001b[0m | \u001b[0m 2.146   \u001b[0m | \u001b[0m 12.0    \u001b[0m | \u001b[0m 1.0     \u001b[0m | \u001b[0m 19.93   \u001b[0m |\n"
     ]
    },
    {
     "name": "stderr",
     "output_type": "stream",
     "text": [
      "/opt/conda/envs/rapids/lib/python3.7/site-packages/sklearn/gaussian_process/kernels.py:271: RuntimeWarning: divide by zero encountered in log\n",
      "  return np.log(np.hstack(theta))\n"
     ]
    },
    {
     "name": "stdout",
     "output_type": "stream",
     "text": [
      "| \u001b[0m 33      \u001b[0m | \u001b[0m 93.15   \u001b[0m | \u001b[0m 0.99    \u001b[0m | \u001b[0m 82.56   \u001b[0m | \u001b[0m 6.078   \u001b[0m | \u001b[0m 0.0     \u001b[0m | \u001b[0m 8.0     \u001b[0m | \u001b[0m 12.0    \u001b[0m | \u001b[0m 1.0     \u001b[0m | \u001b[0m 21.34   \u001b[0m |\n",
      "| \u001b[0m 34      \u001b[0m | \u001b[0m 93.15   \u001b[0m | \u001b[0m 0.0     \u001b[0m | \u001b[0m 93.09   \u001b[0m | \u001b[0m 2.084   \u001b[0m | \u001b[0m 10.0    \u001b[0m | \u001b[0m 8.0     \u001b[0m | \u001b[0m 12.0    \u001b[0m | \u001b[0m 1.0     \u001b[0m | \u001b[0m 19.85   \u001b[0m |\n",
      "| \u001b[0m 35      \u001b[0m | \u001b[0m 92.92   \u001b[0m | \u001b[0m 0.0     \u001b[0m | \u001b[0m 93.84   \u001b[0m | \u001b[0m 10.0    \u001b[0m | \u001b[0m 1.89    \u001b[0m | \u001b[0m 7.021   \u001b[0m | \u001b[0m 4.158   \u001b[0m | \u001b[0m 1.0     \u001b[0m | \u001b[0m 21.29   \u001b[0m |\n",
      "| \u001b[0m 36      \u001b[0m | \u001b[0m 93.66   \u001b[0m | \u001b[0m 0.0     \u001b[0m | \u001b[0m 91.86   \u001b[0m | \u001b[0m 7.295   \u001b[0m | \u001b[0m 2.33    \u001b[0m | \u001b[0m 1.0     \u001b[0m | \u001b[0m 12.0    \u001b[0m | \u001b[0m 1.0     \u001b[0m | \u001b[0m 8.777   \u001b[0m |\n",
      "| \u001b[0m 37      \u001b[0m | \u001b[0m 93.52   \u001b[0m | \u001b[0m 0.99    \u001b[0m | \u001b[0m 84.66   \u001b[0m | \u001b[0m 2.574   \u001b[0m | \u001b[0m 7.64    \u001b[0m | \u001b[0m 1.0     \u001b[0m | \u001b[0m 4.816   \u001b[0m | \u001b[0m 1.0     \u001b[0m | \u001b[0m 13.37   \u001b[0m |\n",
      "| \u001b[0m 38      \u001b[0m | \u001b[0m 93.66   \u001b[0m | \u001b[0m 0.99    \u001b[0m | \u001b[0m 100.0   \u001b[0m | \u001b[0m 10.0    \u001b[0m | \u001b[0m 10.0    \u001b[0m | \u001b[0m 1.0     \u001b[0m | \u001b[0m 12.0    \u001b[0m | \u001b[0m 1.0     \u001b[0m | \u001b[0m 15.76   \u001b[0m |\n",
      "| \u001b[0m 39      \u001b[0m | \u001b[0m 84.06   \u001b[0m | \u001b[0m 0.7788  \u001b[0m | \u001b[0m 89.98   \u001b[0m | \u001b[0m 9.886   \u001b[0m | \u001b[0m 7.209   \u001b[0m | \u001b[0m 5.89    \u001b[0m | \u001b[0m 10.95   \u001b[0m | \u001b[0m 11.46   \u001b[0m | \u001b[0m 10.31   \u001b[0m |\n"
     ]
    },
    {
     "name": "stderr",
     "output_type": "stream",
     "text": [
      "/opt/conda/envs/rapids/lib/python3.7/site-packages/sklearn/gaussian_process/kernels.py:271: RuntimeWarning: divide by zero encountered in log\n",
      "  return np.log(np.hstack(theta))\n"
     ]
    },
    {
     "name": "stdout",
     "output_type": "stream",
     "text": [
      "| \u001b[0m 40      \u001b[0m | \u001b[0m 93.52   \u001b[0m | \u001b[0m 0.0     \u001b[0m | \u001b[0m 100.0   \u001b[0m | \u001b[0m 0.0     \u001b[0m | \u001b[0m 1.88    \u001b[0m | \u001b[0m 1.0     \u001b[0m | \u001b[0m 5.453   \u001b[0m | \u001b[0m 1.0     \u001b[0m | \u001b[0m 11.09   \u001b[0m |\n",
      "=========================================================================================================================\n",
      "94.88331112726279\n",
      "Prev Inven : 2, Var Sale : 2, Var Product : 11\n",
      "|   iter    |  target   |  g_alpha  |   k_dot   |   rbf_l   |  theta1   | tmp_pr... | tmp_va... | tmp_va... |  w_noise  |\n",
      "-------------------------------------------------------------------------------------------------------------------------\n",
      "| \u001b[0m 1       \u001b[0m | \u001b[0m 93.83   \u001b[0m | \u001b[0m 0.4129  \u001b[0m | \u001b[0m 72.03   \u001b[0m | \u001b[0m 0.001144\u001b[0m | \u001b[0m 3.023   \u001b[0m | \u001b[0m 2.027   \u001b[0m | \u001b[0m 2.016   \u001b[0m | \u001b[0m 3.049   \u001b[0m | \u001b[0m 34.56   \u001b[0m |\n",
      "| \u001b[95m 2       \u001b[0m | \u001b[95m 95.1    \u001b[0m | \u001b[95m 0.3928  \u001b[0m | \u001b[95m 53.88   \u001b[0m | \u001b[95m 4.192   \u001b[0m | \u001b[95m 6.852   \u001b[0m | \u001b[95m 2.431   \u001b[0m | \u001b[95m 10.66   \u001b[0m | \u001b[95m 1.301   \u001b[0m | \u001b[95m 67.05   \u001b[0m |\n",
      "| \u001b[0m 3       \u001b[0m | \u001b[0m 92.05   \u001b[0m | \u001b[0m 0.4131  \u001b[0m | \u001b[0m 55.87   \u001b[0m | \u001b[0m 1.404   \u001b[0m | \u001b[0m 1.981   \u001b[0m | \u001b[0m 6.605   \u001b[0m | \u001b[0m 11.65   \u001b[0m | \u001b[0m 4.448   \u001b[0m | \u001b[0m 69.23   \u001b[0m |\n",
      "| \u001b[95m 4       \u001b[0m | \u001b[95m 95.81   \u001b[0m | \u001b[95m 0.8676  \u001b[0m | \u001b[95m 89.46   \u001b[0m | \u001b[95m 0.8504  \u001b[0m | \u001b[95m 0.3905  \u001b[0m | \u001b[95m 2.189   \u001b[0m | \u001b[95m 10.66   \u001b[0m | \u001b[95m 2.082   \u001b[0m | \u001b[95m 42.11   \u001b[0m |\n",
      "| \u001b[0m 5       \u001b[0m | \u001b[0m 95.64   \u001b[0m | \u001b[0m 0.9483  \u001b[0m | \u001b[0m 53.32   \u001b[0m | \u001b[0m 6.919   \u001b[0m | \u001b[0m 3.155   \u001b[0m | \u001b[0m 5.806   \u001b[0m | \u001b[0m 10.18   \u001b[0m | \u001b[0m 1.201   \u001b[0m | \u001b[0m 75.01   \u001b[0m |\n",
      "| \u001b[0m 6       \u001b[0m | \u001b[0m 91.94   \u001b[0m | \u001b[0m 0.979   \u001b[0m | \u001b[0m 74.82   \u001b[0m | \u001b[0m 2.804   \u001b[0m | \u001b[0m 7.893   \u001b[0m | \u001b[0m 1.723   \u001b[0m | \u001b[0m 5.927   \u001b[0m | \u001b[0m 10.99   \u001b[0m | \u001b[0m 29.36   \u001b[0m |\n",
      "| \u001b[0m 7       \u001b[0m | \u001b[0m 92.75   \u001b[0m | \u001b[0m 0.2849  \u001b[0m | \u001b[0m 13.0    \u001b[0m | \u001b[0m 0.1937  \u001b[0m | \u001b[0m 6.788   \u001b[0m | \u001b[0m 2.481   \u001b[0m | \u001b[0m 3.921   \u001b[0m | \u001b[0m 6.407   \u001b[0m | \u001b[0m 5.336   \u001b[0m |\n",
      "| \u001b[0m 8       \u001b[0m | \u001b[0m 92.61   \u001b[0m | \u001b[0m 0.5684  \u001b[0m | \u001b[0m 14.67   \u001b[0m | \u001b[0m 5.893   \u001b[0m | \u001b[0m 6.998   \u001b[0m | \u001b[0m 1.716   \u001b[0m | \u001b[0m 5.555   \u001b[0m | \u001b[0m 8.638   \u001b[0m | \u001b[0m 41.42   \u001b[0m |\n",
      "| \u001b[0m 9       \u001b[0m | \u001b[0m 89.72   \u001b[0m | \u001b[0m 0.04945 \u001b[0m | \u001b[0m 53.59   \u001b[0m | \u001b[0m 6.638   \u001b[0m | \u001b[0m 5.149   \u001b[0m | \u001b[0m 7.612   \u001b[0m | \u001b[0m 7.452   \u001b[0m | \u001b[0m 10.94   \u001b[0m | \u001b[0m 13.75   \u001b[0m |\n",
      "| \u001b[0m 10      \u001b[0m | \u001b[0m 90.84   \u001b[0m | \u001b[0m 0.1379  \u001b[0m | \u001b[0m 80.74   \u001b[0m | \u001b[0m 3.977   \u001b[0m | \u001b[0m 1.654   \u001b[0m | \u001b[0m 7.493   \u001b[0m | \u001b[0m 4.825   \u001b[0m | \u001b[0m 9.259   \u001b[0m | \u001b[0m 72.6    \u001b[0m |\n",
      "| \u001b[0m 11      \u001b[0m | \u001b[0m 89.98   \u001b[0m | \u001b[0m 0.8996  \u001b[0m | \u001b[0m 95.18   \u001b[0m | \u001b[0m 9.181   \u001b[0m | \u001b[0m 3.227   \u001b[0m | \u001b[0m 6.661   \u001b[0m | \u001b[0m 11.08   \u001b[0m | \u001b[0m 5.039   \u001b[0m | \u001b[0m 69.01   \u001b[0m |\n",
      "| \u001b[0m 12      \u001b[0m | \u001b[0m 89.84   \u001b[0m | \u001b[0m 0.7974  \u001b[0m | \u001b[0m 15.18   \u001b[0m | \u001b[0m 3.237   \u001b[0m | \u001b[0m 4.322   \u001b[0m | \u001b[0m 7.715   \u001b[0m | \u001b[0m 8.121   \u001b[0m | \u001b[0m 6.984   \u001b[0m | \u001b[0m 94.76   \u001b[0m |\n",
      "| \u001b[0m 13      \u001b[0m | \u001b[0m 90.99   \u001b[0m | \u001b[0m 0.28    \u001b[0m | \u001b[0m 83.68   \u001b[0m | \u001b[0m 0.1909  \u001b[0m | \u001b[0m 2.006   \u001b[0m | \u001b[0m 3.429   \u001b[0m | \u001b[0m 1.603   \u001b[0m | \u001b[0m 6.838   \u001b[0m | \u001b[0m 40.95   \u001b[0m |\n",
      "| \u001b[0m 14      \u001b[0m | \u001b[0m 94.24   \u001b[0m | \u001b[0m 0.3623  \u001b[0m | \u001b[0m 46.92   \u001b[0m | \u001b[0m 5.373   \u001b[0m | \u001b[0m 2.653   \u001b[0m | \u001b[0m 7.964   \u001b[0m | \u001b[0m 3.462   \u001b[0m | \u001b[0m 3.77    \u001b[0m | \u001b[0m 89.39   \u001b[0m |\n",
      "| \u001b[0m 15      \u001b[0m | \u001b[0m 94.96   \u001b[0m | \u001b[0m 0.7414  \u001b[0m | \u001b[0m 53.36   \u001b[0m | \u001b[0m 6.15    \u001b[0m | \u001b[0m 4.936   \u001b[0m | \u001b[0m 4.203   \u001b[0m | \u001b[0m 10.27   \u001b[0m | \u001b[0m 1.0     \u001b[0m | \u001b[0m 71.89   \u001b[0m |\n",
      "| \u001b[95m 16      \u001b[0m | \u001b[95m 96.58   \u001b[0m | \u001b[95m 0.6565  \u001b[0m | \u001b[95m 50.14   \u001b[0m | \u001b[95m 7.011   \u001b[0m | \u001b[95m 4.994   \u001b[0m | \u001b[95m 4.894   \u001b[0m | \u001b[95m 7.227   \u001b[0m | \u001b[95m 1.116   \u001b[0m | \u001b[95m 79.19   \u001b[0m |\n",
      "| \u001b[0m 17      \u001b[0m | \u001b[0m 93.55   \u001b[0m | \u001b[0m 0.99    \u001b[0m | \u001b[0m 52.82   \u001b[0m | \u001b[0m 10.0    \u001b[0m | \u001b[0m 4.512   \u001b[0m | \u001b[0m 1.0     \u001b[0m | \u001b[0m 12.0    \u001b[0m | \u001b[0m 1.0     \u001b[0m | \u001b[0m 82.62   \u001b[0m |\n",
      "| \u001b[0m 18      \u001b[0m | \u001b[0m 95.19   \u001b[0m | \u001b[0m 0.99    \u001b[0m | \u001b[0m 48.3    \u001b[0m | \u001b[0m 10.0    \u001b[0m | \u001b[0m 2.764   \u001b[0m | \u001b[0m 8.0     \u001b[0m | \u001b[0m 3.921   \u001b[0m | \u001b[0m 1.0     \u001b[0m | \u001b[0m 75.66   \u001b[0m |\n",
      "| \u001b[0m 19      \u001b[0m | \u001b[0m 95.18   \u001b[0m | \u001b[0m 0.99    \u001b[0m | \u001b[0m 53.57   \u001b[0m | \u001b[0m 5.624   \u001b[0m | \u001b[0m 10.0    \u001b[0m | \u001b[0m 8.0     \u001b[0m | \u001b[0m 4.551   \u001b[0m | \u001b[0m 1.0     \u001b[0m | \u001b[0m 78.44   \u001b[0m |\n",
      "| \u001b[0m 20      \u001b[0m | \u001b[0m 94.66   \u001b[0m | \u001b[0m 0.99    \u001b[0m | \u001b[0m 44.98   \u001b[0m | \u001b[0m 4.424   \u001b[0m | \u001b[0m 7.178   \u001b[0m | \u001b[0m 8.0     \u001b[0m | \u001b[0m 10.79   \u001b[0m | \u001b[0m 1.0     \u001b[0m | \u001b[0m 77.67   \u001b[0m |\n",
      "| \u001b[0m 21      \u001b[0m | \u001b[0m 93.73   \u001b[0m | \u001b[0m 0.99    \u001b[0m | \u001b[0m 49.93   \u001b[0m | \u001b[0m 2.363   \u001b[0m | \u001b[0m 3.117   \u001b[0m | \u001b[0m 1.0     \u001b[0m | \u001b[0m 2.299   \u001b[0m | \u001b[0m 1.0     \u001b[0m | \u001b[0m 77.65   \u001b[0m |\n",
      "| \u001b[0m 22      \u001b[0m | \u001b[0m 90.38   \u001b[0m | \u001b[0m 0.0     \u001b[0m | \u001b[0m 50.52   \u001b[0m | \u001b[0m 9.822   \u001b[0m | \u001b[0m 6.371   \u001b[0m | \u001b[0m 7.217   \u001b[0m | \u001b[0m 7.537   \u001b[0m | \u001b[0m 7.498   \u001b[0m | \u001b[0m 78.69   \u001b[0m |\n",
      "| \u001b[95m 23      \u001b[0m | \u001b[95m 96.84   \u001b[0m | \u001b[95m 0.99    \u001b[0m | \u001b[95m 50.85   \u001b[0m | \u001b[95m 3.742   \u001b[0m | \u001b[95m 3.105   \u001b[0m | \u001b[95m 8.0     \u001b[0m | \u001b[95m 6.738   \u001b[0m | \u001b[95m 1.0     \u001b[0m | \u001b[95m 78.68   \u001b[0m |\n",
      "| \u001b[0m 24      \u001b[0m | \u001b[0m 95.64   \u001b[0m | \u001b[0m 0.99    \u001b[0m | \u001b[0m 52.47   \u001b[0m | \u001b[0m 1.643   \u001b[0m | \u001b[0m 5.866   \u001b[0m | \u001b[0m 5.554   \u001b[0m | \u001b[0m 9.584   \u001b[0m | \u001b[0m 1.0     \u001b[0m | \u001b[0m 81.2    \u001b[0m |\n"
     ]
    },
    {
     "name": "stderr",
     "output_type": "stream",
     "text": [
      "/opt/conda/envs/rapids/lib/python3.7/site-packages/sklearn/gaussian_process/kernels.py:271: RuntimeWarning: divide by zero encountered in log\n",
      "  return np.log(np.hstack(theta))\n"
     ]
    },
    {
     "name": "stdout",
     "output_type": "stream",
     "text": [
      "| \u001b[0m 25      \u001b[0m | \u001b[0m 95.88   \u001b[0m | \u001b[0m 0.99    \u001b[0m | \u001b[0m 47.76   \u001b[0m | \u001b[0m 5.105   \u001b[0m | \u001b[0m 0.0     \u001b[0m | \u001b[0m 5.771   \u001b[0m | \u001b[0m 9.365   \u001b[0m | \u001b[0m 1.0     \u001b[0m | \u001b[0m 80.33   \u001b[0m |\n"
     ]
    },
    {
     "name": "stderr",
     "output_type": "stream",
     "text": [
      "/opt/conda/envs/rapids/lib/python3.7/site-packages/sklearn/gaussian_process/kernels.py:271: RuntimeWarning: divide by zero encountered in log\n",
      "  return np.log(np.hstack(theta))\n"
     ]
    },
    {
     "name": "stdout",
     "output_type": "stream",
     "text": [
      "| \u001b[0m 26      \u001b[0m | \u001b[0m 93.55   \u001b[0m | \u001b[0m 0.99    \u001b[0m | \u001b[0m 97.69   \u001b[0m | \u001b[0m 1.045   \u001b[0m | \u001b[0m 0.0     \u001b[0m | \u001b[0m 1.0     \u001b[0m | \u001b[0m 12.0    \u001b[0m | \u001b[0m 1.0     \u001b[0m | \u001b[0m 41.73   \u001b[0m |\n"
     ]
    },
    {
     "name": "stderr",
     "output_type": "stream",
     "text": [
      "/opt/conda/envs/rapids/lib/python3.7/site-packages/sklearn/gaussian_process/kernels.py:271: RuntimeWarning: divide by zero encountered in log\n",
      "  return np.log(np.hstack(theta))\n"
     ]
    },
    {
     "name": "stdout",
     "output_type": "stream",
     "text": [
      "| \u001b[0m 27      \u001b[0m | \u001b[0m 93.55   \u001b[0m | \u001b[0m 0.99    \u001b[0m | \u001b[0m 87.06   \u001b[0m | \u001b[0m 7.497   \u001b[0m | \u001b[0m 0.0     \u001b[0m | \u001b[0m 1.0     \u001b[0m | \u001b[0m 12.0    \u001b[0m | \u001b[0m 1.0     \u001b[0m | \u001b[0m 45.42   \u001b[0m |\n",
      "| \u001b[0m 28      \u001b[0m | \u001b[0m 95.19   \u001b[0m | \u001b[0m 0.99    \u001b[0m | \u001b[0m 47.09   \u001b[0m | \u001b[0m 2.726   \u001b[0m | \u001b[0m 5.83    \u001b[0m | \u001b[0m 8.0     \u001b[0m | \u001b[0m 3.922   \u001b[0m | \u001b[0m 1.0     \u001b[0m | \u001b[0m 81.87   \u001b[0m |\n"
     ]
    },
    {
     "name": "stderr",
     "output_type": "stream",
     "text": [
      "/opt/conda/envs/rapids/lib/python3.7/site-packages/sklearn/gaussian_process/kernels.py:271: RuntimeWarning: divide by zero encountered in log\n",
      "  return np.log(np.hstack(theta))\n"
     ]
    },
    {
     "name": "stdout",
     "output_type": "stream",
     "text": [
      "| \u001b[0m 29      \u001b[0m | \u001b[0m 95.18   \u001b[0m | \u001b[0m 0.99    \u001b[0m | \u001b[0m 54.78   \u001b[0m | \u001b[0m 6.342   \u001b[0m | \u001b[0m 0.0     \u001b[0m | \u001b[0m 7.908   \u001b[0m | \u001b[0m 5.062   \u001b[0m | \u001b[0m 1.0     \u001b[0m | \u001b[0m 81.87   \u001b[0m |\n"
     ]
    },
    {
     "name": "stderr",
     "output_type": "stream",
     "text": [
      "/opt/conda/envs/rapids/lib/python3.7/site-packages/sklearn/gaussian_process/kernels.py:271: RuntimeWarning: divide by zero encountered in log\n",
      "  return np.log(np.hstack(theta))\n"
     ]
    },
    {
     "name": "stdout",
     "output_type": "stream",
     "text": [
      "| \u001b[0m 30      \u001b[0m | \u001b[0m 94.63   \u001b[0m | \u001b[0m 0.99    \u001b[0m | \u001b[0m 89.1    \u001b[0m | \u001b[0m 0.0     \u001b[0m | \u001b[0m 0.0     \u001b[0m | \u001b[0m 8.0     \u001b[0m | \u001b[0m 12.0    \u001b[0m | \u001b[0m 1.0     \u001b[0m | \u001b[0m 36.49   \u001b[0m |\n",
      "| \u001b[0m 31      \u001b[0m | \u001b[0m 95.0    \u001b[0m | \u001b[0m 0.99    \u001b[0m | \u001b[0m 48.63   \u001b[0m | \u001b[0m 8.482   \u001b[0m | \u001b[0m 10.0    \u001b[0m | \u001b[0m 1.0     \u001b[0m | \u001b[0m 7.724   \u001b[0m | \u001b[0m 1.0     \u001b[0m | \u001b[0m 61.37   \u001b[0m |\n",
      "| \u001b[0m 32      \u001b[0m | \u001b[0m 93.32   \u001b[0m | \u001b[0m 0.99    \u001b[0m | \u001b[0m 58.54   \u001b[0m | \u001b[0m 10.0    \u001b[0m | \u001b[0m 10.0    \u001b[0m | \u001b[0m 1.0     \u001b[0m | \u001b[0m 12.0    \u001b[0m | \u001b[0m 1.0     \u001b[0m | \u001b[0m 60.17   \u001b[0m |\n",
      "| \u001b[0m 33      \u001b[0m | \u001b[0m 94.12   \u001b[0m | \u001b[0m 0.99    \u001b[0m | \u001b[0m 45.3    \u001b[0m | \u001b[0m 0.6648  \u001b[0m | \u001b[0m 10.0    \u001b[0m | \u001b[0m 1.0     \u001b[0m | \u001b[0m 11.17   \u001b[0m | \u001b[0m 1.0     \u001b[0m | \u001b[0m 66.1    \u001b[0m |\n",
      "| \u001b[0m 34      \u001b[0m | \u001b[0m 93.53   \u001b[0m | \u001b[0m 0.99    \u001b[0m | \u001b[0m 51.62   \u001b[0m | \u001b[0m 4.81    \u001b[0m | \u001b[0m 10.0    \u001b[0m | \u001b[0m 6.195   \u001b[0m | \u001b[0m 1.494   \u001b[0m | \u001b[0m 1.0     \u001b[0m | \u001b[0m 65.96   \u001b[0m |\n",
      "| \u001b[0m 35      \u001b[0m | \u001b[0m 94.11   \u001b[0m | \u001b[0m 0.99    \u001b[0m | \u001b[0m 45.76   \u001b[0m | \u001b[0m 10.0    \u001b[0m | \u001b[0m 1.171   \u001b[0m | \u001b[0m 1.0     \u001b[0m | \u001b[0m 10.03   \u001b[0m | \u001b[0m 1.0     \u001b[0m | \u001b[0m 66.58   \u001b[0m |\n"
     ]
    },
    {
     "name": "stderr",
     "output_type": "stream",
     "text": [
      "/opt/conda/envs/rapids/lib/python3.7/site-packages/sklearn/gaussian_process/kernels.py:271: RuntimeWarning: divide by zero encountered in log\n",
      "  return np.log(np.hstack(theta))\n"
     ]
    },
    {
     "name": "stdout",
     "output_type": "stream",
     "text": [
      "| \u001b[0m 36      \u001b[0m | \u001b[0m 93.55   \u001b[0m | \u001b[0m 0.99    \u001b[0m | \u001b[0m 89.13   \u001b[0m | \u001b[0m 0.0     \u001b[0m | \u001b[0m 7.898   \u001b[0m | \u001b[0m 1.0     \u001b[0m | \u001b[0m 12.0    \u001b[0m | \u001b[0m 1.0     \u001b[0m | \u001b[0m 40.3    \u001b[0m |\n"
     ]
    },
    {
     "name": "stderr",
     "output_type": "stream",
     "text": [
      "/opt/conda/envs/rapids/lib/python3.7/site-packages/sklearn/gaussian_process/kernels.py:271: RuntimeWarning: divide by zero encountered in log\n",
      "  return np.log(np.hstack(theta))\n"
     ]
    },
    {
     "name": "stdout",
     "output_type": "stream",
     "text": [
      "| \u001b[95m 37      \u001b[0m | \u001b[95m 96.84   \u001b[0m | \u001b[95m 0.99    \u001b[0m | \u001b[95m 46.68   \u001b[0m | \u001b[95m 3.328   \u001b[0m | \u001b[95m 0.0     \u001b[0m | \u001b[95m 8.0     \u001b[0m | \u001b[95m 6.748   \u001b[0m | \u001b[95m 1.0     \u001b[0m | \u001b[95m 74.33   \u001b[0m |\n"
     ]
    },
    {
     "name": "stderr",
     "output_type": "stream",
     "text": [
      "/opt/conda/envs/rapids/lib/python3.7/site-packages/sklearn/gaussian_process/kernels.py:271: RuntimeWarning: divide by zero encountered in log\n",
      "  return np.log(np.hstack(theta))\n"
     ]
    },
    {
     "name": "stdout",
     "output_type": "stream",
     "text": [
      "| \u001b[0m 38      \u001b[0m | \u001b[0m 95.18   \u001b[0m | \u001b[0m 0.99    \u001b[0m | \u001b[0m 39.73   \u001b[0m | \u001b[0m 2.533   \u001b[0m | \u001b[0m 0.0     \u001b[0m | \u001b[0m 8.0     \u001b[0m | \u001b[0m 4.521   \u001b[0m | \u001b[0m 1.0     \u001b[0m | \u001b[0m 74.25   \u001b[0m |\n"
     ]
    },
    {
     "name": "stderr",
     "output_type": "stream",
     "text": [
      "/opt/conda/envs/rapids/lib/python3.7/site-packages/sklearn/gaussian_process/kernels.py:271: RuntimeWarning: divide by zero encountered in log\n",
      "  return np.log(np.hstack(theta))\n"
     ]
    },
    {
     "name": "stdout",
     "output_type": "stream",
     "text": [
      "| \u001b[0m 39      \u001b[0m | \u001b[0m 95.18   \u001b[0m | \u001b[0m 0.99    \u001b[0m | \u001b[0m 44.93   \u001b[0m | \u001b[0m 0.0     \u001b[0m | \u001b[0m 0.0     \u001b[0m | \u001b[0m 8.0     \u001b[0m | \u001b[0m 4.969   \u001b[0m | \u001b[0m 1.0     \u001b[0m | \u001b[0m 67.52   \u001b[0m |\n",
      "| \u001b[0m 40      \u001b[0m | \u001b[0m 94.93   \u001b[0m | \u001b[0m 0.0     \u001b[0m | \u001b[0m 43.34   \u001b[0m | \u001b[0m 5.438   \u001b[0m | \u001b[0m 6.276   \u001b[0m | \u001b[0m 1.0     \u001b[0m | \u001b[0m 6.685   \u001b[0m | \u001b[0m 1.0     \u001b[0m | \u001b[0m 51.27   \u001b[0m |\n",
      "=========================================================================================================================\n",
      "96.8352198782139\n",
      "Prev Inven : 8, Var Sale : 1, Var Product : 7\n"
     ]
    },
    {
     "name": "stderr",
     "output_type": "stream",
     "text": [
      "/opt/conda/envs/rapids/lib/python3.7/site-packages/sklearn/gaussian_process/kernels.py:271: RuntimeWarning: divide by zero encountered in log\n",
      "  return np.log(np.hstack(theta))\n"
     ]
    },
    {
     "name": "stdout",
     "output_type": "stream",
     "text": [
      "|   iter    |  target   |  g_alpha  |   k_dot   |   rbf_l   |  theta1   | tmp_pr... | tmp_va... | tmp_va... |  w_noise  |\n",
      "-------------------------------------------------------------------------------------------------------------------------\n",
      "| \u001b[0m 1       \u001b[0m | \u001b[0m 95.78   \u001b[0m | \u001b[0m 0.4129  \u001b[0m | \u001b[0m 72.03   \u001b[0m | \u001b[0m 0.001144\u001b[0m | \u001b[0m 3.023   \u001b[0m | \u001b[0m 2.027   \u001b[0m | \u001b[0m 2.016   \u001b[0m | \u001b[0m 3.049   \u001b[0m | \u001b[0m 34.56   \u001b[0m |\n",
      "| \u001b[95m 2       \u001b[0m | \u001b[95m 95.9    \u001b[0m | \u001b[95m 0.3928  \u001b[0m | \u001b[95m 53.88   \u001b[0m | \u001b[95m 4.192   \u001b[0m | \u001b[95m 6.852   \u001b[0m | \u001b[95m 2.431   \u001b[0m | \u001b[95m 10.66   \u001b[0m | \u001b[95m 1.301   \u001b[0m | \u001b[95m 67.05   \u001b[0m |\n",
      "| \u001b[0m 3       \u001b[0m | \u001b[0m 92.25   \u001b[0m | \u001b[0m 0.4131  \u001b[0m | \u001b[0m 55.87   \u001b[0m | \u001b[0m 1.404   \u001b[0m | \u001b[0m 1.981   \u001b[0m | \u001b[0m 6.605   \u001b[0m | \u001b[0m 11.65   \u001b[0m | \u001b[0m 4.448   \u001b[0m | \u001b[0m 69.23   \u001b[0m |\n",
      "| \u001b[95m 4       \u001b[0m | \u001b[95m 96.13   \u001b[0m | \u001b[95m 0.8676  \u001b[0m | \u001b[95m 89.46   \u001b[0m | \u001b[95m 0.8504  \u001b[0m | \u001b[95m 0.3905  \u001b[0m | \u001b[95m 2.189   \u001b[0m | \u001b[95m 10.66   \u001b[0m | \u001b[95m 2.082   \u001b[0m | \u001b[95m 42.11   \u001b[0m |\n",
      "| \u001b[95m 5       \u001b[0m | \u001b[95m 96.44   \u001b[0m | \u001b[95m 0.9483  \u001b[0m | \u001b[95m 53.32   \u001b[0m | \u001b[95m 6.919   \u001b[0m | \u001b[95m 3.155   \u001b[0m | \u001b[95m 5.806   \u001b[0m | \u001b[95m 10.18   \u001b[0m | \u001b[95m 1.201   \u001b[0m | \u001b[95m 75.01   \u001b[0m |\n",
      "| \u001b[0m 6       \u001b[0m | \u001b[0m 95.16   \u001b[0m | \u001b[0m 0.979   \u001b[0m | \u001b[0m 74.82   \u001b[0m | \u001b[0m 2.804   \u001b[0m | \u001b[0m 7.893   \u001b[0m | \u001b[0m 1.723   \u001b[0m | \u001b[0m 5.927   \u001b[0m | \u001b[0m 10.99   \u001b[0m | \u001b[0m 29.36   \u001b[0m |\n",
      "| \u001b[95m 7       \u001b[0m | \u001b[95m 96.87   \u001b[0m | \u001b[95m 0.2849  \u001b[0m | \u001b[95m 13.0    \u001b[0m | \u001b[95m 0.1937  \u001b[0m | \u001b[95m 6.788   \u001b[0m | \u001b[95m 2.481   \u001b[0m | \u001b[95m 3.921   \u001b[0m | \u001b[95m 6.407   \u001b[0m | \u001b[95m 5.336   \u001b[0m |\n",
      "| \u001b[0m 8       \u001b[0m | \u001b[0m 95.11   \u001b[0m | \u001b[0m 0.5684  \u001b[0m | \u001b[0m 14.67   \u001b[0m | \u001b[0m 5.893   \u001b[0m | \u001b[0m 6.998   \u001b[0m | \u001b[0m 1.716   \u001b[0m | \u001b[0m 5.555   \u001b[0m | \u001b[0m 8.638   \u001b[0m | \u001b[0m 41.42   \u001b[0m |\n",
      "| \u001b[0m 9       \u001b[0m | \u001b[0m 93.51   \u001b[0m | \u001b[0m 0.04945 \u001b[0m | \u001b[0m 53.59   \u001b[0m | \u001b[0m 6.638   \u001b[0m | \u001b[0m 5.149   \u001b[0m | \u001b[0m 7.612   \u001b[0m | \u001b[0m 7.452   \u001b[0m | \u001b[0m 10.94   \u001b[0m | \u001b[0m 13.75   \u001b[0m |\n",
      "| \u001b[0m 10      \u001b[0m | \u001b[0m 96.77   \u001b[0m | \u001b[0m 0.1379  \u001b[0m | \u001b[0m 80.74   \u001b[0m | \u001b[0m 3.977   \u001b[0m | \u001b[0m 1.654   \u001b[0m | \u001b[0m 7.493   \u001b[0m | \u001b[0m 4.825   \u001b[0m | \u001b[0m 9.259   \u001b[0m | \u001b[0m 72.6    \u001b[0m |\n",
      "| \u001b[0m 11      \u001b[0m | \u001b[0m 92.08   \u001b[0m | \u001b[0m 0.8996  \u001b[0m | \u001b[0m 95.18   \u001b[0m | \u001b[0m 9.181   \u001b[0m | \u001b[0m 3.227   \u001b[0m | \u001b[0m 6.661   \u001b[0m | \u001b[0m 11.08   \u001b[0m | \u001b[0m 5.039   \u001b[0m | \u001b[0m 69.01   \u001b[0m |\n",
      "| \u001b[0m 12      \u001b[0m | \u001b[0m 93.46   \u001b[0m | \u001b[0m 0.7974  \u001b[0m | \u001b[0m 15.18   \u001b[0m | \u001b[0m 3.237   \u001b[0m | \u001b[0m 4.322   \u001b[0m | \u001b[0m 7.715   \u001b[0m | \u001b[0m 8.121   \u001b[0m | \u001b[0m 6.984   \u001b[0m | \u001b[0m 94.76   \u001b[0m |\n",
      "| \u001b[0m 13      \u001b[0m | \u001b[0m 94.87   \u001b[0m | \u001b[0m 0.28    \u001b[0m | \u001b[0m 83.68   \u001b[0m | \u001b[0m 0.1909  \u001b[0m | \u001b[0m 2.006   \u001b[0m | \u001b[0m 3.429   \u001b[0m | \u001b[0m 1.603   \u001b[0m | \u001b[0m 6.838   \u001b[0m | \u001b[0m 40.95   \u001b[0m |\n",
      "| \u001b[0m 14      \u001b[0m | \u001b[0m 96.8    \u001b[0m | \u001b[0m 0.3623  \u001b[0m | \u001b[0m 46.92   \u001b[0m | \u001b[0m 5.373   \u001b[0m | \u001b[0m 2.653   \u001b[0m | \u001b[0m 7.964   \u001b[0m | \u001b[0m 3.462   \u001b[0m | \u001b[0m 3.77    \u001b[0m | \u001b[0m 89.39   \u001b[0m |\n",
      "| \u001b[0m 15      \u001b[0m | \u001b[0m 94.59   \u001b[0m | \u001b[0m 0.1273  \u001b[0m | \u001b[0m 2.083   \u001b[0m | \u001b[0m 8.872   \u001b[0m | \u001b[0m 7.994   \u001b[0m | \u001b[0m 6.618   \u001b[0m | \u001b[0m 6.185   \u001b[0m | \u001b[0m 10.09   \u001b[0m | \u001b[0m 60.05   \u001b[0m |\n",
      "| \u001b[0m 16      \u001b[0m | \u001b[0m 93.85   \u001b[0m | \u001b[0m 0.9449  \u001b[0m | \u001b[0m 50.8    \u001b[0m | \u001b[0m 3.294   \u001b[0m | \u001b[0m 5.376   \u001b[0m | \u001b[0m 5.139   \u001b[0m | \u001b[0m 7.079   \u001b[0m | \u001b[0m 7.993   \u001b[0m | \u001b[0m 88.04   \u001b[0m |\n",
      "| \u001b[0m 17      \u001b[0m | \u001b[0m 94.17   \u001b[0m | \u001b[0m 0.09027 \u001b[0m | \u001b[0m 46.61   \u001b[0m | \u001b[0m 1.003   \u001b[0m | \u001b[0m 7.06    \u001b[0m | \u001b[0m 4.6     \u001b[0m | \u001b[0m 6.36    \u001b[0m | \u001b[0m 11.8    \u001b[0m | \u001b[0m 19.81   \u001b[0m |\n",
      "| \u001b[0m 18      \u001b[0m | \u001b[0m 96.36   \u001b[0m | \u001b[0m 0.08163 \u001b[0m | \u001b[0m 24.96   \u001b[0m | \u001b[0m 2.219   \u001b[0m | \u001b[0m 8.699   \u001b[0m | \u001b[0m 2.599   \u001b[0m | \u001b[0m 5.573   \u001b[0m | \u001b[0m 5.179   \u001b[0m | \u001b[0m 94.97   \u001b[0m |\n",
      "| \u001b[0m 19      \u001b[0m | \u001b[0m 94.86   \u001b[0m | \u001b[0m 0.2393  \u001b[0m | \u001b[0m 84.02   \u001b[0m | \u001b[0m 8.518   \u001b[0m | \u001b[0m 5.874   \u001b[0m | \u001b[0m 2.388   \u001b[0m | \u001b[0m 2.221   \u001b[0m | \u001b[0m 8.923   \u001b[0m | \u001b[0m 62.17   \u001b[0m |\n",
      "| \u001b[0m 20      \u001b[0m | \u001b[0m 96.77   \u001b[0m | \u001b[0m 0.3013  \u001b[0m | \u001b[0m 50.42   \u001b[0m | \u001b[0m 0.02496 \u001b[0m | \u001b[0m 8.423   \u001b[0m | \u001b[0m 6.058   \u001b[0m | \u001b[0m 3.547   \u001b[0m | \u001b[0m 1.452   \u001b[0m | \u001b[0m 76.37   \u001b[0m |\n",
      "| \u001b[0m 21      \u001b[0m | \u001b[0m 95.63   \u001b[0m | \u001b[0m 0.1497  \u001b[0m | \u001b[0m 38.96   \u001b[0m | \u001b[0m 7.288   \u001b[0m | \u001b[0m 6.121   \u001b[0m | \u001b[0m 7.866   \u001b[0m | \u001b[0m 3.209   \u001b[0m | \u001b[0m 6.991   \u001b[0m | \u001b[0m 11.58   \u001b[0m |\n",
      "| \u001b[0m 22      \u001b[0m | \u001b[0m 93.12   \u001b[0m | \u001b[0m 0.6398  \u001b[0m | \u001b[0m 85.62   \u001b[0m | \u001b[0m 3.537   \u001b[0m | \u001b[0m 2.252   \u001b[0m | \u001b[0m 4.368   \u001b[0m | \u001b[0m 6.032   \u001b[0m | \u001b[0m 11.05   \u001b[0m | \u001b[0m 41.2    \u001b[0m |\n",
      "| \u001b[0m 23      \u001b[0m | \u001b[0m 95.81   \u001b[0m | \u001b[0m 0.8783  \u001b[0m | \u001b[0m 26.54   \u001b[0m | \u001b[0m 2.468   \u001b[0m | \u001b[0m 9.49    \u001b[0m | \u001b[0m 2.063   \u001b[0m | \u001b[0m 5.067   \u001b[0m | \u001b[0m 5.446   \u001b[0m | \u001b[0m 96.33   \u001b[0m |\n",
      "| \u001b[0m 24      \u001b[0m | \u001b[0m 95.6    \u001b[0m | \u001b[0m 0.7359  \u001b[0m | \u001b[0m 78.29   \u001b[0m | \u001b[0m 2.958   \u001b[0m | \u001b[0m 0.9352  \u001b[0m | \u001b[0m 7.759   \u001b[0m | \u001b[0m 2.562   \u001b[0m | \u001b[0m 10.15   \u001b[0m | \u001b[0m 73.72   \u001b[0m |\n",
      "| \u001b[0m 25      \u001b[0m | \u001b[0m 95.65   \u001b[0m | \u001b[0m 0.2466  \u001b[0m | \u001b[0m 13.93   \u001b[0m | \u001b[0m 0.001916\u001b[0m | \u001b[0m 7.517   \u001b[0m | \u001b[0m 2.295   \u001b[0m | \u001b[0m 2.549   \u001b[0m | \u001b[0m 7.739   \u001b[0m | \u001b[0m 2.682   \u001b[0m |\n",
      "| \u001b[95m 26      \u001b[0m | \u001b[95m 97.57   \u001b[0m | \u001b[95m 0.5528  \u001b[0m | \u001b[95m 51.28   \u001b[0m | \u001b[95m 2.836   \u001b[0m | \u001b[95m 6.716   \u001b[0m | \u001b[95m 5.817   \u001b[0m | \u001b[95m 5.832   \u001b[0m | \u001b[95m 1.088   \u001b[0m | \u001b[95m 76.01   \u001b[0m |\n",
      "| \u001b[0m 27      \u001b[0m | \u001b[0m 96.48   \u001b[0m | \u001b[0m 0.5957  \u001b[0m | \u001b[0m 50.93   \u001b[0m | \u001b[0m 5.004   \u001b[0m | \u001b[0m 8.287   \u001b[0m | \u001b[0m 3.667   \u001b[0m | \u001b[0m 6.526   \u001b[0m | \u001b[0m 1.0     \u001b[0m | \u001b[0m 73.98   \u001b[0m |\n",
      "| \u001b[0m 28      \u001b[0m | \u001b[0m 94.94   \u001b[0m | \u001b[0m 0.9773  \u001b[0m | \u001b[0m 51.56   \u001b[0m | \u001b[0m 5.941   \u001b[0m | \u001b[0m 6.0     \u001b[0m | \u001b[0m 6.409   \u001b[0m | \u001b[0m 7.643   \u001b[0m | \u001b[0m 3.418   \u001b[0m | \u001b[0m 77.51   \u001b[0m |\n",
      "| \u001b[0m 29      \u001b[0m | \u001b[0m 96.19   \u001b[0m | \u001b[0m 0.9245  \u001b[0m | \u001b[0m 52.43   \u001b[0m | \u001b[0m 1.466   \u001b[0m | \u001b[0m 6.882   \u001b[0m | \u001b[0m 3.315   \u001b[0m | \u001b[0m 2.562   \u001b[0m | \u001b[0m 2.729   \u001b[0m | \u001b[0m 74.19   \u001b[0m |\n",
      "| \u001b[0m 30      \u001b[0m | \u001b[0m 97.31   \u001b[0m | \u001b[0m 0.5131  \u001b[0m | \u001b[0m 46.76   \u001b[0m | \u001b[0m 0.8261  \u001b[0m | \u001b[0m 6.952   \u001b[0m | \u001b[0m 3.723   \u001b[0m | \u001b[0m 3.421   \u001b[0m | \u001b[0m 1.989   \u001b[0m | \u001b[0m 76.18   \u001b[0m |\n",
      "| \u001b[0m 31      \u001b[0m | \u001b[0m 96.79   \u001b[0m | \u001b[0m 0.9053  \u001b[0m | \u001b[0m 48.47   \u001b[0m | \u001b[0m 1.453   \u001b[0m | \u001b[0m 9.614   \u001b[0m | \u001b[0m 5.664   \u001b[0m | \u001b[0m 6.031   \u001b[0m | \u001b[0m 4.442   \u001b[0m | \u001b[0m 77.33   \u001b[0m |\n",
      "| \u001b[0m 32      \u001b[0m | \u001b[0m 97.1    \u001b[0m | \u001b[0m 0.5534  \u001b[0m | \u001b[0m 48.46   \u001b[0m | \u001b[0m 0.5963  \u001b[0m | \u001b[0m 6.062   \u001b[0m | \u001b[0m 4.633   \u001b[0m | \u001b[0m 7.226   \u001b[0m | \u001b[0m 1.0     \u001b[0m | \u001b[0m 75.29   \u001b[0m |\n",
      "| \u001b[0m 33      \u001b[0m | \u001b[0m 97.16   \u001b[0m | \u001b[0m 0.00282 \u001b[0m | \u001b[0m 47.72   \u001b[0m | \u001b[0m 3.18    \u001b[0m | \u001b[0m 6.035   \u001b[0m | \u001b[0m 7.208   \u001b[0m | \u001b[0m 4.015   \u001b[0m | \u001b[0m 1.0     \u001b[0m | \u001b[0m 74.51   \u001b[0m |\n",
      "| \u001b[0m 34      \u001b[0m | \u001b[0m 96.97   \u001b[0m | \u001b[0m 0.0     \u001b[0m | \u001b[0m 49.03   \u001b[0m | \u001b[0m 1.9     \u001b[0m | \u001b[0m 3.463   \u001b[0m | \u001b[0m 4.892   \u001b[0m | \u001b[0m 3.708   \u001b[0m | \u001b[0m 1.0     \u001b[0m | \u001b[0m 78.27   \u001b[0m |\n",
      "| \u001b[0m 35      \u001b[0m | \u001b[0m 97.09   \u001b[0m | \u001b[0m 0.0     \u001b[0m | \u001b[0m 44.42   \u001b[0m | \u001b[0m 1.782   \u001b[0m | \u001b[0m 7.533   \u001b[0m | \u001b[0m 6.736   \u001b[0m | \u001b[0m 4.905   \u001b[0m | \u001b[0m 1.0     \u001b[0m | \u001b[0m 79.44   \u001b[0m |\n",
      "| \u001b[0m 36      \u001b[0m | \u001b[0m 96.08   \u001b[0m | \u001b[0m 0.1813  \u001b[0m | \u001b[0m 43.82   \u001b[0m | \u001b[0m 3.907   \u001b[0m | \u001b[0m 3.426   \u001b[0m | \u001b[0m 7.813   \u001b[0m | \u001b[0m 1.0     \u001b[0m | \u001b[0m 1.0     \u001b[0m | \u001b[0m 84.31   \u001b[0m |\n",
      "| \u001b[0m 37      \u001b[0m | \u001b[0m 97.06   \u001b[0m | \u001b[0m 0.99    \u001b[0m | \u001b[0m 42.6    \u001b[0m | \u001b[0m 1.984   \u001b[0m | \u001b[0m 10.0    \u001b[0m | \u001b[0m 4.783   \u001b[0m | \u001b[0m 5.512   \u001b[0m | \u001b[0m 1.0     \u001b[0m | \u001b[0m 74.44   \u001b[0m |\n",
      "| \u001b[0m 38      \u001b[0m | \u001b[0m 96.21   \u001b[0m | \u001b[0m 0.0     \u001b[0m | \u001b[0m 44.83   \u001b[0m | \u001b[0m 2.125   \u001b[0m | \u001b[0m 10.0    \u001b[0m | \u001b[0m 1.0     \u001b[0m | \u001b[0m 5.708   \u001b[0m | \u001b[0m 1.0     \u001b[0m | \u001b[0m 79.14   \u001b[0m |\n"
     ]
    },
    {
     "name": "stderr",
     "output_type": "stream",
     "text": [
      "/opt/conda/envs/rapids/lib/python3.7/site-packages/sklearn/gaussian_process/kernels.py:271: RuntimeWarning: divide by zero encountered in log\n",
      "  return np.log(np.hstack(theta))\n"
     ]
    },
    {
     "name": "stdout",
     "output_type": "stream",
     "text": [
      "| \u001b[0m 39      \u001b[0m | \u001b[0m 96.35   \u001b[0m | \u001b[0m 0.99    \u001b[0m | \u001b[0m 41.83   \u001b[0m | \u001b[0m 0.0     \u001b[0m | \u001b[0m 6.078   \u001b[0m | \u001b[0m 6.705   \u001b[0m | \u001b[0m 3.577   \u001b[0m | \u001b[0m 4.907   \u001b[0m | \u001b[0m 75.5    \u001b[0m |\n",
      "| \u001b[0m 40      \u001b[0m | \u001b[0m 96.36   \u001b[0m | \u001b[0m 0.3577  \u001b[0m | \u001b[0m 11.25   \u001b[0m | \u001b[0m 0.5567  \u001b[0m | \u001b[0m 5.406   \u001b[0m | \u001b[0m 2.836   \u001b[0m | \u001b[0m 6.523   \u001b[0m | \u001b[0m 3.88    \u001b[0m | \u001b[0m 10.36   \u001b[0m |\n",
      "=========================================================================================================================\n",
      "97.56744445433533\n",
      "Prev Inven : 6, Var Sale : 1, Var Product : 6\n",
      "|   iter    |  target   |  g_alpha  |   k_dot   |   rbf_l   |  theta1   | tmp_pr... | tmp_va... | tmp_va... |  w_noise  |\n",
      "-------------------------------------------------------------------------------------------------------------------------\n",
      "| \u001b[0m 1       \u001b[0m | \u001b[0m 93.49   \u001b[0m | \u001b[0m 0.4129  \u001b[0m | \u001b[0m 72.03   \u001b[0m | \u001b[0m 0.001144\u001b[0m | \u001b[0m 3.023   \u001b[0m | \u001b[0m 2.027   \u001b[0m | \u001b[0m 2.016   \u001b[0m | \u001b[0m 3.049   \u001b[0m | \u001b[0m 34.56   \u001b[0m |\n",
      "| \u001b[95m 2       \u001b[0m | \u001b[95m 93.74   \u001b[0m | \u001b[95m 0.3928  \u001b[0m | \u001b[95m 53.88   \u001b[0m | \u001b[95m 4.192   \u001b[0m | \u001b[95m 6.852   \u001b[0m | \u001b[95m 2.431   \u001b[0m | \u001b[95m 10.66   \u001b[0m | \u001b[95m 1.301   \u001b[0m | \u001b[95m 67.05   \u001b[0m |\n",
      "| \u001b[0m 3       \u001b[0m | \u001b[0m 90.62   \u001b[0m | \u001b[0m 0.4131  \u001b[0m | \u001b[0m 55.87   \u001b[0m | \u001b[0m 1.404   \u001b[0m | \u001b[0m 1.981   \u001b[0m | \u001b[0m 6.605   \u001b[0m | \u001b[0m 11.65   \u001b[0m | \u001b[0m 4.448   \u001b[0m | \u001b[0m 69.23   \u001b[0m |\n",
      "| \u001b[95m 4       \u001b[0m | \u001b[95m 93.9    \u001b[0m | \u001b[95m 0.8676  \u001b[0m | \u001b[95m 89.46   \u001b[0m | \u001b[95m 0.8504  \u001b[0m | \u001b[95m 0.3905  \u001b[0m | \u001b[95m 2.189   \u001b[0m | \u001b[95m 10.66   \u001b[0m | \u001b[95m 2.082   \u001b[0m | \u001b[95m 42.11   \u001b[0m |\n",
      "| \u001b[95m 5       \u001b[0m | \u001b[95m 94.75   \u001b[0m | \u001b[95m 0.9483  \u001b[0m | \u001b[95m 53.32   \u001b[0m | \u001b[95m 6.919   \u001b[0m | \u001b[95m 3.155   \u001b[0m | \u001b[95m 5.806   \u001b[0m | \u001b[95m 10.18   \u001b[0m | \u001b[95m 1.201   \u001b[0m | \u001b[95m 75.01   \u001b[0m |\n",
      "| \u001b[95m 6       \u001b[0m | \u001b[95m 95.65   \u001b[0m | \u001b[95m 0.979   \u001b[0m | \u001b[95m 74.82   \u001b[0m | \u001b[95m 2.804   \u001b[0m | \u001b[95m 7.893   \u001b[0m | \u001b[95m 1.723   \u001b[0m | \u001b[95m 5.927   \u001b[0m | \u001b[95m 10.99   \u001b[0m | \u001b[95m 29.36   \u001b[0m |\n",
      "| \u001b[0m 7       \u001b[0m | \u001b[0m 94.69   \u001b[0m | \u001b[0m 0.2849  \u001b[0m | \u001b[0m 13.0    \u001b[0m | \u001b[0m 0.1937  \u001b[0m | \u001b[0m 6.788   \u001b[0m | \u001b[0m 2.481   \u001b[0m | \u001b[0m 3.921   \u001b[0m | \u001b[0m 6.407   \u001b[0m | \u001b[0m 5.336   \u001b[0m |\n",
      "| \u001b[0m 8       \u001b[0m | \u001b[0m 95.4    \u001b[0m | \u001b[0m 0.5684  \u001b[0m | \u001b[0m 14.67   \u001b[0m | \u001b[0m 5.893   \u001b[0m | \u001b[0m 6.998   \u001b[0m | \u001b[0m 1.716   \u001b[0m | \u001b[0m 5.555   \u001b[0m | \u001b[0m 8.638   \u001b[0m | \u001b[0m 41.42   \u001b[0m |\n",
      "| \u001b[0m 9       \u001b[0m | \u001b[0m 94.78   \u001b[0m | \u001b[0m 0.04945 \u001b[0m | \u001b[0m 53.59   \u001b[0m | \u001b[0m 6.638   \u001b[0m | \u001b[0m 5.149   \u001b[0m | \u001b[0m 7.612   \u001b[0m | \u001b[0m 7.452   \u001b[0m | \u001b[0m 10.94   \u001b[0m | \u001b[0m 13.75   \u001b[0m |\n",
      "| \u001b[0m 10      \u001b[0m | \u001b[0m 94.56   \u001b[0m | \u001b[0m 0.1379  \u001b[0m | \u001b[0m 80.74   \u001b[0m | \u001b[0m 3.977   \u001b[0m | \u001b[0m 1.654   \u001b[0m | \u001b[0m 7.493   \u001b[0m | \u001b[0m 4.825   \u001b[0m | \u001b[0m 9.259   \u001b[0m | \u001b[0m 72.6    \u001b[0m |\n",
      "| \u001b[0m 11      \u001b[0m | \u001b[0m 94.09   \u001b[0m | \u001b[0m 0.4628  \u001b[0m | \u001b[0m 76.12   \u001b[0m | \u001b[0m 4.188   \u001b[0m | \u001b[0m 6.656   \u001b[0m | \u001b[0m 2.055   \u001b[0m | \u001b[0m 4.776   \u001b[0m | \u001b[0m 10.66   \u001b[0m | \u001b[0m 27.06   \u001b[0m |\n",
      "| \u001b[0m 12      \u001b[0m | \u001b[0m 93.93   \u001b[0m | \u001b[0m 0.7974  \u001b[0m | \u001b[0m 15.18   \u001b[0m | \u001b[0m 3.237   \u001b[0m | \u001b[0m 4.322   \u001b[0m | \u001b[0m 7.715   \u001b[0m | \u001b[0m 8.121   \u001b[0m | \u001b[0m 6.984   \u001b[0m | \u001b[0m 94.76   \u001b[0m |\n",
      "| \u001b[0m 13      \u001b[0m | \u001b[0m 93.02   \u001b[0m | \u001b[0m 0.28    \u001b[0m | \u001b[0m 83.68   \u001b[0m | \u001b[0m 0.1909  \u001b[0m | \u001b[0m 2.006   \u001b[0m | \u001b[0m 3.429   \u001b[0m | \u001b[0m 1.603   \u001b[0m | \u001b[0m 6.838   \u001b[0m | \u001b[0m 40.95   \u001b[0m |\n",
      "| \u001b[0m 14      \u001b[0m | \u001b[0m 95.03   \u001b[0m | \u001b[0m 0.4565  \u001b[0m | \u001b[0m 73.18   \u001b[0m | \u001b[0m 4.126   \u001b[0m | \u001b[0m 7.55    \u001b[0m | \u001b[0m 1.146   \u001b[0m | \u001b[0m 5.842   \u001b[0m | \u001b[0m 8.995   \u001b[0m | \u001b[0m 28.25   \u001b[0m |\n",
      "| \u001b[0m 15      \u001b[0m | \u001b[0m 95.08   \u001b[0m | \u001b[0m 0.99    \u001b[0m | \u001b[0m 72.81   \u001b[0m | \u001b[0m 2.027   \u001b[0m | \u001b[0m 9.387   \u001b[0m | \u001b[0m 1.082   \u001b[0m | \u001b[0m 7.38    \u001b[0m | \u001b[0m 10.94   \u001b[0m | \u001b[0m 31.09   \u001b[0m |\n",
      "| \u001b[0m 16      \u001b[0m | \u001b[0m 93.95   \u001b[0m | \u001b[0m 0.642   \u001b[0m | \u001b[0m 15.61   \u001b[0m | \u001b[0m 4.449   \u001b[0m | \u001b[0m 6.784   \u001b[0m | \u001b[0m 1.755   \u001b[0m | \u001b[0m 4.628   \u001b[0m | \u001b[0m 7.321   \u001b[0m | \u001b[0m 37.36   \u001b[0m |\n",
      "| \u001b[0m 17      \u001b[0m | \u001b[0m 93.64   \u001b[0m | \u001b[0m 0.6988  \u001b[0m | \u001b[0m 14.88   \u001b[0m | \u001b[0m 7.345   \u001b[0m | \u001b[0m 6.672   \u001b[0m | \u001b[0m 2.665   \u001b[0m | \u001b[0m 7.952   \u001b[0m | \u001b[0m 11.2    \u001b[0m | \u001b[0m 43.23   \u001b[0m |\n",
      "| \u001b[0m 18      \u001b[0m | \u001b[0m 93.22   \u001b[0m | \u001b[0m 0.7354  \u001b[0m | \u001b[0m 72.63   \u001b[0m | \u001b[0m 4.281   \u001b[0m | \u001b[0m 7.527   \u001b[0m | \u001b[0m 3.994   \u001b[0m | \u001b[0m 4.261   \u001b[0m | \u001b[0m 11.54   \u001b[0m | \u001b[0m 29.93   \u001b[0m |\n",
      "| \u001b[0m 19      \u001b[0m | \u001b[0m 95.2    \u001b[0m | \u001b[0m 0.9493  \u001b[0m | \u001b[0m 74.49   \u001b[0m | \u001b[0m 2.293   \u001b[0m | \u001b[0m 8.412   \u001b[0m | \u001b[0m 1.0     \u001b[0m | \u001b[0m 7.274   \u001b[0m | \u001b[0m 9.642   \u001b[0m | \u001b[0m 29.24   \u001b[0m |\n",
      "| \u001b[0m 20      \u001b[0m | \u001b[0m 94.9    \u001b[0m | \u001b[0m 0.9751  \u001b[0m | \u001b[0m 15.04   \u001b[0m | \u001b[0m 5.367   \u001b[0m | \u001b[0m 7.175   \u001b[0m | \u001b[0m 3.599   \u001b[0m | \u001b[0m 6.842   \u001b[0m | \u001b[0m 7.619   \u001b[0m | \u001b[0m 43.43   \u001b[0m |\n",
      "| \u001b[0m 21      \u001b[0m | \u001b[0m 95.0    \u001b[0m | \u001b[0m 0.8775  \u001b[0m | \u001b[0m 12.84   \u001b[0m | \u001b[0m 4.98    \u001b[0m | \u001b[0m 7.497   \u001b[0m | \u001b[0m 4.689   \u001b[0m | \u001b[0m 6.915   \u001b[0m | \u001b[0m 8.083   \u001b[0m | \u001b[0m 39.75   \u001b[0m |\n",
      "| \u001b[0m 22      \u001b[0m | \u001b[0m 94.35   \u001b[0m | \u001b[0m 0.99    \u001b[0m | \u001b[0m 76.29   \u001b[0m | \u001b[0m 1.206   \u001b[0m | \u001b[0m 8.434   \u001b[0m | \u001b[0m 1.0     \u001b[0m | \u001b[0m 6.152   \u001b[0m | \u001b[0m 12.0    \u001b[0m | \u001b[0m 30.92   \u001b[0m |\n",
      "| \u001b[0m 23      \u001b[0m | \u001b[0m 95.4    \u001b[0m | \u001b[0m 0.2508  \u001b[0m | \u001b[0m 16.97   \u001b[0m | \u001b[0m 6.952   \u001b[0m | \u001b[0m 7.82    \u001b[0m | \u001b[0m 2.332   \u001b[0m | \u001b[0m 6.078   \u001b[0m | \u001b[0m 7.757   \u001b[0m | \u001b[0m 40.5    \u001b[0m |\n",
      "| \u001b[95m 24      \u001b[0m | \u001b[95m 95.66   \u001b[0m | \u001b[95m 0.09034 \u001b[0m | \u001b[95m 15.92   \u001b[0m | \u001b[95m 3.674   \u001b[0m | \u001b[95m 7.801   \u001b[0m | \u001b[95m 1.306   \u001b[0m | \u001b[95m 5.789   \u001b[0m | \u001b[95m 5.538   \u001b[0m | \u001b[95m 42.24   \u001b[0m |\n",
      "| \u001b[0m 25      \u001b[0m | \u001b[0m 94.64   \u001b[0m | \u001b[0m 0.0     \u001b[0m | \u001b[0m 14.72   \u001b[0m | \u001b[0m 6.298   \u001b[0m | \u001b[0m 9.349   \u001b[0m | \u001b[0m 1.493   \u001b[0m | \u001b[0m 5.349   \u001b[0m | \u001b[0m 5.909   \u001b[0m | \u001b[0m 41.86   \u001b[0m |\n",
      "| \u001b[0m 26      \u001b[0m | \u001b[0m 93.91   \u001b[0m | \u001b[0m 0.0     \u001b[0m | \u001b[0m 17.6    \u001b[0m | \u001b[0m 4.814   \u001b[0m | \u001b[0m 6.339   \u001b[0m | \u001b[0m 1.042   \u001b[0m | \u001b[0m 5.304   \u001b[0m | \u001b[0m 7.237   \u001b[0m | \u001b[0m 42.46   \u001b[0m |\n",
      "| \u001b[0m 27      \u001b[0m | \u001b[0m 95.48   \u001b[0m | \u001b[0m 0.7963  \u001b[0m | \u001b[0m 16.01   \u001b[0m | \u001b[0m 7.049   \u001b[0m | \u001b[0m 7.015   \u001b[0m | \u001b[0m 2.042   \u001b[0m | \u001b[0m 6.306   \u001b[0m | \u001b[0m 10.03   \u001b[0m | \u001b[0m 40.05   \u001b[0m |\n",
      "| \u001b[0m 28      \u001b[0m | \u001b[0m 94.38   \u001b[0m | \u001b[0m 0.99    \u001b[0m | \u001b[0m 73.59   \u001b[0m | \u001b[0m 2.97    \u001b[0m | \u001b[0m 8.67    \u001b[0m | \u001b[0m 1.0     \u001b[0m | \u001b[0m 7.078   \u001b[0m | \u001b[0m 12.0    \u001b[0m | \u001b[0m 28.08   \u001b[0m |\n",
      "| \u001b[0m 29      \u001b[0m | \u001b[0m 93.68   \u001b[0m | \u001b[0m 0.5712  \u001b[0m | \u001b[0m 14.92   \u001b[0m | \u001b[0m 6.917   \u001b[0m | \u001b[0m 6.213   \u001b[0m | \u001b[0m 2.799   \u001b[0m | \u001b[0m 5.195   \u001b[0m | \u001b[0m 7.213   \u001b[0m | \u001b[0m 39.9    \u001b[0m |\n",
      "| \u001b[0m 30      \u001b[0m | \u001b[0m 95.42   \u001b[0m | \u001b[0m 0.4663  \u001b[0m | \u001b[0m 15.44   \u001b[0m | \u001b[0m 4.445   \u001b[0m | \u001b[0m 8.274   \u001b[0m | \u001b[0m 1.942   \u001b[0m | \u001b[0m 6.642   \u001b[0m | \u001b[0m 7.427   \u001b[0m | \u001b[0m 41.38   \u001b[0m |\n",
      "| \u001b[0m 31      \u001b[0m | \u001b[0m 95.04   \u001b[0m | \u001b[0m 0.2346  \u001b[0m | \u001b[0m 17.13   \u001b[0m | \u001b[0m 7.052   \u001b[0m | \u001b[0m 8.482   \u001b[0m | \u001b[0m 1.201   \u001b[0m | \u001b[0m 6.089   \u001b[0m | \u001b[0m 11.28   \u001b[0m | \u001b[0m 40.54   \u001b[0m |\n",
      "| \u001b[0m 32      \u001b[0m | \u001b[0m 95.4    \u001b[0m | \u001b[0m 0.5386  \u001b[0m | \u001b[0m 16.81   \u001b[0m | \u001b[0m 5.748   \u001b[0m | \u001b[0m 8.935   \u001b[0m | \u001b[0m 2.183   \u001b[0m | \u001b[0m 6.054   \u001b[0m | \u001b[0m 9.22    \u001b[0m | \u001b[0m 37.96   \u001b[0m |\n",
      "| \u001b[0m 33      \u001b[0m | \u001b[0m 93.56   \u001b[0m | \u001b[0m 0.5858  \u001b[0m | \u001b[0m 74.51   \u001b[0m | \u001b[0m 3.968   \u001b[0m | \u001b[0m 9.89    \u001b[0m | \u001b[0m 2.848   \u001b[0m | \u001b[0m 8.493   \u001b[0m | \u001b[0m 9.705   \u001b[0m | \u001b[0m 29.92   \u001b[0m |\n",
      "| \u001b[0m 34      \u001b[0m | \u001b[0m 94.58   \u001b[0m | \u001b[0m 0.7313  \u001b[0m | \u001b[0m 16.32   \u001b[0m | \u001b[0m 2.872   \u001b[0m | \u001b[0m 7.899   \u001b[0m | \u001b[0m 1.7     \u001b[0m | \u001b[0m 6.018   \u001b[0m | \u001b[0m 3.497   \u001b[0m | \u001b[0m 41.37   \u001b[0m |\n",
      "| \u001b[0m 35      \u001b[0m | \u001b[0m 93.96   \u001b[0m | \u001b[0m 0.679   \u001b[0m | \u001b[0m 14.47   \u001b[0m | \u001b[0m 3.195   \u001b[0m | \u001b[0m 6.397   \u001b[0m | \u001b[0m 2.848   \u001b[0m | \u001b[0m 4.888   \u001b[0m | \u001b[0m 10.4    \u001b[0m | \u001b[0m 42.81   \u001b[0m |\n",
      "| \u001b[0m 36      \u001b[0m | \u001b[0m 95.4    \u001b[0m | \u001b[0m 0.06959 \u001b[0m | \u001b[0m 16.13   \u001b[0m | \u001b[0m 9.496   \u001b[0m | \u001b[0m 9.986   \u001b[0m | \u001b[0m 2.476   \u001b[0m | \u001b[0m 5.624   \u001b[0m | \u001b[0m 8.475   \u001b[0m | \u001b[0m 39.16   \u001b[0m |\n",
      "| \u001b[0m 37      \u001b[0m | \u001b[0m 92.79   \u001b[0m | \u001b[0m 0.708   \u001b[0m | \u001b[0m 14.57   \u001b[0m | \u001b[0m 7.205   \u001b[0m | \u001b[0m 6.758   \u001b[0m | \u001b[0m 3.181   \u001b[0m | \u001b[0m 9.901   \u001b[0m | \u001b[0m 9.184   \u001b[0m | \u001b[0m 39.98   \u001b[0m |\n",
      "| \u001b[0m 38      \u001b[0m | \u001b[0m 93.73   \u001b[0m | \u001b[0m 0.7853  \u001b[0m | \u001b[0m 18.6    \u001b[0m | \u001b[0m 8.954   \u001b[0m | \u001b[0m 8.374   \u001b[0m | \u001b[0m 2.257   \u001b[0m | \u001b[0m 3.423   \u001b[0m | \u001b[0m 8.465   \u001b[0m | \u001b[0m 39.74   \u001b[0m |\n",
      "| \u001b[0m 39      \u001b[0m | \u001b[0m 93.4    \u001b[0m | \u001b[0m 0.1065  \u001b[0m | \u001b[0m 15.22   \u001b[0m | \u001b[0m 5.467   \u001b[0m | \u001b[0m 9.884   \u001b[0m | \u001b[0m 1.411   \u001b[0m | \u001b[0m 3.405   \u001b[0m | \u001b[0m 9.127   \u001b[0m | \u001b[0m 39.71   \u001b[0m |\n",
      "| \u001b[0m 40      \u001b[0m | \u001b[0m 95.42   \u001b[0m | \u001b[0m 0.5054  \u001b[0m | \u001b[0m 16.31   \u001b[0m | \u001b[0m 7.277   \u001b[0m | \u001b[0m 9.087   \u001b[0m | \u001b[0m 2.011   \u001b[0m | \u001b[0m 6.63    \u001b[0m | \u001b[0m 9.08    \u001b[0m | \u001b[0m 39.67   \u001b[0m |\n",
      "=========================================================================================================================\n",
      "95.66181205514506\n",
      "Prev Inven : 1, Var Sale : 6, Var Product : 6\n",
      "|   iter    |  target   |  g_alpha  |   k_dot   |   rbf_l   |  theta1   | tmp_pr... | tmp_va... | tmp_va... |  w_noise  |\n",
      "-------------------------------------------------------------------------------------------------------------------------\n",
      "| \u001b[0m 1       \u001b[0m | \u001b[0m 93.9    \u001b[0m | \u001b[0m 0.4129  \u001b[0m | \u001b[0m 72.03   \u001b[0m | \u001b[0m 0.001144\u001b[0m | \u001b[0m 3.023   \u001b[0m | \u001b[0m 2.027   \u001b[0m | \u001b[0m 2.016   \u001b[0m | \u001b[0m 3.049   \u001b[0m | \u001b[0m 34.56   \u001b[0m |\n",
      "| \u001b[95m 2       \u001b[0m | \u001b[95m 95.21   \u001b[0m | \u001b[95m 0.3928  \u001b[0m | \u001b[95m 53.88   \u001b[0m | \u001b[95m 4.192   \u001b[0m | \u001b[95m 6.852   \u001b[0m | \u001b[95m 2.431   \u001b[0m | \u001b[95m 10.66   \u001b[0m | \u001b[95m 1.301   \u001b[0m | \u001b[95m 67.05   \u001b[0m |\n",
      "| \u001b[0m 3       \u001b[0m | \u001b[0m 91.4    \u001b[0m | \u001b[0m 0.4131  \u001b[0m | \u001b[0m 55.87   \u001b[0m | \u001b[0m 1.404   \u001b[0m | \u001b[0m 1.981   \u001b[0m | \u001b[0m 6.605   \u001b[0m | \u001b[0m 11.65   \u001b[0m | \u001b[0m 4.448   \u001b[0m | \u001b[0m 69.23   \u001b[0m |\n",
      "| \u001b[0m 4       \u001b[0m | \u001b[0m 94.38   \u001b[0m | \u001b[0m 0.8676  \u001b[0m | \u001b[0m 89.46   \u001b[0m | \u001b[0m 0.8504  \u001b[0m | \u001b[0m 0.3905  \u001b[0m | \u001b[0m 2.189   \u001b[0m | \u001b[0m 10.66   \u001b[0m | \u001b[0m 2.082   \u001b[0m | \u001b[0m 42.11   \u001b[0m |\n",
      "| \u001b[95m 5       \u001b[0m | \u001b[95m 95.64   \u001b[0m | \u001b[95m 0.9483  \u001b[0m | \u001b[95m 53.32   \u001b[0m | \u001b[95m 6.919   \u001b[0m | \u001b[95m 3.155   \u001b[0m | \u001b[95m 5.806   \u001b[0m | \u001b[95m 10.18   \u001b[0m | \u001b[95m 1.201   \u001b[0m | \u001b[95m 75.01   \u001b[0m |\n",
      "| \u001b[0m 6       \u001b[0m | \u001b[0m 95.51   \u001b[0m | \u001b[0m 0.979   \u001b[0m | \u001b[0m 74.82   \u001b[0m | \u001b[0m 2.804   \u001b[0m | \u001b[0m 7.893   \u001b[0m | \u001b[0m 1.723   \u001b[0m | \u001b[0m 5.927   \u001b[0m | \u001b[0m 10.99   \u001b[0m | \u001b[0m 29.36   \u001b[0m |\n",
      "| \u001b[0m 7       \u001b[0m | \u001b[0m 94.81   \u001b[0m | \u001b[0m 0.2849  \u001b[0m | \u001b[0m 13.0    \u001b[0m | \u001b[0m 0.1937  \u001b[0m | \u001b[0m 6.788   \u001b[0m | \u001b[0m 2.481   \u001b[0m | \u001b[0m 3.921   \u001b[0m | \u001b[0m 6.407   \u001b[0m | \u001b[0m 5.336   \u001b[0m |\n",
      "| \u001b[0m 8       \u001b[0m | \u001b[0m 95.62   \u001b[0m | \u001b[0m 0.5684  \u001b[0m | \u001b[0m 14.67   \u001b[0m | \u001b[0m 5.893   \u001b[0m | \u001b[0m 6.998   \u001b[0m | \u001b[0m 1.716   \u001b[0m | \u001b[0m 5.555   \u001b[0m | \u001b[0m 8.638   \u001b[0m | \u001b[0m 41.42   \u001b[0m |\n",
      "| \u001b[0m 9       \u001b[0m | \u001b[0m 95.09   \u001b[0m | \u001b[0m 0.04945 \u001b[0m | \u001b[0m 53.59   \u001b[0m | \u001b[0m 6.638   \u001b[0m | \u001b[0m 5.149   \u001b[0m | \u001b[0m 7.612   \u001b[0m | \u001b[0m 7.452   \u001b[0m | \u001b[0m 10.94   \u001b[0m | \u001b[0m 13.75   \u001b[0m |\n",
      "| \u001b[0m 10      \u001b[0m | \u001b[0m 95.4    \u001b[0m | \u001b[0m 0.1379  \u001b[0m | \u001b[0m 80.74   \u001b[0m | \u001b[0m 3.977   \u001b[0m | \u001b[0m 1.654   \u001b[0m | \u001b[0m 7.493   \u001b[0m | \u001b[0m 4.825   \u001b[0m | \u001b[0m 9.259   \u001b[0m | \u001b[0m 72.6    \u001b[0m |\n",
      "| \u001b[0m 11      \u001b[0m | \u001b[0m 91.07   \u001b[0m | \u001b[0m 0.8996  \u001b[0m | \u001b[0m 95.18   \u001b[0m | \u001b[0m 9.181   \u001b[0m | \u001b[0m 3.227   \u001b[0m | \u001b[0m 6.661   \u001b[0m | \u001b[0m 11.08   \u001b[0m | \u001b[0m 5.039   \u001b[0m | \u001b[0m 69.01   \u001b[0m |\n",
      "| \u001b[0m 12      \u001b[0m | \u001b[0m 95.64   \u001b[0m | \u001b[0m 0.7974  \u001b[0m | \u001b[0m 15.18   \u001b[0m | \u001b[0m 3.237   \u001b[0m | \u001b[0m 4.322   \u001b[0m | \u001b[0m 7.715   \u001b[0m | \u001b[0m 8.121   \u001b[0m | \u001b[0m 6.984   \u001b[0m | \u001b[0m 94.76   \u001b[0m |\n",
      "| \u001b[0m 13      \u001b[0m | \u001b[0m 93.84   \u001b[0m | \u001b[0m 0.28    \u001b[0m | \u001b[0m 83.68   \u001b[0m | \u001b[0m 0.1909  \u001b[0m | \u001b[0m 2.006   \u001b[0m | \u001b[0m 3.429   \u001b[0m | \u001b[0m 1.603   \u001b[0m | \u001b[0m 6.838   \u001b[0m | \u001b[0m 40.95   \u001b[0m |\n",
      "| \u001b[0m 14      \u001b[0m | \u001b[0m 94.14   \u001b[0m | \u001b[0m 0.3623  \u001b[0m | \u001b[0m 46.92   \u001b[0m | \u001b[0m 5.373   \u001b[0m | \u001b[0m 2.653   \u001b[0m | \u001b[0m 7.964   \u001b[0m | \u001b[0m 3.462   \u001b[0m | \u001b[0m 3.77    \u001b[0m | \u001b[0m 89.39   \u001b[0m |\n",
      "| \u001b[0m 15      \u001b[0m | \u001b[0m 95.07   \u001b[0m | \u001b[0m 0.1273  \u001b[0m | \u001b[0m 2.083   \u001b[0m | \u001b[0m 8.872   \u001b[0m | \u001b[0m 7.994   \u001b[0m | \u001b[0m 6.618   \u001b[0m | \u001b[0m 6.185   \u001b[0m | \u001b[0m 10.09   \u001b[0m | \u001b[0m 60.05   \u001b[0m |\n",
      "| \u001b[0m 16      \u001b[0m | \u001b[0m 94.74   \u001b[0m | \u001b[0m 0.9449  \u001b[0m | \u001b[0m 50.8    \u001b[0m | \u001b[0m 3.294   \u001b[0m | \u001b[0m 5.376   \u001b[0m | \u001b[0m 5.139   \u001b[0m | \u001b[0m 7.079   \u001b[0m | \u001b[0m 7.993   \u001b[0m | \u001b[0m 88.04   \u001b[0m |\n",
      "| \u001b[0m 17      \u001b[0m | \u001b[0m 95.35   \u001b[0m | \u001b[0m 0.09027 \u001b[0m | \u001b[0m 46.61   \u001b[0m | \u001b[0m 1.003   \u001b[0m | \u001b[0m 7.06    \u001b[0m | \u001b[0m 4.6     \u001b[0m | \u001b[0m 6.36    \u001b[0m | \u001b[0m 11.8    \u001b[0m | \u001b[0m 19.81   \u001b[0m |\n",
      "| \u001b[0m 18      \u001b[0m | \u001b[0m 95.19   \u001b[0m | \u001b[0m 0.08163 \u001b[0m | \u001b[0m 24.96   \u001b[0m | \u001b[0m 2.219   \u001b[0m | \u001b[0m 8.699   \u001b[0m | \u001b[0m 2.599   \u001b[0m | \u001b[0m 5.573   \u001b[0m | \u001b[0m 5.179   \u001b[0m | \u001b[0m 94.97   \u001b[0m |\n",
      "| \u001b[0m 19      \u001b[0m | \u001b[0m 93.94   \u001b[0m | \u001b[0m 0.2393  \u001b[0m | \u001b[0m 84.02   \u001b[0m | \u001b[0m 8.518   \u001b[0m | \u001b[0m 5.874   \u001b[0m | \u001b[0m 2.388   \u001b[0m | \u001b[0m 2.221   \u001b[0m | \u001b[0m 8.923   \u001b[0m | \u001b[0m 62.17   \u001b[0m |\n",
      "| \u001b[95m 20      \u001b[0m | \u001b[95m 95.69   \u001b[0m | \u001b[95m 0.3013  \u001b[0m | \u001b[95m 50.42   \u001b[0m | \u001b[95m 0.02496 \u001b[0m | \u001b[95m 8.423   \u001b[0m | \u001b[95m 6.058   \u001b[0m | \u001b[95m 3.547   \u001b[0m | \u001b[95m 1.452   \u001b[0m | \u001b[95m 76.37   \u001b[0m |\n",
      "| \u001b[0m 21      \u001b[0m | \u001b[0m 94.71   \u001b[0m | \u001b[0m 0.1497  \u001b[0m | \u001b[0m 38.96   \u001b[0m | \u001b[0m 7.288   \u001b[0m | \u001b[0m 6.121   \u001b[0m | \u001b[0m 7.866   \u001b[0m | \u001b[0m 3.209   \u001b[0m | \u001b[0m 6.991   \u001b[0m | \u001b[0m 11.58   \u001b[0m |\n",
      "| \u001b[0m 22      \u001b[0m | \u001b[0m 95.22   \u001b[0m | \u001b[0m 0.6398  \u001b[0m | \u001b[0m 85.62   \u001b[0m | \u001b[0m 3.537   \u001b[0m | \u001b[0m 2.252   \u001b[0m | \u001b[0m 4.368   \u001b[0m | \u001b[0m 6.032   \u001b[0m | \u001b[0m 11.05   \u001b[0m | \u001b[0m 41.2    \u001b[0m |\n",
      "| \u001b[0m 23      \u001b[0m | \u001b[0m 93.9    \u001b[0m | \u001b[0m 0.319   \u001b[0m | \u001b[0m 15.19   \u001b[0m | \u001b[0m 4.066   \u001b[0m | \u001b[0m 7.223   \u001b[0m | \u001b[0m 1.308   \u001b[0m | \u001b[0m 4.426   \u001b[0m | \u001b[0m 2.622   \u001b[0m | \u001b[0m 2.782   \u001b[0m |\n",
      "| \u001b[0m 24      \u001b[0m | \u001b[0m 95.33   \u001b[0m | \u001b[0m 0.1577  \u001b[0m | \u001b[0m 60.27   \u001b[0m | \u001b[0m 1.481   \u001b[0m | \u001b[0m 5.014   \u001b[0m | \u001b[0m 6.581   \u001b[0m | \u001b[0m 9.311   \u001b[0m | \u001b[0m 7.057   \u001b[0m | \u001b[0m 25.51   \u001b[0m |\n",
      "| \u001b[95m 25      \u001b[0m | \u001b[95m 95.71   \u001b[0m | \u001b[95m 0.4122  \u001b[0m | \u001b[95m 9.708   \u001b[0m | \u001b[95m 0.8714  \u001b[0m | \u001b[95m 4.179   \u001b[0m | \u001b[95m 3.133   \u001b[0m | \u001b[95m 8.801   \u001b[0m | \u001b[95m 1.653   \u001b[0m | \u001b[95m 14.78   \u001b[0m |\n",
      "| \u001b[0m 26      \u001b[0m | \u001b[0m 94.2    \u001b[0m | \u001b[0m 0.3023  \u001b[0m | \u001b[0m 44.7    \u001b[0m | \u001b[0m 1.256   \u001b[0m | \u001b[0m 2.499   \u001b[0m | \u001b[0m 7.281   \u001b[0m | \u001b[0m 2.0     \u001b[0m | \u001b[0m 9.061   \u001b[0m | \u001b[0m 67.03   \u001b[0m |\n",
      "| \u001b[0m 27      \u001b[0m | \u001b[0m 94.86   \u001b[0m | \u001b[0m 0.6716  \u001b[0m | \u001b[0m 74.13   \u001b[0m | \u001b[0m 8.726   \u001b[0m | \u001b[0m 6.291   \u001b[0m | \u001b[0m 1.662   \u001b[0m | \u001b[0m 4.992   \u001b[0m | \u001b[0m 8.013   \u001b[0m | \u001b[0m 5.108   \u001b[0m |\n",
      "| \u001b[0m 28      \u001b[0m | \u001b[0m 94.7    \u001b[0m | \u001b[0m 0.9363  \u001b[0m | \u001b[0m 98.73   \u001b[0m | \u001b[0m 6.256   \u001b[0m | \u001b[0m 2.373   \u001b[0m | \u001b[0m 7.05    \u001b[0m | \u001b[0m 7.771   \u001b[0m | \u001b[0m 8.389   \u001b[0m | \u001b[0m 6.098   \u001b[0m |\n",
      "| \u001b[0m 29      \u001b[0m | \u001b[0m 95.64   \u001b[0m | \u001b[0m 0.5591  \u001b[0m | \u001b[0m 80.87   \u001b[0m | \u001b[0m 9.738   \u001b[0m | \u001b[0m 0.8996  \u001b[0m | \u001b[0m 4.301   \u001b[0m | \u001b[0m 4.378   \u001b[0m | \u001b[0m 2.223   \u001b[0m | \u001b[0m 74.8    \u001b[0m |\n",
      "| \u001b[0m 30      \u001b[0m | \u001b[0m 94.7    \u001b[0m | \u001b[0m 0.8057  \u001b[0m | \u001b[0m 91.21   \u001b[0m | \u001b[0m 6.691   \u001b[0m | \u001b[0m 6.231   \u001b[0m | \u001b[0m 4.306   \u001b[0m | \u001b[0m 9.923   \u001b[0m | \u001b[0m 6.994   \u001b[0m | \u001b[0m 90.43   \u001b[0m |\n",
      "| \u001b[0m 31      \u001b[0m | \u001b[0m 95.15   \u001b[0m | \u001b[0m 0.8264  \u001b[0m | \u001b[0m 84.42   \u001b[0m | \u001b[0m 6.595   \u001b[0m | \u001b[0m 7.349   \u001b[0m | \u001b[0m 3.684   \u001b[0m | \u001b[0m 8.35    \u001b[0m | \u001b[0m 4.722   \u001b[0m | \u001b[0m 6.942   \u001b[0m |\n",
      "| \u001b[0m 32      \u001b[0m | \u001b[0m 94.78   \u001b[0m | \u001b[0m 0.7607  \u001b[0m | \u001b[0m 19.78   \u001b[0m | \u001b[0m 7.618   \u001b[0m | \u001b[0m 9.706   \u001b[0m | \u001b[0m 4.689   \u001b[0m | \u001b[0m 5.293   \u001b[0m | \u001b[0m 3.332   \u001b[0m | \u001b[0m 67.8    \u001b[0m |\n",
      "| \u001b[0m 33      \u001b[0m | \u001b[0m 93.45   \u001b[0m | \u001b[0m 0.9068  \u001b[0m | \u001b[0m 29.71   \u001b[0m | \u001b[0m 7.926   \u001b[0m | \u001b[0m 6.722   \u001b[0m | \u001b[0m 3.05    \u001b[0m | \u001b[0m 1.459   \u001b[0m | \u001b[0m 8.025   \u001b[0m | \u001b[0m 23.94   \u001b[0m |\n",
      "| \u001b[0m 34      \u001b[0m | \u001b[0m 95.55   \u001b[0m | \u001b[0m 0.3073  \u001b[0m | \u001b[0m 92.22   \u001b[0m | \u001b[0m 7.517   \u001b[0m | \u001b[0m 4.567   \u001b[0m | \u001b[0m 6.652   \u001b[0m | \u001b[0m 7.151   \u001b[0m | \u001b[0m 5.449   \u001b[0m | \u001b[0m 70.46   \u001b[0m |\n",
      "| \u001b[95m 35      \u001b[0m | \u001b[95m 96.2    \u001b[0m | \u001b[95m 0.6535  \u001b[0m | \u001b[95m 3.984   \u001b[0m | \u001b[95m 2.272   \u001b[0m | \u001b[95m 3.149   \u001b[0m | \u001b[95m 5.818   \u001b[0m | \u001b[95m 6.206   \u001b[0m | \u001b[95m 1.15    \u001b[0m | \u001b[95m 24.93   \u001b[0m |\n",
      "| \u001b[0m 36      \u001b[0m | \u001b[0m 94.86   \u001b[0m | \u001b[0m 0.8949  \u001b[0m | \u001b[0m 23.4    \u001b[0m | \u001b[0m 4.27    \u001b[0m | \u001b[0m 7.78    \u001b[0m | \u001b[0m 2.325   \u001b[0m | \u001b[0m 4.393   \u001b[0m | \u001b[0m 7.069   \u001b[0m | \u001b[0m 94.67   \u001b[0m |\n",
      "| \u001b[0m 37      \u001b[0m | \u001b[0m 95.71   \u001b[0m | \u001b[0m 0.6455  \u001b[0m | \u001b[0m 92.23   \u001b[0m | \u001b[0m 8.332   \u001b[0m | \u001b[0m 4.665   \u001b[0m | \u001b[0m 4.456   \u001b[0m | \u001b[0m 8.045   \u001b[0m | \u001b[0m 5.826   \u001b[0m | \u001b[0m 68.35   \u001b[0m |\n",
      "| \u001b[0m 38      \u001b[0m | \u001b[0m 96.2    \u001b[0m | \u001b[0m 0.8304  \u001b[0m | \u001b[0m 8.852   \u001b[0m | \u001b[0m 1.842   \u001b[0m | \u001b[0m 3.463   \u001b[0m | \u001b[0m 3.723   \u001b[0m | \u001b[0m 10.15   \u001b[0m | \u001b[0m 1.097   \u001b[0m | \u001b[0m 17.75   \u001b[0m |\n",
      "| \u001b[95m 39      \u001b[0m | \u001b[95m 96.23   \u001b[0m | \u001b[95m 0.1165  \u001b[0m | \u001b[95m 5.234   \u001b[0m | \u001b[95m 1.015   \u001b[0m | \u001b[95m 1.64    \u001b[0m | \u001b[95m 6.378   \u001b[0m | \u001b[95m 7.209   \u001b[0m | \u001b[95m 2.24    \u001b[0m | \u001b[95m 28.03   \u001b[0m |\n",
      "| \u001b[0m 40      \u001b[0m | \u001b[0m 95.74   \u001b[0m | \u001b[0m 0.3363  \u001b[0m | \u001b[0m 5.684   \u001b[0m | \u001b[0m 1.375   \u001b[0m | \u001b[0m 2.237   \u001b[0m | \u001b[0m 5.792   \u001b[0m | \u001b[0m 7.563   \u001b[0m | \u001b[0m 1.852   \u001b[0m | \u001b[0m 25.6    \u001b[0m |\n",
      "=========================================================================================================================\n",
      "96.22901659380598\n",
      "Prev Inven : 6, Var Sale : 2, Var Product : 7\n",
      "|   iter    |  target   |  g_alpha  |   k_dot   |   rbf_l   |  theta1   | tmp_pr... | tmp_va... | tmp_va... |  w_noise  |\n",
      "-------------------------------------------------------------------------------------------------------------------------\n",
      "| \u001b[0m 1       \u001b[0m | \u001b[0m 92.25   \u001b[0m | \u001b[0m 0.4129  \u001b[0m | \u001b[0m 72.03   \u001b[0m | \u001b[0m 0.001144\u001b[0m | \u001b[0m 3.023   \u001b[0m | \u001b[0m 2.027   \u001b[0m | \u001b[0m 2.016   \u001b[0m | \u001b[0m 3.049   \u001b[0m | \u001b[0m 34.56   \u001b[0m |\n",
      "| \u001b[95m 2       \u001b[0m | \u001b[95m 92.55   \u001b[0m | \u001b[95m 0.3928  \u001b[0m | \u001b[95m 53.88   \u001b[0m | \u001b[95m 4.192   \u001b[0m | \u001b[95m 6.852   \u001b[0m | \u001b[95m 2.431   \u001b[0m | \u001b[95m 10.66   \u001b[0m | \u001b[95m 1.301   \u001b[0m | \u001b[95m 67.05   \u001b[0m |\n",
      "| \u001b[0m 3       \u001b[0m | \u001b[0m 90.73   \u001b[0m | \u001b[0m 0.4131  \u001b[0m | \u001b[0m 55.87   \u001b[0m | \u001b[0m 1.404   \u001b[0m | \u001b[0m 1.981   \u001b[0m | \u001b[0m 6.605   \u001b[0m | \u001b[0m 11.65   \u001b[0m | \u001b[0m 4.448   \u001b[0m | \u001b[0m 69.23   \u001b[0m |\n",
      "| \u001b[0m 4       \u001b[0m | \u001b[0m 92.07   \u001b[0m | \u001b[0m 0.8676  \u001b[0m | \u001b[0m 89.46   \u001b[0m | \u001b[0m 0.8504  \u001b[0m | \u001b[0m 0.3905  \u001b[0m | \u001b[0m 2.189   \u001b[0m | \u001b[0m 10.66   \u001b[0m | \u001b[0m 2.082   \u001b[0m | \u001b[0m 42.11   \u001b[0m |\n",
      "| \u001b[95m 5       \u001b[0m | \u001b[95m 92.87   \u001b[0m | \u001b[95m 0.9483  \u001b[0m | \u001b[95m 53.32   \u001b[0m | \u001b[95m 6.919   \u001b[0m | \u001b[95m 3.155   \u001b[0m | \u001b[95m 5.806   \u001b[0m | \u001b[95m 10.18   \u001b[0m | \u001b[95m 1.201   \u001b[0m | \u001b[95m 75.01   \u001b[0m |\n",
      "| \u001b[0m 6       \u001b[0m | \u001b[0m 91.03   \u001b[0m | \u001b[0m 0.979   \u001b[0m | \u001b[0m 74.82   \u001b[0m | \u001b[0m 2.804   \u001b[0m | \u001b[0m 7.893   \u001b[0m | \u001b[0m 1.723   \u001b[0m | \u001b[0m 5.927   \u001b[0m | \u001b[0m 10.99   \u001b[0m | \u001b[0m 29.36   \u001b[0m |\n",
      "| \u001b[0m 7       \u001b[0m | \u001b[0m 92.61   \u001b[0m | \u001b[0m 0.2849  \u001b[0m | \u001b[0m 13.0    \u001b[0m | \u001b[0m 0.1937  \u001b[0m | \u001b[0m 6.788   \u001b[0m | \u001b[0m 2.481   \u001b[0m | \u001b[0m 3.921   \u001b[0m | \u001b[0m 6.407   \u001b[0m | \u001b[0m 5.336   \u001b[0m |\n",
      "| \u001b[0m 8       \u001b[0m | \u001b[0m 91.36   \u001b[0m | \u001b[0m 0.5684  \u001b[0m | \u001b[0m 14.67   \u001b[0m | \u001b[0m 5.893   \u001b[0m | \u001b[0m 6.998   \u001b[0m | \u001b[0m 1.716   \u001b[0m | \u001b[0m 5.555   \u001b[0m | \u001b[0m 8.638   \u001b[0m | \u001b[0m 41.42   \u001b[0m |\n",
      "| \u001b[0m 9       \u001b[0m | \u001b[0m 89.98   \u001b[0m | \u001b[0m 0.04945 \u001b[0m | \u001b[0m 53.59   \u001b[0m | \u001b[0m 6.638   \u001b[0m | \u001b[0m 5.149   \u001b[0m | \u001b[0m 7.612   \u001b[0m | \u001b[0m 7.452   \u001b[0m | \u001b[0m 10.94   \u001b[0m | \u001b[0m 13.75   \u001b[0m |\n",
      "| \u001b[0m 10      \u001b[0m | \u001b[0m 91.71   \u001b[0m | \u001b[0m 0.1379  \u001b[0m | \u001b[0m 80.74   \u001b[0m | \u001b[0m 3.977   \u001b[0m | \u001b[0m 1.654   \u001b[0m | \u001b[0m 7.493   \u001b[0m | \u001b[0m 4.825   \u001b[0m | \u001b[0m 9.259   \u001b[0m | \u001b[0m 72.6    \u001b[0m |\n",
      "| \u001b[0m 11      \u001b[0m | \u001b[0m 90.45   \u001b[0m | \u001b[0m 0.8996  \u001b[0m | \u001b[0m 95.18   \u001b[0m | \u001b[0m 9.181   \u001b[0m | \u001b[0m 3.227   \u001b[0m | \u001b[0m 6.661   \u001b[0m | \u001b[0m 11.08   \u001b[0m | \u001b[0m 5.039   \u001b[0m | \u001b[0m 69.01   \u001b[0m |\n",
      "| \u001b[0m 12      \u001b[0m | \u001b[0m 91.39   \u001b[0m | \u001b[0m 0.7974  \u001b[0m | \u001b[0m 15.18   \u001b[0m | \u001b[0m 3.237   \u001b[0m | \u001b[0m 4.322   \u001b[0m | \u001b[0m 7.715   \u001b[0m | \u001b[0m 8.121   \u001b[0m | \u001b[0m 6.984   \u001b[0m | \u001b[0m 94.76   \u001b[0m |\n",
      "| \u001b[0m 13      \u001b[0m | \u001b[0m 92.26   \u001b[0m | \u001b[0m 0.28    \u001b[0m | \u001b[0m 83.68   \u001b[0m | \u001b[0m 0.1909  \u001b[0m | \u001b[0m 2.006   \u001b[0m | \u001b[0m 3.429   \u001b[0m | \u001b[0m 1.603   \u001b[0m | \u001b[0m 6.838   \u001b[0m | \u001b[0m 40.95   \u001b[0m |\n",
      "| \u001b[0m 14      \u001b[0m | \u001b[0m 91.81   \u001b[0m | \u001b[0m 0.3623  \u001b[0m | \u001b[0m 46.92   \u001b[0m | \u001b[0m 5.373   \u001b[0m | \u001b[0m 2.653   \u001b[0m | \u001b[0m 7.964   \u001b[0m | \u001b[0m 3.462   \u001b[0m | \u001b[0m 3.77    \u001b[0m | \u001b[0m 89.39   \u001b[0m |\n",
      "| \u001b[0m 15      \u001b[0m | \u001b[0m 89.82   \u001b[0m | \u001b[0m 0.1273  \u001b[0m | \u001b[0m 2.083   \u001b[0m | \u001b[0m 8.872   \u001b[0m | \u001b[0m 7.994   \u001b[0m | \u001b[0m 6.618   \u001b[0m | \u001b[0m 6.185   \u001b[0m | \u001b[0m 10.09   \u001b[0m | \u001b[0m 60.05   \u001b[0m |\n",
      "| \u001b[0m 16      \u001b[0m | \u001b[0m 89.7    \u001b[0m | \u001b[0m 0.9449  \u001b[0m | \u001b[0m 50.8    \u001b[0m | \u001b[0m 3.294   \u001b[0m | \u001b[0m 5.376   \u001b[0m | \u001b[0m 5.139   \u001b[0m | \u001b[0m 7.079   \u001b[0m | \u001b[0m 7.993   \u001b[0m | \u001b[0m 88.04   \u001b[0m |\n",
      "| \u001b[0m 17      \u001b[0m | \u001b[0m 90.22   \u001b[0m | \u001b[0m 0.09027 \u001b[0m | \u001b[0m 46.61   \u001b[0m | \u001b[0m 1.003   \u001b[0m | \u001b[0m 7.06    \u001b[0m | \u001b[0m 4.6     \u001b[0m | \u001b[0m 6.36    \u001b[0m | \u001b[0m 11.8    \u001b[0m | \u001b[0m 19.81   \u001b[0m |\n",
      "| \u001b[0m 18      \u001b[0m | \u001b[0m 92.28   \u001b[0m | \u001b[0m 0.08163 \u001b[0m | \u001b[0m 24.96   \u001b[0m | \u001b[0m 2.219   \u001b[0m | \u001b[0m 8.699   \u001b[0m | \u001b[0m 2.599   \u001b[0m | \u001b[0m 5.573   \u001b[0m | \u001b[0m 5.179   \u001b[0m | \u001b[0m 94.97   \u001b[0m |\n",
      "| \u001b[0m 19      \u001b[0m | \u001b[0m 91.73   \u001b[0m | \u001b[0m 0.2393  \u001b[0m | \u001b[0m 84.02   \u001b[0m | \u001b[0m 8.518   \u001b[0m | \u001b[0m 5.874   \u001b[0m | \u001b[0m 2.388   \u001b[0m | \u001b[0m 2.221   \u001b[0m | \u001b[0m 8.923   \u001b[0m | \u001b[0m 62.17   \u001b[0m |\n",
      "| \u001b[95m 20      \u001b[0m | \u001b[95m 93.23   \u001b[0m | \u001b[95m 0.3013  \u001b[0m | \u001b[95m 50.42   \u001b[0m | \u001b[95m 0.02496 \u001b[0m | \u001b[95m 8.423   \u001b[0m | \u001b[95m 6.058   \u001b[0m | \u001b[95m 3.547   \u001b[0m | \u001b[95m 1.452   \u001b[0m | \u001b[95m 76.37   \u001b[0m |\n",
      "| \u001b[0m 21      \u001b[0m | \u001b[0m 92.29   \u001b[0m | \u001b[0m 0.1497  \u001b[0m | \u001b[0m 38.96   \u001b[0m | \u001b[0m 7.288   \u001b[0m | \u001b[0m 6.121   \u001b[0m | \u001b[0m 7.866   \u001b[0m | \u001b[0m 3.209   \u001b[0m | \u001b[0m 6.991   \u001b[0m | \u001b[0m 11.58   \u001b[0m |\n",
      "| \u001b[0m 22      \u001b[0m | \u001b[0m 90.91   \u001b[0m | \u001b[0m 0.6398  \u001b[0m | \u001b[0m 85.62   \u001b[0m | \u001b[0m 3.537   \u001b[0m | \u001b[0m 2.252   \u001b[0m | \u001b[0m 4.368   \u001b[0m | \u001b[0m 6.032   \u001b[0m | \u001b[0m 11.05   \u001b[0m | \u001b[0m 41.2    \u001b[0m |\n",
      "| \u001b[95m 23      \u001b[0m | \u001b[95m 93.35   \u001b[0m | \u001b[95m 0.319   \u001b[0m | \u001b[95m 15.19   \u001b[0m | \u001b[95m 4.066   \u001b[0m | \u001b[95m 7.223   \u001b[0m | \u001b[95m 1.308   \u001b[0m | \u001b[95m 4.426   \u001b[0m | \u001b[95m 2.622   \u001b[0m | \u001b[95m 2.782   \u001b[0m |\n",
      "| \u001b[0m 24      \u001b[0m | \u001b[0m 92.92   \u001b[0m | \u001b[0m 0.5646  \u001b[0m | \u001b[0m 17.8    \u001b[0m | \u001b[0m 3.214   \u001b[0m | \u001b[0m 7.156   \u001b[0m | \u001b[0m 2.722   \u001b[0m | \u001b[0m 3.965   \u001b[0m | \u001b[0m 4.56    \u001b[0m | \u001b[0m 4.635   \u001b[0m |\n",
      "| \u001b[0m 25      \u001b[0m | \u001b[0m 92.55   \u001b[0m | \u001b[0m 0.569   \u001b[0m | \u001b[0m 50.92   \u001b[0m | \u001b[0m 4.67    \u001b[0m | \u001b[0m 7.939   \u001b[0m | \u001b[0m 4.364   \u001b[0m | \u001b[0m 6.125   \u001b[0m | \u001b[0m 1.0     \u001b[0m | \u001b[0m 73.71   \u001b[0m |\n",
      "| \u001b[0m 26      \u001b[0m | \u001b[0m 92.28   \u001b[0m | \u001b[0m 0.1002  \u001b[0m | \u001b[0m 14.27   \u001b[0m | \u001b[0m 4.942   \u001b[0m | \u001b[0m 2.413   \u001b[0m | \u001b[0m 2.572   \u001b[0m | \u001b[0m 5.717   \u001b[0m | \u001b[0m 2.513   \u001b[0m | \u001b[0m 3.895   \u001b[0m |\n",
      "| \u001b[0m 27      \u001b[0m | \u001b[0m 92.0    \u001b[0m | \u001b[0m 0.8678  \u001b[0m | \u001b[0m 15.53   \u001b[0m | \u001b[0m 0.8217  \u001b[0m | \u001b[0m 9.249   \u001b[0m | \u001b[0m 1.425   \u001b[0m | \u001b[0m 1.199   \u001b[0m | \u001b[0m 1.083   \u001b[0m | \u001b[0m 1.578   \u001b[0m |\n",
      "| \u001b[0m 28      \u001b[0m | \u001b[0m 93.17   \u001b[0m | \u001b[0m 0.0     \u001b[0m | \u001b[0m 14.38   \u001b[0m | \u001b[0m 5.711   \u001b[0m | \u001b[0m 9.685   \u001b[0m | \u001b[0m 1.0     \u001b[0m | \u001b[0m 6.774   \u001b[0m | \u001b[0m 5.507   \u001b[0m | \u001b[0m 3.573   \u001b[0m |\n",
      "| \u001b[0m 29      \u001b[0m | \u001b[0m 92.36   \u001b[0m | \u001b[0m 0.0     \u001b[0m | \u001b[0m 14.08   \u001b[0m | \u001b[0m 8.048   \u001b[0m | \u001b[0m 8.643   \u001b[0m | \u001b[0m 1.0     \u001b[0m | \u001b[0m 1.997   \u001b[0m | \u001b[0m 3.707   \u001b[0m | \u001b[0m 5.302   \u001b[0m |\n",
      "| \u001b[0m 30      \u001b[0m | \u001b[0m 92.75   \u001b[0m | \u001b[0m 0.0     \u001b[0m | \u001b[0m 16.27   \u001b[0m | \u001b[0m 2.872   \u001b[0m | \u001b[0m 9.027   \u001b[0m | \u001b[0m 1.0     \u001b[0m | \u001b[0m 9.277   \u001b[0m | \u001b[0m 1.35    \u001b[0m | \u001b[0m 4.086   \u001b[0m |\n"
     ]
    },
    {
     "name": "stderr",
     "output_type": "stream",
     "text": [
      "/opt/conda/envs/rapids/lib/python3.7/site-packages/sklearn/gaussian_process/kernels.py:271: RuntimeWarning: divide by zero encountered in log\n",
      "  return np.log(np.hstack(theta))\n"
     ]
    },
    {
     "name": "stdout",
     "output_type": "stream",
     "text": [
      "| \u001b[0m 31      \u001b[0m | \u001b[0m 91.53   \u001b[0m | \u001b[0m 0.99    \u001b[0m | \u001b[0m 15.19   \u001b[0m | \u001b[0m 4.924   \u001b[0m | \u001b[0m 8.554   \u001b[0m | \u001b[0m 5.134   \u001b[0m | \u001b[0m 6.759   \u001b[0m | \u001b[0m 4.481   \u001b[0m | \u001b[0m 0.0     \u001b[0m |\n",
      "| \u001b[0m 32      \u001b[0m | \u001b[0m 92.56   \u001b[0m | \u001b[0m 0.0     \u001b[0m | \u001b[0m 13.85   \u001b[0m | \u001b[0m 3.531   \u001b[0m | \u001b[0m 8.608   \u001b[0m | \u001b[0m 1.0     \u001b[0m | \u001b[0m 5.873   \u001b[0m | \u001b[0m 2.789   \u001b[0m | \u001b[0m 7.483   \u001b[0m |\n"
     ]
    },
    {
     "name": "stderr",
     "output_type": "stream",
     "text": [
      "/opt/conda/envs/rapids/lib/python3.7/site-packages/sklearn/gaussian_process/kernels.py:271: RuntimeWarning: divide by zero encountered in log\n",
      "  return np.log(np.hstack(theta))\n"
     ]
    },
    {
     "name": "stdout",
     "output_type": "stream",
     "text": [
      "| \u001b[0m 33      \u001b[0m | \u001b[0m 90.52   \u001b[0m | \u001b[0m 0.0     \u001b[0m | \u001b[0m 53.44   \u001b[0m | \u001b[0m 0.0     \u001b[0m | \u001b[0m 10.0    \u001b[0m | \u001b[0m 8.0     \u001b[0m | \u001b[0m 1.0     \u001b[0m | \u001b[0m 1.0     \u001b[0m | \u001b[0m 73.73   \u001b[0m |\n",
      "| \u001b[0m 34      \u001b[0m | \u001b[0m 92.32   \u001b[0m | \u001b[0m 0.561   \u001b[0m | \u001b[0m 48.63   \u001b[0m | \u001b[0m 0.482   \u001b[0m | \u001b[0m 6.409   \u001b[0m | \u001b[0m 4.982   \u001b[0m | \u001b[0m 6.103   \u001b[0m | \u001b[0m 1.0     \u001b[0m | \u001b[0m 77.35   \u001b[0m |\n",
      "| \u001b[0m 35      \u001b[0m | \u001b[0m 92.82   \u001b[0m | \u001b[0m 0.3126  \u001b[0m | \u001b[0m 48.79   \u001b[0m | \u001b[0m 0.9457  \u001b[0m | \u001b[0m 10.0    \u001b[0m | \u001b[0m 3.7     \u001b[0m | \u001b[0m 2.987   \u001b[0m | \u001b[0m 3.098   \u001b[0m | \u001b[0m 77.14   \u001b[0m |\n",
      "| \u001b[95m 36      \u001b[0m | \u001b[95m 93.36   \u001b[0m | \u001b[95m 0.03848 \u001b[0m | \u001b[95m 16.61   \u001b[0m | \u001b[95m 5.467   \u001b[0m | \u001b[95m 6.161   \u001b[0m | \u001b[95m 1.057   \u001b[0m | \u001b[95m 5.587   \u001b[0m | \u001b[95m 8.71    \u001b[0m | \u001b[95m 1.971   \u001b[0m |\n",
      "| \u001b[0m 37      \u001b[0m | \u001b[0m 91.82   \u001b[0m | \u001b[0m 0.2223  \u001b[0m | \u001b[0m 15.68   \u001b[0m | \u001b[0m 4.63    \u001b[0m | \u001b[0m 8.282   \u001b[0m | \u001b[0m 2.535   \u001b[0m | \u001b[0m 2.187   \u001b[0m | \u001b[0m 7.957   \u001b[0m | \u001b[0m 4.738   \u001b[0m |\n",
      "| \u001b[0m 38      \u001b[0m | \u001b[0m 91.84   \u001b[0m | \u001b[0m 0.1953  \u001b[0m | \u001b[0m 15.15   \u001b[0m | \u001b[0m 2.408   \u001b[0m | \u001b[0m 3.931   \u001b[0m | \u001b[0m 1.807   \u001b[0m | \u001b[0m 8.036   \u001b[0m | \u001b[0m 6.966   \u001b[0m | \u001b[0m 6.779   \u001b[0m |\n",
      "| \u001b[0m 39      \u001b[0m | \u001b[0m 92.49   \u001b[0m | \u001b[0m 0.0     \u001b[0m | \u001b[0m 17.72   \u001b[0m | \u001b[0m 6.3     \u001b[0m | \u001b[0m 6.751   \u001b[0m | \u001b[0m 1.0     \u001b[0m | \u001b[0m 6.467   \u001b[0m | \u001b[0m 4.697   \u001b[0m | \u001b[0m 2.982   \u001b[0m |\n",
      "| \u001b[0m 40      \u001b[0m | \u001b[0m 93.34   \u001b[0m | \u001b[0m 0.8571  \u001b[0m | \u001b[0m 52.73   \u001b[0m | \u001b[0m 7.944   \u001b[0m | \u001b[0m 5.971   \u001b[0m | \u001b[0m 2.88    \u001b[0m | \u001b[0m 10.39   \u001b[0m | \u001b[0m 1.0     \u001b[0m | \u001b[0m 72.3    \u001b[0m |\n",
      "=========================================================================================================================\n",
      "93.3564922278467\n",
      "Prev Inven : 1, Var Sale : 9, Var Product : 6\n",
      "|   iter    |  target   |  g_alpha  |   k_dot   |   rbf_l   |  theta1   | tmp_pr... | tmp_va... | tmp_va... |  w_noise  |\n",
      "-------------------------------------------------------------------------------------------------------------------------\n",
      "| \u001b[0m 1       \u001b[0m | \u001b[0m 93.85   \u001b[0m | \u001b[0m 0.4129  \u001b[0m | \u001b[0m 72.03   \u001b[0m | \u001b[0m 0.001144\u001b[0m | \u001b[0m 3.023   \u001b[0m | \u001b[0m 2.027   \u001b[0m | \u001b[0m 2.016   \u001b[0m | \u001b[0m 3.049   \u001b[0m | \u001b[0m 34.56   \u001b[0m |\n",
      "| \u001b[0m 2       \u001b[0m | \u001b[0m 92.51   \u001b[0m | \u001b[0m 0.3928  \u001b[0m | \u001b[0m 53.88   \u001b[0m | \u001b[0m 4.192   \u001b[0m | \u001b[0m 6.852   \u001b[0m | \u001b[0m 2.431   \u001b[0m | \u001b[0m 10.66   \u001b[0m | \u001b[0m 1.301   \u001b[0m | \u001b[0m 67.05   \u001b[0m |\n",
      "| \u001b[0m 3       \u001b[0m | \u001b[0m 92.33   \u001b[0m | \u001b[0m 0.4131  \u001b[0m | \u001b[0m 55.87   \u001b[0m | \u001b[0m 1.404   \u001b[0m | \u001b[0m 1.981   \u001b[0m | \u001b[0m 6.605   \u001b[0m | \u001b[0m 11.65   \u001b[0m | \u001b[0m 4.448   \u001b[0m | \u001b[0m 69.23   \u001b[0m |\n",
      "| \u001b[0m 4       \u001b[0m | \u001b[0m 92.26   \u001b[0m | \u001b[0m 0.8676  \u001b[0m | \u001b[0m 89.46   \u001b[0m | \u001b[0m 0.8504  \u001b[0m | \u001b[0m 0.3905  \u001b[0m | \u001b[0m 2.189   \u001b[0m | \u001b[0m 10.66   \u001b[0m | \u001b[0m 2.082   \u001b[0m | \u001b[0m 42.11   \u001b[0m |\n",
      "| \u001b[0m 5       \u001b[0m | \u001b[0m 92.56   \u001b[0m | \u001b[0m 0.9483  \u001b[0m | \u001b[0m 53.32   \u001b[0m | \u001b[0m 6.919   \u001b[0m | \u001b[0m 3.155   \u001b[0m | \u001b[0m 5.806   \u001b[0m | \u001b[0m 10.18   \u001b[0m | \u001b[0m 1.201   \u001b[0m | \u001b[0m 75.01   \u001b[0m |\n",
      "| \u001b[0m 6       \u001b[0m | \u001b[0m 93.51   \u001b[0m | \u001b[0m 0.979   \u001b[0m | \u001b[0m 74.82   \u001b[0m | \u001b[0m 2.804   \u001b[0m | \u001b[0m 7.893   \u001b[0m | \u001b[0m 1.723   \u001b[0m | \u001b[0m 5.927   \u001b[0m | \u001b[0m 10.99   \u001b[0m | \u001b[0m 29.36   \u001b[0m |\n",
      "| \u001b[95m 7       \u001b[0m | \u001b[95m 94.59   \u001b[0m | \u001b[95m 0.2849  \u001b[0m | \u001b[95m 13.0    \u001b[0m | \u001b[95m 0.1937  \u001b[0m | \u001b[95m 6.788   \u001b[0m | \u001b[95m 2.481   \u001b[0m | \u001b[95m 3.921   \u001b[0m | \u001b[95m 6.407   \u001b[0m | \u001b[95m 5.336   \u001b[0m |\n",
      "| \u001b[0m 8       \u001b[0m | \u001b[0m 93.73   \u001b[0m | \u001b[0m 0.5684  \u001b[0m | \u001b[0m 14.67   \u001b[0m | \u001b[0m 5.893   \u001b[0m | \u001b[0m 6.998   \u001b[0m | \u001b[0m 1.716   \u001b[0m | \u001b[0m 5.555   \u001b[0m | \u001b[0m 8.638   \u001b[0m | \u001b[0m 41.42   \u001b[0m |\n",
      "| \u001b[0m 9       \u001b[0m | \u001b[0m 91.13   \u001b[0m | \u001b[0m 0.04945 \u001b[0m | \u001b[0m 53.59   \u001b[0m | \u001b[0m 6.638   \u001b[0m | \u001b[0m 5.149   \u001b[0m | \u001b[0m 7.612   \u001b[0m | \u001b[0m 7.452   \u001b[0m | \u001b[0m 10.94   \u001b[0m | \u001b[0m 13.75   \u001b[0m |\n",
      "| \u001b[0m 10      \u001b[0m | \u001b[0m 92.13   \u001b[0m | \u001b[0m 0.1379  \u001b[0m | \u001b[0m 80.74   \u001b[0m | \u001b[0m 3.977   \u001b[0m | \u001b[0m 1.654   \u001b[0m | \u001b[0m 7.493   \u001b[0m | \u001b[0m 4.825   \u001b[0m | \u001b[0m 9.259   \u001b[0m | \u001b[0m 72.6    \u001b[0m |\n",
      "| \u001b[0m 11      \u001b[0m | \u001b[0m 93.62   \u001b[0m | \u001b[0m 0.4628  \u001b[0m | \u001b[0m 76.12   \u001b[0m | \u001b[0m 4.188   \u001b[0m | \u001b[0m 6.656   \u001b[0m | \u001b[0m 2.055   \u001b[0m | \u001b[0m 4.776   \u001b[0m | \u001b[0m 10.66   \u001b[0m | \u001b[0m 27.06   \u001b[0m |\n",
      "| \u001b[95m 12      \u001b[0m | \u001b[95m 95.6    \u001b[0m | \u001b[95m 0.4564  \u001b[0m | \u001b[95m 3.663   \u001b[0m | \u001b[95m 0.7537  \u001b[0m | \u001b[95m 7.256   \u001b[0m | \u001b[95m 1.0     \u001b[0m | \u001b[95m 3.538   \u001b[0m | \u001b[95m 6.037   \u001b[0m | \u001b[95m 17.6    \u001b[0m |\n"
     ]
    },
    {
     "name": "stderr",
     "output_type": "stream",
     "text": [
      "/opt/conda/envs/rapids/lib/python3.7/site-packages/sklearn/gaussian_process/kernels.py:271: RuntimeWarning: divide by zero encountered in log\n",
      "  return np.log(np.hstack(theta))\n"
     ]
    },
    {
     "name": "stdout",
     "output_type": "stream",
     "text": [
      "| \u001b[0m 13      \u001b[0m | \u001b[0m 93.78   \u001b[0m | \u001b[0m 0.99    \u001b[0m | \u001b[0m 0.0     \u001b[0m | \u001b[0m 10.0    \u001b[0m | \u001b[0m 0.0     \u001b[0m | \u001b[0m 1.0     \u001b[0m | \u001b[0m 12.0    \u001b[0m | \u001b[0m 1.0     \u001b[0m | \u001b[0m 15.37   \u001b[0m |\n"
     ]
    },
    {
     "name": "stderr",
     "output_type": "stream",
     "text": [
      "/opt/conda/envs/rapids/lib/python3.7/site-packages/sklearn/gaussian_process/kernels.py:271: RuntimeWarning: divide by zero encountered in log\n",
      "  return np.log(np.hstack(theta))\n"
     ]
    },
    {
     "name": "stdout",
     "output_type": "stream",
     "text": [
      "| \u001b[0m 14      \u001b[0m | \u001b[0m 91.82   \u001b[0m | \u001b[0m 0.0     \u001b[0m | \u001b[0m 0.0     \u001b[0m | \u001b[0m 0.0     \u001b[0m | \u001b[0m 10.0    \u001b[0m | \u001b[0m 8.0     \u001b[0m | \u001b[0m 1.0     \u001b[0m | \u001b[0m 1.0     \u001b[0m | \u001b[0m 23.96   \u001b[0m |\n",
      "| \u001b[0m 15      \u001b[0m | \u001b[0m 95.03   \u001b[0m | \u001b[0m 0.8381  \u001b[0m | \u001b[0m 6.384   \u001b[0m | \u001b[0m 1.537   \u001b[0m | \u001b[0m 5.021   \u001b[0m | \u001b[0m 1.0     \u001b[0m | \u001b[0m 5.652   \u001b[0m | \u001b[0m 10.1    \u001b[0m | \u001b[0m 13.48   \u001b[0m |\n"
     ]
    },
    {
     "name": "stderr",
     "output_type": "stream",
     "text": [
      "/opt/conda/envs/rapids/lib/python3.7/site-packages/sklearn/gaussian_process/kernels.py:271: RuntimeWarning: divide by zero encountered in log\n",
      "  return np.log(np.hstack(theta))\n"
     ]
    },
    {
     "name": "stdout",
     "output_type": "stream",
     "text": [
      "| \u001b[0m 16      \u001b[0m | \u001b[0m 94.14   \u001b[0m | \u001b[0m 0.1995  \u001b[0m | \u001b[0m 2.787   \u001b[0m | \u001b[0m 0.0     \u001b[0m | \u001b[0m 8.286   \u001b[0m | \u001b[0m 1.0     \u001b[0m | \u001b[0m 2.056   \u001b[0m | \u001b[0m 4.151   \u001b[0m | \u001b[0m 10.08   \u001b[0m |\n",
      "| \u001b[0m 17      \u001b[0m | \u001b[0m 94.77   \u001b[0m | \u001b[0m 0.3386  \u001b[0m | \u001b[0m 11.18   \u001b[0m | \u001b[0m 1.036   \u001b[0m | \u001b[0m 6.858   \u001b[0m | \u001b[0m 1.0     \u001b[0m | \u001b[0m 4.561   \u001b[0m | \u001b[0m 5.191   \u001b[0m | \u001b[0m 18.1    \u001b[0m |\n"
     ]
    },
    {
     "name": "stderr",
     "output_type": "stream",
     "text": [
      "/opt/conda/envs/rapids/lib/python3.7/site-packages/sklearn/gaussian_process/kernels.py:271: RuntimeWarning: divide by zero encountered in log\n",
      "  return np.log(np.hstack(theta))\n"
     ]
    },
    {
     "name": "stdout",
     "output_type": "stream",
     "text": [
      "| \u001b[0m 18      \u001b[0m | \u001b[0m 92.63   \u001b[0m | \u001b[0m 0.0     \u001b[0m | \u001b[0m 4.214   \u001b[0m | \u001b[0m 0.0     \u001b[0m | \u001b[0m 1.576   \u001b[0m | \u001b[0m 1.0     \u001b[0m | \u001b[0m 1.0     \u001b[0m | \u001b[0m 10.13   \u001b[0m | \u001b[0m 19.73   \u001b[0m |\n",
      "| \u001b[0m 19      \u001b[0m | \u001b[0m 94.67   \u001b[0m | \u001b[0m 0.99    \u001b[0m | \u001b[0m 5.25    \u001b[0m | \u001b[0m 2.33    \u001b[0m | \u001b[0m 9.796   \u001b[0m | \u001b[0m 1.0     \u001b[0m | \u001b[0m 7.804   \u001b[0m | \u001b[0m 6.28    \u001b[0m | \u001b[0m 15.91   \u001b[0m |\n",
      "| \u001b[0m 20      \u001b[0m | \u001b[0m 94.58   \u001b[0m | \u001b[0m 0.7094  \u001b[0m | \u001b[0m 8.163   \u001b[0m | \u001b[0m 3.389   \u001b[0m | \u001b[0m 6.551   \u001b[0m | \u001b[0m 5.473   \u001b[0m | \u001b[0m 3.712   \u001b[0m | \u001b[0m 5.799   \u001b[0m | \u001b[0m 12.1    \u001b[0m |\n"
     ]
    },
    {
     "name": "stderr",
     "output_type": "stream",
     "text": [
      "/opt/conda/envs/rapids/lib/python3.7/site-packages/sklearn/gaussian_process/kernels.py:271: RuntimeWarning: divide by zero encountered in log\n",
      "  return np.log(np.hstack(theta))\n"
     ]
    },
    {
     "name": "stdout",
     "output_type": "stream",
     "text": [
      "| \u001b[0m 21      \u001b[0m | \u001b[0m 93.67   \u001b[0m | \u001b[0m 0.99    \u001b[0m | \u001b[0m 7.0     \u001b[0m | \u001b[0m 0.0     \u001b[0m | \u001b[0m 10.0    \u001b[0m | \u001b[0m 1.0     \u001b[0m | \u001b[0m 1.726   \u001b[0m | \u001b[0m 8.597   \u001b[0m | \u001b[0m 15.52   \u001b[0m |\n",
      "| \u001b[0m 22      \u001b[0m | \u001b[0m 94.43   \u001b[0m | \u001b[0m 0.2721  \u001b[0m | \u001b[0m 5.125   \u001b[0m | \u001b[0m 0.92    \u001b[0m | \u001b[0m 4.254   \u001b[0m | \u001b[0m 1.0     \u001b[0m | \u001b[0m 6.224   \u001b[0m | \u001b[0m 3.701   \u001b[0m | \u001b[0m 15.56   \u001b[0m |\n",
      "| \u001b[95m 23      \u001b[0m | \u001b[95m 95.79   \u001b[0m | \u001b[95m 0.0     \u001b[0m | \u001b[95m 2.898   \u001b[0m | \u001b[95m 5.199   \u001b[0m | \u001b[95m 6.885   \u001b[0m | \u001b[95m 1.0     \u001b[0m | \u001b[95m 3.952   \u001b[0m | \u001b[95m 6.811   \u001b[0m | \u001b[95m 16.18   \u001b[0m |\n"
     ]
    },
    {
     "name": "stderr",
     "output_type": "stream",
     "text": [
      "/opt/conda/envs/rapids/lib/python3.7/site-packages/sklearn/gaussian_process/kernels.py:271: RuntimeWarning: divide by zero encountered in log\n",
      "  return np.log(np.hstack(theta))\n"
     ]
    },
    {
     "name": "stdout",
     "output_type": "stream",
     "text": [
      "| \u001b[0m 24      \u001b[0m | \u001b[0m 95.23   \u001b[0m | \u001b[0m 0.0     \u001b[0m | \u001b[0m 0.0     \u001b[0m | \u001b[0m 2.433   \u001b[0m | \u001b[0m 7.201   \u001b[0m | \u001b[0m 1.0     \u001b[0m | \u001b[0m 5.919   \u001b[0m | \u001b[0m 8.703   \u001b[0m | \u001b[0m 15.89   \u001b[0m |\n",
      "| \u001b[0m 25      \u001b[0m | \u001b[0m 95.03   \u001b[0m | \u001b[0m 0.0     \u001b[0m | \u001b[0m 4.078   \u001b[0m | \u001b[0m 8.776   \u001b[0m | \u001b[0m 5.751   \u001b[0m | \u001b[0m 1.0     \u001b[0m | \u001b[0m 6.06    \u001b[0m | \u001b[0m 10.15   \u001b[0m | \u001b[0m 12.09   \u001b[0m |\n",
      "| \u001b[0m 26      \u001b[0m | \u001b[0m 95.33   \u001b[0m | \u001b[0m 0.0     \u001b[0m | \u001b[0m 5.504   \u001b[0m | \u001b[0m 7.849   \u001b[0m | \u001b[0m 6.966   \u001b[0m | \u001b[0m 1.0     \u001b[0m | \u001b[0m 6.534   \u001b[0m | \u001b[0m 8.415   \u001b[0m | \u001b[0m 20.35   \u001b[0m |\n",
      "| \u001b[0m 27      \u001b[0m | \u001b[0m 94.41   \u001b[0m | \u001b[0m 0.0     \u001b[0m | \u001b[0m 7.929   \u001b[0m | \u001b[0m 10.0    \u001b[0m | \u001b[0m 7.254   \u001b[0m | \u001b[0m 1.0     \u001b[0m | \u001b[0m 2.269   \u001b[0m | \u001b[0m 3.698   \u001b[0m | \u001b[0m 17.46   \u001b[0m |\n",
      "| \u001b[0m 28      \u001b[0m | \u001b[0m 93.79   \u001b[0m | \u001b[0m 0.0     \u001b[0m | \u001b[0m 12.37   \u001b[0m | \u001b[0m 7.263   \u001b[0m | \u001b[0m 4.488   \u001b[0m | \u001b[0m 1.017   \u001b[0m | \u001b[0m 9.393   \u001b[0m | \u001b[0m 10.93   \u001b[0m | \u001b[0m 15.13   \u001b[0m |\n",
      "| \u001b[0m 29      \u001b[0m | \u001b[0m 89.98   \u001b[0m | \u001b[0m 0.7013  \u001b[0m | \u001b[0m 1.573   \u001b[0m | \u001b[0m 8.188   \u001b[0m | \u001b[0m 5.926   \u001b[0m | \u001b[0m 7.632   \u001b[0m | \u001b[0m 10.85   \u001b[0m | \u001b[0m 10.45   \u001b[0m | \u001b[0m 15.24   \u001b[0m |\n",
      "| \u001b[95m 30      \u001b[0m | \u001b[95m 95.79   \u001b[0m | \u001b[95m 0.0     \u001b[0m | \u001b[95m 1.853   \u001b[0m | \u001b[95m 5.243   \u001b[0m | \u001b[95m 10.0    \u001b[0m | \u001b[95m 1.0     \u001b[0m | \u001b[95m 3.652   \u001b[0m | \u001b[95m 7.075   \u001b[0m | \u001b[95m 20.81   \u001b[0m |\n",
      "| \u001b[0m 31      \u001b[0m | \u001b[0m 93.54   \u001b[0m | \u001b[0m 0.0     \u001b[0m | \u001b[0m 7.055   \u001b[0m | \u001b[0m 7.035   \u001b[0m | \u001b[0m 3.502   \u001b[0m | \u001b[0m 1.0     \u001b[0m | \u001b[0m 1.531   \u001b[0m | \u001b[0m 9.75    \u001b[0m | \u001b[0m 6.708   \u001b[0m |\n",
      "| \u001b[0m 32      \u001b[0m | \u001b[0m 95.02   \u001b[0m | \u001b[0m 0.0     \u001b[0m | \u001b[0m 17.95   \u001b[0m | \u001b[0m 0.408   \u001b[0m | \u001b[0m 5.659   \u001b[0m | \u001b[0m 3.925   \u001b[0m | \u001b[0m 5.027   \u001b[0m | \u001b[0m 1.318   \u001b[0m | \u001b[0m 11.73   \u001b[0m |\n"
     ]
    },
    {
     "name": "stderr",
     "output_type": "stream",
     "text": [
      "/opt/conda/envs/rapids/lib/python3.7/site-packages/sklearn/gaussian_process/kernels.py:271: RuntimeWarning: divide by zero encountered in log\n",
      "  return np.log(np.hstack(theta))\n"
     ]
    },
    {
     "name": "stdout",
     "output_type": "stream",
     "text": [
      "| \u001b[0m 33      \u001b[0m | \u001b[0m 92.59   \u001b[0m | \u001b[0m 0.99    \u001b[0m | \u001b[0m 17.29   \u001b[0m | \u001b[0m 0.0     \u001b[0m | \u001b[0m 10.0    \u001b[0m | \u001b[0m 1.0     \u001b[0m | \u001b[0m 10.14   \u001b[0m | \u001b[0m 1.022   \u001b[0m | \u001b[0m 7.805   \u001b[0m |\n"
     ]
    },
    {
     "name": "stderr",
     "output_type": "stream",
     "text": [
      "/opt/conda/envs/rapids/lib/python3.7/site-packages/sklearn/gaussian_process/kernels.py:271: RuntimeWarning: divide by zero encountered in log\n",
      "  return np.log(np.hstack(theta))\n"
     ]
    },
    {
     "name": "stdout",
     "output_type": "stream",
     "text": [
      "| \u001b[0m 34      \u001b[0m | \u001b[0m 92.73   \u001b[0m | \u001b[0m 0.0     \u001b[0m | \u001b[0m 16.79   \u001b[0m | \u001b[0m 0.0     \u001b[0m | \u001b[0m 2.007   \u001b[0m | \u001b[0m 6.363   \u001b[0m | \u001b[0m 1.0     \u001b[0m | \u001b[0m 5.121   \u001b[0m | \u001b[0m 11.2    \u001b[0m |\n",
      "| \u001b[0m 35      \u001b[0m | \u001b[0m 95.0    \u001b[0m | \u001b[0m 0.99    \u001b[0m | \u001b[0m 3.773   \u001b[0m | \u001b[0m 4.682   \u001b[0m | \u001b[0m 7.138   \u001b[0m | \u001b[0m 1.0     \u001b[0m | \u001b[0m 5.22    \u001b[0m | \u001b[0m 4.143   \u001b[0m | \u001b[0m 21.07   \u001b[0m |\n",
      "| \u001b[0m 36      \u001b[0m | \u001b[0m 93.48   \u001b[0m | \u001b[0m 0.0     \u001b[0m | \u001b[0m 2.865   \u001b[0m | \u001b[0m 8.486   \u001b[0m | \u001b[0m 9.821   \u001b[0m | \u001b[0m 1.0     \u001b[0m | \u001b[0m 2.05    \u001b[0m | \u001b[0m 10.54   \u001b[0m | \u001b[0m 17.64   \u001b[0m |\n",
      "| \u001b[0m 37      \u001b[0m | \u001b[0m 92.86   \u001b[0m | \u001b[0m 0.6397  \u001b[0m | \u001b[0m 4.478   \u001b[0m | \u001b[0m 2.947   \u001b[0m | \u001b[0m 8.879   \u001b[0m | \u001b[0m 1.563   \u001b[0m | \u001b[0m 6.776   \u001b[0m | \u001b[0m 10.1    \u001b[0m | \u001b[0m 19.65   \u001b[0m |\n",
      "| \u001b[0m 38      \u001b[0m | \u001b[0m 94.59   \u001b[0m | \u001b[0m 0.1262  \u001b[0m | \u001b[0m 1.385   \u001b[0m | \u001b[0m 9.29    \u001b[0m | \u001b[0m 7.158   \u001b[0m | \u001b[0m 1.648   \u001b[0m | \u001b[0m 4.375   \u001b[0m | \u001b[0m 5.583   \u001b[0m | \u001b[0m 21.18   \u001b[0m |\n",
      "| \u001b[0m 39      \u001b[0m | \u001b[0m 94.82   \u001b[0m | \u001b[0m 0.0     \u001b[0m | \u001b[0m 0.632   \u001b[0m | \u001b[0m 3.484   \u001b[0m | \u001b[0m 9.432   \u001b[0m | \u001b[0m 1.0     \u001b[0m | \u001b[0m 3.615   \u001b[0m | \u001b[0m 4.644   \u001b[0m | \u001b[0m 17.45   \u001b[0m |\n",
      "| \u001b[0m 40      \u001b[0m | \u001b[0m 94.04   \u001b[0m | \u001b[0m 0.0     \u001b[0m | \u001b[0m 5.318   \u001b[0m | \u001b[0m 4.968   \u001b[0m | \u001b[0m 8.289   \u001b[0m | \u001b[0m 1.0     \u001b[0m | \u001b[0m 2.214   \u001b[0m | \u001b[0m 5.672   \u001b[0m | \u001b[0m 19.06   \u001b[0m |\n",
      "=========================================================================================================================\n",
      "95.79219573217338\n",
      "Prev Inven : 1, Var Sale : 7, Var Product : 4\n",
      "|   iter    |  target   |  g_alpha  |   k_dot   |   rbf_l   |  theta1   | tmp_pr... | tmp_va... | tmp_va... |  w_noise  |\n",
      "-------------------------------------------------------------------------------------------------------------------------\n",
      "| \u001b[0m 1       \u001b[0m | \u001b[0m 93.93   \u001b[0m | \u001b[0m 0.4129  \u001b[0m | \u001b[0m 72.03   \u001b[0m | \u001b[0m 0.001144\u001b[0m | \u001b[0m 3.023   \u001b[0m | \u001b[0m 2.027   \u001b[0m | \u001b[0m 2.016   \u001b[0m | \u001b[0m 3.049   \u001b[0m | \u001b[0m 34.56   \u001b[0m |\n",
      "| \u001b[0m 2       \u001b[0m | \u001b[0m 91.35   \u001b[0m | \u001b[0m 0.3928  \u001b[0m | \u001b[0m 53.88   \u001b[0m | \u001b[0m 4.192   \u001b[0m | \u001b[0m 6.852   \u001b[0m | \u001b[0m 2.431   \u001b[0m | \u001b[0m 10.66   \u001b[0m | \u001b[0m 1.301   \u001b[0m | \u001b[0m 67.05   \u001b[0m |\n",
      "| \u001b[0m 3       \u001b[0m | \u001b[0m 92.7    \u001b[0m | \u001b[0m 0.4131  \u001b[0m | \u001b[0m 55.87   \u001b[0m | \u001b[0m 1.404   \u001b[0m | \u001b[0m 1.981   \u001b[0m | \u001b[0m 6.605   \u001b[0m | \u001b[0m 11.65   \u001b[0m | \u001b[0m 4.448   \u001b[0m | \u001b[0m 69.23   \u001b[0m |\n",
      "| \u001b[0m 4       \u001b[0m | \u001b[0m 91.34   \u001b[0m | \u001b[0m 0.8676  \u001b[0m | \u001b[0m 89.46   \u001b[0m | \u001b[0m 0.8504  \u001b[0m | \u001b[0m 0.3905  \u001b[0m | \u001b[0m 2.189   \u001b[0m | \u001b[0m 10.66   \u001b[0m | \u001b[0m 2.082   \u001b[0m | \u001b[0m 42.11   \u001b[0m |\n",
      "| \u001b[0m 5       \u001b[0m | \u001b[0m 91.5    \u001b[0m | \u001b[0m 0.9483  \u001b[0m | \u001b[0m 53.32   \u001b[0m | \u001b[0m 6.919   \u001b[0m | \u001b[0m 3.155   \u001b[0m | \u001b[0m 5.806   \u001b[0m | \u001b[0m 10.18   \u001b[0m | \u001b[0m 1.201   \u001b[0m | \u001b[0m 75.01   \u001b[0m |\n",
      "| \u001b[0m 6       \u001b[0m | \u001b[0m 93.1    \u001b[0m | \u001b[0m 0.979   \u001b[0m | \u001b[0m 74.82   \u001b[0m | \u001b[0m 2.804   \u001b[0m | \u001b[0m 7.893   \u001b[0m | \u001b[0m 1.723   \u001b[0m | \u001b[0m 5.927   \u001b[0m | \u001b[0m 10.99   \u001b[0m | \u001b[0m 29.36   \u001b[0m |\n",
      "| \u001b[95m 7       \u001b[0m | \u001b[95m 94.8    \u001b[0m | \u001b[95m 0.2849  \u001b[0m | \u001b[95m 13.0    \u001b[0m | \u001b[95m 0.1937  \u001b[0m | \u001b[95m 6.788   \u001b[0m | \u001b[95m 2.481   \u001b[0m | \u001b[95m 3.921   \u001b[0m | \u001b[95m 6.407   \u001b[0m | \u001b[95m 5.336   \u001b[0m |\n",
      "| \u001b[0m 8       \u001b[0m | \u001b[0m 93.25   \u001b[0m | \u001b[0m 0.5684  \u001b[0m | \u001b[0m 14.67   \u001b[0m | \u001b[0m 5.893   \u001b[0m | \u001b[0m 6.998   \u001b[0m | \u001b[0m 1.716   \u001b[0m | \u001b[0m 5.555   \u001b[0m | \u001b[0m 8.638   \u001b[0m | \u001b[0m 41.42   \u001b[0m |\n",
      "| \u001b[0m 9       \u001b[0m | \u001b[0m 93.21   \u001b[0m | \u001b[0m 0.04945 \u001b[0m | \u001b[0m 53.59   \u001b[0m | \u001b[0m 6.638   \u001b[0m | \u001b[0m 5.149   \u001b[0m | \u001b[0m 7.612   \u001b[0m | \u001b[0m 7.452   \u001b[0m | \u001b[0m 10.94   \u001b[0m | \u001b[0m 13.75   \u001b[0m |\n",
      "| \u001b[95m 10      \u001b[0m | \u001b[95m 94.88   \u001b[0m | \u001b[95m 0.1379  \u001b[0m | \u001b[95m 80.74   \u001b[0m | \u001b[95m 3.977   \u001b[0m | \u001b[95m 1.654   \u001b[0m | \u001b[95m 7.493   \u001b[0m | \u001b[95m 4.825   \u001b[0m | \u001b[95m 9.259   \u001b[0m | \u001b[95m 72.6    \u001b[0m |\n",
      "| \u001b[0m 11      \u001b[0m | \u001b[0m 94.74   \u001b[0m | \u001b[0m 0.629   \u001b[0m | \u001b[0m 78.7    \u001b[0m | \u001b[0m 4.043   \u001b[0m | \u001b[0m 1.915   \u001b[0m | \u001b[0m 7.193   \u001b[0m | \u001b[0m 3.555   \u001b[0m | \u001b[0m 7.532   \u001b[0m | \u001b[0m 70.14   \u001b[0m |\n",
      "| \u001b[0m 12      \u001b[0m | \u001b[0m 93.96   \u001b[0m | \u001b[0m 0.1212  \u001b[0m | \u001b[0m 85.38   \u001b[0m | \u001b[0m 4.325   \u001b[0m | \u001b[0m 6.743   \u001b[0m | \u001b[0m 7.222   \u001b[0m | \u001b[0m 1.465   \u001b[0m | \u001b[0m 2.04    \u001b[0m | \u001b[0m 80.63   \u001b[0m |\n"
     ]
    },
    {
     "name": "stderr",
     "output_type": "stream",
     "text": [
      "/opt/conda/envs/rapids/lib/python3.7/site-packages/sklearn/gaussian_process/kernels.py:271: RuntimeWarning: divide by zero encountered in log\n",
      "  return np.log(np.hstack(theta))\n"
     ]
    },
    {
     "name": "stdout",
     "output_type": "stream",
     "text": [
      "| \u001b[0m 13      \u001b[0m | \u001b[0m 93.29   \u001b[0m | \u001b[0m 0.482   \u001b[0m | \u001b[0m 0.7161  \u001b[0m | \u001b[0m 0.0     \u001b[0m | \u001b[0m 5.777   \u001b[0m | \u001b[0m 2.364   \u001b[0m | \u001b[0m 5.86    \u001b[0m | \u001b[0m 1.894   \u001b[0m | \u001b[0m 0.0     \u001b[0m |\n",
      "| \u001b[95m 14      \u001b[0m | \u001b[95m 94.89   \u001b[0m | \u001b[95m 0.09883 \u001b[0m | \u001b[95m 21.66   \u001b[0m | \u001b[95m 3.649   \u001b[0m | \u001b[95m 8.701   \u001b[0m | \u001b[95m 4.254   \u001b[0m | \u001b[95m 3.099   \u001b[0m | \u001b[95m 8.951   \u001b[0m | \u001b[95m 13.28   \u001b[0m |\n"
     ]
    },
    {
     "name": "stderr",
     "output_type": "stream",
     "text": [
      "/opt/conda/envs/rapids/lib/python3.7/site-packages/sklearn/gaussian_process/kernels.py:271: RuntimeWarning: divide by zero encountered in log\n",
      "  return np.log(np.hstack(theta))\n"
     ]
    },
    {
     "name": "stdout",
     "output_type": "stream",
     "text": [
      "| \u001b[0m 15      \u001b[0m | \u001b[0m 93.42   \u001b[0m | \u001b[0m 0.99    \u001b[0m | \u001b[0m 25.7    \u001b[0m | \u001b[0m 0.0     \u001b[0m | \u001b[0m 10.0    \u001b[0m | \u001b[0m 1.0     \u001b[0m | \u001b[0m 1.0     \u001b[0m | \u001b[0m 12.0    \u001b[0m | \u001b[0m 0.0     \u001b[0m |\n"
     ]
    },
    {
     "name": "stderr",
     "output_type": "stream",
     "text": [
      "/opt/conda/envs/rapids/lib/python3.7/site-packages/sklearn/gaussian_process/kernels.py:271: RuntimeWarning: divide by zero encountered in log\n",
      "  return np.log(np.hstack(theta))\n"
     ]
    },
    {
     "name": "stdout",
     "output_type": "stream",
     "text": [
      "| \u001b[0m 16      \u001b[0m | \u001b[0m 93.85   \u001b[0m | \u001b[0m 0.0     \u001b[0m | \u001b[0m 16.72   \u001b[0m | \u001b[0m 0.0     \u001b[0m | \u001b[0m 0.0     \u001b[0m | \u001b[0m 8.0     \u001b[0m | \u001b[0m 2.971   \u001b[0m | \u001b[0m 1.777   \u001b[0m | \u001b[0m 14.89   \u001b[0m |\n",
      "| \u001b[0m 17      \u001b[0m | \u001b[0m 89.96   \u001b[0m | \u001b[0m 0.0     \u001b[0m | \u001b[0m 12.76   \u001b[0m | \u001b[0m 7.131   \u001b[0m | \u001b[0m 10.0    \u001b[0m | \u001b[0m 1.0     \u001b[0m | \u001b[0m 10.08   \u001b[0m | \u001b[0m 12.0    \u001b[0m | \u001b[0m 12.86   \u001b[0m |\n"
     ]
    },
    {
     "name": "stderr",
     "output_type": "stream",
     "text": [
      "/opt/conda/envs/rapids/lib/python3.7/site-packages/sklearn/gaussian_process/kernels.py:271: RuntimeWarning: divide by zero encountered in log\n",
      "  return np.log(np.hstack(theta))\n"
     ]
    },
    {
     "name": "stdout",
     "output_type": "stream",
     "text": [
      "| \u001b[0m 18      \u001b[0m | \u001b[0m 94.04   \u001b[0m | \u001b[0m 0.2018  \u001b[0m | \u001b[0m 19.9    \u001b[0m | \u001b[0m 0.0     \u001b[0m | \u001b[0m 7.143   \u001b[0m | \u001b[0m 4.843   \u001b[0m | \u001b[0m 1.0     \u001b[0m | \u001b[0m 5.143   \u001b[0m | \u001b[0m 8.348   \u001b[0m |\n",
      "| \u001b[0m 19      \u001b[0m | \u001b[0m 93.98   \u001b[0m | \u001b[0m 0.1441  \u001b[0m | \u001b[0m 26.49   \u001b[0m | \u001b[0m 2.532   \u001b[0m | \u001b[0m 6.26    \u001b[0m | \u001b[0m 6.426   \u001b[0m | \u001b[0m 1.0     \u001b[0m | \u001b[0m 8.29    \u001b[0m | \u001b[0m 16.49   \u001b[0m |\n"
     ]
    },
    {
     "name": "stderr",
     "output_type": "stream",
     "text": [
      "/opt/conda/envs/rapids/lib/python3.7/site-packages/sklearn/gaussian_process/kernels.py:271: RuntimeWarning: divide by zero encountered in log\n",
      "  return np.log(np.hstack(theta))\n"
     ]
    },
    {
     "name": "stdout",
     "output_type": "stream",
     "text": [
      "| \u001b[0m 20      \u001b[0m | \u001b[0m 93.76   \u001b[0m | \u001b[0m 0.9678  \u001b[0m | \u001b[0m 83.41   \u001b[0m | \u001b[0m 0.0     \u001b[0m | \u001b[0m 5.906   \u001b[0m | \u001b[0m 8.0     \u001b[0m | \u001b[0m 1.0     \u001b[0m | \u001b[0m 8.217   \u001b[0m | \u001b[0m 72.03   \u001b[0m |\n"
     ]
    },
    {
     "name": "stderr",
     "output_type": "stream",
     "text": [
      "/opt/conda/envs/rapids/lib/python3.7/site-packages/sklearn/gaussian_process/kernels.py:271: RuntimeWarning: divide by zero encountered in log\n",
      "  return np.log(np.hstack(theta))\n"
     ]
    },
    {
     "name": "stdout",
     "output_type": "stream",
     "text": [
      "| \u001b[0m 21      \u001b[0m | \u001b[0m 94.73   \u001b[0m | \u001b[0m 0.0     \u001b[0m | \u001b[0m 81.04   \u001b[0m | \u001b[0m 9.288   \u001b[0m | \u001b[0m 0.0     \u001b[0m | \u001b[0m 6.853   \u001b[0m | \u001b[0m 4.422   \u001b[0m | \u001b[0m 4.557   \u001b[0m | \u001b[0m 74.47   \u001b[0m |\n"
     ]
    },
    {
     "name": "stderr",
     "output_type": "stream",
     "text": [
      "/opt/conda/envs/rapids/lib/python3.7/site-packages/sklearn/gaussian_process/kernels.py:271: RuntimeWarning: divide by zero encountered in log\n",
      "  return np.log(np.hstack(theta))\n"
     ]
    },
    {
     "name": "stdout",
     "output_type": "stream",
     "text": [
      "| \u001b[0m 22      \u001b[0m | \u001b[0m 91.95   \u001b[0m | \u001b[0m 0.0     \u001b[0m | \u001b[0m 79.0    \u001b[0m | \u001b[0m 2.849   \u001b[0m | \u001b[0m 0.0     \u001b[0m | \u001b[0m 8.0     \u001b[0m | \u001b[0m 9.972   \u001b[0m | \u001b[0m 3.594   \u001b[0m | \u001b[0m 74.3    \u001b[0m |\n",
      "| \u001b[0m 23      \u001b[0m | \u001b[0m 93.85   \u001b[0m | \u001b[0m 0.1679  \u001b[0m | \u001b[0m 81.24   \u001b[0m | \u001b[0m 9.039   \u001b[0m | \u001b[0m 1.852   \u001b[0m | \u001b[0m 6.366   \u001b[0m | \u001b[0m 1.0     \u001b[0m | \u001b[0m 9.94    \u001b[0m | \u001b[0m 72.36   \u001b[0m |\n"
     ]
    },
    {
     "name": "stderr",
     "output_type": "stream",
     "text": [
      "/opt/conda/envs/rapids/lib/python3.7/site-packages/sklearn/gaussian_process/kernels.py:271: RuntimeWarning: divide by zero encountered in log\n",
      "  return np.log(np.hstack(theta))\n"
     ]
    },
    {
     "name": "stdout",
     "output_type": "stream",
     "text": [
      "| \u001b[0m 24      \u001b[0m | \u001b[0m 94.51   \u001b[0m | \u001b[0m 0.0     \u001b[0m | \u001b[0m 84.81   \u001b[0m | \u001b[0m 5.807   \u001b[0m | \u001b[0m 0.0     \u001b[0m | \u001b[0m 8.0     \u001b[0m | \u001b[0m 3.077   \u001b[0m | \u001b[0m 5.518   \u001b[0m | \u001b[0m 70.22   \u001b[0m |\n"
     ]
    },
    {
     "name": "stderr",
     "output_type": "stream",
     "text": [
      "/opt/conda/envs/rapids/lib/python3.7/site-packages/sklearn/gaussian_process/kernels.py:271: RuntimeWarning: divide by zero encountered in log\n",
      "  return np.log(np.hstack(theta))\n"
     ]
    },
    {
     "name": "stdout",
     "output_type": "stream",
     "text": [
      "| \u001b[0m 25      \u001b[0m | \u001b[0m 93.93   \u001b[0m | \u001b[0m 0.506   \u001b[0m | \u001b[0m 13.02   \u001b[0m | \u001b[0m 0.0     \u001b[0m | \u001b[0m 0.7821  \u001b[0m | \u001b[0m 3.085   \u001b[0m | \u001b[0m 1.0     \u001b[0m | \u001b[0m 5.836   \u001b[0m | \u001b[0m 4.493   \u001b[0m |\n",
      "| \u001b[0m 26      \u001b[0m | \u001b[0m 93.79   \u001b[0m | \u001b[0m 0.0     \u001b[0m | \u001b[0m 25.02   \u001b[0m | \u001b[0m 6.666   \u001b[0m | \u001b[0m 10.0    \u001b[0m | \u001b[0m 1.822   \u001b[0m | \u001b[0m 1.0     \u001b[0m | \u001b[0m 6.244   \u001b[0m | \u001b[0m 11.37   \u001b[0m |\n"
     ]
    },
    {
     "name": "stderr",
     "output_type": "stream",
     "text": [
      "/opt/conda/envs/rapids/lib/python3.7/site-packages/sklearn/gaussian_process/kernels.py:271: RuntimeWarning: divide by zero encountered in log\n",
      "  return np.log(np.hstack(theta))\n"
     ]
    },
    {
     "name": "stdout",
     "output_type": "stream",
     "text": [
      "| \u001b[0m 27      \u001b[0m | \u001b[0m 93.93   \u001b[0m | \u001b[0m 0.0     \u001b[0m | \u001b[0m 81.64   \u001b[0m | \u001b[0m 4.109   \u001b[0m | \u001b[0m 0.0     \u001b[0m | \u001b[0m 2.708   \u001b[0m | \u001b[0m 1.279   \u001b[0m | \u001b[0m 5.683   \u001b[0m | \u001b[0m 74.21   \u001b[0m |\n"
     ]
    },
    {
     "name": "stderr",
     "output_type": "stream",
     "text": [
      "/opt/conda/envs/rapids/lib/python3.7/site-packages/sklearn/gaussian_process/kernels.py:271: RuntimeWarning: divide by zero encountered in log\n",
      "  return np.log(np.hstack(theta))\n"
     ]
    },
    {
     "name": "stdout",
     "output_type": "stream",
     "text": [
      "| \u001b[0m 28      \u001b[0m | \u001b[0m 93.72   \u001b[0m | \u001b[0m 0.0     \u001b[0m | \u001b[0m 81.89   \u001b[0m | \u001b[0m 3.721   \u001b[0m | \u001b[0m 0.0     \u001b[0m | \u001b[0m 8.0     \u001b[0m | \u001b[0m 5.453   \u001b[0m | \u001b[0m 12.0    \u001b[0m | \u001b[0m 66.83   \u001b[0m |\n"
     ]
    },
    {
     "name": "stderr",
     "output_type": "stream",
     "text": [
      "/opt/conda/envs/rapids/lib/python3.7/site-packages/sklearn/gaussian_process/kernels.py:271: RuntimeWarning: divide by zero encountered in log\n",
      "  return np.log(np.hstack(theta))\n"
     ]
    },
    {
     "name": "stdout",
     "output_type": "stream",
     "text": [
      "| \u001b[0m 29      \u001b[0m | \u001b[0m 93.18   \u001b[0m | \u001b[0m 0.99    \u001b[0m | \u001b[0m 20.87   \u001b[0m | \u001b[0m 0.0     \u001b[0m | \u001b[0m 10.0    \u001b[0m | \u001b[0m 7.686   \u001b[0m | \u001b[0m 1.0     \u001b[0m | \u001b[0m 12.0    \u001b[0m | \u001b[0m 12.67   \u001b[0m |\n",
      "| \u001b[0m 30      \u001b[0m | \u001b[0m 94.21   \u001b[0m | \u001b[0m 0.99    \u001b[0m | \u001b[0m 82.21   \u001b[0m | \u001b[0m 7.951   \u001b[0m | \u001b[0m 5.81    \u001b[0m | \u001b[0m 8.0     \u001b[0m | \u001b[0m 4.845   \u001b[0m | \u001b[0m 5.474   \u001b[0m | \u001b[0m 72.01   \u001b[0m |\n",
      "| \u001b[0m 31      \u001b[0m | \u001b[0m 94.82   \u001b[0m | \u001b[0m 0.0     \u001b[0m | \u001b[0m 21.97   \u001b[0m | \u001b[0m 1.368   \u001b[0m | \u001b[0m 4.709   \u001b[0m | \u001b[0m 1.166   \u001b[0m | \u001b[0m 4.491   \u001b[0m | \u001b[0m 6.527   \u001b[0m | \u001b[0m 14.13   \u001b[0m |\n",
      "| \u001b[0m 32      \u001b[0m | \u001b[0m 93.88   \u001b[0m | \u001b[0m 0.0     \u001b[0m | \u001b[0m 22.91   \u001b[0m | \u001b[0m 2.439   \u001b[0m | \u001b[0m 8.023   \u001b[0m | \u001b[0m 5.534   \u001b[0m | \u001b[0m 7.116   \u001b[0m | \u001b[0m 4.018   \u001b[0m | \u001b[0m 14.24   \u001b[0m |\n",
      "| \u001b[0m 33      \u001b[0m | \u001b[0m 93.8    \u001b[0m | \u001b[0m 0.0     \u001b[0m | \u001b[0m 20.54   \u001b[0m | \u001b[0m 5.277   \u001b[0m | \u001b[0m 2.655   \u001b[0m | \u001b[0m 3.103   \u001b[0m | \u001b[0m 1.0     \u001b[0m | \u001b[0m 8.678   \u001b[0m | \u001b[0m 13.07   \u001b[0m |\n",
      "| \u001b[0m 34      \u001b[0m | \u001b[0m 93.74   \u001b[0m | \u001b[0m 0.0     \u001b[0m | \u001b[0m 20.63   \u001b[0m | \u001b[0m 0.7715  \u001b[0m | \u001b[0m 9.172   \u001b[0m | \u001b[0m 1.0     \u001b[0m | \u001b[0m 1.117   \u001b[0m | \u001b[0m 6.286   \u001b[0m | \u001b[0m 16.81   \u001b[0m |\n"
     ]
    },
    {
     "name": "stderr",
     "output_type": "stream",
     "text": [
      "/opt/conda/envs/rapids/lib/python3.7/site-packages/sklearn/gaussian_process/kernels.py:271: RuntimeWarning: divide by zero encountered in log\n",
      "  return np.log(np.hstack(theta))\n"
     ]
    },
    {
     "name": "stdout",
     "output_type": "stream",
     "text": [
      "| \u001b[0m 35      \u001b[0m | \u001b[0m 94.19   \u001b[0m | \u001b[0m 0.99    \u001b[0m | \u001b[0m 87.27   \u001b[0m | \u001b[0m 10.0    \u001b[0m | \u001b[0m 0.0     \u001b[0m | \u001b[0m 8.0     \u001b[0m | \u001b[0m 3.793   \u001b[0m | \u001b[0m 5.344   \u001b[0m | \u001b[0m 77.02   \u001b[0m |\n",
      "| \u001b[0m 36      \u001b[0m | \u001b[0m 93.7    \u001b[0m | \u001b[0m 0.0     \u001b[0m | \u001b[0m 25.37   \u001b[0m | \u001b[0m 1.31    \u001b[0m | \u001b[0m 6.432   \u001b[0m | \u001b[0m 1.345   \u001b[0m | \u001b[0m 5.835   \u001b[0m | \u001b[0m 10.57   \u001b[0m | \u001b[0m 11.65   \u001b[0m |\n",
      "| \u001b[0m 37      \u001b[0m | \u001b[0m 93.77   \u001b[0m | \u001b[0m 0.633   \u001b[0m | \u001b[0m 14.43   \u001b[0m | \u001b[0m 1.751   \u001b[0m | \u001b[0m 8.377   \u001b[0m | \u001b[0m 1.451   \u001b[0m | \u001b[0m 1.422   \u001b[0m | \u001b[0m 2.937   \u001b[0m | \u001b[0m 1.012   \u001b[0m |\n",
      "| \u001b[0m 38      \u001b[0m | \u001b[0m 92.55   \u001b[0m | \u001b[0m 0.99    \u001b[0m | \u001b[0m 75.81   \u001b[0m | \u001b[0m 2.868   \u001b[0m | \u001b[0m 1.589   \u001b[0m | \u001b[0m 8.0     \u001b[0m | \u001b[0m 2.198   \u001b[0m | \u001b[0m 11.86   \u001b[0m | \u001b[0m 74.33   \u001b[0m |\n",
      "| \u001b[0m 39      \u001b[0m | \u001b[0m 93.55   \u001b[0m | \u001b[0m 0.0     \u001b[0m | \u001b[0m 82.19   \u001b[0m | \u001b[0m 7.337   \u001b[0m | \u001b[0m 1.255   \u001b[0m | \u001b[0m 3.948   \u001b[0m | \u001b[0m 6.411   \u001b[0m | \u001b[0m 7.749   \u001b[0m | \u001b[0m 70.6    \u001b[0m |\n"
     ]
    },
    {
     "name": "stderr",
     "output_type": "stream",
     "text": [
      "/opt/conda/envs/rapids/lib/python3.7/site-packages/sklearn/gaussian_process/kernels.py:271: RuntimeWarning: divide by zero encountered in log\n",
      "  return np.log(np.hstack(theta))\n"
     ]
    },
    {
     "name": "stdout",
     "output_type": "stream",
     "text": [
      "| \u001b[0m 40      \u001b[0m | \u001b[0m 93.27   \u001b[0m | \u001b[0m 0.0     \u001b[0m | \u001b[0m 17.07   \u001b[0m | \u001b[0m 0.0     \u001b[0m | \u001b[0m 4.329   \u001b[0m | \u001b[0m 1.0     \u001b[0m | \u001b[0m 5.519   \u001b[0m | \u001b[0m 4.834   \u001b[0m | \u001b[0m 9.507   \u001b[0m |\n",
      "=========================================================================================================================\n",
      "94.89341033066847\n",
      "Prev Inven : 4, Var Sale : 9, Var Product : 3\n",
      "|   iter    |  target   |  g_alpha  |   k_dot   |   rbf_l   |  theta1   | tmp_pr... | tmp_va... | tmp_va... |  w_noise  |\n",
      "-------------------------------------------------------------------------------------------------------------------------\n",
      "| \u001b[0m 1       \u001b[0m | \u001b[0m 90.24   \u001b[0m | \u001b[0m 0.4129  \u001b[0m | \u001b[0m 72.03   \u001b[0m | \u001b[0m 0.001144\u001b[0m | \u001b[0m 3.023   \u001b[0m | \u001b[0m 2.027   \u001b[0m | \u001b[0m 2.016   \u001b[0m | \u001b[0m 3.049   \u001b[0m | \u001b[0m 34.56   \u001b[0m |\n",
      "| \u001b[0m 2       \u001b[0m | \u001b[0m 87.83   \u001b[0m | \u001b[0m 0.3928  \u001b[0m | \u001b[0m 53.88   \u001b[0m | \u001b[0m 4.192   \u001b[0m | \u001b[0m 6.852   \u001b[0m | \u001b[0m 2.431   \u001b[0m | \u001b[0m 10.66   \u001b[0m | \u001b[0m 1.301   \u001b[0m | \u001b[0m 67.05   \u001b[0m |\n",
      "| \u001b[0m 3       \u001b[0m | \u001b[0m 88.25   \u001b[0m | \u001b[0m 0.4131  \u001b[0m | \u001b[0m 55.87   \u001b[0m | \u001b[0m 1.404   \u001b[0m | \u001b[0m 1.981   \u001b[0m | \u001b[0m 6.605   \u001b[0m | \u001b[0m 11.65   \u001b[0m | \u001b[0m 4.448   \u001b[0m | \u001b[0m 69.23   \u001b[0m |\n",
      "| \u001b[0m 4       \u001b[0m | \u001b[0m 87.92   \u001b[0m | \u001b[0m 0.8676  \u001b[0m | \u001b[0m 89.46   \u001b[0m | \u001b[0m 0.8504  \u001b[0m | \u001b[0m 0.3905  \u001b[0m | \u001b[0m 2.189   \u001b[0m | \u001b[0m 10.66   \u001b[0m | \u001b[0m 2.082   \u001b[0m | \u001b[0m 42.11   \u001b[0m |\n",
      "| \u001b[0m 5       \u001b[0m | \u001b[0m 87.44   \u001b[0m | \u001b[0m 0.9483  \u001b[0m | \u001b[0m 53.32   \u001b[0m | \u001b[0m 6.919   \u001b[0m | \u001b[0m 3.155   \u001b[0m | \u001b[0m 5.806   \u001b[0m | \u001b[0m 10.18   \u001b[0m | \u001b[0m 1.201   \u001b[0m | \u001b[0m 75.01   \u001b[0m |\n",
      "| \u001b[0m 6       \u001b[0m | \u001b[0m 88.3    \u001b[0m | \u001b[0m 0.979   \u001b[0m | \u001b[0m 74.82   \u001b[0m | \u001b[0m 2.804   \u001b[0m | \u001b[0m 7.893   \u001b[0m | \u001b[0m 1.723   \u001b[0m | \u001b[0m 5.927   \u001b[0m | \u001b[0m 10.99   \u001b[0m | \u001b[0m 29.36   \u001b[0m |\n",
      "| \u001b[95m 7       \u001b[0m | \u001b[95m 90.45   \u001b[0m | \u001b[95m 0.2849  \u001b[0m | \u001b[95m 13.0    \u001b[0m | \u001b[95m 0.1937  \u001b[0m | \u001b[95m 6.788   \u001b[0m | \u001b[95m 2.481   \u001b[0m | \u001b[95m 3.921   \u001b[0m | \u001b[95m 6.407   \u001b[0m | \u001b[95m 5.336   \u001b[0m |\n",
      "| \u001b[0m 8       \u001b[0m | \u001b[0m 88.77   \u001b[0m | \u001b[0m 0.5684  \u001b[0m | \u001b[0m 14.67   \u001b[0m | \u001b[0m 5.893   \u001b[0m | \u001b[0m 6.998   \u001b[0m | \u001b[0m 1.716   \u001b[0m | \u001b[0m 5.555   \u001b[0m | \u001b[0m 8.638   \u001b[0m | \u001b[0m 41.42   \u001b[0m |\n",
      "| \u001b[0m 9       \u001b[0m | \u001b[0m 86.97   \u001b[0m | \u001b[0m 0.04945 \u001b[0m | \u001b[0m 53.59   \u001b[0m | \u001b[0m 6.638   \u001b[0m | \u001b[0m 5.149   \u001b[0m | \u001b[0m 7.612   \u001b[0m | \u001b[0m 7.452   \u001b[0m | \u001b[0m 10.94   \u001b[0m | \u001b[0m 13.75   \u001b[0m |\n",
      "| \u001b[0m 10      \u001b[0m | \u001b[0m 89.64   \u001b[0m | \u001b[0m 0.1379  \u001b[0m | \u001b[0m 80.74   \u001b[0m | \u001b[0m 3.977   \u001b[0m | \u001b[0m 1.654   \u001b[0m | \u001b[0m 7.493   \u001b[0m | \u001b[0m 4.825   \u001b[0m | \u001b[0m 9.259   \u001b[0m | \u001b[0m 72.6    \u001b[0m |\n",
      "| \u001b[0m 11      \u001b[0m | \u001b[0m 90.18   \u001b[0m | \u001b[0m 0.629   \u001b[0m | \u001b[0m 78.7    \u001b[0m | \u001b[0m 4.043   \u001b[0m | \u001b[0m 1.915   \u001b[0m | \u001b[0m 7.193   \u001b[0m | \u001b[0m 3.555   \u001b[0m | \u001b[0m 7.532   \u001b[0m | \u001b[0m 70.14   \u001b[0m |\n"
     ]
    },
    {
     "name": "stderr",
     "output_type": "stream",
     "text": [
      "/opt/conda/envs/rapids/lib/python3.7/site-packages/sklearn/gaussian_process/kernels.py:271: RuntimeWarning: divide by zero encountered in log\n",
      "  return np.log(np.hstack(theta))\n"
     ]
    },
    {
     "name": "stdout",
     "output_type": "stream",
     "text": [
      "| \u001b[95m 12      \u001b[0m | \u001b[95m 91.76   \u001b[0m | \u001b[95m 0.674   \u001b[0m | \u001b[95m 3.954   \u001b[0m | \u001b[95m 0.0     \u001b[0m | \u001b[95m 6.413   \u001b[0m | \u001b[95m 1.211   \u001b[0m | \u001b[95m 2.683   \u001b[0m | \u001b[95m 5.397   \u001b[0m | \u001b[95m 5.351   \u001b[0m |\n"
     ]
    },
    {
     "name": "stderr",
     "output_type": "stream",
     "text": [
      "/opt/conda/envs/rapids/lib/python3.7/site-packages/sklearn/gaussian_process/kernels.py:271: RuntimeWarning: divide by zero encountered in log\n",
      "  return np.log(np.hstack(theta))\n"
     ]
    },
    {
     "name": "stdout",
     "output_type": "stream",
     "text": [
      "| \u001b[0m 13      \u001b[0m | \u001b[0m 90.25   \u001b[0m | \u001b[0m 0.07707 \u001b[0m | \u001b[0m 0.00604 \u001b[0m | \u001b[0m 0.411   \u001b[0m | \u001b[0m 1.211   \u001b[0m | \u001b[0m 2.178   \u001b[0m | \u001b[0m 4.989   \u001b[0m | \u001b[0m 1.0     \u001b[0m | \u001b[0m 0.0     \u001b[0m |\n",
      "| \u001b[0m 14      \u001b[0m | \u001b[0m 90.24   \u001b[0m | \u001b[0m 0.02808 \u001b[0m | \u001b[0m 0.3437  \u001b[0m | \u001b[0m 0.397   \u001b[0m | \u001b[0m 8.743   \u001b[0m | \u001b[0m 3.973   \u001b[0m | \u001b[0m 2.889   \u001b[0m | \u001b[0m 9.942   \u001b[0m | \u001b[0m 12.26   \u001b[0m |\n",
      "| \u001b[95m 15      \u001b[0m | \u001b[95m 91.89   \u001b[0m | \u001b[95m 0.99    \u001b[0m | \u001b[95m 3.902   \u001b[0m | \u001b[95m 6.457   \u001b[0m | \u001b[95m 10.0    \u001b[0m | \u001b[95m 1.0     \u001b[0m | \u001b[95m 1.0     \u001b[0m | \u001b[95m 1.0     \u001b[0m | \u001b[95m 5.383   \u001b[0m |\n"
     ]
    },
    {
     "name": "stderr",
     "output_type": "stream",
     "text": [
      "/opt/conda/envs/rapids/lib/python3.7/site-packages/sklearn/gaussian_process/kernels.py:271: RuntimeWarning: divide by zero encountered in log\n",
      "  return np.log(np.hstack(theta))\n"
     ]
    },
    {
     "name": "stdout",
     "output_type": "stream",
     "text": [
      "| \u001b[95m 16      \u001b[0m | \u001b[95m 91.98   \u001b[0m | \u001b[95m 0.99    \u001b[0m | \u001b[95m 2.585   \u001b[0m | \u001b[95m 7.558   \u001b[0m | \u001b[95m 10.0    \u001b[0m | \u001b[95m 1.0     \u001b[0m | \u001b[95m 1.0     \u001b[0m | \u001b[95m 10.01   \u001b[0m | \u001b[95m 0.0     \u001b[0m |\n",
      "| \u001b[0m 17      \u001b[0m | \u001b[0m 86.24   \u001b[0m | \u001b[0m 0.8788  \u001b[0m | \u001b[0m 0.2804  \u001b[0m | \u001b[0m 5.676   \u001b[0m | \u001b[0m 9.794   \u001b[0m | \u001b[0m 6.084   \u001b[0m | \u001b[0m 11.79   \u001b[0m | \u001b[0m 9.076   \u001b[0m | \u001b[0m 2.974   \u001b[0m |\n",
      "| \u001b[95m 18      \u001b[0m | \u001b[95m 92.07   \u001b[0m | \u001b[95m 0.99    \u001b[0m | \u001b[95m 5.992   \u001b[0m | \u001b[95m 8.601   \u001b[0m | \u001b[95m 2.931   \u001b[0m | \u001b[95m 1.0     \u001b[0m | \u001b[95m 1.0     \u001b[0m | \u001b[95m 6.553   \u001b[0m | \u001b[95m 3.878   \u001b[0m |\n",
      "| \u001b[0m 19      \u001b[0m | \u001b[0m 90.12   \u001b[0m | \u001b[0m 0.6175  \u001b[0m | \u001b[0m 11.4    \u001b[0m | \u001b[0m 0.6603  \u001b[0m | \u001b[0m 0.4214  \u001b[0m | \u001b[0m 2.339   \u001b[0m | \u001b[0m 1.054   \u001b[0m | \u001b[0m 1.162   \u001b[0m | \u001b[0m 10.74   \u001b[0m |\n",
      "| \u001b[0m 20      \u001b[0m | \u001b[0m 90.14   \u001b[0m | \u001b[0m 0.5641  \u001b[0m | \u001b[0m 1.155   \u001b[0m | \u001b[0m 9.466   \u001b[0m | \u001b[0m 3.371   \u001b[0m | \u001b[0m 1.761   \u001b[0m | \u001b[0m 2.218   \u001b[0m | \u001b[0m 1.432   \u001b[0m | \u001b[0m 9.752   \u001b[0m |\n"
     ]
    },
    {
     "name": "stderr",
     "output_type": "stream",
     "text": [
      "/opt/conda/envs/rapids/lib/python3.7/site-packages/sklearn/gaussian_process/kernels.py:271: RuntimeWarning: divide by zero encountered in log\n",
      "  return np.log(np.hstack(theta))\n"
     ]
    },
    {
     "name": "stdout",
     "output_type": "stream",
     "text": [
      "| \u001b[0m 21      \u001b[0m | \u001b[0m 91.97   \u001b[0m | \u001b[0m 0.99    \u001b[0m | \u001b[0m 11.17   \u001b[0m | \u001b[0m 10.0    \u001b[0m | \u001b[0m 10.0    \u001b[0m | \u001b[0m 1.0     \u001b[0m | \u001b[0m 1.0     \u001b[0m | \u001b[0m 4.51    \u001b[0m | \u001b[0m 0.0     \u001b[0m |\n"
     ]
    },
    {
     "name": "stderr",
     "output_type": "stream",
     "text": [
      "/opt/conda/envs/rapids/lib/python3.7/site-packages/sklearn/gaussian_process/kernels.py:271: RuntimeWarning: divide by zero encountered in log\n",
      "  return np.log(np.hstack(theta))\n"
     ]
    },
    {
     "name": "stdout",
     "output_type": "stream",
     "text": [
      "| \u001b[0m 22      \u001b[0m | \u001b[0m 89.69   \u001b[0m | \u001b[0m 0.0     \u001b[0m | \u001b[0m 0.0     \u001b[0m | \u001b[0m 0.0     \u001b[0m | \u001b[0m 10.0    \u001b[0m | \u001b[0m 8.0     \u001b[0m | \u001b[0m 1.0     \u001b[0m | \u001b[0m 12.0    \u001b[0m | \u001b[0m 100.0   \u001b[0m |\n"
     ]
    },
    {
     "name": "stderr",
     "output_type": "stream",
     "text": [
      "/opt/conda/envs/rapids/lib/python3.7/site-packages/sklearn/gaussian_process/kernels.py:271: RuntimeWarning: divide by zero encountered in log\n",
      "  return np.log(np.hstack(theta))\n"
     ]
    },
    {
     "name": "stdout",
     "output_type": "stream",
     "text": [
      "| \u001b[0m 23      \u001b[0m | \u001b[0m 91.89   \u001b[0m | \u001b[0m 0.0     \u001b[0m | \u001b[0m 14.27   \u001b[0m | \u001b[0m 10.0    \u001b[0m | \u001b[0m 0.0     \u001b[0m | \u001b[0m 1.0     \u001b[0m | \u001b[0m 1.0     \u001b[0m | \u001b[0m 1.0     \u001b[0m | \u001b[0m 0.0     \u001b[0m |\n"
     ]
    },
    {
     "name": "stderr",
     "output_type": "stream",
     "text": [
      "/opt/conda/envs/rapids/lib/python3.7/site-packages/sklearn/gaussian_process/kernels.py:271: RuntimeWarning: divide by zero encountered in log\n",
      "  return np.log(np.hstack(theta))\n"
     ]
    },
    {
     "name": "stdout",
     "output_type": "stream",
     "text": [
      "| \u001b[0m 24      \u001b[0m | \u001b[0m 91.89   \u001b[0m | \u001b[0m 0.99    \u001b[0m | \u001b[0m 28.76   \u001b[0m | \u001b[0m 10.0    \u001b[0m | \u001b[0m 0.0     \u001b[0m | \u001b[0m 1.0     \u001b[0m | \u001b[0m 1.0     \u001b[0m | \u001b[0m 1.0     \u001b[0m | \u001b[0m 0.0     \u001b[0m |\n",
      "| \u001b[0m 25      \u001b[0m | \u001b[0m 88.76   \u001b[0m | \u001b[0m 0.4122  \u001b[0m | \u001b[0m 9.708   \u001b[0m | \u001b[0m 0.8714  \u001b[0m | \u001b[0m 4.179   \u001b[0m | \u001b[0m 3.133   \u001b[0m | \u001b[0m 8.801   \u001b[0m | \u001b[0m 1.653   \u001b[0m | \u001b[0m 14.78   \u001b[0m |\n"
     ]
    },
    {
     "name": "stderr",
     "output_type": "stream",
     "text": [
      "/opt/conda/envs/rapids/lib/python3.7/site-packages/sklearn/gaussian_process/kernels.py:271: RuntimeWarning: divide by zero encountered in log\n",
      "  return np.log(np.hstack(theta))\n"
     ]
    },
    {
     "name": "stdout",
     "output_type": "stream",
     "text": [
      "| \u001b[0m 26      \u001b[0m | \u001b[0m 91.89   \u001b[0m | \u001b[0m 0.99    \u001b[0m | \u001b[0m 26.25   \u001b[0m | \u001b[0m 10.0    \u001b[0m | \u001b[0m 10.0    \u001b[0m | \u001b[0m 1.0     \u001b[0m | \u001b[0m 1.0     \u001b[0m | \u001b[0m 1.0     \u001b[0m | \u001b[0m 0.0     \u001b[0m |\n",
      "| \u001b[0m 27      \u001b[0m | \u001b[0m 90.4    \u001b[0m | \u001b[0m 0.6716  \u001b[0m | \u001b[0m 74.13   \u001b[0m | \u001b[0m 8.726   \u001b[0m | \u001b[0m 6.291   \u001b[0m | \u001b[0m 1.662   \u001b[0m | \u001b[0m 4.992   \u001b[0m | \u001b[0m 8.013   \u001b[0m | \u001b[0m 5.108   \u001b[0m |\n"
     ]
    },
    {
     "name": "stderr",
     "output_type": "stream",
     "text": [
      "/opt/conda/envs/rapids/lib/python3.7/site-packages/sklearn/gaussian_process/kernels.py:271: RuntimeWarning: divide by zero encountered in log\n",
      "  return np.log(np.hstack(theta))\n"
     ]
    },
    {
     "name": "stdout",
     "output_type": "stream",
     "text": [
      "| \u001b[0m 28      \u001b[0m | \u001b[0m 91.89   \u001b[0m | \u001b[0m 0.0     \u001b[0m | \u001b[0m 93.4    \u001b[0m | \u001b[0m 10.0    \u001b[0m | \u001b[0m 0.0     \u001b[0m | \u001b[0m 1.0     \u001b[0m | \u001b[0m 1.0     \u001b[0m | \u001b[0m 1.0     \u001b[0m | \u001b[0m 0.0     \u001b[0m |\n",
      "| \u001b[0m 29      \u001b[0m | \u001b[0m 90.55   \u001b[0m | \u001b[0m 0.5591  \u001b[0m | \u001b[0m 80.87   \u001b[0m | \u001b[0m 9.738   \u001b[0m | \u001b[0m 0.8996  \u001b[0m | \u001b[0m 4.301   \u001b[0m | \u001b[0m 4.378   \u001b[0m | \u001b[0m 2.223   \u001b[0m | \u001b[0m 74.8    \u001b[0m |\n"
     ]
    },
    {
     "name": "stderr",
     "output_type": "stream",
     "text": [
      "/opt/conda/envs/rapids/lib/python3.7/site-packages/sklearn/gaussian_process/kernels.py:271: RuntimeWarning: divide by zero encountered in log\n",
      "  return np.log(np.hstack(theta))\n"
     ]
    },
    {
     "name": "stdout",
     "output_type": "stream",
     "text": [
      "| \u001b[0m 30      \u001b[0m | \u001b[0m 91.75   \u001b[0m | \u001b[0m 0.99    \u001b[0m | \u001b[0m 99.08   \u001b[0m | \u001b[0m 10.0    \u001b[0m | \u001b[0m 10.0    \u001b[0m | \u001b[0m 1.0     \u001b[0m | \u001b[0m 1.0     \u001b[0m | \u001b[0m 12.0    \u001b[0m | \u001b[0m 0.0     \u001b[0m |\n"
     ]
    },
    {
     "name": "stderr",
     "output_type": "stream",
     "text": [
      "/opt/conda/envs/rapids/lib/python3.7/site-packages/sklearn/gaussian_process/kernels.py:271: RuntimeWarning: divide by zero encountered in log\n",
      "  return np.log(np.hstack(theta))\n"
     ]
    },
    {
     "name": "stdout",
     "output_type": "stream",
     "text": [
      "| \u001b[0m 31      \u001b[0m | \u001b[0m 87.72   \u001b[0m | \u001b[0m 0.0     \u001b[0m | \u001b[0m 97.12   \u001b[0m | \u001b[0m 10.0    \u001b[0m | \u001b[0m 10.0    \u001b[0m | \u001b[0m 8.0     \u001b[0m | \u001b[0m 12.0    \u001b[0m | \u001b[0m 1.0     \u001b[0m | \u001b[0m 0.0     \u001b[0m |\n"
     ]
    },
    {
     "name": "stderr",
     "output_type": "stream",
     "text": [
      "/opt/conda/envs/rapids/lib/python3.7/site-packages/sklearn/gaussian_process/kernels.py:271: RuntimeWarning: divide by zero encountered in log\n",
      "  return np.log(np.hstack(theta))\n"
     ]
    },
    {
     "name": "stdout",
     "output_type": "stream",
     "text": [
      "| \u001b[0m 32      \u001b[0m | \u001b[0m 91.75   \u001b[0m | \u001b[0m 0.99    \u001b[0m | \u001b[0m 21.22   \u001b[0m | \u001b[0m 10.0    \u001b[0m | \u001b[0m 0.05483 \u001b[0m | \u001b[0m 1.0     \u001b[0m | \u001b[0m 1.0     \u001b[0m | \u001b[0m 12.0    \u001b[0m | \u001b[0m 0.0     \u001b[0m |\n",
      "| \u001b[0m 33      \u001b[0m | \u001b[0m 90.32   \u001b[0m | \u001b[0m 0.06757 \u001b[0m | \u001b[0m 95.56   \u001b[0m | \u001b[0m 0.1577  \u001b[0m | \u001b[0m 1.544   \u001b[0m | \u001b[0m 3.394   \u001b[0m | \u001b[0m 3.389   \u001b[0m | \u001b[0m 8.891   \u001b[0m | \u001b[0m 3.205   \u001b[0m |\n",
      "| \u001b[0m 34      \u001b[0m | \u001b[0m 91.89   \u001b[0m | \u001b[0m 0.99    \u001b[0m | \u001b[0m 100.0   \u001b[0m | \u001b[0m 10.0    \u001b[0m | \u001b[0m 10.0    \u001b[0m | \u001b[0m 1.0     \u001b[0m | \u001b[0m 1.0     \u001b[0m | \u001b[0m 1.0     \u001b[0m | \u001b[0m 100.0   \u001b[0m |\n",
      "| \u001b[0m 35      \u001b[0m | \u001b[0m 88.84   \u001b[0m | \u001b[0m 0.6535  \u001b[0m | \u001b[0m 3.984   \u001b[0m | \u001b[0m 2.272   \u001b[0m | \u001b[0m 3.149   \u001b[0m | \u001b[0m 5.818   \u001b[0m | \u001b[0m 6.206   \u001b[0m | \u001b[0m 1.15    \u001b[0m | \u001b[0m 24.93   \u001b[0m |\n",
      "| \u001b[0m 36      \u001b[0m | \u001b[0m 91.89   \u001b[0m | \u001b[0m 0.99    \u001b[0m | \u001b[0m 84.21   \u001b[0m | \u001b[0m 10.0    \u001b[0m | \u001b[0m 10.0    \u001b[0m | \u001b[0m 1.0     \u001b[0m | \u001b[0m 1.0     \u001b[0m | \u001b[0m 1.0     \u001b[0m | \u001b[0m 100.0   \u001b[0m |\n",
      "| \u001b[0m 37      \u001b[0m | \u001b[0m 89.83   \u001b[0m | \u001b[0m 0.1374  \u001b[0m | \u001b[0m 31.76   \u001b[0m | \u001b[0m 7.932   \u001b[0m | \u001b[0m 9.068   \u001b[0m | \u001b[0m 7.637   \u001b[0m | \u001b[0m 3.824   \u001b[0m | \u001b[0m 7.676   \u001b[0m | \u001b[0m 88.88   \u001b[0m |\n",
      "| \u001b[0m 38      \u001b[0m | \u001b[0m 88.71   \u001b[0m | \u001b[0m 0.46    \u001b[0m | \u001b[0m 97.2    \u001b[0m | \u001b[0m 2.676   \u001b[0m | \u001b[0m 8.335   \u001b[0m | \u001b[0m 5.116   \u001b[0m | \u001b[0m 6.339   \u001b[0m | \u001b[0m 3.019   \u001b[0m | \u001b[0m 39.86   \u001b[0m |\n",
      "| \u001b[0m 39      \u001b[0m | \u001b[0m 87.72   \u001b[0m | \u001b[0m 0.99    \u001b[0m | \u001b[0m 92.49   \u001b[0m | \u001b[0m 10.0    \u001b[0m | \u001b[0m 10.0    \u001b[0m | \u001b[0m 8.0     \u001b[0m | \u001b[0m 12.0    \u001b[0m | \u001b[0m 1.0     \u001b[0m | \u001b[0m 100.0   \u001b[0m |\n"
     ]
    },
    {
     "name": "stderr",
     "output_type": "stream",
     "text": [
      "/opt/conda/envs/rapids/lib/python3.7/site-packages/sklearn/gaussian_process/kernels.py:271: RuntimeWarning: divide by zero encountered in log\n",
      "  return np.log(np.hstack(theta))\n"
     ]
    },
    {
     "name": "stdout",
     "output_type": "stream",
     "text": [
      "| \u001b[0m 40      \u001b[0m | \u001b[0m 91.75   \u001b[0m | \u001b[0m 0.99    \u001b[0m | \u001b[0m 87.52   \u001b[0m | \u001b[0m 10.0    \u001b[0m | \u001b[0m 0.0     \u001b[0m | \u001b[0m 1.0     \u001b[0m | \u001b[0m 1.0     \u001b[0m | \u001b[0m 12.0    \u001b[0m | \u001b[0m 0.0     \u001b[0m |\n",
      "=========================================================================================================================\n",
      "92.06630813117943\n",
      "Prev Inven : 1, Var Sale : 7, Var Product : 1\n",
      "|   iter    |  target   |  g_alpha  |   k_dot   |   rbf_l   |  theta1   | tmp_pr... | tmp_va... | tmp_va... |  w_noise  |\n",
      "-------------------------------------------------------------------------------------------------------------------------\n",
      "| \u001b[0m 1       \u001b[0m | \u001b[0m 92.36   \u001b[0m | \u001b[0m 0.4129  \u001b[0m | \u001b[0m 72.03   \u001b[0m | \u001b[0m 0.001144\u001b[0m | \u001b[0m 3.023   \u001b[0m | \u001b[0m 2.027   \u001b[0m | \u001b[0m 2.016   \u001b[0m | \u001b[0m 3.049   \u001b[0m | \u001b[0m 34.56   \u001b[0m |\n",
      "| \u001b[0m 2       \u001b[0m | \u001b[0m 90.88   \u001b[0m | \u001b[0m 0.3928  \u001b[0m | \u001b[0m 53.88   \u001b[0m | \u001b[0m 4.192   \u001b[0m | \u001b[0m 6.852   \u001b[0m | \u001b[0m 2.431   \u001b[0m | \u001b[0m 10.66   \u001b[0m | \u001b[0m 1.301   \u001b[0m | \u001b[0m 67.05   \u001b[0m |\n",
      "| \u001b[0m 3       \u001b[0m | \u001b[0m 91.39   \u001b[0m | \u001b[0m 0.4131  \u001b[0m | \u001b[0m 55.87   \u001b[0m | \u001b[0m 1.404   \u001b[0m | \u001b[0m 1.981   \u001b[0m | \u001b[0m 6.605   \u001b[0m | \u001b[0m 11.65   \u001b[0m | \u001b[0m 4.448   \u001b[0m | \u001b[0m 69.23   \u001b[0m |\n",
      "| \u001b[0m 4       \u001b[0m | \u001b[0m 90.97   \u001b[0m | \u001b[0m 0.8676  \u001b[0m | \u001b[0m 89.46   \u001b[0m | \u001b[0m 0.8504  \u001b[0m | \u001b[0m 0.3905  \u001b[0m | \u001b[0m 2.189   \u001b[0m | \u001b[0m 10.66   \u001b[0m | \u001b[0m 2.082   \u001b[0m | \u001b[0m 42.11   \u001b[0m |\n",
      "| \u001b[0m 5       \u001b[0m | \u001b[0m 90.74   \u001b[0m | \u001b[0m 0.9483  \u001b[0m | \u001b[0m 53.32   \u001b[0m | \u001b[0m 6.919   \u001b[0m | \u001b[0m 3.155   \u001b[0m | \u001b[0m 5.806   \u001b[0m | \u001b[0m 10.18   \u001b[0m | \u001b[0m 1.201   \u001b[0m | \u001b[0m 75.01   \u001b[0m |\n",
      "| \u001b[95m 6       \u001b[0m | \u001b[95m 92.46   \u001b[0m | \u001b[95m 0.979   \u001b[0m | \u001b[95m 74.82   \u001b[0m | \u001b[95m 2.804   \u001b[0m | \u001b[95m 7.893   \u001b[0m | \u001b[95m 1.723   \u001b[0m | \u001b[95m 5.927   \u001b[0m | \u001b[95m 10.99   \u001b[0m | \u001b[95m 29.36   \u001b[0m |\n",
      "| \u001b[95m 7       \u001b[0m | \u001b[95m 92.84   \u001b[0m | \u001b[95m 0.2849  \u001b[0m | \u001b[95m 13.0    \u001b[0m | \u001b[95m 0.1937  \u001b[0m | \u001b[95m 6.788   \u001b[0m | \u001b[95m 2.481   \u001b[0m | \u001b[95m 3.921   \u001b[0m | \u001b[95m 6.407   \u001b[0m | \u001b[95m 5.336   \u001b[0m |\n",
      "| \u001b[0m 8       \u001b[0m | \u001b[0m 92.62   \u001b[0m | \u001b[0m 0.5684  \u001b[0m | \u001b[0m 14.67   \u001b[0m | \u001b[0m 5.893   \u001b[0m | \u001b[0m 6.998   \u001b[0m | \u001b[0m 1.716   \u001b[0m | \u001b[0m 5.555   \u001b[0m | \u001b[0m 8.638   \u001b[0m | \u001b[0m 41.42   \u001b[0m |\n",
      "| \u001b[0m 9       \u001b[0m | \u001b[0m 90.88   \u001b[0m | \u001b[0m 0.04945 \u001b[0m | \u001b[0m 53.59   \u001b[0m | \u001b[0m 6.638   \u001b[0m | \u001b[0m 5.149   \u001b[0m | \u001b[0m 7.612   \u001b[0m | \u001b[0m 7.452   \u001b[0m | \u001b[0m 10.94   \u001b[0m | \u001b[0m 13.75   \u001b[0m |\n",
      "| \u001b[0m 10      \u001b[0m | \u001b[0m 92.04   \u001b[0m | \u001b[0m 0.1379  \u001b[0m | \u001b[0m 80.74   \u001b[0m | \u001b[0m 3.977   \u001b[0m | \u001b[0m 1.654   \u001b[0m | \u001b[0m 7.493   \u001b[0m | \u001b[0m 4.825   \u001b[0m | \u001b[0m 9.259   \u001b[0m | \u001b[0m 72.6    \u001b[0m |\n",
      "| \u001b[0m 11      \u001b[0m | \u001b[0m 92.63   \u001b[0m | \u001b[0m 0.4628  \u001b[0m | \u001b[0m 76.12   \u001b[0m | \u001b[0m 4.188   \u001b[0m | \u001b[0m 6.656   \u001b[0m | \u001b[0m 2.055   \u001b[0m | \u001b[0m 4.776   \u001b[0m | \u001b[0m 10.66   \u001b[0m | \u001b[0m 27.06   \u001b[0m |\n",
      "| \u001b[95m 12      \u001b[0m | \u001b[95m 92.9    \u001b[0m | \u001b[95m 0.4319  \u001b[0m | \u001b[95m 11.09   \u001b[0m | \u001b[95m 2.434   \u001b[0m | \u001b[95m 6.983   \u001b[0m | \u001b[95m 1.77    \u001b[0m | \u001b[95m 4.427   \u001b[0m | \u001b[95m 7.166   \u001b[0m | \u001b[95m 21.71   \u001b[0m |\n"
     ]
    },
    {
     "name": "stderr",
     "output_type": "stream",
     "text": [
      "/opt/conda/envs/rapids/lib/python3.7/site-packages/sklearn/gaussian_process/kernels.py:271: RuntimeWarning: divide by zero encountered in log\n",
      "  return np.log(np.hstack(theta))\n"
     ]
    },
    {
     "name": "stdout",
     "output_type": "stream",
     "text": [
      "| \u001b[0m 13      \u001b[0m | \u001b[0m 91.24   \u001b[0m | \u001b[0m 0.99    \u001b[0m | \u001b[0m 0.105   \u001b[0m | \u001b[0m 0.0     \u001b[0m | \u001b[0m 0.0     \u001b[0m | \u001b[0m 1.015   \u001b[0m | \u001b[0m 12.0    \u001b[0m | \u001b[0m 1.0     \u001b[0m | \u001b[0m 13.38   \u001b[0m |\n"
     ]
    },
    {
     "name": "stderr",
     "output_type": "stream",
     "text": [
      "/opt/conda/envs/rapids/lib/python3.7/site-packages/sklearn/gaussian_process/kernels.py:271: RuntimeWarning: divide by zero encountered in log\n",
      "  return np.log(np.hstack(theta))\n"
     ]
    },
    {
     "name": "stdout",
     "output_type": "stream",
     "text": [
      "| \u001b[0m 14      \u001b[0m | \u001b[0m 92.72   \u001b[0m | \u001b[0m 0.0     \u001b[0m | \u001b[0m 20.74   \u001b[0m | \u001b[0m 0.0     \u001b[0m | \u001b[0m 10.0    \u001b[0m | \u001b[0m 1.0     \u001b[0m | \u001b[0m 1.0     \u001b[0m | \u001b[0m 12.0    \u001b[0m | \u001b[0m 15.87   \u001b[0m |\n",
      "| \u001b[95m 15      \u001b[0m | \u001b[95m 93.53   \u001b[0m | \u001b[95m 0.0     \u001b[0m | \u001b[95m 17.09   \u001b[0m | \u001b[95m 10.0    \u001b[0m | \u001b[95m 10.0    \u001b[0m | \u001b[95m 8.0     \u001b[0m | \u001b[95m 1.0     \u001b[0m | \u001b[95m 1.789   \u001b[0m | \u001b[95m 15.61   \u001b[0m |\n"
     ]
    },
    {
     "name": "stderr",
     "output_type": "stream",
     "text": [
      "/opt/conda/envs/rapids/lib/python3.7/site-packages/sklearn/gaussian_process/kernels.py:271: RuntimeWarning: divide by zero encountered in log\n",
      "  return np.log(np.hstack(theta))\n"
     ]
    },
    {
     "name": "stdout",
     "output_type": "stream",
     "text": [
      "| \u001b[0m 16      \u001b[0m | \u001b[0m 93.39   \u001b[0m | \u001b[0m 0.99    \u001b[0m | \u001b[0m 21.12   \u001b[0m | \u001b[0m 10.0    \u001b[0m | \u001b[0m 0.0     \u001b[0m | \u001b[0m 8.0     \u001b[0m | \u001b[0m 1.0     \u001b[0m | \u001b[0m 1.0     \u001b[0m | \u001b[0m 24.17   \u001b[0m |\n"
     ]
    },
    {
     "name": "stderr",
     "output_type": "stream",
     "text": [
      "/opt/conda/envs/rapids/lib/python3.7/site-packages/sklearn/gaussian_process/kernels.py:271: RuntimeWarning: divide by zero encountered in log\n",
      "  return np.log(np.hstack(theta))\n"
     ]
    },
    {
     "name": "stdout",
     "output_type": "stream",
     "text": [
      "| \u001b[0m 17      \u001b[0m | \u001b[0m 93.39   \u001b[0m | \u001b[0m 0.99    \u001b[0m | \u001b[0m 22.71   \u001b[0m | \u001b[0m 10.0    \u001b[0m | \u001b[0m 0.0     \u001b[0m | \u001b[0m 8.0     \u001b[0m | \u001b[0m 1.0     \u001b[0m | \u001b[0m 1.0     \u001b[0m | \u001b[0m 5.962   \u001b[0m |\n"
     ]
    },
    {
     "name": "stderr",
     "output_type": "stream",
     "text": [
      "/opt/conda/envs/rapids/lib/python3.7/site-packages/sklearn/gaussian_process/kernels.py:271: RuntimeWarning: divide by zero encountered in log\n",
      "  return np.log(np.hstack(theta))\n"
     ]
    },
    {
     "name": "stdout",
     "output_type": "stream",
     "text": [
      "| \u001b[0m 18      \u001b[0m | \u001b[0m 93.27   \u001b[0m | \u001b[0m 0.99    \u001b[0m | \u001b[0m 14.87   \u001b[0m | \u001b[0m 10.0    \u001b[0m | \u001b[0m 0.0     \u001b[0m | \u001b[0m 8.0     \u001b[0m | \u001b[0m 1.0     \u001b[0m | \u001b[0m 12.0    \u001b[0m | \u001b[0m 13.95   \u001b[0m |\n",
      "| \u001b[0m 19      \u001b[0m | \u001b[0m 92.72   \u001b[0m | \u001b[0m 0.0     \u001b[0m | \u001b[0m 98.69   \u001b[0m | \u001b[0m 10.0    \u001b[0m | \u001b[0m 10.0    \u001b[0m | \u001b[0m 1.0     \u001b[0m | \u001b[0m 1.0     \u001b[0m | \u001b[0m 12.0    \u001b[0m | \u001b[0m 1.921   \u001b[0m |\n"
     ]
    },
    {
     "name": "stderr",
     "output_type": "stream",
     "text": [
      "/opt/conda/envs/rapids/lib/python3.7/site-packages/sklearn/gaussian_process/kernels.py:271: RuntimeWarning: divide by zero encountered in log\n",
      "  return np.log(np.hstack(theta))\n"
     ]
    },
    {
     "name": "stdout",
     "output_type": "stream",
     "text": [
      "| \u001b[0m 20      \u001b[0m | \u001b[0m 91.89   \u001b[0m | \u001b[0m 0.0     \u001b[0m | \u001b[0m 0.0     \u001b[0m | \u001b[0m 0.0     \u001b[0m | \u001b[0m 0.0     \u001b[0m | \u001b[0m 8.0     \u001b[0m | \u001b[0m 1.0     \u001b[0m | \u001b[0m 12.0    \u001b[0m | \u001b[0m 100.0   \u001b[0m |\n"
     ]
    },
    {
     "name": "stderr",
     "output_type": "stream",
     "text": [
      "/opt/conda/envs/rapids/lib/python3.7/site-packages/sklearn/gaussian_process/kernels.py:271: RuntimeWarning: divide by zero encountered in log\n",
      "  return np.log(np.hstack(theta))\n"
     ]
    },
    {
     "name": "stdout",
     "output_type": "stream",
     "text": [
      "| \u001b[0m 21      \u001b[0m | \u001b[0m 93.27   \u001b[0m | \u001b[0m 0.0     \u001b[0m | \u001b[0m 100.0   \u001b[0m | \u001b[0m 0.0     \u001b[0m | \u001b[0m 10.0    \u001b[0m | \u001b[0m 8.0     \u001b[0m | \u001b[0m 1.0     \u001b[0m | \u001b[0m 12.0    \u001b[0m | \u001b[0m 100.0   \u001b[0m |\n"
     ]
    },
    {
     "name": "stderr",
     "output_type": "stream",
     "text": [
      "/opt/conda/envs/rapids/lib/python3.7/site-packages/sklearn/gaussian_process/kernels.py:271: RuntimeWarning: divide by zero encountered in log\n",
      "  return np.log(np.hstack(theta))\n"
     ]
    },
    {
     "name": "stdout",
     "output_type": "stream",
     "text": [
      "| \u001b[0m 22      \u001b[0m | \u001b[0m 91.24   \u001b[0m | \u001b[0m 0.99    \u001b[0m | \u001b[0m 100.0   \u001b[0m | \u001b[0m 10.0    \u001b[0m | \u001b[0m 0.0     \u001b[0m | \u001b[0m 1.0     \u001b[0m | \u001b[0m 12.0    \u001b[0m | \u001b[0m 1.0     \u001b[0m | \u001b[0m 100.0   \u001b[0m |\n",
      "| \u001b[0m 23      \u001b[0m | \u001b[0m 90.98   \u001b[0m | \u001b[0m 0.99    \u001b[0m | \u001b[0m 22.75   \u001b[0m | \u001b[0m 10.0    \u001b[0m | \u001b[0m 6.355   \u001b[0m | \u001b[0m 8.0     \u001b[0m | \u001b[0m 12.0    \u001b[0m | \u001b[0m 1.0     \u001b[0m | \u001b[0m 15.57   \u001b[0m |\n"
     ]
    },
    {
     "name": "stderr",
     "output_type": "stream",
     "text": [
      "/opt/conda/envs/rapids/lib/python3.7/site-packages/sklearn/gaussian_process/kernels.py:271: RuntimeWarning: divide by zero encountered in log\n",
      "  return np.log(np.hstack(theta))\n"
     ]
    },
    {
     "name": "stdout",
     "output_type": "stream",
     "text": [
      "| \u001b[0m 24      \u001b[0m | \u001b[0m 93.41   \u001b[0m | \u001b[0m 0.0     \u001b[0m | \u001b[0m 12.18   \u001b[0m | \u001b[0m 10.0    \u001b[0m | \u001b[0m 0.0     \u001b[0m | \u001b[0m 8.0     \u001b[0m | \u001b[0m 1.0     \u001b[0m | \u001b[0m 1.0     \u001b[0m | \u001b[0m 14.56   \u001b[0m |\n",
      "| \u001b[0m 25      \u001b[0m | \u001b[0m 93.39   \u001b[0m | \u001b[0m 0.0     \u001b[0m | \u001b[0m 9.693   \u001b[0m | \u001b[0m 10.0    \u001b[0m | \u001b[0m 10.0    \u001b[0m | \u001b[0m 8.0     \u001b[0m | \u001b[0m 1.0     \u001b[0m | \u001b[0m 1.0     \u001b[0m | \u001b[0m 28.14   \u001b[0m |\n"
     ]
    },
    {
     "name": "stderr",
     "output_type": "stream",
     "text": [
      "/opt/conda/envs/rapids/lib/python3.7/site-packages/sklearn/gaussian_process/kernels.py:271: RuntimeWarning: divide by zero encountered in log\n",
      "  return np.log(np.hstack(theta))\n"
     ]
    },
    {
     "name": "stdout",
     "output_type": "stream",
     "text": [
      "| \u001b[0m 26      \u001b[0m | \u001b[0m 93.39   \u001b[0m | \u001b[0m 0.0     \u001b[0m | \u001b[0m 11.65   \u001b[0m | \u001b[0m 10.0    \u001b[0m | \u001b[0m 10.0    \u001b[0m | \u001b[0m 8.0     \u001b[0m | \u001b[0m 1.0     \u001b[0m | \u001b[0m 1.0     \u001b[0m | \u001b[0m 0.0     \u001b[0m |\n"
     ]
    },
    {
     "name": "stderr",
     "output_type": "stream",
     "text": [
      "/opt/conda/envs/rapids/lib/python3.7/site-packages/sklearn/gaussian_process/kernels.py:271: RuntimeWarning: divide by zero encountered in log\n",
      "  return np.log(np.hstack(theta))\n"
     ]
    },
    {
     "name": "stdout",
     "output_type": "stream",
     "text": [
      "| \u001b[0m 27      \u001b[0m | \u001b[0m 93.27   \u001b[0m | \u001b[0m 0.0     \u001b[0m | \u001b[0m 0.0     \u001b[0m | \u001b[0m 10.0    \u001b[0m | \u001b[0m 0.0     \u001b[0m | \u001b[0m 8.0     \u001b[0m | \u001b[0m 1.0     \u001b[0m | \u001b[0m 12.0    \u001b[0m | \u001b[0m 33.73   \u001b[0m |\n"
     ]
    },
    {
     "name": "stderr",
     "output_type": "stream",
     "text": [
      "/opt/conda/envs/rapids/lib/python3.7/site-packages/sklearn/gaussian_process/kernels.py:271: RuntimeWarning: divide by zero encountered in log\n",
      "  return np.log(np.hstack(theta))\n"
     ]
    },
    {
     "name": "stdout",
     "output_type": "stream",
     "text": [
      "| \u001b[0m 28      \u001b[0m | \u001b[0m 93.39   \u001b[0m | \u001b[0m 0.0     \u001b[0m | \u001b[0m 0.0     \u001b[0m | \u001b[0m 10.0    \u001b[0m | \u001b[0m 0.0     \u001b[0m | \u001b[0m 8.0     \u001b[0m | \u001b[0m 1.0     \u001b[0m | \u001b[0m 1.0     \u001b[0m | \u001b[0m 52.65   \u001b[0m |\n",
      "| \u001b[0m 29      \u001b[0m | \u001b[0m 90.36   \u001b[0m | \u001b[0m 0.5168  \u001b[0m | \u001b[0m 0.2589  \u001b[0m | \u001b[0m 1.481   \u001b[0m | \u001b[0m 0.09276 \u001b[0m | \u001b[0m 3.424   \u001b[0m | \u001b[0m 10.26   \u001b[0m | \u001b[0m 11.84   \u001b[0m | \u001b[0m 60.55   \u001b[0m |\n"
     ]
    },
    {
     "name": "stderr",
     "output_type": "stream",
     "text": [
      "/opt/conda/envs/rapids/lib/python3.7/site-packages/sklearn/gaussian_process/kernels.py:271: RuntimeWarning: divide by zero encountered in log\n",
      "  return np.log(np.hstack(theta))\n"
     ]
    },
    {
     "name": "stdout",
     "output_type": "stream",
     "text": [
      "| \u001b[0m 30      \u001b[0m | \u001b[0m 93.39   \u001b[0m | \u001b[0m 0.0     \u001b[0m | \u001b[0m 8.076   \u001b[0m | \u001b[0m 10.0    \u001b[0m | \u001b[0m 0.0     \u001b[0m | \u001b[0m 8.0     \u001b[0m | \u001b[0m 1.0     \u001b[0m | \u001b[0m 1.0     \u001b[0m | \u001b[0m 39.71   \u001b[0m |\n"
     ]
    },
    {
     "name": "stderr",
     "output_type": "stream",
     "text": [
      "/opt/conda/envs/rapids/lib/python3.7/site-packages/sklearn/gaussian_process/kernels.py:271: RuntimeWarning: divide by zero encountered in log\n",
      "  return np.log(np.hstack(theta))\n"
     ]
    },
    {
     "name": "stdout",
     "output_type": "stream",
     "text": [
      "| \u001b[0m 31      \u001b[0m | \u001b[0m 93.27   \u001b[0m | \u001b[0m 0.0     \u001b[0m | \u001b[0m 80.1    \u001b[0m | \u001b[0m 0.0     \u001b[0m | \u001b[0m 10.0    \u001b[0m | \u001b[0m 8.0     \u001b[0m | \u001b[0m 1.0     \u001b[0m | \u001b[0m 12.0    \u001b[0m | \u001b[0m 100.0   \u001b[0m |\n"
     ]
    },
    {
     "name": "stderr",
     "output_type": "stream",
     "text": [
      "/opt/conda/envs/rapids/lib/python3.7/site-packages/sklearn/gaussian_process/kernels.py:271: RuntimeWarning: divide by zero encountered in log\n",
      "  return np.log(np.hstack(theta))\n"
     ]
    },
    {
     "name": "stdout",
     "output_type": "stream",
     "text": [
      "| \u001b[0m 32      \u001b[0m | \u001b[0m 93.39   \u001b[0m | \u001b[0m 0.0     \u001b[0m | \u001b[0m 0.0     \u001b[0m | \u001b[0m 10.0    \u001b[0m | \u001b[0m 10.0    \u001b[0m | \u001b[0m 8.0     \u001b[0m | \u001b[0m 1.0     \u001b[0m | \u001b[0m 1.0     \u001b[0m | \u001b[0m 43.32   \u001b[0m |\n",
      "| \u001b[0m 33      \u001b[0m | \u001b[0m 92.84   \u001b[0m | \u001b[0m 0.4112  \u001b[0m | \u001b[0m 82.39   \u001b[0m | \u001b[0m 5.625   \u001b[0m | \u001b[0m 1.265   \u001b[0m | \u001b[0m 5.555   \u001b[0m | \u001b[0m 1.829   \u001b[0m | \u001b[0m 1.325   \u001b[0m | \u001b[0m 0.836   \u001b[0m |\n"
     ]
    },
    {
     "name": "stderr",
     "output_type": "stream",
     "text": [
      "/opt/conda/envs/rapids/lib/python3.7/site-packages/sklearn/gaussian_process/kernels.py:271: RuntimeWarning: divide by zero encountered in log\n",
      "  return np.log(np.hstack(theta))\n"
     ]
    },
    {
     "name": "stdout",
     "output_type": "stream",
     "text": [
      "| \u001b[0m 34      \u001b[0m | \u001b[0m 93.27   \u001b[0m | \u001b[0m 0.0     \u001b[0m | \u001b[0m 100.0   \u001b[0m | \u001b[0m 0.0     \u001b[0m | \u001b[0m 10.0    \u001b[0m | \u001b[0m 8.0     \u001b[0m | \u001b[0m 1.0     \u001b[0m | \u001b[0m 12.0    \u001b[0m | \u001b[0m 81.85   \u001b[0m |\n",
      "| \u001b[0m 35      \u001b[0m | \u001b[0m 93.39   \u001b[0m | \u001b[0m 0.99    \u001b[0m | \u001b[0m 100.0   \u001b[0m | \u001b[0m 10.0    \u001b[0m | \u001b[0m 10.0    \u001b[0m | \u001b[0m 8.0     \u001b[0m | \u001b[0m 1.0     \u001b[0m | \u001b[0m 1.0     \u001b[0m | \u001b[0m 17.89   \u001b[0m |\n",
      "| \u001b[0m 36      \u001b[0m | \u001b[0m 90.98   \u001b[0m | \u001b[0m 0.99    \u001b[0m | \u001b[0m 91.57   \u001b[0m | \u001b[0m 10.0    \u001b[0m | \u001b[0m 10.0    \u001b[0m | \u001b[0m 8.0     \u001b[0m | \u001b[0m 12.0    \u001b[0m | \u001b[0m 1.0     \u001b[0m | \u001b[0m 10.52   \u001b[0m |\n",
      "| \u001b[0m 37      \u001b[0m | \u001b[0m 93.27   \u001b[0m | \u001b[0m 0.0     \u001b[0m | \u001b[0m 100.0   \u001b[0m | \u001b[0m 10.0    \u001b[0m | \u001b[0m 10.0    \u001b[0m | \u001b[0m 8.0     \u001b[0m | \u001b[0m 1.0     \u001b[0m | \u001b[0m 12.0    \u001b[0m | \u001b[0m 26.98   \u001b[0m |\n"
     ]
    },
    {
     "name": "stderr",
     "output_type": "stream",
     "text": [
      "/opt/conda/envs/rapids/lib/python3.7/site-packages/sklearn/gaussian_process/kernels.py:271: RuntimeWarning: divide by zero encountered in log\n",
      "  return np.log(np.hstack(theta))\n"
     ]
    },
    {
     "name": "stdout",
     "output_type": "stream",
     "text": [
      "| \u001b[0m 38      \u001b[0m | \u001b[0m 93.39   \u001b[0m | \u001b[0m 0.0     \u001b[0m | \u001b[0m 100.0   \u001b[0m | \u001b[0m 0.0     \u001b[0m | \u001b[0m 10.0    \u001b[0m | \u001b[0m 8.0     \u001b[0m | \u001b[0m 1.0     \u001b[0m | \u001b[0m 1.0     \u001b[0m | \u001b[0m 24.65   \u001b[0m |\n"
     ]
    },
    {
     "name": "stderr",
     "output_type": "stream",
     "text": [
      "/opt/conda/envs/rapids/lib/python3.7/site-packages/sklearn/gaussian_process/kernels.py:271: RuntimeWarning: divide by zero encountered in log\n",
      "  return np.log(np.hstack(theta))\n"
     ]
    },
    {
     "name": "stdout",
     "output_type": "stream",
     "text": [
      "| \u001b[0m 39      \u001b[0m | \u001b[0m 93.27   \u001b[0m | \u001b[0m 0.99    \u001b[0m | \u001b[0m 100.0   \u001b[0m | \u001b[0m 0.0     \u001b[0m | \u001b[0m 0.0     \u001b[0m | \u001b[0m 8.0     \u001b[0m | \u001b[0m 1.0     \u001b[0m | \u001b[0m 12.0    \u001b[0m | \u001b[0m 15.73   \u001b[0m |\n"
     ]
    },
    {
     "name": "stderr",
     "output_type": "stream",
     "text": [
      "/opt/conda/envs/rapids/lib/python3.7/site-packages/sklearn/gaussian_process/kernels.py:271: RuntimeWarning: divide by zero encountered in log\n",
      "  return np.log(np.hstack(theta))\n"
     ]
    },
    {
     "name": "stdout",
     "output_type": "stream",
     "text": [
      "| \u001b[0m 40      \u001b[0m | \u001b[0m 93.01   \u001b[0m | \u001b[0m 0.0     \u001b[0m | \u001b[0m 100.0   \u001b[0m | \u001b[0m 10.0    \u001b[0m | \u001b[0m 0.0     \u001b[0m | \u001b[0m 1.0     \u001b[0m | \u001b[0m 1.0     \u001b[0m | \u001b[0m 1.0     \u001b[0m | \u001b[0m 22.23   \u001b[0m |\n",
      "=========================================================================================================================\n",
      "93.53476344511155\n",
      "Prev Inven : 8, Var Sale : 2, Var Product : 1\n",
      "|   iter    |  target   |  g_alpha  |   k_dot   |   rbf_l   |  theta1   | tmp_pr... | tmp_va... | tmp_va... |  w_noise  |\n",
      "-------------------------------------------------------------------------------------------------------------------------\n",
      "| \u001b[0m 1       \u001b[0m | \u001b[0m 90.91   \u001b[0m | \u001b[0m 0.4129  \u001b[0m | \u001b[0m 72.03   \u001b[0m | \u001b[0m 0.001144\u001b[0m | \u001b[0m 3.023   \u001b[0m | \u001b[0m 2.027   \u001b[0m | \u001b[0m 2.016   \u001b[0m | \u001b[0m 3.049   \u001b[0m | \u001b[0m 34.56   \u001b[0m |\n",
      "| \u001b[0m 2       \u001b[0m | \u001b[0m 89.05   \u001b[0m | \u001b[0m 0.3928  \u001b[0m | \u001b[0m 53.88   \u001b[0m | \u001b[0m 4.192   \u001b[0m | \u001b[0m 6.852   \u001b[0m | \u001b[0m 2.431   \u001b[0m | \u001b[0m 10.66   \u001b[0m | \u001b[0m 1.301   \u001b[0m | \u001b[0m 67.05   \u001b[0m |\n",
      "| \u001b[95m 3       \u001b[0m | \u001b[95m 91.1    \u001b[0m | \u001b[95m 0.4131  \u001b[0m | \u001b[95m 55.87   \u001b[0m | \u001b[95m 1.404   \u001b[0m | \u001b[95m 1.981   \u001b[0m | \u001b[95m 6.605   \u001b[0m | \u001b[95m 11.65   \u001b[0m | \u001b[95m 4.448   \u001b[0m | \u001b[95m 69.23   \u001b[0m |\n",
      "| \u001b[0m 4       \u001b[0m | \u001b[0m 89.03   \u001b[0m | \u001b[0m 0.8676  \u001b[0m | \u001b[0m 89.46   \u001b[0m | \u001b[0m 0.8504  \u001b[0m | \u001b[0m 0.3905  \u001b[0m | \u001b[0m 2.189   \u001b[0m | \u001b[0m 10.66   \u001b[0m | \u001b[0m 2.082   \u001b[0m | \u001b[0m 42.11   \u001b[0m |\n",
      "| \u001b[0m 5       \u001b[0m | \u001b[0m 89.71   \u001b[0m | \u001b[0m 0.9483  \u001b[0m | \u001b[0m 53.32   \u001b[0m | \u001b[0m 6.919   \u001b[0m | \u001b[0m 3.155   \u001b[0m | \u001b[0m 5.806   \u001b[0m | \u001b[0m 10.18   \u001b[0m | \u001b[0m 1.201   \u001b[0m | \u001b[0m 75.01   \u001b[0m |\n",
      "| \u001b[0m 6       \u001b[0m | \u001b[0m 89.31   \u001b[0m | \u001b[0m 0.979   \u001b[0m | \u001b[0m 74.82   \u001b[0m | \u001b[0m 2.804   \u001b[0m | \u001b[0m 7.893   \u001b[0m | \u001b[0m 1.723   \u001b[0m | \u001b[0m 5.927   \u001b[0m | \u001b[0m 10.99   \u001b[0m | \u001b[0m 29.36   \u001b[0m |\n",
      "| \u001b[0m 7       \u001b[0m | \u001b[0m 90.58   \u001b[0m | \u001b[0m 0.2849  \u001b[0m | \u001b[0m 13.0    \u001b[0m | \u001b[0m 0.1937  \u001b[0m | \u001b[0m 6.788   \u001b[0m | \u001b[0m 2.481   \u001b[0m | \u001b[0m 3.921   \u001b[0m | \u001b[0m 6.407   \u001b[0m | \u001b[0m 5.336   \u001b[0m |\n",
      "| \u001b[0m 8       \u001b[0m | \u001b[0m 89.58   \u001b[0m | \u001b[0m 0.5684  \u001b[0m | \u001b[0m 14.67   \u001b[0m | \u001b[0m 5.893   \u001b[0m | \u001b[0m 6.998   \u001b[0m | \u001b[0m 1.716   \u001b[0m | \u001b[0m 5.555   \u001b[0m | \u001b[0m 8.638   \u001b[0m | \u001b[0m 41.42   \u001b[0m |\n",
      "| \u001b[0m 9       \u001b[0m | \u001b[0m 89.39   \u001b[0m | \u001b[0m 0.04945 \u001b[0m | \u001b[0m 53.59   \u001b[0m | \u001b[0m 6.638   \u001b[0m | \u001b[0m 5.149   \u001b[0m | \u001b[0m 7.612   \u001b[0m | \u001b[0m 7.452   \u001b[0m | \u001b[0m 10.94   \u001b[0m | \u001b[0m 13.75   \u001b[0m |\n",
      "| \u001b[95m 10      \u001b[0m | \u001b[95m 91.69   \u001b[0m | \u001b[95m 0.1379  \u001b[0m | \u001b[95m 80.74   \u001b[0m | \u001b[95m 3.977   \u001b[0m | \u001b[95m 1.654   \u001b[0m | \u001b[95m 7.493   \u001b[0m | \u001b[95m 4.825   \u001b[0m | \u001b[95m 9.259   \u001b[0m | \u001b[95m 72.6    \u001b[0m |\n",
      "| \u001b[0m 11      \u001b[0m | \u001b[0m 91.15   \u001b[0m | \u001b[0m 0.8996  \u001b[0m | \u001b[0m 95.18   \u001b[0m | \u001b[0m 9.181   \u001b[0m | \u001b[0m 3.227   \u001b[0m | \u001b[0m 6.661   \u001b[0m | \u001b[0m 11.08   \u001b[0m | \u001b[0m 5.039   \u001b[0m | \u001b[0m 69.01   \u001b[0m |\n",
      "| \u001b[0m 12      \u001b[0m | \u001b[0m 90.13   \u001b[0m | \u001b[0m 0.7974  \u001b[0m | \u001b[0m 15.18   \u001b[0m | \u001b[0m 3.237   \u001b[0m | \u001b[0m 4.322   \u001b[0m | \u001b[0m 7.715   \u001b[0m | \u001b[0m 8.121   \u001b[0m | \u001b[0m 6.984   \u001b[0m | \u001b[0m 94.76   \u001b[0m |\n",
      "| \u001b[0m 13      \u001b[0m | \u001b[0m 90.87   \u001b[0m | \u001b[0m 0.28    \u001b[0m | \u001b[0m 83.68   \u001b[0m | \u001b[0m 0.1909  \u001b[0m | \u001b[0m 2.006   \u001b[0m | \u001b[0m 3.429   \u001b[0m | \u001b[0m 1.603   \u001b[0m | \u001b[0m 6.838   \u001b[0m | \u001b[0m 40.95   \u001b[0m |\n",
      "| \u001b[95m 14      \u001b[0m | \u001b[95m 91.82   \u001b[0m | \u001b[95m 0.3623  \u001b[0m | \u001b[95m 46.92   \u001b[0m | \u001b[95m 5.373   \u001b[0m | \u001b[95m 2.653   \u001b[0m | \u001b[95m 7.964   \u001b[0m | \u001b[95m 3.462   \u001b[0m | \u001b[95m 3.77    \u001b[0m | \u001b[95m 89.39   \u001b[0m |\n",
      "| \u001b[0m 15      \u001b[0m | \u001b[0m 89.64   \u001b[0m | \u001b[0m 0.1273  \u001b[0m | \u001b[0m 2.083   \u001b[0m | \u001b[0m 8.872   \u001b[0m | \u001b[0m 7.994   \u001b[0m | \u001b[0m 6.618   \u001b[0m | \u001b[0m 6.185   \u001b[0m | \u001b[0m 10.09   \u001b[0m | \u001b[0m 60.05   \u001b[0m |\n",
      "| \u001b[0m 16      \u001b[0m | \u001b[0m 89.16   \u001b[0m | \u001b[0m 0.9449  \u001b[0m | \u001b[0m 50.8    \u001b[0m | \u001b[0m 3.294   \u001b[0m | \u001b[0m 5.376   \u001b[0m | \u001b[0m 5.139   \u001b[0m | \u001b[0m 7.079   \u001b[0m | \u001b[0m 7.993   \u001b[0m | \u001b[0m 88.04   \u001b[0m |\n",
      "| \u001b[0m 17      \u001b[0m | \u001b[0m 88.82   \u001b[0m | \u001b[0m 0.09027 \u001b[0m | \u001b[0m 46.61   \u001b[0m | \u001b[0m 1.003   \u001b[0m | \u001b[0m 7.06    \u001b[0m | \u001b[0m 4.6     \u001b[0m | \u001b[0m 6.36    \u001b[0m | \u001b[0m 11.8    \u001b[0m | \u001b[0m 19.81   \u001b[0m |\n",
      "| \u001b[0m 18      \u001b[0m | \u001b[0m 88.98   \u001b[0m | \u001b[0m 0.08163 \u001b[0m | \u001b[0m 24.96   \u001b[0m | \u001b[0m 2.219   \u001b[0m | \u001b[0m 8.699   \u001b[0m | \u001b[0m 2.599   \u001b[0m | \u001b[0m 5.573   \u001b[0m | \u001b[0m 5.179   \u001b[0m | \u001b[0m 94.97   \u001b[0m |\n",
      "| \u001b[0m 19      \u001b[0m | \u001b[0m 90.76   \u001b[0m | \u001b[0m 0.2393  \u001b[0m | \u001b[0m 84.02   \u001b[0m | \u001b[0m 8.518   \u001b[0m | \u001b[0m 5.874   \u001b[0m | \u001b[0m 2.388   \u001b[0m | \u001b[0m 2.221   \u001b[0m | \u001b[0m 8.923   \u001b[0m | \u001b[0m 62.17   \u001b[0m |\n",
      "| \u001b[0m 20      \u001b[0m | \u001b[0m 90.17   \u001b[0m | \u001b[0m 0.3013  \u001b[0m | \u001b[0m 50.42   \u001b[0m | \u001b[0m 0.02496 \u001b[0m | \u001b[0m 8.423   \u001b[0m | \u001b[0m 6.058   \u001b[0m | \u001b[0m 3.547   \u001b[0m | \u001b[0m 1.452   \u001b[0m | \u001b[0m 76.37   \u001b[0m |\n",
      "| \u001b[0m 21      \u001b[0m | \u001b[0m 91.42   \u001b[0m | \u001b[0m 0.1497  \u001b[0m | \u001b[0m 38.96   \u001b[0m | \u001b[0m 7.288   \u001b[0m | \u001b[0m 6.121   \u001b[0m | \u001b[0m 7.866   \u001b[0m | \u001b[0m 3.209   \u001b[0m | \u001b[0m 6.991   \u001b[0m | \u001b[0m 11.58   \u001b[0m |\n",
      "| \u001b[0m 22      \u001b[0m | \u001b[0m 88.26   \u001b[0m | \u001b[0m 0.6398  \u001b[0m | \u001b[0m 85.62   \u001b[0m | \u001b[0m 3.537   \u001b[0m | \u001b[0m 2.252   \u001b[0m | \u001b[0m 4.368   \u001b[0m | \u001b[0m 6.032   \u001b[0m | \u001b[0m 11.05   \u001b[0m | \u001b[0m 41.2    \u001b[0m |\n",
      "| \u001b[0m 23      \u001b[0m | \u001b[0m 91.14   \u001b[0m | \u001b[0m 0.319   \u001b[0m | \u001b[0m 15.19   \u001b[0m | \u001b[0m 4.066   \u001b[0m | \u001b[0m 7.223   \u001b[0m | \u001b[0m 1.308   \u001b[0m | \u001b[0m 4.426   \u001b[0m | \u001b[0m 2.622   \u001b[0m | \u001b[0m 2.782   \u001b[0m |\n",
      "| \u001b[0m 24      \u001b[0m | \u001b[0m 91.15   \u001b[0m | \u001b[0m 0.02997 \u001b[0m | \u001b[0m 93.65   \u001b[0m | \u001b[0m 6.818   \u001b[0m | \u001b[0m 2.908   \u001b[0m | \u001b[0m 6.505   \u001b[0m | \u001b[0m 10.61   \u001b[0m | \u001b[0m 5.121   \u001b[0m | \u001b[0m 69.36   \u001b[0m |\n",
      "| \u001b[0m 25      \u001b[0m | \u001b[0m 90.77   \u001b[0m | \u001b[0m 0.9725  \u001b[0m | \u001b[0m 46.78   \u001b[0m | \u001b[0m 5.462   \u001b[0m | \u001b[0m 1.722   \u001b[0m | \u001b[0m 6.572   \u001b[0m | \u001b[0m 5.938   \u001b[0m | \u001b[0m 3.593   \u001b[0m | \u001b[0m 90.39   \u001b[0m |\n",
      "| \u001b[0m 26      \u001b[0m | \u001b[0m 90.88   \u001b[0m | \u001b[0m 0.2316  \u001b[0m | \u001b[0m 45.32   \u001b[0m | \u001b[0m 6.981   \u001b[0m | \u001b[0m 3.57    \u001b[0m | \u001b[0m 5.528   \u001b[0m | \u001b[0m 2.295   \u001b[0m | \u001b[0m 2.09    \u001b[0m | \u001b[0m 87.55   \u001b[0m |\n",
      "| \u001b[0m 27      \u001b[0m | \u001b[0m 90.73   \u001b[0m | \u001b[0m 0.1666  \u001b[0m | \u001b[0m 82.2    \u001b[0m | \u001b[0m 5.198   \u001b[0m | \u001b[0m 2.69    \u001b[0m | \u001b[0m 6.275   \u001b[0m | \u001b[0m 4.549   \u001b[0m | \u001b[0m 8.957   \u001b[0m | \u001b[0m 70.04   \u001b[0m |\n",
      "| \u001b[0m 28      \u001b[0m | \u001b[0m 89.91   \u001b[0m | \u001b[0m 0.1202  \u001b[0m | \u001b[0m 82.04   \u001b[0m | \u001b[0m 3.255   \u001b[0m | \u001b[0m 0.6847  \u001b[0m | \u001b[0m 8.0     \u001b[0m | \u001b[0m 6.548   \u001b[0m | \u001b[0m 8.65    \u001b[0m | \u001b[0m 74.98   \u001b[0m |\n",
      "| \u001b[0m 29      \u001b[0m | \u001b[0m 91.78   \u001b[0m | \u001b[0m 0.02196 \u001b[0m | \u001b[0m 45.96   \u001b[0m | \u001b[0m 5.679   \u001b[0m | \u001b[0m 1.657   \u001b[0m | \u001b[0m 8.0     \u001b[0m | \u001b[0m 1.794   \u001b[0m | \u001b[0m 2.72    \u001b[0m | \u001b[0m 90.12   \u001b[0m |\n",
      "| \u001b[0m 30      \u001b[0m | \u001b[0m 91.08   \u001b[0m | \u001b[0m 0.9505  \u001b[0m | \u001b[0m 46.61   \u001b[0m | \u001b[0m 2.442   \u001b[0m | \u001b[0m 1.143   \u001b[0m | \u001b[0m 4.876   \u001b[0m | \u001b[0m 1.145   \u001b[0m | \u001b[0m 3.971   \u001b[0m | \u001b[0m 88.4    \u001b[0m |\n",
      "| \u001b[0m 31      \u001b[0m | \u001b[0m 91.38   \u001b[0m | \u001b[0m 0.001777\u001b[0m | \u001b[0m 48.84   \u001b[0m | \u001b[0m 5.324   \u001b[0m | \u001b[0m 1.41    \u001b[0m | \u001b[0m 8.0     \u001b[0m | \u001b[0m 1.231   \u001b[0m | \u001b[0m 3.178   \u001b[0m | \u001b[0m 88.61   \u001b[0m |\n",
      "| \u001b[0m 32      \u001b[0m | \u001b[0m 91.57   \u001b[0m | \u001b[0m 0.1355  \u001b[0m | \u001b[0m 78.02   \u001b[0m | \u001b[0m 3.827   \u001b[0m | \u001b[0m 1.944   \u001b[0m | \u001b[0m 7.887   \u001b[0m | \u001b[0m 3.034   \u001b[0m | \u001b[0m 10.22   \u001b[0m | \u001b[0m 71.91   \u001b[0m |\n",
      "| \u001b[0m 33      \u001b[0m | \u001b[0m 91.31   \u001b[0m | \u001b[0m 0.1173  \u001b[0m | \u001b[0m 80.01   \u001b[0m | \u001b[0m 1.83    \u001b[0m | \u001b[0m 4.248   \u001b[0m | \u001b[0m 7.387   \u001b[0m | \u001b[0m 4.298   \u001b[0m | \u001b[0m 11.47   \u001b[0m | \u001b[0m 72.26   \u001b[0m |\n",
      "| \u001b[0m 34      \u001b[0m | \u001b[0m 90.87   \u001b[0m | \u001b[0m 0.9151  \u001b[0m | \u001b[0m 81.01   \u001b[0m | \u001b[0m 5.289   \u001b[0m | \u001b[0m 2.049   \u001b[0m | \u001b[0m 8.0     \u001b[0m | \u001b[0m 1.645   \u001b[0m | \u001b[0m 11.51   \u001b[0m | \u001b[0m 73.64   \u001b[0m |\n",
      "| \u001b[0m 35      \u001b[0m | \u001b[0m 90.53   \u001b[0m | \u001b[0m 0.2121  \u001b[0m | \u001b[0m 77.85   \u001b[0m | \u001b[0m 3.009   \u001b[0m | \u001b[0m 1.953   \u001b[0m | \u001b[0m 4.389   \u001b[0m | \u001b[0m 4.783   \u001b[0m | \u001b[0m 8.729   \u001b[0m | \u001b[0m 72.42   \u001b[0m |\n",
      "| \u001b[0m 36      \u001b[0m | \u001b[0m 91.69   \u001b[0m | \u001b[0m 0.0     \u001b[0m | \u001b[0m 46.41   \u001b[0m | \u001b[0m 4.084   \u001b[0m | \u001b[0m 4.54    \u001b[0m | \u001b[0m 8.0     \u001b[0m | \u001b[0m 1.0     \u001b[0m | \u001b[0m 4.166   \u001b[0m | \u001b[0m 91.33   \u001b[0m |\n",
      "| \u001b[0m 37      \u001b[0m | \u001b[0m 91.35   \u001b[0m | \u001b[0m 0.0     \u001b[0m | \u001b[0m 45.24   \u001b[0m | \u001b[0m 6.042   \u001b[0m | \u001b[0m 2.012   \u001b[0m | \u001b[0m 8.0     \u001b[0m | \u001b[0m 1.073   \u001b[0m | \u001b[0m 6.802   \u001b[0m | \u001b[0m 89.83   \u001b[0m |\n",
      "| \u001b[0m 38      \u001b[0m | \u001b[0m 91.13   \u001b[0m | \u001b[0m 0.0     \u001b[0m | \u001b[0m 43.38   \u001b[0m | \u001b[0m 2.39    \u001b[0m | \u001b[0m 3.284   \u001b[0m | \u001b[0m 8.0     \u001b[0m | \u001b[0m 2.639   \u001b[0m | \u001b[0m 3.26    \u001b[0m | \u001b[0m 89.22   \u001b[0m |\n",
      "| \u001b[95m 39      \u001b[0m | \u001b[95m 92.23   \u001b[0m | \u001b[95m 0.0     \u001b[0m | \u001b[95m 47.81   \u001b[0m | \u001b[95m 8.443   \u001b[0m | \u001b[95m 4.024   \u001b[0m | \u001b[95m 8.0     \u001b[0m | \u001b[95m 1.685   \u001b[0m | \u001b[95m 3.556   \u001b[0m | \u001b[95m 92.46   \u001b[0m |\n",
      "| \u001b[0m 40      \u001b[0m | \u001b[0m 91.69   \u001b[0m | \u001b[0m 0.0     \u001b[0m | \u001b[0m 48.22   \u001b[0m | \u001b[0m 6.722   \u001b[0m | \u001b[0m 1.98    \u001b[0m | \u001b[0m 8.0     \u001b[0m | \u001b[0m 1.0     \u001b[0m | \u001b[0m 3.547   \u001b[0m | \u001b[0m 95.52   \u001b[0m |\n",
      "=========================================================================================================================\n",
      "92.23425196865387\n",
      "Prev Inven : 8, Var Sale : 4, Var Product : 2\n"
     ]
    }
   ],
   "source": [
    "for current in np.arange(202101, 202117):#np.max(y_inven['ww'].values)\n",
    "    dt_current = (dt_table.index[dt_table['ww'] == current].tolist()[0])-1\n",
    "    pred_ww = dt_table['ww'].loc[dt_current+1:].values.tolist()\n",
    "    opt_set = d_set.iloc[:d_set.index[d_set['ww'] == dt_table.loc[dt_current].values.tolist()[0]][0]+1,:]\n",
    "\n",
    "    warnings.filterwarnings(action='ignore', category=UserWarning)\n",
    "    param_bound = {'theta1' : (0, 10), 'g_alpha' : (0.0,0.99) , 'k_dot' : (0, 100), 'w_noise' : (0.0, 100), 'rbf_l' : (0, 10), \n",
    "                   'tmp_prev_inven_col' : (1,8), 'tmp_var_sale_col' : (1, 12), 'tmp_var_product_col' : (1, 12)}\n",
    "\n",
    "    product_optimizer = BayesianOptimization(f=h_opt, pbounds=param_bound, verbose=2, random_state=1)\n",
    "    product_optimizer.maximize(init_points=10, n_iter=30)\n",
    "    print(product_optimizer.max['target'])\n",
    "\n",
    "    g_alpha = product_optimizer.max['params']['g_alpha']\n",
    "    k_dot = product_optimizer.max['params']['k_dot']\n",
    "    rbf_l = product_optimizer.max['params']['rbf_l']\n",
    "    theta1 =product_optimizer.max['params']['theta1']\n",
    "    prev_inven_col = round(product_optimizer.max['params']['tmp_prev_inven_col'])\n",
    "    var_product_col = round(product_optimizer.max['params']['tmp_var_product_col'])\n",
    "    var_sale_col = round(product_optimizer.max['params']['tmp_var_sale_col'])\n",
    "    w_noise = product_optimizer.max['params']['w_noise']\n",
    "    print(\"Prev Inven : %d, Var Sale : %d, Var Product : %d\"%(prev_inven_col, var_sale_col, var_product_col))\n",
    "\n",
    "    train_set = opt_set\n",
    "\n",
    "    prev_inven_name   = [s for s in train_set.columns.values if 'prev_inven_' in s]    \n",
    "    var_sale_name     = [s for s in train_set.columns.values if 'sales_prev_' in s]\n",
    "    var_product_name  = [s for s in train_set.columns.values if 'product_prev_' in s]\n",
    "    train_x_name = prev_inven_name[:prev_inven_col]+var_sale_name[:var_sale_col]+var_product_name[:var_product_col]\n",
    "    kernel =  theta1 * RBF(rbf_l) + WhiteKernel(w_noise)  + DotProduct(k_dot) ## RBF(2) + WhiteKernel(1)  + \n",
    "    gp = GaussianProcessRegressor(kernel=kernel, alpha=g_alpha, n_restarts_optimizer=3)\n",
    "    gp.fit(train_set[train_x_name], train_set['inven'])\n",
    "\n",
    "    train_pred, train_sigma = gp.predict(train_set[train_x_name], return_std=True)\n",
    "\n",
    "    current_ind = prod_plan.index[prod_plan['ww'] == current].tolist()[0]\n",
    "    for i in range(0,var_product_col):\n",
    "        #print(prod_plan.loc[current_ind-i])\n",
    "        tmp_split = [x.split(\":\") for x in prod_plan['target_ww'].loc[current_ind-i].split(\"/\")]\n",
    "        tmp_split_df = pd.DataFrame(tmp_split)\n",
    "        tmp_split_df.columns = ['ww', 'product_prev'+str(i+1)]\n",
    "        tmp_ww_ind = [tmp_split_df['ww'].values.tolist().index(str(x)) for i, x in enumerate(pred_ww) if str(x) in tmp_split_df['ww'].values]\n",
    "        tmp_prod_plan_test = tmp_split_df.iloc[tmp_ww_ind,:].reset_index(drop=True)    \n",
    "        if i == 0 :\n",
    "            prod_plan_test = tmp_prod_plan_test\n",
    "        else:\n",
    "            prod_plan_test = pd.merge(prod_plan_test, tmp_prod_plan_test, how='inner', on='ww')\n",
    "\n",
    "    current_ind = sale_plan.index[sale_plan['ww'] == dt_table['ww'].loc[dt_current-2]].tolist()[0]\n",
    "    #current_ind = sale_plan.index[sale_plan['ww'] == current].tolist()[0]\n",
    "    for i in range(0,var_sale_col):\n",
    "        #print(prod_plan.loc[current_ind-i])\n",
    "        tmp_split = [x.split(\":\") for x in sale_plan['target_ww'].loc[current_ind-i].split(\"/\")]\n",
    "        tmp_split_df = pd.DataFrame(tmp_split)\n",
    "        tmp_split_df.columns = ['ww', 'sales_prev'+str(i+1)]    \n",
    "        tmp_split_df['ww'] = [str(dt_table['ww'].loc[dt_table.index[dt_table['ww']==int(tmp_split_df['ww'][x])].tolist()[0]+2]) for x in range(0, tmp_split_df.shape[0])]    \n",
    "        tmp_ww_ind = [tmp_split_df['ww'].values.tolist().index(str(x)) for i, x in enumerate(pred_ww) if str(x) in tmp_split_df['ww'].values]    \n",
    "        tmp_sale_plan_test = tmp_split_df.iloc[tmp_ww_ind,:].reset_index(drop=True)      \n",
    "        if i == 0 :\n",
    "            sale_plan_test = tmp_sale_plan_test\n",
    "        else:\n",
    "            sale_plan_test = pd.merge(sale_plan_test, tmp_sale_plan_test, how='left', on='ww')\n",
    "    test_x = pd.merge(sale_plan_test, prod_plan_test, how='inner', on='ww')\n",
    "    test_x = test_x.astype('float')\n",
    "    test_x = test_x.astype({'ww': 'int'})       \n",
    "\n",
    "    test_inven_init = np.array(train_set[['inven']+['prev_inven_'+str(x) for x in range(1,prev_inven_col)]][train_set['ww']==dt_table['ww'].loc[dt_current]]).reshape(-1)\n",
    "    rslt_set, test_pred, test_sigma = [], [], []\n",
    "    for i in range(0, test_x.shape[0]):    \n",
    "        tmp_pred_inven_mean, tmp_pred_inven_std = gp.predict(np.concatenate([test_inven_init, test_x.iloc[i,1:]]).reshape(1,-1), return_std=True)\n",
    "        test_pred.append(tmp_pred_inven_mean[0])\n",
    "        test_sigma.append(tmp_pred_inven_std[0])\n",
    "        tmp_rslt = np.concatenate([tmp_pred_inven_mean, test_inven_init, test_x.iloc[i,1:]])\n",
    "        test_inven_init = np.insert(test_inven_init, 0, tmp_pred_inven_mean)[:prev_inven_col]\n",
    "        rslt_set.append(tmp_rslt)\n",
    "    rslt_set = pd.DataFrame(rslt_set)\n",
    "    rslt_set['ww'] = test_x['ww']\n",
    "    ww_col = rslt_set.columns[-1:].to_list()\n",
    "    x_col = rslt_set.columns[:-1].to_list()\n",
    "    set_col = ww_col + x_col\n",
    "    rslt_set = rslt_set[set_col]\n",
    "    rslt_set.columns = list(['ww','pred_inven'])+train_x_name #total_set.columns\n",
    "\n",
    "    tmp_train_set = train_set[['ww','inven']].copy()\n",
    "    tmp_train_set['inven_pred'] = train_pred\n",
    "    tmp_train_set.head()\n",
    "    tmp_test_set = pd.DataFrame({'ww' :  pred_ww[:len(test_pred)], \n",
    "                                 'inven' : np.repeat(-999, len(test_pred)),\n",
    "                                 'inven_pred' : test_pred})\n",
    "    tmp_day_set = pd.concat([tmp_train_set, tmp_test_set])\n",
    "    tmp_day_set = tmp_day_set.reset_index(drop=True)\n",
    "\n",
    "    tmp_train_sale = pd.merge(train_set['ww'], sale_rslt[['ww','sale']], how='inner', on='ww')\n",
    "    tmp_test_sale = pd.DataFrame([x.split(':') for x in sale_plan['target_ww'][sale_plan['ww']==current].values.tolist()[0].split('/')])\n",
    "    tmp_test_sale.columns = ['ww', 'sale']\n",
    "    tmp_sale = pd.concat([tmp_train_sale, tmp_test_sale])\n",
    "    tmp_sale = tmp_sale.astype({'ww': 'int'})  \n",
    "    day_set = pd.merge(tmp_day_set, tmp_sale, how='inner', on='ww')\n",
    "    day_set = day_set.astype({'sale' : 'float'})\n",
    "    day_set_nonzero = day_set.copy()\n",
    "    sale_col = np.where(day_set_nonzero.columns.values =='sale')[0][0]\n",
    "    for i in range(0, day_set_nonzero.shape[0]):\n",
    "        tmp_ids = i-1 if i-1 > 0 else 0    \n",
    "        if day_set_nonzero['sale'].loc[i] == 0:        \n",
    "            day_set_nonzero.iloc[i, sale_col] = day_set_nonzero.iloc[tmp_ids, sale_col]\n",
    "            \n",
    "    inven_d = []\n",
    "    for i in range(0, day_set_nonzero.shape[0]):\n",
    "        if i > 0 and i < day_set_nonzero.shape[0]-3:\n",
    "            tmp_sale_avg = np.mean(day_set_nonzero['sale'][i:(i+4)].values)\n",
    "            if i < day_set_nonzero[day_set_nonzero['ww'] == current].index[0] :\n",
    "                tmp_inven = day_set_nonzero['inven'][i-1]    \n",
    "            else:\n",
    "                tmp_inven = day_set_nonzero['inven_pred'][i-1]    \n",
    "            inven_d.append(round(tmp_inven / tmp_sale_avg * 6.76,1))\n",
    "        else:\n",
    "            inven_d.append(0)\n",
    "    day_set_nonzero['inven_d'] = inven_d  \n",
    "\n",
    "    insert_day_sql = \"insert into inven_day values (%s, %s)\"\n",
    "    conn = _call_db_info('gscm_e61d')\n",
    "    curs = conn.cursor()\n",
    "    inven_day_rslt = [current, str('/'.join(list(map(lambda x : ':'.join([str(x) for x in day_set_nonzero.loc[x]]), range(0, day_set_nonzero.shape[0])))))]\n",
    "    curs.execute(insert_day_sql, inven_day_rslt) \n",
    "    conn.commit()\n",
    "    conn.close()"
   ]
  },
  {
   "cell_type": "code",
   "execution_count": 5,
   "id": "02fbce69",
   "metadata": {},
   "outputs": [],
   "source": [
    "current = 202101#np.max(y_inven['ww'].values)"
   ]
  },
  {
   "cell_type": "code",
   "execution_count": 6,
   "id": "944459a4",
   "metadata": {
    "scrolled": true
   },
   "outputs": [
    {
     "name": "stdout",
     "output_type": "stream",
     "text": [
      "|   iter    |  target   |  g_alpha  |   k_dot   |   rbf_l   |  theta1   | tmp_pr... | tmp_va... | tmp_va... |  w_noise  |\n",
      "-------------------------------------------------------------------------------------------------------------------------\n",
      "| \u001b[0m 1       \u001b[0m | \u001b[0m 83.09   \u001b[0m | \u001b[0m 0.4129  \u001b[0m | \u001b[0m 72.03   \u001b[0m | \u001b[0m 0.001144\u001b[0m | \u001b[0m 3.023   \u001b[0m | \u001b[0m 2.027   \u001b[0m | \u001b[0m 2.016   \u001b[0m | \u001b[0m 3.049   \u001b[0m | \u001b[0m 34.56   \u001b[0m |\n",
      "| \u001b[0m 2       \u001b[0m | \u001b[0m 80.38   \u001b[0m | \u001b[0m 0.3928  \u001b[0m | \u001b[0m 53.88   \u001b[0m | \u001b[0m 4.192   \u001b[0m | \u001b[0m 6.852   \u001b[0m | \u001b[0m 2.431   \u001b[0m | \u001b[0m 10.66   \u001b[0m | \u001b[0m 1.301   \u001b[0m | \u001b[0m 67.05   \u001b[0m |\n",
      "| \u001b[0m 3       \u001b[0m | \u001b[0m 76.5    \u001b[0m | \u001b[0m 0.4131  \u001b[0m | \u001b[0m 55.87   \u001b[0m | \u001b[0m 1.404   \u001b[0m | \u001b[0m 1.981   \u001b[0m | \u001b[0m 6.605   \u001b[0m | \u001b[0m 11.65   \u001b[0m | \u001b[0m 4.448   \u001b[0m | \u001b[0m 69.23   \u001b[0m |\n",
      "| \u001b[0m 4       \u001b[0m | \u001b[0m 77.5    \u001b[0m | \u001b[0m 0.8676  \u001b[0m | \u001b[0m 89.46   \u001b[0m | \u001b[0m 0.8504  \u001b[0m | \u001b[0m 0.3905  \u001b[0m | \u001b[0m 2.189   \u001b[0m | \u001b[0m 10.66   \u001b[0m | \u001b[0m 2.082   \u001b[0m | \u001b[0m 42.11   \u001b[0m |\n",
      "| \u001b[0m 5       \u001b[0m | \u001b[0m 74.83   \u001b[0m | \u001b[0m 0.9483  \u001b[0m | \u001b[0m 53.32   \u001b[0m | \u001b[0m 6.919   \u001b[0m | \u001b[0m 3.155   \u001b[0m | \u001b[0m 5.806   \u001b[0m | \u001b[0m 10.18   \u001b[0m | \u001b[0m 1.201   \u001b[0m | \u001b[0m 75.01   \u001b[0m |\n",
      "| \u001b[0m 6       \u001b[0m | \u001b[0m 79.74   \u001b[0m | \u001b[0m 0.979   \u001b[0m | \u001b[0m 74.82   \u001b[0m | \u001b[0m 2.804   \u001b[0m | \u001b[0m 7.893   \u001b[0m | \u001b[0m 1.723   \u001b[0m | \u001b[0m 5.927   \u001b[0m | \u001b[0m 10.99   \u001b[0m | \u001b[0m 29.36   \u001b[0m |\n",
      "| \u001b[95m 7       \u001b[0m | \u001b[95m 85.55   \u001b[0m | \u001b[95m 0.2849  \u001b[0m | \u001b[95m 13.0    \u001b[0m | \u001b[95m 0.1937  \u001b[0m | \u001b[95m 6.788   \u001b[0m | \u001b[95m 2.481   \u001b[0m | \u001b[95m 3.921   \u001b[0m | \u001b[95m 6.407   \u001b[0m | \u001b[95m 5.336   \u001b[0m |\n",
      "| \u001b[0m 8       \u001b[0m | \u001b[0m 80.48   \u001b[0m | \u001b[0m 0.5684  \u001b[0m | \u001b[0m 14.67   \u001b[0m | \u001b[0m 5.893   \u001b[0m | \u001b[0m 6.998   \u001b[0m | \u001b[0m 1.716   \u001b[0m | \u001b[0m 5.555   \u001b[0m | \u001b[0m 8.638   \u001b[0m | \u001b[0m 41.42   \u001b[0m |\n",
      "| \u001b[0m 9       \u001b[0m | \u001b[0m 77.01   \u001b[0m | \u001b[0m 0.04945 \u001b[0m | \u001b[0m 53.59   \u001b[0m | \u001b[0m 6.638   \u001b[0m | \u001b[0m 5.149   \u001b[0m | \u001b[0m 7.612   \u001b[0m | \u001b[0m 7.452   \u001b[0m | \u001b[0m 10.94   \u001b[0m | \u001b[0m 13.75   \u001b[0m |\n",
      "| \u001b[0m 10      \u001b[0m | \u001b[0m 79.97   \u001b[0m | \u001b[0m 0.1379  \u001b[0m | \u001b[0m 80.74   \u001b[0m | \u001b[0m 3.977   \u001b[0m | \u001b[0m 1.654   \u001b[0m | \u001b[0m 7.493   \u001b[0m | \u001b[0m 4.825   \u001b[0m | \u001b[0m 9.259   \u001b[0m | \u001b[0m 72.6    \u001b[0m |\n",
      "| \u001b[0m 11      \u001b[0m | \u001b[0m 76.02   \u001b[0m | \u001b[0m 0.8996  \u001b[0m | \u001b[0m 95.18   \u001b[0m | \u001b[0m 9.181   \u001b[0m | \u001b[0m 3.227   \u001b[0m | \u001b[0m 6.661   \u001b[0m | \u001b[0m 11.08   \u001b[0m | \u001b[0m 5.039   \u001b[0m | \u001b[0m 69.01   \u001b[0m |\n",
      "| \u001b[0m 12      \u001b[0m | \u001b[0m 83.53   \u001b[0m | \u001b[0m 0.1856  \u001b[0m | \u001b[0m 9.666   \u001b[0m | \u001b[0m 1.281   \u001b[0m | \u001b[0m 5.6     \u001b[0m | \u001b[0m 3.058   \u001b[0m | \u001b[0m 3.675   \u001b[0m | \u001b[0m 4.966   \u001b[0m | \u001b[0m 5.943   \u001b[0m |\n"
     ]
    },
    {
     "name": "stderr",
     "output_type": "stream",
     "text": [
      "/opt/conda/envs/rapids/lib/python3.7/site-packages/sklearn/gaussian_process/kernels.py:271: RuntimeWarning: divide by zero encountered in log\n",
      "  return np.log(np.hstack(theta))\n"
     ]
    },
    {
     "name": "stdout",
     "output_type": "stream",
     "text": [
      "| \u001b[0m 13      \u001b[0m | \u001b[0m 84.96   \u001b[0m | \u001b[0m 0.4359  \u001b[0m | \u001b[0m 15.32   \u001b[0m | \u001b[0m 0.0     \u001b[0m | \u001b[0m 8.14    \u001b[0m | \u001b[0m 1.539   \u001b[0m | \u001b[0m 4.38    \u001b[0m | \u001b[0m 8.134   \u001b[0m | \u001b[0m 10.4    \u001b[0m |\n",
      "| \u001b[0m 14      \u001b[0m | \u001b[0m 83.74   \u001b[0m | \u001b[0m 0.3586  \u001b[0m | \u001b[0m 20.69   \u001b[0m | \u001b[0m 0.3982  \u001b[0m | \u001b[0m 3.364   \u001b[0m | \u001b[0m 1.76    \u001b[0m | \u001b[0m 3.648   \u001b[0m | \u001b[0m 4.174   \u001b[0m | \u001b[0m 4.388   \u001b[0m |\n"
     ]
    },
    {
     "name": "stderr",
     "output_type": "stream",
     "text": [
      "/opt/conda/envs/rapids/lib/python3.7/site-packages/sklearn/gaussian_process/kernels.py:271: RuntimeWarning: divide by zero encountered in log\n",
      "  return np.log(np.hstack(theta))\n"
     ]
    },
    {
     "name": "stdout",
     "output_type": "stream",
     "text": [
      "| \u001b[0m 15      \u001b[0m | \u001b[0m 75.2    \u001b[0m | \u001b[0m 0.99    \u001b[0m | \u001b[0m 16.17   \u001b[0m | \u001b[0m 0.0     \u001b[0m | \u001b[0m 10.0    \u001b[0m | \u001b[0m 1.0     \u001b[0m | \u001b[0m 9.178   \u001b[0m | \u001b[0m 12.0    \u001b[0m | \u001b[0m 1.39    \u001b[0m |\n"
     ]
    },
    {
     "name": "stderr",
     "output_type": "stream",
     "text": [
      "/opt/conda/envs/rapids/lib/python3.7/site-packages/sklearn/gaussian_process/kernels.py:271: RuntimeWarning: divide by zero encountered in log\n",
      "  return np.log(np.hstack(theta))\n"
     ]
    },
    {
     "name": "stdout",
     "output_type": "stream",
     "text": [
      "| \u001b[0m 16      \u001b[0m | \u001b[0m 84.58   \u001b[0m | \u001b[0m 0.0     \u001b[0m | \u001b[0m 15.94   \u001b[0m | \u001b[0m 0.0     \u001b[0m | \u001b[0m 6.991   \u001b[0m | \u001b[0m 3.247   \u001b[0m | \u001b[0m 1.0     \u001b[0m | \u001b[0m 3.381   \u001b[0m | \u001b[0m 8.385   \u001b[0m |\n"
     ]
    },
    {
     "name": "stderr",
     "output_type": "stream",
     "text": [
      "/opt/conda/envs/rapids/lib/python3.7/site-packages/sklearn/gaussian_process/kernels.py:271: RuntimeWarning: divide by zero encountered in log\n",
      "  return np.log(np.hstack(theta))\n"
     ]
    },
    {
     "name": "stdout",
     "output_type": "stream",
     "text": [
      "| \u001b[0m 17      \u001b[0m | \u001b[0m 80.62   \u001b[0m | \u001b[0m 0.0     \u001b[0m | \u001b[0m 14.81   \u001b[0m | \u001b[0m 0.0     \u001b[0m | \u001b[0m 2.184   \u001b[0m | \u001b[0m 1.0     \u001b[0m | \u001b[0m 1.0     \u001b[0m | \u001b[0m 8.559   \u001b[0m | \u001b[0m 8.029   \u001b[0m |\n"
     ]
    },
    {
     "name": "stderr",
     "output_type": "stream",
     "text": [
      "/opt/conda/envs/rapids/lib/python3.7/site-packages/sklearn/gaussian_process/kernels.py:271: RuntimeWarning: divide by zero encountered in log\n",
      "  return np.log(np.hstack(theta))\n"
     ]
    },
    {
     "name": "stdout",
     "output_type": "stream",
     "text": [
      "| \u001b[0m 18      \u001b[0m | \u001b[0m 79.08   \u001b[0m | \u001b[0m 0.6462  \u001b[0m | \u001b[0m 15.19   \u001b[0m | \u001b[0m 0.0     \u001b[0m | \u001b[0m 7.281   \u001b[0m | \u001b[0m 1.939   \u001b[0m | \u001b[0m 7.06    \u001b[0m | \u001b[0m 2.534   \u001b[0m | \u001b[0m 8.093   \u001b[0m |\n",
      "| \u001b[0m 19      \u001b[0m | \u001b[0m 79.94   \u001b[0m | \u001b[0m 0.8747  \u001b[0m | \u001b[0m 13.76   \u001b[0m | \u001b[0m 0.991   \u001b[0m | \u001b[0m 6.522   \u001b[0m | \u001b[0m 6.063   \u001b[0m | \u001b[0m 1.867   \u001b[0m | \u001b[0m 5.516   \u001b[0m | \u001b[0m 5.129   \u001b[0m |\n"
     ]
    },
    {
     "name": "stderr",
     "output_type": "stream",
     "text": [
      "/opt/conda/envs/rapids/lib/python3.7/site-packages/sklearn/gaussian_process/kernels.py:271: RuntimeWarning: divide by zero encountered in log\n",
      "  return np.log(np.hstack(theta))\n"
     ]
    },
    {
     "name": "stdout",
     "output_type": "stream",
     "text": [
      "| \u001b[0m 20      \u001b[0m | \u001b[0m 78.49   \u001b[0m | \u001b[0m 0.0     \u001b[0m | \u001b[0m 13.2    \u001b[0m | \u001b[0m 0.0     \u001b[0m | \u001b[0m 8.067   \u001b[0m | \u001b[0m 1.0     \u001b[0m | \u001b[0m 2.094   \u001b[0m | \u001b[0m 6.327   \u001b[0m | \u001b[0m 8.053   \u001b[0m |\n",
      "| \u001b[0m 21      \u001b[0m | \u001b[0m 80.06   \u001b[0m | \u001b[0m 0.7548  \u001b[0m | \u001b[0m 14.58   \u001b[0m | \u001b[0m 0.5118  \u001b[0m | \u001b[0m 6.233   \u001b[0m | \u001b[0m 2.492   \u001b[0m | \u001b[0m 5.906   \u001b[0m | \u001b[0m 6.313   \u001b[0m | \u001b[0m 5.435   \u001b[0m |\n",
      "| \u001b[0m 22      \u001b[0m | \u001b[0m 77.05   \u001b[0m | \u001b[0m 0.6398  \u001b[0m | \u001b[0m 85.62   \u001b[0m | \u001b[0m 3.537   \u001b[0m | \u001b[0m 2.252   \u001b[0m | \u001b[0m 4.368   \u001b[0m | \u001b[0m 6.032   \u001b[0m | \u001b[0m 11.05   \u001b[0m | \u001b[0m 41.2    \u001b[0m |\n",
      "| \u001b[0m 23      \u001b[0m | \u001b[0m 85.15   \u001b[0m | \u001b[0m 0.2604  \u001b[0m | \u001b[0m 12.15   \u001b[0m | \u001b[0m 0.4689  \u001b[0m | \u001b[0m 6.471   \u001b[0m | \u001b[0m 2.653   \u001b[0m | \u001b[0m 3.871   \u001b[0m | \u001b[0m 6.044   \u001b[0m | \u001b[0m 5.446   \u001b[0m |\n",
      "| \u001b[95m 24      \u001b[0m | \u001b[95m 85.85   \u001b[0m | \u001b[95m 0.2558  \u001b[0m | \u001b[95m 8.653   \u001b[0m | \u001b[95m 3.005   \u001b[0m | \u001b[95m 6.436   \u001b[0m | \u001b[95m 2.146   \u001b[0m | \u001b[95m 3.642   \u001b[0m | \u001b[95m 7.068   \u001b[0m | \u001b[95m 4.306   \u001b[0m |\n",
      "| \u001b[95m 25      \u001b[0m | \u001b[95m 85.85   \u001b[0m | \u001b[95m 0.1918  \u001b[0m | \u001b[95m 10.76   \u001b[0m | \u001b[95m 1.636   \u001b[0m | \u001b[95m 6.863   \u001b[0m | \u001b[95m 2.118   \u001b[0m | \u001b[95m 3.714   \u001b[0m | \u001b[95m 7.397   \u001b[0m | \u001b[95m 4.114   \u001b[0m |\n",
      "| \u001b[0m 26      \u001b[0m | \u001b[0m 85.55   \u001b[0m | \u001b[0m 0.2742  \u001b[0m | \u001b[0m 5.411   \u001b[0m | \u001b[0m 1.059   \u001b[0m | \u001b[0m 7.375   \u001b[0m | \u001b[0m 1.907   \u001b[0m | \u001b[0m 3.894   \u001b[0m | \u001b[0m 5.99    \u001b[0m | \u001b[0m 5.031   \u001b[0m |\n",
      "| \u001b[0m 27      \u001b[0m | \u001b[0m 80.63   \u001b[0m | \u001b[0m 0.2464  \u001b[0m | \u001b[0m 7.716   \u001b[0m | \u001b[0m 2.313   \u001b[0m | \u001b[0m 7.373   \u001b[0m | \u001b[0m 3.199   \u001b[0m | \u001b[0m 2.014   \u001b[0m | \u001b[0m 8.942   \u001b[0m | \u001b[0m 2.251   \u001b[0m |\n",
      "| \u001b[0m 28      \u001b[0m | \u001b[0m 85.15   \u001b[0m | \u001b[0m 0.9398  \u001b[0m | \u001b[0m 4.871   \u001b[0m | \u001b[0m 4.449   \u001b[0m | \u001b[0m 8.034   \u001b[0m | \u001b[0m 2.946   \u001b[0m | \u001b[0m 3.628   \u001b[0m | \u001b[0m 6.116   \u001b[0m | \u001b[0m 4.531   \u001b[0m |\n",
      "| \u001b[0m 29      \u001b[0m | \u001b[0m 76.53   \u001b[0m | \u001b[0m 0.2985  \u001b[0m | \u001b[0m 7.845   \u001b[0m | \u001b[0m 4.496   \u001b[0m | \u001b[0m 8.052   \u001b[0m | \u001b[0m 4.581   \u001b[0m | \u001b[0m 6.602   \u001b[0m | \u001b[0m 5.782   \u001b[0m | \u001b[0m 4.865   \u001b[0m |\n",
      "| \u001b[0m 30      \u001b[0m | \u001b[0m 82.6    \u001b[0m | \u001b[0m 0.8896  \u001b[0m | \u001b[0m 8.28    \u001b[0m | \u001b[0m 1.087   \u001b[0m | \u001b[0m 7.155   \u001b[0m | \u001b[0m 1.0     \u001b[0m | \u001b[0m 3.536   \u001b[0m | \u001b[0m 6.315   \u001b[0m | \u001b[0m 4.585   \u001b[0m |\n",
      "| \u001b[0m 31      \u001b[0m | \u001b[0m 85.15   \u001b[0m | \u001b[0m 0.4359  \u001b[0m | \u001b[0m 3.582   \u001b[0m | \u001b[0m 3.248   \u001b[0m | \u001b[0m 8.271   \u001b[0m | \u001b[0m 4.779   \u001b[0m | \u001b[0m 4.429   \u001b[0m | \u001b[0m 7.384   \u001b[0m | \u001b[0m 3.053   \u001b[0m |\n",
      "| \u001b[0m 32      \u001b[0m | \u001b[0m 85.82   \u001b[0m | \u001b[0m 0.06985 \u001b[0m | \u001b[0m 4.181   \u001b[0m | \u001b[0m 2.616   \u001b[0m | \u001b[0m 6.412   \u001b[0m | \u001b[0m 2.959   \u001b[0m | \u001b[0m 3.566   \u001b[0m | \u001b[0m 6.932   \u001b[0m | \u001b[0m 4.237   \u001b[0m |\n",
      "| \u001b[0m 33      \u001b[0m | \u001b[0m 82.81   \u001b[0m | \u001b[0m 0.3396  \u001b[0m | \u001b[0m 9.511   \u001b[0m | \u001b[0m 4.102   \u001b[0m | \u001b[0m 4.867   \u001b[0m | \u001b[0m 2.666   \u001b[0m | \u001b[0m 2.572   \u001b[0m | \u001b[0m 7.848   \u001b[0m | \u001b[0m 6.901   \u001b[0m |\n",
      "| \u001b[0m 34      \u001b[0m | \u001b[0m 80.4    \u001b[0m | \u001b[0m 0.9797  \u001b[0m | \u001b[0m 5.16    \u001b[0m | \u001b[0m 0.2536  \u001b[0m | \u001b[0m 7.974   \u001b[0m | \u001b[0m 1.622   \u001b[0m | \u001b[0m 6.37    \u001b[0m | \u001b[0m 7.386   \u001b[0m | \u001b[0m 4.482   \u001b[0m |\n",
      "| \u001b[0m 35      \u001b[0m | \u001b[0m 83.7    \u001b[0m | \u001b[0m 0.2619  \u001b[0m | \u001b[0m 3.356   \u001b[0m | \u001b[0m 4.028   \u001b[0m | \u001b[0m 7.109   \u001b[0m | \u001b[0m 3.855   \u001b[0m | \u001b[0m 1.199   \u001b[0m | \u001b[0m 7.006   \u001b[0m | \u001b[0m 3.233   \u001b[0m |\n",
      "| \u001b[0m 36      \u001b[0m | \u001b[0m 80.25   \u001b[0m | \u001b[0m 0.934   \u001b[0m | \u001b[0m 15.05   \u001b[0m | \u001b[0m 1.758   \u001b[0m | \u001b[0m 6.915   \u001b[0m | \u001b[0m 1.07    \u001b[0m | \u001b[0m 4.64    \u001b[0m | \u001b[0m 8.79    \u001b[0m | \u001b[0m 12.25   \u001b[0m |\n",
      "| \u001b[0m 37      \u001b[0m | \u001b[0m 84.42   \u001b[0m | \u001b[0m 0.3046  \u001b[0m | \u001b[0m 12.56   \u001b[0m | \u001b[0m 3.343   \u001b[0m | \u001b[0m 3.994   \u001b[0m | \u001b[0m 1.635   \u001b[0m | \u001b[0m 2.815   \u001b[0m | \u001b[0m 7.343   \u001b[0m | \u001b[0m 2.587   \u001b[0m |\n",
      "| \u001b[0m 38      \u001b[0m | \u001b[0m 81.11   \u001b[0m | \u001b[0m 0.7369  \u001b[0m | \u001b[0m 5.917   \u001b[0m | \u001b[0m 2.674   \u001b[0m | \u001b[0m 4.084   \u001b[0m | \u001b[0m 3.262   \u001b[0m | \u001b[0m 2.445   \u001b[0m | \u001b[0m 5.887   \u001b[0m | \u001b[0m 6.362   \u001b[0m |\n",
      "| \u001b[0m 39      \u001b[0m | \u001b[0m 82.51   \u001b[0m | \u001b[0m 0.4815  \u001b[0m | \u001b[0m 4.095   \u001b[0m | \u001b[0m 1.169   \u001b[0m | \u001b[0m 6.073   \u001b[0m | \u001b[0m 5.369   \u001b[0m | \u001b[0m 3.273   \u001b[0m | \u001b[0m 4.983   \u001b[0m | \u001b[0m 2.707   \u001b[0m |\n",
      "| \u001b[0m 40      \u001b[0m | \u001b[0m 81.7    \u001b[0m | \u001b[0m 0.8067  \u001b[0m | \u001b[0m 5.775   \u001b[0m | \u001b[0m 2.642   \u001b[0m | \u001b[0m 8.722   \u001b[0m | \u001b[0m 3.297   \u001b[0m | \u001b[0m 2.366   \u001b[0m | \u001b[0m 6.888   \u001b[0m | \u001b[0m 4.716   \u001b[0m |\n",
      "=========================================================================================================================\n",
      "85.84636649408388\n",
      "Prev Inven : 2, Var Sale : 7, Var Product : 4\n"
     ]
    }
   ],
   "source": [
    "dt_current = (dt_table.index[dt_table['ww'] == current].tolist()[0])-1\n",
    "pred_ww = dt_table['ww'].loc[dt_current+1:].values.tolist()\n",
    "opt_set = d_set.iloc[:d_set.index[d_set['ww'] == dt_table.loc[dt_current].values.tolist()[0]][0]+1,:]\n",
    "\n",
    "warnings.filterwarnings(action='ignore', category=UserWarning)\n",
    "param_bound = {'theta1' : (0, 10), 'g_alpha' : (0.0,0.99) , 'k_dot' : (0, 100), 'w_noise' : (0.0, 100), 'rbf_l' : (0, 10), \n",
    "               'tmp_prev_inven_col' : (1,8), 'tmp_var_sale_col' : (1, 12), 'tmp_var_product_col' : (1, 12)}\n",
    "\n",
    "product_optimizer = BayesianOptimization(f=h_opt, pbounds=param_bound, verbose=2, random_state=1)\n",
    "product_optimizer.maximize(init_points=10, n_iter=30)\n",
    "print(product_optimizer.max['target'])\n",
    "\n",
    "g_alpha = product_optimizer.max['params']['g_alpha']\n",
    "k_dot = product_optimizer.max['params']['k_dot']\n",
    "rbf_l = product_optimizer.max['params']['rbf_l']\n",
    "theta1 =product_optimizer.max['params']['theta1']\n",
    "prev_inven_col = round(product_optimizer.max['params']['tmp_prev_inven_col'])\n",
    "var_product_col = round(product_optimizer.max['params']['tmp_var_product_col'])\n",
    "var_sale_col = round(product_optimizer.max['params']['tmp_var_sale_col'])\n",
    "w_noise = product_optimizer.max['params']['w_noise']\n",
    "print(\"Prev Inven : %d, Var Sale : %d, Var Product : %d\"%(prev_inven_col, var_sale_col, var_product_col))\n",
    "\n",
    "train_set = opt_set\n",
    "\n",
    "prev_inven_name   = [s for s in train_set.columns.values if 'prev_inven_' in s]    \n",
    "var_sale_name     = [s for s in train_set.columns.values if 'sales_prev_' in s]\n",
    "var_product_name  = [s for s in train_set.columns.values if 'product_prev_' in s]\n",
    "train_x_name = prev_inven_name[:prev_inven_col]+var_sale_name[:var_sale_col]+var_product_name[:var_product_col]\n",
    "kernel =  theta1 * RBF(rbf_l) + WhiteKernel(w_noise)  + DotProduct(k_dot) ## RBF(2) + WhiteKernel(1)  + \n",
    "gp = GaussianProcessRegressor(kernel=kernel, alpha=g_alpha, n_restarts_optimizer=3)\n",
    "gp.fit(train_set[train_x_name], train_set['inven'])\n",
    "\n",
    "train_pred, train_sigma = gp.predict(train_set[train_x_name], return_std=True)\n",
    " "
   ]
  },
  {
   "cell_type": "code",
   "execution_count": 10,
   "id": "a743f2f6",
   "metadata": {},
   "outputs": [],
   "source": [
    "current_ind = prod_plan.index[prod_plan['ww'] == current].tolist()[0]\n",
    "for i in range(0,var_product_col):\n",
    "    #print(prod_plan.loc[current_ind-i])\n",
    "    tmp_split = [x.split(\":\") for x in prod_plan['target_ww'].loc[current_ind-i].split(\"/\")]\n",
    "    tmp_split_df = pd.DataFrame(tmp_split)\n",
    "    tmp_split_df.columns = ['ww', 'product_prev'+str(i+1)]\n",
    "    tmp_ww_ind = [tmp_split_df['ww'].values.tolist().index(str(x)) for i, x in enumerate(pred_ww) if str(x) in tmp_split_df['ww'].values]\n",
    "    tmp_prod_plan_test = tmp_split_df.iloc[tmp_ww_ind,:].reset_index(drop=True)    \n",
    "    if i == 0 :\n",
    "        prod_plan_test = tmp_prod_plan_test\n",
    "    else:\n",
    "        prod_plan_test = pd.merge(prod_plan_test, tmp_prod_plan_test, how='inner', on='ww')\n",
    "        \n",
    "current_ind = sale_plan.index[sale_plan['ww'] == dt_table['ww'].loc[dt_current-2]].tolist()[0]\n",
    "#current_ind = sale_plan.index[sale_plan['ww'] == current].tolist()[0]\n",
    "for i in range(0,var_sale_col):\n",
    "    #print(prod_plan.loc[current_ind-i])\n",
    "    tmp_split = [x.split(\":\") for x in sale_plan['target_ww'].loc[current_ind-i].split(\"/\")]\n",
    "    tmp_split_df = pd.DataFrame(tmp_split)\n",
    "    tmp_split_df.columns = ['ww', 'sales_prev'+str(i+1)]    \n",
    "    tmp_split_df['ww'] = [str(dt_table['ww'].loc[dt_table.index[dt_table['ww']==int(tmp_split_df['ww'][x])].tolist()[0]+2]) for x in range(0, tmp_split_df.shape[0])]    \n",
    "    tmp_ww_ind = [tmp_split_df['ww'].values.tolist().index(str(x)) for i, x in enumerate(pred_ww) if str(x) in tmp_split_df['ww'].values]    \n",
    "    tmp_sale_plan_test = tmp_split_df.iloc[tmp_ww_ind,:].reset_index(drop=True)      \n",
    "    if i == 0 :\n",
    "        sale_plan_test = tmp_sale_plan_test\n",
    "    else:\n",
    "        sale_plan_test = pd.merge(sale_plan_test, tmp_sale_plan_test, how='left', on='ww')\n",
    "test_x = pd.merge(sale_plan_test, prod_plan_test, how='inner', on='ww')\n",
    "test_x = test_x.astype('float')\n",
    "test_x = test_x.astype({'ww': 'int'})       \n",
    "\n",
    "test_inven_init = np.array(train_set[['inven']+['prev_inven_'+str(x) for x in range(1,prev_inven_col)]][train_set['ww']==dt_table['ww'].loc[dt_current]]).reshape(-1)\n",
    "rslt_set, test_pred, test_sigma = [], [], []\n",
    "for i in range(0, test_x.shape[0]):    \n",
    "    tmp_pred_inven_mean, tmp_pred_inven_std = gp.predict(np.concatenate([test_inven_init, test_x.iloc[i,1:]]).reshape(1,-1), return_std=True)\n",
    "    test_pred.append(tmp_pred_inven_mean[0])\n",
    "    test_sigma.append(tmp_pred_inven_std[0])\n",
    "    tmp_rslt = np.concatenate([tmp_pred_inven_mean, test_inven_init, test_x.iloc[i,1:]])\n",
    "    test_inven_init = np.insert(test_inven_init, 0, tmp_pred_inven_mean)[:prev_inven_col]\n",
    "    rslt_set.append(tmp_rslt)\n",
    "rslt_set = pd.DataFrame(rslt_set)\n",
    "rslt_set['ww'] = test_x['ww']\n",
    "ww_col = rslt_set.columns[-1:].to_list()\n",
    "x_col = rslt_set.columns[:-1].to_list()\n",
    "set_col = ww_col + x_col\n",
    "rslt_set = rslt_set[set_col]\n",
    "rslt_set.columns = list(['ww','pred_inven'])+train_x_name #total_set.columns\n",
    "\n",
    "tmp_train_set = train_set[['ww','inven']].copy()\n",
    "tmp_train_set['inven_pred'] = train_pred\n",
    "tmp_train_set.head()\n",
    "tmp_test_set = pd.DataFrame({'ww' :  pred_ww[:len(test_pred)], \n",
    "                             'inven' : np.repeat(-999, len(test_pred)),\n",
    "                             'inven_pred' : test_pred})\n",
    "tmp_day_set = pd.concat([tmp_train_set, tmp_test_set])\n",
    "tmp_day_set = tmp_day_set.reset_index(drop=True)\n",
    "\n",
    "tmp_train_sale = pd.merge(train_set['ww'], sale_rslt[['ww','sale']], how='inner', on='ww')\n",
    "tmp_test_sale = pd.DataFrame([x.split(':') for x in sale_plan['target_ww'][sale_plan['ww']==current].values.tolist()[0].split('/')])\n",
    "tmp_test_sale.columns = ['ww', 'sale']\n",
    "tmp_sale = pd.concat([tmp_train_sale, tmp_test_sale])\n",
    "tmp_sale = tmp_sale.astype({'ww': 'int'})  \n",
    "day_set = pd.merge(tmp_day_set, tmp_sale, how='inner', on='ww')\n",
    "day_set = day_set.astype({'sale' : 'float'})\n",
    "inven_d = []\n",
    "for i in range(0, day_set.shape[0]):\n",
    "    if i > 0 and i < day_set.shape[0]-3:\n",
    "        tmp_sale_avg = np.mean(day_set['sale'][i:(i+4)].values)\n",
    "        if i < day_set[day_set['ww'] == current].index[0] :\n",
    "            tmp_inven = day_set['inven'][i-1]    \n",
    "        else:\n",
    "            tmp_inven = day_set['inven_pred'][i-1]    \n",
    "        inven_d.append(round(tmp_inven / tmp_sale_avg * 6.76,1))\n",
    "    else:\n",
    "        inven_d.append(0)\n",
    "day_set['inven_d'] = inven_d\n"
   ]
  },
  {
   "cell_type": "raw",
   "id": "992b8578",
   "metadata": {},
   "source": [
    "insert_day_sql = \"insert into inven_day values (%s, %s)\"\n",
    "conn = _call_db_info('gscm_e61d')\n",
    "curs = conn.cursor()\n",
    "inven_day_rslt = [current, str('/'.join(list(map(lambda x : ':'.join([str(x) for x in day_set.loc[x]]), range(0, day_set.shape[0])))))]\n",
    "curs.execute(insert_day_sql, inven_day_rslt) \n",
    "conn.commit()\n",
    "conn.close()"
   ]
  },
  {
   "cell_type": "code",
   "execution_count": 13,
   "id": "46da5c93",
   "metadata": {},
   "outputs": [
    {
     "data": {
      "text/plain": [
       "Index(['ww', 'inven', 'inven_pred', 'sale', 'inven_d'], dtype='object')"
      ]
     },
     "execution_count": 13,
     "metadata": {},
     "output_type": "execute_result"
    }
   ],
   "source": [
    "day_set.columns"
   ]
  },
  {
   "cell_type": "code",
   "execution_count": 14,
   "id": "edad81af",
   "metadata": {},
   "outputs": [],
   "source": [
    "inven_history = day_set['inven'].replace(-999, np.nan)\n",
    "inven_predict = day_set['inven_pred']"
   ]
  },
  {
   "cell_type": "code",
   "execution_count": 15,
   "id": "e4dffb4a",
   "metadata": {},
   "outputs": [
    {
     "data": {
      "text/plain": [
       "<matplotlib.lines.Line2D at 0x7fab695a3510>"
      ]
     },
     "execution_count": 15,
     "metadata": {},
     "output_type": "execute_result"
    },
    {
     "data": {
      "image/png": "[encoded data removed]",
      "text/plain": [
       "<Figure size 2160x720 with 1 Axes>"
      ]
     },
     "metadata": {
      "needs_background": "light"
     },
     "output_type": "display_data"
    }
   ],
   "source": [
    "plt.figure(figsize=(30,10))\n",
    "plt.plot(inven_history, color='blue', marker='o')\n",
    "plt.plot(inven_predict, color='red', linestyle='dashed', marker='o')\n",
    "plt.axvline(len(train_set['inven'])-1, c='k')\n",
    "plt.axvline(len(d_set['inven'])-1, c='k')"
   ]
  },
  {
   "cell_type": "code",
   "execution_count": 24,
   "id": "d8460b20",
   "metadata": {},
   "outputs": [
    {
     "name": "stdout",
     "output_type": "stream",
     "text": [
      "101\n",
      "101\n",
      "97     865309.993043\n",
      "98     804837.225842\n",
      "99     900140.143889\n",
      "100    103954.393295\n",
      "Name: inven_pred, dtype: float64\n"
     ]
    },
    {
     "data": {
      "text/plain": [
       "ww            202150.000000\n",
       "inven           -999.000000\n",
       "inven_pred    103954.393295\n",
       "sale          192620.000000\n",
       "inven_d            0.000000\n",
       "Name: 100, dtype: float64"
      ]
     },
     "execution_count": 24,
     "metadata": {},
     "output_type": "execute_result"
    }
   ],
   "source": [
    "print(len(inven_predict))\n",
    "print(len(inven_history))\n",
    "print(inven_predict[97:101]) \n",
    "day_set.loc[100]"
   ]
  },
  {
   "cell_type": "code",
   "execution_count": null,
   "id": "0b17a7a3",
   "metadata": {},
   "outputs": [],
   "source": []
  }
 ],
 "metadata": {
  "kernelspec": {
   "display_name": "Python 3 (ipykernel)",
   "language": "python",
   "name": "python3"
  },
  "language_info": {
   "codemirror_mode": {
    "name": "ipython",
    "version": 3
   },
   "file_extension": ".py",
   "mimetype": "text/x-python",
   "name": "python",
   "nbconvert_exporter": "python",
   "pygments_lexer": "ipython3",
   "version": "3.9.5"
  }
 },
 "nbformat": 4,
 "nbformat_minor": 5
}
