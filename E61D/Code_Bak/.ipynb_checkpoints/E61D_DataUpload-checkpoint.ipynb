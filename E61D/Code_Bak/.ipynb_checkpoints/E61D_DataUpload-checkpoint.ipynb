{
 "cells": [
  {
   "cell_type": "code",
   "execution_count": 1,
   "id": "18972e6a",
   "metadata": {},
   "outputs": [],
   "source": [
    "import pymysql, os, copy, json, time\n",
    "import pandas as pd\n",
    "import numpy as np\n",
    "from scipy.stats import mode"
   ]
  },
  {
   "cell_type": "code",
   "execution_count": 2,
   "id": "48c5c72c",
   "metadata": {},
   "outputs": [],
   "source": [
    "def _call_db_info(db_name):\n",
    "    return pymysql.connect(\n",
    "        host = '10.94.77.9',\n",
    "        port= 13306,\n",
    "        user = 'dxbot1',\n",
    "        password='ensol2020!',\n",
    "        db = db_name,\n",
    "        charset = 'utf8')"
   ]
  },
  {
   "cell_type": "code",
   "execution_count": 3,
   "id": "edccb79c",
   "metadata": {},
   "outputs": [],
   "source": [
    "conn = _call_db_info('gscm_e61d')\n",
    "curs = conn.cursor()\n",
    "curs.execute(\"select * from dt_table;\") \n",
    "dt_table = pd.DataFrame(curs.fetchall())\n",
    "conn.commit()\n",
    "conn.close()\n",
    "dt_table.columns = ['WW']    "
   ]
  },
  {
   "cell_type": "code",
   "execution_count": 4,
   "id": "c60fef6a",
   "metadata": {},
   "outputs": [],
   "source": [
    "start = 202001"
   ]
  },
  {
   "cell_type": "markdown",
   "id": "716490ba",
   "metadata": {},
   "source": [
    "## Inventory Result"
   ]
  },
  {
   "cell_type": "code",
   "execution_count": 6,
   "id": "0cf7fe6f",
   "metadata": {},
   "outputs": [],
   "source": [
    "insert_inven_sql = \"insert into inven_rslt values (%s, %s, %s, %s, %s, %s, %s, %s, %s, %s, %s)\"#.format(*c)\n",
    "tmp = pd.read_csv('./data1/Inven_3xxC.csv')\n",
    "ids = tmp.index[tmp['Inven Week'] == start].tolist()[0]\n",
    "\n",
    "conn = _call_db_info('gscm_e61d')\n",
    "curs = conn.cursor()\n",
    "for i in range(ids, tmp.shape[0]):\n",
    "    tmp_s = dt_table.index[dt_table['WW']==tmp['Inven Week'].loc[i]].tolist()[0]    \n",
    "    tmp_e = tmp_s - 8    \n",
    "    ww_candidate = dt_table.loc[tmp_e:tmp_s].reset_index(drop=True)  \n",
    "    tmp_join = pd.merge(ww_candidate, tmp, left_on='WW', right_on='Inven Week')\n",
    "    tmp_join = tmp_join.sort_values('WW', ascending=False)      \n",
    "    inven_list = list(tmp_join[tmp_join['WW']==tmp['Inven Week'].loc[i]][['Inven Week', 'Date']].values.reshape(-1))\n",
    "    inven_list.extend(tmp_join['재고수량'].values.tolist())\n",
    "    curs.execute(insert_inven_sql, inven_list) \n",
    "conn.commit()\n",
    "conn.close()    "
   ]
  },
  {
   "cell_type": "markdown",
   "id": "0f99ce64",
   "metadata": {},
   "source": [
    "## Product Result"
   ]
  },
  {
   "cell_type": "code",
   "execution_count": null,
   "id": "57f4b1ab",
   "metadata": {},
   "outputs": [],
   "source": [
    "insert_prod_sql = \"insert into prod_rslt values (%s, %s, %s, %s, %s, %s, %s, %s, %s, %s, %s, %s, %s, %s, %s)\"\n",
    "tmp = pd.read_csv('./data1/02.Detail_생산계획 준수율.csv')\n",
    "ids = tmp.index[tmp['Plan Week'] == start].tolist()[0]\n",
    "\n",
    "conn = _call_db_info('gscm_e61d')\n",
    "curs = conn.cursor()\n",
    "for i in range(ids, tmp.shape[0]):\n",
    "    tmp_s = dt_table.index[dt_table['WW']==tmp['Plan Week'].loc[i]].tolist()[0]    \n",
    "    tmp_e = tmp_s - 12\n",
    "    ww_candidate = dt_table.loc[tmp_e:tmp_s].reset_index(drop=True)  \n",
    "    tmp_join = pd.merge(ww_candidate, tmp, how='left',  left_on='WW', right_on='Plan Week')       \n",
    "    tmp_join = tmp_join.sort_values('WW', ascending=False)\n",
    "    tmp_join = tmp_join.fillna(0)    \n",
    "    prod_list = list(tmp_join[tmp_join['WW']==tmp['Plan Week'].loc[i]][['Plan Week', 'Basic Date']].values.reshape(-1))\n",
    "    prod_list.append(tmp_join['Result Qty'])    \n",
    "    curs.execute(insert_prod_sql, prod_list) \n",
    "conn.commit()\n",
    "conn.close()      "
   ]
  },
  {
   "cell_type": "markdown",
   "id": "a5b2c77b",
   "metadata": {},
   "source": [
    "## Product Plan"
   ]
  },
  {
   "cell_type": "code",
   "execution_count": 23,
   "id": "f5770152",
   "metadata": {},
   "outputs": [
    {
     "name": "stdout",
     "output_type": "stream",
     "text": [
      "[202118, '2021-05-03', '202119:48000.0/202120:208000.0/202121:128000.0/202122:176000.0/202123:208000.0/202124:208000.0/202125:422500.0/202126:422500.0/202127:198000.0/202128:214500.0/202129:214500.0/202130:214500.0/202131:198000.0/202132:214500.0/202133:214500.0/202134:214500.0/202135:214500.0/202136:402000.0/202137:435500.0/202138:214500.0/202139:214500.0/202140:198000.0/202141:214500.0/202142:214500.0/202143:214500.0/202144:198000.0/202145:214500.0/202146:214500.0/202147:214500.0/202148:214500.0/202149:181500.0/202150:214500.0/202151:234500.0/202152:435500.0/202201:368500.0/202202:401500.0/202203:214500.0/202204:214500.0/202205:214500.0/202206:181500.0/202207:214500.0/202208:401500.0/202209:435500.0/202210:401500.0/202211:435500.0/202212:214500.0/202213:214500.0/202214:115500.0/202215:214500.0/202216:214500.0/202217:214500.0/202218:3799643.053583692']\n"
     ]
    }
   ],
   "source": [
    "insert_prod_sql = \"insert into prod_plan values (%s, %s, %s)\"\n",
    "tmp = pd.read_csv('./data1/DynamicResult.csv')\n",
    "current = max(tmp['WW'])\n",
    "\n",
    "tmp_s = dt_table.index[dt_table['WW'] == start].tolist()[0]\n",
    "tmp_e = dt_table.index[dt_table['WW'] == current].tolist()[0]\n",
    "\n",
    "#conn = _call_db_info('gscm_e61d')\n",
    "#curs = conn.cursor()\n",
    "for i in range(tmp_s, (tmp_e+1)):    \n",
    "    tmp_ = tmp[tmp['WW'] == dt_table['WW'].loc[i]].reset_index(drop=True)\n",
    "    tmp_ = tmp_.sort_values('tWW')\n",
    "    tmp_plan = list(map(lambda x : [str(tmp_['tWW'].values[x]), str(tmp_['QTY'].values[x])], range(0, tmp_.shape[0])))\n",
    "    tmp_plan_join = str('/'.join(list(map(lambda x : ':'.join(tmp_plan[x]), range(0, tmp_.shape[0])))))\n",
    "    prod_plan = list(tmp_[['WW','Date']].loc[0].tolist())\n",
    "    prod_plan.append(tmp_plan_join)\n",
    "#    curs.execute(insert_prod_sql, prod_plan) \n",
    "#conn.commit()\n",
    "#conn.close() \n",
    "print(prod_plan)"
   ]
  },
  {
   "cell_type": "markdown",
   "id": "0ed8af2c",
   "metadata": {},
   "source": [
    "## Product Prev"
   ]
  },
  {
   "cell_type": "code",
   "execution_count": 41,
   "id": "9e6dac8a",
   "metadata": {},
   "outputs": [],
   "source": [
    "insert_prod_sql = \"insert into prod_prev values (%s, %s, %s)\"\n",
    "tmp = pd.read_csv('./data1/DynamicResult.csv')\n",
    "current = max(tmp['WW'])\n",
    "\n",
    "tmp_s = dt_table.index[dt_table['WW'] == start].tolist()[0]\n",
    "tmp_e = dt_table.index[dt_table['WW'] == current].tolist()[0]\n",
    "\n",
    "conn = _call_db_info('gscm_e61d')\n",
    "curs = conn.cursor()\n",
    "for i in range(tmp_s, (tmp_e+1)):#(tmp_s+1)):    #\n",
    "    tmp_ = tmp[tmp['tWW'] == dt_table['WW'].loc[i]].reset_index(drop=True)\n",
    "    tmp_ = tmp_.sort_values('WW')[::-1].reset_index(drop=True)\n",
    "    tmp_prev = list(map(lambda x : [str(tmp_['WW'].values[x]), str(tmp_['QTY'].values[x])], range(1, tmp_.shape[0])))\n",
    "    tmp_prev_join = str('/'.join(list(map(lambda x : ':'.join(tmp_prev[x]), range(0, len(tmp_prev))))))\n",
    "    prod_prev = list(tmp_[['tWW','Date']].loc[0].tolist())\n",
    "    prod_prev.append(tmp_prev_join)\n",
    "    #print(i, prod_prev)\n",
    "    curs.execute(insert_prod_sql, prod_prev) \n",
    "conn.commit()\n",
    "conn.close() "
   ]
  },
  {
   "cell_type": "markdown",
   "id": "bdbeebad",
   "metadata": {},
   "source": [
    "## Sale Plan"
   ]
  },
  {
   "cell_type": "code",
   "execution_count": 7,
   "id": "e2e1e349",
   "metadata": {},
   "outputs": [],
   "source": [
    "insert_sale_sql = \"insert into sale_plan values (%s, %s, %s)\"\n",
    "f_list = os.listdir('./data1/')\n",
    "f_list.sort()\n",
    "sale_file = [i for i, v in enumerate(f_list) if 'Fcst' in v.split(' ')]\n",
    "start = 202001\n",
    "current = 202116\n",
    "\n",
    "tmp_s = dt_table.index[dt_table['WW']==start].tolist()[0]#-12\n",
    "tmp_e = dt_table.index[dt_table['WW']==current].tolist()[0]\n",
    "\n",
    "conn = _call_db_info('gscm_e61d')\n",
    "curs = conn.cursor()\n",
    "for i in range(tmp_s, (tmp_e+1)):\n",
    "    tmp_ww = dt_table['WW'].loc[i]\n",
    "    cnt = 0\n",
    "    for j in range(0, len(sale_file)):#tmp_s, tmp_e):    \n",
    "        tmp = pd.read_csv('./data1/'+f_list[sale_file[j]])\n",
    "        if tmp_ww in tmp['WW'].values and str(tmp_ww) in tmp.columns:\n",
    "            #if tmp_ww in tmp['WW'] and tmp_ww in tmp.columns\n",
    "            row_id = tmp.index[tmp['WW'] == tmp_ww][0]\n",
    "            col_id = list(tmp.columns).index(str(tmp_ww))        \n",
    "            if cnt == 0 :\n",
    "                tmp_ww_plan = tmp.iloc[row_id, col_id:]\n",
    "            else:\n",
    "                tmp_ww_plan = pd.concat([tmp_ww_plan, tmp.iloc[row_id, col_id:]])\n",
    "            cnt+=1\n",
    "            tmp_date = tmp[tmp['WW'] == tmp_ww]['Date'].values[0]\n",
    "    tmp_ww_plan = tmp_ww_plan.reset_index(drop=False).drop_duplicates().sort_values('index')\n",
    "    tmp_ww_group = tmp_ww_plan.groupby('index')\n",
    "    tmp_ww_rslt = pd.DataFrame(tmp_ww_group.max()).reset_index(drop=False)        \n",
    "    tmp_ww_rslt.columns=['ww', 'qty']\n",
    "    tmp_plan = list(map(lambda x : [str(tmp_ww_rslt['ww'].values[x]), str(tmp_ww_rslt['qty'].values[x])], range(0, tmp_ww_rslt.shape[0])))\n",
    "    tmp_plan_join = str('/'.join(list(map(lambda x : ':'.join(tmp_plan[x]), range(0, tmp_ww_rslt.shape[0])))))\n",
    "    \n",
    "    sale_plan = list([tmp_ww,tmp_date])#list(tmp[['WW', 'Date']].loc[row_id].values.reshape(-1))\n",
    "    sale_plan.append(tmp_plan_join)\n",
    "    curs.execute(insert_sale_sql, sale_plan) \n",
    "conn.commit()\n",
    "conn.close()"
   ]
  },
  {
   "cell_type": "markdown",
   "id": "3caf2043",
   "metadata": {},
   "source": [
    "## Sale Result"
   ]
  },
  {
   "cell_type": "code",
   "execution_count": null,
   "id": "807c8e83",
   "metadata": {},
   "outputs": [],
   "source": [
    "insert_sale_sql = \"insert into sale_rslt values (%s, %s, %s, %s, %s, %s, %s, %s, %s, %s, %s, %s, %s, %s, %s)\"\n",
    "f_list = os.listdir('./data1/')\n",
    "f_list.sort()\n",
    "sale_file = [i for i, v in enumerate(f_list) if 'Fcst' in v.split(' ')]\n",
    "start = 202001\n",
    "current = 202116\n",
    "\n",
    "tmp_s = dt_table.index[dt_table['WW']==start].tolist()[0]\n",
    "tmp_e = dt_table.index[dt_table['WW']==current].tolist()[0]\n",
    "tmp_rslt = []\n",
    "for i in range((tmp_s-12), (tmp_e+1)):\n",
    "    tmp_ww = dt_table['WW'].loc[i]    \n",
    "    tmp_ww_rslt = []\n",
    "    for j in range(0, len(sale_file)):\n",
    "        tmp = pd.read_csv('./data1/'+f_list[sale_file[j]])\n",
    "        if str(tmp_ww) in tmp.columns:\n",
    "            col_id = list(tmp.columns).index(str(tmp_ww))     \n",
    "            row_id = tmp.index[tmp['WW'] > tmp_ww].values.tolist()  \n",
    "            tmp_ww_rslt.extend(tmp.iloc[row_id, col_id])\n",
    "            if any(tmp_ww == tmp['WW']):\n",
    "                tmp_date = tmp[tmp['WW'] == tmp_ww]['Date'].values[0]\n",
    "    if np.sum(tmp_ww_rslt) > 0 :\n",
    "        tmp_mode = mode(np.array(tmp_ww_rslt)[np.array(tmp_ww_rslt) > 0]).mode[0]            \n",
    "    else:\n",
    "        tmp_mode = 0\n",
    "    tmp_rslt.append([tmp_ww, tmp_date, tmp_mode])\n",
    "tmp_rslt = pd.DataFrame(tmp_rslt)\n",
    "\n",
    "conn = _call_db_info('gscm_e61d')\n",
    "curs = conn.cursor()\n",
    "for i in range(tmp_s, (tmp_e+1)):\n",
    "    tmp_ww = dt_table['WW'].loc[i]\n",
    "    tmp_ind = tmp_rslt[tmp_rslt[0] == tmp_ww].index[0]\n",
    "    tmp_sale_rslt = tmp_rslt.iloc[(tmp_ind-12):tmp_ind, 2][::-1].values.tolist()\n",
    "    sale_rslt = tmp_rslt.iloc[tmp_ind, :].values.tolist()\n",
    "    sale_rslt.extend(tmp_sale_rslt)    \n",
    "    curs.execute(insert_sale_sql, sale_rslt) \n",
    "conn.commit()\n",
    "conn.close()"
   ]
  },
  {
   "cell_type": "markdown",
   "id": "69b0c56d",
   "metadata": {},
   "source": [
    "## Sale Prev"
   ]
  },
  {
   "cell_type": "code",
   "execution_count": 41,
   "id": "fdb3b090",
   "metadata": {
    "scrolled": true
   },
   "outputs": [
    {
     "name": "stdout",
     "output_type": "stream",
     "text": [
      "52 120\n"
     ]
    }
   ],
   "source": [
    "insert_sale_sql = \"insert into sale_prev values (%s, %s, %s)\"\n",
    "f_list = os.listdir('./data1/')\n",
    "f_list.sort()\n",
    "sale_file = [i for i, v in enumerate(f_list) if 'Fcst' in v.split(' ')]\n",
    "start = 202001\n",
    "current = 202116\n",
    "tmp_s = dt_table.index[dt_table['WW']==start].tolist()[0]#-12\n",
    "tmp_e = dt_table.index[dt_table['WW']==current].tolist()[0]\n",
    "print(tmp_s, tmp_e)\n",
    "\n",
    "conn = _call_db_info('gscm_e61d')\n",
    "curs = conn.cursor()\n",
    "\n",
    "for i in range(tmp_e, (tmp_e+1)):\n",
    "    tmp_ww = dt_table['WW'].loc[i]    \n",
    "    cnt = 0\n",
    "    for j in range(0, len(sale_file)):#tmp_s, tmp_e):    \n",
    "        tmp = pd.read_csv('./data1/'+f_list[sale_file[j]])    \n",
    "        if tmp_ww in tmp['WW'].values and str(tmp_ww) in tmp.columns:        \n",
    "            row_id = tmp.index[tmp['WW'].values < tmp_ww].tolist()\n",
    "            col_id = list(tmp.columns).index(str(tmp_ww))  \n",
    "            tmp_ = tmp[['WW','Date']].copy()#.iloc[row_id]#,[0,1,col_id]]\n",
    "            tmp_['tmp_prev'] = tmp.iloc[:,col_id]\n",
    "            if any(tmp_ww == tmp['WW']):\n",
    "                tmp_date = tmp[tmp['WW'] == tmp_ww]['Date'].values[0]\n",
    "            if cnt == 0 :\n",
    "                tmp_prev_plan = tmp_.iloc[row_id, :]\n",
    "            else:\n",
    "                tmp_prev_plan = pd.concat([tmp_prev_plan, tmp_.iloc[row_id, :]])\n",
    "            cnt+=1\n",
    "    tmp_prev_plan_group = tmp_prev_plan.groupby(['WW', 'Date'])\n",
    "    #tmp_prev_plan_ = tmp_prev_plan.drop_duplicates().sort_values('WW', ascending=False).reset_index(drop=True)\n",
    "    tmp_prev_plan_ = pd.DataFrame(tmp_prev_plan_group.max()).sort_values('WW', ascending=False).reset_index(drop=False)                     \n",
    "    tmp_plan = list(map(lambda x : [str(tmp_prev_plan_['WW'].values[x]), str(tmp_prev_plan_['tmp_prev'].values[x])], range(0, tmp_prev_plan_.shape[0])))\n",
    "    tmp_plan_join = str('/'.join(list(map(lambda x : ':'.join(tmp_plan[x]), range(0, len(tmp_plan))))))\n",
    "    sale_prev = list([tmp_ww, tmp_date])#list(tmp[['WW', 'Date']].loc[row_id].values.reshape(-1))\n",
    "    sale_prev.append(tmp_plan_join)\n",
    "    \n",
    "    curs.execute(insert_sale_sql, sale_prev) \n",
    "conn.commit()\n",
    "conn.close()"
   ]
  },
  {
   "cell_type": "code",
   "execution_count": null,
   "id": "afd556a4",
   "metadata": {},
   "outputs": [],
   "source": []
  }
 ],
 "metadata": {
  "kernelspec": {
   "display_name": "Python 3",
   "language": "python",
   "name": "python3"
  },
  "language_info": {
   "codemirror_mode": {
    "name": "ipython",
    "version": 3
   },
   "file_extension": ".py",
   "mimetype": "text/x-python",
   "name": "python",
   "nbconvert_exporter": "python",
   "pygments_lexer": "ipython3",
   "version": "3.7.10"
  }
 },
 "nbformat": 4,
 "nbformat_minor": 5
}
