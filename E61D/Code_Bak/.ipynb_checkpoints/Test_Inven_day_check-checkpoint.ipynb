{
 "cells": [
  {
   "cell_type": "code",
   "execution_count": 1,
   "id": "f553390a",
   "metadata": {},
   "outputs": [],
   "source": [
    "import os, random, time, pymysql\n",
    "import xgboost\n",
    "import datetime\n",
    "\n",
    "import numpy as np\n",
    "import pandas as pd\n",
    "import matplotlib.pyplot as plt\n",
    "\n",
    "#from fbprophet import Prophet\n",
    "from sklearn.linear_model import LinearRegression as LR\n",
    "from sklearn.kernel_ridge import KernelRidge as KR\n",
    "from sklearn.linear_model import Ridge, ElasticNet, BayesianRidge, Lars, Lasso\n",
    "from sklearn.ensemble import RandomForestRegressor as RF\n",
    "\n",
    "from sklearn.metrics import r2_score\n",
    "from sklearn.gaussian_process import GaussianProcessRegressor as gpr\n",
    "from sklearn.gaussian_process.kernels import RBF, DotProduct, WhiteKernel\n",
    "\n",
    "import warnings\n",
    "\n",
    "from bayes_opt import BayesianOptimization\n",
    "\n",
    "from sklearn.gaussian_process import GaussianProcessRegressor\n",
    "from sklearn.gaussian_process.kernels import RBF, ConstantKernel as C"
   ]
  },
  {
   "cell_type": "code",
   "execution_count": 2,
   "id": "15d14999",
   "metadata": {},
   "outputs": [],
   "source": [
    "def _call_db_info(db_name):\n",
    "    return pymysql.connect(\n",
    "        host = '10.94.77.9',\n",
    "        port= 13306,\n",
    "        user = 'dxbot1',\n",
    "        password='ensol2020!',\n",
    "        db = db_name,\n",
    "        charset = 'utf8')\n",
    "\n",
    "def h_opt(theta1, g_alpha, k_dot, w_noise, rbf_l, tmp_prev_inven_col, tmp_var_sale_col, tmp_var_product_col):\n",
    "    prev_inven_col = round(tmp_prev_inven_col)\n",
    "    var_sale_col, var_product_col = round(tmp_var_sale_col), round(tmp_var_product_col)     \n",
    "    \n",
    "    train_set = opt_set[:-4].reset_index(drop=True)\n",
    "    valid_set = opt_set[-4:].reset_index(drop=True)\n",
    "    prev_inven_name   = [s for s in train_set.columns.values if 'prev_inven_' in s]    \n",
    "    var_sale_name     = [s for s in train_set.columns.values if 'sales_prev_' in s]\n",
    "    var_product_name  = [s for s in train_set.columns.values if 'product_prev_' in s]    \n",
    "    train_x_name = prev_inven_name[:prev_inven_col]+var_sale_name[:var_sale_col]+var_product_name[:var_product_col]\n",
    "    kernel =  theta1 * RBF(rbf_l) + WhiteKernel(w_noise)  + DotProduct(k_dot) ## RBF(2) + WhiteKernel(1)  + \n",
    "    gp = GaussianProcessRegressor(kernel=kernel, alpha=g_alpha, n_restarts_optimizer=3)\n",
    "    gp.fit(train_set[train_x_name], train_set['inven'])\n",
    "    \n",
    "    train_pred, train_sigma = gp.predict(train_set[train_x_name], return_std=True)\n",
    "    valid_pred, valid_sigma = gp.predict(valid_set[train_x_name], return_std=True)\n",
    "    x_pred_ = np.concatenate((train_pred, valid_pred)) \n",
    "    y_ = np.concatenate((train_set['inven'], valid_set['inven'])) \n",
    "\n",
    "    real_ = np.mean(np.ones_like(train_set['inven']) - np.clip(np.abs(train_set['inven'] - train_pred) / train_set['inven'] , 0, 1)) * 100     \n",
    "    fcst_ = np.mean(np.ones_like(valid_set['inven']) - np.clip(np.abs(valid_set['inven'] - valid_pred) / valid_set['inven'] , 0, 1)) * 100    \n",
    "    return fcst_    "
   ]
  },
  {
   "cell_type": "code",
   "execution_count": 3,
   "id": "571a0ec9",
   "metadata": {},
   "outputs": [],
   "source": [
    "dt_sql        = \"select * from dt_table\"\n",
    "inven_sql     = \"select * from inven_rslt\"\n",
    "prod_plan_sql = \"select * from prod_plan\"\n",
    "prod_rslt_sql = \"select * from prod_rslt\"\n",
    "prod_prev_sql = \"select * from prod_prev\"\n",
    "\n",
    "sale_plan_sql = \"select * from sale_plan\"\n",
    "sale_rslt_sql = \"select * from sale_rslt\"\n",
    "sale_prev_sql = \"select * from sale_prev\"\n",
    "\n",
    "conn = _call_db_info('gscm_e61d')\n",
    "curs = conn.cursor()\n",
    "curs.execute(dt_sql) \n",
    "dt_table = pd.DataFrame(curs.fetchall())\n",
    "dt_table.columns = ['ww']\n",
    "curs.execute(\"select column_name from information_schema.columns where table_name='inven_rslt' and table_schema='gscm_e61d'\")\n",
    "tmp_col = pd.DataFrame(curs.fetchall())\n",
    "curs.execute(inven_sql) \n",
    "y_inven = pd.DataFrame(curs.fetchall())\n",
    "y_inven.columns = tmp_col[0].values.tolist()\n",
    "\n",
    "curs.execute(\"select column_name from information_schema.columns where table_name='prod_plan' and table_schema='gscm_e61d'\")\n",
    "tmp_col = pd.DataFrame(curs.fetchall())\n",
    "curs.execute(prod_plan_sql)\n",
    "prod_plan = pd.DataFrame(curs.fetchall())\n",
    "prod_plan.columns = tmp_col[0].values.tolist()\n",
    "\n",
    "curs.execute(\"select column_name from information_schema.columns where table_name='prod_rslt' and table_schema='gscm_e61d'\")\n",
    "tmp_col = pd.DataFrame(curs.fetchall())\n",
    "curs.execute(prod_rslt_sql)\n",
    "prod_rslt = pd.DataFrame(curs.fetchall())\n",
    "prod_rslt.columns = tmp_col[0].values.tolist()\n",
    "\n",
    "curs.execute(\"select column_name from information_schema.columns where table_name='prod_prev' and table_schema='gscm_e61d'\")\n",
    "tmp_col = pd.DataFrame(curs.fetchall())\n",
    "curs.execute(prod_prev_sql)\n",
    "prod_prev = pd.DataFrame(curs.fetchall())\n",
    "prod_prev.columns = tmp_col[0].values.tolist()\n",
    "\n",
    "\n",
    "curs.execute(\"select column_name from information_schema.columns where table_name='sale_plan' and table_schema='gscm_e61d'\")\n",
    "tmp_col = pd.DataFrame(curs.fetchall())\n",
    "curs.execute(sale_plan_sql)\n",
    "sale_plan = pd.DataFrame(curs.fetchall())\n",
    "sale_plan.columns = tmp_col[0].values.tolist()\n",
    "\n",
    "curs.execute(\"select column_name from information_schema.columns where table_name='sale_rslt' and table_schema='gscm_e61d'\")\n",
    "tmp_col = pd.DataFrame(curs.fetchall())\n",
    "curs.execute(sale_rslt_sql)\n",
    "sale_rslt = pd.DataFrame(curs.fetchall())\n",
    "sale_rslt.columns = tmp_col[0].values.tolist()\n",
    "\n",
    "curs.execute(\"select column_name from information_schema.columns where table_name='sale_prev' and table_schema='gscm_e61d'\")\n",
    "tmp_col = pd.DataFrame(curs.fetchall())\n",
    "curs.execute(sale_prev_sql)\n",
    "sale_prev = pd.DataFrame(curs.fetchall())\n",
    "sale_prev.columns = tmp_col[0].values.tolist()\n",
    "\n",
    "\n",
    "conn.commit()\n",
    "conn.close()"
   ]
  },
  {
   "cell_type": "code",
   "execution_count": 4,
   "id": "20dd9400",
   "metadata": {},
   "outputs": [],
   "source": [
    "product_prev = []\n",
    "tmp_prod_prev_ = [x.split('/') for x in prod_prev['target_ww']]\n",
    "for i in range(0, prod_prev.shape[0]):\n",
    "    tmp_ww = prod_prev['ww'].loc[i]\n",
    "    tmp_s =  dt_table.index[dt_table['ww']==tmp_ww].tolist()[0]#-12\n",
    "    tmp_split = pd.DataFrame([x.split(':') for x in tmp_prod_prev_[i]])\n",
    "    tmp_split.columns = ['ww','qty']\n",
    "    \n",
    "    tmp_prev_qty = []\n",
    "    for k in range(1, 13):\n",
    "        if any(str(dt_table['ww'].loc[tmp_s-k]) == tmp_split['ww']):\n",
    "            tmp_ind = [i for i, x in enumerate(str(dt_table['ww'].loc[tmp_s-k]) == tmp_split['ww']) if x]    \n",
    "            tmp_prev_qty.append(float(tmp_split['qty'].loc[tmp_ind].values[0]))\n",
    "        else:\n",
    "            tmp_prev_qty.append(0.0)\n",
    "    tmp_product_prev = prod_prev[['ww','date']].loc[i].values.tolist() + tmp_prev_qty\n",
    "    product_prev.append(tmp_product_prev)\n",
    "product_prev = pd.DataFrame(product_prev)\n",
    "product_prev.columns = ['ww', 'date'] + ['product_prev_'+ str(x) for x in range(1,13)]\n",
    "product_prev = product_prev.drop(['date'], axis=1)\n",
    "\n",
    "sales_prev = []\n",
    "tmp_sale_prev_ = [x.split('/') for x in sale_prev['target_ww']]\n",
    "for i in range(0, sale_prev.shape[0]):    \n",
    "    tmp_ww = sale_prev['ww'].loc[i]    \n",
    "    tmp_s =  dt_table.index[dt_table['ww']==tmp_ww].tolist()[0]#-12\n",
    "    if len(tmp_sale_prev_[i][0])>0:\n",
    "        tmp_split = pd.DataFrame([x.split(':') for x in tmp_sale_prev_[i]])    \n",
    "        tmp_split.columns = ['ww','qty']\n",
    "        tmp_prev_qty = []\n",
    "        for k in range(1, 13):\n",
    "            if any(str(dt_table['ww'].loc[tmp_s-k]) == tmp_split['ww']):\n",
    "                tmp_ind = [i for i, x in enumerate(str(dt_table['ww'].loc[tmp_s-k]) == tmp_split['ww']) if x]    \n",
    "                tmp_prev_qty.append(float(tmp_split['qty'].loc[tmp_ind].values[0]))\n",
    "            else:\n",
    "                tmp_prev_qty.append(0.0)\n",
    "        tmp_sales_prev = sale_prev[['ww','date']].loc[i].values.tolist() + tmp_prev_qty\n",
    "        sales_prev.append(tmp_sales_prev)\n",
    "    else:\n",
    "        tmp_sales_prev = sale_prev[['ww','date']].loc[i].values.tolist()\n",
    "        sales_prev.append(tmp_sales_prev)        \n",
    "sales_prev = pd.DataFrame(sales_prev)\n",
    "sales_prev = sales_prev.fillna(0)\n",
    "sales_prev.columns = ['ww', 'date'] + ['sales_prev_'+ str(x) for x in range(1,13)]\n",
    "sales_prev = sales_prev.drop(['date'], axis=1)\n",
    "\n",
    "sales_prev['ww_new'] = [dt_table['ww'].loc[dt_table.index[dt_table['ww']==sales_prev['ww'][x]].tolist()[0]+2] for x in range(0, sales_prev.shape[0])]\n",
    "sales_prev = sales_prev.drop('ww', axis=1)\n",
    "tmp_d_set = pd.merge(y_inven, product_prev, how='left', left_on='ww', right_on='ww')\n",
    "d_set = pd.merge(tmp_d_set, sales_prev, how='inner', left_on='ww', right_on='ww_new')\n",
    "d_set = d_set.drop('ww_new', axis=1)\n"
   ]
  },
  {
   "cell_type": "code",
   "execution_count": 18,
   "id": "f9f330cd",
   "metadata": {},
   "outputs": [],
   "source": [
    "current = 202102#np.max(y_inven['ww'].values)"
   ]
  },
  {
   "cell_type": "code",
   "execution_count": 19,
   "id": "912bd68c",
   "metadata": {
    "scrolled": true
   },
   "outputs": [
    {
     "name": "stdout",
     "output_type": "stream",
     "text": [
      "|   iter    |  target   |  g_alpha  |   k_dot   |   rbf_l   |  theta1   | tmp_pr... | tmp_va... | tmp_va... |  w_noise  |\n",
      "-------------------------------------------------------------------------------------------------------------------------\n",
      "| \u001b[0m 1       \u001b[0m | \u001b[0m 81.6    \u001b[0m | \u001b[0m 0.4129  \u001b[0m | \u001b[0m 72.03   \u001b[0m | \u001b[0m 0.001144\u001b[0m | \u001b[0m 3.023   \u001b[0m | \u001b[0m 2.027   \u001b[0m | \u001b[0m 2.016   \u001b[0m | \u001b[0m 3.049   \u001b[0m | \u001b[0m 34.56   \u001b[0m |\n",
      "| \u001b[0m 2       \u001b[0m | \u001b[0m 77.72   \u001b[0m | \u001b[0m 0.3928  \u001b[0m | \u001b[0m 53.88   \u001b[0m | \u001b[0m 4.192   \u001b[0m | \u001b[0m 6.852   \u001b[0m | \u001b[0m 2.431   \u001b[0m | \u001b[0m 10.66   \u001b[0m | \u001b[0m 1.301   \u001b[0m | \u001b[0m 67.05   \u001b[0m |\n",
      "| \u001b[0m 3       \u001b[0m | \u001b[0m 78.84   \u001b[0m | \u001b[0m 0.4131  \u001b[0m | \u001b[0m 55.87   \u001b[0m | \u001b[0m 1.404   \u001b[0m | \u001b[0m 1.981   \u001b[0m | \u001b[0m 6.605   \u001b[0m | \u001b[0m 11.65   \u001b[0m | \u001b[0m 4.448   \u001b[0m | \u001b[0m 69.23   \u001b[0m |\n",
      "| \u001b[0m 4       \u001b[0m | \u001b[0m 74.71   \u001b[0m | \u001b[0m 0.8676  \u001b[0m | \u001b[0m 89.46   \u001b[0m | \u001b[0m 0.8504  \u001b[0m | \u001b[0m 0.3905  \u001b[0m | \u001b[0m 2.189   \u001b[0m | \u001b[0m 10.66   \u001b[0m | \u001b[0m 2.082   \u001b[0m | \u001b[0m 42.11   \u001b[0m |\n",
      "| \u001b[0m 5       \u001b[0m | \u001b[0m 74.6    \u001b[0m | \u001b[0m 0.9483  \u001b[0m | \u001b[0m 53.32   \u001b[0m | \u001b[0m 6.919   \u001b[0m | \u001b[0m 3.155   \u001b[0m | \u001b[0m 5.806   \u001b[0m | \u001b[0m 10.18   \u001b[0m | \u001b[0m 1.201   \u001b[0m | \u001b[0m 75.01   \u001b[0m |\n",
      "| \u001b[0m 6       \u001b[0m | \u001b[0m 73.39   \u001b[0m | \u001b[0m 0.979   \u001b[0m | \u001b[0m 74.82   \u001b[0m | \u001b[0m 2.804   \u001b[0m | \u001b[0m 7.893   \u001b[0m | \u001b[0m 1.723   \u001b[0m | \u001b[0m 5.927   \u001b[0m | \u001b[0m 10.99   \u001b[0m | \u001b[0m 29.36   \u001b[0m |\n",
      "| \u001b[95m 7       \u001b[0m | \u001b[95m 82.93   \u001b[0m | \u001b[95m 0.2849  \u001b[0m | \u001b[95m 13.0    \u001b[0m | \u001b[95m 0.1937  \u001b[0m | \u001b[95m 6.788   \u001b[0m | \u001b[95m 2.481   \u001b[0m | \u001b[95m 3.921   \u001b[0m | \u001b[95m 6.407   \u001b[0m | \u001b[95m 5.336   \u001b[0m |\n",
      "| \u001b[0m 8       \u001b[0m | \u001b[0m 74.61   \u001b[0m | \u001b[0m 0.5684  \u001b[0m | \u001b[0m 14.67   \u001b[0m | \u001b[0m 5.893   \u001b[0m | \u001b[0m 6.998   \u001b[0m | \u001b[0m 1.716   \u001b[0m | \u001b[0m 5.555   \u001b[0m | \u001b[0m 8.638   \u001b[0m | \u001b[0m 41.42   \u001b[0m |\n",
      "| \u001b[0m 9       \u001b[0m | \u001b[0m 72.32   \u001b[0m | \u001b[0m 0.04945 \u001b[0m | \u001b[0m 53.59   \u001b[0m | \u001b[0m 6.638   \u001b[0m | \u001b[0m 5.149   \u001b[0m | \u001b[0m 7.612   \u001b[0m | \u001b[0m 7.452   \u001b[0m | \u001b[0m 10.94   \u001b[0m | \u001b[0m 13.75   \u001b[0m |\n",
      "| \u001b[0m 10      \u001b[0m | \u001b[0m 76.68   \u001b[0m | \u001b[0m 0.1379  \u001b[0m | \u001b[0m 80.74   \u001b[0m | \u001b[0m 3.977   \u001b[0m | \u001b[0m 1.654   \u001b[0m | \u001b[0m 7.493   \u001b[0m | \u001b[0m 4.825   \u001b[0m | \u001b[0m 9.259   \u001b[0m | \u001b[0m 72.6    \u001b[0m |\n",
      "| \u001b[0m 11      \u001b[0m | \u001b[0m 73.95   \u001b[0m | \u001b[0m 0.9448  \u001b[0m | \u001b[0m 57.68   \u001b[0m | \u001b[0m 0.8736  \u001b[0m | \u001b[0m 1.072   \u001b[0m | \u001b[0m 7.676   \u001b[0m | \u001b[0m 9.859   \u001b[0m | \u001b[0m 5.711   \u001b[0m | \u001b[0m 67.25   \u001b[0m |\n",
      "| \u001b[0m 12      \u001b[0m | \u001b[0m 73.67   \u001b[0m | \u001b[0m 0.7974  \u001b[0m | \u001b[0m 15.18   \u001b[0m | \u001b[0m 3.237   \u001b[0m | \u001b[0m 4.322   \u001b[0m | \u001b[0m 7.715   \u001b[0m | \u001b[0m 8.121   \u001b[0m | \u001b[0m 6.984   \u001b[0m | \u001b[0m 94.76   \u001b[0m |\n",
      "| \u001b[0m 13      \u001b[0m | \u001b[0m 78.42   \u001b[0m | \u001b[0m 0.28    \u001b[0m | \u001b[0m 83.68   \u001b[0m | \u001b[0m 0.1909  \u001b[0m | \u001b[0m 2.006   \u001b[0m | \u001b[0m 3.429   \u001b[0m | \u001b[0m 1.603   \u001b[0m | \u001b[0m 6.838   \u001b[0m | \u001b[0m 40.95   \u001b[0m |\n",
      "| \u001b[0m 14      \u001b[0m | \u001b[0m 81.36   \u001b[0m | \u001b[0m 0.3623  \u001b[0m | \u001b[0m 46.92   \u001b[0m | \u001b[0m 5.373   \u001b[0m | \u001b[0m 2.653   \u001b[0m | \u001b[0m 7.964   \u001b[0m | \u001b[0m 3.462   \u001b[0m | \u001b[0m 3.77    \u001b[0m | \u001b[0m 89.39   \u001b[0m |\n",
      "| \u001b[0m 15      \u001b[0m | \u001b[0m 75.22   \u001b[0m | \u001b[0m 0.1273  \u001b[0m | \u001b[0m 2.083   \u001b[0m | \u001b[0m 8.872   \u001b[0m | \u001b[0m 7.994   \u001b[0m | \u001b[0m 6.618   \u001b[0m | \u001b[0m 6.185   \u001b[0m | \u001b[0m 10.09   \u001b[0m | \u001b[0m 60.05   \u001b[0m |\n",
      "| \u001b[0m 16      \u001b[0m | \u001b[0m 73.59   \u001b[0m | \u001b[0m 0.9449  \u001b[0m | \u001b[0m 50.8    \u001b[0m | \u001b[0m 3.294   \u001b[0m | \u001b[0m 5.376   \u001b[0m | \u001b[0m 5.139   \u001b[0m | \u001b[0m 7.079   \u001b[0m | \u001b[0m 7.993   \u001b[0m | \u001b[0m 88.04   \u001b[0m |\n",
      "| \u001b[0m 17      \u001b[0m | \u001b[0m 71.49   \u001b[0m | \u001b[0m 0.09027 \u001b[0m | \u001b[0m 46.61   \u001b[0m | \u001b[0m 1.003   \u001b[0m | \u001b[0m 7.06    \u001b[0m | \u001b[0m 4.6     \u001b[0m | \u001b[0m 6.36    \u001b[0m | \u001b[0m 11.8    \u001b[0m | \u001b[0m 19.81   \u001b[0m |\n",
      "| \u001b[0m 18      \u001b[0m | \u001b[0m 77.09   \u001b[0m | \u001b[0m 0.08163 \u001b[0m | \u001b[0m 24.96   \u001b[0m | \u001b[0m 2.219   \u001b[0m | \u001b[0m 8.699   \u001b[0m | \u001b[0m 2.599   \u001b[0m | \u001b[0m 5.573   \u001b[0m | \u001b[0m 5.179   \u001b[0m | \u001b[0m 94.97   \u001b[0m |\n",
      "| \u001b[0m 19      \u001b[0m | \u001b[0m 77.88   \u001b[0m | \u001b[0m 0.2393  \u001b[0m | \u001b[0m 84.02   \u001b[0m | \u001b[0m 8.518   \u001b[0m | \u001b[0m 5.874   \u001b[0m | \u001b[0m 2.388   \u001b[0m | \u001b[0m 2.221   \u001b[0m | \u001b[0m 8.923   \u001b[0m | \u001b[0m 62.17   \u001b[0m |\n",
      "| \u001b[0m 20      \u001b[0m | \u001b[0m 80.04   \u001b[0m | \u001b[0m 0.3013  \u001b[0m | \u001b[0m 50.42   \u001b[0m | \u001b[0m 0.02496 \u001b[0m | \u001b[0m 8.423   \u001b[0m | \u001b[0m 6.058   \u001b[0m | \u001b[0m 3.547   \u001b[0m | \u001b[0m 1.452   \u001b[0m | \u001b[0m 76.37   \u001b[0m |\n",
      "| \u001b[0m 21      \u001b[0m | \u001b[0m 80.64   \u001b[0m | \u001b[0m 0.1497  \u001b[0m | \u001b[0m 38.96   \u001b[0m | \u001b[0m 7.288   \u001b[0m | \u001b[0m 6.121   \u001b[0m | \u001b[0m 7.866   \u001b[0m | \u001b[0m 3.209   \u001b[0m | \u001b[0m 6.991   \u001b[0m | \u001b[0m 11.58   \u001b[0m |\n",
      "| \u001b[0m 22      \u001b[0m | \u001b[0m 72.67   \u001b[0m | \u001b[0m 0.6398  \u001b[0m | \u001b[0m 85.62   \u001b[0m | \u001b[0m 3.537   \u001b[0m | \u001b[0m 2.252   \u001b[0m | \u001b[0m 4.368   \u001b[0m | \u001b[0m 6.032   \u001b[0m | \u001b[0m 11.05   \u001b[0m | \u001b[0m 41.2    \u001b[0m |\n",
      "| \u001b[0m 23      \u001b[0m | \u001b[0m 78.12   \u001b[0m | \u001b[0m 0.319   \u001b[0m | \u001b[0m 15.19   \u001b[0m | \u001b[0m 4.066   \u001b[0m | \u001b[0m 7.223   \u001b[0m | \u001b[0m 1.308   \u001b[0m | \u001b[0m 4.426   \u001b[0m | \u001b[0m 2.622   \u001b[0m | \u001b[0m 2.782   \u001b[0m |\n",
      "| \u001b[0m 24      \u001b[0m | \u001b[0m 73.75   \u001b[0m | \u001b[0m 0.1577  \u001b[0m | \u001b[0m 60.27   \u001b[0m | \u001b[0m 1.481   \u001b[0m | \u001b[0m 5.014   \u001b[0m | \u001b[0m 6.581   \u001b[0m | \u001b[0m 9.311   \u001b[0m | \u001b[0m 7.057   \u001b[0m | \u001b[0m 25.51   \u001b[0m |\n",
      "| \u001b[0m 25      \u001b[0m | \u001b[0m 75.28   \u001b[0m | \u001b[0m 0.4122  \u001b[0m | \u001b[0m 9.708   \u001b[0m | \u001b[0m 0.8714  \u001b[0m | \u001b[0m 4.179   \u001b[0m | \u001b[0m 3.133   \u001b[0m | \u001b[0m 8.801   \u001b[0m | \u001b[0m 1.653   \u001b[0m | \u001b[0m 14.78   \u001b[0m |\n",
      "| \u001b[0m 26      \u001b[0m | \u001b[0m 78.68   \u001b[0m | \u001b[0m 0.3023  \u001b[0m | \u001b[0m 44.7    \u001b[0m | \u001b[0m 1.256   \u001b[0m | \u001b[0m 2.499   \u001b[0m | \u001b[0m 7.281   \u001b[0m | \u001b[0m 2.0     \u001b[0m | \u001b[0m 9.061   \u001b[0m | \u001b[0m 67.03   \u001b[0m |\n",
      "| \u001b[0m 27      \u001b[0m | \u001b[0m 79.47   \u001b[0m | \u001b[0m 0.6716  \u001b[0m | \u001b[0m 74.13   \u001b[0m | \u001b[0m 8.726   \u001b[0m | \u001b[0m 6.291   \u001b[0m | \u001b[0m 1.662   \u001b[0m | \u001b[0m 4.992   \u001b[0m | \u001b[0m 8.013   \u001b[0m | \u001b[0m 5.108   \u001b[0m |\n",
      "| \u001b[0m 28      \u001b[0m | \u001b[0m 74.84   \u001b[0m | \u001b[0m 0.9363  \u001b[0m | \u001b[0m 98.73   \u001b[0m | \u001b[0m 6.256   \u001b[0m | \u001b[0m 2.373   \u001b[0m | \u001b[0m 7.05    \u001b[0m | \u001b[0m 7.771   \u001b[0m | \u001b[0m 8.389   \u001b[0m | \u001b[0m 6.098   \u001b[0m |\n",
      "| \u001b[0m 29      \u001b[0m | \u001b[0m 80.81   \u001b[0m | \u001b[0m 0.5591  \u001b[0m | \u001b[0m 80.87   \u001b[0m | \u001b[0m 9.738   \u001b[0m | \u001b[0m 0.8996  \u001b[0m | \u001b[0m 4.301   \u001b[0m | \u001b[0m 4.378   \u001b[0m | \u001b[0m 2.223   \u001b[0m | \u001b[0m 74.8    \u001b[0m |\n",
      "| \u001b[0m 30      \u001b[0m | \u001b[0m 72.47   \u001b[0m | \u001b[0m 0.8057  \u001b[0m | \u001b[0m 91.21   \u001b[0m | \u001b[0m 6.691   \u001b[0m | \u001b[0m 6.231   \u001b[0m | \u001b[0m 4.306   \u001b[0m | \u001b[0m 9.923   \u001b[0m | \u001b[0m 6.994   \u001b[0m | \u001b[0m 90.43   \u001b[0m |\n",
      "| \u001b[0m 31      \u001b[0m | \u001b[0m 73.33   \u001b[0m | \u001b[0m 0.8264  \u001b[0m | \u001b[0m 84.42   \u001b[0m | \u001b[0m 6.595   \u001b[0m | \u001b[0m 7.349   \u001b[0m | \u001b[0m 3.684   \u001b[0m | \u001b[0m 8.35    \u001b[0m | \u001b[0m 4.722   \u001b[0m | \u001b[0m 6.942   \u001b[0m |\n",
      "| \u001b[0m 32      \u001b[0m | \u001b[0m 80.1    \u001b[0m | \u001b[0m 0.7607  \u001b[0m | \u001b[0m 19.78   \u001b[0m | \u001b[0m 7.618   \u001b[0m | \u001b[0m 9.706   \u001b[0m | \u001b[0m 4.689   \u001b[0m | \u001b[0m 5.293   \u001b[0m | \u001b[0m 3.332   \u001b[0m | \u001b[0m 67.8    \u001b[0m |\n",
      "| \u001b[95m 33      \u001b[0m | \u001b[95m 84.71   \u001b[0m | \u001b[95m 0.9068  \u001b[0m | \u001b[95m 29.71   \u001b[0m | \u001b[95m 7.926   \u001b[0m | \u001b[95m 6.722   \u001b[0m | \u001b[95m 3.05    \u001b[0m | \u001b[95m 1.459   \u001b[0m | \u001b[95m 8.025   \u001b[0m | \u001b[95m 23.94   \u001b[0m |\n",
      "| \u001b[0m 34      \u001b[0m | \u001b[0m 75.48   \u001b[0m | \u001b[0m 0.3073  \u001b[0m | \u001b[0m 92.22   \u001b[0m | \u001b[0m 7.517   \u001b[0m | \u001b[0m 4.567   \u001b[0m | \u001b[0m 6.652   \u001b[0m | \u001b[0m 7.151   \u001b[0m | \u001b[0m 5.449   \u001b[0m | \u001b[0m 70.46   \u001b[0m |\n",
      "| \u001b[0m 35      \u001b[0m | \u001b[0m 75.53   \u001b[0m | \u001b[0m 0.6535  \u001b[0m | \u001b[0m 3.984   \u001b[0m | \u001b[0m 2.272   \u001b[0m | \u001b[0m 3.149   \u001b[0m | \u001b[0m 5.818   \u001b[0m | \u001b[0m 6.206   \u001b[0m | \u001b[0m 1.15    \u001b[0m | \u001b[0m 24.93   \u001b[0m |\n",
      "| \u001b[0m 36      \u001b[0m | \u001b[0m 73.59   \u001b[0m | \u001b[0m 0.8819  \u001b[0m | \u001b[0m 81.15   \u001b[0m | \u001b[0m 7.692   \u001b[0m | \u001b[0m 8.749   \u001b[0m | \u001b[0m 6.7     \u001b[0m | \u001b[0m 8.714   \u001b[0m | \u001b[0m 5.556   \u001b[0m | \u001b[0m 23.23   \u001b[0m |\n",
      "| \u001b[0m 37      \u001b[0m | \u001b[0m 79.54   \u001b[0m | \u001b[0m 0.1374  \u001b[0m | \u001b[0m 31.76   \u001b[0m | \u001b[0m 7.932   \u001b[0m | \u001b[0m 9.068   \u001b[0m | \u001b[0m 7.637   \u001b[0m | \u001b[0m 3.824   \u001b[0m | \u001b[0m 7.676   \u001b[0m | \u001b[0m 88.88   \u001b[0m |\n",
      "| \u001b[0m 38      \u001b[0m | \u001b[0m 74.82   \u001b[0m | \u001b[0m 0.46    \u001b[0m | \u001b[0m 97.2    \u001b[0m | \u001b[0m 2.676   \u001b[0m | \u001b[0m 8.335   \u001b[0m | \u001b[0m 5.116   \u001b[0m | \u001b[0m 6.339   \u001b[0m | \u001b[0m 3.019   \u001b[0m | \u001b[0m 39.86   \u001b[0m |\n",
      "| \u001b[0m 39      \u001b[0m | \u001b[0m 72.59   \u001b[0m | \u001b[0m 0.819   \u001b[0m | \u001b[0m 12.34   \u001b[0m | \u001b[0m 4.054   \u001b[0m | \u001b[0m 3.544   \u001b[0m | \u001b[0m 4.625   \u001b[0m | \u001b[0m 11.92   \u001b[0m | \u001b[0m 3.022   \u001b[0m | \u001b[0m 46.14   \u001b[0m |\n",
      "| \u001b[0m 40      \u001b[0m | \u001b[0m 75.98   \u001b[0m | \u001b[0m 0.5316  \u001b[0m | \u001b[0m 96.91   \u001b[0m | \u001b[0m 7.768   \u001b[0m | \u001b[0m 4.985   \u001b[0m | \u001b[0m 1.595   \u001b[0m | \u001b[0m 11.85   \u001b[0m | \u001b[0m 2.446   \u001b[0m | \u001b[0m 28.92   \u001b[0m |\n",
      "=========================================================================================================================\n",
      "84.71216193301785\n",
      "Prev Inven : 3, Var Sale : 8, Var Product : 1\n"
     ]
    }
   ],
   "source": [
    "dt_current = (dt_table.index[dt_table['ww'] == current].tolist()[0])-1\n",
    "pred_ww = dt_table['ww'].loc[dt_current+1:].values.tolist()\n",
    "opt_set = d_set.iloc[:d_set.index[d_set['ww'] == dt_table.loc[dt_current].values.tolist()[0]][0]+1,:]\n",
    "\n",
    "warnings.filterwarnings(action='ignore', category=UserWarning)\n",
    "param_bound = {'theta1' : (0, 10), 'g_alpha' : (0.0,0.99) , 'k_dot' : (0, 100), 'w_noise' : (0.0, 100), 'rbf_l' : (0, 10), \n",
    "               'tmp_prev_inven_col' : (1,8), 'tmp_var_sale_col' : (1, 12), 'tmp_var_product_col' : (1, 12)}\n",
    "\n",
    "product_optimizer = BayesianOptimization(f=h_opt, pbounds=param_bound, verbose=2, random_state=1)\n",
    "product_optimizer.maximize(init_points=10, n_iter=30)\n",
    "print(product_optimizer.max['target'])\n",
    "\n",
    "g_alpha = product_optimizer.max['params']['g_alpha']\n",
    "k_dot = product_optimizer.max['params']['k_dot']\n",
    "rbf_l = product_optimizer.max['params']['rbf_l']\n",
    "theta1 =product_optimizer.max['params']['theta1']\n",
    "prev_inven_col = round(product_optimizer.max['params']['tmp_prev_inven_col'])\n",
    "var_product_col = round(product_optimizer.max['params']['tmp_var_product_col'])\n",
    "var_sale_col = round(product_optimizer.max['params']['tmp_var_sale_col'])\n",
    "w_noise = product_optimizer.max['params']['w_noise']\n",
    "print(\"Prev Inven : %d, Var Sale : %d, Var Product : %d\"%(prev_inven_col, var_sale_col, var_product_col))\n",
    "\n",
    "train_set = opt_set\n",
    "\n",
    "prev_inven_name   = [s for s in train_set.columns.values if 'prev_inven_' in s]    \n",
    "var_sale_name     = [s for s in train_set.columns.values if 'sales_prev_' in s]\n",
    "var_product_name  = [s for s in train_set.columns.values if 'product_prev_' in s]\n",
    "train_x_name = prev_inven_name[:prev_inven_col]+var_sale_name[:var_sale_col]+var_product_name[:var_product_col]\n",
    "kernel =  theta1 * RBF(rbf_l) + WhiteKernel(w_noise)  + DotProduct(k_dot) ## RBF(2) + WhiteKernel(1)  + \n",
    "gp = GaussianProcessRegressor(kernel=kernel, alpha=g_alpha, n_restarts_optimizer=3)\n",
    "gp.fit(train_set[train_x_name], train_set['inven'])\n",
    "\n",
    "train_pred, train_sigma = gp.predict(train_set[train_x_name], return_std=True)\n",
    " "
   ]
  },
  {
   "cell_type": "code",
   "execution_count": 97,
   "id": "eecb3f49",
   "metadata": {},
   "outputs": [],
   "source": [
    "current_ind = prod_plan.index[prod_plan['ww'] == current].tolist()[0]\n",
    "for i in range(0,var_product_col):\n",
    "    #print(prod_plan.loc[current_ind-i])\n",
    "    tmp_split = [x.split(\":\") for x in prod_plan['target_ww'].loc[current_ind-i].split(\"/\")]\n",
    "    tmp_split_df = pd.DataFrame(tmp_split)\n",
    "    tmp_split_df.columns = ['ww', 'product_prev'+str(i+1)]\n",
    "    tmp_ww_ind = [tmp_split_df['ww'].values.tolist().index(str(x)) for i, x in enumerate(pred_ww) if str(x) in tmp_split_df['ww'].values]\n",
    "    tmp_prod_plan_test = tmp_split_df.iloc[tmp_ww_ind,:].reset_index(drop=True)    \n",
    "    if i == 0 :\n",
    "        prod_plan_test = tmp_prod_plan_test\n",
    "    else:\n",
    "        prod_plan_test = pd.merge(prod_plan_test, tmp_prod_plan_test, how='inner', on='ww')\n",
    "        \n",
    "current_ind = sale_plan.index[sale_plan['ww'] == dt_table['ww'].loc[dt_current-2]].tolist()[0]\n",
    "#current_ind = sale_plan.index[sale_plan['ww'] == current].tolist()[0]\n",
    "for i in range(0,var_sale_col):\n",
    "    #print(prod_plan.loc[current_ind-i])\n",
    "    tmp_split = [x.split(\":\") for x in sale_plan['target_ww'].loc[current_ind-i].split(\"/\")]\n",
    "    tmp_split_df = pd.DataFrame(tmp_split)\n",
    "    tmp_split_df.columns = ['ww', 'sales_prev'+str(i+1)]    \n",
    "    tmp_split_df['ww'] = [str(dt_table['ww'].loc[dt_table.index[dt_table['ww']==int(tmp_split_df['ww'][x])].tolist()[0]+2]) for x in range(0, tmp_split_df.shape[0])]    \n",
    "    tmp_ww_ind = [tmp_split_df['ww'].values.tolist().index(str(x)) for i, x in enumerate(pred_ww) if str(x) in tmp_split_df['ww'].values]    \n",
    "    tmp_sale_plan_test = tmp_split_df.iloc[tmp_ww_ind,:].reset_index(drop=True)      \n",
    "    if i == 0 :\n",
    "        sale_plan_test = tmp_sale_plan_test\n",
    "    else:\n",
    "        sale_plan_test = pd.merge(sale_plan_test, tmp_sale_plan_test, how='left', on='ww')\n",
    "test_x = pd.merge(sale_plan_test, prod_plan_test, how='inner', on='ww')\n",
    "test_x = test_x.astype('float')\n",
    "test_x = test_x.astype({'ww': 'int'})       \n",
    "\n",
    "test_inven_init = np.array(train_set[['inven']+['prev_inven_'+str(x) for x in range(1,prev_inven_col)]][train_set['ww']==dt_table['ww'].loc[dt_current]]).reshape(-1)\n",
    "rslt_set, test_pred, test_sigma = [], [], []\n",
    "for i in range(0, test_x.shape[0]):    \n",
    "    tmp_pred_inven_mean, tmp_pred_inven_std = gp.predict(np.concatenate([test_inven_init, test_x.iloc[i,1:]]).reshape(1,-1), return_std=True)\n",
    "    test_pred.append(tmp_pred_inven_mean[0])\n",
    "    test_sigma.append(tmp_pred_inven_std[0])\n",
    "    tmp_rslt = np.concatenate([tmp_pred_inven_mean, test_inven_init, test_x.iloc[i,1:]])\n",
    "    test_inven_init = np.insert(test_inven_init, 0, tmp_pred_inven_mean)[:prev_inven_col]\n",
    "    rslt_set.append(tmp_rslt)\n",
    "rslt_set = pd.DataFrame(rslt_set)\n",
    "rslt_set['ww'] = test_x['ww']\n",
    "ww_col = rslt_set.columns[-1:].to_list()\n",
    "x_col = rslt_set.columns[:-1].to_list()\n",
    "set_col = ww_col + x_col\n",
    "rslt_set = rslt_set[set_col]\n",
    "rslt_set.columns = list(['ww','pred_inven'])+train_x_name #total_set.columns\n",
    "\n",
    "tmp_train_set = train_set[['ww','inven']].copy()\n",
    "tmp_train_set['inven_pred'] = train_pred\n",
    "tmp_train_set.head()\n",
    "tmp_test_set = pd.DataFrame({'ww' :  pred_ww[:len(test_pred)], \n",
    "                             'inven' : np.repeat(-999, len(test_pred)),\n",
    "                             'inven_pred' : test_pred})\n",
    "tmp_day_set = pd.concat([tmp_train_set, tmp_test_set])\n",
    "tmp_day_set = tmp_day_set.reset_index(drop=True)\n",
    "\n",
    "tmp_train_sale = pd.merge(train_set['ww'], sale_rslt[['ww','sale']], how='inner', on='ww')\n",
    "tmp_test_sale = pd.DataFrame([x.split(':') for x in sale_plan['target_ww'][sale_plan['ww']==current].values.tolist()[0].split('/')])\n",
    "tmp_test_sale.columns = ['ww', 'sale']\n",
    "tmp_sale = pd.concat([tmp_train_sale, tmp_test_sale])\n",
    "tmp_sale = tmp_sale.astype({'ww': 'int'})  \n",
    "day_set = pd.merge(tmp_day_set, tmp_sale, how='inner', on='ww')\n",
    "day_set = day_set.astype({'sale' : 'float'})\n",
    "\n",
    "day_set_nonzero = day_set.copy()\n",
    "sale_col = np.where(day_set_nonzero.columns.values =='sale')[0][0]\n",
    "for i in range(0, day_set_nonzero.shape[0]):\n",
    "    tmp_ids = i-1 if i-1 > 0 else 0    \n",
    "    if day_set_nonzero['sale'].loc[i] == 0:        \n",
    "        day_set_nonzero.iloc[i, sale_col] = day_set_nonzero.iloc[tmp_ids, sale_col]\n",
    "        #day_set_nonzero.['sale'].loc[i] = day_set_nonzero['sale'].loc[tmp_ids]\n",
    "        \n",
    "\n",
    "inven_d = []\n",
    "for i in range(0, day_set_nonzero.shape[0]):\n",
    "    if i > 0 and i < day_set_nonzero.shape[0]-3:\n",
    "        tmp_sale_avg = np.mean(day_set_nonzero['sale'][i:(i+4)].values)\n",
    "        if i < day_set_nonzero[day_set_nonzero['ww'] == current].index[0] :\n",
    "            tmp_inven = day_set_nonzero['inven'][i-1]    \n",
    "        else:\n",
    "            tmp_inven = day_set_nonzero['inven_pred'][i-1]    \n",
    "        inven_d.append(round(tmp_inven / tmp_sale_avg * 6.76,1))\n",
    "    else:\n",
    "        inven_d.append(0)\n",
    "        \n",
    "day_set_nonzero['inven_d'] = inven_d      \n"
   ]
  },
  {
   "cell_type": "code",
   "execution_count": 49,
   "id": "b8b6d1a0",
   "metadata": {},
   "outputs": [],
   "source": [
    "for i in range(0, day_set_nonzero.shape[0]):\n",
    "    tmp_ids = i-1 if i-1 > 0 else 0    \n",
    "    if day_set_nonzero['sale'].loc[i] == 0:\n",
    "        day_set_nonzero['sale'].loc[i] = day_set_nonzero['sale'].loc[tmp_ids]"
   ]
  },
  {
   "cell_type": "code",
   "execution_count": 96,
   "id": "63e1c879",
   "metadata": {},
   "outputs": [
    {
     "data": {
      "text/plain": [
       "3"
      ]
     },
     "execution_count": 96,
     "metadata": {},
     "output_type": "execute_result"
    }
   ],
   "source": [
    "\n",
    "#day_set_nonzero.columns.values"
   ]
  },
  {
   "cell_type": "code",
   "execution_count": 61,
   "id": "8f0c6938",
   "metadata": {},
   "outputs": [
    {
     "name": "stdout",
     "output_type": "stream",
     "text": [
      "[192620. 192620. 192620.]\n",
      "26.6\n"
     ]
    }
   ],
   "source": [
    "i=100\n",
    "tmp_sale_avg = np.mean(day_set_nonzero['sale'][i:(i+4)].values)\n",
    "if i < day_set_nonzero[day_set_nonzero['ww'] == current].index[0] :\n",
    "    tmp_inven = day_set_nonzero['inven'][i-1]    \n",
    "else:\n",
    "    tmp_inven = day_set_nonzero['inven_pred'][i-1]    \n",
    "print(day_set_nonzero['sale'][i:(i+4)].values)\n",
    "print(round(tmp_inven / tmp_sale_avg * 6.76,1))\n"
   ]
  },
  {
   "cell_type": "code",
   "execution_count": 65,
   "id": "d7978d25",
   "metadata": {},
   "outputs": [
    {
     "data": {
      "text/plain": [
       "100    192620.0\n",
       "101    192620.0\n",
       "102    192620.0\n",
       "Name: sale, dtype: float64"
      ]
     },
     "execution_count": 65,
     "metadata": {},
     "output_type": "execute_result"
    }
   ],
   "source": [
    "day_set_nonzero['sale'][100:104]"
   ]
  },
  {
   "cell_type": "code",
   "execution_count": 71,
   "id": "8bfe26da",
   "metadata": {},
   "outputs": [
    {
     "data": {
      "text/plain": [
       "Index(['ww', 'inven', 'inven_pred', 'sale'], dtype='object')"
      ]
     },
     "execution_count": 71,
     "metadata": {},
     "output_type": "execute_result"
    }
   ],
   "source": [
    "day_set.columns"
   ]
  },
  {
   "cell_type": "code",
   "execution_count": null,
   "id": "7680375f",
   "metadata": {},
   "outputs": [],
   "source": []
  },
  {
   "cell_type": "code",
   "execution_count": null,
   "id": "8ec11bbd",
   "metadata": {},
   "outputs": [],
   "source": []
  },
  {
   "cell_type": "code",
   "execution_count": 9,
   "id": "d76daae4",
   "metadata": {},
   "outputs": [
    {
     "data": {
      "text/plain": [
       "[<matplotlib.lines.Line2D at 0x7f2f65778110>]"
      ]
     },
     "execution_count": 9,
     "metadata": {},
     "output_type": "execute_result"
    },
    {
     "data": {
      "image/png": "[encoded data removed]",
      "text/plain": [
       "<Figure size 2160x720 with 1 Axes>"
      ]
     },
     "metadata": {
      "needs_background": "light"
     },
     "output_type": "display_data"
    }
   ],
   "source": [
    "plt.figure(figsize=(30,10))\n",
    "plt.plot(day_set['inven_d'])"
   ]
  },
  {
   "cell_type": "code",
   "execution_count": null,
   "id": "13acd291",
   "metadata": {},
   "outputs": [],
   "source": []
  }
 ],
 "metadata": {
  "kernelspec": {
   "display_name": "Python 3",
   "language": "python",
   "name": "python3"
  },
  "language_info": {
   "codemirror_mode": {
    "name": "ipython",
    "version": 3
   },
   "file_extension": ".py",
   "mimetype": "text/x-python",
   "name": "python",
   "nbconvert_exporter": "python",
   "pygments_lexer": "ipython3",
   "version": "3.7.10"
  }
 },
 "nbformat": 4,
 "nbformat_minor": 5
}
