{
 "cells": [
  {
   "cell_type": "code",
   "execution_count": 1,
   "id": "a0e8f1e1",
   "metadata": {},
   "outputs": [
    {
     "name": "stdout",
     "output_type": "stream",
     "text": [
      "/project/work/2_E61D\n",
      "['data', '.ipynb_checkpoints', '0_E61D_Data_Pre_210630.ipynb']\n"
     ]
    }
   ],
   "source": [
    "import os\n",
    "import pandas as pd\n",
    "import numpy as np\n",
    "from datetime import datetime as dt\n",
    "import openpyxl\n",
    "import glob\n",
    "print(os.getcwd())\n",
    "print(os.listdir(os.getcwd())) \n",
    "# os.chdir(\"/project/work/3_CBEV/data\")"
   ]
  },
  {
   "cell_type": "markdown",
   "id": "f8511c3a",
   "metadata": {},
   "source": [
    "## (E61D) 월별 재고 데이터 (개별 xlsx 파일) CSV 변환"
   ]
  },
  {
   "cell_type": "code",
   "execution_count": 2,
   "id": "0ddf0d03",
   "metadata": {},
   "outputs": [
    {
     "name": "stderr",
     "output_type": "stream",
     "text": [
      "/home/ds_user1/.local/lib/python3.8/site-packages/openpyxl/styles/stylesheet.py:221: UserWarning: Workbook contains no default style, apply openpyxl's default\n",
      "  warn(\"Workbook contains no default style, apply openpyxl's default\")\n"
     ]
    }
   ],
   "source": [
    "excel_files = glob.glob('/project/work/2_E61D/data/*.xlsx')\n",
    "for excel_file in excel_files:\n",
    "    excel_out = excel_file.split('.')[0]+'.csv'\n",
    "    excel_df = pd.read_excel(excel_file, sheet_name='02. 일별 PSI 트렌드', engine='openpyxl')\n",
    "    excel_df.to_csv(excel_out)"
   ]
  },
  {
   "cell_type": "markdown",
   "id": "983336ce",
   "metadata": {},
   "source": [
    "## (E61D) 각 파일(CSV)별로 전처리 후 CSV로 재산출"
   ]
  },
  {
   "cell_type": "code",
   "execution_count": 3,
   "id": "56502100",
   "metadata": {},
   "outputs": [],
   "source": [
    "csv_files = glob.glob('/project/work/2_E61D/data/*.csv')\n",
    "for csv_file in csv_files:\n",
    "    csv_file_df = pd.read_csv(csv_file)\n",
    "    csv_file_df.columns = csv_file_df.iloc[15,:] # RAW에서 Header가 되는 행으로 대체\n",
    "    csv_file_df.dropna(inplace=True) # RAW에서 첫 16행은 불필요한 행이므로 삭제\n",
    "    csv_file_tmp_df = csv_file_df[(csv_file_df['자재'].str.slice(0,9)=='ACEN1060I') & (csv_file_df['자재그룹'].str.slice(0,4)=='E61D')] # E61D 제품 필터\n",
    "    csv_file_tmp_df = csv_file_tmp_df.iloc[:,[6,8,10,12,13,14,15]] # Raw에서 Data가 시작되는 부분, 필요한 부분만 slicing\n",
    "    csv_file_tmp_df['연월일'] = pd.to_datetime(csv_file_tmp_df[\"연월일\"], format=\"%Y년%m월%d일\") # 날짜 파이썬 기본 type으로 변경\n",
    "    csv_file_tmp_df['입고수량']=csv_file_tmp_df['입고수량'].str.replace('△','-') # Raw부분 △를 -로 대체\n",
    "    csv_file_tmp_df['출고수량']=csv_file_tmp_df['출고수량'].str.replace('△','-') # Raw부분 △를 -로 대체\n",
    "    csv_file_tmp_df['입고수량']=csv_file_tmp_df['입고수량'].str.replace(',','') # Raw부분 ,를 empty로 대체\n",
    "    csv_file_tmp_df['출고수량']=csv_file_tmp_df['출고수량'].str.replace(',','') # Raw부분 ,를 empty로 대체\n",
    "    csv_file_tmp_df['재고수량']=csv_file_tmp_df['재고수량'].str.replace(',','') # Raw부분 ,를 empty로 대체\n",
    "    csv_file_tmp_df=csv_file_tmp_df.astype({'입고수량':'float','출고수량':'float','재고수량':'float'})\n",
    "    csv_file_tmp_df.rename(columns={'연월일':'DATE','저장위치':'STORAGE','자재':'MATERIAL','입고수량':'INVEN_IN','출고수량':'INVEN_OUT','재고수량':'INVEN_TODAY'},inplace=True)\n",
    "    csv_file_tmp_df_year = list(pd.to_datetime(csv_file_tmp_df['DATE']).dt.isocalendar().year.values)\n",
    "    csv_file_tmp_df_WW = pd.to_datetime(csv_file_tmp_df['DATE']).dt.isocalendar().week.values    \n",
    "    csv_file_tmp_df_WW1 = list(map(lambda x : str(csv_file_tmp_df_WW[x]) if divmod(csv_file_tmp_df_WW[x], 10)[0] > 0 else str(0)+str(csv_file_tmp_df_WW[x]), range(0, len(csv_file_tmp_df_year))))\n",
    "    csv_file_tmp_df_date = list(map(lambda x : str(csv_file_tmp_df_year[x]) + csv_file_tmp_df_WW1[x], range(0, len(csv_file_tmp_df_year))))\n",
    "    csv_file_tmp_df['YYYYWW'] = csv_file_tmp_df_date\n",
    "    csv_file_tmp_df = csv_file_tmp_df.astype({'YYYYWW':'int'})\n",
    "    csv_file_tmp_df = csv_file_tmp_df[['MATERIAL','STORAGE','DATE','YYYYWW','INVEN_IN','INVEN_OUT','INVEN_TODAY']]\n",
    "    csv_out = csv_file.split('.')[0]+'_conv_'+'.csv'\n",
    "    csv_file_tmp_df.to_csv(csv_out)"
   ]
  },
  {
   "cell_type": "markdown",
   "id": "198ada2c",
   "metadata": {},
   "source": [
    "## (E61D) 전처리 완료된 월별 재고 Data CSV 파일 생성 후, WW별 주기 재고 파일 생성"
   ]
  },
  {
   "cell_type": "code",
   "execution_count": 5,
   "id": "88876379",
   "metadata": {},
   "outputs": [
    {
     "name": "stderr",
     "output_type": "stream",
     "text": [
      "<ipython-input-5-a711088db191>:25: FutureWarning: Indexing with multiple keys (implicitly converted to a tuple of keys) will be deprecated, use a list instead.\n",
      "  tmp_sum = pd.DataFrame(tmp_file1_sub1.groupby(['DATE','YYYYWW'])['INVEN_IN','INVEN_OUT','INVEN_TODAY'].sum()).reset_index() # 날짜 Workweek 기준으로 창고 묶음\n"
     ]
    }
   ],
   "source": [
    "input_file = r'/project/work/2_E61D/data/'\n",
    "output_file = r'/project/work/2_E61D/data/E61D_INVEN_COMBINED.csv'\n",
    "allFile_list = glob.glob(os.path.join(input_file,'*_conv_*')) #_conv_붙은 것들만 묶음\n",
    "\n",
    "allData = [] #전체 csv 파일 붙임\n",
    "for file in allFile_list:\n",
    "    all_df = pd.read_csv(file)\n",
    "    allData.append(all_df)\n",
    "    \n",
    "DataCombine = pd.concat(allData, axis=0)\n",
    "DataCombine.sort_values(by='DATE',ascending=True,inplace=True) #날짜별 sorting\n",
    "DataCombine.set_index('DATE',inplace=True)\n",
    "DataCombine.drop(['Unnamed: 0'],axis=1,inplace=True) # 필요없는 column 삭제\n",
    "DataCombine_ = DataCombine.reset_index()\n",
    "DataCombine.to_csv(output_file) # 1개 파일로 내보냄\n",
    "\n",
    "INVEN_COMBINED_DF = pd.read_csv('/project/work/2_E61D/data/E61D_INVEN_COMBINED.csv') #전처리 완료된 전체 기간 재고 데이터를 df로 저장\n",
    "INVEN_COMBINED_DF = pd.DataFrame(INVEN_COMBINED_DF) #여기까지는 전체 창고 포함 되어 있음\n",
    "\n",
    "inven_filter_ = [['3', 'C'], ['3','T'],['5','0']] # 저장 창고 위치에 따라서 분류\n",
    "for k in range(0, len(inven_filter_)):\n",
    "    tmp_store1, tmp_store2 = inven_filter_[k][0], inven_filter_[k][1]\n",
    "    tmp_file1_sub1 = INVEN_COMBINED_DF[(INVEN_COMBINED_DF['STORAGE'].str.slice(0,1) == tmp_store1)&(INVEN_COMBINED_DF['STORAGE'].str.slice(3,4) == tmp_store2)].copy()\n",
    "    tmp_file1_sub1.to_csv('/project/work/2_E61D/data/tmp_file1_sub1.csv', index=False)\n",
    "    tmp_sum = pd.DataFrame(tmp_file1_sub1.groupby(['DATE','YYYYWW'])['INVEN_IN','INVEN_OUT','INVEN_TODAY'].sum()).reset_index() # 날짜 Workweek 기준으로 창고 묶음\n",
    "    tmp_sum.to_csv('/project/work/2_E61D/data/tmp_sum.csv', index=False)\n",
    "    \n",
    "#     tmp_sum_1 = pd.DataFrame(tmp_sum.groupby('YYYYWW')['INVEN_TODAY'].min()).reset_index() # WW별 재고 최소값 산출\n",
    "#     tmp_sum_1.to_csv('/project/work/2_E61D/data/tmp_sum_1.csv', index=False)\n",
    "#     tmp_sum_1.rename(columns={'INVEN_TODAY':'INVEN_WW_MIN'},inplace=True) \n",
    "#     tmp_sum_1 = pd.DataFrame(tmp_sum_1)\n",
    "    \n",
    "#     tmp_min_cal = pd.merge(left = tmp_sum , right = tmp_sum_1, how = \"left\", on = \"YYYYWW\") # 기존 DF와 조인하여 일별 재고값 옆에 WW별 min 재고값 붙임\n",
    "#     tmp_min_cal[\"P_TMP\"] = tmp_min_cal[\"INVEN_TODAY\"] - tmp_min_cal[\"INVEN_WW_MIN\"] # 일별 재고값 - WW별 min 재고값 계산\n",
    "#     INVEN_WW_MIN_DONE_SUM = pd.DataFrame(tmp_min_cal.groupby('YYYYWW')['P_TMP'].sum()).reset_index() #WW별로 계산된 (각 일별재고 - 각 WW별 재고 min값)의 합\n",
    "#     INVEN_WW_OUT_SUM = pd.DataFrame(tmp_min_cal.groupby('YYYYWW')['INVEN_OUT'].sum()).reset_index() # WW별로 계산된 재고 출고 값들의 합\n",
    "    \n",
    "#     INVEN_WW_MIN_DONE_SUM['PERIODIC_INVEN_WW'] = INVEN_WW_MIN_DONE_SUM['P_TMP'] / INVEN_WW_OUT_SUM['INVEN_OUT'] # min값 빠진 일별 재고 값 / WW별 계신된 재고 출력\n",
    "#     PERIODIC_INVEN = round(INVEN_WW_MIN_DONE_SUM[['YYYYWW','PERIODIC_INVEN_WW']],1) # 계산된 주기재고 값을 소수점 1자리로 대체\n",
    "    \n",
    "#     PERIODIC_INVEN = PERIODIC_INVEN.replace([np.inf, -np.inf, np.nan], -999) # np.inf를 -999로 대체\n",
    "#     PERIODIC_INVEN = PERIODIC_INVEN.replace([''], -999) # np.inf를 -999로 대체\n",
    "\n",
    "#     PERIODIC_INVEN.to_csv('/project/work/2_E61D/data/E61D_PERIODIC_INVEN_WW_%sxx%s.csv'%(tmp_store1, tmp_store2), index=False)\n",
    "\n",
    "# PERIODIC_INVEN = pd.DataFrame(PERIODIC_INVEN)\n",
    "# PERIODIC_INVEN"
   ]
  },
  {
   "cell_type": "code",
   "execution_count": 6,
   "id": "4327ec08",
   "metadata": {},
   "outputs": [
    {
     "data": {
      "text/html": [
       "<div>\n",
       "<style scoped>\n",
       "    .dataframe tbody tr th:only-of-type {\n",
       "        vertical-align: middle;\n",
       "    }\n",
       "\n",
       "    .dataframe tbody tr th {\n",
       "        vertical-align: top;\n",
       "    }\n",
       "\n",
       "    .dataframe thead th {\n",
       "        text-align: right;\n",
       "    }\n",
       "</style>\n",
       "<table border=\"1\" class=\"dataframe\">\n",
       "  <thead>\n",
       "    <tr style=\"text-align: right;\">\n",
       "      <th></th>\n",
       "      <th>DATE</th>\n",
       "      <th>YYYYWW</th>\n",
       "      <th>INVEN_IN</th>\n",
       "      <th>INVEN_OUT</th>\n",
       "      <th>INVEN_TODAY</th>\n",
       "    </tr>\n",
       "  </thead>\n",
       "  <tbody>\n",
       "    <tr>\n",
       "      <th>0</th>\n",
       "      <td>2019-01-01</td>\n",
       "      <td>201901</td>\n",
       "      <td>0.0</td>\n",
       "      <td>0.0</td>\n",
       "      <td>520.0</td>\n",
       "    </tr>\n",
       "    <tr>\n",
       "      <th>1</th>\n",
       "      <td>2019-01-02</td>\n",
       "      <td>201901</td>\n",
       "      <td>0.0</td>\n",
       "      <td>0.0</td>\n",
       "      <td>520.0</td>\n",
       "    </tr>\n",
       "    <tr>\n",
       "      <th>2</th>\n",
       "      <td>2019-01-03</td>\n",
       "      <td>201901</td>\n",
       "      <td>77178.0</td>\n",
       "      <td>38400.0</td>\n",
       "      <td>39298.0</td>\n",
       "    </tr>\n",
       "    <tr>\n",
       "      <th>3</th>\n",
       "      <td>2019-01-04</td>\n",
       "      <td>201901</td>\n",
       "      <td>756.0</td>\n",
       "      <td>30618.0</td>\n",
       "      <td>9436.0</td>\n",
       "    </tr>\n",
       "    <tr>\n",
       "      <th>4</th>\n",
       "      <td>2019-01-05</td>\n",
       "      <td>201901</td>\n",
       "      <td>0.0</td>\n",
       "      <td>0.0</td>\n",
       "      <td>9436.0</td>\n",
       "    </tr>\n",
       "    <tr>\n",
       "      <th>...</th>\n",
       "      <td>...</td>\n",
       "      <td>...</td>\n",
       "      <td>...</td>\n",
       "      <td>...</td>\n",
       "      <td>...</td>\n",
       "    </tr>\n",
       "    <tr>\n",
       "      <th>742</th>\n",
       "      <td>2021-06-10</td>\n",
       "      <td>202123</td>\n",
       "      <td>-75600.0</td>\n",
       "      <td>0.0</td>\n",
       "      <td>0.0</td>\n",
       "    </tr>\n",
       "    <tr>\n",
       "      <th>743</th>\n",
       "      <td>2021-06-23</td>\n",
       "      <td>202125</td>\n",
       "      <td>378.0</td>\n",
       "      <td>378.0</td>\n",
       "      <td>0.0</td>\n",
       "    </tr>\n",
       "    <tr>\n",
       "      <th>744</th>\n",
       "      <td>2021-06-28</td>\n",
       "      <td>202126</td>\n",
       "      <td>45360.0</td>\n",
       "      <td>45360.0</td>\n",
       "      <td>0.0</td>\n",
       "    </tr>\n",
       "    <tr>\n",
       "      <th>745</th>\n",
       "      <td>2021-06-29</td>\n",
       "      <td>202126</td>\n",
       "      <td>90720.0</td>\n",
       "      <td>45360.0</td>\n",
       "      <td>45360.0</td>\n",
       "    </tr>\n",
       "    <tr>\n",
       "      <th>746</th>\n",
       "      <td>2021-06-30</td>\n",
       "      <td>202126</td>\n",
       "      <td>-45360.0</td>\n",
       "      <td>0.0</td>\n",
       "      <td>0.0</td>\n",
       "    </tr>\n",
       "  </tbody>\n",
       "</table>\n",
       "<p>747 rows × 5 columns</p>\n",
       "</div>"
      ],
      "text/plain": [
       "           DATE  YYYYWW  INVEN_IN  INVEN_OUT  INVEN_TODAY\n",
       "0    2019-01-01  201901       0.0        0.0        520.0\n",
       "1    2019-01-02  201901       0.0        0.0        520.0\n",
       "2    2019-01-03  201901   77178.0    38400.0      39298.0\n",
       "3    2019-01-04  201901     756.0    30618.0       9436.0\n",
       "4    2019-01-05  201901       0.0        0.0       9436.0\n",
       "..          ...     ...       ...        ...          ...\n",
       "742  2021-06-10  202123  -75600.0        0.0          0.0\n",
       "743  2021-06-23  202125     378.0      378.0          0.0\n",
       "744  2021-06-28  202126   45360.0    45360.0          0.0\n",
       "745  2021-06-29  202126   90720.0    45360.0      45360.0\n",
       "746  2021-06-30  202126  -45360.0        0.0          0.0\n",
       "\n",
       "[747 rows x 5 columns]"
      ]
     },
     "execution_count": 6,
     "metadata": {},
     "output_type": "execute_result"
    }
   ],
   "source": [
    "tmp_sum"
   ]
  },
  {
   "cell_type": "code",
   "execution_count": null,
   "id": "5557086c",
   "metadata": {},
   "outputs": [],
   "source": []
  }
 ],
 "metadata": {
  "kernelspec": {
   "display_name": "Python 3",
   "language": "python",
   "name": "python3"
  },
  "language_info": {
   "codemirror_mode": {
    "name": "ipython",
    "version": 3
   },
   "file_extension": ".py",
   "mimetype": "text/x-python",
   "name": "python",
   "nbconvert_exporter": "python",
   "pygments_lexer": "ipython3",
   "version": "3.8.0"
  }
 },
 "nbformat": 4,
 "nbformat_minor": 5
}
