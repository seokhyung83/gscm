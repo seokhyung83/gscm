{
 "cells": [
  {
   "cell_type": "code",
   "execution_count": 20,
   "id": "2903846a",
   "metadata": {},
   "outputs": [],
   "source": [
    "import os, random, time, pymysql\n",
    "import xgboost\n",
    "import datetime\n",
    "\n",
    "import numpy as np\n",
    "import pandas as pd\n",
    "import matplotlib.pyplot as plt\n",
    "import plotly.graph_objects as go\n",
    "#from fbprophet import Prophet\n",
    "from sklearn.linear_model import LinearRegression as LR\n",
    "from sklearn.kernel_ridge import KernelRidge as KR\n",
    "from sklearn.linear_model import Ridge, ElasticNet, BayesianRidge, Lars, Lasso\n",
    "from sklearn.ensemble import RandomForestRegressor as RF\n",
    "\n",
    "from sklearn.metrics import r2_score\n",
    "from sklearn.gaussian_process import GaussianProcessRegressor as gpr\n",
    "from sklearn.gaussian_process.kernels import RBF, DotProduct, WhiteKernel\n",
    "\n",
    "import warnings\n",
    "\n",
    "from bayes_opt import BayesianOptimization\n",
    "\n",
    "from sklearn.gaussian_process import GaussianProcessRegressor\n",
    "from sklearn.gaussian_process.kernels import RBF, ConstantKernel as C"
   ]
  },
  {
   "cell_type": "code",
   "execution_count": 2,
   "id": "abb67551",
   "metadata": {
    "jupyter": {
     "source_hidden": true
    },
    "tags": []
   },
   "outputs": [],
   "source": [
    "def _call_db_info(db_name):\n",
    "    return pymysql.connect(\n",
    "        host = 'trend.cb7jqghocrtb.ap-northeast-2.rds.amazonaws.com',\n",
    "        port= 3306,\n",
    "        user = 'root',\n",
    "        password='ensol2020!',\n",
    "        db = db_name,\n",
    "        charset = 'utf8')\n",
    "\n",
    "def h_opt(theta1, g_alpha, k_dot, w_noise, rbf_l, tmp_prev_inven_col, tmp_var_sale_col, tmp_var_product_col):\n",
    "    prev_inven_col = round(tmp_prev_inven_col)\n",
    "    var_sale_col, var_product_col = round(tmp_var_sale_col), round(tmp_var_product_col)     \n",
    "    \n",
    "    train_set = opt_set[:-4].reset_index(drop=True)\n",
    "    valid_set = opt_set[-4:].reset_index(drop=True)\n",
    "    prev_inven_name   = [s for s in train_set.columns.values if 'prev_inven_' in s]    \n",
    "    var_sale_name     = [s for s in train_set.columns.values if 'sales_prev_' in s]\n",
    "    var_product_name  = [s for s in train_set.columns.values if 'product_prev_' in s]    \n",
    "    train_x_name = prev_inven_name[:prev_inven_col]+var_sale_name[:var_sale_col]+var_product_name[:var_product_col]\n",
    "    kernel =  theta1 * RBF(rbf_l) + WhiteKernel(w_noise)  + DotProduct(k_dot) ## RBF(2) + WhiteKernel(1)  + \n",
    "    gp = GaussianProcessRegressor(kernel=kernel, alpha=g_alpha, n_restarts_optimizer=3)\n",
    "    gp.fit(train_set[train_x_name], train_set['inven'])\n",
    "    \n",
    "    train_pred, train_sigma = gp.predict(train_set[train_x_name], return_std=True)\n",
    "    valid_pred, valid_sigma = gp.predict(valid_set[train_x_name], return_std=True)\n",
    "    x_pred_ = np.concatenate((train_pred, valid_pred)) \n",
    "    y_ = np.concatenate((train_set['inven'], valid_set['inven'])) \n",
    "\n",
    "    real_ = np.mean(np.ones_like(train_set['inven']) - np.clip(np.abs(train_set['inven'] - train_pred) / train_set['inven'] , 0, 1)) * 100     \n",
    "    fcst_ = np.mean(np.ones_like(valid_set['inven']) - np.clip(np.abs(valid_set['inven'] - valid_pred) / valid_set['inven'] , 0, 1)) * 100    \n",
    "    return fcst_    "
   ]
  },
  {
   "cell_type": "code",
   "execution_count": 3,
   "id": "b85bba8c",
   "metadata": {
    "jupyter": {
     "source_hidden": true
    },
    "tags": []
   },
   "outputs": [],
   "source": [
    "dt_sql        = \"select * from dt_table\"\n",
    "inven_sql     = \"select * from inven_rslt\"\n",
    "prod_plan_sql = \"select * from prod_plan\"\n",
    "prod_rslt_sql = \"select * from prod_rslt\"\n",
    "prod_prev_sql = \"select * from prod_prev\"\n",
    "\n",
    "sale_plan_sql = \"select * from sale_plan\"\n",
    "sale_rslt_sql = \"select * from sale_rslt\"\n",
    "sale_prev_sql = \"select * from sale_prev\"\n",
    "\n",
    "conn = _call_db_info('gscm_e61d')\n",
    "curs = conn.cursor()\n",
    "curs.execute(dt_sql) \n",
    "dt_table = pd.DataFrame(curs.fetchall())\n",
    "dt_table.columns =['No', 'ww']\n",
    "dt_table = pd.DataFrame(dt_table['ww'].copy())\n",
    "curs.execute(\"show columns from inven_rslt\")\n",
    "tmp_col = pd.DataFrame(curs.fetchall())\n",
    "curs.execute(inven_sql) \n",
    "y_inven = pd.DataFrame(curs.fetchall())\n",
    "y_inven.columns = tmp_col[0].values.tolist()\n",
    "\n",
    "curs.execute(\"show columns from prod_plan\")\n",
    "tmp_col = pd.DataFrame(curs.fetchall())\n",
    "curs.execute(prod_plan_sql)\n",
    "prod_plan = pd.DataFrame(curs.fetchall())\n",
    "prod_plan.columns = tmp_col.iloc[:,0].tolist()\n",
    "\n",
    "curs.execute(\"show columns from prod_rslt\")\n",
    "tmp_col = pd.DataFrame(curs.fetchall())\n",
    "curs.execute(prod_rslt_sql)\n",
    "prod_rslt = pd.DataFrame(curs.fetchall())\n",
    "prod_rslt.columns = tmp_col.iloc[:,0].tolist()\n",
    "\n",
    "curs.execute(\"show columns from prod_prev\")\n",
    "tmp_col = pd.DataFrame(curs.fetchall())\n",
    "curs.execute(prod_prev_sql)\n",
    "prod_prev = pd.DataFrame(curs.fetchall())\n",
    "prod_prev.columns = tmp_col.iloc[:,0].tolist()\n",
    "\n",
    "\n",
    "curs.execute(\"show columns from sale_plan\")\n",
    "tmp_col = pd.DataFrame(curs.fetchall())\n",
    "curs.execute(sale_plan_sql)\n",
    "sale_plan = pd.DataFrame(curs.fetchall())\n",
    "sale_plan.columns = tmp_col.iloc[:,0].tolist()\n",
    "\n",
    "curs.execute(\"show columns from sale_rslt\")\n",
    "tmp_col = pd.DataFrame(curs.fetchall())\n",
    "curs.execute(sale_rslt_sql)\n",
    "sale_rslt = pd.DataFrame(curs.fetchall())\n",
    "sale_rslt.columns = tmp_col.iloc[:,0].tolist()\n",
    "\n",
    "curs.execute(\"show columns from sale_prev\")\n",
    "tmp_col = pd.DataFrame(curs.fetchall())\n",
    "curs.execute(sale_prev_sql)\n",
    "sale_prev = pd.DataFrame(curs.fetchall())\n",
    "sale_prev.columns = tmp_col.iloc[:,0].tolist()\n",
    "\n",
    "\n",
    "conn.commit()\n",
    "conn.close()"
   ]
  },
  {
   "cell_type": "code",
   "execution_count": 4,
   "id": "81c33055",
   "metadata": {
    "tags": []
   },
   "outputs": [],
   "source": [
    "product_prev = []\n",
    "tmp_prod_prev_ = [x.split('/') for x in prod_prev['prod_prev']]\n",
    "for i in range(0, prod_prev.shape[0]):\n",
    "    tmp_ww = prod_prev['ww'].loc[i]\n",
    "    tmp_s =  dt_table.index[dt_table['ww']==tmp_ww].tolist()[0]#-12\n",
    "    tmp_split = pd.DataFrame([x.split(':') for x in tmp_prod_prev_[i]])\n",
    "    if tmp_split.shape[1] > 1:\n",
    "        tmp_split.columns = ['ww','qty']\n",
    "\n",
    "        tmp_prev_qty = []\n",
    "        for k in range(1, 13):\n",
    "            if any(str(dt_table['ww'].loc[tmp_s-k]) == tmp_split['ww']):\n",
    "                tmp_ind = [i for i, x in enumerate(str(dt_table['ww'].loc[tmp_s-k]) == tmp_split['ww']) if x]    \n",
    "                tmp_prev_qty.append(float(tmp_split['qty'].loc[tmp_ind].values[0]))\n",
    "            else:\n",
    "                tmp_prev_qty.append(0.0)\n",
    "        tmp_product_prev = prod_prev[['ww','date']].loc[i].values.tolist() + tmp_prev_qty\n",
    "        product_prev.append(tmp_product_prev)\n",
    "product_prev = pd.DataFrame(product_prev)\n",
    "product_prev.columns = ['ww', 'date'] + ['product_prev_'+ str(x) for x in range(1,13)]\n",
    "product_prev = product_prev.drop(['date'], axis=1)\n",
    "\n",
    "sales_prev = []\n",
    "tmp_sale_prev_ = [x.split('/') for x in sale_prev['sale_prev']]\n",
    "for i in range(0, sale_prev.shape[0]):    \n",
    "    tmp_ww = sale_prev['ww'].loc[i]    \n",
    "    tmp_s =  dt_table.index[dt_table['ww']==tmp_ww].tolist()[0]#-12\n",
    "    if len(tmp_sale_prev_[i][0])>0:\n",
    "        tmp_split = pd.DataFrame([x.split(':') for x in tmp_sale_prev_[i]])    \n",
    "        tmp_split.columns = ['ww','qty']\n",
    "        tmp_prev_qty = []\n",
    "        for k in range(1, 13):\n",
    "            if any(str(dt_table['ww'].loc[tmp_s-k]) == tmp_split['ww']):\n",
    "                tmp_ind = [i for i, x in enumerate(str(dt_table['ww'].loc[tmp_s-k]) == tmp_split['ww']) if x]    \n",
    "                tmp_prev_qty.append(float(tmp_split['qty'].loc[tmp_ind].values[0]))\n",
    "            else:\n",
    "                tmp_prev_qty.append(0.0)\n",
    "        tmp_sales_prev = sale_prev[['ww','date']].loc[i].values.tolist() + tmp_prev_qty\n",
    "        sales_prev.append(tmp_sales_prev)\n",
    "    else:\n",
    "        tmp_sales_prev = sale_prev[['ww','date']].loc[i].values.tolist()\n",
    "        sales_prev.append(tmp_sales_prev)        \n",
    "sales_prev = pd.DataFrame(sales_prev)\n",
    "sales_prev = sales_prev.fillna(0)\n",
    "sales_prev.columns = ['ww', 'date'] + ['sales_prev_'+ str(x) for x in range(1,13)]\n",
    "sales_prev = sales_prev.drop(['date'], axis=1)\n",
    "\n",
    "sales_prev['ww_new'] = [dt_table['ww'].loc[dt_table.index[dt_table['ww']==sales_prev['ww'][x]].tolist()[0]+2] for x in range(0, sales_prev.shape[0])]\n",
    "sales_prev = sales_prev.drop('ww', axis=1)\n",
    "tmp_d_set = pd.merge(y_inven, product_prev, how='left', left_on='ww', right_on='ww')\n",
    "d_set = pd.merge(tmp_d_set, sales_prev, how='inner', left_on='ww', right_on='ww_new')\n",
    "d_set = d_set.drop('ww_new', axis=1)\n"
   ]
  },
  {
   "cell_type": "code",
   "execution_count": 5,
   "id": "0b43c280-fb0b-4f93-a6ec-253ec3674680",
   "metadata": {
    "scrolled": true,
    "tags": []
   },
   "outputs": [
    {
     "name": "stdout",
     "output_type": "stream",
     "text": [
      "|   iter    |  target   |  g_alpha  |   k_dot   |   rbf_l   |  theta1   | tmp_pr... | tmp_va... | tmp_va... |  w_noise  |\n",
      "-------------------------------------------------------------------------------------------------------------------------\n",
      "| \u001b[0m 1       \u001b[0m | \u001b[0m 79.33   \u001b[0m | \u001b[0m 0.4129  \u001b[0m | \u001b[0m 72.03   \u001b[0m | \u001b[0m 0.001144\u001b[0m | \u001b[0m 3.023   \u001b[0m | \u001b[0m 2.027   \u001b[0m | \u001b[0m 2.016   \u001b[0m | \u001b[0m 3.049   \u001b[0m | \u001b[0m 34.56   \u001b[0m |\n",
      "| \u001b[95m 2       \u001b[0m | \u001b[95m 82.07   \u001b[0m | \u001b[95m 0.3928  \u001b[0m | \u001b[95m 53.88   \u001b[0m | \u001b[95m 4.192   \u001b[0m | \u001b[95m 6.852   \u001b[0m | \u001b[95m 2.431   \u001b[0m | \u001b[95m 10.66   \u001b[0m | \u001b[95m 1.301   \u001b[0m | \u001b[95m 67.05   \u001b[0m |\n",
      "| \u001b[0m 3       \u001b[0m | \u001b[0m 79.1    \u001b[0m | \u001b[0m 0.4131  \u001b[0m | \u001b[0m 55.87   \u001b[0m | \u001b[0m 1.404   \u001b[0m | \u001b[0m 1.981   \u001b[0m | \u001b[0m 6.605   \u001b[0m | \u001b[0m 11.65   \u001b[0m | \u001b[0m 4.448   \u001b[0m | \u001b[0m 69.23   \u001b[0m |\n",
      "| \u001b[0m 4       \u001b[0m | \u001b[0m 81.92   \u001b[0m | \u001b[0m 0.8676  \u001b[0m | \u001b[0m 89.46   \u001b[0m | \u001b[0m 0.8504  \u001b[0m | \u001b[0m 0.3905  \u001b[0m | \u001b[0m 2.189   \u001b[0m | \u001b[0m 10.66   \u001b[0m | \u001b[0m 2.082   \u001b[0m | \u001b[0m 42.11   \u001b[0m |\n",
      "| \u001b[0m 5       \u001b[0m | \u001b[0m 81.41   \u001b[0m | \u001b[0m 0.9483  \u001b[0m | \u001b[0m 53.32   \u001b[0m | \u001b[0m 6.919   \u001b[0m | \u001b[0m 3.155   \u001b[0m | \u001b[0m 5.806   \u001b[0m | \u001b[0m 10.18   \u001b[0m | \u001b[0m 1.201   \u001b[0m | \u001b[0m 75.01   \u001b[0m |\n",
      "| \u001b[0m 6       \u001b[0m | \u001b[0m 74.94   \u001b[0m | \u001b[0m 0.979   \u001b[0m | \u001b[0m 74.82   \u001b[0m | \u001b[0m 2.804   \u001b[0m | \u001b[0m 7.893   \u001b[0m | \u001b[0m 1.723   \u001b[0m | \u001b[0m 5.927   \u001b[0m | \u001b[0m 10.99   \u001b[0m | \u001b[0m 29.36   \u001b[0m |\n",
      "| \u001b[0m 7       \u001b[0m | \u001b[0m 78.06   \u001b[0m | \u001b[0m 0.2849  \u001b[0m | \u001b[0m 13.0    \u001b[0m | \u001b[0m 0.1937  \u001b[0m | \u001b[0m 6.788   \u001b[0m | \u001b[0m 2.481   \u001b[0m | \u001b[0m 3.921   \u001b[0m | \u001b[0m 6.407   \u001b[0m | \u001b[0m 5.336   \u001b[0m |\n",
      "| \u001b[0m 8       \u001b[0m | \u001b[0m 75.62   \u001b[0m | \u001b[0m 0.5684  \u001b[0m | \u001b[0m 14.67   \u001b[0m | \u001b[0m 5.893   \u001b[0m | \u001b[0m 6.998   \u001b[0m | \u001b[0m 1.716   \u001b[0m | \u001b[0m 5.555   \u001b[0m | \u001b[0m 8.638   \u001b[0m | \u001b[0m 41.42   \u001b[0m |\n",
      "| \u001b[0m 9       \u001b[0m | \u001b[0m 75.51   \u001b[0m | \u001b[0m 0.04945 \u001b[0m | \u001b[0m 53.59   \u001b[0m | \u001b[0m 6.638   \u001b[0m | \u001b[0m 5.149   \u001b[0m | \u001b[0m 7.612   \u001b[0m | \u001b[0m 7.452   \u001b[0m | \u001b[0m 10.94   \u001b[0m | \u001b[0m 13.75   \u001b[0m |\n",
      "| \u001b[0m 10      \u001b[0m | \u001b[0m 76.26   \u001b[0m | \u001b[0m 0.1379  \u001b[0m | \u001b[0m 80.74   \u001b[0m | \u001b[0m 3.977   \u001b[0m | \u001b[0m 1.654   \u001b[0m | \u001b[0m 7.493   \u001b[0m | \u001b[0m 4.825   \u001b[0m | \u001b[0m 9.259   \u001b[0m | \u001b[0m 72.6    \u001b[0m |\n",
      "| \u001b[95m 11      \u001b[0m | \u001b[95m 82.87   \u001b[0m | \u001b[95m 0.5769  \u001b[0m | \u001b[95m 55.15   \u001b[0m | \u001b[95m 6.31    \u001b[0m | \u001b[95m 7.211   \u001b[0m | \u001b[95m 3.613   \u001b[0m | \u001b[95m 10.49   \u001b[0m | \u001b[95m 1.494   \u001b[0m | \u001b[95m 63.27   \u001b[0m |\n",
      "| \u001b[0m 12      \u001b[0m | \u001b[0m 78.98   \u001b[0m | \u001b[0m 0.99    \u001b[0m | \u001b[0m 48.92   \u001b[0m | \u001b[0m 10.0    \u001b[0m | \u001b[0m 10.0    \u001b[0m | \u001b[0m 4.493   \u001b[0m | \u001b[0m 3.398   \u001b[0m | \u001b[0m 1.0     \u001b[0m | \u001b[0m 64.54   \u001b[0m |\n",
      "| \u001b[0m 13      \u001b[0m | \u001b[0m 79.73   \u001b[0m | \u001b[0m 0.99    \u001b[0m | \u001b[0m 59.73   \u001b[0m | \u001b[0m 10.0    \u001b[0m | \u001b[0m 8.897   \u001b[0m | \u001b[0m 1.0     \u001b[0m | \u001b[0m 12.0    \u001b[0m | \u001b[0m 1.0     \u001b[0m | \u001b[0m 67.32   \u001b[0m |\n",
      "| \u001b[0m 14      \u001b[0m | \u001b[0m 79.73   \u001b[0m | \u001b[0m 0.0     \u001b[0m | \u001b[0m 52.84   \u001b[0m | \u001b[0m 2.502   \u001b[0m | \u001b[0m 8.194   \u001b[0m | \u001b[0m 1.0     \u001b[0m | \u001b[0m 12.0    \u001b[0m | \u001b[0m 1.0     \u001b[0m | \u001b[0m 58.83   \u001b[0m |\n",
      "| \u001b[0m 15      \u001b[0m | \u001b[0m 79.73   \u001b[0m | \u001b[0m 0.5197  \u001b[0m | \u001b[0m 52.11   \u001b[0m | \u001b[0m 9.618   \u001b[0m | \u001b[0m 3.578   \u001b[0m | \u001b[0m 5.023   \u001b[0m | \u001b[0m 12.0    \u001b[0m | \u001b[0m 1.0     \u001b[0m | \u001b[0m 65.47   \u001b[0m |\n",
      "| \u001b[0m 16      \u001b[0m | \u001b[0m 79.85   \u001b[0m | \u001b[0m 0.99    \u001b[0m | \u001b[0m 56.74   \u001b[0m | \u001b[0m 4.09    \u001b[0m | \u001b[0m 10.0    \u001b[0m | \u001b[0m 6.613   \u001b[0m | \u001b[0m 8.485   \u001b[0m | \u001b[0m 1.0     \u001b[0m | \u001b[0m 64.88   \u001b[0m |\n",
      "| \u001b[0m 17      \u001b[0m | \u001b[0m 79.84   \u001b[0m | \u001b[0m 0.0     \u001b[0m | \u001b[0m 56.19   \u001b[0m | \u001b[0m 5.84    \u001b[0m | \u001b[0m 4.651   \u001b[0m | \u001b[0m 1.0     \u001b[0m | \u001b[0m 7.566   \u001b[0m | \u001b[0m 2.225   \u001b[0m | \u001b[0m 63.7    \u001b[0m |\n",
      "| \u001b[0m 18      \u001b[0m | \u001b[0m 79.1    \u001b[0m | \u001b[0m 0.99    \u001b[0m | \u001b[0m 53.39   \u001b[0m | \u001b[0m 6.644   \u001b[0m | \u001b[0m 9.513   \u001b[0m | \u001b[0m 2.617   \u001b[0m | \u001b[0m 12.0    \u001b[0m | \u001b[0m 4.057   \u001b[0m | \u001b[0m 64.56   \u001b[0m |\n",
      "| \u001b[0m 19      \u001b[0m | \u001b[0m 79.73   \u001b[0m | \u001b[0m 0.0     \u001b[0m | \u001b[0m 55.78   \u001b[0m | \u001b[0m 4.217   \u001b[0m | \u001b[0m 5.475   \u001b[0m | \u001b[0m 4.314   \u001b[0m | \u001b[0m 12.0    \u001b[0m | \u001b[0m 1.0     \u001b[0m | \u001b[0m 64.11   \u001b[0m |\n",
      "| \u001b[0m 20      \u001b[0m | \u001b[0m 81.16   \u001b[0m | \u001b[0m 0.99    \u001b[0m | \u001b[0m 54.12   \u001b[0m | \u001b[0m 6.581   \u001b[0m | \u001b[0m 7.186   \u001b[0m | \u001b[0m 3.555   \u001b[0m | \u001b[0m 8.966   \u001b[0m | \u001b[0m 1.0     \u001b[0m | \u001b[0m 65.39   \u001b[0m |\n",
      "| \u001b[0m 21      \u001b[0m | \u001b[0m 81.41   \u001b[0m | \u001b[0m 0.0     \u001b[0m | \u001b[0m 55.79   \u001b[0m | \u001b[0m 7.311   \u001b[0m | \u001b[0m 8.271   \u001b[0m | \u001b[0m 3.374   \u001b[0m | \u001b[0m 9.509   \u001b[0m | \u001b[0m 1.0     \u001b[0m | \u001b[0m 61.35   \u001b[0m |\n",
      "| \u001b[0m 22      \u001b[0m | \u001b[0m 81.41   \u001b[0m | \u001b[0m 0.99    \u001b[0m | \u001b[0m 55.69   \u001b[0m | \u001b[0m 4.875   \u001b[0m | \u001b[0m 8.335   \u001b[0m | \u001b[0m 1.418   \u001b[0m | \u001b[0m 10.35   \u001b[0m | \u001b[0m 1.0     \u001b[0m | \u001b[0m 63.9    \u001b[0m |\n",
      "| \u001b[0m 23      \u001b[0m | \u001b[0m 82.07   \u001b[0m | \u001b[0m 0.99    \u001b[0m | \u001b[0m 53.14   \u001b[0m | \u001b[0m 6.663   \u001b[0m | \u001b[0m 6.12    \u001b[0m | \u001b[0m 2.314   \u001b[0m | \u001b[0m 10.79   \u001b[0m | \u001b[0m 1.0     \u001b[0m | \u001b[0m 62.03   \u001b[0m |\n",
      "| \u001b[0m 24      \u001b[0m | \u001b[0m 81.31   \u001b[0m | \u001b[0m 0.2897  \u001b[0m | \u001b[0m 86.65   \u001b[0m | \u001b[0m 2.282   \u001b[0m | \u001b[0m 0.7203  \u001b[0m | \u001b[0m 3.515   \u001b[0m | \u001b[0m 10.3    \u001b[0m | \u001b[0m 4.624   \u001b[0m | \u001b[0m 41.11   \u001b[0m |\n",
      "| \u001b[0m 25      \u001b[0m | \u001b[0m 82.59   \u001b[0m | \u001b[0m 0.99    \u001b[0m | \u001b[0m 53.69   \u001b[0m | \u001b[0m 6.188   \u001b[0m | \u001b[0m 6.269   \u001b[0m | \u001b[0m 5.603   \u001b[0m | \u001b[0m 9.545   \u001b[0m | \u001b[0m 2.857   \u001b[0m | \u001b[0m 61.04   \u001b[0m |\n",
      "| \u001b[0m 26      \u001b[0m | \u001b[0m 81.92   \u001b[0m | \u001b[0m 0.99    \u001b[0m | \u001b[0m 55.77   \u001b[0m | \u001b[0m 8.672   \u001b[0m | \u001b[0m 5.34    \u001b[0m | \u001b[0m 4.819   \u001b[0m | \u001b[0m 11.46   \u001b[0m | \u001b[0m 3.309   \u001b[0m | \u001b[0m 60.62   \u001b[0m |\n",
      "| \u001b[0m 27      \u001b[0m | \u001b[0m 80.6    \u001b[0m | \u001b[0m 0.99    \u001b[0m | \u001b[0m 53.32   \u001b[0m | \u001b[0m 7.834   \u001b[0m | \u001b[0m 7.594   \u001b[0m | \u001b[0m 7.277   \u001b[0m | \u001b[0m 12.0    \u001b[0m | \u001b[0m 1.0     \u001b[0m | \u001b[0m 60.14   \u001b[0m |\n",
      "| \u001b[0m 28      \u001b[0m | \u001b[0m 81.41   \u001b[0m | \u001b[0m 0.4737  \u001b[0m | \u001b[0m 52.49   \u001b[0m | \u001b[0m 3.692   \u001b[0m | \u001b[0m 6.31    \u001b[0m | \u001b[0m 1.27    \u001b[0m | \u001b[0m 10.35   \u001b[0m | \u001b[0m 1.0     \u001b[0m | \u001b[0m 72.0    \u001b[0m |\n",
      "| \u001b[0m 29      \u001b[0m | \u001b[0m 81.02   \u001b[0m | \u001b[0m 0.99    \u001b[0m | \u001b[0m 53.0    \u001b[0m | \u001b[0m 7.147   \u001b[0m | \u001b[0m 3.643   \u001b[0m | \u001b[0m 4.898   \u001b[0m | \u001b[0m 8.657   \u001b[0m | \u001b[0m 5.193   \u001b[0m | \u001b[0m 57.67   \u001b[0m |\n"
     ]
    },
    {
     "name": "stderr",
     "output_type": "stream",
     "text": [
      "/opt/conda/lib/python3.9/site-packages/sklearn/gaussian_process/kernels.py:271: RuntimeWarning: divide by zero encountered in log\n",
      "  return np.log(np.hstack(theta))\n"
     ]
    },
    {
     "name": "stdout",
     "output_type": "stream",
     "text": [
      "| \u001b[0m 30      \u001b[0m | \u001b[0m 79.1    \u001b[0m | \u001b[0m 0.007002\u001b[0m | \u001b[0m 91.62   \u001b[0m | \u001b[0m 3.182   \u001b[0m | \u001b[0m 0.0     \u001b[0m | \u001b[0m 5.266   \u001b[0m | \u001b[0m 11.99   \u001b[0m | \u001b[0m 3.742   \u001b[0m | \u001b[0m 44.13   \u001b[0m |\n"
     ]
    },
    {
     "name": "stderr",
     "output_type": "stream",
     "text": [
      "/opt/conda/lib/python3.9/site-packages/sklearn/gaussian_process/kernels.py:271: RuntimeWarning: divide by zero encountered in log\n",
      "  return np.log(np.hstack(theta))\n"
     ]
    },
    {
     "name": "stdout",
     "output_type": "stream",
     "text": [
      "| \u001b[0m 31      \u001b[0m | \u001b[0m 79.85   \u001b[0m | \u001b[0m 0.99    \u001b[0m | \u001b[0m 87.17   \u001b[0m | \u001b[0m 0.0     \u001b[0m | \u001b[0m 0.7216  \u001b[0m | \u001b[0m 1.0     \u001b[0m | \u001b[0m 8.345   \u001b[0m | \u001b[0m 1.0     \u001b[0m | \u001b[0m 38.95   \u001b[0m |\n",
      "| \u001b[0m 32      \u001b[0m | \u001b[0m 78.61   \u001b[0m | \u001b[0m 0.99    \u001b[0m | \u001b[0m 56.65   \u001b[0m | \u001b[0m 7.021   \u001b[0m | \u001b[0m 6.342   \u001b[0m | \u001b[0m 6.964   \u001b[0m | \u001b[0m 8.366   \u001b[0m | \u001b[0m 5.692   \u001b[0m | \u001b[0m 60.98   \u001b[0m |\n"
     ]
    },
    {
     "name": "stderr",
     "output_type": "stream",
     "text": [
      "/opt/conda/lib/python3.9/site-packages/sklearn/gaussian_process/kernels.py:271: RuntimeWarning: divide by zero encountered in log\n",
      "  return np.log(np.hstack(theta))\n"
     ]
    },
    {
     "name": "stdout",
     "output_type": "stream",
     "text": [
      "| \u001b[0m 33      \u001b[0m | \u001b[0m 79.37   \u001b[0m | \u001b[0m 0.99    \u001b[0m | \u001b[0m 86.38   \u001b[0m | \u001b[0m 0.0     \u001b[0m | \u001b[0m 0.9981  \u001b[0m | \u001b[0m 1.0     \u001b[0m | \u001b[0m 12.0    \u001b[0m | \u001b[0m 3.03    \u001b[0m | \u001b[0m 44.39   \u001b[0m |\n",
      "| \u001b[0m 34      \u001b[0m | \u001b[0m 81.16   \u001b[0m | \u001b[0m 0.99    \u001b[0m | \u001b[0m 54.19   \u001b[0m | \u001b[0m 7.195   \u001b[0m | \u001b[0m 4.043   \u001b[0m | \u001b[0m 4.62    \u001b[0m | \u001b[0m 9.482   \u001b[0m | \u001b[0m 1.0     \u001b[0m | \u001b[0m 60.0    \u001b[0m |\n",
      "| \u001b[0m 35      \u001b[0m | \u001b[0m 79.1    \u001b[0m | \u001b[0m 0.0     \u001b[0m | \u001b[0m 52.89   \u001b[0m | \u001b[0m 6.505   \u001b[0m | \u001b[0m 5.548   \u001b[0m | \u001b[0m 3.731   \u001b[0m | \u001b[0m 11.58   \u001b[0m | \u001b[0m 4.093   \u001b[0m | \u001b[0m 60.4    \u001b[0m |\n",
      "| \u001b[0m 36      \u001b[0m | \u001b[0m 82.87   \u001b[0m | \u001b[0m 0.99    \u001b[0m | \u001b[0m 51.37   \u001b[0m | \u001b[0m 2.778   \u001b[0m | \u001b[0m 6.54    \u001b[0m | \u001b[0m 1.0     \u001b[0m | \u001b[0m 9.603   \u001b[0m | \u001b[0m 1.0     \u001b[0m | \u001b[0m 67.77   \u001b[0m |\n",
      "| \u001b[0m 37      \u001b[0m | \u001b[0m 81.16   \u001b[0m | \u001b[0m 0.0     \u001b[0m | \u001b[0m 53.13   \u001b[0m | \u001b[0m 1.372   \u001b[0m | \u001b[0m 8.485   \u001b[0m | \u001b[0m 1.0     \u001b[0m | \u001b[0m 9.459   \u001b[0m | \u001b[0m 1.0     \u001b[0m | \u001b[0m 68.46   \u001b[0m |\n",
      "| \u001b[0m 38      \u001b[0m | \u001b[0m 81.16   \u001b[0m | \u001b[0m 0.99    \u001b[0m | \u001b[0m 53.0    \u001b[0m | \u001b[0m 4.558   \u001b[0m | \u001b[0m 7.333   \u001b[0m | \u001b[0m 4.397   \u001b[0m | \u001b[0m 8.922   \u001b[0m | \u001b[0m 1.0     \u001b[0m | \u001b[0m 62.16   \u001b[0m |\n",
      "| \u001b[0m 39      \u001b[0m | \u001b[0m 80.6    \u001b[0m | \u001b[0m 0.0     \u001b[0m | \u001b[0m 50.69   \u001b[0m | \u001b[0m 4.09    \u001b[0m | \u001b[0m 5.645   \u001b[0m | \u001b[0m 1.0     \u001b[0m | \u001b[0m 12.0    \u001b[0m | \u001b[0m 1.0     \u001b[0m | \u001b[0m 68.09   \u001b[0m |\n",
      "| \u001b[0m 40      \u001b[0m | \u001b[0m 79.85   \u001b[0m | \u001b[0m 0.99    \u001b[0m | \u001b[0m 52.59   \u001b[0m | \u001b[0m 3.281   \u001b[0m | \u001b[0m 5.109   \u001b[0m | \u001b[0m 1.933   \u001b[0m | \u001b[0m 7.783   \u001b[0m | \u001b[0m 1.0     \u001b[0m | \u001b[0m 68.68   \u001b[0m |\n",
      "=========================================================================================================================\n",
      "82.86801550865157\n",
      "Prev Inven : 4, Var Sale : 1, Var Product : 10\n"
     ]
    }
   ],
   "source": [
    "current = 202113\n",
    "dt_current = (dt_table.index[dt_table['ww'] == current].tolist()[0])-1\n",
    "pred_ww = dt_table['ww'].loc[dt_current+1:].values.tolist()\n",
    "opt_set = d_set.iloc[:d_set.index[d_set['ww'] == dt_table.loc[dt_current].values.tolist()[0]][0]+1,:]\n",
    "\n",
    "warnings.filterwarnings(action='ignore', category=UserWarning)\n",
    "param_bound = {'theta1' : (0, 10), 'g_alpha' : (0.0,0.99) , 'k_dot' : (0, 100), 'w_noise' : (0.0, 100), 'rbf_l' : (0, 10), \n",
    "               'tmp_prev_inven_col' : (1,8), 'tmp_var_sale_col' : (1, 12), 'tmp_var_product_col' : (1, 12)}\n",
    "\n",
    "product_optimizer = BayesianOptimization(f=h_opt, pbounds=param_bound, verbose=2, random_state=1)\n",
    "product_optimizer.maximize(init_points=10, n_iter=30)\n",
    "print(product_optimizer.max['target'])\n",
    "\n",
    "g_alpha = product_optimizer.max['params']['g_alpha']\n",
    "k_dot = product_optimizer.max['params']['k_dot']\n",
    "rbf_l = product_optimizer.max['params']['rbf_l']\n",
    "theta1 =product_optimizer.max['params']['theta1']\n",
    "prev_inven_col = round(product_optimizer.max['params']['tmp_prev_inven_col'])\n",
    "var_product_col = round(product_optimizer.max['params']['tmp_var_product_col'])\n",
    "var_sale_col = round(product_optimizer.max['params']['tmp_var_sale_col'])\n",
    "w_noise = product_optimizer.max['params']['w_noise']\n",
    "print(\"Prev Inven : %d, Var Sale : %d, Var Product : %d\"%(prev_inven_col, var_sale_col, var_product_col))\n",
    "\n",
    "train_set = opt_set"
   ]
  },
  {
   "cell_type": "code",
   "execution_count": 6,
   "id": "d62849b4-fde3-4929-86c9-f5cb71537e74",
   "metadata": {},
   "outputs": [],
   "source": [
    "prev_inven_name   = [s for s in train_set.columns.values if 'inven_prev' in s]    \n",
    "var_sale_name     = [s for s in train_set.columns.values if 'sales_prev_' in s]\n",
    "var_product_name  = [s for s in train_set.columns.values if 'product_prev_' in s]\n",
    "train_x_name = prev_inven_name[:prev_inven_col]+var_sale_name[:var_sale_col]+var_product_name[:var_product_col]\n",
    "kernel =  theta1 * RBF(rbf_l) + WhiteKernel(w_noise)  + DotProduct(k_dot) ## RBF(2) + WhiteKernel(1)  + \n",
    "gp = GaussianProcessRegressor(kernel=kernel, alpha=g_alpha, n_restarts_optimizer=3)\n",
    "gp.fit(train_set[train_x_name], train_set['inven'])\n",
    "\n",
    "train_pred, train_sigma = gp.predict(train_set[train_x_name], return_std=True)\n",
    "\n",
    "current_ind = prod_plan.index[prod_plan['ww'] == current].tolist()[0]\n",
    "for i in range(0,var_product_col):\n",
    "    #print(prod_plan.loc[current_ind-i])\n",
    "    tmp_split = [x.split(\":\") for x in prod_plan['prod_plan'].loc[current_ind-i].split(\"/\")]\n",
    "    tmp_split_df = pd.DataFrame(tmp_split)\n",
    "    tmp_split_df.columns = ['ww', 'product_prev'+str(i+1)]\n",
    "    tmp_ww_ind = [tmp_split_df['ww'].values.tolist().index(str(x)) for i, x in enumerate(pred_ww) if str(x) in tmp_split_df['ww'].values]\n",
    "    tmp_prod_plan_test = tmp_split_df.iloc[tmp_ww_ind,:].reset_index(drop=True)    \n",
    "    if i == 0 :\n",
    "        prod_plan_test = tmp_prod_plan_test\n",
    "    else:\n",
    "        prod_plan_test = pd.merge(prod_plan_test, tmp_prod_plan_test, how='inner', on='ww')\n",
    "\n",
    "current_ind = sale_plan.index[sale_plan['ww'] == dt_table['ww'].loc[dt_current-2]].tolist()[0]"
   ]
  },
  {
   "cell_type": "code",
   "execution_count": 7,
   "id": "8279f746-1ee5-4fba-ab4a-2f6fb7670c39",
   "metadata": {},
   "outputs": [],
   "source": [
    "for i in range(0,var_sale_col):\n",
    "    #print(prod_plan.loc[current_ind-i])\n",
    "    tmp_split = [x.split(\":\") for x in sale_plan['sale_plan'].loc[current_ind-i].split(\"/\")]\n",
    "    tmp_split_df = pd.DataFrame(tmp_split)\n",
    "    tmp_split_df.columns = ['ww', 'sales_prev'+str(i+1)]    \n",
    "    tmp_split_df['ww'] = [str(dt_table['ww'].loc[dt_table.index[dt_table['ww']==int(tmp_split_df['ww'][x])].tolist()[0]+2]) for x in range(0, tmp_split_df.shape[0])]    \n",
    "    tmp_ww_ind = [tmp_split_df['ww'].values.tolist().index(str(x)) for i, x in enumerate(pred_ww) if str(x) in tmp_split_df['ww'].values]    \n",
    "    tmp_sale_plan_test = tmp_split_df.iloc[tmp_ww_ind,:].reset_index(drop=True)      \n",
    "    if i == 0 :\n",
    "        sale_plan_test = tmp_sale_plan_test\n",
    "    else:\n",
    "        sale_plan_test = pd.merge(sale_plan_test, tmp_sale_plan_test, how='left', on='ww')\n",
    "test_x = pd.merge(sale_plan_test, prod_plan_test, how='inner', on='ww')\n",
    "test_x = test_x.astype('float')\n",
    "test_x = test_x.astype({'ww': 'int'})   \n",
    "\n",
    "test_inven_init = np.array(train_set[['inven']+['inven_prev'+str(x) for x in range(1,prev_inven_col)]][train_set['ww']==dt_table['ww'].loc[dt_current]]).reshape(-1)\n",
    "rslt_set, test_pred, test_sigma = [], [], []\n",
    "\n",
    "test_inven_init = np.array(train_set[['inven']+['inven_prev'+str(x) for x in range(1,prev_inven_col)]][train_set['ww']==dt_table['ww'].loc[dt_current]]).reshape(-1)\n",
    "rslt_set, test_pred, test_sigma = [], [], []\n",
    "for i in range(0, test_x.shape[0]):    \n",
    "    tmp_pred_inven_mean, tmp_pred_inven_std = gp.predict(np.concatenate([test_inven_init, test_x.iloc[i,1:]]).reshape(1,-1), return_std=True)\n",
    "    test_pred.append(tmp_pred_inven_mean[0])\n",
    "    test_sigma.append(tmp_pred_inven_std[0])\n",
    "    tmp_rslt = np.concatenate([tmp_pred_inven_mean, test_inven_init, test_x.iloc[i,1:]])\n",
    "    test_inven_init = np.insert(test_inven_init, 0, tmp_pred_inven_mean)[:prev_inven_col]\n",
    "    rslt_set.append(tmp_rslt)\n",
    "rslt_set = pd.DataFrame(rslt_set)\n",
    "rslt_set['ww'] = test_x['ww']\n",
    "ww_col = rslt_set.columns[-1:].to_list()\n",
    "x_col = rslt_set.columns[:-1].to_list()\n",
    "set_col = ww_col + x_col\n",
    "rslt_set = rslt_set[set_col]\n",
    "rslt_set.columns = list(['ww','pred_inven'])+train_x_name #total_set.columns\n",
    "\n",
    "tmp_train_set = train_set[['ww','inven']].copy()\n",
    "tmp_train_set['inven_pred'] = train_pred\n",
    "tmp_train_set.head()\n",
    "tmp_test_set = pd.DataFrame({'ww' :  pred_ww[:len(test_pred)], \n",
    "                             'inven' : np.repeat(-999, len(test_pred)),\n",
    "                             'inven_pred' : test_pred})\n",
    "tmp_day_set = pd.concat([tmp_train_set, tmp_test_set])\n",
    "tmp_day_set = tmp_day_set.reset_index(drop=True)\n",
    "\n",
    "tmp_train_sale = pd.merge(train_set['ww'], sale_rslt[['ww','sale']], how='inner', on='ww')\n",
    "tmp_test_sale = pd.DataFrame([x.split(':') for x in sale_plan['sale_plan'][sale_plan['ww']==current].values.tolist()[0].split('/')])\n",
    "tmp_test_sale.columns = ['ww', 'sale']\n",
    "tmp_sale = pd.concat([tmp_train_sale, tmp_test_sale])\n",
    "tmp_sale = tmp_sale.astype({'ww': 'int'})  \n",
    "day_set = pd.merge(tmp_day_set, tmp_sale, how='inner', on='ww')\n",
    "day_set = day_set.astype({'sale' : 'float'})\n",
    "day_set_nonzero = day_set.copy()\n",
    "sale_col = np.where(day_set_nonzero.columns.values =='sale')[0][0]\n",
    "for i in range(0, day_set_nonzero.shape[0]):\n",
    "    tmp_ids = i-1 if i-1 > 0 else 0    \n",
    "    if day_set_nonzero['sale'].loc[i] == 0:        \n",
    "        day_set_nonzero.iloc[i, sale_col] = day_set_nonzero.iloc[tmp_ids, sale_col]\n",
    "\n",
    "inven_d = []\n",
    "for i in range(0, day_set_nonzero.shape[0]):\n",
    "    if i > 0 and i < day_set_nonzero.shape[0]-3:\n",
    "        tmp_sale_avg = np.mean(day_set_nonzero['sale'][i:(i+4)].values)\n",
    "        if i < day_set_nonzero[day_set_nonzero['ww'] == current].index[0] :\n",
    "            tmp_inven = day_set_nonzero['inven'][i-1]    \n",
    "        else:\n",
    "            tmp_inven = day_set_nonzero['inven_pred'][i-1]    \n",
    "        inven_d.append(round(tmp_inven / tmp_sale_avg * 6.76,1))\n",
    "    else:\n",
    "        inven_d.append(0)\n",
    "day_set_nonzero['inven_d'] = inven_d  \n",
    "\n",
    "inven_day_rslt = [current, str('/'.join(list(map(lambda x : ':'.join([str(x) for x in day_set_nonzero.loc[x]]), range(0, day_set_nonzero.shape[0])))))]\n"
   ]
  },
  {
   "cell_type": "code",
   "execution_count": 34,
   "id": "1d84b248-0d45-4fa1-a590-2a59c25557bb",
   "metadata": {},
   "outputs": [
    {
     "name": "stdout",
     "output_type": "stream",
     "text": [
      "70.8329807772217\n"
     ]
    }
   ],
   "source": [
    "inven_rslt = pd.merge(day_set_nonzero[['ww', 'inven_pred']], y_inven[['ww', 'inven']], on='ww', how='inner')\n",
    "now_no = inven_rslt[inven_rslt['ww'] == current].index[0]+1\n",
    "inven_rslt = inven_rslt.astype({'ww' : 'str'})\n",
    "print(np.mean(np.ones_like(inven_rslt['inven'].iloc[now_no:]) - np.clip(np.abs(inven_rslt['inven'].iloc[now_no:] - inven_rslt['inven_pred'].iloc[now_no:]) / inven_rslt['inven'].iloc[now_no:] , 0, 1)) * 100)"
   ]
  },
  {
   "cell_type": "code",
   "execution_count": 33,
   "id": "e15b7bff-56f5-4233-ad50-a65102196ba1",
   "metadata": {},
   "outputs": [
    {
     "data": {
      "application/vnd.plotly.v1+json": {
       "config": {
        "plotlyServerURL": "https://plot.ly"
       },
       "data": [
        {
         "mode": "lines+markers",
         "name": "Real",
         "type": "scatter",
         "x": [
          "202003",
          "202004",
          "202005",
          "202006",
          "202007",
          "202008",
          "202009",
          "202010",
          "202011",
          "202012",
          "202013",
          "202014",
          "202015",
          "202016",
          "202017",
          "202018",
          "202019",
          "202020",
          "202021",
          "202022",
          "202023",
          "202024",
          "202025",
          "202026",
          "202027",
          "202028",
          "202029",
          "202030",
          "202031",
          "202032",
          "202033",
          "202034",
          "202035",
          "202036",
          "202037",
          "202038",
          "202039",
          "202040",
          "202041",
          "202042",
          "202043",
          "202044",
          "202045",
          "202046",
          "202047",
          "202048",
          "202049",
          "202050",
          "202051",
          "202052",
          "202053",
          "202101",
          "202102",
          "202103",
          "202104",
          "202105",
          "202106",
          "202107",
          "202108",
          "202109",
          "202110",
          "202111",
          "202112",
          "202113",
          "202114",
          "202115",
          "202116",
          "202117",
          "202118",
          "202119",
          "202120",
          "202121",
          "202122",
          "202123",
          "202124",
          "202125"
         ],
         "y": [
          595718,
          561899,
          592359,
          626276,
          537030,
          433067,
          232891,
          390616,
          521018,
          593509,
          693780,
          875869,
          828364,
          841502,
          850568,
          679967,
          531332,
          461138,
          436128,
          355171,
          569349,
          600039,
          670966,
          769202,
          846436,
          945581,
          1088992,
          1008402,
          840283,
          702949,
          776196,
          843641,
          969377,
          921796,
          815885,
          799789,
          783857,
          599409,
          475433,
          646295,
          779657,
          688083,
          646901,
          678227,
          827122,
          789573,
          642683,
          553609,
          429176,
          430909,
          422602,
          515639,
          543389,
          736056,
          819596,
          948104,
          1040573,
          1174008,
          1137451,
          1154057,
          1230948,
          1246419,
          1111362,
          1160150,
          1193339,
          1002560,
          853427,
          692545,
          525471,
          558155,
          703941,
          798726,
          616334,
          559708,
          620417,
          641708
         ]
        },
        {
         "name": "Prediction",
         "type": "scatter",
         "x": [
          "202114",
          "202115",
          "202116",
          "202117",
          "202118",
          "202119",
          "202120",
          "202121",
          "202122",
          "202123",
          "202124",
          "202125"
         ],
         "y": [
          949506.0576171875,
          856546.607421875,
          824434.4541015625,
          804612.7055664062,
          730464.486328125,
          682845.3872070312,
          661783.4677734375,
          691823.37890625,
          759080.1352539062,
          891950.5209960938,
          1008555.4619140625,
          1088482.443359375
         ]
        }
       ],
       "layout": {
        "autosize": true,
        "margin": {
         "b": 10,
         "l": 10,
         "r": 15,
         "t": 15
        },
        "template": {
         "data": {
          "bar": [
           {
            "error_x": {
             "color": "#2a3f5f"
            },
            "error_y": {
             "color": "#2a3f5f"
            },
            "marker": {
             "line": {
              "color": "#E5ECF6",
              "width": 0.5
             },
             "pattern": {
              "fillmode": "overlay",
              "size": 10,
              "solidity": 0.2
             }
            },
            "type": "bar"
           }
          ],
          "barpolar": [
           {
            "marker": {
             "line": {
              "color": "#E5ECF6",
              "width": 0.5
             },
             "pattern": {
              "fillmode": "overlay",
              "size": 10,
              "solidity": 0.2
             }
            },
            "type": "barpolar"
           }
          ],
          "carpet": [
           {
            "aaxis": {
             "endlinecolor": "#2a3f5f",
             "gridcolor": "white",
             "linecolor": "white",
             "minorgridcolor": "white",
             "startlinecolor": "#2a3f5f"
            },
            "baxis": {
             "endlinecolor": "#2a3f5f",
             "gridcolor": "white",
             "linecolor": "white",
             "minorgridcolor": "white",
             "startlinecolor": "#2a3f5f"
            },
            "type": "carpet"
           }
          ],
          "choropleth": [
           {
            "colorbar": {
             "outlinewidth": 0,
             "ticks": ""
            },
            "type": "choropleth"
           }
          ],
          "contour": [
           {
            "colorbar": {
             "outlinewidth": 0,
             "ticks": ""
            },
            "colorscale": [
             [
              0,
              "#0d0887"
             ],
             [
              0.1111111111111111,
              "#46039f"
             ],
             [
              0.2222222222222222,
              "#7201a8"
             ],
             [
              0.3333333333333333,
              "#9c179e"
             ],
             [
              0.4444444444444444,
              "#bd3786"
             ],
             [
              0.5555555555555556,
              "#d8576b"
             ],
             [
              0.6666666666666666,
              "#ed7953"
             ],
             [
              0.7777777777777778,
              "#fb9f3a"
             ],
             [
              0.8888888888888888,
              "#fdca26"
             ],
             [
              1,
              "#f0f921"
             ]
            ],
            "type": "contour"
           }
          ],
          "contourcarpet": [
           {
            "colorbar": {
             "outlinewidth": 0,
             "ticks": ""
            },
            "type": "contourcarpet"
           }
          ],
          "heatmap": [
           {
            "colorbar": {
             "outlinewidth": 0,
             "ticks": ""
            },
            "colorscale": [
             [
              0,
              "#0d0887"
             ],
             [
              0.1111111111111111,
              "#46039f"
             ],
             [
              0.2222222222222222,
              "#7201a8"
             ],
             [
              0.3333333333333333,
              "#9c179e"
             ],
             [
              0.4444444444444444,
              "#bd3786"
             ],
             [
              0.5555555555555556,
              "#d8576b"
             ],
             [
              0.6666666666666666,
              "#ed7953"
             ],
             [
              0.7777777777777778,
              "#fb9f3a"
             ],
             [
              0.8888888888888888,
              "#fdca26"
             ],
             [
              1,
              "#f0f921"
             ]
            ],
            "type": "heatmap"
           }
          ],
          "heatmapgl": [
           {
            "colorbar": {
             "outlinewidth": 0,
             "ticks": ""
            },
            "colorscale": [
             [
              0,
              "#0d0887"
             ],
             [
              0.1111111111111111,
              "#46039f"
             ],
             [
              0.2222222222222222,
              "#7201a8"
             ],
             [
              0.3333333333333333,
              "#9c179e"
             ],
             [
              0.4444444444444444,
              "#bd3786"
             ],
             [
              0.5555555555555556,
              "#d8576b"
             ],
             [
              0.6666666666666666,
              "#ed7953"
             ],
             [
              0.7777777777777778,
              "#fb9f3a"
             ],
             [
              0.8888888888888888,
              "#fdca26"
             ],
             [
              1,
              "#f0f921"
             ]
            ],
            "type": "heatmapgl"
           }
          ],
          "histogram": [
           {
            "marker": {
             "pattern": {
              "fillmode": "overlay",
              "size": 10,
              "solidity": 0.2
             }
            },
            "type": "histogram"
           }
          ],
          "histogram2d": [
           {
            "colorbar": {
             "outlinewidth": 0,
             "ticks": ""
            },
            "colorscale": [
             [
              0,
              "#0d0887"
             ],
             [
              0.1111111111111111,
              "#46039f"
             ],
             [
              0.2222222222222222,
              "#7201a8"
             ],
             [
              0.3333333333333333,
              "#9c179e"
             ],
             [
              0.4444444444444444,
              "#bd3786"
             ],
             [
              0.5555555555555556,
              "#d8576b"
             ],
             [
              0.6666666666666666,
              "#ed7953"
             ],
             [
              0.7777777777777778,
              "#fb9f3a"
             ],
             [
              0.8888888888888888,
              "#fdca26"
             ],
             [
              1,
              "#f0f921"
             ]
            ],
            "type": "histogram2d"
           }
          ],
          "histogram2dcontour": [
           {
            "colorbar": {
             "outlinewidth": 0,
             "ticks": ""
            },
            "colorscale": [
             [
              0,
              "#0d0887"
             ],
             [
              0.1111111111111111,
              "#46039f"
             ],
             [
              0.2222222222222222,
              "#7201a8"
             ],
             [
              0.3333333333333333,
              "#9c179e"
             ],
             [
              0.4444444444444444,
              "#bd3786"
             ],
             [
              0.5555555555555556,
              "#d8576b"
             ],
             [
              0.6666666666666666,
              "#ed7953"
             ],
             [
              0.7777777777777778,
              "#fb9f3a"
             ],
             [
              0.8888888888888888,
              "#fdca26"
             ],
             [
              1,
              "#f0f921"
             ]
            ],
            "type": "histogram2dcontour"
           }
          ],
          "mesh3d": [
           {
            "colorbar": {
             "outlinewidth": 0,
             "ticks": ""
            },
            "type": "mesh3d"
           }
          ],
          "parcoords": [
           {
            "line": {
             "colorbar": {
              "outlinewidth": 0,
              "ticks": ""
             }
            },
            "type": "parcoords"
           }
          ],
          "pie": [
           {
            "automargin": true,
            "type": "pie"
           }
          ],
          "scatter": [
           {
            "marker": {
             "colorbar": {
              "outlinewidth": 0,
              "ticks": ""
             }
            },
            "type": "scatter"
           }
          ],
          "scatter3d": [
           {
            "line": {
             "colorbar": {
              "outlinewidth": 0,
              "ticks": ""
             }
            },
            "marker": {
             "colorbar": {
              "outlinewidth": 0,
              "ticks": ""
             }
            },
            "type": "scatter3d"
           }
          ],
          "scattercarpet": [
           {
            "marker": {
             "colorbar": {
              "outlinewidth": 0,
              "ticks": ""
             }
            },
            "type": "scattercarpet"
           }
          ],
          "scattergeo": [
           {
            "marker": {
             "colorbar": {
              "outlinewidth": 0,
              "ticks": ""
             }
            },
            "type": "scattergeo"
           }
          ],
          "scattergl": [
           {
            "marker": {
             "colorbar": {
              "outlinewidth": 0,
              "ticks": ""
             }
            },
            "type": "scattergl"
           }
          ],
          "scattermapbox": [
           {
            "marker": {
             "colorbar": {
              "outlinewidth": 0,
              "ticks": ""
             }
            },
            "type": "scattermapbox"
           }
          ],
          "scatterpolar": [
           {
            "marker": {
             "colorbar": {
              "outlinewidth": 0,
              "ticks": ""
             }
            },
            "type": "scatterpolar"
           }
          ],
          "scatterpolargl": [
           {
            "marker": {
             "colorbar": {
              "outlinewidth": 0,
              "ticks": ""
             }
            },
            "type": "scatterpolargl"
           }
          ],
          "scatterternary": [
           {
            "marker": {
             "colorbar": {
              "outlinewidth": 0,
              "ticks": ""
             }
            },
            "type": "scatterternary"
           }
          ],
          "surface": [
           {
            "colorbar": {
             "outlinewidth": 0,
             "ticks": ""
            },
            "colorscale": [
             [
              0,
              "#0d0887"
             ],
             [
              0.1111111111111111,
              "#46039f"
             ],
             [
              0.2222222222222222,
              "#7201a8"
             ],
             [
              0.3333333333333333,
              "#9c179e"
             ],
             [
              0.4444444444444444,
              "#bd3786"
             ],
             [
              0.5555555555555556,
              "#d8576b"
             ],
             [
              0.6666666666666666,
              "#ed7953"
             ],
             [
              0.7777777777777778,
              "#fb9f3a"
             ],
             [
              0.8888888888888888,
              "#fdca26"
             ],
             [
              1,
              "#f0f921"
             ]
            ],
            "type": "surface"
           }
          ],
          "table": [
           {
            "cells": {
             "fill": {
              "color": "#EBF0F8"
             },
             "line": {
              "color": "white"
             }
            },
            "header": {
             "fill": {
              "color": "#C8D4E3"
             },
             "line": {
              "color": "white"
             }
            },
            "type": "table"
           }
          ]
         },
         "layout": {
          "annotationdefaults": {
           "arrowcolor": "#2a3f5f",
           "arrowhead": 0,
           "arrowwidth": 1
          },
          "autotypenumbers": "strict",
          "coloraxis": {
           "colorbar": {
            "outlinewidth": 0,
            "ticks": ""
           }
          },
          "colorscale": {
           "diverging": [
            [
             0,
             "#8e0152"
            ],
            [
             0.1,
             "#c51b7d"
            ],
            [
             0.2,
             "#de77ae"
            ],
            [
             0.3,
             "#f1b6da"
            ],
            [
             0.4,
             "#fde0ef"
            ],
            [
             0.5,
             "#f7f7f7"
            ],
            [
             0.6,
             "#e6f5d0"
            ],
            [
             0.7,
             "#b8e186"
            ],
            [
             0.8,
             "#7fbc41"
            ],
            [
             0.9,
             "#4d9221"
            ],
            [
             1,
             "#276419"
            ]
           ],
           "sequential": [
            [
             0,
             "#0d0887"
            ],
            [
             0.1111111111111111,
             "#46039f"
            ],
            [
             0.2222222222222222,
             "#7201a8"
            ],
            [
             0.3333333333333333,
             "#9c179e"
            ],
            [
             0.4444444444444444,
             "#bd3786"
            ],
            [
             0.5555555555555556,
             "#d8576b"
            ],
            [
             0.6666666666666666,
             "#ed7953"
            ],
            [
             0.7777777777777778,
             "#fb9f3a"
            ],
            [
             0.8888888888888888,
             "#fdca26"
            ],
            [
             1,
             "#f0f921"
            ]
           ],
           "sequentialminus": [
            [
             0,
             "#0d0887"
            ],
            [
             0.1111111111111111,
             "#46039f"
            ],
            [
             0.2222222222222222,
             "#7201a8"
            ],
            [
             0.3333333333333333,
             "#9c179e"
            ],
            [
             0.4444444444444444,
             "#bd3786"
            ],
            [
             0.5555555555555556,
             "#d8576b"
            ],
            [
             0.6666666666666666,
             "#ed7953"
            ],
            [
             0.7777777777777778,
             "#fb9f3a"
            ],
            [
             0.8888888888888888,
             "#fdca26"
            ],
            [
             1,
             "#f0f921"
            ]
           ]
          },
          "colorway": [
           "#636efa",
           "#EF553B",
           "#00cc96",
           "#ab63fa",
           "#FFA15A",
           "#19d3f3",
           "#FF6692",
           "#B6E880",
           "#FF97FF",
           "#FECB52"
          ],
          "font": {
           "color": "#2a3f5f"
          },
          "geo": {
           "bgcolor": "white",
           "lakecolor": "white",
           "landcolor": "#E5ECF6",
           "showlakes": true,
           "showland": true,
           "subunitcolor": "white"
          },
          "hoverlabel": {
           "align": "left"
          },
          "hovermode": "closest",
          "mapbox": {
           "style": "light"
          },
          "paper_bgcolor": "white",
          "plot_bgcolor": "#E5ECF6",
          "polar": {
           "angularaxis": {
            "gridcolor": "white",
            "linecolor": "white",
            "ticks": ""
           },
           "bgcolor": "#E5ECF6",
           "radialaxis": {
            "gridcolor": "white",
            "linecolor": "white",
            "ticks": ""
           }
          },
          "scene": {
           "xaxis": {
            "backgroundcolor": "#E5ECF6",
            "gridcolor": "white",
            "gridwidth": 2,
            "linecolor": "white",
            "showbackground": true,
            "ticks": "",
            "zerolinecolor": "white"
           },
           "yaxis": {
            "backgroundcolor": "#E5ECF6",
            "gridcolor": "white",
            "gridwidth": 2,
            "linecolor": "white",
            "showbackground": true,
            "ticks": "",
            "zerolinecolor": "white"
           },
           "zaxis": {
            "backgroundcolor": "#E5ECF6",
            "gridcolor": "white",
            "gridwidth": 2,
            "linecolor": "white",
            "showbackground": true,
            "ticks": "",
            "zerolinecolor": "white"
           }
          },
          "shapedefaults": {
           "line": {
            "color": "#2a3f5f"
           }
          },
          "ternary": {
           "aaxis": {
            "gridcolor": "white",
            "linecolor": "white",
            "ticks": ""
           },
           "baxis": {
            "gridcolor": "white",
            "linecolor": "white",
            "ticks": ""
           },
           "bgcolor": "#E5ECF6",
           "caxis": {
            "gridcolor": "white",
            "linecolor": "white",
            "ticks": ""
           }
          },
          "title": {
           "x": 0.05
          },
          "xaxis": {
           "automargin": true,
           "gridcolor": "white",
           "linecolor": "white",
           "ticks": "",
           "title": {
            "standoff": 15
           },
           "zerolinecolor": "white",
           "zerolinewidth": 2
          },
          "yaxis": {
           "automargin": true,
           "gridcolor": "white",
           "linecolor": "white",
           "ticks": "",
           "title": {
            "standoff": 15
           },
           "zerolinecolor": "white",
           "zerolinewidth": 2
          }
         }
        },
        "xaxis": {
         "autorange": true,
         "categoryorder": "category ascending",
         "range": [
          -4.447894168466523,
          79.44789416846652
         ],
         "type": "category"
        },
        "yaxis": {
         "autorange": true,
         "range": [
          159437.99634591962,
          1319872.0036540804
         ],
         "type": "linear"
        }
       }
      },
      "image/png": "[encoded data removed]",
      "text/html": [
       "<div>                            <div id=\"099e4b4b-7291-4886-a5bd-0cdf7c4437c0\" class=\"plotly-graph-div\" style=\"height:525px; width:100%;\"></div>            <script type=\"text/javascript\">                require([\"plotly\"], function(Plotly) {                    window.PLOTLYENV=window.PLOTLYENV || {};                                    if (document.getElementById(\"099e4b4b-7291-4886-a5bd-0cdf7c4437c0\")) {                    Plotly.newPlot(                        \"099e4b4b-7291-4886-a5bd-0cdf7c4437c0\",                        [{\"mode\":\"lines+markers\",\"name\":\"Real\",\"type\":\"scatter\",\"x\":[\"202003\",\"202004\",\"202005\",\"202006\",\"202007\",\"202008\",\"202009\",\"202010\",\"202011\",\"202012\",\"202013\",\"202014\",\"202015\",\"202016\",\"202017\",\"202018\",\"202019\",\"202020\",\"202021\",\"202022\",\"202023\",\"202024\",\"202025\",\"202026\",\"202027\",\"202028\",\"202029\",\"202030\",\"202031\",\"202032\",\"202033\",\"202034\",\"202035\",\"202036\",\"202037\",\"202038\",\"202039\",\"202040\",\"202041\",\"202042\",\"202043\",\"202044\",\"202045\",\"202046\",\"202047\",\"202048\",\"202049\",\"202050\",\"202051\",\"202052\",\"202053\",\"202101\",\"202102\",\"202103\",\"202104\",\"202105\",\"202106\",\"202107\",\"202108\",\"202109\",\"202110\",\"202111\",\"202112\",\"202113\",\"202114\",\"202115\",\"202116\",\"202117\",\"202118\",\"202119\",\"202120\",\"202121\",\"202122\",\"202123\",\"202124\",\"202125\"],\"y\":[595718,561899,592359,626276,537030,433067,232891,390616,521018,593509,693780,875869,828364,841502,850568,679967,531332,461138,436128,355171,569349,600039,670966,769202,846436,945581,1088992,1008402,840283,702949,776196,843641,969377,921796,815885,799789,783857,599409,475433,646295,779657,688083,646901,678227,827122,789573,642683,553609,429176,430909,422602,515639,543389,736056,819596,948104,1040573,1174008,1137451,1154057,1230948,1246419,1111362,1160150,1193339,1002560,853427,692545,525471,558155,703941,798726,616334,559708,620417,641708]},{\"name\":\"Prediction\",\"type\":\"scatter\",\"x\":[\"202114\",\"202115\",\"202116\",\"202117\",\"202118\",\"202119\",\"202120\",\"202121\",\"202122\",\"202123\",\"202124\",\"202125\"],\"y\":[949506.0576171875,856546.607421875,824434.4541015625,804612.7055664062,730464.486328125,682845.3872070312,661783.4677734375,691823.37890625,759080.1352539062,891950.5209960938,1008555.4619140625,1088482.443359375]}],                        {\"margin\":{\"b\":10,\"l\":10,\"r\":15,\"t\":15},\"template\":{\"data\":{\"bar\":[{\"error_x\":{\"color\":\"#2a3f5f\"},\"error_y\":{\"color\":\"#2a3f5f\"},\"marker\":{\"line\":{\"color\":\"#E5ECF6\",\"width\":0.5},\"pattern\":{\"fillmode\":\"overlay\",\"size\":10,\"solidity\":0.2}},\"type\":\"bar\"}],\"barpolar\":[{\"marker\":{\"line\":{\"color\":\"#E5ECF6\",\"width\":0.5},\"pattern\":{\"fillmode\":\"overlay\",\"size\":10,\"solidity\":0.2}},\"type\":\"barpolar\"}],\"carpet\":[{\"aaxis\":{\"endlinecolor\":\"#2a3f5f\",\"gridcolor\":\"white\",\"linecolor\":\"white\",\"minorgridcolor\":\"white\",\"startlinecolor\":\"#2a3f5f\"},\"baxis\":{\"endlinecolor\":\"#2a3f5f\",\"gridcolor\":\"white\",\"linecolor\":\"white\",\"minorgridcolor\":\"white\",\"startlinecolor\":\"#2a3f5f\"},\"type\":\"carpet\"}],\"choropleth\":[{\"colorbar\":{\"outlinewidth\":0,\"ticks\":\"\"},\"type\":\"choropleth\"}],\"contour\":[{\"colorbar\":{\"outlinewidth\":0,\"ticks\":\"\"},\"colorscale\":[[0.0,\"#0d0887\"],[0.1111111111111111,\"#46039f\"],[0.2222222222222222,\"#7201a8\"],[0.3333333333333333,\"#9c179e\"],[0.4444444444444444,\"#bd3786\"],[0.5555555555555556,\"#d8576b\"],[0.6666666666666666,\"#ed7953\"],[0.7777777777777778,\"#fb9f3a\"],[0.8888888888888888,\"#fdca26\"],[1.0,\"#f0f921\"]],\"type\":\"contour\"}],\"contourcarpet\":[{\"colorbar\":{\"outlinewidth\":0,\"ticks\":\"\"},\"type\":\"contourcarpet\"}],\"heatmap\":[{\"colorbar\":{\"outlinewidth\":0,\"ticks\":\"\"},\"colorscale\":[[0.0,\"#0d0887\"],[0.1111111111111111,\"#46039f\"],[0.2222222222222222,\"#7201a8\"],[0.3333333333333333,\"#9c179e\"],[0.4444444444444444,\"#bd3786\"],[0.5555555555555556,\"#d8576b\"],[0.6666666666666666,\"#ed7953\"],[0.7777777777777778,\"#fb9f3a\"],[0.8888888888888888,\"#fdca26\"],[1.0,\"#f0f921\"]],\"type\":\"heatmap\"}],\"heatmapgl\":[{\"colorbar\":{\"outlinewidth\":0,\"ticks\":\"\"},\"colorscale\":[[0.0,\"#0d0887\"],[0.1111111111111111,\"#46039f\"],[0.2222222222222222,\"#7201a8\"],[0.3333333333333333,\"#9c179e\"],[0.4444444444444444,\"#bd3786\"],[0.5555555555555556,\"#d8576b\"],[0.6666666666666666,\"#ed7953\"],[0.7777777777777778,\"#fb9f3a\"],[0.8888888888888888,\"#fdca26\"],[1.0,\"#f0f921\"]],\"type\":\"heatmapgl\"}],\"histogram\":[{\"marker\":{\"pattern\":{\"fillmode\":\"overlay\",\"size\":10,\"solidity\":0.2}},\"type\":\"histogram\"}],\"histogram2d\":[{\"colorbar\":{\"outlinewidth\":0,\"ticks\":\"\"},\"colorscale\":[[0.0,\"#0d0887\"],[0.1111111111111111,\"#46039f\"],[0.2222222222222222,\"#7201a8\"],[0.3333333333333333,\"#9c179e\"],[0.4444444444444444,\"#bd3786\"],[0.5555555555555556,\"#d8576b\"],[0.6666666666666666,\"#ed7953\"],[0.7777777777777778,\"#fb9f3a\"],[0.8888888888888888,\"#fdca26\"],[1.0,\"#f0f921\"]],\"type\":\"histogram2d\"}],\"histogram2dcontour\":[{\"colorbar\":{\"outlinewidth\":0,\"ticks\":\"\"},\"colorscale\":[[0.0,\"#0d0887\"],[0.1111111111111111,\"#46039f\"],[0.2222222222222222,\"#7201a8\"],[0.3333333333333333,\"#9c179e\"],[0.4444444444444444,\"#bd3786\"],[0.5555555555555556,\"#d8576b\"],[0.6666666666666666,\"#ed7953\"],[0.7777777777777778,\"#fb9f3a\"],[0.8888888888888888,\"#fdca26\"],[1.0,\"#f0f921\"]],\"type\":\"histogram2dcontour\"}],\"mesh3d\":[{\"colorbar\":{\"outlinewidth\":0,\"ticks\":\"\"},\"type\":\"mesh3d\"}],\"parcoords\":[{\"line\":{\"colorbar\":{\"outlinewidth\":0,\"ticks\":\"\"}},\"type\":\"parcoords\"}],\"pie\":[{\"automargin\":true,\"type\":\"pie\"}],\"scatter\":[{\"marker\":{\"colorbar\":{\"outlinewidth\":0,\"ticks\":\"\"}},\"type\":\"scatter\"}],\"scatter3d\":[{\"line\":{\"colorbar\":{\"outlinewidth\":0,\"ticks\":\"\"}},\"marker\":{\"colorbar\":{\"outlinewidth\":0,\"ticks\":\"\"}},\"type\":\"scatter3d\"}],\"scattercarpet\":[{\"marker\":{\"colorbar\":{\"outlinewidth\":0,\"ticks\":\"\"}},\"type\":\"scattercarpet\"}],\"scattergeo\":[{\"marker\":{\"colorbar\":{\"outlinewidth\":0,\"ticks\":\"\"}},\"type\":\"scattergeo\"}],\"scattergl\":[{\"marker\":{\"colorbar\":{\"outlinewidth\":0,\"ticks\":\"\"}},\"type\":\"scattergl\"}],\"scattermapbox\":[{\"marker\":{\"colorbar\":{\"outlinewidth\":0,\"ticks\":\"\"}},\"type\":\"scattermapbox\"}],\"scatterpolar\":[{\"marker\":{\"colorbar\":{\"outlinewidth\":0,\"ticks\":\"\"}},\"type\":\"scatterpolar\"}],\"scatterpolargl\":[{\"marker\":{\"colorbar\":{\"outlinewidth\":0,\"ticks\":\"\"}},\"type\":\"scatterpolargl\"}],\"scatterternary\":[{\"marker\":{\"colorbar\":{\"outlinewidth\":0,\"ticks\":\"\"}},\"type\":\"scatterternary\"}],\"surface\":[{\"colorbar\":{\"outlinewidth\":0,\"ticks\":\"\"},\"colorscale\":[[0.0,\"#0d0887\"],[0.1111111111111111,\"#46039f\"],[0.2222222222222222,\"#7201a8\"],[0.3333333333333333,\"#9c179e\"],[0.4444444444444444,\"#bd3786\"],[0.5555555555555556,\"#d8576b\"],[0.6666666666666666,\"#ed7953\"],[0.7777777777777778,\"#fb9f3a\"],[0.8888888888888888,\"#fdca26\"],[1.0,\"#f0f921\"]],\"type\":\"surface\"}],\"table\":[{\"cells\":{\"fill\":{\"color\":\"#EBF0F8\"},\"line\":{\"color\":\"white\"}},\"header\":{\"fill\":{\"color\":\"#C8D4E3\"},\"line\":{\"color\":\"white\"}},\"type\":\"table\"}]},\"layout\":{\"annotationdefaults\":{\"arrowcolor\":\"#2a3f5f\",\"arrowhead\":0,\"arrowwidth\":1},\"autotypenumbers\":\"strict\",\"coloraxis\":{\"colorbar\":{\"outlinewidth\":0,\"ticks\":\"\"}},\"colorscale\":{\"diverging\":[[0,\"#8e0152\"],[0.1,\"#c51b7d\"],[0.2,\"#de77ae\"],[0.3,\"#f1b6da\"],[0.4,\"#fde0ef\"],[0.5,\"#f7f7f7\"],[0.6,\"#e6f5d0\"],[0.7,\"#b8e186\"],[0.8,\"#7fbc41\"],[0.9,\"#4d9221\"],[1,\"#276419\"]],\"sequential\":[[0.0,\"#0d0887\"],[0.1111111111111111,\"#46039f\"],[0.2222222222222222,\"#7201a8\"],[0.3333333333333333,\"#9c179e\"],[0.4444444444444444,\"#bd3786\"],[0.5555555555555556,\"#d8576b\"],[0.6666666666666666,\"#ed7953\"],[0.7777777777777778,\"#fb9f3a\"],[0.8888888888888888,\"#fdca26\"],[1.0,\"#f0f921\"]],\"sequentialminus\":[[0.0,\"#0d0887\"],[0.1111111111111111,\"#46039f\"],[0.2222222222222222,\"#7201a8\"],[0.3333333333333333,\"#9c179e\"],[0.4444444444444444,\"#bd3786\"],[0.5555555555555556,\"#d8576b\"],[0.6666666666666666,\"#ed7953\"],[0.7777777777777778,\"#fb9f3a\"],[0.8888888888888888,\"#fdca26\"],[1.0,\"#f0f921\"]]},\"colorway\":[\"#636efa\",\"#EF553B\",\"#00cc96\",\"#ab63fa\",\"#FFA15A\",\"#19d3f3\",\"#FF6692\",\"#B6E880\",\"#FF97FF\",\"#FECB52\"],\"font\":{\"color\":\"#2a3f5f\"},\"geo\":{\"bgcolor\":\"white\",\"lakecolor\":\"white\",\"landcolor\":\"#E5ECF6\",\"showlakes\":true,\"showland\":true,\"subunitcolor\":\"white\"},\"hoverlabel\":{\"align\":\"left\"},\"hovermode\":\"closest\",\"mapbox\":{\"style\":\"light\"},\"paper_bgcolor\":\"white\",\"plot_bgcolor\":\"#E5ECF6\",\"polar\":{\"angularaxis\":{\"gridcolor\":\"white\",\"linecolor\":\"white\",\"ticks\":\"\"},\"bgcolor\":\"#E5ECF6\",\"radialaxis\":{\"gridcolor\":\"white\",\"linecolor\":\"white\",\"ticks\":\"\"}},\"scene\":{\"xaxis\":{\"backgroundcolor\":\"#E5ECF6\",\"gridcolor\":\"white\",\"gridwidth\":2,\"linecolor\":\"white\",\"showbackground\":true,\"ticks\":\"\",\"zerolinecolor\":\"white\"},\"yaxis\":{\"backgroundcolor\":\"#E5ECF6\",\"gridcolor\":\"white\",\"gridwidth\":2,\"linecolor\":\"white\",\"showbackground\":true,\"ticks\":\"\",\"zerolinecolor\":\"white\"},\"zaxis\":{\"backgroundcolor\":\"#E5ECF6\",\"gridcolor\":\"white\",\"gridwidth\":2,\"linecolor\":\"white\",\"showbackground\":true,\"ticks\":\"\",\"zerolinecolor\":\"white\"}},\"shapedefaults\":{\"line\":{\"color\":\"#2a3f5f\"}},\"ternary\":{\"aaxis\":{\"gridcolor\":\"white\",\"linecolor\":\"white\",\"ticks\":\"\"},\"baxis\":{\"gridcolor\":\"white\",\"linecolor\":\"white\",\"ticks\":\"\"},\"bgcolor\":\"#E5ECF6\",\"caxis\":{\"gridcolor\":\"white\",\"linecolor\":\"white\",\"ticks\":\"\"}},\"title\":{\"x\":0.05},\"xaxis\":{\"automargin\":true,\"gridcolor\":\"white\",\"linecolor\":\"white\",\"ticks\":\"\",\"title\":{\"standoff\":15},\"zerolinecolor\":\"white\",\"zerolinewidth\":2},\"yaxis\":{\"automargin\":true,\"gridcolor\":\"white\",\"linecolor\":\"white\",\"ticks\":\"\",\"title\":{\"standoff\":15},\"zerolinecolor\":\"white\",\"zerolinewidth\":2}}},\"xaxis\":{\"categoryorder\":\"category ascending\"}},                        {\"responsive\": true}                    ).then(function(){\n",
       "                            \n",
       "var gd = document.getElementById('099e4b4b-7291-4886-a5bd-0cdf7c4437c0');\n",
       "var x = new MutationObserver(function (mutations, observer) {{\n",
       "        var display = window.getComputedStyle(gd).display;\n",
       "        if (!display || display === 'none') {{\n",
       "            console.log([gd, 'removed!']);\n",
       "            Plotly.purge(gd);\n",
       "            observer.disconnect();\n",
       "        }}\n",
       "}});\n",
       "\n",
       "// Listen for the removal of the full notebook cells\n",
       "var notebookContainer = gd.closest('#notebook-container');\n",
       "if (notebookContainer) {{\n",
       "    x.observe(notebookContainer, {childList: true});\n",
       "}}\n",
       "\n",
       "// Listen for the clearing of the current output cell\n",
       "var outputEl = gd.closest('.output');\n",
       "if (outputEl) {{\n",
       "    x.observe(outputEl, {childList: true});\n",
       "}}\n",
       "\n",
       "                        })                };                });            </script>        </div>"
      ]
     },
     "metadata": {},
     "output_type": "display_data"
    }
   ],
   "source": [
    "fig = go.Figure()\n",
    "fig.add_trace(go.Scatter(x=inven_rslt['ww'], y=inven_rslt['inven'],\n",
    "                        mode='lines+markers', name='Real'))\n",
    "fig.add_trace(go.Scatter(x=inven_rslt['ww'].iloc[now_no:], \n",
    "                         y=inven_rslt['inven_pred'].iloc[now_no:],\n",
    "                        name='Prediction'))\n",
    "fig.update_layout(margin=dict(l=10, r=15, t=15, b=10))\n",
    "fig.update_xaxes(categoryorder='category ascending')\n",
    "fig.show()"
   ]
  },
  {
   "cell_type": "code",
   "execution_count": 38,
   "id": "83bacb83-7f07-4dda-afad-2bea4e798df7",
   "metadata": {},
   "outputs": [],
   "source": [
    "inven_rslt.loc[now_no:].to_csv('method2_prediction.csv')"
   ]
  },
  {
   "cell_type": "raw",
   "id": "64e8e558-57c2-4b2e-a889-255eb1e2cc5c",
   "metadata": {
    "jupyter": {
     "source_hidden": true
    },
    "tags": []
   },
   "source": [
    "for current in np.arange(202101, 202117):#np.max(y_inven['ww'].values)\n",
    "    dt_current = (dt_table.index[dt_table['ww'] == current].tolist()[0])-1\n",
    "    pred_ww = dt_table['ww'].loc[dt_current+1:].values.tolist()\n",
    "    opt_set = d_set.iloc[:d_set.index[d_set['ww'] == dt_table.loc[dt_current].values.tolist()[0]][0]+1,:]\n",
    "\n",
    "    warnings.filterwarnings(action='ignore', category=UserWarning)\n",
    "    param_bound = {'theta1' : (0, 10), 'g_alpha' : (0.0,0.99) , 'k_dot' : (0, 100), 'w_noise' : (0.0, 100), 'rbf_l' : (0, 10), \n",
    "                   'tmp_prev_inven_col' : (1,8), 'tmp_var_sale_col' : (1, 12), 'tmp_var_product_col' : (1, 12)}\n",
    "\n",
    "    product_optimizer = BayesianOptimization(f=h_opt, pbounds=param_bound, verbose=2, random_state=1)\n",
    "    product_optimizer.maximize(init_points=10, n_iter=30)\n",
    "    print(product_optimizer.max['target'])\n",
    "\n",
    "    g_alpha = product_optimizer.max['params']['g_alpha']\n",
    "    k_dot = product_optimizer.max['params']['k_dot']\n",
    "    rbf_l = product_optimizer.max['params']['rbf_l']\n",
    "    theta1 =product_optimizer.max['params']['theta1']\n",
    "    prev_inven_col = round(product_optimizer.max['params']['tmp_prev_inven_col'])\n",
    "    var_product_col = round(product_optimizer.max['params']['tmp_var_product_col'])\n",
    "    var_sale_col = round(product_optimizer.max['params']['tmp_var_sale_col'])\n",
    "    w_noise = product_optimizer.max['params']['w_noise']\n",
    "    print(\"Prev Inven : %d, Var Sale : %d, Var Product : %d\"%(prev_inven_col, var_sale_col, var_product_col))\n",
    "\n",
    "    train_set = opt_set\n",
    "\n",
    "    prev_inven_name   = [s for s in train_set.columns.values if 'prev_inven_' in s]    \n",
    "    var_sale_name     = [s for s in train_set.columns.values if 'sales_prev_' in s]\n",
    "    var_product_name  = [s for s in train_set.columns.values if 'product_prev_' in s]\n",
    "    train_x_name = prev_inven_name[:prev_inven_col]+var_sale_name[:var_sale_col]+var_product_name[:var_product_col]\n",
    "    kernel =  theta1 * RBF(rbf_l) + WhiteKernel(w_noise)  + DotProduct(k_dot) ## RBF(2) + WhiteKernel(1)  + \n",
    "    gp = GaussianProcessRegressor(kernel=kernel, alpha=g_alpha, n_restarts_optimizer=3)\n",
    "    gp.fit(train_set[train_x_name], train_set['inven'])\n",
    "\n",
    "    train_pred, train_sigma = gp.predict(train_set[train_x_name], return_std=True)\n",
    "\n",
    "    current_ind = prod_plan.index[prod_plan['ww'] == current].tolist()[0]\n",
    "    for i in range(0,var_product_col):\n",
    "        #print(prod_plan.loc[current_ind-i])\n",
    "        tmp_split = [x.split(\":\") for x in prod_plan['ww'].loc[current_ind-i].split(\"/\")]\n",
    "        tmp_split_df = pd.DataFrame(tmp_split)\n",
    "        tmp_split_df.columns = ['ww', 'product_prev'+str(i+1)]\n",
    "        tmp_ww_ind = [tmp_split_df['ww'].values.tolist().index(str(x)) for i, x in enumerate(pred_ww) if str(x) in tmp_split_df['ww'].values]\n",
    "        tmp_prod_plan_test = tmp_split_df.iloc[tmp_ww_ind,:].reset_index(drop=True)    \n",
    "        if i == 0 :\n",
    "            prod_plan_test = tmp_prod_plan_test\n",
    "        else:\n",
    "            prod_plan_test = pd.merge(prod_plan_test, tmp_prod_plan_test, how='inner', on='ww')\n",
    "\n",
    "    current_ind = sale_plan.index[sale_plan['ww'] == dt_table['ww'].loc[dt_current-2]].tolist()[0]\n",
    "    #current_ind = sale_plan.index[sale_plan['ww'] == current].tolist()[0]\n",
    "    for i in range(0,var_sale_col):\n",
    "        #print(prod_plan.loc[current_ind-i])\n",
    "        tmp_split = [x.split(\":\") for x in sale_plan['ww'].loc[current_ind-i].split(\"/\")]\n",
    "        tmp_split_df = pd.DataFrame(tmp_split)\n",
    "        tmp_split_df.columns = ['ww', 'sales_prev'+str(i+1)]    \n",
    "        tmp_split_df['ww'] = [str(dt_table['ww'].loc[dt_table.index[dt_table['ww']==int(tmp_split_df['ww'][x])].tolist()[0]+2]) for x in range(0, tmp_split_df.shape[0])]    \n",
    "        tmp_ww_ind = [tmp_split_df['ww'].values.tolist().index(str(x)) for i, x in enumerate(pred_ww) if str(x) in tmp_split_df['ww'].values]    \n",
    "        tmp_sale_plan_test = tmp_split_df.iloc[tmp_ww_ind,:].reset_index(drop=True)      \n",
    "        if i == 0 :\n",
    "            sale_plan_test = tmp_sale_plan_test\n",
    "        else:\n",
    "            sale_plan_test = pd.merge(sale_plan_test, tmp_sale_plan_test, how='left', on='ww')\n",
    "    test_x = pd.merge(sale_plan_test, prod_plan_test, how='inner', on='ww')\n",
    "    test_x = test_x.astype('float')\n",
    "    test_x = test_x.astype({'ww': 'int'})       \n",
    "\n",
    "    test_inven_init = np.array(train_set[['inven']+['prev_inven_'+str(x) for x in range(1,prev_inven_col)]][train_set['ww']==dt_table['ww'].loc[dt_current]]).reshape(-1)\n",
    "    rslt_set, test_pred, test_sigma = [], [], []\n",
    "    for i in range(0, test_x.shape[0]):    \n",
    "        tmp_pred_inven_mean, tmp_pred_inven_std = gp.predict(np.concatenate([test_inven_init, test_x.iloc[i,1:]]).reshape(1,-1), return_std=True)\n",
    "        test_pred.append(tmp_pred_inven_mean[0])\n",
    "        test_sigma.append(tmp_pred_inven_std[0])\n",
    "        tmp_rslt = np.concatenate([tmp_pred_inven_mean, test_inven_init, test_x.iloc[i,1:]])\n",
    "        test_inven_init = np.insert(test_inven_init, 0, tmp_pred_inven_mean)[:prev_inven_col]\n",
    "        rslt_set.append(tmp_rslt)\n",
    "    rslt_set = pd.DataFrame(rslt_set)\n",
    "    rslt_set['ww'] = test_x['ww']\n",
    "    ww_col = rslt_set.columns[-1:].to_list()\n",
    "    x_col = rslt_set.columns[:-1].to_list()\n",
    "    set_col = ww_col + x_col\n",
    "    rslt_set = rslt_set[set_col]\n",
    "    rslt_set.columns = list(['ww','pred_inven'])+train_x_name #total_set.columns\n",
    "\n",
    "    tmp_train_set = train_set[['ww','inven']].copy()\n",
    "    tmp_train_set['inven_pred'] = train_pred\n",
    "    tmp_train_set.head()\n",
    "    tmp_test_set = pd.DataFrame({'ww' :  pred_ww[:len(test_pred)], \n",
    "                                 'inven' : np.repeat(-999, len(test_pred)),\n",
    "                                 'inven_pred' : test_pred})\n",
    "    tmp_day_set = pd.concat([tmp_train_set, tmp_test_set])\n",
    "    tmp_day_set = tmp_day_set.reset_index(drop=True)\n",
    "\n",
    "    tmp_train_sale = pd.merge(train_set['ww'], sale_rslt[['ww','sale']], how='inner', on='ww')\n",
    "    tmp_test_sale = pd.DataFrame([x.split(':') for x in sale_plan['ww'][sale_plan['ww']==current].values.tolist()[0].split('/')])\n",
    "    tmp_test_sale.columns = ['ww', 'sale']\n",
    "    tmp_sale = pd.concat([tmp_train_sale, tmp_test_sale])\n",
    "    tmp_sale = tmp_sale.astype({'ww': 'int'})  \n",
    "    day_set = pd.merge(tmp_day_set, tmp_sale, how='inner', on='ww')\n",
    "    day_set = day_set.astype({'sale' : 'float'})\n",
    "    day_set_nonzero = day_set.copy()\n",
    "    sale_col = np.where(day_set_nonzero.columns.values =='sale')[0][0]\n",
    "    for i in range(0, day_set_nonzero.shape[0]):\n",
    "        tmp_ids = i-1 if i-1 > 0 else 0    \n",
    "        if day_set_nonzero['sale'].loc[i] == 0:        \n",
    "            day_set_nonzero.iloc[i, sale_col] = day_set_nonzero.iloc[tmp_ids, sale_col]\n",
    "            \n",
    "    inven_d = []\n",
    "    for i in range(0, day_set_nonzero.shape[0]):\n",
    "        if i > 0 and i < day_set_nonzero.shape[0]-3:\n",
    "            tmp_sale_avg = np.mean(day_set_nonzero['sale'][i:(i+4)].values)\n",
    "            if i < day_set_nonzero[day_set_nonzero['ww'] == current].index[0] :\n",
    "                tmp_inven = day_set_nonzero['inven'][i-1]    \n",
    "            else:\n",
    "                tmp_inven = day_set_nonzero['inven_pred'][i-1]    \n",
    "            inven_d.append(round(tmp_inven / tmp_sale_avg * 6.76,1))\n",
    "        else:\n",
    "            inven_d.append(0)\n",
    "    day_set_nonzero['inven_d'] = inven_d  \n",
    "\n",
    "    #insert_day_sql = \"insert into inven_day values (%s, %s)\"\n",
    "    #conn = _call_db_info('gscm_e61d')\n",
    "    #curs = conn.cursor()\n",
    "    inven_day_rslt = [current, str('/'.join(list(map(lambda x : ':'.join([str(x) for x in day_set_nonzero.loc[x]]), range(0, day_set_nonzero.shape[0])))))]\n",
    "    #curs.execute(insert_day_sql, inven_day_rslt) \n",
    "    #conn.commit()\n",
    "    #conn.close()\n",
    "    print(inven_day_rslt)"
   ]
  },
  {
   "cell_type": "code",
   "execution_count": null,
   "id": "0b17a7a3",
   "metadata": {},
   "outputs": [],
   "source": []
  }
 ],
 "metadata": {
  "kernelspec": {
   "display_name": "Python 3 (ipykernel)",
   "language": "python",
   "name": "python3"
  },
  "language_info": {
   "codemirror_mode": {
    "name": "ipython",
    "version": 3
   },
   "file_extension": ".py",
   "mimetype": "text/x-python",
   "name": "python",
   "nbconvert_exporter": "python",
   "pygments_lexer": "ipython3",
   "version": "3.9.5"
  }
 },
 "nbformat": 4,
 "nbformat_minor": 5
}
