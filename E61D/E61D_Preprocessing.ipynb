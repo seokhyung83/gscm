{
 "cells": [
  {
   "cell_type": "code",
   "execution_count": 1,
   "id": "b7fde5f1",
   "metadata": {},
   "outputs": [],
   "source": [
    "import os, random, time\n",
    "import numpy as np\n",
    "import pandas as pd\n",
    "import matplotlib.pyplot as plt\n",
    "import datetime\n",
    "import openpyxl\n",
    "import shutil\n",
    "from scipy.stats import mode\n",
    "if os.path.isdir('./data/.ipynb_checkpoints'):\n",
    "    shutil.rmtree('./data/.ipynb_checkpoints')\n",
    "f_list = os.listdir('./data/')\n",
    "f_list.sort()"
   ]
  },
  {
   "cell_type": "code",
   "execution_count": 2,
   "id": "f15eb809-3a3e-4248-8da9-ca14b23db2c7",
   "metadata": {},
   "outputs": [],
   "source": [
    "def dta_merge(t_tmp, t_title):\n",
    "    #t_tmp = tmp1 ; t_title = tmp1.columns\n",
    "    ver_col = np.where(t_tmp.columns == 'Version')[0][0]\n",
    "    t_tmp1 = pd.DataFrame(t_tmp.iloc[:,ver_col].copy())\n",
    "    t_tmp1 = pd.concat([t_tmp1,t_tmp.iloc[:, 14:]], axis=1)\n",
    "    return t_tmp1\n",
    "def year_week_cal(tmp_set_, col_name_, format_):\n",
    "    tmp_cal_year = list(pd.to_datetime(tmp_set_[col_name_], format=format_).dt.isocalendar().year.values)\n",
    "    tmp_cal_ww   = pd.to_datetime(tmp_set_[col_name_], format=format_).dt.isocalendar().week.values\n",
    "    tmp_cal_ww1 = list(map(lambda x : str(tmp_cal_ww[x]) if divmod(tmp_cal_ww[x], 10)[0] > 0 else str(0)+str(tmp_cal_ww[x]), range(0, len(tmp_cal_year))))\n",
    "    tmp_cal_date = list(map(lambda x : str(tmp_cal_year[x]) + tmp_cal_ww1[x], range(0, len(tmp_cal_year))))\n",
    "    return tmp_cal_date"
   ]
  },
  {
   "cell_type": "code",
   "execution_count": 4,
   "id": "a432a088",
   "metadata": {},
   "outputs": [],
   "source": [
    "#inven_file = []\n",
    "inven_folder_list = os.listdir('./data/inven_add')\n",
    "inven_folder_list.sort()\n",
    "inven_folder_list = ['./data/inven_add/'+i for i in inven_folder_list]\n",
    "inven_file = inven_folder_list\n",
    "#inven_old_list = ['./data/'+f_list[i] for i, v in enumerate(f_list) if 'INVENTORY' in v.split('_')]\n",
    "#inven_file.append(list(inven_old_list))\n",
    "#inven_file.append(inven_folder_list)\n"
   ]
  },
  {
   "cell_type": "markdown",
   "id": "5f04f3ea-a955-4379-a747-a5121249d323",
   "metadata": {},
   "source": [
    "## Invetory"
   ]
  },
  {
   "cell_type": "code",
   "execution_count": 39,
   "id": "42c7c567-141d-49f2-a1c3-b15597aa9aeb",
   "metadata": {
    "collapsed": true,
    "jupyter": {
     "outputs_hidden": true
    },
    "tags": []
   },
   "outputs": [
    {
     "name": "stderr",
     "output_type": "stream",
     "text": [
      "/opt/conda/lib/python3.9/site-packages/openpyxl/styles/stylesheet.py:221: UserWarning: Workbook contains no default style, apply openpyxl's default\n",
      "  warn(\"Workbook contains no default style, apply openpyxl's default\")\n",
      "/opt/conda/lib/python3.9/site-packages/openpyxl/styles/stylesheet.py:221: UserWarning: Workbook contains no default style, apply openpyxl's default\n",
      "  warn(\"Workbook contains no default style, apply openpyxl's default\")\n",
      "/opt/conda/lib/python3.9/site-packages/openpyxl/styles/stylesheet.py:221: UserWarning: Workbook contains no default style, apply openpyxl's default\n",
      "  warn(\"Workbook contains no default style, apply openpyxl's default\")\n",
      "/opt/conda/lib/python3.9/site-packages/openpyxl/styles/stylesheet.py:221: UserWarning: Workbook contains no default style, apply openpyxl's default\n",
      "  warn(\"Workbook contains no default style, apply openpyxl's default\")\n",
      "/opt/conda/lib/python3.9/site-packages/openpyxl/styles/stylesheet.py:221: UserWarning: Workbook contains no default style, apply openpyxl's default\n",
      "  warn(\"Workbook contains no default style, apply openpyxl's default\")\n",
      "/opt/conda/lib/python3.9/site-packages/openpyxl/styles/stylesheet.py:221: UserWarning: Workbook contains no default style, apply openpyxl's default\n",
      "  warn(\"Workbook contains no default style, apply openpyxl's default\")\n",
      "/opt/conda/lib/python3.9/site-packages/openpyxl/styles/stylesheet.py:221: UserWarning: Workbook contains no default style, apply openpyxl's default\n",
      "  warn(\"Workbook contains no default style, apply openpyxl's default\")\n",
      "/opt/conda/lib/python3.9/site-packages/openpyxl/styles/stylesheet.py:221: UserWarning: Workbook contains no default style, apply openpyxl's default\n",
      "  warn(\"Workbook contains no default style, apply openpyxl's default\")\n",
      "/opt/conda/lib/python3.9/site-packages/openpyxl/styles/stylesheet.py:221: UserWarning: Workbook contains no default style, apply openpyxl's default\n",
      "  warn(\"Workbook contains no default style, apply openpyxl's default\")\n",
      "/opt/conda/lib/python3.9/site-packages/openpyxl/styles/stylesheet.py:221: UserWarning: Workbook contains no default style, apply openpyxl's default\n",
      "  warn(\"Workbook contains no default style, apply openpyxl's default\")\n",
      "/opt/conda/lib/python3.9/site-packages/openpyxl/styles/stylesheet.py:221: UserWarning: Workbook contains no default style, apply openpyxl's default\n",
      "  warn(\"Workbook contains no default style, apply openpyxl's default\")\n",
      "/opt/conda/lib/python3.9/site-packages/openpyxl/styles/stylesheet.py:221: UserWarning: Workbook contains no default style, apply openpyxl's default\n",
      "  warn(\"Workbook contains no default style, apply openpyxl's default\")\n",
      "/opt/conda/lib/python3.9/site-packages/openpyxl/styles/stylesheet.py:221: UserWarning: Workbook contains no default style, apply openpyxl's default\n",
      "  warn(\"Workbook contains no default style, apply openpyxl's default\")\n",
      "/opt/conda/lib/python3.9/site-packages/openpyxl/styles/stylesheet.py:221: UserWarning: Workbook contains no default style, apply openpyxl's default\n",
      "  warn(\"Workbook contains no default style, apply openpyxl's default\")\n",
      "/opt/conda/lib/python3.9/site-packages/openpyxl/styles/stylesheet.py:221: UserWarning: Workbook contains no default style, apply openpyxl's default\n",
      "  warn(\"Workbook contains no default style, apply openpyxl's default\")\n",
      "/opt/conda/lib/python3.9/site-packages/openpyxl/styles/stylesheet.py:221: UserWarning: Workbook contains no default style, apply openpyxl's default\n",
      "  warn(\"Workbook contains no default style, apply openpyxl's default\")\n",
      "/opt/conda/lib/python3.9/site-packages/openpyxl/styles/stylesheet.py:221: UserWarning: Workbook contains no default style, apply openpyxl's default\n",
      "  warn(\"Workbook contains no default style, apply openpyxl's default\")\n",
      "/opt/conda/lib/python3.9/site-packages/openpyxl/styles/stylesheet.py:221: UserWarning: Workbook contains no default style, apply openpyxl's default\n",
      "  warn(\"Workbook contains no default style, apply openpyxl's default\")\n",
      "/opt/conda/lib/python3.9/site-packages/openpyxl/styles/stylesheet.py:221: UserWarning: Workbook contains no default style, apply openpyxl's default\n",
      "  warn(\"Workbook contains no default style, apply openpyxl's default\")\n",
      "/opt/conda/lib/python3.9/site-packages/openpyxl/styles/stylesheet.py:221: UserWarning: Workbook contains no default style, apply openpyxl's default\n",
      "  warn(\"Workbook contains no default style, apply openpyxl's default\")\n",
      "/opt/conda/lib/python3.9/site-packages/openpyxl/styles/stylesheet.py:221: UserWarning: Workbook contains no default style, apply openpyxl's default\n",
      "  warn(\"Workbook contains no default style, apply openpyxl's default\")\n",
      "/opt/conda/lib/python3.9/site-packages/openpyxl/styles/stylesheet.py:221: UserWarning: Workbook contains no default style, apply openpyxl's default\n",
      "  warn(\"Workbook contains no default style, apply openpyxl's default\")\n",
      "/opt/conda/lib/python3.9/site-packages/openpyxl/styles/stylesheet.py:221: UserWarning: Workbook contains no default style, apply openpyxl's default\n",
      "  warn(\"Workbook contains no default style, apply openpyxl's default\")\n",
      "/opt/conda/lib/python3.9/site-packages/openpyxl/styles/stylesheet.py:221: UserWarning: Workbook contains no default style, apply openpyxl's default\n",
      "  warn(\"Workbook contains no default style, apply openpyxl's default\")\n",
      "/opt/conda/lib/python3.9/site-packages/openpyxl/styles/stylesheet.py:221: UserWarning: Workbook contains no default style, apply openpyxl's default\n",
      "  warn(\"Workbook contains no default style, apply openpyxl's default\")\n"
     ]
    },
    {
     "name": "stdout",
     "output_type": "stream",
     "text": [
      "Save Complete : Inven_3xxC.csv\n",
      "Save Complete : Inven_3xxT.csv\n",
      "Save Complete : Inven_5xx0.csv\n"
     ]
    },
    {
     "ename": "IndexError",
     "evalue": "list index out of range",
     "output_type": "error",
     "traceback": [
      "\u001b[0;31m---------------------------------------------------------------------------\u001b[0m",
      "\u001b[0;31mIndexError\u001b[0m                                Traceback (most recent call last)",
      "\u001b[0;32m/tmp/ipykernel_533/1081647344.py\u001b[0m in \u001b[0;36m<module>\u001b[0;34m\u001b[0m\n\u001b[1;32m     15\u001b[0m \u001b[0minven_filter_\u001b[0m \u001b[0;34m=\u001b[0m \u001b[0;34m[\u001b[0m\u001b[0;34m[\u001b[0m\u001b[0;34m'3'\u001b[0m\u001b[0;34m,\u001b[0m \u001b[0;34m'C'\u001b[0m\u001b[0;34m]\u001b[0m\u001b[0;34m,\u001b[0m \u001b[0;34m[\u001b[0m\u001b[0;34m'3'\u001b[0m\u001b[0;34m,\u001b[0m\u001b[0;34m'T'\u001b[0m\u001b[0;34m]\u001b[0m\u001b[0;34m,\u001b[0m\u001b[0;34m[\u001b[0m\u001b[0;34m'5'\u001b[0m\u001b[0;34m,\u001b[0m\u001b[0;34m'0'\u001b[0m\u001b[0;34m]\u001b[0m\u001b[0;34m]\u001b[0m\u001b[0;34m\u001b[0m\u001b[0;34m\u001b[0m\u001b[0m\n\u001b[1;32m     16\u001b[0m \u001b[0;32mfor\u001b[0m \u001b[0mk\u001b[0m \u001b[0;32min\u001b[0m \u001b[0mrange\u001b[0m\u001b[0;34m(\u001b[0m\u001b[0;36m0\u001b[0m\u001b[0;34m,\u001b[0m \u001b[0mlen\u001b[0m\u001b[0;34m(\u001b[0m\u001b[0minven_filter_\u001b[0m\u001b[0;34m)\u001b[0m\u001b[0;34m+\u001b[0m\u001b[0;36m1\u001b[0m\u001b[0;34m)\u001b[0m\u001b[0;34m:\u001b[0m\u001b[0;34m\u001b[0m\u001b[0;34m\u001b[0m\u001b[0m\n\u001b[0;32m---> 17\u001b[0;31m     \u001b[0mtmp_store1\u001b[0m\u001b[0;34m,\u001b[0m \u001b[0mtmp_store2\u001b[0m \u001b[0;34m=\u001b[0m \u001b[0minven_filter_\u001b[0m\u001b[0;34m[\u001b[0m\u001b[0mk\u001b[0m\u001b[0;34m]\u001b[0m\u001b[0;34m[\u001b[0m\u001b[0;36m0\u001b[0m\u001b[0;34m]\u001b[0m\u001b[0;34m,\u001b[0m \u001b[0minven_filter_\u001b[0m\u001b[0;34m[\u001b[0m\u001b[0mk\u001b[0m\u001b[0;34m]\u001b[0m\u001b[0;34m[\u001b[0m\u001b[0;36m1\u001b[0m\u001b[0;34m]\u001b[0m\u001b[0;34m\u001b[0m\u001b[0;34m\u001b[0m\u001b[0m\n\u001b[0m\u001b[1;32m     18\u001b[0m     \u001b[0mtmp_file1_sub1\u001b[0m \u001b[0;34m=\u001b[0m \u001b[0mtmp_file_cum\u001b[0m\u001b[0;34m[\u001b[0m\u001b[0;34m(\u001b[0m\u001b[0mtmp_file_cum\u001b[0m\u001b[0;34m[\u001b[0m\u001b[0;34m'저장위치'\u001b[0m\u001b[0;34m]\u001b[0m\u001b[0;34m.\u001b[0m\u001b[0mstr\u001b[0m\u001b[0;34m.\u001b[0m\u001b[0mslice\u001b[0m\u001b[0;34m(\u001b[0m\u001b[0;36m0\u001b[0m\u001b[0;34m,\u001b[0m\u001b[0;36m1\u001b[0m\u001b[0;34m)\u001b[0m \u001b[0;34m==\u001b[0m \u001b[0mtmp_store1\u001b[0m\u001b[0;34m)\u001b[0m\u001b[0;34m&\u001b[0m\u001b[0;34m(\u001b[0m\u001b[0mtmp_file_cum\u001b[0m\u001b[0;34m[\u001b[0m\u001b[0;34m'저장위치'\u001b[0m\u001b[0;34m]\u001b[0m\u001b[0;34m.\u001b[0m\u001b[0mstr\u001b[0m\u001b[0;34m.\u001b[0m\u001b[0mslice\u001b[0m\u001b[0;34m(\u001b[0m\u001b[0;36m3\u001b[0m\u001b[0;34m,\u001b[0m\u001b[0;36m4\u001b[0m\u001b[0;34m)\u001b[0m \u001b[0;34m==\u001b[0m \u001b[0mtmp_store2\u001b[0m\u001b[0;34m)\u001b[0m\u001b[0;34m]\u001b[0m\u001b[0;34m.\u001b[0m\u001b[0mcopy\u001b[0m\u001b[0;34m(\u001b[0m\u001b[0;34m)\u001b[0m\u001b[0;34m\u001b[0m\u001b[0;34m\u001b[0m\u001b[0m\n\u001b[1;32m     19\u001b[0m     \u001b[0mtmp_week_\u001b[0m \u001b[0;34m=\u001b[0m \u001b[0myear_week_cal\u001b[0m\u001b[0;34m(\u001b[0m\u001b[0mtmp_file1_sub1\u001b[0m\u001b[0;34m,\u001b[0m \u001b[0;34m'연월일'\u001b[0m\u001b[0;34m,\u001b[0m \u001b[0;34m'%Y년%m월%d일'\u001b[0m\u001b[0;34m)\u001b[0m\u001b[0;34m\u001b[0m\u001b[0;34m\u001b[0m\u001b[0m\n",
      "\u001b[0;31mIndexError\u001b[0m: list index out of range"
     ]
    }
   ],
   "source": [
    "for i in range(0, len(inven_file)):\n",
    "    tmp_file_raw = openpyxl.load_workbook(inven_file[i])\n",
    "    sheet_name = '02. 일별 PSI 트렌드' #tmp_file_raw.sheetnames\n",
    "    tmp_file_pd = pd.DataFrame(tmp_file_raw[sheet_name].values).copy()\n",
    "    tmp_col_name1 = list(tmp_file_pd.iloc[16,0:])\n",
    "    tmp_file = tmp_file_pd.iloc[17:,:].copy().reset_index(drop=True)\n",
    "    tmp_file.columns = tmp_col_name1\n",
    "    tmp_day = pd.to_datetime(tmp_file['연월일'], format='%Y년%m월%d일').dt.isocalendar().day\n",
    "    tmp_file1 = tmp_file[(tmp_file['자재'].str.slice(0,9) == 'ACEN1060I') & (tmp_day == 7)].copy()\n",
    "    if i == 0:\n",
    "        tmp_file_cum = tmp_file1\n",
    "    else:\n",
    "        tmp_file_cum = pd.concat([tmp_file_cum, tmp_file1])\n",
    "\n",
    "inven_filter_ = [['3', 'C'], ['3','T'],['5','0']]\n",
    "for k in range(0, len(inven_filter_)+1):\n",
    "    tmp_store1, tmp_store2 = inven_filter_[k][0], inven_filter_[k][1]\n",
    "    tmp_file1_sub1 = tmp_file_cum[(tmp_file_cum['저장위치'].str.slice(0,1) == tmp_store1)&(tmp_file_cum['저장위치'].str.slice(3,4) == tmp_store2)].copy()\n",
    "    tmp_week_ = year_week_cal(tmp_file1_sub1, '연월일', '%Y년%m월%d일')\n",
    "    tmp_file1_sub1['Inven Week'] = tmp_week_\n",
    "    tmp_file1_sub1['Date'] = np.datetime_as_string(pd.to_datetime(tmp_file1_sub1['연월일'], format='%Y년%m월%d일'), unit='D')\n",
    "    tmp_file1_sub1 = tmp_file1_sub1[['Inven Week','Date','재고수량']]\n",
    "    tmp_file1_sub1 = tmp_file1_sub1.astype({'재고수량' : 'int'})\n",
    "    tmp_group = tmp_file1_sub1.groupby(['Inven Week','Date'])\n",
    "    tmp_sum = pd.DataFrame(tmp_group.sum())\n",
    "    tmp_sum.reset_index(inplace=True)    \n",
    "    tmp_sum.to_csv('./data1/Inven_%sxx%s.csv'%(tmp_store1, tmp_store2), index=False)\n",
    "    print('Save Complete : Inven_%sxx%s.csv'%(tmp_store1, tmp_store2))     "
   ]
  },
  {
   "cell_type": "markdown",
   "id": "634a21e8-89a5-4e1f-a606-09253e983774",
   "metadata": {},
   "source": [
    "## Product"
   ]
  },
  {
   "cell_type": "code",
   "execution_count": 60,
   "id": "200ab5ad-8700-4cd9-8b3c-9719c263ef6d",
   "metadata": {},
   "outputs": [
    {
     "name": "stdout",
     "output_type": "stream",
     "text": [
      "['./data/prod_add/다임러_생산실적_0802.xlsx', './data/prod_add/생산계획_History_다임러_E61D_0802.xlsx'] ['./data/3_DAIMLER_E61D_SCP_PRODUCTION_PLANNING_v0512.xlsx', './data/4_DAIMLER_E61D_SCP_PRODUCTION_RESULT_2018_10_2021_03_v2.xlsx']\n",
      "[['./data/4_DAIMLER_E61D_SCP_PRODUCTION_RESULT_2018_10_2021_03_v2.xlsx', './data/prod_add/다임러_생산실적_0802.xlsx'], ['./data/3_DAIMLER_E61D_SCP_PRODUCTION_PLANNING_v0512.xlsx', './data/prod_add/생산계획_History_다임러_E61D_0802.xlsx']]\n"
     ]
    }
   ],
   "source": [
    "prd_folder_list = os.listdir('./data/prod_add/')\n",
    "prd_folder_list = ['./data/prod_add/'+i for i in prd_folder_list]\n",
    "prd_old_file = ['./data/'+f_list[i] for i, v in enumerate(f_list) if 'PRODUCTION' in v.split('_')]\n",
    "print(prd_folder_list, prd_old_file)\n",
    "prd_file= [[prd_old_file[1], prd_folder_list[0]], [prd_old_file[0], prd_folder_list[1]]]\n",
    "print(prd_file)"
   ]
  },
  {
   "cell_type": "code",
   "execution_count": 98,
   "id": "fc0f9e0e",
   "metadata": {},
   "outputs": [
    {
     "name": "stdout",
     "output_type": "stream",
     "text": [
      "WW      object\n",
      "Date    object\n",
      "tWW     object\n",
      "QTY      int64\n",
      "dtype: object\n",
      "WW      object\n",
      "Date    object\n",
      "tWW     object\n",
      "QTY      int64\n",
      "dtype: object\n"
     ]
    }
   ],
   "source": [
    "for i in range(1, len(prd_file)): #1):#    \n",
    "    if i == 0:   \n",
    "        for j in range(0, len(prd_file[i])):\n",
    "            tmp_file_raw = openpyxl.load_workbook(prd_file[i][j])            \n",
    "            tmp_file_pd = pd.DataFrame(tmp_file_raw[tmp_file_raw.sheetnames[0]].values).copy()\n",
    "            tmp_col_name1 = list(tmp_file_pd.iloc[5,0:])\n",
    "            tmp_file = tmp_file_pd.iloc[6:, :].copy().reset_index(drop=True)\n",
    "            tmp_file.columns = tmp_col_name1\n",
    "            tmp_file1 = tmp_file[(tmp_file['Material'].str.slice(0,9)=='ACEN1060I') & (tmp_file['Nick Name'].str.slice(0,4)=='E61D')].copy().reset_index(drop=True)\n",
    "            tmp_file1 = tmp_file1[['Plan Date', 'Plan Week', 'Basic Date', 'Result Qty']] #'Plan Date', \n",
    "            tmp_file1 = tmp_file1[['Plan Week', 'Basic Date', 'Result Qty']] #'Plan Date', \n",
    "            tmp_file1 = tmp_file1.astype({'Result Qty' : 'int'})\n",
    "            tmp_group = tmp_file1.groupby(['Plan Week', 'Basic Date'])\n",
    "            tmp_g_sum = pd.DataFrame(tmp_group.sum())\n",
    "            tmp_g_sum.reset_index(inplace=True)\n",
    "            if j == 0 :\n",
    "                tmp_prd_rslt = tmp_g_sum\n",
    "            else:\n",
    "                tmp_prd_rslt = pd.concat([tmp_prd_rslt, tmp_g_sum])\n",
    "        tmp_prd_rslt.to_csv('./data1/DynamicResult.csv', index=False)\n",
    "    else:   \n",
    "        for j in range(0, len(prd_file[i])):\n",
    "            tmp_file_raw = openpyxl.load_workbook(prd_file[i][j])   \n",
    "            tmp_file_pd = pd.DataFrame(tmp_file_raw[tmp_file_raw.sheetnames[0]].values).copy()\n",
    "            tmp_col_name1 = list(tmp_file_pd.iloc[0,0:])\n",
    "            tmp_file = tmp_file_pd.iloc[1:, :].copy().reset_index(drop=True)\n",
    "            tmp_file.columns = tmp_col_name1\n",
    "            tmp_file1 = tmp_file[['PLAN_START_YYYYMMDD', 'YYYYMMDD', 'QTY']].copy() #'Plan Date', \n",
    "            tmp_plan_date_= year_week_cal(tmp_file1, 'PLAN_START_YYYYMMDD', '%Y%m%d')\n",
    "            tmp_date_= year_week_cal(tmp_file1, 'YYYYMMDD', '%Y%m%d')\n",
    "            tmp_file1['WW'] = tmp_plan_date_\n",
    "            tmp_file1['tWW']=tmp_date_\n",
    "            tmp_file1['Date'] = np.datetime_as_string(pd.to_datetime(tmp_file['PLAN_START_YYYYMMDD'], format='%Y%m%d'), unit='D')\n",
    "            tmp_file1 = tmp_file1[['WW', 'Date', 'tWW', 'QTY']] #'PLAN_START_YYYYMMDD', 'YYYYMMDD', \n",
    "            tmp_file1 = tmp_file1.astype({'QTY' : 'int'})\n",
    "            print(tmp_file1.dtypes)\n",
    "            tmp_group = tmp_file1.groupby(['WW', 'Date', 'tWW'])\n",
    "            tmp_g_sum = pd.DataFrame(tmp_group.sum())\n",
    "            tmp_g_sum.reset_index(inplace=True)\n",
    "            if j == 0 :\n",
    "                tmp_prd_plan = tmp_g_sum\n",
    "            else:\n",
    "                tmp_prd_plan = pd.concat([tmp_prd_plan, tmp_g_sum])\n",
    "        tmp_prd_plan.to_csv('./data1/02.Detail_생산계획 준수율.csv', index=False)"
   ]
  },
  {
   "cell_type": "markdown",
   "id": "5d2edf89-6098-441e-9e17-860c83db863a",
   "metadata": {
    "tags": []
   },
   "source": [
    "## Sale"
   ]
  },
  {
   "cell_type": "code",
   "execution_count": 93,
   "id": "84abeb06-6d2e-4151-aeff-7ce664287f7f",
   "metadata": {},
   "outputs": [
    {
     "name": "stdout",
     "output_type": "stream",
     "text": [
      "['./data/Daimler_MktFcstWaterfall(Mkt Fcst Waterfall)_201901_202003.xlsx', './data/Daimler_MktFcstWaterfall(Mkt Fcst Waterfall)_201909_202112.xlsx', './data/Daimler_MktFcstWaterfall(Mkt Fcst Waterfall)_202004_202103.xlsx']\n",
      "['./data/sale_add/Damiler_MktFcstWaterfall(Mkt Fcst Waterfall)_202009-202107.xlsx', './data/sale_add/Damiler_MktFcstWaterfall(Mkt Fcst Waterfall)_202103-202203.xlsx', './data/sale_add/Damiler_MktFcstWaterfall(Mkt Fcst Waterfall)_202103-202111.xlsx', './data/sale_add/Damiler_MktFcstWaterfall(Mkt Fcst Waterfall)_202107-202207.xlsx']\n",
      "['./data/Daimler_MktFcstWaterfall(Mkt Fcst Waterfall)_201901_202003.xlsx', './data/Daimler_MktFcstWaterfall(Mkt Fcst Waterfall)_201909_202112.xlsx', './data/Daimler_MktFcstWaterfall(Mkt Fcst Waterfall)_202004_202103.xlsx', './data/sale_add/Damiler_MktFcstWaterfall(Mkt Fcst Waterfall)_202009-202107.xlsx', './data/sale_add/Damiler_MktFcstWaterfall(Mkt Fcst Waterfall)_202103-202203.xlsx', './data/sale_add/Damiler_MktFcstWaterfall(Mkt Fcst Waterfall)_202103-202111.xlsx', './data/sale_add/Damiler_MktFcstWaterfall(Mkt Fcst Waterfall)_202107-202207.xlsx']\n"
     ]
    }
   ],
   "source": [
    "sale_folder_list = os.listdir('./data/sale_add/')\n",
    "sale_folder_list = ['./data/sale_add/'+i for i in sale_folder_list]\n",
    "sale_old_list = ['./data/'+f_list[i] for i, v in enumerate(f_list) if 'Fcst' in v.split(' ')]\n",
    "\n",
    "print(sale_old_list)\n",
    "print(sale_folder_list)\n",
    "\n",
    "sale_file = sale_old_list + sale_folder_list\n",
    "print(sale_file)"
   ]
  },
  {
   "cell_type": "code",
   "execution_count": 95,
   "id": "e203d991",
   "metadata": {},
   "outputs": [
    {
     "name": "stdout",
     "output_type": "stream",
     "text": [
      "./data/Daimler_MktFcstWaterfall(Mkt Fcst Waterfall)_201901_202003.xlsx\n",
      "./data/Daimler_MktFcstWaterfall(Mkt Fcst Waterfall)_201909_202112.xlsx\n",
      "./data/Daimler_MktFcstWaterfall(Mkt Fcst Waterfall)_202004_202103.xlsx\n",
      "./data/sale_add/Damiler_MktFcstWaterfall(Mkt Fcst Waterfall)_202009-202107.xlsx\n",
      "./data/sale_add/Damiler_MktFcstWaterfall(Mkt Fcst Waterfall)_202103-202203.xlsx\n",
      "./data/sale_add/Damiler_MktFcstWaterfall(Mkt Fcst Waterfall)_202103-202111.xlsx\n",
      "./data/sale_add/Damiler_MktFcstWaterfall(Mkt Fcst Waterfall)_202107-202207.xlsx\n"
     ]
    }
   ],
   "source": [
    "for f in range(0, len(sale_file)):    \n",
    "    tmp_file_raw = openpyxl.load_workbook(sale_file[f])#'./data/'+f_list[sale_file[f]])\n",
    "    sheet_name = 'Mkt Fcst Waterfall'\n",
    "    tmp_file = pd.DataFrame(tmp_file_raw[sheet_name].values)\n",
    "    ind_col = np.where(tmp_file.iloc[0, :] == 'Measure')[0][0]\n",
    "    col_name1 = list(tmp_file.iloc[0,:(ind_col+1)])\n",
    "    tmp_col_name2 = list(tmp_file.iloc[0,(ind_col+1):])\n",
    "    tmp_col_name2_ = []\n",
    "    if None in tmp_col_name2:\n",
    "        for i in range(0, len(tmp_col_name2)):    \n",
    "            if tmp_col_name2[i] is not None:\n",
    "                tmp_base = tmp_col_name2[i]\n",
    "            tmp_col_name2_.append(tmp_base)\n",
    "    else:\n",
    "        tmp_col_name2_ = tmp_col_name2\n",
    "\n",
    "    tmp_col_name3 = list(tmp_file.iloc[1,(ind_col+1):])\n",
    "    col_name2 = []\n",
    "    for i in range(0, len(tmp_col_name3)):\n",
    "        if tmp_col_name3[i] == \"SUM\":\n",
    "            col_name2.append(tmp_col_name3[i])\n",
    "        else:\n",
    "            if tmp_col_name2_[i][5:] == '12' and tmp_col_name3[i][1:] == '01':\n",
    "                col_name2.append(str(int(tmp_col_name2_[i][:4])+1)+tmp_col_name3[i][1:])\n",
    "            elif tmp_col_name2_[i][5:] == '01' and tmp_col_name3[i][1:] == '53':\n",
    "                col_name2.append(str(int(tmp_col_name2_[i][:4])-1)+tmp_col_name3[i][1:])                \n",
    "            else:\n",
    "                col_name2.append(tmp_col_name2_[i][:4]+tmp_col_name3[i][1:])\n",
    "    col_name = col_name1 + col_name2\n",
    "    tmp_file1 = tmp_file.iloc[3:,:].reset_index(drop=True).copy()\n",
    "    tmp_file1.columns = col_name\n",
    "    if 'SUM' in col_name:\n",
    "        rm_col1 = np.array([i for i, val in enumerate(col_name) if val == 'SUM'])\n",
    "        tmp_file1.drop(tmp_file1.iloc[:, rm_col1], axis=1, inplace=True)\n",
    "    keep_col_name = list(['Version']) + sorted(list(set(tmp_file1.columns[(ind_col+1):])))\n",
    "    tmp_file1 = tmp_file1[keep_col_name].copy()\n",
    "    tmp_file1_title = tmp_file1.columns.unique()\n",
    "    tmp_file2_val = tmp_file1['Version'].copy()\n",
    "    for k in range(1, len(tmp_file1_title)):\n",
    "        tmp_i = [i for i, val in enumerate(tmp_file1.columns) if val == tmp_file1_title[k] ]\n",
    "        #print(k, tmp_i, tmp_file1_title[k])\n",
    "        if len(tmp_i) > 1:\n",
    "            #tmp_file2.append(list(())\n",
    "            tmp_file2_val = pd.concat([tmp_file2_val, tmp_file1.iloc[:,tmp_i].fillna(0).sum(axis=1)], axis=1)\n",
    "        else :\n",
    "            tmp_file2_val = pd.concat([tmp_file2_val, tmp_file1.iloc[:,tmp_i].fillna(0)], axis=1)\n",
    "    tmp_file2_val.columns = tmp_file1_title\n",
    "    if any(tmp_file2_val['Version'] == 'CURRENT'):\n",
    "        tmp_file2_val = tmp_file2_val[tmp_file2_val['Version'] != 'CURRENT']    \n",
    "    tmp_file2_val = tmp_file2_val.reset_index(drop=True)\n",
    "    \n",
    "    tmp_file2 = pd.DataFrame({'WW' : year_week_cal(tmp_file2_val, 'Version', 'MF_W_%Y%m%d_V001')})\n",
    "    tmp_file2['Date'] = np.datetime_as_string(pd.to_datetime(tmp_file2_val['Version'], format='MF_W_%Y%m%d_V001'), unit='D')\n",
    "    #list(map(lambda x: pd.to_datetime(tmp_file2_val['Version'], format='MF_W_%Y%m%d_V001').loc[x].strftime('%Y%m%d'), range(0, tmp_file2.shape[0])))\n",
    "    tmp_file2 = pd.concat([tmp_file2, tmp_file2_val.drop(['Version'], axis=1)], axis=1)\n",
    "    tmp_file2 = tmp_file2.sort_values(by=['Date'], axis=0)\n",
    "    tmp_group = tmp_file2.groupby(['WW', 'Date'])\n",
    "    tmp_g_sum = pd.DataFrame(tmp_group.sum())\n",
    "    tmp_g_sum = tmp_g_sum.sort_index(axis=1)\n",
    "    tmp_g_sum.reset_index(inplace=True)\n",
    "    if f < 3:\n",
    "        tmp_g_sum.to_csv('./data1/'+sale_file[f].split('/')[2].split('.')[0]+'.csv', index=False)\n",
    "    else:\n",
    "        tmp_g_sum.to_csv('./data1/'+sale_file[f].split('/')[3].split('.')[0]+'.csv', index=False)\n",
    "    print(sale_file[f])"
   ]
  },
  {
   "cell_type": "code",
   "execution_count": null,
   "id": "08c67051-8efb-4b4e-bdef-0732c030b5c1",
   "metadata": {},
   "outputs": [],
   "source": []
  }
 ],
 "metadata": {
  "kernelspec": {
   "display_name": "Python 3 (ipykernel)",
   "language": "python",
   "name": "python3"
  },
  "language_info": {
   "codemirror_mode": {
    "name": "ipython",
    "version": 3
   },
   "file_extension": ".py",
   "mimetype": "text/x-python",
   "name": "python",
   "nbconvert_exporter": "python",
   "pygments_lexer": "ipython3",
   "version": "3.9.5"
  }
 },
 "nbformat": 4,
 "nbformat_minor": 5
}
