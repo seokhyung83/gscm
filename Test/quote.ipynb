{
 "cells": [
  {
   "cell_type": "code",
   "execution_count": 4,
   "metadata": {},
   "outputs": [],
   "source": [
    "import re \n",
    "def extract_parenthese(str):\n",
    "    items_lst = re.findall('\\(([^)]+)', str) #extracts string in () \n",
    "    newList = [x for x in items_lst if len(x)>=2] # more than 2\n",
    "    return newList\n"
   ]
  },
  {
   "cell_type": "code",
   "execution_count": 39,
   "metadata": {},
   "outputs": [],
   "source": [
    "str_1 =\"리튬이온 배터리 이후 등장할 차세대 배터리들은 모두 화재가 발생할 수 있는 가능성을 최소화하거나 최대한 무게를 줄여 가볍게 만드는 방식으로 개발되고 있는데, 대표적으로는 레독스플로우(redox flow) 배터리와 리튬에어(lithium air) 배터리를 꼽을 수 있다.\" "
   ]
  },
  {
   "cell_type": "code",
   "execution_count": 40,
   "metadata": {},
   "outputs": [
    {
     "data": {
      "text/plain": [
       "['lithium air']"
      ]
     },
     "execution_count": 40,
     "metadata": {},
     "output_type": "execute_result"
    }
   ],
   "source": [
    "p_lst = extract_parenthese(str_1)\n",
    "p_lst"
   ]
  },
  {
   "cell_type": "code",
   "execution_count": 5,
   "metadata": {},
   "outputs": [],
   "source": [
    "def extract_quotes(str):\n",
    "    items_lst = re.findall('\"([^\"]*)\"', str)\n",
    "    return items_lst"
   ]
  },
  {
   "cell_type": "code",
   "execution_count": 8,
   "metadata": {},
   "outputs": [],
   "source": [
    "str_2 = '[M 오토데일리 이상원기자] 올 연말 시판 예정인 \"2022 BMW iX\" 전기 크로스오버가 독일 뮌헨에 있는 BMW 박물관인 \"BMW 벨트(BMW Welt)\"에 등장했다..BMW의 신형 iX 전기 SUV는 올해 말부터 유럽에서 판매가 시작될 예정이며, 미국 등 다른 시장에서는 2022년 초부터 판매가 예정돼 있다..BMW는 현재 상위 모델만 발표했지만 두 가지의 iX 모델이 추가될 예정이다. iX 기본 가격은 보급형 모델의 경우, 7만 달러(7,600만 원), 최상위 버전은 10만달러(1억880만 원)를 웃돌 것으로 예상된다..전시된 차량은 어벤추린 레드(Aventurine Red) II 색상의 스포츠 패키지 모델로 표준 제품과 비교, 에어커튼을 위한 특수 삼각형 방패와 차체 하단 가장자리의 경계를 위한 고광택 검은색 코팅, 도어 손잡이 및 사이드 스커트가 적용됐다..패키지에는 또 스모크 글라스 테일라이트, 미드나잇 그레이 마감의 21인치 에어로 다이나믹 휠 및 파란색 도색 브레이크 캘리퍼가 장착됐다..또, iX는 스포츠 패키지와 함께 BMW 인디비주얼 익스테리어 라인 티타늄 브론즈 적용으로 화려하고 현대적인 세련미를 더했다..티타늄 브론즈 액센트는 키드니 그릴, 도어 핸들, 사이드 윈도우 하단 가장자리 및 리어 에이프런 3D 구조로 장식돼 있다..iX 외부 디자인에서 가장 두드러지는 특징은 큰 키드니 그릴이다. 분리된 새로운 그릴에는 운전보조 및 자율주행 기술에 필요한 모든 센서, 레이더 및 카메라가 장착돼 있다..이 키드니 그릴은 독일 란츠후트(Landshut)에 있는 BMW그룹의 LuTZ 연구 및 기술 센터에서 특별 개발됐다..BMW i 서브브랜드의 새로운 플래그십은 완전히 새로운 홀 마크 디자인 언어의 출현을 예고하고 있다..iX의 차체크기는 X5와 비슷하지만 전고는 X6 수준으로 쿠페형에 가깝다. 또, 대구경 공기역학 휠은 럭셔리 대형 SAV X7을 연상시킨다..BMW iX는 최신 5세대 BMW eDrive 플랫폼이 적용됐다. 이 플랫폼 은 새로운 iX3와 곧 출시될 i4에도 적용된다. 아키텍처는 두 개의 전기모터와 전력전자장치, 충전 기술 및 고전압 배터리로 구성된다..BMW iX는 최대 출력 370kW/500PS(490마력)를 넘어서며 0-100km/h까지의 가속시간은 5.0초 이내로 가능하다..BMW의 예비측정에 따르면 100kWh급 고전압배터리의 WLTP 기준 주행거리가 600km 이상을 보장하며 EPA FTP-75 기준으로는 300마일(482km) 이상을 기록했다..BMW iX에는 최대 200kW급 출력의 고속충전을 가능케 하는 새로운 충전기술이 적용돼 40분 이내에 10%에서 80%까지 충전이 가능하다..또, 10분 안에 120km(75 마일)까지 충전이 가능하며, 표준 11kW급 BMW i 월박스(Wallbox)를 사용해 가정에서 충전하면 11시간 내에 완충할 수가 있다.'\n"
   ]
  },
  {
   "cell_type": "code",
   "execution_count": 9,
   "metadata": {},
   "outputs": [
    {
     "data": {
      "text/plain": [
       "['2022 BMW iX', 'BMW 벨트(BMW Welt)']"
      ]
     },
     "execution_count": 9,
     "metadata": {},
     "output_type": "execute_result"
    }
   ],
   "source": [
    "q_lst = extract_quotes(str_2)\n",
    "q_lst"
   ]
  },
  {
   "cell_type": "code",
   "execution_count": null,
   "metadata": {},
   "outputs": [],
   "source": []
  }
 ],
 "metadata": {
  "interpreter": {
   "hash": "7044b324f88c4208d441c8fce3c8f6c454026eeaf7e810a2852062e3590255dc"
  },
  "kernelspec": {
   "display_name": "Python 3",
   "language": "python",
   "name": "python3"
  },
  "language_info": {
   "codemirror_mode": {
    "name": "ipython",
    "version": 3
   },
   "file_extension": ".py",
   "mimetype": "text/x-python",
   "name": "python",
   "nbconvert_exporter": "python",
   "pygments_lexer": "ipython3",
   "version": "3.7.10"
  }
 },
 "nbformat": 4,
 "nbformat_minor": 4
}
