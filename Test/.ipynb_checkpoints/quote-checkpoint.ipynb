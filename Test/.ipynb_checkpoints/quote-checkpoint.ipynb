{
 "metadata": {
  "language_info": {
   "codemirror_mode": {
    "name": "ipython",
    "version": 3
   },
   "file_extension": ".py",
   "mimetype": "text/x-python",
   "name": "python",
   "nbconvert_exporter": "python",
   "pygments_lexer": "ipython3",
   "version": "3.7.9"
  },
  "orig_nbformat": 4,
  "kernelspec": {
   "name": "python3",
   "display_name": "Python 3.7.9 64-bit ('tf': conda)"
  },
  "interpreter": {
   "hash": "7044b324f88c4208d441c8fce3c8f6c454026eeaf7e810a2852062e3590255dc"
  }
 },
 "nbformat": 4,
 "nbformat_minor": 2,
 "cells": [
  {
   "cell_type": "code",
   "execution_count": 38,
   "metadata": {},
   "outputs": [],
   "source": [
    "import re \n",
    "def extract_parenthese(str):\n",
    "    items_lst = re.findall('\\(([^)]+)', str) #extracts string in () \n",
    "    newList = [x for x in items_lst if len(x)>=2] # more than 2\n",
    "    return newList\n"
   ]
  },
  {
   "cell_type": "code",
   "execution_count": 39,
   "metadata": {},
   "outputs": [],
   "source": [
    "str_1 =\"리튬이온 배터리 이후 등장할 차세대 배터리들은 모두 화재가 발생할 수 있는 가능성을 최소화하거나 최대한 무게를 줄여 가볍게 만드는 방식으로 개발되고 있는데, 대표적으로는 레독스플로우(redox flow) 배터리와 리튬에어(lithium air) 배터리를 꼽을 수 있다.\" "
   ]
  },
  {
   "cell_type": "code",
   "execution_count": 40,
   "metadata": {},
   "outputs": [
    {
     "output_type": "execute_result",
     "data": {
      "text/plain": [
       "['lithium air']"
      ]
     },
     "metadata": {},
     "execution_count": 40
    }
   ],
   "source": [
    "p_lst = extract_parenthese(str_1)\n",
    "p_lst"
   ]
  },
  {
   "cell_type": "code",
   "execution_count": 16,
   "metadata": {},
   "outputs": [],
   "source": [
    "def extract_quotes(str):\n",
    "    items_lst = re.findall('\"([^\"]*)\"', str)\n",
    "    return items_lst"
   ]
  },
  {
   "cell_type": "code",
   "execution_count": 20,
   "metadata": {},
   "outputs": [],
   "source": [
    "str_2 = '''그러나 삼성전자 종합기술원이 올해 초 발표한 전고체 배터리 차량 실험 결과에선 1회 충전으로 800㎞ 주행이 가능했다. 충전 시간도 현재 리튬이온 전지보다 짧다고 알려졌다. 전고체 전지가 상용화되면 자율주행차에도 호재다. 데이터 사용량이 많은 자율주행차량은 고용량 배터리가 필수다. 도요타 발표에 대해 국내 업계에선 신규 플랫폼 양산은 2030년께 가능할 거라는 분석이 대세다. 정경운 한국과학기술연구원(KIST) 에너지저장연구단장은 \"리튬 이차전지가 1991년에 나온 후 자동차에 적용되기까지 20~30년 걸렸다\"며 \"전고체 전지 시제품이 나왔어도 자동차 탑재엔 시간이 더 걸릴 것\"이라고 말했다.'''\n"
   ]
  },
  {
   "cell_type": "code",
   "execution_count": 22,
   "metadata": {},
   "outputs": [
    {
     "output_type": "execute_result",
     "data": {
      "text/plain": [
       "['리튬 이차전지가 1991년에 나온 후 자동차에 적용되기까지 20~30년 걸렸다',\n",
       " '전고체 전지 시제품이 나왔어도 자동차 탑재엔 시간이 더 걸릴 것']"
      ]
     },
     "metadata": {},
     "execution_count": 22
    }
   ],
   "source": [
    "q_lst = extract_quotes(str_2)\n",
    "q_lst"
   ]
  }
 ]
}