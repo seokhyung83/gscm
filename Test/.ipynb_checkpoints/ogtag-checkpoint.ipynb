{
 "metadata": {
  "language_info": {
   "codemirror_mode": {
    "name": "ipython",
    "version": 3
   },
   "file_extension": ".py",
   "mimetype": "text/x-python",
   "name": "python",
   "nbconvert_exporter": "python",
   "pygments_lexer": "ipython3",
   "version": "3.8.5"
  },
  "orig_nbformat": 2,
  "kernelspec": {
   "name": "python385jvsc74a57bd0b3ba2566441a7c06988d0923437866b63cedc61552a5af99d1f4fb67d367b25f",
   "display_name": "Python 3.8.5 64-bit ('base': conda)"
  }
 },
 "nbformat": 4,
 "nbformat_minor": 2,
 "cells": [
  {
   "cell_type": "code",
   "execution_count": 1,
   "metadata": {},
   "outputs": [],
   "source": [
    "import requests\n",
    "from bs4 import BeautifulSoup\n"
   ]
  },
  {
   "cell_type": "code",
   "execution_count": 2,
   "metadata": {},
   "outputs": [],
   "source": [
    "url = \"https://www.itworld.co.kr/insight/185273\"\n"
   ]
  },
  {
   "cell_type": "code",
   "execution_count": 3,
   "metadata": {
    "tags": []
   },
   "outputs": [],
   "source": [
    "def make_og_data(link):\n",
    "        \n",
    "    USER_AGENT = \"Mozilla/5.0 (Windows NT 10.0; Win64; x64) AppleWebKit/537.36 (KHTML, like Gecko) \\\n",
    "            Chrome/88.0.4324.104 Safari/537.36\"\n",
    "    html = requests.get(url, headers={\"User-Agent\":USER_AGENT})\n",
    "    bs = BeautifulSoup(html.text, 'html.parser')\n",
    "    #print(bs.find('head'))\n",
    "    og_title = bs.find('meta', property='og:title')\n",
    "    #print(og_title)\n",
    "    og_image = bs.find('meta', property='og:image')\n",
    "    #print(og_image)\n",
    "    og_description = bs.find('meta', property='og:description')\n",
    "    #print(og_description)\n",
    "    #og_source = bs.find('meta', property=\"og:article:author\")\n",
    "    og_source = bs.find('meta', property=\"og:site_name\")\n",
    "    #print(og_source)\n",
    "    return [og_title['content'], og_source['content'].split('|')[0].rstrip(), og_description['content'], og_image['content'], link]\n"
   ]
  },
  {
   "cell_type": "code",
   "execution_count": 4,
   "metadata": {
    "tags": []
   },
   "outputs": [
    {
     "output_type": "stream",
     "name": "stdout",
     "text": [
      "['파이썬 성능 개선을 위한 6가지 프로젝트', 'ITWorld Korea', '파이썬(Python)은 세련되고 편리하지만 파이썬을 사용하는 누구나 알고 있듯이 CPU 집약적인 작업에서 C, 자바 또는 자바스크립트보다 속도가 훨씬 더 느리다. 그러나 느린 속도를 이유로 파이썬을 외면하기에는 다른 많은 장점이 아깝다. 그래서 이 언어의 성능을 근본적으로 높이기 위한 여러 프로젝트가 등장했다.\\xa0ⓒ\\xa0Getty Images Bank동일한 하드웨어에서 파이썬의 속도를 더 높이는 방법은 크게 2가지인데, 각각 장단', 'http://www.itworld.co.kr/files/itworld/2021/03/cso_rich_energy_haas_f1_team_racing_race_car_3d-modeling_by_mevans_gettyimages-163802686_circuits_by_mustafahacalaki_gettyimages-929815664_3x2_2400x1600-100796813-large.jpg', 'https://www.itworld.co.kr/insight/185273']\n"
     ]
    }
   ],
   "source": [
    "print(make_og_data(url))"
   ]
  },
  {
   "cell_type": "code",
   "execution_count": null,
   "metadata": {},
   "outputs": [],
   "source": []
  }
 ]
}