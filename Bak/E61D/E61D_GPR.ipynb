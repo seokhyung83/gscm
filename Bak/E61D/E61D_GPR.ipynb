{
 "cells": [
  {
   "cell_type": "code",
   "execution_count": 1,
   "id": "41c7f40b",
   "metadata": {},
   "outputs": [],
   "source": [
    "import os, random, time\n",
    "import xgboost\n",
    "import datetime\n",
    "\n",
    "import numpy as np\n",
    "import pandas as pd\n",
    "import matplotlib.pyplot as plt\n",
    "\n",
    "#from fbprophet import Prophet\n",
    "from sklearn.linear_model import LinearRegression as LR\n",
    "from sklearn.kernel_ridge import KernelRidge as KR\n",
    "from sklearn.linear_model import Ridge, ElasticNet, BayesianRidge, Lars, Lasso\n",
    "from sklearn.ensemble import RandomForestRegressor as RF\n",
    "\n",
    "from sklearn.metrics import r2_score\n",
    "from sklearn.gaussian_process import GaussianProcessRegressor as gpr\n",
    "from sklearn.gaussian_process.kernels import RBF, DotProduct, WhiteKernel\n",
    "\n",
    "import warnings\n",
    "\n",
    "from bayes_opt import BayesianOptimization\n",
    "\n",
    "from sklearn.gaussian_process import GaussianProcessRegressor\n",
    "from sklearn.gaussian_process.kernels import RBF, ConstantKernel as C"
   ]
  },
  {
   "cell_type": "code",
   "execution_count": 2,
   "id": "cfc8ffdb",
   "metadata": {},
   "outputs": [],
   "source": [
    "y_inven = pd.read_csv('./E61D_Inven.csv')\n",
    "x_sales = pd.read_csv('./E61D_Sale.csv')\n",
    "x_product = pd.read_csv('./E61D_Product.csv')\n",
    "d_set = pd.merge(pd.merge(y_inven, x_sales, how='left', on='Week'), x_product, how='left', on='Week')\n",
    "d_set = d_set.drop(columns=['5xxx', '3xxC', '3xxT'])\n",
    "d_set[d_set < -1000] = 0\n",
    "#d_set_log = d_set.copy()\n",
    "#d_set_log[d_set < 0] = 0\n",
    "#d_set.to_csv('data_0506.csv', index=False)\n",
    "\n",
    "rm_week = [201952, 202001, 202052, 202053]#, 202101]\n",
    "rm_index = [i for i,s in enumerate(d_set['Week']) if s not in rm_week]\n",
    "d_set1 = d_set.loc[rm_index]\n",
    "d_set1 = d_set1.reset_index(drop=True)\n"
   ]
  },
  {
   "cell_type": "code",
   "execution_count": null,
   "id": "b6cea6f0",
   "metadata": {},
   "outputs": [],
   "source": []
  }
 ],
 "metadata": {
  "kernelspec": {
   "display_name": "Python 3",
   "language": "python",
   "name": "python3"
  },
  "language_info": {
   "codemirror_mode": {
    "name": "ipython",
    "version": 3
   },
   "file_extension": ".py",
   "mimetype": "text/x-python",
   "name": "python",
   "nbconvert_exporter": "python",
   "pygments_lexer": "ipython3",
   "version": "3.7.10"
  }
 },
 "nbformat": 4,
 "nbformat_minor": 5
}
