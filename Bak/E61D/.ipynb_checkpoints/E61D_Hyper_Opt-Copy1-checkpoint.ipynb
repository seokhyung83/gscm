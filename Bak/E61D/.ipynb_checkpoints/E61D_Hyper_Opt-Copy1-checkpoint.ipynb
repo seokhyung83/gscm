{
 "cells": [
  {
   "cell_type": "code",
   "execution_count": 10,
   "id": "2c27e2a9",
   "metadata": {},
   "outputs": [],
   "source": [
    "import os, random, time\n",
    "import xgboost\n",
    "import datetime\n",
    "import pygam\n",
    "import numpy as np\n",
    "import pandas as pd\n",
    "import matplotlib.pyplot as plt\n",
    "from bayes_opt import BayesianOptimization\n",
    "#from fbprophet import Prophet\n",
    "\n",
    "from sklearn.linear_model import LinearRegression as LR\n",
    "from sklearn.kernel_ridge import KernelRidge as KR\n",
    "from sklearn.linear_model import Ridge, ElasticNet, BayesianRidge\n",
    "from sklearn.metrics import r2_score\n",
    "from sklearn.gaussian_process import GaussianProcessRegressor as gpr\n",
    "from sklearn.gaussian_process.kernels import WhiteKernel, ConstantKernel as C, RBF\n",
    "import warnings"
   ]
  },
  {
   "cell_type": "code",
   "execution_count": 2,
   "id": "2de40dc2",
   "metadata": {},
   "outputs": [],
   "source": [
    "y_inven = pd.read_csv('./E61D_Inven.csv')\n",
    "x_sales = pd.read_csv('./E61D_Sale.csv')\n",
    "x_product = pd.read_csv('./E61D_Product.csv')\n",
    "d_set = pd.merge(pd.merge(y_inven, x_sales, how='left', on='Week'), x_product, how='left', on='Week')\n",
    "d_set = d_set.drop(columns=['5xxx', '3xxC', '3xxT'])\n",
    "d_set[d_set < -1000] = 0\n",
    "#d_set_log = d_set.copy()\n",
    "#d_set_log[d_set < 0] = 0\n",
    "#d_set.to_csv('data_0506.csv', index=False)\n",
    "\n",
    "rm_week = [201952, 202001, 202052, 202053, 202101]\n",
    "rm_index = [i for i,s in enumerate(d_set['Week']) if s not in rm_week]\n",
    "d_set1 = d_set.loc[rm_index]\n",
    "d_set1 = d_set1.reset_index(drop=True)\n",
    "#print(d_set.shape)\n",
    "#d_set1.to_csv('data_0506.csv', index=False)"
   ]
  },
  {
   "cell_type": "code",
   "execution_count": 6,
   "id": "87becf28",
   "metadata": {},
   "outputs": [],
   "source": [
    "inven_col = [s for s in d_set1.columns if 'Prev_Inven' in s]\n",
    "sale_col = [s for s in d_set1.columns if 'Sale' in s]\n",
    "product_col = [s for s in d_set1.columns if 'Product' in s]\n",
    "y_col = [s for s in d_set1.columns if 'Inven' == s]"
   ]
  },
  {
   "cell_type": "code",
   "execution_count": 8,
   "id": "dd3dc3b9",
   "metadata": {},
   "outputs": [
    {
     "data": {
      "text/plain": [
       "Product            1.000000\n",
       "Var_Product_1      0.444154\n",
       "Var_Product_2      0.429571\n",
       "Var_Product_3      0.405463\n",
       "Var_Product_4      0.367546\n",
       "Var_Product_5      0.302000\n",
       "Var_Product_6      0.227115\n",
       "Var_Product_7      0.102748\n",
       "Var_Product_8      0.152717\n",
       "Var_Product_9      0.111518\n",
       "Var_Product_10     0.073880\n",
       "Var_Product_11     0.054266\n",
       "Var_Product_12     0.104223\n",
       "Post_Product_1     0.379531\n",
       "Post_Product_2     0.290136\n",
       "Post_Product_3     0.378590\n",
       "Post_Product_4     0.306711\n",
       "Post_Product_5     0.114843\n",
       "Post_Product_6     0.046624\n",
       "Post_Product_7    -0.050972\n",
       "Post_Product_8    -0.072394\n",
       "Post_Product_9    -0.120416\n",
       "Post_Product_10   -0.121170\n",
       "Post_Product_11   -0.172575\n",
       "Post_Product_12   -0.124365\n",
       "Prev_Product_1     0.751463\n",
       "Prev_Product_2     0.543695\n",
       "Prev_Product_3     0.470680\n",
       "Prev_Product_4     0.426746\n",
       "Prev_Product_5     0.391741\n",
       "Prev_Product_6     0.383066\n",
       "Prev_Product_7     0.360388\n",
       "Prev_Product_8     0.341115\n",
       "Prev_Product_9     0.306379\n",
       "Prev_Product_10    0.228994\n",
       "Prev_Product_11    0.202394\n",
       "Prev_Product_12    0.166668\n",
       "Name: Product, dtype: float64"
      ]
     },
     "execution_count": 8,
     "metadata": {},
     "output_type": "execute_result"
    }
   ],
   "source": [
    "d_set1[product_col].corr(method='pearson').iloc[0,:]"
   ]
  },
  {
   "cell_type": "code",
   "execution_count": 3,
   "id": "95f6ceb6",
   "metadata": {
    "jupyter": {
     "source_hidden": true
    }
   },
   "outputs": [],
   "source": [
    "def run_model_1(m_, x_dta, wt_mat, t_col_k, s_col_k, p_col_k, tr_s_day, tr_e_day, te_s_day=None, te_e_day=None):    \n",
    "    tr_time = np.array([tr_s_day, tr_e_day])\n",
    "    te_time = np.array([te_s_day, te_e_day])\n",
    "    s_ind, e_ind = np.where(tr_time[0] == x_dta['Week'])[0][0], np.where(tr_time[1] == x_dta['Week'])[0][0]\n",
    "    te_s_ind, te_e_ind = np.where(te_time[0] == x_dta['Week'])[0][0], np.where(te_time[1] == x_dta['Week'])[0][0]\n",
    "\n",
    "    target_col = [s for s in x_dta.columns.values if 'Inven' == s]\n",
    "    week_col = [s for s in x_dta.columns.values if 'Week' in s]\n",
    "\n",
    "    prev_target_col = [s for s in x_dta.columns.values if 'Prev_Inven' in s]\n",
    "    prev_sale_col = [s for s in x_dta.columns.values if 'Prev_Sale' in s]\n",
    "    prev_product_col = [s for s in x_dta.columns.values if 'Prev_Product' in s]\n",
    "    sale_col = [s for s in x_dta.columns.values if 'Sale' == s]\n",
    "    product_col = [s for s in x_dta.columns.values if 'Product' == s]\n",
    "\n",
    "    tmp_x_set1, tmp_x_set2, tmp_x_set3 = x_dta[prev_target_col], x_dta[prev_sale_col], x_dta[prev_product_col]    \n",
    "    tmp_x_set1 = np.multiply(tmp_x_set1, np.tile([wt_mat[:tmp_x_set1.shape[1]]], tmp_x_set1.shape[0]).reshape(tmp_x_set1.shape[0], -1)).copy()\n",
    "    tmp_x_set2 = np.multiply(tmp_x_set2, np.tile([wt_mat], tmp_x_set2.shape[0]).reshape(tmp_x_set2.shape[0], -1)).copy()\n",
    "    tmp_x_set3 = np.multiply(tmp_x_set3, np.tile([wt_mat], tmp_x_set3.shape[0]).reshape(tmp_x_set3.shape[0], -1)).copy()\n",
    "\n",
    "    tmp_x_set1_re = tmp_x_set1.iloc[:,:t_col_k]\n",
    "    tmp_x_set2_re = tmp_x_set2.iloc[:,:s_col_k]\n",
    "    tmp_x_set3_re = tmp_x_set3.iloc[:,:p_col_k]\n",
    "    x_dta_re = pd.concat([x_dta[list(week_col+target_col+sale_col+product_col)], tmp_x_set1_re, tmp_x_set2_re, tmp_x_set3_re], axis=1)\n",
    "\n",
    "    train_set = x_dta_re.iloc[s_ind:e_ind, :]\n",
    "    test_set = x_dta_re.iloc[te_s_ind:te_e_ind, :]#.copy()\n",
    "\n",
    "    tr_x_set = train_set[list(prev_target_col[:t_col_k]+sale_col+prev_sale_col[:s_col_k]+product_col+prev_product_col[:p_col_k])]\n",
    "    tr_y_set = np.array(train_set[target_col])\n",
    "    te_x_set = test_set[list(prev_target_col[:t_col_k]+sale_col+prev_sale_col[:s_col_k]+product_col+prev_product_col[:p_col_k])]\n",
    "    te_y_set = np.array(test_set[target_col])\n",
    "\n",
    "    m_.fit(tr_x_set, tr_y_set)\n",
    "    hat_prev_ = m_.predict(tr_x_set)\n",
    "    \n",
    "    if len(tr_y_set) > 0 :\n",
    "        tmp_y_id_ = np.where(tr_y_set!=0)[0]\n",
    "        real_ = np.mean(1- np.abs(tr_y_set[tmp_y_id_] - hat_prev_[tmp_y_id_]) / np.abs(tr_y_set[tmp_y_id_])) * 100\n",
    "    else:\n",
    "        real_ = np.mean(1- np.abs(tr_y_set - hat_prev_) / np.abs(tr_y_set)) * 100     \n",
    "\n",
    "    if te_s_day is None :\n",
    "        return real_, tr_y_set, hat_prev_\n",
    "    else:\n",
    "        hat_  = m_.predict(te_x_set)\n",
    "        Y_hat_ = np.concatenate((hat_prev_, hat_))\n",
    "        Y_     = np.concatenate((tr_y_set, te_y_set))\n",
    "        if len(te_y_set) > 0:\n",
    "            tmp_y_id_ = np.where(te_y_set!=0)[0]\n",
    "            fcst_ = np.mean(1- np.abs(te_y_set[tmp_y_id_] - hat_[tmp_y_id_]) / np.abs(te_y_set[tmp_y_id_])) * 100\n",
    "        else:\n",
    "            fcst_ = np.mean(1- np.abs(te_y_set - hat_     ) / np.abs(te_y_set)) * 100    \n",
    "        return real_, fcst_, Y_, Y_hat_, hat_prev_, hat_"
   ]
  },
  {
   "cell_type": "code",
   "execution_count": 24,
   "id": "1248131f",
   "metadata": {},
   "outputs": [],
   "source": [
    "def run_model_2(m_, x_dta, target_key, wt_mat, tr_s_day, tr_e_day, te_s_day=None, te_e_day=None, col_k=None, col_k1=None):        \n",
    "    tr_time = np.array([tr_s_day, tr_e_day])\n",
    "    te_time = np.array([te_s_day, te_e_day])\n",
    "    s_ind, e_ind = np.where(tr_time[0] == x_dta['Week'])[0][0], np.where(tr_time[1] == x_dta['Week'])[0][0]\n",
    "    te_s_ind, te_e_ind = np.where(te_time[0] == x_dta['Week'])[0][0], np.where(te_time[1] == x_dta['Week'])[0][0]\n",
    "    print(te_s_int, te_e_ind, s_ind, e_ind)\n",
    "    target_col = [s for s in x_dta.columns.values if target_key == s]    \n",
    "    tmp_x_col = [s for s in x_dta.columns.values if 'Prev_'+target_key in s]\n",
    "    tmp_x_col1 = [s for s in x_dta.columns.values if 'Var_'+target_key in s]\n",
    "    week_col = [s for s in x_dta.columns.values if 'Week' in s]\n",
    "\n",
    "    tmp_x_set1, tmp_x_set2 = x_dta[tmp_x_col], x_dta[tmp_x_col1]\n",
    "    tmp_x_set1 = np.multiply(tmp_x_set1, np.tile([wt_mat], tmp_x_set1.shape[0]).reshape(tmp_x_set1.shape[0], -1)).copy()\n",
    "    tmp_x_set2 = np.multiply(tmp_x_set2, np.tile([wt_mat], tmp_x_set2.shape[0]).reshape(tmp_x_set2.shape[0], -1)).copy()\n",
    "    if target_key == 'Product':\n",
    "        tmp_x_set1_re = tmp_x_set1.iloc[:,:col_k]\n",
    "        tmp_x_set2_re = tmp_x_set2.iloc[:,:col_k1]\n",
    "        x_dta_re = pd.concat([x_dta[list(week_col+target_col)], tmp_x_set1_re, tmp_x_set2_re], axis=1)\n",
    "        train_col = list(tmp_x_col[:col_k]+tmp_x_col1[:col_k1])    \n",
    "    elif target_key == 'Sale':\n",
    "        tmp_x_set2_re = tmp_x_set2.iloc[:,:col_k1]\n",
    "        x_dta_re = pd.concat([x_dta[list(week_col+target_col)], tmp_x_set2_re], axis=1)\n",
    "        train_col = list(tmp_x_col1[:col_k1])\n",
    "\n",
    "\n",
    "    train_set = x_dta_re.iloc[s_ind:e_ind, :]\n",
    "    test_set = x_dta_re.iloc[te_s_ind:te_e_ind, :]#.copy()\n",
    "\n",
    "    tr_x_set = train_set[train_col]\n",
    "    tr_y_set = np.array(train_set[target_col]).reshape(-1,1)\n",
    "    te_x_set = test_set[train_col]\n",
    "    te_y_set = np.array(test_set[target_col]).reshape(-1,1)\n",
    "\n",
    "    m_.fit(tr_x_set, tr_y_set)\n",
    "    hat_prev_ = m_.predict(tr_x_set)\n",
    "    if len(np.shape(hat_prev_)) == 1:\n",
    "        hat_prev_ = hat_prev_.reshape(-1,1)\n",
    "    \n",
    "    if len(tr_y_set) > 0 :\n",
    "        tmp_y_id_ = np.where(tr_y_set!=0)[0]\n",
    "        real_ = np.mean(1- np.abs(tr_y_set[tmp_y_id_] - hat_prev_[tmp_y_id_]) / np.abs(tr_y_set[tmp_y_id_])) * 100\n",
    "    else:\n",
    "        real_ = np.mean(1- np.abs(tr_y_set - hat_prev_) / np.abs(tr_y_set)) * 100     \n",
    "\n",
    "    if te_s_day is None :\n",
    "        return real_, tr_y_set, hat_prev_\n",
    "    else:\n",
    "        hat_ = []\n",
    "        if target_key == 'Product':\n",
    "            prev_x = list(map(lambda j : x_dta_re[target_key].iloc[te_s_ind-j], range(1, col_k+1)))\n",
    "            for i in range(te_s_ind, te_e_ind+1):    \n",
    "                var_x = x_dta_re[tmp_x_col1[:col_k1]].iloc[i]        \n",
    "                te_x_ = np.array(prev_x+list(var_x)).reshape(1,-1)\n",
    "                tmp_y_hat_ = m_.predict(te_x_)[0][0] #\n",
    "                hat_.append(tmp_y_hat_)\n",
    "                prev_x = (list([tmp_y_hat_]) + prev_x)[:col_k]\n",
    "        elif target_key == 'Sale':\n",
    "            tmp_y_hat_ = m_.predict(te_x_set)\n",
    "            hat_.append(tmp_y_hat_) \n",
    "            \n",
    "        Y_hat_ = np.concatenate((hat_prev_, np.array(hat_).reshape(-1,1))) #hat_))#\n",
    "        Y_     = np.concatenate((tr_y_set, te_y_set))\n",
    "        fcst_ = np.mean(np.ones_like(te_y_set) - np.clip(np.abs(te_y_set - hat_[0]) / te_y_set , 0, 1)) * 100\n",
    "        return real_, fcst_, Y_, Y_hat_, hat_prev_, hat_[0]"
   ]
  },
  {
   "cell_type": "code",
   "execution_count": 25,
   "id": "e7a849bc",
   "metadata": {
    "scrolled": true
   },
   "outputs": [
    {
     "name": "stdout",
     "output_type": "stream",
     "text": [
      "|   iter    |  target   |   alpha   |   col_k   |  col_k1   |   m_lr    | m_max_... | m_n_es... | m_subs... |\n",
      "-------------------------------------------------------------------------------------------------------------\n"
     ]
    },
    {
     "ename": "IndexError",
     "evalue": "index 0 is out of bounds for axis 0 with size 0",
     "output_type": "error",
     "traceback": [
      "\u001b[0;31m---------------------------------------------------------------------------\u001b[0m",
      "\u001b[0;31mKeyError\u001b[0m                                  Traceback (most recent call last)",
      "\u001b[0;32m/opt/conda/envs/rapids/lib/python3.7/site-packages/bayes_opt/target_space.py\u001b[0m in \u001b[0;36mprobe\u001b[0;34m(self, params)\u001b[0m\n\u001b[1;32m    190\u001b[0m         \u001b[0;32mtry\u001b[0m\u001b[0;34m:\u001b[0m\u001b[0;34m\u001b[0m\u001b[0;34m\u001b[0m\u001b[0m\n\u001b[0;32m--> 191\u001b[0;31m             \u001b[0mtarget\u001b[0m \u001b[0;34m=\u001b[0m \u001b[0mself\u001b[0m\u001b[0;34m.\u001b[0m\u001b[0m_cache\u001b[0m\u001b[0;34m[\u001b[0m\u001b[0m_hashable\u001b[0m\u001b[0;34m(\u001b[0m\u001b[0mx\u001b[0m\u001b[0;34m)\u001b[0m\u001b[0;34m]\u001b[0m\u001b[0;34m\u001b[0m\u001b[0;34m\u001b[0m\u001b[0m\n\u001b[0m\u001b[1;32m    192\u001b[0m         \u001b[0;32mexcept\u001b[0m \u001b[0mKeyError\u001b[0m\u001b[0;34m:\u001b[0m\u001b[0;34m\u001b[0m\u001b[0;34m\u001b[0m\u001b[0m\n",
      "\u001b[0;31mKeyError\u001b[0m: (0.9083830806583604, 9.643893921305898, 1.0013724978081386, 0.12790970332641752, 3.880535344902678, 18.310473529191803, 0.5745040845510684)",
      "\nDuring handling of the above exception, another exception occurred:\n",
      "\u001b[0;31mIndexError\u001b[0m                                Traceback (most recent call last)",
      "\u001b[0;32m<ipython-input-25-8b2201b19c21>\u001b[0m in \u001b[0;36m<module>\u001b[0;34m\u001b[0m\n\u001b[1;32m      9\u001b[0m \u001b[0;34m\u001b[0m\u001b[0m\n\u001b[1;32m     10\u001b[0m \u001b[0msale_optimizer\u001b[0m \u001b[0;34m=\u001b[0m \u001b[0mBayesianOptimization\u001b[0m\u001b[0;34m(\u001b[0m\u001b[0mf\u001b[0m\u001b[0;34m=\u001b[0m\u001b[0mh_opt\u001b[0m\u001b[0;34m,\u001b[0m \u001b[0mpbounds\u001b[0m\u001b[0;34m=\u001b[0m\u001b[0mparam_bound\u001b[0m\u001b[0;34m,\u001b[0m \u001b[0mverbose\u001b[0m\u001b[0;34m=\u001b[0m\u001b[0;36m2\u001b[0m\u001b[0;34m,\u001b[0m \u001b[0mrandom_state\u001b[0m\u001b[0;34m=\u001b[0m\u001b[0;36m1\u001b[0m\u001b[0;34m)\u001b[0m\u001b[0;34m\u001b[0m\u001b[0;34m\u001b[0m\u001b[0m\n\u001b[0;32m---> 11\u001b[0;31m \u001b[0msale_optimizer\u001b[0m\u001b[0;34m.\u001b[0m\u001b[0mmaximize\u001b[0m\u001b[0;34m(\u001b[0m\u001b[0minit_points\u001b[0m\u001b[0;34m=\u001b[0m\u001b[0;36m50\u001b[0m\u001b[0;34m,\u001b[0m \u001b[0mn_iter\u001b[0m\u001b[0;34m=\u001b[0m\u001b[0;36m500\u001b[0m\u001b[0;34m)\u001b[0m\u001b[0;34m\u001b[0m\u001b[0;34m\u001b[0m\u001b[0m\n\u001b[0m\u001b[1;32m     12\u001b[0m \u001b[0;31m#####################################################################################################################\u001b[0m\u001b[0;34m\u001b[0m\u001b[0;34m\u001b[0m\u001b[0;34m\u001b[0m\u001b[0m\n\u001b[1;32m     13\u001b[0m \u001b[0;31m#####    |  target   |   alpha   |   col_k   |  col_k1   |   m_lr    | m_max_... | m_n_es... | m_subs... |\u001b[0m\u001b[0;34m\u001b[0m\u001b[0;34m\u001b[0m\u001b[0;34m\u001b[0m\u001b[0m\n",
      "\u001b[0;32m/opt/conda/envs/rapids/lib/python3.7/site-packages/bayes_opt/bayesian_optimization.py\u001b[0m in \u001b[0;36mmaximize\u001b[0;34m(self, init_points, n_iter, acq, kappa, kappa_decay, kappa_decay_delay, xi, **gp_params)\u001b[0m\n\u001b[1;32m    183\u001b[0m                 \u001b[0miteration\u001b[0m \u001b[0;34m+=\u001b[0m \u001b[0;36m1\u001b[0m\u001b[0;34m\u001b[0m\u001b[0;34m\u001b[0m\u001b[0m\n\u001b[1;32m    184\u001b[0m \u001b[0;34m\u001b[0m\u001b[0m\n\u001b[0;32m--> 185\u001b[0;31m             \u001b[0mself\u001b[0m\u001b[0;34m.\u001b[0m\u001b[0mprobe\u001b[0m\u001b[0;34m(\u001b[0m\u001b[0mx_probe\u001b[0m\u001b[0;34m,\u001b[0m \u001b[0mlazy\u001b[0m\u001b[0;34m=\u001b[0m\u001b[0;32mFalse\u001b[0m\u001b[0;34m)\u001b[0m\u001b[0;34m\u001b[0m\u001b[0;34m\u001b[0m\u001b[0m\n\u001b[0m\u001b[1;32m    186\u001b[0m \u001b[0;34m\u001b[0m\u001b[0m\n\u001b[1;32m    187\u001b[0m             \u001b[0;32mif\u001b[0m \u001b[0mself\u001b[0m\u001b[0;34m.\u001b[0m\u001b[0m_bounds_transformer\u001b[0m\u001b[0;34m:\u001b[0m\u001b[0;34m\u001b[0m\u001b[0;34m\u001b[0m\u001b[0m\n",
      "\u001b[0;32m/opt/conda/envs/rapids/lib/python3.7/site-packages/bayes_opt/bayesian_optimization.py\u001b[0m in \u001b[0;36mprobe\u001b[0;34m(self, params, lazy)\u001b[0m\n\u001b[1;32m    114\u001b[0m             \u001b[0mself\u001b[0m\u001b[0;34m.\u001b[0m\u001b[0m_queue\u001b[0m\u001b[0;34m.\u001b[0m\u001b[0madd\u001b[0m\u001b[0;34m(\u001b[0m\u001b[0mparams\u001b[0m\u001b[0;34m)\u001b[0m\u001b[0;34m\u001b[0m\u001b[0;34m\u001b[0m\u001b[0m\n\u001b[1;32m    115\u001b[0m         \u001b[0;32melse\u001b[0m\u001b[0;34m:\u001b[0m\u001b[0;34m\u001b[0m\u001b[0;34m\u001b[0m\u001b[0m\n\u001b[0;32m--> 116\u001b[0;31m             \u001b[0mself\u001b[0m\u001b[0;34m.\u001b[0m\u001b[0m_space\u001b[0m\u001b[0;34m.\u001b[0m\u001b[0mprobe\u001b[0m\u001b[0;34m(\u001b[0m\u001b[0mparams\u001b[0m\u001b[0;34m)\u001b[0m\u001b[0;34m\u001b[0m\u001b[0;34m\u001b[0m\u001b[0m\n\u001b[0m\u001b[1;32m    117\u001b[0m             \u001b[0mself\u001b[0m\u001b[0;34m.\u001b[0m\u001b[0mdispatch\u001b[0m\u001b[0;34m(\u001b[0m\u001b[0mEvents\u001b[0m\u001b[0;34m.\u001b[0m\u001b[0mOPTIMIZATION_STEP\u001b[0m\u001b[0;34m)\u001b[0m\u001b[0;34m\u001b[0m\u001b[0;34m\u001b[0m\u001b[0m\n\u001b[1;32m    118\u001b[0m \u001b[0;34m\u001b[0m\u001b[0m\n",
      "\u001b[0;32m/opt/conda/envs/rapids/lib/python3.7/site-packages/bayes_opt/target_space.py\u001b[0m in \u001b[0;36mprobe\u001b[0;34m(self, params)\u001b[0m\n\u001b[1;32m    192\u001b[0m         \u001b[0;32mexcept\u001b[0m \u001b[0mKeyError\u001b[0m\u001b[0;34m:\u001b[0m\u001b[0;34m\u001b[0m\u001b[0;34m\u001b[0m\u001b[0m\n\u001b[1;32m    193\u001b[0m             \u001b[0mparams\u001b[0m \u001b[0;34m=\u001b[0m \u001b[0mdict\u001b[0m\u001b[0;34m(\u001b[0m\u001b[0mzip\u001b[0m\u001b[0;34m(\u001b[0m\u001b[0mself\u001b[0m\u001b[0;34m.\u001b[0m\u001b[0m_keys\u001b[0m\u001b[0;34m,\u001b[0m \u001b[0mx\u001b[0m\u001b[0;34m)\u001b[0m\u001b[0;34m)\u001b[0m\u001b[0;34m\u001b[0m\u001b[0;34m\u001b[0m\u001b[0m\n\u001b[0;32m--> 194\u001b[0;31m             \u001b[0mtarget\u001b[0m \u001b[0;34m=\u001b[0m \u001b[0mself\u001b[0m\u001b[0;34m.\u001b[0m\u001b[0mtarget_func\u001b[0m\u001b[0;34m(\u001b[0m\u001b[0;34m**\u001b[0m\u001b[0mparams\u001b[0m\u001b[0;34m)\u001b[0m\u001b[0;34m\u001b[0m\u001b[0;34m\u001b[0m\u001b[0m\n\u001b[0m\u001b[1;32m    195\u001b[0m             \u001b[0mself\u001b[0m\u001b[0;34m.\u001b[0m\u001b[0mregister\u001b[0m\u001b[0;34m(\u001b[0m\u001b[0mx\u001b[0m\u001b[0;34m,\u001b[0m \u001b[0mtarget\u001b[0m\u001b[0;34m)\u001b[0m\u001b[0;34m\u001b[0m\u001b[0;34m\u001b[0m\u001b[0m\n\u001b[1;32m    196\u001b[0m         \u001b[0;32mreturn\u001b[0m \u001b[0mtarget\u001b[0m\u001b[0;34m\u001b[0m\u001b[0;34m\u001b[0m\u001b[0m\n",
      "\u001b[0;32m<ipython-input-25-8b2201b19c21>\u001b[0m in \u001b[0;36mh_opt\u001b[0;34m(alpha, m_n_estimator, m_lr, m_subsample, m_max_depth, col_k, col_k1)\u001b[0m\n\u001b[1;32m      5\u001b[0m     \u001b[0mmodel_\u001b[0m\u001b[0;34m=\u001b[0m\u001b[0mxgboost\u001b[0m\u001b[0;34m.\u001b[0m\u001b[0mXGBRegressor\u001b[0m\u001b[0;34m(\u001b[0m\u001b[0mn_estimators\u001b[0m\u001b[0;34m=\u001b[0m\u001b[0mround\u001b[0m\u001b[0;34m(\u001b[0m\u001b[0mm_n_estimator\u001b[0m\u001b[0;34m)\u001b[0m\u001b[0;34m,\u001b[0m \u001b[0mlearning_rate\u001b[0m\u001b[0;34m=\u001b[0m\u001b[0mround\u001b[0m\u001b[0;34m(\u001b[0m\u001b[0mm_lr\u001b[0m\u001b[0;34m,\u001b[0m\u001b[0;36m2\u001b[0m\u001b[0;34m)\u001b[0m\u001b[0;34m,\u001b[0m \u001b[0msubsample\u001b[0m\u001b[0;34m=\u001b[0m\u001b[0mround\u001b[0m\u001b[0;34m(\u001b[0m\u001b[0mm_subsample\u001b[0m\u001b[0;34m,\u001b[0m\u001b[0;36m2\u001b[0m\u001b[0;34m)\u001b[0m\u001b[0;34m,\u001b[0m \u001b[0mmax_depth\u001b[0m\u001b[0;34m=\u001b[0m\u001b[0mround\u001b[0m\u001b[0;34m(\u001b[0m\u001b[0mm_max_depth\u001b[0m\u001b[0;34m)\u001b[0m\u001b[0;34m,\u001b[0m \u001b[0mtree_method\u001b[0m\u001b[0;34m=\u001b[0m\u001b[0;34m'gpu_hist'\u001b[0m\u001b[0;34m,\u001b[0m \u001b[0mgpu_id\u001b[0m\u001b[0;34m=\u001b[0m\u001b[0;36m0\u001b[0m\u001b[0;34m)\u001b[0m\u001b[0;34m\u001b[0m\u001b[0;34m\u001b[0m\u001b[0m\n\u001b[1;32m      6\u001b[0m \u001b[0;34m\u001b[0m\u001b[0m\n\u001b[0;32m----> 7\u001b[0;31m     \u001b[0macc_\u001b[0m\u001b[0;34m,\u001b[0m \u001b[0macc_hat_\u001b[0m\u001b[0;34m,\u001b[0m \u001b[0m_\u001b[0m\u001b[0;34m,\u001b[0m \u001b[0m_\u001b[0m\u001b[0;34m,\u001b[0m \u001b[0m_\u001b[0m\u001b[0;34m,\u001b[0m \u001b[0m_\u001b[0m  \u001b[0;34m=\u001b[0m \u001b[0mrun_model_2\u001b[0m\u001b[0;34m(\u001b[0m\u001b[0mmodel_\u001b[0m\u001b[0;34m,\u001b[0m \u001b[0md_set1\u001b[0m\u001b[0;34m,\u001b[0m \u001b[0;34m'Sale'\u001b[0m\u001b[0;34m,\u001b[0m \u001b[0mweight_mat\u001b[0m\u001b[0;34m,\u001b[0m\u001b[0;36m201903\u001b[0m\u001b[0;34m,\u001b[0m \u001b[0;36m202043\u001b[0m\u001b[0;34m,\u001b[0m \u001b[0;36m202044\u001b[0m\u001b[0;34m,\u001b[0m \u001b[0;36m202053\u001b[0m\u001b[0;34m,\u001b[0m \u001b[0;32mNone\u001b[0m\u001b[0;34m,\u001b[0m \u001b[0mround\u001b[0m\u001b[0;34m(\u001b[0m\u001b[0mcol_k1\u001b[0m\u001b[0;34m)\u001b[0m\u001b[0;34m)\u001b[0m\u001b[0;34m\u001b[0m\u001b[0;34m\u001b[0m\u001b[0m\n\u001b[0m\u001b[1;32m      8\u001b[0m     \u001b[0;32mreturn\u001b[0m \u001b[0macc_hat_\u001b[0m\u001b[0;34m\u001b[0m\u001b[0;34m\u001b[0m\u001b[0m\n\u001b[1;32m      9\u001b[0m \u001b[0;34m\u001b[0m\u001b[0m\n",
      "\u001b[0;32m<ipython-input-24-42b77be7a2ed>\u001b[0m in \u001b[0;36mrun_model_2\u001b[0;34m(m_, x_dta, target_key, wt_mat, tr_s_day, tr_e_day, te_s_day, te_e_day, col_k, col_k1)\u001b[0m\n\u001b[1;32m      4\u001b[0m     \u001b[0mte_time\u001b[0m \u001b[0;34m=\u001b[0m \u001b[0mnp\u001b[0m\u001b[0;34m.\u001b[0m\u001b[0marray\u001b[0m\u001b[0;34m(\u001b[0m\u001b[0;34m[\u001b[0m\u001b[0mte_s_day\u001b[0m\u001b[0;34m,\u001b[0m \u001b[0mte_e_day\u001b[0m\u001b[0;34m]\u001b[0m\u001b[0;34m)\u001b[0m\u001b[0;34m\u001b[0m\u001b[0;34m\u001b[0m\u001b[0m\n\u001b[1;32m      5\u001b[0m     \u001b[0ms_ind\u001b[0m\u001b[0;34m,\u001b[0m \u001b[0me_ind\u001b[0m \u001b[0;34m=\u001b[0m \u001b[0mnp\u001b[0m\u001b[0;34m.\u001b[0m\u001b[0mwhere\u001b[0m\u001b[0;34m(\u001b[0m\u001b[0mtr_time\u001b[0m\u001b[0;34m[\u001b[0m\u001b[0;36m0\u001b[0m\u001b[0;34m]\u001b[0m \u001b[0;34m==\u001b[0m \u001b[0mx_dta\u001b[0m\u001b[0;34m[\u001b[0m\u001b[0;34m'Week'\u001b[0m\u001b[0;34m]\u001b[0m\u001b[0;34m)\u001b[0m\u001b[0;34m[\u001b[0m\u001b[0;36m0\u001b[0m\u001b[0;34m]\u001b[0m\u001b[0;34m[\u001b[0m\u001b[0;36m0\u001b[0m\u001b[0;34m]\u001b[0m\u001b[0;34m,\u001b[0m \u001b[0mnp\u001b[0m\u001b[0;34m.\u001b[0m\u001b[0mwhere\u001b[0m\u001b[0;34m(\u001b[0m\u001b[0mtr_time\u001b[0m\u001b[0;34m[\u001b[0m\u001b[0;36m1\u001b[0m\u001b[0;34m]\u001b[0m \u001b[0;34m==\u001b[0m \u001b[0mx_dta\u001b[0m\u001b[0;34m[\u001b[0m\u001b[0;34m'Week'\u001b[0m\u001b[0;34m]\u001b[0m\u001b[0;34m)\u001b[0m\u001b[0;34m[\u001b[0m\u001b[0;36m0\u001b[0m\u001b[0;34m]\u001b[0m\u001b[0;34m[\u001b[0m\u001b[0;36m0\u001b[0m\u001b[0;34m]\u001b[0m\u001b[0;34m\u001b[0m\u001b[0;34m\u001b[0m\u001b[0m\n\u001b[0;32m----> 6\u001b[0;31m     \u001b[0mte_s_ind\u001b[0m\u001b[0;34m,\u001b[0m \u001b[0mte_e_ind\u001b[0m \u001b[0;34m=\u001b[0m \u001b[0mnp\u001b[0m\u001b[0;34m.\u001b[0m\u001b[0mwhere\u001b[0m\u001b[0;34m(\u001b[0m\u001b[0mte_time\u001b[0m\u001b[0;34m[\u001b[0m\u001b[0;36m0\u001b[0m\u001b[0;34m]\u001b[0m \u001b[0;34m==\u001b[0m \u001b[0mx_dta\u001b[0m\u001b[0;34m[\u001b[0m\u001b[0;34m'Week'\u001b[0m\u001b[0;34m]\u001b[0m\u001b[0;34m)\u001b[0m\u001b[0;34m[\u001b[0m\u001b[0;36m0\u001b[0m\u001b[0;34m]\u001b[0m\u001b[0;34m[\u001b[0m\u001b[0;36m0\u001b[0m\u001b[0;34m]\u001b[0m\u001b[0;34m,\u001b[0m \u001b[0mnp\u001b[0m\u001b[0;34m.\u001b[0m\u001b[0mwhere\u001b[0m\u001b[0;34m(\u001b[0m\u001b[0mte_time\u001b[0m\u001b[0;34m[\u001b[0m\u001b[0;36m1\u001b[0m\u001b[0;34m]\u001b[0m \u001b[0;34m==\u001b[0m \u001b[0mx_dta\u001b[0m\u001b[0;34m[\u001b[0m\u001b[0;34m'Week'\u001b[0m\u001b[0;34m]\u001b[0m\u001b[0;34m)\u001b[0m\u001b[0;34m[\u001b[0m\u001b[0;36m0\u001b[0m\u001b[0;34m]\u001b[0m\u001b[0;34m[\u001b[0m\u001b[0;36m0\u001b[0m\u001b[0;34m]\u001b[0m\u001b[0;34m\u001b[0m\u001b[0;34m\u001b[0m\u001b[0m\n\u001b[0m\u001b[1;32m      7\u001b[0m \u001b[0;34m\u001b[0m\u001b[0m\n\u001b[1;32m      8\u001b[0m     \u001b[0mtarget_col\u001b[0m \u001b[0;34m=\u001b[0m \u001b[0;34m[\u001b[0m\u001b[0ms\u001b[0m \u001b[0;32mfor\u001b[0m \u001b[0ms\u001b[0m \u001b[0;32min\u001b[0m \u001b[0mx_dta\u001b[0m\u001b[0;34m.\u001b[0m\u001b[0mcolumns\u001b[0m\u001b[0;34m.\u001b[0m\u001b[0mvalues\u001b[0m \u001b[0;32mif\u001b[0m \u001b[0mtarget_key\u001b[0m \u001b[0;34m==\u001b[0m \u001b[0ms\u001b[0m\u001b[0;34m]\u001b[0m\u001b[0;34m\u001b[0m\u001b[0;34m\u001b[0m\u001b[0m\n",
      "\u001b[0;31mIndexError\u001b[0m: index 0 is out of bounds for axis 0 with size 0"
     ]
    }
   ],
   "source": [
    "warnings.filterwarnings(action='ignore', category=UserWarning)\n",
    "param_bound = {'alpha' : (0.85,0.99) , 'm_n_estimator' : (10, 100), 'm_lr' : (0.01, 0.4), 'm_subsample' : (0.5, 0.9), 'm_max_depth' : (3,9), 'col_k' : (1,13), 'col_k1' : (1,13)}\n",
    "def h_opt(alpha, m_n_estimator, m_lr, m_subsample, m_max_depth, col_k, col_k1):\n",
    "    weight_mat = list(map(lambda x : round(alpha,3)**x if x > 0 else 1, range(0,12)))    \n",
    "    model_=xgboost.XGBRegressor(n_estimators=round(m_n_estimator), learning_rate=round(m_lr,2), subsample=round(m_subsample,2), max_depth=round(m_max_depth), tree_method='gpu_hist', gpu_id=0)  \n",
    "                                               \n",
    "    acc_, acc_hat_, _, _, _, _  = run_model_2(model_, d_set1, 'Sale', weight_mat,201903, 202043, 202044, 202053, None, round(col_k1))\n",
    "    return acc_hat_    \n",
    "\n",
    "sale_optimizer = BayesianOptimization(f=h_opt, pbounds=param_bound, verbose=2, random_state=1)\n",
    "sale_optimizer.maximize(init_points=50, n_iter=500)\n",
    "#####################################################################################################################\n",
    "#####    |  target   |   alpha   |   col_k   |  col_k1   |   m_lr    | m_max_... | m_n_es... | m_subs... |\n",
    "#####    |  71.49    |  0.9099   |  10.69    |  2.458    |  0.1093   |  7.29     |  58.46    |  0.6755   |\n",
    "#####    |  71.56    |  0.8941   |  12.07    |  7.294    |  0.1848   |  4.874    |  55.11    |  0.7917   |\n",
    "#####    |  99.38    |  0.99     |  13.0     |  5.387    |  0.4      |  9.0      |  28.58    |  0.5      |  ---> np.log(sale)"
   ]
  },
  {
   "cell_type": "code",
   "execution_count": 23,
   "id": "63b87098",
   "metadata": {
    "scrolled": true
   },
   "outputs": [
    {
     "name": "stdout",
     "output_type": "stream",
     "text": [
      "|   iter    |  target   |   alpha   |   col_k   |  col_k1   |   m_lr    | m_max_... | m_n_es... | m_subs... |\n",
      "-------------------------------------------------------------------------------------------------------------\n"
     ]
    },
    {
     "ename": "IndexError",
     "evalue": "invalid index to scalar variable.",
     "output_type": "error",
     "traceback": [
      "\u001b[0;31m---------------------------------------------------------------------------\u001b[0m",
      "\u001b[0;31mKeyError\u001b[0m                                  Traceback (most recent call last)",
      "\u001b[0;32m/opt/conda/envs/rapids/lib/python3.7/site-packages/bayes_opt/target_space.py\u001b[0m in \u001b[0;36mprobe\u001b[0;34m(self, params)\u001b[0m\n\u001b[1;32m    190\u001b[0m         \u001b[0;32mtry\u001b[0m\u001b[0;34m:\u001b[0m\u001b[0;34m\u001b[0m\u001b[0;34m\u001b[0m\u001b[0m\n\u001b[0;32m--> 191\u001b[0;31m             \u001b[0mtarget\u001b[0m \u001b[0;34m=\u001b[0m \u001b[0mself\u001b[0m\u001b[0;34m.\u001b[0m\u001b[0m_cache\u001b[0m\u001b[0;34m[\u001b[0m\u001b[0m_hashable\u001b[0m\u001b[0;34m(\u001b[0m\u001b[0mx\u001b[0m\u001b[0;34m)\u001b[0m\u001b[0;34m]\u001b[0m\u001b[0;34m\u001b[0m\u001b[0;34m\u001b[0m\u001b[0m\n\u001b[0m\u001b[1;32m    192\u001b[0m         \u001b[0;32mexcept\u001b[0m \u001b[0mKeyError\u001b[0m\u001b[0;34m:\u001b[0m\u001b[0;34m\u001b[0m\u001b[0;34m\u001b[0m\u001b[0m\n",
      "\u001b[0;31mKeyError\u001b[0m: (0.9375319804232317, 9.643893921305898, 1.0013724978081386, 0.12790970332641752, 3.880535344902678, 18.310473529191803, 0.4931301056888355)",
      "\nDuring handling of the above exception, another exception occurred:\n",
      "\u001b[0;31mIndexError\u001b[0m                                Traceback (most recent call last)",
      "\u001b[0;32m<ipython-input-23-b07ea7c7ad39>\u001b[0m in \u001b[0;36m<module>\u001b[0;34m\u001b[0m\n\u001b[1;32m     10\u001b[0m \u001b[0;34m\u001b[0m\u001b[0m\n\u001b[1;32m     11\u001b[0m \u001b[0mproduct_optimizer\u001b[0m \u001b[0;34m=\u001b[0m \u001b[0mBayesianOptimization\u001b[0m\u001b[0;34m(\u001b[0m\u001b[0mf\u001b[0m\u001b[0;34m=\u001b[0m\u001b[0mh_opt\u001b[0m\u001b[0;34m,\u001b[0m \u001b[0mpbounds\u001b[0m\u001b[0;34m=\u001b[0m\u001b[0mparam_bound\u001b[0m\u001b[0;34m,\u001b[0m \u001b[0mverbose\u001b[0m\u001b[0;34m=\u001b[0m\u001b[0;36m2\u001b[0m\u001b[0;34m,\u001b[0m \u001b[0mrandom_state\u001b[0m\u001b[0;34m=\u001b[0m\u001b[0;36m1\u001b[0m\u001b[0;34m)\u001b[0m\u001b[0;34m\u001b[0m\u001b[0;34m\u001b[0m\u001b[0m\n\u001b[0;32m---> 12\u001b[0;31m \u001b[0mproduct_optimizer\u001b[0m\u001b[0;34m.\u001b[0m\u001b[0mmaximize\u001b[0m\u001b[0;34m(\u001b[0m\u001b[0minit_points\u001b[0m\u001b[0;34m=\u001b[0m\u001b[0;36m20\u001b[0m\u001b[0;34m,\u001b[0m \u001b[0mn_iter\u001b[0m\u001b[0;34m=\u001b[0m\u001b[0;36m50\u001b[0m\u001b[0;34m)\u001b[0m\u001b[0;34m\u001b[0m\u001b[0;34m\u001b[0m\u001b[0m\n\u001b[0m\u001b[1;32m     13\u001b[0m \u001b[0;31m#####################################################################################################################\u001b[0m\u001b[0;34m\u001b[0m\u001b[0;34m\u001b[0m\u001b[0;34m\u001b[0m\u001b[0m\n\u001b[1;32m     14\u001b[0m \u001b[0;31m#####    |  target   |   alpha   |   col_k   |  col_k1   |   m_lr    | m_max_... | m_n_es... | m_subs... |\u001b[0m\u001b[0;34m\u001b[0m\u001b[0;34m\u001b[0m\u001b[0;34m\u001b[0m\u001b[0m\n",
      "\u001b[0;32m/opt/conda/envs/rapids/lib/python3.7/site-packages/bayes_opt/bayesian_optimization.py\u001b[0m in \u001b[0;36mmaximize\u001b[0;34m(self, init_points, n_iter, acq, kappa, kappa_decay, kappa_decay_delay, xi, **gp_params)\u001b[0m\n\u001b[1;32m    183\u001b[0m                 \u001b[0miteration\u001b[0m \u001b[0;34m+=\u001b[0m \u001b[0;36m1\u001b[0m\u001b[0;34m\u001b[0m\u001b[0;34m\u001b[0m\u001b[0m\n\u001b[1;32m    184\u001b[0m \u001b[0;34m\u001b[0m\u001b[0m\n\u001b[0;32m--> 185\u001b[0;31m             \u001b[0mself\u001b[0m\u001b[0;34m.\u001b[0m\u001b[0mprobe\u001b[0m\u001b[0;34m(\u001b[0m\u001b[0mx_probe\u001b[0m\u001b[0;34m,\u001b[0m \u001b[0mlazy\u001b[0m\u001b[0;34m=\u001b[0m\u001b[0;32mFalse\u001b[0m\u001b[0;34m)\u001b[0m\u001b[0;34m\u001b[0m\u001b[0;34m\u001b[0m\u001b[0m\n\u001b[0m\u001b[1;32m    186\u001b[0m \u001b[0;34m\u001b[0m\u001b[0m\n\u001b[1;32m    187\u001b[0m             \u001b[0;32mif\u001b[0m \u001b[0mself\u001b[0m\u001b[0;34m.\u001b[0m\u001b[0m_bounds_transformer\u001b[0m\u001b[0;34m:\u001b[0m\u001b[0;34m\u001b[0m\u001b[0;34m\u001b[0m\u001b[0m\n",
      "\u001b[0;32m/opt/conda/envs/rapids/lib/python3.7/site-packages/bayes_opt/bayesian_optimization.py\u001b[0m in \u001b[0;36mprobe\u001b[0;34m(self, params, lazy)\u001b[0m\n\u001b[1;32m    114\u001b[0m             \u001b[0mself\u001b[0m\u001b[0;34m.\u001b[0m\u001b[0m_queue\u001b[0m\u001b[0;34m.\u001b[0m\u001b[0madd\u001b[0m\u001b[0;34m(\u001b[0m\u001b[0mparams\u001b[0m\u001b[0;34m)\u001b[0m\u001b[0;34m\u001b[0m\u001b[0;34m\u001b[0m\u001b[0m\n\u001b[1;32m    115\u001b[0m         \u001b[0;32melse\u001b[0m\u001b[0;34m:\u001b[0m\u001b[0;34m\u001b[0m\u001b[0;34m\u001b[0m\u001b[0m\n\u001b[0;32m--> 116\u001b[0;31m             \u001b[0mself\u001b[0m\u001b[0;34m.\u001b[0m\u001b[0m_space\u001b[0m\u001b[0;34m.\u001b[0m\u001b[0mprobe\u001b[0m\u001b[0;34m(\u001b[0m\u001b[0mparams\u001b[0m\u001b[0;34m)\u001b[0m\u001b[0;34m\u001b[0m\u001b[0;34m\u001b[0m\u001b[0m\n\u001b[0m\u001b[1;32m    117\u001b[0m             \u001b[0mself\u001b[0m\u001b[0;34m.\u001b[0m\u001b[0mdispatch\u001b[0m\u001b[0;34m(\u001b[0m\u001b[0mEvents\u001b[0m\u001b[0;34m.\u001b[0m\u001b[0mOPTIMIZATION_STEP\u001b[0m\u001b[0;34m)\u001b[0m\u001b[0;34m\u001b[0m\u001b[0;34m\u001b[0m\u001b[0m\n\u001b[1;32m    118\u001b[0m \u001b[0;34m\u001b[0m\u001b[0m\n",
      "\u001b[0;32m/opt/conda/envs/rapids/lib/python3.7/site-packages/bayes_opt/target_space.py\u001b[0m in \u001b[0;36mprobe\u001b[0;34m(self, params)\u001b[0m\n\u001b[1;32m    192\u001b[0m         \u001b[0;32mexcept\u001b[0m \u001b[0mKeyError\u001b[0m\u001b[0;34m:\u001b[0m\u001b[0;34m\u001b[0m\u001b[0;34m\u001b[0m\u001b[0m\n\u001b[1;32m    193\u001b[0m             \u001b[0mparams\u001b[0m \u001b[0;34m=\u001b[0m \u001b[0mdict\u001b[0m\u001b[0;34m(\u001b[0m\u001b[0mzip\u001b[0m\u001b[0;34m(\u001b[0m\u001b[0mself\u001b[0m\u001b[0;34m.\u001b[0m\u001b[0m_keys\u001b[0m\u001b[0;34m,\u001b[0m \u001b[0mx\u001b[0m\u001b[0;34m)\u001b[0m\u001b[0;34m)\u001b[0m\u001b[0;34m\u001b[0m\u001b[0;34m\u001b[0m\u001b[0m\n\u001b[0;32m--> 194\u001b[0;31m             \u001b[0mtarget\u001b[0m \u001b[0;34m=\u001b[0m \u001b[0mself\u001b[0m\u001b[0;34m.\u001b[0m\u001b[0mtarget_func\u001b[0m\u001b[0;34m(\u001b[0m\u001b[0;34m**\u001b[0m\u001b[0mparams\u001b[0m\u001b[0;34m)\u001b[0m\u001b[0;34m\u001b[0m\u001b[0;34m\u001b[0m\u001b[0m\n\u001b[0m\u001b[1;32m    195\u001b[0m             \u001b[0mself\u001b[0m\u001b[0;34m.\u001b[0m\u001b[0mregister\u001b[0m\u001b[0;34m(\u001b[0m\u001b[0mx\u001b[0m\u001b[0;34m,\u001b[0m \u001b[0mtarget\u001b[0m\u001b[0;34m)\u001b[0m\u001b[0;34m\u001b[0m\u001b[0;34m\u001b[0m\u001b[0m\n\u001b[1;32m    196\u001b[0m         \u001b[0;32mreturn\u001b[0m \u001b[0mtarget\u001b[0m\u001b[0;34m\u001b[0m\u001b[0;34m\u001b[0m\u001b[0m\n",
      "\u001b[0;32m<ipython-input-23-b07ea7c7ad39>\u001b[0m in \u001b[0;36mh_opt\u001b[0;34m(alpha, m_n_estimator, m_lr, m_subsample, m_max_depth, col_k, col_k1)\u001b[0m\n\u001b[1;32m      6\u001b[0m                                 subsample=round(m_subsample,3), max_depth=round(m_max_depth), tree_method='gpu_hist', gpu_id=0)\n\u001b[1;32m      7\u001b[0m     \u001b[0;31m#model_ = KR(m_lr)\u001b[0m\u001b[0;34m\u001b[0m\u001b[0;34m\u001b[0m\u001b[0;34m\u001b[0m\u001b[0m\n\u001b[0;32m----> 8\u001b[0;31m     \u001b[0macc_\u001b[0m\u001b[0;34m,\u001b[0m \u001b[0macc_hat_\u001b[0m\u001b[0;34m,\u001b[0m \u001b[0m_\u001b[0m\u001b[0;34m,\u001b[0m \u001b[0m_\u001b[0m\u001b[0;34m,\u001b[0m \u001b[0m_\u001b[0m\u001b[0;34m,\u001b[0m \u001b[0m_\u001b[0m \u001b[0;34m=\u001b[0m \u001b[0mrun_model_2\u001b[0m\u001b[0;34m(\u001b[0m\u001b[0mmodel_\u001b[0m\u001b[0;34m,\u001b[0m \u001b[0md_set1\u001b[0m\u001b[0;34m,\u001b[0m \u001b[0;34m'Product'\u001b[0m\u001b[0;34m,\u001b[0m \u001b[0mweight_mat\u001b[0m\u001b[0;34m,\u001b[0m \u001b[0;36m201903\u001b[0m\u001b[0;34m,\u001b[0m \u001b[0;36m202043\u001b[0m\u001b[0;34m,\u001b[0m \u001b[0;36m202044\u001b[0m\u001b[0;34m,\u001b[0m \u001b[0;36m202051\u001b[0m\u001b[0;34m,\u001b[0m \u001b[0mround\u001b[0m\u001b[0;34m(\u001b[0m\u001b[0mcol_k\u001b[0m\u001b[0;34m)\u001b[0m\u001b[0;34m,\u001b[0m \u001b[0mround\u001b[0m\u001b[0;34m(\u001b[0m\u001b[0mcol_k1\u001b[0m\u001b[0;34m)\u001b[0m\u001b[0;34m)\u001b[0m  \u001b[0;31m# prev / var :\u001b[0m\u001b[0;34m\u001b[0m\u001b[0;34m\u001b[0m\u001b[0m\n\u001b[0m\u001b[1;32m      9\u001b[0m     \u001b[0;32mreturn\u001b[0m \u001b[0macc_hat_\u001b[0m\u001b[0;34m\u001b[0m\u001b[0;34m\u001b[0m\u001b[0m\n\u001b[1;32m     10\u001b[0m \u001b[0;34m\u001b[0m\u001b[0m\n",
      "\u001b[0;32m<ipython-input-18-706479b2752d>\u001b[0m in \u001b[0;36mrun_model_2\u001b[0;34m(m_, x_dta, target_key, wt_mat, tr_s_day, tr_e_day, te_s_day, te_e_day, col_k, col_k1)\u001b[0m\n\u001b[1;32m     56\u001b[0m                 \u001b[0mvar_x\u001b[0m \u001b[0;34m=\u001b[0m \u001b[0mx_dta_re\u001b[0m\u001b[0;34m[\u001b[0m\u001b[0mtmp_x_col1\u001b[0m\u001b[0;34m[\u001b[0m\u001b[0;34m:\u001b[0m\u001b[0mcol_k1\u001b[0m\u001b[0;34m]\u001b[0m\u001b[0;34m]\u001b[0m\u001b[0;34m.\u001b[0m\u001b[0miloc\u001b[0m\u001b[0;34m[\u001b[0m\u001b[0mi\u001b[0m\u001b[0;34m]\u001b[0m\u001b[0;34m\u001b[0m\u001b[0;34m\u001b[0m\u001b[0m\n\u001b[1;32m     57\u001b[0m                 \u001b[0mte_x_\u001b[0m \u001b[0;34m=\u001b[0m \u001b[0mnp\u001b[0m\u001b[0;34m.\u001b[0m\u001b[0marray\u001b[0m\u001b[0;34m(\u001b[0m\u001b[0mprev_x\u001b[0m\u001b[0;34m+\u001b[0m\u001b[0mlist\u001b[0m\u001b[0;34m(\u001b[0m\u001b[0mvar_x\u001b[0m\u001b[0;34m)\u001b[0m\u001b[0;34m)\u001b[0m\u001b[0;34m.\u001b[0m\u001b[0mreshape\u001b[0m\u001b[0;34m(\u001b[0m\u001b[0;36m1\u001b[0m\u001b[0;34m,\u001b[0m\u001b[0;34m-\u001b[0m\u001b[0;36m1\u001b[0m\u001b[0;34m)\u001b[0m\u001b[0;34m\u001b[0m\u001b[0;34m\u001b[0m\u001b[0m\n\u001b[0;32m---> 58\u001b[0;31m                 \u001b[0mtmp_y_hat_\u001b[0m \u001b[0;34m=\u001b[0m \u001b[0mm_\u001b[0m\u001b[0;34m.\u001b[0m\u001b[0mpredict\u001b[0m\u001b[0;34m(\u001b[0m\u001b[0mte_x_\u001b[0m\u001b[0;34m)\u001b[0m\u001b[0;34m[\u001b[0m\u001b[0;36m0\u001b[0m\u001b[0;34m]\u001b[0m\u001b[0;34m[\u001b[0m\u001b[0;36m0\u001b[0m\u001b[0;34m]\u001b[0m \u001b[0;31m#\u001b[0m\u001b[0;34m\u001b[0m\u001b[0;34m\u001b[0m\u001b[0m\n\u001b[0m\u001b[1;32m     59\u001b[0m                 \u001b[0mhat_\u001b[0m\u001b[0;34m.\u001b[0m\u001b[0mappend\u001b[0m\u001b[0;34m(\u001b[0m\u001b[0mtmp_y_hat_\u001b[0m\u001b[0;34m)\u001b[0m\u001b[0;34m\u001b[0m\u001b[0;34m\u001b[0m\u001b[0m\n\u001b[1;32m     60\u001b[0m                 \u001b[0mprev_x\u001b[0m \u001b[0;34m=\u001b[0m \u001b[0;34m(\u001b[0m\u001b[0mlist\u001b[0m\u001b[0;34m(\u001b[0m\u001b[0;34m[\u001b[0m\u001b[0mtmp_y_hat_\u001b[0m\u001b[0;34m]\u001b[0m\u001b[0;34m)\u001b[0m \u001b[0;34m+\u001b[0m \u001b[0mprev_x\u001b[0m\u001b[0;34m)\u001b[0m\u001b[0;34m[\u001b[0m\u001b[0;34m:\u001b[0m\u001b[0mcol_k\u001b[0m\u001b[0;34m]\u001b[0m\u001b[0;34m\u001b[0m\u001b[0;34m\u001b[0m\u001b[0m\n",
      "\u001b[0;31mIndexError\u001b[0m: invalid index to scalar variable."
     ]
    }
   ],
   "source": [
    "warnings.filterwarnings(action='ignore', category=UserWarning)\n",
    "param_bound = {'alpha' : (0.9,0.99) , 'm_n_estimator' : (10, 100), 'm_lr' : (0.01, 0.4), 'm_subsample' : (0.4, 0.9), 'm_max_depth' : (3,9), 'col_k' : (1,13), 'col_k1' : (1,13)}\n",
    "def h_opt(alpha, m_n_estimator, m_lr, m_subsample, m_max_depth, col_k, col_k1):\n",
    "    weight_mat = list(map(lambda x : round(alpha,3)**x if x > 0 else 1, range(0,12)))    #\n",
    "    model_=xgboost.XGBRegressor(n_estimators=round(m_n_estimator), learning_rate=round(m_lr,3),\n",
    "                                subsample=round(m_subsample,3), max_depth=round(m_max_depth), tree_method='gpu_hist', gpu_id=0)\n",
    "    #model_ = KR(m_lr)\n",
    "    acc_, acc_hat_, _, _, _, _ = run_model_2(model_, d_set1, 'Product', weight_mat, 201903, 202043, 202044, 202051, round(col_k), round(col_k1))  # prev / var : \n",
    "    return acc_hat_    \n",
    "\n",
    "product_optimizer = BayesianOptimization(f=h_opt, pbounds=param_bound, verbose=2, random_state=1)\n",
    "product_optimizer.maximize(init_points=20, n_iter=50)\n",
    "#####################################################################################################################\n",
    "#####    |  target   |   alpha   |   col_k   |  col_k1   |   m_lr    | m_max_... | m_n_es... | m_subs... |\n",
    "#####    |  89.24    |  0.01     |  1.0      |  2.788    |  0.01     |  5.659    |  80.31    |  0.4      | => weight 1, Prev & Var sale\n",
    "#####   |  88.67    |  0.99     |  1.0      |  1.0      |  0.01     |  3.0      |  82.61    |  0.9      | => KR\n",
    "#####   |  89.5     |  0.02763  |  2.278    |  1.572    |  0.9655   |  8.61     |  10.1     |  0.8746   |  => alpah & m_lr"
   ]
  },
  {
   "cell_type": "code",
   "execution_count": null,
   "id": "070aa20e",
   "metadata": {},
   "outputs": [],
   "source": []
  },
  {
   "cell_type": "code",
   "execution_count": null,
   "id": "77c04feb",
   "metadata": {},
   "outputs": [],
   "source": []
  }
 ],
 "metadata": {
  "kernelspec": {
   "display_name": "Python 3",
   "language": "python",
   "name": "python3"
  },
  "language_info": {
   "codemirror_mode": {
    "name": "ipython",
    "version": 3
   },
   "file_extension": ".py",
   "mimetype": "text/x-python",
   "name": "python",
   "nbconvert_exporter": "python",
   "pygments_lexer": "ipython3",
   "version": "3.7.10"
  }
 },
 "nbformat": 4,
 "nbformat_minor": 5
}
