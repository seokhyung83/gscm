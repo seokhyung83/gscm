{
 "cells": [
  {
   "cell_type": "code",
   "execution_count": 1,
   "id": "veterinary-wesley",
   "metadata": {},
   "outputs": [],
   "source": [
    "import os, random, time\n",
    "import xgboost\n",
    "import datetime\n",
    "import pygam\n",
    "import numpy as np\n",
    "import pandas as pd\n",
    "import matplotlib.pyplot as plt\n",
    "\n",
    "#from fbprophet import Prophet\n",
    "from sklearn.linear_model import LinearRegression as LR\n",
    "from sklearn.metrics import r2_score"
   ]
  },
  {
   "cell_type": "code",
   "execution_count": 2,
   "id": "digital-jurisdiction",
   "metadata": {},
   "outputs": [],
   "source": [
    "y_inven = pd.read_csv('./E61D_Inven.csv')\n",
    "x_sales = pd.read_csv('./E61D_Sale.csv')\n",
    "x_product = pd.read_csv('./E61D_Product.csv')\n",
    "d_set = pd.merge(pd.merge(y_inven, x_sales, how='inner', left_on='Week', right_on='WW'),\n",
    "                            x_product, how='inner', left_on='WW', right_on='Plan Week')\n",
    "d_set = d_set.sort_values(by='Week')"
   ]
  },
  {
   "cell_type": "code",
   "execution_count": null,
   "id": "crucial-access",
   "metadata": {},
   "outputs": [],
   "source": [
    "#base_dt = list(set(y_inven['Week']) & set(x_sales['WW']) & set(x_product['Plan Week']))"
   ]
  },
  {
   "cell_type": "code",
   "execution_count": 3,
   "id": "temporal-rebecca",
   "metadata": {
    "scrolled": true
   },
   "outputs": [
    {
     "data": {
      "text/plain": [
       "Index(['Week', '5xxx', '3xxC', '3xxT', 'Inven', 'WW_x', 'Sale', 'Var_Sale_1',\n",
       "       'Var_Sale_2', 'Var_Sale_3', 'Var_Sale_4', 'Var_Sale_5', 'Var_Sale_6',\n",
       "       'Var_Sale_7', 'Var_Sale_8', 'Var_Sale_9', 'Var_Sale_10', 'Var_Sale_11',\n",
       "       'Var_Sale_12', 'Post_Sale_1', 'Post_Sale_2', 'Post_Sale_3',\n",
       "       'Post_Sale_4', 'Post_Sale_5', 'Post_Sale_6', 'Post_Sale_7',\n",
       "       'Post_Sale_8', 'Post_Sale_9', 'Post_Sale_10', 'Post_Sale_11',\n",
       "       'Post_Sale_12', 'Prev_Sale_1', 'Prev_Sale_2', 'Prev_Sale_3',\n",
       "       'Prev_Sale_4', 'Prev_Sale_5', 'Prev_Sale_6', 'Prev_Sale_7',\n",
       "       'Prev_Sale_8', 'Prev_Sale_9', 'Prev_Sale_10', 'Prev_Sale_11',\n",
       "       'Prev_Sale_12', 'Plan Week', 'Product', 'Var_Product_1',\n",
       "       'Var_Product_2', 'Var_Product_3', 'Var_Product_4', 'Var_Product_5',\n",
       "       'Var_Product_6', 'Var_Product_7', 'Var_Product_8', 'Var_Product_9',\n",
       "       'Var_Product_10', 'Var_Product_11', 'Var_Product_12', 'WW_x',\n",
       "       'Post_Product_1', 'Post_Product_2', 'Post_Product_3', 'Post_Product_4',\n",
       "       'Post_Product_5', 'Post_Product_6', 'Post_Product_7', 'Post_Product_8',\n",
       "       'Post_Product_9', 'Post_Product_10', 'Post_Product_11',\n",
       "       'Post_Product_12', 'WW_y', 'Prev_Product_1', 'Prev_Product_2',\n",
       "       'Prev_Product_3', 'Prev_Product_4', 'Prev_Product_5', 'Prev_Product_6',\n",
       "       'Prev_Product_7', 'Prev_Product_8', 'Prev_Product_9', 'Prev_Product_10',\n",
       "       'Prev_Product_11', 'Prev_Product_12', 'WW_y'],\n",
       "      dtype='object')"
      ]
     },
     "execution_count": 3,
     "metadata": {},
     "output_type": "execute_result"
    }
   ],
   "source": [
    "d_set.columns"
   ]
  },
  {
   "cell_type": "code",
   "execution_count": null,
   "id": "delayed-principal",
   "metadata": {},
   "outputs": [],
   "source": []
  }
 ],
 "metadata": {
  "kernelspec": {
   "display_name": "Python 3",
   "language": "python",
   "name": "python3"
  },
  "language_info": {
   "codemirror_mode": {
    "name": "ipython",
    "version": 3
   },
   "file_extension": ".py",
   "mimetype": "text/x-python",
   "name": "python",
   "nbconvert_exporter": "python",
   "pygments_lexer": "ipython3",
   "version": "3.7.10"
  }
 },
 "nbformat": 4,
 "nbformat_minor": 5
}
