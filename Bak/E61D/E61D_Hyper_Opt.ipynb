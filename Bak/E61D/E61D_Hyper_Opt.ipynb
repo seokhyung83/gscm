{
 "cells": [
  {
   "cell_type": "code",
   "execution_count": 1,
   "id": "a68d8828",
   "metadata": {},
   "outputs": [],
   "source": [
    "import os, random, time\n",
    "import xgboost\n",
    "import datetime\n",
    "import pygam\n",
    "import numpy as np\n",
    "import pandas as pd\n",
    "import matplotlib.pyplot as plt\n",
    "from bayes_opt import BayesianOptimization\n",
    "#from fbprophet import Prophet\n",
    "from sklearn.linear_model import LinearRegression as LR\n",
    "from sklearn.kernel_ridge import KernelRidge as KR\n",
    "from sklearn.linear_model import Ridge, ElasticNet, BayesianRidge, Lars, Lasso\n",
    "from sklearn.ensemble import RandomForestRegressor as RF\n",
    "\n",
    "from sklearn.metrics import r2_score\n",
    "from sklearn.gaussian_process import GaussianProcessRegressor as gpr\n",
    "from sklearn.gaussian_process.kernels import WhiteKernel, ConstantKernel as C, RBF\n",
    "import warnings"
   ]
  },
  {
   "cell_type": "code",
   "execution_count": 2,
   "id": "ba0ee937",
   "metadata": {},
   "outputs": [],
   "source": [
    "y_inven = pd.read_csv('./E61D_Inven.csv')\n",
    "x_sales = pd.read_csv('./E61D_Sale.csv')\n",
    "x_product = pd.read_csv('./E61D_Product.csv')\n",
    "d_set = pd.merge(pd.merge(y_inven, x_sales, how='left', on='Week'), x_product, how='left', on='Week')\n",
    "d_set = d_set.drop(columns=['5xxx', '3xxC', '3xxT'])\n",
    "d_set[d_set < -1000] = 0\n",
    "#d_set_log = d_set.copy()\n",
    "#d_set_log[d_set < 0] = 0\n",
    "#d_set.to_csv('data_0506.csv', index=False)\n",
    "\n",
    "rm_week = [201952, 202001, 202052, 202053, 202101]\n",
    "rm_index = [i for i,s in enumerate(d_set['Week']) if s not in rm_week]\n",
    "d_set1 = d_set.loc[rm_index]\n",
    "d_set1 = d_set1.reset_index(drop=True)\n",
    "#print(d_set.shape)\n",
    "#d_set1.to_csv('data_0506.csv', index=False)"
   ]
  },
  {
   "cell_type": "code",
   "execution_count": null,
   "id": "8b609ed0",
   "metadata": {},
   "outputs": [],
   "source": []
  },
  {
   "cell_type": "code",
   "execution_count": 30,
   "id": "f985a83a",
   "metadata": {},
   "outputs": [],
   "source": [
    "def run_model_1(m_, x_dta, wt_mat, t_col_k, s_col_k, p_col_k, tr_s_day, tr_e_day, te_s_day=None, te_e_day=None):    \n",
    "    tr_time = np.array([tr_s_day, tr_e_day])\n",
    "    te_time = np.array([te_s_day, te_e_day])\n",
    "    s_ind, e_ind = np.where(tr_time[0] == x_dta['Week'])[0][0], np.where(tr_time[1] == x_dta['Week'])[0][0]\n",
    "    te_s_ind, te_e_ind = np.where(te_time[0] == x_dta['Week'])[0][0], np.where(te_time[1] == x_dta['Week'])[0][0]\n",
    "\n",
    "    target_col = [s for s in x_dta.columns.values if 'Inven' == s]\n",
    "    week_col = [s for s in x_dta.columns.values if 'Week' in s]\n",
    "\n",
    "    prev_target_col = [s for s in x_dta.columns.values if 'Prev_Inven' in s]\n",
    "    var_sale_col = [s for s in x_dta.columns.values if 'Var_Sale' in s]\n",
    "    var_product_col = [s for s in x_dta.columns.values if 'Var_Product' in s]\n",
    "    sale_col = [s for s in x_dta.columns.values if 'Sale' == s]\n",
    "    product_col = [s for s in x_dta.columns.values if 'Product' == s]\n",
    "\n",
    "    tmp_x_set1, tmp_x_set2, tmp_x_set3 = x_dta[prev_target_col], x_dta[var_sale_col], x_dta[var_product_col]    \n",
    "    tmp_x_set1 = np.multiply(tmp_x_set1, np.tile([wt_mat[:tmp_x_set1.shape[1]]], tmp_x_set1.shape[0]).reshape(tmp_x_set1.shape[0], -1)).copy()\n",
    "    tmp_x_set2 = np.multiply(tmp_x_set2, np.tile([wt_mat], tmp_x_set2.shape[0]).reshape(tmp_x_set2.shape[0], -1)).copy()\n",
    "    tmp_x_set3 = np.multiply(tmp_x_set3, np.tile([wt_mat], tmp_x_set3.shape[0]).reshape(tmp_x_set3.shape[0], -1)).copy()\n",
    "\n",
    "    tmp_x_set1_re = tmp_x_set1.iloc[:,:t_col_k]\n",
    "    tmp_x_set2_re = tmp_x_set2.iloc[:,:s_col_k]\n",
    "    tmp_x_set3_re = tmp_x_set3.iloc[:,:p_col_k]\n",
    "\n",
    "    x_dta_re = pd.concat([x_dta[list(week_col+target_col+sale_col+product_col)], tmp_x_set1_re, tmp_x_set2_re, tmp_x_set3_re], axis=1)\n",
    "\n",
    "    train_set = x_dta_re.iloc[s_ind:e_ind, :]\n",
    "    test_set = x_dta_re.iloc[te_s_ind:(te_e_ind+1), :]#.copy()\n",
    "\n",
    "    tr_x_set = train_set[list(prev_target_col[:t_col_k]+sale_col+var_sale_col[:s_col_k]+product_col+var_product_col[:p_col_k])]\n",
    "    tr_y_set = np.array(train_set[target_col]).reshape(-1,1)\n",
    "    te_x_set = test_set[list(prev_target_col[:t_col_k]+sale_col+var_sale_col[:s_col_k]+product_col+var_product_col[:p_col_k])]\n",
    "    te_y_set = np.array(test_set[target_col]).reshape(-1,1)\n",
    "\n",
    "\n",
    "    m_.fit(tr_x_set, tr_y_set)\n",
    "    hat_prev_ = m_.predict(tr_x_set)\n",
    "    if len(np.shape(hat_prev_)) == 1:\n",
    "        hat_prev_ = hat_prev_.reshape(-1,1)\n",
    "\n",
    "    real_ = np.mean(np.ones_like(tr_y_set) - np.clip(np.abs(tr_y_set - hat_prev_) / tr_y_set , 0, 1)) * 100   \n",
    "\n",
    "    hat_ = []\n",
    "    prev_x = list(map(lambda j : x_dta_re['Inven'].iloc[te_s_ind-j], range(1, t_col_k+1)))\n",
    "    for i in range(0, te_x_set.shape[0]):    \n",
    "        var_x = te_x_set[list(sale_col+var_sale_col[:s_col_k]+product_col+var_product_col[:p_col_k])].iloc[i,:]\n",
    "        te_x_ = np.array(prev_x+list(var_x)).reshape(1,-1)    \n",
    "        tmp_y_hat_ = m_.predict(te_x_)\n",
    "        if len(np.shape(tmp_y_hat_)) > 1:\n",
    "            tmp_y_hat_ = tmp_y_hat_.reshape(-1, )            \n",
    "        prev_x = (list(tmp_y_hat_) + prev_x)[:t_col_k]\n",
    "#            if len(np.shape(tmp_y_hat_)) == 1:\n",
    "#                tmp_y_hat_ = tmp_y_hat_.reshape(-1,1)        \n",
    "        hat_.append(tmp_y_hat_)\n",
    "    Y_hat_ = np.concatenate((hat_prev_, hat_)) #hat_))#    \n",
    "    Y_     = np.concatenate((tr_y_set, te_y_set))\n",
    "    fcst_ = np.mean(np.ones_like(te_y_set) - np.clip(np.abs(te_y_set - hat_[0]) / te_y_set , 0, 1)) * 100    \n",
    "    return real_, fcst_, Y_, Y_hat_, hat_prev_, hat_"
   ]
  },
  {
   "cell_type": "code",
   "execution_count": 32,
   "id": "8ddc427d",
   "metadata": {},
   "outputs": [],
   "source": [
    "def run_model_2(m_, x_dta, target_key, wt_mat, tr_s_day, tr_e_day, te_s_day=None, te_e_day=None, col_k=None, col_k1=None):    \n",
    "    \n",
    "    tr_time = np.array([tr_s_day, tr_e_day])\n",
    "    te_time = np.array([te_s_day, te_e_day])\n",
    "    s_ind, e_ind = np.where(tr_time[0] == x_dta['Week'])[0][0], np.where(tr_time[1] == x_dta['Week'])[0][0]\n",
    "    te_s_ind, te_e_ind = np.where(te_time[0] == x_dta['Week'])[0][0], np.where(te_time[1] == x_dta['Week'])[0][0]\n",
    "\n",
    "    target_col = [s for s in x_dta.columns.values if target_key == s]    \n",
    "    tmp_x_col = [s for s in x_dta.columns.values if 'Prev_'+target_key in s]\n",
    "    tmp_x_col1 = [s for s in x_dta.columns.values if 'Var_'+target_key in s]\n",
    "    week_col = [s for s in x_dta.columns.values if 'Week' in s]\n",
    "\n",
    "    tmp_x_set1, tmp_x_set2 = x_dta[tmp_x_col], x_dta[tmp_x_col1]\n",
    "    tmp_x_set1 = np.multiply(tmp_x_set1, np.tile([wt_mat], tmp_x_set1.shape[0]).reshape(tmp_x_set1.shape[0], -1)).copy()\n",
    "    tmp_x_set2 = np.multiply(tmp_x_set2, np.tile([wt_mat], tmp_x_set2.shape[0]).reshape(tmp_x_set2.shape[0], -1)).copy()\n",
    "\n",
    "    if target_key == 'Product':\n",
    "        tmp_x_set1_re = tmp_x_set1.iloc[:,:col_k]\n",
    "        tmp_x_set2_re = tmp_x_set2.iloc[:,:col_k1]\n",
    "        x_dta_re = pd.concat([x_dta[list(week_col+target_col)], tmp_x_set1_re, tmp_x_set2_re], axis=1)\n",
    "        train_col = list(tmp_x_col[:col_k]+tmp_x_col1[:col_k1])    \n",
    "    elif target_key == 'Sale':\n",
    "        tmp_x_set2_re = tmp_x_set2.iloc[:,:col_k1]\n",
    "        x_dta_re = pd.concat([x_dta[list(week_col+target_col)], tmp_x_set2_re], axis=1)\n",
    "        train_col = list(tmp_x_col1[:col_k1])\n",
    "\n",
    "\n",
    "    train_set = x_dta_re.iloc[s_ind:e_ind, :]\n",
    "    test_set = x_dta_re.iloc[te_s_ind:(te_e_ind+1), :]#.copy()\n",
    "\n",
    "    tr_x_set = train_set[train_col]\n",
    "    tr_y_set = np.array(train_set[target_col]).reshape(-1,1)\n",
    "    te_x_set = test_set[train_col]\n",
    "    te_y_set = np.array(test_set[target_col]).reshape(-1,1)\n",
    "\n",
    "    m_.fit(tr_x_set, tr_y_set)\n",
    "    hat_prev_ = m_.predict(tr_x_set)\n",
    "    if len(np.shape(hat_prev_)) == 1:\n",
    "        hat_prev_ = hat_prev_.reshape(-1,1)\n",
    "\n",
    "    real_ = np.mean(np.ones_like(tr_y_set) - np.clip(np.abs(tr_y_set - hat_prev_) / tr_y_set , 0, 1)) * 100    \n",
    "    #if len(tr_y_set) > 0 :\n",
    "    #    tmp_y_id_ = np.where(tr_y_set!=0)[0]\n",
    "    #    real_ = np.mean(1- np.abs(tr_y_set[tmp_y_id_] - hat_prev_[tmp_y_id_]) / np.abs(tr_y_set[tmp_y_id_])) * 100\n",
    "    #else:\n",
    "    #    real_ = np.mean(1- np.abs(tr_y_set - hat_prev_) / np.abs(tr_y_set)) * 100     \n",
    "\n",
    "\n",
    "    hat_ = []\n",
    "    if target_key == 'Product':\n",
    "        prev_x = list(map(lambda j : x_dta_re[target_key].iloc[te_s_ind-j], range(1, col_k+1)))\n",
    "        for i in range(0, te_x_set.shape[0]):    \n",
    "            var_x = te_x_set[tmp_x_col1[:col_k1]].iloc[i, :]        \n",
    "            te_x_ = np.array(prev_x+list(var_x)).reshape(1,-1)    \n",
    "            #print(te_x_.shape)\n",
    "            tmp_y_hat_ = m_.predict(te_x_)\n",
    "            if len(np.shape(tmp_y_hat_)) > 1:\n",
    "                tmp_y_hat_ = tmp_y_hat_.reshape(-1, )            \n",
    "            prev_x = (list(tmp_y_hat_) + prev_x)[:col_k]\n",
    "#            if len(np.shape(tmp_y_hat_)) == 1:\n",
    "#                tmp_y_hat_ = tmp_y_hat_.reshape(-1,1)        \n",
    "            hat_.append(tmp_y_hat_)\n",
    "        Y_hat_ = np.concatenate((hat_prev_, hat_)) #hat_))#\n",
    "            \n",
    "    elif target_key == 'Sale':\n",
    "        tmp_y_hat_ = m_.predict(te_x_set)\n",
    "        if len(np.shape(tmp_y_hat_)) == 1:\n",
    "            tmp_y_hat_ = tmp_y_hat_.reshape(-1, 1)             \n",
    "        hat_.append(tmp_y_hat_) \n",
    "        Y_hat_ = np.concatenate((hat_prev_, hat_[0])) #hat_))#\n",
    "    \n",
    "    Y_     = np.concatenate((tr_y_set, te_y_set))\n",
    "    fcst_ = np.mean(np.ones_like(te_y_set) - np.clip(np.abs(te_y_set - hat_[0]) / te_y_set , 0, 1)) * 100    \n",
    "    return real_, fcst_, Y_, Y_hat_, hat_prev_, hat_"
   ]
  },
  {
   "cell_type": "code",
   "execution_count": 36,
   "id": "0ee96a8d",
   "metadata": {},
   "outputs": [
    {
     "name": "stdout",
     "output_type": "stream",
     "text": [
      "|   iter    |  target   |   alpha   |   m_lr    | m_max_... | m_n_es... | m_subs... |  p_col_k  |  s_col_k  |  t_col_k  |\n",
      "-------------------------------------------------------------------------------------------------------------------------\n",
      "| \u001b[0m 1       \u001b[0m | \u001b[0m 60.18   \u001b[0m | \u001b[0m 0.9084  \u001b[0m | \u001b[0m 0.7159  \u001b[0m | \u001b[0m 3.001   \u001b[0m | \u001b[0m 37.21   \u001b[0m | \u001b[0m 0.5587  \u001b[0m | \u001b[0m 2.053   \u001b[0m | \u001b[0m 3.123   \u001b[0m | \u001b[0m 3.557   \u001b[0m |\n",
      "| \u001b[0m 2       \u001b[0m | \u001b[0m 59.21   \u001b[0m | \u001b[0m 0.9055  \u001b[0m | \u001b[0m 0.538   \u001b[0m | \u001b[0m 5.515   \u001b[0m | \u001b[0m 71.67   \u001b[0m | \u001b[0m 0.5818  \u001b[0m | \u001b[0m 11.01   \u001b[0m | \u001b[0m 1.312   \u001b[0m | \u001b[0m 5.961   \u001b[0m |\n",
      "| \u001b[0m 3       \u001b[0m | \u001b[0m 57.18   \u001b[0m | \u001b[0m 0.9084  \u001b[0m | \u001b[0m 0.5575  \u001b[0m | \u001b[0m 3.842   \u001b[0m | \u001b[0m 27.83   \u001b[0m | \u001b[0m 0.8203  \u001b[0m | \u001b[0m 12.04   \u001b[0m | \u001b[0m 4.573   \u001b[0m | \u001b[0m 6.123   \u001b[0m |\n",
      "| \u001b[0m 4       \u001b[0m | \u001b[0m 57.58   \u001b[0m | \u001b[0m 0.9727  \u001b[0m | \u001b[0m 0.8867  \u001b[0m | \u001b[0m 3.51    \u001b[0m | \u001b[0m 13.51   \u001b[0m | \u001b[0m 0.5679  \u001b[0m | \u001b[0m 11.01   \u001b[0m | \u001b[0m 2.121   \u001b[0m | \u001b[0m 4.116   \u001b[0m |\n",
      "| \u001b[0m 5       \u001b[0m | \u001b[0m 58.97   \u001b[0m | \u001b[0m 0.9841  \u001b[0m | \u001b[0m 0.5325  \u001b[0m | \u001b[0m 7.151   \u001b[0m | \u001b[0m 38.4    \u001b[0m | \u001b[0m 0.7746  \u001b[0m | \u001b[0m 10.51   \u001b[0m | \u001b[0m 1.208   \u001b[0m | \u001b[0m 6.551   \u001b[0m |\n",
      "| \u001b[0m 6       \u001b[0m | \u001b[0m 33.95   \u001b[0m | \u001b[0m 0.9884  \u001b[0m | \u001b[0m 0.7432  \u001b[0m | \u001b[0m 4.683   \u001b[0m | \u001b[0m 81.04   \u001b[0m | \u001b[0m 0.5413  \u001b[0m | \u001b[0m 6.106   \u001b[0m | \u001b[0m 11.36   \u001b[0m | \u001b[0m 3.173   \u001b[0m |\n",
      "| \u001b[0m 7       \u001b[0m | \u001b[0m 57.8    \u001b[0m | \u001b[0m 0.8903  \u001b[0m | \u001b[0m 0.1374  \u001b[0m | \u001b[0m 3.116   \u001b[0m | \u001b[0m 71.1    \u001b[0m | \u001b[0m 0.5847  \u001b[0m | \u001b[0m 4.027   \u001b[0m | \u001b[0m 6.604   \u001b[0m | \u001b[0m 1.395   \u001b[0m |\n",
      "| \u001b[95m 8       \u001b[0m | \u001b[95m 65.11   \u001b[0m | \u001b[95m 0.9304  \u001b[0m | \u001b[95m 0.1538  \u001b[0m | \u001b[95m 6.536   \u001b[0m | \u001b[95m 72.98   \u001b[0m | \u001b[95m 0.5409  \u001b[0m | \u001b[95m 5.72    \u001b[0m | \u001b[95m 8.916   \u001b[0m | \u001b[95m 4.065   \u001b[0m |\n",
      "| \u001b[0m 9       \u001b[0m | \u001b[0m 51.59   \u001b[0m | \u001b[0m 0.857   \u001b[0m | \u001b[0m 0.5352  \u001b[0m | \u001b[0m 6.983   \u001b[0m | \u001b[0m 56.34   \u001b[0m | \u001b[0m 0.8778  \u001b[0m | \u001b[0m 7.687   \u001b[0m | \u001b[0m 11.3    \u001b[0m | \u001b[0m 2.017   \u001b[0m |\n",
      "| \u001b[0m 10      \u001b[0m | \u001b[0m 60.56   \u001b[0m | \u001b[0m 0.8695  \u001b[0m | \u001b[0m 0.8012  \u001b[0m | \u001b[0m 5.386   \u001b[0m | \u001b[0m 24.88   \u001b[0m | \u001b[0m 0.871   \u001b[0m | \u001b[0m 4.965   \u001b[0m | \u001b[0m 9.559   \u001b[0m | \u001b[0m 6.372   \u001b[0m |\n",
      "| \u001b[0m 11      \u001b[0m | \u001b[0m 53.45   \u001b[0m | \u001b[0m 0.9737  \u001b[0m | \u001b[0m 0.6212  \u001b[0m | \u001b[0m 7.506   \u001b[0m | \u001b[0m 41.4    \u001b[0m | \u001b[0m 0.608   \u001b[0m | \u001b[0m 11.21   \u001b[0m | \u001b[0m 5.88    \u001b[0m | \u001b[0m 8.14    \u001b[0m |\n",
      "| \u001b[0m 12      \u001b[0m | \u001b[0m 63.81   \u001b[0m | \u001b[0m 0.9429  \u001b[0m | \u001b[0m 0.6193  \u001b[0m | \u001b[0m 3.688   \u001b[0m | \u001b[0m 95.45   \u001b[0m | \u001b[0m 0.68    \u001b[0m | \u001b[0m 7.594   \u001b[0m | \u001b[0m 5.653   \u001b[0m | \u001b[0m 2.754   \u001b[0m |\n",
      "| \u001b[0m 13      \u001b[0m | \u001b[0m 53.21   \u001b[0m | \u001b[0m 0.9765  \u001b[0m | \u001b[0m 0.5722  \u001b[0m | \u001b[0m 3.017   \u001b[0m | \u001b[0m 65.54   \u001b[0m | \u001b[0m 0.6307  \u001b[0m | \u001b[0m 7.008   \u001b[0m | \u001b[0m 11.1    \u001b[0m | \u001b[0m 3.644   \u001b[0m |\n",
      "| \u001b[0m 14      \u001b[0m | \u001b[0m 50.68   \u001b[0m | \u001b[0m 0.9772  \u001b[0m | \u001b[0m 0.6209  \u001b[0m | \u001b[0m 3.095   \u001b[0m | \u001b[0m 93.65   \u001b[0m | \u001b[0m 0.7764  \u001b[0m | \u001b[0m 12.37   \u001b[0m | \u001b[0m 2.965   \u001b[0m | \u001b[0m 2.015   \u001b[0m |\n",
      "| \u001b[0m 15      \u001b[0m | \u001b[0m 40.07   \u001b[0m | \u001b[0m 0.9806  \u001b[0m | \u001b[0m 0.6929  \u001b[0m | \u001b[0m 3.396   \u001b[0m | \u001b[0m 77.99   \u001b[0m | \u001b[0m 0.8016  \u001b[0m | \u001b[0m 11.52   \u001b[0m | \u001b[0m 9.111   \u001b[0m | \u001b[0m 1.92    \u001b[0m |\n",
      "| \u001b[95m 16      \u001b[0m | \u001b[95m 79.23   \u001b[0m | \u001b[95m 0.8528  \u001b[0m | \u001b[95m 0.03569 \u001b[0m | \u001b[95m 3.17    \u001b[0m | \u001b[95m 32.16   \u001b[0m | \u001b[95m 0.844   \u001b[0m | \u001b[95m 7.143   \u001b[0m | \u001b[95m 7.302   \u001b[0m | \u001b[95m 7.231   \u001b[0m |\n",
      "| \u001b[0m 17      \u001b[0m | \u001b[0m 67.88   \u001b[0m | \u001b[0m 0.8674  \u001b[0m | \u001b[0m 0.2836  \u001b[0m | \u001b[0m 6.515   \u001b[0m | \u001b[0m 97.26   \u001b[0m | \u001b[0m 0.7244  \u001b[0m | \u001b[0m 1.213   \u001b[0m | \u001b[0m 10.13   \u001b[0m | \u001b[0m 2.724   \u001b[0m |\n",
      "| \u001b[0m 18      \u001b[0m | \u001b[0m 48.02   \u001b[0m | \u001b[0m 0.963   \u001b[0m | \u001b[0m 0.3901  \u001b[0m | \u001b[0m 8.181   \u001b[0m | \u001b[0m 77.24   \u001b[0m | \u001b[0m 0.7225  \u001b[0m | \u001b[0m 2.556   \u001b[0m | \u001b[0m 1.683   \u001b[0m | \u001b[0m 1.898   \u001b[0m |\n",
      "| \u001b[0m 19      \u001b[0m | \u001b[0m 64.66   \u001b[0m | \u001b[0m 0.8562  \u001b[0m | \u001b[0m 0.1153  \u001b[0m | \u001b[0m 4.354   \u001b[0m | \u001b[0m 74.17   \u001b[0m | \u001b[0m 0.7239  \u001b[0m | \u001b[0m 1.143   \u001b[0m | \u001b[0m 1.821   \u001b[0m | \u001b[0m 8.158   \u001b[0m |\n",
      "| \u001b[0m 20      \u001b[0m | \u001b[0m 55.59   \u001b[0m | \u001b[0m 0.9295  \u001b[0m | \u001b[0m 0.2092  \u001b[0m | \u001b[0m 4.514   \u001b[0m | \u001b[0m 76.94   \u001b[0m | \u001b[0m 0.5782  \u001b[0m | \u001b[0m 7.627   \u001b[0m | \u001b[0m 12.06   \u001b[0m | \u001b[0m 7.267   \u001b[0m |\n",
      "| \u001b[0m 21      \u001b[0m | \u001b[0m 74.98   \u001b[0m | \u001b[0m 0.8836  \u001b[0m | \u001b[0m 0.4939  \u001b[0m | \u001b[0m 6.72    \u001b[0m | \u001b[0m 84.61   \u001b[0m | \u001b[0m 0.5627  \u001b[0m | \u001b[0m 1.212   \u001b[0m | \u001b[0m 1.798   \u001b[0m | \u001b[0m 4.599   \u001b[0m |\n",
      "| \u001b[0m 22      \u001b[0m | \u001b[0m 46.43   \u001b[0m | \u001b[0m 0.9349  \u001b[0m | \u001b[0m 0.5675  \u001b[0m | \u001b[0m 4.904   \u001b[0m | \u001b[0m 98.98   \u001b[0m | \u001b[0m 0.7319  \u001b[0m | \u001b[0m 5.334   \u001b[0m | \u001b[0m 7.281   \u001b[0m | \u001b[0m 6.515   \u001b[0m |\n",
      "| \u001b[0m 23      \u001b[0m | \u001b[0m 52.55   \u001b[0m | \u001b[0m 0.9437  \u001b[0m | \u001b[0m 0.2696  \u001b[0m | \u001b[0m 3.398   \u001b[0m | \u001b[0m 43.31   \u001b[0m | \u001b[0m 0.7519  \u001b[0m | \u001b[0m 3.396   \u001b[0m | \u001b[0m 9.581   \u001b[0m | \u001b[0m 1.492   \u001b[0m |\n",
      "| \u001b[0m 24      \u001b[0m | \u001b[0m 43.32   \u001b[0m | \u001b[0m 0.8864  \u001b[0m | \u001b[0m 0.7987  \u001b[0m | \u001b[0m 4.161   \u001b[0m | \u001b[0m 67.55   \u001b[0m | \u001b[0m 0.7099  \u001b[0m | \u001b[0m 11.54   \u001b[0m | \u001b[0m 4.002   \u001b[0m | \u001b[0m 1.488   \u001b[0m |\n",
      "| \u001b[0m 25      \u001b[0m | \u001b[0m 54.93   \u001b[0m | \u001b[0m 0.9529  \u001b[0m | \u001b[0m 0.7667  \u001b[0m | \u001b[0m 8.447   \u001b[0m | \u001b[0m 93.88   \u001b[0m | \u001b[0m 0.5056  \u001b[0m | \u001b[0m 3.672   \u001b[0m | \u001b[0m 8.031   \u001b[0m | \u001b[0m 8.023   \u001b[0m |\n",
      "| \u001b[0m 26      \u001b[0m | \u001b[0m 75.99   \u001b[0m | \u001b[0m 0.983   \u001b[0m | \u001b[0m 0.5555  \u001b[0m | \u001b[0m 8.494   \u001b[0m | \u001b[0m 67.74   \u001b[0m | \u001b[0m 0.656   \u001b[0m | \u001b[0m 6.54    \u001b[0m | \u001b[0m 7.889   \u001b[0m | \u001b[0m 5.067   \u001b[0m |\n",
      "| \u001b[0m 27      \u001b[0m | \u001b[0m 63.3    \u001b[0m | \u001b[0m 0.9797  \u001b[0m | \u001b[0m 0.9104  \u001b[0m | \u001b[0m 5.369   \u001b[0m | \u001b[0m 96.69   \u001b[0m | \u001b[0m 0.5696  \u001b[0m | \u001b[0m 2.44    \u001b[0m | \u001b[0m 2.54    \u001b[0m | \u001b[0m 4.742   \u001b[0m |\n",
      "| \u001b[0m 28      \u001b[0m | \u001b[0m 39.46   \u001b[0m | \u001b[0m 0.853   \u001b[0m | \u001b[0m 0.939   \u001b[0m | \u001b[0m 7.963   \u001b[0m | \u001b[0m 11.35   \u001b[0m | \u001b[0m 0.5705  \u001b[0m | \u001b[0m 4.786   \u001b[0m | \u001b[0m 2.493   \u001b[0m | \u001b[0m 6.99    \u001b[0m |\n",
      "| \u001b[0m 29      \u001b[0m | \u001b[0m 70.79   \u001b[0m | \u001b[0m 0.8983  \u001b[0m | \u001b[0m 0.9313  \u001b[0m | \u001b[0m 6.492   \u001b[0m | \u001b[0m 89.09   \u001b[0m | \u001b[0m 0.8379  \u001b[0m | \u001b[0m 11.32   \u001b[0m | \u001b[0m 6.243   \u001b[0m | \u001b[0m 5.043   \u001b[0m |\n",
      "| \u001b[0m 30      \u001b[0m | \u001b[0m 66.99   \u001b[0m | \u001b[0m 0.9618  \u001b[0m | \u001b[0m 0.29    \u001b[0m | \u001b[0m 5.942   \u001b[0m | \u001b[0m 63.92   \u001b[0m | \u001b[0m 0.5062  \u001b[0m | \u001b[0m 7.766   \u001b[0m | \u001b[0m 5.944   \u001b[0m | \u001b[0m 6.974   \u001b[0m |\n",
      "| \u001b[0m 31      \u001b[0m | \u001b[0m 60.77   \u001b[0m | \u001b[0m 0.8555  \u001b[0m | \u001b[0m 0.247   \u001b[0m | \u001b[0m 3.681   \u001b[0m | \u001b[0m 31.02   \u001b[0m | \u001b[0m 0.8301  \u001b[0m | \u001b[0m 5.486   \u001b[0m | \u001b[0m 7.808   \u001b[0m | \u001b[0m 6.798   \u001b[0m |\n",
      "| \u001b[0m 32      \u001b[0m | \u001b[0m 37.17   \u001b[0m | \u001b[0m 0.9041  \u001b[0m | \u001b[0m 0.01    \u001b[0m | \u001b[0m 3.039   \u001b[0m | \u001b[0m 32.47   \u001b[0m | \u001b[0m 0.8222  \u001b[0m | \u001b[0m 7.776   \u001b[0m | \u001b[0m 7.021   \u001b[0m | \u001b[0m 6.491   \u001b[0m |\n",
      "| \u001b[0m 33      \u001b[0m | \u001b[0m 74.1    \u001b[0m | \u001b[0m 0.8896  \u001b[0m | \u001b[0m 0.83    \u001b[0m | \u001b[0m 3.115   \u001b[0m | \u001b[0m 28.06   \u001b[0m | \u001b[0m 0.6388  \u001b[0m | \u001b[0m 1.624   \u001b[0m | \u001b[0m 7.05    \u001b[0m | \u001b[0m 4.03    \u001b[0m |\n",
      "| \u001b[0m 34      \u001b[0m | \u001b[0m 62.01   \u001b[0m | \u001b[0m 0.9012  \u001b[0m | \u001b[0m 0.4698  \u001b[0m | \u001b[0m 6.224   \u001b[0m | \u001b[0m 33.88   \u001b[0m | \u001b[0m 0.8979  \u001b[0m | \u001b[0m 3.552   \u001b[0m | \u001b[0m 3.871   \u001b[0m | \u001b[0m 7.615   \u001b[0m |\n",
      "| \u001b[0m 35      \u001b[0m | \u001b[0m 75.09   \u001b[0m | \u001b[0m 0.868   \u001b[0m | \u001b[0m 0.03041 \u001b[0m | \u001b[0m 8.323   \u001b[0m | \u001b[0m 81.95   \u001b[0m | \u001b[0m 0.8211  \u001b[0m | \u001b[0m 6.373   \u001b[0m | \u001b[0m 10.42   \u001b[0m | \u001b[0m 5.444   \u001b[0m |\n",
      "| \u001b[0m 36      \u001b[0m | \u001b[0m 65.23   \u001b[0m | \u001b[0m 0.9836  \u001b[0m | \u001b[0m 0.5078  \u001b[0m | \u001b[0m 4.976   \u001b[0m | \u001b[0m 58.39   \u001b[0m | \u001b[0m 0.7365  \u001b[0m | \u001b[0m 7.3     \u001b[0m | \u001b[0m 8.247   \u001b[0m | \u001b[0m 7.515   \u001b[0m |\n",
      "| \u001b[0m 37      \u001b[0m | \u001b[0m 72.32   \u001b[0m | \u001b[0m 0.8628  \u001b[0m | \u001b[0m 0.4668  \u001b[0m | \u001b[0m 3.602   \u001b[0m | \u001b[0m 73.54   \u001b[0m | \u001b[0m 0.7057  \u001b[0m | \u001b[0m 6.554   \u001b[0m | \u001b[0m 12.19   \u001b[0m | \u001b[0m 2.466   \u001b[0m |\n",
      "| \u001b[0m 38      \u001b[0m | \u001b[0m 68.27   \u001b[0m | \u001b[0m 0.8615  \u001b[0m | \u001b[0m 0.2546  \u001b[0m | \u001b[0m 4.331   \u001b[0m | \u001b[0m 88.29   \u001b[0m | \u001b[0m 0.5914  \u001b[0m | \u001b[0m 5.739   \u001b[0m | \u001b[0m 5.331   \u001b[0m | \u001b[0m 8.028   \u001b[0m |\n",
      "| \u001b[0m 39      \u001b[0m | \u001b[0m 71.52   \u001b[0m | \u001b[0m 0.8838  \u001b[0m | \u001b[0m 0.8334  \u001b[0m | \u001b[0m 8.111   \u001b[0m | \u001b[0m 62.87   \u001b[0m | \u001b[0m 0.5793  \u001b[0m | \u001b[0m 2.265   \u001b[0m | \u001b[0m 9.211   \u001b[0m | \u001b[0m 5.6     \u001b[0m |\n",
      "| \u001b[0m 40      \u001b[0m | \u001b[0m 61.6    \u001b[0m | \u001b[0m 0.8926  \u001b[0m | \u001b[0m 0.5041  \u001b[0m | \u001b[0m 3.015   \u001b[0m | \u001b[0m 85.8    \u001b[0m | \u001b[0m 0.7891  \u001b[0m | \u001b[0m 3.64    \u001b[0m | \u001b[0m 1.469   \u001b[0m | \u001b[0m 6.651   \u001b[0m |\n",
      "| \u001b[0m 41      \u001b[0m | \u001b[0m 59.56   \u001b[0m | \u001b[0m 0.8712  \u001b[0m | \u001b[0m 0.3919  \u001b[0m | \u001b[0m 7.373   \u001b[0m | \u001b[0m 65.09   \u001b[0m | \u001b[0m 0.8923  \u001b[0m | \u001b[0m 3.289   \u001b[0m | \u001b[0m 7.209   \u001b[0m | \u001b[0m 1.857   \u001b[0m |\n",
      "| \u001b[0m 42      \u001b[0m | \u001b[0m 42.02   \u001b[0m | \u001b[0m 0.9405  \u001b[0m | \u001b[0m 0.8491  \u001b[0m | \u001b[0m 5.122   \u001b[0m | \u001b[0m 30.27   \u001b[0m | \u001b[0m 0.6925  \u001b[0m | \u001b[0m 6.215   \u001b[0m | \u001b[0m 11.42   \u001b[0m | \u001b[0m 4.049   \u001b[0m |\n",
      "| \u001b[0m 43      \u001b[0m | \u001b[0m 56.89   \u001b[0m | \u001b[0m 0.8951  \u001b[0m | \u001b[0m 0.1588  \u001b[0m | \u001b[0m 5.439   \u001b[0m | \u001b[0m 75.01   \u001b[0m | \u001b[0m 0.5176  \u001b[0m | \u001b[0m 4.551   \u001b[0m | \u001b[0m 2.681   \u001b[0m | \u001b[0m 1.206   \u001b[0m |\n",
      "| \u001b[0m 44      \u001b[0m | \u001b[0m 43.36   \u001b[0m | \u001b[0m 0.8723  \u001b[0m | \u001b[0m 0.6006  \u001b[0m | \u001b[0m 3.888   \u001b[0m | \u001b[0m 55.13   \u001b[0m | \u001b[0m 0.8189  \u001b[0m | \u001b[0m 9.614   \u001b[0m | \u001b[0m 7.278   \u001b[0m | \u001b[0m 2.888   \u001b[0m |\n",
      "| \u001b[0m 45      \u001b[0m | \u001b[0m 67.23   \u001b[0m | \u001b[0m 0.9083  \u001b[0m | \u001b[0m 0.1051  \u001b[0m | \u001b[0m 3.523   \u001b[0m | \u001b[0m 47.61   \u001b[0m | \u001b[0m 0.6219  \u001b[0m | \u001b[0m 9.085   \u001b[0m | \u001b[0m 1.677   \u001b[0m | \u001b[0m 2.094   \u001b[0m |\n",
      "| \u001b[0m 46      \u001b[0m | \u001b[0m 58.06   \u001b[0m | \u001b[0m 0.8927  \u001b[0m | \u001b[0m 0.4481  \u001b[0m | \u001b[0m 3.753   \u001b[0m | \u001b[0m 32.49   \u001b[0m | \u001b[0m 0.8589  \u001b[0m | \u001b[0m 2.037   \u001b[0m | \u001b[0m 9.354   \u001b[0m | \u001b[0m 5.96    \u001b[0m |\n",
      "| \u001b[0m 47      \u001b[0m | \u001b[0m 41.31   \u001b[0m | \u001b[0m 0.945   \u001b[0m | \u001b[0m 0.7365  \u001b[0m | \u001b[0m 8.236   \u001b[0m | \u001b[0m 66.62   \u001b[0m | \u001b[0m 0.5378  \u001b[0m | \u001b[0m 5.138   \u001b[0m | \u001b[0m 8.268   \u001b[0m | \u001b[0m 1.378   \u001b[0m |\n",
      "| \u001b[0m 48      \u001b[0m | \u001b[0m 67.36   \u001b[0m | \u001b[0m 0.9824  \u001b[0m | \u001b[0m 0.9775  \u001b[0m | \u001b[0m 6.754   \u001b[0m | \u001b[0m 31.36   \u001b[0m | \u001b[0m 0.8457  \u001b[0m | \u001b[0m 8.017   \u001b[0m | \u001b[0m 8.657   \u001b[0m | \u001b[0m 1.451   \u001b[0m |\n",
      "| \u001b[0m 49      \u001b[0m | \u001b[0m 65.71   \u001b[0m | \u001b[0m 0.9291  \u001b[0m | \u001b[0m 0.8025  \u001b[0m | \u001b[0m 8.843   \u001b[0m | \u001b[0m 18.1    \u001b[0m | \u001b[0m 0.6886  \u001b[0m | \u001b[0m 4.501   \u001b[0m | \u001b[0m 2.267   \u001b[0m | \u001b[0m 6.535   \u001b[0m |\n",
      "| \u001b[0m 50      \u001b[0m | \u001b[0m 51.06   \u001b[0m | \u001b[0m 0.9639  \u001b[0m | \u001b[0m 0.9038  \u001b[0m | \u001b[0m 7.015   \u001b[0m | \u001b[0m 66.07   \u001b[0m | \u001b[0m 0.6889  \u001b[0m | \u001b[0m 10.25   \u001b[0m | \u001b[0m 7.212   \u001b[0m | \u001b[0m 7.692   \u001b[0m |\n",
      "| \u001b[0m 51      \u001b[0m | \u001b[0m 39.56   \u001b[0m | \u001b[0m 0.9669  \u001b[0m | \u001b[0m 0.8373  \u001b[0m | \u001b[0m 6.957   \u001b[0m | \u001b[0m 76.14   \u001b[0m | \u001b[0m 0.6534  \u001b[0m | \u001b[0m 8.617   \u001b[0m | \u001b[0m 4.857   \u001b[0m | \u001b[0m 1.514   \u001b[0m |\n",
      "| \u001b[0m 52      \u001b[0m | \u001b[0m 61.04   \u001b[0m | \u001b[0m 0.9576  \u001b[0m | \u001b[0m 0.2038  \u001b[0m | \u001b[0m 7.571   \u001b[0m | \u001b[0m 97.36   \u001b[0m | \u001b[0m 0.7108  \u001b[0m | \u001b[0m 5.449   \u001b[0m | \u001b[0m 3.416   \u001b[0m | \u001b[0m 6.017   \u001b[0m |\n",
      "| \u001b[0m 53      \u001b[0m | \u001b[0m 64.1    \u001b[0m | \u001b[0m 0.9782  \u001b[0m | \u001b[0m 0.3012  \u001b[0m | \u001b[0m 7.755   \u001b[0m | \u001b[0m 70.49   \u001b[0m | \u001b[0m 0.6172  \u001b[0m | \u001b[0m 1.476   \u001b[0m | \u001b[0m 8.281   \u001b[0m | \u001b[0m 2.771   \u001b[0m |\n",
      "| \u001b[0m 54      \u001b[0m | \u001b[0m 68.6    \u001b[0m | \u001b[0m 0.8935  \u001b[0m | \u001b[0m 0.9137  \u001b[0m | \u001b[0m 7.51    \u001b[0m | \u001b[0m 51.1    \u001b[0m | \u001b[0m 0.823   \u001b[0m | \u001b[0m 7.375   \u001b[0m | \u001b[0m 5.611   \u001b[0m | \u001b[0m 6.214   \u001b[0m |\n",
      "| \u001b[0m 55      \u001b[0m | \u001b[0m 78.12   \u001b[0m | \u001b[0m 0.9424  \u001b[0m | \u001b[0m 0.04905 \u001b[0m | \u001b[0m 4.363   \u001b[0m | \u001b[0m 38.34   \u001b[0m | \u001b[0m 0.7753  \u001b[0m | \u001b[0m 6.395   \u001b[0m | \u001b[0m 1.156   \u001b[0m | \u001b[0m 2.845   \u001b[0m |\n",
      "| \u001b[0m 56      \u001b[0m | \u001b[0m 75.79   \u001b[0m | \u001b[0m 0.9747  \u001b[0m | \u001b[0m 0.8052  \u001b[0m | \u001b[0m 7.615   \u001b[0m | \u001b[0m 88.74   \u001b[0m | \u001b[0m 0.8257  \u001b[0m | \u001b[0m 8.995   \u001b[0m | \u001b[0m 5.721   \u001b[0m | \u001b[0m 2.719   \u001b[0m |\n",
      "| \u001b[0m 57      \u001b[0m | \u001b[0m 68.53   \u001b[0m | \u001b[0m 0.8694  \u001b[0m | \u001b[0m 0.3213  \u001b[0m | \u001b[0m 7.759   \u001b[0m | \u001b[0m 91.61   \u001b[0m | \u001b[0m 0.8793  \u001b[0m | \u001b[0m 3.927   \u001b[0m | \u001b[0m 7.919   \u001b[0m | \u001b[0m 7.577   \u001b[0m |\n",
      "| \u001b[0m 58      \u001b[0m | \u001b[0m 44.46   \u001b[0m | \u001b[0m 0.9151  \u001b[0m | \u001b[0m 0.9626  \u001b[0m | \u001b[0m 4.606   \u001b[0m | \u001b[0m 85.02   \u001b[0m | \u001b[0m 0.7352  \u001b[0m | \u001b[0m 6.533   \u001b[0m | \u001b[0m 3.093   \u001b[0m | \u001b[0m 3.949   \u001b[0m |\n",
      "| \u001b[0m 59      \u001b[0m | \u001b[0m 63.89   \u001b[0m | \u001b[0m 0.9658  \u001b[0m | \u001b[0m 0.131   \u001b[0m | \u001b[0m 5.432   \u001b[0m | \u001b[0m 41.9    \u001b[0m | \u001b[0m 0.7071  \u001b[0m | \u001b[0m 12.32   \u001b[0m | \u001b[0m 3.096   \u001b[0m | \u001b[0m 4.414   \u001b[0m |\n",
      "| \u001b[0m 60      \u001b[0m | \u001b[0m 47.25   \u001b[0m | \u001b[0m 0.9252  \u001b[0m | \u001b[0m 0.9597  \u001b[0m | \u001b[0m 7.661   \u001b[0m | \u001b[0m 54.86   \u001b[0m | \u001b[0m 0.534   \u001b[0m | \u001b[0m 12.24   \u001b[0m | \u001b[0m 2.498   \u001b[0m | \u001b[0m 3.14    \u001b[0m |\n",
      "| \u001b[0m 61      \u001b[0m | \u001b[0m 59.55   \u001b[0m | \u001b[0m 0.8694  \u001b[0m | \u001b[0m 0.182   \u001b[0m | \u001b[0m 3.777   \u001b[0m | \u001b[0m 78.78   \u001b[0m | \u001b[0m 0.5031  \u001b[0m | \u001b[0m 6.385   \u001b[0m | \u001b[0m 5.757   \u001b[0m | \u001b[0m 3.038   \u001b[0m |\n",
      "| \u001b[0m 62      \u001b[0m | \u001b[0m 55.76   \u001b[0m | \u001b[0m 0.9758  \u001b[0m | \u001b[0m 0.2867  \u001b[0m | \u001b[0m 4.959   \u001b[0m | \u001b[0m 90.91   \u001b[0m | \u001b[0m 0.7904  \u001b[0m | \u001b[0m 10.42   \u001b[0m | \u001b[0m 6.422   \u001b[0m | \u001b[0m 1.764   \u001b[0m |\n",
      "| \u001b[0m 63      \u001b[0m | \u001b[0m 72.54   \u001b[0m | \u001b[0m 0.912   \u001b[0m | \u001b[0m 0.815   \u001b[0m | \u001b[0m 5.05    \u001b[0m | \u001b[0m 71.88   \u001b[0m | \u001b[0m 0.8688  \u001b[0m | \u001b[0m 11.88   \u001b[0m | \u001b[0m 11.73   \u001b[0m | \u001b[0m 4.472   \u001b[0m |\n",
      "| \u001b[0m 64      \u001b[0m | \u001b[0m 55.94   \u001b[0m | \u001b[0m 0.9474  \u001b[0m | \u001b[0m 0.8018  \u001b[0m | \u001b[0m 3.052   \u001b[0m | \u001b[0m 98.28   \u001b[0m | \u001b[0m 0.6342  \u001b[0m | \u001b[0m 2.469   \u001b[0m | \u001b[0m 4.545   \u001b[0m | \u001b[0m 3.044   \u001b[0m |\n",
      "| \u001b[0m 65      \u001b[0m | \u001b[0m 68.63   \u001b[0m | \u001b[0m 0.9155  \u001b[0m | \u001b[0m 0.1029  \u001b[0m | \u001b[0m 4.474   \u001b[0m | \u001b[0m 37.38   \u001b[0m | \u001b[0m 0.6649  \u001b[0m | \u001b[0m 4.023   \u001b[0m | \u001b[0m 3.313   \u001b[0m | \u001b[0m 5.993   \u001b[0m |\n",
      "| \u001b[0m 66      \u001b[0m | \u001b[0m 55.33   \u001b[0m | \u001b[0m 0.9288  \u001b[0m | \u001b[0m 0.4347  \u001b[0m | \u001b[0m 6.406   \u001b[0m | \u001b[0m 19.45   \u001b[0m | \u001b[0m 0.7834  \u001b[0m | \u001b[0m 2.638   \u001b[0m | \u001b[0m 9.4     \u001b[0m | \u001b[0m 5.946   \u001b[0m |\n",
      "| \u001b[0m 67      \u001b[0m | \u001b[0m 62.24   \u001b[0m | \u001b[0m 0.9758  \u001b[0m | \u001b[0m 0.3067  \u001b[0m | \u001b[0m 4.515   \u001b[0m | \u001b[0m 29.88   \u001b[0m | \u001b[0m 0.506   \u001b[0m | \u001b[0m 5.874   \u001b[0m | \u001b[0m 5.686   \u001b[0m | \u001b[0m 5.77    \u001b[0m |\n",
      "| \u001b[0m 68      \u001b[0m | \u001b[0m 57.77   \u001b[0m | \u001b[0m 0.8751  \u001b[0m | \u001b[0m 0.1351  \u001b[0m | \u001b[0m 3.164   \u001b[0m | \u001b[0m 74.64   \u001b[0m | \u001b[0m 0.8394  \u001b[0m | \u001b[0m 10.41   \u001b[0m | \u001b[0m 4.115   \u001b[0m | \u001b[0m 2.029   \u001b[0m |\n",
      "| \u001b[0m 69      \u001b[0m | \u001b[0m 57.09   \u001b[0m | \u001b[0m 0.934   \u001b[0m | \u001b[0m 0.3095  \u001b[0m | \u001b[0m 3.692   \u001b[0m | \u001b[0m 11.89   \u001b[0m | \u001b[0m 0.5097  \u001b[0m | \u001b[0m 11.04   \u001b[0m | \u001b[0m 1.611   \u001b[0m | \u001b[0m 7.484   \u001b[0m |\n",
      "| \u001b[0m 70      \u001b[0m | \u001b[0m 64.86   \u001b[0m | \u001b[0m 0.9187  \u001b[0m | \u001b[0m 0.1158  \u001b[0m | \u001b[0m 3.612   \u001b[0m | \u001b[0m 59.19   \u001b[0m | \u001b[0m 0.6884  \u001b[0m | \u001b[0m 6.397   \u001b[0m | \u001b[0m 9.998   \u001b[0m | \u001b[0m 1.692   \u001b[0m |\n",
      "| \u001b[0m 71      \u001b[0m | \u001b[0m 64.1    \u001b[0m | \u001b[0m 0.9603  \u001b[0m | \u001b[0m 0.2775  \u001b[0m | \u001b[0m 5.3     \u001b[0m | \u001b[0m 43.99   \u001b[0m | \u001b[0m 0.6517  \u001b[0m | \u001b[0m 5.522   \u001b[0m | \u001b[0m 3.345   \u001b[0m | \u001b[0m 2.381   \u001b[0m |\n",
      "| \u001b[0m 72      \u001b[0m | \u001b[0m 55.06   \u001b[0m | \u001b[0m 0.8969  \u001b[0m | \u001b[0m 0.6719  \u001b[0m | \u001b[0m 6.21    \u001b[0m | \u001b[0m 17.18   \u001b[0m | \u001b[0m 0.6473  \u001b[0m | \u001b[0m 8.753   \u001b[0m | \u001b[0m 5.468   \u001b[0m | \u001b[0m 5.922   \u001b[0m |\n",
      "| \u001b[0m 73      \u001b[0m | \u001b[0m 76.07   \u001b[0m | \u001b[0m 0.9565  \u001b[0m | \u001b[0m 0.08124 \u001b[0m | \u001b[0m 7.334   \u001b[0m | \u001b[0m 24.24   \u001b[0m | \u001b[0m 0.7349  \u001b[0m | \u001b[0m 5.031   \u001b[0m | \u001b[0m 9.54    \u001b[0m | \u001b[0m 2.051   \u001b[0m |\n",
      "| \u001b[95m 74      \u001b[0m | \u001b[95m 80.71   \u001b[0m | \u001b[95m 0.8813  \u001b[0m | \u001b[95m 0.0288  \u001b[0m | \u001b[95m 3.296   \u001b[0m | \u001b[95m 50.32   \u001b[0m | \u001b[95m 0.5693  \u001b[0m | \u001b[95m 4.496   \u001b[0m | \u001b[95m 11.26   \u001b[0m | \u001b[95m 2.545   \u001b[0m |\n",
      "| \u001b[95m 75      \u001b[0m | \u001b[95m 80.79   \u001b[0m | \u001b[95m 0.9268  \u001b[0m | \u001b[95m 0.06042 \u001b[0m | \u001b[95m 6.205   \u001b[0m | \u001b[95m 24.11   \u001b[0m | \u001b[95m 0.6784  \u001b[0m | \u001b[95m 3.994   \u001b[0m | \u001b[95m 7.688   \u001b[0m | \u001b[95m 5.066   \u001b[0m |\n",
      "| \u001b[0m 76      \u001b[0m | \u001b[0m 52.42   \u001b[0m | \u001b[0m 0.9706  \u001b[0m | \u001b[0m 0.5763  \u001b[0m | \u001b[0m 6.566   \u001b[0m | \u001b[0m 17.9    \u001b[0m | \u001b[0m 0.5164  \u001b[0m | \u001b[0m 1.555   \u001b[0m | \u001b[0m 11.45   \u001b[0m | \u001b[0m 1.66    \u001b[0m |\n",
      "| \u001b[0m 77      \u001b[0m | \u001b[0m 66.09   \u001b[0m | \u001b[0m 0.9182  \u001b[0m | \u001b[0m 0.1571  \u001b[0m | \u001b[0m 4.833   \u001b[0m | \u001b[0m 93.7    \u001b[0m | \u001b[0m 0.5227  \u001b[0m | \u001b[0m 11.1    \u001b[0m | \u001b[0m 1.999   \u001b[0m | \u001b[0m 8.226   \u001b[0m |\n",
      "| \u001b[0m 78      \u001b[0m | \u001b[0m 58.63   \u001b[0m | \u001b[0m 0.8635  \u001b[0m | \u001b[0m 0.713   \u001b[0m | \u001b[0m 4.048   \u001b[0m | \u001b[0m 73.76   \u001b[0m | \u001b[0m 0.59    \u001b[0m | \u001b[0m 5.684   \u001b[0m | \u001b[0m 6.903   \u001b[0m | \u001b[0m 5.769   \u001b[0m |\n",
      "| \u001b[0m 79      \u001b[0m | \u001b[0m 46.58   \u001b[0m | \u001b[0m 0.9008  \u001b[0m | \u001b[0m 0.7161  \u001b[0m | \u001b[0m 7.748   \u001b[0m | \u001b[0m 51.4    \u001b[0m | \u001b[0m 0.611   \u001b[0m | \u001b[0m 9.946   \u001b[0m | \u001b[0m 1.3     \u001b[0m | \u001b[0m 5.969   \u001b[0m |\n",
      "| \u001b[0m 80      \u001b[0m | \u001b[0m 60.76   \u001b[0m | \u001b[0m 0.885   \u001b[0m | \u001b[0m 0.1957  \u001b[0m | \u001b[0m 4.469   \u001b[0m | \u001b[0m 31.31   \u001b[0m | \u001b[0m 0.6938  \u001b[0m | \u001b[0m 3.204   \u001b[0m | \u001b[0m 5.426   \u001b[0m | \u001b[0m 3.615   \u001b[0m |\n",
      "| \u001b[0m 81      \u001b[0m | \u001b[0m 62.92   \u001b[0m | \u001b[0m 0.9039  \u001b[0m | \u001b[0m 0.2152  \u001b[0m | \u001b[0m 3.37    \u001b[0m | \u001b[0m 23.41   \u001b[0m | \u001b[0m 0.8991  \u001b[0m | \u001b[0m 9.166   \u001b[0m | \u001b[0m 2.117   \u001b[0m | \u001b[0m 4.046   \u001b[0m |\n",
      "| \u001b[0m 82      \u001b[0m | \u001b[0m 57.74   \u001b[0m | \u001b[0m 0.8983  \u001b[0m | \u001b[0m 0.5465  \u001b[0m | \u001b[0m 7.101   \u001b[0m | \u001b[0m 11.6    \u001b[0m | \u001b[0m 0.5371  \u001b[0m | \u001b[0m 7.619   \u001b[0m | \u001b[0m 2.635   \u001b[0m | \u001b[0m 8.025   \u001b[0m |\n",
      "| \u001b[0m 83      \u001b[0m | \u001b[0m 70.01   \u001b[0m | \u001b[0m 0.8852  \u001b[0m | \u001b[0m 0.2932  \u001b[0m | \u001b[0m 4.631   \u001b[0m | \u001b[0m 55.09   \u001b[0m | \u001b[0m 0.7035  \u001b[0m | \u001b[0m 1.787   \u001b[0m | \u001b[0m 4.715   \u001b[0m | \u001b[0m 5.094   \u001b[0m |\n",
      "| \u001b[0m 84      \u001b[0m | \u001b[0m 61.71   \u001b[0m | \u001b[0m 0.8781  \u001b[0m | \u001b[0m 0.5555  \u001b[0m | \u001b[0m 6.737   \u001b[0m | \u001b[0m 58.5    \u001b[0m | \u001b[0m 0.8409  \u001b[0m | \u001b[0m 6.558   \u001b[0m | \u001b[0m 10.82   \u001b[0m | \u001b[0m 5.603   \u001b[0m |\n",
      "| \u001b[0m 85      \u001b[0m | \u001b[0m 64.38   \u001b[0m | \u001b[0m 0.8845  \u001b[0m | \u001b[0m 0.6104  \u001b[0m | \u001b[0m 4.037   \u001b[0m | \u001b[0m 64.94   \u001b[0m | \u001b[0m 0.7225  \u001b[0m | \u001b[0m 4.118   \u001b[0m | \u001b[0m 2.062   \u001b[0m | \u001b[0m 7.111   \u001b[0m |\n",
      "| \u001b[0m 86      \u001b[0m | \u001b[0m 49.02   \u001b[0m | \u001b[0m 0.9479  \u001b[0m | \u001b[0m 0.6662  \u001b[0m | \u001b[0m 6.512   \u001b[0m | \u001b[0m 78.3    \u001b[0m | \u001b[0m 0.6566  \u001b[0m | \u001b[0m 6.747   \u001b[0m | \u001b[0m 6.639   \u001b[0m | \u001b[0m 2.198   \u001b[0m |\n",
      "| \u001b[0m 87      \u001b[0m | \u001b[0m 62.02   \u001b[0m | \u001b[0m 0.9686  \u001b[0m | \u001b[0m 0.1885  \u001b[0m | \u001b[0m 8.904   \u001b[0m | \u001b[0m 50.99   \u001b[0m | \u001b[0m 0.8059  \u001b[0m | \u001b[0m 9.244   \u001b[0m | \u001b[0m 4.257   \u001b[0m | \u001b[0m 1.601   \u001b[0m |\n",
      "| \u001b[0m 88      \u001b[0m | \u001b[0m 52.03   \u001b[0m | \u001b[0m 0.969   \u001b[0m | \u001b[0m 0.8989  \u001b[0m | \u001b[0m 8.9     \u001b[0m | \u001b[0m 63.53   \u001b[0m | \u001b[0m 0.6525  \u001b[0m | \u001b[0m 8.564   \u001b[0m | \u001b[0m 2.97    \u001b[0m | \u001b[0m 4.545   \u001b[0m |\n",
      "| \u001b[0m 89      \u001b[0m | \u001b[0m 60.82   \u001b[0m | \u001b[0m 0.9736  \u001b[0m | \u001b[0m 0.4638  \u001b[0m | \u001b[0m 4.922   \u001b[0m | \u001b[0m 70.87   \u001b[0m | \u001b[0m 0.6259  \u001b[0m | \u001b[0m 10.07   \u001b[0m | \u001b[0m 9.228   \u001b[0m | \u001b[0m 7.394   \u001b[0m |\n",
      "| \u001b[0m 90      \u001b[0m | \u001b[0m 57.87   \u001b[0m | \u001b[0m 0.8675  \u001b[0m | \u001b[0m 0.5566  \u001b[0m | \u001b[0m 4.653   \u001b[0m | \u001b[0m 96.02   \u001b[0m | \u001b[0m 0.8985  \u001b[0m | \u001b[0m 3.064   \u001b[0m | \u001b[0m 5.225   \u001b[0m | \u001b[0m 4.136   \u001b[0m |\n",
      "| \u001b[0m 91      \u001b[0m | \u001b[0m 60.98   \u001b[0m | \u001b[0m 0.9568  \u001b[0m | \u001b[0m 0.6234  \u001b[0m | \u001b[0m 8.662   \u001b[0m | \u001b[0m 27.42   \u001b[0m | \u001b[0m 0.6123  \u001b[0m | \u001b[0m 5.859   \u001b[0m | \u001b[0m 6.135   \u001b[0m | \u001b[0m 7.103   \u001b[0m |\n",
      "| \u001b[0m 92      \u001b[0m | \u001b[0m 58.76   \u001b[0m | \u001b[0m 0.9294  \u001b[0m | \u001b[0m 0.7252  \u001b[0m | \u001b[0m 4.666   \u001b[0m | \u001b[0m 12.8    \u001b[0m | \u001b[0m 0.7776  \u001b[0m | \u001b[0m 11.43   \u001b[0m | \u001b[0m 11.28   \u001b[0m | \u001b[0m 3.278   \u001b[0m |\n",
      "| \u001b[0m 93      \u001b[0m | \u001b[0m 43.38   \u001b[0m | \u001b[0m 0.9307  \u001b[0m | \u001b[0m 0.8089  \u001b[0m | \u001b[0m 5.361   \u001b[0m | \u001b[0m 64.34   \u001b[0m | \u001b[0m 0.6365  \u001b[0m | \u001b[0m 9.186   \u001b[0m | \u001b[0m 3.817   \u001b[0m | \u001b[0m 2.246   \u001b[0m |\n",
      "| \u001b[0m 94      \u001b[0m | \u001b[0m 57.2    \u001b[0m | \u001b[0m 0.8975  \u001b[0m | \u001b[0m 0.7784  \u001b[0m | \u001b[0m 4.247   \u001b[0m | \u001b[0m 36.44   \u001b[0m | \u001b[0m 0.878   \u001b[0m | \u001b[0m 5.793   \u001b[0m | \u001b[0m 10.81   \u001b[0m | \u001b[0m 5.365   \u001b[0m |\n",
      "| \u001b[0m 95      \u001b[0m | \u001b[0m 43.3    \u001b[0m | \u001b[0m 0.9275  \u001b[0m | \u001b[0m 0.6411  \u001b[0m | \u001b[0m 4.239   \u001b[0m | \u001b[0m 28.28   \u001b[0m | \u001b[0m 0.7051  \u001b[0m | \u001b[0m 3.692   \u001b[0m | \u001b[0m 6.241   \u001b[0m | \u001b[0m 4.155   \u001b[0m |\n",
      "| \u001b[0m 96      \u001b[0m | \u001b[0m 56.36   \u001b[0m | \u001b[0m 0.9153  \u001b[0m | \u001b[0m 0.4527  \u001b[0m | \u001b[0m 8.158   \u001b[0m | \u001b[0m 38.13   \u001b[0m | \u001b[0m 0.627   \u001b[0m | \u001b[0m 6.024   \u001b[0m | \u001b[0m 10.07   \u001b[0m | \u001b[0m 1.716   \u001b[0m |\n",
      "| \u001b[0m 97      \u001b[0m | \u001b[0m 68.81   \u001b[0m | \u001b[0m 0.9004  \u001b[0m | \u001b[0m 0.1734  \u001b[0m | \u001b[0m 8.34    \u001b[0m | \u001b[0m 15.8    \u001b[0m | \u001b[0m 0.6853  \u001b[0m | \u001b[0m 9.357   \u001b[0m | \u001b[0m 9.78    \u001b[0m | \u001b[0m 5.713   \u001b[0m |\n",
      "| \u001b[0m 98      \u001b[0m | \u001b[0m 65.78   \u001b[0m | \u001b[0m 0.8836  \u001b[0m | \u001b[0m 0.5624  \u001b[0m | \u001b[0m 8.587   \u001b[0m | \u001b[0m 53.46   \u001b[0m | \u001b[0m 0.6877  \u001b[0m | \u001b[0m 12.38   \u001b[0m | \u001b[0m 4.371   \u001b[0m | \u001b[0m 5.721   \u001b[0m |\n",
      "| \u001b[0m 99      \u001b[0m | \u001b[0m 75.34   \u001b[0m | \u001b[0m 0.8709  \u001b[0m | \u001b[0m 0.4488  \u001b[0m | \u001b[0m 5.66    \u001b[0m | \u001b[0m 96.74   \u001b[0m | \u001b[0m 0.5083  \u001b[0m | \u001b[0m 1.248   \u001b[0m | \u001b[0m 8.012   \u001b[0m | \u001b[0m 2.601   \u001b[0m |\n",
      "| \u001b[0m 100     \u001b[0m | \u001b[0m 52.96   \u001b[0m | \u001b[0m 0.9791  \u001b[0m | \u001b[0m 0.8276  \u001b[0m | \u001b[0m 6.656   \u001b[0m | \u001b[0m 81.32   \u001b[0m | \u001b[0m 0.5548  \u001b[0m | \u001b[0m 9.452   \u001b[0m | \u001b[0m 8.716   \u001b[0m | \u001b[0m 3.984   \u001b[0m |\n",
      "| \u001b[0m 101     \u001b[0m | \u001b[0m 72.14   \u001b[0m | \u001b[0m 0.9101  \u001b[0m | \u001b[0m 0.07889 \u001b[0m | \u001b[0m 3.333   \u001b[0m | \u001b[0m 43.49   \u001b[0m | \u001b[0m 0.8969  \u001b[0m | \u001b[0m 1.866   \u001b[0m | \u001b[0m 10.48   \u001b[0m | \u001b[0m 6.607   \u001b[0m |\n",
      "| \u001b[0m 102     \u001b[0m | \u001b[0m 68.56   \u001b[0m | \u001b[0m 0.9546  \u001b[0m | \u001b[0m 0.2958  \u001b[0m | \u001b[0m 8.947   \u001b[0m | \u001b[0m 37.63   \u001b[0m | \u001b[0m 0.6305  \u001b[0m | \u001b[0m 12.09   \u001b[0m | \u001b[0m 9.789   \u001b[0m | \u001b[0m 5.297   \u001b[0m |\n",
      "| \u001b[0m 103     \u001b[0m | \u001b[0m 49.16   \u001b[0m | \u001b[0m 0.8625  \u001b[0m | \u001b[0m 0.9666  \u001b[0m | \u001b[0m 5.055   \u001b[0m | \u001b[0m 95.16   \u001b[0m | \u001b[0m 0.6834  \u001b[0m | \u001b[0m 1.828   \u001b[0m | \u001b[0m 11.18   \u001b[0m | \u001b[0m 4.005   \u001b[0m |\n",
      "| \u001b[0m 104     \u001b[0m | \u001b[0m 56.61   \u001b[0m | \u001b[0m 0.8895  \u001b[0m | \u001b[0m 0.231   \u001b[0m | \u001b[0m 4.329   \u001b[0m | \u001b[0m 66.36   \u001b[0m | \u001b[0m 0.5932  \u001b[0m | \u001b[0m 6.146   \u001b[0m | \u001b[0m 11.36   \u001b[0m | \u001b[0m 4.958   \u001b[0m |\n",
      "| \u001b[0m 105     \u001b[0m | \u001b[0m 59.89   \u001b[0m | \u001b[0m 0.8998  \u001b[0m | \u001b[0m 0.2935  \u001b[0m | \u001b[0m 3.681   \u001b[0m | \u001b[0m 48.39   \u001b[0m | \u001b[0m 0.839   \u001b[0m | \u001b[0m 2.864   \u001b[0m | \u001b[0m 10.86   \u001b[0m | \u001b[0m 4.496   \u001b[0m |\n",
      "| \u001b[0m 106     \u001b[0m | \u001b[0m 69.65   \u001b[0m | \u001b[0m 0.9127  \u001b[0m | \u001b[0m 0.4725  \u001b[0m | \u001b[0m 5.974   \u001b[0m | \u001b[0m 97.53   \u001b[0m | \u001b[0m 0.8615  \u001b[0m | \u001b[0m 6.589   \u001b[0m | \u001b[0m 11.6    \u001b[0m | \u001b[0m 3.058   \u001b[0m |\n",
      "| \u001b[0m 107     \u001b[0m | \u001b[0m 61.06   \u001b[0m | \u001b[0m 0.9601  \u001b[0m | \u001b[0m 0.5162  \u001b[0m | \u001b[0m 4.594   \u001b[0m | \u001b[0m 27.34   \u001b[0m | \u001b[0m 0.8796  \u001b[0m | \u001b[0m 6.929   \u001b[0m | \u001b[0m 5.871   \u001b[0m | \u001b[0m 4.316   \u001b[0m |\n",
      "| \u001b[0m 108     \u001b[0m | \u001b[0m 49.49   \u001b[0m | \u001b[0m 0.9476  \u001b[0m | \u001b[0m 0.8998  \u001b[0m | \u001b[0m 4.606   \u001b[0m | \u001b[0m 11.42   \u001b[0m | \u001b[0m 0.6551  \u001b[0m | \u001b[0m 4.359   \u001b[0m | \u001b[0m 5.867   \u001b[0m | \u001b[0m 7.096   \u001b[0m |\n",
      "| \u001b[0m 109     \u001b[0m | \u001b[0m 47.81   \u001b[0m | \u001b[0m 0.8805  \u001b[0m | \u001b[0m 0.6963  \u001b[0m | \u001b[0m 7.938   \u001b[0m | \u001b[0m 64.33   \u001b[0m | \u001b[0m 0.8961  \u001b[0m | \u001b[0m 7.889   \u001b[0m | \u001b[0m 3.608   \u001b[0m | \u001b[0m 3.945   \u001b[0m |\n",
      "| \u001b[0m 110     \u001b[0m | \u001b[0m 63.36   \u001b[0m | \u001b[0m 0.8594  \u001b[0m | \u001b[0m 0.3752  \u001b[0m | \u001b[0m 7.993   \u001b[0m | \u001b[0m 41.7    \u001b[0m | \u001b[0m 0.8998  \u001b[0m | \u001b[0m 7.055   \u001b[0m | \u001b[0m 11.62   \u001b[0m | \u001b[0m 4.415   \u001b[0m |\n",
      "| \u001b[0m 111     \u001b[0m | \u001b[0m 75.15   \u001b[0m | \u001b[0m 0.8968  \u001b[0m | \u001b[0m 0.7125  \u001b[0m | \u001b[0m 8.149   \u001b[0m | \u001b[0m 82.25   \u001b[0m | \u001b[0m 0.5496  \u001b[0m | \u001b[0m 8.186   \u001b[0m | \u001b[0m 8.649   \u001b[0m | \u001b[0m 1.261   \u001b[0m |\n",
      "| \u001b[0m 112     \u001b[0m | \u001b[0m 73.33   \u001b[0m | \u001b[0m 0.9691  \u001b[0m | \u001b[0m 0.8824  \u001b[0m | \u001b[0m 6.922   \u001b[0m | \u001b[0m 66.18   \u001b[0m | \u001b[0m 0.8878  \u001b[0m | \u001b[0m 6.767   \u001b[0m | \u001b[0m 6.919   \u001b[0m | \u001b[0m 1.797   \u001b[0m |\n",
      "| \u001b[0m 113     \u001b[0m | \u001b[0m 61.1    \u001b[0m | \u001b[0m 0.9049  \u001b[0m | \u001b[0m 0.6526  \u001b[0m | \u001b[0m 4.29    \u001b[0m | \u001b[0m 37.81   \u001b[0m | \u001b[0m 0.8891  \u001b[0m | \u001b[0m 10.32   \u001b[0m | \u001b[0m 1.082   \u001b[0m | \u001b[0m 4.217   \u001b[0m |\n",
      "| \u001b[0m 114     \u001b[0m | \u001b[0m 56.48   \u001b[0m | \u001b[0m 0.9653  \u001b[0m | \u001b[0m 0.2475  \u001b[0m | \u001b[0m 6.068   \u001b[0m | \u001b[0m 32.76   \u001b[0m | \u001b[0m 0.8459  \u001b[0m | \u001b[0m 1.505   \u001b[0m | \u001b[0m 11.11   \u001b[0m | \u001b[0m 5.152   \u001b[0m |\n",
      "| \u001b[0m 115     \u001b[0m | \u001b[0m 62.35   \u001b[0m | \u001b[0m 0.9303  \u001b[0m | \u001b[0m 0.5718  \u001b[0m | \u001b[0m 6.03    \u001b[0m | \u001b[0m 14.67   \u001b[0m | \u001b[0m 0.7424  \u001b[0m | \u001b[0m 11.24   \u001b[0m | \u001b[0m 2.611   \u001b[0m | \u001b[0m 8.218   \u001b[0m |\n",
      "| \u001b[0m 116     \u001b[0m | \u001b[0m 58.11   \u001b[0m | \u001b[0m 0.9789  \u001b[0m | \u001b[0m 0.5019  \u001b[0m | \u001b[0m 8.42    \u001b[0m | \u001b[0m 77.04   \u001b[0m | \u001b[0m 0.7009  \u001b[0m | \u001b[0m 1.098   \u001b[0m | \u001b[0m 5.265   \u001b[0m | \u001b[0m 3.625   \u001b[0m |\n",
      "| \u001b[0m 117     \u001b[0m | \u001b[0m 51.99   \u001b[0m | \u001b[0m 0.8693  \u001b[0m | \u001b[0m 0.9647  \u001b[0m | \u001b[0m 4.231   \u001b[0m | \u001b[0m 96.47   \u001b[0m | \u001b[0m 0.5066  \u001b[0m | \u001b[0m 10.49   \u001b[0m | \u001b[0m 9.48    \u001b[0m | \u001b[0m 7.453   \u001b[0m |\n",
      "| \u001b[0m 118     \u001b[0m | \u001b[0m 39.83   \u001b[0m | \u001b[0m 0.8716  \u001b[0m | \u001b[0m 0.9072  \u001b[0m | \u001b[0m 7.557   \u001b[0m | \u001b[0m 25.43   \u001b[0m | \u001b[0m 0.6763  \u001b[0m | \u001b[0m 11.51   \u001b[0m | \u001b[0m 3.437   \u001b[0m | \u001b[0m 6.51    \u001b[0m |\n",
      "| \u001b[0m 119     \u001b[0m | \u001b[0m 63.7    \u001b[0m | \u001b[0m 0.9535  \u001b[0m | \u001b[0m 0.1702  \u001b[0m | \u001b[0m 7.156   \u001b[0m | \u001b[0m 98.31   \u001b[0m | \u001b[0m 0.6436  \u001b[0m | \u001b[0m 6.131   \u001b[0m | \u001b[0m 8.309   \u001b[0m | \u001b[0m 7.665   \u001b[0m |\n",
      "| \u001b[0m 120     \u001b[0m | \u001b[0m 64.92   \u001b[0m | \u001b[0m 0.9846  \u001b[0m | \u001b[0m 0.9548  \u001b[0m | \u001b[0m 3.803   \u001b[0m | \u001b[0m 92.28   \u001b[0m | \u001b[0m 0.8248  \u001b[0m | \u001b[0m 7.131   \u001b[0m | \u001b[0m 1.784   \u001b[0m | \u001b[0m 2.567   \u001b[0m |\n",
      "| \u001b[0m 121     \u001b[0m | \u001b[0m 58.37   \u001b[0m | \u001b[0m 0.8983  \u001b[0m | \u001b[0m 0.3494  \u001b[0m | \u001b[0m 7.579   \u001b[0m | \u001b[0m 49.09   \u001b[0m | \u001b[0m 0.5772  \u001b[0m | \u001b[0m 7.79    \u001b[0m | \u001b[0m 1.99    \u001b[0m | \u001b[0m 6.318   \u001b[0m |\n",
      "| \u001b[0m 122     \u001b[0m | \u001b[0m 44.56   \u001b[0m | \u001b[0m 0.9282  \u001b[0m | \u001b[0m 0.5989  \u001b[0m | \u001b[0m 6.867   \u001b[0m | \u001b[0m 51.29   \u001b[0m | \u001b[0m 0.7962  \u001b[0m | \u001b[0m 4.28    \u001b[0m | \u001b[0m 5.817   \u001b[0m | \u001b[0m 2.687   \u001b[0m |\n",
      "| \u001b[0m 123     \u001b[0m | \u001b[0m 59.62   \u001b[0m | \u001b[0m 0.9831  \u001b[0m | \u001b[0m 0.1168  \u001b[0m | \u001b[0m 4.249   \u001b[0m | \u001b[0m 87.33   \u001b[0m | \u001b[0m 0.7449  \u001b[0m | \u001b[0m 11.68   \u001b[0m | \u001b[0m 1.163   \u001b[0m | \u001b[0m 5.8     \u001b[0m |\n",
      "| \u001b[0m 124     \u001b[0m | \u001b[0m 64.04   \u001b[0m | \u001b[0m 0.8714  \u001b[0m | \u001b[0m 0.7405  \u001b[0m | \u001b[0m 5.153   \u001b[0m | \u001b[0m 80.24   \u001b[0m | \u001b[0m 0.8798  \u001b[0m | \u001b[0m 4.881   \u001b[0m | \u001b[0m 10.63   \u001b[0m | \u001b[0m 3.511   \u001b[0m |\n",
      "| \u001b[0m 125     \u001b[0m | \u001b[0m 60.46   \u001b[0m | \u001b[0m 0.9385  \u001b[0m | \u001b[0m 0.2017  \u001b[0m | \u001b[0m 6.163   \u001b[0m | \u001b[0m 52.38   \u001b[0m | \u001b[0m 0.6649  \u001b[0m | \u001b[0m 6.563   \u001b[0m | \u001b[0m 7.587   \u001b[0m | \u001b[0m 4.651   \u001b[0m |\n",
      "| \u001b[0m 126     \u001b[0m | \u001b[0m 60.83   \u001b[0m | \u001b[0m 0.872   \u001b[0m | \u001b[0m 0.3982  \u001b[0m | \u001b[0m 5.957   \u001b[0m | \u001b[0m 68.78   \u001b[0m | \u001b[0m 0.72    \u001b[0m | \u001b[0m 6.469   \u001b[0m | \u001b[0m 9.674   \u001b[0m | \u001b[0m 2.675   \u001b[0m |\n",
      "| \u001b[0m 127     \u001b[0m | \u001b[0m 63.06   \u001b[0m | \u001b[0m 0.9122  \u001b[0m | \u001b[0m 0.02191 \u001b[0m | \u001b[0m 7.805   \u001b[0m | \u001b[0m 30.07   \u001b[0m | \u001b[0m 0.756   \u001b[0m | \u001b[0m 9.681   \u001b[0m | \u001b[0m 1.937   \u001b[0m | \u001b[0m 7.495   \u001b[0m |\n",
      "| \u001b[0m 128     \u001b[0m | \u001b[0m 58.59   \u001b[0m | \u001b[0m 0.9097  \u001b[0m | \u001b[0m 0.5567  \u001b[0m | \u001b[0m 3.092   \u001b[0m | \u001b[0m 53.38   \u001b[0m | \u001b[0m 0.5524  \u001b[0m | \u001b[0m 10.88   \u001b[0m | \u001b[0m 4.436   \u001b[0m | \u001b[0m 2.63    \u001b[0m |\n",
      "| \u001b[0m 129     \u001b[0m | \u001b[0m 69.57   \u001b[0m | \u001b[0m 0.8656  \u001b[0m | \u001b[0m 0.3259  \u001b[0m | \u001b[0m 8.374   \u001b[0m | \u001b[0m 34.88   \u001b[0m | \u001b[0m 0.5312  \u001b[0m | \u001b[0m 5.413   \u001b[0m | \u001b[0m 11.79   \u001b[0m | \u001b[0m 6.719   \u001b[0m |\n",
      "| \u001b[0m 130     \u001b[0m | \u001b[0m 66.97   \u001b[0m | \u001b[0m 0.9195  \u001b[0m | \u001b[0m 0.9434  \u001b[0m | \u001b[0m 3.649   \u001b[0m | \u001b[0m 28.91   \u001b[0m | \u001b[0m 0.5078  \u001b[0m | \u001b[0m 11.84   \u001b[0m | \u001b[0m 9.218   \u001b[0m | \u001b[0m 7.121   \u001b[0m |\n",
      "| \u001b[0m 131     \u001b[0m | \u001b[0m 66.67   \u001b[0m | \u001b[0m 0.8813  \u001b[0m | \u001b[0m 0.3434  \u001b[0m | \u001b[0m 3.874   \u001b[0m | \u001b[0m 16.4    \u001b[0m | \u001b[0m 0.7002  \u001b[0m | \u001b[0m 7.001   \u001b[0m | \u001b[0m 9.711   \u001b[0m | \u001b[0m 1.731   \u001b[0m |\n",
      "| \u001b[0m 132     \u001b[0m | \u001b[0m 45.74   \u001b[0m | \u001b[0m 0.8668  \u001b[0m | \u001b[0m 0.9089  \u001b[0m | \u001b[0m 7.672   \u001b[0m | \u001b[0m 14.82   \u001b[0m | \u001b[0m 0.7267  \u001b[0m | \u001b[0m 2.405   \u001b[0m | \u001b[0m 3.431   \u001b[0m | \u001b[0m 1.397   \u001b[0m |\n",
      "| \u001b[0m 133     \u001b[0m | \u001b[0m 59.26   \u001b[0m | \u001b[0m 0.9187  \u001b[0m | \u001b[0m 0.9773  \u001b[0m | \u001b[0m 5.056   \u001b[0m | \u001b[0m 94.99   \u001b[0m | \u001b[0m 0.8741  \u001b[0m | \u001b[0m 7.085   \u001b[0m | \u001b[0m 3.136   \u001b[0m | \u001b[0m 2.974   \u001b[0m |\n",
      "| \u001b[0m 134     \u001b[0m | \u001b[0m 62.05   \u001b[0m | \u001b[0m 0.9729  \u001b[0m | \u001b[0m 0.7198  \u001b[0m | \u001b[0m 4.315   \u001b[0m | \u001b[0m 16.31   \u001b[0m | \u001b[0m 0.6231  \u001b[0m | \u001b[0m 3.013   \u001b[0m | \u001b[0m 2.53    \u001b[0m | \u001b[0m 5.505   \u001b[0m |\n",
      "| \u001b[0m 135     \u001b[0m | \u001b[0m 51.25   \u001b[0m | \u001b[0m 0.9466  \u001b[0m | \u001b[0m 0.04171 \u001b[0m | \u001b[0m 6.568   \u001b[0m | \u001b[0m 11.03   \u001b[0m | \u001b[0m 0.7872  \u001b[0m | \u001b[0m 3.809   \u001b[0m | \u001b[0m 10.69   \u001b[0m | \u001b[0m 3.952   \u001b[0m |\n",
      "| \u001b[0m 136     \u001b[0m | \u001b[0m 60.01   \u001b[0m | \u001b[0m 0.9565  \u001b[0m | \u001b[0m 0.4598  \u001b[0m | \u001b[0m 7.079   \u001b[0m | \u001b[0m 80.43   \u001b[0m | \u001b[0m 0.5657  \u001b[0m | \u001b[0m 11.53   \u001b[0m | \u001b[0m 11.85   \u001b[0m | \u001b[0m 4.746   \u001b[0m |\n",
      "| \u001b[0m 137     \u001b[0m | \u001b[0m 67.86   \u001b[0m | \u001b[0m 0.8836  \u001b[0m | \u001b[0m 0.4638  \u001b[0m | \u001b[0m 6.884   \u001b[0m | \u001b[0m 28.23   \u001b[0m | \u001b[0m 0.6638  \u001b[0m | \u001b[0m 11.45   \u001b[0m | \u001b[0m 8.863   \u001b[0m | \u001b[0m 2.873   \u001b[0m |\n",
      "| \u001b[0m 138     \u001b[0m | \u001b[0m 58.01   \u001b[0m | \u001b[0m 0.8878  \u001b[0m | \u001b[0m 0.2159  \u001b[0m | \u001b[0m 8.453   \u001b[0m | \u001b[0m 43.82   \u001b[0m | \u001b[0m 0.6655  \u001b[0m | \u001b[0m 10.39   \u001b[0m | \u001b[0m 8.672   \u001b[0m | \u001b[0m 1.149   \u001b[0m |\n",
      "| \u001b[0m 139     \u001b[0m | \u001b[0m 66.08   \u001b[0m | \u001b[0m 0.9849  \u001b[0m | \u001b[0m 0.3594  \u001b[0m | \u001b[0m 4.06    \u001b[0m | \u001b[0m 90.93   \u001b[0m | \u001b[0m 0.5141  \u001b[0m | \u001b[0m 5.235   \u001b[0m | \u001b[0m 2.543   \u001b[0m | \u001b[0m 4.455   \u001b[0m |\n",
      "| \u001b[0m 140     \u001b[0m | \u001b[0m 58.93   \u001b[0m | \u001b[0m 0.9214  \u001b[0m | \u001b[0m 0.681   \u001b[0m | \u001b[0m 5.708   \u001b[0m | \u001b[0m 70.52   \u001b[0m | \u001b[0m 0.6555  \u001b[0m | \u001b[0m 8.029   \u001b[0m | \u001b[0m 6.052   \u001b[0m | \u001b[0m 3.187   \u001b[0m |\n",
      "| \u001b[0m 141     \u001b[0m | \u001b[0m 71.49   \u001b[0m | \u001b[0m 0.9185  \u001b[0m | \u001b[0m 0.4956  \u001b[0m | \u001b[0m 5.792   \u001b[0m | \u001b[0m 12.74   \u001b[0m | \u001b[0m 0.6105  \u001b[0m | \u001b[0m 3.45    \u001b[0m | \u001b[0m 6.239   \u001b[0m | \u001b[0m 7.014   \u001b[0m |\n",
      "| \u001b[0m 142     \u001b[0m | \u001b[0m 59.92   \u001b[0m | \u001b[0m 0.9711  \u001b[0m | \u001b[0m 0.4438  \u001b[0m | \u001b[0m 5.929   \u001b[0m | \u001b[0m 79.72   \u001b[0m | \u001b[0m 0.8359  \u001b[0m | \u001b[0m 8.973   \u001b[0m | \u001b[0m 10.28   \u001b[0m | \u001b[0m 2.937   \u001b[0m |\n",
      "| \u001b[0m 143     \u001b[0m | \u001b[0m 61.81   \u001b[0m | \u001b[0m 0.9111  \u001b[0m | \u001b[0m 0.3574  \u001b[0m | \u001b[0m 6.487   \u001b[0m | \u001b[0m 68.45   \u001b[0m | \u001b[0m 0.7175  \u001b[0m | \u001b[0m 4.708   \u001b[0m | \u001b[0m 6.718   \u001b[0m | \u001b[0m 3.752   \u001b[0m |\n",
      "| \u001b[0m 144     \u001b[0m | \u001b[0m 64.83   \u001b[0m | \u001b[0m 0.9609  \u001b[0m | \u001b[0m 0.6246  \u001b[0m | \u001b[0m 8.23    \u001b[0m | \u001b[0m 36.81   \u001b[0m | \u001b[0m 0.7484  \u001b[0m | \u001b[0m 8.225   \u001b[0m | \u001b[0m 4.47    \u001b[0m | \u001b[0m 7.148   \u001b[0m |\n",
      "| \u001b[0m 145     \u001b[0m | \u001b[0m 36.98   \u001b[0m | \u001b[0m 0.8703  \u001b[0m | \u001b[0m 0.6526  \u001b[0m | \u001b[0m 3.143   \u001b[0m | \u001b[0m 69.08   \u001b[0m | \u001b[0m 0.6763  \u001b[0m | \u001b[0m 7.633   \u001b[0m | \u001b[0m 11.24   \u001b[0m | \u001b[0m 1.31    \u001b[0m |\n",
      "| \u001b[0m 146     \u001b[0m | \u001b[0m 56.05   \u001b[0m | \u001b[0m 0.9767  \u001b[0m | \u001b[0m 0.427   \u001b[0m | \u001b[0m 3.245   \u001b[0m | \u001b[0m 84.4    \u001b[0m | \u001b[0m 0.7804  \u001b[0m | \u001b[0m 5.458   \u001b[0m | \u001b[0m 7.601   \u001b[0m | \u001b[0m 4.117   \u001b[0m |\n",
      "| \u001b[0m 147     \u001b[0m | \u001b[0m 52.48   \u001b[0m | \u001b[0m 0.8771  \u001b[0m | \u001b[0m 0.4057  \u001b[0m | \u001b[0m 8.34    \u001b[0m | \u001b[0m 75.61   \u001b[0m | \u001b[0m 0.7328  \u001b[0m | \u001b[0m 4.248   \u001b[0m | \u001b[0m 11.67   \u001b[0m | \u001b[0m 1.094   \u001b[0m |\n",
      "| \u001b[0m 148     \u001b[0m | \u001b[0m 60.69   \u001b[0m | \u001b[0m 0.8812  \u001b[0m | \u001b[0m 0.6758  \u001b[0m | \u001b[0m 8.594   \u001b[0m | \u001b[0m 91.64   \u001b[0m | \u001b[0m 0.7962  \u001b[0m | \u001b[0m 4.81    \u001b[0m | \u001b[0m 3.789   \u001b[0m | \u001b[0m 7.727   \u001b[0m |\n",
      "| \u001b[0m 149     \u001b[0m | \u001b[0m 56.79   \u001b[0m | \u001b[0m 0.9193  \u001b[0m | \u001b[0m 0.2092  \u001b[0m | \u001b[0m 8.922   \u001b[0m | \u001b[0m 77.27   \u001b[0m | \u001b[0m 0.8628  \u001b[0m | \u001b[0m 3.006   \u001b[0m | \u001b[0m 7.065   \u001b[0m | \u001b[0m 5.903   \u001b[0m |\n",
      "| \u001b[0m 150     \u001b[0m | \u001b[0m 70.91   \u001b[0m | \u001b[0m 0.8529  \u001b[0m | \u001b[0m 0.07836 \u001b[0m | \u001b[0m 3.417   \u001b[0m | \u001b[0m 81.03   \u001b[0m | \u001b[0m 0.8868  \u001b[0m | \u001b[0m 4.663   \u001b[0m | \u001b[0m 9.243   \u001b[0m | \u001b[0m 7.5     \u001b[0m |\n",
      "=========================================================================================================================\n"
     ]
    }
   ],
   "source": [
    "warnings.filterwarnings(action='ignore', category=UserWarning)\n",
    "param_bound = {'alpha' : (0.85,0.99) , 'm_n_estimator' : (10, 100), 'm_lr' : (0.01, 0.99), 'm_subsample' : (0.5, 0.9),\n",
    "               'm_max_depth' : (3,9), 't_col_k' : (1,8.4), 's_col_k' : (1,12.4), 'p_col_k' : (1,12.4)}\n",
    "def h_opt(alpha, m_n_estimator, m_lr, m_subsample, m_max_depth, t_col_k, s_col_k, p_col_k):     \n",
    "    weight_mat = list(map(lambda x : round(alpha,3)**x if x > 0 else 1, range(0,12)))    \n",
    "    #model_=xgboost.XGBRegressor(n_estimators=round(m_n_estimator), learning_rate=round(m_lr,3), \n",
    "                                subsample=round(m_subsample,3), max_depth=round(m_max_depth), tree_method='gpu_hist', gpu_id=0)\n",
    "    #model_= Ridge()#LR(m_lr) #    \n",
    "    model_ = KR(m_lr)\n",
    "    acc_, acc_hat_, _, _, _, _  = run_model_1(model_, d_set1, weight_mat, \n",
    "                                              round(t_col_k), round(s_col_k), round(p_col_k), 202008, 202041, 202041, 202102)# # prev :/ var : \n",
    "    return acc_hat_    \n",
    "\n",
    "sale_optimizer = BayesianOptimization(f=h_opt, pbounds=param_bound, verbose=2, random_state=1)\n",
    "sale_optimizer.maximize(init_points=30, n_iter=120)\n",
    "####################################################################################################################################\n",
    "#####    |  target   |   alpha   |   m_lr    | m_max_... | m_n_es... | m_subs... |  p_col_k  |  s_col_k  |  t_col_k  |\n",
    "#####    |  86.88    |  0.9218   |  0.5155   |  3.912    |  52.12    |  0.6188   |  9.2      |  6.628    |  5.863    |   => XGBoost\n",
    "#####    |  90.48    |  0.85     |  0.01     |  5.05     |  68.06    |  0.9      |  1.0      |  1.0      |  6.371    |   => KR\n",
    "#####    |  93.21    |  0.99     |  0.99     |  6.08     |  65.54    |  0.5      |  1.0      |  1.0      |  6.13     |   => LR\n",
    "#####    |  93.21    |  0.85     |  0.99     |  5.482    |  88.84    |  0.9      |  1.0      |  1.0      |  5.534    |   => Ridge\n"
   ]
  },
  {
   "cell_type": "code",
   "execution_count": 22,
   "id": "35b97d76",
   "metadata": {
    "scrolled": true
   },
   "outputs": [
    {
     "name": "stdout",
     "output_type": "stream",
     "text": [
      "|   iter    |  target   |   alpha   |   col_k   |  col_k1   |   m_lr    | m_max_... | m_n_es... | m_subs... |\n",
      "-------------------------------------------------------------------------------------------------------------\n",
      "| \u001b[0m 1       \u001b[0m | \u001b[0m 72.39   \u001b[0m | \u001b[0m 0.9084  \u001b[0m | \u001b[0m 9.644   \u001b[0m | \u001b[0m 1.001   \u001b[0m | \u001b[0m 0.09768 \u001b[0m | \u001b[0m 3.881   \u001b[0m | \u001b[0m 18.31   \u001b[0m | \u001b[0m 0.4931  \u001b[0m |\n",
      "| \u001b[95m 2       \u001b[0m | \u001b[95m 73.23   \u001b[0m | \u001b[95m 0.8984  \u001b[0m | \u001b[95m 5.761   \u001b[0m | \u001b[95m 7.466   \u001b[0m | \u001b[95m 0.1316  \u001b[0m | \u001b[95m 7.111   \u001b[0m | \u001b[95m 28.4    \u001b[0m | \u001b[95m 0.8391  \u001b[0m |\n",
      "| \u001b[0m 3       \u001b[0m | \u001b[0m 72.44   \u001b[0m | \u001b[0m 0.8538  \u001b[0m | \u001b[0m 9.046   \u001b[0m | \u001b[0m 6.008   \u001b[0m | \u001b[0m 0.172   \u001b[0m | \u001b[0m 3.842   \u001b[0m | \u001b[0m 27.83   \u001b[0m | \u001b[0m 0.8004  \u001b[0m |\n",
      "| \u001b[0m 4       \u001b[0m | \u001b[0m 69.08   \u001b[0m | \u001b[0m 0.9856  \u001b[0m | \u001b[0m 4.761   \u001b[0m | \u001b[0m 9.308   \u001b[0m | \u001b[0m 0.2642  \u001b[0m | \u001b[0m 8.368   \u001b[0m | \u001b[0m 17.65   \u001b[0m | \u001b[0m 0.4195  \u001b[0m |\n",
      "| \u001b[0m 5       \u001b[0m | \u001b[0m 72.33   \u001b[0m | \u001b[0m 0.8738  \u001b[0m | \u001b[0m 11.54   \u001b[0m | \u001b[0m 2.18    \u001b[0m | \u001b[0m 0.1321  \u001b[0m | \u001b[0m 8.747   \u001b[0m | \u001b[0m 57.98   \u001b[0m | \u001b[0m 0.7459  \u001b[0m |\n",
      "| \u001b[0m 6       \u001b[0m | \u001b[0m 67.38   \u001b[0m | \u001b[0m 0.8942  \u001b[0m | \u001b[0m 9.238   \u001b[0m | \u001b[0m 11.02   \u001b[0m | \u001b[0m 0.0153  \u001b[0m | \u001b[0m 7.501   \u001b[0m | \u001b[0m 99.0    \u001b[0m | \u001b[0m 0.7741  \u001b[0m |\n",
      "| \u001b[0m 7       \u001b[0m | \u001b[0m 72.32   \u001b[0m | \u001b[0m 0.8893  \u001b[0m | \u001b[0m 10.47   \u001b[0m | \u001b[0m 2.239   \u001b[0m | \u001b[0m 0.1399  \u001b[0m | \u001b[0m 8.452   \u001b[0m | \u001b[0m 36.43   \u001b[0m | \u001b[0m 0.5439  \u001b[0m |\n",
      "| \u001b[0m 8       \u001b[0m | \u001b[0m 69.04   \u001b[0m | \u001b[0m 0.8682  \u001b[0m | \u001b[0m 1.232   \u001b[0m | \u001b[0m 9.146   \u001b[0m | \u001b[0m 0.07137 \u001b[0m | \u001b[0m 4.593   \u001b[0m | \u001b[0m 54.24   \u001b[0m | \u001b[0m 0.4267  \u001b[0m |\n",
      "| \u001b[95m 9       \u001b[0m | \u001b[95m 73.61   \u001b[0m | \u001b[95m 0.9304  \u001b[0m | \u001b[95m 2.761   \u001b[0m | \u001b[95m 8.072   \u001b[0m | \u001b[95m 0.2129  \u001b[0m | \u001b[95m 3.614   \u001b[0m | \u001b[95m 47.27   \u001b[0m | \u001b[95m 0.7472  \u001b[0m |\n",
      "| \u001b[0m 10      \u001b[0m | \u001b[0m 73.19   \u001b[0m | \u001b[0m 0.908   \u001b[0m | \u001b[0m 1.599   \u001b[0m | \u001b[0m 7.431   \u001b[0m | \u001b[0m 0.2025  \u001b[0m | \u001b[0m 6.089   \u001b[0m | \u001b[0m 95.01   \u001b[0m | \u001b[0m 0.6933  \u001b[0m |\n"
     ]
    },
    {
     "name": "stderr",
     "output_type": "stream",
     "text": [
      "/opt/conda/envs/rapids/lib/python3.7/site-packages/ipykernel_launcher.py:41: RuntimeWarning: divide by zero encountered in true_divide\n",
      "/opt/conda/envs/rapids/lib/python3.7/site-packages/ipykernel_launcher.py:41: RuntimeWarning: divide by zero encountered in true_divide\n",
      "/opt/conda/envs/rapids/lib/python3.7/site-packages/ipykernel_launcher.py:41: RuntimeWarning: divide by zero encountered in true_divide\n",
      "/opt/conda/envs/rapids/lib/python3.7/site-packages/ipykernel_launcher.py:41: RuntimeWarning: divide by zero encountered in true_divide\n",
      "/opt/conda/envs/rapids/lib/python3.7/site-packages/ipykernel_launcher.py:41: RuntimeWarning: divide by zero encountered in true_divide\n",
      "/opt/conda/envs/rapids/lib/python3.7/site-packages/ipykernel_launcher.py:41: RuntimeWarning: divide by zero encountered in true_divide\n",
      "/opt/conda/envs/rapids/lib/python3.7/site-packages/ipykernel_launcher.py:41: RuntimeWarning: divide by zero encountered in true_divide\n",
      "/opt/conda/envs/rapids/lib/python3.7/site-packages/ipykernel_launcher.py:41: RuntimeWarning: divide by zero encountered in true_divide\n",
      "/opt/conda/envs/rapids/lib/python3.7/site-packages/ipykernel_launcher.py:41: RuntimeWarning: divide by zero encountered in true_divide\n",
      "/opt/conda/envs/rapids/lib/python3.7/site-packages/ipykernel_launcher.py:41: RuntimeWarning: divide by zero encountered in true_divide\n",
      "/opt/conda/envs/rapids/lib/python3.7/site-packages/ipykernel_launcher.py:41: RuntimeWarning: divide by zero encountered in true_divide\n"
     ]
    },
    {
     "name": "stdout",
     "output_type": "stream",
     "text": [
      "| \u001b[95m 11      \u001b[0m | \u001b[95m 73.65   \u001b[0m | \u001b[95m 0.9518  \u001b[0m | \u001b[95m 3.341   \u001b[0m | \u001b[95m 7.659   \u001b[0m | \u001b[95m 0.2618  \u001b[0m | \u001b[95m 3.282   \u001b[0m | \u001b[95m 44.69   \u001b[0m | \u001b[95m 0.8599  \u001b[0m |\n"
     ]
    },
    {
     "name": "stderr",
     "output_type": "stream",
     "text": [
      "/opt/conda/envs/rapids/lib/python3.7/site-packages/ipykernel_launcher.py:41: RuntimeWarning: divide by zero encountered in true_divide\n"
     ]
    },
    {
     "name": "stdout",
     "output_type": "stream",
     "text": [
      "| \u001b[0m 12      \u001b[0m | \u001b[0m 72.48   \u001b[0m | \u001b[0m 0.9076  \u001b[0m | \u001b[0m 6.236   \u001b[0m | \u001b[0m 5.622   \u001b[0m | \u001b[0m 0.1738  \u001b[0m | \u001b[0m 6.105   \u001b[0m | \u001b[0m 46.16   \u001b[0m | \u001b[0m 0.6559  \u001b[0m |\n"
     ]
    },
    {
     "name": "stderr",
     "output_type": "stream",
     "text": [
      "/opt/conda/envs/rapids/lib/python3.7/site-packages/ipykernel_launcher.py:41: RuntimeWarning: divide by zero encountered in true_divide\n"
     ]
    },
    {
     "name": "stdout",
     "output_type": "stream",
     "text": [
      "| \u001b[0m 13      \u001b[0m | \u001b[0m 67.28   \u001b[0m | \u001b[0m 0.9422  \u001b[0m | \u001b[0m 1.131   \u001b[0m | \u001b[0m 10.9    \u001b[0m | \u001b[0m 0.2714  \u001b[0m | \u001b[0m 6.306   \u001b[0m | \u001b[0m 44.08   \u001b[0m | \u001b[0m 0.8467  \u001b[0m |\n"
     ]
    },
    {
     "name": "stderr",
     "output_type": "stream",
     "text": [
      "/opt/conda/envs/rapids/lib/python3.7/site-packages/ipykernel_launcher.py:41: RuntimeWarning: divide by zero encountered in true_divide\n"
     ]
    },
    {
     "name": "stdout",
     "output_type": "stream",
     "text": [
      "| \u001b[0m 14      \u001b[0m | \u001b[0m 72.45   \u001b[0m | \u001b[0m 0.9619  \u001b[0m | \u001b[0m 3.924   \u001b[0m | \u001b[0m 5.71    \u001b[0m | \u001b[0m 0.2511  \u001b[0m | \u001b[0m 3.0     \u001b[0m | \u001b[0m 46.53   \u001b[0m | \u001b[0m 0.8672  \u001b[0m |\n"
     ]
    },
    {
     "name": "stderr",
     "output_type": "stream",
     "text": [
      "/opt/conda/envs/rapids/lib/python3.7/site-packages/ipykernel_launcher.py:41: RuntimeWarning: divide by zero encountered in true_divide\n"
     ]
    },
    {
     "name": "stdout",
     "output_type": "stream",
     "text": [
      "| \u001b[0m 15      \u001b[0m | \u001b[0m 69.05   \u001b[0m | \u001b[0m 0.9466  \u001b[0m | \u001b[0m 5.531   \u001b[0m | \u001b[0m 8.576   \u001b[0m | \u001b[0m 0.2154  \u001b[0m | \u001b[0m 3.11    \u001b[0m | \u001b[0m 47.7    \u001b[0m | \u001b[0m 0.4259  \u001b[0m |\n"
     ]
    },
    {
     "name": "stderr",
     "output_type": "stream",
     "text": [
      "/opt/conda/envs/rapids/lib/python3.7/site-packages/ipykernel_launcher.py:41: RuntimeWarning: divide by zero encountered in true_divide\n"
     ]
    },
    {
     "name": "stdout",
     "output_type": "stream",
     "text": [
      "| \u001b[0m 16      \u001b[0m | \u001b[0m 73.22   \u001b[0m | \u001b[0m 0.9612  \u001b[0m | \u001b[0m 2.126   \u001b[0m | \u001b[0m 6.543   \u001b[0m | \u001b[0m 0.2299  \u001b[0m | \u001b[0m 3.932   \u001b[0m | \u001b[0m 46.21   \u001b[0m | \u001b[0m 0.5758  \u001b[0m |\n"
     ]
    },
    {
     "name": "stderr",
     "output_type": "stream",
     "text": [
      "/opt/conda/envs/rapids/lib/python3.7/site-packages/ipykernel_launcher.py:41: RuntimeWarning: divide by zero encountered in true_divide\n"
     ]
    },
    {
     "name": "stdout",
     "output_type": "stream",
     "text": [
      "| \u001b[0m 17      \u001b[0m | \u001b[0m 72.88   \u001b[0m | \u001b[0m 0.85    \u001b[0m | \u001b[0m 3.899   \u001b[0m | \u001b[0m 5.981   \u001b[0m | \u001b[0m 0.01    \u001b[0m | \u001b[0m 4.892   \u001b[0m | \u001b[0m 44.1    \u001b[0m | \u001b[0m 0.9     \u001b[0m |\n"
     ]
    },
    {
     "name": "stderr",
     "output_type": "stream",
     "text": [
      "/opt/conda/envs/rapids/lib/python3.7/site-packages/ipykernel_launcher.py:41: RuntimeWarning: divide by zero encountered in true_divide\n"
     ]
    },
    {
     "name": "stdout",
     "output_type": "stream",
     "text": [
      "| \u001b[0m 18      \u001b[0m | \u001b[0m 72.53   \u001b[0m | \u001b[0m 0.8849  \u001b[0m | \u001b[0m 7.605   \u001b[0m | \u001b[0m 5.936   \u001b[0m | \u001b[0m 0.1416  \u001b[0m | \u001b[0m 6.625   \u001b[0m | \u001b[0m 30.09   \u001b[0m | \u001b[0m 0.7652  \u001b[0m |\n"
     ]
    },
    {
     "name": "stderr",
     "output_type": "stream",
     "text": [
      "/opt/conda/envs/rapids/lib/python3.7/site-packages/ipykernel_launcher.py:41: RuntimeWarning: divide by zero encountered in true_divide\n"
     ]
    },
    {
     "name": "stdout",
     "output_type": "stream",
     "text": [
      "| \u001b[0m 19      \u001b[0m | \u001b[0m 73.64   \u001b[0m | \u001b[0m 0.874   \u001b[0m | \u001b[0m 5.704   \u001b[0m | \u001b[0m 8.031   \u001b[0m | \u001b[0m 0.08698 \u001b[0m | \u001b[0m 4.104   \u001b[0m | \u001b[0m 29.0    \u001b[0m | \u001b[0m 0.9     \u001b[0m |\n"
     ]
    },
    {
     "name": "stderr",
     "output_type": "stream",
     "text": [
      "/opt/conda/envs/rapids/lib/python3.7/site-packages/ipykernel_launcher.py:41: RuntimeWarning: divide by zero encountered in true_divide\n"
     ]
    },
    {
     "name": "stdout",
     "output_type": "stream",
     "text": [
      "| \u001b[0m 20      \u001b[0m | \u001b[0m 68.64   \u001b[0m | \u001b[0m 0.9896  \u001b[0m | \u001b[0m 7.567   \u001b[0m | \u001b[0m 9.971   \u001b[0m | \u001b[0m 0.2375  \u001b[0m | \u001b[0m 5.527   \u001b[0m | \u001b[0m 28.65   \u001b[0m | \u001b[0m 0.4896  \u001b[0m |\n"
     ]
    },
    {
     "name": "stderr",
     "output_type": "stream",
     "text": [
      "/opt/conda/envs/rapids/lib/python3.7/site-packages/ipykernel_launcher.py:41: RuntimeWarning: divide by zero encountered in true_divide\n"
     ]
    },
    {
     "name": "stdout",
     "output_type": "stream",
     "text": [
      "| \u001b[0m 21      \u001b[0m | \u001b[0m 72.51   \u001b[0m | \u001b[0m 0.9603  \u001b[0m | \u001b[0m 4.271   \u001b[0m | \u001b[0m 6.185   \u001b[0m | \u001b[0m 0.163   \u001b[0m | \u001b[0m 4.432   \u001b[0m | \u001b[0m 29.38   \u001b[0m | \u001b[0m 0.6877  \u001b[0m |\n"
     ]
    },
    {
     "name": "stderr",
     "output_type": "stream",
     "text": [
      "/opt/conda/envs/rapids/lib/python3.7/site-packages/ipykernel_launcher.py:41: RuntimeWarning: divide by zero encountered in true_divide\n"
     ]
    },
    {
     "name": "stdout",
     "output_type": "stream",
     "text": [
      "| \u001b[0m 22      \u001b[0m | \u001b[0m 72.88   \u001b[0m | \u001b[0m 0.85    \u001b[0m | \u001b[0m 6.05    \u001b[0m | \u001b[0m 6.385   \u001b[0m | \u001b[0m 0.01    \u001b[0m | \u001b[0m 4.925   \u001b[0m | \u001b[0m 27.45   \u001b[0m | \u001b[0m 0.9     \u001b[0m |\n"
     ]
    },
    {
     "name": "stderr",
     "output_type": "stream",
     "text": [
      "/opt/conda/envs/rapids/lib/python3.7/site-packages/ipykernel_launcher.py:41: RuntimeWarning: divide by zero encountered in true_divide\n"
     ]
    },
    {
     "name": "stdout",
     "output_type": "stream",
     "text": [
      "| \u001b[95m 23      \u001b[0m | \u001b[95m 73.9    \u001b[0m | \u001b[95m 0.85    \u001b[0m | \u001b[95m 3.69    \u001b[0m | \u001b[95m 8.361   \u001b[0m | \u001b[95m 0.01    \u001b[0m | \u001b[95m 5.146   \u001b[0m | \u001b[95m 27.73   \u001b[0m | \u001b[95m 0.9     \u001b[0m |\n"
     ]
    },
    {
     "name": "stderr",
     "output_type": "stream",
     "text": [
      "/opt/conda/envs/rapids/lib/python3.7/site-packages/ipykernel_launcher.py:41: RuntimeWarning: divide by zero encountered in true_divide\n"
     ]
    },
    {
     "name": "stdout",
     "output_type": "stream",
     "text": [
      "| \u001b[0m 24      \u001b[0m | \u001b[0m 73.9    \u001b[0m | \u001b[0m 0.85    \u001b[0m | \u001b[0m 4.21    \u001b[0m | \u001b[0m 8.2     \u001b[0m | \u001b[0m 0.01    \u001b[0m | \u001b[0m 3.0     \u001b[0m | \u001b[0m 27.05   \u001b[0m | \u001b[0m 0.9     \u001b[0m |\n"
     ]
    },
    {
     "name": "stderr",
     "output_type": "stream",
     "text": [
      "/opt/conda/envs/rapids/lib/python3.7/site-packages/ipykernel_launcher.py:41: RuntimeWarning: divide by zero encountered in true_divide\n"
     ]
    },
    {
     "name": "stdout",
     "output_type": "stream",
     "text": [
      "| \u001b[0m 25      \u001b[0m | \u001b[0m 68.73   \u001b[0m | \u001b[0m 0.8716  \u001b[0m | \u001b[0m 2.064   \u001b[0m | \u001b[0m 9.787   \u001b[0m | \u001b[0m 0.184   \u001b[0m | \u001b[0m 3.046   \u001b[0m | \u001b[0m 28.04   \u001b[0m | \u001b[0m 0.7446  \u001b[0m |\n"
     ]
    },
    {
     "name": "stderr",
     "output_type": "stream",
     "text": [
      "/opt/conda/envs/rapids/lib/python3.7/site-packages/ipykernel_launcher.py:41: RuntimeWarning: divide by zero encountered in true_divide\n"
     ]
    },
    {
     "name": "stdout",
     "output_type": "stream",
     "text": [
      "| \u001b[0m 26      \u001b[0m | \u001b[0m 73.9    \u001b[0m | \u001b[0m 0.85    \u001b[0m | \u001b[0m 4.447   \u001b[0m | \u001b[0m 7.774   \u001b[0m | \u001b[0m 0.01    \u001b[0m | \u001b[0m 4.749   \u001b[0m | \u001b[0m 25.78   \u001b[0m | \u001b[0m 0.9     \u001b[0m |\n"
     ]
    },
    {
     "name": "stderr",
     "output_type": "stream",
     "text": [
      "/opt/conda/envs/rapids/lib/python3.7/site-packages/ipykernel_launcher.py:41: RuntimeWarning: divide by zero encountered in true_divide\n"
     ]
    },
    {
     "name": "stdout",
     "output_type": "stream",
     "text": [
      "| \u001b[0m 27      \u001b[0m | \u001b[0m 72.88   \u001b[0m | \u001b[0m 0.85    \u001b[0m | \u001b[0m 3.951   \u001b[0m | \u001b[0m 5.994   \u001b[0m | \u001b[0m 0.01    \u001b[0m | \u001b[0m 3.0     \u001b[0m | \u001b[0m 25.94   \u001b[0m | \u001b[0m 0.9     \u001b[0m |\n"
     ]
    },
    {
     "name": "stderr",
     "output_type": "stream",
     "text": [
      "/opt/conda/envs/rapids/lib/python3.7/site-packages/ipykernel_launcher.py:41: RuntimeWarning: divide by zero encountered in true_divide\n"
     ]
    },
    {
     "name": "stdout",
     "output_type": "stream",
     "text": [
      "| \u001b[0m 28      \u001b[0m | \u001b[0m 73.57   \u001b[0m | \u001b[0m 0.85    \u001b[0m | \u001b[0m 3.367   \u001b[0m | \u001b[0m 6.929   \u001b[0m | \u001b[0m 0.01    \u001b[0m | \u001b[0m 7.165   \u001b[0m | \u001b[0m 26.66   \u001b[0m | \u001b[0m 0.9     \u001b[0m |\n"
     ]
    },
    {
     "name": "stderr",
     "output_type": "stream",
     "text": [
      "/opt/conda/envs/rapids/lib/python3.7/site-packages/ipykernel_launcher.py:41: RuntimeWarning: divide by zero encountered in true_divide\n"
     ]
    },
    {
     "name": "stdout",
     "output_type": "stream",
     "text": [
      "| \u001b[0m 29      \u001b[0m | \u001b[0m 73.9    \u001b[0m | \u001b[0m 0.85    \u001b[0m | \u001b[0m 3.02    \u001b[0m | \u001b[0m 7.658   \u001b[0m | \u001b[0m 0.01    \u001b[0m | \u001b[0m 8.272   \u001b[0m | \u001b[0m 29.43   \u001b[0m | \u001b[0m 0.9     \u001b[0m |\n"
     ]
    },
    {
     "name": "stderr",
     "output_type": "stream",
     "text": [
      "/opt/conda/envs/rapids/lib/python3.7/site-packages/ipykernel_launcher.py:41: RuntimeWarning: divide by zero encountered in true_divide\n"
     ]
    },
    {
     "name": "stdout",
     "output_type": "stream",
     "text": [
      "| \u001b[0m 30      \u001b[0m | \u001b[0m 71.34   \u001b[0m | \u001b[0m 0.9523  \u001b[0m | \u001b[0m 3.231   \u001b[0m | \u001b[0m 4.215   \u001b[0m | \u001b[0m 0.04584 \u001b[0m | \u001b[0m 8.989   \u001b[0m | \u001b[0m 29.34   \u001b[0m | \u001b[0m 0.627   \u001b[0m |\n"
     ]
    },
    {
     "name": "stderr",
     "output_type": "stream",
     "text": [
      "/opt/conda/envs/rapids/lib/python3.7/site-packages/ipykernel_launcher.py:41: RuntimeWarning: divide by zero encountered in true_divide\n"
     ]
    },
    {
     "name": "stdout",
     "output_type": "stream",
     "text": [
      "| \u001b[0m 31      \u001b[0m | \u001b[0m 69.1    \u001b[0m | \u001b[0m 0.8802  \u001b[0m | \u001b[0m 3.263   \u001b[0m | \u001b[0m 9.343   \u001b[0m | \u001b[0m 0.1446  \u001b[0m | \u001b[0m 8.985   \u001b[0m | \u001b[0m 27.04   \u001b[0m | \u001b[0m 0.523   \u001b[0m |\n"
     ]
    },
    {
     "name": "stderr",
     "output_type": "stream",
     "text": [
      "/opt/conda/envs/rapids/lib/python3.7/site-packages/ipykernel_launcher.py:41: RuntimeWarning: divide by zero encountered in true_divide\n"
     ]
    },
    {
     "name": "stdout",
     "output_type": "stream",
     "text": [
      "| \u001b[0m 32      \u001b[0m | \u001b[0m 73.27   \u001b[0m | \u001b[0m 0.874   \u001b[0m | \u001b[0m 2.427   \u001b[0m | \u001b[0m 7.072   \u001b[0m | \u001b[0m 0.159   \u001b[0m | \u001b[0m 6.264   \u001b[0m | \u001b[0m 29.52   \u001b[0m | \u001b[0m 0.4323  \u001b[0m |\n"
     ]
    },
    {
     "name": "stderr",
     "output_type": "stream",
     "text": [
      "/opt/conda/envs/rapids/lib/python3.7/site-packages/ipykernel_launcher.py:41: RuntimeWarning: divide by zero encountered in true_divide\n"
     ]
    },
    {
     "name": "stdout",
     "output_type": "stream",
     "text": [
      "| \u001b[0m 33      \u001b[0m | \u001b[0m 73.25   \u001b[0m | \u001b[0m 0.9118  \u001b[0m | \u001b[0m 4.414   \u001b[0m | \u001b[0m 7.076   \u001b[0m | \u001b[0m 0.1799  \u001b[0m | \u001b[0m 7.445   \u001b[0m | \u001b[0m 31.88   \u001b[0m | \u001b[0m 0.5776  \u001b[0m |\n"
     ]
    },
    {
     "name": "stderr",
     "output_type": "stream",
     "text": [
      "/opt/conda/envs/rapids/lib/python3.7/site-packages/ipykernel_launcher.py:41: RuntimeWarning: divide by zero encountered in true_divide\n"
     ]
    },
    {
     "name": "stdout",
     "output_type": "stream",
     "text": [
      "| \u001b[0m 34      \u001b[0m | \u001b[0m 73.9    \u001b[0m | \u001b[0m 0.85    \u001b[0m | \u001b[0m 6.199   \u001b[0m | \u001b[0m 8.139   \u001b[0m | \u001b[0m 0.01    \u001b[0m | \u001b[0m 3.0     \u001b[0m | \u001b[0m 25.67   \u001b[0m | \u001b[0m 0.9     \u001b[0m |\n"
     ]
    },
    {
     "name": "stderr",
     "output_type": "stream",
     "text": [
      "/opt/conda/envs/rapids/lib/python3.7/site-packages/ipykernel_launcher.py:41: RuntimeWarning: divide by zero encountered in true_divide\n"
     ]
    },
    {
     "name": "stdout",
     "output_type": "stream",
     "text": [
      "| \u001b[0m 35      \u001b[0m | \u001b[0m 68.74   \u001b[0m | \u001b[0m 0.85    \u001b[0m | \u001b[0m 4.716   \u001b[0m | \u001b[0m 8.626   \u001b[0m | \u001b[0m 0.01    \u001b[0m | \u001b[0m 3.0     \u001b[0m | \u001b[0m 23.33   \u001b[0m | \u001b[0m 0.9     \u001b[0m |\n"
     ]
    },
    {
     "name": "stderr",
     "output_type": "stream",
     "text": [
      "/opt/conda/envs/rapids/lib/python3.7/site-packages/ipykernel_launcher.py:41: RuntimeWarning: divide by zero encountered in true_divide\n"
     ]
    },
    {
     "name": "stdout",
     "output_type": "stream",
     "text": [
      "| \u001b[0m 36      \u001b[0m | \u001b[0m 73.57   \u001b[0m | \u001b[0m 0.85    \u001b[0m | \u001b[0m 5.921   \u001b[0m | \u001b[0m 7.381   \u001b[0m | \u001b[0m 0.01    \u001b[0m | \u001b[0m 3.0     \u001b[0m | \u001b[0m 27.39   \u001b[0m | \u001b[0m 0.9     \u001b[0m |\n"
     ]
    },
    {
     "name": "stderr",
     "output_type": "stream",
     "text": [
      "/opt/conda/envs/rapids/lib/python3.7/site-packages/ipykernel_launcher.py:41: RuntimeWarning: divide by zero encountered in true_divide\n"
     ]
    },
    {
     "name": "stdout",
     "output_type": "stream",
     "text": [
      "| \u001b[0m 37      \u001b[0m | \u001b[0m 69.08   \u001b[0m | \u001b[0m 0.8826  \u001b[0m | \u001b[0m 2.239   \u001b[0m | \u001b[0m 8.649   \u001b[0m | \u001b[0m 0.1045  \u001b[0m | \u001b[0m 7.871   \u001b[0m | \u001b[0m 32.79   \u001b[0m | \u001b[0m 0.6601  \u001b[0m |\n"
     ]
    },
    {
     "name": "stderr",
     "output_type": "stream",
     "text": [
      "/opt/conda/envs/rapids/lib/python3.7/site-packages/ipykernel_launcher.py:41: RuntimeWarning: divide by zero encountered in true_divide\n"
     ]
    },
    {
     "name": "stdout",
     "output_type": "stream",
     "text": [
      "| \u001b[0m 38      \u001b[0m | \u001b[0m 73.57   \u001b[0m | \u001b[0m 0.85    \u001b[0m | \u001b[0m 4.298   \u001b[0m | \u001b[0m 6.52    \u001b[0m | \u001b[0m 0.01    \u001b[0m | \u001b[0m 7.22    \u001b[0m | \u001b[0m 29.57   \u001b[0m | \u001b[0m 0.9     \u001b[0m |\n"
     ]
    },
    {
     "name": "stderr",
     "output_type": "stream",
     "text": [
      "/opt/conda/envs/rapids/lib/python3.7/site-packages/sklearn/linear_model/_ridge.py:188: LinAlgWarning: Ill-conditioned matrix (rcond=9.3223e-17): result may not be accurate.\n",
      "  overwrite_a=False)\n",
      "/opt/conda/envs/rapids/lib/python3.7/site-packages/ipykernel_launcher.py:41: RuntimeWarning: divide by zero encountered in true_divide\n"
     ]
    },
    {
     "name": "stdout",
     "output_type": "stream",
     "text": [
      "| \u001b[0m 39      \u001b[0m | \u001b[0m 71.5    \u001b[0m | \u001b[0m 0.99    \u001b[0m | \u001b[0m 2.436   \u001b[0m | \u001b[0m 6.174   \u001b[0m | \u001b[0m 0.01    \u001b[0m | \u001b[0m 5.256   \u001b[0m | \u001b[0m 26.8    \u001b[0m | \u001b[0m 0.9     \u001b[0m |\n"
     ]
    },
    {
     "name": "stderr",
     "output_type": "stream",
     "text": [
      "/opt/conda/envs/rapids/lib/python3.7/site-packages/ipykernel_launcher.py:41: RuntimeWarning: divide by zero encountered in true_divide\n"
     ]
    },
    {
     "name": "stdout",
     "output_type": "stream",
     "text": [
      "| \u001b[0m 40      \u001b[0m | \u001b[0m 73.22   \u001b[0m | \u001b[0m 0.85    \u001b[0m | \u001b[0m 1.0     \u001b[0m | \u001b[0m 7.395   \u001b[0m | \u001b[0m 0.3     \u001b[0m | \u001b[0m 3.0     \u001b[0m | \u001b[0m 48.41   \u001b[0m | \u001b[0m 0.9     \u001b[0m |\n"
     ]
    },
    {
     "name": "stderr",
     "output_type": "stream",
     "text": [
      "/opt/conda/envs/rapids/lib/python3.7/site-packages/ipykernel_launcher.py:41: RuntimeWarning: divide by zero encountered in true_divide\n"
     ]
    },
    {
     "name": "stdout",
     "output_type": "stream",
     "text": [
      "| \u001b[0m 41      \u001b[0m | \u001b[0m 73.57   \u001b[0m | \u001b[0m 0.85    \u001b[0m | \u001b[0m 5.726   \u001b[0m | \u001b[0m 7.262   \u001b[0m | \u001b[0m 0.01    \u001b[0m | \u001b[0m 9.0     \u001b[0m | \u001b[0m 30.6    \u001b[0m | \u001b[0m 0.9     \u001b[0m |\n"
     ]
    },
    {
     "name": "stderr",
     "output_type": "stream",
     "text": [
      "/opt/conda/envs/rapids/lib/python3.7/site-packages/ipykernel_launcher.py:41: RuntimeWarning: divide by zero encountered in true_divide\n"
     ]
    },
    {
     "name": "stdout",
     "output_type": "stream",
     "text": [
      "| \u001b[0m 42      \u001b[0m | \u001b[0m 72.45   \u001b[0m | \u001b[0m 0.99    \u001b[0m | \u001b[0m 1.72    \u001b[0m | \u001b[0m 6.084   \u001b[0m | \u001b[0m 0.3     \u001b[0m | \u001b[0m 3.0     \u001b[0m | \u001b[0m 43.04   \u001b[0m | \u001b[0m 0.9     \u001b[0m |\n"
     ]
    },
    {
     "name": "stderr",
     "output_type": "stream",
     "text": [
      "/opt/conda/envs/rapids/lib/python3.7/site-packages/ipykernel_launcher.py:41: RuntimeWarning: divide by zero encountered in true_divide\n"
     ]
    },
    {
     "name": "stdout",
     "output_type": "stream",
     "text": [
      "| \u001b[0m 43      \u001b[0m | \u001b[0m 72.49   \u001b[0m | \u001b[0m 0.85    \u001b[0m | \u001b[0m 6.637   \u001b[0m | \u001b[0m 5.722   \u001b[0m | \u001b[0m 0.3     \u001b[0m | \u001b[0m 8.654   \u001b[0m | \u001b[0m 32.92   \u001b[0m | \u001b[0m 0.9     \u001b[0m |\n"
     ]
    },
    {
     "name": "stderr",
     "output_type": "stream",
     "text": [
      "/opt/conda/envs/rapids/lib/python3.7/site-packages/ipykernel_launcher.py:41: RuntimeWarning: divide by zero encountered in true_divide\n"
     ]
    },
    {
     "name": "stdout",
     "output_type": "stream",
     "text": [
      "| \u001b[0m 44      \u001b[0m | \u001b[0m 72.56   \u001b[0m | \u001b[0m 0.898   \u001b[0m | \u001b[0m 1.0     \u001b[0m | \u001b[0m 5.411   \u001b[0m | \u001b[0m 0.2625  \u001b[0m | \u001b[0m 5.382   \u001b[0m | \u001b[0m 92.89   \u001b[0m | \u001b[0m 0.6471  \u001b[0m |\n"
     ]
    },
    {
     "name": "stderr",
     "output_type": "stream",
     "text": [
      "/opt/conda/envs/rapids/lib/python3.7/site-packages/ipykernel_launcher.py:41: RuntimeWarning: divide by zero encountered in true_divide\n"
     ]
    },
    {
     "name": "stdout",
     "output_type": "stream",
     "text": [
      "| \u001b[0m 45      \u001b[0m | \u001b[0m 73.57   \u001b[0m | \u001b[0m 0.85    \u001b[0m | \u001b[0m 1.929   \u001b[0m | \u001b[0m 6.936   \u001b[0m | \u001b[0m 0.01    \u001b[0m | \u001b[0m 5.759   \u001b[0m | \u001b[0m 48.49   \u001b[0m | \u001b[0m 0.9     \u001b[0m |\n"
     ]
    },
    {
     "name": "stderr",
     "output_type": "stream",
     "text": [
      "/opt/conda/envs/rapids/lib/python3.7/site-packages/ipykernel_launcher.py:41: RuntimeWarning: divide by zero encountered in true_divide\n"
     ]
    },
    {
     "name": "stdout",
     "output_type": "stream",
     "text": [
      "| \u001b[0m 46      \u001b[0m | \u001b[0m 72.5    \u001b[0m | \u001b[0m 0.99    \u001b[0m | \u001b[0m 1.068   \u001b[0m | \u001b[0m 4.45    \u001b[0m | \u001b[0m 0.01    \u001b[0m | \u001b[0m 4.834   \u001b[0m | \u001b[0m 48.91   \u001b[0m | \u001b[0m 0.9     \u001b[0m |\n"
     ]
    },
    {
     "name": "stderr",
     "output_type": "stream",
     "text": [
      "/opt/conda/envs/rapids/lib/python3.7/site-packages/ipykernel_launcher.py:41: RuntimeWarning: divide by zero encountered in true_divide\n"
     ]
    },
    {
     "name": "stdout",
     "output_type": "stream",
     "text": [
      "| \u001b[0m 47      \u001b[0m | \u001b[0m 72.88   \u001b[0m | \u001b[0m 0.85    \u001b[0m | \u001b[0m 5.552   \u001b[0m | \u001b[0m 6.106   \u001b[0m | \u001b[0m 0.01    \u001b[0m | \u001b[0m 7.162   \u001b[0m | \u001b[0m 25.19   \u001b[0m | \u001b[0m 0.9     \u001b[0m |\n"
     ]
    },
    {
     "name": "stderr",
     "output_type": "stream",
     "text": [
      "/opt/conda/envs/rapids/lib/python3.7/site-packages/ipykernel_launcher.py:41: RuntimeWarning: divide by zero encountered in true_divide\n"
     ]
    },
    {
     "name": "stdout",
     "output_type": "stream",
     "text": [
      "| \u001b[0m 48      \u001b[0m | \u001b[0m 72.52   \u001b[0m | \u001b[0m 0.9494  \u001b[0m | \u001b[0m 2.861   \u001b[0m | \u001b[0m 5.993   \u001b[0m | \u001b[0m 0.08361 \u001b[0m | \u001b[0m 7.737   \u001b[0m | \u001b[0m 46.32   \u001b[0m | \u001b[0m 0.5491  \u001b[0m |\n"
     ]
    },
    {
     "name": "stderr",
     "output_type": "stream",
     "text": [
      "/opt/conda/envs/rapids/lib/python3.7/site-packages/ipykernel_launcher.py:41: RuntimeWarning: divide by zero encountered in true_divide\n"
     ]
    },
    {
     "name": "stdout",
     "output_type": "stream",
     "text": [
      "| \u001b[0m 49      \u001b[0m | \u001b[0m 72.88   \u001b[0m | \u001b[0m 0.85    \u001b[0m | \u001b[0m 7.729   \u001b[0m | \u001b[0m 5.912   \u001b[0m | \u001b[0m 0.01    \u001b[0m | \u001b[0m 3.0     \u001b[0m | \u001b[0m 24.97   \u001b[0m | \u001b[0m 0.9     \u001b[0m |\n"
     ]
    },
    {
     "name": "stderr",
     "output_type": "stream",
     "text": [
      "/opt/conda/envs/rapids/lib/python3.7/site-packages/ipykernel_launcher.py:41: RuntimeWarning: divide by zero encountered in true_divide\n"
     ]
    },
    {
     "name": "stdout",
     "output_type": "stream",
     "text": [
      "| \u001b[0m 50      \u001b[0m | \u001b[0m 69.07   \u001b[0m | \u001b[0m 0.9299  \u001b[0m | \u001b[0m 1.0     \u001b[0m | \u001b[0m 9.442   \u001b[0m | \u001b[0m 0.2236  \u001b[0m | \u001b[0m 4.401   \u001b[0m | \u001b[0m 93.42   \u001b[0m | \u001b[0m 0.5999  \u001b[0m |\n"
     ]
    },
    {
     "name": "stderr",
     "output_type": "stream",
     "text": [
      "/opt/conda/envs/rapids/lib/python3.7/site-packages/ipykernel_launcher.py:41: RuntimeWarning: divide by zero encountered in true_divide\n"
     ]
    },
    {
     "name": "stdout",
     "output_type": "stream",
     "text": [
      "| \u001b[0m 51      \u001b[0m | \u001b[0m 72.51   \u001b[0m | \u001b[0m 0.8757  \u001b[0m | \u001b[0m 3.193   \u001b[0m | \u001b[0m 5.608   \u001b[0m | \u001b[0m 0.1035  \u001b[0m | \u001b[0m 6.019   \u001b[0m | \u001b[0m 96.57   \u001b[0m | \u001b[0m 0.5885  \u001b[0m |\n"
     ]
    },
    {
     "name": "stderr",
     "output_type": "stream",
     "text": [
      "/opt/conda/envs/rapids/lib/python3.7/site-packages/ipykernel_launcher.py:41: RuntimeWarning: divide by zero encountered in true_divide\n"
     ]
    },
    {
     "name": "stdout",
     "output_type": "stream",
     "text": [
      "| \u001b[0m 52      \u001b[0m | \u001b[0m 72.49   \u001b[0m | \u001b[0m 0.9481  \u001b[0m | \u001b[0m 1.886   \u001b[0m | \u001b[0m 5.839   \u001b[0m | \u001b[0m 0.1463  \u001b[0m | \u001b[0m 8.577   \u001b[0m | \u001b[0m 94.42   \u001b[0m | \u001b[0m 0.4502  \u001b[0m |\n"
     ]
    },
    {
     "name": "stderr",
     "output_type": "stream",
     "text": [
      "/opt/conda/envs/rapids/lib/python3.7/site-packages/ipykernel_launcher.py:41: RuntimeWarning: divide by zero encountered in true_divide\n"
     ]
    },
    {
     "name": "stdout",
     "output_type": "stream",
     "text": [
      "| \u001b[0m 53      \u001b[0m | \u001b[0m 73.57   \u001b[0m | \u001b[0m 0.99    \u001b[0m | \u001b[0m 5.023   \u001b[0m | \u001b[0m 7.504   \u001b[0m | \u001b[0m 0.3     \u001b[0m | \u001b[0m 3.0     \u001b[0m | \u001b[0m 42.32   \u001b[0m | \u001b[0m 0.9     \u001b[0m |\n"
     ]
    },
    {
     "name": "stderr",
     "output_type": "stream",
     "text": [
      "/opt/conda/envs/rapids/lib/python3.7/site-packages/ipykernel_launcher.py:41: RuntimeWarning: divide by zero encountered in true_divide\n"
     ]
    },
    {
     "name": "stdout",
     "output_type": "stream",
     "text": [
      "| \u001b[0m 54      \u001b[0m | \u001b[0m 72.61   \u001b[0m | \u001b[0m 0.99    \u001b[0m | \u001b[0m 6.015   \u001b[0m | \u001b[0m 4.992   \u001b[0m | \u001b[0m 0.3     \u001b[0m | \u001b[0m 3.0     \u001b[0m | \u001b[0m 42.33   \u001b[0m | \u001b[0m 0.4     \u001b[0m |\n"
     ]
    },
    {
     "name": "stderr",
     "output_type": "stream",
     "text": [
      "/opt/conda/envs/rapids/lib/python3.7/site-packages/ipykernel_launcher.py:41: RuntimeWarning: divide by zero encountered in true_divide\n"
     ]
    },
    {
     "name": "stdout",
     "output_type": "stream",
     "text": [
      "| \u001b[0m 55      \u001b[0m | \u001b[0m 73.9    \u001b[0m | \u001b[0m 0.85    \u001b[0m | \u001b[0m 6.566   \u001b[0m | \u001b[0m 7.689   \u001b[0m | \u001b[0m 0.01    \u001b[0m | \u001b[0m 5.236   \u001b[0m | \u001b[0m 41.76   \u001b[0m | \u001b[0m 0.9     \u001b[0m |\n"
     ]
    },
    {
     "name": "stderr",
     "output_type": "stream",
     "text": [
      "/opt/conda/envs/rapids/lib/python3.7/site-packages/ipykernel_launcher.py:41: RuntimeWarning: divide by zero encountered in true_divide\n"
     ]
    },
    {
     "name": "stdout",
     "output_type": "stream",
     "text": [
      "| \u001b[0m 56      \u001b[0m | \u001b[0m 73.21   \u001b[0m | \u001b[0m 0.9542  \u001b[0m | \u001b[0m 4.874   \u001b[0m | \u001b[0m 7.214   \u001b[0m | \u001b[0m 0.1257  \u001b[0m | \u001b[0m 4.706   \u001b[0m | \u001b[0m 39.87   \u001b[0m | \u001b[0m 0.7839  \u001b[0m |\n"
     ]
    },
    {
     "name": "stderr",
     "output_type": "stream",
     "text": [
      "/opt/conda/envs/rapids/lib/python3.7/site-packages/ipykernel_launcher.py:41: RuntimeWarning: divide by zero encountered in true_divide\n"
     ]
    },
    {
     "name": "stdout",
     "output_type": "stream",
     "text": [
      "| \u001b[0m 57      \u001b[0m | \u001b[0m 68.74   \u001b[0m | \u001b[0m 0.85    \u001b[0m | \u001b[0m 7.244   \u001b[0m | \u001b[0m 8.538   \u001b[0m | \u001b[0m 0.01    \u001b[0m | \u001b[0m 3.257   \u001b[0m | \u001b[0m 40.61   \u001b[0m | \u001b[0m 0.9     \u001b[0m |\n"
     ]
    },
    {
     "name": "stderr",
     "output_type": "stream",
     "text": [
      "/opt/conda/envs/rapids/lib/python3.7/site-packages/ipykernel_launcher.py:41: RuntimeWarning: divide by zero encountered in true_divide\n"
     ]
    },
    {
     "name": "stdout",
     "output_type": "stream",
     "text": [
      "| \u001b[0m 58      \u001b[0m | \u001b[0m 73.24   \u001b[0m | \u001b[0m 0.99    \u001b[0m | \u001b[0m 4.904   \u001b[0m | \u001b[0m 7.202   \u001b[0m | \u001b[0m 0.3     \u001b[0m | \u001b[0m 5.601   \u001b[0m | \u001b[0m 42.16   \u001b[0m | \u001b[0m 0.4     \u001b[0m |\n"
     ]
    },
    {
     "name": "stderr",
     "output_type": "stream",
     "text": [
      "/opt/conda/envs/rapids/lib/python3.7/site-packages/ipykernel_launcher.py:41: RuntimeWarning: divide by zero encountered in true_divide\n"
     ]
    },
    {
     "name": "stdout",
     "output_type": "stream",
     "text": [
      "| \u001b[0m 59      \u001b[0m | \u001b[0m 72.88   \u001b[0m | \u001b[0m 0.85    \u001b[0m | \u001b[0m 6.902   \u001b[0m | \u001b[0m 6.102   \u001b[0m | \u001b[0m 0.01    \u001b[0m | \u001b[0m 6.545   \u001b[0m | \u001b[0m 41.71   \u001b[0m | \u001b[0m 0.9     \u001b[0m |\n"
     ]
    },
    {
     "name": "stderr",
     "output_type": "stream",
     "text": [
      "/opt/conda/envs/rapids/lib/python3.7/site-packages/ipykernel_launcher.py:41: RuntimeWarning: divide by zero encountered in true_divide\n",
      "/opt/conda/envs/rapids/lib/python3.7/site-packages/ipykernel_launcher.py:41: RuntimeWarning: divide by zero encountered in true_divide\n"
     ]
    },
    {
     "name": "stdout",
     "output_type": "stream",
     "text": [
      "| \u001b[0m 60      \u001b[0m | \u001b[0m 69.09   \u001b[0m | \u001b[0m 0.85    \u001b[0m | \u001b[0m 5.308   \u001b[0m | \u001b[0m 8.572   \u001b[0m | \u001b[0m 0.3     \u001b[0m | \u001b[0m 4.35    \u001b[0m | \u001b[0m 26.94   \u001b[0m | \u001b[0m 0.9     \u001b[0m |\n",
      "| \u001b[0m 61      \u001b[0m | \u001b[0m 73.57   \u001b[0m | \u001b[0m 0.85    \u001b[0m | \u001b[0m 4.977   \u001b[0m | \u001b[0m 7.343   \u001b[0m | \u001b[0m 0.01    \u001b[0m | \u001b[0m 3.0     \u001b[0m | \u001b[0m 26.17   \u001b[0m | \u001b[0m 0.9     \u001b[0m |\n"
     ]
    },
    {
     "name": "stderr",
     "output_type": "stream",
     "text": [
      "/opt/conda/envs/rapids/lib/python3.7/site-packages/ipykernel_launcher.py:41: RuntimeWarning: divide by zero encountered in true_divide\n"
     ]
    },
    {
     "name": "stdout",
     "output_type": "stream",
     "text": [
      "| \u001b[0m 62      \u001b[0m | \u001b[0m 73.61   \u001b[0m | \u001b[0m 0.8773  \u001b[0m | \u001b[0m 4.415   \u001b[0m | \u001b[0m 7.625   \u001b[0m | \u001b[0m 0.09427 \u001b[0m | \u001b[0m 8.1     \u001b[0m | \u001b[0m 30.08   \u001b[0m | \u001b[0m 0.7735  \u001b[0m |\n"
     ]
    },
    {
     "name": "stderr",
     "output_type": "stream",
     "text": [
      "/opt/conda/envs/rapids/lib/python3.7/site-packages/ipykernel_launcher.py:41: RuntimeWarning: divide by zero encountered in true_divide\n"
     ]
    },
    {
     "name": "stdout",
     "output_type": "stream",
     "text": [
      "| \u001b[0m 63      \u001b[0m | \u001b[0m 73.62   \u001b[0m | \u001b[0m 0.9015  \u001b[0m | \u001b[0m 4.314   \u001b[0m | \u001b[0m 8.418   \u001b[0m | \u001b[0m 0.18    \u001b[0m | \u001b[0m 6.544   \u001b[0m | \u001b[0m 29.66   \u001b[0m | \u001b[0m 0.8816  \u001b[0m |\n"
     ]
    },
    {
     "name": "stderr",
     "output_type": "stream",
     "text": [
      "/opt/conda/envs/rapids/lib/python3.7/site-packages/ipykernel_launcher.py:41: RuntimeWarning: divide by zero encountered in true_divide\n"
     ]
    },
    {
     "name": "stdout",
     "output_type": "stream",
     "text": [
      "| \u001b[0m 64      \u001b[0m | \u001b[0m 73.9    \u001b[0m | \u001b[0m 0.85    \u001b[0m | \u001b[0m 3.722   \u001b[0m | \u001b[0m 7.555   \u001b[0m | \u001b[0m 0.01    \u001b[0m | \u001b[0m 6.559   \u001b[0m | \u001b[0m 28.31   \u001b[0m | \u001b[0m 0.9     \u001b[0m |\n"
     ]
    },
    {
     "name": "stderr",
     "output_type": "stream",
     "text": [
      "/opt/conda/envs/rapids/lib/python3.7/site-packages/ipykernel_launcher.py:41: RuntimeWarning: divide by zero encountered in true_divide\n"
     ]
    },
    {
     "name": "stdout",
     "output_type": "stream",
     "text": [
      "| \u001b[0m 65      \u001b[0m | \u001b[0m 73.57   \u001b[0m | \u001b[0m 0.85    \u001b[0m | \u001b[0m 5.891   \u001b[0m | \u001b[0m 7.011   \u001b[0m | \u001b[0m 0.01    \u001b[0m | \u001b[0m 4.47    \u001b[0m | \u001b[0m 42.97   \u001b[0m | \u001b[0m 0.9     \u001b[0m |\n"
     ]
    },
    {
     "name": "stderr",
     "output_type": "stream",
     "text": [
      "/opt/conda/envs/rapids/lib/python3.7/site-packages/ipykernel_launcher.py:41: RuntimeWarning: divide by zero encountered in true_divide\n",
      "/opt/conda/envs/rapids/lib/python3.7/site-packages/ipykernel_launcher.py:41: RuntimeWarning: divide by zero encountered in true_divide\n"
     ]
    },
    {
     "name": "stdout",
     "output_type": "stream",
     "text": [
      "| \u001b[0m 66      \u001b[0m | \u001b[0m 73.19   \u001b[0m | \u001b[0m 0.919   \u001b[0m | \u001b[0m 3.743   \u001b[0m | \u001b[0m 7.142   \u001b[0m | \u001b[0m 0.2135  \u001b[0m | \u001b[0m 3.055   \u001b[0m | \u001b[0m 27.9    \u001b[0m | \u001b[0m 0.4615  \u001b[0m |\n",
      "| \u001b[0m 67      \u001b[0m | \u001b[0m 73.9    \u001b[0m | \u001b[0m 0.85    \u001b[0m | \u001b[0m 6.418   \u001b[0m | \u001b[0m 7.947   \u001b[0m | \u001b[0m 0.01    \u001b[0m | \u001b[0m 6.118   \u001b[0m | \u001b[0m 43.09   \u001b[0m | \u001b[0m 0.9     \u001b[0m |\n"
     ]
    },
    {
     "name": "stderr",
     "output_type": "stream",
     "text": [
      "/opt/conda/envs/rapids/lib/python3.7/site-packages/ipykernel_launcher.py:41: RuntimeWarning: divide by zero encountered in true_divide\n"
     ]
    },
    {
     "name": "stdout",
     "output_type": "stream",
     "text": [
      "| \u001b[0m 68      \u001b[0m | \u001b[0m 73.61   \u001b[0m | \u001b[0m 0.8619  \u001b[0m | \u001b[0m 3.615   \u001b[0m | \u001b[0m 8.034   \u001b[0m | \u001b[0m 0.249   \u001b[0m | \u001b[0m 5.749   \u001b[0m | \u001b[0m 25.5    \u001b[0m | \u001b[0m 0.5755  \u001b[0m |\n"
     ]
    },
    {
     "name": "stderr",
     "output_type": "stream",
     "text": [
      "/opt/conda/envs/rapids/lib/python3.7/site-packages/ipykernel_launcher.py:41: RuntimeWarning: divide by zero encountered in true_divide\n"
     ]
    },
    {
     "name": "stdout",
     "output_type": "stream",
     "text": [
      "| \u001b[0m 69      \u001b[0m | \u001b[0m 72.88   \u001b[0m | \u001b[0m 0.85    \u001b[0m | \u001b[0m 4.543   \u001b[0m | \u001b[0m 6.485   \u001b[0m | \u001b[0m 0.01    \u001b[0m | \u001b[0m 5.321   \u001b[0m | \u001b[0m 25.38   \u001b[0m | \u001b[0m 0.4     \u001b[0m |\n"
     ]
    },
    {
     "name": "stderr",
     "output_type": "stream",
     "text": [
      "/opt/conda/envs/rapids/lib/python3.7/site-packages/ipykernel_launcher.py:41: RuntimeWarning: divide by zero encountered in true_divide\n"
     ]
    },
    {
     "name": "stdout",
     "output_type": "stream",
     "text": [
      "| \u001b[0m 70      \u001b[0m | \u001b[0m 73.9    \u001b[0m | \u001b[0m 0.85    \u001b[0m | \u001b[0m 6.016   \u001b[0m | \u001b[0m 8.375   \u001b[0m | \u001b[0m 0.01    \u001b[0m | \u001b[0m 6.769   \u001b[0m | \u001b[0m 41.46   \u001b[0m | \u001b[0m 0.9     \u001b[0m |\n"
     ]
    },
    {
     "name": "stderr",
     "output_type": "stream",
     "text": [
      "/opt/conda/envs/rapids/lib/python3.7/site-packages/ipykernel_launcher.py:41: RuntimeWarning: divide by zero encountered in true_divide\n"
     ]
    },
    {
     "name": "stdout",
     "output_type": "stream",
     "text": [
      "| \u001b[0m 71      \u001b[0m | \u001b[0m 73.57   \u001b[0m | \u001b[0m 0.99    \u001b[0m | \u001b[0m 7.63    \u001b[0m | \u001b[0m 8.312   \u001b[0m | \u001b[0m 0.3     \u001b[0m | \u001b[0m 6.699   \u001b[0m | \u001b[0m 42.06   \u001b[0m | \u001b[0m 0.4     \u001b[0m |\n"
     ]
    },
    {
     "name": "stderr",
     "output_type": "stream",
     "text": [
      "/opt/conda/envs/rapids/lib/python3.7/site-packages/ipykernel_launcher.py:41: RuntimeWarning: divide by zero encountered in true_divide\n"
     ]
    },
    {
     "name": "stdout",
     "output_type": "stream",
     "text": [
      "| \u001b[0m 72      \u001b[0m | \u001b[0m 73.61   \u001b[0m | \u001b[0m 0.85    \u001b[0m | \u001b[0m 1.223   \u001b[0m | \u001b[0m 8.104   \u001b[0m | \u001b[0m 0.3     \u001b[0m | \u001b[0m 4.794   \u001b[0m | \u001b[0m 47.4    \u001b[0m | \u001b[0m 0.9     \u001b[0m |\n"
     ]
    },
    {
     "name": "stderr",
     "output_type": "stream",
     "text": [
      "/opt/conda/envs/rapids/lib/python3.7/site-packages/ipykernel_launcher.py:41: RuntimeWarning: divide by zero encountered in true_divide\n"
     ]
    },
    {
     "name": "stdout",
     "output_type": "stream",
     "text": [
      "| \u001b[0m 73      \u001b[0m | \u001b[0m 73.57   \u001b[0m | \u001b[0m 0.85    \u001b[0m | \u001b[0m 5.503   \u001b[0m | \u001b[0m 7.468   \u001b[0m | \u001b[0m 0.01    \u001b[0m | \u001b[0m 5.426   \u001b[0m | \u001b[0m 30.69   \u001b[0m | \u001b[0m 0.9     \u001b[0m |\n"
     ]
    },
    {
     "name": "stderr",
     "output_type": "stream",
     "text": [
      "/opt/conda/envs/rapids/lib/python3.7/site-packages/ipykernel_launcher.py:41: RuntimeWarning: divide by zero encountered in true_divide\n"
     ]
    },
    {
     "name": "stdout",
     "output_type": "stream",
     "text": [
      "| \u001b[0m 74      \u001b[0m | \u001b[0m 73.57   \u001b[0m | \u001b[0m 0.85    \u001b[0m | \u001b[0m 6.288   \u001b[0m | \u001b[0m 6.987   \u001b[0m | \u001b[0m 0.01    \u001b[0m | \u001b[0m 3.0     \u001b[0m | \u001b[0m 29.77   \u001b[0m | \u001b[0m 0.9     \u001b[0m |\n"
     ]
    },
    {
     "name": "stderr",
     "output_type": "stream",
     "text": [
      "/opt/conda/envs/rapids/lib/python3.7/site-packages/sklearn/linear_model/_ridge.py:188: LinAlgWarning: Ill-conditioned matrix (rcond=7.0226e-17): result may not be accurate.\n",
      "  overwrite_a=False)\n",
      "/opt/conda/envs/rapids/lib/python3.7/site-packages/ipykernel_launcher.py:41: RuntimeWarning: divide by zero encountered in true_divide\n"
     ]
    },
    {
     "name": "stdout",
     "output_type": "stream",
     "text": [
      "| \u001b[0m 75      \u001b[0m | \u001b[0m 73.26   \u001b[0m | \u001b[0m 0.99    \u001b[0m | \u001b[0m 6.357   \u001b[0m | \u001b[0m 8.226   \u001b[0m | \u001b[0m 0.01    \u001b[0m | \u001b[0m 8.335   \u001b[0m | \u001b[0m 42.88   \u001b[0m | \u001b[0m 0.9     \u001b[0m |\n"
     ]
    },
    {
     "name": "stderr",
     "output_type": "stream",
     "text": [
      "/opt/conda/envs/rapids/lib/python3.7/site-packages/ipykernel_launcher.py:41: RuntimeWarning: divide by zero encountered in true_divide\n"
     ]
    },
    {
     "name": "stdout",
     "output_type": "stream",
     "text": [
      "| \u001b[0m 76      \u001b[0m | \u001b[0m 68.75   \u001b[0m | \u001b[0m 0.9116  \u001b[0m | \u001b[0m 5.963   \u001b[0m | \u001b[0m 9.898   \u001b[0m | \u001b[0m 0.02843 \u001b[0m | \u001b[0m 6.197   \u001b[0m | \u001b[0m 42.96   \u001b[0m | \u001b[0m 0.7998  \u001b[0m |\n"
     ]
    },
    {
     "name": "stderr",
     "output_type": "stream",
     "text": [
      "/opt/conda/envs/rapids/lib/python3.7/site-packages/ipykernel_launcher.py:41: RuntimeWarning: divide by zero encountered in true_divide\n"
     ]
    },
    {
     "name": "stdout",
     "output_type": "stream",
     "text": [
      "| \u001b[0m 77      \u001b[0m | \u001b[0m 73.57   \u001b[0m | \u001b[0m 0.99    \u001b[0m | \u001b[0m 6.802   \u001b[0m | \u001b[0m 7.708   \u001b[0m | \u001b[0m 0.3     \u001b[0m | \u001b[0m 7.967   \u001b[0m | \u001b[0m 40.68   \u001b[0m | \u001b[0m 0.9     \u001b[0m |\n"
     ]
    },
    {
     "name": "stderr",
     "output_type": "stream",
     "text": [
      "/opt/conda/envs/rapids/lib/python3.7/site-packages/ipykernel_launcher.py:41: RuntimeWarning: divide by zero encountered in true_divide\n"
     ]
    },
    {
     "name": "stdout",
     "output_type": "stream",
     "text": [
      "| \u001b[0m 78      \u001b[0m | \u001b[0m 73.25   \u001b[0m | \u001b[0m 0.8719  \u001b[0m | \u001b[0m 8.242   \u001b[0m | \u001b[0m 6.678   \u001b[0m | \u001b[0m 0.06603 \u001b[0m | \u001b[0m 6.589   \u001b[0m | \u001b[0m 43.37   \u001b[0m | \u001b[0m 0.4062  \u001b[0m |\n"
     ]
    },
    {
     "name": "stderr",
     "output_type": "stream",
     "text": [
      "/opt/conda/envs/rapids/lib/python3.7/site-packages/ipykernel_launcher.py:41: RuntimeWarning: divide by zero encountered in true_divide\n"
     ]
    },
    {
     "name": "stdout",
     "output_type": "stream",
     "text": [
      "| \u001b[0m 79      \u001b[0m | \u001b[0m 73.18   \u001b[0m | \u001b[0m 0.9081  \u001b[0m | \u001b[0m 4.794   \u001b[0m | \u001b[0m 6.754   \u001b[0m | \u001b[0m 0.09129 \u001b[0m | \u001b[0m 7.848   \u001b[0m | \u001b[0m 41.23   \u001b[0m | \u001b[0m 0.5758  \u001b[0m |\n"
     ]
    },
    {
     "name": "stderr",
     "output_type": "stream",
     "text": [
      "/opt/conda/envs/rapids/lib/python3.7/site-packages/ipykernel_launcher.py:41: RuntimeWarning: divide by zero encountered in true_divide\n"
     ]
    },
    {
     "name": "stdout",
     "output_type": "stream",
     "text": [
      "| \u001b[0m 80      \u001b[0m | \u001b[0m 73.9    \u001b[0m | \u001b[0m 0.85    \u001b[0m | \u001b[0m 4.895   \u001b[0m | \u001b[0m 8.271   \u001b[0m | \u001b[0m 0.01    \u001b[0m | \u001b[0m 3.431   \u001b[0m | \u001b[0m 30.55   \u001b[0m | \u001b[0m 0.9     \u001b[0m |\n"
     ]
    },
    {
     "name": "stderr",
     "output_type": "stream",
     "text": [
      "/opt/conda/envs/rapids/lib/python3.7/site-packages/ipykernel_launcher.py:41: RuntimeWarning: divide by zero encountered in true_divide\n"
     ]
    },
    {
     "name": "stdout",
     "output_type": "stream",
     "text": [
      "| \u001b[0m 81      \u001b[0m | \u001b[0m 73.9    \u001b[0m | \u001b[0m 0.85    \u001b[0m | \u001b[0m 6.359   \u001b[0m | \u001b[0m 7.857   \u001b[0m | \u001b[0m 0.01    \u001b[0m | \u001b[0m 3.562   \u001b[0m | \u001b[0m 31.92   \u001b[0m | \u001b[0m 0.9     \u001b[0m |\n"
     ]
    },
    {
     "name": "stderr",
     "output_type": "stream",
     "text": [
      "/opt/conda/envs/rapids/lib/python3.7/site-packages/ipykernel_launcher.py:41: RuntimeWarning: divide by zero encountered in true_divide\n"
     ]
    },
    {
     "name": "stdout",
     "output_type": "stream",
     "text": [
      "| \u001b[0m 82      \u001b[0m | \u001b[0m 73.57   \u001b[0m | \u001b[0m 0.85    \u001b[0m | \u001b[0m 4.748   \u001b[0m | \u001b[0m 6.953   \u001b[0m | \u001b[0m 0.01    \u001b[0m | \u001b[0m 3.761   \u001b[0m | \u001b[0m 32.27   \u001b[0m | \u001b[0m 0.4     \u001b[0m |\n"
     ]
    },
    {
     "name": "stderr",
     "output_type": "stream",
     "text": [
      "/opt/conda/envs/rapids/lib/python3.7/site-packages/ipykernel_launcher.py:41: RuntimeWarning: divide by zero encountered in true_divide\n"
     ]
    },
    {
     "name": "stdout",
     "output_type": "stream",
     "text": [
      "| \u001b[0m 83      \u001b[0m | \u001b[0m 69.14   \u001b[0m | \u001b[0m 0.8623  \u001b[0m | \u001b[0m 5.35    \u001b[0m | \u001b[0m 9.36    \u001b[0m | \u001b[0m 0.2556  \u001b[0m | \u001b[0m 4.54    \u001b[0m | \u001b[0m 31.95   \u001b[0m | \u001b[0m 0.7986  \u001b[0m |\n"
     ]
    },
    {
     "name": "stderr",
     "output_type": "stream",
     "text": [
      "/opt/conda/envs/rapids/lib/python3.7/site-packages/ipykernel_launcher.py:41: RuntimeWarning: divide by zero encountered in true_divide\n"
     ]
    },
    {
     "name": "stdout",
     "output_type": "stream",
     "text": [
      "| \u001b[0m 84      \u001b[0m | \u001b[0m 72.88   \u001b[0m | \u001b[0m 0.85    \u001b[0m | \u001b[0m 6.37    \u001b[0m | \u001b[0m 6.194   \u001b[0m | \u001b[0m 0.01    \u001b[0m | \u001b[0m 3.886   \u001b[0m | \u001b[0m 31.61   \u001b[0m | \u001b[0m 0.9     \u001b[0m |\n"
     ]
    },
    {
     "name": "stderr",
     "output_type": "stream",
     "text": [
      "/opt/conda/envs/rapids/lib/python3.7/site-packages/sklearn/linear_model/_ridge.py:188: LinAlgWarning: Ill-conditioned matrix (rcond=7.0226e-17): result may not be accurate.\n",
      "  overwrite_a=False)\n",
      "/opt/conda/envs/rapids/lib/python3.7/site-packages/ipykernel_launcher.py:41: RuntimeWarning: divide by zero encountered in true_divide\n"
     ]
    },
    {
     "name": "stdout",
     "output_type": "stream",
     "text": [
      "| \u001b[0m 85      \u001b[0m | \u001b[0m 73.26   \u001b[0m | \u001b[0m 0.99    \u001b[0m | \u001b[0m 1.974   \u001b[0m | \u001b[0m 8.443   \u001b[0m | \u001b[0m 0.01    \u001b[0m | \u001b[0m 4.562   \u001b[0m | \u001b[0m 49.08   \u001b[0m | \u001b[0m 0.4     \u001b[0m |\n"
     ]
    },
    {
     "name": "stderr",
     "output_type": "stream",
     "text": [
      "/opt/conda/envs/rapids/lib/python3.7/site-packages/ipykernel_launcher.py:41: RuntimeWarning: divide by zero encountered in true_divide\n"
     ]
    },
    {
     "name": "stdout",
     "output_type": "stream",
     "text": [
      "| \u001b[0m 86      \u001b[0m | \u001b[0m 73.25   \u001b[0m | \u001b[0m 0.9503  \u001b[0m | \u001b[0m 6.035   \u001b[0m | \u001b[0m 7.499   \u001b[0m | \u001b[0m 0.2094  \u001b[0m | \u001b[0m 6.585   \u001b[0m | \u001b[0m 39.39   \u001b[0m | \u001b[0m 0.5276  \u001b[0m |\n"
     ]
    },
    {
     "name": "stderr",
     "output_type": "stream",
     "text": [
      "/opt/conda/envs/rapids/lib/python3.7/site-packages/ipykernel_launcher.py:41: RuntimeWarning: divide by zero encountered in true_divide\n"
     ]
    },
    {
     "name": "stdout",
     "output_type": "stream",
     "text": [
      "| \u001b[0m 87      \u001b[0m | \u001b[0m 73.68   \u001b[0m | \u001b[0m 0.9406  \u001b[0m | \u001b[0m 8.004   \u001b[0m | \u001b[0m 7.626   \u001b[0m | \u001b[0m 0.07281 \u001b[0m | \u001b[0m 3.277   \u001b[0m | \u001b[0m 32.03   \u001b[0m | \u001b[0m 0.6038  \u001b[0m |\n"
     ]
    },
    {
     "name": "stderr",
     "output_type": "stream",
     "text": [
      "/opt/conda/envs/rapids/lib/python3.7/site-packages/ipykernel_launcher.py:41: RuntimeWarning: divide by zero encountered in true_divide\n"
     ]
    },
    {
     "name": "stdout",
     "output_type": "stream",
     "text": [
      "| \u001b[0m 88      \u001b[0m | \u001b[0m 73.57   \u001b[0m | \u001b[0m 0.85    \u001b[0m | \u001b[0m 6.655   \u001b[0m | \u001b[0m 7.108   \u001b[0m | \u001b[0m 0.01    \u001b[0m | \u001b[0m 3.0     \u001b[0m | \u001b[0m 33.54   \u001b[0m | \u001b[0m 0.4     \u001b[0m |\n"
     ]
    },
    {
     "name": "stderr",
     "output_type": "stream",
     "text": [
      "/opt/conda/envs/rapids/lib/python3.7/site-packages/ipykernel_launcher.py:41: RuntimeWarning: divide by zero encountered in true_divide\n"
     ]
    },
    {
     "name": "stdout",
     "output_type": "stream",
     "text": [
      "| \u001b[0m 89      \u001b[0m | \u001b[0m 73.57   \u001b[0m | \u001b[0m 0.85    \u001b[0m | \u001b[0m 8.556   \u001b[0m | \u001b[0m 7.499   \u001b[0m | \u001b[0m 0.01    \u001b[0m | \u001b[0m 8.686   \u001b[0m | \u001b[0m 42.25   \u001b[0m | \u001b[0m 0.9     \u001b[0m |\n"
     ]
    },
    {
     "name": "stderr",
     "output_type": "stream",
     "text": [
      "/opt/conda/envs/rapids/lib/python3.7/site-packages/ipykernel_launcher.py:41: RuntimeWarning: divide by zero encountered in true_divide\n"
     ]
    },
    {
     "name": "stdout",
     "output_type": "stream",
     "text": [
      "| \u001b[0m 90      \u001b[0m | \u001b[0m 73.22   \u001b[0m | \u001b[0m 0.85    \u001b[0m | \u001b[0m 5.992   \u001b[0m | \u001b[0m 6.582   \u001b[0m | \u001b[0m 0.3     \u001b[0m | \u001b[0m 7.226   \u001b[0m | \u001b[0m 43.64   \u001b[0m | \u001b[0m 0.9     \u001b[0m |\n"
     ]
    },
    {
     "name": "stderr",
     "output_type": "stream",
     "text": [
      "/opt/conda/envs/rapids/lib/python3.7/site-packages/ipykernel_launcher.py:41: RuntimeWarning: divide by zero encountered in true_divide\n"
     ]
    },
    {
     "name": "stdout",
     "output_type": "stream",
     "text": [
      "| \u001b[0m 91      \u001b[0m | \u001b[0m 73.9    \u001b[0m | \u001b[0m 0.85    \u001b[0m | \u001b[0m 9.254   \u001b[0m | \u001b[0m 7.886   \u001b[0m | \u001b[0m 0.01    \u001b[0m | \u001b[0m 7.557   \u001b[0m | \u001b[0m 40.43   \u001b[0m | \u001b[0m 0.9     \u001b[0m |\n"
     ]
    },
    {
     "name": "stderr",
     "output_type": "stream",
     "text": [
      "/opt/conda/envs/rapids/lib/python3.7/site-packages/ipykernel_launcher.py:41: RuntimeWarning: divide by zero encountered in true_divide\n"
     ]
    },
    {
     "name": "stdout",
     "output_type": "stream",
     "text": [
      "| \u001b[0m 92      \u001b[0m | \u001b[0m 68.74   \u001b[0m | \u001b[0m 0.85    \u001b[0m | \u001b[0m 8.607   \u001b[0m | \u001b[0m 9.104   \u001b[0m | \u001b[0m 0.01    \u001b[0m | \u001b[0m 8.963   \u001b[0m | \u001b[0m 40.61   \u001b[0m | \u001b[0m 0.4     \u001b[0m |\n"
     ]
    },
    {
     "name": "stderr",
     "output_type": "stream",
     "text": [
      "/opt/conda/envs/rapids/lib/python3.7/site-packages/ipykernel_launcher.py:41: RuntimeWarning: divide by zero encountered in true_divide\n"
     ]
    },
    {
     "name": "stdout",
     "output_type": "stream",
     "text": [
      "| \u001b[0m 93      \u001b[0m | \u001b[0m 73.24   \u001b[0m | \u001b[0m 0.99    \u001b[0m | \u001b[0m 9.354   \u001b[0m | \u001b[0m 6.753   \u001b[0m | \u001b[0m 0.3     \u001b[0m | \u001b[0m 7.032   \u001b[0m | \u001b[0m 41.39   \u001b[0m | \u001b[0m 0.9     \u001b[0m |\n"
     ]
    },
    {
     "name": "stderr",
     "output_type": "stream",
     "text": [
      "/opt/conda/envs/rapids/lib/python3.7/site-packages/ipykernel_launcher.py:41: RuntimeWarning: divide by zero encountered in true_divide\n"
     ]
    },
    {
     "name": "stdout",
     "output_type": "stream",
     "text": [
      "| \u001b[0m 94      \u001b[0m | \u001b[0m 73.57   \u001b[0m | \u001b[0m 0.85    \u001b[0m | \u001b[0m 8.48    \u001b[0m | \u001b[0m 7.011   \u001b[0m | \u001b[0m 0.01    \u001b[0m | \u001b[0m 6.753   \u001b[0m | \u001b[0m 39.47   \u001b[0m | \u001b[0m 0.9     \u001b[0m |\n"
     ]
    },
    {
     "name": "stderr",
     "output_type": "stream",
     "text": [
      "/opt/conda/envs/rapids/lib/python3.7/site-packages/ipykernel_launcher.py:41: RuntimeWarning: divide by zero encountered in true_divide\n"
     ]
    },
    {
     "name": "stdout",
     "output_type": "stream",
     "text": [
      "| \u001b[0m 95      \u001b[0m | \u001b[0m 73.61   \u001b[0m | \u001b[0m 0.9218  \u001b[0m | \u001b[0m 10.63   \u001b[0m | \u001b[0m 8.272   \u001b[0m | \u001b[0m 0.2163  \u001b[0m | \u001b[0m 6.69    \u001b[0m | \u001b[0m 40.74   \u001b[0m | \u001b[0m 0.803   \u001b[0m |\n"
     ]
    },
    {
     "name": "stderr",
     "output_type": "stream",
     "text": [
      "/opt/conda/envs/rapids/lib/python3.7/site-packages/ipykernel_launcher.py:41: RuntimeWarning: divide by zero encountered in true_divide\n"
     ]
    },
    {
     "name": "stdout",
     "output_type": "stream",
     "text": [
      "| \u001b[0m 96      \u001b[0m | \u001b[0m 73.2    \u001b[0m | \u001b[0m 0.964   \u001b[0m | \u001b[0m 7.489   \u001b[0m | \u001b[0m 6.969   \u001b[0m | \u001b[0m 0.1868  \u001b[0m | \u001b[0m 8.975   \u001b[0m | \u001b[0m 44.32   \u001b[0m | \u001b[0m 0.5201  \u001b[0m |\n"
     ]
    },
    {
     "name": "stderr",
     "output_type": "stream",
     "text": [
      "/opt/conda/envs/rapids/lib/python3.7/site-packages/ipykernel_launcher.py:41: RuntimeWarning: divide by zero encountered in true_divide\n"
     ]
    },
    {
     "name": "stdout",
     "output_type": "stream",
     "text": [
      "| \u001b[0m 97      \u001b[0m | \u001b[0m 72.51   \u001b[0m | \u001b[0m 0.8959  \u001b[0m | \u001b[0m 9.892   \u001b[0m | \u001b[0m 6.298   \u001b[0m | \u001b[0m 0.1188  \u001b[0m | \u001b[0m 8.121   \u001b[0m | \u001b[0m 39.6    \u001b[0m | \u001b[0m 0.8986  \u001b[0m |\n"
     ]
    },
    {
     "name": "stderr",
     "output_type": "stream",
     "text": [
      "/opt/conda/envs/rapids/lib/python3.7/site-packages/sklearn/linear_model/_ridge.py:188: LinAlgWarning: Ill-conditioned matrix (rcond=9.3223e-17): result may not be accurate.\n",
      "  overwrite_a=False)\n",
      "/opt/conda/envs/rapids/lib/python3.7/site-packages/ipykernel_launcher.py:41: RuntimeWarning: divide by zero encountered in true_divide\n"
     ]
    },
    {
     "name": "stdout",
     "output_type": "stream",
     "text": [
      "| \u001b[0m 98      \u001b[0m | \u001b[0m 71.5    \u001b[0m | \u001b[0m 0.99    \u001b[0m | \u001b[0m 7.037   \u001b[0m | \u001b[0m 6.2     \u001b[0m | \u001b[0m 0.01    \u001b[0m | \u001b[0m 9.0     \u001b[0m | \u001b[0m 42.19   \u001b[0m | \u001b[0m 0.9     \u001b[0m |\n"
     ]
    },
    {
     "name": "stderr",
     "output_type": "stream",
     "text": [
      "/opt/conda/envs/rapids/lib/python3.7/site-packages/ipykernel_launcher.py:41: RuntimeWarning: divide by zero encountered in true_divide\n"
     ]
    },
    {
     "name": "stdout",
     "output_type": "stream",
     "text": [
      "| \u001b[0m 99      \u001b[0m | \u001b[0m 73.9    \u001b[0m | \u001b[0m 0.85    \u001b[0m | \u001b[0m 9.441   \u001b[0m | \u001b[0m 7.956   \u001b[0m | \u001b[0m 0.01    \u001b[0m | \u001b[0m 7.835   \u001b[0m | \u001b[0m 43.69   \u001b[0m | \u001b[0m 0.9     \u001b[0m |\n"
     ]
    },
    {
     "name": "stderr",
     "output_type": "stream",
     "text": [
      "/opt/conda/envs/rapids/lib/python3.7/site-packages/ipykernel_launcher.py:41: RuntimeWarning: divide by zero encountered in true_divide\n"
     ]
    },
    {
     "name": "stdout",
     "output_type": "stream",
     "text": [
      "| \u001b[0m 100     \u001b[0m | \u001b[0m 73.57   \u001b[0m | \u001b[0m 0.85    \u001b[0m | \u001b[0m 4.532   \u001b[0m | \u001b[0m 6.875   \u001b[0m | \u001b[0m 0.01    \u001b[0m | \u001b[0m 3.0     \u001b[0m | \u001b[0m 30.8    \u001b[0m | \u001b[0m 0.9     \u001b[0m |\n"
     ]
    },
    {
     "name": "stderr",
     "output_type": "stream",
     "text": [
      "/opt/conda/envs/rapids/lib/python3.7/site-packages/ipykernel_launcher.py:41: RuntimeWarning: divide by zero encountered in true_divide\n"
     ]
    },
    {
     "name": "stdout",
     "output_type": "stream",
     "text": [
      "| \u001b[0m 101     \u001b[0m | \u001b[0m 73.57   \u001b[0m | \u001b[0m 0.85    \u001b[0m | \u001b[0m 10.96   \u001b[0m | \u001b[0m 7.387   \u001b[0m | \u001b[0m 0.01    \u001b[0m | \u001b[0m 8.194   \u001b[0m | \u001b[0m 42.59   \u001b[0m | \u001b[0m 0.9     \u001b[0m |\n"
     ]
    },
    {
     "name": "stderr",
     "output_type": "stream",
     "text": [
      "/opt/conda/envs/rapids/lib/python3.7/site-packages/ipykernel_launcher.py:41: RuntimeWarning: divide by zero encountered in true_divide\n"
     ]
    },
    {
     "name": "stdout",
     "output_type": "stream",
     "text": [
      "| \u001b[0m 102     \u001b[0m | \u001b[0m 72.55   \u001b[0m | \u001b[0m 0.9556  \u001b[0m | \u001b[0m 10.07   \u001b[0m | \u001b[0m 6.149   \u001b[0m | \u001b[0m 0.05138 \u001b[0m | \u001b[0m 8.654   \u001b[0m | \u001b[0m 44.93   \u001b[0m | \u001b[0m 0.5304  \u001b[0m |\n"
     ]
    },
    {
     "name": "stderr",
     "output_type": "stream",
     "text": [
      "/opt/conda/envs/rapids/lib/python3.7/site-packages/ipykernel_launcher.py:41: RuntimeWarning: divide by zero encountered in true_divide\n"
     ]
    },
    {
     "name": "stdout",
     "output_type": "stream",
     "text": [
      "| \u001b[0m 103     \u001b[0m | \u001b[0m 73.9    \u001b[0m | \u001b[0m 0.85    \u001b[0m | \u001b[0m 8.09    \u001b[0m | \u001b[0m 8.159   \u001b[0m | \u001b[0m 0.01    \u001b[0m | \u001b[0m 3.0     \u001b[0m | \u001b[0m 25.53   \u001b[0m | \u001b[0m 0.9     \u001b[0m |\n"
     ]
    },
    {
     "name": "stderr",
     "output_type": "stream",
     "text": [
      "/opt/conda/envs/rapids/lib/python3.7/site-packages/ipykernel_launcher.py:41: RuntimeWarning: divide by zero encountered in true_divide\n"
     ]
    },
    {
     "name": "stdout",
     "output_type": "stream",
     "text": [
      "| \u001b[0m 104     \u001b[0m | \u001b[0m 73.59   \u001b[0m | \u001b[0m 0.8859  \u001b[0m | \u001b[0m 9.808   \u001b[0m | \u001b[0m 8.168   \u001b[0m | \u001b[0m 0.2318  \u001b[0m | \u001b[0m 6.168   \u001b[0m | \u001b[0m 42.89   \u001b[0m | \u001b[0m 0.5689  \u001b[0m |\n"
     ]
    },
    {
     "name": "stderr",
     "output_type": "stream",
     "text": [
      "/opt/conda/envs/rapids/lib/python3.7/site-packages/ipykernel_launcher.py:41: RuntimeWarning: divide by zero encountered in true_divide\n"
     ]
    },
    {
     "name": "stdout",
     "output_type": "stream",
     "text": [
      "| \u001b[0m 105     \u001b[0m | \u001b[0m 69.09   \u001b[0m | \u001b[0m 0.85    \u001b[0m | \u001b[0m 11.44   \u001b[0m | \u001b[0m 9.086   \u001b[0m | \u001b[0m 0.3     \u001b[0m | \u001b[0m 7.239   \u001b[0m | \u001b[0m 43.74   \u001b[0m | \u001b[0m 0.9     \u001b[0m |\n"
     ]
    },
    {
     "name": "stderr",
     "output_type": "stream",
     "text": [
      "/opt/conda/envs/rapids/lib/python3.7/site-packages/sklearn/linear_model/_ridge.py:188: LinAlgWarning: Ill-conditioned matrix (rcond=7.0226e-17): result may not be accurate.\n",
      "  overwrite_a=False)\n",
      "/opt/conda/envs/rapids/lib/python3.7/site-packages/ipykernel_launcher.py:41: RuntimeWarning: divide by zero encountered in true_divide\n"
     ]
    },
    {
     "name": "stdout",
     "output_type": "stream",
     "text": [
      "| \u001b[0m 106     \u001b[0m | \u001b[0m 73.26   \u001b[0m | \u001b[0m 0.99    \u001b[0m | \u001b[0m 9.629   \u001b[0m | \u001b[0m 8.261   \u001b[0m | \u001b[0m 0.01    \u001b[0m | \u001b[0m 3.0     \u001b[0m | \u001b[0m 24.08   \u001b[0m | \u001b[0m 0.9     \u001b[0m |\n"
     ]
    },
    {
     "name": "stderr",
     "output_type": "stream",
     "text": [
      "/opt/conda/envs/rapids/lib/python3.7/site-packages/ipykernel_launcher.py:41: RuntimeWarning: divide by zero encountered in true_divide\n"
     ]
    },
    {
     "name": "stdout",
     "output_type": "stream",
     "text": [
      "| \u001b[0m 107     \u001b[0m | \u001b[0m 73.57   \u001b[0m | \u001b[0m 0.85    \u001b[0m | \u001b[0m 8.376   \u001b[0m | \u001b[0m 7.149   \u001b[0m | \u001b[0m 0.01    \u001b[0m | \u001b[0m 4.379   \u001b[0m | \u001b[0m 33.84   \u001b[0m | \u001b[0m 0.9     \u001b[0m |\n"
     ]
    },
    {
     "name": "stderr",
     "output_type": "stream",
     "text": [
      "/opt/conda/envs/rapids/lib/python3.7/site-packages/ipykernel_launcher.py:41: RuntimeWarning: divide by zero encountered in true_divide\n"
     ]
    },
    {
     "name": "stdout",
     "output_type": "stream",
     "text": [
      "| \u001b[0m 108     \u001b[0m | \u001b[0m 73.9    \u001b[0m | \u001b[0m 0.85    \u001b[0m | \u001b[0m 10.02   \u001b[0m | \u001b[0m 8.214   \u001b[0m | \u001b[0m 0.01    \u001b[0m | \u001b[0m 6.265   \u001b[0m | \u001b[0m 38.83   \u001b[0m | \u001b[0m 0.9     \u001b[0m |\n"
     ]
    },
    {
     "name": "stderr",
     "output_type": "stream",
     "text": [
      "/opt/conda/envs/rapids/lib/python3.7/site-packages/ipykernel_launcher.py:41: RuntimeWarning: divide by zero encountered in true_divide\n"
     ]
    },
    {
     "name": "stdout",
     "output_type": "stream",
     "text": [
      "| \u001b[0m 109     \u001b[0m | \u001b[0m 73.9    \u001b[0m | \u001b[0m 0.8501  \u001b[0m | \u001b[0m 9.195   \u001b[0m | \u001b[0m 7.528   \u001b[0m | \u001b[0m 0.01    \u001b[0m | \u001b[0m 5.931   \u001b[0m | \u001b[0m 36.84   \u001b[0m | \u001b[0m 0.9     \u001b[0m |\n",
      "| \u001b[0m 110     \u001b[0m | \u001b[0m 73.57   \u001b[0m | \u001b[0m 0.9178  \u001b[0m | \u001b[0m 7.713   \u001b[0m | \u001b[0m 6.69    \u001b[0m | \u001b[0m 0.01    \u001b[0m | \u001b[0m 5.033   \u001b[0m | \u001b[0m 35.99   \u001b[0m | \u001b[0m 0.4     \u001b[0m |\n",
      "=============================================================================================================\n"
     ]
    },
    {
     "name": "stderr",
     "output_type": "stream",
     "text": [
      "/opt/conda/envs/rapids/lib/python3.7/site-packages/ipykernel_launcher.py:41: RuntimeWarning: divide by zero encountered in true_divide\n"
     ]
    }
   ],
   "source": [
    "warnings.filterwarnings(action='ignore', category=UserWarning)\n",
    "param_bound = {'alpha' : (0.85,0.99) , 'm_n_estimator' : (10, 100), 'm_lr' : (0.01, 0.3), 'm_subsample' : (0.4, 0.9), 'm_max_depth' : (3,9), 'col_k' : (1,13), 'col_k1' : (1,13)}\n",
    "def h_opt(alpha, m_n_estimator, m_lr, m_subsample, m_max_depth, col_k, col_k1):\n",
    "    weight_mat = list(map(lambda x : round(alpha,3)**x if x > 0 else 1, range(0,12)))    #\n",
    "    #model_=xgboost.XGBRegressor(n_estimators=round(m_n_estimator), learning_rate=round(m_lr,3), subsample=round(m_subsample,3), max_depth=round(m_max_depth), tree_method='gpu_hist', gpu_id=0)\n",
    "    model_ = KR(m_lr)\n",
    "    #acc_, acc_hat_, _, _, _, _ = run_model_(model_, d_set, 'Product', round(col_k), 201903, 202043, 202044, 202053)\n",
    "    acc_, acc_hat_, _, _, _, _ = run_model_2(model_, d_set1, 'Sale', weight_mat, 201945, 202102, 202102, 202112, None, round(col_k1))  # prev / var : \n",
    "    return acc_hat_    \n",
    "\n",
    "product_optimizer = BayesianOptimization(f=h_opt, pbounds=param_bound, verbose=2, random_state=1)\n",
    "product_optimizer.maximize(init_points=10, n_iter=100)\n",
    "#####################################################################################################################\n",
    "#####    |  target   |   alpha   |   col_k   |  col_k1   |   m_lr    | m_max_... | m_n_es... | m_subs... |\n",
    "#####    |  76.57    |  0.907    |  1.101    |  7.027    |  0.4475   |  7.76     |  74.95    |  0.4331   |   => XGBoost\n",
    "#####    |  73.9     |  0.85     |  3.69     |  8.361    |  0.01     |  5.146    |  27.73    |  0.9      |"
   ]
  },
  {
   "cell_type": "code",
   "execution_count": null,
   "id": "78c6ae45",
   "metadata": {},
   "outputs": [],
   "source": []
  },
  {
   "cell_type": "code",
   "execution_count": 33,
   "id": "bc476010",
   "metadata": {},
   "outputs": [
    {
     "name": "stdout",
     "output_type": "stream",
     "text": [
      "|   iter    |  target   |   alpha   |   col_k   |  col_k1   |   m_lr    | m_max_... | m_n_es... | m_subs... |\n",
      "-------------------------------------------------------------------------------------------------------------\n",
      "| \u001b[0m 1       \u001b[0m | \u001b[0m 62.17   \u001b[0m | \u001b[0m 0.9084  \u001b[0m | \u001b[0m 9.644   \u001b[0m | \u001b[0m 1.001   \u001b[0m | \u001b[0m 0.09768 \u001b[0m | \u001b[0m 3.881   \u001b[0m | \u001b[0m 18.31   \u001b[0m | \u001b[0m 0.4931  \u001b[0m |\n",
      "| \u001b[0m 2       \u001b[0m | \u001b[0m 60.94   \u001b[0m | \u001b[0m 0.8984  \u001b[0m | \u001b[0m 5.761   \u001b[0m | \u001b[0m 7.466   \u001b[0m | \u001b[0m 0.1316  \u001b[0m | \u001b[0m 7.111   \u001b[0m | \u001b[0m 28.4    \u001b[0m | \u001b[0m 0.8391  \u001b[0m |\n",
      "| \u001b[0m 3       \u001b[0m | \u001b[0m 22.65   \u001b[0m | \u001b[0m 0.8538  \u001b[0m | \u001b[0m 9.046   \u001b[0m | \u001b[0m 6.008   \u001b[0m | \u001b[0m 0.172   \u001b[0m | \u001b[0m 3.842   \u001b[0m | \u001b[0m 27.83   \u001b[0m | \u001b[0m 0.8004  \u001b[0m |\n",
      "| \u001b[95m 4       \u001b[0m | \u001b[95m 76.24   \u001b[0m | \u001b[95m 0.9856  \u001b[0m | \u001b[95m 4.761   \u001b[0m | \u001b[95m 9.308   \u001b[0m | \u001b[95m 0.2642  \u001b[0m | \u001b[95m 8.368   \u001b[0m | \u001b[95m 17.65   \u001b[0m | \u001b[95m 0.4195  \u001b[0m |\n",
      "| \u001b[0m 5       \u001b[0m | \u001b[0m 43.17   \u001b[0m | \u001b[0m 0.8738  \u001b[0m | \u001b[0m 11.54   \u001b[0m | \u001b[0m 2.18    \u001b[0m | \u001b[0m 0.1321  \u001b[0m | \u001b[0m 8.747   \u001b[0m | \u001b[0m 57.98   \u001b[0m | \u001b[0m 0.7459  \u001b[0m |\n",
      "| \u001b[0m 6       \u001b[0m | \u001b[0m 42.43   \u001b[0m | \u001b[0m 0.8942  \u001b[0m | \u001b[0m 9.238   \u001b[0m | \u001b[0m 11.02   \u001b[0m | \u001b[0m 0.0153  \u001b[0m | \u001b[0m 7.501   \u001b[0m | \u001b[0m 99.0    \u001b[0m | \u001b[0m 0.7741  \u001b[0m |\n",
      "| \u001b[0m 7       \u001b[0m | \u001b[0m 54.36   \u001b[0m | \u001b[0m 0.8893  \u001b[0m | \u001b[0m 10.47   \u001b[0m | \u001b[0m 2.239   \u001b[0m | \u001b[0m 0.1399  \u001b[0m | \u001b[0m 8.452   \u001b[0m | \u001b[0m 36.43   \u001b[0m | \u001b[0m 0.5439  \u001b[0m |\n",
      "| \u001b[95m 8       \u001b[0m | \u001b[95m 77.09   \u001b[0m | \u001b[95m 0.8682  \u001b[0m | \u001b[95m 1.232   \u001b[0m | \u001b[95m 9.146   \u001b[0m | \u001b[95m 0.07137 \u001b[0m | \u001b[95m 4.593   \u001b[0m | \u001b[95m 54.24   \u001b[0m | \u001b[95m 0.4267  \u001b[0m |\n"
     ]
    },
    {
     "name": "stderr",
     "output_type": "stream",
     "text": [
      "/opt/conda/envs/rapids/lib/python3.7/site-packages/sklearn/linear_model/_ridge.py:188: LinAlgWarning: Ill-conditioned matrix (rcond=5.92949e-17): result may not be accurate.\n",
      "  overwrite_a=False)\n"
     ]
    },
    {
     "name": "stdout",
     "output_type": "stream",
     "text": [
      "| \u001b[0m 9       \u001b[0m | \u001b[0m 74.68   \u001b[0m | \u001b[0m 0.9304  \u001b[0m | \u001b[0m 2.761   \u001b[0m | \u001b[0m 8.072   \u001b[0m | \u001b[0m 0.2129  \u001b[0m | \u001b[0m 3.614   \u001b[0m | \u001b[0m 47.27   \u001b[0m | \u001b[0m 0.7472  \u001b[0m |\n",
      "| \u001b[0m 10      \u001b[0m | \u001b[0m 74.83   \u001b[0m | \u001b[0m 0.908   \u001b[0m | \u001b[0m 1.599   \u001b[0m | \u001b[0m 7.431   \u001b[0m | \u001b[0m 0.2025  \u001b[0m | \u001b[0m 6.089   \u001b[0m | \u001b[0m 95.01   \u001b[0m | \u001b[0m 0.6933  \u001b[0m |\n",
      "| \u001b[0m 11      \u001b[0m | \u001b[0m 57.8    \u001b[0m | \u001b[0m 0.875   \u001b[0m | \u001b[0m 5.054   \u001b[0m | \u001b[0m 9.044   \u001b[0m | \u001b[0m 0.06062 \u001b[0m | \u001b[0m 8.362   \u001b[0m | \u001b[0m 18.21   \u001b[0m | \u001b[0m 0.7722  \u001b[0m |\n",
      "| \u001b[0m 12      \u001b[0m | \u001b[0m 75.25   \u001b[0m | \u001b[0m 0.9571  \u001b[0m | \u001b[0m 2.314   \u001b[0m | \u001b[0m 7.264   \u001b[0m | \u001b[0m 0.2328  \u001b[0m | \u001b[0m 7.123   \u001b[0m | \u001b[0m 21.97   \u001b[0m | \u001b[0m 0.501   \u001b[0m |\n",
      "| \u001b[95m 13      \u001b[0m | \u001b[95m 79.49   \u001b[0m | \u001b[95m 0.9851  \u001b[0m | \u001b[95m 1.796   \u001b[0m | \u001b[95m 1.627   \u001b[0m | \u001b[95m 0.1873  \u001b[0m | \u001b[95m 6.474   \u001b[0m | \u001b[95m 87.47   \u001b[0m | \u001b[95m 0.6013  \u001b[0m |\n",
      "| \u001b[0m 14      \u001b[0m | \u001b[0m 52.58   \u001b[0m | \u001b[0m 0.8952  \u001b[0m | \u001b[0m 9.553   \u001b[0m | \u001b[0m 6.759   \u001b[0m | \u001b[0m 0.01777 \u001b[0m | \u001b[0m 7.095   \u001b[0m | \u001b[0m 80.17   \u001b[0m | \u001b[0m 0.887   \u001b[0m |\n",
      "| \u001b[0m 15      \u001b[0m | \u001b[0m 61.24   \u001b[0m | \u001b[0m 0.9118  \u001b[0m | \u001b[0m 7.108   \u001b[0m | \u001b[0m 8.006   \u001b[0m | \u001b[0m 0.2534  \u001b[0m | \u001b[0m 3.016   \u001b[0m | \u001b[0m 83.62   \u001b[0m | \u001b[0m 0.4556  \u001b[0m |\n"
     ]
    },
    {
     "name": "stderr",
     "output_type": "stream",
     "text": [
      "/opt/conda/envs/rapids/lib/python3.7/site-packages/sklearn/linear_model/_ridge.py:188: LinAlgWarning: Ill-conditioned matrix (rcond=6.68563e-17): result may not be accurate.\n",
      "  overwrite_a=False)\n"
     ]
    },
    {
     "name": "stdout",
     "output_type": "stream",
     "text": [
      "| \u001b[0m 16      \u001b[0m | \u001b[0m 71.39   \u001b[0m | \u001b[0m 0.9503  \u001b[0m | \u001b[0m 8.819   \u001b[0m | \u001b[0m 2.255   \u001b[0m | \u001b[0m 0.03525 \u001b[0m | \u001b[0m 6.931   \u001b[0m | \u001b[0m 84.83   \u001b[0m | \u001b[0m 0.5009  \u001b[0m |\n",
      "| \u001b[0m 17      \u001b[0m | \u001b[0m 76.86   \u001b[0m | \u001b[0m 0.9795  \u001b[0m | \u001b[0m 11.06   \u001b[0m | \u001b[0m 1.091   \u001b[0m | \u001b[0m 0.2693  \u001b[0m | \u001b[0m 3.032   \u001b[0m | \u001b[0m 55.79   \u001b[0m | \u001b[0m 0.6222  \u001b[0m |\n",
      "| \u001b[0m 18      \u001b[0m | \u001b[0m 79.07   \u001b[0m | \u001b[0m 0.9875  \u001b[0m | \u001b[0m 3.377   \u001b[0m | \u001b[0m 12.15   \u001b[0m | \u001b[0m 0.1304  \u001b[0m | \u001b[0m 5.427   \u001b[0m | \u001b[0m 11.45   \u001b[0m | \u001b[0m 0.7903  \u001b[0m |\n",
      "| \u001b[0m 19      \u001b[0m | \u001b[0m 62.26   \u001b[0m | \u001b[0m 0.938   \u001b[0m | \u001b[0m 10.94   \u001b[0m | \u001b[0m 8.476   \u001b[0m | \u001b[0m 0.1057  \u001b[0m | \u001b[0m 4.765   \u001b[0m | \u001b[0m 18.19   \u001b[0m | \u001b[0m 0.4068  \u001b[0m |\n",
      "| \u001b[0m 20      \u001b[0m | \u001b[0m 75.42   \u001b[0m | \u001b[0m 0.9151  \u001b[0m | \u001b[0m 3.828   \u001b[0m | \u001b[0m 3.304   \u001b[0m | \u001b[0m 0.03807 \u001b[0m | \u001b[0m 8.566   \u001b[0m | \u001b[0m 48.62   \u001b[0m | \u001b[0m 0.6982  \u001b[0m |\n",
      "| \u001b[0m 21      \u001b[0m | \u001b[0m 74.72   \u001b[0m | \u001b[0m 0.9656  \u001b[0m | \u001b[0m 10.33   \u001b[0m | \u001b[0m 9.608   \u001b[0m | \u001b[0m 0.2279  \u001b[0m | \u001b[0m 8.152   \u001b[0m | \u001b[0m 10.61   \u001b[0m | \u001b[0m 0.7536  \u001b[0m |\n",
      "| \u001b[0m 22      \u001b[0m | \u001b[0m 70.87   \u001b[0m | \u001b[0m 0.9659  \u001b[0m | \u001b[0m 8.097   \u001b[0m | \u001b[0m 8.364   \u001b[0m | \u001b[0m 0.1693  \u001b[0m | \u001b[0m 6.588   \u001b[0m | \u001b[0m 67.46   \u001b[0m | \u001b[0m 0.5727  \u001b[0m |\n"
     ]
    },
    {
     "ename": "ValueError",
     "evalue": "Incompatible dimension for X and Y matrices: X.shape[1] == 18 while Y.shape[1] == 17",
     "output_type": "error",
     "traceback": [
      "\u001b[0;31m---------------------------------------------------------------------------\u001b[0m",
      "\u001b[0;31mKeyError\u001b[0m                                  Traceback (most recent call last)",
      "\u001b[0;32m/opt/conda/envs/rapids/lib/python3.7/site-packages/bayes_opt/target_space.py\u001b[0m in \u001b[0;36mprobe\u001b[0;34m(self, params)\u001b[0m\n\u001b[1;32m    190\u001b[0m         \u001b[0;32mtry\u001b[0m\u001b[0;34m:\u001b[0m\u001b[0;34m\u001b[0m\u001b[0;34m\u001b[0m\u001b[0m\n\u001b[0;32m--> 191\u001b[0;31m             \u001b[0mtarget\u001b[0m \u001b[0;34m=\u001b[0m \u001b[0mself\u001b[0m\u001b[0;34m.\u001b[0m\u001b[0m_cache\u001b[0m\u001b[0;34m[\u001b[0m\u001b[0m_hashable\u001b[0m\u001b[0;34m(\u001b[0m\u001b[0mx\u001b[0m\u001b[0;34m)\u001b[0m\u001b[0;34m]\u001b[0m\u001b[0;34m\u001b[0m\u001b[0;34m\u001b[0m\u001b[0m\n\u001b[0m\u001b[1;32m    192\u001b[0m         \u001b[0;32mexcept\u001b[0m \u001b[0mKeyError\u001b[0m\u001b[0;34m:\u001b[0m\u001b[0;34m\u001b[0m\u001b[0;34m\u001b[0m\u001b[0m\n",
      "\u001b[0;31mKeyError\u001b[0m: (0.869180973300007, 12.91717463458629, 4.608551826989288, 0.20628321117022644, 3.760002383535248, 74.94075425713733, 0.43934878189622995)",
      "\nDuring handling of the above exception, another exception occurred:\n",
      "\u001b[0;31mValueError\u001b[0m                                Traceback (most recent call last)",
      "\u001b[0;32m<ipython-input-33-f46e274db0c8>\u001b[0m in \u001b[0;36m<module>\u001b[0;34m\u001b[0m\n\u001b[1;32m     10\u001b[0m \u001b[0;34m\u001b[0m\u001b[0m\n\u001b[1;32m     11\u001b[0m \u001b[0mproduct_optimizer\u001b[0m \u001b[0;34m=\u001b[0m \u001b[0mBayesianOptimization\u001b[0m\u001b[0;34m(\u001b[0m\u001b[0mf\u001b[0m\u001b[0;34m=\u001b[0m\u001b[0mh_opt\u001b[0m\u001b[0;34m,\u001b[0m \u001b[0mpbounds\u001b[0m\u001b[0;34m=\u001b[0m\u001b[0mparam_bound\u001b[0m\u001b[0;34m,\u001b[0m \u001b[0mverbose\u001b[0m\u001b[0;34m=\u001b[0m\u001b[0;36m2\u001b[0m\u001b[0;34m,\u001b[0m \u001b[0mrandom_state\u001b[0m\u001b[0;34m=\u001b[0m\u001b[0;36m1\u001b[0m\u001b[0;34m)\u001b[0m\u001b[0;34m\u001b[0m\u001b[0;34m\u001b[0m\u001b[0m\n\u001b[0;32m---> 12\u001b[0;31m \u001b[0mproduct_optimizer\u001b[0m\u001b[0;34m.\u001b[0m\u001b[0mmaximize\u001b[0m\u001b[0;34m(\u001b[0m\u001b[0minit_points\u001b[0m\u001b[0;34m=\u001b[0m\u001b[0;36m10\u001b[0m\u001b[0;34m,\u001b[0m \u001b[0mn_iter\u001b[0m\u001b[0;34m=\u001b[0m\u001b[0;36m100\u001b[0m\u001b[0;34m)\u001b[0m\u001b[0;34m\u001b[0m\u001b[0;34m\u001b[0m\u001b[0m\n\u001b[0m\u001b[1;32m     13\u001b[0m \u001b[0;31m#####################################################################################################################\u001b[0m\u001b[0;34m\u001b[0m\u001b[0;34m\u001b[0m\u001b[0;34m\u001b[0m\u001b[0m\n\u001b[1;32m     14\u001b[0m \u001b[0;31m#####    |  target   |   alpha   |   col_k   |  col_k1   |   m_lr    | m_max_... | m_n_es... | m_subs... |\u001b[0m\u001b[0;34m\u001b[0m\u001b[0;34m\u001b[0m\u001b[0;34m\u001b[0m\u001b[0m\n",
      "\u001b[0;32m/opt/conda/envs/rapids/lib/python3.7/site-packages/bayes_opt/bayesian_optimization.py\u001b[0m in \u001b[0;36mmaximize\u001b[0;34m(self, init_points, n_iter, acq, kappa, kappa_decay, kappa_decay_delay, xi, **gp_params)\u001b[0m\n\u001b[1;32m    183\u001b[0m                 \u001b[0miteration\u001b[0m \u001b[0;34m+=\u001b[0m \u001b[0;36m1\u001b[0m\u001b[0;34m\u001b[0m\u001b[0;34m\u001b[0m\u001b[0m\n\u001b[1;32m    184\u001b[0m \u001b[0;34m\u001b[0m\u001b[0m\n\u001b[0;32m--> 185\u001b[0;31m             \u001b[0mself\u001b[0m\u001b[0;34m.\u001b[0m\u001b[0mprobe\u001b[0m\u001b[0;34m(\u001b[0m\u001b[0mx_probe\u001b[0m\u001b[0;34m,\u001b[0m \u001b[0mlazy\u001b[0m\u001b[0;34m=\u001b[0m\u001b[0;32mFalse\u001b[0m\u001b[0;34m)\u001b[0m\u001b[0;34m\u001b[0m\u001b[0;34m\u001b[0m\u001b[0m\n\u001b[0m\u001b[1;32m    186\u001b[0m \u001b[0;34m\u001b[0m\u001b[0m\n\u001b[1;32m    187\u001b[0m             \u001b[0;32mif\u001b[0m \u001b[0mself\u001b[0m\u001b[0;34m.\u001b[0m\u001b[0m_bounds_transformer\u001b[0m\u001b[0;34m:\u001b[0m\u001b[0;34m\u001b[0m\u001b[0;34m\u001b[0m\u001b[0m\n",
      "\u001b[0;32m/opt/conda/envs/rapids/lib/python3.7/site-packages/bayes_opt/bayesian_optimization.py\u001b[0m in \u001b[0;36mprobe\u001b[0;34m(self, params, lazy)\u001b[0m\n\u001b[1;32m    114\u001b[0m             \u001b[0mself\u001b[0m\u001b[0;34m.\u001b[0m\u001b[0m_queue\u001b[0m\u001b[0;34m.\u001b[0m\u001b[0madd\u001b[0m\u001b[0;34m(\u001b[0m\u001b[0mparams\u001b[0m\u001b[0;34m)\u001b[0m\u001b[0;34m\u001b[0m\u001b[0;34m\u001b[0m\u001b[0m\n\u001b[1;32m    115\u001b[0m         \u001b[0;32melse\u001b[0m\u001b[0;34m:\u001b[0m\u001b[0;34m\u001b[0m\u001b[0;34m\u001b[0m\u001b[0m\n\u001b[0;32m--> 116\u001b[0;31m             \u001b[0mself\u001b[0m\u001b[0;34m.\u001b[0m\u001b[0m_space\u001b[0m\u001b[0;34m.\u001b[0m\u001b[0mprobe\u001b[0m\u001b[0;34m(\u001b[0m\u001b[0mparams\u001b[0m\u001b[0;34m)\u001b[0m\u001b[0;34m\u001b[0m\u001b[0;34m\u001b[0m\u001b[0m\n\u001b[0m\u001b[1;32m    117\u001b[0m             \u001b[0mself\u001b[0m\u001b[0;34m.\u001b[0m\u001b[0mdispatch\u001b[0m\u001b[0;34m(\u001b[0m\u001b[0mEvents\u001b[0m\u001b[0;34m.\u001b[0m\u001b[0mOPTIMIZATION_STEP\u001b[0m\u001b[0;34m)\u001b[0m\u001b[0;34m\u001b[0m\u001b[0;34m\u001b[0m\u001b[0m\n\u001b[1;32m    118\u001b[0m \u001b[0;34m\u001b[0m\u001b[0m\n",
      "\u001b[0;32m/opt/conda/envs/rapids/lib/python3.7/site-packages/bayes_opt/target_space.py\u001b[0m in \u001b[0;36mprobe\u001b[0;34m(self, params)\u001b[0m\n\u001b[1;32m    192\u001b[0m         \u001b[0;32mexcept\u001b[0m \u001b[0mKeyError\u001b[0m\u001b[0;34m:\u001b[0m\u001b[0;34m\u001b[0m\u001b[0;34m\u001b[0m\u001b[0m\n\u001b[1;32m    193\u001b[0m             \u001b[0mparams\u001b[0m \u001b[0;34m=\u001b[0m \u001b[0mdict\u001b[0m\u001b[0;34m(\u001b[0m\u001b[0mzip\u001b[0m\u001b[0;34m(\u001b[0m\u001b[0mself\u001b[0m\u001b[0;34m.\u001b[0m\u001b[0m_keys\u001b[0m\u001b[0;34m,\u001b[0m \u001b[0mx\u001b[0m\u001b[0;34m)\u001b[0m\u001b[0;34m)\u001b[0m\u001b[0;34m\u001b[0m\u001b[0;34m\u001b[0m\u001b[0m\n\u001b[0;32m--> 194\u001b[0;31m             \u001b[0mtarget\u001b[0m \u001b[0;34m=\u001b[0m \u001b[0mself\u001b[0m\u001b[0;34m.\u001b[0m\u001b[0mtarget_func\u001b[0m\u001b[0;34m(\u001b[0m\u001b[0;34m**\u001b[0m\u001b[0mparams\u001b[0m\u001b[0;34m)\u001b[0m\u001b[0;34m\u001b[0m\u001b[0;34m\u001b[0m\u001b[0m\n\u001b[0m\u001b[1;32m    195\u001b[0m             \u001b[0mself\u001b[0m\u001b[0;34m.\u001b[0m\u001b[0mregister\u001b[0m\u001b[0;34m(\u001b[0m\u001b[0mx\u001b[0m\u001b[0;34m,\u001b[0m \u001b[0mtarget\u001b[0m\u001b[0;34m)\u001b[0m\u001b[0;34m\u001b[0m\u001b[0;34m\u001b[0m\u001b[0m\n\u001b[1;32m    196\u001b[0m         \u001b[0;32mreturn\u001b[0m \u001b[0mtarget\u001b[0m\u001b[0;34m\u001b[0m\u001b[0;34m\u001b[0m\u001b[0m\n",
      "\u001b[0;32m<ipython-input-33-f46e274db0c8>\u001b[0m in \u001b[0;36mh_opt\u001b[0;34m(alpha, m_n_estimator, m_lr, m_subsample, m_max_depth, col_k, col_k1)\u001b[0m\n\u001b[1;32m      6\u001b[0m     \u001b[0mmodel_\u001b[0m \u001b[0;34m=\u001b[0m \u001b[0mKR\u001b[0m\u001b[0;34m(\u001b[0m\u001b[0mm_lr\u001b[0m\u001b[0;34m)\u001b[0m\u001b[0;34m\u001b[0m\u001b[0;34m\u001b[0m\u001b[0m\n\u001b[1;32m      7\u001b[0m     \u001b[0;31m#acc_, acc_hat_, _, _, _, _ = run_model_(model_, d_set, 'Product', round(col_k), 201903, 202043, 202044, 202053)\u001b[0m\u001b[0;34m\u001b[0m\u001b[0;34m\u001b[0m\u001b[0;34m\u001b[0m\u001b[0m\n\u001b[0;32m----> 8\u001b[0;31m     \u001b[0macc_\u001b[0m\u001b[0;34m,\u001b[0m \u001b[0macc_hat_\u001b[0m\u001b[0;34m,\u001b[0m \u001b[0m_\u001b[0m\u001b[0;34m,\u001b[0m \u001b[0m_\u001b[0m\u001b[0;34m,\u001b[0m \u001b[0m_\u001b[0m\u001b[0;34m,\u001b[0m \u001b[0m_\u001b[0m \u001b[0;34m=\u001b[0m \u001b[0mrun_model_2\u001b[0m\u001b[0;34m(\u001b[0m\u001b[0mmodel_\u001b[0m\u001b[0;34m,\u001b[0m \u001b[0md_set1\u001b[0m\u001b[0;34m,\u001b[0m \u001b[0;34m'Product'\u001b[0m\u001b[0;34m,\u001b[0m \u001b[0mweight_mat\u001b[0m\u001b[0;34m,\u001b[0m \u001b[0;36m201945\u001b[0m\u001b[0;34m,\u001b[0m \u001b[0;36m202102\u001b[0m\u001b[0;34m,\u001b[0m \u001b[0;36m202102\u001b[0m\u001b[0;34m,\u001b[0m \u001b[0;36m202112\u001b[0m\u001b[0;34m,\u001b[0m  \u001b[0mround\u001b[0m\u001b[0;34m(\u001b[0m\u001b[0mcol_k\u001b[0m\u001b[0;34m)\u001b[0m\u001b[0;34m,\u001b[0m \u001b[0mround\u001b[0m\u001b[0;34m(\u001b[0m\u001b[0mcol_k1\u001b[0m\u001b[0;34m)\u001b[0m\u001b[0;34m)\u001b[0m  \u001b[0;31m# prev/ var :\u001b[0m\u001b[0;34m\u001b[0m\u001b[0;34m\u001b[0m\u001b[0m\n\u001b[0m\u001b[1;32m      9\u001b[0m     \u001b[0;32mreturn\u001b[0m \u001b[0macc_hat_\u001b[0m\u001b[0;34m\u001b[0m\u001b[0;34m\u001b[0m\u001b[0m\n\u001b[1;32m     10\u001b[0m \u001b[0;34m\u001b[0m\u001b[0m\n",
      "\u001b[0;32m<ipython-input-32-a2c03bb59c26>\u001b[0m in \u001b[0;36mrun_model_2\u001b[0;34m(m_, x_dta, target_key, wt_mat, tr_s_day, tr_e_day, te_s_day, te_e_day, col_k, col_k1)\u001b[0m\n\u001b[1;32m     54\u001b[0m             \u001b[0mte_x_\u001b[0m \u001b[0;34m=\u001b[0m \u001b[0mnp\u001b[0m\u001b[0;34m.\u001b[0m\u001b[0marray\u001b[0m\u001b[0;34m(\u001b[0m\u001b[0mprev_x\u001b[0m\u001b[0;34m+\u001b[0m\u001b[0mlist\u001b[0m\u001b[0;34m(\u001b[0m\u001b[0mvar_x\u001b[0m\u001b[0;34m)\u001b[0m\u001b[0;34m)\u001b[0m\u001b[0;34m.\u001b[0m\u001b[0mreshape\u001b[0m\u001b[0;34m(\u001b[0m\u001b[0;36m1\u001b[0m\u001b[0;34m,\u001b[0m\u001b[0;34m-\u001b[0m\u001b[0;36m1\u001b[0m\u001b[0;34m)\u001b[0m\u001b[0;34m\u001b[0m\u001b[0;34m\u001b[0m\u001b[0m\n\u001b[1;32m     55\u001b[0m             \u001b[0;31m#print(te_x_.shape)\u001b[0m\u001b[0;34m\u001b[0m\u001b[0;34m\u001b[0m\u001b[0;34m\u001b[0m\u001b[0m\n\u001b[0;32m---> 56\u001b[0;31m             \u001b[0mtmp_y_hat_\u001b[0m \u001b[0;34m=\u001b[0m \u001b[0mm_\u001b[0m\u001b[0;34m.\u001b[0m\u001b[0mpredict\u001b[0m\u001b[0;34m(\u001b[0m\u001b[0mte_x_\u001b[0m\u001b[0;34m)\u001b[0m\u001b[0;34m\u001b[0m\u001b[0;34m\u001b[0m\u001b[0m\n\u001b[0m\u001b[1;32m     57\u001b[0m             \u001b[0;32mif\u001b[0m \u001b[0mlen\u001b[0m\u001b[0;34m(\u001b[0m\u001b[0mnp\u001b[0m\u001b[0;34m.\u001b[0m\u001b[0mshape\u001b[0m\u001b[0;34m(\u001b[0m\u001b[0mtmp_y_hat_\u001b[0m\u001b[0;34m)\u001b[0m\u001b[0;34m)\u001b[0m \u001b[0;34m>\u001b[0m \u001b[0;36m1\u001b[0m\u001b[0;34m:\u001b[0m\u001b[0;34m\u001b[0m\u001b[0;34m\u001b[0m\u001b[0m\n\u001b[1;32m     58\u001b[0m                 \u001b[0mtmp_y_hat_\u001b[0m \u001b[0;34m=\u001b[0m \u001b[0mtmp_y_hat_\u001b[0m\u001b[0;34m.\u001b[0m\u001b[0mreshape\u001b[0m\u001b[0;34m(\u001b[0m\u001b[0;34m-\u001b[0m\u001b[0;36m1\u001b[0m\u001b[0;34m,\u001b[0m \u001b[0;34m)\u001b[0m\u001b[0;34m\u001b[0m\u001b[0;34m\u001b[0m\u001b[0m\n",
      "\u001b[0;32m/opt/conda/envs/rapids/lib/python3.7/site-packages/sklearn/kernel_ridge.py\u001b[0m in \u001b[0;36mpredict\u001b[0;34m(self, X)\u001b[0m\n\u001b[1;32m    200\u001b[0m         \"\"\"\n\u001b[1;32m    201\u001b[0m         \u001b[0mcheck_is_fitted\u001b[0m\u001b[0;34m(\u001b[0m\u001b[0mself\u001b[0m\u001b[0;34m)\u001b[0m\u001b[0;34m\u001b[0m\u001b[0;34m\u001b[0m\u001b[0m\n\u001b[0;32m--> 202\u001b[0;31m         \u001b[0mK\u001b[0m \u001b[0;34m=\u001b[0m \u001b[0mself\u001b[0m\u001b[0;34m.\u001b[0m\u001b[0m_get_kernel\u001b[0m\u001b[0;34m(\u001b[0m\u001b[0mX\u001b[0m\u001b[0;34m,\u001b[0m \u001b[0mself\u001b[0m\u001b[0;34m.\u001b[0m\u001b[0mX_fit_\u001b[0m\u001b[0;34m)\u001b[0m\u001b[0;34m\u001b[0m\u001b[0;34m\u001b[0m\u001b[0m\n\u001b[0m\u001b[1;32m    203\u001b[0m         \u001b[0;32mreturn\u001b[0m \u001b[0mnp\u001b[0m\u001b[0;34m.\u001b[0m\u001b[0mdot\u001b[0m\u001b[0;34m(\u001b[0m\u001b[0mK\u001b[0m\u001b[0;34m,\u001b[0m \u001b[0mself\u001b[0m\u001b[0;34m.\u001b[0m\u001b[0mdual_coef_\u001b[0m\u001b[0;34m)\u001b[0m\u001b[0;34m\u001b[0m\u001b[0;34m\u001b[0m\u001b[0m\n",
      "\u001b[0;32m/opt/conda/envs/rapids/lib/python3.7/site-packages/sklearn/kernel_ridge.py\u001b[0m in \u001b[0;36m_get_kernel\u001b[0;34m(self, X, Y)\u001b[0m\n\u001b[1;32m    133\u001b[0m                       \"coef0\": self.coef0}\n\u001b[1;32m    134\u001b[0m         return pairwise_kernels(X, Y, metric=self.kernel,\n\u001b[0;32m--> 135\u001b[0;31m                                 filter_params=True, **params)\n\u001b[0m\u001b[1;32m    136\u001b[0m \u001b[0;34m\u001b[0m\u001b[0m\n\u001b[1;32m    137\u001b[0m     \u001b[0;34m@\u001b[0m\u001b[0mproperty\u001b[0m\u001b[0;34m\u001b[0m\u001b[0;34m\u001b[0m\u001b[0m\n",
      "\u001b[0;32m/opt/conda/envs/rapids/lib/python3.7/site-packages/sklearn/utils/validation.py\u001b[0m in \u001b[0;36minner_f\u001b[0;34m(*args, **kwargs)\u001b[0m\n\u001b[1;32m     71\u001b[0m                           FutureWarning)\n\u001b[1;32m     72\u001b[0m         \u001b[0mkwargs\u001b[0m\u001b[0;34m.\u001b[0m\u001b[0mupdate\u001b[0m\u001b[0;34m(\u001b[0m\u001b[0;34m{\u001b[0m\u001b[0mk\u001b[0m\u001b[0;34m:\u001b[0m \u001b[0marg\u001b[0m \u001b[0;32mfor\u001b[0m \u001b[0mk\u001b[0m\u001b[0;34m,\u001b[0m \u001b[0marg\u001b[0m \u001b[0;32min\u001b[0m \u001b[0mzip\u001b[0m\u001b[0;34m(\u001b[0m\u001b[0msig\u001b[0m\u001b[0;34m.\u001b[0m\u001b[0mparameters\u001b[0m\u001b[0;34m,\u001b[0m \u001b[0margs\u001b[0m\u001b[0;34m)\u001b[0m\u001b[0;34m}\u001b[0m\u001b[0;34m)\u001b[0m\u001b[0;34m\u001b[0m\u001b[0;34m\u001b[0m\u001b[0m\n\u001b[0;32m---> 73\u001b[0;31m         \u001b[0;32mreturn\u001b[0m \u001b[0mf\u001b[0m\u001b[0;34m(\u001b[0m\u001b[0;34m**\u001b[0m\u001b[0mkwargs\u001b[0m\u001b[0;34m)\u001b[0m\u001b[0;34m\u001b[0m\u001b[0;34m\u001b[0m\u001b[0m\n\u001b[0m\u001b[1;32m     74\u001b[0m     \u001b[0;32mreturn\u001b[0m \u001b[0minner_f\u001b[0m\u001b[0;34m\u001b[0m\u001b[0;34m\u001b[0m\u001b[0m\n\u001b[1;32m     75\u001b[0m \u001b[0;34m\u001b[0m\u001b[0m\n",
      "\u001b[0;32m/opt/conda/envs/rapids/lib/python3.7/site-packages/sklearn/metrics/pairwise.py\u001b[0m in \u001b[0;36mpairwise_kernels\u001b[0;34m(X, Y, metric, filter_params, n_jobs, **kwds)\u001b[0m\n\u001b[1;32m   1934\u001b[0m         \u001b[0;32mraise\u001b[0m \u001b[0mValueError\u001b[0m\u001b[0;34m(\u001b[0m\u001b[0;34m\"Unknown kernel %r\"\u001b[0m \u001b[0;34m%\u001b[0m \u001b[0mmetric\u001b[0m\u001b[0;34m)\u001b[0m\u001b[0;34m\u001b[0m\u001b[0;34m\u001b[0m\u001b[0m\n\u001b[1;32m   1935\u001b[0m \u001b[0;34m\u001b[0m\u001b[0m\n\u001b[0;32m-> 1936\u001b[0;31m     \u001b[0;32mreturn\u001b[0m \u001b[0m_parallel_pairwise\u001b[0m\u001b[0;34m(\u001b[0m\u001b[0mX\u001b[0m\u001b[0;34m,\u001b[0m \u001b[0mY\u001b[0m\u001b[0;34m,\u001b[0m \u001b[0mfunc\u001b[0m\u001b[0;34m,\u001b[0m \u001b[0mn_jobs\u001b[0m\u001b[0;34m,\u001b[0m \u001b[0;34m**\u001b[0m\u001b[0mkwds\u001b[0m\u001b[0;34m)\u001b[0m\u001b[0;34m\u001b[0m\u001b[0;34m\u001b[0m\u001b[0m\n\u001b[0m",
      "\u001b[0;32m/opt/conda/envs/rapids/lib/python3.7/site-packages/sklearn/metrics/pairwise.py\u001b[0m in \u001b[0;36m_parallel_pairwise\u001b[0;34m(X, Y, func, n_jobs, **kwds)\u001b[0m\n\u001b[1;32m   1357\u001b[0m \u001b[0;34m\u001b[0m\u001b[0m\n\u001b[1;32m   1358\u001b[0m     \u001b[0;32mif\u001b[0m \u001b[0meffective_n_jobs\u001b[0m\u001b[0;34m(\u001b[0m\u001b[0mn_jobs\u001b[0m\u001b[0;34m)\u001b[0m \u001b[0;34m==\u001b[0m \u001b[0;36m1\u001b[0m\u001b[0;34m:\u001b[0m\u001b[0;34m\u001b[0m\u001b[0;34m\u001b[0m\u001b[0m\n\u001b[0;32m-> 1359\u001b[0;31m         \u001b[0;32mreturn\u001b[0m \u001b[0mfunc\u001b[0m\u001b[0;34m(\u001b[0m\u001b[0mX\u001b[0m\u001b[0;34m,\u001b[0m \u001b[0mY\u001b[0m\u001b[0;34m,\u001b[0m \u001b[0;34m**\u001b[0m\u001b[0mkwds\u001b[0m\u001b[0;34m)\u001b[0m\u001b[0;34m\u001b[0m\u001b[0;34m\u001b[0m\u001b[0m\n\u001b[0m\u001b[1;32m   1360\u001b[0m \u001b[0;34m\u001b[0m\u001b[0m\n\u001b[1;32m   1361\u001b[0m     \u001b[0;31m# enforce a threading backend to prevent data communication overhead\u001b[0m\u001b[0;34m\u001b[0m\u001b[0;34m\u001b[0m\u001b[0;34m\u001b[0m\u001b[0m\n",
      "\u001b[0;32m/opt/conda/envs/rapids/lib/python3.7/site-packages/sklearn/metrics/pairwise.py\u001b[0m in \u001b[0;36mlinear_kernel\u001b[0;34m(X, Y, dense_output)\u001b[0m\n\u001b[1;32m   1000\u001b[0m     \u001b[0mGram\u001b[0m \u001b[0mmatrix\u001b[0m \u001b[0;34m:\u001b[0m \u001b[0marray\u001b[0m \u001b[0mof\u001b[0m \u001b[0mshape\u001b[0m \u001b[0;34m(\u001b[0m\u001b[0mn_samples_1\u001b[0m\u001b[0;34m,\u001b[0m \u001b[0mn_samples_2\u001b[0m\u001b[0;34m)\u001b[0m\u001b[0;34m\u001b[0m\u001b[0;34m\u001b[0m\u001b[0m\n\u001b[1;32m   1001\u001b[0m     \"\"\"\n\u001b[0;32m-> 1002\u001b[0;31m     \u001b[0mX\u001b[0m\u001b[0;34m,\u001b[0m \u001b[0mY\u001b[0m \u001b[0;34m=\u001b[0m \u001b[0mcheck_pairwise_arrays\u001b[0m\u001b[0;34m(\u001b[0m\u001b[0mX\u001b[0m\u001b[0;34m,\u001b[0m \u001b[0mY\u001b[0m\u001b[0;34m)\u001b[0m\u001b[0;34m\u001b[0m\u001b[0;34m\u001b[0m\u001b[0m\n\u001b[0m\u001b[1;32m   1003\u001b[0m     \u001b[0;32mreturn\u001b[0m \u001b[0msafe_sparse_dot\u001b[0m\u001b[0;34m(\u001b[0m\u001b[0mX\u001b[0m\u001b[0;34m,\u001b[0m \u001b[0mY\u001b[0m\u001b[0;34m.\u001b[0m\u001b[0mT\u001b[0m\u001b[0;34m,\u001b[0m \u001b[0mdense_output\u001b[0m\u001b[0;34m=\u001b[0m\u001b[0mdense_output\u001b[0m\u001b[0;34m)\u001b[0m\u001b[0;34m\u001b[0m\u001b[0;34m\u001b[0m\u001b[0m\n\u001b[1;32m   1004\u001b[0m \u001b[0;34m\u001b[0m\u001b[0m\n",
      "\u001b[0;32m/opt/conda/envs/rapids/lib/python3.7/site-packages/sklearn/utils/validation.py\u001b[0m in \u001b[0;36minner_f\u001b[0;34m(*args, **kwargs)\u001b[0m\n\u001b[1;32m     71\u001b[0m                           FutureWarning)\n\u001b[1;32m     72\u001b[0m         \u001b[0mkwargs\u001b[0m\u001b[0;34m.\u001b[0m\u001b[0mupdate\u001b[0m\u001b[0;34m(\u001b[0m\u001b[0;34m{\u001b[0m\u001b[0mk\u001b[0m\u001b[0;34m:\u001b[0m \u001b[0marg\u001b[0m \u001b[0;32mfor\u001b[0m \u001b[0mk\u001b[0m\u001b[0;34m,\u001b[0m \u001b[0marg\u001b[0m \u001b[0;32min\u001b[0m \u001b[0mzip\u001b[0m\u001b[0;34m(\u001b[0m\u001b[0msig\u001b[0m\u001b[0;34m.\u001b[0m\u001b[0mparameters\u001b[0m\u001b[0;34m,\u001b[0m \u001b[0margs\u001b[0m\u001b[0;34m)\u001b[0m\u001b[0;34m}\u001b[0m\u001b[0;34m)\u001b[0m\u001b[0;34m\u001b[0m\u001b[0;34m\u001b[0m\u001b[0m\n\u001b[0;32m---> 73\u001b[0;31m         \u001b[0;32mreturn\u001b[0m \u001b[0mf\u001b[0m\u001b[0;34m(\u001b[0m\u001b[0;34m**\u001b[0m\u001b[0mkwargs\u001b[0m\u001b[0;34m)\u001b[0m\u001b[0;34m\u001b[0m\u001b[0;34m\u001b[0m\u001b[0m\n\u001b[0m\u001b[1;32m     74\u001b[0m     \u001b[0;32mreturn\u001b[0m \u001b[0minner_f\u001b[0m\u001b[0;34m\u001b[0m\u001b[0;34m\u001b[0m\u001b[0m\n\u001b[1;32m     75\u001b[0m \u001b[0;34m\u001b[0m\u001b[0m\n",
      "\u001b[0;32m/opt/conda/envs/rapids/lib/python3.7/site-packages/sklearn/metrics/pairwise.py\u001b[0m in \u001b[0;36mcheck_pairwise_arrays\u001b[0;34m(X, Y, precomputed, dtype, accept_sparse, force_all_finite, copy)\u001b[0m\n\u001b[1;32m    158\u001b[0m         raise ValueError(\"Incompatible dimension for X and Y matrices: \"\n\u001b[1;32m    159\u001b[0m                          \"X.shape[1] == %d while Y.shape[1] == %d\" % (\n\u001b[0;32m--> 160\u001b[0;31m                              X.shape[1], Y.shape[1]))\n\u001b[0m\u001b[1;32m    161\u001b[0m \u001b[0;34m\u001b[0m\u001b[0m\n\u001b[1;32m    162\u001b[0m     \u001b[0;32mreturn\u001b[0m \u001b[0mX\u001b[0m\u001b[0;34m,\u001b[0m \u001b[0mY\u001b[0m\u001b[0;34m\u001b[0m\u001b[0;34m\u001b[0m\u001b[0m\n",
      "\u001b[0;31mValueError\u001b[0m: Incompatible dimension for X and Y matrices: X.shape[1] == 18 while Y.shape[1] == 17"
     ]
    }
   ],
   "source": [
    "warnings.filterwarnings(action='ignore', category=UserWarning)\n",
    "param_bound = {'alpha' : (0.85,0.99) , 'm_n_estimator' : (10, 100), 'm_lr' : (0.01, 0.3), 'm_subsample' : (0.4, 0.9), 'm_max_depth' : (3,9), 'col_k' : (1,13), 'col_k1' : (1,13)}\n",
    "def h_opt(alpha, m_n_estimator, m_lr, m_subsample, m_max_depth, col_k, col_k1):\n",
    "    weight_mat = list(map(lambda x : round(alpha,3)**x if x > 0 else 1, range(0,12)))    #\n",
    "    #model_=xgboost.XGBRegressor(n_estimators=round(m_n_estimator), learning_rate=round(m_lr,3), subsample=round(m_subsample,3), max_depth=round(m_max_depth), tree_method='gpu_hist', gpu_id=0)\n",
    "    model_ = KR(m_lr)\n",
    "    #acc_, acc_hat_, _, _, _, _ = run_model_(model_, d_set, 'Product', round(col_k), 201903, 202043, 202044, 202053)\n",
    "    acc_, acc_hat_, _, _, _, _ = run_model_2(model_, d_set1, 'Product', weight_mat, 201945, 202102, 202102, 202112,  round(col_k), round(col_k1))  # prev/ var : \n",
    "    return acc_hat_    \n",
    "\n",
    "product_optimizer = BayesianOptimization(f=h_opt, pbounds=param_bound, verbose=2, random_state=1)\n",
    "product_optimizer.maximize(init_points=10, n_iter=100)\n",
    "#####################################################################################################################\n",
    "#####    |  target   |   alpha   |   col_k   |  col_k1   |   m_lr    | m_max_... | m_n_es... | m_subs... |\n",
    "#####    |  89.51    |  0.9372   |  2.36     |  1.64     |  0.486    |  6.004    |  18.09    |  0.5309   |\n",
    "#####    |  79.49    |  0.9851   |  1.796    |  1.627    |  0.1873   |  6.474    |  87.47    |  0.6013   |    => KR"
   ]
  },
  {
   "cell_type": "code",
   "execution_count": null,
   "id": "bfc45951",
   "metadata": {},
   "outputs": [],
   "source": []
  }
 ],
 "metadata": {
  "kernelspec": {
   "display_name": "Python 3",
   "language": "python",
   "name": "python3"
  },
  "language_info": {
   "codemirror_mode": {
    "name": "ipython",
    "version": 3
   },
   "file_extension": ".py",
   "mimetype": "text/x-python",
   "name": "python",
   "nbconvert_exporter": "python",
   "pygments_lexer": "ipython3",
   "version": "3.7.10"
  }
 },
 "nbformat": 4,
 "nbformat_minor": 5
}
